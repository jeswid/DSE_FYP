{
 "cells": [
  {
   "cell_type": "markdown",
   "metadata": {},
   "source": [
    "# CountGPVAE Simulation Demo\n",
    "\n",
    "This notebook demonstrates how to use the modularized components of the CountGPVAE model."
   ]
  },
  {
   "cell_type": "code",
   "execution_count": 42,
   "metadata": {},
   "outputs": [],
   "source": [
    "import jax\n",
    "import jax.nn as nn\n",
    "from jax import lax, random\n",
    "import jax.numpy as jnp\n",
    "from jax.random import PRNGKey\n",
    "import numpy as np\n",
    "import numpyro\n",
    "import numpyro.distributions as dist\n",
    "from numpyro.infer import SVI, Trace_ELBO, RenyiELBO\n",
    "import arviz as az\n",
    "import sys\n",
    "from pyprojroot2 import here\n",
    "import time\n",
    "sys.path.append(str(here() / \"simulation study\" / \"src\"))\n",
    "# Import our modular components\n",
    "from utils.kernels import exp_sq_kernel, M_g\n",
    "from utils.loader import load_data\n",
    "from models.gp import gp_aggr\n",
    "from models.vae import vae_model, vae_guide, vae_decoder\n",
    "from visualization.plotting import plot_process, plot_incidence_map\n",
    "import matplotlib.pyplot as plt\n",
    "from numpyro.infer import NUTS, MCMC, Predictive, init_to_median, init_to_uniform, init_to_sample, init_to_mean, init_to_value"
   ]
  },
  {
   "cell_type": "markdown",
   "metadata": {},
   "source": [
    "## 1. Load Data"
   ]
  },
  {
   "cell_type": "code",
   "execution_count": 4,
   "metadata": {},
   "outputs": [
    {
     "name": "stdout",
     "output_type": "stream",
     "text": [
      "dict_keys(['x', 'pol_pts_lo', 'pol_pts_hi', 'df_lo', 'df_hi'])\n"
     ]
    }
   ],
   "source": [
    "# Load the spatial grid and polygon data\n",
    "spatial_data = load_data()\n",
    "print(spatial_data.keys())"
   ]
  },
  {
   "cell_type": "markdown",
   "metadata": {},
   "source": [
    "## 2. Set up Model Parameters"
   ]
  },
  {
   "cell_type": "code",
   "execution_count": 5,
   "metadata": {},
   "outputs": [],
   "source": [
    "# Model configuration\n",
    "args = {\n",
    "    \"x\": spatial_data[\"x\"],\n",
    "    \"gp_kernel\": exp_sq_kernel,\n",
    "    \"noise\": 1.e-2,\n",
    "    \"jitter\": 1.e-2,\n",
    "    \"M_lo\": jnp.array(spatial_data[\"pol_pts_lo\"])[0,:].reshape(1, -1),\n",
    "    \"M_hi\":  jnp.array(spatial_data[\"pol_pts_hi\"])[[0,4,9,14,19], :],\n",
    "    'kernel_length': dist.InverseGamma(5, 2),\n",
    "    'kernel_var': dist.LogNormal(-1, 0.05),\n",
    "    \"vae_var\": 0.1,\n",
    "    \"batch_size\": 5,\n",
    "    \"hidden_dim\": 50,\n",
    "    \"z_dim\": 40,\n",
    "    \"learning_rate\": 1e-3,\n",
    "    \"num_epochs\": 100,\n",
    "    \"rng_key\": PRNGKey(6)\n",
    "}"
   ]
  },
  {
   "cell_type": "markdown",
   "metadata": {},
   "source": [
    "## 3. Generate GP Samples"
   ]
  },
  {
   "cell_type": "code",
   "execution_count": 6,
   "metadata": {},
   "outputs": [
    {
     "data": {
      "application/vnd.plotly.v1+json": {
       "config": {
        "plotlyServerURL": "https://plot.ly"
       },
       "data": [
        {
         "hovertemplate": "<extra></extra>",
         "legendgroup": "",
         "line": {
          "color": "#636efa",
          "dash": "solid"
         },
         "marker": {
          "symbol": "circle"
         },
         "mode": "lines",
         "name": "",
         "orientation": "v",
         "showlegend": false,
         "type": "scatter",
         "xaxis": "x",
         "yaxis": "y"
        },
        {
         "line": {
          "color": "rgb(31, 119, 180)"
         },
         "opacity": 0.3,
         "type": "scatter",
         "x": {
          "bdata": "AAECAwQF",
          "dtype": "i1"
         },
         "y": {
          "bdata": "9v2uQzWGe0K2Lc9BCcqhQmInzkLod5pC",
          "dtype": "f4"
         }
        },
        {
         "line": {
          "color": "rgb(31, 119, 180)"
         },
         "opacity": 0.3,
         "type": "scatter",
         "x": {
          "bdata": "AAECAwQF",
          "dtype": "i1"
         },
         "y": {
          "bdata": "ySayRDqJekNkxt9CkFyaQ+Tw0UN+F6dD",
          "dtype": "f4"
         }
        },
        {
         "line": {
          "color": "rgb(31, 119, 180)"
         },
         "opacity": 0.3,
         "type": "scatter",
         "x": {
          "bdata": "AAECAwQF",
          "dtype": "i1"
         },
         "y": {
          "bdata": "SKD9RGHvwUPOdEZDe67HQ0rbBURG8v1D",
          "dtype": "f4"
         }
        },
        {
         "line": {
          "color": "rgb(31, 119, 180)"
         },
         "opacity": 0.3,
         "type": "scatter",
         "x": {
          "bdata": "AAECAwQF",
          "dtype": "i1"
         },
         "y": {
          "bdata": "5glNRSaGHETp4phDAJ0iROJOW0QcRE1E",
          "dtype": "f4"
         }
        },
        {
         "line": {
          "color": "rgb(31, 119, 180)"
         },
         "opacity": 0.3,
         "type": "scatter",
         "x": {
          "bdata": "AAECAwQF",
          "dtype": "i1"
         },
         "y": {
          "bdata": "yCFVRLC8HENY96FCbeosQyhiZ0MuglJD",
          "dtype": "f4"
         }
        }
       ],
       "layout": {
        "legend": {
         "tracegroupgap": 0
        },
        "margin": {
         "t": 60
        },
        "showlegend": false,
        "template": {
         "data": {
          "bar": [
           {
            "error_x": {
             "color": "#2a3f5f"
            },
            "error_y": {
             "color": "#2a3f5f"
            },
            "marker": {
             "line": {
              "color": "white",
              "width": 0.5
             },
             "pattern": {
              "fillmode": "overlay",
              "size": 10,
              "solidity": 0.2
             }
            },
            "type": "bar"
           }
          ],
          "barpolar": [
           {
            "marker": {
             "line": {
              "color": "white",
              "width": 0.5
             },
             "pattern": {
              "fillmode": "overlay",
              "size": 10,
              "solidity": 0.2
             }
            },
            "type": "barpolar"
           }
          ],
          "carpet": [
           {
            "aaxis": {
             "endlinecolor": "#2a3f5f",
             "gridcolor": "#C8D4E3",
             "linecolor": "#C8D4E3",
             "minorgridcolor": "#C8D4E3",
             "startlinecolor": "#2a3f5f"
            },
            "baxis": {
             "endlinecolor": "#2a3f5f",
             "gridcolor": "#C8D4E3",
             "linecolor": "#C8D4E3",
             "minorgridcolor": "#C8D4E3",
             "startlinecolor": "#2a3f5f"
            },
            "type": "carpet"
           }
          ],
          "choropleth": [
           {
            "colorbar": {
             "outlinewidth": 0,
             "ticks": ""
            },
            "type": "choropleth"
           }
          ],
          "contour": [
           {
            "colorbar": {
             "outlinewidth": 0,
             "ticks": ""
            },
            "colorscale": [
             [
              0,
              "#0d0887"
             ],
             [
              0.1111111111111111,
              "#46039f"
             ],
             [
              0.2222222222222222,
              "#7201a8"
             ],
             [
              0.3333333333333333,
              "#9c179e"
             ],
             [
              0.4444444444444444,
              "#bd3786"
             ],
             [
              0.5555555555555556,
              "#d8576b"
             ],
             [
              0.6666666666666666,
              "#ed7953"
             ],
             [
              0.7777777777777778,
              "#fb9f3a"
             ],
             [
              0.8888888888888888,
              "#fdca26"
             ],
             [
              1,
              "#f0f921"
             ]
            ],
            "type": "contour"
           }
          ],
          "contourcarpet": [
           {
            "colorbar": {
             "outlinewidth": 0,
             "ticks": ""
            },
            "type": "contourcarpet"
           }
          ],
          "heatmap": [
           {
            "colorbar": {
             "outlinewidth": 0,
             "ticks": ""
            },
            "colorscale": [
             [
              0,
              "#0d0887"
             ],
             [
              0.1111111111111111,
              "#46039f"
             ],
             [
              0.2222222222222222,
              "#7201a8"
             ],
             [
              0.3333333333333333,
              "#9c179e"
             ],
             [
              0.4444444444444444,
              "#bd3786"
             ],
             [
              0.5555555555555556,
              "#d8576b"
             ],
             [
              0.6666666666666666,
              "#ed7953"
             ],
             [
              0.7777777777777778,
              "#fb9f3a"
             ],
             [
              0.8888888888888888,
              "#fdca26"
             ],
             [
              1,
              "#f0f921"
             ]
            ],
            "type": "heatmap"
           }
          ],
          "histogram": [
           {
            "marker": {
             "pattern": {
              "fillmode": "overlay",
              "size": 10,
              "solidity": 0.2
             }
            },
            "type": "histogram"
           }
          ],
          "histogram2d": [
           {
            "colorbar": {
             "outlinewidth": 0,
             "ticks": ""
            },
            "colorscale": [
             [
              0,
              "#0d0887"
             ],
             [
              0.1111111111111111,
              "#46039f"
             ],
             [
              0.2222222222222222,
              "#7201a8"
             ],
             [
              0.3333333333333333,
              "#9c179e"
             ],
             [
              0.4444444444444444,
              "#bd3786"
             ],
             [
              0.5555555555555556,
              "#d8576b"
             ],
             [
              0.6666666666666666,
              "#ed7953"
             ],
             [
              0.7777777777777778,
              "#fb9f3a"
             ],
             [
              0.8888888888888888,
              "#fdca26"
             ],
             [
              1,
              "#f0f921"
             ]
            ],
            "type": "histogram2d"
           }
          ],
          "histogram2dcontour": [
           {
            "colorbar": {
             "outlinewidth": 0,
             "ticks": ""
            },
            "colorscale": [
             [
              0,
              "#0d0887"
             ],
             [
              0.1111111111111111,
              "#46039f"
             ],
             [
              0.2222222222222222,
              "#7201a8"
             ],
             [
              0.3333333333333333,
              "#9c179e"
             ],
             [
              0.4444444444444444,
              "#bd3786"
             ],
             [
              0.5555555555555556,
              "#d8576b"
             ],
             [
              0.6666666666666666,
              "#ed7953"
             ],
             [
              0.7777777777777778,
              "#fb9f3a"
             ],
             [
              0.8888888888888888,
              "#fdca26"
             ],
             [
              1,
              "#f0f921"
             ]
            ],
            "type": "histogram2dcontour"
           }
          ],
          "mesh3d": [
           {
            "colorbar": {
             "outlinewidth": 0,
             "ticks": ""
            },
            "type": "mesh3d"
           }
          ],
          "parcoords": [
           {
            "line": {
             "colorbar": {
              "outlinewidth": 0,
              "ticks": ""
             }
            },
            "type": "parcoords"
           }
          ],
          "pie": [
           {
            "automargin": true,
            "type": "pie"
           }
          ],
          "scatter": [
           {
            "fillpattern": {
             "fillmode": "overlay",
             "size": 10,
             "solidity": 0.2
            },
            "type": "scatter"
           }
          ],
          "scatter3d": [
           {
            "line": {
             "colorbar": {
              "outlinewidth": 0,
              "ticks": ""
             }
            },
            "marker": {
             "colorbar": {
              "outlinewidth": 0,
              "ticks": ""
             }
            },
            "type": "scatter3d"
           }
          ],
          "scattercarpet": [
           {
            "marker": {
             "colorbar": {
              "outlinewidth": 0,
              "ticks": ""
             }
            },
            "type": "scattercarpet"
           }
          ],
          "scattergeo": [
           {
            "marker": {
             "colorbar": {
              "outlinewidth": 0,
              "ticks": ""
             }
            },
            "type": "scattergeo"
           }
          ],
          "scattergl": [
           {
            "marker": {
             "colorbar": {
              "outlinewidth": 0,
              "ticks": ""
             }
            },
            "type": "scattergl"
           }
          ],
          "scattermap": [
           {
            "marker": {
             "colorbar": {
              "outlinewidth": 0,
              "ticks": ""
             }
            },
            "type": "scattermap"
           }
          ],
          "scattermapbox": [
           {
            "marker": {
             "colorbar": {
              "outlinewidth": 0,
              "ticks": ""
             }
            },
            "type": "scattermapbox"
           }
          ],
          "scatterpolar": [
           {
            "marker": {
             "colorbar": {
              "outlinewidth": 0,
              "ticks": ""
             }
            },
            "type": "scatterpolar"
           }
          ],
          "scatterpolargl": [
           {
            "marker": {
             "colorbar": {
              "outlinewidth": 0,
              "ticks": ""
             }
            },
            "type": "scatterpolargl"
           }
          ],
          "scatterternary": [
           {
            "marker": {
             "colorbar": {
              "outlinewidth": 0,
              "ticks": ""
             }
            },
            "type": "scatterternary"
           }
          ],
          "surface": [
           {
            "colorbar": {
             "outlinewidth": 0,
             "ticks": ""
            },
            "colorscale": [
             [
              0,
              "#0d0887"
             ],
             [
              0.1111111111111111,
              "#46039f"
             ],
             [
              0.2222222222222222,
              "#7201a8"
             ],
             [
              0.3333333333333333,
              "#9c179e"
             ],
             [
              0.4444444444444444,
              "#bd3786"
             ],
             [
              0.5555555555555556,
              "#d8576b"
             ],
             [
              0.6666666666666666,
              "#ed7953"
             ],
             [
              0.7777777777777778,
              "#fb9f3a"
             ],
             [
              0.8888888888888888,
              "#fdca26"
             ],
             [
              1,
              "#f0f921"
             ]
            ],
            "type": "surface"
           }
          ],
          "table": [
           {
            "cells": {
             "fill": {
              "color": "#EBF0F8"
             },
             "line": {
              "color": "white"
             }
            },
            "header": {
             "fill": {
              "color": "#C8D4E3"
             },
             "line": {
              "color": "white"
             }
            },
            "type": "table"
           }
          ]
         },
         "layout": {
          "annotationdefaults": {
           "arrowcolor": "#2a3f5f",
           "arrowhead": 0,
           "arrowwidth": 1
          },
          "autotypenumbers": "strict",
          "coloraxis": {
           "colorbar": {
            "outlinewidth": 0,
            "ticks": ""
           }
          },
          "colorscale": {
           "diverging": [
            [
             0,
             "#8e0152"
            ],
            [
             0.1,
             "#c51b7d"
            ],
            [
             0.2,
             "#de77ae"
            ],
            [
             0.3,
             "#f1b6da"
            ],
            [
             0.4,
             "#fde0ef"
            ],
            [
             0.5,
             "#f7f7f7"
            ],
            [
             0.6,
             "#e6f5d0"
            ],
            [
             0.7,
             "#b8e186"
            ],
            [
             0.8,
             "#7fbc41"
            ],
            [
             0.9,
             "#4d9221"
            ],
            [
             1,
             "#276419"
            ]
           ],
           "sequential": [
            [
             0,
             "#0d0887"
            ],
            [
             0.1111111111111111,
             "#46039f"
            ],
            [
             0.2222222222222222,
             "#7201a8"
            ],
            [
             0.3333333333333333,
             "#9c179e"
            ],
            [
             0.4444444444444444,
             "#bd3786"
            ],
            [
             0.5555555555555556,
             "#d8576b"
            ],
            [
             0.6666666666666666,
             "#ed7953"
            ],
            [
             0.7777777777777778,
             "#fb9f3a"
            ],
            [
             0.8888888888888888,
             "#fdca26"
            ],
            [
             1,
             "#f0f921"
            ]
           ],
           "sequentialminus": [
            [
             0,
             "#0d0887"
            ],
            [
             0.1111111111111111,
             "#46039f"
            ],
            [
             0.2222222222222222,
             "#7201a8"
            ],
            [
             0.3333333333333333,
             "#9c179e"
            ],
            [
             0.4444444444444444,
             "#bd3786"
            ],
            [
             0.5555555555555556,
             "#d8576b"
            ],
            [
             0.6666666666666666,
             "#ed7953"
            ],
            [
             0.7777777777777778,
             "#fb9f3a"
            ],
            [
             0.8888888888888888,
             "#fdca26"
            ],
            [
             1,
             "#f0f921"
            ]
           ]
          },
          "colorway": [
           "#636efa",
           "#EF553B",
           "#00cc96",
           "#ab63fa",
           "#FFA15A",
           "#19d3f3",
           "#FF6692",
           "#B6E880",
           "#FF97FF",
           "#FECB52"
          ],
          "font": {
           "color": "#2a3f5f"
          },
          "geo": {
           "bgcolor": "white",
           "lakecolor": "white",
           "landcolor": "white",
           "showlakes": true,
           "showland": true,
           "subunitcolor": "#C8D4E3"
          },
          "hoverlabel": {
           "align": "left"
          },
          "hovermode": "closest",
          "mapbox": {
           "style": "light"
          },
          "paper_bgcolor": "white",
          "plot_bgcolor": "white",
          "polar": {
           "angularaxis": {
            "gridcolor": "#EBF0F8",
            "linecolor": "#EBF0F8",
            "ticks": ""
           },
           "bgcolor": "white",
           "radialaxis": {
            "gridcolor": "#EBF0F8",
            "linecolor": "#EBF0F8",
            "ticks": ""
           }
          },
          "scene": {
           "xaxis": {
            "backgroundcolor": "white",
            "gridcolor": "#DFE8F3",
            "gridwidth": 2,
            "linecolor": "#EBF0F8",
            "showbackground": true,
            "ticks": "",
            "zerolinecolor": "#EBF0F8"
           },
           "yaxis": {
            "backgroundcolor": "white",
            "gridcolor": "#DFE8F3",
            "gridwidth": 2,
            "linecolor": "#EBF0F8",
            "showbackground": true,
            "ticks": "",
            "zerolinecolor": "#EBF0F8"
           },
           "zaxis": {
            "backgroundcolor": "white",
            "gridcolor": "#DFE8F3",
            "gridwidth": 2,
            "linecolor": "#EBF0F8",
            "showbackground": true,
            "ticks": "",
            "zerolinecolor": "#EBF0F8"
           }
          },
          "shapedefaults": {
           "line": {
            "color": "#2a3f5f"
           }
          },
          "ternary": {
           "aaxis": {
            "gridcolor": "#DFE8F3",
            "linecolor": "#A2B1C6",
            "ticks": ""
           },
           "baxis": {
            "gridcolor": "#DFE8F3",
            "linecolor": "#A2B1C6",
            "ticks": ""
           },
           "bgcolor": "white",
           "caxis": {
            "gridcolor": "#DFE8F3",
            "linecolor": "#A2B1C6",
            "ticks": ""
           }
          },
          "title": {
           "x": 0.05
          },
          "xaxis": {
           "automargin": true,
           "gridcolor": "#EBF0F8",
           "linecolor": "#EBF0F8",
           "ticks": "",
           "title": {
            "standoff": 15
           },
           "zerolinecolor": "#EBF0F8",
           "zerolinewidth": 2
          },
          "yaxis": {
           "automargin": true,
           "gridcolor": "#EBF0F8",
           "linecolor": "#EBF0F8",
           "ticks": "",
           "title": {
            "standoff": 15
           },
           "zerolinecolor": "#EBF0F8",
           "zerolinewidth": 2
          }
         }
        },
        "xaxis": {
         "anchor": "y",
         "domain": [
          0,
          1
         ],
         "title": {
          "text": "region"
         }
        },
        "yaxis": {
         "anchor": "x",
         "domain": [
          0,
          1
         ],
         "title": {
          "text": "num cases"
         }
        }
       }
      }
     },
     "metadata": {},
     "output_type": "display_data"
    }
   ],
   "source": [
    "# Create predictive function for GP\n",
    "from numpyro.infer import Predictive\n",
    "# Draw samples from the prior\n",
    "prior_samples = Predictive(gp_aggr, num_samples=5)(\n",
    "    PRNGKey(6), \n",
    "    config=args\n",
    ")\n",
    "\n",
    "# transform prior samples to arviz inference object\n",
    "prior_samples_arviz = az.from_numpyro(prior=prior_samples)\n",
    "\n",
    "plot_process(prior_samples_arviz.prior.gp_aggr.values)"
   ]
  },
  {
   "cell_type": "markdown",
   "metadata": {},
   "source": [
    "## 4. Train VAE"
   ]
  },
  {
   "cell_type": "code",
   "execution_count": 7,
   "metadata": {},
   "outputs": [],
   "source": [
    "# Initialize SVI\n",
    "optimizer = numpyro.optim.Adam(step_size=1e-3)\n",
    "agg_gp_predictive = Predictive(gp_aggr,num_samples = 5)\n",
    "@jax.jit\n",
    "def epoch_train(rng_key, svi_state, num_train):\n",
    "    def body_fn(i, val):\n",
    "        rng_key_i = jax.random.fold_in(rng_key, i) #Array(2,)\n",
    "        rng_key_i, rng_key_ls, rng_key_var, rng_key_noise = jax.random.split(rng_key_i, 4) #Tuple(Array(2,) x 4)\n",
    "        loss_sum, svi_state = val #val --svi_state\n",
    "        \n",
    "        batch = agg_gp_predictive(rng_key_i, args)[\"gp_aggr\"] #(5,116) <- num_samples : 5, total_districts : 116\n",
    "        #* svi is where the vae_model & vae_guide gets applied\n",
    "        svi_state, loss = svi.update(svi_state, batch)\n",
    "        loss_sum += loss / args[\"batch_size\"]\n",
    "        return loss_sum, svi_state \n",
    "    \n",
    "    return lax.fori_loop(lower = 0, upper = num_train, body_fun=body_fn, init_val=(0.0, svi_state))\n",
    "\n",
    "@jax.jit \n",
    "def eval_test(rng_key, svi_state, num_test):\n",
    "    def body_fn(i, loss_sum):\n",
    "        rng_key_i = jax.random.fold_in(rng_key, i)\n",
    "        rng_key_i, rng_key_ls, rng_key_varm, rng_key_noise = jax.random.split(rng_key_i, 4)\n",
    "        batch = agg_gp_predictive(rng_key_i, args)[\"gp_aggr\"]\n",
    "        #* svi is where the vae_model & vae_guide gets applied\n",
    "        loss = svi.evaluate(svi_state, batch) / args[\"batch_size\"]\n",
    "        loss_sum += loss\n",
    "        return loss_sum \n",
    "    \n",
    "    loss = lax.fori_loop(lower = 0, upper = num_test,body_fun =  body_fn, init_val = 0.0)\n",
    "    loss = loss / num_test \n",
    "    return loss"
   ]
  },
  {
   "cell_type": "code",
   "execution_count": 8,
   "metadata": {},
   "outputs": [
    {
     "name": "stdout",
     "output_type": "stream",
     "text": [
      "Epoch : 0, train loss : 1249032536064.00, test loss : 83416672.00 (1.30 s.)\n",
      "Epoch : 1, train loss : 42383798272.00, test loss : 34568208.00 (0.00 s.)\n",
      "Epoch : 2, train loss : 29321984000.00, test loss : 21217292.00 (0.00 s.)\n",
      "Epoch : 3, train loss : 11317771264.00, test loss : 3051054.50 (0.00 s.)\n",
      "Epoch : 4, train loss : 2555106816.00, test loss : 642606.56 (0.00 s.)\n",
      "Epoch : 5, train loss : 648452480.00, test loss : 644805.38 (0.00 s.)\n",
      "Epoch : 6, train loss : 682079232.00, test loss : 638743.69 (0.00 s.)\n",
      "Epoch : 7, train loss : 549946048.00, test loss : 523573.06 (0.00 s.)\n",
      "Epoch : 8, train loss : 603501440.00, test loss : 543574.12 (0.00 s.)\n",
      "Epoch : 9, train loss : 548570560.00, test loss : 527711.44 (0.00 s.)\n",
      "Epoch : 10, train loss : 586309824.00, test loss : 603968.38 (0.00 s.)\n",
      "Epoch : 11, train loss : 567861568.00, test loss : 539008.31 (0.00 s.)\n",
      "Epoch : 12, train loss : 566043264.00, test loss : 536295.31 (0.00 s.)\n",
      "Epoch : 13, train loss : 583490688.00, test loss : 576124.25 (0.00 s.)\n",
      "Epoch : 14, train loss : 522590816.00, test loss : 571673.50 (0.00 s.)\n",
      "Epoch : 15, train loss : 933668288.00, test loss : 4189101.25 (0.00 s.)\n",
      "Epoch : 16, train loss : 722117184.00, test loss : 570769.50 (0.00 s.)\n",
      "Epoch : 17, train loss : 643683776.00, test loss : 523300.19 (0.00 s.)\n",
      "Epoch : 18, train loss : 2767470592.00, test loss : 1246585.75 (0.00 s.)\n",
      "Epoch : 19, train loss : 837793216.00, test loss : 534231.50 (0.00 s.)\n",
      "Epoch : 20, train loss : 515207968.00, test loss : 518523.62 (0.00 s.)\n",
      "Epoch : 21, train loss : 584990016.00, test loss : 501691.41 (0.00 s.)\n",
      "Epoch : 22, train loss : 697884224.00, test loss : 495613.31 (0.00 s.)\n",
      "Epoch : 23, train loss : 682105152.00, test loss : 574289.81 (0.00 s.)\n",
      "Epoch : 24, train loss : 575644672.00, test loss : 519462.19 (0.00 s.)\n",
      "Epoch : 25, train loss : 1343761408.00, test loss : 559761.62 (0.00 s.)\n",
      "Epoch : 26, train loss : 512567904.00, test loss : 563612.56 (0.00 s.)\n",
      "Epoch : 27, train loss : 568756928.00, test loss : 518176.25 (0.00 s.)\n",
      "Epoch : 28, train loss : 602814016.00, test loss : 566650.94 (0.00 s.)\n",
      "Epoch : 29, train loss : 642412928.00, test loss : 1383039330418688.00 (0.00 s.)\n",
      "Epoch : 30, train loss : 5869313458176.00, test loss : 50279688.00 (0.00 s.)\n",
      "Epoch : 31, train loss : 50168819712.00, test loss : 51659108.00 (0.00 s.)\n",
      "Epoch : 32, train loss : 49151684608.00, test loss : 49273068.00 (0.00 s.)\n",
      "Epoch : 33, train loss : 44792922112.00, test loss : 50919128.00 (0.00 s.)\n",
      "Epoch : 34, train loss : 49404239872.00, test loss : 50637440.00 (0.00 s.)\n",
      "Epoch : 35, train loss : 48735424512.00, test loss : 49896624.00 (0.00 s.)\n",
      "Epoch : 36, train loss : 46675099648.00, test loss : 49689588.00 (0.00 s.)\n",
      "Epoch : 37, train loss : 50898100224.00, test loss : 50591548.00 (0.00 s.)\n",
      "Epoch : 38, train loss : 50440617984.00, test loss : 45776552.00 (0.00 s.)\n",
      "Epoch : 39, train loss : 49281658880.00, test loss : 52535444.00 (0.00 s.)\n",
      "Epoch : 40, train loss : 47169486848.00, test loss : 48710100.00 (0.00 s.)\n",
      "Epoch : 41, train loss : 47273590784.00, test loss : 48490564.00 (0.00 s.)\n",
      "Epoch : 42, train loss : 47277178880.00, test loss : 48347888.00 (0.00 s.)\n",
      "Epoch : 43, train loss : 47494221824.00, test loss : 48162384.00 (0.00 s.)\n",
      "Epoch : 44, train loss : 48202149888.00, test loss : 54309232.00 (0.00 s.)\n",
      "Epoch : 45, train loss : 50967027712.00, test loss : 46623152.00 (0.00 s.)\n",
      "Epoch : 46, train loss : 49705168896.00, test loss : 47942212.00 (0.00 s.)\n",
      "Epoch : 47, train loss : 48537817088.00, test loss : 53184116.00 (0.00 s.)\n",
      "Epoch : 48, train loss : 52085493760.00, test loss : 49252136.00 (0.00 s.)\n",
      "Epoch : 49, train loss : 51511697408.00, test loss : 47983504.00 (0.00 s.)\n",
      "Epoch : 50, train loss : 50534858752.00, test loss : 48175756.00 (0.00 s.)\n",
      "Epoch : 51, train loss : 51167612928.00, test loss : 49306944.00 (0.00 s.)\n",
      "Epoch : 52, train loss : 52103012352.00, test loss : 44806208.00 (0.00 s.)\n",
      "Epoch : 53, train loss : 49967304704.00, test loss : 48394696.00 (0.00 s.)\n",
      "Epoch : 54, train loss : 49750765568.00, test loss : 46104176.00 (0.00 s.)\n",
      "Epoch : 55, train loss : 43425800192.00, test loss : 45391032.00 (0.00 s.)\n",
      "Epoch : 56, train loss : 50311012352.00, test loss : 52798556.00 (0.00 s.)\n",
      "Epoch : 57, train loss : 48809345024.00, test loss : 44431724.00 (0.00 s.)\n",
      "Epoch : 58, train loss : 47702110208.00, test loss : 49651336.00 (0.00 s.)\n",
      "Epoch : 59, train loss : 43832561664.00, test loss : 46697752.00 (0.00 s.)\n",
      "Epoch : 60, train loss : 46926721024.00, test loss : 51329860.00 (0.00 s.)\n",
      "Epoch : 61, train loss : 46405513216.00, test loss : 46900204.00 (0.00 s.)\n",
      "Epoch : 62, train loss : 44767514624.00, test loss : 47649612.00 (0.00 s.)\n",
      "Epoch : 63, train loss : 45703987200.00, test loss : 47812164.00 (0.00 s.)\n",
      "Epoch : 64, train loss : 49062580224.00, test loss : 46339564.00 (0.00 s.)\n",
      "Epoch : 65, train loss : 49273843712.00, test loss : 52386564.00 (0.00 s.)\n",
      "Epoch : 66, train loss : 48881397760.00, test loss : 53853480.00 (0.00 s.)\n",
      "Epoch : 67, train loss : 50376278016.00, test loss : 48481424.00 (0.00 s.)\n",
      "Epoch : 68, train loss : 51785117696.00, test loss : 56031360.00 (0.00 s.)\n",
      "Epoch : 69, train loss : 47808462848.00, test loss : 48375788.00 (0.00 s.)\n",
      "Epoch : 70, train loss : 47902810112.00, test loss : 50335552.00 (0.00 s.)\n",
      "Epoch : 71, train loss : 51747708928.00, test loss : 46607980.00 (0.00 s.)\n",
      "Epoch : 72, train loss : 49036652544.00, test loss : 46935944.00 (0.00 s.)\n",
      "Epoch : 73, train loss : 48140836864.00, test loss : 47056172.00 (0.00 s.)\n",
      "Epoch : 74, train loss : 246365263233024.00, test loss : 52299416.00 (0.00 s.)\n",
      "Epoch : 75, train loss : 52439216128.00, test loss : 45371932.00 (0.00 s.)\n",
      "Epoch : 76, train loss : 49524740096.00, test loss : 45591220.00 (0.00 s.)\n",
      "Epoch : 77, train loss : 147358367744.00, test loss : 48271696.00 (0.00 s.)\n",
      "Epoch : 78, train loss : 45383831552.00, test loss : 45654668.00 (0.00 s.)\n",
      "Epoch : 79, train loss : 47633932288.00, test loss : 44013324.00 (0.00 s.)\n",
      "Epoch : 80, train loss : 50228076544.00, test loss : 44791804.00 (0.00 s.)\n",
      "Epoch : 81, train loss : 49781669888.00, test loss : 50326596.00 (0.00 s.)\n",
      "Epoch : 82, train loss : 48147464192.00, test loss : 44972680.00 (0.00 s.)\n",
      "Epoch : 83, train loss : 46673571840.00, test loss : 52336048.00 (0.00 s.)\n",
      "Epoch : 84, train loss : 48425586688.00, test loss : 48802412.00 (0.00 s.)\n",
      "Epoch : 85, train loss : 44617035776.00, test loss : 53576816.00 (0.00 s.)\n",
      "Epoch : 86, train loss : 48407220224.00, test loss : 50737348.00 (0.00 s.)\n",
      "Epoch : 87, train loss : 49808125952.00, test loss : 43541836.00 (0.00 s.)\n",
      "Epoch : 88, train loss : 46528081920.00, test loss : 49010212.00 (0.00 s.)\n",
      "Epoch : 89, train loss : 50256240640.00, test loss : 50169512.00 (0.00 s.)\n",
      "Epoch : 90, train loss : 47091990528.00, test loss : 51065236.00 (0.00 s.)\n",
      "Epoch : 91, train loss : 51356819456.00, test loss : 45267560.00 (0.00 s.)\n",
      "Epoch : 92, train loss : 47434043392.00, test loss : 51282416.00 (0.00 s.)\n",
      "Epoch : 93, train loss : 578643689472.00, test loss : 45524072.00 (0.00 s.)\n",
      "Epoch : 94, train loss : 44107354112.00, test loss : 58548564.00 (0.00 s.)\n",
      "Epoch : 95, train loss : 43365871616.00, test loss : 49878376.00 (0.00 s.)\n",
      "Epoch : 96, train loss : 48471191552.00, test loss : 47202228.00 (0.00 s.)\n",
      "Epoch : 97, train loss : 46434332672.00, test loss : 50932288.00 (0.00 s.)\n",
      "Epoch : 98, train loss : 46531018752.00, test loss : 44234436.00 (0.00 s.)\n",
      "Epoch : 99, train loss : 46842380288.00, test loss : 48094608.00 (0.00 s.)\n"
     ]
    }
   ],
   "source": [
    "#-------------------------- Train VAE -------------------------- #\n",
    "run = True\n",
    "if run:\n",
    "    adam = numpyro.optim.Adam(step_size = args[\"learning_rate\"])\n",
    "    svi = SVI(\n",
    "        model=lambda batch: vae_model(batch, args[\"hidden_dim\"], args[\"z_dim\"], args[\"vae_var\"]),\n",
    "        guide=lambda batch: vae_guide(batch, args[\"hidden_dim\"], args[\"z_dim\"]),\n",
    "        optim=adam, \n",
    "        loss=RenyiELBO(),\n",
    "    )\n",
    "    rng_key, rng_key_samp, rng_key_init = random.split(args[\"rng_key\"],3)\n",
    "    #(num_samples, num_regions) \n",
    "    init_batch = agg_gp_predictive(rng_key_samp, args)[\"gp_aggr\"] #(num_samples, num_regions) <- i.e (5,58)\n",
    "    svi_state = svi.init(rng_key_init, init_batch)\n",
    "\n",
    "    test_loss_list = []\n",
    "\n",
    "    for i in range(args[\"num_epochs\"]):\n",
    "        rng_key, rng_key_train, rng_key_test, rng_key_infer = random.split(rng_key, 4)\n",
    "        t_start = time.time()\n",
    "        num_train = 1000\n",
    "        # Where forward/backward pass gets called for train\n",
    "        train_loss , svi_state = epoch_train(rng_key_train, svi_state, num_train)\n",
    "        num_test = 1000\n",
    "        # Where forward/backward pass gets called for test\n",
    "        test_loss = eval_test(rng_key_test, svi_state, num_test)\n",
    "        test_loss_list += [test_loss]\n",
    "\n",
    "        print(\"Epoch : {}, train loss : {:.2f}, test loss : {:.2f} ({:.2f} s.)\".format(i, train_loss, test_loss, time.time() - t_start))\n",
    "        if np.isnan(test_loss):\n",
    "            break "
   ]
  },
  {
   "cell_type": "code",
   "execution_count": 9,
   "metadata": {},
   "outputs": [],
   "source": [
    " vae_params = svi.get_params(svi_state)"
   ]
  },
  {
   "cell_type": "code",
   "execution_count": 10,
   "metadata": {},
   "outputs": [],
   "source": [
    "encoder_params = vae_params[\"encoder$params\"]\n",
    "decoder_params = vae_params[\"decoder$params\"]\n",
    "# save decoder params inside args\n",
    "args[\"decoder_params\"] = decoder_params"
   ]
  },
  {
   "cell_type": "code",
   "execution_count": 11,
   "metadata": {},
   "outputs": [],
   "source": [
    "N = 6\n",
    "\n",
    "def vae_sample(args):\n",
    "    dec_params = args[\"decoder_params\"]\n",
    "    z_dim, h_dim = dec_params[0][0].shape \n",
    "    z = numpyro.sample(\"z\", dist.Normal(jnp.zeros(z_dim), jnp.ones(z_dim)))\n",
    "    dec_init_fn, dec_apply_fn = vae_decoder(h_dim, N)\n",
    "    x_recon = dec_apply_fn(dec_params, z)\n",
    "    vae_aggr = numpyro.deterministic(\"vae_aggr\", x_recon)\n",
    "    return vae_aggr\n",
    "\n",
    "rng_key, rng_key_predict = random.split(random.PRNGKey(3))\n",
    "vae_predictive = Predictive(vae_sample, num_samples = 5)\n",
    "vae_draws = vae_predictive(rng_key_predict, args)[\"vae_aggr\"] "
   ]
  },
  {
   "cell_type": "code",
   "execution_count": 12,
   "metadata": {},
   "outputs": [
    {
     "data": {
      "application/vnd.plotly.v1+json": {
       "config": {
        "plotlyServerURL": "https://plot.ly"
       },
       "data": [
        {
         "hovertemplate": "<extra></extra>",
         "legendgroup": "",
         "line": {
          "color": "#636efa",
          "dash": "solid"
         },
         "marker": {
          "symbol": "circle"
         },
         "mode": "lines",
         "name": "",
         "orientation": "v",
         "showlegend": false,
         "type": "scatter",
         "xaxis": "x",
         "yaxis": "y"
        },
        {
         "line": {
          "color": "rgb(31, 119, 180)"
         },
         "opacity": 0.3,
         "type": "scatter",
         "x": {
          "bdata": "AAECAwQF",
          "dtype": "i1"
         },
         "y": {
          "bdata": "IFczQQPbB0DyYxu/8Zw2QCq7NkAN9mdA",
          "dtype": "f4"
         }
        },
        {
         "line": {
          "color": "rgb(31, 119, 180)"
         },
         "opacity": 0.3,
         "type": "scatter",
         "x": {
          "bdata": "AAECAwQF",
          "dtype": "i1"
         },
         "y": {
          "bdata": "7/egQP0jMT3LUSHAvwe4P+8Jbz9Sukw/",
          "dtype": "f4"
         }
        },
        {
         "line": {
          "color": "rgb(31, 119, 180)"
         },
         "opacity": 0.3,
         "type": "scatter",
         "x": {
          "bdata": "AAECAwQF",
          "dtype": "i1"
         },
         "y": {
          "bdata": "rWHHQGCH2D9KFK2+goGMQHk+hkBZ7y5A",
          "dtype": "f4"
         }
        },
        {
         "line": {
          "color": "rgb(31, 119, 180)"
         },
         "opacity": 0.3,
         "type": "scatter",
         "x": {
          "bdata": "AAECAwQF",
          "dtype": "i1"
         },
         "y": {
          "bdata": "WcgYwK1ef76zvPG/6RlkPY+tZb9NqRw+",
          "dtype": "f4"
         }
        },
        {
         "line": {
          "color": "rgb(31, 119, 180)"
         },
         "opacity": 0.3,
         "type": "scatter",
         "x": {
          "bdata": "AAECAwQF",
          "dtype": "i1"
         },
         "y": {
          "bdata": "duymQBHB7z/nuA++976aQCvKhUDmjBxA",
          "dtype": "f4"
         }
        }
       ],
       "layout": {
        "legend": {
         "tracegroupgap": 0
        },
        "margin": {
         "t": 60
        },
        "showlegend": false,
        "template": {
         "data": {
          "bar": [
           {
            "error_x": {
             "color": "#2a3f5f"
            },
            "error_y": {
             "color": "#2a3f5f"
            },
            "marker": {
             "line": {
              "color": "white",
              "width": 0.5
             },
             "pattern": {
              "fillmode": "overlay",
              "size": 10,
              "solidity": 0.2
             }
            },
            "type": "bar"
           }
          ],
          "barpolar": [
           {
            "marker": {
             "line": {
              "color": "white",
              "width": 0.5
             },
             "pattern": {
              "fillmode": "overlay",
              "size": 10,
              "solidity": 0.2
             }
            },
            "type": "barpolar"
           }
          ],
          "carpet": [
           {
            "aaxis": {
             "endlinecolor": "#2a3f5f",
             "gridcolor": "#C8D4E3",
             "linecolor": "#C8D4E3",
             "minorgridcolor": "#C8D4E3",
             "startlinecolor": "#2a3f5f"
            },
            "baxis": {
             "endlinecolor": "#2a3f5f",
             "gridcolor": "#C8D4E3",
             "linecolor": "#C8D4E3",
             "minorgridcolor": "#C8D4E3",
             "startlinecolor": "#2a3f5f"
            },
            "type": "carpet"
           }
          ],
          "choropleth": [
           {
            "colorbar": {
             "outlinewidth": 0,
             "ticks": ""
            },
            "type": "choropleth"
           }
          ],
          "contour": [
           {
            "colorbar": {
             "outlinewidth": 0,
             "ticks": ""
            },
            "colorscale": [
             [
              0,
              "#0d0887"
             ],
             [
              0.1111111111111111,
              "#46039f"
             ],
             [
              0.2222222222222222,
              "#7201a8"
             ],
             [
              0.3333333333333333,
              "#9c179e"
             ],
             [
              0.4444444444444444,
              "#bd3786"
             ],
             [
              0.5555555555555556,
              "#d8576b"
             ],
             [
              0.6666666666666666,
              "#ed7953"
             ],
             [
              0.7777777777777778,
              "#fb9f3a"
             ],
             [
              0.8888888888888888,
              "#fdca26"
             ],
             [
              1,
              "#f0f921"
             ]
            ],
            "type": "contour"
           }
          ],
          "contourcarpet": [
           {
            "colorbar": {
             "outlinewidth": 0,
             "ticks": ""
            },
            "type": "contourcarpet"
           }
          ],
          "heatmap": [
           {
            "colorbar": {
             "outlinewidth": 0,
             "ticks": ""
            },
            "colorscale": [
             [
              0,
              "#0d0887"
             ],
             [
              0.1111111111111111,
              "#46039f"
             ],
             [
              0.2222222222222222,
              "#7201a8"
             ],
             [
              0.3333333333333333,
              "#9c179e"
             ],
             [
              0.4444444444444444,
              "#bd3786"
             ],
             [
              0.5555555555555556,
              "#d8576b"
             ],
             [
              0.6666666666666666,
              "#ed7953"
             ],
             [
              0.7777777777777778,
              "#fb9f3a"
             ],
             [
              0.8888888888888888,
              "#fdca26"
             ],
             [
              1,
              "#f0f921"
             ]
            ],
            "type": "heatmap"
           }
          ],
          "histogram": [
           {
            "marker": {
             "pattern": {
              "fillmode": "overlay",
              "size": 10,
              "solidity": 0.2
             }
            },
            "type": "histogram"
           }
          ],
          "histogram2d": [
           {
            "colorbar": {
             "outlinewidth": 0,
             "ticks": ""
            },
            "colorscale": [
             [
              0,
              "#0d0887"
             ],
             [
              0.1111111111111111,
              "#46039f"
             ],
             [
              0.2222222222222222,
              "#7201a8"
             ],
             [
              0.3333333333333333,
              "#9c179e"
             ],
             [
              0.4444444444444444,
              "#bd3786"
             ],
             [
              0.5555555555555556,
              "#d8576b"
             ],
             [
              0.6666666666666666,
              "#ed7953"
             ],
             [
              0.7777777777777778,
              "#fb9f3a"
             ],
             [
              0.8888888888888888,
              "#fdca26"
             ],
             [
              1,
              "#f0f921"
             ]
            ],
            "type": "histogram2d"
           }
          ],
          "histogram2dcontour": [
           {
            "colorbar": {
             "outlinewidth": 0,
             "ticks": ""
            },
            "colorscale": [
             [
              0,
              "#0d0887"
             ],
             [
              0.1111111111111111,
              "#46039f"
             ],
             [
              0.2222222222222222,
              "#7201a8"
             ],
             [
              0.3333333333333333,
              "#9c179e"
             ],
             [
              0.4444444444444444,
              "#bd3786"
             ],
             [
              0.5555555555555556,
              "#d8576b"
             ],
             [
              0.6666666666666666,
              "#ed7953"
             ],
             [
              0.7777777777777778,
              "#fb9f3a"
             ],
             [
              0.8888888888888888,
              "#fdca26"
             ],
             [
              1,
              "#f0f921"
             ]
            ],
            "type": "histogram2dcontour"
           }
          ],
          "mesh3d": [
           {
            "colorbar": {
             "outlinewidth": 0,
             "ticks": ""
            },
            "type": "mesh3d"
           }
          ],
          "parcoords": [
           {
            "line": {
             "colorbar": {
              "outlinewidth": 0,
              "ticks": ""
             }
            },
            "type": "parcoords"
           }
          ],
          "pie": [
           {
            "automargin": true,
            "type": "pie"
           }
          ],
          "scatter": [
           {
            "fillpattern": {
             "fillmode": "overlay",
             "size": 10,
             "solidity": 0.2
            },
            "type": "scatter"
           }
          ],
          "scatter3d": [
           {
            "line": {
             "colorbar": {
              "outlinewidth": 0,
              "ticks": ""
             }
            },
            "marker": {
             "colorbar": {
              "outlinewidth": 0,
              "ticks": ""
             }
            },
            "type": "scatter3d"
           }
          ],
          "scattercarpet": [
           {
            "marker": {
             "colorbar": {
              "outlinewidth": 0,
              "ticks": ""
             }
            },
            "type": "scattercarpet"
           }
          ],
          "scattergeo": [
           {
            "marker": {
             "colorbar": {
              "outlinewidth": 0,
              "ticks": ""
             }
            },
            "type": "scattergeo"
           }
          ],
          "scattergl": [
           {
            "marker": {
             "colorbar": {
              "outlinewidth": 0,
              "ticks": ""
             }
            },
            "type": "scattergl"
           }
          ],
          "scattermap": [
           {
            "marker": {
             "colorbar": {
              "outlinewidth": 0,
              "ticks": ""
             }
            },
            "type": "scattermap"
           }
          ],
          "scattermapbox": [
           {
            "marker": {
             "colorbar": {
              "outlinewidth": 0,
              "ticks": ""
             }
            },
            "type": "scattermapbox"
           }
          ],
          "scatterpolar": [
           {
            "marker": {
             "colorbar": {
              "outlinewidth": 0,
              "ticks": ""
             }
            },
            "type": "scatterpolar"
           }
          ],
          "scatterpolargl": [
           {
            "marker": {
             "colorbar": {
              "outlinewidth": 0,
              "ticks": ""
             }
            },
            "type": "scatterpolargl"
           }
          ],
          "scatterternary": [
           {
            "marker": {
             "colorbar": {
              "outlinewidth": 0,
              "ticks": ""
             }
            },
            "type": "scatterternary"
           }
          ],
          "surface": [
           {
            "colorbar": {
             "outlinewidth": 0,
             "ticks": ""
            },
            "colorscale": [
             [
              0,
              "#0d0887"
             ],
             [
              0.1111111111111111,
              "#46039f"
             ],
             [
              0.2222222222222222,
              "#7201a8"
             ],
             [
              0.3333333333333333,
              "#9c179e"
             ],
             [
              0.4444444444444444,
              "#bd3786"
             ],
             [
              0.5555555555555556,
              "#d8576b"
             ],
             [
              0.6666666666666666,
              "#ed7953"
             ],
             [
              0.7777777777777778,
              "#fb9f3a"
             ],
             [
              0.8888888888888888,
              "#fdca26"
             ],
             [
              1,
              "#f0f921"
             ]
            ],
            "type": "surface"
           }
          ],
          "table": [
           {
            "cells": {
             "fill": {
              "color": "#EBF0F8"
             },
             "line": {
              "color": "white"
             }
            },
            "header": {
             "fill": {
              "color": "#C8D4E3"
             },
             "line": {
              "color": "white"
             }
            },
            "type": "table"
           }
          ]
         },
         "layout": {
          "annotationdefaults": {
           "arrowcolor": "#2a3f5f",
           "arrowhead": 0,
           "arrowwidth": 1
          },
          "autotypenumbers": "strict",
          "coloraxis": {
           "colorbar": {
            "outlinewidth": 0,
            "ticks": ""
           }
          },
          "colorscale": {
           "diverging": [
            [
             0,
             "#8e0152"
            ],
            [
             0.1,
             "#c51b7d"
            ],
            [
             0.2,
             "#de77ae"
            ],
            [
             0.3,
             "#f1b6da"
            ],
            [
             0.4,
             "#fde0ef"
            ],
            [
             0.5,
             "#f7f7f7"
            ],
            [
             0.6,
             "#e6f5d0"
            ],
            [
             0.7,
             "#b8e186"
            ],
            [
             0.8,
             "#7fbc41"
            ],
            [
             0.9,
             "#4d9221"
            ],
            [
             1,
             "#276419"
            ]
           ],
           "sequential": [
            [
             0,
             "#0d0887"
            ],
            [
             0.1111111111111111,
             "#46039f"
            ],
            [
             0.2222222222222222,
             "#7201a8"
            ],
            [
             0.3333333333333333,
             "#9c179e"
            ],
            [
             0.4444444444444444,
             "#bd3786"
            ],
            [
             0.5555555555555556,
             "#d8576b"
            ],
            [
             0.6666666666666666,
             "#ed7953"
            ],
            [
             0.7777777777777778,
             "#fb9f3a"
            ],
            [
             0.8888888888888888,
             "#fdca26"
            ],
            [
             1,
             "#f0f921"
            ]
           ],
           "sequentialminus": [
            [
             0,
             "#0d0887"
            ],
            [
             0.1111111111111111,
             "#46039f"
            ],
            [
             0.2222222222222222,
             "#7201a8"
            ],
            [
             0.3333333333333333,
             "#9c179e"
            ],
            [
             0.4444444444444444,
             "#bd3786"
            ],
            [
             0.5555555555555556,
             "#d8576b"
            ],
            [
             0.6666666666666666,
             "#ed7953"
            ],
            [
             0.7777777777777778,
             "#fb9f3a"
            ],
            [
             0.8888888888888888,
             "#fdca26"
            ],
            [
             1,
             "#f0f921"
            ]
           ]
          },
          "colorway": [
           "#636efa",
           "#EF553B",
           "#00cc96",
           "#ab63fa",
           "#FFA15A",
           "#19d3f3",
           "#FF6692",
           "#B6E880",
           "#FF97FF",
           "#FECB52"
          ],
          "font": {
           "color": "#2a3f5f"
          },
          "geo": {
           "bgcolor": "white",
           "lakecolor": "white",
           "landcolor": "white",
           "showlakes": true,
           "showland": true,
           "subunitcolor": "#C8D4E3"
          },
          "hoverlabel": {
           "align": "left"
          },
          "hovermode": "closest",
          "mapbox": {
           "style": "light"
          },
          "paper_bgcolor": "white",
          "plot_bgcolor": "white",
          "polar": {
           "angularaxis": {
            "gridcolor": "#EBF0F8",
            "linecolor": "#EBF0F8",
            "ticks": ""
           },
           "bgcolor": "white",
           "radialaxis": {
            "gridcolor": "#EBF0F8",
            "linecolor": "#EBF0F8",
            "ticks": ""
           }
          },
          "scene": {
           "xaxis": {
            "backgroundcolor": "white",
            "gridcolor": "#DFE8F3",
            "gridwidth": 2,
            "linecolor": "#EBF0F8",
            "showbackground": true,
            "ticks": "",
            "zerolinecolor": "#EBF0F8"
           },
           "yaxis": {
            "backgroundcolor": "white",
            "gridcolor": "#DFE8F3",
            "gridwidth": 2,
            "linecolor": "#EBF0F8",
            "showbackground": true,
            "ticks": "",
            "zerolinecolor": "#EBF0F8"
           },
           "zaxis": {
            "backgroundcolor": "white",
            "gridcolor": "#DFE8F3",
            "gridwidth": 2,
            "linecolor": "#EBF0F8",
            "showbackground": true,
            "ticks": "",
            "zerolinecolor": "#EBF0F8"
           }
          },
          "shapedefaults": {
           "line": {
            "color": "#2a3f5f"
           }
          },
          "ternary": {
           "aaxis": {
            "gridcolor": "#DFE8F3",
            "linecolor": "#A2B1C6",
            "ticks": ""
           },
           "baxis": {
            "gridcolor": "#DFE8F3",
            "linecolor": "#A2B1C6",
            "ticks": ""
           },
           "bgcolor": "white",
           "caxis": {
            "gridcolor": "#DFE8F3",
            "linecolor": "#A2B1C6",
            "ticks": ""
           }
          },
          "title": {
           "x": 0.05
          },
          "xaxis": {
           "automargin": true,
           "gridcolor": "#EBF0F8",
           "linecolor": "#EBF0F8",
           "ticks": "",
           "title": {
            "standoff": 15
           },
           "zerolinecolor": "#EBF0F8",
           "zerolinewidth": 2
          },
          "yaxis": {
           "automargin": true,
           "gridcolor": "#EBF0F8",
           "linecolor": "#EBF0F8",
           "ticks": "",
           "title": {
            "standoff": 15
           },
           "zerolinecolor": "#EBF0F8",
           "zerolinewidth": 2
          }
         }
        },
        "xaxis": {
         "anchor": "y",
         "domain": [
          0,
          1
         ],
         "title": {
          "text": "region"
         }
        },
        "yaxis": {
         "anchor": "x",
         "domain": [
          0,
          1
         ],
         "title": {
          "text": "num cases"
         }
        }
       }
      }
     },
     "metadata": {},
     "output_type": "display_data"
    }
   ],
   "source": [
    "plot_process(jnp.expand_dims(vae_draws, axis = 0))"
   ]
  },
  {
   "cell_type": "code",
   "execution_count": 34,
   "metadata": {},
   "outputs": [],
   "source": [
    "# ------------------- Func for Agg VAE Prev ------------------- #\n",
    "def prev_model_vae_aggr(config=None):\n",
    "\n",
    "    if config is None:\n",
    "        config = {}\n",
    "        \n",
    "    # Set defaults\n",
    "    x = config.get('x', None)\n",
    "    gp_kernel = config.get('gp_kernel', exp_sq_kernel)\n",
    "    noise = config.get('noise', 1e-4)\n",
    "    jitter = config.get('jitter', 1e-4)\n",
    "    M_lo = config.get('M_lo', None)\n",
    "    M_hi = config.get('M_hi', None)\n",
    "    kernel_length_prior = config.get('kernel_length', dist.InverseGamma(4, 1))\n",
    "    kernel_var_prior = config.get('kernel_var', dist.LogNormal(0, 0.1))\n",
    "    pop_density = config.get('pop_density', None)\n",
    "    urban_frac = config.get('urban_frac', None)\n",
    "    hdi_index = config.get('hdi_index', None)\n",
    "    total_population = config.get('total_population', None)\n",
    "    count_data = config.get('count', None)\n",
    "    is_prior_pred = config.get('prior_pred', False)\n",
    "    out_dims = config.get('out_dims', 6)\n",
    "    # GP\n",
    "    config_gp = config.copy()\n",
    "    config_gp['x'] = x\n",
    "    config_gp['gp_kernel'] = gp_kernel\n",
    "    config_gp['noise'] = noise\n",
    "    config_gp['jitter'] = jitter\n",
    "    config_gp['M_lo'] = M_lo\n",
    "    config_gp['M_hi'] = M_hi\n",
    "    config_gp['kernel_length'] = kernel_length_prior\n",
    "    config_gp['kernel_var'] = kernel_var_prior\n",
    "    # Call gp_aggr\n",
    "    decoder_params = config[\"decoder_params\"]\n",
    "    z_dim, hidden_dim = decoder_params[0][0].shape\n",
    "    z = numpyro.sample(\"z\", dist.Normal(jnp.zeros(z_dim), jnp.ones(z_dim)))\n",
    "    _, decoder_apply = vae_decoder(hidden_dim, out_dims) #Instantiate decoder\n",
    "    vae_aggr = numpyro.deterministic(\"vae_aggr\", decoder_apply(decoder_params, z))\n",
    "    s = numpyro.sample(\"sigma1\", dist.HalfNormal(200))\n",
    "\n",
    "    vae = numpyro.deterministic(\"vae\", s * vae_aggr)\n",
    "\n",
    "    # Fixed effects\n",
    "    b0 = numpyro.sample(\"b0\", dist.Normal(100, 10))  # Intercept\n",
    "    b_pop_density = numpyro.sample(\"b_pop_density\", dist.Normal(0, 1))  # Effect of population density\n",
    "    b_hdi = numpyro.sample(\"b_hdi\", dist.Normal(0, 1))  # Effect of HDI\n",
    "    b_urban = numpyro.sample(\"b_urban\", dist.Normal(0, 1))  # Effect of urbanicity\n",
    "\n",
    "    # Linear predictor\n",
    "    # lp = numpyro.deterministic(\"lp\", (b0 + \n",
    "    #                                   aggr_gp + \n",
    "    #                                   b_pop_density * pop_density + \n",
    "    #                                   b_hdi * hdi_index + \n",
    "    #                                   b_urban * urban_frac))  #\n",
    "    lp = numpyro.deterministic(\"lp\", nn.softplus(b0 + \n",
    "                                      vae + \n",
    "                                      b_pop_density * pop_density + \n",
    "                                      b_hdi * hdi_index + \n",
    "                                      b_urban * urban_frac)) \n",
    "    \n",
    "   \n",
    "    sigma = numpyro.sample(\"sigma\", dist.HalfNormal(5))\n",
    "    pred_cases = numpyro.sample(\n",
    "        \"pred_cases\",\n",
    "        dist.Normal(lp, sigma),\n",
    "        obs=None if is_prior_pred else count_data\n",
    "    )\n",
    "    return pred_cases"
   ]
  },
  {
   "cell_type": "code",
   "execution_count": 45,
   "metadata": {},
   "outputs": [
    {
     "name": "stdout",
     "output_type": "stream",
     "text": [
      "dict_keys(['x', 'pol_pts_lo', 'pol_pts_hi', 'df_lo', 'df_hi'])\n",
      "Dengue incidence by province and year (low resolution):\n",
      "                  incidence\n",
      "Province    Year           \n",
      "DKI Jakarta 2020   0.001519\n",
      "            2021   0.001315\n",
      "            2022   0.002667\n",
      "            2023   0.001983 \n",
      "\n",
      "We are using data for the year 2023\n",
      "\n"
     ]
    }
   ],
   "source": [
    "spatial_data = load_data()\n",
    "print(spatial_data.keys())\n",
    "\n",
    "# Lets lok at the data and dissect it \n",
    "lo_prev = spatial_data[\"df_lo\"].copy()\n",
    "lo_prev['incidence'] = (lo_prev.Cases / lo_prev.Population)\n",
    "print(\"Dengue incidence by province and year (low resolution):\")\n",
    "print(lo_prev.groupby(['Province', 'Year'])[['incidence']].mean(), '\\n')\n",
    "# make sure we use only one year of data \n",
    "year_data = spatial_data[\"df_lo\"].Year.max()\n",
    "print(f'We are using data for the year {year_data}\\n')\n",
    "# let us filter the data for the most recent year\n",
    "# let us filter the data for the most recent year\n",
    "df_lo = spatial_data[\"df_lo\"][spatial_data[\"df_lo\"].Year == year_data]\n",
    "df_hi = spatial_data[\"df_hi\"][spatial_data[\"df_hi\"].Year == year_data]\n",
    "\n",
    "df_lo = df_lo.copy()  \n",
    "df_hi = df_hi.copy()\n",
    "df_lo.loc[:, 'incidence'] = df_lo.Cases / df_lo.Population\n",
    "df_hi.loc[:, 'incidence'] = df_hi.Cases / df_hi.Population\n",
    "total_population = jnp.concatenate([df_lo.Population.values, df_hi.Population.values])\n",
    "count = jnp.concatenate([df_lo.Cases.values, jnp.full((df_hi.shape[0],), jnp.nan)])\n",
    "hdi_index = jnp.concatenate([df_lo.HDI.values, df_hi.HDI.values])*100\n",
    "pop_density = jnp.concatenate([df_lo.Pop_den.values*1e2, (df_hi.Pop_den.values)*1e-1])\n",
    "urban_frac = jnp.concatenate([df_lo.urbanicity.values, df_hi.urbanicity.values])*100"
   ]
  },
  {
   "cell_type": "code",
   "execution_count": 32,
   "metadata": {},
   "outputs": [],
   "source": [
    "config_count = {\n",
    "    'x': spatial_data[\"x\"],\n",
    "    'gp_kernel': exp_sq_kernel,\n",
    "    'noise': 1e-2,\n",
    "    'jitter': 1e-2,\n",
    "    'M_lo': jnp.array(spatial_data[\"pol_pts_lo\"])[0,:].reshape(1, -1),\n",
    "    'M_hi': jnp.array(spatial_data[\"pol_pts_hi\"])[[0,4,9,14,19], :],\n",
    "    'kernel_length': dist.InverseGamma(5, 2),\n",
    "    'kernel_var': dist.LogNormal(-1, 0.05),\n",
    "    'pop_density': pop_density,\n",
    "    'hdi_index': hdi_index,\n",
    "    'urban_frac': urban_frac,\n",
    "    'count': count,\n",
    "    'prior_pred': False,\n",
    "    \"decoder_params\": decoder_params,\n",
    "    \"out_dims\": 6 # [lo + hi] \n",
    "}"
   ]
  },
  {
   "cell_type": "code",
   "execution_count": 38,
   "metadata": {},
   "outputs": [
    {
     "name": "stderr",
     "output_type": "stream",
     "text": [
      "sample: 100%|██████████| 2000/2000 [20:17<00:00,  1.64it/s] "
     ]
    },
    {
     "name": "stdout",
     "output_type": "stream",
     "text": [
      "Time taken to run MCMC: 20 minutes\n"
     ]
    },
    {
     "name": "stderr",
     "output_type": "stream",
     "text": [
      "\n"
     ]
    }
   ],
   "source": [
    "model =  prev_model_vae_aggr\n",
    "# Define the sampler\n",
    "sampler = NUTS(model, target_accept_prob = 0.99, max_tree_depth = 20)\n",
    "mcmc = MCMC(sampler, # change for later run to 0.99 and 20\n",
    "            num_warmup=1000,\n",
    "            num_samples=1000,\n",
    "            num_chains=4,\n",
    "            chain_method=\"vectorized\",\n",
    "            )\n",
    "start = time.time()\n",
    "mcmc.run(PRNGKey(2), config_count)\n",
    "end = time.time()\n",
    "t_elapsed_min = round((end - start) / 60)\n",
    "print(f\"Time taken to run MCMC: {t_elapsed_min} minutes\")"
   ]
  },
  {
   "cell_type": "code",
   "execution_count": 39,
   "metadata": {},
   "outputs": [
    {
     "name": "stdout",
     "output_type": "stream",
     "text": [
      "\n",
      "                     mean       std    median      5.0%     95.0%     n_eff     r_hat\n",
      "             b0    100.13     10.12    100.10     83.44    116.93   3542.35      1.00\n",
      "          b_hdi      0.05      1.01      0.06     -1.70      1.59   1804.06      1.00\n",
      "  b_pop_density      0.10      1.02      0.09     -1.67      1.67    348.36      1.01\n",
      "        b_urban      0.08      0.99      0.10     -1.59      1.65   1432.68      1.00\n",
      "  pred_cases[0]   1326.48   1671.54    618.96    -28.92   3524.47     18.18      1.25\n",
      "  pred_cases[1]    363.13    343.60    283.40    -18.29    807.77     24.81      1.21\n",
      "  pred_cases[2]    111.37    144.47     32.45    -15.20    326.21    116.46      1.04\n",
      "  pred_cases[3]    407.04    401.35    298.11    -13.31    968.02     36.00      1.16\n",
      "  pred_cases[4]    392.61    439.57    255.94    -17.99    995.79     32.18      1.19\n",
      "  pred_cases[5]    510.63    482.71    359.87    -10.06   1167.45     20.03      1.24\n",
      "          sigma      4.52      2.97      3.93      0.23      8.63    280.74      1.02\n",
      "         sigma1    130.82    103.26    106.91      0.03    277.41    121.21      1.05\n",
      "           z[0]      0.01      1.00      0.01     -1.67      1.57   3681.53      1.00\n",
      "           z[1]     -0.00      1.00     -0.00     -1.64      1.61   4271.62      1.00\n",
      "           z[2]     -0.02      1.00     -0.02     -1.63      1.69   1823.57      1.00\n",
      "           z[3]     -0.00      1.01     -0.00     -1.58      1.75   3943.55      1.00\n",
      "           z[4]      0.04      1.02      0.01     -1.71      1.59   2485.52      1.00\n",
      "           z[5]      0.02      0.99      0.04     -1.65      1.61   2580.47      1.00\n",
      "           z[6]      0.01      1.01      0.01     -1.55      1.71   4340.50      1.00\n",
      "           z[7]     -0.02      1.01     -0.03     -1.64      1.68   2959.42      1.00\n",
      "           z[8]      0.01      0.99      0.01     -1.62      1.60   3237.70      1.00\n",
      "           z[9]      0.03      1.01      0.03     -1.86      1.47   3929.13      1.00\n",
      "          z[10]      0.00      1.00     -0.01     -1.52      1.69   2963.59      1.00\n",
      "          z[11]      0.01      1.01      0.02     -1.68      1.66   2655.69      1.00\n",
      "          z[12]     -0.03      1.02     -0.01     -1.63      1.68   3676.75      1.00\n",
      "          z[13]      0.01      1.02      0.01     -1.67      1.66   3475.81      1.00\n",
      "          z[14]     -0.00      0.99     -0.01     -1.54      1.69   3218.10      1.00\n",
      "          z[15]      0.01      0.99      0.01     -1.64      1.61   3534.29      1.00\n",
      "          z[16]     -0.02      1.02     -0.04     -1.66      1.66   3231.53      1.00\n",
      "          z[17]     -0.02      1.02     -0.03     -1.58      1.80   2115.47      1.01\n",
      "          z[18]     -0.01      0.99      0.00     -1.62      1.63   3549.59      1.00\n",
      "          z[19]      0.01      1.00      0.00     -1.62      1.67   3142.08      1.00\n",
      "          z[20]      0.01      0.96      0.00     -1.50      1.61   2310.57      1.00\n",
      "          z[21]      0.00      0.98     -0.01     -1.50      1.74   3564.49      1.00\n",
      "          z[22]     -0.09      0.99     -0.08     -1.72      1.52    372.35      1.02\n",
      "          z[23]     -0.01      1.02     -0.01     -1.60      1.76   3319.93      1.00\n",
      "          z[24]     -0.02      1.02     -0.03     -1.65      1.69   3899.36      1.00\n",
      "          z[25]     -0.02      0.97     -0.04     -1.62      1.52   2818.98      1.00\n",
      "          z[26]     -0.00      0.99     -0.01     -1.61      1.61   3548.82      1.00\n",
      "          z[27]     -0.02      0.99     -0.02     -1.61      1.56   3745.14      1.00\n",
      "          z[28]      0.01      0.96      0.02     -1.51      1.64   3332.99      1.00\n",
      "          z[29]      0.03      0.99      0.03     -1.70      1.53   3766.13      1.00\n",
      "          z[30]      0.00      1.03      0.01     -1.60      1.79   3488.09      1.00\n",
      "          z[31]      0.00      0.98     -0.01     -1.54      1.66   4050.67      1.00\n",
      "          z[32]     -0.01      1.00     -0.02     -1.56      1.71   3549.63      1.00\n",
      "          z[33]      0.02      0.98      0.02     -1.58      1.59   4108.59      1.00\n",
      "          z[34]     -0.03      1.03     -0.05     -1.73      1.74   2442.74      1.00\n",
      "          z[35]      0.02      1.00      0.01     -1.57      1.71   3387.48      1.00\n",
      "          z[36]      0.01      0.98     -0.00     -1.54      1.69   3357.94      1.00\n",
      "          z[37]     -0.00      1.00     -0.01     -1.62      1.64   2608.74      1.00\n",
      "          z[38]      0.02      0.99      0.02     -1.62      1.64   3549.17      1.00\n",
      "          z[39]     -0.00      0.99      0.00     -1.69      1.55   3919.79      1.00\n",
      "\n",
      "Number of divergences: 394\n",
      "None\n"
     ]
    },
    {
     "data": {
      "text/html": [
       "<div>\n",
       "<style scoped>\n",
       "    .dataframe tbody tr th:only-of-type {\n",
       "        vertical-align: middle;\n",
       "    }\n",
       "\n",
       "    .dataframe tbody tr th {\n",
       "        vertical-align: top;\n",
       "    }\n",
       "\n",
       "    .dataframe thead th {\n",
       "        text-align: right;\n",
       "    }\n",
       "</style>\n",
       "<table border=\"1\" class=\"dataframe\">\n",
       "  <thead>\n",
       "    <tr style=\"text-align: right;\">\n",
       "      <th></th>\n",
       "      <th>mean</th>\n",
       "      <th>sd</th>\n",
       "      <th>hdi_3%</th>\n",
       "      <th>hdi_97%</th>\n",
       "      <th>mcse_mean</th>\n",
       "      <th>mcse_sd</th>\n",
       "      <th>ess_bulk</th>\n",
       "      <th>ess_tail</th>\n",
       "      <th>r_hat</th>\n",
       "    </tr>\n",
       "  </thead>\n",
       "  <tbody>\n",
       "    <tr>\n",
       "      <th>pred_cases[0]</th>\n",
       "      <td>1326.484</td>\n",
       "      <td>1671.541</td>\n",
       "      <td>-28.919</td>\n",
       "      <td>4378.599</td>\n",
       "      <td>442.507</td>\n",
       "      <td>462.974</td>\n",
       "      <td>17.0</td>\n",
       "      <td>19.0</td>\n",
       "      <td>1.19</td>\n",
       "    </tr>\n",
       "    <tr>\n",
       "      <th>pred_cases[1]</th>\n",
       "      <td>363.128</td>\n",
       "      <td>343.604</td>\n",
       "      <td>-18.286</td>\n",
       "      <td>970.093</td>\n",
       "      <td>83.762</td>\n",
       "      <td>75.466</td>\n",
       "      <td>21.0</td>\n",
       "      <td>24.0</td>\n",
       "      <td>1.16</td>\n",
       "    </tr>\n",
       "    <tr>\n",
       "      <th>pred_cases[2]</th>\n",
       "      <td>111.373</td>\n",
       "      <td>144.474</td>\n",
       "      <td>-14.259</td>\n",
       "      <td>385.721</td>\n",
       "      <td>14.454</td>\n",
       "      <td>9.440</td>\n",
       "      <td>116.0</td>\n",
       "      <td>359.0</td>\n",
       "      <td>1.03</td>\n",
       "    </tr>\n",
       "    <tr>\n",
       "      <th>pred_cases[3]</th>\n",
       "      <td>407.039</td>\n",
       "      <td>401.352</td>\n",
       "      <td>-22.230</td>\n",
       "      <td>1144.018</td>\n",
       "      <td>82.152</td>\n",
       "      <td>76.221</td>\n",
       "      <td>28.0</td>\n",
       "      <td>42.0</td>\n",
       "      <td>1.13</td>\n",
       "    </tr>\n",
       "    <tr>\n",
       "      <th>pred_cases[4]</th>\n",
       "      <td>392.611</td>\n",
       "      <td>439.574</td>\n",
       "      <td>-22.368</td>\n",
       "      <td>1236.510</td>\n",
       "      <td>97.474</td>\n",
       "      <td>92.376</td>\n",
       "      <td>25.0</td>\n",
       "      <td>30.0</td>\n",
       "      <td>1.15</td>\n",
       "    </tr>\n",
       "    <tr>\n",
       "      <th>pred_cases[5]</th>\n",
       "      <td>510.632</td>\n",
       "      <td>482.710</td>\n",
       "      <td>-18.248</td>\n",
       "      <td>1392.723</td>\n",
       "      <td>124.747</td>\n",
       "      <td>122.860</td>\n",
       "      <td>19.0</td>\n",
       "      <td>17.0</td>\n",
       "      <td>1.18</td>\n",
       "    </tr>\n",
       "    <tr>\n",
       "      <th>lp[0]</th>\n",
       "      <td>1326.550</td>\n",
       "      <td>1671.534</td>\n",
       "      <td>0.000</td>\n",
       "      <td>4381.641</td>\n",
       "      <td>442.442</td>\n",
       "      <td>463.043</td>\n",
       "      <td>16.0</td>\n",
       "      <td>19.0</td>\n",
       "      <td>1.21</td>\n",
       "    </tr>\n",
       "    <tr>\n",
       "      <th>lp[1]</th>\n",
       "      <td>362.951</td>\n",
       "      <td>343.422</td>\n",
       "      <td>0.000</td>\n",
       "      <td>961.743</td>\n",
       "      <td>83.725</td>\n",
       "      <td>75.510</td>\n",
       "      <td>21.0</td>\n",
       "      <td>24.0</td>\n",
       "      <td>1.16</td>\n",
       "    </tr>\n",
       "    <tr>\n",
       "      <th>lp[2]</th>\n",
       "      <td>111.359</td>\n",
       "      <td>144.485</td>\n",
       "      <td>0.000</td>\n",
       "      <td>383.042</td>\n",
       "      <td>14.492</td>\n",
       "      <td>9.366</td>\n",
       "      <td>96.0</td>\n",
       "      <td>151.0</td>\n",
       "      <td>1.04</td>\n",
       "    </tr>\n",
       "    <tr>\n",
       "      <th>lp[3]</th>\n",
       "      <td>407.138</td>\n",
       "      <td>401.193</td>\n",
       "      <td>0.000</td>\n",
       "      <td>1146.771</td>\n",
       "      <td>82.235</td>\n",
       "      <td>76.322</td>\n",
       "      <td>27.0</td>\n",
       "      <td>42.0</td>\n",
       "      <td>1.14</td>\n",
       "    </tr>\n",
       "    <tr>\n",
       "      <th>lp[4]</th>\n",
       "      <td>392.569</td>\n",
       "      <td>439.465</td>\n",
       "      <td>0.000</td>\n",
       "      <td>1233.005</td>\n",
       "      <td>97.471</td>\n",
       "      <td>92.381</td>\n",
       "      <td>23.0</td>\n",
       "      <td>30.0</td>\n",
       "      <td>1.16</td>\n",
       "    </tr>\n",
       "    <tr>\n",
       "      <th>lp[5]</th>\n",
       "      <td>510.628</td>\n",
       "      <td>482.767</td>\n",
       "      <td>0.000</td>\n",
       "      <td>1391.330</td>\n",
       "      <td>124.754</td>\n",
       "      <td>122.856</td>\n",
       "      <td>19.0</td>\n",
       "      <td>17.0</td>\n",
       "      <td>1.18</td>\n",
       "    </tr>\n",
       "    <tr>\n",
       "      <th>b0</th>\n",
       "      <td>100.128</td>\n",
       "      <td>10.118</td>\n",
       "      <td>81.934</td>\n",
       "      <td>119.870</td>\n",
       "      <td>0.168</td>\n",
       "      <td>0.191</td>\n",
       "      <td>3594.0</td>\n",
       "      <td>2223.0</td>\n",
       "      <td>1.00</td>\n",
       "    </tr>\n",
       "    <tr>\n",
       "      <th>b_pop_density</th>\n",
       "      <td>0.096</td>\n",
       "      <td>1.018</td>\n",
       "      <td>-1.735</td>\n",
       "      <td>2.015</td>\n",
       "      <td>0.055</td>\n",
       "      <td>0.015</td>\n",
       "      <td>351.0</td>\n",
       "      <td>1622.0</td>\n",
       "      <td>1.01</td>\n",
       "    </tr>\n",
       "    <tr>\n",
       "      <th>b_hdi</th>\n",
       "      <td>0.051</td>\n",
       "      <td>1.009</td>\n",
       "      <td>-1.817</td>\n",
       "      <td>1.930</td>\n",
       "      <td>0.024</td>\n",
       "      <td>0.017</td>\n",
       "      <td>1849.0</td>\n",
       "      <td>1898.0</td>\n",
       "      <td>1.00</td>\n",
       "    </tr>\n",
       "    <tr>\n",
       "      <th>b_urban</th>\n",
       "      <td>0.078</td>\n",
       "      <td>0.995</td>\n",
       "      <td>-1.711</td>\n",
       "      <td>2.051</td>\n",
       "      <td>0.026</td>\n",
       "      <td>0.017</td>\n",
       "      <td>1500.0</td>\n",
       "      <td>1574.0</td>\n",
       "      <td>1.00</td>\n",
       "    </tr>\n",
       "    <tr>\n",
       "      <th>vae[0]</th>\n",
       "      <td>1132.405</td>\n",
       "      <td>1743.336</td>\n",
       "      <td>-1511.541</td>\n",
       "      <td>4547.228</td>\n",
       "      <td>454.168</td>\n",
       "      <td>455.629</td>\n",
       "      <td>17.0</td>\n",
       "      <td>19.0</td>\n",
       "      <td>1.19</td>\n",
       "    </tr>\n",
       "    <tr>\n",
       "      <th>vae[1]</th>\n",
       "      <td>220.040</td>\n",
       "      <td>319.895</td>\n",
       "      <td>-204.713</td>\n",
       "      <td>854.973</td>\n",
       "      <td>82.672</td>\n",
       "      <td>82.869</td>\n",
       "      <td>18.0</td>\n",
       "      <td>20.0</td>\n",
       "      <td>1.18</td>\n",
       "    </tr>\n",
       "    <tr>\n",
       "      <th>vae[2]</th>\n",
       "      <td>-129.580</td>\n",
       "      <td>198.100</td>\n",
       "      <td>-556.579</td>\n",
       "      <td>203.182</td>\n",
       "      <td>14.688</td>\n",
       "      <td>8.231</td>\n",
       "      <td>130.0</td>\n",
       "      <td>55.0</td>\n",
       "      <td>1.04</td>\n",
       "    </tr>\n",
       "    <tr>\n",
       "      <th>vae[3]</th>\n",
       "      <td>268.755</td>\n",
       "      <td>396.655</td>\n",
       "      <td>-221.648</td>\n",
       "      <td>1145.226</td>\n",
       "      <td>81.833</td>\n",
       "      <td>74.655</td>\n",
       "      <td>26.0</td>\n",
       "      <td>46.0</td>\n",
       "      <td>1.13</td>\n",
       "    </tr>\n",
       "    <tr>\n",
       "      <th>vae[4]</th>\n",
       "      <td>232.323</td>\n",
       "      <td>457.901</td>\n",
       "      <td>-406.772</td>\n",
       "      <td>1274.981</td>\n",
       "      <td>98.680</td>\n",
       "      <td>93.113</td>\n",
       "      <td>23.0</td>\n",
       "      <td>32.0</td>\n",
       "      <td>1.15</td>\n",
       "    </tr>\n",
       "    <tr>\n",
       "      <th>vae[5]</th>\n",
       "      <td>384.314</td>\n",
       "      <td>472.915</td>\n",
       "      <td>-119.380</td>\n",
       "      <td>1306.685</td>\n",
       "      <td>123.559</td>\n",
       "      <td>124.557</td>\n",
       "      <td>18.0</td>\n",
       "      <td>20.0</td>\n",
       "      <td>1.18</td>\n",
       "    </tr>\n",
       "  </tbody>\n",
       "</table>\n",
       "</div>"
      ],
      "text/plain": [
       "                   mean        sd    hdi_3%   hdi_97%  mcse_mean  mcse_sd  \\\n",
       "pred_cases[0]  1326.484  1671.541   -28.919  4378.599    442.507  462.974   \n",
       "pred_cases[1]   363.128   343.604   -18.286   970.093     83.762   75.466   \n",
       "pred_cases[2]   111.373   144.474   -14.259   385.721     14.454    9.440   \n",
       "pred_cases[3]   407.039   401.352   -22.230  1144.018     82.152   76.221   \n",
       "pred_cases[4]   392.611   439.574   -22.368  1236.510     97.474   92.376   \n",
       "pred_cases[5]   510.632   482.710   -18.248  1392.723    124.747  122.860   \n",
       "lp[0]          1326.550  1671.534     0.000  4381.641    442.442  463.043   \n",
       "lp[1]           362.951   343.422     0.000   961.743     83.725   75.510   \n",
       "lp[2]           111.359   144.485     0.000   383.042     14.492    9.366   \n",
       "lp[3]           407.138   401.193     0.000  1146.771     82.235   76.322   \n",
       "lp[4]           392.569   439.465     0.000  1233.005     97.471   92.381   \n",
       "lp[5]           510.628   482.767     0.000  1391.330    124.754  122.856   \n",
       "b0              100.128    10.118    81.934   119.870      0.168    0.191   \n",
       "b_pop_density     0.096     1.018    -1.735     2.015      0.055    0.015   \n",
       "b_hdi             0.051     1.009    -1.817     1.930      0.024    0.017   \n",
       "b_urban           0.078     0.995    -1.711     2.051      0.026    0.017   \n",
       "vae[0]         1132.405  1743.336 -1511.541  4547.228    454.168  455.629   \n",
       "vae[1]          220.040   319.895  -204.713   854.973     82.672   82.869   \n",
       "vae[2]         -129.580   198.100  -556.579   203.182     14.688    8.231   \n",
       "vae[3]          268.755   396.655  -221.648  1145.226     81.833   74.655   \n",
       "vae[4]          232.323   457.901  -406.772  1274.981     98.680   93.113   \n",
       "vae[5]          384.314   472.915  -119.380  1306.685    123.559  124.557   \n",
       "\n",
       "               ess_bulk  ess_tail  r_hat  \n",
       "pred_cases[0]      17.0      19.0   1.19  \n",
       "pred_cases[1]      21.0      24.0   1.16  \n",
       "pred_cases[2]     116.0     359.0   1.03  \n",
       "pred_cases[3]      28.0      42.0   1.13  \n",
       "pred_cases[4]      25.0      30.0   1.15  \n",
       "pred_cases[5]      19.0      17.0   1.18  \n",
       "lp[0]              16.0      19.0   1.21  \n",
       "lp[1]              21.0      24.0   1.16  \n",
       "lp[2]              96.0     151.0   1.04  \n",
       "lp[3]              27.0      42.0   1.14  \n",
       "lp[4]              23.0      30.0   1.16  \n",
       "lp[5]              19.0      17.0   1.18  \n",
       "b0               3594.0    2223.0   1.00  \n",
       "b_pop_density     351.0    1622.0   1.01  \n",
       "b_hdi            1849.0    1898.0   1.00  \n",
       "b_urban          1500.0    1574.0   1.00  \n",
       "vae[0]             17.0      19.0   1.19  \n",
       "vae[1]             18.0      20.0   1.18  \n",
       "vae[2]            130.0      55.0   1.04  \n",
       "vae[3]             26.0      46.0   1.13  \n",
       "vae[4]             23.0      32.0   1.15  \n",
       "vae[5]             18.0      20.0   1.18  "
      ]
     },
     "execution_count": 39,
     "metadata": {},
     "output_type": "execute_result"
    }
   ],
   "source": [
    "# creating  posterior predictive\n",
    "rng_key_pr, rng_key_po = random.split(random.PRNGKey(4))\n",
    "posterior_samples = mcmc.get_samples()\n",
    "posterior_predictive = Predictive(model, posterior_samples)(\n",
    "    rng_key_po, config_count\n",
    ")\n",
    "\n",
    "# transform posterior predictive to arviz inference objects\n",
    "Total_districts = df_lo.shape[0] + df_hi.shape[0]\n",
    "numpyro_data = az.from_numpyro(\n",
    "    mcmc,\n",
    "    posterior_predictive=posterior_predictive,\n",
    "    coords={\"district\": np.arange(Total_districts)},\n",
    "    dims={\"lp\": [\"district\"]},\n",
    ")\n",
    "\n",
    "# %%\n",
    "print(mcmc.print_summary())\n",
    "az.summary(numpyro_data, var_names = [\"pred_cases\", \"lp\", \"b0\", \"b_pop_density\", \"b_hdi\", \"b_urban\", \"vae\"])"
   ]
  },
  {
   "cell_type": "code",
   "execution_count": 47,
   "metadata": {},
   "outputs": [],
   "source": [
    "mean_pred_cases = numpyro_data.posterior.pred_cases.values.mean(axis=(0,1))\n",
    "df_lo['pred_cases'] = mean_pred_cases[:df_lo.shape[0]] / df_lo.Population\n",
    "df_hi['pred_cases'] = mean_pred_cases[df_lo.shape[0]:] / df_hi.Population"
   ]
  },
  {
   "cell_type": "code",
   "execution_count": 48,
   "metadata": {},
   "outputs": [
    {
     "data": {
      "image/png": "[encoded data removed]",
      "text/plain": [
       "<Figure size 1000x500 with 4 Axes>"
      ]
     },
     "metadata": {},
     "output_type": "display_data"
    }
   ],
   "source": [
    "fig, ax = plt.subplots(1, 2, figsize=(10, 5))\n",
    "plot_incidence_map(df_lo, ax = ax[0], title = \"Low-Res Observed Prevalence\")\n",
    "plot_incidence_map(df_lo, plot_col = 'pred_cases', ax = ax[1], title = \"Low-Res Predicted Prevalence\")\n",
    "plt.tight_layout()\n",
    "plt.show()"
   ]
  },
  {
   "cell_type": "code",
   "execution_count": 49,
   "metadata": {},
   "outputs": [
    {
     "data": {
      "image/png": "[encoded data removed]",
      "text/plain": [
       "<Figure size 1000x500 with 4 Axes>"
      ]
     },
     "metadata": {},
     "output_type": "display_data"
    }
   ],
   "source": [
    "fig, ax = plt.subplots(1, 2, figsize=(10, 5))\n",
    "plot_incidence_map(df_hi, ax = ax[0], title = \"High-Res Observed Prevalence\")\n",
    "plot_incidence_map(df_hi, plot_col = 'pred_cases', ax = ax[1], title = \"High-Res Predicted Prevalence\")\n",
    "plt.tight_layout()\n",
    "plt.show()"
   ]
  },
  {
   "cell_type": "code",
   "execution_count": null,
   "metadata": {},
   "outputs": [],
   "source": []
  }
 ],
 "metadata": {
  "kernelspec": {
   "display_name": ".venv",
   "language": "python",
   "name": "python3"
  },
  "language_info": {
   "codemirror_mode": {
    "name": "ipython",
    "version": 3
   },
   "file_extension": ".py",
   "mimetype": "text/x-python",
   "name": "python",
   "nbconvert_exporter": "python",
   "pygments_lexer": "ipython3",
   "version": "3.12.9"
  }
 },
 "nbformat": 4,
 "nbformat_minor": 2
}
