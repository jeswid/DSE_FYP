{
 "cells": [
  {
   "cell_type": "code",
   "execution_count": 11,
   "metadata": {
    "colab": {
     "base_uri": "https://localhost:8080/",
     "height": 383
    },
    "executionInfo": {
     "elapsed": 183,
     "status": "error",
     "timestamp": 1741359868877,
     "user": {
      "displayName": "Jessica Widyawati",
      "userId": "04280305213402302223"
     },
     "user_tz": -480
    },
    "id": "nDjUgPoZOs5y",
    "outputId": "53e2b201-64d6-4eaf-e712-6afb44bda738"
   },
   "outputs": [],
   "source": [
    "import os\n",
    "import math\n",
    "import numpy as np\n",
    "\n",
    "import torch\n",
    "import time\n",
    "\n",
    "import itertools\n",
    "import jax\n",
    "import jax.numpy as jnp\n",
    "from jax import random, lax, jit, ops\n",
    "from jax.example_libraries import stax\n",
    "\n",
    "import numpyro\n",
    "from numpyro.infer import SVI, MCMC, NUTS, init_to_median, Predictive, RenyiELBO\n",
    "import numpyro.distributions as dist\n",
    "\n",
    "import geopandas as gpd\n",
    "import plotly.express as px\n",
    "\n",
    "from termcolor import colored\n",
    "\n",
    "import pickle"
   ]
  },
  {
   "cell_type": "code",
   "execution_count": 12,
   "metadata": {},
   "outputs": [],
   "source": [
    "#define the functions necessary\n",
    "def dist_euclid(x, z):\n",
    "    \"\"\"\n",
    "    Computes Eucledian Distance Between Regions. This function is used by\n",
    "    exp_sq_kernel function (kernel function for gaussian processes)\n",
    "    \"\"\"\n",
    "    x = jnp.array(x) # (ngrid_pts, lat/lon) \n",
    "    z = jnp.array(z) # (ngrid_pts, lat/lon) \n",
    "    if len(x.shape)==1:\n",
    "        x = x.reshape(x.shape[0], 1) \n",
    "    if len(z.shape)==1:\n",
    "        z = x.reshape(x.shape[0], 1) \n",
    "    n_x, m = x.shape \n",
    "    n_z, m_z = z.shape \n",
    "    assert m == m_z\n",
    "    delta = jnp.zeros((n_x,n_z)) #(ngrid_pts,ngrid_pts) \n",
    "    for d in jnp.arange(m):\n",
    "        x_d = x[:,d] #(ngrid_pts-lat/lon,) \n",
    "        z_d = z[:,d] #(ngrid_pts-lat/lon,) \n",
    "        delta += (x_d[:,jnp.newaxis] - z_d)**2 \n",
    "\n",
    "    return jnp.sqrt(delta) \n",
    "\n",
    "def exp_sq_kernel(x, z, var, length, noise, jitter=1.0e-4):\n",
    "    dist = dist_euclid(x, z) \n",
    "    deltaXsq = jnp.power(dist/ length, 2.0)\n",
    "    k = var * jnp.exp(-0.5 * deltaXsq)\n",
    "    k += (noise + jitter) * jnp.eye(x.shape[0])\n",
    "    return k # (ngrid_pts, ngrid_pts) \n",
    "\n",
    "def M_g(M, g):\n",
    "    '''\n",
    "    - $M$ is a matrix with binary entries $m_{ij},$ showing whether point $j$ is in polygon $i$\n",
    "    - $g$ is a vector of GP draws over grid\n",
    "    - $maltmul(M, g)$ gives a vector of sums over each polygon\n",
    "    '''\n",
    "    M = jnp.array(M)\n",
    "    g = jnp.array(g).T\n",
    "    return(jnp.matmul(M, g))"
   ]
  },
  {
   "cell_type": "markdown",
   "metadata": {
    "id": "AOpyAuFOQxOI"
   },
   "source": [
    "# AggVAE Model"
   ]
  },
  {
   "cell_type": "markdown",
   "metadata": {
    "id": "W35Bwle9YtgB"
   },
   "source": [
    "## Function for Predictive Simulation (Prior)"
   ]
  },
  {
   "cell_type": "code",
   "execution_count": 13,
   "metadata": {
    "id": "pqpibNNMYxp5"
   },
   "outputs": [],
   "source": [
    "def gp_aggr(args):\n",
    "    x = args[\"x\"]  # Spatial grid points: (num_grid_points, 2)\n",
    "    gp_kernel = args[\"gp_kernel\"]  # Gaussian Process kernel\n",
    "    noise = args[\"noise\"]\n",
    "    jitter = args[\"jitter\"]\n",
    "\n",
    "    M_lo = args[\"M_lo\"] \n",
    "    M_hi = args[\"M_hi\"]\n",
    "\n",
    "    # GP hyperparameters\n",
    "    kernel_length = numpyro.sample(\"kernel_length\", args[\"kernel_length\"])\n",
    "    kernel_var = numpyro.sample(\"kernel_var\", args[\"kernel_var\"])\n",
    "\n",
    "    # GP Kernel and Sample\n",
    "    k = gp_kernel(x, x, kernel_var, kernel_length, noise, jitter)\n",
    "    f = numpyro.sample(\"f\", dist.MultivariateNormal(loc=jnp.zeros(x.shape[0]), covariance_matrix=k))  # (num_grid_points,)\n",
    "\n",
    "    #aggregate f into gp_aggr according to indexing of (point in polygon)\n",
    "    gp_aggr_lo = numpyro.deterministic(\"gp_aggr_lo\", M_g(M_lo, f)) #(num_regions,) \n",
    "    gp_aggr_hi = numpyro.deterministic(\"gp_aggr_hi\", M_g(M_hi, f))\n",
    "    gp_aggr = numpyro.deterministic(\"gp_aggr\", jnp.concatenate([gp_aggr_lo, gp_aggr_hi])) #(58,)\n",
    "\n",
    "    return gp_aggr"
   ]
  },
  {
   "cell_type": "markdown",
   "metadata": {
    "id": "yjA0_Y9YTBYf"
   },
   "source": [
    "## Define the VAE"
   ]
  },
  {
   "cell_type": "code",
   "execution_count": 14,
   "metadata": {
    "id": "8-qYl8VcTDzq"
   },
   "outputs": [],
   "source": [
    "def vae_encoder(hidden_dim = 50, z_dim = 40):\n",
    "    return stax.serial(\n",
    "        #(num_samples, num_regions) -> (num_samples, hidden_dims)\n",
    "        stax.Dense(hidden_dim, W_init = stax.randn()), \n",
    "        stax.Elu,\n",
    "        stax.FanOut(2),\n",
    "        stax.parallel(\n",
    "            # mean : (num_samples, hidden_dim) -> (num_samples, z_dim)\n",
    "            stax.Dense(z_dim, W_init = stax.randn()), \n",
    "            #std : (num_samples, hidden_dim) -> (num_samples, z_dim)\n",
    "            stax.serial(stax.Dense(z_dim, W_init = stax.randn()), stax.Exp) \n",
    "        )\n",
    "    )\n",
    "\n",
    "def vae_decoder(hidden_dim, out_dim):\n",
    "    return stax.serial(\n",
    "        # (num_samples, z_dim) -> (num_samples, hidden_dim)\n",
    "        stax.Dense(hidden_dim, W_init = stax.randn()),\n",
    "        stax.Elu,\n",
    "        # (num_samples, hidden_dim) -> (num_samples, num_regions) \n",
    "        stax.Dense(out_dim, W_init = stax.randn())\n",
    "    )\n",
    "\n",
    "\n",
    "def vae_model(batch, hidden_dim, z_dim):\n",
    "    \"\"\"This computes the decoder portion\"\"\"\n",
    "    batch = jnp.reshape(batch, (batch.shape[0], -1)) # (num_samples, num_regions) \n",
    "    batch_dim, out_dim = jnp.shape(batch) \n",
    "\n",
    "    # vae-decoder in numpyro module\n",
    "    decode = numpyro.module(\n",
    "        name = \"decoder\",\n",
    "        nn = vae_decoder(hidden_dim = hidden_dim, out_dim = out_dim),\n",
    "        input_shape = (batch_dim, z_dim) \n",
    "    )\n",
    "\n",
    "    # Sample a univariate normal\n",
    "    z = numpyro.sample(\n",
    "        \"z\",\n",
    "        dist.Normal(\n",
    "            jnp.zeros((batch_dim,z_dim)),\n",
    "            jnp.ones((batch_dim,z_dim))\n",
    "            )\n",
    "    ) \n",
    "    # Forward pass from decoder\n",
    "    gen_loc = decode(z) #(num_regions,) \n",
    "    obs = numpyro.sample(\n",
    "        \"obs\",\n",
    "        dist.Normal(gen_loc, args[\"vae_var\"]),\n",
    "        obs = batch\n",
    "    ) #(num_samples, num_regions) \n",
    "    return obs\n",
    "\n",
    "\n",
    "def vae_guide(batch, hidden_dim, z_dim):\n",
    "    \"\"\"This computes the encoder portion\"\"\"\n",
    "    batch = jnp.reshape(batch, (batch.shape[0], -1)) #(num_samples, num_regions) \n",
    "    batch_dim, input_dim = jnp.shape(batch)# num_samples , num_regions \n",
    "\n",
    "    # vae-encoder in numpyro module\n",
    "    encode = numpyro.module(\n",
    "        name = \"encoder\",\n",
    "        nn = vae_encoder(hidden_dim=hidden_dim,z_dim = z_dim),\n",
    "        input_shape = (batch_dim, input_dim)\n",
    "    ) #(num_samples, num_regions) -> (num_samples, hidden_dims) \n",
    "\n",
    "    # Sampling mu, sigma - Pretty much the forward pass\n",
    "    z_loc, z_std = encode(batch) #mu : (num_samples, z_dim), sigma2 : (num_samples, z_dim) \n",
    "    # Sample a value z based on mu and sigma\n",
    "    z = numpyro.sample(\"z\", dist.Normal(z_loc, z_std)) #(num_sample, z_dim) \n",
    "    return z"
   ]
  },
  {
   "cell_type": "markdown",
   "metadata": {
    "id": "EA7tPNDnWgpG"
   },
   "source": [
    "## Train the VAE encoder"
   ]
  },
  {
   "cell_type": "code",
   "execution_count": 15,
   "metadata": {
    "id": "D8_MUf7FWlAX"
   },
   "outputs": [],
   "source": [
    "@jax.jit\n",
    "def epoch_train(rng_key, svi_state, num_train):\n",
    "    def body_fn(i, val):\n",
    "        rng_key_i = jax.random.fold_in(rng_key, i) #Array(2,)\n",
    "        rng_key_i, rng_key_ls, rng_key_var, rng_key_noise = jax.random.split(rng_key_i, 4) #Tuple(Array(2,) x 4)\n",
    "        loss_sum, svi_state = val #val --svi_state\n",
    "\n",
    "        batch = agg_gp_predictive(rng_key_i, args)[\"gp_aggr\"] #(5,116) <- num_samples : 5, total_districts : 116\n",
    "        #* svi is where the vae_model & vae_guide gets applied\n",
    "        svi_state, loss = svi.update(svi_state, batch)\n",
    "        loss_sum += loss / args[\"batch_size\"]\n",
    "        return loss_sum, svi_state\n",
    "\n",
    "    return lax.fori_loop(lower = 0, upper = num_train, body_fun=body_fn, init_val=(0.0, svi_state))\n",
    "\n",
    "@jax.jit\n",
    "def eval_test(rng_key, svi_state, num_test):\n",
    "    def body_fn(i, loss_sum):\n",
    "        rng_key_i = jax.random.fold_in(rng_key, i)\n",
    "        rng_key_i, rng_key_ls, rng_key_varm, rng_key_noise = jax.random.split(rng_key_i, 4)\n",
    "        batch = agg_gp_predictive(rng_key_i, args)[\"gp_aggr\"]\n",
    "        #* svi is where the vae_model & vae_guide gets applied\n",
    "        loss = svi.evaluate(svi_state, batch) / args[\"batch_size\"]\n",
    "        loss_sum += loss\n",
    "        return loss_sum\n",
    "\n",
    "    loss = lax.fori_loop(lower = 0, upper = num_test,body_fun =  body_fn, init_val = 0.0)\n",
    "    loss = loss / num_test\n",
    "    return loss"
   ]
  },
  {
   "cell_type": "markdown",
   "metadata": {
    "id": "HHkZ6dqhTEKl"
   },
   "source": [
    "## Function to plot the GP"
   ]
  },
  {
   "cell_type": "code",
   "execution_count": 16,
   "metadata": {
    "id": "7rke7xN5TJts"
   },
   "outputs": [],
   "source": [
    "def plot_process(gp_draws):\n",
    "    p = px.line()\n",
    "    for i in range(len(gp_draws)):\n",
    "        p.add_scatter(x = np.arange(gp_draws.shape[1]), y = gp_draws[i, :])\n",
    "\n",
    "    p.update_traces(line_color = \"black\")\n",
    "    p.update_layout(\n",
    "        template = \"plotly_white\",\n",
    "        xaxis_title = \"region\", yaxis_title = \"num cases\",\n",
    "        showlegend = False)\n",
    "    p.show()"
   ]
  },
  {
   "cell_type": "markdown",
   "metadata": {
    "id": "Egml-fn9TKMJ"
   },
   "source": [
    "## Load the variables"
   ]
  },
  {
   "cell_type": "code",
   "execution_count": 17,
   "metadata": {
    "id": "veD2sogTTMIc"
   },
   "outputs": [],
   "source": [
    "# Lat/Lon Values of artificial grid\n",
    "x = np.load(\"../data/processed/lat_lon_x_all.npy\")\n",
    "pol_pts_lo = np.load(\"../data/processed/pol_pts_lo.npy\")\n",
    "pol_pts_hi = np.load(\"../data/processed/pol_pts_hi.npy\")"
   ]
  },
  {
   "cell_type": "markdown",
   "metadata": {
    "id": "DgiCqcl7TDwR"
   },
   "source": [
    "## Arguments"
   ]
  },
  {
   "cell_type": "code",
   "execution_count": 18,
   "metadata": {
    "id": "D79oQ7R-THBC"
   },
   "outputs": [],
   "source": [
    "args = {\n",
    "        \"x\": x,\n",
    "        \"gp_kernel\": exp_sq_kernel,\n",
    "        \"noise\": 1e-4,\n",
    "        \"M_lo\": jnp.array(pol_pts_lo),\n",
    "        \"M_hi\": jnp.array(pol_pts_hi),\n",
    "        \"jitter\" : 1e-4,\n",
    "        # VAE training\n",
    "        \"rng_key\": random.PRNGKey(5),\n",
    "        #common num_epochs 20-50\n",
    "        \"num_epochs\": 20,\n",
    "        #learning rate 0.0005 common choice, ADAM optimiser adapts the learning rate accordingly\n",
    "        \"learning_rate\": 0.0005,\n",
    "        #chosen to be 100 (no tune)\n",
    "        \"batch_size\": 100,\n",
    "        #change this to the optimal values after hyperparameter tuning\n",
    "        \"hidden_dim\": 30,\n",
    "        \"z_dim\": 40,\n",
    "        #chosen to be 100 (no tune)\n",
    "        \"num_train\": 100,\n",
    "        \"num_test\":100,\n",
    "        #variance set to 1 bc the latent variable prior distribution is assumed to be normal\n",
    "        \"vae_var\": 1,\n",
    "        \"kernel_length\": dist.InverseGamma(3,3),\n",
    "        \"kernel_var\": dist.HalfNormal(1e-5)\n",
    "    }\n"
   ]
  },
  {
   "cell_type": "markdown",
   "metadata": {},
   "source": [
    "## Prior predictive simulation"
   ]
  },
  {
   "cell_type": "code",
   "execution_count": 19,
   "metadata": {},
   "outputs": [],
   "source": [
    "rng_key, rng_key_ = random.split(random.PRNGKey(4))\n",
    "agg_gp_predictive = Predictive(gp_aggr, num_samples = 5)\n",
    "agg_gp_draws = agg_gp_predictive(rng_key_, args)[\"gp_aggr\"] #(num_samples, num_regions) "
   ]
  },
  {
   "cell_type": "code",
   "execution_count": 20,
   "metadata": {},
   "outputs": [
    {
     "data": {
      "application/vnd.plotly.v1+json": {
       "config": {
        "plotlyServerURL": "https://plot.ly"
       },
       "data": [
        {
         "hovertemplate": "<extra></extra>",
         "legendgroup": "",
         "line": {
          "color": "black",
          "dash": "solid"
         },
         "marker": {
          "symbol": "circle"
         },
         "mode": "lines",
         "name": "",
         "orientation": "v",
         "showlegend": false,
         "type": "scatter",
         "xaxis": "x",
         "yaxis": "y"
        },
        {
         "line": {
          "color": "black"
         },
         "type": "scatter",
         "x": {
          "bdata": "AAABAAIAAwAEAAUABgAHAAgACQAKAAsADAANAA4ADwAQABEAEgATABQAFQAWABcAGAAZABoAGwAcAB0AHgAfACAAIQAiACMAJAAlACYAJwAoACkAKgArACwALQAuAC8AMAAxADIAMwA0ADUANgA3ADgAOQA6ADsAPAA9AD4APwBAAEEAQgBDAEQARQBGAEcASABJAEoASwBMAE0ATgBPAFAAUQBSAFMAVABVAFYAVwBYAFkAWgBbAFwAXQBeAF8AYABhAGIAYwBkAGUAZgBnAGgAaQBqAGsAbABtAG4AbwBwAHEAcgBzAHQAdQB2AHcAeAB5AHoAewB8AH0AfgB/AIAAgQCCAIMAhACFAIYAhwCIAIkAigCLAA==",
          "dtype": "i2"
         },
         "y": {
          "bdata": "NnkkPjZ5JD42eSQ+NnkkPi3PFkEtzxZBLc8WQS3PFkFkufk+ZLn5PmS5+T4bpNg+G6TYPoyfTT6Mn00+jJ9NPqSgpD6koKQ+pKCkPlerBj9XqwY/0H8GP9B/Bj/QfwY/0H8GP8+DmT7Pg5k+z4OZPrigmz+4oJs/uKCbP7igmz+ImBA/iJgQP4iYED/X0gg819IIPEpjhD1KY4Q9SmOEPRylvjscpb47HKW+OxylvjsB1YY9AdWGPQHVhj2Zfsa8mX7GvJt5Q7ybeUO8m3lDvJ7YEbye2BG8ntgRvCIt+jwiLfo8vEEovbxBKL28QSi9RgU+PEYFPjxGBT48xtzzPcbc8z3G3PM9xtzzPcOFsj3DhbI9w4WyPQ6pyLwOqci8aGIPPWhiDz1oYg89k5zQvJOc0LzM+x8/zPsfP8z7Hz/M+x8/rD+aPKw/mjysP5o8sEq6PrBKuj6wSro+sEq6PiCsNj8grDY/floePn5aHj5+Wh4+floePmBkUz9gZFM/YGRTP4rfBz+K3wc/it8HP2S5+T4bpNg+G6TYPoyfTT6koKQ+V6sGP1erBj/Pg5k+JBxwPyQccD8kHHA/JBxwP4iYED/X0gg819IIPEpjhD0B1YY9mX7GvJl+xrybeUO8ntgRvCIt+jwiLfo8vEEovUYFPjzDhbI9DqnIvA6pyLxoYg89k5zQvJOc0Lzqfgk/6n4JP+p+CT/qfgk/rD+aPCCsNj8grDY/YGRTP4rfBz8=",
          "dtype": "f4"
         }
        },
        {
         "line": {
          "color": "black"
         },
         "type": "scatter",
         "x": {
          "bdata": "AAABAAIAAwAEAAUABgAHAAgACQAKAAsADAANAA4ADwAQABEAEgATABQAFQAWABcAGAAZABoAGwAcAB0AHgAfACAAIQAiACMAJAAlACYAJwAoACkAKgArACwALQAuAC8AMAAxADIAMwA0ADUANgA3ADgAOQA6ADsAPAA9AD4APwBAAEEAQgBDAEQARQBGAEcASABJAEoASwBMAE0ATgBPAFAAUQBSAFMAVABVAFYAVwBYAFkAWgBbAFwAXQBeAF8AYABhAGIAYwBkAGUAZgBnAGgAaQBqAGsAbABtAG4AbwBwAHEAcgBzAHQAdQB2AHcAeAB5AHoAewB8AH0AfgB/AIAAgQCCAIMAhACFAIYAhwCIAIkAigCLAA==",
          "dtype": "i2"
         },
         "y": {
          "bdata": "m2BAPptgQD6bYEA+m2BAPvYIGEH2CBhB9ggYQfYIGEFdvic/Xb4nP12+Jz9zW1s+c1tbPgfNYz4HzWM+B81jPh1NRT8dTUU/HU1FP+aKBz/migc/MQGPPzEBjz8xAY8/MQGPPwwWgz0MFoM9DBaDPaJuMj+ibjI/om4yP6JuMj+fXak+n12pPp9dqT4EbYC8BG2AvB7JtjweybY8Hsm2PN9psTzfabE832mxPN9psTzTmKm805ipvNOYqbzmYqU85mKlPGDouzpg6Ls6YOi7OqnkULyp5FC8qeRQvKY5bLymOWy8mBPCPZgTwj2YE8I9CDYLPAg2CzwINgs8TI8nvEyPJ7xMjye8TI8nvN6e+T3envk93p75PblWOry5Vjq80CC2utAgtrrQILa6PICLPTyAiz3iF6k+4hepPuIXqT7iF6k+9CQ3PvQkNz70JDc+JOCkPiTgpD4k4KQ+JOCkPhITlz4SE5c+4wSZP+MEmT/jBJk/4wSZP3bvGz927xs/du8bP8Hbfz/B238/wdt/P12+Jz9zW1s+c1tbPgfNYz4dTUU/5ooHP+aKBz8MFoM9yJ9BP8ifQT/In0E/yJ9BP59dqT4EbYC8BG2AvB7JtjzTmKm85mKlPOZipTxg6Ls6qeRQvKY5bLymOWy8mBPCPQg2Czzenvk9uVY6vLlWOrzQILa6PICLPTyAiz2y6AU+sugFPrLoBT6y6AU+9CQ3PhMTlz4TE5c+du8bP8Lbfz8=",
          "dtype": "f4"
         }
        },
        {
         "line": {
          "color": "black"
         },
         "type": "scatter",
         "x": {
          "bdata": "AAABAAIAAwAEAAUABgAHAAgACQAKAAsADAANAA4ADwAQABEAEgATABQAFQAWABcAGAAZABoAGwAcAB0AHgAfACAAIQAiACMAJAAlACYAJwAoACkAKgArACwALQAuAC8AMAAxADIAMwA0ADUANgA3ADgAOQA6ADsAPAA9AD4APwBAAEEAQgBDAEQARQBGAEcASABJAEoASwBMAE0ATgBPAFAAUQBSAFMAVABVAFYAVwBYAFkAWgBbAFwAXQBeAF8AYABhAGIAYwBkAGUAZgBnAGgAaQBqAGsAbABtAG4AbwBwAHEAcgBzAHQAdQB2AHcAeAB5AHoAewB8AH0AfgB/AIAAgQCCAIMAhACFAIYAhwCIAIkAigCLAA==",
          "dtype": "i2"
         },
         "y": {
          "bdata": "QMspPkDLKT5Ayyk+QMspPg2xnEANsZxADbGcQA2xnEDdnIQ+3ZyEPt2chD6uR3Y+rkd2PoYIXD6GCFw+hghcProWKj+6Fio/uhYqPwt7fT0Le309C2FLPwthSz8LYUs/C2FLP9Z1nr7WdZ6+1nWevrjM7D24zOw9uMzsPbjM7D1nysC9Z8rAvWfKwL2wcU07sHFNO1qHVz1ah1c9WodXPbxuvDy8brw8vG68PLxuvDzdKHs93Sh7Pd0oez3FrR+9xa0fvfEpBDzxKQQ88SkEPP+fSLz/n0i8/59IvNiPB73Yjwe9zct2Pc3Ldj3Ny3Y95DoEveQ6BL3kOgS9omqEPaJqhD2iaoQ9omqEPY0fmT2NH5k9jR+ZPQp7mrsKe5q7KqSBPCqkgTwqpIE8iO9FPYjvRT0m5Lo9JuS6PSbkuj0m5Lo9ZCPZvWQj2b1kI9m9jB2pPowdqT6MHak+jB2pPhDvTz0Q7089xKCuP8Sgrj/EoK4/xKCuP6qk4T2qpOE9qqThPcffmj7H35o+x9+aPt2chD6uR3Y+rkd2PoYIXD66Fio/C3t9PQt7fT3WdZ6+CloNPwpaDT8KWg0/CloNP2fKwL2wcU07sHFNO1qHVz3dKHs9xa0fvcWtH73xKQQ8/59IvNiPB73Yjwe9zct2PeQ6BL2NH5k9Cnuauwp7mrsqpIE8iO9FPYjvRT2nMO49pzDuPacw7j2nMO49ZCPZvRTvTz0U7089qqThPcbfmj4=",
          "dtype": "f4"
         }
        },
        {
         "line": {
          "color": "black"
         },
         "type": "scatter",
         "x": {
          "bdata": "AAABAAIAAwAEAAUABgAHAAgACQAKAAsADAANAA4ADwAQABEAEgATABQAFQAWABcAGAAZABoAGwAcAB0AHgAfACAAIQAiACMAJAAlACYAJwAoACkAKgArACwALQAuAC8AMAAxADIAMwA0ADUANgA3ADgAOQA6ADsAPAA9AD4APwBAAEEAQgBDAEQARQBGAEcASABJAEoASwBMAE0ATgBPAFAAUQBSAFMAVABVAFYAVwBYAFkAWgBbAFwAXQBeAF8AYABhAGIAYwBkAGUAZgBnAGgAaQBqAGsAbABtAG4AbwBwAHEAcgBzAHQAdQB2AHcAeAB5AHoAewB8AH0AfgB/AIAAgQCCAIMAhACFAIYAhwCIAIkAigCLAA==",
          "dtype": "i2"
         },
         "y": {
          "bdata": "pPuwvqT7sL6k+7C+pPuwvmHmI8Fh5iPBYeYjwWHmI8E/Hxi/Px8Yvz8fGL+IDcC+iA3AvlMDC79TAwu/UwMLv5Kkvb+SpL2/kqS9v/t1nL77dZy+6B+8v+gfvL/oH7y/6B+8v1X/Fb5V/xW+Vf8VvrSDgb60g4G+tIOBvrSDgb7qJz2/6ic9v+onPb+nxo68p8aOvPexh733sYe997GHvRGbwL0Rm8C9EZvAvRGbwL2qMrq9qjK6vaoyur2zZ628s2etvJxoVTycaFU8nGhVPBzj0zwc49M8HOPTPLKdnb2ynZ29EBV4OxAVeDsQFXg7qawWvamsFr2prBa9pmHhvaZh4b2mYeG9pmHhvamgAb6poAG+qaABvogIcL2ICHC95YEqvOWBKrzlgSq8ciGWvXIhlr1D9R6+Q/UevkP1Hr5D9R6+updivrqXYr66l2K+7fa/ve32v73t9r+97fa/vQpAir4KQIq+LKnuvyyp7r8sqe6/LKnuv0iAy75IgMu+SIDLvtEhrb7RIa2+0SGtvj8fGL+IDcC+iA3AvlMDC7+SpL2/+3Wcvvt1nL5V/xW+NP5CvzT+Qr80/kK/NP5Cv+onPb+nxo68p8aOvPexh72qMrq9s2etvLNnrbycaFU8HOPTPLKdnb2ynZ29EBV4O6msFr2poAG+iAhwvYgIcL3lgSq8ciGWvXIhlr1dCRw+XQkcPl0JHD5dCRw+updivgtAir4LQIq+SYDLvtEhrb4=",
          "dtype": "f4"
         }
        },
        {
         "line": {
          "color": "black"
         },
         "type": "scatter",
         "x": {
          "bdata": "AAABAAIAAwAEAAUABgAHAAgACQAKAAsADAANAA4ADwAQABEAEgATABQAFQAWABcAGAAZABoAGwAcAB0AHgAfACAAIQAiACMAJAAlACYAJwAoACkAKgArACwALQAuAC8AMAAxADIAMwA0ADUANgA3ADgAOQA6ADsAPAA9AD4APwBAAEEAQgBDAEQARQBGAEcASABJAEoASwBMAE0ATgBPAFAAUQBSAFMAVABVAFYAVwBYAFkAWgBbAFwAXQBeAF8AYABhAGIAYwBkAGUAZgBnAGgAaQBqAGsAbABtAG4AbwBwAHEAcgBzAHQAdQB2AHcAeAB5AHoAewB8AH0AfgB/AIAAgQCCAIMAhACFAIYAhwCIAIkAigCLAA==",
          "dtype": "i2"
         },
         "y": {
          "bdata": "Gu7EvRruxL0a7sS9Gu7EvbljlcC5Y5XAuWOVwLljlcDRdhC/0XYQv9F2EL9kWXG+ZFlxvlCDSbxQg0m8UINJvFR9Cr5UfQq+VH0Kviyh874sofO+x3zmvsd85r7HfOa+x3zmvuuBH77rgR++64EfvlxZur5cWbq+XFm6vlxZur4GHlm+Bh5ZvgYeWb4vIpC7LyKQuzoZOT06GTk9Ohk5PScV5jwnFeY8JxXmPCcV5jx6niO9ep4jvXqeI73eROW83kTlvNrKvjzayr482sq+PD5fgDw+X4A8Pl+APNKbMz3SmzM9bM1Eu2zNRLtszUS7bCHCO2whwjtsIcI7dAdYvXQHWL10B1i9dAdYvR7dZb0e3WW9Ht1lvUNVaDxDVWg8Dm98PA5vfDwOb3w8OLVjuzi1Y7uGQ2y+hkNsvoZDbL6GQ2y+MfVIvTH1SL0x9Ui9YIlPvmCJT75giU++YIlPvv/B+b7/wfm+O3w8vjt8PL47fDy+O3w8vogQa72IEGu9iBBrvUMOKr9DDiq/Qw4qv9F2EL9kWXG+ZFlxvlCDSbxUfQq+LKHzviyh877rgR++ZR6GvmUehr5lHoa+ZR6GvgYeWb4vIpC7LyKQuzoZOT16niO93kTlvN5E5bzayr48Pl+APNKbMz3SmzM9bM1Eu2whwjse3WW9Q1VoPENVaDwOb3w8OLVjuzi1Y7sYmmG9GJphvRiaYb0YmmG9MfVIvf/B+b7/wfm+iRBrvUQOKr8=",
          "dtype": "f4"
         }
        }
       ],
       "layout": {
        "legend": {
         "tracegroupgap": 0
        },
        "margin": {
         "t": 60
        },
        "showlegend": false,
        "template": {
         "data": {
          "bar": [
           {
            "error_x": {
             "color": "#2a3f5f"
            },
            "error_y": {
             "color": "#2a3f5f"
            },
            "marker": {
             "line": {
              "color": "white",
              "width": 0.5
             },
             "pattern": {
              "fillmode": "overlay",
              "size": 10,
              "solidity": 0.2
             }
            },
            "type": "bar"
           }
          ],
          "barpolar": [
           {
            "marker": {
             "line": {
              "color": "white",
              "width": 0.5
             },
             "pattern": {
              "fillmode": "overlay",
              "size": 10,
              "solidity": 0.2
             }
            },
            "type": "barpolar"
           }
          ],
          "carpet": [
           {
            "aaxis": {
             "endlinecolor": "#2a3f5f",
             "gridcolor": "#C8D4E3",
             "linecolor": "#C8D4E3",
             "minorgridcolor": "#C8D4E3",
             "startlinecolor": "#2a3f5f"
            },
            "baxis": {
             "endlinecolor": "#2a3f5f",
             "gridcolor": "#C8D4E3",
             "linecolor": "#C8D4E3",
             "minorgridcolor": "#C8D4E3",
             "startlinecolor": "#2a3f5f"
            },
            "type": "carpet"
           }
          ],
          "choropleth": [
           {
            "colorbar": {
             "outlinewidth": 0,
             "ticks": ""
            },
            "type": "choropleth"
           }
          ],
          "contour": [
           {
            "colorbar": {
             "outlinewidth": 0,
             "ticks": ""
            },
            "colorscale": [
             [
              0,
              "#0d0887"
             ],
             [
              0.1111111111111111,
              "#46039f"
             ],
             [
              0.2222222222222222,
              "#7201a8"
             ],
             [
              0.3333333333333333,
              "#9c179e"
             ],
             [
              0.4444444444444444,
              "#bd3786"
             ],
             [
              0.5555555555555556,
              "#d8576b"
             ],
             [
              0.6666666666666666,
              "#ed7953"
             ],
             [
              0.7777777777777778,
              "#fb9f3a"
             ],
             [
              0.8888888888888888,
              "#fdca26"
             ],
             [
              1,
              "#f0f921"
             ]
            ],
            "type": "contour"
           }
          ],
          "contourcarpet": [
           {
            "colorbar": {
             "outlinewidth": 0,
             "ticks": ""
            },
            "type": "contourcarpet"
           }
          ],
          "heatmap": [
           {
            "colorbar": {
             "outlinewidth": 0,
             "ticks": ""
            },
            "colorscale": [
             [
              0,
              "#0d0887"
             ],
             [
              0.1111111111111111,
              "#46039f"
             ],
             [
              0.2222222222222222,
              "#7201a8"
             ],
             [
              0.3333333333333333,
              "#9c179e"
             ],
             [
              0.4444444444444444,
              "#bd3786"
             ],
             [
              0.5555555555555556,
              "#d8576b"
             ],
             [
              0.6666666666666666,
              "#ed7953"
             ],
             [
              0.7777777777777778,
              "#fb9f3a"
             ],
             [
              0.8888888888888888,
              "#fdca26"
             ],
             [
              1,
              "#f0f921"
             ]
            ],
            "type": "heatmap"
           }
          ],
          "histogram": [
           {
            "marker": {
             "pattern": {
              "fillmode": "overlay",
              "size": 10,
              "solidity": 0.2
             }
            },
            "type": "histogram"
           }
          ],
          "histogram2d": [
           {
            "colorbar": {
             "outlinewidth": 0,
             "ticks": ""
            },
            "colorscale": [
             [
              0,
              "#0d0887"
             ],
             [
              0.1111111111111111,
              "#46039f"
             ],
             [
              0.2222222222222222,
              "#7201a8"
             ],
             [
              0.3333333333333333,
              "#9c179e"
             ],
             [
              0.4444444444444444,
              "#bd3786"
             ],
             [
              0.5555555555555556,
              "#d8576b"
             ],
             [
              0.6666666666666666,
              "#ed7953"
             ],
             [
              0.7777777777777778,
              "#fb9f3a"
             ],
             [
              0.8888888888888888,
              "#fdca26"
             ],
             [
              1,
              "#f0f921"
             ]
            ],
            "type": "histogram2d"
           }
          ],
          "histogram2dcontour": [
           {
            "colorbar": {
             "outlinewidth": 0,
             "ticks": ""
            },
            "colorscale": [
             [
              0,
              "#0d0887"
             ],
             [
              0.1111111111111111,
              "#46039f"
             ],
             [
              0.2222222222222222,
              "#7201a8"
             ],
             [
              0.3333333333333333,
              "#9c179e"
             ],
             [
              0.4444444444444444,
              "#bd3786"
             ],
             [
              0.5555555555555556,
              "#d8576b"
             ],
             [
              0.6666666666666666,
              "#ed7953"
             ],
             [
              0.7777777777777778,
              "#fb9f3a"
             ],
             [
              0.8888888888888888,
              "#fdca26"
             ],
             [
              1,
              "#f0f921"
             ]
            ],
            "type": "histogram2dcontour"
           }
          ],
          "mesh3d": [
           {
            "colorbar": {
             "outlinewidth": 0,
             "ticks": ""
            },
            "type": "mesh3d"
           }
          ],
          "parcoords": [
           {
            "line": {
             "colorbar": {
              "outlinewidth": 0,
              "ticks": ""
             }
            },
            "type": "parcoords"
           }
          ],
          "pie": [
           {
            "automargin": true,
            "type": "pie"
           }
          ],
          "scatter": [
           {
            "fillpattern": {
             "fillmode": "overlay",
             "size": 10,
             "solidity": 0.2
            },
            "type": "scatter"
           }
          ],
          "scatter3d": [
           {
            "line": {
             "colorbar": {
              "outlinewidth": 0,
              "ticks": ""
             }
            },
            "marker": {
             "colorbar": {
              "outlinewidth": 0,
              "ticks": ""
             }
            },
            "type": "scatter3d"
           }
          ],
          "scattercarpet": [
           {
            "marker": {
             "colorbar": {
              "outlinewidth": 0,
              "ticks": ""
             }
            },
            "type": "scattercarpet"
           }
          ],
          "scattergeo": [
           {
            "marker": {
             "colorbar": {
              "outlinewidth": 0,
              "ticks": ""
             }
            },
            "type": "scattergeo"
           }
          ],
          "scattergl": [
           {
            "marker": {
             "colorbar": {
              "outlinewidth": 0,
              "ticks": ""
             }
            },
            "type": "scattergl"
           }
          ],
          "scattermap": [
           {
            "marker": {
             "colorbar": {
              "outlinewidth": 0,
              "ticks": ""
             }
            },
            "type": "scattermap"
           }
          ],
          "scattermapbox": [
           {
            "marker": {
             "colorbar": {
              "outlinewidth": 0,
              "ticks": ""
             }
            },
            "type": "scattermapbox"
           }
          ],
          "scatterpolar": [
           {
            "marker": {
             "colorbar": {
              "outlinewidth": 0,
              "ticks": ""
             }
            },
            "type": "scatterpolar"
           }
          ],
          "scatterpolargl": [
           {
            "marker": {
             "colorbar": {
              "outlinewidth": 0,
              "ticks": ""
             }
            },
            "type": "scatterpolargl"
           }
          ],
          "scatterternary": [
           {
            "marker": {
             "colorbar": {
              "outlinewidth": 0,
              "ticks": ""
             }
            },
            "type": "scatterternary"
           }
          ],
          "surface": [
           {
            "colorbar": {
             "outlinewidth": 0,
             "ticks": ""
            },
            "colorscale": [
             [
              0,
              "#0d0887"
             ],
             [
              0.1111111111111111,
              "#46039f"
             ],
             [
              0.2222222222222222,
              "#7201a8"
             ],
             [
              0.3333333333333333,
              "#9c179e"
             ],
             [
              0.4444444444444444,
              "#bd3786"
             ],
             [
              0.5555555555555556,
              "#d8576b"
             ],
             [
              0.6666666666666666,
              "#ed7953"
             ],
             [
              0.7777777777777778,
              "#fb9f3a"
             ],
             [
              0.8888888888888888,
              "#fdca26"
             ],
             [
              1,
              "#f0f921"
             ]
            ],
            "type": "surface"
           }
          ],
          "table": [
           {
            "cells": {
             "fill": {
              "color": "#EBF0F8"
             },
             "line": {
              "color": "white"
             }
            },
            "header": {
             "fill": {
              "color": "#C8D4E3"
             },
             "line": {
              "color": "white"
             }
            },
            "type": "table"
           }
          ]
         },
         "layout": {
          "annotationdefaults": {
           "arrowcolor": "#2a3f5f",
           "arrowhead": 0,
           "arrowwidth": 1
          },
          "autotypenumbers": "strict",
          "coloraxis": {
           "colorbar": {
            "outlinewidth": 0,
            "ticks": ""
           }
          },
          "colorscale": {
           "diverging": [
            [
             0,
             "#8e0152"
            ],
            [
             0.1,
             "#c51b7d"
            ],
            [
             0.2,
             "#de77ae"
            ],
            [
             0.3,
             "#f1b6da"
            ],
            [
             0.4,
             "#fde0ef"
            ],
            [
             0.5,
             "#f7f7f7"
            ],
            [
             0.6,
             "#e6f5d0"
            ],
            [
             0.7,
             "#b8e186"
            ],
            [
             0.8,
             "#7fbc41"
            ],
            [
             0.9,
             "#4d9221"
            ],
            [
             1,
             "#276419"
            ]
           ],
           "sequential": [
            [
             0,
             "#0d0887"
            ],
            [
             0.1111111111111111,
             "#46039f"
            ],
            [
             0.2222222222222222,
             "#7201a8"
            ],
            [
             0.3333333333333333,
             "#9c179e"
            ],
            [
             0.4444444444444444,
             "#bd3786"
            ],
            [
             0.5555555555555556,
             "#d8576b"
            ],
            [
             0.6666666666666666,
             "#ed7953"
            ],
            [
             0.7777777777777778,
             "#fb9f3a"
            ],
            [
             0.8888888888888888,
             "#fdca26"
            ],
            [
             1,
             "#f0f921"
            ]
           ],
           "sequentialminus": [
            [
             0,
             "#0d0887"
            ],
            [
             0.1111111111111111,
             "#46039f"
            ],
            [
             0.2222222222222222,
             "#7201a8"
            ],
            [
             0.3333333333333333,
             "#9c179e"
            ],
            [
             0.4444444444444444,
             "#bd3786"
            ],
            [
             0.5555555555555556,
             "#d8576b"
            ],
            [
             0.6666666666666666,
             "#ed7953"
            ],
            [
             0.7777777777777778,
             "#fb9f3a"
            ],
            [
             0.8888888888888888,
             "#fdca26"
            ],
            [
             1,
             "#f0f921"
            ]
           ]
          },
          "colorway": [
           "#636efa",
           "#EF553B",
           "#00cc96",
           "#ab63fa",
           "#FFA15A",
           "#19d3f3",
           "#FF6692",
           "#B6E880",
           "#FF97FF",
           "#FECB52"
          ],
          "font": {
           "color": "#2a3f5f"
          },
          "geo": {
           "bgcolor": "white",
           "lakecolor": "white",
           "landcolor": "white",
           "showlakes": true,
           "showland": true,
           "subunitcolor": "#C8D4E3"
          },
          "hoverlabel": {
           "align": "left"
          },
          "hovermode": "closest",
          "mapbox": {
           "style": "light"
          },
          "paper_bgcolor": "white",
          "plot_bgcolor": "white",
          "polar": {
           "angularaxis": {
            "gridcolor": "#EBF0F8",
            "linecolor": "#EBF0F8",
            "ticks": ""
           },
           "bgcolor": "white",
           "radialaxis": {
            "gridcolor": "#EBF0F8",
            "linecolor": "#EBF0F8",
            "ticks": ""
           }
          },
          "scene": {
           "xaxis": {
            "backgroundcolor": "white",
            "gridcolor": "#DFE8F3",
            "gridwidth": 2,
            "linecolor": "#EBF0F8",
            "showbackground": true,
            "ticks": "",
            "zerolinecolor": "#EBF0F8"
           },
           "yaxis": {
            "backgroundcolor": "white",
            "gridcolor": "#DFE8F3",
            "gridwidth": 2,
            "linecolor": "#EBF0F8",
            "showbackground": true,
            "ticks": "",
            "zerolinecolor": "#EBF0F8"
           },
           "zaxis": {
            "backgroundcolor": "white",
            "gridcolor": "#DFE8F3",
            "gridwidth": 2,
            "linecolor": "#EBF0F8",
            "showbackground": true,
            "ticks": "",
            "zerolinecolor": "#EBF0F8"
           }
          },
          "shapedefaults": {
           "line": {
            "color": "#2a3f5f"
           }
          },
          "ternary": {
           "aaxis": {
            "gridcolor": "#DFE8F3",
            "linecolor": "#A2B1C6",
            "ticks": ""
           },
           "baxis": {
            "gridcolor": "#DFE8F3",
            "linecolor": "#A2B1C6",
            "ticks": ""
           },
           "bgcolor": "white",
           "caxis": {
            "gridcolor": "#DFE8F3",
            "linecolor": "#A2B1C6",
            "ticks": ""
           }
          },
          "title": {
           "x": 0.05
          },
          "xaxis": {
           "automargin": true,
           "gridcolor": "#EBF0F8",
           "linecolor": "#EBF0F8",
           "ticks": "",
           "title": {
            "standoff": 15
           },
           "zerolinecolor": "#EBF0F8",
           "zerolinewidth": 2
          },
          "yaxis": {
           "automargin": true,
           "gridcolor": "#EBF0F8",
           "linecolor": "#EBF0F8",
           "ticks": "",
           "title": {
            "standoff": 15
           },
           "zerolinecolor": "#EBF0F8",
           "zerolinewidth": 2
          }
         }
        },
        "xaxis": {
         "anchor": "y",
         "domain": [
          0,
          1
         ],
         "title": {
          "text": "region"
         }
        },
        "yaxis": {
         "anchor": "x",
         "domain": [
          0,
          1
         ],
         "title": {
          "text": "num cases"
         }
        }
       }
      }
     },
     "metadata": {},
     "output_type": "display_data"
    }
   ],
   "source": [
    "# Plotting\n",
    "plot_process(agg_gp_draws)"
   ]
  },
  {
   "cell_type": "markdown",
   "metadata": {},
   "source": [
    "## Hyperparameter tuning (z_dim, h_dim) using grid search"
   ]
  },
  {
   "cell_type": "code",
   "execution_count": null,
   "metadata": {},
   "outputs": [
    {
     "name": "stdout",
     "output_type": "stream",
     "text": [
      "Training with hidden_dim=20, z_dim=20\n",
      "Epoch: 0, Train Loss: 1281.11, Test Loss: 13.84 (2738.94 s)\n"
     ]
    }
   ],
   "source": [
    "# Define hyperparameter grid\n",
    "hidden_dims = [20, 30, 40, 50]\n",
    "z_dims = [20, 30, 40, 50]\n",
    "\n",
    "# Store results\n",
    "test_loss_results_final = {}\n",
    "test_loss_results_mean = {}\n",
    "\n",
    "num_train = args[\"num_train\"]\n",
    "num_test = args[\"num_test\"]\n",
    "num_epochs = args[\"num_epochs\"]\n",
    "\n",
    "for hidden_dim, z_dim in itertools.product(hidden_dims, z_dims):\n",
    "    print(f\"Training with hidden_dim={hidden_dim}, z_dim={z_dim}\")\n",
    "        \n",
    "    args[\"hidden_dim\"] = hidden_dim\n",
    "    args[\"z_dim\"] = z_dim\n",
    "        \n",
    "    # Initialize optimizer and SVI\n",
    "    adam = numpyro.optim.Adam(step_size=args[\"learning_rate\"])\n",
    "    svi = SVI(\n",
    "        vae_model,\n",
    "        vae_guide,\n",
    "        adam,\n",
    "        RenyiELBO(),\n",
    "        hidden_dim=hidden_dim,\n",
    "        z_dim=z_dim\n",
    "    )\n",
    "        \n",
    "    # Split RNG keys\n",
    "    rng_key, rng_key_samp, rng_key_init = random.split(args[\"rng_key\"], 3)\n",
    "    init_batch = agg_gp_predictive(rng_key_samp, args)[\"gp_aggr\"]\n",
    "    \n",
    "    # Initialize SVI state\n",
    "    svi_state = svi.init(rng_key_init, init_batch)\n",
    "        \n",
    "    # Pre-allocate test loss array\n",
    "    test_loss_list = jnp.zeros(num_epochs)\n",
    "        \n",
    "    # Training loop\n",
    "    for epoch in range(num_epochs):\n",
    "        rng_key, rng_key_train, rng_key_test = random.split(rng_key, 3)\n",
    "        t_start = time.time()\n",
    "            \n",
    "        train_loss, svi_state = epoch_train(rng_key_train, svi_state, num_train)\n",
    "        test_loss = eval_test(rng_key_test, svi_state, num_test)\n",
    "        test_loss_list = test_loss_list.at[epoch].set(test_loss)\n",
    "            \n",
    "        print(f\"Epoch: {epoch}, Train Loss: {train_loss:.2f}, Test Loss: {test_loss:.2f} ({time.time() - t_start:.2f} s)\")\n",
    "            \n",
    "        if math.isnan(test_loss):  # Stop early if NaN\n",
    "            print(f\"NaN encountered at hidden_dim={hidden_dim}, z_dim={z_dim}. Skipping...\")\n",
    "            break  # Stop training if NaN occurs\n",
    "        \n",
    "    # Store results only if valid\n",
    "    if not math.isnan(test_loss_list[-1]):\n",
    "        test_loss_results_final[(hidden_dim, z_dim)] = test_loss_list[-1]\n",
    "        test_loss_results_mean[(hidden_dim, z_dim)] = jnp.nanmean(test_loss_list)\n",
    "        print(f\"Final Test loss for hidden_dim={hidden_dim}, z_dim={z_dim}: {test_loss_list[-1]}\")\n",
    "        print(f\"Mean Test loss for hidden_dim={hidden_dim}, z_dim={z_dim}: {jnp.nanmean(test_loss_list)}\")\n",
    "    \n",
    "print(\"Grid search complete.\")\n",
    "print(\"Results:\", test_loss_results_final)\n",
    "print(\"Mean Test Loss Results:\", test_loss_results_mean)"
   ]
  },
  {
   "cell_type": "markdown",
   "metadata": {},
   "source": [
    "### optimal parameters are 50 hidden_dim and 20 z_dim"
   ]
  },
  {
   "cell_type": "markdown",
   "metadata": {
    "id": "Gb1HhnafTooi"
   },
   "source": [
    "## Initiate Training Loop with optimal hyperparameters "
   ]
  },
  {
   "cell_type": "code",
   "execution_count": null,
   "metadata": {
    "id": "_NR2_Or-Tq_E"
   },
   "outputs": [],
   "source": [
    "adam = numpyro.optim.Adam(step_size = args[\"learning_rate\"])\n",
    "svi = SVI(\n",
    "        vae_model,\n",
    "        vae_guide,\n",
    "        adam,\n",
    "        RenyiELBO(),\n",
    "        hidden_dim = args[\"hidden_dim\"],\n",
    "        z_dim = args[\"z_dim\"]\n",
    "    )\n",
    "\n",
    "rng_key, rng_key_samp, rng_key_init = random.split(args[\"rng_key\"],3)\n",
    "#(num_samples, num_regions)\n",
    "init_batch = agg_gp_predictive(rng_key_, args)[\"gp_aggr\"] #(num_samples, num_regions) <- i.e (5,58)\n",
    "svi_state = svi.init(rng_key_init, init_batch)\n",
    "\n",
    "test_loss_list = []"
   ]
  },
  {
   "cell_type": "code",
   "execution_count": null,
   "metadata": {},
   "outputs": [
    {
     "name": "stdout",
     "output_type": "stream",
     "text": [
      "Epoch : 0, train loss : 4832.24, test loss : 4.76 (214.08 s.)\n",
      "Epoch : 1, train loss : 4780.85, test loss : 4.72 (213.74 s.)\n",
      "Epoch : 2, train loss : 4741.84, test loss : 4.73 (213.64 s.)\n",
      "Epoch : 3, train loss : 4727.01, test loss : 4.74 (213.71 s.)\n",
      "Epoch : 4, train loss : 4732.86, test loss : 4.73 (213.87 s.)\n",
      "Epoch : 5, train loss : 4720.53, test loss : 4.71 (214.00 s.)\n",
      "Epoch : 6, train loss : 4708.59, test loss : 4.70 (214.04 s.)\n",
      "Epoch : 7, train loss : 4708.42, test loss : 4.69 (213.91 s.)\n",
      "Epoch : 8, train loss : 4707.25, test loss : 4.72 (213.81 s.)\n",
      "Epoch : 9, train loss : 4706.12, test loss : 4.71 (213.74 s.)\n",
      "Epoch : 10, train loss : 4701.12, test loss : 4.70 (213.68 s.)\n",
      "Epoch : 11, train loss : 4697.85, test loss : 4.70 (213.65 s.)\n",
      "Epoch : 12, train loss : 4694.84, test loss : 4.70 (213.67 s.)\n",
      "Epoch : 13, train loss : 4698.27, test loss : 4.69 (213.84 s.)\n",
      "Epoch : 14, train loss : 4699.49, test loss : 4.69 (213.99 s.)\n",
      "Epoch : 15, train loss : 4700.86, test loss : 4.69 (214.07 s.)\n",
      "Epoch : 16, train loss : 4698.03, test loss : 4.69 (213.97 s.)\n",
      "Epoch : 17, train loss : 4698.32, test loss : 4.69 (213.86 s.)\n",
      "Epoch : 18, train loss : 4694.20, test loss : 4.70 (213.78 s.)\n",
      "Epoch : 19, train loss : 4703.44, test loss : 4.70 (213.74 s.)\n"
     ]
    }
   ],
   "source": [
    "for i in range(args[\"num_epochs\"]):\n",
    "    rng_key, rng_key_train, rng_key_test, rng_key_infer = random.split(rng_key, 4)\n",
    "    t_start = time.time()\n",
    "\n",
    "    num_train = 1000\n",
    "    # Where forward/backward pass gets called for train\n",
    "    train_loss , svi_state = epoch_train(rng_key_train, svi_state, num_train)\n",
    "\n",
    "    num_test = 1000\n",
    "    \n",
    "    # Where forward/backward pass gets called for test\n",
    "    test_loss = eval_test(rng_key_test, svi_state, num_test)\n",
    "    test_loss_list += [test_loss]\n",
    "\n",
    "    print(\"Epoch : {}, train loss : {:.2f}, test loss : {:.2f} ({:.2f} s.)\".format(i, train_loss, test_loss, time.time() - t_start))\n",
    "\n",
    "    if math.isnan(test_loss):\n",
    "        break"
   ]
  },
  {
   "cell_type": "code",
   "execution_count": null,
   "metadata": {},
   "outputs": [],
   "source": [
    "#extract the decoder\n",
    "decoder_params = svi.get_params(svi_state)"
   ]
  },
  {
   "cell_type": "markdown",
   "metadata": {
    "id": "4fldbVSkT0RR"
   },
   "source": [
    "## Save the decoder"
   ]
  },
  {
   "cell_type": "code",
   "execution_count": null,
   "metadata": {
    "id": "v9zDJExcT1OB"
   },
   "outputs": [
    {
     "name": "stdout",
     "output_type": "stream",
     "text": [
      "Decoder parameters saved to /home/jupyter-jwidyawati/model_weights/aggVAE/aggVAE_e20_h50_z20\n"
     ]
    }
   ],
   "source": [
    "# Get script directory\n",
    "script_dir = os.getcwd()  # Get current working directory\n",
    "\n",
    "# Define the correct save path inside model_weights/\n",
    "save_dir = os.path.abspath(os.path.join(script_dir, \"..\", \"model_weights\", \"aggVAE\"))\n",
    "os.makedirs(save_dir, exist_ok=True)  # Ensure the directory exists\n",
    "\n",
    "# Save decoder parameters\n",
    "save_path = os.path.join(save_dir, f\"aggVAE_e{args['num_epochs']}_h{args['hidden_dim']}_z{args['z_dim']}\")\n",
    "\n",
    "with open(save_path, \"wb\") as file:\n",
    "    pickle.dump(decoder_params, file)\n",
    "\n",
    "print(f\"Decoder parameters saved to {save_path}\")"
   ]
  }
 ],
 "metadata": {
  "colab": {
   "authorship_tag": "ABX9TyNShaHgowPI8Lg77TRpeLq/",
   "provenance": []
  },
  "kernelspec": {
   "display_name": "Python 3",
   "language": "python",
   "name": "python3"
  },
  "language_info": {
   "codemirror_mode": {
    "name": "ipython",
    "version": 3
   },
   "file_extension": ".py",
   "mimetype": "text/x-python",
   "name": "python",
   "nbconvert_exporter": "python",
   "pygments_lexer": "ipython3",
   "version": "3.13.1"
  }
 },
 "nbformat": 4,
 "nbformat_minor": 4
}
