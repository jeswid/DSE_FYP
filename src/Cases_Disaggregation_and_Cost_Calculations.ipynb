{
  "cells": [
    {
      "cell_type": "markdown",
      "metadata": {},
      "source": [
        "### Description: This script is used to implement section 5.3 and produces values for tables 12 - 15."
      ]
    },
    {
      "cell_type": "markdown",
      "metadata": {
        "id": "3ZWYClTlMV62"
      },
      "source": [
        "### Load libraries"
      ]
    },
    {
      "cell_type": "code",
      "execution_count": 1,
      "metadata": {
        "id": "mIL0szGyMC0G"
      },
      "outputs": [],
      "source": [
        "# Load libraries\n",
        "import pandas as pd\n",
        "import numpy as np\n",
        "import matplotlib.pyplot as plt\n",
        "import os\n",
        "import seaborn as sns\n",
        "import geopandas as gpd\n",
        "from sklearn.metrics import mean_absolute_error, mean_squared_error, mean_absolute_percentage_error\n"
      ]
    },
    {
      "cell_type": "markdown",
      "metadata": {
        "id": "tkeUYEujheln"
      },
      "source": [
        "### Read data"
      ]
    },
    {
      "cell_type": "code",
      "execution_count": 2,
      "metadata": {
        "id": "THLw95hOhfp9"
      },
      "outputs": [],
      "source": [
        "cost = pd.read_csv('../data/processed/cost_observed.csv')\n",
        "low = gpd.read_file('../data/processed/jkt_prov.shp')\n",
        "high = gpd.read_file('../data/processed/jkt_dist.shp')\n",
        "rf_preds = pd.read_csv('../data/processed/rf_preds.csv')"
      ]
    },
    {
      "cell_type": "code",
      "execution_count": 3,
      "metadata": {},
      "outputs": [
        {
          "data": {
            "text/plain": [
              "6"
            ]
          },
          "execution_count": 3,
          "metadata": {},
          "output_type": "execute_result"
        }
      ],
      "source": [
        "rf_preds.dropna()[\"Predicted_Cases\"].nunique()"
      ]
    },
    {
      "cell_type": "markdown",
      "metadata": {
        "id": "KNGzUm9flx0W"
      },
      "source": [
        "### Process data"
      ]
    },
    {
      "cell_type": "code",
      "execution_count": 4,
      "metadata": {
        "colab": {
          "base_uri": "https://localhost:8080/",
          "height": 0
        },
        "id": "SlzjhmCXh_b5",
        "outputId": "eb81aee6-1528-46f1-989f-7f3dde7b77be"
      },
      "outputs": [
        {
          "data": {
            "text/html": [
              "<div>\n",
              "<style scoped>\n",
              "    .dataframe tbody tr th:only-of-type {\n",
              "        vertical-align: middle;\n",
              "    }\n",
              "\n",
              "    .dataframe tbody tr th {\n",
              "        vertical-align: top;\n",
              "    }\n",
              "\n",
              "    .dataframe thead th {\n",
              "        text-align: right;\n",
              "    }\n",
              "</style>\n",
              "<table border=\"1\" class=\"dataframe\">\n",
              "  <thead>\n",
              "    <tr style=\"text-align: right;\">\n",
              "      <th></th>\n",
              "      <th>Province</th>\n",
              "      <th>Year</th>\n",
              "      <th>Cases</th>\n",
              "      <th>Population</th>\n",
              "      <th>HDI</th>\n",
              "      <th>Area_sq_km</th>\n",
              "      <th>Pop_den</th>\n",
              "      <th>urbanicity</th>\n",
              "      <th>geometry</th>\n",
              "    </tr>\n",
              "  </thead>\n",
              "  <tbody>\n",
              "    <tr>\n",
              "      <th>0</th>\n",
              "      <td>DKI Jakarta</td>\n",
              "      <td>2020</td>\n",
              "      <td>1217</td>\n",
              "      <td>801232</td>\n",
              "      <td>0.82088</td>\n",
              "      <td>653.83</td>\n",
              "      <td>1.225444</td>\n",
              "      <td>0.931345</td>\n",
              "      <td>MULTIPOLYGON (((106.84094 -6.34198, 106.8407 -...</td>\n",
              "    </tr>\n",
              "    <tr>\n",
              "      <th>1</th>\n",
              "      <td>DKI Jakarta</td>\n",
              "      <td>2021</td>\n",
              "      <td>1048</td>\n",
              "      <td>796729</td>\n",
              "      <td>0.82340</td>\n",
              "      <td>653.83</td>\n",
              "      <td>1.218557</td>\n",
              "      <td>0.931345</td>\n",
              "      <td>MULTIPOLYGON (((106.84094 -6.34198, 106.8407 -...</td>\n",
              "    </tr>\n",
              "    <tr>\n",
              "      <th>2</th>\n",
              "      <td>DKI Jakarta</td>\n",
              "      <td>2022</td>\n",
              "      <td>2113</td>\n",
              "      <td>792228</td>\n",
              "      <td>0.82818</td>\n",
              "      <td>650.50</td>\n",
              "      <td>1.217875</td>\n",
              "      <td>0.931345</td>\n",
              "      <td>MULTIPOLYGON (((106.84094 -6.34198, 106.8407 -...</td>\n",
              "    </tr>\n",
              "    <tr>\n",
              "      <th>3</th>\n",
              "      <td>DKI Jakarta</td>\n",
              "      <td>2023</td>\n",
              "      <td>1562</td>\n",
              "      <td>787726</td>\n",
              "      <td>0.83372</td>\n",
              "      <td>650.25</td>\n",
              "      <td>1.211420</td>\n",
              "      <td>0.931345</td>\n",
              "      <td>MULTIPOLYGON (((106.84094 -6.34198, 106.8407 -...</td>\n",
              "    </tr>\n",
              "  </tbody>\n",
              "</table>\n",
              "</div>"
            ],
            "text/plain": [
              "      Province  Year  Cases  Population      HDI  Area_sq_km   Pop_den  \\\n",
              "0  DKI Jakarta  2020   1217      801232  0.82088      653.83  1.225444   \n",
              "1  DKI Jakarta  2021   1048      796729  0.82340      653.83  1.218557   \n",
              "2  DKI Jakarta  2022   2113      792228  0.82818      650.50  1.217875   \n",
              "3  DKI Jakarta  2023   1562      787726  0.83372      650.25  1.211420   \n",
              "\n",
              "   urbanicity                                           geometry  \n",
              "0    0.931345  MULTIPOLYGON (((106.84094 -6.34198, 106.8407 -...  \n",
              "1    0.931345  MULTIPOLYGON (((106.84094 -6.34198, 106.8407 -...  \n",
              "2    0.931345  MULTIPOLYGON (((106.84094 -6.34198, 106.8407 -...  \n",
              "3    0.931345  MULTIPOLYGON (((106.84094 -6.34198, 106.8407 -...  "
            ]
          },
          "execution_count": 4,
          "metadata": {},
          "output_type": "execute_result"
        }
      ],
      "source": [
        "#first method of disaggregation, divide the cases evenly among all the districts\n",
        "#firstly, extract the total number of cases in DKI Jakarta, so high['Cases'] when high['Province'] == 'DKI Jakarta', for every year\n",
        "df_jakarta = low[low['Province'] == 'DKI Jakarta']\n",
        "\n",
        "df_jakarta.head()"
      ]
    },
    {
      "cell_type": "code",
      "execution_count": 5,
      "metadata": {
        "id": "tK0XzQZHjMiQ"
      },
      "outputs": [],
      "source": [
        "#create a dataframe containing total number of cases in dengue in each year from dki jakarta n west java df\n",
        "df_jakarta_yearly_total_cases = pd.DataFrame(df_jakarta.groupby('Year')['Cases'].sum())"
      ]
    },
    {
      "cell_type": "code",
      "execution_count": 6,
      "metadata": {
        "colab": {
          "base_uri": "https://localhost:8080/",
          "height": 0
        },
        "id": "2e0KY0sVjWmY",
        "outputId": "35b6cac0-79fb-432a-8e3b-829d4a20fd80"
      },
      "outputs": [
        {
          "data": {
            "text/html": [
              "<div>\n",
              "<style scoped>\n",
              "    .dataframe tbody tr th:only-of-type {\n",
              "        vertical-align: middle;\n",
              "    }\n",
              "\n",
              "    .dataframe tbody tr th {\n",
              "        vertical-align: top;\n",
              "    }\n",
              "\n",
              "    .dataframe thead th {\n",
              "        text-align: right;\n",
              "    }\n",
              "</style>\n",
              "<table border=\"1\" class=\"dataframe\">\n",
              "  <thead>\n",
              "    <tr style=\"text-align: right;\">\n",
              "      <th></th>\n",
              "      <th>Cases</th>\n",
              "    </tr>\n",
              "    <tr>\n",
              "      <th>Year</th>\n",
              "      <th></th>\n",
              "    </tr>\n",
              "  </thead>\n",
              "  <tbody>\n",
              "    <tr>\n",
              "      <th>2020</th>\n",
              "      <td>1217</td>\n",
              "    </tr>\n",
              "    <tr>\n",
              "      <th>2021</th>\n",
              "      <td>1048</td>\n",
              "    </tr>\n",
              "    <tr>\n",
              "      <th>2022</th>\n",
              "      <td>2113</td>\n",
              "    </tr>\n",
              "    <tr>\n",
              "      <th>2023</th>\n",
              "      <td>1562</td>\n",
              "    </tr>\n",
              "  </tbody>\n",
              "</table>\n",
              "</div>"
            ],
            "text/plain": [
              "      Cases\n",
              "Year       \n",
              "2020   1217\n",
              "2021   1048\n",
              "2022   2113\n",
              "2023   1562"
            ]
          },
          "execution_count": 6,
          "metadata": {},
          "output_type": "execute_result"
        }
      ],
      "source": [
        "#check head\n",
        "df_jakarta_yearly_total_cases.head()"
      ]
    },
    {
      "cell_type": "markdown",
      "metadata": {
        "id": "LWnuFo9emEk6"
      },
      "source": [
        "### Disaggregation with equal proportions and cost calculations"
      ]
    },
    {
      "cell_type": "code",
      "execution_count": 7,
      "metadata": {
        "id": "kZeZM_I8jG3e"
      },
      "outputs": [],
      "source": [
        "#from this, extract the total number of districts in DKI Jakarta from high df, so count the number of unique values of district when province column = dki jakarta\n",
        "df_jakarta_districts = len(pd.DataFrame(high[high['Province'] == 'DKI Jakarta']['District'].unique()))"
      ]
    },
    {
      "cell_type": "code",
      "execution_count": 8,
      "metadata": {
        "colab": {
          "base_uri": "https://localhost:8080/"
        },
        "id": "6VxqXMMljjeX",
        "outputId": "07eff53b-33ad-4732-edc7-462cd77a155e"
      },
      "outputs": [
        {
          "name": "stdout",
          "output_type": "stream",
          "text": [
            "5\n"
          ]
        }
      ],
      "source": [
        "print(df_jakarta_districts)"
      ]
    },
    {
      "cell_type": "code",
      "execution_count": 9,
      "metadata": {
        "colab": {
          "base_uri": "https://localhost:8080/"
        },
        "id": "ECMl033Pj5dr",
        "outputId": "ec4ad3cf-f5ee-4664-c094-9902abf18c6a"
      },
      "outputs": [
        {
          "name": "stderr",
          "output_type": "stream",
          "text": [
            "C:\\Users\\jessi\\AppData\\Local\\Temp\\ipykernel_20856\\2028081681.py:2: FutureWarning: Calling int on a single element Series is deprecated and will raise a TypeError in the future. Use int(ser.iloc[0]) instead\n",
            "  year_2020_jkt = int(df_jakarta_yearly_total_cases.loc[2020] / df_jakarta_districts)\n",
            "C:\\Users\\jessi\\AppData\\Local\\Temp\\ipykernel_20856\\2028081681.py:3: FutureWarning: Calling int on a single element Series is deprecated and will raise a TypeError in the future. Use int(ser.iloc[0]) instead\n",
            "  year_2021_jkt = int(df_jakarta_yearly_total_cases.loc[2021] / df_jakarta_districts)\n",
            "C:\\Users\\jessi\\AppData\\Local\\Temp\\ipykernel_20856\\2028081681.py:4: FutureWarning: Calling int on a single element Series is deprecated and will raise a TypeError in the future. Use int(ser.iloc[0]) instead\n",
            "  year_2022_jkt = int(df_jakarta_yearly_total_cases.loc[2022] / df_jakarta_districts)\n",
            "C:\\Users\\jessi\\AppData\\Local\\Temp\\ipykernel_20856\\2028081681.py:5: FutureWarning: Calling int on a single element Series is deprecated and will raise a TypeError in the future. Use int(ser.iloc[0]) instead\n",
            "  year_2023_jkt = int(df_jakarta_yearly_total_cases.loc[2023] / df_jakarta_districts)\n"
          ]
        }
      ],
      "source": [
        "#list out all the district - level dengue cases estimates each year\n",
        "year_2020_jkt = int(df_jakarta_yearly_total_cases.loc[2020] / df_jakarta_districts)\n",
        "year_2021_jkt = int(df_jakarta_yearly_total_cases.loc[2021] / df_jakarta_districts)\n",
        "year_2022_jkt = int(df_jakarta_yearly_total_cases.loc[2022] / df_jakarta_districts)\n",
        "year_2023_jkt = int(df_jakarta_yearly_total_cases.loc[2023] / df_jakarta_districts)"
      ]
    },
    {
      "cell_type": "code",
      "execution_count": 10,
      "metadata": {
        "id": "cUUPhnhUkqTL"
      },
      "outputs": [],
      "source": [
        "#append the disaggregated counts to the high_res file ina  new column called cases_bm_equal, only if the Province column is dki jakarta\n",
        "high.loc[(high['Province'] == 'DKI Jakarta') & (high['Year'] == 2020), 'cases_bm_equal'] = year_2020_jkt\n",
        "high.loc[(high['Province'] == 'DKI Jakarta') & (high['Year'] == 2021), 'cases_bm_equal'] = year_2021_jkt\n",
        "high.loc[(high['Province'] == 'DKI Jakarta') & (high['Year'] == 2022), 'cases_bm_equal'] = year_2022_jkt\n",
        "high.loc[(high['Province'] == 'DKI Jakarta') & (high['Year'] == 2023), 'cases_bm_equal'] = year_2023_jkt"
      ]
    },
    {
      "cell_type": "code",
      "execution_count": 11,
      "metadata": {
        "colab": {
          "base_uri": "https://localhost:8080/",
          "height": 379
        },
        "id": "QoOf38tlmteh",
        "outputId": "2ff4f6e2-081f-4864-8d39-0dd59ab00738"
      },
      "outputs": [
        {
          "data": {
            "text/html": [
              "<div>\n",
              "<style scoped>\n",
              "    .dataframe tbody tr th:only-of-type {\n",
              "        vertical-align: middle;\n",
              "    }\n",
              "\n",
              "    .dataframe tbody tr th {\n",
              "        vertical-align: top;\n",
              "    }\n",
              "\n",
              "    .dataframe thead th {\n",
              "        text-align: right;\n",
              "    }\n",
              "</style>\n",
              "<table border=\"1\" class=\"dataframe\">\n",
              "  <thead>\n",
              "    <tr style=\"text-align: right;\">\n",
              "      <th></th>\n",
              "      <th>District</th>\n",
              "      <th>Year</th>\n",
              "      <th>Area_sq_km</th>\n",
              "      <th>HDI</th>\n",
              "      <th>Province</th>\n",
              "      <th>Cases</th>\n",
              "      <th>Population</th>\n",
              "      <th>Pop_den</th>\n",
              "      <th>urbanicity</th>\n",
              "      <th>geometry</th>\n",
              "      <th>cases_bm_equal</th>\n",
              "    </tr>\n",
              "  </thead>\n",
              "  <tbody>\n",
              "    <tr>\n",
              "      <th>0</th>\n",
              "      <td>KOTA JAKARTA BARAT</td>\n",
              "      <td>2020</td>\n",
              "      <td>124.44</td>\n",
              "      <td>0.8138</td>\n",
              "      <td>DKI Jakarta</td>\n",
              "      <td>161</td>\n",
              "      <td>184826</td>\n",
              "      <td>1.485262</td>\n",
              "      <td>0.951917</td>\n",
              "      <td>POLYGON ((106.70503 -6.0956, 106.70526 -6.0956...</td>\n",
              "      <td>243.0</td>\n",
              "    </tr>\n",
              "    <tr>\n",
              "      <th>1</th>\n",
              "      <td>KOTA JAKARTA BARAT</td>\n",
              "      <td>2021</td>\n",
              "      <td>124.44</td>\n",
              "      <td>0.8176</td>\n",
              "      <td>DKI Jakarta</td>\n",
              "      <td>138</td>\n",
              "      <td>183270</td>\n",
              "      <td>1.472758</td>\n",
              "      <td>0.951917</td>\n",
              "      <td>POLYGON ((106.70503 -6.0956, 106.70526 -6.0956...</td>\n",
              "      <td>209.0</td>\n",
              "    </tr>\n",
              "    <tr>\n",
              "      <th>2</th>\n",
              "      <td>KOTA JAKARTA BARAT</td>\n",
              "      <td>2022</td>\n",
              "      <td>125.00</td>\n",
              "      <td>0.8251</td>\n",
              "      <td>DKI Jakarta</td>\n",
              "      <td>420</td>\n",
              "      <td>181715</td>\n",
              "      <td>1.453720</td>\n",
              "      <td>0.951917</td>\n",
              "      <td>POLYGON ((106.70503 -6.0956, 106.70526 -6.0956...</td>\n",
              "      <td>422.0</td>\n",
              "    </tr>\n",
              "    <tr>\n",
              "      <th>3</th>\n",
              "      <td>KOTA JAKARTA BARAT</td>\n",
              "      <td>2023</td>\n",
              "      <td>125.00</td>\n",
              "      <td>0.8302</td>\n",
              "      <td>DKI Jakarta</td>\n",
              "      <td>359</td>\n",
              "      <td>180159</td>\n",
              "      <td>1.441272</td>\n",
              "      <td>0.951917</td>\n",
              "      <td>POLYGON ((106.70503 -6.0956, 106.70526 -6.0956...</td>\n",
              "      <td>312.0</td>\n",
              "    </tr>\n",
              "    <tr>\n",
              "      <th>4</th>\n",
              "      <td>KOTA JAKARTA PUSAT</td>\n",
              "      <td>2020</td>\n",
              "      <td>52.38</td>\n",
              "      <td>0.8139</td>\n",
              "      <td>DKI Jakarta</td>\n",
              "      <td>127</td>\n",
              "      <td>73140</td>\n",
              "      <td>1.396334</td>\n",
              "      <td>0.993514</td>\n",
              "      <td>POLYGON ((106.83247 -6.14138, 106.83282 -6.141...</td>\n",
              "      <td>243.0</td>\n",
              "    </tr>\n",
              "  </tbody>\n",
              "</table>\n",
              "</div>"
            ],
            "text/plain": [
              "             District  Year  Area_sq_km     HDI     Province  Cases  \\\n",
              "0  KOTA JAKARTA BARAT  2020      124.44  0.8138  DKI Jakarta    161   \n",
              "1  KOTA JAKARTA BARAT  2021      124.44  0.8176  DKI Jakarta    138   \n",
              "2  KOTA JAKARTA BARAT  2022      125.00  0.8251  DKI Jakarta    420   \n",
              "3  KOTA JAKARTA BARAT  2023      125.00  0.8302  DKI Jakarta    359   \n",
              "4  KOTA JAKARTA PUSAT  2020       52.38  0.8139  DKI Jakarta    127   \n",
              "\n",
              "   Population   Pop_den  urbanicity  \\\n",
              "0      184826  1.485262    0.951917   \n",
              "1      183270  1.472758    0.951917   \n",
              "2      181715  1.453720    0.951917   \n",
              "3      180159  1.441272    0.951917   \n",
              "4       73140  1.396334    0.993514   \n",
              "\n",
              "                                            geometry  cases_bm_equal  \n",
              "0  POLYGON ((106.70503 -6.0956, 106.70526 -6.0956...           243.0  \n",
              "1  POLYGON ((106.70503 -6.0956, 106.70526 -6.0956...           209.0  \n",
              "2  POLYGON ((106.70503 -6.0956, 106.70526 -6.0956...           422.0  \n",
              "3  POLYGON ((106.70503 -6.0956, 106.70526 -6.0956...           312.0  \n",
              "4  POLYGON ((106.83247 -6.14138, 106.83282 -6.141...           243.0  "
            ]
          },
          "execution_count": 11,
          "metadata": {},
          "output_type": "execute_result"
        }
      ],
      "source": [
        "high.head()"
      ]
    },
    {
      "cell_type": "code",
      "execution_count": 12,
      "metadata": {},
      "outputs": [],
      "source": [
        "#append the cases_bm_equal column to NBM table\n",
        "cost = cost.merge(high[[\"Province\", \"District\", \"Year\", \"cases_bm_equal\"]], on = [\"Province\", \"District\", \"Year\"], how = \"left\")"
      ]
    },
    {
      "cell_type": "code",
      "execution_count": 13,
      "metadata": {},
      "outputs": [
        {
          "data": {
            "text/plain": [
              "20"
            ]
          },
          "execution_count": 13,
          "metadata": {},
          "output_type": "execute_result"
        }
      ],
      "source": [
        "len(cost.dropna())"
      ]
    },
    {
      "cell_type": "code",
      "execution_count": 14,
      "metadata": {
        "id": "92ixIE9bq4oh"
      },
      "outputs": [],
      "source": [
        "#calculate incremental cost for disaggregation with equal proportions\n",
        "#aggregate again, calculate sum_cases based on cases_bm_equal predictions\n",
        "\n",
        "cost['equal_bm_prevalence'] = cost['cases_bm_equal'] / cost['Population']\n",
        "\n",
        "mean_obs_prev = cost[\"equal_bm_prevalence\"].mean()\n",
        "cost[\"prev_factor\"] = cost[\"equal_bm_prevalence\"] / mean_obs_prev\n"
      ]
    },
    {
      "cell_type": "code",
      "execution_count": 15,
      "metadata": {
        "id": "UrSISy3q4aEY"
      },
      "outputs": [],
      "source": [
        "# Scale costs\n",
        "# Incremental cost per district, yearly (scaled by no of dengue cases in each district)\n",
        "cost[\"equal_bm_incremental_healthcare_cost\"] = (\n",
        "    cost[\"healthcare_cost_vaccine\"] - cost[\"healthcare_cost_non_vaccine\"]) * cost[\"prev_factor\"] * cost[\"urbanicity_factor\"] * cost[\"pop_den_factor\"]\n",
        "\n",
        "cost[\"equal_bm_incremental_payer_cost\"] = (\n",
        "    cost[\"payer_cost_vaccine\"] - cost[\"payer_cost_non_vaccine\"]) * cost[\"prev_factor\"] * cost[\"urbanicity_factor\"] * cost[\"pop_den_factor\"]"
      ]
    },
    {
      "cell_type": "markdown",
      "metadata": {
        "id": "deks7EDZ5ga6"
      },
      "source": [
        "### Population-proportion disaggregation and cost calculations"
      ]
    },
    {
      "cell_type": "code",
      "execution_count": 16,
      "metadata": {
        "colab": {
          "base_uri": "https://localhost:8080/",
          "height": 0
        },
        "id": "hT35jqLQ5j3-",
        "outputId": "94091ae6-a2fe-4414-db17-3245641ec73a"
      },
      "outputs": [
        {
          "data": {
            "text/html": [
              "<div>\n",
              "<style scoped>\n",
              "    .dataframe tbody tr th:only-of-type {\n",
              "        vertical-align: middle;\n",
              "    }\n",
              "\n",
              "    .dataframe tbody tr th {\n",
              "        vertical-align: top;\n",
              "    }\n",
              "\n",
              "    .dataframe thead th {\n",
              "        text-align: right;\n",
              "    }\n",
              "</style>\n",
              "<table border=\"1\" class=\"dataframe\">\n",
              "  <thead>\n",
              "    <tr style=\"text-align: right;\">\n",
              "      <th></th>\n",
              "      <th>Population</th>\n",
              "    </tr>\n",
              "    <tr>\n",
              "      <th>Year</th>\n",
              "      <th></th>\n",
              "    </tr>\n",
              "  </thead>\n",
              "  <tbody>\n",
              "    <tr>\n",
              "      <th>2020</th>\n",
              "      <td>801232</td>\n",
              "    </tr>\n",
              "    <tr>\n",
              "      <th>2021</th>\n",
              "      <td>796729</td>\n",
              "    </tr>\n",
              "    <tr>\n",
              "      <th>2022</th>\n",
              "      <td>792228</td>\n",
              "    </tr>\n",
              "    <tr>\n",
              "      <th>2023</th>\n",
              "      <td>787726</td>\n",
              "    </tr>\n",
              "  </tbody>\n",
              "</table>\n",
              "</div>"
            ],
            "text/plain": [
              "      Population\n",
              "Year            \n",
              "2020      801232\n",
              "2021      796729\n",
              "2022      792228\n",
              "2023      787726"
            ]
          },
          "execution_count": 16,
          "metadata": {},
          "output_type": "execute_result"
        }
      ],
      "source": [
        "#get df containing yearly total populations\n",
        "df_jakarta_yearly_total_pop = pd.DataFrame(df_jakarta.groupby('Year')['Population'].sum())\n",
        "df_jakarta_yearly_total_pop.head()"
      ]
    },
    {
      "cell_type": "code",
      "execution_count": 17,
      "metadata": {
        "id": "fIDhzAHV6Gvn"
      },
      "outputs": [],
      "source": [
        "#merge the two dfs by Year\n",
        "df_jakarta_final = df_jakarta_yearly_total_cases.merge(df_jakarta_yearly_total_pop, on='Year')\n",
        "\n",
        "#get another column called df_jakarta_final and df_java_final called Province, for merging\n",
        "df_jakarta_final['Province'] = 'DKI Jakarta'\n",
        "\n",
        "#append the suffix _Prov to both \"Cases\" and \"Population\" c0olumns in df_jakarta_final and df_java_final:\n",
        "df_jakarta_final.columns = [col + '_Prov' if col in ['Cases', 'Population'] else col for col in df_jakarta_final.columns]"
      ]
    },
    {
      "cell_type": "code",
      "execution_count": 18,
      "metadata": {
        "colab": {
          "base_uri": "https://localhost:8080/",
          "height": 0
        },
        "id": "PL-S2FwQ6J4L",
        "outputId": "3d5f6dad-4e4c-4956-c5ec-394f97f69ad9"
      },
      "outputs": [
        {
          "data": {
            "text/html": [
              "<div>\n",
              "<style scoped>\n",
              "    .dataframe tbody tr th:only-of-type {\n",
              "        vertical-align: middle;\n",
              "    }\n",
              "\n",
              "    .dataframe tbody tr th {\n",
              "        vertical-align: top;\n",
              "    }\n",
              "\n",
              "    .dataframe thead th {\n",
              "        text-align: right;\n",
              "    }\n",
              "</style>\n",
              "<table border=\"1\" class=\"dataframe\">\n",
              "  <thead>\n",
              "    <tr style=\"text-align: right;\">\n",
              "      <th></th>\n",
              "      <th>Year</th>\n",
              "      <th>Cases_Prov</th>\n",
              "      <th>Population_Prov</th>\n",
              "      <th>Province</th>\n",
              "    </tr>\n",
              "  </thead>\n",
              "  <tbody>\n",
              "    <tr>\n",
              "      <th>0</th>\n",
              "      <td>2020</td>\n",
              "      <td>1217</td>\n",
              "      <td>801232</td>\n",
              "      <td>DKI Jakarta</td>\n",
              "    </tr>\n",
              "    <tr>\n",
              "      <th>1</th>\n",
              "      <td>2021</td>\n",
              "      <td>1048</td>\n",
              "      <td>796729</td>\n",
              "      <td>DKI Jakarta</td>\n",
              "    </tr>\n",
              "    <tr>\n",
              "      <th>2</th>\n",
              "      <td>2022</td>\n",
              "      <td>2113</td>\n",
              "      <td>792228</td>\n",
              "      <td>DKI Jakarta</td>\n",
              "    </tr>\n",
              "    <tr>\n",
              "      <th>3</th>\n",
              "      <td>2023</td>\n",
              "      <td>1562</td>\n",
              "      <td>787726</td>\n",
              "      <td>DKI Jakarta</td>\n",
              "    </tr>\n",
              "  </tbody>\n",
              "</table>\n",
              "</div>"
            ],
            "text/plain": [
              "   Year  Cases_Prov  Population_Prov     Province\n",
              "0  2020        1217           801232  DKI Jakarta\n",
              "1  2021        1048           796729  DKI Jakarta\n",
              "2  2022        2113           792228  DKI Jakarta\n",
              "3  2023        1562           787726  DKI Jakarta"
            ]
          },
          "execution_count": 18,
          "metadata": {},
          "output_type": "execute_result"
        }
      ],
      "source": [
        "# Reset index of df_jakarta_final and df_java_final to make 'Year' a regular column\n",
        "df_jakarta_final = df_jakarta_final.reset_index()\n",
        "\n",
        "#check\n",
        "df_jakarta_final.head()"
      ]
    },
    {
      "cell_type": "code",
      "execution_count": 19,
      "metadata": {
        "id": "K1jSFq5L6Po4"
      },
      "outputs": [],
      "source": [
        "#now append this to the high-res dataset: so it means that if the year is 2020 cases_prop_bm = high_res[\"Population\"]/df_jakarta_final[\"Population\"] * df_jakarta_final[\"Cases\"]\n",
        "\n",
        "#merge to the high_res df by Year and Province\n",
        "high = pd.merge(high, df_jakarta_final[['Year', 'Province', 'Population_Prov', 'Cases_Prov']], on=['Year', 'Province'], how='left')\n"
      ]
    },
    {
      "cell_type": "code",
      "execution_count": 20,
      "metadata": {
        "colab": {
          "base_uri": "https://localhost:8080/",
          "height": 0
        },
        "id": "f3P1kAO98Nc8",
        "outputId": "65159d8c-7a08-4af7-8487-db32c1d1167b"
      },
      "outputs": [
        {
          "data": {
            "text/html": [
              "<div>\n",
              "<style scoped>\n",
              "    .dataframe tbody tr th:only-of-type {\n",
              "        vertical-align: middle;\n",
              "    }\n",
              "\n",
              "    .dataframe tbody tr th {\n",
              "        vertical-align: top;\n",
              "    }\n",
              "\n",
              "    .dataframe thead th {\n",
              "        text-align: right;\n",
              "    }\n",
              "</style>\n",
              "<table border=\"1\" class=\"dataframe\">\n",
              "  <thead>\n",
              "    <tr style=\"text-align: right;\">\n",
              "      <th></th>\n",
              "      <th>District</th>\n",
              "      <th>Year</th>\n",
              "      <th>Area_sq_km</th>\n",
              "      <th>HDI</th>\n",
              "      <th>Province</th>\n",
              "      <th>Cases</th>\n",
              "      <th>Population</th>\n",
              "      <th>Pop_den</th>\n",
              "      <th>urbanicity</th>\n",
              "      <th>geometry</th>\n",
              "      <th>cases_bm_equal</th>\n",
              "      <th>Population_Prov</th>\n",
              "      <th>Cases_Prov</th>\n",
              "    </tr>\n",
              "  </thead>\n",
              "  <tbody>\n",
              "    <tr>\n",
              "      <th>0</th>\n",
              "      <td>KOTA JAKARTA BARAT</td>\n",
              "      <td>2020</td>\n",
              "      <td>124.44</td>\n",
              "      <td>0.8138</td>\n",
              "      <td>DKI Jakarta</td>\n",
              "      <td>161</td>\n",
              "      <td>184826</td>\n",
              "      <td>1.485262</td>\n",
              "      <td>0.951917</td>\n",
              "      <td>POLYGON ((106.70503 -6.0956, 106.70526 -6.0956...</td>\n",
              "      <td>243.0</td>\n",
              "      <td>801232</td>\n",
              "      <td>1217</td>\n",
              "    </tr>\n",
              "    <tr>\n",
              "      <th>1</th>\n",
              "      <td>KOTA JAKARTA BARAT</td>\n",
              "      <td>2021</td>\n",
              "      <td>124.44</td>\n",
              "      <td>0.8176</td>\n",
              "      <td>DKI Jakarta</td>\n",
              "      <td>138</td>\n",
              "      <td>183270</td>\n",
              "      <td>1.472758</td>\n",
              "      <td>0.951917</td>\n",
              "      <td>POLYGON ((106.70503 -6.0956, 106.70526 -6.0956...</td>\n",
              "      <td>209.0</td>\n",
              "      <td>796729</td>\n",
              "      <td>1048</td>\n",
              "    </tr>\n",
              "    <tr>\n",
              "      <th>2</th>\n",
              "      <td>KOTA JAKARTA BARAT</td>\n",
              "      <td>2022</td>\n",
              "      <td>125.00</td>\n",
              "      <td>0.8251</td>\n",
              "      <td>DKI Jakarta</td>\n",
              "      <td>420</td>\n",
              "      <td>181715</td>\n",
              "      <td>1.453720</td>\n",
              "      <td>0.951917</td>\n",
              "      <td>POLYGON ((106.70503 -6.0956, 106.70526 -6.0956...</td>\n",
              "      <td>422.0</td>\n",
              "      <td>792228</td>\n",
              "      <td>2113</td>\n",
              "    </tr>\n",
              "    <tr>\n",
              "      <th>3</th>\n",
              "      <td>KOTA JAKARTA BARAT</td>\n",
              "      <td>2023</td>\n",
              "      <td>125.00</td>\n",
              "      <td>0.8302</td>\n",
              "      <td>DKI Jakarta</td>\n",
              "      <td>359</td>\n",
              "      <td>180159</td>\n",
              "      <td>1.441272</td>\n",
              "      <td>0.951917</td>\n",
              "      <td>POLYGON ((106.70503 -6.0956, 106.70526 -6.0956...</td>\n",
              "      <td>312.0</td>\n",
              "      <td>787726</td>\n",
              "      <td>1562</td>\n",
              "    </tr>\n",
              "    <tr>\n",
              "      <th>4</th>\n",
              "      <td>KOTA JAKARTA PUSAT</td>\n",
              "      <td>2020</td>\n",
              "      <td>52.38</td>\n",
              "      <td>0.8139</td>\n",
              "      <td>DKI Jakarta</td>\n",
              "      <td>127</td>\n",
              "      <td>73140</td>\n",
              "      <td>1.396334</td>\n",
              "      <td>0.993514</td>\n",
              "      <td>POLYGON ((106.83247 -6.14138, 106.83282 -6.141...</td>\n",
              "      <td>243.0</td>\n",
              "      <td>801232</td>\n",
              "      <td>1217</td>\n",
              "    </tr>\n",
              "  </tbody>\n",
              "</table>\n",
              "</div>"
            ],
            "text/plain": [
              "             District  Year  Area_sq_km     HDI     Province  Cases  \\\n",
              "0  KOTA JAKARTA BARAT  2020      124.44  0.8138  DKI Jakarta    161   \n",
              "1  KOTA JAKARTA BARAT  2021      124.44  0.8176  DKI Jakarta    138   \n",
              "2  KOTA JAKARTA BARAT  2022      125.00  0.8251  DKI Jakarta    420   \n",
              "3  KOTA JAKARTA BARAT  2023      125.00  0.8302  DKI Jakarta    359   \n",
              "4  KOTA JAKARTA PUSAT  2020       52.38  0.8139  DKI Jakarta    127   \n",
              "\n",
              "   Population   Pop_den  urbanicity  \\\n",
              "0      184826  1.485262    0.951917   \n",
              "1      183270  1.472758    0.951917   \n",
              "2      181715  1.453720    0.951917   \n",
              "3      180159  1.441272    0.951917   \n",
              "4       73140  1.396334    0.993514   \n",
              "\n",
              "                                            geometry  cases_bm_equal  \\\n",
              "0  POLYGON ((106.70503 -6.0956, 106.70526 -6.0956...           243.0   \n",
              "1  POLYGON ((106.70503 -6.0956, 106.70526 -6.0956...           209.0   \n",
              "2  POLYGON ((106.70503 -6.0956, 106.70526 -6.0956...           422.0   \n",
              "3  POLYGON ((106.70503 -6.0956, 106.70526 -6.0956...           312.0   \n",
              "4  POLYGON ((106.83247 -6.14138, 106.83282 -6.141...           243.0   \n",
              "\n",
              "   Population_Prov  Cases_Prov  \n",
              "0           801232        1217  \n",
              "1           796729        1048  \n",
              "2           792228        2113  \n",
              "3           787726        1562  \n",
              "4           801232        1217  "
            ]
          },
          "execution_count": 20,
          "metadata": {},
          "output_type": "execute_result"
        }
      ],
      "source": [
        "high.head()"
      ]
    },
    {
      "cell_type": "code",
      "execution_count": 21,
      "metadata": {
        "id": "brPLN2SW78YW"
      },
      "outputs": [],
      "source": [
        "#calculate the disaggregation by multiplying the total num of cases per province with the pop in the district / pop in the province\n",
        "high['cases_prop_bm'] = (high['Population'] / high['Population_Prov']) * high['Cases_Prov']"
      ]
    },
    {
      "cell_type": "code",
      "execution_count": 22,
      "metadata": {
        "id": "ARuBg5yF8jce"
      },
      "outputs": [],
      "source": [
        "#cost calculations\n",
        "#merge this with cost df\n",
        "cost = pd.merge(cost, high[['Province', 'District', 'Year', 'cases_prop_bm']], on=['Province', 'District', 'Year'], how='left')"
      ]
    },
    {
      "cell_type": "code",
      "execution_count": 23,
      "metadata": {},
      "outputs": [
        {
          "data": {
            "text/plain": [
              "20"
            ]
          },
          "execution_count": 23,
          "metadata": {},
          "output_type": "execute_result"
        }
      ],
      "source": [
        "len(cost.dropna())"
      ]
    },
    {
      "cell_type": "code",
      "execution_count": 24,
      "metadata": {
        "id": "KfMEmY3w84AT"
      },
      "outputs": [],
      "source": [
        "#calculate nbm for disaggregation with population-based proportions\n",
        "# Scale total cost to produce district-level cost per year based on cases per district per year / total num of cases over 2020-2024 nationwide, assuming that healthcare costs for dengue treatment is linearly related to the number of dengue cases per year\n",
        "# this cost factor measures the scale of the district-level, yearly dengue cases to the national-level dengue cases in total from 2020-2024.\n",
        "cost['prop_bm_prevalence'] = cost['cases_prop_bm'] / cost['Population']\n",
        "\n",
        "mean_obs_prev = cost[\"prop_bm_prevalence\"].mean()\n",
        "cost[\"prev_factor\"] = cost[\"prop_bm_prevalence\"] / mean_obs_prev\n",
        "\n",
        "# Scale costs\n",
        "# Incremental cost per district, yearly (scaled by no of dengue cases in each district)\n",
        "cost[\"incremental_healthcare_cost\"] = (\n",
        "    cost[\"healthcare_cost_vaccine\"] - cost[\"healthcare_cost_non_vaccine\"]) * cost[\"prev_factor\"] * cost[\"urbanicity_factor\"] * cost[\"pop_den_factor\"]\n",
        "\n",
        "cost[\"incremental_payer_cost\"] = (\n",
        "    cost[\"payer_cost_vaccine\"] - cost[\"payer_cost_non_vaccine\"]) * cost[\"prev_factor\"] * cost[\"urbanicity_factor\"] * cost[\"pop_den_factor\"]"
      ]
    },
    {
      "cell_type": "code",
      "execution_count": 25,
      "metadata": {},
      "outputs": [
        {
          "data": {
            "text/html": [
              "<div>\n",
              "<style scoped>\n",
              "    .dataframe tbody tr th:only-of-type {\n",
              "        vertical-align: middle;\n",
              "    }\n",
              "\n",
              "    .dataframe tbody tr th {\n",
              "        vertical-align: top;\n",
              "    }\n",
              "\n",
              "    .dataframe thead th {\n",
              "        text-align: right;\n",
              "    }\n",
              "</style>\n",
              "<table border=\"1\" class=\"dataframe\">\n",
              "  <thead>\n",
              "    <tr style=\"text-align: right;\">\n",
              "      <th></th>\n",
              "      <th>Unnamed: 0</th>\n",
              "      <th>District</th>\n",
              "      <th>Year</th>\n",
              "      <th>Area_sq_km</th>\n",
              "      <th>HDI</th>\n",
              "      <th>Province</th>\n",
              "      <th>Cases</th>\n",
              "      <th>Population</th>\n",
              "      <th>Pop_den</th>\n",
              "      <th>urbanicity</th>\n",
              "      <th>...</th>\n",
              "      <th>obs_incremental_healthcare_cost</th>\n",
              "      <th>obs_incremental_payer_cost</th>\n",
              "      <th>cases_bm_equal</th>\n",
              "      <th>equal_bm_prevalence</th>\n",
              "      <th>equal_bm_incremental_healthcare_cost</th>\n",
              "      <th>equal_bm_incremental_payer_cost</th>\n",
              "      <th>cases_prop_bm</th>\n",
              "      <th>prop_bm_prevalence</th>\n",
              "      <th>incremental_healthcare_cost</th>\n",
              "      <th>incremental_payer_cost</th>\n",
              "    </tr>\n",
              "  </thead>\n",
              "  <tbody>\n",
              "    <tr>\n",
              "      <th>0</th>\n",
              "      <td>0</td>\n",
              "      <td>KOTA JAKARTA BARAT</td>\n",
              "      <td>2020</td>\n",
              "      <td>124.44</td>\n",
              "      <td>0.8138</td>\n",
              "      <td>DKI Jakarta</td>\n",
              "      <td>161</td>\n",
              "      <td>184826</td>\n",
              "      <td>1.485262</td>\n",
              "      <td>0.951917</td>\n",
              "      <td>...</td>\n",
              "      <td>141.142320</td>\n",
              "      <td>141.124821</td>\n",
              "      <td>243.0</td>\n",
              "      <td>0.001315</td>\n",
              "      <td>183.574348</td>\n",
              "      <td>183.551589</td>\n",
              "      <td>280.734222</td>\n",
              "      <td>0.001519</td>\n",
              "      <td>246.085096</td>\n",
              "      <td>246.054587</td>\n",
              "    </tr>\n",
              "    <tr>\n",
              "      <th>1</th>\n",
              "      <td>1</td>\n",
              "      <td>KOTA JAKARTA BARAT</td>\n",
              "      <td>2021</td>\n",
              "      <td>124.44</td>\n",
              "      <td>0.8176</td>\n",
              "      <td>DKI Jakarta</td>\n",
              "      <td>138</td>\n",
              "      <td>183270</td>\n",
              "      <td>1.472758</td>\n",
              "      <td>0.951917</td>\n",
              "      <td>...</td>\n",
              "      <td>120.979131</td>\n",
              "      <td>120.964133</td>\n",
              "      <td>209.0</td>\n",
              "      <td>0.001140</td>\n",
              "      <td>157.889048</td>\n",
              "      <td>157.869474</td>\n",
              "      <td>241.069372</td>\n",
              "      <td>0.001315</td>\n",
              "      <td>211.315810</td>\n",
              "      <td>211.289612</td>\n",
              "    </tr>\n",
              "    <tr>\n",
              "      <th>2</th>\n",
              "      <td>2</td>\n",
              "      <td>KOTA JAKARTA BARAT</td>\n",
              "      <td>2022</td>\n",
              "      <td>125.00</td>\n",
              "      <td>0.8251</td>\n",
              "      <td>DKI Jakarta</td>\n",
              "      <td>420</td>\n",
              "      <td>181715</td>\n",
              "      <td>1.453720</td>\n",
              "      <td>0.951917</td>\n",
              "      <td>...</td>\n",
              "      <td>366.547831</td>\n",
              "      <td>366.502388</td>\n",
              "      <td>422.0</td>\n",
              "      <td>0.002322</td>\n",
              "      <td>317.371673</td>\n",
              "      <td>317.332327</td>\n",
              "      <td>484.663247</td>\n",
              "      <td>0.002667</td>\n",
              "      <td>422.941237</td>\n",
              "      <td>422.888803</td>\n",
              "    </tr>\n",
              "    <tr>\n",
              "      <th>3</th>\n",
              "      <td>3</td>\n",
              "      <td>KOTA JAKARTA BARAT</td>\n",
              "      <td>2023</td>\n",
              "      <td>125.00</td>\n",
              "      <td>0.8302</td>\n",
              "      <td>DKI Jakarta</td>\n",
              "      <td>359</td>\n",
              "      <td>180159</td>\n",
              "      <td>1.441272</td>\n",
              "      <td>0.951917</td>\n",
              "      <td>...</td>\n",
              "      <td>313.311122</td>\n",
              "      <td>313.272279</td>\n",
              "      <td>312.0</td>\n",
              "      <td>0.001732</td>\n",
              "      <td>234.644460</td>\n",
              "      <td>234.615370</td>\n",
              "      <td>357.241424</td>\n",
              "      <td>0.001983</td>\n",
              "      <td>311.746621</td>\n",
              "      <td>311.707973</td>\n",
              "    </tr>\n",
              "    <tr>\n",
              "      <th>4</th>\n",
              "      <td>4</td>\n",
              "      <td>KOTA JAKARTA PUSAT</td>\n",
              "      <td>2020</td>\n",
              "      <td>52.38</td>\n",
              "      <td>0.8139</td>\n",
              "      <td>DKI Jakarta</td>\n",
              "      <td>127</td>\n",
              "      <td>73140</td>\n",
              "      <td>1.396334</td>\n",
              "      <td>0.993514</td>\n",
              "      <td>...</td>\n",
              "      <td>276.060659</td>\n",
              "      <td>276.026434</td>\n",
              "      <td>243.0</td>\n",
              "      <td>0.003322</td>\n",
              "      <td>455.178164</td>\n",
              "      <td>455.121733</td>\n",
              "      <td>111.093142</td>\n",
              "      <td>0.001519</td>\n",
              "      <td>241.460796</td>\n",
              "      <td>241.430860</td>\n",
              "    </tr>\n",
              "  </tbody>\n",
              "</table>\n",
              "<p>5 rows × 34 columns</p>\n",
              "</div>"
            ],
            "text/plain": [
              "   Unnamed: 0            District  Year  Area_sq_km     HDI     Province  \\\n",
              "0           0  KOTA JAKARTA BARAT  2020      124.44  0.8138  DKI Jakarta   \n",
              "1           1  KOTA JAKARTA BARAT  2021      124.44  0.8176  DKI Jakarta   \n",
              "2           2  KOTA JAKARTA BARAT  2022      125.00  0.8251  DKI Jakarta   \n",
              "3           3  KOTA JAKARTA BARAT  2023      125.00  0.8302  DKI Jakarta   \n",
              "4           4  KOTA JAKARTA PUSAT  2020       52.38  0.8139  DKI Jakarta   \n",
              "\n",
              "   Cases  Population   Pop_den  urbanicity  ...  \\\n",
              "0    161      184826  1.485262    0.951917  ...   \n",
              "1    138      183270  1.472758    0.951917  ...   \n",
              "2    420      181715  1.453720    0.951917  ...   \n",
              "3    359      180159  1.441272    0.951917  ...   \n",
              "4    127       73140  1.396334    0.993514  ...   \n",
              "\n",
              "  obs_incremental_healthcare_cost  obs_incremental_payer_cost  cases_bm_equal  \\\n",
              "0                      141.142320                  141.124821           243.0   \n",
              "1                      120.979131                  120.964133           209.0   \n",
              "2                      366.547831                  366.502388           422.0   \n",
              "3                      313.311122                  313.272279           312.0   \n",
              "4                      276.060659                  276.026434           243.0   \n",
              "\n",
              "   equal_bm_prevalence  equal_bm_incremental_healthcare_cost  \\\n",
              "0             0.001315                            183.574348   \n",
              "1             0.001140                            157.889048   \n",
              "2             0.002322                            317.371673   \n",
              "3             0.001732                            234.644460   \n",
              "4             0.003322                            455.178164   \n",
              "\n",
              "   equal_bm_incremental_payer_cost  cases_prop_bm  prop_bm_prevalence  \\\n",
              "0                       183.551589     280.734222            0.001519   \n",
              "1                       157.869474     241.069372            0.001315   \n",
              "2                       317.332327     484.663247            0.002667   \n",
              "3                       234.615370     357.241424            0.001983   \n",
              "4                       455.121733     111.093142            0.001519   \n",
              "\n",
              "   incremental_healthcare_cost  incremental_payer_cost  \n",
              "0                   246.085096              246.054587  \n",
              "1                   211.315810              211.289612  \n",
              "2                   422.941237              422.888803  \n",
              "3                   311.746621              311.707973  \n",
              "4                   241.460796              241.430860  \n",
              "\n",
              "[5 rows x 34 columns]"
            ]
          },
          "execution_count": 25,
          "metadata": {},
          "output_type": "execute_result"
        }
      ],
      "source": [
        "cost.head()"
      ]
    },
    {
      "cell_type": "markdown",
      "metadata": {
        "id": "M1Uv95KS9JAr"
      },
      "source": [
        "### Random-forest-based (hdi and pop den) disaggregation and cost calculations"
      ]
    },
    {
      "cell_type": "code",
      "execution_count": 26,
      "metadata": {
        "id": "QedKVhkAQ-Bm"
      },
      "outputs": [],
      "source": [
        "#merge the rf_preds cases to the high and nbm dfs:\n",
        "#rename Predicted_Cases to rf_preds\n",
        "rf_preds = rf_preds.rename(columns={'Predicted_Cases': 'rf_preds'})\n",
        "high = pd.merge(high, rf_preds[[\"HDI\",\"urbanicity\", \"rf_preds\"]], on = [\"HDI\",\"urbanicity\"], how='left')"
      ]
    },
    {
      "cell_type": "code",
      "execution_count": 27,
      "metadata": {},
      "outputs": [
        {
          "data": {
            "text/plain": [
              "6"
            ]
          },
          "execution_count": 27,
          "metadata": {},
          "output_type": "execute_result"
        }
      ],
      "source": [
        "len(rf_preds['rf_preds'].unique())"
      ]
    },
    {
      "cell_type": "code",
      "execution_count": 28,
      "metadata": {},
      "outputs": [
        {
          "data": {
            "text/plain": [
              "6"
            ]
          },
          "execution_count": 28,
          "metadata": {},
          "output_type": "execute_result"
        }
      ],
      "source": [
        "#check the columns for high\n",
        "high.dropna(subset=['rf_preds'])[\"rf_preds\"].shape[0]"
      ]
    },
    {
      "cell_type": "code",
      "execution_count": 29,
      "metadata": {},
      "outputs": [
        {
          "data": {
            "text/html": [
              "<div>\n",
              "<style scoped>\n",
              "    .dataframe tbody tr th:only-of-type {\n",
              "        vertical-align: middle;\n",
              "    }\n",
              "\n",
              "    .dataframe tbody tr th {\n",
              "        vertical-align: top;\n",
              "    }\n",
              "\n",
              "    .dataframe thead th {\n",
              "        text-align: right;\n",
              "    }\n",
              "</style>\n",
              "<table border=\"1\" class=\"dataframe\">\n",
              "  <thead>\n",
              "    <tr style=\"text-align: right;\">\n",
              "      <th></th>\n",
              "      <th>District</th>\n",
              "      <th>Year</th>\n",
              "      <th>Area_sq_km</th>\n",
              "      <th>HDI</th>\n",
              "      <th>Province</th>\n",
              "      <th>Cases</th>\n",
              "      <th>Population</th>\n",
              "      <th>Pop_den</th>\n",
              "      <th>urbanicity</th>\n",
              "      <th>geometry</th>\n",
              "      <th>cases_bm_equal</th>\n",
              "      <th>Population_Prov</th>\n",
              "      <th>Cases_Prov</th>\n",
              "      <th>cases_prop_bm</th>\n",
              "      <th>rf_preds</th>\n",
              "    </tr>\n",
              "  </thead>\n",
              "  <tbody>\n",
              "    <tr>\n",
              "      <th>0</th>\n",
              "      <td>KOTA JAKARTA BARAT</td>\n",
              "      <td>2020</td>\n",
              "      <td>124.44</td>\n",
              "      <td>0.8138</td>\n",
              "      <td>DKI Jakarta</td>\n",
              "      <td>161</td>\n",
              "      <td>184826</td>\n",
              "      <td>1.485262</td>\n",
              "      <td>0.951917</td>\n",
              "      <td>POLYGON ((106.70503 -6.0956, 106.70526 -6.0956...</td>\n",
              "      <td>243.0</td>\n",
              "      <td>801232</td>\n",
              "      <td>1217</td>\n",
              "      <td>280.734222</td>\n",
              "      <td>183.108</td>\n",
              "    </tr>\n",
              "    <tr>\n",
              "      <th>1</th>\n",
              "      <td>KOTA JAKARTA BARAT</td>\n",
              "      <td>2021</td>\n",
              "      <td>124.44</td>\n",
              "      <td>0.8176</td>\n",
              "      <td>DKI Jakarta</td>\n",
              "      <td>138</td>\n",
              "      <td>183270</td>\n",
              "      <td>1.472758</td>\n",
              "      <td>0.951917</td>\n",
              "      <td>POLYGON ((106.70503 -6.0956, 106.70526 -6.0956...</td>\n",
              "      <td>209.0</td>\n",
              "      <td>796729</td>\n",
              "      <td>1048</td>\n",
              "      <td>241.069372</td>\n",
              "      <td>NaN</td>\n",
              "    </tr>\n",
              "    <tr>\n",
              "      <th>2</th>\n",
              "      <td>KOTA JAKARTA BARAT</td>\n",
              "      <td>2022</td>\n",
              "      <td>125.00</td>\n",
              "      <td>0.8251</td>\n",
              "      <td>DKI Jakarta</td>\n",
              "      <td>420</td>\n",
              "      <td>181715</td>\n",
              "      <td>1.453720</td>\n",
              "      <td>0.951917</td>\n",
              "      <td>POLYGON ((106.70503 -6.0956, 106.70526 -6.0956...</td>\n",
              "      <td>422.0</td>\n",
              "      <td>792228</td>\n",
              "      <td>2113</td>\n",
              "      <td>484.663247</td>\n",
              "      <td>NaN</td>\n",
              "    </tr>\n",
              "    <tr>\n",
              "      <th>3</th>\n",
              "      <td>KOTA JAKARTA BARAT</td>\n",
              "      <td>2023</td>\n",
              "      <td>125.00</td>\n",
              "      <td>0.8302</td>\n",
              "      <td>DKI Jakarta</td>\n",
              "      <td>359</td>\n",
              "      <td>180159</td>\n",
              "      <td>1.441272</td>\n",
              "      <td>0.951917</td>\n",
              "      <td>POLYGON ((106.70503 -6.0956, 106.70526 -6.0956...</td>\n",
              "      <td>312.0</td>\n",
              "      <td>787726</td>\n",
              "      <td>1562</td>\n",
              "      <td>357.241424</td>\n",
              "      <td>NaN</td>\n",
              "    </tr>\n",
              "    <tr>\n",
              "      <th>4</th>\n",
              "      <td>KOTA JAKARTA PUSAT</td>\n",
              "      <td>2020</td>\n",
              "      <td>52.38</td>\n",
              "      <td>0.8139</td>\n",
              "      <td>DKI Jakarta</td>\n",
              "      <td>127</td>\n",
              "      <td>73140</td>\n",
              "      <td>1.396334</td>\n",
              "      <td>0.993514</td>\n",
              "      <td>POLYGON ((106.83247 -6.14138, 106.83282 -6.141...</td>\n",
              "      <td>243.0</td>\n",
              "      <td>801232</td>\n",
              "      <td>1217</td>\n",
              "      <td>111.093142</td>\n",
              "      <td>NaN</td>\n",
              "    </tr>\n",
              "  </tbody>\n",
              "</table>\n",
              "</div>"
            ],
            "text/plain": [
              "             District  Year  Area_sq_km     HDI     Province  Cases  \\\n",
              "0  KOTA JAKARTA BARAT  2020      124.44  0.8138  DKI Jakarta    161   \n",
              "1  KOTA JAKARTA BARAT  2021      124.44  0.8176  DKI Jakarta    138   \n",
              "2  KOTA JAKARTA BARAT  2022      125.00  0.8251  DKI Jakarta    420   \n",
              "3  KOTA JAKARTA BARAT  2023      125.00  0.8302  DKI Jakarta    359   \n",
              "4  KOTA JAKARTA PUSAT  2020       52.38  0.8139  DKI Jakarta    127   \n",
              "\n",
              "   Population   Pop_den  urbanicity  \\\n",
              "0      184826  1.485262    0.951917   \n",
              "1      183270  1.472758    0.951917   \n",
              "2      181715  1.453720    0.951917   \n",
              "3      180159  1.441272    0.951917   \n",
              "4       73140  1.396334    0.993514   \n",
              "\n",
              "                                            geometry  cases_bm_equal  \\\n",
              "0  POLYGON ((106.70503 -6.0956, 106.70526 -6.0956...           243.0   \n",
              "1  POLYGON ((106.70503 -6.0956, 106.70526 -6.0956...           209.0   \n",
              "2  POLYGON ((106.70503 -6.0956, 106.70526 -6.0956...           422.0   \n",
              "3  POLYGON ((106.70503 -6.0956, 106.70526 -6.0956...           312.0   \n",
              "4  POLYGON ((106.83247 -6.14138, 106.83282 -6.141...           243.0   \n",
              "\n",
              "   Population_Prov  Cases_Prov  cases_prop_bm  rf_preds  \n",
              "0           801232        1217     280.734222   183.108  \n",
              "1           796729        1048     241.069372       NaN  \n",
              "2           792228        2113     484.663247       NaN  \n",
              "3           787726        1562     357.241424       NaN  \n",
              "4           801232        1217     111.093142       NaN  "
            ]
          },
          "execution_count": 29,
          "metadata": {},
          "output_type": "execute_result"
        }
      ],
      "source": [
        "high.head()"
      ]
    },
    {
      "cell_type": "code",
      "execution_count": 30,
      "metadata": {
        "colab": {
          "base_uri": "https://localhost:8080/",
          "height": 359
        },
        "id": "YczU_AP_R2hN",
        "outputId": "fcdefcac-1551-4985-9f05-f5ff4f4bfbe7"
      },
      "outputs": [],
      "source": [
        "cost = cost.merge(high[[\"Year\", \"District\", \"rf_preds\"]], on = [\"Year\", \"District\"], how = \"left\")"
      ]
    },
    {
      "cell_type": "code",
      "execution_count": 31,
      "metadata": {},
      "outputs": [
        {
          "data": {
            "text/plain": [
              "Unnamed: 0                               0\n",
              "District                                 0\n",
              "Year                                     0\n",
              "Area_sq_km                               0\n",
              "HDI                                      0\n",
              "Province                                 0\n",
              "Cases                                    0\n",
              "Population                               0\n",
              "Pop_den                                  0\n",
              "urbanicity                               0\n",
              "geometry                                 0\n",
              "le_factor                                0\n",
              "burden_non_vaccine                       0\n",
              "burden_vaccine                           0\n",
              "healthcare_cost_non_vaccine              0\n",
              "healthcare_cost_vaccine                  0\n",
              "payer_cost_non_vaccine                   0\n",
              "payer_cost_vaccine                       0\n",
              "mean_urbanicity                          0\n",
              "mean_pop_den                             0\n",
              "urbanicity_factor                        0\n",
              "pop_den_factor                           0\n",
              "obs_prevalence                           0\n",
              "prev_factor                              0\n",
              "obs_incremental_healthcare_cost          0\n",
              "obs_incremental_payer_cost               0\n",
              "cases_bm_equal                           0\n",
              "equal_bm_prevalence                      0\n",
              "equal_bm_incremental_healthcare_cost     0\n",
              "equal_bm_incremental_payer_cost          0\n",
              "cases_prop_bm                            0\n",
              "prop_bm_prevalence                       0\n",
              "incremental_healthcare_cost              0\n",
              "incremental_payer_cost                   0\n",
              "rf_preds                                14\n",
              "dtype: int64"
            ]
          },
          "execution_count": 31,
          "metadata": {},
          "output_type": "execute_result"
        }
      ],
      "source": [
        "cost.isna().sum()"
      ]
    },
    {
      "cell_type": "code",
      "execution_count": 32,
      "metadata": {
        "id": "9NL_2OVmVzib"
      },
      "outputs": [],
      "source": [
        "# calculate nbm for rf\n",
        "# Scale total cost to produce district-level cost per year based on cases per district per year / total num of cases over 2020-2024 nationwide, assuming that healthcare costs for dengue treatment is linearly related to the number of dengue cases per year\n",
        "# this cost factor measures the scale of the district-level, yearly dengue cases to the national-level dengue cases in total from 2020-2024.\n",
        "cost['rf_prevalence'] = cost['rf_preds'] / cost[\"Population\"]\n",
        "\n",
        "\n",
        "mean_obs_prev = cost[\"rf_prevalence\"].mean()\n",
        "cost[\"prev_factor\"] = cost[\"rf_prevalence\"] / mean_obs_prev\n",
        "\n",
        "# Scale costs\n",
        "# Incremental cost per district, yearly (scaled by no of dengue cases in each district)\n",
        "cost[\"rf_incremental_healthcare_cost\"] = (\n",
        "    cost[\"healthcare_cost_vaccine\"] - cost[\"healthcare_cost_non_vaccine\"]) * cost[\"prev_factor\"] * cost[\"urbanicity_factor\"] * cost[\"pop_den_factor\"]\n",
        "\n",
        "cost[\"rf_incremental_payer_cost\"] = (\n",
        "    cost[\"payer_cost_vaccine\"] - cost[\"payer_cost_non_vaccine\"]) * cost[\"prev_factor\"] * cost[\"urbanicity_factor\"] * cost[\"pop_den_factor\"]"
      ]
    },
    {
      "cell_type": "code",
      "execution_count": 33,
      "metadata": {
        "colab": {
          "base_uri": "https://localhost:8080/",
          "height": 359
        },
        "id": "Lu6KzQxcXKwA",
        "outputId": "1a38b595-147c-4a7d-8bcb-80e2b505f120"
      },
      "outputs": [
        {
          "name": "stdout",
          "output_type": "stream",
          "text": [
            "20\n"
          ]
        }
      ],
      "source": [
        "print(cost.shape[0])\n"
      ]
    },
    {
      "cell_type": "markdown",
      "metadata": {},
      "source": [
        "### aggGP-based disaggregation and cost calculations"
      ]
    },
    {
      "cell_type": "code",
      "execution_count": 34,
      "metadata": {},
      "outputs": [],
      "source": [
        "#read in the gp-preds data for all years and append them\n",
        "gp_2020 = pd.read_csv(\"../data/processed/df_hi_jkt_w_pred_2020.csv\")\n",
        "gp_2021 = pd.read_csv(\"../data/processed/df_hi_jkt_w_pred_2021.csv\")\n",
        "gp_2022 = pd.read_csv(\"../data/processed/df_hi_jkt_w_pred_2022.csv\")\n",
        "gp_2023 = pd.read_csv(\"../data/processed/df_hi_jkt_w_pred_2023.csv\")"
      ]
    },
    {
      "cell_type": "code",
      "execution_count": 35,
      "metadata": {},
      "outputs": [
        {
          "data": {
            "text/html": [
              "<div>\n",
              "<style scoped>\n",
              "    .dataframe tbody tr th:only-of-type {\n",
              "        vertical-align: middle;\n",
              "    }\n",
              "\n",
              "    .dataframe tbody tr th {\n",
              "        vertical-align: top;\n",
              "    }\n",
              "\n",
              "    .dataframe thead th {\n",
              "        text-align: right;\n",
              "    }\n",
              "</style>\n",
              "<table border=\"1\" class=\"dataframe\">\n",
              "  <thead>\n",
              "    <tr style=\"text-align: right;\">\n",
              "      <th></th>\n",
              "      <th>Unnamed: 0</th>\n",
              "      <th>District</th>\n",
              "      <th>Year</th>\n",
              "      <th>Area_sq_km</th>\n",
              "      <th>HDI</th>\n",
              "      <th>Province</th>\n",
              "      <th>Cases</th>\n",
              "      <th>Population</th>\n",
              "      <th>Pop_den</th>\n",
              "      <th>urbanicity</th>\n",
              "      <th>geometry</th>\n",
              "      <th>incidence</th>\n",
              "      <th>pred_cases_num</th>\n",
              "      <th>pred_cases</th>\n",
              "    </tr>\n",
              "  </thead>\n",
              "  <tbody>\n",
              "    <tr>\n",
              "      <th>0</th>\n",
              "      <td>0</td>\n",
              "      <td>KOTA JAKARTA BARAT</td>\n",
              "      <td>2020</td>\n",
              "      <td>124.44</td>\n",
              "      <td>0.8138</td>\n",
              "      <td>DKI Jakarta</td>\n",
              "      <td>161</td>\n",
              "      <td>184826</td>\n",
              "      <td>1.485262</td>\n",
              "      <td>0.951917</td>\n",
              "      <td>POLYGON ((106.70503370000006 -6.09559559999996...</td>\n",
              "      <td>0.000871</td>\n",
              "      <td>331.46472</td>\n",
              "      <td>0.001793</td>\n",
              "    </tr>\n",
              "    <tr>\n",
              "      <th>1</th>\n",
              "      <td>4</td>\n",
              "      <td>KOTA JAKARTA PUSAT</td>\n",
              "      <td>2020</td>\n",
              "      <td>52.38</td>\n",
              "      <td>0.8139</td>\n",
              "      <td>DKI Jakarta</td>\n",
              "      <td>127</td>\n",
              "      <td>73140</td>\n",
              "      <td>1.396334</td>\n",
              "      <td>0.993514</td>\n",
              "      <td>POLYGON ((106.83246630000008 -6.14137699999997...</td>\n",
              "      <td>0.001736</td>\n",
              "      <td>219.14929</td>\n",
              "      <td>0.002996</td>\n",
              "    </tr>\n",
              "    <tr>\n",
              "      <th>2</th>\n",
              "      <td>8</td>\n",
              "      <td>KOTA JAKARTA SELATAN</td>\n",
              "      <td>2020</td>\n",
              "      <td>154.32</td>\n",
              "      <td>0.8472</td>\n",
              "      <td>DKI Jakarta</td>\n",
              "      <td>288</td>\n",
              "      <td>160968</td>\n",
              "      <td>1.043079</td>\n",
              "      <td>0.972088</td>\n",
              "      <td>POLYGON ((106.83399450000007 -6.20492189999993...</td>\n",
              "      <td>0.001789</td>\n",
              "      <td>379.68277</td>\n",
              "      <td>0.002359</td>\n",
              "    </tr>\n",
              "    <tr>\n",
              "      <th>3</th>\n",
              "      <td>12</td>\n",
              "      <td>KOTA JAKARTA TIMUR</td>\n",
              "      <td>2020</td>\n",
              "      <td>182.70</td>\n",
              "      <td>0.8266</td>\n",
              "      <td>DKI Jakarta</td>\n",
              "      <td>396</td>\n",
              "      <td>238497</td>\n",
              "      <td>1.305402</td>\n",
              "      <td>0.930291</td>\n",
              "      <td>POLYGON ((106.94010940000004 -6.15492309999996...</td>\n",
              "      <td>0.001660</td>\n",
              "      <td>468.19147</td>\n",
              "      <td>0.001963</td>\n",
              "    </tr>\n",
              "    <tr>\n",
              "      <th>4</th>\n",
              "      <td>16</td>\n",
              "      <td>KOTA JAKARTA UTARA</td>\n",
              "      <td>2020</td>\n",
              "      <td>139.99</td>\n",
              "      <td>0.8029</td>\n",
              "      <td>DKI Jakarta</td>\n",
              "      <td>245</td>\n",
              "      <td>143801</td>\n",
              "      <td>1.027223</td>\n",
              "      <td>0.850775</td>\n",
              "      <td>MULTIPOLYGON (((106.87676710000005 -6.10030039...</td>\n",
              "      <td>0.001704</td>\n",
              "      <td>420.93270</td>\n",
              "      <td>0.002927</td>\n",
              "    </tr>\n",
              "  </tbody>\n",
              "</table>\n",
              "</div>"
            ],
            "text/plain": [
              "   Unnamed: 0              District  Year  Area_sq_km     HDI     Province  \\\n",
              "0           0    KOTA JAKARTA BARAT  2020      124.44  0.8138  DKI Jakarta   \n",
              "1           4    KOTA JAKARTA PUSAT  2020       52.38  0.8139  DKI Jakarta   \n",
              "2           8  KOTA JAKARTA SELATAN  2020      154.32  0.8472  DKI Jakarta   \n",
              "3          12    KOTA JAKARTA TIMUR  2020      182.70  0.8266  DKI Jakarta   \n",
              "4          16    KOTA JAKARTA UTARA  2020      139.99  0.8029  DKI Jakarta   \n",
              "\n",
              "   Cases  Population   Pop_den  urbanicity  \\\n",
              "0    161      184826  1.485262    0.951917   \n",
              "1    127       73140  1.396334    0.993514   \n",
              "2    288      160968  1.043079    0.972088   \n",
              "3    396      238497  1.305402    0.930291   \n",
              "4    245      143801  1.027223    0.850775   \n",
              "\n",
              "                                            geometry  incidence  \\\n",
              "0  POLYGON ((106.70503370000006 -6.09559559999996...   0.000871   \n",
              "1  POLYGON ((106.83246630000008 -6.14137699999997...   0.001736   \n",
              "2  POLYGON ((106.83399450000007 -6.20492189999993...   0.001789   \n",
              "3  POLYGON ((106.94010940000004 -6.15492309999996...   0.001660   \n",
              "4  MULTIPOLYGON (((106.87676710000005 -6.10030039...   0.001704   \n",
              "\n",
              "   pred_cases_num  pred_cases  \n",
              "0       331.46472    0.001793  \n",
              "1       219.14929    0.002996  \n",
              "2       379.68277    0.002359  \n",
              "3       468.19147    0.001963  \n",
              "4       420.93270    0.002927  "
            ]
          },
          "execution_count": 35,
          "metadata": {},
          "output_type": "execute_result"
        }
      ],
      "source": [
        "gp_2020.head()"
      ]
    },
    {
      "cell_type": "code",
      "execution_count": 36,
      "metadata": {},
      "outputs": [],
      "source": [
        "#delete the first column for all the datasets and reset index, also combine all the predictons into one df\n",
        "# Define function to clean each DataFrame\n",
        "def clean_df(df):\n",
        "    df = df.drop(columns=[\"Unnamed: 0\"], errors=\"ignore\")\n",
        "    return df.reset_index(drop=True)\n",
        "\n",
        "# Clean all\n",
        "gp_2020 = clean_df(gp_2020)\n",
        "gp_2021 = clean_df(gp_2021)\n",
        "gp_2022 = clean_df(gp_2022)\n",
        "gp_2023 = clean_df(gp_2023)\n",
        "\n",
        "# Combine\n",
        "gp_all_years = pd.concat([gp_2020, gp_2021, gp_2022, gp_2023], axis=0).reset_index(drop=True)\n"
      ]
    },
    {
      "cell_type": "code",
      "execution_count": 37,
      "metadata": {},
      "outputs": [],
      "source": [
        "# Calculate the gp_pred_cases from pred_cases * Population\n",
        "# Rename 'pred_cases' to 'gp_prevalence'\n",
        "# Rename \"pred_cases_num\" to \"gp_preds\"\n",
        "gp_all_years = gp_all_years.rename(columns={\"pred_cases\": \"gp_prevalence\", \"pred_cases_num\": \"gp_preds\"})\n",
        "\n",
        "# Subset the relevant columns\n",
        "gp_subset = gp_all_years[[\"District\", \"Year\", \"gp_prevalence\", \"gp_preds\"]]\n",
        "\n",
        "# Merge by District and Year\n",
        "cost = pd.merge(cost, gp_subset, on=[\"District\", \"Year\"], how=\"left\")\n"
      ]
    },
    {
      "cell_type": "code",
      "execution_count": 38,
      "metadata": {},
      "outputs": [],
      "source": [
        "# Scale costs\n",
        "mean_obs_prev = cost[\"gp_prevalence\"].mean()\n",
        "cost[\"prev_factor\"] = cost[\"gp_prevalence\"] / mean_obs_prev\n",
        "\n",
        "# Incremental cost per district, yearly (scaled by no of dengue cases in each district)\n",
        "cost[\"gp_incremental_healthcare_cost\"] = (\n",
        "    cost[\"healthcare_cost_vaccine\"] - cost[\"healthcare_cost_non_vaccine\"]) * cost[\"prev_factor\"] * cost[\"urbanicity_factor\"] * cost[\"pop_den_factor\"]\n",
        "\n",
        "cost[\"gp_incremental_payer_cost\"] = (\n",
        "    cost[\"payer_cost_vaccine\"] - cost[\"payer_cost_non_vaccine\"]) * cost[\"prev_factor\"] * cost[\"urbanicity_factor\"] * cost[\"pop_den_factor\"]"
      ]
    },
    {
      "cell_type": "markdown",
      "metadata": {},
      "source": [
        "### aggVAE-based disaggregation and cost calculations"
      ]
    },
    {
      "cell_type": "code",
      "execution_count": 39,
      "metadata": {},
      "outputs": [],
      "source": [
        "#read in the gp-preds data for all years and append them\n",
        "vae_2020 = pd.read_csv(\"../data/processed/df_hi_jkt_2020_aggVAE_preds.csv\")\n",
        "vae_2021 = pd.read_csv(\"../data/processed/df_hi_jkt_2021_aggVAE_preds.csv\")\n",
        "vae_2022 = pd.read_csv(\"../data/processed/df_hi_jkt_2022_aggVAE_preds.csv\")\n",
        "vae_2023 = pd.read_csv(\"../data/processed/df_hi_jkt_2023_aggVAE_preds.csv\")"
      ]
    },
    {
      "cell_type": "code",
      "execution_count": 40,
      "metadata": {},
      "outputs": [],
      "source": [
        "#delete the first column for all the datasets and reset index, also combine all the predictons into one df\n",
        "# Define function to clean each DataFrame\n",
        "def clean_df(df):\n",
        "    df = df.drop(columns=[\"Unnamed: 0\"], errors=\"ignore\")\n",
        "    return df.reset_index(drop=True)\n",
        "\n",
        "# Clean all\n",
        "vae_2020 = clean_df(vae_2020)\n",
        "vae_2021 = clean_df(vae_2021)\n",
        "vae_2022 = clean_df(vae_2022)\n",
        "vae_2023 = clean_df(vae_2023)\n",
        "\n",
        "# Combine\n",
        "vae_all_years = pd.concat([vae_2020, vae_2021, vae_2022, vae_2023], axis=0).reset_index(drop=True)\n"
      ]
    },
    {
      "cell_type": "code",
      "execution_count": 41,
      "metadata": {},
      "outputs": [],
      "source": [
        "# Rename 'pred_cases' to 'vae_prevalence'\n",
        "# Rename \"pred_cases_num\" to \"gp_preds\"\n",
        "vae_all_years = vae_all_years.rename(columns={\"pred_cases\": \"vae_prevalence\", \"pred_cases_num\": \"vae_preds\"})\n",
        "\n",
        "# Subset the relevant columns\n",
        "vae_subset = vae_all_years[[\"District\", \"Year\", \"vae_prevalence\", \"vae_preds\"]]\n",
        "\n",
        "# Merge by District and Year\n",
        "cost = pd.merge(cost, vae_subset, on=[\"District\", \"Year\"], how=\"left\")"
      ]
    },
    {
      "cell_type": "code",
      "execution_count": 42,
      "metadata": {},
      "outputs": [],
      "source": [
        "# Scale costs\n",
        "# Scale costs\n",
        "mean_obs_prev = cost[\"vae_prevalence\"].mean()\n",
        "cost[\"prev_factor\"] = cost[\"vae_prevalence\"] / mean_obs_prev\n",
        "\n",
        "# Incremental cost per district, yearly (scaled by no of dengue cases in each district)\n",
        "cost[\"vae_incremental_healthcare_cost\"] = (\n",
        "    cost[\"healthcare_cost_vaccine\"] - cost[\"healthcare_cost_non_vaccine\"]) * cost[\"prev_factor\"] * cost[\"urbanicity_factor\"] * cost[\"pop_den_factor\"]\n",
        "\n",
        "cost[\"vae_incremental_payer_cost\"] = (\n",
        "    cost[\"payer_cost_vaccine\"] - cost[\"payer_cost_non_vaccine\"]) * cost[\"prev_factor\"] * cost[\"urbanicity_factor\"] * cost[\"pop_den_factor\"]"
      ]
    },
    {
      "cell_type": "code",
      "execution_count": 43,
      "metadata": {},
      "outputs": [],
      "source": [
        "cost = cost.reset_index(drop=True)\n"
      ]
    },
    {
      "cell_type": "code",
      "execution_count": 44,
      "metadata": {},
      "outputs": [],
      "source": [
        "cost = cost.drop(cost.columns[0], axis=1)\n"
      ]
    },
    {
      "cell_type": "code",
      "execution_count": 45,
      "metadata": {},
      "outputs": [
        {
          "name": "stdout",
          "output_type": "stream",
          "text": [
            "20\n",
            "20\n",
            "RangeIndex(start=0, stop=20, step=1)\n"
          ]
        }
      ],
      "source": [
        "print(len(cost))          # Should be 20\n",
        "print(cost.shape[0])      # Also 20\n",
        "print(cost.index)         # Will show RangeIndex(start=0, stop=20, step=1)\n"
      ]
    },
    {
      "cell_type": "code",
      "execution_count": 46,
      "metadata": {},
      "outputs": [
        {
          "data": {
            "text/plain": [
              "rf_preds                          14\n",
              "rf_prevalence                     14\n",
              "rf_incremental_healthcare_cost    14\n",
              "rf_incremental_payer_cost         14\n",
              "dtype: int64"
            ]
          },
          "execution_count": 46,
          "metadata": {},
          "output_type": "execute_result"
        }
      ],
      "source": [
        "cost.filter(like=\"rf\").isna().sum()"
      ]
    },
    {
      "cell_type": "code",
      "execution_count": 47,
      "metadata": {},
      "outputs": [
        {
          "name": "stdout",
          "output_type": "stream",
          "text": [
            "[141.14231950806925, 120.9791310069165, 366.5478310869733, 313.3111222862463, 276.06065872985715, 117.38012260954554, 474.012328603644, 363.88825226138346, 207.90667211272472, 202.85338494331825, 410.4413938524525, 229.0478190412564, 231.08288330736423, 226.99808486506237, 321.2072911142632, 278.1115007143171, 170.63826141352365, 129.54578213434866, 265.8025666328673, 178.1649679386273]\n"
          ]
        }
      ],
      "source": [
        "print(cost.obs_incremental_healthcare_cost.tolist())\n"
      ]
    },
    {
      "cell_type": "code",
      "execution_count": 48,
      "metadata": {},
      "outputs": [
        {
          "name": "stdout",
          "output_type": "stream",
          "text": [
            "[222.03425021898738, 229.41368474768205, 217.37389961515322, 229.7735346617627, 363.9922664074901, 369.7656656787158, 393.55382185045914, 403.6125815203996, 209.43444669505286, 217.5618151374742, 219.6877906724488, 230.56446642609845, 208.76004023156148, 217.4102675463805, 203.58235898141723, 211.99602906178, 224.01355224755167, 232.40806571566873, 209.21931202246716, 219.64301725496597]\n"
          ]
        }
      ],
      "source": [
        "print(cost.gp_incremental_healthcare_cost.tolist())"
      ]
    },
    {
      "cell_type": "markdown",
      "metadata": {},
      "source": [
        "## Evaluation without RF included"
      ]
    },
    {
      "cell_type": "markdown",
      "metadata": {},
      "source": [
        "### Evaluate the raw case counts --> table 12 values"
      ]
    },
    {
      "cell_type": "code",
      "execution_count": 49,
      "metadata": {},
      "outputs": [
        {
          "name": "stdout",
          "output_type": "stream",
          "text": [
            "             Model        RMSE  MAE (% of observed cases)  \\\n",
            "0         BM Equal  112.722669                  47.936749   \n",
            "1  BM Proportional   57.060756                  19.666118   \n",
            "2               GP  127.052619                  59.240684   \n",
            "3           aggVAE   91.233406                  37.097943   \n",
            "\n",
            "   Bias (% of observed cases)  \n",
            "0                   25.828358  \n",
            "1                    6.965937  \n",
            "2                   51.875352  \n",
            "3                   30.108515  \n"
          ]
        }
      ],
      "source": [
        "import numpy as np\n",
        "import pandas as pd\n",
        "from sklearn.metrics import mean_squared_error\n",
        "\n",
        "# Define model predictions for dengue case counts\n",
        "model_preds = {\n",
        "    'BM Equal': 'cases_bm_equal',\n",
        "    'BM Proportional': 'cases_prop_bm',\n",
        "    'GP': 'gp_preds',\n",
        "    'aggVAE': 'vae_preds'\n",
        "}\n",
        "\n",
        "# Store results\n",
        "results = []\n",
        "\n",
        "for model_name, pred_col in model_preds.items():\n",
        "    y_true = cost['Cases'].values  # ensure it's a numpy array\n",
        "    y_pred = cost[pred_col].values\n",
        "\n",
        "    mae = np.abs(y_pred - y_true)\n",
        "    rmse = np.sqrt(mean_squared_error(y_true, y_pred))\n",
        "    bias = y_pred - y_true\n",
        "\n",
        "    # Compute MAE (%) and Bias (%) per point, then average\n",
        "    mae_pct = np.mean((mae / y_true) * 100)\n",
        "    bias_pct = np.mean((bias / y_true) * 100)\n",
        "\n",
        "    results.append({\n",
        "        'Model': model_name,\n",
        "        'RMSE': rmse,\n",
        "        'MAE (% of observed cases)': mae_pct,\n",
        "        'Bias (% of observed cases)': bias_pct\n",
        "    })\n",
        "\n",
        "# Convert to DataFrame\n",
        "metrics_df = pd.DataFrame(results)\n",
        "\n",
        "# View overall averages for each model (though here it's already model-level)\n",
        "summary = metrics_df[['Model', 'RMSE', 'MAE (% of observed cases)', 'Bias (% of observed cases)']]\n",
        "\n",
        "print(summary)\n"
      ]
    },
    {
      "cell_type": "markdown",
      "metadata": {},
      "source": [
        "### Evaluate the disease prevalence using the same metrics but + Spearman's for ranking preservation metric! --> table 13 values"
      ]
    },
    {
      "cell_type": "code",
      "execution_count": 50,
      "metadata": {},
      "outputs": [
        {
          "name": "stdout",
          "output_type": "stream",
          "text": [
            "             Model      RMSE  MAE (% of observed prevalence)  Spearman  \\\n",
            "0         BM Equal  0.001098                       47.936749  0.551880   \n",
            "1  BM Proportional  0.000342                       19.666118  0.887126   \n",
            "2               GP  0.000967                       59.240684 -0.063158   \n",
            "3           aggVAE  0.000679                       37.097944  0.485714   \n",
            "\n",
            "   Bias (% of observed prevalence)  \n",
            "0                        25.828358  \n",
            "1                         6.965937  \n",
            "2                        51.875352  \n",
            "3                        30.108515  \n"
          ]
        }
      ],
      "source": [
        "from scipy.stats import spearmanr\n",
        "from sklearn.metrics import mean_squared_error\n",
        "import numpy as np\n",
        "import pandas as pd\n",
        "\n",
        "# Define prevalence prediction columns\n",
        "prevalence_preds = {\n",
        "    'BM Equal': 'equal_bm_prevalence',\n",
        "    'BM Proportional': 'prop_bm_prevalence',\n",
        "    'GP': 'gp_prevalence',\n",
        "    'aggVAE': 'vae_prevalence'\n",
        "}\n",
        "\n",
        "# Store prevalence evaluation results\n",
        "prevalence_results = []\n",
        "\n",
        "for model_name, pred_col in prevalence_preds.items():\n",
        "    y_true = cost['obs_prevalence'].values\n",
        "    y_pred = cost[pred_col].values\n",
        "\n",
        "    # RMSE: compute normally\n",
        "    rmse = np.sqrt(mean_squared_error(y_true, y_pred))\n",
        "\n",
        "    # Spearman correlation\n",
        "    if np.unique(y_true).size > 1 and np.unique(y_pred).size > 1:\n",
        "        spearman_corr, _ = spearmanr(y_true, y_pred)\n",
        "    else:\n",
        "        spearman_corr = np.nan  # Not computable if constant series\n",
        "\n",
        "    # MAE and Bias (as percentage of *observed prevalence* at each point)\n",
        "    mae = np.abs(y_pred - y_true)\n",
        "    bias = y_pred - y_true\n",
        "\n",
        "    # Handle division safely in case y_true = 0\n",
        "    valid_idx = y_true != 0\n",
        "    mae_pct = np.mean((mae[valid_idx] / y_true[valid_idx]) * 100)\n",
        "    bias_pct = np.mean((bias[valid_idx] / y_true[valid_idx]) * 100)\n",
        "\n",
        "    prevalence_results.append({\n",
        "        'Model': model_name,\n",
        "        'RMSE': rmse,\n",
        "        'MAE (% of observed prevalence)': mae_pct,\n",
        "        'Spearman': spearman_corr,\n",
        "        'Bias (% of observed prevalence)': bias_pct\n",
        "    })\n",
        "\n",
        "# Convert to DataFrame\n",
        "prevalence_metrics_df = pd.DataFrame(prevalence_results)\n",
        "\n",
        "# View model-level averages (already one row per model now)\n",
        "prevalence_summary = prevalence_metrics_df[['Model', 'RMSE', 'MAE (% of observed prevalence)', 'Spearman', 'Bias (% of observed prevalence)']]\n",
        "\n",
        "print(prevalence_summary)"
      ]
    },
    {
      "cell_type": "markdown",
      "metadata": {},
      "source": [
        "### Evaluate the incremental cost (healthcare + payer's perspectives separately) --> tables 15 & 14 values"
      ]
    },
    {
      "cell_type": "code",
      "execution_count": 51,
      "metadata": {},
      "outputs": [
        {
          "name": "stdout",
          "output_type": "stream",
          "text": [
            "             Model        RMSE  MAE (% of observed healthcare cost)  \\\n",
            "0         BM Equal  190.008921                            51.481831   \n",
            "1  BM Proportional   90.919910                            28.469961   \n",
            "2               GP   68.126495                            23.082442   \n",
            "3           aggVAE   58.601883                            20.166011   \n",
            "\n",
            "   Bias (% of observed healthcare cost)  \n",
            "0                             -0.734312  \n",
            "1                             -4.528811  \n",
            "2                             -5.760577  \n",
            "3                             -7.730157  \n",
            "             Model        RMSE  MAE (% of observed payer cost)  \\\n",
            "0         BM Equal  190.008520                       51.724036   \n",
            "1  BM Proportional   90.340342                       28.437685   \n",
            "2               GP   67.087796                       22.303679   \n",
            "3           aggVAE   56.885857                       20.169513   \n",
            "\n",
            "   Bias (% of observed payer cost)  \n",
            "0                         1.359663  \n",
            "1                        -2.514880  \n",
            "2                        -3.772629  \n",
            "3                        -5.783757  \n"
          ]
        }
      ],
      "source": [
        "from sklearn.metrics import mean_squared_error\n",
        "import numpy as np\n",
        "import pandas as pd\n",
        "\n",
        "# Define incremental cost prediction columns (for healthcare and payer)\n",
        "cost_preds = {\n",
        "    'BM Equal': 'equal_bm_incremental_healthcare_cost',\n",
        "    'BM Proportional': 'incremental_healthcare_cost',\n",
        "    'GP': 'gp_incremental_healthcare_cost',\n",
        "    'aggVAE': 'vae_incremental_healthcare_cost'\n",
        "}\n",
        "\n",
        "payer_preds = {\n",
        "    'BM Equal': 'equal_bm_incremental_payer_cost',\n",
        "    'BM Proportional': 'incremental_payer_cost',\n",
        "    'GP': 'gp_incremental_payer_cost',\n",
        "    'aggVAE': 'vae_incremental_payer_cost'\n",
        "}\n",
        "\n",
        "# Store evaluation results\n",
        "cost_results = []\n",
        "payer_results = []\n",
        "\n",
        "# Healthcare cost evaluation\n",
        "for model_name, pred_col in cost_preds.items():\n",
        "    y_true = cost['healthcare_cost_vaccine'].values\n",
        "    y_pred = cost[pred_col].values\n",
        "\n",
        "    # RMSE computed normally\n",
        "    rmse = np.sqrt(mean_squared_error(y_true, y_pred))\n",
        "\n",
        "    # MAE and Bias\n",
        "    mae = np.abs(y_pred - y_true)\n",
        "    bias = y_pred - y_true\n",
        "\n",
        "    # Handle division safely (exclude where observed cost = 0)\n",
        "    valid_idx = y_true != 0\n",
        "    mae_pct = np.mean((mae[valid_idx] / y_true[valid_idx]) * 100)\n",
        "    bias_pct = np.mean((bias[valid_idx] / y_true[valid_idx]) * 100)\n",
        "\n",
        "    cost_results.append({\n",
        "        'Model': model_name,\n",
        "        'RMSE': rmse,\n",
        "        'MAE (% of observed healthcare cost)': mae_pct,\n",
        "        'Bias (% of observed healthcare cost)': bias_pct\n",
        "    })\n",
        "\n",
        "# Payer cost evaluation\n",
        "for model_name, pred_col in payer_preds.items():\n",
        "    y_true = cost['payer_cost_vaccine'].values\n",
        "    y_pred = cost[pred_col].values\n",
        "\n",
        "    # RMSE computed normally\n",
        "    rmse = np.sqrt(mean_squared_error(y_true, y_pred))\n",
        "\n",
        "    # MAE and Bias\n",
        "    mae = np.abs(y_pred - y_true)\n",
        "    bias = y_pred - y_true\n",
        "\n",
        "    # Handle division safely\n",
        "    valid_idx = y_true != 0\n",
        "    mae_pct = np.mean((mae[valid_idx] / y_true[valid_idx]) * 100)\n",
        "    bias_pct = np.mean((bias[valid_idx] / y_true[valid_idx]) * 100)\n",
        "\n",
        "    payer_results.append({\n",
        "        'Model': model_name,\n",
        "        'RMSE': rmse,\n",
        "        'MAE (% of observed payer cost)': mae_pct,\n",
        "        'Bias (% of observed payer cost)': bias_pct\n",
        "    })\n",
        "\n",
        "# Convert to DataFrames\n",
        "cost_metrics_df = pd.DataFrame(cost_results)\n",
        "payer_metrics_df = pd.DataFrame(payer_results)\n",
        "\n",
        "# Output\n",
        "print(cost_metrics_df)\n",
        "print(payer_metrics_df)\n"
      ]
    },
    {
      "cell_type": "markdown",
      "metadata": {},
      "source": [
        "## Evaluation with RF included"
      ]
    },
    {
      "cell_type": "code",
      "execution_count": 52,
      "metadata": {},
      "outputs": [],
      "source": [
        "cost = cost.dropna(subset = ['rf_preds'])"
      ]
    },
    {
      "cell_type": "markdown",
      "metadata": {},
      "source": [
        "### Evaluate the raw case counts --> table 12"
      ]
    },
    {
      "cell_type": "code",
      "execution_count": 53,
      "metadata": {},
      "outputs": [
        {
          "name": "stdout",
          "output_type": "stream",
          "text": [
            "             Model        RMSE  MAE (% of observed cases)  \\\n",
            "0         BM Equal  123.002710                  84.324282   \n",
            "1  BM Proportional   64.120908                  33.732056   \n",
            "2               RF   88.062370                  59.861857   \n",
            "3               GP  136.187877                  98.715945   \n",
            "4           aggVAE   86.858821                  57.511871   \n",
            "\n",
            "   Bias (% of observed cases)  \n",
            "0                   63.419675  \n",
            "1                   17.336110  \n",
            "2                   59.649204  \n",
            "3                   98.715945  \n",
            "4                   55.286047  \n"
          ]
        }
      ],
      "source": [
        "import numpy as np\n",
        "import pandas as pd\n",
        "from sklearn.metrics import mean_squared_error\n",
        "\n",
        "# Define model predictions for dengue case counts\n",
        "model_preds = {\n",
        "    'BM Equal': 'cases_bm_equal',\n",
        "    'BM Proportional': 'cases_prop_bm',\n",
        "    \"RF\": \"rf_preds\",\n",
        "    'GP': 'gp_preds',\n",
        "    'aggVAE': 'vae_preds'\n",
        "}\n",
        "\n",
        "# Store results\n",
        "results = []\n",
        "\n",
        "for model_name, pred_col in model_preds.items():\n",
        "    y_true = cost['Cases'].values  # ensure it's a numpy array\n",
        "    y_pred = cost[pred_col].values\n",
        "\n",
        "    mae = np.abs(y_pred - y_true)\n",
        "    rmse = np.sqrt(mean_squared_error(y_true, y_pred))\n",
        "    bias = y_pred - y_true\n",
        "\n",
        "    # Compute MAE (%) and Bias (%) per point, then average\n",
        "    mae_pct = np.mean((mae / y_true) * 100)\n",
        "    bias_pct = np.mean((bias / y_true) * 100)\n",
        "\n",
        "    results.append({\n",
        "        'Model': model_name,\n",
        "        'RMSE': rmse,\n",
        "        'MAE (% of observed cases)': mae_pct,\n",
        "        'Bias (% of observed cases)': bias_pct\n",
        "    })\n",
        "\n",
        "# Convert to DataFrame\n",
        "metrics_df = pd.DataFrame(results)\n",
        "\n",
        "# View overall averages for each model (though here it's already model-level)\n",
        "summary = metrics_df[['Model', 'RMSE', 'MAE (% of observed cases)', 'Bias (% of observed cases)']]\n",
        "\n",
        "print(summary)\n"
      ]
    },
    {
      "cell_type": "markdown",
      "metadata": {},
      "source": [
        "### Evaluate the disease prevalence using the same metrics but + Spearman's for ranking preservation metric! --> table 13"
      ]
    },
    {
      "cell_type": "code",
      "execution_count": 54,
      "metadata": {},
      "outputs": [
        {
          "name": "stdout",
          "output_type": "stream",
          "text": [
            "             Model      RMSE  MAE (% of observed prevalence)  Spearman  \\\n",
            "0         BM Equal  0.001290                       84.324282  0.314286   \n",
            "1  BM Proportional  0.000403                       33.732056  0.588490   \n",
            "2               RF  0.001169                       59.861857  0.371429   \n",
            "3               GP  0.001223                       98.715945  0.085714   \n",
            "4           aggVAE  0.000780                       57.511873  0.142857   \n",
            "\n",
            "   Bias (% of observed prevalence)  \n",
            "0                        63.419675  \n",
            "1                        17.336110  \n",
            "2                        59.649204  \n",
            "3                        98.715945  \n",
            "4                        55.286048  \n"
          ]
        }
      ],
      "source": [
        "from scipy.stats import spearmanr\n",
        "from sklearn.metrics import mean_squared_error\n",
        "import numpy as np\n",
        "import pandas as pd\n",
        "\n",
        "# Define prevalence prediction columns\n",
        "prevalence_preds = {\n",
        "    'BM Equal': 'equal_bm_prevalence',\n",
        "    'BM Proportional': 'prop_bm_prevalence',\n",
        "    \"RF\": \"rf_prevalence\",\n",
        "    'GP': 'gp_prevalence',\n",
        "    'aggVAE': 'vae_prevalence'\n",
        "}\n",
        "\n",
        "# Store prevalence evaluation results\n",
        "prevalence_results = []\n",
        "\n",
        "for model_name, pred_col in prevalence_preds.items():\n",
        "    y_true = cost['obs_prevalence'].values\n",
        "    y_pred = cost[pred_col].values\n",
        "\n",
        "    # RMSE: compute normally\n",
        "    rmse = np.sqrt(mean_squared_error(y_true, y_pred))\n",
        "\n",
        "    # Spearman correlation\n",
        "    if np.unique(y_true).size > 1 and np.unique(y_pred).size > 1:\n",
        "        spearman_corr, _ = spearmanr(y_true, y_pred)\n",
        "    else:\n",
        "        spearman_corr = np.nan  # Not computable if constant series\n",
        "\n",
        "    # MAE and Bias (as percentage of *observed prevalence* at each point)\n",
        "    mae = np.abs(y_pred - y_true)\n",
        "    bias = y_pred - y_true\n",
        "\n",
        "    # Handle division safely in case y_true = 0\n",
        "    valid_idx = y_true != 0\n",
        "    mae_pct = np.mean((mae[valid_idx] / y_true[valid_idx]) * 100)\n",
        "    bias_pct = np.mean((bias[valid_idx] / y_true[valid_idx]) * 100)\n",
        "\n",
        "    prevalence_results.append({\n",
        "        'Model': model_name,\n",
        "        'RMSE': rmse,\n",
        "        'MAE (% of observed prevalence)': mae_pct,\n",
        "        'Spearman': spearman_corr,\n",
        "        'Bias (% of observed prevalence)': bias_pct\n",
        "    })\n",
        "\n",
        "# Convert to DataFrame\n",
        "prevalence_metrics_df = pd.DataFrame(prevalence_results)\n",
        "\n",
        "# View model-level averages (already one row per model now)\n",
        "prevalence_summary = prevalence_metrics_df[['Model', 'RMSE', 'MAE (% of observed prevalence)', 'Spearman', 'Bias (% of observed prevalence)']]\n",
        "\n",
        "print(prevalence_summary)"
      ]
    },
    {
      "cell_type": "markdown",
      "metadata": {},
      "source": [
        "### Evaluate the incremental cost (healthcare + payer's perspectives separately) --> tables 14 & 15"
      ]
    },
    {
      "cell_type": "code",
      "execution_count": 55,
      "metadata": {},
      "outputs": [
        {
          "name": "stdout",
          "output_type": "stream",
          "text": [
            "             Model        RMSE  MAE (% of observed healthcare cost)  \\\n",
            "0         BM Equal  190.889361                            61.381769   \n",
            "1  BM Proportional   81.038232                            28.247855   \n",
            "2               RF  185.481929                            51.913867   \n",
            "3               GP   80.477586                            27.123203   \n",
            "4           aggVAE   61.658997                            21.799482   \n",
            "\n",
            "   Bias (% of observed healthcare cost)  \n",
            "0                              1.146936  \n",
            "1                            -17.758242  \n",
            "2                              4.106988  \n",
            "3                              2.734568  \n",
            "4                            -12.108182  \n",
            "             Model        RMSE  MAE (% of observed payer cost)  \\\n",
            "0         BM Equal  191.033877                       61.973441   \n",
            "1  BM Proportional   77.927969                       27.437423   \n",
            "2               RF  185.866781                       52.305817   \n",
            "3               GP   81.154439                       26.992203   \n",
            "4           aggVAE   58.945447                       21.556179   \n",
            "\n",
            "   Bias (% of observed payer cost)  \n",
            "0                         3.280595  \n",
            "1                       -16.023381  \n",
            "2                         6.303089  \n",
            "3                         4.901718  \n",
            "4                       -10.254135  \n"
          ]
        }
      ],
      "source": [
        "from sklearn.metrics import mean_squared_error\n",
        "import numpy as np\n",
        "import pandas as pd\n",
        "\n",
        "# Define incremental cost prediction columns (for healthcare and payer)\n",
        "cost_preds = {\n",
        "    'BM Equal': 'equal_bm_incremental_healthcare_cost',\n",
        "    'BM Proportional': 'incremental_healthcare_cost',\n",
        "    \"RF\": \"rf_incremental_healthcare_cost\",\n",
        "    'GP': 'gp_incremental_healthcare_cost',\n",
        "    'aggVAE': 'vae_incremental_healthcare_cost'\n",
        "}\n",
        "\n",
        "payer_preds = {\n",
        "    'BM Equal': 'equal_bm_incremental_payer_cost',\n",
        "    'BM Proportional': 'incremental_payer_cost',\n",
        "    \"RF\": \"rf_incremental_payer_cost\",\n",
        "    'GP': 'gp_incremental_payer_cost',\n",
        "    'aggVAE': 'vae_incremental_payer_cost'\n",
        "}\n",
        "\n",
        "# Store evaluation results\n",
        "cost_results = []\n",
        "payer_results = []\n",
        "\n",
        "# Healthcare cost evaluation\n",
        "for model_name, pred_col in cost_preds.items():\n",
        "    y_true = cost['healthcare_cost_vaccine'].values\n",
        "    y_pred = cost[pred_col].values\n",
        "\n",
        "    # RMSE computed normally\n",
        "    rmse = np.sqrt(mean_squared_error(y_true, y_pred))\n",
        "\n",
        "    # MAE and Bias\n",
        "    mae = np.abs(y_pred - y_true)\n",
        "    bias = y_pred - y_true\n",
        "\n",
        "    # Handle division safely (exclude where observed cost = 0)\n",
        "    valid_idx = y_true != 0\n",
        "    mae_pct = np.mean((mae[valid_idx] / y_true[valid_idx]) * 100)\n",
        "    bias_pct = np.mean((bias[valid_idx] / y_true[valid_idx]) * 100)\n",
        "\n",
        "    cost_results.append({\n",
        "        'Model': model_name,\n",
        "        'RMSE': rmse,\n",
        "        'MAE (% of observed healthcare cost)': mae_pct,\n",
        "        'Bias (% of observed healthcare cost)': bias_pct\n",
        "    })\n",
        "\n",
        "# Payer cost evaluation\n",
        "for model_name, pred_col in payer_preds.items():\n",
        "    y_true = cost['payer_cost_vaccine'].values\n",
        "    y_pred = cost[pred_col].values\n",
        "\n",
        "    # RMSE computed normally\n",
        "    rmse = np.sqrt(mean_squared_error(y_true, y_pred))\n",
        "\n",
        "    # MAE and Bias\n",
        "    mae = np.abs(y_pred - y_true)\n",
        "    bias = y_pred - y_true\n",
        "\n",
        "    # Handle division safely\n",
        "    valid_idx = y_true != 0\n",
        "    mae_pct = np.mean((mae[valid_idx] / y_true[valid_idx]) * 100)\n",
        "    bias_pct = np.mean((bias[valid_idx] / y_true[valid_idx]) * 100)\n",
        "\n",
        "    payer_results.append({\n",
        "        'Model': model_name,\n",
        "        'RMSE': rmse,\n",
        "        'MAE (% of observed payer cost)': mae_pct,\n",
        "        'Bias (% of observed payer cost)': bias_pct\n",
        "    })\n",
        "\n",
        "# Convert to DataFrames\n",
        "cost_metrics_df = pd.DataFrame(cost_results)\n",
        "payer_metrics_df = pd.DataFrame(payer_results)\n",
        "\n",
        "# Output\n",
        "print(cost_metrics_df)\n",
        "print(payer_metrics_df)\n"
      ]
    }
  ],
  "metadata": {
    "colab": {
      "provenance": []
    },
    "kernelspec": {
      "display_name": "Python 3",
      "name": "python3"
    },
    "language_info": {
      "codemirror_mode": {
        "name": "ipython",
        "version": 3
      },
      "file_extension": ".py",
      "mimetype": "text/x-python",
      "name": "python",
      "nbconvert_exporter": "python",
      "pygments_lexer": "ipython3",
      "version": "3.13.1"
    }
  },
  "nbformat": 4,
  "nbformat_minor": 0
}
