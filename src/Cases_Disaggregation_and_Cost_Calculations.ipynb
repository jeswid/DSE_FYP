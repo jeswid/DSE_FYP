{
  "cells": [
    {
      "cell_type": "markdown",
      "metadata": {
        "id": "3ZWYClTlMV62"
      },
      "source": [
        "### Load libraries"
      ]
    },
    {
      "cell_type": "code",
      "execution_count": 849,
      "metadata": {
        "id": "mIL0szGyMC0G"
      },
      "outputs": [],
      "source": [
        "# Load libraries\n",
        "import pandas as pd\n",
        "import numpy as np\n",
        "import matplotlib.pyplot as plt\n",
        "import os\n",
        "import seaborn as sns\n",
        "import geopandas as gpd\n",
        "from sklearn.metrics import mean_absolute_error, mean_squared_error, mean_absolute_percentage_error\n"
      ]
    },
    {
      "cell_type": "markdown",
      "metadata": {
        "id": "tkeUYEujheln"
      },
      "source": [
        "### Read data"
      ]
    },
    {
      "cell_type": "code",
      "execution_count": 850,
      "metadata": {
        "id": "THLw95hOhfp9"
      },
      "outputs": [],
      "source": [
        "cost = pd.read_csv('../data/processed/cost_observed.csv')\n",
        "low = gpd.read_file('../data/processed/jkt_prov.shp')\n",
        "high = gpd.read_file('../data/processed/jkt_dist.shp')\n",
        "rf_preds = pd.read_csv('../data/processed/rf_preds.csv')"
      ]
    },
    {
      "cell_type": "code",
      "execution_count": 851,
      "metadata": {},
      "outputs": [
        {
          "data": {
            "text/plain": [
              "6"
            ]
          },
          "execution_count": 851,
          "metadata": {},
          "output_type": "execute_result"
        }
      ],
      "source": [
        "rf_preds.dropna()[\"Predicted_Cases\"].nunique()"
      ]
    },
    {
      "cell_type": "markdown",
      "metadata": {
        "id": "KNGzUm9flx0W"
      },
      "source": [
        "### Process data"
      ]
    },
    {
      "cell_type": "code",
      "execution_count": 852,
      "metadata": {
        "colab": {
          "base_uri": "https://localhost:8080/",
          "height": 0
        },
        "id": "SlzjhmCXh_b5",
        "outputId": "eb81aee6-1528-46f1-989f-7f3dde7b77be"
      },
      "outputs": [
        {
          "data": {
            "text/html": [
              "<div>\n",
              "<style scoped>\n",
              "    .dataframe tbody tr th:only-of-type {\n",
              "        vertical-align: middle;\n",
              "    }\n",
              "\n",
              "    .dataframe tbody tr th {\n",
              "        vertical-align: top;\n",
              "    }\n",
              "\n",
              "    .dataframe thead th {\n",
              "        text-align: right;\n",
              "    }\n",
              "</style>\n",
              "<table border=\"1\" class=\"dataframe\">\n",
              "  <thead>\n",
              "    <tr style=\"text-align: right;\">\n",
              "      <th></th>\n",
              "      <th>Province</th>\n",
              "      <th>Year</th>\n",
              "      <th>Cases</th>\n",
              "      <th>Population</th>\n",
              "      <th>HDI</th>\n",
              "      <th>Area_sq_km</th>\n",
              "      <th>Pop_den</th>\n",
              "      <th>urbanicity</th>\n",
              "      <th>geometry</th>\n",
              "    </tr>\n",
              "  </thead>\n",
              "  <tbody>\n",
              "    <tr>\n",
              "      <th>0</th>\n",
              "      <td>DKI Jakarta</td>\n",
              "      <td>2020</td>\n",
              "      <td>1217</td>\n",
              "      <td>801232</td>\n",
              "      <td>0.82088</td>\n",
              "      <td>653.83</td>\n",
              "      <td>1.225444</td>\n",
              "      <td>0.931345</td>\n",
              "      <td>MULTIPOLYGON (((106.84094 -6.34198, 106.8407 -...</td>\n",
              "    </tr>\n",
              "    <tr>\n",
              "      <th>1</th>\n",
              "      <td>DKI Jakarta</td>\n",
              "      <td>2021</td>\n",
              "      <td>1048</td>\n",
              "      <td>796729</td>\n",
              "      <td>0.82340</td>\n",
              "      <td>653.83</td>\n",
              "      <td>1.218557</td>\n",
              "      <td>0.931345</td>\n",
              "      <td>MULTIPOLYGON (((106.84094 -6.34198, 106.8407 -...</td>\n",
              "    </tr>\n",
              "    <tr>\n",
              "      <th>2</th>\n",
              "      <td>DKI Jakarta</td>\n",
              "      <td>2022</td>\n",
              "      <td>2113</td>\n",
              "      <td>792228</td>\n",
              "      <td>0.82818</td>\n",
              "      <td>650.50</td>\n",
              "      <td>1.217875</td>\n",
              "      <td>0.931345</td>\n",
              "      <td>MULTIPOLYGON (((106.84094 -6.34198, 106.8407 -...</td>\n",
              "    </tr>\n",
              "    <tr>\n",
              "      <th>3</th>\n",
              "      <td>DKI Jakarta</td>\n",
              "      <td>2023</td>\n",
              "      <td>1562</td>\n",
              "      <td>787726</td>\n",
              "      <td>0.83372</td>\n",
              "      <td>650.25</td>\n",
              "      <td>1.211420</td>\n",
              "      <td>0.931345</td>\n",
              "      <td>MULTIPOLYGON (((106.84094 -6.34198, 106.8407 -...</td>\n",
              "    </tr>\n",
              "  </tbody>\n",
              "</table>\n",
              "</div>"
            ],
            "text/plain": [
              "      Province  Year  Cases  Population      HDI  Area_sq_km   Pop_den  \\\n",
              "0  DKI Jakarta  2020   1217      801232  0.82088      653.83  1.225444   \n",
              "1  DKI Jakarta  2021   1048      796729  0.82340      653.83  1.218557   \n",
              "2  DKI Jakarta  2022   2113      792228  0.82818      650.50  1.217875   \n",
              "3  DKI Jakarta  2023   1562      787726  0.83372      650.25  1.211420   \n",
              "\n",
              "   urbanicity                                           geometry  \n",
              "0    0.931345  MULTIPOLYGON (((106.84094 -6.34198, 106.8407 -...  \n",
              "1    0.931345  MULTIPOLYGON (((106.84094 -6.34198, 106.8407 -...  \n",
              "2    0.931345  MULTIPOLYGON (((106.84094 -6.34198, 106.8407 -...  \n",
              "3    0.931345  MULTIPOLYGON (((106.84094 -6.34198, 106.8407 -...  "
            ]
          },
          "execution_count": 852,
          "metadata": {},
          "output_type": "execute_result"
        }
      ],
      "source": [
        "#first method of disaggregation, divide the cases evenly among all the districts\n",
        "#firstly, extract the total number of cases in DKI Jakarta, so high['Cases'] when high['Province'] == 'DKI Jakarta', for every year\n",
        "df_jakarta = low[low['Province'] == 'DKI Jakarta']\n",
        "\n",
        "df_jakarta.head()"
      ]
    },
    {
      "cell_type": "code",
      "execution_count": 853,
      "metadata": {
        "id": "tK0XzQZHjMiQ"
      },
      "outputs": [],
      "source": [
        "#create a dataframe containing total number of cases in dengue in each year from dki jakarta n west java df\n",
        "df_jakarta_yearly_total_cases = pd.DataFrame(df_jakarta.groupby('Year')['Cases'].sum())"
      ]
    },
    {
      "cell_type": "code",
      "execution_count": 854,
      "metadata": {
        "colab": {
          "base_uri": "https://localhost:8080/",
          "height": 0
        },
        "id": "2e0KY0sVjWmY",
        "outputId": "35b6cac0-79fb-432a-8e3b-829d4a20fd80"
      },
      "outputs": [
        {
          "data": {
            "text/html": [
              "<div>\n",
              "<style scoped>\n",
              "    .dataframe tbody tr th:only-of-type {\n",
              "        vertical-align: middle;\n",
              "    }\n",
              "\n",
              "    .dataframe tbody tr th {\n",
              "        vertical-align: top;\n",
              "    }\n",
              "\n",
              "    .dataframe thead th {\n",
              "        text-align: right;\n",
              "    }\n",
              "</style>\n",
              "<table border=\"1\" class=\"dataframe\">\n",
              "  <thead>\n",
              "    <tr style=\"text-align: right;\">\n",
              "      <th></th>\n",
              "      <th>Cases</th>\n",
              "    </tr>\n",
              "    <tr>\n",
              "      <th>Year</th>\n",
              "      <th></th>\n",
              "    </tr>\n",
              "  </thead>\n",
              "  <tbody>\n",
              "    <tr>\n",
              "      <th>2020</th>\n",
              "      <td>1217</td>\n",
              "    </tr>\n",
              "    <tr>\n",
              "      <th>2021</th>\n",
              "      <td>1048</td>\n",
              "    </tr>\n",
              "    <tr>\n",
              "      <th>2022</th>\n",
              "      <td>2113</td>\n",
              "    </tr>\n",
              "    <tr>\n",
              "      <th>2023</th>\n",
              "      <td>1562</td>\n",
              "    </tr>\n",
              "  </tbody>\n",
              "</table>\n",
              "</div>"
            ],
            "text/plain": [
              "      Cases\n",
              "Year       \n",
              "2020   1217\n",
              "2021   1048\n",
              "2022   2113\n",
              "2023   1562"
            ]
          },
          "execution_count": 854,
          "metadata": {},
          "output_type": "execute_result"
        }
      ],
      "source": [
        "#check head\n",
        "df_jakarta_yearly_total_cases.head()"
      ]
    },
    {
      "cell_type": "markdown",
      "metadata": {
        "id": "LWnuFo9emEk6"
      },
      "source": [
        "### Disaggregation with equal proportions and cost calculations"
      ]
    },
    {
      "cell_type": "code",
      "execution_count": 855,
      "metadata": {
        "id": "kZeZM_I8jG3e"
      },
      "outputs": [],
      "source": [
        "#from this, extract the total number of districts in DKI Jakarta from high df, so count the number of unique values of district when province column = dki jakarta\n",
        "df_jakarta_districts = len(pd.DataFrame(high[high['Province'] == 'DKI Jakarta']['District'].unique()))"
      ]
    },
    {
      "cell_type": "code",
      "execution_count": 856,
      "metadata": {
        "colab": {
          "base_uri": "https://localhost:8080/"
        },
        "id": "6VxqXMMljjeX",
        "outputId": "07eff53b-33ad-4732-edc7-462cd77a155e"
      },
      "outputs": [
        {
          "name": "stdout",
          "output_type": "stream",
          "text": [
            "5\n"
          ]
        }
      ],
      "source": [
        "print(df_jakarta_districts)"
      ]
    },
    {
      "cell_type": "code",
      "execution_count": 857,
      "metadata": {
        "colab": {
          "base_uri": "https://localhost:8080/"
        },
        "id": "ECMl033Pj5dr",
        "outputId": "ec4ad3cf-f5ee-4664-c094-9902abf18c6a"
      },
      "outputs": [
        {
          "name": "stderr",
          "output_type": "stream",
          "text": [
            "C:\\Users\\jessi\\AppData\\Local\\Temp\\ipykernel_3084\\2028081681.py:2: FutureWarning: Calling int on a single element Series is deprecated and will raise a TypeError in the future. Use int(ser.iloc[0]) instead\n",
            "  year_2020_jkt = int(df_jakarta_yearly_total_cases.loc[2020] / df_jakarta_districts)\n",
            "C:\\Users\\jessi\\AppData\\Local\\Temp\\ipykernel_3084\\2028081681.py:3: FutureWarning: Calling int on a single element Series is deprecated and will raise a TypeError in the future. Use int(ser.iloc[0]) instead\n",
            "  year_2021_jkt = int(df_jakarta_yearly_total_cases.loc[2021] / df_jakarta_districts)\n",
            "C:\\Users\\jessi\\AppData\\Local\\Temp\\ipykernel_3084\\2028081681.py:4: FutureWarning: Calling int on a single element Series is deprecated and will raise a TypeError in the future. Use int(ser.iloc[0]) instead\n",
            "  year_2022_jkt = int(df_jakarta_yearly_total_cases.loc[2022] / df_jakarta_districts)\n",
            "C:\\Users\\jessi\\AppData\\Local\\Temp\\ipykernel_3084\\2028081681.py:5: FutureWarning: Calling int on a single element Series is deprecated and will raise a TypeError in the future. Use int(ser.iloc[0]) instead\n",
            "  year_2023_jkt = int(df_jakarta_yearly_total_cases.loc[2023] / df_jakarta_districts)\n"
          ]
        }
      ],
      "source": [
        "#list out all the district - level dengue cases estimates each year\n",
        "year_2020_jkt = int(df_jakarta_yearly_total_cases.loc[2020] / df_jakarta_districts)\n",
        "year_2021_jkt = int(df_jakarta_yearly_total_cases.loc[2021] / df_jakarta_districts)\n",
        "year_2022_jkt = int(df_jakarta_yearly_total_cases.loc[2022] / df_jakarta_districts)\n",
        "year_2023_jkt = int(df_jakarta_yearly_total_cases.loc[2023] / df_jakarta_districts)"
      ]
    },
    {
      "cell_type": "code",
      "execution_count": 858,
      "metadata": {
        "id": "cUUPhnhUkqTL"
      },
      "outputs": [],
      "source": [
        "#append the disaggregated counts to the high_res file ina  new column called cases_bm_equal, only if the Province column is dki jakarta\n",
        "high.loc[(high['Province'] == 'DKI Jakarta') & (high['Year'] == 2020), 'cases_bm_equal'] = year_2020_jkt\n",
        "high.loc[(high['Province'] == 'DKI Jakarta') & (high['Year'] == 2021), 'cases_bm_equal'] = year_2021_jkt\n",
        "high.loc[(high['Province'] == 'DKI Jakarta') & (high['Year'] == 2022), 'cases_bm_equal'] = year_2022_jkt\n",
        "high.loc[(high['Province'] == 'DKI Jakarta') & (high['Year'] == 2023), 'cases_bm_equal'] = year_2023_jkt"
      ]
    },
    {
      "cell_type": "code",
      "execution_count": 859,
      "metadata": {
        "colab": {
          "base_uri": "https://localhost:8080/",
          "height": 379
        },
        "id": "QoOf38tlmteh",
        "outputId": "2ff4f6e2-081f-4864-8d39-0dd59ab00738"
      },
      "outputs": [
        {
          "data": {
            "text/html": [
              "<div>\n",
              "<style scoped>\n",
              "    .dataframe tbody tr th:only-of-type {\n",
              "        vertical-align: middle;\n",
              "    }\n",
              "\n",
              "    .dataframe tbody tr th {\n",
              "        vertical-align: top;\n",
              "    }\n",
              "\n",
              "    .dataframe thead th {\n",
              "        text-align: right;\n",
              "    }\n",
              "</style>\n",
              "<table border=\"1\" class=\"dataframe\">\n",
              "  <thead>\n",
              "    <tr style=\"text-align: right;\">\n",
              "      <th></th>\n",
              "      <th>District</th>\n",
              "      <th>Year</th>\n",
              "      <th>Area_sq_km</th>\n",
              "      <th>HDI</th>\n",
              "      <th>Province</th>\n",
              "      <th>Cases</th>\n",
              "      <th>Population</th>\n",
              "      <th>Pop_den</th>\n",
              "      <th>urbanicity</th>\n",
              "      <th>geometry</th>\n",
              "      <th>cases_bm_equal</th>\n",
              "    </tr>\n",
              "  </thead>\n",
              "  <tbody>\n",
              "    <tr>\n",
              "      <th>0</th>\n",
              "      <td>KOTA JAKARTA BARAT</td>\n",
              "      <td>2020</td>\n",
              "      <td>124.44</td>\n",
              "      <td>0.8138</td>\n",
              "      <td>DKI Jakarta</td>\n",
              "      <td>161</td>\n",
              "      <td>184826</td>\n",
              "      <td>1.485262</td>\n",
              "      <td>0.951917</td>\n",
              "      <td>POLYGON ((106.70503 -6.0956, 106.70526 -6.0956...</td>\n",
              "      <td>243.0</td>\n",
              "    </tr>\n",
              "    <tr>\n",
              "      <th>1</th>\n",
              "      <td>KOTA JAKARTA BARAT</td>\n",
              "      <td>2021</td>\n",
              "      <td>124.44</td>\n",
              "      <td>0.8176</td>\n",
              "      <td>DKI Jakarta</td>\n",
              "      <td>138</td>\n",
              "      <td>183270</td>\n",
              "      <td>1.472758</td>\n",
              "      <td>0.951917</td>\n",
              "      <td>POLYGON ((106.70503 -6.0956, 106.70526 -6.0956...</td>\n",
              "      <td>209.0</td>\n",
              "    </tr>\n",
              "    <tr>\n",
              "      <th>2</th>\n",
              "      <td>KOTA JAKARTA BARAT</td>\n",
              "      <td>2022</td>\n",
              "      <td>125.00</td>\n",
              "      <td>0.8251</td>\n",
              "      <td>DKI Jakarta</td>\n",
              "      <td>420</td>\n",
              "      <td>181715</td>\n",
              "      <td>1.453720</td>\n",
              "      <td>0.951917</td>\n",
              "      <td>POLYGON ((106.70503 -6.0956, 106.70526 -6.0956...</td>\n",
              "      <td>422.0</td>\n",
              "    </tr>\n",
              "    <tr>\n",
              "      <th>3</th>\n",
              "      <td>KOTA JAKARTA BARAT</td>\n",
              "      <td>2023</td>\n",
              "      <td>125.00</td>\n",
              "      <td>0.8302</td>\n",
              "      <td>DKI Jakarta</td>\n",
              "      <td>359</td>\n",
              "      <td>180159</td>\n",
              "      <td>1.441272</td>\n",
              "      <td>0.951917</td>\n",
              "      <td>POLYGON ((106.70503 -6.0956, 106.70526 -6.0956...</td>\n",
              "      <td>312.0</td>\n",
              "    </tr>\n",
              "    <tr>\n",
              "      <th>4</th>\n",
              "      <td>KOTA JAKARTA PUSAT</td>\n",
              "      <td>2020</td>\n",
              "      <td>52.38</td>\n",
              "      <td>0.8139</td>\n",
              "      <td>DKI Jakarta</td>\n",
              "      <td>127</td>\n",
              "      <td>73140</td>\n",
              "      <td>1.396334</td>\n",
              "      <td>0.993514</td>\n",
              "      <td>POLYGON ((106.83247 -6.14138, 106.83282 -6.141...</td>\n",
              "      <td>243.0</td>\n",
              "    </tr>\n",
              "  </tbody>\n",
              "</table>\n",
              "</div>"
            ],
            "text/plain": [
              "             District  Year  Area_sq_km     HDI     Province  Cases  \\\n",
              "0  KOTA JAKARTA BARAT  2020      124.44  0.8138  DKI Jakarta    161   \n",
              "1  KOTA JAKARTA BARAT  2021      124.44  0.8176  DKI Jakarta    138   \n",
              "2  KOTA JAKARTA BARAT  2022      125.00  0.8251  DKI Jakarta    420   \n",
              "3  KOTA JAKARTA BARAT  2023      125.00  0.8302  DKI Jakarta    359   \n",
              "4  KOTA JAKARTA PUSAT  2020       52.38  0.8139  DKI Jakarta    127   \n",
              "\n",
              "   Population   Pop_den  urbanicity  \\\n",
              "0      184826  1.485262    0.951917   \n",
              "1      183270  1.472758    0.951917   \n",
              "2      181715  1.453720    0.951917   \n",
              "3      180159  1.441272    0.951917   \n",
              "4       73140  1.396334    0.993514   \n",
              "\n",
              "                                            geometry  cases_bm_equal  \n",
              "0  POLYGON ((106.70503 -6.0956, 106.70526 -6.0956...           243.0  \n",
              "1  POLYGON ((106.70503 -6.0956, 106.70526 -6.0956...           209.0  \n",
              "2  POLYGON ((106.70503 -6.0956, 106.70526 -6.0956...           422.0  \n",
              "3  POLYGON ((106.70503 -6.0956, 106.70526 -6.0956...           312.0  \n",
              "4  POLYGON ((106.83247 -6.14138, 106.83282 -6.141...           243.0  "
            ]
          },
          "execution_count": 859,
          "metadata": {},
          "output_type": "execute_result"
        }
      ],
      "source": [
        "high.head()"
      ]
    },
    {
      "cell_type": "code",
      "execution_count": 860,
      "metadata": {},
      "outputs": [],
      "source": [
        "#append the cases_bm_equal column to NBM table\n",
        "cost = cost.merge(high[[\"Province\", \"District\", \"Year\", \"cases_bm_equal\"]], on = [\"Province\", \"District\", \"Year\"], how = \"left\")"
      ]
    },
    {
      "cell_type": "code",
      "execution_count": 861,
      "metadata": {},
      "outputs": [
        {
          "data": {
            "text/plain": [
              "20"
            ]
          },
          "execution_count": 861,
          "metadata": {},
          "output_type": "execute_result"
        }
      ],
      "source": [
        "len(cost.dropna())"
      ]
    },
    {
      "cell_type": "code",
      "execution_count": 862,
      "metadata": {
        "id": "92ixIE9bq4oh"
      },
      "outputs": [],
      "source": [
        "#calculate incremental cost for disaggregation with equal proportions\n",
        "#aggregate again, calculate sum_cases based on cases_bm_equal predictions\n",
        "\n",
        "cost['equal_bm_prevalence'] = cost['cases_bm_equal'] / cost['Population']\n",
        "\n",
        "mean_obs_prev = cost[\"equal_bm_prevalence\"].mean()\n",
        "cost[\"prev_factor\"] = cost[\"equal_bm_prevalence\"] / mean_obs_prev\n"
      ]
    },
    {
      "cell_type": "code",
      "execution_count": 863,
      "metadata": {
        "id": "UrSISy3q4aEY"
      },
      "outputs": [],
      "source": [
        "# Scale costs\n",
        "# Incremental cost per district, yearly (scaled by no of dengue cases in each district)\n",
        "cost[\"equal_bm_incremental_healthcare_cost\"] = (\n",
        "    cost[\"healthcare_cost_vaccine\"] - cost[\"healthcare_cost_non_vaccine\"]) * cost[\"prev_factor\"] * cost[\"urbanicity_factor\"] * cost[\"pop_den_factor\"]\n",
        "\n",
        "cost[\"equal_bm_incremental_payer_cost\"] = (\n",
        "    cost[\"payer_cost_vaccine\"] - cost[\"payer_cost_non_vaccine\"]) * cost[\"prev_factor\"] * cost[\"urbanicity_factor\"] * cost[\"pop_den_factor\"]"
      ]
    },
    {
      "cell_type": "markdown",
      "metadata": {
        "id": "deks7EDZ5ga6"
      },
      "source": [
        "### Population-proportion disaggregation and cost calculations"
      ]
    },
    {
      "cell_type": "code",
      "execution_count": 864,
      "metadata": {
        "colab": {
          "base_uri": "https://localhost:8080/",
          "height": 0
        },
        "id": "hT35jqLQ5j3-",
        "outputId": "94091ae6-a2fe-4414-db17-3245641ec73a"
      },
      "outputs": [
        {
          "data": {
            "text/html": [
              "<div>\n",
              "<style scoped>\n",
              "    .dataframe tbody tr th:only-of-type {\n",
              "        vertical-align: middle;\n",
              "    }\n",
              "\n",
              "    .dataframe tbody tr th {\n",
              "        vertical-align: top;\n",
              "    }\n",
              "\n",
              "    .dataframe thead th {\n",
              "        text-align: right;\n",
              "    }\n",
              "</style>\n",
              "<table border=\"1\" class=\"dataframe\">\n",
              "  <thead>\n",
              "    <tr style=\"text-align: right;\">\n",
              "      <th></th>\n",
              "      <th>Population</th>\n",
              "    </tr>\n",
              "    <tr>\n",
              "      <th>Year</th>\n",
              "      <th></th>\n",
              "    </tr>\n",
              "  </thead>\n",
              "  <tbody>\n",
              "    <tr>\n",
              "      <th>2020</th>\n",
              "      <td>801232</td>\n",
              "    </tr>\n",
              "    <tr>\n",
              "      <th>2021</th>\n",
              "      <td>796729</td>\n",
              "    </tr>\n",
              "    <tr>\n",
              "      <th>2022</th>\n",
              "      <td>792228</td>\n",
              "    </tr>\n",
              "    <tr>\n",
              "      <th>2023</th>\n",
              "      <td>787726</td>\n",
              "    </tr>\n",
              "  </tbody>\n",
              "</table>\n",
              "</div>"
            ],
            "text/plain": [
              "      Population\n",
              "Year            \n",
              "2020      801232\n",
              "2021      796729\n",
              "2022      792228\n",
              "2023      787726"
            ]
          },
          "execution_count": 864,
          "metadata": {},
          "output_type": "execute_result"
        }
      ],
      "source": [
        "#get df containing yearly total populations\n",
        "df_jakarta_yearly_total_pop = pd.DataFrame(df_jakarta.groupby('Year')['Population'].sum())\n",
        "df_jakarta_yearly_total_pop.head()"
      ]
    },
    {
      "cell_type": "code",
      "execution_count": 865,
      "metadata": {
        "id": "fIDhzAHV6Gvn"
      },
      "outputs": [],
      "source": [
        "#merge the two dfs by Year\n",
        "df_jakarta_final = df_jakarta_yearly_total_cases.merge(df_jakarta_yearly_total_pop, on='Year')\n",
        "\n",
        "#get another column called df_jakarta_final and df_java_final called Province, for merging\n",
        "df_jakarta_final['Province'] = 'DKI Jakarta'\n",
        "\n",
        "#append the suffix _Prov to both \"Cases\" and \"Population\" c0olumns in df_jakarta_final and df_java_final:\n",
        "df_jakarta_final.columns = [col + '_Prov' if col in ['Cases', 'Population'] else col for col in df_jakarta_final.columns]"
      ]
    },
    {
      "cell_type": "code",
      "execution_count": 866,
      "metadata": {
        "colab": {
          "base_uri": "https://localhost:8080/",
          "height": 0
        },
        "id": "PL-S2FwQ6J4L",
        "outputId": "3d5f6dad-4e4c-4956-c5ec-394f97f69ad9"
      },
      "outputs": [
        {
          "data": {
            "text/html": [
              "<div>\n",
              "<style scoped>\n",
              "    .dataframe tbody tr th:only-of-type {\n",
              "        vertical-align: middle;\n",
              "    }\n",
              "\n",
              "    .dataframe tbody tr th {\n",
              "        vertical-align: top;\n",
              "    }\n",
              "\n",
              "    .dataframe thead th {\n",
              "        text-align: right;\n",
              "    }\n",
              "</style>\n",
              "<table border=\"1\" class=\"dataframe\">\n",
              "  <thead>\n",
              "    <tr style=\"text-align: right;\">\n",
              "      <th></th>\n",
              "      <th>Year</th>\n",
              "      <th>Cases_Prov</th>\n",
              "      <th>Population_Prov</th>\n",
              "      <th>Province</th>\n",
              "    </tr>\n",
              "  </thead>\n",
              "  <tbody>\n",
              "    <tr>\n",
              "      <th>0</th>\n",
              "      <td>2020</td>\n",
              "      <td>1217</td>\n",
              "      <td>801232</td>\n",
              "      <td>DKI Jakarta</td>\n",
              "    </tr>\n",
              "    <tr>\n",
              "      <th>1</th>\n",
              "      <td>2021</td>\n",
              "      <td>1048</td>\n",
              "      <td>796729</td>\n",
              "      <td>DKI Jakarta</td>\n",
              "    </tr>\n",
              "    <tr>\n",
              "      <th>2</th>\n",
              "      <td>2022</td>\n",
              "      <td>2113</td>\n",
              "      <td>792228</td>\n",
              "      <td>DKI Jakarta</td>\n",
              "    </tr>\n",
              "    <tr>\n",
              "      <th>3</th>\n",
              "      <td>2023</td>\n",
              "      <td>1562</td>\n",
              "      <td>787726</td>\n",
              "      <td>DKI Jakarta</td>\n",
              "    </tr>\n",
              "  </tbody>\n",
              "</table>\n",
              "</div>"
            ],
            "text/plain": [
              "   Year  Cases_Prov  Population_Prov     Province\n",
              "0  2020        1217           801232  DKI Jakarta\n",
              "1  2021        1048           796729  DKI Jakarta\n",
              "2  2022        2113           792228  DKI Jakarta\n",
              "3  2023        1562           787726  DKI Jakarta"
            ]
          },
          "execution_count": 866,
          "metadata": {},
          "output_type": "execute_result"
        }
      ],
      "source": [
        "# Reset index of df_jakarta_final and df_java_final to make 'Year' a regular column\n",
        "df_jakarta_final = df_jakarta_final.reset_index()\n",
        "\n",
        "#check\n",
        "df_jakarta_final.head()"
      ]
    },
    {
      "cell_type": "code",
      "execution_count": 867,
      "metadata": {
        "id": "K1jSFq5L6Po4"
      },
      "outputs": [],
      "source": [
        "#now append this to the high-res dataset: so it means that if the year is 2020 cases_prop_bm = high_res[\"Population\"]/df_jakarta_final[\"Population\"] * df_jakarta_final[\"Cases\"]\n",
        "\n",
        "#merge to the high_res df by Year and Province\n",
        "high = pd.merge(high, df_jakarta_final[['Year', 'Province', 'Population_Prov', 'Cases_Prov']], on=['Year', 'Province'], how='left')\n"
      ]
    },
    {
      "cell_type": "code",
      "execution_count": 868,
      "metadata": {
        "colab": {
          "base_uri": "https://localhost:8080/",
          "height": 0
        },
        "id": "f3P1kAO98Nc8",
        "outputId": "65159d8c-7a08-4af7-8487-db32c1d1167b"
      },
      "outputs": [
        {
          "data": {
            "text/html": [
              "<div>\n",
              "<style scoped>\n",
              "    .dataframe tbody tr th:only-of-type {\n",
              "        vertical-align: middle;\n",
              "    }\n",
              "\n",
              "    .dataframe tbody tr th {\n",
              "        vertical-align: top;\n",
              "    }\n",
              "\n",
              "    .dataframe thead th {\n",
              "        text-align: right;\n",
              "    }\n",
              "</style>\n",
              "<table border=\"1\" class=\"dataframe\">\n",
              "  <thead>\n",
              "    <tr style=\"text-align: right;\">\n",
              "      <th></th>\n",
              "      <th>District</th>\n",
              "      <th>Year</th>\n",
              "      <th>Area_sq_km</th>\n",
              "      <th>HDI</th>\n",
              "      <th>Province</th>\n",
              "      <th>Cases</th>\n",
              "      <th>Population</th>\n",
              "      <th>Pop_den</th>\n",
              "      <th>urbanicity</th>\n",
              "      <th>geometry</th>\n",
              "      <th>cases_bm_equal</th>\n",
              "      <th>Population_Prov</th>\n",
              "      <th>Cases_Prov</th>\n",
              "    </tr>\n",
              "  </thead>\n",
              "  <tbody>\n",
              "    <tr>\n",
              "      <th>0</th>\n",
              "      <td>KOTA JAKARTA BARAT</td>\n",
              "      <td>2020</td>\n",
              "      <td>124.44</td>\n",
              "      <td>0.8138</td>\n",
              "      <td>DKI Jakarta</td>\n",
              "      <td>161</td>\n",
              "      <td>184826</td>\n",
              "      <td>1.485262</td>\n",
              "      <td>0.951917</td>\n",
              "      <td>POLYGON ((106.70503 -6.0956, 106.70526 -6.0956...</td>\n",
              "      <td>243.0</td>\n",
              "      <td>801232</td>\n",
              "      <td>1217</td>\n",
              "    </tr>\n",
              "    <tr>\n",
              "      <th>1</th>\n",
              "      <td>KOTA JAKARTA BARAT</td>\n",
              "      <td>2021</td>\n",
              "      <td>124.44</td>\n",
              "      <td>0.8176</td>\n",
              "      <td>DKI Jakarta</td>\n",
              "      <td>138</td>\n",
              "      <td>183270</td>\n",
              "      <td>1.472758</td>\n",
              "      <td>0.951917</td>\n",
              "      <td>POLYGON ((106.70503 -6.0956, 106.70526 -6.0956...</td>\n",
              "      <td>209.0</td>\n",
              "      <td>796729</td>\n",
              "      <td>1048</td>\n",
              "    </tr>\n",
              "    <tr>\n",
              "      <th>2</th>\n",
              "      <td>KOTA JAKARTA BARAT</td>\n",
              "      <td>2022</td>\n",
              "      <td>125.00</td>\n",
              "      <td>0.8251</td>\n",
              "      <td>DKI Jakarta</td>\n",
              "      <td>420</td>\n",
              "      <td>181715</td>\n",
              "      <td>1.453720</td>\n",
              "      <td>0.951917</td>\n",
              "      <td>POLYGON ((106.70503 -6.0956, 106.70526 -6.0956...</td>\n",
              "      <td>422.0</td>\n",
              "      <td>792228</td>\n",
              "      <td>2113</td>\n",
              "    </tr>\n",
              "    <tr>\n",
              "      <th>3</th>\n",
              "      <td>KOTA JAKARTA BARAT</td>\n",
              "      <td>2023</td>\n",
              "      <td>125.00</td>\n",
              "      <td>0.8302</td>\n",
              "      <td>DKI Jakarta</td>\n",
              "      <td>359</td>\n",
              "      <td>180159</td>\n",
              "      <td>1.441272</td>\n",
              "      <td>0.951917</td>\n",
              "      <td>POLYGON ((106.70503 -6.0956, 106.70526 -6.0956...</td>\n",
              "      <td>312.0</td>\n",
              "      <td>787726</td>\n",
              "      <td>1562</td>\n",
              "    </tr>\n",
              "    <tr>\n",
              "      <th>4</th>\n",
              "      <td>KOTA JAKARTA PUSAT</td>\n",
              "      <td>2020</td>\n",
              "      <td>52.38</td>\n",
              "      <td>0.8139</td>\n",
              "      <td>DKI Jakarta</td>\n",
              "      <td>127</td>\n",
              "      <td>73140</td>\n",
              "      <td>1.396334</td>\n",
              "      <td>0.993514</td>\n",
              "      <td>POLYGON ((106.83247 -6.14138, 106.83282 -6.141...</td>\n",
              "      <td>243.0</td>\n",
              "      <td>801232</td>\n",
              "      <td>1217</td>\n",
              "    </tr>\n",
              "  </tbody>\n",
              "</table>\n",
              "</div>"
            ],
            "text/plain": [
              "             District  Year  Area_sq_km     HDI     Province  Cases  \\\n",
              "0  KOTA JAKARTA BARAT  2020      124.44  0.8138  DKI Jakarta    161   \n",
              "1  KOTA JAKARTA BARAT  2021      124.44  0.8176  DKI Jakarta    138   \n",
              "2  KOTA JAKARTA BARAT  2022      125.00  0.8251  DKI Jakarta    420   \n",
              "3  KOTA JAKARTA BARAT  2023      125.00  0.8302  DKI Jakarta    359   \n",
              "4  KOTA JAKARTA PUSAT  2020       52.38  0.8139  DKI Jakarta    127   \n",
              "\n",
              "   Population   Pop_den  urbanicity  \\\n",
              "0      184826  1.485262    0.951917   \n",
              "1      183270  1.472758    0.951917   \n",
              "2      181715  1.453720    0.951917   \n",
              "3      180159  1.441272    0.951917   \n",
              "4       73140  1.396334    0.993514   \n",
              "\n",
              "                                            geometry  cases_bm_equal  \\\n",
              "0  POLYGON ((106.70503 -6.0956, 106.70526 -6.0956...           243.0   \n",
              "1  POLYGON ((106.70503 -6.0956, 106.70526 -6.0956...           209.0   \n",
              "2  POLYGON ((106.70503 -6.0956, 106.70526 -6.0956...           422.0   \n",
              "3  POLYGON ((106.70503 -6.0956, 106.70526 -6.0956...           312.0   \n",
              "4  POLYGON ((106.83247 -6.14138, 106.83282 -6.141...           243.0   \n",
              "\n",
              "   Population_Prov  Cases_Prov  \n",
              "0           801232        1217  \n",
              "1           796729        1048  \n",
              "2           792228        2113  \n",
              "3           787726        1562  \n",
              "4           801232        1217  "
            ]
          },
          "execution_count": 868,
          "metadata": {},
          "output_type": "execute_result"
        }
      ],
      "source": [
        "high.head()"
      ]
    },
    {
      "cell_type": "code",
      "execution_count": 869,
      "metadata": {
        "id": "brPLN2SW78YW"
      },
      "outputs": [],
      "source": [
        "#calculate the disaggregation by multiplying the total num of cases per province with the pop in the district / pop in the province\n",
        "high['cases_prop_bm'] = (high['Population'] / high['Population_Prov']) * high['Cases_Prov']"
      ]
    },
    {
      "cell_type": "code",
      "execution_count": 870,
      "metadata": {
        "id": "ARuBg5yF8jce"
      },
      "outputs": [],
      "source": [
        "#cost calculations\n",
        "#merge this with cost df\n",
        "cost = pd.merge(cost, high[['Province', 'District', 'Year', 'cases_prop_bm']], on=['Province', 'District', 'Year'], how='left')"
      ]
    },
    {
      "cell_type": "code",
      "execution_count": 871,
      "metadata": {},
      "outputs": [
        {
          "data": {
            "text/plain": [
              "20"
            ]
          },
          "execution_count": 871,
          "metadata": {},
          "output_type": "execute_result"
        }
      ],
      "source": [
        "len(cost.dropna())"
      ]
    },
    {
      "cell_type": "code",
      "execution_count": 872,
      "metadata": {
        "id": "KfMEmY3w84AT"
      },
      "outputs": [],
      "source": [
        "#calculate nbm for disaggregation with population-based proportions\n",
        "# Scale total cost to produce district-level cost per year based on cases per district per year / total num of cases over 2020-2024 nationwide, assuming that healthcare costs for dengue treatment is linearly related to the number of dengue cases per year\n",
        "# this cost factor measures the scale of the district-level, yearly dengue cases to the national-level dengue cases in total from 2020-2024.\n",
        "cost['prop_bm_prevalence'] = cost['cases_prop_bm'] / cost['Population']\n",
        "\n",
        "mean_obs_prev = cost[\"prop_bm_prevalence\"].mean()\n",
        "cost[\"prev_factor\"] = cost[\"prop_bm_prevalence\"] / mean_obs_prev\n",
        "\n",
        "# Scale costs\n",
        "# Incremental cost per district, yearly (scaled by no of dengue cases in each district)\n",
        "cost[\"incremental_healthcare_cost\"] = (\n",
        "    cost[\"healthcare_cost_vaccine\"] - cost[\"healthcare_cost_non_vaccine\"]) * cost[\"prev_factor\"] * cost[\"urbanicity_factor\"] * cost[\"pop_den_factor\"]\n",
        "\n",
        "cost[\"incremental_payer_cost\"] = (\n",
        "    cost[\"payer_cost_vaccine\"] - cost[\"payer_cost_non_vaccine\"]) * cost[\"prev_factor\"] * cost[\"urbanicity_factor\"] * cost[\"pop_den_factor\"]"
      ]
    },
    {
      "cell_type": "code",
      "execution_count": 873,
      "metadata": {},
      "outputs": [
        {
          "data": {
            "text/html": [
              "<div>\n",
              "<style scoped>\n",
              "    .dataframe tbody tr th:only-of-type {\n",
              "        vertical-align: middle;\n",
              "    }\n",
              "\n",
              "    .dataframe tbody tr th {\n",
              "        vertical-align: top;\n",
              "    }\n",
              "\n",
              "    .dataframe thead th {\n",
              "        text-align: right;\n",
              "    }\n",
              "</style>\n",
              "<table border=\"1\" class=\"dataframe\">\n",
              "  <thead>\n",
              "    <tr style=\"text-align: right;\">\n",
              "      <th></th>\n",
              "      <th>Unnamed: 0</th>\n",
              "      <th>District</th>\n",
              "      <th>Year</th>\n",
              "      <th>Area_sq_km</th>\n",
              "      <th>HDI</th>\n",
              "      <th>Province</th>\n",
              "      <th>Cases</th>\n",
              "      <th>Population</th>\n",
              "      <th>Pop_den</th>\n",
              "      <th>urbanicity</th>\n",
              "      <th>...</th>\n",
              "      <th>obs_incremental_healthcare_cost</th>\n",
              "      <th>obs_incremental_payer_cost</th>\n",
              "      <th>cases_bm_equal</th>\n",
              "      <th>equal_bm_prevalence</th>\n",
              "      <th>equal_bm_incremental_healthcare_cost</th>\n",
              "      <th>equal_bm_incremental_payer_cost</th>\n",
              "      <th>cases_prop_bm</th>\n",
              "      <th>prop_bm_prevalence</th>\n",
              "      <th>incremental_healthcare_cost</th>\n",
              "      <th>incremental_payer_cost</th>\n",
              "    </tr>\n",
              "  </thead>\n",
              "  <tbody>\n",
              "    <tr>\n",
              "      <th>0</th>\n",
              "      <td>0</td>\n",
              "      <td>KOTA JAKARTA BARAT</td>\n",
              "      <td>2020</td>\n",
              "      <td>124.44</td>\n",
              "      <td>0.8138</td>\n",
              "      <td>DKI Jakarta</td>\n",
              "      <td>161</td>\n",
              "      <td>184826</td>\n",
              "      <td>1.485262</td>\n",
              "      <td>0.951917</td>\n",
              "      <td>...</td>\n",
              "      <td>141.142320</td>\n",
              "      <td>141.124821</td>\n",
              "      <td>243.0</td>\n",
              "      <td>0.001315</td>\n",
              "      <td>183.574348</td>\n",
              "      <td>183.551589</td>\n",
              "      <td>280.734222</td>\n",
              "      <td>0.001519</td>\n",
              "      <td>246.085096</td>\n",
              "      <td>246.054587</td>\n",
              "    </tr>\n",
              "    <tr>\n",
              "      <th>1</th>\n",
              "      <td>1</td>\n",
              "      <td>KOTA JAKARTA BARAT</td>\n",
              "      <td>2021</td>\n",
              "      <td>124.44</td>\n",
              "      <td>0.8176</td>\n",
              "      <td>DKI Jakarta</td>\n",
              "      <td>138</td>\n",
              "      <td>183270</td>\n",
              "      <td>1.472758</td>\n",
              "      <td>0.951917</td>\n",
              "      <td>...</td>\n",
              "      <td>120.979131</td>\n",
              "      <td>120.964133</td>\n",
              "      <td>209.0</td>\n",
              "      <td>0.001140</td>\n",
              "      <td>157.889048</td>\n",
              "      <td>157.869474</td>\n",
              "      <td>241.069372</td>\n",
              "      <td>0.001315</td>\n",
              "      <td>211.315810</td>\n",
              "      <td>211.289612</td>\n",
              "    </tr>\n",
              "    <tr>\n",
              "      <th>2</th>\n",
              "      <td>2</td>\n",
              "      <td>KOTA JAKARTA BARAT</td>\n",
              "      <td>2022</td>\n",
              "      <td>125.00</td>\n",
              "      <td>0.8251</td>\n",
              "      <td>DKI Jakarta</td>\n",
              "      <td>420</td>\n",
              "      <td>181715</td>\n",
              "      <td>1.453720</td>\n",
              "      <td>0.951917</td>\n",
              "      <td>...</td>\n",
              "      <td>366.547831</td>\n",
              "      <td>366.502388</td>\n",
              "      <td>422.0</td>\n",
              "      <td>0.002322</td>\n",
              "      <td>317.371673</td>\n",
              "      <td>317.332327</td>\n",
              "      <td>484.663247</td>\n",
              "      <td>0.002667</td>\n",
              "      <td>422.941237</td>\n",
              "      <td>422.888803</td>\n",
              "    </tr>\n",
              "    <tr>\n",
              "      <th>3</th>\n",
              "      <td>3</td>\n",
              "      <td>KOTA JAKARTA BARAT</td>\n",
              "      <td>2023</td>\n",
              "      <td>125.00</td>\n",
              "      <td>0.8302</td>\n",
              "      <td>DKI Jakarta</td>\n",
              "      <td>359</td>\n",
              "      <td>180159</td>\n",
              "      <td>1.441272</td>\n",
              "      <td>0.951917</td>\n",
              "      <td>...</td>\n",
              "      <td>313.311122</td>\n",
              "      <td>313.272279</td>\n",
              "      <td>312.0</td>\n",
              "      <td>0.001732</td>\n",
              "      <td>234.644460</td>\n",
              "      <td>234.615370</td>\n",
              "      <td>357.241424</td>\n",
              "      <td>0.001983</td>\n",
              "      <td>311.746621</td>\n",
              "      <td>311.707973</td>\n",
              "    </tr>\n",
              "    <tr>\n",
              "      <th>4</th>\n",
              "      <td>4</td>\n",
              "      <td>KOTA JAKARTA PUSAT</td>\n",
              "      <td>2020</td>\n",
              "      <td>52.38</td>\n",
              "      <td>0.8139</td>\n",
              "      <td>DKI Jakarta</td>\n",
              "      <td>127</td>\n",
              "      <td>73140</td>\n",
              "      <td>1.396334</td>\n",
              "      <td>0.993514</td>\n",
              "      <td>...</td>\n",
              "      <td>276.060659</td>\n",
              "      <td>276.026434</td>\n",
              "      <td>243.0</td>\n",
              "      <td>0.003322</td>\n",
              "      <td>455.178164</td>\n",
              "      <td>455.121733</td>\n",
              "      <td>111.093142</td>\n",
              "      <td>0.001519</td>\n",
              "      <td>241.460796</td>\n",
              "      <td>241.430860</td>\n",
              "    </tr>\n",
              "  </tbody>\n",
              "</table>\n",
              "<p>5 rows × 34 columns</p>\n",
              "</div>"
            ],
            "text/plain": [
              "   Unnamed: 0            District  Year  Area_sq_km     HDI     Province  \\\n",
              "0           0  KOTA JAKARTA BARAT  2020      124.44  0.8138  DKI Jakarta   \n",
              "1           1  KOTA JAKARTA BARAT  2021      124.44  0.8176  DKI Jakarta   \n",
              "2           2  KOTA JAKARTA BARAT  2022      125.00  0.8251  DKI Jakarta   \n",
              "3           3  KOTA JAKARTA BARAT  2023      125.00  0.8302  DKI Jakarta   \n",
              "4           4  KOTA JAKARTA PUSAT  2020       52.38  0.8139  DKI Jakarta   \n",
              "\n",
              "   Cases  Population   Pop_den  urbanicity  ...  \\\n",
              "0    161      184826  1.485262    0.951917  ...   \n",
              "1    138      183270  1.472758    0.951917  ...   \n",
              "2    420      181715  1.453720    0.951917  ...   \n",
              "3    359      180159  1.441272    0.951917  ...   \n",
              "4    127       73140  1.396334    0.993514  ...   \n",
              "\n",
              "  obs_incremental_healthcare_cost  obs_incremental_payer_cost  cases_bm_equal  \\\n",
              "0                      141.142320                  141.124821           243.0   \n",
              "1                      120.979131                  120.964133           209.0   \n",
              "2                      366.547831                  366.502388           422.0   \n",
              "3                      313.311122                  313.272279           312.0   \n",
              "4                      276.060659                  276.026434           243.0   \n",
              "\n",
              "   equal_bm_prevalence  equal_bm_incremental_healthcare_cost  \\\n",
              "0             0.001315                            183.574348   \n",
              "1             0.001140                            157.889048   \n",
              "2             0.002322                            317.371673   \n",
              "3             0.001732                            234.644460   \n",
              "4             0.003322                            455.178164   \n",
              "\n",
              "   equal_bm_incremental_payer_cost  cases_prop_bm  prop_bm_prevalence  \\\n",
              "0                       183.551589     280.734222            0.001519   \n",
              "1                       157.869474     241.069372            0.001315   \n",
              "2                       317.332327     484.663247            0.002667   \n",
              "3                       234.615370     357.241424            0.001983   \n",
              "4                       455.121733     111.093142            0.001519   \n",
              "\n",
              "   incremental_healthcare_cost  incremental_payer_cost  \n",
              "0                   246.085096              246.054587  \n",
              "1                   211.315810              211.289612  \n",
              "2                   422.941237              422.888803  \n",
              "3                   311.746621              311.707973  \n",
              "4                   241.460796              241.430860  \n",
              "\n",
              "[5 rows x 34 columns]"
            ]
          },
          "execution_count": 873,
          "metadata": {},
          "output_type": "execute_result"
        }
      ],
      "source": [
        "cost.head()"
      ]
    },
    {
      "cell_type": "markdown",
      "metadata": {
        "id": "M1Uv95KS9JAr"
      },
      "source": [
        "### Random-forest-based (hdi and pop den) disaggregation and cost calculations"
      ]
    },
    {
      "cell_type": "code",
      "execution_count": 874,
      "metadata": {
        "id": "QedKVhkAQ-Bm"
      },
      "outputs": [],
      "source": [
        "#merge the rf_preds cases to the high and nbm dfs:\n",
        "#rename Predicted_Cases to rf_preds\n",
        "rf_preds = rf_preds.rename(columns={'Predicted_Cases': 'rf_preds'})\n",
        "high = pd.merge(high, rf_preds[[\"HDI\",\"urbanicity\", \"rf_preds\"]], on = [\"HDI\",\"urbanicity\"], how='left')"
      ]
    },
    {
      "cell_type": "code",
      "execution_count": 875,
      "metadata": {},
      "outputs": [
        {
          "data": {
            "text/plain": [
              "6"
            ]
          },
          "execution_count": 875,
          "metadata": {},
          "output_type": "execute_result"
        }
      ],
      "source": [
        "len(rf_preds['rf_preds'].unique())"
      ]
    },
    {
      "cell_type": "code",
      "execution_count": 876,
      "metadata": {},
      "outputs": [
        {
          "data": {
            "text/plain": [
              "6"
            ]
          },
          "execution_count": 876,
          "metadata": {},
          "output_type": "execute_result"
        }
      ],
      "source": [
        "#check the columns for high\n",
        "high.dropna(subset=['rf_preds'])[\"rf_preds\"].shape[0]"
      ]
    },
    {
      "cell_type": "code",
      "execution_count": 877,
      "metadata": {},
      "outputs": [
        {
          "data": {
            "text/html": [
              "<div>\n",
              "<style scoped>\n",
              "    .dataframe tbody tr th:only-of-type {\n",
              "        vertical-align: middle;\n",
              "    }\n",
              "\n",
              "    .dataframe tbody tr th {\n",
              "        vertical-align: top;\n",
              "    }\n",
              "\n",
              "    .dataframe thead th {\n",
              "        text-align: right;\n",
              "    }\n",
              "</style>\n",
              "<table border=\"1\" class=\"dataframe\">\n",
              "  <thead>\n",
              "    <tr style=\"text-align: right;\">\n",
              "      <th></th>\n",
              "      <th>District</th>\n",
              "      <th>Year</th>\n",
              "      <th>Area_sq_km</th>\n",
              "      <th>HDI</th>\n",
              "      <th>Province</th>\n",
              "      <th>Cases</th>\n",
              "      <th>Population</th>\n",
              "      <th>Pop_den</th>\n",
              "      <th>urbanicity</th>\n",
              "      <th>geometry</th>\n",
              "      <th>cases_bm_equal</th>\n",
              "      <th>Population_Prov</th>\n",
              "      <th>Cases_Prov</th>\n",
              "      <th>cases_prop_bm</th>\n",
              "      <th>rf_preds</th>\n",
              "    </tr>\n",
              "  </thead>\n",
              "  <tbody>\n",
              "    <tr>\n",
              "      <th>0</th>\n",
              "      <td>KOTA JAKARTA BARAT</td>\n",
              "      <td>2020</td>\n",
              "      <td>124.44</td>\n",
              "      <td>0.8138</td>\n",
              "      <td>DKI Jakarta</td>\n",
              "      <td>161</td>\n",
              "      <td>184826</td>\n",
              "      <td>1.485262</td>\n",
              "      <td>0.951917</td>\n",
              "      <td>POLYGON ((106.70503 -6.0956, 106.70526 -6.0956...</td>\n",
              "      <td>243.0</td>\n",
              "      <td>801232</td>\n",
              "      <td>1217</td>\n",
              "      <td>280.734222</td>\n",
              "      <td>183.108</td>\n",
              "    </tr>\n",
              "    <tr>\n",
              "      <th>1</th>\n",
              "      <td>KOTA JAKARTA BARAT</td>\n",
              "      <td>2021</td>\n",
              "      <td>124.44</td>\n",
              "      <td>0.8176</td>\n",
              "      <td>DKI Jakarta</td>\n",
              "      <td>138</td>\n",
              "      <td>183270</td>\n",
              "      <td>1.472758</td>\n",
              "      <td>0.951917</td>\n",
              "      <td>POLYGON ((106.70503 -6.0956, 106.70526 -6.0956...</td>\n",
              "      <td>209.0</td>\n",
              "      <td>796729</td>\n",
              "      <td>1048</td>\n",
              "      <td>241.069372</td>\n",
              "      <td>NaN</td>\n",
              "    </tr>\n",
              "    <tr>\n",
              "      <th>2</th>\n",
              "      <td>KOTA JAKARTA BARAT</td>\n",
              "      <td>2022</td>\n",
              "      <td>125.00</td>\n",
              "      <td>0.8251</td>\n",
              "      <td>DKI Jakarta</td>\n",
              "      <td>420</td>\n",
              "      <td>181715</td>\n",
              "      <td>1.453720</td>\n",
              "      <td>0.951917</td>\n",
              "      <td>POLYGON ((106.70503 -6.0956, 106.70526 -6.0956...</td>\n",
              "      <td>422.0</td>\n",
              "      <td>792228</td>\n",
              "      <td>2113</td>\n",
              "      <td>484.663247</td>\n",
              "      <td>NaN</td>\n",
              "    </tr>\n",
              "    <tr>\n",
              "      <th>3</th>\n",
              "      <td>KOTA JAKARTA BARAT</td>\n",
              "      <td>2023</td>\n",
              "      <td>125.00</td>\n",
              "      <td>0.8302</td>\n",
              "      <td>DKI Jakarta</td>\n",
              "      <td>359</td>\n",
              "      <td>180159</td>\n",
              "      <td>1.441272</td>\n",
              "      <td>0.951917</td>\n",
              "      <td>POLYGON ((106.70503 -6.0956, 106.70526 -6.0956...</td>\n",
              "      <td>312.0</td>\n",
              "      <td>787726</td>\n",
              "      <td>1562</td>\n",
              "      <td>357.241424</td>\n",
              "      <td>NaN</td>\n",
              "    </tr>\n",
              "    <tr>\n",
              "      <th>4</th>\n",
              "      <td>KOTA JAKARTA PUSAT</td>\n",
              "      <td>2020</td>\n",
              "      <td>52.38</td>\n",
              "      <td>0.8139</td>\n",
              "      <td>DKI Jakarta</td>\n",
              "      <td>127</td>\n",
              "      <td>73140</td>\n",
              "      <td>1.396334</td>\n",
              "      <td>0.993514</td>\n",
              "      <td>POLYGON ((106.83247 -6.14138, 106.83282 -6.141...</td>\n",
              "      <td>243.0</td>\n",
              "      <td>801232</td>\n",
              "      <td>1217</td>\n",
              "      <td>111.093142</td>\n",
              "      <td>NaN</td>\n",
              "    </tr>\n",
              "  </tbody>\n",
              "</table>\n",
              "</div>"
            ],
            "text/plain": [
              "             District  Year  Area_sq_km     HDI     Province  Cases  \\\n",
              "0  KOTA JAKARTA BARAT  2020      124.44  0.8138  DKI Jakarta    161   \n",
              "1  KOTA JAKARTA BARAT  2021      124.44  0.8176  DKI Jakarta    138   \n",
              "2  KOTA JAKARTA BARAT  2022      125.00  0.8251  DKI Jakarta    420   \n",
              "3  KOTA JAKARTA BARAT  2023      125.00  0.8302  DKI Jakarta    359   \n",
              "4  KOTA JAKARTA PUSAT  2020       52.38  0.8139  DKI Jakarta    127   \n",
              "\n",
              "   Population   Pop_den  urbanicity  \\\n",
              "0      184826  1.485262    0.951917   \n",
              "1      183270  1.472758    0.951917   \n",
              "2      181715  1.453720    0.951917   \n",
              "3      180159  1.441272    0.951917   \n",
              "4       73140  1.396334    0.993514   \n",
              "\n",
              "                                            geometry  cases_bm_equal  \\\n",
              "0  POLYGON ((106.70503 -6.0956, 106.70526 -6.0956...           243.0   \n",
              "1  POLYGON ((106.70503 -6.0956, 106.70526 -6.0956...           209.0   \n",
              "2  POLYGON ((106.70503 -6.0956, 106.70526 -6.0956...           422.0   \n",
              "3  POLYGON ((106.70503 -6.0956, 106.70526 -6.0956...           312.0   \n",
              "4  POLYGON ((106.83247 -6.14138, 106.83282 -6.141...           243.0   \n",
              "\n",
              "   Population_Prov  Cases_Prov  cases_prop_bm  rf_preds  \n",
              "0           801232        1217     280.734222   183.108  \n",
              "1           796729        1048     241.069372       NaN  \n",
              "2           792228        2113     484.663247       NaN  \n",
              "3           787726        1562     357.241424       NaN  \n",
              "4           801232        1217     111.093142       NaN  "
            ]
          },
          "execution_count": 877,
          "metadata": {},
          "output_type": "execute_result"
        }
      ],
      "source": [
        "high.head()"
      ]
    },
    {
      "cell_type": "code",
      "execution_count": 878,
      "metadata": {
        "colab": {
          "base_uri": "https://localhost:8080/",
          "height": 359
        },
        "id": "YczU_AP_R2hN",
        "outputId": "fcdefcac-1551-4985-9f05-f5ff4f4bfbe7"
      },
      "outputs": [],
      "source": [
        "cost = cost.merge(high[[\"Year\", \"District\", \"rf_preds\"]], on = [\"Year\", \"District\"], how = \"left\")"
      ]
    },
    {
      "cell_type": "code",
      "execution_count": 879,
      "metadata": {},
      "outputs": [
        {
          "data": {
            "text/plain": [
              "Unnamed: 0                               0\n",
              "District                                 0\n",
              "Year                                     0\n",
              "Area_sq_km                               0\n",
              "HDI                                      0\n",
              "Province                                 0\n",
              "Cases                                    0\n",
              "Population                               0\n",
              "Pop_den                                  0\n",
              "urbanicity                               0\n",
              "geometry                                 0\n",
              "le_factor                                0\n",
              "burden_non_vaccine                       0\n",
              "burden_vaccine                           0\n",
              "healthcare_cost_non_vaccine              0\n",
              "healthcare_cost_vaccine                  0\n",
              "payer_cost_non_vaccine                   0\n",
              "payer_cost_vaccine                       0\n",
              "mean_urbanicity                          0\n",
              "mean_pop_den                             0\n",
              "urbanicity_factor                        0\n",
              "pop_den_factor                           0\n",
              "obs_prevalence                           0\n",
              "prev_factor                              0\n",
              "obs_incremental_healthcare_cost          0\n",
              "obs_incremental_payer_cost               0\n",
              "cases_bm_equal                           0\n",
              "equal_bm_prevalence                      0\n",
              "equal_bm_incremental_healthcare_cost     0\n",
              "equal_bm_incremental_payer_cost          0\n",
              "cases_prop_bm                            0\n",
              "prop_bm_prevalence                       0\n",
              "incremental_healthcare_cost              0\n",
              "incremental_payer_cost                   0\n",
              "rf_preds                                14\n",
              "dtype: int64"
            ]
          },
          "execution_count": 879,
          "metadata": {},
          "output_type": "execute_result"
        }
      ],
      "source": [
        "cost.isna().sum()"
      ]
    },
    {
      "cell_type": "code",
      "execution_count": 880,
      "metadata": {
        "id": "9NL_2OVmVzib"
      },
      "outputs": [],
      "source": [
        "# calculate nbm for rf\n",
        "# Scale total cost to produce district-level cost per year based on cases per district per year / total num of cases over 2020-2024 nationwide, assuming that healthcare costs for dengue treatment is linearly related to the number of dengue cases per year\n",
        "# this cost factor measures the scale of the district-level, yearly dengue cases to the national-level dengue cases in total from 2020-2024.\n",
        "cost['rf_prevalence'] = cost['rf_preds'] / cost[\"Population\"]\n",
        "\n",
        "\n",
        "mean_obs_prev = cost[\"rf_prevalence\"].mean()\n",
        "cost[\"prev_factor\"] = cost[\"rf_prevalence\"] / mean_obs_prev\n",
        "\n",
        "# Scale costs\n",
        "# Incremental cost per district, yearly (scaled by no of dengue cases in each district)\n",
        "cost[\"rf_incremental_healthcare_cost\"] = (\n",
        "    cost[\"healthcare_cost_vaccine\"] - cost[\"healthcare_cost_non_vaccine\"]) * cost[\"prev_factor\"] * cost[\"urbanicity_factor\"] * cost[\"pop_den_factor\"]\n",
        "\n",
        "cost[\"rf_incremental_payer_cost\"] = (\n",
        "    cost[\"payer_cost_vaccine\"] - cost[\"payer_cost_non_vaccine\"]) * cost[\"prev_factor\"] * cost[\"urbanicity_factor\"] * cost[\"pop_den_factor\"]"
      ]
    },
    {
      "cell_type": "code",
      "execution_count": 881,
      "metadata": {
        "colab": {
          "base_uri": "https://localhost:8080/",
          "height": 359
        },
        "id": "Lu6KzQxcXKwA",
        "outputId": "1a38b595-147c-4a7d-8bcb-80e2b505f120"
      },
      "outputs": [
        {
          "name": "stdout",
          "output_type": "stream",
          "text": [
            "20\n"
          ]
        }
      ],
      "source": [
        "print(cost.shape[0])\n"
      ]
    },
    {
      "cell_type": "markdown",
      "metadata": {},
      "source": [
        "### aggGP-based disaggregation and cost calculations"
      ]
    },
    {
      "cell_type": "code",
      "execution_count": 882,
      "metadata": {},
      "outputs": [],
      "source": [
        "#read in the gp-preds data for all years and append them\n",
        "gp_2020 = pd.read_csv(\"../data/processed/df_hi_jkt_w_pred_2020.csv\")\n",
        "gp_2021 = pd.read_csv(\"../data/processed/df_hi_jkt_w_pred_2021.csv\")\n",
        "gp_2022 = pd.read_csv(\"../data/processed/df_hi_jkt_w_pred_2022.csv\")\n",
        "gp_2023 = pd.read_csv(\"../data/processed/df_hi_jkt_w_pred_2023.csv\")"
      ]
    },
    {
      "cell_type": "code",
      "execution_count": 883,
      "metadata": {},
      "outputs": [
        {
          "data": {
            "text/html": [
              "<div>\n",
              "<style scoped>\n",
              "    .dataframe tbody tr th:only-of-type {\n",
              "        vertical-align: middle;\n",
              "    }\n",
              "\n",
              "    .dataframe tbody tr th {\n",
              "        vertical-align: top;\n",
              "    }\n",
              "\n",
              "    .dataframe thead th {\n",
              "        text-align: right;\n",
              "    }\n",
              "</style>\n",
              "<table border=\"1\" class=\"dataframe\">\n",
              "  <thead>\n",
              "    <tr style=\"text-align: right;\">\n",
              "      <th></th>\n",
              "      <th>Unnamed: 0</th>\n",
              "      <th>District</th>\n",
              "      <th>Year</th>\n",
              "      <th>Area_sq_km</th>\n",
              "      <th>HDI</th>\n",
              "      <th>Province</th>\n",
              "      <th>Cases</th>\n",
              "      <th>Population</th>\n",
              "      <th>Pop_den</th>\n",
              "      <th>urbanicity</th>\n",
              "      <th>geometry</th>\n",
              "      <th>incidence</th>\n",
              "      <th>pred_cases</th>\n",
              "    </tr>\n",
              "  </thead>\n",
              "  <tbody>\n",
              "    <tr>\n",
              "      <th>0</th>\n",
              "      <td>0</td>\n",
              "      <td>KOTA JAKARTA BARAT</td>\n",
              "      <td>2020</td>\n",
              "      <td>124.44</td>\n",
              "      <td>0.8138</td>\n",
              "      <td>DKI Jakarta</td>\n",
              "      <td>161</td>\n",
              "      <td>184826</td>\n",
              "      <td>1.485262</td>\n",
              "      <td>0.951917</td>\n",
              "      <td>POLYGON ((106.70503370000006 -6.09559559999996...</td>\n",
              "      <td>0.000871</td>\n",
              "      <td>0.001673</td>\n",
              "    </tr>\n",
              "    <tr>\n",
              "      <th>1</th>\n",
              "      <td>4</td>\n",
              "      <td>KOTA JAKARTA PUSAT</td>\n",
              "      <td>2020</td>\n",
              "      <td>52.38</td>\n",
              "      <td>0.8139</td>\n",
              "      <td>DKI Jakarta</td>\n",
              "      <td>127</td>\n",
              "      <td>73140</td>\n",
              "      <td>1.396334</td>\n",
              "      <td>0.993514</td>\n",
              "      <td>POLYGON ((106.83246630000008 -6.14137699999997...</td>\n",
              "      <td>0.001736</td>\n",
              "      <td>0.002774</td>\n",
              "    </tr>\n",
              "    <tr>\n",
              "      <th>2</th>\n",
              "      <td>8</td>\n",
              "      <td>KOTA JAKARTA SELATAN</td>\n",
              "      <td>2020</td>\n",
              "      <td>154.32</td>\n",
              "      <td>0.8472</td>\n",
              "      <td>DKI Jakarta</td>\n",
              "      <td>288</td>\n",
              "      <td>160968</td>\n",
              "      <td>1.043079</td>\n",
              "      <td>0.972088</td>\n",
              "      <td>POLYGON ((106.83399450000007 -6.20492189999993...</td>\n",
              "      <td>0.001789</td>\n",
              "      <td>0.002233</td>\n",
              "    </tr>\n",
              "    <tr>\n",
              "      <th>3</th>\n",
              "      <td>12</td>\n",
              "      <td>KOTA JAKARTA TIMUR</td>\n",
              "      <td>2020</td>\n",
              "      <td>182.70</td>\n",
              "      <td>0.8266</td>\n",
              "      <td>DKI Jakarta</td>\n",
              "      <td>396</td>\n",
              "      <td>238497</td>\n",
              "      <td>1.305402</td>\n",
              "      <td>0.930291</td>\n",
              "      <td>POLYGON ((106.94010940000004 -6.15492309999996...</td>\n",
              "      <td>0.001660</td>\n",
              "      <td>0.001884</td>\n",
              "    </tr>\n",
              "    <tr>\n",
              "      <th>4</th>\n",
              "      <td>16</td>\n",
              "      <td>KOTA JAKARTA UTARA</td>\n",
              "      <td>2020</td>\n",
              "      <td>139.99</td>\n",
              "      <td>0.8029</td>\n",
              "      <td>DKI Jakarta</td>\n",
              "      <td>245</td>\n",
              "      <td>143801</td>\n",
              "      <td>1.027223</td>\n",
              "      <td>0.850775</td>\n",
              "      <td>MULTIPOLYGON (((106.87676710000005 -6.10030039...</td>\n",
              "      <td>0.001704</td>\n",
              "      <td>0.002771</td>\n",
              "    </tr>\n",
              "  </tbody>\n",
              "</table>\n",
              "</div>"
            ],
            "text/plain": [
              "   Unnamed: 0              District  Year  Area_sq_km     HDI     Province  \\\n",
              "0           0    KOTA JAKARTA BARAT  2020      124.44  0.8138  DKI Jakarta   \n",
              "1           4    KOTA JAKARTA PUSAT  2020       52.38  0.8139  DKI Jakarta   \n",
              "2           8  KOTA JAKARTA SELATAN  2020      154.32  0.8472  DKI Jakarta   \n",
              "3          12    KOTA JAKARTA TIMUR  2020      182.70  0.8266  DKI Jakarta   \n",
              "4          16    KOTA JAKARTA UTARA  2020      139.99  0.8029  DKI Jakarta   \n",
              "\n",
              "   Cases  Population   Pop_den  urbanicity  \\\n",
              "0    161      184826  1.485262    0.951917   \n",
              "1    127       73140  1.396334    0.993514   \n",
              "2    288      160968  1.043079    0.972088   \n",
              "3    396      238497  1.305402    0.930291   \n",
              "4    245      143801  1.027223    0.850775   \n",
              "\n",
              "                                            geometry  incidence  pred_cases  \n",
              "0  POLYGON ((106.70503370000006 -6.09559559999996...   0.000871    0.001673  \n",
              "1  POLYGON ((106.83246630000008 -6.14137699999997...   0.001736    0.002774  \n",
              "2  POLYGON ((106.83399450000007 -6.20492189999993...   0.001789    0.002233  \n",
              "3  POLYGON ((106.94010940000004 -6.15492309999996...   0.001660    0.001884  \n",
              "4  MULTIPOLYGON (((106.87676710000005 -6.10030039...   0.001704    0.002771  "
            ]
          },
          "execution_count": 883,
          "metadata": {},
          "output_type": "execute_result"
        }
      ],
      "source": [
        "gp_2020.head()"
      ]
    },
    {
      "cell_type": "code",
      "execution_count": 884,
      "metadata": {},
      "outputs": [],
      "source": [
        "#delete the first column for all the datasets and reset index, also combine all the predictons into one df\n",
        "# Define function to clean each DataFrame\n",
        "def clean_df(df):\n",
        "    df = df.drop(columns=[\"Unnamed: 0\"], errors=\"ignore\")\n",
        "    return df.reset_index(drop=True)\n",
        "\n",
        "# Clean all\n",
        "gp_2020 = clean_df(gp_2020)\n",
        "gp_2021 = clean_df(gp_2021)\n",
        "gp_2022 = clean_df(gp_2022)\n",
        "gp_2023 = clean_df(gp_2023)\n",
        "\n",
        "# Combine\n",
        "gp_all_years = pd.concat([gp_2020, gp_2021, gp_2022, gp_2023], axis=0).reset_index(drop=True)\n"
      ]
    },
    {
      "cell_type": "code",
      "execution_count": 885,
      "metadata": {},
      "outputs": [],
      "source": [
        "# Calculate the gp_pred_cases from pred_cases * Population\n",
        "gp_all_years[\"gp_preds\"] = gp_all_years[\"pred_cases\"] * gp_all_years[\"Population\"]\n",
        "\n",
        "# Rename 'pred_cases' to 'gp_prevalence'\n",
        "gp_all_years = gp_all_years.rename(columns={\"pred_cases\": \"gp_prevalence\"})\n",
        "\n",
        "# Subset the relevant columns\n",
        "gp_subset = gp_all_years[[\"District\", \"Year\", \"gp_prevalence\", \"gp_preds\"]]\n",
        "\n",
        "# Merge by District and Year\n",
        "cost = pd.merge(cost, gp_subset, on=[\"District\", \"Year\"], how=\"left\")\n"
      ]
    },
    {
      "cell_type": "code",
      "execution_count": 886,
      "metadata": {},
      "outputs": [],
      "source": [
        "# Scale costs\n",
        "mean_obs_prev = cost[\"gp_prevalence\"].mean()\n",
        "cost[\"prev_factor\"] = cost[\"gp_prevalence\"] / mean_obs_prev\n",
        "\n",
        "# Incremental cost per district, yearly (scaled by no of dengue cases in each district)\n",
        "cost[\"gp_incremental_healthcare_cost\"] = (\n",
        "    cost[\"healthcare_cost_vaccine\"] - cost[\"healthcare_cost_non_vaccine\"]) * cost[\"prev_factor\"] * cost[\"urbanicity_factor\"] * cost[\"pop_den_factor\"]\n",
        "\n",
        "cost[\"gp_incremental_payer_cost\"] = (\n",
        "    cost[\"payer_cost_vaccine\"] - cost[\"payer_cost_non_vaccine\"]) * cost[\"prev_factor\"] * cost[\"urbanicity_factor\"] * cost[\"pop_den_factor\"]"
      ]
    },
    {
      "cell_type": "markdown",
      "metadata": {},
      "source": [
        "### aggVAE-based disaggregation and cost calculations"
      ]
    },
    {
      "cell_type": "code",
      "execution_count": 887,
      "metadata": {},
      "outputs": [],
      "source": [
        "#read in the gp-preds data for all years and append them\n",
        "vae_2020 = pd.read_csv(\"../data/processed/df_hi_jkt_2020_aggVAE_preds.csv\")\n",
        "vae_2021 = pd.read_csv(\"../data/processed/df_hi_jkt_2021_aggVAE_preds.csv\")\n",
        "vae_2022 = pd.read_csv(\"../data/processed/df_hi_jkt_2022_aggVAE_preds.csv\")\n",
        "vae_2023 = pd.read_csv(\"../data/processed/df_hi_jkt_2023_aggVAE_preds.csv\")"
      ]
    },
    {
      "cell_type": "code",
      "execution_count": 888,
      "metadata": {},
      "outputs": [],
      "source": [
        "#delete the first column for all the datasets and reset index, also combine all the predictons into one df\n",
        "# Define function to clean each DataFrame\n",
        "def clean_df(df):\n",
        "    df = df.drop(columns=[\"Unnamed: 0\"], errors=\"ignore\")\n",
        "    return df.reset_index(drop=True)\n",
        "\n",
        "# Clean all\n",
        "vae_2020 = clean_df(vae_2020)\n",
        "vae_2021 = clean_df(vae_2021)\n",
        "vae_2022 = clean_df(vae_2022)\n",
        "vae_2023 = clean_df(vae_2023)\n",
        "\n",
        "# Combine\n",
        "vae_all_years = pd.concat([vae_2020, vae_2021, vae_2022, vae_2023], axis=0).reset_index(drop=True)\n"
      ]
    },
    {
      "cell_type": "code",
      "execution_count": 889,
      "metadata": {},
      "outputs": [],
      "source": [
        "# Calculate the vae_pred_cases from pred_cases * Population\n",
        "vae_all_years[\"vae_preds\"] = vae_all_years[\"pred_cases\"] * vae_all_years[\"Population\"]\n",
        "\n",
        "# Rename 'pred_cases' to 'vae_prevalence'\n",
        "vae_all_years = vae_all_years.rename(columns={\"pred_cases\": \"vae_prevalence\"})\n",
        "\n",
        "# Subset the relevant columns\n",
        "vae_subset = vae_all_years[[\"District\", \"Year\", \"vae_prevalence\", \"vae_preds\"]]\n",
        "\n",
        "# Merge by District and Year\n",
        "cost = pd.merge(cost, vae_subset, on=[\"District\", \"Year\"], how=\"left\")"
      ]
    },
    {
      "cell_type": "code",
      "execution_count": 890,
      "metadata": {},
      "outputs": [],
      "source": [
        "# Scale costs\n",
        "# Scale costs\n",
        "mean_obs_prev = cost[\"vae_prevalence\"].mean()\n",
        "cost[\"prev_factor\"] = cost[\"vae_prevalence\"] / mean_obs_prev\n",
        "\n",
        "# Incremental cost per district, yearly (scaled by no of dengue cases in each district)\n",
        "cost[\"vae_incremental_healthcare_cost\"] = (\n",
        "    cost[\"healthcare_cost_vaccine\"] - cost[\"healthcare_cost_non_vaccine\"]) * cost[\"prev_factor\"] * cost[\"urbanicity_factor\"] * cost[\"pop_den_factor\"]\n",
        "\n",
        "cost[\"vae_incremental_payer_cost\"] = (\n",
        "    cost[\"payer_cost_vaccine\"] - cost[\"payer_cost_non_vaccine\"]) * cost[\"prev_factor\"] * cost[\"urbanicity_factor\"] * cost[\"pop_den_factor\"]"
      ]
    },
    {
      "cell_type": "code",
      "execution_count": 891,
      "metadata": {},
      "outputs": [],
      "source": [
        "cost = cost.reset_index(drop=True)\n"
      ]
    },
    {
      "cell_type": "code",
      "execution_count": 892,
      "metadata": {},
      "outputs": [],
      "source": [
        "cost = cost.drop(cost.columns[0], axis=1)\n"
      ]
    },
    {
      "cell_type": "code",
      "execution_count": 893,
      "metadata": {},
      "outputs": [
        {
          "name": "stdout",
          "output_type": "stream",
          "text": [
            "20\n",
            "20\n",
            "RangeIndex(start=0, stop=20, step=1)\n"
          ]
        }
      ],
      "source": [
        "print(len(cost))          # Should be 20\n",
        "print(cost.shape[0])      # Also 20\n",
        "print(cost.index)         # Will show RangeIndex(start=0, stop=20, step=1)\n"
      ]
    },
    {
      "cell_type": "code",
      "execution_count": 894,
      "metadata": {},
      "outputs": [
        {
          "data": {
            "text/plain": [
              "rf_preds                          14\n",
              "rf_prevalence                     14\n",
              "rf_incremental_healthcare_cost    14\n",
              "rf_incremental_payer_cost         14\n",
              "dtype: int64"
            ]
          },
          "execution_count": 894,
          "metadata": {},
          "output_type": "execute_result"
        }
      ],
      "source": [
        "cost.filter(like=\"rf\").isna().sum()"
      ]
    },
    {
      "cell_type": "code",
      "execution_count": 895,
      "metadata": {},
      "outputs": [
        {
          "name": "stdout",
          "output_type": "stream",
          "text": [
            "[141.14231950806925, 120.9791310069165, 366.5478310869733, 313.3111222862463, 276.06065872985715, 117.38012260954554, 474.012328603644, 363.88825226138346, 207.90667211272472, 202.85338494331825, 410.4413938524525, 229.0478190412564, 231.08288330736423, 226.99808486506237, 321.2072911142632, 278.1115007143171, 170.63826141352365, 129.54578213434866, 265.8025666328673, 178.1649679386273]\n"
          ]
        }
      ],
      "source": [
        "print(cost.obs_incremental_healthcare_cost.tolist())\n"
      ]
    },
    {
      "cell_type": "code",
      "execution_count": 896,
      "metadata": {},
      "outputs": [
        {
          "name": "stdout",
          "output_type": "stream",
          "text": [
            "[222.9350696212487, 216.5700444259876, 228.5470232545651, 222.96527752516732, 362.6934773920263, 311.67093654155764, 416.80267614053645, 427.4571449325198, 213.4444384987851, 212.25711463462196, 233.3962040616091, 222.4957959091688, 215.68181607201967, 218.39611798453157, 214.18672162572585, 206.3105959606751, 228.20606243901977, 228.8663652472419, 217.82155415761343, 212.89039015862713]\n"
          ]
        }
      ],
      "source": [
        "print(cost.gp_incremental_healthcare_cost.tolist())"
      ]
    },
    {
      "cell_type": "code",
      "execution_count": 897,
      "metadata": {},
      "outputs": [],
      "source": [
        "# define concordance correlation coefficient taken from: https://github.com/stylianos-kampakis/supervisedPCA-Python/blob/master/Untitled.py\n",
        "# mentioned in the github post: https://rowannicholls.github.io/python/statistics/agreement/concordance_correlation_coefficient.html; referencing these papers:Giavarina D. Understanding Bland Altman analysis. Biochemia Medica. 2015;25(2):141–51. DOI: 10.11613/BM.2015.015.\n",
        "# Lin LI-K. A Concordance Correlation Coefficient to Evaluate Reproducibility. Biometrics. 1989;45(1):255-268. DOI: 10.2307/2532051. PMID: 2720055.\n",
        "\n",
        "def concordance_correlation_coefficient(y_true, y_pred,\n",
        "                       sample_weight=None,\n",
        "                       multioutput='uniform_average'):\n",
        "    \"\"\"Concordance correlation coefficient.\n",
        "\n",
        "    The concordance correlation coefficient is a measure of inter-rater agreement.\n",
        "    It measures the deviation of the relationship between predicted and true values\n",
        "    from the 45 degree angle.\n",
        "\n",
        "    Read more: https://en.wikipedia.org/wiki/Concordance_correlation_coefficient\n",
        "    Original paper: Lawrence, I., and Kuei Lin. \"A concordance correlation coefficient to evaluate reproducibility.\" Biometrics (1989): 255-268.  \n",
        "\n",
        "    Parameters\n",
        "    ----------\n",
        "    y_true : array-like of shape = (n_samples) or (n_samples, n_outputs)\n",
        "        Ground truth (correct) target values.\n",
        "\n",
        "    y_pred : array-like of shape = (n_samples) or (n_samples, n_outputs)\n",
        "        Estimated target values.\n",
        "\n",
        "    Returns\n",
        "    -------\n",
        "    loss : A float in the range [-1,1]. A value of 1 indicates perfect agreement\n",
        "    between the true and the predicted values.\n",
        "\n",
        "    Examples\n",
        "    --------\n",
        "    >>> from sklearn.metrics import concordance_correlation_coefficient\n",
        "    >>> y_true = [3, -0.5, 2, 7]\n",
        "    >>> y_pred = [2.5, 0.0, 2, 8]\n",
        "    >>> concordance_correlation_coefficient(y_true, y_pred)\n",
        "    0.97678916827853024\n",
        "\n",
        "\n",
        "    \"\"\"\n",
        "    cor=np.corrcoef(y_true,y_pred)[0][1]\n",
        "    \n",
        "    mean_true=np.mean(y_true)\n",
        "    mean_pred=np.mean(y_pred)\n",
        "    \n",
        "    var_true=np.var(y_true)\n",
        "    var_pred=np.var(y_pred)\n",
        "    \n",
        "    sd_true=np.std(y_true)\n",
        "    sd_pred=np.std(y_pred)\n",
        "    \n",
        "    numerator=2*cor*sd_true*sd_pred\n",
        "    \n",
        "    denominator=var_true+var_pred+(mean_true-mean_pred)**2\n",
        "\n",
        "    return numerator/denominator"
      ]
    },
    {
      "cell_type": "markdown",
      "metadata": {
        "id": "n65wPQ7RxjVc"
      },
      "source": [
        "## Evaluation with RF included"
      ]
    },
    {
      "cell_type": "markdown",
      "metadata": {
        "id": "coDdRGg7X5ko"
      },
      "source": [
        "### Evaluate the raw case counts"
      ]
    },
    {
      "cell_type": "code",
      "execution_count": 898,
      "metadata": {},
      "outputs": [],
      "source": [
        "cost = cost.dropna(subset = [\"rf_preds\"])"
      ]
    },
    {
      "cell_type": "code",
      "execution_count": 899,
      "metadata": {},
      "outputs": [
        {
          "name": "stdout",
          "output_type": "stream",
          "text": [
            "             Model        RMSE  MAE (% of avg cases)        Bias\n",
            "0         BM Equal   93.303968             53.311624    2.500000\n",
            "1  BM Proportional   59.383942             28.661034   -1.697782\n",
            "2               GP  107.192547             57.303251  106.387488\n",
            "3    Random Forest   45.759249             34.678141   44.449900\n",
            "4           aggVAE   55.972948             28.050106   22.875448\n"
          ]
        }
      ],
      "source": [
        "# Define model predictions for dengue case counts\n",
        "model_preds = {\n",
        "    'BM Equal': 'cases_bm_equal',\n",
        "    'BM Proportional': 'cases_prop_bm',\n",
        "    'Random Forest': 'rf_preds',\n",
        "    'GP': 'gp_preds',\n",
        "    'aggVAE': 'vae_preds'\n",
        "}\n",
        "\n",
        "# Store results\n",
        "results = []\n",
        "\n",
        "# Loop over each district\n",
        "for district, group in cost.groupby('District'):\n",
        "    avg_cases = group['Cases'].mean()\n",
        "\n",
        "    for model_name, pred_col in model_preds.items():\n",
        "        y_true = group['Cases']\n",
        "        y_pred = group[pred_col]\n",
        "\n",
        "        mae = mean_absolute_error(y_true, y_pred)\n",
        "        rmse = np.sqrt(mean_squared_error(y_true, y_pred))\n",
        "        mape = np.mean(np.abs((y_true - y_pred) / y_true.replace(0, np.nan))) * 100  # Handle divide-by-zero\n",
        "        mae_pct_avg = (mae / avg_cases) * 100 if avg_cases != 0 else np.nan\n",
        "        \n",
        "        # Calculate bias (MFE)\n",
        "        bias = np.mean(y_pred - y_true)\n",
        "\n",
        "        results.append({\n",
        "            'District': district,\n",
        "            'Model': model_name,\n",
        "            'RMSE': rmse,\n",
        "            'MAE (% of avg cases)': mae_pct_avg,\n",
        "            'Bias': bias\n",
        "        })\n",
        "\n",
        "# Convert to DataFrame\n",
        "metrics_df = pd.DataFrame(results)\n",
        "\n",
        "# Optional: view overall average for each model\n",
        "summary = metrics_df.groupby('Model')[['RMSE', 'MAE (% of avg cases)', 'Bias']].mean().reset_index()\n",
        "\n",
        "print(summary)"
      ]
    },
    {
      "cell_type": "markdown",
      "metadata": {},
      "source": [
        "### Evaluate the disease prevalence using the same metrics but + CCC for ranking and accuracy preservation metric!"
      ]
    },
    {
      "cell_type": "code",
      "execution_count": 900,
      "metadata": {},
      "outputs": [
        {
          "name": "stdout",
          "output_type": "stream",
          "text": [
            "             Model      RMSE   MAE (%)       CCC      Bias\n",
            "0         BM Equal  0.000727  0.000297  0.165273  0.000306\n",
            "1  BM Proportional  0.000368  0.000143  0.720643  0.000025\n",
            "2               GP  0.000781  0.000314  0.175971  0.000770\n",
            "3    Random Forest  0.000492  0.000197  0.260160  0.000479\n",
            "4           aggVAE  0.000394  0.000158  0.341941  0.000189\n"
          ]
        }
      ],
      "source": [
        "# Define prevalence prediction columns\n",
        "prevalence_preds = {\n",
        "    'BM Equal': 'equal_bm_prevalence',\n",
        "    'BM Proportional': 'prop_bm_prevalence',\n",
        "    'Random Forest': 'rf_prevalence',\n",
        "    'GP': 'gp_prevalence',\n",
        "    'aggVAE': 'vae_prevalence'\n",
        "}\n",
        "\n",
        "# Store prevalence evaluation results\n",
        "prevalence_results = []\n",
        "\n",
        "# Loop over each district\n",
        "for district, group in cost.groupby('District'):\n",
        "    avg_obs_prev = group['obs_prevalence'].mean()\n",
        "\n",
        "    for model_name, pred_col in prevalence_preds.items():\n",
        "        y_true = group['obs_prevalence']\n",
        "        y_pred = group[pred_col]\n",
        "\n",
        "        rmse = np.sqrt(mean_squared_error(y_true, y_pred))\n",
        "        mae = mean_absolute_error(y_true, y_pred)\n",
        "\n",
        "        # CCC (Concordance Correlation Coefficient)\n",
        "        if y_true.nunique() > 1 and y_pred.nunique() > 1:\n",
        "            ccc_value = concordance_correlation_coefficient(y_true, y_pred)\n",
        "        else:\n",
        "            ccc_value = np.nan  # not computable if constant series\n",
        "        \n",
        "        # Calculate bias (MFE)\n",
        "        bias = np.mean(y_pred - y_true)\n",
        "\n",
        "        #calculate mae as a percentage of average prevalence per district\n",
        "        mae_pct_avg = (mae / avg_cases) * 100 if avg_cases != 0 else np.nan\n",
        "\n",
        "        prevalence_results.append({\n",
        "            'District': district,\n",
        "            'Model': model_name,\n",
        "            'RMSE': rmse,\n",
        "            'MAE (%)': mae_pct_avg,\n",
        "            'CCC': ccc_value,\n",
        "            \"Bias\": bias\n",
        "        })\n",
        "\n",
        "# Convert to DataFrame\n",
        "prevalence_metrics_df = pd.DataFrame(prevalence_results)\n",
        "\n",
        "# Optional: view model-level average\n",
        "prevalence_summary = prevalence_metrics_df.groupby('Model')[['RMSE', 'MAE (%)', 'CCC', \"Bias\"]].mean().reset_index()\n",
        "\n",
        "print(prevalence_summary)"
      ]
    },
    {
      "cell_type": "markdown",
      "metadata": {},
      "source": [
        "### Evaluate the incremental cost (healthcare + payer's perspectives separately)"
      ]
    },
    {
      "cell_type": "code",
      "execution_count": 902,
      "metadata": {},
      "outputs": [
        {
          "name": "stdout",
          "output_type": "stream",
          "text": [
            "             Model        RMSE    MAE (%)       Bias\n",
            "0         BM Equal  152.611121  54.899511 -46.423766\n",
            "1  BM Proportional   76.662557  28.609650 -59.600167\n",
            "2               GP   60.605707  21.552565 -16.565964\n",
            "3    Random Forest  134.225593  45.490384 -31.722836\n",
            "4           aggVAE   65.935626  24.355213 -62.029754\n",
            "             Model        RMSE    MAE (%)       Bias\n",
            "0         BM Equal  149.166488  53.653327 -40.901228\n",
            "1  BM Proportional   72.486075  26.953599 -54.075996\n",
            "2               GP   57.151459  20.310515 -11.047128\n",
            "3    Random Forest  130.659159  44.245366 -26.202121\n",
            "4           aggVAE   61.058678  22.699690 -56.505281\n"
          ]
        }
      ],
      "source": [
        "# Define incremental cost prediction columns (for healthcare and payer)\n",
        "cost_preds = {\n",
        "    'BM Equal': 'equal_bm_incremental_healthcare_cost',\n",
        "    'BM Proportional': 'incremental_healthcare_cost',\n",
        "    'Random Forest': 'rf_incremental_healthcare_cost',\n",
        "    'GP': 'gp_incremental_healthcare_cost',\n",
        "    'aggVAE': 'vae_incremental_healthcare_cost'\n",
        "}\n",
        "\n",
        "payer_preds = {\n",
        "    'BM Equal': 'equal_bm_incremental_payer_cost',\n",
        "    'BM Proportional': 'incremental_payer_cost',\n",
        "    'Random Forest': 'rf_incremental_payer_cost',\n",
        "    'GP': 'gp_incremental_payer_cost',\n",
        "    'aggVAE': 'vae_incremental_payer_cost'\n",
        "}\n",
        "\n",
        "# Store incremental cost evaluation results\n",
        "cost_results = []\n",
        "payer_results = []\n",
        "\n",
        "# Loop over each district for healthcare cost\n",
        "for district, group in cost.groupby('District'):\n",
        "    avg_healthcare_cost = group['healthcare_cost_vaccine'].mean()  # Or non-vaccine, depending on focus\n",
        "\n",
        "    for model_name, pred_col in cost_preds.items():\n",
        "        y_true = group['healthcare_cost_vaccine']\n",
        "        y_pred = group[pred_col]\n",
        "\n",
        "        rmse = np.sqrt(mean_squared_error(y_true, y_pred))\n",
        "        mae = mean_absolute_error(y_true, y_pred)\n",
        "\n",
        "        # Calculate bias (MFE)\n",
        "        bias = np.mean(y_pred - y_true)\n",
        "\n",
        "        #calculate mae as a percentage of average prevalence per district\n",
        "        mae_pct_avg = (mae / avg_healthcare_cost) * 100 if avg_healthcare_cost != 0 else np.nan\n",
        "\n",
        "        cost_results.append({\n",
        "            'District': district,\n",
        "            'Model': model_name,\n",
        "            'RMSE': rmse,\n",
        "            'MAE (%)': mae_pct_avg,\n",
        "            \"Bias\": bias\n",
        "        })\n",
        "\n",
        "# Loop over each district for payer cost\n",
        "for district, group in cost.groupby('District'):\n",
        "    avg_payer_cost = group['payer_cost_vaccine'].mean()  # Or non-vaccine, depending on focus\n",
        "\n",
        "    for model_name, pred_col in payer_preds.items():\n",
        "        y_true = group['payer_cost_vaccine']\n",
        "        y_pred = group[pred_col]\n",
        "\n",
        "        rmse = np.sqrt(mean_squared_error(y_true, y_pred))\n",
        "        mae = mean_absolute_error(y_true, y_pred)\n",
        "        \n",
        "        # Calculate bias (MFE)\n",
        "        bias = np.mean(y_pred - y_true)\n",
        "\n",
        "        #calculate mae as a percentage of average prevalence per district\n",
        "        mae_pct_avg = (mae / avg_healthcare_cost) * 100 if avg_healthcare_cost != 0 else np.nan\n",
        "\n",
        "\n",
        "        payer_results.append({\n",
        "            'District': district,\n",
        "            'Model': model_name,\n",
        "            'RMSE': rmse,\n",
        "            'MAE (%)': mae_pct_avg,\n",
        "            'Bias': bias\n",
        "        })\n",
        "\n",
        "# Convert to DataFrame\n",
        "cost_metrics_df = pd.DataFrame(cost_results)\n",
        "payer_metrics_df = pd.DataFrame(payer_results)\n",
        "\n",
        "# Optional: view overall average for each model (healthcare cost)\n",
        "cost_summary = cost_metrics_df.groupby('Model')[['RMSE', \"MAE (%)\", \"Bias\"]].mean().reset_index()\n",
        "payer_summary = payer_metrics_df.groupby('Model')[['RMSE', \"MAE (%)\", \"Bias\"]].mean().reset_index()\n",
        "\n",
        "print(cost_summary)\n",
        "print(payer_summary)"
      ]
    }
  ],
  "metadata": {
    "colab": {
      "provenance": []
    },
    "kernelspec": {
      "display_name": "Python 3",
      "name": "python3"
    },
    "language_info": {
      "codemirror_mode": {
        "name": "ipython",
        "version": 3
      },
      "file_extension": ".py",
      "mimetype": "text/x-python",
      "name": "python",
      "nbconvert_exporter": "python",
      "pygments_lexer": "ipython3",
      "version": "3.13.1"
    }
  },
  "nbformat": 4,
  "nbformat_minor": 0
}
