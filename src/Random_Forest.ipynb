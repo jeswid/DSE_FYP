{
  "cells": [
    {
      "cell_type": "markdown",
      "metadata": {
        "id": "MyDROb-r0nlr"
      },
      "source": [
        "### Import the necessary libraries"
      ]
    },
    {
      "cell_type": "code",
      "execution_count": 15,
      "metadata": {
        "id": "BCC3660Ktvhp"
      },
      "outputs": [],
      "source": [
        "import numpy as np\n",
        "import pickle\n",
        "import matplotlib.pyplot as plt\n",
        "import geopandas as gpd\n",
        "import pandas as pd\n",
        "from sklearn.ensemble import RandomForestRegressor\n",
        "from sklearn.model_selection import train_test_split, GridSearchCV\n",
        "from sklearn.metrics import mean_absolute_error, mean_squared_error\n",
        "from statsmodels.graphics.tsaplots import plot_acf, plot_pacf\n",
        "from sklearn.inspection import permutation_importance"
      ]
    },
    {
      "cell_type": "markdown",
      "metadata": {
        "id": "L1sBfqHY03-S"
      },
      "source": [
        "### Read data"
      ]
    },
    {
      "cell_type": "code",
      "execution_count": 3,
      "metadata": {
        "id": "l7rFyDrF0saN"
      },
      "outputs": [],
      "source": [
        "df = gpd.read_file('../data/processed/final_combined_divisions/final_combined_divisions.shp')"
      ]
    },
    {
      "cell_type": "markdown",
      "metadata": {
        "id": "0igLNl6c05sW"
      },
      "source": [
        "### Feature engineering"
      ]
    },
    {
      "cell_type": "code",
      "execution_count": 4,
      "metadata": {
        "id": "T83KBDZeHsar"
      },
      "outputs": [],
      "source": [
        "#convert District to factor\n",
        "df['District'] = df['District'].astype('category')\n",
        "df['District'] = df['District'].cat.codes"
      ]
    },
    {
      "cell_type": "code",
      "execution_count": 5,
      "metadata": {
        "colab": {
          "base_uri": "https://localhost:8080/",
          "height": 206
        },
        "id": "7W8eg3e_01rD",
        "outputId": "83e05b43-faef-4027-c0ec-51bda48b9634"
      },
      "outputs": [
        {
          "data": {
            "text/html": [
              "<div>\n",
              "<style scoped>\n",
              "    .dataframe tbody tr th:only-of-type {\n",
              "        vertical-align: middle;\n",
              "    }\n",
              "\n",
              "    .dataframe tbody tr th {\n",
              "        vertical-align: top;\n",
              "    }\n",
              "\n",
              "    .dataframe thead th {\n",
              "        text-align: right;\n",
              "    }\n",
              "</style>\n",
              "<table border=\"1\" class=\"dataframe\">\n",
              "  <thead>\n",
              "    <tr style=\"text-align: right;\">\n",
              "      <th></th>\n",
              "      <th>District</th>\n",
              "      <th>x</th>\n",
              "      <th>y</th>\n",
              "      <th>Year</th>\n",
              "      <th>Area_sq_km</th>\n",
              "      <th>HDI</th>\n",
              "      <th>Cases</th>\n",
              "      <th>Population</th>\n",
              "      <th>Pop_den</th>\n",
              "      <th>geometry</th>\n",
              "    </tr>\n",
              "  </thead>\n",
              "  <tbody>\n",
              "    <tr>\n",
              "      <th>0</th>\n",
              "      <td>0</td>\n",
              "      <td>107.610841</td>\n",
              "      <td>-7.099969</td>\n",
              "      <td>2020</td>\n",
              "      <td>1767.96</td>\n",
              "      <td>72.39</td>\n",
              "      <td>9180</td>\n",
              "      <td>14495160</td>\n",
              "      <td>8198.805403</td>\n",
              "      <td>POLYGON ((107.73309 -6.814, 107.73354 -6.81427...</td>\n",
              "    </tr>\n",
              "    <tr>\n",
              "      <th>1</th>\n",
              "      <td>0</td>\n",
              "      <td>107.610841</td>\n",
              "      <td>-7.099969</td>\n",
              "      <td>2021</td>\n",
              "      <td>1767.96</td>\n",
              "      <td>72.73</td>\n",
              "      <td>8008</td>\n",
              "      <td>14662620</td>\n",
              "      <td>8293.524740</td>\n",
              "      <td>POLYGON ((107.73309 -6.814, 107.73354 -6.81427...</td>\n",
              "    </tr>\n",
              "    <tr>\n",
              "      <th>2</th>\n",
              "      <td>0</td>\n",
              "      <td>107.610841</td>\n",
              "      <td>-7.099969</td>\n",
              "      <td>2022</td>\n",
              "      <td>1767.96</td>\n",
              "      <td>73.16</td>\n",
              "      <td>16764</td>\n",
              "      <td>14830092</td>\n",
              "      <td>8388.250865</td>\n",
              "      <td>POLYGON ((107.73309 -6.814, 107.73354 -6.81427...</td>\n",
              "    </tr>\n",
              "    <tr>\n",
              "      <th>3</th>\n",
              "      <td>0</td>\n",
              "      <td>107.610841</td>\n",
              "      <td>-7.099969</td>\n",
              "      <td>2023</td>\n",
              "      <td>1767.96</td>\n",
              "      <td>73.74</td>\n",
              "      <td>4020</td>\n",
              "      <td>14997564</td>\n",
              "      <td>8482.976990</td>\n",
              "      <td>POLYGON ((107.73309 -6.814, 107.73354 -6.81427...</td>\n",
              "    </tr>\n",
              "    <tr>\n",
              "      <th>4</th>\n",
              "      <td>1</td>\n",
              "      <td>107.414953</td>\n",
              "      <td>-6.897056</td>\n",
              "      <td>2020</td>\n",
              "      <td>1305.77</td>\n",
              "      <td>68.08</td>\n",
              "      <td>3864</td>\n",
              "      <td>7153344</td>\n",
              "      <td>5478.257273</td>\n",
              "      <td>POLYGON ((107.40945 -6.68851, 107.40986 -6.688...</td>\n",
              "    </tr>\n",
              "  </tbody>\n",
              "</table>\n",
              "</div>"
            ],
            "text/plain": [
              "   District           x         y  Year  Area_sq_km    HDI  Cases  Population  \\\n",
              "0         0  107.610841 -7.099969  2020     1767.96  72.39   9180    14495160   \n",
              "1         0  107.610841 -7.099969  2021     1767.96  72.73   8008    14662620   \n",
              "2         0  107.610841 -7.099969  2022     1767.96  73.16  16764    14830092   \n",
              "3         0  107.610841 -7.099969  2023     1767.96  73.74   4020    14997564   \n",
              "4         1  107.414953 -6.897056  2020     1305.77  68.08   3864     7153344   \n",
              "\n",
              "       Pop_den                                           geometry  \n",
              "0  8198.805403  POLYGON ((107.73309 -6.814, 107.73354 -6.81427...  \n",
              "1  8293.524740  POLYGON ((107.73309 -6.814, 107.73354 -6.81427...  \n",
              "2  8388.250865  POLYGON ((107.73309 -6.814, 107.73354 -6.81427...  \n",
              "3  8482.976990  POLYGON ((107.73309 -6.814, 107.73354 -6.81427...  \n",
              "4  5478.257273  POLYGON ((107.40945 -6.68851, 107.40986 -6.688...  "
            ]
          },
          "execution_count": 5,
          "metadata": {},
          "output_type": "execute_result"
        }
      ],
      "source": [
        "df.head()"
      ]
    },
    {
      "cell_type": "code",
      "execution_count": null,
      "metadata": {},
      "outputs": [
        {
          "name": "stdout",
          "output_type": "stream",
          "text": [
            "      Feature  Importance\n",
            "6  Population    0.445418\n",
            "7     Pop_den    0.227904\n",
            "5         HDI    0.046144\n",
            "2           y    0.007498\n",
            "3        Year    0.005940\n",
            "0    District    0.003770\n",
            "4  Area_sq_km   -0.028009\n",
            "1           x   -0.028120\n"
          ]
        }
      ],
      "source": [
        "# Load your dataset\n",
        "# df = pd.read_csv(\"your_data.csv\")  # Uncomment if loading from CSV\n",
        "\n",
        "# Define features and target\n",
        "X = df.drop(columns= ['Cases', \"geometry\"])  # Features\n",
        "feature_names =  X.columns.tolist()\n",
        "y = df['Cases']\n",
        "\n",
        "# Stratify based on both 'District' and 'Year'\n",
        "X_train, X_test, y_train, y_test, train_index, test_index = train_test_split(\n",
        "    X, y, df.index, test_size=0.2, random_state=42)\n",
        "\n",
        "# Train Random Forest\n",
        "rf = RandomForestRegressor(n_estimators=100, random_state=42)\n",
        "rf.fit(X_train, y_train)\n",
        "\n",
        "# Compute Permutation Importance\n",
        "perm_importance = permutation_importance(rf, X_test, y_test, n_repeats=10, random_state=42)\n",
        "\n",
        "# Convert to DataFrame\n",
        "importance_df = pd.DataFrame({\n",
        "    \"Feature\": feature_names,\n",
        "    \"Importance\": perm_importance.importances_mean\n",
        "}).sort_values(by=\"Importance\", ascending=False)\n",
        "\n",
        "print(importance_df)\n",
        "\n",
        "#population is most important, but since it is an absolute number, can just include population density, and hdi. "
      ]
    },
    {
      "cell_type": "code",
      "execution_count": 24,
      "metadata": {
        "colab": {
          "base_uri": "https://localhost:8080/",
          "height": 356
        },
        "id": "ZtuOf4LJLdsK",
        "outputId": "584f830d-ca8c-4b26-cabd-3fc9b10e221e"
      },
      "outputs": [],
      "source": [
        "#fit random forest model\n",
        "X = df[['Pop_den', \"HDI\"]]  # Features\n",
        "feature_names =  X.columns.tolist()\n",
        "y = df['Cases']\n",
        "\n",
        "# Stratify based on both 'District' and 'Year'\n",
        "X_train, X_test, y_train, y_test, train_index, test_index = train_test_split(\n",
        "    X, y, df.index, test_size=0.2, random_state=42)\n",
        "\n",
        "# Now you have train_index and test_index containing the original indices\n",
        "# of the rows that went into training and testing sets respectively."
      ]
    },
    {
      "cell_type": "code",
      "execution_count": 25,
      "metadata": {
        "colab": {
          "base_uri": "https://localhost:8080/"
        },
        "id": "-H54gGVuLisH",
        "outputId": "6de24533-c13d-4e85-f7ab-32913353927f"
      },
      "outputs": [
        {
          "name": "stdout",
          "output_type": "stream",
          "text": [
            "Optimal n_estimators: 500\n",
            "Best OOB score: 0.47412765809335977\n"
          ]
        }
      ],
      "source": [
        "#OOB error to find the optimal n_estimators, with 500, 1000 trees; (dont need to tune max_features first)\n",
        "# Define your random forest regressor\n",
        "rf = RandomForestRegressor(oob_score=True, random_state=42)\n",
        "\n",
        "# Set up the grid search parameters for n_estimators\n",
        "param_grid = {\n",
        "    'n_estimators': [100, 200, 500, 1000],  # Adjust as needed\n",
        "}\n",
        "\n",
        "# Set up GridSearchCV with oob_score\n",
        "grid_search = GridSearchCV(rf, param_grid, cv=None, n_jobs=-1, scoring='neg_mean_squared_error')\n",
        "\n",
        "# Fit the grid search\n",
        "grid_search.fit(X_train, y_train)\n",
        "\n",
        "# Get the best number of trees (n_estimators)\n",
        "best_n_estimators = grid_search.best_params_['n_estimators']\n",
        "print(f\"Optimal n_estimators: {best_n_estimators}\")\n",
        "\n",
        "# Access the best OOB score\n",
        "best_oob_score = grid_search.best_estimator_.oob_score_\n",
        "print(f\"Best OOB score: {best_oob_score}\")"
      ]
    },
    {
      "cell_type": "code",
      "execution_count": 26,
      "metadata": {
        "id": "S0x9KrzZOl7J"
      },
      "outputs": [],
      "source": [
        "#compute the predictions and then append the predictions to the df, then extract the df out\n",
        "rf = RandomForestRegressor(n_estimators=500, random_state=42)\n",
        "rf.fit(X_train, y_train)\n",
        "y_pred = rf.predict(X_test)"
      ]
    },
    {
      "cell_type": "code",
      "execution_count": null,
      "metadata": {
        "colab": {
          "base_uri": "https://localhost:8080/"
        },
        "id": "52eZTk7MP7mi",
        "outputId": "73298f25-4eb6-45a2-aeb9-af355f555dfb"
      },
      "outputs": [
        {
          "name": "stdout",
          "output_type": "stream",
          "text": [
            "    District           x         y  Year  Area_sq_km    HDI  Cases  \\\n",
            "0          0  107.610841 -7.099969  2020     1767.96  72.39   9180   \n",
            "1          0  107.610841 -7.099969  2021     1767.96  72.73   8008   \n",
            "2          0  107.610841 -7.099969  2022     1767.96  73.16  16764   \n",
            "3          0  107.610841 -7.099969  2023     1767.96  73.74   4020   \n",
            "4          1  107.414953 -6.897056  2020     1305.77  68.08   3864   \n",
            "..       ...         ...       ...   ...         ...    ...    ...   \n",
            "91        22  107.980850 -6.825066  2023     1518.33  73.18   5232   \n",
            "92        23  108.141296 -7.496706  2020     2551.19  65.67    716   \n",
            "93        23  108.141296 -7.496706  2021     2551.19  65.90    188   \n",
            "94        23  108.141296 -7.496706  2022     2551.19  66.84   1276   \n",
            "95        23  108.141296 -7.496706  2023     2551.19  67.76    352   \n",
            "\n",
            "    Population      Pop_den  \\\n",
            "0     14495160  8198.805403   \n",
            "1     14662620  8293.524740   \n",
            "2     14830092  8388.250865   \n",
            "3     14997564  8482.976990   \n",
            "4      7153344  5478.257273   \n",
            "..         ...          ...   \n",
            "91     4671140  3076.498521   \n",
            "92     7460812  2924.443887   \n",
            "93     7531780  2952.261494   \n",
            "94     7602752  2980.080668   \n",
            "95     7673732  3007.902979   \n",
            "\n",
            "                                             geometry  Predicted_Cases  \n",
            "0   POLYGON ((107.73309 -6.814, 107.73354 -6.81427...         7672.608  \n",
            "1   POLYGON ((107.73309 -6.814, 107.73354 -6.81427...              NaN  \n",
            "2   POLYGON ((107.73309 -6.814, 107.73354 -6.81427...              NaN  \n",
            "3   POLYGON ((107.73309 -6.814, 107.73354 -6.81427...              NaN  \n",
            "4   POLYGON ((107.40945 -6.68851, 107.40986 -6.688...         2349.296  \n",
            "..                                                ...              ...  \n",
            "91  POLYGON ((107.85702 -6.57956, 107.85758 -6.579...              NaN  \n",
            "92  POLYGON ((108.13281 -7.03924, 108.13306 -7.039...              NaN  \n",
            "93  POLYGON ((108.13281 -7.03924, 108.13306 -7.039...              NaN  \n",
            "94  POLYGON ((108.13281 -7.03924, 108.13306 -7.039...          922.472  \n",
            "95  POLYGON ((108.13281 -7.03924, 108.13306 -7.039...              NaN  \n",
            "\n",
            "[96 rows x 11 columns]\n"
          ]
        }
      ],
      "source": [
        "# Add the predictions to the test set (preserving indices)\n",
        "X_test['Predicted_Cases'] = y_pred\n",
        "\n",
        "# Now merge predictions back to the original dataframe using the indices of X_test\n",
        "df_with_predictions = pd.merge(df, X_test[['Predicted_Cases']],\n",
        "                                left_index=True, right_index=True, how='left')\n",
        "\n",
        "# Show the dataframe with predictions included\n",
        "print(df_with_predictions)"
      ]
    },
    {
      "cell_type": "code",
      "execution_count": null,
      "metadata": {},
      "outputs": [],
      "source": [
        "#save the df with predictions\n",
        "df_with_predictions.to_csv(\"../data/processed/df_combined_with_predictions_rf_popden_hdi.csv\")"
      ]
    },
    {
      "cell_type": "code",
      "execution_count": 28,
      "metadata": {},
      "outputs": [
        {
          "data": {
            "image/png": "[encoded data removed]",
            "text/plain": [
              "<Figure size 1000x500 with 1 Axes>"
            ]
          },
          "metadata": {},
          "output_type": "display_data"
        }
      ],
      "source": [
        "# Get feature importance\n",
        "importances = rf.feature_importances_\n",
        "indices = np.argsort(importances)[::-1]  # Sort in descending order\n",
        "\n",
        "# Plot feature importance\n",
        "plt.figure(figsize=(10, 5))\n",
        "plt.title(\"Feature Importance in Random Forest\")\n",
        "plt.bar(range(X.shape[1]), importances[indices], align=\"center\")\n",
        "plt.xticks(range(X.shape[1]), [feature_names[i] for i in indices], rotation=45)\n",
        "plt.xlabel(\"Feature\")\n",
        "plt.ylabel(\"Importance Score\")\n",
        "plt.show()"
      ]
    },
    {
      "cell_type": "code",
      "execution_count": 29,
      "metadata": {},
      "outputs": [],
      "source": [
        "# Save the model\n",
        "with open(\"../model_weights/rf/random_forest_model_pop_den_hdi.pkl\", \"wb\") as f:\n",
        "    pickle.dump(rf, f)\n",
        "\n",
        "# Load the model\n",
        "#with open(\"random_forest_model.pkl\", \"rb\") as f:\n",
        "#    rf_loaded = pickle.load(f)"
      ]
    }
  ],
  "metadata": {
    "colab": {
      "provenance": []
    },
    "kernelspec": {
      "display_name": "Python 3",
      "name": "python3"
    },
    "language_info": {
      "codemirror_mode": {
        "name": "ipython",
        "version": 3
      },
      "file_extension": ".py",
      "mimetype": "text/x-python",
      "name": "python",
      "nbconvert_exporter": "python",
      "pygments_lexer": "ipython3",
      "version": "3.13.1"
    }
  },
  "nbformat": 4,
  "nbformat_minor": 0
}
