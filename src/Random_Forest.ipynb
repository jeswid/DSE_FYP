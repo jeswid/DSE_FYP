{
  "cells": [
    {
      "cell_type": "markdown",
      "metadata": {
        "id": "MyDROb-r0nlr"
      },
      "source": [
        "### Import the necessary libraries"
      ]
    },
    {
      "cell_type": "code",
      "execution_count": 11,
      "metadata": {
        "id": "BCC3660Ktvhp"
      },
      "outputs": [],
      "source": [
        "import numpy as np\n",
        "import pickle\n",
        "import matplotlib.pyplot as plt\n",
        "import geopandas as gpd\n",
        "import pandas as pd\n",
        "from sklearn.ensemble import RandomForestRegressor\n",
        "from sklearn.model_selection import train_test_split, GridSearchCV\n",
        "from sklearn.metrics import mean_absolute_error, mean_squared_error\n",
        "from statsmodels.graphics.tsaplots import plot_acf, plot_pacf\n",
        "from sklearn.inspection import permutation_importance"
      ]
    },
    {
      "cell_type": "markdown",
      "metadata": {
        "id": "L1sBfqHY03-S"
      },
      "source": [
        "### Read data"
      ]
    },
    {
      "cell_type": "code",
      "execution_count": 26,
      "metadata": {
        "id": "l7rFyDrF0saN"
      },
      "outputs": [],
      "source": [
        "df = gpd.read_file('../data/processed/final_combined_divisions/final_combined_divisions.shp')"
      ]
    },
    {
      "cell_type": "markdown",
      "metadata": {
        "id": "0igLNl6c05sW"
      },
      "source": [
        "### Feature engineering"
      ]
    },
    {
      "cell_type": "code",
      "execution_count": 27,
      "metadata": {
        "id": "T83KBDZeHsar"
      },
      "outputs": [],
      "source": [
        "#convert District to factor\n",
        "df['District'] = df['District'].astype('category')\n",
        "df['District'] = df['District'].cat.codes"
      ]
    },
    {
      "cell_type": "code",
      "execution_count": 28,
      "metadata": {
        "colab": {
          "base_uri": "https://localhost:8080/",
          "height": 206
        },
        "id": "7W8eg3e_01rD",
        "outputId": "83e05b43-faef-4027-c0ec-51bda48b9634"
      },
      "outputs": [
        {
          "data": {
            "text/html": [
              "<div>\n",
              "<style scoped>\n",
              "    .dataframe tbody tr th:only-of-type {\n",
              "        vertical-align: middle;\n",
              "    }\n",
              "\n",
              "    .dataframe tbody tr th {\n",
              "        vertical-align: top;\n",
              "    }\n",
              "\n",
              "    .dataframe thead th {\n",
              "        text-align: right;\n",
              "    }\n",
              "</style>\n",
              "<table border=\"1\" class=\"dataframe\">\n",
              "  <thead>\n",
              "    <tr style=\"text-align: right;\">\n",
              "      <th></th>\n",
              "      <th>District</th>\n",
              "      <th>x</th>\n",
              "      <th>y</th>\n",
              "      <th>Year</th>\n",
              "      <th>Area_sq_km</th>\n",
              "      <th>HDI</th>\n",
              "      <th>Province</th>\n",
              "      <th>Cases</th>\n",
              "      <th>Population</th>\n",
              "      <th>Pop_den</th>\n",
              "      <th>Tot_Cases</th>\n",
              "      <th>Tot_Pop</th>\n",
              "      <th>geometry</th>\n",
              "    </tr>\n",
              "  </thead>\n",
              "  <tbody>\n",
              "    <tr>\n",
              "      <th>0</th>\n",
              "      <td>0</td>\n",
              "      <td>107.610841</td>\n",
              "      <td>-7.099969</td>\n",
              "      <td>2020</td>\n",
              "      <td>1767.96</td>\n",
              "      <td>72.39</td>\n",
              "      <td>West Java</td>\n",
              "      <td>9180</td>\n",
              "      <td>14495160</td>\n",
              "      <td>8198.805403</td>\n",
              "      <td>239236</td>\n",
              "      <td>618506548</td>\n",
              "      <td>POLYGON ((107.73309 -6.814, 107.73354 -6.81427...</td>\n",
              "    </tr>\n",
              "    <tr>\n",
              "      <th>1</th>\n",
              "      <td>0</td>\n",
              "      <td>107.610841</td>\n",
              "      <td>-7.099969</td>\n",
              "      <td>2021</td>\n",
              "      <td>1767.96</td>\n",
              "      <td>72.73</td>\n",
              "      <td>West Java</td>\n",
              "      <td>8008</td>\n",
              "      <td>14662620</td>\n",
              "      <td>8293.524740</td>\n",
              "      <td>239236</td>\n",
              "      <td>618506548</td>\n",
              "      <td>POLYGON ((107.73309 -6.814, 107.73354 -6.81427...</td>\n",
              "    </tr>\n",
              "    <tr>\n",
              "      <th>2</th>\n",
              "      <td>0</td>\n",
              "      <td>107.610841</td>\n",
              "      <td>-7.099969</td>\n",
              "      <td>2022</td>\n",
              "      <td>1767.96</td>\n",
              "      <td>73.16</td>\n",
              "      <td>West Java</td>\n",
              "      <td>16764</td>\n",
              "      <td>14830092</td>\n",
              "      <td>8388.250865</td>\n",
              "      <td>239236</td>\n",
              "      <td>618506548</td>\n",
              "      <td>POLYGON ((107.73309 -6.814, 107.73354 -6.81427...</td>\n",
              "    </tr>\n",
              "    <tr>\n",
              "      <th>3</th>\n",
              "      <td>0</td>\n",
              "      <td>107.610841</td>\n",
              "      <td>-7.099969</td>\n",
              "      <td>2023</td>\n",
              "      <td>1767.96</td>\n",
              "      <td>73.74</td>\n",
              "      <td>West Java</td>\n",
              "      <td>4020</td>\n",
              "      <td>14997564</td>\n",
              "      <td>8482.976990</td>\n",
              "      <td>239236</td>\n",
              "      <td>618506548</td>\n",
              "      <td>POLYGON ((107.73309 -6.814, 107.73354 -6.81427...</td>\n",
              "    </tr>\n",
              "    <tr>\n",
              "      <th>4</th>\n",
              "      <td>1</td>\n",
              "      <td>107.414953</td>\n",
              "      <td>-6.897056</td>\n",
              "      <td>2020</td>\n",
              "      <td>1305.77</td>\n",
              "      <td>68.08</td>\n",
              "      <td>West Java</td>\n",
              "      <td>3864</td>\n",
              "      <td>7153344</td>\n",
              "      <td>5478.257273</td>\n",
              "      <td>239236</td>\n",
              "      <td>618506548</td>\n",
              "      <td>POLYGON ((107.40945 -6.68851, 107.40986 -6.688...</td>\n",
              "    </tr>\n",
              "  </tbody>\n",
              "</table>\n",
              "</div>"
            ],
            "text/plain": [
              "   District           x         y  Year  Area_sq_km    HDI   Province  Cases  \\\n",
              "0         0  107.610841 -7.099969  2020     1767.96  72.39  West Java   9180   \n",
              "1         0  107.610841 -7.099969  2021     1767.96  72.73  West Java   8008   \n",
              "2         0  107.610841 -7.099969  2022     1767.96  73.16  West Java  16764   \n",
              "3         0  107.610841 -7.099969  2023     1767.96  73.74  West Java   4020   \n",
              "4         1  107.414953 -6.897056  2020     1305.77  68.08  West Java   3864   \n",
              "\n",
              "   Population      Pop_den  Tot_Cases    Tot_Pop  \\\n",
              "0    14495160  8198.805403     239236  618506548   \n",
              "1    14662620  8293.524740     239236  618506548   \n",
              "2    14830092  8388.250865     239236  618506548   \n",
              "3    14997564  8482.976990     239236  618506548   \n",
              "4     7153344  5478.257273     239236  618506548   \n",
              "\n",
              "                                            geometry  \n",
              "0  POLYGON ((107.73309 -6.814, 107.73354 -6.81427...  \n",
              "1  POLYGON ((107.73309 -6.814, 107.73354 -6.81427...  \n",
              "2  POLYGON ((107.73309 -6.814, 107.73354 -6.81427...  \n",
              "3  POLYGON ((107.73309 -6.814, 107.73354 -6.81427...  \n",
              "4  POLYGON ((107.40945 -6.68851, 107.40986 -6.688...  "
            ]
          },
          "execution_count": 28,
          "metadata": {},
          "output_type": "execute_result"
        }
      ],
      "source": [
        "df.head()"
      ]
    },
    {
      "cell_type": "code",
      "execution_count": 42,
      "metadata": {
        "colab": {
          "base_uri": "https://localhost:8080/",
          "height": 356
        },
        "id": "ZtuOf4LJLdsK",
        "outputId": "584f830d-ca8c-4b26-cabd-3fc9b10e221e"
      },
      "outputs": [],
      "source": [
        "#fit random forest model\n",
        "X = df[['Pop_den', \"HDI\"]]  # Features\n",
        "feature_names =  X.columns.tolist()\n",
        "y = df['Cases']\n",
        "\n",
        "# Stratify based on 'Province'\n",
        "X_train, X_test, y_train, y_test, train_index, test_index = train_test_split(\n",
        "    X, y, df.index, test_size=0.2, random_state=38, stratify=df[\"Province\"])\n",
        "\n",
        "# Now you have train_index and test_index containing the original indices\n",
        "# of the rows that went into training and testing sets respectively."
      ]
    },
    {
      "cell_type": "code",
      "execution_count": 43,
      "metadata": {},
      "outputs": [
        {
          "data": {
            "image/png": "[encoded data removed]",
            "text/plain": [
              "<Figure size 1000x500 with 1 Axes>"
            ]
          },
          "metadata": {},
          "output_type": "display_data"
        }
      ],
      "source": [
        "#To-do: plot training and testing data (One showing training points and another that shows testing points) with the prediction values\n",
        "# Plot training and testing data\n",
        "plt.figure(figsize=(10, 5))\n",
        "\n",
        "# Scatter plot for Training Data\n",
        "plt.scatter(X_train['Pop_den'], X_train['HDI'], c=y_train, cmap='Blues', label='Training Data', alpha=0.6)\n",
        "\n",
        "# Scatter plot for Testing Data\n",
        "plt.scatter(X_test['Pop_den'], X_test['HDI'], c='red', label='Testing Data', edgecolors='k')\n",
        "\n",
        "plt.xlabel('Population Density')\n",
        "plt.ylabel('HDI')\n",
        "plt.legend()\n",
        "plt.title('Training vs Testing Data')\n",
        "plt.show()"
      ]
    },
    {
      "cell_type": "code",
      "execution_count": 53,
      "metadata": {},
      "outputs": [],
      "source": [
        "# Create new dataset with NaN for testing 'Cases'\n",
        "df_modified = df.copy()\n",
        "df_modified.loc[test_index, 'Cases'] = np.nan  # Replace testing 'Cases' with NaN\n",
        "\n",
        "# Save the dataset\n",
        "df_modified.to_csv('../data/processed/df_aggVAE_rf_training_comparison.csv', index=False)\n",
        "\n",
        "df_pointer = df.copy()\n",
        "df_pointer[\"split\"] = \"train\"\n",
        "df_pointer.loc[test_index, 'split'] = 'test'\n",
        "\n",
        "df_pointer.to_csv('../data/processed/df_aggVAE_rf_split.csv', index=False)"
      ]
    },
    {
      "cell_type": "code",
      "execution_count": 45,
      "metadata": {},
      "outputs": [],
      "source": [
        "#in VAE: give counts of the training points in the random forest --> during VAE inference also pass the values of the district case counts\n",
        "#in vae prevalence model: u provide data for the districts in which rf is being trained on. "
      ]
    },
    {
      "cell_type": "code",
      "execution_count": 46,
      "metadata": {
        "colab": {
          "base_uri": "https://localhost:8080/"
        },
        "id": "-H54gGVuLisH",
        "outputId": "6de24533-c13d-4e85-f7ab-32913353927f"
      },
      "outputs": [
        {
          "name": "stdout",
          "output_type": "stream",
          "text": [
            "Optimal n_estimators: 1000\n",
            "Best OOB score: 0.6518537559010162\n"
          ]
        }
      ],
      "source": [
        "#OOB error to find the optimal n_estimators, with 500, 1000 trees; (dont need to tune max_features first)\n",
        "# Define your random forest regressor\n",
        "rf = RandomForestRegressor(oob_score=True, random_state=42)\n",
        "\n",
        "# Set up the grid search parameters for n_estimators\n",
        "param_grid = {\n",
        "    'n_estimators': [100, 200, 500, 1000],  # Adjust as needed\n",
        "}\n",
        "\n",
        "# Set up GridSearchCV with oob_score\n",
        "grid_search = GridSearchCV(rf, param_grid, cv=None, n_jobs=-1, scoring='neg_mean_squared_error')\n",
        "\n",
        "# Fit the grid search\n",
        "grid_search.fit(X_train, y_train)\n",
        "\n",
        "# Get the best number of trees (n_estimators)\n",
        "best_n_estimators = grid_search.best_params_['n_estimators']\n",
        "print(f\"Optimal n_estimators: {best_n_estimators}\")\n",
        "\n",
        "# Access the best OOB score\n",
        "best_oob_score = grid_search.best_estimator_.oob_score_\n",
        "print(f\"Best OOB score: {best_oob_score}\")"
      ]
    },
    {
      "cell_type": "code",
      "execution_count": 47,
      "metadata": {
        "id": "S0x9KrzZOl7J"
      },
      "outputs": [],
      "source": [
        "#compute the predictions and then append the predictions to the df, then extract the df out\n",
        "rf = RandomForestRegressor(n_estimators=1000, random_state=42)\n",
        "rf.fit(X_train, y_train)\n",
        "y_pred = rf.predict(X_test)"
      ]
    },
    {
      "cell_type": "code",
      "execution_count": 48,
      "metadata": {
        "colab": {
          "base_uri": "https://localhost:8080/"
        },
        "id": "52eZTk7MP7mi",
        "outputId": "73298f25-4eb6-45a2-aeb9-af355f555dfb"
      },
      "outputs": [
        {
          "name": "stdout",
          "output_type": "stream",
          "text": [
            "    District           x         y  Year  Area_sq_km    HDI   Province  Cases  \\\n",
            "0          0  107.610841 -7.099969  2020     1767.96  72.39  West Java   9180   \n",
            "1          0  107.610841 -7.099969  2021     1767.96  72.73  West Java   8008   \n",
            "2          0  107.610841 -7.099969  2022     1767.96  73.16  West Java  16764   \n",
            "3          0  107.610841 -7.099969  2023     1767.96  73.74  West Java   4020   \n",
            "4          1  107.414953 -6.897056  2020     1305.77  68.08  West Java   3864   \n",
            "..       ...         ...       ...   ...         ...    ...        ...    ...   \n",
            "91        22  107.980850 -6.825066  2023     1518.33  73.18  West Java   5232   \n",
            "92        23  108.141296 -7.496706  2020     2551.19  65.67  West Java    716   \n",
            "93        23  108.141296 -7.496706  2021     2551.19  65.90  West Java    188   \n",
            "94        23  108.141296 -7.496706  2022     2551.19  66.84  West Java   1276   \n",
            "95        23  108.141296 -7.496706  2023     2551.19  67.76  West Java    352   \n",
            "\n",
            "    Population      Pop_den  Tot_Cases    Tot_Pop  \\\n",
            "0     14495160  8198.805403     239236  618506548   \n",
            "1     14662620  8293.524740     239236  618506548   \n",
            "2     14830092  8388.250865     239236  618506548   \n",
            "3     14997564  8482.976990     239236  618506548   \n",
            "4      7153344  5478.257273     239236  618506548   \n",
            "..         ...          ...        ...        ...   \n",
            "91     4671140  3076.498521     239236  618506548   \n",
            "92     7460812  2924.443887     239236  618506548   \n",
            "93     7531780  2952.261494     239236  618506548   \n",
            "94     7602752  2980.080668     239236  618506548   \n",
            "95     7673732  3007.902979     239236  618506548   \n",
            "\n",
            "                                             geometry  Predicted_Cases  \n",
            "0   POLYGON ((107.73309 -6.814, 107.73354 -6.81427...              NaN  \n",
            "1   POLYGON ((107.73309 -6.814, 107.73354 -6.81427...              NaN  \n",
            "2   POLYGON ((107.73309 -6.814, 107.73354 -6.81427...              NaN  \n",
            "3   POLYGON ((107.73309 -6.814, 107.73354 -6.81427...        11160.768  \n",
            "4   POLYGON ((107.40945 -6.68851, 107.40986 -6.688...         2664.112  \n",
            "..                                                ...              ...  \n",
            "91  POLYGON ((107.85702 -6.57956, 107.85758 -6.579...         7227.956  \n",
            "92  POLYGON ((108.13281 -7.03924, 108.13306 -7.039...              NaN  \n",
            "93  POLYGON ((108.13281 -7.03924, 108.13306 -7.039...              NaN  \n",
            "94  POLYGON ((108.13281 -7.03924, 108.13306 -7.039...              NaN  \n",
            "95  POLYGON ((108.13281 -7.03924, 108.13306 -7.039...              NaN  \n",
            "\n",
            "[96 rows x 14 columns]\n"
          ]
        }
      ],
      "source": [
        "# Add the predictions to the test set (preserving indices)\n",
        "X_test['Predicted_Cases'] = y_pred\n",
        "\n",
        "# Now merge predictions back to the original dataframe using the indices of X_test\n",
        "df_with_predictions = pd.merge(df, X_test[['Predicted_Cases']],\n",
        "                                left_index=True, right_index=True, how='left')\n",
        "\n",
        "# Show the dataframe with predictions included\n",
        "print(df_with_predictions)"
      ]
    },
    {
      "cell_type": "code",
      "execution_count": 49,
      "metadata": {},
      "outputs": [],
      "source": [
        "#save the df with predictions\n",
        "df_with_predictions.to_csv(\"../data/processed/df_combined_with_predictions_rf_popden_hdi.csv\")"
      ]
    },
    {
      "cell_type": "code",
      "execution_count": 50,
      "metadata": {},
      "outputs": [
        {
          "data": {
            "image/png": "[encoded data removed]",
            "text/plain": [
              "<Figure size 1000x500 with 1 Axes>"
            ]
          },
          "metadata": {},
          "output_type": "display_data"
        }
      ],
      "source": [
        "# Get feature importance\n",
        "importances = rf.feature_importances_\n",
        "indices = np.argsort(importances)[::-1]  # Sort in descending order\n",
        "\n",
        "# Plot feature importance\n",
        "plt.figure(figsize=(10, 5))\n",
        "plt.title(\"Feature Importance in Random Forest\")\n",
        "plt.bar(range(X.shape[1]), importances[indices], align=\"center\")\n",
        "plt.xticks(range(X.shape[1]), [feature_names[i] for i in indices], rotation=45)\n",
        "plt.xlabel(\"Feature\")\n",
        "plt.ylabel(\"Importance Score\")\n",
        "plt.show()"
      ]
    },
    {
      "cell_type": "code",
      "execution_count": 52,
      "metadata": {},
      "outputs": [
        {
          "ename": "FileNotFoundError",
          "evalue": "[Errno 2] No such file or directory: '../../model_weights/rf/random_forest_model_pop_den_hdi.pkl'",
          "output_type": "error",
          "traceback": [
            "\u001b[1;31m---------------------------------------------------------------------------\u001b[0m",
            "\u001b[1;31mFileNotFoundError\u001b[0m                         Traceback (most recent call last)",
            "Cell \u001b[1;32mIn[52], line 2\u001b[0m\n\u001b[0;32m      1\u001b[0m \u001b[38;5;66;03m# Save the model\u001b[39;00m\n\u001b[1;32m----> 2\u001b[0m \u001b[38;5;28;01mwith\u001b[39;00m \u001b[38;5;28;43mopen\u001b[39;49m\u001b[43m(\u001b[49m\u001b[38;5;124;43m\"\u001b[39;49m\u001b[38;5;124;43m../../model_weights/rf/random_forest_model_pop_den_hdi.pkl\u001b[39;49m\u001b[38;5;124;43m\"\u001b[39;49m\u001b[43m,\u001b[49m\u001b[43m \u001b[49m\u001b[38;5;124;43m\"\u001b[39;49m\u001b[38;5;124;43mwb\u001b[39;49m\u001b[38;5;124;43m\"\u001b[39;49m\u001b[43m)\u001b[49m \u001b[38;5;28;01mas\u001b[39;00m f:\n\u001b[0;32m      3\u001b[0m     pickle\u001b[38;5;241m.\u001b[39mdump(rf, f)\n\u001b[0;32m      5\u001b[0m \u001b[38;5;66;03m# Load the model\u001b[39;00m\n\u001b[0;32m      6\u001b[0m \u001b[38;5;66;03m#with open(\"random_forest_model.pkl\", \"rb\") as f:\u001b[39;00m\n\u001b[0;32m      7\u001b[0m \u001b[38;5;66;03m#    rf_loaded = pickle.load(f)\u001b[39;00m\n",
            "File \u001b[1;32m~\\AppData\\Roaming\\Python\\Python313\\site-packages\\IPython\\core\\interactiveshell.py:324\u001b[0m, in \u001b[0;36m_modified_open\u001b[1;34m(file, *args, **kwargs)\u001b[0m\n\u001b[0;32m    317\u001b[0m \u001b[38;5;28;01mif\u001b[39;00m file \u001b[38;5;129;01min\u001b[39;00m {\u001b[38;5;241m0\u001b[39m, \u001b[38;5;241m1\u001b[39m, \u001b[38;5;241m2\u001b[39m}:\n\u001b[0;32m    318\u001b[0m     \u001b[38;5;28;01mraise\u001b[39;00m \u001b[38;5;167;01mValueError\u001b[39;00m(\n\u001b[0;32m    319\u001b[0m         \u001b[38;5;124mf\u001b[39m\u001b[38;5;124m\"\u001b[39m\u001b[38;5;124mIPython won\u001b[39m\u001b[38;5;124m'\u001b[39m\u001b[38;5;124mt let you open fd=\u001b[39m\u001b[38;5;132;01m{\u001b[39;00mfile\u001b[38;5;132;01m}\u001b[39;00m\u001b[38;5;124m by default \u001b[39m\u001b[38;5;124m\"\u001b[39m\n\u001b[0;32m    320\u001b[0m         \u001b[38;5;124m\"\u001b[39m\u001b[38;5;124mas it is likely to crash IPython. If you know what you are doing, \u001b[39m\u001b[38;5;124m\"\u001b[39m\n\u001b[0;32m    321\u001b[0m         \u001b[38;5;124m\"\u001b[39m\u001b[38;5;124myou can use builtins\u001b[39m\u001b[38;5;124m'\u001b[39m\u001b[38;5;124m open.\u001b[39m\u001b[38;5;124m\"\u001b[39m\n\u001b[0;32m    322\u001b[0m     )\n\u001b[1;32m--> 324\u001b[0m \u001b[38;5;28;01mreturn\u001b[39;00m \u001b[43mio_open\u001b[49m\u001b[43m(\u001b[49m\u001b[43mfile\u001b[49m\u001b[43m,\u001b[49m\u001b[43m \u001b[49m\u001b[38;5;241;43m*\u001b[39;49m\u001b[43margs\u001b[49m\u001b[43m,\u001b[49m\u001b[43m \u001b[49m\u001b[38;5;241;43m*\u001b[39;49m\u001b[38;5;241;43m*\u001b[39;49m\u001b[43mkwargs\u001b[49m\u001b[43m)\u001b[49m\n",
            "\u001b[1;31mFileNotFoundError\u001b[0m: [Errno 2] No such file or directory: '../../model_weights/rf/random_forest_model_pop_den_hdi.pkl'"
          ]
        }
      ],
      "source": [
        "# Save the model\n",
        "with open(\"../model_weights/rf/random_forest_model_pop_den_hdi.pkl\", \"wb\") as f:\n",
        "    pickle.dump(rf, f)\n",
        "\n",
        "# Load the model\n",
        "#with open(\"random_forest_model.pkl\", \"rb\") as f:\n",
        "#    rf_loaded = pickle.load(f)"
      ]
    }
  ],
  "metadata": {
    "colab": {
      "provenance": []
    },
    "kernelspec": {
      "display_name": "Python 3",
      "name": "python3"
    },
    "language_info": {
      "codemirror_mode": {
        "name": "ipython",
        "version": 3
      },
      "file_extension": ".py",
      "mimetype": "text/x-python",
      "name": "python",
      "nbconvert_exporter": "python",
      "pygments_lexer": "ipython3",
      "version": "3.13.1"
    }
  },
  "nbformat": 4,
  "nbformat_minor": 0
}
