{
  "cells": [
    {
      "cell_type": "markdown",
      "metadata": {
        "id": "6Mj2P7TyAXf8"
      },
      "source": [
        "# Import Libraries"
      ]
    },
    {
      "cell_type": "code",
      "execution_count": 418,
      "metadata": {
        "id": "vuGvfdHNAB54"
      },
      "outputs": [],
      "source": [
        "import pandas as pd\n",
        "import numpy as np\n",
        "import matplotlib.pyplot as plt\n",
        "import geopandas as gpd\n",
        "import os"
      ]
    },
    {
      "cell_type": "markdown",
      "metadata": {
        "id": "AyzNcaaWQmGU"
      },
      "source": [
        "# Reading in dengue data and processing"
      ]
    },
    {
      "cell_type": "markdown",
      "metadata": {
        "id": "zRahUGrYWKKM"
      },
      "source": [
        "## Read in cases data"
      ]
    },
    {
      "cell_type": "code",
      "execution_count": 419,
      "metadata": {
        "id": "-nZAdgJjGa8o"
      },
      "outputs": [],
      "source": [
        "data_jkt = pd.read_csv(\"../data/raw/jakarta_data.csv\")\n",
        "data_java = pd.read_csv(\"../data/raw/westjava_data.csv\")"
      ]
    },
    {
      "cell_type": "code",
      "execution_count": 420,
      "metadata": {
        "id": "WGUWbWBZI0qp"
      },
      "outputs": [],
      "source": [
        "#rename time to year\n",
        "data_java.rename(columns={'Time': 'Year'}, inplace=True)\n",
        "data_jkt.rename(columns={'Time': 'Year'}, inplace=True)"
      ]
    },
    {
      "cell_type": "code",
      "execution_count": 421,
      "metadata": {
        "id": "0mxomgS82LqV"
      },
      "outputs": [],
      "source": [
        "#add Province column to identify the provinces of DKI Jakarta and West Java\n",
        "data_java[\"Province\"] = \"Jawa Barat\"\n",
        "data_jkt[\"Province\"] = \"DKI Jakarta\""
      ]
    },
    {
      "cell_type": "code",
      "execution_count": 422,
      "metadata": {
        "colab": {
          "base_uri": "https://localhost:8080/",
          "height": 206
        },
        "id": "8YtiJitm1-be",
        "outputId": "33308042-bdb6-4f0c-a57e-1c7f5ffb1697"
      },
      "outputs": [
        {
          "data": {
            "text/html": [
              "<div>\n",
              "<style scoped>\n",
              "    .dataframe tbody tr th:only-of-type {\n",
              "        vertical-align: middle;\n",
              "    }\n",
              "\n",
              "    .dataframe tbody tr th {\n",
              "        vertical-align: top;\n",
              "    }\n",
              "\n",
              "    .dataframe thead th {\n",
              "        text-align: right;\n",
              "    }\n",
              "</style>\n",
              "<table border=\"1\" class=\"dataframe\">\n",
              "  <thead>\n",
              "    <tr style=\"text-align: right;\">\n",
              "      <th></th>\n",
              "      <th>District</th>\n",
              "      <th>Year</th>\n",
              "      <th>Age</th>\n",
              "      <th>Cases</th>\n",
              "      <th>Population</th>\n",
              "      <th>Province</th>\n",
              "    </tr>\n",
              "  </thead>\n",
              "  <tbody>\n",
              "    <tr>\n",
              "      <th>0</th>\n",
              "      <td>BANDUNG</td>\n",
              "      <td>2020</td>\n",
              "      <td>0-4</td>\n",
              "      <td>332</td>\n",
              "      <td>313554</td>\n",
              "      <td>Jawa Barat</td>\n",
              "    </tr>\n",
              "    <tr>\n",
              "      <th>1</th>\n",
              "      <td>BANDUNG</td>\n",
              "      <td>2020</td>\n",
              "      <td>15-44</td>\n",
              "      <td>950</td>\n",
              "      <td>1772345</td>\n",
              "      <td>Jawa Barat</td>\n",
              "    </tr>\n",
              "    <tr>\n",
              "      <th>2</th>\n",
              "      <td>BANDUNG</td>\n",
              "      <td>2020</td>\n",
              "      <td>45-99</td>\n",
              "      <td>312</td>\n",
              "      <td>892491</td>\n",
              "      <td>Jawa Barat</td>\n",
              "    </tr>\n",
              "    <tr>\n",
              "      <th>3</th>\n",
              "      <td>BANDUNG</td>\n",
              "      <td>2020</td>\n",
              "      <td>5-14</td>\n",
              "      <td>701</td>\n",
              "      <td>645400</td>\n",
              "      <td>Jawa Barat</td>\n",
              "    </tr>\n",
              "    <tr>\n",
              "      <th>4</th>\n",
              "      <td>BANDUNG</td>\n",
              "      <td>2021</td>\n",
              "      <td>0-4</td>\n",
              "      <td>470</td>\n",
              "      <td>311231</td>\n",
              "      <td>Jawa Barat</td>\n",
              "    </tr>\n",
              "  </tbody>\n",
              "</table>\n",
              "</div>"
            ],
            "text/plain": [
              "  District  Year    Age  Cases  Population    Province\n",
              "0  BANDUNG  2020    0-4    332      313554  Jawa Barat\n",
              "1  BANDUNG  2020  15-44    950     1772345  Jawa Barat\n",
              "2  BANDUNG  2020  45-99    312      892491  Jawa Barat\n",
              "3  BANDUNG  2020   5-14    701      645400  Jawa Barat\n",
              "4  BANDUNG  2021    0-4    470      311231  Jawa Barat"
            ]
          },
          "execution_count": 422,
          "metadata": {},
          "output_type": "execute_result"
        }
      ],
      "source": [
        "data_java.head()"
      ]
    },
    {
      "cell_type": "code",
      "execution_count": 423,
      "metadata": {},
      "outputs": [
        {
          "data": {
            "text/html": [
              "<div>\n",
              "<style scoped>\n",
              "    .dataframe tbody tr th:only-of-type {\n",
              "        vertical-align: middle;\n",
              "    }\n",
              "\n",
              "    .dataframe tbody tr th {\n",
              "        vertical-align: top;\n",
              "    }\n",
              "\n",
              "    .dataframe thead th {\n",
              "        text-align: right;\n",
              "    }\n",
              "</style>\n",
              "<table border=\"1\" class=\"dataframe\">\n",
              "  <thead>\n",
              "    <tr style=\"text-align: right;\">\n",
              "      <th></th>\n",
              "      <th>District</th>\n",
              "      <th>Year</th>\n",
              "      <th>Age</th>\n",
              "      <th>Cases</th>\n",
              "      <th>Population</th>\n",
              "      <th>Province</th>\n",
              "    </tr>\n",
              "  </thead>\n",
              "  <tbody>\n",
              "    <tr>\n",
              "      <th>0</th>\n",
              "      <td>KEPULAUAN SERIBU</td>\n",
              "      <td>2020</td>\n",
              "      <td>0-4</td>\n",
              "      <td>9</td>\n",
              "      <td>2837</td>\n",
              "      <td>DKI Jakarta</td>\n",
              "    </tr>\n",
              "    <tr>\n",
              "      <th>1</th>\n",
              "      <td>KEPULAUAN SERIBU</td>\n",
              "      <td>2020</td>\n",
              "      <td>10-14</td>\n",
              "      <td>1</td>\n",
              "      <td>2307</td>\n",
              "      <td>DKI Jakarta</td>\n",
              "    </tr>\n",
              "    <tr>\n",
              "      <th>2</th>\n",
              "      <td>KEPULAUAN SERIBU</td>\n",
              "      <td>2020</td>\n",
              "      <td>15-19</td>\n",
              "      <td>0</td>\n",
              "      <td>2575</td>\n",
              "      <td>DKI Jakarta</td>\n",
              "    </tr>\n",
              "    <tr>\n",
              "      <th>3</th>\n",
              "      <td>KEPULAUAN SERIBU</td>\n",
              "      <td>2020</td>\n",
              "      <td>20-44</td>\n",
              "      <td>2</td>\n",
              "      <td>11456</td>\n",
              "      <td>DKI Jakarta</td>\n",
              "    </tr>\n",
              "    <tr>\n",
              "      <th>4</th>\n",
              "      <td>KEPULAUAN SERIBU</td>\n",
              "      <td>2020</td>\n",
              "      <td>45-54</td>\n",
              "      <td>0</td>\n",
              "      <td>3184</td>\n",
              "      <td>DKI Jakarta</td>\n",
              "    </tr>\n",
              "  </tbody>\n",
              "</table>\n",
              "</div>"
            ],
            "text/plain": [
              "           District  Year    Age  Cases  Population     Province\n",
              "0  KEPULAUAN SERIBU  2020    0-4      9        2837  DKI Jakarta\n",
              "1  KEPULAUAN SERIBU  2020  10-14      1        2307  DKI Jakarta\n",
              "2  KEPULAUAN SERIBU  2020  15-19      0        2575  DKI Jakarta\n",
              "3  KEPULAUAN SERIBU  2020  20-44      2       11456  DKI Jakarta\n",
              "4  KEPULAUAN SERIBU  2020  45-54      0        3184  DKI Jakarta"
            ]
          },
          "execution_count": 423,
          "metadata": {},
          "output_type": "execute_result"
        }
      ],
      "source": [
        "data_jkt.head()"
      ]
    },
    {
      "cell_type": "code",
      "execution_count": 424,
      "metadata": {
        "colab": {
          "base_uri": "https://localhost:8080/"
        },
        "id": "j3qb2yUHny5u",
        "outputId": "424d1658-69cc-4af7-f3db-a87b139b094c"
      },
      "outputs": [
        {
          "data": {
            "text/plain": [
              "6"
            ]
          },
          "execution_count": 424,
          "metadata": {},
          "output_type": "execute_result"
        }
      ],
      "source": [
        "#check the unique values of Distric for the jkt dataset\n",
        "data_jkt[\"District\"].nunique()"
      ]
    },
    {
      "cell_type": "code",
      "execution_count": 425,
      "metadata": {
        "colab": {
          "base_uri": "https://localhost:8080/"
        },
        "id": "U4EbvVjWn3pD",
        "outputId": "1b8a7b5b-76b8-4887-bce7-4c30b6dcfec9"
      },
      "outputs": [
        {
          "data": {
            "text/plain": [
              "27"
            ]
          },
          "execution_count": 425,
          "metadata": {},
          "output_type": "execute_result"
        }
      ],
      "source": [
        "#check the unique values of Distric for the java dataset\n",
        "data_java[\"District\"].nunique()"
      ]
    },
    {
      "cell_type": "code",
      "execution_count": 426,
      "metadata": {},
      "outputs": [],
      "source": [
        "# Get unique values from each dataset\n",
        "districts_jkt = data_jkt[\"District\"].unique()\n",
        "districts_java = data_java[\"District\"].unique()\n",
        "\n",
        "# Combine them into a single list\n",
        "combined_districts = list(set(districts_jkt) | set(districts_java))\n",
        "combined_districts_filtered = [d for d in combined_districts if d != \"KEPULAUAN SERIBU\"]"
      ]
    },
    {
      "cell_type": "code",
      "execution_count": 427,
      "metadata": {
        "colab": {
          "base_uri": "https://localhost:8080/"
        },
        "id": "j8BonicIGKey",
        "outputId": "fa36b822-9b7f-4b8e-8c3c-a50e236a75df"
      },
      "outputs": [
        {
          "data": {
            "text/plain": [
              "array([2020, 2021, 2022, 2023])"
            ]
          },
          "execution_count": 427,
          "metadata": {},
          "output_type": "execute_result"
        }
      ],
      "source": [
        "#check the unique values for year for jkt\n",
        "data_jkt[\"Year\"].unique()"
      ]
    },
    {
      "cell_type": "code",
      "execution_count": 428,
      "metadata": {
        "colab": {
          "base_uri": "https://localhost:8080/"
        },
        "id": "eUv6sKxCGRIM",
        "outputId": "f8819a0e-acbe-4bac-f48c-f3969ce007e1"
      },
      "outputs": [
        {
          "data": {
            "text/plain": [
              "array([2020, 2021, 2022, 2023])"
            ]
          },
          "execution_count": 428,
          "metadata": {},
          "output_type": "execute_result"
        }
      ],
      "source": [
        "#check the unique values for year for java\n",
        "data_java[\"Year\"].unique()"
      ]
    },
    {
      "cell_type": "markdown",
      "metadata": {
        "id": "sWtcpngBWQfM"
      },
      "source": [
        "## total area data processing for jkt"
      ]
    },
    {
      "cell_type": "code",
      "execution_count": 429,
      "metadata": {
        "id": "KM89HehzUFuk"
      },
      "outputs": [],
      "source": [
        "#read in the total area data\n",
        "area_jkt_old = pd.read_csv(\"../data/raw/total_area_jkt_2020.csv\")\n",
        "area_jkt_new = pd.read_csv(\"../data/raw/total_area_jkt_20212023.csv\")"
      ]
    },
    {
      "cell_type": "code",
      "execution_count": 430,
      "metadata": {
        "colab": {
          "base_uri": "https://localhost:8080/",
          "height": 206
        },
        "id": "vYguzQnDUqKP",
        "outputId": "03cf4f36-b263-4098-bd9d-af11808a7da4"
      },
      "outputs": [
        {
          "data": {
            "text/html": [
              "<div>\n",
              "<style scoped>\n",
              "    .dataframe tbody tr th:only-of-type {\n",
              "        vertical-align: middle;\n",
              "    }\n",
              "\n",
              "    .dataframe tbody tr th {\n",
              "        vertical-align: top;\n",
              "    }\n",
              "\n",
              "    .dataframe thead th {\n",
              "        text-align: right;\n",
              "    }\n",
              "</style>\n",
              "<table border=\"1\" class=\"dataframe\">\n",
              "  <thead>\n",
              "    <tr style=\"text-align: right;\">\n",
              "      <th></th>\n",
              "      <th>Kab/Kota</th>\n",
              "      <th>Unnamed: 1</th>\n",
              "      <th>Unnamed: 2</th>\n",
              "      <th>Unnamed: 3</th>\n",
              "    </tr>\n",
              "  </thead>\n",
              "  <tbody>\n",
              "    <tr>\n",
              "      <th>0</th>\n",
              "      <td>NaN</td>\n",
              "      <td>The Total Area by Regency/ Municipality (Km&amp;lt...</td>\n",
              "      <td>NaN</td>\n",
              "      <td>NaN</td>\n",
              "    </tr>\n",
              "    <tr>\n",
              "      <th>1</th>\n",
              "      <td>NaN</td>\n",
              "      <td>2018</td>\n",
              "      <td>2019.00</td>\n",
              "      <td>2020.00</td>\n",
              "    </tr>\n",
              "    <tr>\n",
              "      <th>2</th>\n",
              "      <td>Kep Seribu</td>\n",
              "      <td>8.7</td>\n",
              "      <td>10.18</td>\n",
              "      <td>10.18</td>\n",
              "    </tr>\n",
              "    <tr>\n",
              "      <th>3</th>\n",
              "      <td>Jakarta Selatan</td>\n",
              "      <td>141.27</td>\n",
              "      <td>154.32</td>\n",
              "      <td>154.32</td>\n",
              "    </tr>\n",
              "    <tr>\n",
              "      <th>4</th>\n",
              "      <td>Jakarta Timur</td>\n",
              "      <td>188.03</td>\n",
              "      <td>182.70</td>\n",
              "      <td>182.70</td>\n",
              "    </tr>\n",
              "  </tbody>\n",
              "</table>\n",
              "</div>"
            ],
            "text/plain": [
              "          Kab/Kota                                         Unnamed: 1  \\\n",
              "0              NaN  The Total Area by Regency/ Municipality (Km&lt...   \n",
              "1              NaN                                               2018   \n",
              "2       Kep Seribu                                                8.7   \n",
              "3  Jakarta Selatan                                             141.27   \n",
              "4    Jakarta Timur                                             188.03   \n",
              "\n",
              "   Unnamed: 2  Unnamed: 3  \n",
              "0         NaN         NaN  \n",
              "1     2019.00     2020.00  \n",
              "2       10.18       10.18  \n",
              "3      154.32      154.32  \n",
              "4      182.70      182.70  "
            ]
          },
          "execution_count": 430,
          "metadata": {},
          "output_type": "execute_result"
        }
      ],
      "source": [
        "#check the files\n",
        "area_jkt_old.head()"
      ]
    },
    {
      "cell_type": "code",
      "execution_count": 431,
      "metadata": {
        "colab": {
          "base_uri": "https://localhost:8080/",
          "height": 206
        },
        "id": "FVOUktYTUxxa",
        "outputId": "c7ad3f93-c5b5-4566-bb6c-549707dd1fef"
      },
      "outputs": [
        {
          "data": {
            "text/html": [
              "<div>\n",
              "<style scoped>\n",
              "    .dataframe tbody tr th:only-of-type {\n",
              "        vertical-align: middle;\n",
              "    }\n",
              "\n",
              "    .dataframe tbody tr th {\n",
              "        vertical-align: top;\n",
              "    }\n",
              "\n",
              "    .dataframe thead th {\n",
              "        text-align: right;\n",
              "    }\n",
              "</style>\n",
              "<table border=\"1\" class=\"dataframe\">\n",
              "  <thead>\n",
              "    <tr style=\"text-align: right;\">\n",
              "      <th></th>\n",
              "      <th>Kab/Kota</th>\n",
              "      <th>Unnamed: 1</th>\n",
              "      <th>Unnamed: 2</th>\n",
              "      <th>Unnamed: 3</th>\n",
              "    </tr>\n",
              "  </thead>\n",
              "  <tbody>\n",
              "    <tr>\n",
              "      <th>0</th>\n",
              "      <td>NaN</td>\n",
              "      <td>The Total Area by Regency/ Municipality (Km&amp;lt...</td>\n",
              "      <td>NaN</td>\n",
              "      <td>NaN</td>\n",
              "    </tr>\n",
              "    <tr>\n",
              "      <th>1</th>\n",
              "      <td>NaN</td>\n",
              "      <td>2021</td>\n",
              "      <td>2022.00</td>\n",
              "      <td>2023.00</td>\n",
              "    </tr>\n",
              "    <tr>\n",
              "      <th>2</th>\n",
              "      <td>Kep Seribu</td>\n",
              "      <td>10.18</td>\n",
              "      <td>10.73</td>\n",
              "      <td>10.73</td>\n",
              "    </tr>\n",
              "    <tr>\n",
              "      <th>3</th>\n",
              "      <td>Jakarta Selatan</td>\n",
              "      <td>154.32</td>\n",
              "      <td>144.94</td>\n",
              "      <td>144.94</td>\n",
              "    </tr>\n",
              "    <tr>\n",
              "      <th>4</th>\n",
              "      <td>Jakarta Timur</td>\n",
              "      <td>182.7</td>\n",
              "      <td>185.54</td>\n",
              "      <td>185.54</td>\n",
              "    </tr>\n",
              "  </tbody>\n",
              "</table>\n",
              "</div>"
            ],
            "text/plain": [
              "          Kab/Kota                                         Unnamed: 1  \\\n",
              "0              NaN  The Total Area by Regency/ Municipality (Km&lt...   \n",
              "1              NaN                                               2021   \n",
              "2       Kep Seribu                                              10.18   \n",
              "3  Jakarta Selatan                                             154.32   \n",
              "4    Jakarta Timur                                              182.7   \n",
              "\n",
              "   Unnamed: 2  Unnamed: 3  \n",
              "0         NaN         NaN  \n",
              "1     2022.00     2023.00  \n",
              "2       10.73       10.73  \n",
              "3      144.94      144.94  \n",
              "4      185.54      185.54  "
            ]
          },
          "execution_count": 431,
          "metadata": {},
          "output_type": "execute_result"
        }
      ],
      "source": [
        "#check the files\n",
        "area_jkt_new.head()"
      ]
    },
    {
      "cell_type": "code",
      "execution_count": 432,
      "metadata": {
        "id": "rAae-780U449"
      },
      "outputs": [],
      "source": [
        "#data cleaning for old and new jkt files - values for the index 1 row to be colnames for cols 1-3, then eliminate the rows of index 0 and 1 --> area is in km^2\n",
        "area_jkt_new.columns = area_jkt_new.iloc[1]\n",
        "area_jkt_new = area_jkt_new.iloc[2:]\n",
        "area_jkt_old.columns = area_jkt_old.iloc[1]\n",
        "area_jkt_old = area_jkt_old.iloc[2:]\n",
        "\n",
        "#rename the first column into District\n",
        "area_jkt_new.rename(columns={np.nan: 'District'}, inplace=True)\n",
        "area_jkt_old.rename(columns={np.nan: 'District'}, inplace=True)"
      ]
    },
    {
      "cell_type": "code",
      "execution_count": 433,
      "metadata": {
        "colab": {
          "base_uri": "https://localhost:8080/",
          "height": 206
        },
        "id": "nRLp7oruXCom",
        "outputId": "9293d1e5-7017-41ca-c1e3-4c0f89f93b87"
      },
      "outputs": [
        {
          "data": {
            "text/html": [
              "<div>\n",
              "<style scoped>\n",
              "    .dataframe tbody tr th:only-of-type {\n",
              "        vertical-align: middle;\n",
              "    }\n",
              "\n",
              "    .dataframe tbody tr th {\n",
              "        vertical-align: top;\n",
              "    }\n",
              "\n",
              "    .dataframe thead th {\n",
              "        text-align: right;\n",
              "    }\n",
              "</style>\n",
              "<table border=\"1\" class=\"dataframe\">\n",
              "  <thead>\n",
              "    <tr style=\"text-align: right;\">\n",
              "      <th>1</th>\n",
              "      <th>District</th>\n",
              "      <th>2018</th>\n",
              "      <th>2019.0</th>\n",
              "      <th>2020.0</th>\n",
              "    </tr>\n",
              "  </thead>\n",
              "  <tbody>\n",
              "    <tr>\n",
              "      <th>2</th>\n",
              "      <td>Kep Seribu</td>\n",
              "      <td>8.7</td>\n",
              "      <td>10.18</td>\n",
              "      <td>10.18</td>\n",
              "    </tr>\n",
              "    <tr>\n",
              "      <th>3</th>\n",
              "      <td>Jakarta Selatan</td>\n",
              "      <td>141.27</td>\n",
              "      <td>154.32</td>\n",
              "      <td>154.32</td>\n",
              "    </tr>\n",
              "    <tr>\n",
              "      <th>4</th>\n",
              "      <td>Jakarta Timur</td>\n",
              "      <td>188.03</td>\n",
              "      <td>182.70</td>\n",
              "      <td>182.70</td>\n",
              "    </tr>\n",
              "    <tr>\n",
              "      <th>5</th>\n",
              "      <td>Jakarta Pusat</td>\n",
              "      <td>48.13</td>\n",
              "      <td>52.38</td>\n",
              "      <td>52.38</td>\n",
              "    </tr>\n",
              "    <tr>\n",
              "      <th>6</th>\n",
              "      <td>Jakarta Barat</td>\n",
              "      <td>129.54</td>\n",
              "      <td>124.44</td>\n",
              "      <td>124.44</td>\n",
              "    </tr>\n",
              "  </tbody>\n",
              "</table>\n",
              "</div>"
            ],
            "text/plain": [
              "1         District    2018  2019.0  2020.0\n",
              "2       Kep Seribu     8.7   10.18   10.18\n",
              "3  Jakarta Selatan  141.27  154.32  154.32\n",
              "4    Jakarta Timur  188.03  182.70  182.70\n",
              "5    Jakarta Pusat   48.13   52.38   52.38\n",
              "6    Jakarta Barat  129.54  124.44  124.44"
            ]
          },
          "execution_count": 433,
          "metadata": {},
          "output_type": "execute_result"
        }
      ],
      "source": [
        "area_jkt_old.head()"
      ]
    },
    {
      "cell_type": "code",
      "execution_count": 434,
      "metadata": {
        "colab": {
          "base_uri": "https://localhost:8080/",
          "height": 206
        },
        "id": "uSHVdDfgVtbd",
        "outputId": "5cfeead9-8b57-4cf7-e468-62c5329d0b60"
      },
      "outputs": [
        {
          "data": {
            "text/html": [
              "<div>\n",
              "<style scoped>\n",
              "    .dataframe tbody tr th:only-of-type {\n",
              "        vertical-align: middle;\n",
              "    }\n",
              "\n",
              "    .dataframe tbody tr th {\n",
              "        vertical-align: top;\n",
              "    }\n",
              "\n",
              "    .dataframe thead th {\n",
              "        text-align: right;\n",
              "    }\n",
              "</style>\n",
              "<table border=\"1\" class=\"dataframe\">\n",
              "  <thead>\n",
              "    <tr style=\"text-align: right;\">\n",
              "      <th>1</th>\n",
              "      <th>District</th>\n",
              "      <th>2021</th>\n",
              "      <th>2022.0</th>\n",
              "      <th>2023.0</th>\n",
              "    </tr>\n",
              "  </thead>\n",
              "  <tbody>\n",
              "    <tr>\n",
              "      <th>2</th>\n",
              "      <td>Kep Seribu</td>\n",
              "      <td>10.18</td>\n",
              "      <td>10.73</td>\n",
              "      <td>10.73</td>\n",
              "    </tr>\n",
              "    <tr>\n",
              "      <th>3</th>\n",
              "      <td>Jakarta Selatan</td>\n",
              "      <td>154.32</td>\n",
              "      <td>144.94</td>\n",
              "      <td>144.94</td>\n",
              "    </tr>\n",
              "    <tr>\n",
              "      <th>4</th>\n",
              "      <td>Jakarta Timur</td>\n",
              "      <td>182.7</td>\n",
              "      <td>185.54</td>\n",
              "      <td>185.54</td>\n",
              "    </tr>\n",
              "    <tr>\n",
              "      <th>5</th>\n",
              "      <td>Jakarta Pusat</td>\n",
              "      <td>52.38</td>\n",
              "      <td>47.56</td>\n",
              "      <td>47.56</td>\n",
              "    </tr>\n",
              "    <tr>\n",
              "      <th>6</th>\n",
              "      <td>Jakarta Barat</td>\n",
              "      <td>124.44</td>\n",
              "      <td>125.00</td>\n",
              "      <td>125.00</td>\n",
              "    </tr>\n",
              "  </tbody>\n",
              "</table>\n",
              "</div>"
            ],
            "text/plain": [
              "1         District    2021  2022.0  2023.0\n",
              "2       Kep Seribu   10.18   10.73   10.73\n",
              "3  Jakarta Selatan  154.32  144.94  144.94\n",
              "4    Jakarta Timur   182.7  185.54  185.54\n",
              "5    Jakarta Pusat   52.38   47.56   47.56\n",
              "6    Jakarta Barat  124.44  125.00  125.00"
            ]
          },
          "execution_count": 434,
          "metadata": {},
          "output_type": "execute_result"
        }
      ],
      "source": [
        "area_jkt_new.head()"
      ]
    },
    {
      "cell_type": "code",
      "execution_count": 435,
      "metadata": {
        "id": "i4EvuxbmXT2L"
      },
      "outputs": [],
      "source": [
        "#merge both dataframew by District, and then convert to long form, then filter to get Year = 2020-2023 only\n",
        "area_jkt = pd.merge(area_jkt_old, area_jkt_new, on=\"District\", how=\"inner\")\n",
        "area_jkt = pd.melt(area_jkt, id_vars=[\"District\"], var_name=\"Year\", value_name=\"Area_sq_km\")\n",
        "\n",
        "#convert Year to integer\n",
        "area_jkt[\"Year\"] = area_jkt[\"Year\"].astype(int)\n",
        "\n",
        "#filter to get 2020-2023 values\n",
        "area_jkt = area_jkt[area_jkt[\"Year\"].isin([2020, 2021, 2022, 2023])]\n",
        "\n",
        "#convert the names of District values to upper case\n",
        "area_jkt[\"District\"] = area_jkt[\"District\"].str.upper()\n",
        "\n",
        "#rename the value KEP SERIBU into KEPULAUAN SERIBU and add KOTA in front of the other values under the column District\n",
        "area_jkt[\"District\"] = \"KOTA \" + area_jkt[\"District\"]\n",
        "area_jkt.loc[area_jkt[\"District\"] == \"KOTA KEP SERIBU\", \"District\"] = \"KEPULAUAN SERIBU\"\n",
        "\n",
        "#convert the area values to float\n",
        "area_jkt[\"Area_sq_km\"] = area_jkt[\"Area_sq_km\"].astype(float)"
      ]
    },
    {
      "cell_type": "code",
      "execution_count": 436,
      "metadata": {
        "colab": {
          "base_uri": "https://localhost:8080/",
          "height": 206
        },
        "id": "MzGlXT7YXsEd",
        "outputId": "04c2a5e5-b911-4b72-e44f-2a23945c66dc"
      },
      "outputs": [
        {
          "data": {
            "text/html": [
              "<div>\n",
              "<style scoped>\n",
              "    .dataframe tbody tr th:only-of-type {\n",
              "        vertical-align: middle;\n",
              "    }\n",
              "\n",
              "    .dataframe tbody tr th {\n",
              "        vertical-align: top;\n",
              "    }\n",
              "\n",
              "    .dataframe thead th {\n",
              "        text-align: right;\n",
              "    }\n",
              "</style>\n",
              "<table border=\"1\" class=\"dataframe\">\n",
              "  <thead>\n",
              "    <tr style=\"text-align: right;\">\n",
              "      <th></th>\n",
              "      <th>District</th>\n",
              "      <th>Year</th>\n",
              "      <th>Area_sq_km</th>\n",
              "    </tr>\n",
              "  </thead>\n",
              "  <tbody>\n",
              "    <tr>\n",
              "      <th>14</th>\n",
              "      <td>KEPULAUAN SERIBU</td>\n",
              "      <td>2020</td>\n",
              "      <td>10.18</td>\n",
              "    </tr>\n",
              "    <tr>\n",
              "      <th>15</th>\n",
              "      <td>KOTA JAKARTA SELATAN</td>\n",
              "      <td>2020</td>\n",
              "      <td>154.32</td>\n",
              "    </tr>\n",
              "    <tr>\n",
              "      <th>16</th>\n",
              "      <td>KOTA JAKARTA TIMUR</td>\n",
              "      <td>2020</td>\n",
              "      <td>182.70</td>\n",
              "    </tr>\n",
              "    <tr>\n",
              "      <th>17</th>\n",
              "      <td>KOTA JAKARTA PUSAT</td>\n",
              "      <td>2020</td>\n",
              "      <td>52.38</td>\n",
              "    </tr>\n",
              "    <tr>\n",
              "      <th>18</th>\n",
              "      <td>KOTA JAKARTA BARAT</td>\n",
              "      <td>2020</td>\n",
              "      <td>124.44</td>\n",
              "    </tr>\n",
              "  </tbody>\n",
              "</table>\n",
              "</div>"
            ],
            "text/plain": [
              "                District  Year  Area_sq_km\n",
              "14      KEPULAUAN SERIBU  2020       10.18\n",
              "15  KOTA JAKARTA SELATAN  2020      154.32\n",
              "16    KOTA JAKARTA TIMUR  2020      182.70\n",
              "17    KOTA JAKARTA PUSAT  2020       52.38\n",
              "18    KOTA JAKARTA BARAT  2020      124.44"
            ]
          },
          "execution_count": 436,
          "metadata": {},
          "output_type": "execute_result"
        }
      ],
      "source": [
        "#check df\n",
        "area_jkt.head()"
      ]
    },
    {
      "cell_type": "code",
      "execution_count": 437,
      "metadata": {},
      "outputs": [
        {
          "data": {
            "text/plain": [
              "7"
            ]
          },
          "execution_count": 437,
          "metadata": {},
          "output_type": "execute_result"
        }
      ],
      "source": [
        "area_jkt[\"District\"].nunique()"
      ]
    },
    {
      "cell_type": "code",
      "execution_count": 438,
      "metadata": {
        "colab": {
          "base_uri": "https://localhost:8080/"
        },
        "id": "OpWEP9iSGiyH",
        "outputId": "bf87197b-b673-4de0-ef6a-ace8058a413f"
      },
      "outputs": [
        {
          "data": {
            "text/plain": [
              "array([2020, 2021, 2022, 2023])"
            ]
          },
          "execution_count": 438,
          "metadata": {},
          "output_type": "execute_result"
        }
      ],
      "source": [
        "#check unique values for Year\n",
        "area_jkt[\"Year\"].unique()"
      ]
    },
    {
      "cell_type": "code",
      "execution_count": 439,
      "metadata": {},
      "outputs": [
        {
          "data": {
            "text/plain": [
              "np.int64(0)"
            ]
          },
          "execution_count": 439,
          "metadata": {},
          "output_type": "execute_result"
        }
      ],
      "source": [
        "#check for duplicates\n",
        "area_jkt.duplicated(subset=['District', 'Year']).sum()"
      ]
    },
    {
      "cell_type": "code",
      "execution_count": 440,
      "metadata": {},
      "outputs": [],
      "source": [
        "#check for duplicates too\n",
        "area_jkt = area_jkt.drop_duplicates(subset=['District', 'Year'])\n"
      ]
    },
    {
      "cell_type": "markdown",
      "metadata": {
        "id": "aVNLLhomYht8"
      },
      "source": [
        "## total area data processing for west java"
      ]
    },
    {
      "cell_type": "code",
      "execution_count": 441,
      "metadata": {
        "colab": {
          "base_uri": "https://localhost:8080/",
          "height": 206
        },
        "id": "l6DFe6wzYjg1",
        "outputId": "3d584842-2170-4936-bc50-c230f9874c7e"
      },
      "outputs": [
        {
          "data": {
            "text/html": [
              "<div>\n",
              "<style scoped>\n",
              "    .dataframe tbody tr th:only-of-type {\n",
              "        vertical-align: middle;\n",
              "    }\n",
              "\n",
              "    .dataframe tbody tr th {\n",
              "        vertical-align: top;\n",
              "    }\n",
              "\n",
              "    .dataframe thead th {\n",
              "        text-align: right;\n",
              "    }\n",
              "</style>\n",
              "<table border=\"1\" class=\"dataframe\">\n",
              "  <thead>\n",
              "    <tr style=\"text-align: right;\">\n",
              "      <th></th>\n",
              "      <th>Regency/Municipality</th>\n",
              "      <th>Unnamed: 1</th>\n",
              "      <th>Unnamed: 2</th>\n",
              "      <th>Unnamed: 3</th>\n",
              "      <th>Unnamed: 4</th>\n",
              "    </tr>\n",
              "  </thead>\n",
              "  <tbody>\n",
              "    <tr>\n",
              "      <th>0</th>\n",
              "      <td>NaN</td>\n",
              "      <td>Total Area (sq. km)</td>\n",
              "      <td>NaN</td>\n",
              "      <td>NaN</td>\n",
              "      <td>NaN</td>\n",
              "    </tr>\n",
              "    <tr>\n",
              "      <th>1</th>\n",
              "      <td>NaN</td>\n",
              "      <td>2022</td>\n",
              "      <td>2021.00</td>\n",
              "      <td>2019.00</td>\n",
              "      <td>2018.00</td>\n",
              "    </tr>\n",
              "    <tr>\n",
              "      <th>2</th>\n",
              "      <td>Jawa Barat Province</td>\n",
              "      <td>35377.76</td>\n",
              "      <td>35377.76</td>\n",
              "      <td>35377.76</td>\n",
              "      <td>35377.76</td>\n",
              "    </tr>\n",
              "    <tr>\n",
              "      <th>3</th>\n",
              "      <td>Bogor</td>\n",
              "      <td>2710.62</td>\n",
              "      <td>2710.62</td>\n",
              "      <td>2710.62</td>\n",
              "      <td>2710.62</td>\n",
              "    </tr>\n",
              "    <tr>\n",
              "      <th>4</th>\n",
              "      <td>Sukabumi</td>\n",
              "      <td>4145.7</td>\n",
              "      <td>4145.70</td>\n",
              "      <td>4145.70</td>\n",
              "      <td>4145.70</td>\n",
              "    </tr>\n",
              "  </tbody>\n",
              "</table>\n",
              "</div>"
            ],
            "text/plain": [
              "  Regency/Municipality           Unnamed: 1  Unnamed: 2  Unnamed: 3  \\\n",
              "0                  NaN  Total Area (sq. km)         NaN         NaN   \n",
              "1                  NaN                 2022     2021.00     2019.00   \n",
              "2  Jawa Barat Province             35377.76    35377.76    35377.76   \n",
              "3                Bogor              2710.62     2710.62     2710.62   \n",
              "4             Sukabumi               4145.7     4145.70     4145.70   \n",
              "\n",
              "   Unnamed: 4  \n",
              "0         NaN  \n",
              "1     2018.00  \n",
              "2    35377.76  \n",
              "3     2710.62  \n",
              "4     4145.70  "
            ]
          },
          "execution_count": 441,
          "metadata": {},
          "output_type": "execute_result"
        }
      ],
      "source": [
        "area_java = pd.read_csv(\"../data/raw/total_area_westjava.csv\")\n",
        "\n",
        "area_java.head()"
      ]
    },
    {
      "cell_type": "code",
      "execution_count": 442,
      "metadata": {
        "colab": {
          "base_uri": "https://localhost:8080/",
          "height": 206
        },
        "id": "un51GZZpYyMi",
        "outputId": "4898f523-5a74-430e-b900-0c4a3f27c167"
      },
      "outputs": [
        {
          "data": {
            "text/html": [
              "<div>\n",
              "<style scoped>\n",
              "    .dataframe tbody tr th:only-of-type {\n",
              "        vertical-align: middle;\n",
              "    }\n",
              "\n",
              "    .dataframe tbody tr th {\n",
              "        vertical-align: top;\n",
              "    }\n",
              "\n",
              "    .dataframe thead th {\n",
              "        text-align: right;\n",
              "    }\n",
              "</style>\n",
              "<table border=\"1\" class=\"dataframe\">\n",
              "  <thead>\n",
              "    <tr style=\"text-align: right;\">\n",
              "      <th></th>\n",
              "      <th>District</th>\n",
              "      <th>Area_sq_km</th>\n",
              "    </tr>\n",
              "  </thead>\n",
              "  <tbody>\n",
              "    <tr>\n",
              "      <th>0</th>\n",
              "      <td>JAWA BARAT PROVINCE</td>\n",
              "      <td>35377.76</td>\n",
              "    </tr>\n",
              "    <tr>\n",
              "      <th>1</th>\n",
              "      <td>BOGOR</td>\n",
              "      <td>2710.62</td>\n",
              "    </tr>\n",
              "    <tr>\n",
              "      <th>2</th>\n",
              "      <td>SUKABUMI</td>\n",
              "      <td>4145.70</td>\n",
              "    </tr>\n",
              "    <tr>\n",
              "      <th>3</th>\n",
              "      <td>CIANJUR</td>\n",
              "      <td>3840.16</td>\n",
              "    </tr>\n",
              "    <tr>\n",
              "      <th>4</th>\n",
              "      <td>BANDUNG</td>\n",
              "      <td>1767.96</td>\n",
              "    </tr>\n",
              "  </tbody>\n",
              "</table>\n",
              "</div>"
            ],
            "text/plain": [
              "              District  Area_sq_km\n",
              "0  JAWA BARAT PROVINCE    35377.76\n",
              "1                BOGOR     2710.62\n",
              "2             SUKABUMI     4145.70\n",
              "3              CIANJUR     3840.16\n",
              "4              BANDUNG     1767.96"
            ]
          },
          "execution_count": 442,
          "metadata": {},
          "output_type": "execute_result"
        }
      ],
      "source": [
        "#make the values for row index 1 become column values\n",
        "area_java.columns = area_java.iloc[1]\n",
        "area_java = area_java.iloc[2:]\n",
        "\n",
        "#rename the col 1 to be \"District\" instead of NaN\n",
        "area_java.rename(columns={np.nan: 'District'}, inplace=True)\n",
        "\n",
        "#reformat to long\n",
        "area_java = pd.melt(area_java, id_vars=[\"District\"], var_name=\"Year\", value_name=\"Area_sq_km\")\n",
        "\n",
        "#eliminate the Year column here because all the area values are the same\n",
        "area_java = area_java.drop(columns=[\"Year\"])\n",
        "\n",
        "#convert the names of District values to upper case\n",
        "area_java[\"District\"] = area_java[\"District\"].str.upper()\n",
        "\n",
        "#rewrite municipality to kota at the front\n",
        "area_java.loc[area_java[\"District\"].str.contains(\"MUNICIPALITY\"), \"District\"] = (\n",
        "    \"KOTA \" + area_java[\"District\"].str.replace(\"MUNICIPALITY\", \"\").str.strip()\n",
        ")\n",
        "\n",
        "#convert the area values to float\n",
        "area_java[\"Area_sq_km\"] = area_java[\"Area_sq_km\"].astype(float)\n",
        "\n",
        "#check the dataframe format\n",
        "area_java.head()"
      ]
    },
    {
      "cell_type": "code",
      "execution_count": 443,
      "metadata": {
        "colab": {
          "base_uri": "https://localhost:8080/"
        },
        "id": "e0yV8t-4cBrw",
        "outputId": "45f8919b-e3f8-40fa-8d6e-a407fd935d5e"
      },
      "outputs": [
        {
          "data": {
            "text/plain": [
              "array(['JAWA BARAT PROVINCE', 'BOGOR', 'SUKABUMI', 'CIANJUR', 'BANDUNG',\n",
              "       'GARUT', 'TASIKMALAYA', 'CIAMIS', 'KUNINGAN', 'CIREBON',\n",
              "       'MAJALENGKA', 'SUMEDANG', 'INDRAMAYU', 'SUBANG', 'PURWAKARTA',\n",
              "       'KARAWANG', 'BEKASI', 'BANDUNG BARAT', 'PANGANDARAN', 'KOTA BOGOR',\n",
              "       'KOTA SUKABUMI', 'KOTA BANDUNG', 'KOTA CIREBON', 'KOTA BEKASI',\n",
              "       'KOTA DEPOK', 'KOTA CIMAHI', 'KOTA TASIKMALAYA', 'KOTA BANJAR'],\n",
              "      dtype=object)"
            ]
          },
          "execution_count": 443,
          "metadata": {},
          "output_type": "execute_result"
        }
      ],
      "source": [
        "area_java[\"District\"].unique()"
      ]
    },
    {
      "cell_type": "code",
      "execution_count": 444,
      "metadata": {},
      "outputs": [
        {
          "data": {
            "text/plain": [
              "np.int64(84)"
            ]
          },
          "execution_count": 444,
          "metadata": {},
          "output_type": "execute_result"
        }
      ],
      "source": [
        "#check for duplicates\n",
        "area_java.duplicated(subset=['District']).sum()"
      ]
    },
    {
      "cell_type": "code",
      "execution_count": 445,
      "metadata": {},
      "outputs": [],
      "source": [
        "area_java = area_java.drop_duplicates(subset=['District'])"
      ]
    },
    {
      "cell_type": "code",
      "execution_count": 446,
      "metadata": {},
      "outputs": [
        {
          "data": {
            "text/plain": [
              "np.int64(0)"
            ]
          },
          "execution_count": 446,
          "metadata": {},
          "output_type": "execute_result"
        }
      ],
      "source": [
        "area_java[\"Area_sq_km\"].isnull().sum()"
      ]
    },
    {
      "cell_type": "code",
      "execution_count": 447,
      "metadata": {},
      "outputs": [
        {
          "data": {
            "text/html": [
              "<div>\n",
              "<style scoped>\n",
              "    .dataframe tbody tr th:only-of-type {\n",
              "        vertical-align: middle;\n",
              "    }\n",
              "\n",
              "    .dataframe tbody tr th {\n",
              "        vertical-align: top;\n",
              "    }\n",
              "\n",
              "    .dataframe thead th {\n",
              "        text-align: right;\n",
              "    }\n",
              "</style>\n",
              "<table border=\"1\" class=\"dataframe\">\n",
              "  <thead>\n",
              "    <tr style=\"text-align: right;\">\n",
              "      <th></th>\n",
              "      <th>District</th>\n",
              "      <th>Year</th>\n",
              "      <th>Age</th>\n",
              "      <th>Cases</th>\n",
              "      <th>Population</th>\n",
              "      <th>Province</th>\n",
              "    </tr>\n",
              "  </thead>\n",
              "  <tbody>\n",
              "    <tr>\n",
              "      <th>0</th>\n",
              "      <td>BANDUNG</td>\n",
              "      <td>2020</td>\n",
              "      <td>0-4</td>\n",
              "      <td>332</td>\n",
              "      <td>313554</td>\n",
              "      <td>Jawa Barat</td>\n",
              "    </tr>\n",
              "    <tr>\n",
              "      <th>1</th>\n",
              "      <td>BANDUNG</td>\n",
              "      <td>2020</td>\n",
              "      <td>15-44</td>\n",
              "      <td>950</td>\n",
              "      <td>1772345</td>\n",
              "      <td>Jawa Barat</td>\n",
              "    </tr>\n",
              "    <tr>\n",
              "      <th>2</th>\n",
              "      <td>BANDUNG</td>\n",
              "      <td>2020</td>\n",
              "      <td>45-99</td>\n",
              "      <td>312</td>\n",
              "      <td>892491</td>\n",
              "      <td>Jawa Barat</td>\n",
              "    </tr>\n",
              "    <tr>\n",
              "      <th>3</th>\n",
              "      <td>BANDUNG</td>\n",
              "      <td>2020</td>\n",
              "      <td>5-14</td>\n",
              "      <td>701</td>\n",
              "      <td>645400</td>\n",
              "      <td>Jawa Barat</td>\n",
              "    </tr>\n",
              "    <tr>\n",
              "      <th>4</th>\n",
              "      <td>BANDUNG</td>\n",
              "      <td>2021</td>\n",
              "      <td>0-4</td>\n",
              "      <td>470</td>\n",
              "      <td>311231</td>\n",
              "      <td>Jawa Barat</td>\n",
              "    </tr>\n",
              "  </tbody>\n",
              "</table>\n",
              "</div>"
            ],
            "text/plain": [
              "  District  Year    Age  Cases  Population    Province\n",
              "0  BANDUNG  2020    0-4    332      313554  Jawa Barat\n",
              "1  BANDUNG  2020  15-44    950     1772345  Jawa Barat\n",
              "2  BANDUNG  2020  45-99    312      892491  Jawa Barat\n",
              "3  BANDUNG  2020   5-14    701      645400  Jawa Barat\n",
              "4  BANDUNG  2021    0-4    470      311231  Jawa Barat"
            ]
          },
          "execution_count": 447,
          "metadata": {},
          "output_type": "execute_result"
        }
      ],
      "source": [
        "data_java.head()"
      ]
    },
    {
      "cell_type": "code",
      "execution_count": 448,
      "metadata": {
        "id": "F-XhVlJzMT83"
      },
      "outputs": [],
      "source": [
        "#merge the jkt and java datasets to the df_long dataset by District and Year to add the population density column\n",
        "data_java = data_java.merge(area_java, on=[\"District\"], how=\"left\")\n",
        "data_jkt = data_jkt.merge(area_jkt, on=[\"District\", \"Year\"], how=\"left\")"
      ]
    },
    {
      "cell_type": "code",
      "execution_count": 449,
      "metadata": {},
      "outputs": [
        {
          "data": {
            "text/html": [
              "<div>\n",
              "<style scoped>\n",
              "    .dataframe tbody tr th:only-of-type {\n",
              "        vertical-align: middle;\n",
              "    }\n",
              "\n",
              "    .dataframe tbody tr th {\n",
              "        vertical-align: top;\n",
              "    }\n",
              "\n",
              "    .dataframe thead th {\n",
              "        text-align: right;\n",
              "    }\n",
              "</style>\n",
              "<table border=\"1\" class=\"dataframe\">\n",
              "  <thead>\n",
              "    <tr style=\"text-align: right;\">\n",
              "      <th></th>\n",
              "      <th>District</th>\n",
              "      <th>Year</th>\n",
              "      <th>Age</th>\n",
              "      <th>Cases</th>\n",
              "      <th>Population</th>\n",
              "      <th>Province</th>\n",
              "      <th>Area_sq_km</th>\n",
              "    </tr>\n",
              "  </thead>\n",
              "  <tbody>\n",
              "    <tr>\n",
              "      <th>0</th>\n",
              "      <td>BANDUNG</td>\n",
              "      <td>2020</td>\n",
              "      <td>0-4</td>\n",
              "      <td>332</td>\n",
              "      <td>313554</td>\n",
              "      <td>Jawa Barat</td>\n",
              "      <td>1767.96</td>\n",
              "    </tr>\n",
              "    <tr>\n",
              "      <th>1</th>\n",
              "      <td>BANDUNG</td>\n",
              "      <td>2020</td>\n",
              "      <td>15-44</td>\n",
              "      <td>950</td>\n",
              "      <td>1772345</td>\n",
              "      <td>Jawa Barat</td>\n",
              "      <td>1767.96</td>\n",
              "    </tr>\n",
              "    <tr>\n",
              "      <th>2</th>\n",
              "      <td>BANDUNG</td>\n",
              "      <td>2020</td>\n",
              "      <td>45-99</td>\n",
              "      <td>312</td>\n",
              "      <td>892491</td>\n",
              "      <td>Jawa Barat</td>\n",
              "      <td>1767.96</td>\n",
              "    </tr>\n",
              "    <tr>\n",
              "      <th>3</th>\n",
              "      <td>BANDUNG</td>\n",
              "      <td>2020</td>\n",
              "      <td>5-14</td>\n",
              "      <td>701</td>\n",
              "      <td>645400</td>\n",
              "      <td>Jawa Barat</td>\n",
              "      <td>1767.96</td>\n",
              "    </tr>\n",
              "    <tr>\n",
              "      <th>4</th>\n",
              "      <td>BANDUNG</td>\n",
              "      <td>2021</td>\n",
              "      <td>0-4</td>\n",
              "      <td>470</td>\n",
              "      <td>311231</td>\n",
              "      <td>Jawa Barat</td>\n",
              "      <td>1767.96</td>\n",
              "    </tr>\n",
              "  </tbody>\n",
              "</table>\n",
              "</div>"
            ],
            "text/plain": [
              "  District  Year    Age  Cases  Population    Province  Area_sq_km\n",
              "0  BANDUNG  2020    0-4    332      313554  Jawa Barat     1767.96\n",
              "1  BANDUNG  2020  15-44    950     1772345  Jawa Barat     1767.96\n",
              "2  BANDUNG  2020  45-99    312      892491  Jawa Barat     1767.96\n",
              "3  BANDUNG  2020   5-14    701      645400  Jawa Barat     1767.96\n",
              "4  BANDUNG  2021    0-4    470      311231  Jawa Barat     1767.96"
            ]
          },
          "execution_count": 449,
          "metadata": {},
          "output_type": "execute_result"
        }
      ],
      "source": [
        "data_java.head()"
      ]
    },
    {
      "cell_type": "code",
      "execution_count": 450,
      "metadata": {},
      "outputs": [
        {
          "data": {
            "text/plain": [
              "np.int64(0)"
            ]
          },
          "execution_count": 450,
          "metadata": {},
          "output_type": "execute_result"
        }
      ],
      "source": [
        "#check missing values?\n",
        "data_java['Area_sq_km'].isnull().sum()"
      ]
    },
    {
      "cell_type": "code",
      "execution_count": 451,
      "metadata": {},
      "outputs": [
        {
          "data": {
            "text/html": [
              "<div>\n",
              "<style scoped>\n",
              "    .dataframe tbody tr th:only-of-type {\n",
              "        vertical-align: middle;\n",
              "    }\n",
              "\n",
              "    .dataframe tbody tr th {\n",
              "        vertical-align: top;\n",
              "    }\n",
              "\n",
              "    .dataframe thead th {\n",
              "        text-align: right;\n",
              "    }\n",
              "</style>\n",
              "<table border=\"1\" class=\"dataframe\">\n",
              "  <thead>\n",
              "    <tr style=\"text-align: right;\">\n",
              "      <th></th>\n",
              "      <th>District</th>\n",
              "      <th>Year</th>\n",
              "      <th>Age</th>\n",
              "      <th>Cases</th>\n",
              "      <th>Population</th>\n",
              "      <th>Province</th>\n",
              "      <th>Area_sq_km</th>\n",
              "    </tr>\n",
              "  </thead>\n",
              "  <tbody>\n",
              "    <tr>\n",
              "      <th>0</th>\n",
              "      <td>KEPULAUAN SERIBU</td>\n",
              "      <td>2020</td>\n",
              "      <td>0-4</td>\n",
              "      <td>9</td>\n",
              "      <td>2837</td>\n",
              "      <td>DKI Jakarta</td>\n",
              "      <td>10.18</td>\n",
              "    </tr>\n",
              "    <tr>\n",
              "      <th>1</th>\n",
              "      <td>KEPULAUAN SERIBU</td>\n",
              "      <td>2020</td>\n",
              "      <td>10-14</td>\n",
              "      <td>1</td>\n",
              "      <td>2307</td>\n",
              "      <td>DKI Jakarta</td>\n",
              "      <td>10.18</td>\n",
              "    </tr>\n",
              "    <tr>\n",
              "      <th>2</th>\n",
              "      <td>KEPULAUAN SERIBU</td>\n",
              "      <td>2020</td>\n",
              "      <td>15-19</td>\n",
              "      <td>0</td>\n",
              "      <td>2575</td>\n",
              "      <td>DKI Jakarta</td>\n",
              "      <td>10.18</td>\n",
              "    </tr>\n",
              "    <tr>\n",
              "      <th>3</th>\n",
              "      <td>KEPULAUAN SERIBU</td>\n",
              "      <td>2020</td>\n",
              "      <td>20-44</td>\n",
              "      <td>2</td>\n",
              "      <td>11456</td>\n",
              "      <td>DKI Jakarta</td>\n",
              "      <td>10.18</td>\n",
              "    </tr>\n",
              "    <tr>\n",
              "      <th>4</th>\n",
              "      <td>KEPULAUAN SERIBU</td>\n",
              "      <td>2020</td>\n",
              "      <td>45-54</td>\n",
              "      <td>0</td>\n",
              "      <td>3184</td>\n",
              "      <td>DKI Jakarta</td>\n",
              "      <td>10.18</td>\n",
              "    </tr>\n",
              "  </tbody>\n",
              "</table>\n",
              "</div>"
            ],
            "text/plain": [
              "           District  Year    Age  Cases  Population     Province  Area_sq_km\n",
              "0  KEPULAUAN SERIBU  2020    0-4      9        2837  DKI Jakarta       10.18\n",
              "1  KEPULAUAN SERIBU  2020  10-14      1        2307  DKI Jakarta       10.18\n",
              "2  KEPULAUAN SERIBU  2020  15-19      0        2575  DKI Jakarta       10.18\n",
              "3  KEPULAUAN SERIBU  2020  20-44      2       11456  DKI Jakarta       10.18\n",
              "4  KEPULAUAN SERIBU  2020  45-54      0        3184  DKI Jakarta       10.18"
            ]
          },
          "execution_count": 451,
          "metadata": {},
          "output_type": "execute_result"
        }
      ],
      "source": [
        "data_jkt.head()"
      ]
    },
    {
      "cell_type": "code",
      "execution_count": 452,
      "metadata": {},
      "outputs": [
        {
          "data": {
            "text/plain": [
              "27"
            ]
          },
          "execution_count": 452,
          "metadata": {},
          "output_type": "execute_result"
        }
      ],
      "source": [
        "#check no of districts\n",
        "data_java['District'].nunique()\n"
      ]
    },
    {
      "cell_type": "code",
      "execution_count": 453,
      "metadata": {},
      "outputs": [
        {
          "data": {
            "text/plain": [
              "6"
            ]
          },
          "execution_count": 453,
          "metadata": {},
          "output_type": "execute_result"
        }
      ],
      "source": [
        "data_jkt[\"District\"].nunique()"
      ]
    },
    {
      "cell_type": "code",
      "execution_count": 454,
      "metadata": {
        "id": "NFKeYPwTNbUS"
      },
      "outputs": [],
      "source": [
        "#convert population and area to integer\n",
        "data_java[\"Population\"] = data_java[\"Population\"].astype(int)\n",
        "data_jkt[\"Population\"] = data_jkt[\"Population\"].astype(int)\n",
        "\n",
        "#convert the area_sq_km values into\n",
        "data_java[\"Area_sq_km\"] = data_java[\"Area_sq_km\"].astype(float)\n",
        "data_jkt[\"Area_sq_km\"] = data_jkt[\"Area_sq_km\"].astype(float)\n",
        "data_java[\"Pop_den\"] = data_java[\"Population\"] / data_java[\"Area_sq_km\"]\n",
        "data_jkt[\"Pop_den\"] = data_jkt[\"Population\"] / data_jkt[\"Area_sq_km\"]"
      ]
    },
    {
      "cell_type": "code",
      "execution_count": 455,
      "metadata": {
        "colab": {
          "base_uri": "https://localhost:8080/",
          "height": 206
        },
        "id": "hWBcEcdgNw7q",
        "outputId": "208a91d9-57b7-4d9b-8e8f-0a0fa0830f44"
      },
      "outputs": [
        {
          "data": {
            "text/html": [
              "<div>\n",
              "<style scoped>\n",
              "    .dataframe tbody tr th:only-of-type {\n",
              "        vertical-align: middle;\n",
              "    }\n",
              "\n",
              "    .dataframe tbody tr th {\n",
              "        vertical-align: top;\n",
              "    }\n",
              "\n",
              "    .dataframe thead th {\n",
              "        text-align: right;\n",
              "    }\n",
              "</style>\n",
              "<table border=\"1\" class=\"dataframe\">\n",
              "  <thead>\n",
              "    <tr style=\"text-align: right;\">\n",
              "      <th></th>\n",
              "      <th>District</th>\n",
              "      <th>Year</th>\n",
              "      <th>Age</th>\n",
              "      <th>Cases</th>\n",
              "      <th>Population</th>\n",
              "      <th>Province</th>\n",
              "      <th>Area_sq_km</th>\n",
              "      <th>Pop_den</th>\n",
              "    </tr>\n",
              "  </thead>\n",
              "  <tbody>\n",
              "    <tr>\n",
              "      <th>0</th>\n",
              "      <td>KEPULAUAN SERIBU</td>\n",
              "      <td>2020</td>\n",
              "      <td>0-4</td>\n",
              "      <td>9</td>\n",
              "      <td>2837</td>\n",
              "      <td>DKI Jakarta</td>\n",
              "      <td>10.18</td>\n",
              "      <td>278.683694</td>\n",
              "    </tr>\n",
              "    <tr>\n",
              "      <th>1</th>\n",
              "      <td>KEPULAUAN SERIBU</td>\n",
              "      <td>2020</td>\n",
              "      <td>10-14</td>\n",
              "      <td>1</td>\n",
              "      <td>2307</td>\n",
              "      <td>DKI Jakarta</td>\n",
              "      <td>10.18</td>\n",
              "      <td>226.620825</td>\n",
              "    </tr>\n",
              "    <tr>\n",
              "      <th>2</th>\n",
              "      <td>KEPULAUAN SERIBU</td>\n",
              "      <td>2020</td>\n",
              "      <td>15-19</td>\n",
              "      <td>0</td>\n",
              "      <td>2575</td>\n",
              "      <td>DKI Jakarta</td>\n",
              "      <td>10.18</td>\n",
              "      <td>252.946955</td>\n",
              "    </tr>\n",
              "    <tr>\n",
              "      <th>3</th>\n",
              "      <td>KEPULAUAN SERIBU</td>\n",
              "      <td>2020</td>\n",
              "      <td>20-44</td>\n",
              "      <td>2</td>\n",
              "      <td>11456</td>\n",
              "      <td>DKI Jakarta</td>\n",
              "      <td>10.18</td>\n",
              "      <td>1125.343811</td>\n",
              "    </tr>\n",
              "    <tr>\n",
              "      <th>4</th>\n",
              "      <td>KEPULAUAN SERIBU</td>\n",
              "      <td>2020</td>\n",
              "      <td>45-54</td>\n",
              "      <td>0</td>\n",
              "      <td>3184</td>\n",
              "      <td>DKI Jakarta</td>\n",
              "      <td>10.18</td>\n",
              "      <td>312.770138</td>\n",
              "    </tr>\n",
              "  </tbody>\n",
              "</table>\n",
              "</div>"
            ],
            "text/plain": [
              "           District  Year    Age  Cases  Population     Province  Area_sq_km  \\\n",
              "0  KEPULAUAN SERIBU  2020    0-4      9        2837  DKI Jakarta       10.18   \n",
              "1  KEPULAUAN SERIBU  2020  10-14      1        2307  DKI Jakarta       10.18   \n",
              "2  KEPULAUAN SERIBU  2020  15-19      0        2575  DKI Jakarta       10.18   \n",
              "3  KEPULAUAN SERIBU  2020  20-44      2       11456  DKI Jakarta       10.18   \n",
              "4  KEPULAUAN SERIBU  2020  45-54      0        3184  DKI Jakarta       10.18   \n",
              "\n",
              "       Pop_den  \n",
              "0   278.683694  \n",
              "1   226.620825  \n",
              "2   252.946955  \n",
              "3  1125.343811  \n",
              "4   312.770138  "
            ]
          },
          "execution_count": 455,
          "metadata": {},
          "output_type": "execute_result"
        }
      ],
      "source": [
        "data_jkt.head()"
      ]
    },
    {
      "cell_type": "code",
      "execution_count": 456,
      "metadata": {
        "colab": {
          "base_uri": "https://localhost:8080/"
        },
        "id": "3WaYbtfCGyyC",
        "outputId": "59a080f9-3fd4-4ea1-9309-862efdeaa5dd"
      },
      "outputs": [
        {
          "data": {
            "text/plain": [
              "array([2020, 2021, 2022, 2023])"
            ]
          },
          "execution_count": 456,
          "metadata": {},
          "output_type": "execute_result"
        }
      ],
      "source": [
        "#check unique values for year\n",
        "data_java[\"Year\"].unique()"
      ]
    },
    {
      "cell_type": "code",
      "execution_count": 457,
      "metadata": {
        "colab": {
          "base_uri": "https://localhost:8080/"
        },
        "id": "g4_sGeULG2-b",
        "outputId": "1ff81e95-37cd-40da-dc5d-71e02f9b1df0"
      },
      "outputs": [
        {
          "data": {
            "text/plain": [
              "array([2020, 2021, 2022, 2023])"
            ]
          },
          "execution_count": 457,
          "metadata": {},
          "output_type": "execute_result"
        }
      ],
      "source": [
        "#check unique values for year\n",
        "data_jkt[\"Year\"].unique()"
      ]
    },
    {
      "cell_type": "code",
      "execution_count": 458,
      "metadata": {
        "id": "3LybkvFXTC50"
      },
      "outputs": [],
      "source": [
        "#read in HDI data\n",
        "data_hdi_old = pd.read_csv(\"../data/raw/hdi_2019-2021.csv\")\n",
        "data_hdi_new = pd.read_csv(\"../data/raw/hdi_2022-2024.csv\")"
      ]
    },
    {
      "cell_type": "code",
      "execution_count": 459,
      "metadata": {
        "colab": {
          "base_uri": "https://localhost:8080/",
          "height": 206
        },
        "id": "oXjMiJmoTT3w",
        "outputId": "80b678fc-21b5-464b-9fa5-af9ae63c1771"
      },
      "outputs": [
        {
          "data": {
            "text/html": [
              "<div>\n",
              "<style scoped>\n",
              "    .dataframe tbody tr th:only-of-type {\n",
              "        vertical-align: middle;\n",
              "    }\n",
              "\n",
              "    .dataframe tbody tr th {\n",
              "        vertical-align: top;\n",
              "    }\n",
              "\n",
              "    .dataframe thead th {\n",
              "        text-align: right;\n",
              "    }\n",
              "</style>\n",
              "<table border=\"1\" class=\"dataframe\">\n",
              "  <thead>\n",
              "    <tr style=\"text-align: right;\">\n",
              "      <th></th>\n",
              "      <th>Province/Regency/City</th>\n",
              "      <th>Unnamed: 1</th>\n",
              "      <th>Unnamed: 2</th>\n",
              "      <th>Unnamed: 3</th>\n",
              "    </tr>\n",
              "  </thead>\n",
              "  <tbody>\n",
              "    <tr>\n",
              "      <th>0</th>\n",
              "      <td>NaN</td>\n",
              "      <td>[New Method] Human Development Index</td>\n",
              "      <td>NaN</td>\n",
              "      <td>NaN</td>\n",
              "    </tr>\n",
              "    <tr>\n",
              "      <th>1</th>\n",
              "      <td>NaN</td>\n",
              "      <td>2019</td>\n",
              "      <td>2020</td>\n",
              "      <td>2021</td>\n",
              "    </tr>\n",
              "    <tr>\n",
              "      <th>2</th>\n",
              "      <td>ACEH</td>\n",
              "      <td>71.9</td>\n",
              "      <td>71.99</td>\n",
              "      <td>72.18</td>\n",
              "    </tr>\n",
              "    <tr>\n",
              "      <th>3</th>\n",
              "      <td>Simeulue</td>\n",
              "      <td>65.7</td>\n",
              "      <td>66.03</td>\n",
              "      <td>66.41</td>\n",
              "    </tr>\n",
              "    <tr>\n",
              "      <th>4</th>\n",
              "      <td>Aceh Singkil</td>\n",
              "      <td>68.91</td>\n",
              "      <td>68.94</td>\n",
              "      <td>69.22</td>\n",
              "    </tr>\n",
              "  </tbody>\n",
              "</table>\n",
              "</div>"
            ],
            "text/plain": [
              "  Province/Regency/City                            Unnamed: 1 Unnamed: 2  \\\n",
              "0                   NaN  [New Method] Human Development Index        NaN   \n",
              "1                   NaN                                  2019       2020   \n",
              "2                  ACEH                                  71.9      71.99   \n",
              "3              Simeulue                                  65.7      66.03   \n",
              "4          Aceh Singkil                                 68.91      68.94   \n",
              "\n",
              "  Unnamed: 3  \n",
              "0        NaN  \n",
              "1       2021  \n",
              "2      72.18  \n",
              "3      66.41  \n",
              "4      69.22  "
            ]
          },
          "execution_count": 459,
          "metadata": {},
          "output_type": "execute_result"
        }
      ],
      "source": [
        "data_hdi_old.head()"
      ]
    },
    {
      "cell_type": "code",
      "execution_count": 460,
      "metadata": {
        "colab": {
          "base_uri": "https://localhost:8080/",
          "height": 206
        },
        "id": "OrxjaDwLHdVj",
        "outputId": "da200c4d-26fd-4e7e-ae58-1da4e26c2d2b"
      },
      "outputs": [
        {
          "data": {
            "text/html": [
              "<div>\n",
              "<style scoped>\n",
              "    .dataframe tbody tr th:only-of-type {\n",
              "        vertical-align: middle;\n",
              "    }\n",
              "\n",
              "    .dataframe tbody tr th {\n",
              "        vertical-align: top;\n",
              "    }\n",
              "\n",
              "    .dataframe thead th {\n",
              "        text-align: right;\n",
              "    }\n",
              "</style>\n",
              "<table border=\"1\" class=\"dataframe\">\n",
              "  <thead>\n",
              "    <tr style=\"text-align: right;\">\n",
              "      <th></th>\n",
              "      <th>Province/Regency/City</th>\n",
              "      <th>Unnamed: 1</th>\n",
              "      <th>Unnamed: 2</th>\n",
              "      <th>Unnamed: 3</th>\n",
              "    </tr>\n",
              "  </thead>\n",
              "  <tbody>\n",
              "    <tr>\n",
              "      <th>0</th>\n",
              "      <td>NaN</td>\n",
              "      <td>[New Method] Human Development Index</td>\n",
              "      <td>NaN</td>\n",
              "      <td>NaN</td>\n",
              "    </tr>\n",
              "    <tr>\n",
              "      <th>1</th>\n",
              "      <td>NaN</td>\n",
              "      <td>2022</td>\n",
              "      <td>2023</td>\n",
              "      <td>2024</td>\n",
              "    </tr>\n",
              "    <tr>\n",
              "      <th>2</th>\n",
              "      <td>ACEH</td>\n",
              "      <td>72.8</td>\n",
              "      <td>73.4</td>\n",
              "      <td>74.03</td>\n",
              "    </tr>\n",
              "    <tr>\n",
              "      <th>3</th>\n",
              "      <td>Simeulue</td>\n",
              "      <td>67.27</td>\n",
              "      <td>68.06</td>\n",
              "      <td>69.01</td>\n",
              "    </tr>\n",
              "    <tr>\n",
              "      <th>4</th>\n",
              "      <td>Aceh Singkil</td>\n",
              "      <td>69.62</td>\n",
              "      <td>70.14</td>\n",
              "      <td>70.75</td>\n",
              "    </tr>\n",
              "  </tbody>\n",
              "</table>\n",
              "</div>"
            ],
            "text/plain": [
              "  Province/Regency/City                            Unnamed: 1 Unnamed: 2  \\\n",
              "0                   NaN  [New Method] Human Development Index        NaN   \n",
              "1                   NaN                                  2022       2023   \n",
              "2                  ACEH                                  72.8       73.4   \n",
              "3              Simeulue                                 67.27      68.06   \n",
              "4          Aceh Singkil                                 69.62      70.14   \n",
              "\n",
              "  Unnamed: 3  \n",
              "0        NaN  \n",
              "1       2024  \n",
              "2      74.03  \n",
              "3      69.01  \n",
              "4      70.75  "
            ]
          },
          "execution_count": 460,
          "metadata": {},
          "output_type": "execute_result"
        }
      ],
      "source": [
        "data_hdi_new.head()"
      ]
    },
    {
      "cell_type": "code",
      "execution_count": 461,
      "metadata": {
        "id": "y2LQjJ2YiTGM"
      },
      "outputs": [],
      "source": [
        "#the colnames of the index 1 row to be colnames\n",
        "data_hdi_new.columns = data_hdi_new.iloc[1]\n",
        "data_hdi_new = data_hdi_new.iloc[2:]\n",
        "data_hdi_old.columns = data_hdi_old.iloc[1]\n",
        "data_hdi_old = data_hdi_old.iloc[2:]\n",
        "#rename the first column to \"District\"\n",
        "data_hdi_new.rename(columns={np.nan: 'District'}, inplace=True)\n",
        "data_hdi_old.rename(columns={np.nan: 'District'}, inplace=True)"
      ]
    },
    {
      "cell_type": "code",
      "execution_count": 462,
      "metadata": {
        "colab": {
          "base_uri": "https://localhost:8080/",
          "height": 206
        },
        "id": "6XXBm1RLje8B",
        "outputId": "90487d2f-8062-4289-fa9f-70fddd3889c1"
      },
      "outputs": [
        {
          "data": {
            "text/html": [
              "<div>\n",
              "<style scoped>\n",
              "    .dataframe tbody tr th:only-of-type {\n",
              "        vertical-align: middle;\n",
              "    }\n",
              "\n",
              "    .dataframe tbody tr th {\n",
              "        vertical-align: top;\n",
              "    }\n",
              "\n",
              "    .dataframe thead th {\n",
              "        text-align: right;\n",
              "    }\n",
              "</style>\n",
              "<table border=\"1\" class=\"dataframe\">\n",
              "  <thead>\n",
              "    <tr style=\"text-align: right;\">\n",
              "      <th>1</th>\n",
              "      <th>District</th>\n",
              "      <th>2019</th>\n",
              "      <th>2020</th>\n",
              "      <th>2021</th>\n",
              "    </tr>\n",
              "  </thead>\n",
              "  <tbody>\n",
              "    <tr>\n",
              "      <th>2</th>\n",
              "      <td>ACEH</td>\n",
              "      <td>71.9</td>\n",
              "      <td>71.99</td>\n",
              "      <td>72.18</td>\n",
              "    </tr>\n",
              "    <tr>\n",
              "      <th>3</th>\n",
              "      <td>Simeulue</td>\n",
              "      <td>65.7</td>\n",
              "      <td>66.03</td>\n",
              "      <td>66.41</td>\n",
              "    </tr>\n",
              "    <tr>\n",
              "      <th>4</th>\n",
              "      <td>Aceh Singkil</td>\n",
              "      <td>68.91</td>\n",
              "      <td>68.94</td>\n",
              "      <td>69.22</td>\n",
              "    </tr>\n",
              "    <tr>\n",
              "      <th>5</th>\n",
              "      <td>Aceh Selatan</td>\n",
              "      <td>66.9</td>\n",
              "      <td>67.12</td>\n",
              "      <td>67.44</td>\n",
              "    </tr>\n",
              "    <tr>\n",
              "      <th>6</th>\n",
              "      <td>Aceh Tenggara</td>\n",
              "      <td>69.36</td>\n",
              "      <td>69.37</td>\n",
              "      <td>69.44</td>\n",
              "    </tr>\n",
              "  </tbody>\n",
              "</table>\n",
              "</div>"
            ],
            "text/plain": [
              "1       District   2019   2020   2021\n",
              "2           ACEH   71.9  71.99  72.18\n",
              "3       Simeulue   65.7  66.03  66.41\n",
              "4   Aceh Singkil  68.91  68.94  69.22\n",
              "5   Aceh Selatan   66.9  67.12  67.44\n",
              "6  Aceh Tenggara  69.36  69.37  69.44"
            ]
          },
          "execution_count": 462,
          "metadata": {},
          "output_type": "execute_result"
        }
      ],
      "source": [
        "data_hdi_old.head()"
      ]
    },
    {
      "cell_type": "code",
      "execution_count": 463,
      "metadata": {
        "colab": {
          "base_uri": "https://localhost:8080/",
          "height": 206
        },
        "id": "q51kHHuUHg3R",
        "outputId": "17cc7bec-f92b-4ad5-d0e0-2d5f4a5784d8"
      },
      "outputs": [
        {
          "data": {
            "text/html": [
              "<div>\n",
              "<style scoped>\n",
              "    .dataframe tbody tr th:only-of-type {\n",
              "        vertical-align: middle;\n",
              "    }\n",
              "\n",
              "    .dataframe tbody tr th {\n",
              "        vertical-align: top;\n",
              "    }\n",
              "\n",
              "    .dataframe thead th {\n",
              "        text-align: right;\n",
              "    }\n",
              "</style>\n",
              "<table border=\"1\" class=\"dataframe\">\n",
              "  <thead>\n",
              "    <tr style=\"text-align: right;\">\n",
              "      <th>1</th>\n",
              "      <th>District</th>\n",
              "      <th>2022</th>\n",
              "      <th>2023</th>\n",
              "      <th>2024</th>\n",
              "    </tr>\n",
              "  </thead>\n",
              "  <tbody>\n",
              "    <tr>\n",
              "      <th>2</th>\n",
              "      <td>ACEH</td>\n",
              "      <td>72.8</td>\n",
              "      <td>73.4</td>\n",
              "      <td>74.03</td>\n",
              "    </tr>\n",
              "    <tr>\n",
              "      <th>3</th>\n",
              "      <td>Simeulue</td>\n",
              "      <td>67.27</td>\n",
              "      <td>68.06</td>\n",
              "      <td>69.01</td>\n",
              "    </tr>\n",
              "    <tr>\n",
              "      <th>4</th>\n",
              "      <td>Aceh Singkil</td>\n",
              "      <td>69.62</td>\n",
              "      <td>70.14</td>\n",
              "      <td>70.75</td>\n",
              "    </tr>\n",
              "    <tr>\n",
              "      <th>5</th>\n",
              "      <td>Aceh Selatan</td>\n",
              "      <td>67.87</td>\n",
              "      <td>68.44</td>\n",
              "      <td>69.1</td>\n",
              "    </tr>\n",
              "    <tr>\n",
              "      <th>6</th>\n",
              "      <td>Aceh Tenggara</td>\n",
              "      <td>70.32</td>\n",
              "      <td>71.05</td>\n",
              "      <td>71.7</td>\n",
              "    </tr>\n",
              "  </tbody>\n",
              "</table>\n",
              "</div>"
            ],
            "text/plain": [
              "1       District   2022   2023   2024\n",
              "2           ACEH   72.8   73.4  74.03\n",
              "3       Simeulue  67.27  68.06  69.01\n",
              "4   Aceh Singkil  69.62  70.14  70.75\n",
              "5   Aceh Selatan  67.87  68.44   69.1\n",
              "6  Aceh Tenggara  70.32  71.05   71.7"
            ]
          },
          "execution_count": 463,
          "metadata": {},
          "output_type": "execute_result"
        }
      ],
      "source": [
        "data_hdi_new.head()"
      ]
    },
    {
      "cell_type": "code",
      "execution_count": 464,
      "metadata": {
        "id": "5iU5PBR3Tcr7"
      },
      "outputs": [],
      "source": [
        "#concat by district\n",
        "data_hdi = pd.merge(data_hdi_new, data_hdi_old, on=[\"District\"], how=\"inner\")"
      ]
    },
    {
      "cell_type": "code",
      "execution_count": 465,
      "metadata": {
        "colab": {
          "base_uri": "https://localhost:8080/",
          "height": 206
        },
        "id": "AYhn_hUzHksF",
        "outputId": "9c62c7e7-1356-458a-f5d7-0e8c85e7ec00"
      },
      "outputs": [
        {
          "data": {
            "text/html": [
              "<div>\n",
              "<style scoped>\n",
              "    .dataframe tbody tr th:only-of-type {\n",
              "        vertical-align: middle;\n",
              "    }\n",
              "\n",
              "    .dataframe tbody tr th {\n",
              "        vertical-align: top;\n",
              "    }\n",
              "\n",
              "    .dataframe thead th {\n",
              "        text-align: right;\n",
              "    }\n",
              "</style>\n",
              "<table border=\"1\" class=\"dataframe\">\n",
              "  <thead>\n",
              "    <tr style=\"text-align: right;\">\n",
              "      <th>1</th>\n",
              "      <th>District</th>\n",
              "      <th>2022</th>\n",
              "      <th>2023</th>\n",
              "      <th>2024</th>\n",
              "      <th>2019</th>\n",
              "      <th>2020</th>\n",
              "      <th>2021</th>\n",
              "    </tr>\n",
              "  </thead>\n",
              "  <tbody>\n",
              "    <tr>\n",
              "      <th>0</th>\n",
              "      <td>ACEH</td>\n",
              "      <td>72.8</td>\n",
              "      <td>73.4</td>\n",
              "      <td>74.03</td>\n",
              "      <td>71.9</td>\n",
              "      <td>71.99</td>\n",
              "      <td>72.18</td>\n",
              "    </tr>\n",
              "    <tr>\n",
              "      <th>1</th>\n",
              "      <td>Simeulue</td>\n",
              "      <td>67.27</td>\n",
              "      <td>68.06</td>\n",
              "      <td>69.01</td>\n",
              "      <td>65.7</td>\n",
              "      <td>66.03</td>\n",
              "      <td>66.41</td>\n",
              "    </tr>\n",
              "    <tr>\n",
              "      <th>2</th>\n",
              "      <td>Aceh Singkil</td>\n",
              "      <td>69.62</td>\n",
              "      <td>70.14</td>\n",
              "      <td>70.75</td>\n",
              "      <td>68.91</td>\n",
              "      <td>68.94</td>\n",
              "      <td>69.22</td>\n",
              "    </tr>\n",
              "    <tr>\n",
              "      <th>3</th>\n",
              "      <td>Aceh Selatan</td>\n",
              "      <td>67.87</td>\n",
              "      <td>68.44</td>\n",
              "      <td>69.1</td>\n",
              "      <td>66.9</td>\n",
              "      <td>67.12</td>\n",
              "      <td>67.44</td>\n",
              "    </tr>\n",
              "    <tr>\n",
              "      <th>4</th>\n",
              "      <td>Aceh Tenggara</td>\n",
              "      <td>70.32</td>\n",
              "      <td>71.05</td>\n",
              "      <td>71.7</td>\n",
              "      <td>69.36</td>\n",
              "      <td>69.37</td>\n",
              "      <td>69.44</td>\n",
              "    </tr>\n",
              "  </tbody>\n",
              "</table>\n",
              "</div>"
            ],
            "text/plain": [
              "1       District   2022   2023   2024   2019   2020   2021\n",
              "0           ACEH   72.8   73.4  74.03   71.9  71.99  72.18\n",
              "1       Simeulue  67.27  68.06  69.01   65.7  66.03  66.41\n",
              "2   Aceh Singkil  69.62  70.14  70.75  68.91  68.94  69.22\n",
              "3   Aceh Selatan  67.87  68.44   69.1   66.9  67.12  67.44\n",
              "4  Aceh Tenggara  70.32  71.05   71.7  69.36  69.37  69.44"
            ]
          },
          "execution_count": 465,
          "metadata": {},
          "output_type": "execute_result"
        }
      ],
      "source": [
        "#check head for combined data_hdi\n",
        "data_hdi.head()"
      ]
    },
    {
      "cell_type": "code",
      "execution_count": 466,
      "metadata": {
        "colab": {
          "base_uri": "https://localhost:8080/",
          "height": 206
        },
        "id": "p6YKJvkYlM4q",
        "outputId": "d6a80812-f884-4ded-aadf-a7870a95da14"
      },
      "outputs": [
        {
          "data": {
            "text/html": [
              "<div>\n",
              "<style scoped>\n",
              "    .dataframe tbody tr th:only-of-type {\n",
              "        vertical-align: middle;\n",
              "    }\n",
              "\n",
              "    .dataframe tbody tr th {\n",
              "        vertical-align: top;\n",
              "    }\n",
              "\n",
              "    .dataframe thead th {\n",
              "        text-align: right;\n",
              "    }\n",
              "</style>\n",
              "<table border=\"1\" class=\"dataframe\">\n",
              "  <thead>\n",
              "    <tr style=\"text-align: right;\">\n",
              "      <th></th>\n",
              "      <th>District</th>\n",
              "      <th>Year</th>\n",
              "      <th>HDI</th>\n",
              "    </tr>\n",
              "  </thead>\n",
              "  <tbody>\n",
              "    <tr>\n",
              "      <th>0</th>\n",
              "      <td>ACEH</td>\n",
              "      <td>2022</td>\n",
              "      <td>72.8</td>\n",
              "    </tr>\n",
              "    <tr>\n",
              "      <th>1</th>\n",
              "      <td>Simeulue</td>\n",
              "      <td>2022</td>\n",
              "      <td>67.27</td>\n",
              "    </tr>\n",
              "    <tr>\n",
              "      <th>2</th>\n",
              "      <td>Aceh Singkil</td>\n",
              "      <td>2022</td>\n",
              "      <td>69.62</td>\n",
              "    </tr>\n",
              "    <tr>\n",
              "      <th>3</th>\n",
              "      <td>Aceh Selatan</td>\n",
              "      <td>2022</td>\n",
              "      <td>67.87</td>\n",
              "    </tr>\n",
              "    <tr>\n",
              "      <th>4</th>\n",
              "      <td>Aceh Tenggara</td>\n",
              "      <td>2022</td>\n",
              "      <td>70.32</td>\n",
              "    </tr>\n",
              "  </tbody>\n",
              "</table>\n",
              "</div>"
            ],
            "text/plain": [
              "        District  Year    HDI\n",
              "0           ACEH  2022   72.8\n",
              "1       Simeulue  2022  67.27\n",
              "2   Aceh Singkil  2022  69.62\n",
              "3   Aceh Selatan  2022  67.87\n",
              "4  Aceh Tenggara  2022  70.32"
            ]
          },
          "execution_count": 466,
          "metadata": {},
          "output_type": "execute_result"
        }
      ],
      "source": [
        "#pivot to long from wide\n",
        "data_hdi = pd.melt(data_hdi, id_vars=[\"District\"], var_name=\"Year\", value_name=\"HDI\")\n",
        "\n",
        "#check\n",
        "data_hdi.head()"
      ]
    },
    {
      "cell_type": "code",
      "execution_count": 467,
      "metadata": {
        "colab": {
          "base_uri": "https://localhost:8080/"
        },
        "id": "yULjnzZlHAYE",
        "outputId": "1a59c721-2b96-424c-d89d-47db2aa11c3c"
      },
      "outputs": [
        {
          "data": {
            "text/plain": [
              "array(['2022', '2023', '2024', '2019', '2020', '2021'], dtype=object)"
            ]
          },
          "execution_count": 467,
          "metadata": {},
          "output_type": "execute_result"
        }
      ],
      "source": [
        "#check unique values for Year\n",
        "data_hdi[\"Year\"].unique()"
      ]
    },
    {
      "cell_type": "code",
      "execution_count": 468,
      "metadata": {
        "colab": {
          "base_uri": "https://localhost:8080/",
          "height": 206
        },
        "id": "6FEn54KhjOGU",
        "outputId": "75a7a3d0-6761-46ed-92f3-bc06bba3d906"
      },
      "outputs": [
        {
          "data": {
            "text/html": [
              "<div>\n",
              "<style scoped>\n",
              "    .dataframe tbody tr th:only-of-type {\n",
              "        vertical-align: middle;\n",
              "    }\n",
              "\n",
              "    .dataframe tbody tr th {\n",
              "        vertical-align: top;\n",
              "    }\n",
              "\n",
              "    .dataframe thead th {\n",
              "        text-align: right;\n",
              "    }\n",
              "</style>\n",
              "<table border=\"1\" class=\"dataframe\">\n",
              "  <thead>\n",
              "    <tr style=\"text-align: right;\">\n",
              "      <th></th>\n",
              "      <th>District</th>\n",
              "      <th>Year</th>\n",
              "      <th>HDI</th>\n",
              "    </tr>\n",
              "  </thead>\n",
              "  <tbody>\n",
              "    <tr>\n",
              "      <th>0</th>\n",
              "      <td>ACEH</td>\n",
              "      <td>2022</td>\n",
              "      <td>72.8</td>\n",
              "    </tr>\n",
              "    <tr>\n",
              "      <th>1</th>\n",
              "      <td>SIMEULUE</td>\n",
              "      <td>2022</td>\n",
              "      <td>67.27</td>\n",
              "    </tr>\n",
              "    <tr>\n",
              "      <th>2</th>\n",
              "      <td>ACEH SINGKIL</td>\n",
              "      <td>2022</td>\n",
              "      <td>69.62</td>\n",
              "    </tr>\n",
              "    <tr>\n",
              "      <th>3</th>\n",
              "      <td>ACEH SELATAN</td>\n",
              "      <td>2022</td>\n",
              "      <td>67.87</td>\n",
              "    </tr>\n",
              "    <tr>\n",
              "      <th>4</th>\n",
              "      <td>ACEH TENGGARA</td>\n",
              "      <td>2022</td>\n",
              "      <td>70.32</td>\n",
              "    </tr>\n",
              "  </tbody>\n",
              "</table>\n",
              "</div>"
            ],
            "text/plain": [
              "        District  Year    HDI\n",
              "0           ACEH  2022   72.8\n",
              "1       SIMEULUE  2022  67.27\n",
              "2   ACEH SINGKIL  2022  69.62\n",
              "3   ACEH SELATAN  2022  67.87\n",
              "4  ACEH TENGGARA  2022  70.32"
            ]
          },
          "execution_count": 468,
          "metadata": {},
          "output_type": "execute_result"
        }
      ],
      "source": [
        "#rename Kep.Seribu into kepulauan seribu\n",
        "data_hdi.loc[data_hdi[\"District\"] == \"Kep. Seribu\", \"District\"] = \"Kepulauan Seribu\"\n",
        "\n",
        "#convert the values of District column into all upper case\n",
        "data_hdi[\"District\"] = data_hdi[\"District\"].str.upper()\n",
        "\n",
        "#check again\n",
        "\n",
        "data_hdi.head()"
      ]
    },
    {
      "cell_type": "code",
      "execution_count": 469,
      "metadata": {
        "id": "UcE_6m8pIi3Q"
      },
      "outputs": [],
      "source": [
        "#convert Year to integer\n",
        "data_hdi[\"Year\"] = data_hdi[\"Year\"].astype(int)"
      ]
    },
    {
      "cell_type": "code",
      "execution_count": 470,
      "metadata": {
        "id": "6WANqIzlkYFn"
      },
      "outputs": [],
      "source": [
        "#merge the hdi data with the data_java and data_jakarta\n",
        "data_java = data_java.merge(data_hdi, on=[\"District\", \"Year\"], how=\"left\")\n",
        "data_jkt = data_jkt.merge(data_hdi, on=[\"District\", \"Year\"], how=\"left\")"
      ]
    },
    {
      "cell_type": "code",
      "execution_count": 471,
      "metadata": {
        "colab": {
          "base_uri": "https://localhost:8080/",
          "height": 206
        },
        "id": "5ic4Zglzll25",
        "outputId": "5289bb86-525a-40d2-929f-e97090e11b73"
      },
      "outputs": [
        {
          "data": {
            "text/html": [
              "<div>\n",
              "<style scoped>\n",
              "    .dataframe tbody tr th:only-of-type {\n",
              "        vertical-align: middle;\n",
              "    }\n",
              "\n",
              "    .dataframe tbody tr th {\n",
              "        vertical-align: top;\n",
              "    }\n",
              "\n",
              "    .dataframe thead th {\n",
              "        text-align: right;\n",
              "    }\n",
              "</style>\n",
              "<table border=\"1\" class=\"dataframe\">\n",
              "  <thead>\n",
              "    <tr style=\"text-align: right;\">\n",
              "      <th></th>\n",
              "      <th>District</th>\n",
              "      <th>Year</th>\n",
              "      <th>Age</th>\n",
              "      <th>Cases</th>\n",
              "      <th>Population</th>\n",
              "      <th>Province</th>\n",
              "      <th>Area_sq_km</th>\n",
              "      <th>Pop_den</th>\n",
              "      <th>HDI</th>\n",
              "    </tr>\n",
              "  </thead>\n",
              "  <tbody>\n",
              "    <tr>\n",
              "      <th>0</th>\n",
              "      <td>BANDUNG</td>\n",
              "      <td>2020</td>\n",
              "      <td>0-4</td>\n",
              "      <td>332</td>\n",
              "      <td>313554</td>\n",
              "      <td>Jawa Barat</td>\n",
              "      <td>1767.96</td>\n",
              "      <td>177.353560</td>\n",
              "      <td>72.39</td>\n",
              "    </tr>\n",
              "    <tr>\n",
              "      <th>1</th>\n",
              "      <td>BANDUNG</td>\n",
              "      <td>2020</td>\n",
              "      <td>15-44</td>\n",
              "      <td>950</td>\n",
              "      <td>1772345</td>\n",
              "      <td>Jawa Barat</td>\n",
              "      <td>1767.96</td>\n",
              "      <td>1002.480260</td>\n",
              "      <td>72.39</td>\n",
              "    </tr>\n",
              "    <tr>\n",
              "      <th>2</th>\n",
              "      <td>BANDUNG</td>\n",
              "      <td>2020</td>\n",
              "      <td>45-99</td>\n",
              "      <td>312</td>\n",
              "      <td>892491</td>\n",
              "      <td>Jawa Barat</td>\n",
              "      <td>1767.96</td>\n",
              "      <td>504.814023</td>\n",
              "      <td>72.39</td>\n",
              "    </tr>\n",
              "    <tr>\n",
              "      <th>3</th>\n",
              "      <td>BANDUNG</td>\n",
              "      <td>2020</td>\n",
              "      <td>5-14</td>\n",
              "      <td>701</td>\n",
              "      <td>645400</td>\n",
              "      <td>Jawa Barat</td>\n",
              "      <td>1767.96</td>\n",
              "      <td>365.053508</td>\n",
              "      <td>72.39</td>\n",
              "    </tr>\n",
              "    <tr>\n",
              "      <th>4</th>\n",
              "      <td>BANDUNG</td>\n",
              "      <td>2021</td>\n",
              "      <td>0-4</td>\n",
              "      <td>470</td>\n",
              "      <td>311231</td>\n",
              "      <td>Jawa Barat</td>\n",
              "      <td>1767.96</td>\n",
              "      <td>176.039616</td>\n",
              "      <td>72.73</td>\n",
              "    </tr>\n",
              "  </tbody>\n",
              "</table>\n",
              "</div>"
            ],
            "text/plain": [
              "  District  Year    Age  Cases  Population    Province  Area_sq_km  \\\n",
              "0  BANDUNG  2020    0-4    332      313554  Jawa Barat     1767.96   \n",
              "1  BANDUNG  2020  15-44    950     1772345  Jawa Barat     1767.96   \n",
              "2  BANDUNG  2020  45-99    312      892491  Jawa Barat     1767.96   \n",
              "3  BANDUNG  2020   5-14    701      645400  Jawa Barat     1767.96   \n",
              "4  BANDUNG  2021    0-4    470      311231  Jawa Barat     1767.96   \n",
              "\n",
              "       Pop_den    HDI  \n",
              "0   177.353560  72.39  \n",
              "1  1002.480260  72.39  \n",
              "2   504.814023  72.39  \n",
              "3   365.053508  72.39  \n",
              "4   176.039616  72.73  "
            ]
          },
          "execution_count": 471,
          "metadata": {},
          "output_type": "execute_result"
        }
      ],
      "source": [
        "#check\n",
        "data_java.head()"
      ]
    },
    {
      "cell_type": "code",
      "execution_count": 472,
      "metadata": {},
      "outputs": [
        {
          "data": {
            "text/html": [
              "<div>\n",
              "<style scoped>\n",
              "    .dataframe tbody tr th:only-of-type {\n",
              "        vertical-align: middle;\n",
              "    }\n",
              "\n",
              "    .dataframe tbody tr th {\n",
              "        vertical-align: top;\n",
              "    }\n",
              "\n",
              "    .dataframe thead th {\n",
              "        text-align: right;\n",
              "    }\n",
              "</style>\n",
              "<table border=\"1\" class=\"dataframe\">\n",
              "  <thead>\n",
              "    <tr style=\"text-align: right;\">\n",
              "      <th></th>\n",
              "      <th>District</th>\n",
              "      <th>Year</th>\n",
              "      <th>Age</th>\n",
              "      <th>Cases</th>\n",
              "      <th>Population</th>\n",
              "      <th>Province</th>\n",
              "      <th>Area_sq_km</th>\n",
              "      <th>Pop_den</th>\n",
              "      <th>HDI</th>\n",
              "    </tr>\n",
              "  </thead>\n",
              "  <tbody>\n",
              "    <tr>\n",
              "      <th>0</th>\n",
              "      <td>KEPULAUAN SERIBU</td>\n",
              "      <td>2020</td>\n",
              "      <td>0-4</td>\n",
              "      <td>9</td>\n",
              "      <td>2837</td>\n",
              "      <td>DKI Jakarta</td>\n",
              "      <td>10.18</td>\n",
              "      <td>278.683694</td>\n",
              "      <td>71.63</td>\n",
              "    </tr>\n",
              "    <tr>\n",
              "      <th>1</th>\n",
              "      <td>KEPULAUAN SERIBU</td>\n",
              "      <td>2020</td>\n",
              "      <td>10-14</td>\n",
              "      <td>1</td>\n",
              "      <td>2307</td>\n",
              "      <td>DKI Jakarta</td>\n",
              "      <td>10.18</td>\n",
              "      <td>226.620825</td>\n",
              "      <td>71.63</td>\n",
              "    </tr>\n",
              "    <tr>\n",
              "      <th>2</th>\n",
              "      <td>KEPULAUAN SERIBU</td>\n",
              "      <td>2020</td>\n",
              "      <td>15-19</td>\n",
              "      <td>0</td>\n",
              "      <td>2575</td>\n",
              "      <td>DKI Jakarta</td>\n",
              "      <td>10.18</td>\n",
              "      <td>252.946955</td>\n",
              "      <td>71.63</td>\n",
              "    </tr>\n",
              "    <tr>\n",
              "      <th>3</th>\n",
              "      <td>KEPULAUAN SERIBU</td>\n",
              "      <td>2020</td>\n",
              "      <td>20-44</td>\n",
              "      <td>2</td>\n",
              "      <td>11456</td>\n",
              "      <td>DKI Jakarta</td>\n",
              "      <td>10.18</td>\n",
              "      <td>1125.343811</td>\n",
              "      <td>71.63</td>\n",
              "    </tr>\n",
              "    <tr>\n",
              "      <th>4</th>\n",
              "      <td>KEPULAUAN SERIBU</td>\n",
              "      <td>2020</td>\n",
              "      <td>45-54</td>\n",
              "      <td>0</td>\n",
              "      <td>3184</td>\n",
              "      <td>DKI Jakarta</td>\n",
              "      <td>10.18</td>\n",
              "      <td>312.770138</td>\n",
              "      <td>71.63</td>\n",
              "    </tr>\n",
              "  </tbody>\n",
              "</table>\n",
              "</div>"
            ],
            "text/plain": [
              "           District  Year    Age  Cases  Population     Province  Area_sq_km  \\\n",
              "0  KEPULAUAN SERIBU  2020    0-4      9        2837  DKI Jakarta       10.18   \n",
              "1  KEPULAUAN SERIBU  2020  10-14      1        2307  DKI Jakarta       10.18   \n",
              "2  KEPULAUAN SERIBU  2020  15-19      0        2575  DKI Jakarta       10.18   \n",
              "3  KEPULAUAN SERIBU  2020  20-44      2       11456  DKI Jakarta       10.18   \n",
              "4  KEPULAUAN SERIBU  2020  45-54      0        3184  DKI Jakarta       10.18   \n",
              "\n",
              "       Pop_den    HDI  \n",
              "0   278.683694  71.63  \n",
              "1   226.620825  71.63  \n",
              "2   252.946955  71.63  \n",
              "3  1125.343811  71.63  \n",
              "4   312.770138  71.63  "
            ]
          },
          "execution_count": 472,
          "metadata": {},
          "output_type": "execute_result"
        }
      ],
      "source": [
        "data_jkt.head()"
      ]
    },
    {
      "cell_type": "code",
      "execution_count": 473,
      "metadata": {
        "colab": {
          "base_uri": "https://localhost:8080/"
        },
        "id": "d8AvhJwsIoBe",
        "outputId": "cd136d14-975a-4cbe-b4d9-9c038afdbd0f"
      },
      "outputs": [
        {
          "data": {
            "text/plain": [
              "array([2020, 2021, 2022, 2023])"
            ]
          },
          "execution_count": 473,
          "metadata": {},
          "output_type": "execute_result"
        }
      ],
      "source": [
        "#check values of Year\n",
        "data_java[\"Year\"].unique()"
      ]
    },
    {
      "cell_type": "code",
      "execution_count": 474,
      "metadata": {
        "colab": {
          "base_uri": "https://localhost:8080/",
          "height": 206
        },
        "id": "7eGjfu1jlo-6",
        "outputId": "9de60e3c-45f0-473c-efd0-8e364387ea29"
      },
      "outputs": [
        {
          "data": {
            "text/html": [
              "<div>\n",
              "<style scoped>\n",
              "    .dataframe tbody tr th:only-of-type {\n",
              "        vertical-align: middle;\n",
              "    }\n",
              "\n",
              "    .dataframe tbody tr th {\n",
              "        vertical-align: top;\n",
              "    }\n",
              "\n",
              "    .dataframe thead th {\n",
              "        text-align: right;\n",
              "    }\n",
              "</style>\n",
              "<table border=\"1\" class=\"dataframe\">\n",
              "  <thead>\n",
              "    <tr style=\"text-align: right;\">\n",
              "      <th></th>\n",
              "      <th>District</th>\n",
              "      <th>Year</th>\n",
              "      <th>Age</th>\n",
              "      <th>Cases</th>\n",
              "      <th>Population</th>\n",
              "      <th>Province</th>\n",
              "      <th>Area_sq_km</th>\n",
              "      <th>Pop_den</th>\n",
              "      <th>HDI</th>\n",
              "    </tr>\n",
              "  </thead>\n",
              "  <tbody>\n",
              "    <tr>\n",
              "      <th>0</th>\n",
              "      <td>KEPULAUAN SERIBU</td>\n",
              "      <td>2020</td>\n",
              "      <td>0-4</td>\n",
              "      <td>9</td>\n",
              "      <td>2837</td>\n",
              "      <td>DKI Jakarta</td>\n",
              "      <td>10.18</td>\n",
              "      <td>278.683694</td>\n",
              "      <td>71.63</td>\n",
              "    </tr>\n",
              "    <tr>\n",
              "      <th>1</th>\n",
              "      <td>KEPULAUAN SERIBU</td>\n",
              "      <td>2020</td>\n",
              "      <td>10-14</td>\n",
              "      <td>1</td>\n",
              "      <td>2307</td>\n",
              "      <td>DKI Jakarta</td>\n",
              "      <td>10.18</td>\n",
              "      <td>226.620825</td>\n",
              "      <td>71.63</td>\n",
              "    </tr>\n",
              "    <tr>\n",
              "      <th>2</th>\n",
              "      <td>KEPULAUAN SERIBU</td>\n",
              "      <td>2020</td>\n",
              "      <td>15-19</td>\n",
              "      <td>0</td>\n",
              "      <td>2575</td>\n",
              "      <td>DKI Jakarta</td>\n",
              "      <td>10.18</td>\n",
              "      <td>252.946955</td>\n",
              "      <td>71.63</td>\n",
              "    </tr>\n",
              "    <tr>\n",
              "      <th>3</th>\n",
              "      <td>KEPULAUAN SERIBU</td>\n",
              "      <td>2020</td>\n",
              "      <td>20-44</td>\n",
              "      <td>2</td>\n",
              "      <td>11456</td>\n",
              "      <td>DKI Jakarta</td>\n",
              "      <td>10.18</td>\n",
              "      <td>1125.343811</td>\n",
              "      <td>71.63</td>\n",
              "    </tr>\n",
              "    <tr>\n",
              "      <th>4</th>\n",
              "      <td>KEPULAUAN SERIBU</td>\n",
              "      <td>2020</td>\n",
              "      <td>45-54</td>\n",
              "      <td>0</td>\n",
              "      <td>3184</td>\n",
              "      <td>DKI Jakarta</td>\n",
              "      <td>10.18</td>\n",
              "      <td>312.770138</td>\n",
              "      <td>71.63</td>\n",
              "    </tr>\n",
              "  </tbody>\n",
              "</table>\n",
              "</div>"
            ],
            "text/plain": [
              "           District  Year    Age  Cases  Population     Province  Area_sq_km  \\\n",
              "0  KEPULAUAN SERIBU  2020    0-4      9        2837  DKI Jakarta       10.18   \n",
              "1  KEPULAUAN SERIBU  2020  10-14      1        2307  DKI Jakarta       10.18   \n",
              "2  KEPULAUAN SERIBU  2020  15-19      0        2575  DKI Jakarta       10.18   \n",
              "3  KEPULAUAN SERIBU  2020  20-44      2       11456  DKI Jakarta       10.18   \n",
              "4  KEPULAUAN SERIBU  2020  45-54      0        3184  DKI Jakarta       10.18   \n",
              "\n",
              "       Pop_den    HDI  \n",
              "0   278.683694  71.63  \n",
              "1   226.620825  71.63  \n",
              "2   252.946955  71.63  \n",
              "3  1125.343811  71.63  \n",
              "4   312.770138  71.63  "
            ]
          },
          "execution_count": 474,
          "metadata": {},
          "output_type": "execute_result"
        }
      ],
      "source": [
        "#check\n",
        "data_jkt.head()"
      ]
    },
    {
      "cell_type": "code",
      "execution_count": 475,
      "metadata": {
        "colab": {
          "base_uri": "https://localhost:8080/"
        },
        "id": "WuwleRW-Iqqf",
        "outputId": "9e74f1a2-40b1-4cec-dac1-1ce1e9ccab47"
      },
      "outputs": [
        {
          "data": {
            "text/plain": [
              "array([2020, 2021, 2022, 2023])"
            ]
          },
          "execution_count": 475,
          "metadata": {},
          "output_type": "execute_result"
        }
      ],
      "source": [
        "#check values for year\n",
        "data_jkt[\"Year\"].unique()"
      ]
    },
    {
      "cell_type": "code",
      "execution_count": 476,
      "metadata": {},
      "outputs": [
        {
          "data": {
            "text/plain": [
              "27"
            ]
          },
          "execution_count": 476,
          "metadata": {},
          "output_type": "execute_result"
        }
      ],
      "source": [
        "data_java[\"District\"].nunique()"
      ]
    },
    {
      "cell_type": "code",
      "execution_count": 477,
      "metadata": {},
      "outputs": [
        {
          "data": {
            "text/plain": [
              "6"
            ]
          },
          "execution_count": 477,
          "metadata": {},
          "output_type": "execute_result"
        }
      ],
      "source": [
        "data_jkt[\"District\"].nunique()"
      ]
    },
    {
      "cell_type": "markdown",
      "metadata": {
        "id": "MfJFDaA2-pw-"
      },
      "source": [
        "# Read in shp file for Indonesia"
      ]
    },
    {
      "cell_type": "markdown",
      "metadata": {
        "id": "kabG7Lcd5TwV"
      },
      "source": [
        "## (district-level)"
      ]
    },
    {
      "cell_type": "code",
      "execution_count": 478,
      "metadata": {
        "id": "R6XHc0JA-tGE"
      },
      "outputs": [],
      "source": [
        "df_shp_dist = gpd.read_file(\"../data/raw/adm2.shp\")"
      ]
    },
    {
      "cell_type": "code",
      "execution_count": 479,
      "metadata": {},
      "outputs": [
        {
          "data": {
            "text/plain": [
              "array(['Aceh', 'Sumatera Barat', 'Nusa Tenggara Timur', 'Sumatera Utara',\n",
              "       'Papua', 'Bali', 'Kalimantan Selatan', 'Jawa Barat',\n",
              "       'Sulawesi Tengah', 'Kepulauan Bangka Belitung', 'Jawa Timur',\n",
              "       'Jawa Tengah', 'Sulawesi Selatan', 'Daerah Istimewa Yogyakarta',\n",
              "       'Sumatera Selatan', 'Kalimantan Tengah', 'Jambi', 'Riau',\n",
              "       'Kalimantan Barat', 'Bengkulu', 'Kalimantan Timur',\n",
              "       'Nusa Tenggara Barat', 'Kepulauan Riau', 'Gorontalo',\n",
              "       'Sulawesi Utara', 'Sulawesi Tenggara', 'Kalimantan Utara',\n",
              "       'Maluku', 'Lampung', 'Papua Barat', 'Maluku Utara', 'Dki Jakarta',\n",
              "       'Banten', 'Sulawesi Barat'], dtype=object)"
            ]
          },
          "execution_count": 479,
          "metadata": {},
          "output_type": "execute_result"
        }
      ],
      "source": [
        "df_shp_dist[\"ADM1_EN\"].unique()"
      ]
    },
    {
      "cell_type": "code",
      "execution_count": 480,
      "metadata": {},
      "outputs": [
        {
          "data": {
            "text/plain": [
              "Index(['Shape_Leng', 'Shape_Area', 'ADM2_EN', 'ADM2_PCODE', 'ADM2_REF',\n",
              "       'ADM2ALT1EN', 'ADM2ALT2EN', 'ADM1_EN', 'ADM1_PCODE', 'ADM0_EN',\n",
              "       'ADM0_PCODE', 'date', 'validOn', 'validTo', 'geometry'],\n",
              "      dtype='object')"
            ]
          },
          "execution_count": 480,
          "metadata": {},
          "output_type": "execute_result"
        }
      ],
      "source": [
        "df_shp_dist.columns"
      ]
    },
    {
      "cell_type": "code",
      "execution_count": 481,
      "metadata": {},
      "outputs": [],
      "source": [
        "#replace Dki Jakarta with DKI Jakarta \n",
        "df_shp_dist.loc[df_shp_dist['ADM1_EN'] == 'Dki Jakarta', \"ADM1_EN\"] = 'DKI Jakarta'\n",
        "\n",
        "#convert everyth to uppercase letter (the province and district cols)\n",
        "df_shp_dist[\"ADM2_EN\"] = df_shp_dist[\"ADM2_EN\"].str.upper()\n",
        "\n",
        "#rename ADM2_EN and ADM1_EN to District and Province respectively\n",
        "df_shp_dist.rename(columns = {\"ADM2_EN\": \"District\", \"ADM1_EN\": \"Province\"}, inplace = True)\n",
        "\n",
        "\n",
        "df_shp_dist = df_shp_dist[df_shp_dist[\"District\"].isin(combined_districts)]\n",
        "df_shp_dist_simulation = df_shp_dist[df_shp_dist[\"District\"].isin(combined_districts_filtered)]"
      ]
    },
    {
      "cell_type": "code",
      "execution_count": 482,
      "metadata": {
        "colab": {
          "base_uri": "https://localhost:8080/",
          "height": 428
        },
        "id": "CPtvwDYX_D6e",
        "outputId": "1789c367-bc15-4044-da61-c358cb9f7af3"
      },
      "outputs": [
        {
          "data": {
            "image/png": "[encoded data removed]",
            "text/plain": [
              "<Figure size 1200x800 with 1 Axes>"
            ]
          },
          "metadata": {},
          "output_type": "display_data"
        }
      ],
      "source": [
        "fig, ax = plt.subplots(figsize=(12, 8))\n",
        "df_shp_dist.plot(ax=ax, edgecolor=\"black\", cmap=\"Pastel1\")\n",
        "\n",
        "plt.title(\"Indonesia District Map\")\n",
        "plt.show()"
      ]
    },
    {
      "cell_type": "code",
      "execution_count": 483,
      "metadata": {},
      "outputs": [
        {
          "data": {
            "image/png": "[encoded data removed]",
            "text/plain": [
              "<Figure size 1200x800 with 1 Axes>"
            ]
          },
          "metadata": {},
          "output_type": "display_data"
        }
      ],
      "source": [
        "fig, ax = plt.subplots(figsize=(12, 8))\n",
        "df_shp_dist_simulation.plot(ax=ax, edgecolor=\"black\", cmap=\"Pastel1\")\n",
        "\n",
        "plt.title(\"Indonesia District Map\")\n",
        "plt.show()"
      ]
    },
    {
      "cell_type": "code",
      "execution_count": 484,
      "metadata": {},
      "outputs": [
        {
          "name": "stdout",
          "output_type": "stream",
          "text": [
            "Index(['Shape_Leng', 'Shape_Area', 'District', 'ADM2_PCODE', 'ADM2_REF',\n",
            "       'ADM2ALT1EN', 'ADM2ALT2EN', 'Province', 'ADM1_PCODE', 'ADM0_EN',\n",
            "       'ADM0_PCODE', 'date', 'validOn', 'validTo', 'geometry'],\n",
            "      dtype='object')\n",
            "Shape_Leng           float64\n",
            "Shape_Area           float64\n",
            "District              object\n",
            "ADM2_PCODE            object\n",
            "ADM2_REF              object\n",
            "ADM2ALT1EN            object\n",
            "ADM2ALT2EN            object\n",
            "Province              object\n",
            "ADM1_PCODE            object\n",
            "ADM0_EN               object\n",
            "ADM0_PCODE            object\n",
            "date          datetime64[ms]\n",
            "validOn       datetime64[ms]\n",
            "validTo               object\n",
            "geometry            geometry\n",
            "dtype: object\n"
          ]
        }
      ],
      "source": [
        "print(df_shp_dist_simulation.columns)\n",
        "print(df_shp_dist_simulation.dtypes)\n"
      ]
    },
    {
      "cell_type": "code",
      "execution_count": 485,
      "metadata": {},
      "outputs": [],
      "source": [
        "#get province level data by dissolving district level data without kepulauan seribu for the simulation study\n",
        "df_shp_prov_simulation = df_shp_dist_simulation.dissolve(by=\"Province\")\n"
      ]
    },
    {
      "cell_type": "code",
      "execution_count": 486,
      "metadata": {},
      "outputs": [],
      "source": [
        "#must reset index\n",
        "df_shp_prov_simulation = df_shp_prov_simulation.reset_index()"
      ]
    },
    {
      "cell_type": "code",
      "execution_count": 487,
      "metadata": {},
      "outputs": [
        {
          "data": {
            "text/html": [
              "<div>\n",
              "<style scoped>\n",
              "    .dataframe tbody tr th:only-of-type {\n",
              "        vertical-align: middle;\n",
              "    }\n",
              "\n",
              "    .dataframe tbody tr th {\n",
              "        vertical-align: top;\n",
              "    }\n",
              "\n",
              "    .dataframe thead th {\n",
              "        text-align: right;\n",
              "    }\n",
              "</style>\n",
              "<table border=\"1\" class=\"dataframe\">\n",
              "  <thead>\n",
              "    <tr style=\"text-align: right;\">\n",
              "      <th></th>\n",
              "      <th>Province</th>\n",
              "      <th>geometry</th>\n",
              "      <th>Shape_Leng</th>\n",
              "      <th>Shape_Area</th>\n",
              "      <th>District</th>\n",
              "      <th>ADM2_PCODE</th>\n",
              "      <th>ADM2_REF</th>\n",
              "      <th>ADM2ALT1EN</th>\n",
              "      <th>ADM2ALT2EN</th>\n",
              "      <th>ADM1_PCODE</th>\n",
              "      <th>ADM0_EN</th>\n",
              "      <th>ADM0_PCODE</th>\n",
              "      <th>date</th>\n",
              "      <th>validOn</th>\n",
              "      <th>validTo</th>\n",
              "    </tr>\n",
              "  </thead>\n",
              "  <tbody>\n",
              "    <tr>\n",
              "      <th>0</th>\n",
              "      <td>DKI Jakarta</td>\n",
              "      <td>MULTIPOLYGON (((106.84094 -6.34198, 106.8407 -...</td>\n",
              "      <td>0.590340</td>\n",
              "      <td>0.010251</td>\n",
              "      <td>KOTA JAKARTA BARAT</td>\n",
              "      <td>ID3174</td>\n",
              "      <td>None</td>\n",
              "      <td>None</td>\n",
              "      <td>None</td>\n",
              "      <td>ID31</td>\n",
              "      <td>Indonesia</td>\n",
              "      <td>ID</td>\n",
              "      <td>2019-12-20</td>\n",
              "      <td>2020-04-01</td>\n",
              "      <td>0000/00/00</td>\n",
              "    </tr>\n",
              "    <tr>\n",
              "      <th>1</th>\n",
              "      <td>Jawa Barat</td>\n",
              "      <td>MULTIPOLYGON (((107.42275 -7.50549, 107.42249 ...</td>\n",
              "      <td>3.093005</td>\n",
              "      <td>0.143607</td>\n",
              "      <td>BANDUNG</td>\n",
              "      <td>ID3204</td>\n",
              "      <td>None</td>\n",
              "      <td>None</td>\n",
              "      <td>None</td>\n",
              "      <td>ID32</td>\n",
              "      <td>Indonesia</td>\n",
              "      <td>ID</td>\n",
              "      <td>2019-12-20</td>\n",
              "      <td>2020-04-01</td>\n",
              "      <td>0000/00/00</td>\n",
              "    </tr>\n",
              "  </tbody>\n",
              "</table>\n",
              "</div>"
            ],
            "text/plain": [
              "      Province                                           geometry  Shape_Leng  \\\n",
              "0  DKI Jakarta  MULTIPOLYGON (((106.84094 -6.34198, 106.8407 -...    0.590340   \n",
              "1   Jawa Barat  MULTIPOLYGON (((107.42275 -7.50549, 107.42249 ...    3.093005   \n",
              "\n",
              "   Shape_Area            District ADM2_PCODE ADM2_REF ADM2ALT1EN ADM2ALT2EN  \\\n",
              "0    0.010251  KOTA JAKARTA BARAT     ID3174     None       None       None   \n",
              "1    0.143607             BANDUNG     ID3204     None       None       None   \n",
              "\n",
              "  ADM1_PCODE    ADM0_EN ADM0_PCODE       date    validOn     validTo  \n",
              "0       ID31  Indonesia         ID 2019-12-20 2020-04-01  0000/00/00  \n",
              "1       ID32  Indonesia         ID 2019-12-20 2020-04-01  0000/00/00  "
            ]
          },
          "execution_count": 487,
          "metadata": {},
          "output_type": "execute_result"
        }
      ],
      "source": [
        "df_shp_prov_simulation"
      ]
    },
    {
      "cell_type": "markdown",
      "metadata": {
        "id": "CtlGNaob5XFD"
      },
      "source": [
        "## Province-Level"
      ]
    },
    {
      "cell_type": "code",
      "execution_count": 488,
      "metadata": {
        "id": "eCgbjSbS5PJQ"
      },
      "outputs": [],
      "source": [
        "df_shp_prov = gpd.read_file(\"../data/raw/adm1.shp\")"
      ]
    },
    {
      "cell_type": "code",
      "execution_count": 489,
      "metadata": {},
      "outputs": [
        {
          "data": {
            "text/html": [
              "<div>\n",
              "<style scoped>\n",
              "    .dataframe tbody tr th:only-of-type {\n",
              "        vertical-align: middle;\n",
              "    }\n",
              "\n",
              "    .dataframe tbody tr th {\n",
              "        vertical-align: top;\n",
              "    }\n",
              "\n",
              "    .dataframe thead th {\n",
              "        text-align: right;\n",
              "    }\n",
              "</style>\n",
              "<table border=\"1\" class=\"dataframe\">\n",
              "  <thead>\n",
              "    <tr style=\"text-align: right;\">\n",
              "      <th></th>\n",
              "      <th>Shape_Leng</th>\n",
              "      <th>Shape_Area</th>\n",
              "      <th>ADM1_EN</th>\n",
              "      <th>ADM1_PCODE</th>\n",
              "      <th>ADM1_REF</th>\n",
              "      <th>ADM1ALT1EN</th>\n",
              "      <th>ADM1ALT2EN</th>\n",
              "      <th>ADM0_EN</th>\n",
              "      <th>ADM0_PCODE</th>\n",
              "      <th>date</th>\n",
              "      <th>validOn</th>\n",
              "      <th>validTo</th>\n",
              "      <th>geometry</th>\n",
              "    </tr>\n",
              "  </thead>\n",
              "  <tbody>\n",
              "    <tr>\n",
              "      <th>0</th>\n",
              "      <td>27.367364</td>\n",
              "      <td>4.625437</td>\n",
              "      <td>Aceh</td>\n",
              "      <td>ID11</td>\n",
              "      <td>None</td>\n",
              "      <td>None</td>\n",
              "      <td>None</td>\n",
              "      <td>Indonesia</td>\n",
              "      <td>ID</td>\n",
              "      <td>2019-12-20</td>\n",
              "      <td>2020-04-01</td>\n",
              "      <td>0000/00/00</td>\n",
              "      <td>MULTIPOLYGON (((97.39178 2.03748, 97.39055 2.0...</td>\n",
              "    </tr>\n",
              "    <tr>\n",
              "      <th>1</th>\n",
              "      <td>6.026648</td>\n",
              "      <td>0.458717</td>\n",
              "      <td>Bali</td>\n",
              "      <td>ID51</td>\n",
              "      <td>None</td>\n",
              "      <td>None</td>\n",
              "      <td>None</td>\n",
              "      <td>Indonesia</td>\n",
              "      <td>ID</td>\n",
              "      <td>2019-12-20</td>\n",
              "      <td>2020-04-01</td>\n",
              "      <td>0000/00/00</td>\n",
              "      <td>MULTIPOLYGON (((115.12509 -8.84761, 115.12499 ...</td>\n",
              "    </tr>\n",
              "    <tr>\n",
              "      <th>2</th>\n",
              "      <td>9.279900</td>\n",
              "      <td>0.764911</td>\n",
              "      <td>Banten</td>\n",
              "      <td>ID36</td>\n",
              "      <td>None</td>\n",
              "      <td>None</td>\n",
              "      <td>None</td>\n",
              "      <td>Indonesia</td>\n",
              "      <td>ID</td>\n",
              "      <td>2019-12-20</td>\n",
              "      <td>2020-04-01</td>\n",
              "      <td>0000/00/00</td>\n",
              "      <td>MULTIPOLYGON (((105.54977 -6.99566, 105.55035 ...</td>\n",
              "    </tr>\n",
              "    <tr>\n",
              "      <th>3</th>\n",
              "      <td>11.653771</td>\n",
              "      <td>1.630129</td>\n",
              "      <td>Bengkulu</td>\n",
              "      <td>ID17</td>\n",
              "      <td>None</td>\n",
              "      <td>None</td>\n",
              "      <td>None</td>\n",
              "      <td>Indonesia</td>\n",
              "      <td>ID</td>\n",
              "      <td>2019-12-20</td>\n",
              "      <td>2020-04-01</td>\n",
              "      <td>0000/00/00</td>\n",
              "      <td>MULTIPOLYGON (((102.38616 -5.47144, 102.38626 ...</td>\n",
              "    </tr>\n",
              "    <tr>\n",
              "      <th>4</th>\n",
              "      <td>3.341561</td>\n",
              "      <td>0.260130</td>\n",
              "      <td>Daerah Istimewa Yogyakarta</td>\n",
              "      <td>ID34</td>\n",
              "      <td>None</td>\n",
              "      <td>None</td>\n",
              "      <td>None</td>\n",
              "      <td>Indonesia</td>\n",
              "      <td>ID</td>\n",
              "      <td>2019-12-20</td>\n",
              "      <td>2020-04-01</td>\n",
              "      <td>0000/00/00</td>\n",
              "      <td>MULTIPOLYGON (((110.8198 -8.20358, 110.81951 -...</td>\n",
              "    </tr>\n",
              "  </tbody>\n",
              "</table>\n",
              "</div>"
            ],
            "text/plain": [
              "   Shape_Leng  Shape_Area                     ADM1_EN ADM1_PCODE ADM1_REF  \\\n",
              "0   27.367364    4.625437                        Aceh       ID11     None   \n",
              "1    6.026648    0.458717                        Bali       ID51     None   \n",
              "2    9.279900    0.764911                      Banten       ID36     None   \n",
              "3   11.653771    1.630129                    Bengkulu       ID17     None   \n",
              "4    3.341561    0.260130  Daerah Istimewa Yogyakarta       ID34     None   \n",
              "\n",
              "  ADM1ALT1EN ADM1ALT2EN    ADM0_EN ADM0_PCODE       date    validOn  \\\n",
              "0       None       None  Indonesia         ID 2019-12-20 2020-04-01   \n",
              "1       None       None  Indonesia         ID 2019-12-20 2020-04-01   \n",
              "2       None       None  Indonesia         ID 2019-12-20 2020-04-01   \n",
              "3       None       None  Indonesia         ID 2019-12-20 2020-04-01   \n",
              "4       None       None  Indonesia         ID 2019-12-20 2020-04-01   \n",
              "\n",
              "      validTo                                           geometry  \n",
              "0  0000/00/00  MULTIPOLYGON (((97.39178 2.03748, 97.39055 2.0...  \n",
              "1  0000/00/00  MULTIPOLYGON (((115.12509 -8.84761, 115.12499 ...  \n",
              "2  0000/00/00  MULTIPOLYGON (((105.54977 -6.99566, 105.55035 ...  \n",
              "3  0000/00/00  MULTIPOLYGON (((102.38616 -5.47144, 102.38626 ...  \n",
              "4  0000/00/00  MULTIPOLYGON (((110.8198 -8.20358, 110.81951 -...  "
            ]
          },
          "execution_count": 489,
          "metadata": {},
          "output_type": "execute_result"
        }
      ],
      "source": [
        "df_shp_prov.head()"
      ]
    },
    {
      "cell_type": "code",
      "execution_count": 490,
      "metadata": {
        "colab": {
          "base_uri": "https://localhost:8080/"
        },
        "id": "DUxoS1EF5rc1",
        "outputId": "fbcb2c09-3bc5-4e4e-f05c-e0b960a2cc0b"
      },
      "outputs": [
        {
          "name": "stdout",
          "output_type": "stream",
          "text": [
            "['Aceh' 'Bali' 'Banten' 'Bengkulu' 'Daerah Istimewa Yogyakarta'\n",
            " 'Dki Jakarta' 'Gorontalo' 'Jambi' 'Jawa Barat' 'Jawa Tengah' 'Jawa Timur'\n",
            " 'Kalimantan Barat' 'Kalimantan Selatan' 'Kalimantan Tengah'\n",
            " 'Kalimantan Timur' 'Kalimantan Utara' 'Kepulauan Bangka Belitung'\n",
            " 'Kepulauan Riau' 'Lampung' 'Maluku' 'Maluku Utara' 'Nusa Tenggara Barat'\n",
            " 'Nusa Tenggara Timur' 'Papua' 'Papua Barat' 'Riau' 'Sulawesi Barat'\n",
            " 'Sulawesi Selatan' 'Sulawesi Tengah' 'Sulawesi Tenggara' 'Sulawesi Utara'\n",
            " 'Sumatera Barat' 'Sumatera Selatan' 'Sumatera Utara']\n"
          ]
        }
      ],
      "source": [
        "print(df_shp_prov[\"ADM1_EN\"].unique())  # Replace \"shape1\" with the suspected column name"
      ]
    },
    {
      "cell_type": "code",
      "execution_count": 491,
      "metadata": {
        "colab": {
          "base_uri": "https://localhost:8080/",
          "height": 206
        },
        "id": "uTChCYei6tKi",
        "outputId": "dceab21c-71ea-4cf0-cdc9-ef76765ad2bd"
      },
      "outputs": [],
      "source": [
        "#replace Dki Jakarta with DKI Jakarta \n",
        "df_shp_prov.loc[df_shp_prov['ADM1_EN'] == 'Dki Jakarta', 'ADM1_EN'] = 'DKI Jakarta'\n",
        "\n",
        "#rename ADM2_EN and ADM1_EN to District and Province respectively\n",
        "df_shp_prov.rename(columns = {\"ADM1_EN\": \"Province\"}, inplace = True)\n",
        "\n",
        "\n",
        "#how to filter df_shp_prov such that it wld not include kepulauan seribu for the simulation study...\n",
        "df_shp_prov = df_shp_prov[df_shp_prov[\"Province\"].isin([\"DKI Jakarta\", \"Jawa Barat\"])]"
      ]
    },
    {
      "cell_type": "code",
      "execution_count": 492,
      "metadata": {
        "colab": {
          "base_uri": "https://localhost:8080/",
          "height": 428
        },
        "id": "7uNZraRJ8IL0",
        "outputId": "45c17f20-bb6a-4afd-e027-1163debd9ebc"
      },
      "outputs": [
        {
          "data": {
            "image/png": "[encoded data removed]",
            "text/plain": [
              "<Figure size 1200x800 with 1 Axes>"
            ]
          },
          "metadata": {},
          "output_type": "display_data"
        }
      ],
      "source": [
        "#try plotting\n",
        "fig, ax = plt.subplots(figsize=(12, 8))\n",
        "df_shp_prov.plot(ax=ax, edgecolor=\"black\", cmap=\"Pastel1\")\n",
        "\n",
        "plt.title(\"Indonesia Province Map\")\n",
        "plt.show()"
      ]
    },
    {
      "cell_type": "code",
      "execution_count": 493,
      "metadata": {},
      "outputs": [
        {
          "data": {
            "text/plain": [
              "array(['BANDUNG', 'BANDUNG BARAT', 'BEKASI', 'BOGOR', 'CIAMIS', 'CIANJUR',\n",
              "       'CIREBON', 'GARUT', 'INDRAMAYU', 'KARAWANG', 'KEPULAUAN SERIBU',\n",
              "       'KOTA BANDUNG', 'KOTA BANJAR', 'KOTA BEKASI', 'KOTA BOGOR',\n",
              "       'KOTA CIMAHI', 'KOTA CIREBON', 'KOTA DEPOK', 'KOTA JAKARTA BARAT',\n",
              "       'KOTA JAKARTA PUSAT', 'KOTA JAKARTA SELATAN', 'KOTA JAKARTA TIMUR',\n",
              "       'KOTA JAKARTA UTARA', 'KOTA SUKABUMI', 'KOTA TASIKMALAYA',\n",
              "       'KUNINGAN', 'MAJALENGKA', 'PANGANDARAN', 'PURWAKARTA', 'SUBANG',\n",
              "       'SUKABUMI', 'SUMEDANG', 'TASIKMALAYA'], dtype=object)"
            ]
          },
          "execution_count": 493,
          "metadata": {},
          "output_type": "execute_result"
        }
      ],
      "source": [
        "#check the namings for df_shp_dist and df_shp_prov\n",
        "df_shp_dist['District'].unique()"
      ]
    },
    {
      "cell_type": "markdown",
      "metadata": {
        "id": "AkBj3SzyLGGP"
      },
      "source": [
        "# Tidy up the dengue data first into one final df"
      ]
    },
    {
      "cell_type": "code",
      "execution_count": 494,
      "metadata": {
        "id": "kn6oxYibK3Yy"
      },
      "outputs": [],
      "source": [
        "#combine the dengue data for both jkt and java\n",
        "df_combined = pd.concat([data_java, data_jkt], ignore_index=True)"
      ]
    },
    {
      "cell_type": "code",
      "execution_count": 495,
      "metadata": {},
      "outputs": [
        {
          "data": {
            "text/plain": [
              "33"
            ]
          },
          "execution_count": 495,
          "metadata": {},
          "output_type": "execute_result"
        }
      ],
      "source": [
        "df_combined[\"District\"].nunique()"
      ]
    },
    {
      "cell_type": "code",
      "execution_count": 496,
      "metadata": {},
      "outputs": [
        {
          "data": {
            "text/html": [
              "<div>\n",
              "<style scoped>\n",
              "    .dataframe tbody tr th:only-of-type {\n",
              "        vertical-align: middle;\n",
              "    }\n",
              "\n",
              "    .dataframe tbody tr th {\n",
              "        vertical-align: top;\n",
              "    }\n",
              "\n",
              "    .dataframe thead th {\n",
              "        text-align: right;\n",
              "    }\n",
              "</style>\n",
              "<table border=\"1\" class=\"dataframe\">\n",
              "  <thead>\n",
              "    <tr style=\"text-align: right;\">\n",
              "      <th></th>\n",
              "      <th>District</th>\n",
              "      <th>Year</th>\n",
              "      <th>Age</th>\n",
              "      <th>Cases</th>\n",
              "      <th>Population</th>\n",
              "      <th>Province</th>\n",
              "      <th>Area_sq_km</th>\n",
              "      <th>Pop_den</th>\n",
              "      <th>HDI</th>\n",
              "    </tr>\n",
              "  </thead>\n",
              "  <tbody>\n",
              "    <tr>\n",
              "      <th>0</th>\n",
              "      <td>BANDUNG</td>\n",
              "      <td>2020</td>\n",
              "      <td>0-4</td>\n",
              "      <td>332</td>\n",
              "      <td>313554</td>\n",
              "      <td>Jawa Barat</td>\n",
              "      <td>1767.96</td>\n",
              "      <td>177.353560</td>\n",
              "      <td>72.39</td>\n",
              "    </tr>\n",
              "    <tr>\n",
              "      <th>1</th>\n",
              "      <td>BANDUNG</td>\n",
              "      <td>2020</td>\n",
              "      <td>15-44</td>\n",
              "      <td>950</td>\n",
              "      <td>1772345</td>\n",
              "      <td>Jawa Barat</td>\n",
              "      <td>1767.96</td>\n",
              "      <td>1002.480260</td>\n",
              "      <td>72.39</td>\n",
              "    </tr>\n",
              "    <tr>\n",
              "      <th>2</th>\n",
              "      <td>BANDUNG</td>\n",
              "      <td>2020</td>\n",
              "      <td>45-99</td>\n",
              "      <td>312</td>\n",
              "      <td>892491</td>\n",
              "      <td>Jawa Barat</td>\n",
              "      <td>1767.96</td>\n",
              "      <td>504.814023</td>\n",
              "      <td>72.39</td>\n",
              "    </tr>\n",
              "    <tr>\n",
              "      <th>3</th>\n",
              "      <td>BANDUNG</td>\n",
              "      <td>2020</td>\n",
              "      <td>5-14</td>\n",
              "      <td>701</td>\n",
              "      <td>645400</td>\n",
              "      <td>Jawa Barat</td>\n",
              "      <td>1767.96</td>\n",
              "      <td>365.053508</td>\n",
              "      <td>72.39</td>\n",
              "    </tr>\n",
              "    <tr>\n",
              "      <th>4</th>\n",
              "      <td>BANDUNG</td>\n",
              "      <td>2021</td>\n",
              "      <td>0-4</td>\n",
              "      <td>470</td>\n",
              "      <td>311231</td>\n",
              "      <td>Jawa Barat</td>\n",
              "      <td>1767.96</td>\n",
              "      <td>176.039616</td>\n",
              "      <td>72.73</td>\n",
              "    </tr>\n",
              "  </tbody>\n",
              "</table>\n",
              "</div>"
            ],
            "text/plain": [
              "  District  Year    Age  Cases  Population    Province  Area_sq_km  \\\n",
              "0  BANDUNG  2020    0-4    332      313554  Jawa Barat     1767.96   \n",
              "1  BANDUNG  2020  15-44    950     1772345  Jawa Barat     1767.96   \n",
              "2  BANDUNG  2020  45-99    312      892491  Jawa Barat     1767.96   \n",
              "3  BANDUNG  2020   5-14    701      645400  Jawa Barat     1767.96   \n",
              "4  BANDUNG  2021    0-4    470      311231  Jawa Barat     1767.96   \n",
              "\n",
              "       Pop_den    HDI  \n",
              "0   177.353560  72.39  \n",
              "1  1002.480260  72.39  \n",
              "2   504.814023  72.39  \n",
              "3   365.053508  72.39  \n",
              "4   176.039616  72.73  "
            ]
          },
          "execution_count": 496,
          "metadata": {},
          "output_type": "execute_result"
        }
      ],
      "source": [
        "df_combined.head()"
      ]
    },
    {
      "cell_type": "code",
      "execution_count": 497,
      "metadata": {
        "id": "qBSGt7gVLX7U"
      },
      "outputs": [],
      "source": [
        "#delete rows with redundant/repeated age groups --> we can take the interval of 9 years gap to avoid having too many groupings for age\n",
        "\n",
        "#inconsistent age group intervals --> not a good way to stratify the data based on age group! can just combine the entire dataset to be of one age group for now\n",
        "#for this --> eliminate redundant rows with age groups that are repeated --> 5-9, 10-14, 15-19, 20-44\n",
        "df_combined = df_combined[~df_combined['Age'].isin(['5-9', '10-14', '15-19', '20-44', '45-54', '55-64', '65-74', '75-99'])]"
      ]
    },
    {
      "cell_type": "code",
      "execution_count": 498,
      "metadata": {},
      "outputs": [
        {
          "data": {
            "text/plain": [
              "array(['BANDUNG', 'BANDUNG BARAT', 'BEKASI', 'BOGOR', 'CIAMIS', 'CIANJUR',\n",
              "       'CIREBON', 'GARUT', 'INDRAMAYU', 'KARAWANG', 'KOTA BANDUNG',\n",
              "       'KOTA BANJAR', 'KOTA BEKASI', 'KOTA BOGOR', 'KOTA CIMAHI',\n",
              "       'KOTA CIREBON', 'KOTA DEPOK', 'KOTA SUKABUMI', 'KOTA TASIKMALAYA',\n",
              "       'KUNINGAN', 'MAJALENGKA', 'PANGANDARAN', 'PURWAKARTA', 'SUBANG',\n",
              "       'SUKABUMI', 'SUMEDANG', 'TASIKMALAYA', 'KEPULAUAN SERIBU',\n",
              "       'KOTA JAKARTA BARAT', 'KOTA JAKARTA PUSAT', 'KOTA JAKARTA SELATAN',\n",
              "       'KOTA JAKARTA TIMUR', 'KOTA JAKARTA UTARA'], dtype=object)"
            ]
          },
          "execution_count": 498,
          "metadata": {},
          "output_type": "execute_result"
        }
      ],
      "source": [
        "df_combined[\"District\"].unique()"
      ]
    },
    {
      "cell_type": "code",
      "execution_count": 499,
      "metadata": {},
      "outputs": [
        {
          "data": {
            "text/plain": [
              "District      0\n",
              "Year          0\n",
              "Area_sq_km    0\n",
              "HDI           0\n",
              "Province      0\n",
              "dtype: int64"
            ]
          },
          "execution_count": 499,
          "metadata": {},
          "output_type": "execute_result"
        }
      ],
      "source": [
        "df_combined[['District', 'Year', 'Area_sq_km', 'HDI', 'Province']].isnull().sum()"
      ]
    },
    {
      "cell_type": "code",
      "execution_count": 500,
      "metadata": {
        "colab": {
          "base_uri": "https://localhost:8080/"
        },
        "id": "74H-cekXLcgR",
        "outputId": "8f768cea-715a-41fb-cc5b-5464f87dffba"
      },
      "outputs": [
        {
          "data": {
            "text/plain": [
              "array(['0-4', '15-44', '45-99', '5-14'], dtype=object)"
            ]
          },
          "execution_count": 500,
          "metadata": {},
          "output_type": "execute_result"
        }
      ],
      "source": [
        "#check the unique age grps again\n",
        "df_combined['Age'].unique()"
      ]
    },
    {
      "cell_type": "code",
      "execution_count": 501,
      "metadata": {
        "id": "1YH6wQg5Ld0n"
      },
      "outputs": [],
      "source": [
        "#now we merge the age groups together for each of the same District, Year, Area_sq_km, HDI --> need to sum Cases and Population metrics and the recalculate Pop_density\n",
        "df_combined = df_combined.groupby(['District', 'Year', 'Area_sq_km', 'HDI', 'Province']).agg({'Cases': 'sum', 'Population': 'sum'}).reset_index()\n",
        "\n",
        "#recalculate the Pop_density\n",
        "df_combined['Pop_den'] = df_combined['Population'] / df_combined['Area_sq_km']"
      ]
    },
    {
      "cell_type": "code",
      "execution_count": 502,
      "metadata": {},
      "outputs": [
        {
          "data": {
            "text/plain": [
              "33"
            ]
          },
          "execution_count": 502,
          "metadata": {},
          "output_type": "execute_result"
        }
      ],
      "source": [
        "df_combined[\"District\"].nunique()"
      ]
    },
    {
      "cell_type": "code",
      "execution_count": 503,
      "metadata": {
        "colab": {
          "base_uri": "https://localhost:8080/",
          "height": 335
        },
        "id": "638TyVY4Lp6Z",
        "outputId": "ed5cd5b6-bf43-4868-f39b-64894fa17eb7"
      },
      "outputs": [
        {
          "data": {
            "text/plain": [
              "District       object\n",
              "Year            int64\n",
              "Area_sq_km    float64\n",
              "HDI            object\n",
              "Province       object\n",
              "Cases           int64\n",
              "Population      int64\n",
              "Pop_den       float64\n",
              "dtype: object"
            ]
          },
          "execution_count": 503,
          "metadata": {},
          "output_type": "execute_result"
        }
      ],
      "source": [
        "#make sure that Year is integer, Area_sq_km is float, HDI is float, Cases, Population, Pop_density are numbers, and HDI is float\n",
        "#check type of data first\n",
        "df_combined.dtypes"
      ]
    },
    {
      "cell_type": "code",
      "execution_count": 504,
      "metadata": {
        "id": "m5IfGua7Lq76"
      },
      "outputs": [],
      "source": [
        "#convert HDI into float, normalised\n",
        "df_combined['HDI'] = df_combined['HDI'].astype(float) / 100"
      ]
    },
    {
      "cell_type": "code",
      "execution_count": 505,
      "metadata": {},
      "outputs": [],
      "source": [
        "#aggregate for province level (with and without Kep Seribu)\n",
        "#for province must aggregate first based on dki jakarta and west java (by province and year group by, sum the Cases and Population, take the mean for HDI, then recalculate population density)\n",
        "df_combined_prov = df_combined.copy().groupby([\"Province\", \"Year\"]).agg({\"Cases\": \"sum\", \"Population\": \"sum\", \"HDI\": \"mean\", \"Area_sq_km\": \"sum\"}).reset_index()\n",
        "df_combined_prov[\"Pop_den\"] = df_combined_prov[\"Population\"] / df_combined_prov[\"Area_sq_km\"]\n",
        "\n",
        "#for province must aggregate first based on dki jakarta and west java (by province and year group by, sum the Cases and Population, take the mean for HDI, then recalculate population density)\n",
        "df_combined_prov_simulation = df_combined[df_combined[\"District\"] != \"KEPULAUAN SERIBU\"].copy().groupby([\"Province\", \"Year\"]).agg({\"Cases\": \"sum\", \"Population\": \"sum\", \"HDI\": \"mean\", \"Area_sq_km\": \"sum\"}).reset_index()\n",
        "df_combined_prov_simulation[\"Pop_den\"] = df_combined_prov_simulation[\"Population\"] / df_combined_prov_simulation[\"Area_sq_km\"]"
      ]
    },
    {
      "cell_type": "code",
      "execution_count": 506,
      "metadata": {
        "id": "C5nth9Ua3TqY"
      },
      "outputs": [],
      "source": [
        "#separate the existing data into high-res (district-level) and low-res (province-level) data\n",
        "df_combined_dist = df_combined.copy()\n",
        "df_combined_dist_simulation = df_combined_dist[df_combined_dist[\"District\"] != \"KEPULAUAN SERIBU\"]\n"
      ]
    },
    {
      "cell_type": "code",
      "execution_count": 507,
      "metadata": {},
      "outputs": [
        {
          "data": {
            "text/plain": [
              "33"
            ]
          },
          "execution_count": 507,
          "metadata": {},
          "output_type": "execute_result"
        }
      ],
      "source": [
        "#check number of districts\n",
        "df_combined_dist[\"District\"].nunique()"
      ]
    },
    {
      "cell_type": "code",
      "execution_count": 508,
      "metadata": {},
      "outputs": [
        {
          "data": {
            "text/plain": [
              "32"
            ]
          },
          "execution_count": 508,
          "metadata": {},
          "output_type": "execute_result"
        }
      ],
      "source": [
        "df_combined_dist_simulation[\"District\"].nunique()"
      ]
    },
    {
      "cell_type": "markdown",
      "metadata": {
        "id": "XM8ifIIBCDhC"
      },
      "source": [
        "# Combine shp and dengue data"
      ]
    },
    {
      "cell_type": "code",
      "execution_count": 509,
      "metadata": {
        "id": "oat0LrOnA9_C"
      },
      "outputs": [],
      "source": [
        "#combine shp file with dengue data district level\n",
        "##aim: get a single shp file that contains ONLY the coordinates for Jawa and the districts within Jawa\n",
        "data_dist = df_combined_dist.merge(df_shp_dist[[\"District\", \"Province\", \"geometry\"]], on = [\"District\", \"Province\"], how = \"left\")\n",
        "data_dist_simulation = df_combined_dist_simulation.merge(df_shp_dist_simulation[[\"District\", \"Province\", \"geometry\"]], on = [\"District\", \"Province\"], how = \"left\")"
      ]
    },
    {
      "cell_type": "code",
      "execution_count": 510,
      "metadata": {},
      "outputs": [],
      "source": [
        "#combine df_combined_prov w df_shp_prov by Province\n",
        "data_prov = df_combined_prov.merge(df_shp_prov[[\"Province\", \"geometry\"]], on = \"Province\", how = 'left')\n",
        "data_prov_simulation = df_combined_prov_simulation.merge(df_shp_prov_simulation[[\"Province\", \"geometry\"]], on = \"Province\", how = 'left')"
      ]
    },
    {
      "cell_type": "code",
      "execution_count": 511,
      "metadata": {
        "id": "vLT8i7SPNuGC"
      },
      "outputs": [],
      "source": [
        "# Ensure data_combined is a GeoDataFrame\n",
        "df_dist = gpd.GeoDataFrame(data_dist, geometry='geometry')\n",
        "df_dist_sim = gpd.GeoDataFrame(data_dist_simulation, geometry='geometry')\n",
        "df_prov = gpd.GeoDataFrame(data_prov, geometry='geometry')\n",
        "df_prov_sim = gpd.GeoDataFrame(data_prov_simulation, geometry='geometry')"
      ]
    },
    {
      "cell_type": "code",
      "execution_count": 512,
      "metadata": {},
      "outputs": [
        {
          "data": {
            "text/plain": [
              "33"
            ]
          },
          "execution_count": 512,
          "metadata": {},
          "output_type": "execute_result"
        }
      ],
      "source": [
        "df_dist[\"District\"].nunique()"
      ]
    },
    {
      "cell_type": "markdown",
      "metadata": {},
      "source": [
        "# Read in land cover data "
      ]
    },
    {
      "cell_type": "code",
      "execution_count": 513,
      "metadata": {},
      "outputs": [],
      "source": [
        "land_cover_java = gpd.read_file('../data/raw/Tuplah_Jawa_Barat_2019.shp')\n",
        "land_cover_jkt = gpd.read_file('../data/raw/Tuplah_DKI_2019.shp')"
      ]
    },
    {
      "cell_type": "code",
      "execution_count": 514,
      "metadata": {},
      "outputs": [
        {
          "data": {
            "text/html": [
              "<div>\n",
              "<style scoped>\n",
              "    .dataframe tbody tr th:only-of-type {\n",
              "        vertical-align: middle;\n",
              "    }\n",
              "\n",
              "    .dataframe tbody tr th {\n",
              "        vertical-align: top;\n",
              "    }\n",
              "\n",
              "    .dataframe thead th {\n",
              "        text-align: right;\n",
              "    }\n",
              "</style>\n",
              "<table border=\"1\" class=\"dataframe\">\n",
              "  <thead>\n",
              "    <tr style=\"text-align: right;\">\n",
              "      <th></th>\n",
              "      <th>OBJECTID_1</th>\n",
              "      <th>NAME</th>\n",
              "      <th>Provinsi</th>\n",
              "      <th>PL_19_R</th>\n",
              "      <th>Legenda</th>\n",
              "      <th>geometry</th>\n",
              "    </tr>\n",
              "  </thead>\n",
              "  <tbody>\n",
              "    <tr>\n",
              "      <th>0</th>\n",
              "      <td>33859</td>\n",
              "      <td>DKI Jakarta</td>\n",
              "      <td>DKI Jakarta</td>\n",
              "      <td>2007</td>\n",
              "      <td>Belukar</td>\n",
              "      <td>POLYGON ((106.58462 -5.63406, 106.58552 -5.634...</td>\n",
              "    </tr>\n",
              "    <tr>\n",
              "      <th>1</th>\n",
              "      <td>33860</td>\n",
              "      <td>DKI Jakarta</td>\n",
              "      <td>DKI Jakarta</td>\n",
              "      <td>2007</td>\n",
              "      <td>Belukar</td>\n",
              "      <td>POLYGON ((106.57192 -5.62773, 106.57174 -5.627...</td>\n",
              "    </tr>\n",
              "    <tr>\n",
              "      <th>2</th>\n",
              "      <td>33861</td>\n",
              "      <td>DKI Jakarta</td>\n",
              "      <td>DKI Jakarta</td>\n",
              "      <td>2012</td>\n",
              "      <td>Pemukiman</td>\n",
              "      <td>POLYGON ((106.91438 -6.36541, 106.91436 -6.365...</td>\n",
              "    </tr>\n",
              "    <tr>\n",
              "      <th>3</th>\n",
              "      <td>33862</td>\n",
              "      <td>DKI Jakarta</td>\n",
              "      <td>DKI Jakarta</td>\n",
              "      <td>2012</td>\n",
              "      <td>Pemukiman</td>\n",
              "      <td>POLYGON ((106.91541 -6.36041, 106.91543 -6.360...</td>\n",
              "    </tr>\n",
              "    <tr>\n",
              "      <th>4</th>\n",
              "      <td>33863</td>\n",
              "      <td>DKI Jakarta</td>\n",
              "      <td>DKI Jakarta</td>\n",
              "      <td>2012</td>\n",
              "      <td>Pemukiman</td>\n",
              "      <td>POLYGON ((106.92073 -6.30023, 106.92075 -6.300...</td>\n",
              "    </tr>\n",
              "  </tbody>\n",
              "</table>\n",
              "</div>"
            ],
            "text/plain": [
              "   OBJECTID_1         NAME     Provinsi  PL_19_R    Legenda  \\\n",
              "0       33859  DKI Jakarta  DKI Jakarta     2007    Belukar   \n",
              "1       33860  DKI Jakarta  DKI Jakarta     2007    Belukar   \n",
              "2       33861  DKI Jakarta  DKI Jakarta     2012  Pemukiman   \n",
              "3       33862  DKI Jakarta  DKI Jakarta     2012  Pemukiman   \n",
              "4       33863  DKI Jakarta  DKI Jakarta     2012  Pemukiman   \n",
              "\n",
              "                                            geometry  \n",
              "0  POLYGON ((106.58462 -5.63406, 106.58552 -5.634...  \n",
              "1  POLYGON ((106.57192 -5.62773, 106.57174 -5.627...  \n",
              "2  POLYGON ((106.91438 -6.36541, 106.91436 -6.365...  \n",
              "3  POLYGON ((106.91541 -6.36041, 106.91543 -6.360...  \n",
              "4  POLYGON ((106.92073 -6.30023, 106.92075 -6.300...  "
            ]
          },
          "execution_count": 514,
          "metadata": {},
          "output_type": "execute_result"
        }
      ],
      "source": [
        "land_cover_jkt.head()"
      ]
    },
    {
      "cell_type": "code",
      "execution_count": 515,
      "metadata": {},
      "outputs": [],
      "source": [
        "# 2. Reproject to a projected CRS (for accurate area calc)\n",
        "# Let's use EPSG:32748 (UTM zone 48S, covers West Java)\n",
        "districts = df_shp_dist.to_crs(epsg=32748)\n",
        "\n",
        "province = df_shp_prov.to_crs(epsg=32748)\n",
        "\n",
        "#combine land_cover for both jkt and java first\n",
        "# 2. Ensure both are in the same CRS\n",
        "if land_cover_java.crs != land_cover_jkt.crs:\n",
        "    land_cover_jkt = land_cover_jkt.to_crs(land_cover_java.crs)\n",
        "\n",
        "# 3. Concatenate\n",
        "land_cover = pd.concat([land_cover_java, land_cover_jkt], ignore_index=True)\n",
        "land_cover = land_cover.to_crs(epsg=32748)  # UTM Zone 48S, good for Java"
      ]
    },
    {
      "cell_type": "code",
      "execution_count": 516,
      "metadata": {},
      "outputs": [
        {
          "data": {
            "text/html": [
              "<div>\n",
              "<style scoped>\n",
              "    .dataframe tbody tr th:only-of-type {\n",
              "        vertical-align: middle;\n",
              "    }\n",
              "\n",
              "    .dataframe tbody tr th {\n",
              "        vertical-align: top;\n",
              "    }\n",
              "\n",
              "    .dataframe thead th {\n",
              "        text-align: right;\n",
              "    }\n",
              "</style>\n",
              "<table border=\"1\" class=\"dataframe\">\n",
              "  <thead>\n",
              "    <tr style=\"text-align: right;\">\n",
              "      <th></th>\n",
              "      <th>OBJECTID_1</th>\n",
              "      <th>NAME</th>\n",
              "      <th>Provinsi</th>\n",
              "      <th>PL_19_R</th>\n",
              "      <th>Legenda</th>\n",
              "      <th>geometry</th>\n",
              "    </tr>\n",
              "  </thead>\n",
              "  <tbody>\n",
              "    <tr>\n",
              "      <th>0</th>\n",
              "      <td>468361</td>\n",
              "      <td>None</td>\n",
              "      <td>Jawa Barat</td>\n",
              "      <td>2014</td>\n",
              "      <td>Tanah Terbuka</td>\n",
              "      <td>MULTIPOLYGON (((852047.644 9143954.444, 852047...</td>\n",
              "    </tr>\n",
              "    <tr>\n",
              "      <th>1</th>\n",
              "      <td>468362</td>\n",
              "      <td>None</td>\n",
              "      <td>Jawa Barat</td>\n",
              "      <td>20091</td>\n",
              "      <td>Pertanian Lahan Kering</td>\n",
              "      <td>MULTIPOLYGON (((863898.863 9135512.521, 863970...</td>\n",
              "    </tr>\n",
              "    <tr>\n",
              "      <th>2</th>\n",
              "      <td>468363</td>\n",
              "      <td>None</td>\n",
              "      <td>Jawa Barat</td>\n",
              "      <td>2014</td>\n",
              "      <td>Tanah Terbuka</td>\n",
              "      <td>MULTIPOLYGON (((854177.515 9140810.434, 854149...</td>\n",
              "    </tr>\n",
              "    <tr>\n",
              "      <th>3</th>\n",
              "      <td>468364</td>\n",
              "      <td>None</td>\n",
              "      <td>Jawa Barat</td>\n",
              "      <td>20092</td>\n",
              "      <td>Pertanian Lahan Kering Campur</td>\n",
              "      <td>MULTIPOLYGON (((884452.532 9136562.191, 884426...</td>\n",
              "    </tr>\n",
              "    <tr>\n",
              "      <th>4</th>\n",
              "      <td>468365</td>\n",
              "      <td>None</td>\n",
              "      <td>Jawa Barat</td>\n",
              "      <td>2014</td>\n",
              "      <td>Tanah Terbuka</td>\n",
              "      <td>MULTIPOLYGON (((854426.404 9140863.911, 854454...</td>\n",
              "    </tr>\n",
              "  </tbody>\n",
              "</table>\n",
              "</div>"
            ],
            "text/plain": [
              "   OBJECTID_1  NAME    Provinsi  PL_19_R                        Legenda  \\\n",
              "0      468361  None  Jawa Barat     2014                  Tanah Terbuka   \n",
              "1      468362  None  Jawa Barat    20091         Pertanian Lahan Kering   \n",
              "2      468363  None  Jawa Barat     2014                  Tanah Terbuka   \n",
              "3      468364  None  Jawa Barat    20092  Pertanian Lahan Kering Campur   \n",
              "4      468365  None  Jawa Barat     2014                  Tanah Terbuka   \n",
              "\n",
              "                                            geometry  \n",
              "0  MULTIPOLYGON (((852047.644 9143954.444, 852047...  \n",
              "1  MULTIPOLYGON (((863898.863 9135512.521, 863970...  \n",
              "2  MULTIPOLYGON (((854177.515 9140810.434, 854149...  \n",
              "3  MULTIPOLYGON (((884452.532 9136562.191, 884426...  \n",
              "4  MULTIPOLYGON (((854426.404 9140863.911, 854454...  "
            ]
          },
          "execution_count": 516,
          "metadata": {},
          "output_type": "execute_result"
        }
      ],
      "source": [
        "#check land cover\n",
        "land_cover.head()"
      ]
    },
    {
      "cell_type": "code",
      "execution_count": 517,
      "metadata": {},
      "outputs": [],
      "source": [
        "# drop OBJECTID_1 and NAME, conver Provinsi into Province, drop PL_19_R\n",
        "# 1. Drop unnecessary columns\n",
        "land_cover = land_cover.drop(columns=['OBJECTID_1', 'NAME', 'PL_19_R'])\n",
        "\n",
        "# 2. Rename 'Provinsi' to 'Province'\n",
        "land_cover = land_cover.rename(columns={'Provinsi': 'Province'})\n"
      ]
    },
    {
      "cell_type": "code",
      "execution_count": 518,
      "metadata": {},
      "outputs": [
        {
          "name": "stderr",
          "output_type": "stream",
          "text": [
            "C:\\Users\\jessi\\AppData\\Local\\Temp\\ipykernel_3944\\1152055302.py:2: UserWarning: `keep_geom_type=True` in overlay resulted in 93 dropped geometries of different geometry types than df1 has. Set `keep_geom_type=False` to retain all geometries\n",
            "  land_cover_clipped_d = gpd.overlay(land_cover, districts, how='intersection')\n"
          ]
        }
      ],
      "source": [
        "#clip the landcover to only west java and jkt districts\n",
        "land_cover_clipped_d = gpd.overlay(land_cover, districts, how='intersection')"
      ]
    },
    {
      "cell_type": "code",
      "execution_count": 519,
      "metadata": {},
      "outputs": [
        {
          "data": {
            "text/plain": [
              "33"
            ]
          },
          "execution_count": 519,
          "metadata": {},
          "output_type": "execute_result"
        }
      ],
      "source": [
        "#check the land_cover_clipped_d districts\n",
        "land_cover_clipped_d[\"District\"].nunique()"
      ]
    },
    {
      "cell_type": "code",
      "execution_count": 520,
      "metadata": {},
      "outputs": [
        {
          "data": {
            "text/plain": [
              "33"
            ]
          },
          "execution_count": 520,
          "metadata": {},
          "output_type": "execute_result"
        }
      ],
      "source": [
        "districts[\"District\"].nunique()"
      ]
    },
    {
      "cell_type": "code",
      "execution_count": 521,
      "metadata": {},
      "outputs": [],
      "source": [
        "# 4. Calculate area of each polygon (in square meters)\n",
        "land_cover_clipped_d['area_m2'] = land_cover_clipped_d.geometry.area\n",
        "\n",
        "# 5. Group by district and land cover class\n",
        "land_stats_d = (\n",
        "    land_cover_clipped_d\n",
        "    .groupby(['District', 'Legenda'])['area_m2']\n",
        "    .sum()\n",
        "    .reset_index()\n",
        "    .pivot(index='District', columns='Legenda', values='area_m2')\n",
        "    .fillna(0)\n",
        ")\n",
        "\n",
        "# 6. Optional: normalize to get proportion of each land cover type\n",
        "land_stats_prop_d = land_stats_d.div(land_stats_d.sum(axis=1), axis=0)\n"
      ]
    },
    {
      "cell_type": "code",
      "execution_count": 522,
      "metadata": {},
      "outputs": [
        {
          "data": {
            "text/plain": [
              "array(['Tanah Terbuka', 'Pertanian Lahan Kering',\n",
              "       'Pertanian Lahan Kering Campur', 'Sawah', 'Tambak',\n",
              "       'Bandara / Pelabuhan', 'Pertambangan', 'Rawa',\n",
              "       'Hutan Lahan Kering Primer', 'Hutan Lahan Kering Sekunder',\n",
              "       'Hutan Tanaman', 'Belukar', 'Perkebunan', 'Pemukiman', 'Badan Air',\n",
              "       'Hutan Mangrove Sekunder', 'Belukar Rawa'], dtype=object)"
            ]
          },
          "execution_count": 522,
          "metadata": {},
          "output_type": "execute_result"
        }
      ],
      "source": [
        "# Unique land cover labels\n",
        "land_cover['Legenda'].unique()\n"
      ]
    },
    {
      "cell_type": "code",
      "execution_count": 523,
      "metadata": {},
      "outputs": [],
      "source": [
        "#create an urbanicity score to reflect a proportion of total area that consists of urban activities\n",
        "urban_classes = ['Pemukiman', 'Pertambangan', 'Bandara / Pelabuhan']\n",
        "\n",
        "# Sum only urban land classes\n",
        "urban_score_d = land_stats_prop_d[urban_classes].sum(axis=1)\n",
        "\n",
        "# Add to your DataFrame\n",
        "land_stats_prop_d['urbanicity'] = urban_score_d"
      ]
    },
    {
      "cell_type": "code",
      "execution_count": 524,
      "metadata": {},
      "outputs": [
        {
          "data": {
            "text/html": [
              "<div>\n",
              "<style scoped>\n",
              "    .dataframe tbody tr th:only-of-type {\n",
              "        vertical-align: middle;\n",
              "    }\n",
              "\n",
              "    .dataframe tbody tr th {\n",
              "        vertical-align: top;\n",
              "    }\n",
              "\n",
              "    .dataframe thead th {\n",
              "        text-align: right;\n",
              "    }\n",
              "</style>\n",
              "<table border=\"1\" class=\"dataframe\">\n",
              "  <thead>\n",
              "    <tr style=\"text-align: right;\">\n",
              "      <th>Legenda</th>\n",
              "      <th>Badan Air</th>\n",
              "      <th>Bandara / Pelabuhan</th>\n",
              "      <th>Belukar</th>\n",
              "      <th>Belukar Rawa</th>\n",
              "      <th>Hutan Lahan Kering Primer</th>\n",
              "      <th>Hutan Lahan Kering Sekunder</th>\n",
              "      <th>Hutan Mangrove Sekunder</th>\n",
              "      <th>Hutan Tanaman</th>\n",
              "      <th>Pemukiman</th>\n",
              "      <th>Perkebunan</th>\n",
              "      <th>Pertambangan</th>\n",
              "      <th>Pertanian Lahan Kering</th>\n",
              "      <th>Pertanian Lahan Kering Campur</th>\n",
              "      <th>Rawa</th>\n",
              "      <th>Sawah</th>\n",
              "      <th>Tambak</th>\n",
              "      <th>Tanah Terbuka</th>\n",
              "      <th>urbanicity</th>\n",
              "    </tr>\n",
              "    <tr>\n",
              "      <th>District</th>\n",
              "      <th></th>\n",
              "      <th></th>\n",
              "      <th></th>\n",
              "      <th></th>\n",
              "      <th></th>\n",
              "      <th></th>\n",
              "      <th></th>\n",
              "      <th></th>\n",
              "      <th></th>\n",
              "      <th></th>\n",
              "      <th></th>\n",
              "      <th></th>\n",
              "      <th></th>\n",
              "      <th></th>\n",
              "      <th></th>\n",
              "      <th></th>\n",
              "      <th></th>\n",
              "      <th></th>\n",
              "    </tr>\n",
              "  </thead>\n",
              "  <tbody>\n",
              "    <tr>\n",
              "      <th>BANDUNG</th>\n",
              "      <td>0.002413</td>\n",
              "      <td>0.000327</td>\n",
              "      <td>0.003419</td>\n",
              "      <td>0.0</td>\n",
              "      <td>0.005046</td>\n",
              "      <td>0.120460</td>\n",
              "      <td>0.0</td>\n",
              "      <td>0.110542</td>\n",
              "      <td>0.122775</td>\n",
              "      <td>1.612644e-01</td>\n",
              "      <td>0.000053</td>\n",
              "      <td>0.244423</td>\n",
              "      <td>0.034802</td>\n",
              "      <td>0.0</td>\n",
              "      <td>0.183393</td>\n",
              "      <td>0.000000</td>\n",
              "      <td>0.011083</td>\n",
              "      <td>0.123155</td>\n",
              "    </tr>\n",
              "    <tr>\n",
              "      <th>BANDUNG BARAT</th>\n",
              "      <td>0.031275</td>\n",
              "      <td>0.000000</td>\n",
              "      <td>0.000067</td>\n",
              "      <td>0.0</td>\n",
              "      <td>0.000000</td>\n",
              "      <td>0.036206</td>\n",
              "      <td>0.0</td>\n",
              "      <td>0.365934</td>\n",
              "      <td>0.078207</td>\n",
              "      <td>5.663888e-02</td>\n",
              "      <td>0.000794</td>\n",
              "      <td>0.181323</td>\n",
              "      <td>0.147721</td>\n",
              "      <td>0.0</td>\n",
              "      <td>0.092684</td>\n",
              "      <td>0.000000</td>\n",
              "      <td>0.009150</td>\n",
              "      <td>0.079001</td>\n",
              "    </tr>\n",
              "    <tr>\n",
              "      <th>BEKASI</th>\n",
              "      <td>0.006806</td>\n",
              "      <td>0.000000</td>\n",
              "      <td>0.000000</td>\n",
              "      <td>0.0</td>\n",
              "      <td>0.000000</td>\n",
              "      <td>0.000000</td>\n",
              "      <td>0.0</td>\n",
              "      <td>0.000000</td>\n",
              "      <td>0.288146</td>\n",
              "      <td>5.272687e-11</td>\n",
              "      <td>0.000000</td>\n",
              "      <td>0.036869</td>\n",
              "      <td>0.021319</td>\n",
              "      <td>0.0</td>\n",
              "      <td>0.541572</td>\n",
              "      <td>0.080928</td>\n",
              "      <td>0.024360</td>\n",
              "      <td>0.288146</td>\n",
              "    </tr>\n",
              "    <tr>\n",
              "      <th>BOGOR</th>\n",
              "      <td>0.003651</td>\n",
              "      <td>0.000184</td>\n",
              "      <td>0.000768</td>\n",
              "      <td>0.0</td>\n",
              "      <td>0.004294</td>\n",
              "      <td>0.116658</td>\n",
              "      <td>0.0</td>\n",
              "      <td>0.124915</td>\n",
              "      <td>0.161520</td>\n",
              "      <td>4.106269e-02</td>\n",
              "      <td>0.005509</td>\n",
              "      <td>0.173744</td>\n",
              "      <td>0.214167</td>\n",
              "      <td>0.0</td>\n",
              "      <td>0.149460</td>\n",
              "      <td>0.000000</td>\n",
              "      <td>0.004068</td>\n",
              "      <td>0.167212</td>\n",
              "    </tr>\n",
              "    <tr>\n",
              "      <th>CIAMIS</th>\n",
              "      <td>0.001940</td>\n",
              "      <td>0.000000</td>\n",
              "      <td>0.000507</td>\n",
              "      <td>0.0</td>\n",
              "      <td>0.004771</td>\n",
              "      <td>0.033939</td>\n",
              "      <td>0.0</td>\n",
              "      <td>0.072725</td>\n",
              "      <td>0.053804</td>\n",
              "      <td>1.970710e-02</td>\n",
              "      <td>0.000475</td>\n",
              "      <td>0.048580</td>\n",
              "      <td>0.586149</td>\n",
              "      <td>0.0</td>\n",
              "      <td>0.176931</td>\n",
              "      <td>0.000000</td>\n",
              "      <td>0.000472</td>\n",
              "      <td>0.054279</td>\n",
              "    </tr>\n",
              "  </tbody>\n",
              "</table>\n",
              "</div>"
            ],
            "text/plain": [
              "Legenda        Badan Air  Bandara / Pelabuhan   Belukar  Belukar Rawa  \\\n",
              "District                                                                \n",
              "BANDUNG         0.002413             0.000327  0.003419           0.0   \n",
              "BANDUNG BARAT   0.031275             0.000000  0.000067           0.0   \n",
              "BEKASI          0.006806             0.000000  0.000000           0.0   \n",
              "BOGOR           0.003651             0.000184  0.000768           0.0   \n",
              "CIAMIS          0.001940             0.000000  0.000507           0.0   \n",
              "\n",
              "Legenda        Hutan Lahan Kering Primer  Hutan Lahan Kering Sekunder  \\\n",
              "District                                                                \n",
              "BANDUNG                         0.005046                     0.120460   \n",
              "BANDUNG BARAT                   0.000000                     0.036206   \n",
              "BEKASI                          0.000000                     0.000000   \n",
              "BOGOR                           0.004294                     0.116658   \n",
              "CIAMIS                          0.004771                     0.033939   \n",
              "\n",
              "Legenda        Hutan Mangrove Sekunder  Hutan Tanaman  Pemukiman  \\\n",
              "District                                                           \n",
              "BANDUNG                            0.0       0.110542   0.122775   \n",
              "BANDUNG BARAT                      0.0       0.365934   0.078207   \n",
              "BEKASI                             0.0       0.000000   0.288146   \n",
              "BOGOR                              0.0       0.124915   0.161520   \n",
              "CIAMIS                             0.0       0.072725   0.053804   \n",
              "\n",
              "Legenda          Perkebunan  Pertambangan  Pertanian Lahan Kering  \\\n",
              "District                                                            \n",
              "BANDUNG        1.612644e-01      0.000053                0.244423   \n",
              "BANDUNG BARAT  5.663888e-02      0.000794                0.181323   \n",
              "BEKASI         5.272687e-11      0.000000                0.036869   \n",
              "BOGOR          4.106269e-02      0.005509                0.173744   \n",
              "CIAMIS         1.970710e-02      0.000475                0.048580   \n",
              "\n",
              "Legenda        Pertanian Lahan Kering Campur  Rawa     Sawah    Tambak  \\\n",
              "District                                                                 \n",
              "BANDUNG                             0.034802   0.0  0.183393  0.000000   \n",
              "BANDUNG BARAT                       0.147721   0.0  0.092684  0.000000   \n",
              "BEKASI                              0.021319   0.0  0.541572  0.080928   \n",
              "BOGOR                               0.214167   0.0  0.149460  0.000000   \n",
              "CIAMIS                              0.586149   0.0  0.176931  0.000000   \n",
              "\n",
              "Legenda        Tanah Terbuka  urbanicity  \n",
              "District                                  \n",
              "BANDUNG             0.011083    0.123155  \n",
              "BANDUNG BARAT       0.009150    0.079001  \n",
              "BEKASI              0.024360    0.288146  \n",
              "BOGOR               0.004068    0.167212  \n",
              "CIAMIS              0.000472    0.054279  "
            ]
          },
          "execution_count": 524,
          "metadata": {},
          "output_type": "execute_result"
        }
      ],
      "source": [
        "land_stats_prop_d.head()"
      ]
    },
    {
      "cell_type": "code",
      "execution_count": 525,
      "metadata": {},
      "outputs": [
        {
          "data": {
            "text/plain": [
              "33"
            ]
          },
          "execution_count": 525,
          "metadata": {},
          "output_type": "execute_result"
        }
      ],
      "source": [
        "#convert District from index to column\n",
        "land_stats_prop_d = land_stats_prop_d.reset_index()\n",
        "land_stats_prop_d[\"District\"].nunique()"
      ]
    },
    {
      "cell_type": "code",
      "execution_count": 526,
      "metadata": {},
      "outputs": [],
      "source": [
        "# append District and urbanicity scores to the high-res data\n",
        "df_dist = df_dist.merge(land_stats_prop_d[[\"District\", \"urbanicity\"]], how = 'left', on = \"District\")\n",
        "df_dist_sim = df_dist_sim.merge(land_stats_prop_d[[\"District\", \"urbanicity\"]], how = 'left', on = \"District\")"
      ]
    },
    {
      "cell_type": "code",
      "execution_count": 527,
      "metadata": {},
      "outputs": [
        {
          "data": {
            "text/html": [
              "<div>\n",
              "<style scoped>\n",
              "    .dataframe tbody tr th:only-of-type {\n",
              "        vertical-align: middle;\n",
              "    }\n",
              "\n",
              "    .dataframe tbody tr th {\n",
              "        vertical-align: top;\n",
              "    }\n",
              "\n",
              "    .dataframe thead th {\n",
              "        text-align: right;\n",
              "    }\n",
              "</style>\n",
              "<table border=\"1\" class=\"dataframe\">\n",
              "  <thead>\n",
              "    <tr style=\"text-align: right;\">\n",
              "      <th></th>\n",
              "      <th>District</th>\n",
              "      <th>Year</th>\n",
              "      <th>Area_sq_km</th>\n",
              "      <th>HDI</th>\n",
              "      <th>Province</th>\n",
              "      <th>Cases</th>\n",
              "      <th>Population</th>\n",
              "      <th>Pop_den</th>\n",
              "      <th>geometry</th>\n",
              "      <th>urbanicity</th>\n",
              "    </tr>\n",
              "  </thead>\n",
              "  <tbody>\n",
              "    <tr>\n",
              "      <th>0</th>\n",
              "      <td>BANDUNG</td>\n",
              "      <td>2020</td>\n",
              "      <td>1767.96</td>\n",
              "      <td>0.7239</td>\n",
              "      <td>Jawa Barat</td>\n",
              "      <td>2295</td>\n",
              "      <td>3623790</td>\n",
              "      <td>2049.701351</td>\n",
              "      <td>POLYGON ((107.73309 -6.814, 107.73354 -6.81427...</td>\n",
              "      <td>0.123155</td>\n",
              "    </tr>\n",
              "    <tr>\n",
              "      <th>1</th>\n",
              "      <td>BANDUNG</td>\n",
              "      <td>2021</td>\n",
              "      <td>1767.96</td>\n",
              "      <td>0.7273</td>\n",
              "      <td>Jawa Barat</td>\n",
              "      <td>2002</td>\n",
              "      <td>3665655</td>\n",
              "      <td>2073.381185</td>\n",
              "      <td>POLYGON ((107.73309 -6.814, 107.73354 -6.81427...</td>\n",
              "      <td>0.123155</td>\n",
              "    </tr>\n",
              "    <tr>\n",
              "      <th>2</th>\n",
              "      <td>BANDUNG</td>\n",
              "      <td>2022</td>\n",
              "      <td>1767.96</td>\n",
              "      <td>0.7316</td>\n",
              "      <td>Jawa Barat</td>\n",
              "      <td>4191</td>\n",
              "      <td>3707523</td>\n",
              "      <td>2097.062716</td>\n",
              "      <td>POLYGON ((107.73309 -6.814, 107.73354 -6.81427...</td>\n",
              "      <td>0.123155</td>\n",
              "    </tr>\n",
              "    <tr>\n",
              "      <th>3</th>\n",
              "      <td>BANDUNG</td>\n",
              "      <td>2023</td>\n",
              "      <td>1767.96</td>\n",
              "      <td>0.7374</td>\n",
              "      <td>Jawa Barat</td>\n",
              "      <td>1005</td>\n",
              "      <td>3749391</td>\n",
              "      <td>2120.744248</td>\n",
              "      <td>POLYGON ((107.73309 -6.814, 107.73354 -6.81427...</td>\n",
              "      <td>0.123155</td>\n",
              "    </tr>\n",
              "    <tr>\n",
              "      <th>4</th>\n",
              "      <td>BANDUNG BARAT</td>\n",
              "      <td>2020</td>\n",
              "      <td>1305.77</td>\n",
              "      <td>0.6808</td>\n",
              "      <td>Jawa Barat</td>\n",
              "      <td>966</td>\n",
              "      <td>1788336</td>\n",
              "      <td>1369.564318</td>\n",
              "      <td>POLYGON ((107.40945 -6.68851, 107.40986 -6.688...</td>\n",
              "      <td>0.079001</td>\n",
              "    </tr>\n",
              "  </tbody>\n",
              "</table>\n",
              "</div>"
            ],
            "text/plain": [
              "        District  Year  Area_sq_km     HDI    Province  Cases  Population  \\\n",
              "0        BANDUNG  2020     1767.96  0.7239  Jawa Barat   2295     3623790   \n",
              "1        BANDUNG  2021     1767.96  0.7273  Jawa Barat   2002     3665655   \n",
              "2        BANDUNG  2022     1767.96  0.7316  Jawa Barat   4191     3707523   \n",
              "3        BANDUNG  2023     1767.96  0.7374  Jawa Barat   1005     3749391   \n",
              "4  BANDUNG BARAT  2020     1305.77  0.6808  Jawa Barat    966     1788336   \n",
              "\n",
              "       Pop_den                                           geometry  urbanicity  \n",
              "0  2049.701351  POLYGON ((107.73309 -6.814, 107.73354 -6.81427...    0.123155  \n",
              "1  2073.381185  POLYGON ((107.73309 -6.814, 107.73354 -6.81427...    0.123155  \n",
              "2  2097.062716  POLYGON ((107.73309 -6.814, 107.73354 -6.81427...    0.123155  \n",
              "3  2120.744248  POLYGON ((107.73309 -6.814, 107.73354 -6.81427...    0.123155  \n",
              "4  1369.564318  POLYGON ((107.40945 -6.68851, 107.40986 -6.688...    0.079001  "
            ]
          },
          "execution_count": 527,
          "metadata": {},
          "output_type": "execute_result"
        }
      ],
      "source": [
        "df_dist.head()"
      ]
    },
    {
      "cell_type": "code",
      "execution_count": 528,
      "metadata": {},
      "outputs": [
        {
          "data": {
            "text/plain": [
              "33"
            ]
          },
          "execution_count": 528,
          "metadata": {},
          "output_type": "execute_result"
        }
      ],
      "source": [
        "df_dist[\"District\"].nunique()"
      ]
    },
    {
      "cell_type": "code",
      "execution_count": 529,
      "metadata": {},
      "outputs": [
        {
          "data": {
            "text/plain": [
              "32"
            ]
          },
          "execution_count": 529,
          "metadata": {},
          "output_type": "execute_result"
        }
      ],
      "source": [
        "df_dist_sim[\"District\"].nunique()"
      ]
    },
    {
      "cell_type": "code",
      "execution_count": 530,
      "metadata": {},
      "outputs": [
        {
          "name": "stderr",
          "output_type": "stream",
          "text": [
            "C:\\Users\\jessi\\AppData\\Local\\Temp\\ipykernel_3944\\1670720086.py:5: DeprecationWarning: DataFrameGroupBy.apply operated on the grouping columns. This behavior is deprecated, and in a future version of pandas the grouping columns will be excluded from the operation. Either pass `include_groups=False` to exclude the groupings or explicitly select the grouping columns after groupby to silence this warning.\n",
            "  .apply(lambda x: (x['urbanicity'] * x['Area_sq_km']).sum() / x['Area_sq_km'].sum())\n"
          ]
        }
      ],
      "source": [
        "# Compute weighted sum of urbanicity per province\n",
        "province_urbanicity = (\n",
        "    df_dist\n",
        "    .groupby('Province')\n",
        "    .apply(lambda x: (x['urbanicity'] * x['Area_sq_km']).sum() / x['Area_sq_km'].sum())\n",
        "    .reset_index(name='urbanicity')\n",
        ")"
      ]
    },
    {
      "cell_type": "code",
      "execution_count": 531,
      "metadata": {},
      "outputs": [
        {
          "name": "stderr",
          "output_type": "stream",
          "text": [
            "C:\\Users\\jessi\\AppData\\Local\\Temp\\ipykernel_3944\\3734788018.py:5: DeprecationWarning: DataFrameGroupBy.apply operated on the grouping columns. This behavior is deprecated, and in a future version of pandas the grouping columns will be excluded from the operation. Either pass `include_groups=False` to exclude the groupings or explicitly select the grouping columns after groupby to silence this warning.\n",
            "  .apply(lambda x: (x['urbanicity'] * x['Area_sq_km']).sum() / x['Area_sq_km'].sum())\n"
          ]
        }
      ],
      "source": [
        "# Compute weighted sum of urbanicity per province excl. kep seribu\n",
        "province_urbanicity_sim = (\n",
        "    df_dist_sim\n",
        "    .groupby('Province')\n",
        "    .apply(lambda x: (x['urbanicity'] * x['Area_sq_km']).sum() / x['Area_sq_km'].sum())\n",
        "    .reset_index(name='urbanicity')\n",
        ")"
      ]
    },
    {
      "cell_type": "code",
      "execution_count": 532,
      "metadata": {},
      "outputs": [
        {
          "data": {
            "text/html": [
              "<div>\n",
              "<style scoped>\n",
              "    .dataframe tbody tr th:only-of-type {\n",
              "        vertical-align: middle;\n",
              "    }\n",
              "\n",
              "    .dataframe tbody tr th {\n",
              "        vertical-align: top;\n",
              "    }\n",
              "\n",
              "    .dataframe thead th {\n",
              "        text-align: right;\n",
              "    }\n",
              "</style>\n",
              "<table border=\"1\" class=\"dataframe\">\n",
              "  <thead>\n",
              "    <tr style=\"text-align: right;\">\n",
              "      <th></th>\n",
              "      <th>Province</th>\n",
              "      <th>urbanicity</th>\n",
              "    </tr>\n",
              "  </thead>\n",
              "  <tbody>\n",
              "    <tr>\n",
              "      <th>0</th>\n",
              "      <td>DKI Jakarta</td>\n",
              "      <td>0.918091</td>\n",
              "    </tr>\n",
              "    <tr>\n",
              "      <th>1</th>\n",
              "      <td>Jawa Barat</td>\n",
              "      <td>0.095642</td>\n",
              "    </tr>\n",
              "  </tbody>\n",
              "</table>\n",
              "</div>"
            ],
            "text/plain": [
              "      Province  urbanicity\n",
              "0  DKI Jakarta    0.918091\n",
              "1   Jawa Barat    0.095642"
            ]
          },
          "execution_count": 532,
          "metadata": {},
          "output_type": "execute_result"
        }
      ],
      "source": [
        "province_urbanicity.head()"
      ]
    },
    {
      "cell_type": "code",
      "execution_count": 533,
      "metadata": {},
      "outputs": [
        {
          "data": {
            "text/html": [
              "<div>\n",
              "<style scoped>\n",
              "    .dataframe tbody tr th:only-of-type {\n",
              "        vertical-align: middle;\n",
              "    }\n",
              "\n",
              "    .dataframe tbody tr th {\n",
              "        vertical-align: top;\n",
              "    }\n",
              "\n",
              "    .dataframe thead th {\n",
              "        text-align: right;\n",
              "    }\n",
              "</style>\n",
              "<table border=\"1\" class=\"dataframe\">\n",
              "  <thead>\n",
              "    <tr style=\"text-align: right;\">\n",
              "      <th></th>\n",
              "      <th>Province</th>\n",
              "      <th>urbanicity</th>\n",
              "    </tr>\n",
              "  </thead>\n",
              "  <tbody>\n",
              "    <tr>\n",
              "      <th>0</th>\n",
              "      <td>DKI Jakarta</td>\n",
              "      <td>0.931345</td>\n",
              "    </tr>\n",
              "    <tr>\n",
              "      <th>1</th>\n",
              "      <td>Jawa Barat</td>\n",
              "      <td>0.095642</td>\n",
              "    </tr>\n",
              "  </tbody>\n",
              "</table>\n",
              "</div>"
            ],
            "text/plain": [
              "      Province  urbanicity\n",
              "0  DKI Jakarta    0.931345\n",
              "1   Jawa Barat    0.095642"
            ]
          },
          "execution_count": 533,
          "metadata": {},
          "output_type": "execute_result"
        }
      ],
      "source": [
        "province_urbanicity_sim.head()"
      ]
    },
    {
      "cell_type": "code",
      "execution_count": 534,
      "metadata": {},
      "outputs": [],
      "source": [
        "#combine df_prov with land_stats_prov by Province\n",
        "df_prov = df_prov.merge(province_urbanicity, on = \"Province\", how = 'left')\n",
        "df_prov_sim = df_prov_sim.merge(province_urbanicity_sim, on = \"Province\", how = 'left')"
      ]
    },
    {
      "cell_type": "markdown",
      "metadata": {},
      "source": [
        "### Variable transformation for full dataset (population density, HDI, urbanicity) to make sure that their distribution follows a gaussian process (for VAE to learn meaningful latent structures effectively)"
      ]
    },
    {
      "cell_type": "code",
      "execution_count": 535,
      "metadata": {},
      "outputs": [
        {
          "data": {
            "image/png": "[encoded data removed]",
            "text/plain": [
              "<Figure size 1800x1000 with 6 Axes>"
            ]
          },
          "metadata": {},
          "output_type": "display_data"
        },
        {
          "name": "stdout",
          "output_type": "stream",
          "text": [
            "              HDI  hdi_standardised       Pop_den  popden_standardised  \\\n",
            "count  132.000000      1.320000e+02    132.000000         1.320000e+02   \n",
            "mean     0.739242     -3.229740e-16   3398.420650        -1.076580e-16   \n",
            "std      0.056739      1.003810e+00   4238.230102         1.003810e+00   \n",
            "min      0.653600     -1.515158e+00    276.794035        -7.393460e-01   \n",
            "25%      0.692200     -8.322593e-01    873.726948        -5.979646e-01   \n",
            "50%      0.723700     -2.749715e-01   1393.145298        -4.749422e-01   \n",
            "75%      0.789425      8.878138e-01   2625.275741        -1.831166e-01   \n",
            "max      0.860700      2.148788e+00  14649.096002         2.664682e+00   \n",
            "\n",
            "       urbanicity  urbanicity_standardised  \n",
            "count  132.000000             1.320000e+02  \n",
            "mean     0.364905            -2.691450e-17  \n",
            "std      0.364832             1.003810e+00  \n",
            "min      0.018248            -9.538029e-01  \n",
            "25%      0.076849            -7.925655e-01  \n",
            "50%      0.161447            -5.598018e-01  \n",
            "75%      0.771729             1.119350e+00  \n",
            "max      0.993514             1.729574e+00  \n",
            "\n",
            "HDI:\n",
            "  Skewness: 0.4844363417065308\n",
            "  Kurtosis: -1.0256693616916228\n",
            "\n",
            "hdi_standardised:\n",
            "  Skewness: 0.4844363417065317\n",
            "  Kurtosis: -1.0256693616916222\n",
            "\n",
            "Pop_den:\n",
            "  Skewness: 1.6107208404763889\n",
            "  Kurtosis: 1.152625244433537\n",
            "\n",
            "popden_standardised:\n",
            "  Skewness: 1.6107208404763895\n",
            "  Kurtosis: 1.1526252444335379\n",
            "\n",
            "urbanicity:\n",
            "  Skewness: 0.6499210444151869\n",
            "  Kurtosis: -1.349975701776478\n",
            "\n",
            "urbanicity_standardised:\n",
            "  Skewness: 0.6499210444151867\n",
            "  Kurtosis: -1.3499757017764786\n",
            "Shapiro-Wilk test for HDI: Stat=0.9231, p-value=0.0000\n",
            "Shapiro-Wilk test for hdi_standardised: Stat=0.9231, p-value=0.0000\n",
            "Shapiro-Wilk test for Pop_den: Stat=0.6691, p-value=0.0000\n",
            "Shapiro-Wilk test for popden_standardised: Stat=0.6691, p-value=0.0000\n",
            "Shapiro-Wilk test for urbanicity: Stat=0.7788, p-value=0.0000\n",
            "Shapiro-Wilk test for urbanicity_standardised: Stat=0.7788, p-value=0.0000\n"
          ]
        }
      ],
      "source": [
        "import pandas as pd\n",
        "import matplotlib.pyplot as plt\n",
        "import seaborn as sns\n",
        "from scipy.stats import shapiro, skew, kurtosis\n",
        "from sklearn.preprocessing import StandardScaler\n",
        "\n",
        "# --- Standardisation ---\n",
        "scaler = StandardScaler()\n",
        "df_dist['hdi_standardised'] = scaler.fit_transform(df_dist[['HDI']])\n",
        "df_dist['urbanicity_standardised'] = scaler.fit_transform(df_dist[['urbanicity']])\n",
        "df_dist['popden_standardised'] = scaler.fit_transform(df_dist[['Pop_den']])\n",
        "\n",
        "# --- Visualization ---\n",
        "plt.figure(figsize=(18, 10))\n",
        "\n",
        "# Original HDI\n",
        "plt.subplot(2, 4, 1)\n",
        "sns.histplot(df_dist['HDI'], kde=True, bins=30, color='skyblue')\n",
        "plt.title('HDI')\n",
        "\n",
        "# Standardised HDI\n",
        "plt.subplot(2, 4, 2)\n",
        "sns.histplot(df_dist['hdi_standardised'], kde=True, bins=30, color='deepskyblue')\n",
        "plt.title('HDI Standardised')\n",
        "\n",
        "# Original Population Density\n",
        "plt.subplot(2, 4, 3)\n",
        "sns.histplot(df_dist['Pop_den'], kde=True, bins=30, color='lightgreen')\n",
        "plt.title('Population Density')\n",
        "\n",
        "# Standardised Population Density\n",
        "plt.subplot(2, 4, 4)\n",
        "sns.histplot(df_dist['popden_standardised'], kde=True, bins=30, color='green')\n",
        "plt.title('Population Density Standardised')\n",
        "\n",
        "# Original Urbanicity\n",
        "plt.subplot(2, 4, 5)\n",
        "sns.histplot(df_dist['urbanicity'], kde=True, bins=30, color='orange')\n",
        "plt.title('Urbanicity')\n",
        "\n",
        "# Standardised Urbanicity\n",
        "plt.subplot(2, 4, 6)\n",
        "sns.histplot(df_dist['urbanicity_standardised'], kde=True, bins=30, color='darkorange')\n",
        "plt.title('Urbanicity Standardised')\n",
        "\n",
        "plt.tight_layout()\n",
        "plt.show()\n",
        "\n",
        "# --- Summary Statistics ---\n",
        "print(df_dist[['HDI', 'hdi_standardised',\n",
        "               'Pop_den', 'popden_standardised', \n",
        "               'urbanicity', 'urbanicity_standardised']].describe())\n",
        "\n",
        "# --- Skewness and Kurtosis ---\n",
        "for col in ['HDI', 'hdi_standardised', \n",
        "            'Pop_den', 'popden_standardised', \n",
        "            'urbanicity', 'urbanicity_standardised']:\n",
        "    print(f\"\\n{col}:\")\n",
        "    print(f\"  Skewness: {skew(df_dist[col])}\")\n",
        "    print(f\"  Kurtosis: {kurtosis(df_dist[col])}\")\n",
        "\n",
        "# --- Normality Tests (Shapiro-Wilk) ---\n",
        "for col in ['HDI', 'hdi_standardised', \n",
        "            'Pop_den', 'popden_standardised', \n",
        "            'urbanicity', 'urbanicity_standardised']:\n",
        "    stat, p_value = shapiro(df_dist[col])\n",
        "    print(f\"Shapiro-Wilk test for {col}: Stat={stat:.4f}, p-value={p_value:.4f}\")"
      ]
    },
    {
      "cell_type": "code",
      "execution_count": 536,
      "metadata": {},
      "outputs": [
        {
          "name": "stderr",
          "output_type": "stream",
          "text": [
            "C:\\Users\\jessi\\AppData\\Roaming\\Python\\Python313\\site-packages\\sklearn\\preprocessing\\_data.py:2829: UserWarning: n_quantiles (1000) is greater than the total number of samples (132). n_quantiles is set to n_samples.\n",
            "  warnings.warn(\n",
            "C:\\Users\\jessi\\AppData\\Roaming\\Python\\Python313\\site-packages\\sklearn\\preprocessing\\_data.py:2829: UserWarning: n_quantiles (1000) is greater than the total number of samples (132). n_quantiles is set to n_samples.\n",
            "  warnings.warn(\n",
            "C:\\Users\\jessi\\AppData\\Roaming\\Python\\Python313\\site-packages\\sklearn\\preprocessing\\_data.py:2829: UserWarning: n_quantiles (1000) is greater than the total number of samples (132). n_quantiles is set to n_samples.\n",
            "  warnings.warn(\n"
          ]
        },
        {
          "data": {
            "image/png": "[encoded data removed]",
            "text/plain": [
              "<Figure size 1500x600 with 3 Axes>"
            ]
          },
          "metadata": {},
          "output_type": "display_data"
        }
      ],
      "source": [
        "import pandas as pd\n",
        "import numpy as np\n",
        "import matplotlib.pyplot as plt\n",
        "import seaborn as sns\n",
        "from sklearn.preprocessing import QuantileTransformer\n",
        "\n",
        "# Initialize quantile transformer\n",
        "qt = QuantileTransformer(output_distribution='normal', random_state=0)\n",
        "\n",
        "# Apply to each column\n",
        "df_dist['hdi_qt'] = qt.fit_transform(df_dist[['HDI']])\n",
        "df_dist['popden_qt'] = qt.fit_transform(df_dist[['Pop_den']])\n",
        "df_dist['urban_qt'] = qt.fit_transform(df_dist[['urbanicity']])\n",
        "\n",
        "# Plot the transformed distributions\n",
        "plt.figure(figsize=(15, 6))\n",
        "\n",
        "plt.subplot(1, 3, 1)\n",
        "sns.histplot(df_dist['hdi_qt'], kde=True, bins=30, color='deepskyblue')\n",
        "plt.title('HDI Quantile Transformed')\n",
        "\n",
        "plt.subplot(1, 3, 2)\n",
        "sns.histplot(df_dist['popden_qt'], kde=True, bins=30, color='mediumseagreen')\n",
        "plt.title('Pop_den Quantile Transformed')\n",
        "\n",
        "plt.subplot(1, 3, 3)\n",
        "sns.histplot(df_dist['urban_qt'], kde=True, bins=30, color='darkorange')\n",
        "plt.title('Urbanicity Quantile Transformed')\n",
        "\n",
        "plt.tight_layout()\n",
        "plt.show()\n"
      ]
    },
    {
      "cell_type": "code",
      "execution_count": 537,
      "metadata": {},
      "outputs": [
        {
          "data": {
            "image/png": "[encoded data removed]",
            "text/plain": [
              "<Figure size 1800x1000 with 6 Axes>"
            ]
          },
          "metadata": {},
          "output_type": "display_data"
        },
        {
          "name": "stdout",
          "output_type": "stream",
          "text": [
            "            HDI  hdi_standardised      Pop_den  popden_standardised  \\\n",
            "count  8.000000      8.000000e+00     8.000000         8.000000e+00   \n",
            "mean   0.766597      6.106227e-16  1294.732814         1.554312e-15   \n",
            "std    0.046360      1.069045e+00    98.317879         1.069045e+00   \n",
            "min    0.716430     -1.156851e+00  1196.349360        -1.069758e+00   \n",
            "25%    0.724449     -9.719250e-01  1203.837382        -9.883381e-01   \n",
            "50%    0.767964      3.151497e-02  1287.731606        -7.612660e-02   \n",
            "75%    0.807617      9.458974e-01  1382.366266         9.528694e-01   \n",
            "max    0.817083      1.164196e+00  1407.331555         1.224326e+00   \n",
            "\n",
            "       urbanicity  urbanicity_standardised  \n",
            "count    8.000000             8.000000e+00  \n",
            "mean     0.506866             5.551115e-17  \n",
            "std      0.439618             1.069045e+00  \n",
            "min      0.095642            -1.000000e+00  \n",
            "25%      0.095642            -1.000000e+00  \n",
            "50%      0.506866             0.000000e+00  \n",
            "75%      0.918091             1.000000e+00  \n",
            "max      0.918091             1.000000e+00  \n",
            "\n",
            "HDI:\n",
            "  Skewness: -0.00847556279470642\n",
            "  Kurtosis: -1.9319567803899451\n",
            "\n",
            "hdi_standardised:\n",
            "  Skewness: -0.008475562794708406\n",
            "  Kurtosis: -1.931956780389945\n",
            "\n",
            "Pop_den:\n",
            "  Skewness: 0.04000969284230042\n",
            "  Kurtosis: -1.9341331854207384\n",
            "\n",
            "popden_standardised:\n",
            "  Skewness: 0.04000969284229559\n",
            "  Kurtosis: -1.9341331854207389\n",
            "\n",
            "urbanicity:\n",
            "  Skewness: 2.9934656021327915e-16\n",
            "  Kurtosis: -2.0\n",
            "\n",
            "urbanicity_standardised:\n",
            "  Skewness: 0.0\n",
            "  Kurtosis: -2.0\n",
            "Shapiro-Wilk test for HDI: Stat=0.7763, p-value=0.0159\n",
            "Shapiro-Wilk test for hdi_standardised: Stat=0.7763, p-value=0.0159\n",
            "Shapiro-Wilk test for Pop_den: Stat=0.7625, p-value=0.0112\n",
            "Shapiro-Wilk test for popden_standardised: Stat=0.7625, p-value=0.0112\n",
            "Shapiro-Wilk test for urbanicity: Stat=0.6647, p-value=0.0009\n",
            "Shapiro-Wilk test for urbanicity_standardised: Stat=0.6647, p-value=0.0009\n"
          ]
        }
      ],
      "source": [
        "# now check the dist for province level\n",
        "# --- Standardisation ---\n",
        "scaler = StandardScaler()\n",
        "df_prov['hdi_standardised'] = scaler.fit_transform(df_prov[['HDI']])\n",
        "df_prov['urbanicity_standardised'] = scaler.fit_transform(df_prov[['urbanicity']])\n",
        "df_prov['popden_standardised'] = scaler.fit_transform(df_prov[['Pop_den']])\n",
        "\n",
        "# --- Visualization ---\n",
        "plt.figure(figsize=(18, 10))\n",
        "\n",
        "# Original HDI\n",
        "plt.subplot(2, 4, 1)\n",
        "sns.histplot(df_prov['HDI'], kde=True, bins=30, color='skyblue')\n",
        "plt.title('HDI')\n",
        "\n",
        "# Standardised HDI\n",
        "plt.subplot(2, 4, 2)\n",
        "sns.histplot(df_prov['hdi_standardised'], kde=True, bins=30, color='deepskyblue')\n",
        "plt.title('HDI Standardised')\n",
        "\n",
        "# Original Population Density\n",
        "plt.subplot(2, 4, 3)\n",
        "sns.histplot(df_prov['Pop_den'], kde=True, bins=30, color='lightgreen')\n",
        "plt.title('Population Density')\n",
        "\n",
        "# Standardised Population Density\n",
        "plt.subplot(2, 4, 4)\n",
        "sns.histplot(df_prov['popden_standardised'], kde=True, bins=30, color='green')\n",
        "plt.title('Population Density Standardised')\n",
        "\n",
        "# Original Urbanicity\n",
        "plt.subplot(2, 4, 5)\n",
        "sns.histplot(df_prov['urbanicity'], kde=True, bins=30, color='orange')\n",
        "plt.title('Urbanicity')\n",
        "\n",
        "# Standardised Urbanicity\n",
        "plt.subplot(2, 4, 6)\n",
        "sns.histplot(df_prov['urbanicity_standardised'], kde=True, bins=30, color='darkorange')\n",
        "plt.title('Urbanicity Standardised')\n",
        "\n",
        "plt.tight_layout()\n",
        "plt.show()\n",
        "\n",
        "# --- Summary Statistics ---\n",
        "print(df_prov[['HDI', 'hdi_standardised',\n",
        "               'Pop_den', 'popden_standardised', \n",
        "               'urbanicity', 'urbanicity_standardised']].describe())\n",
        "\n",
        "# --- Skewness and Kurtosis ---\n",
        "for col in ['HDI', 'hdi_standardised', \n",
        "            'Pop_den', 'popden_standardised', \n",
        "            'urbanicity', 'urbanicity_standardised']:\n",
        "    print(f\"\\n{col}:\")\n",
        "    print(f\"  Skewness: {skew(df_prov[col])}\")\n",
        "    print(f\"  Kurtosis: {kurtosis(df_prov[col])}\")\n",
        "\n",
        "# --- Normality Tests (Shapiro-Wilk) ---\n",
        "for col in ['HDI', 'hdi_standardised', \n",
        "            'Pop_den', 'popden_standardised', \n",
        "            'urbanicity', 'urbanicity_standardised']:\n",
        "    stat, p_value = shapiro(df_prov[col])\n",
        "    print(f\"Shapiro-Wilk test for {col}: Stat={stat:.4f}, p-value={p_value:.4f}\")"
      ]
    },
    {
      "cell_type": "code",
      "execution_count": 538,
      "metadata": {},
      "outputs": [
        {
          "name": "stderr",
          "output_type": "stream",
          "text": [
            "C:\\Users\\jessi\\AppData\\Roaming\\Python\\Python313\\site-packages\\sklearn\\preprocessing\\_data.py:2829: UserWarning: n_quantiles (1000) is greater than the total number of samples (8). n_quantiles is set to n_samples.\n",
            "  warnings.warn(\n",
            "C:\\Users\\jessi\\AppData\\Roaming\\Python\\Python313\\site-packages\\sklearn\\preprocessing\\_data.py:2829: UserWarning: n_quantiles (1000) is greater than the total number of samples (8). n_quantiles is set to n_samples.\n",
            "  warnings.warn(\n",
            "C:\\Users\\jessi\\AppData\\Roaming\\Python\\Python313\\site-packages\\sklearn\\preprocessing\\_data.py:2829: UserWarning: n_quantiles (1000) is greater than the total number of samples (8). n_quantiles is set to n_samples.\n",
            "  warnings.warn(\n"
          ]
        }
      ],
      "source": [
        "# Apply to each column for province too\n",
        "df_prov['hdi_qt'] = qt.fit_transform(df_prov[['HDI']])\n",
        "df_prov['popden_qt'] = qt.fit_transform(df_prov[['Pop_den']])\n",
        "df_prov['urban_qt'] = qt.fit_transform(df_prov[['urbanicity']])"
      ]
    },
    {
      "cell_type": "code",
      "execution_count": 539,
      "metadata": {},
      "outputs": [],
      "source": [
        "# Drop specified columns from both dataframes\n",
        "df_dist = df_dist.drop([\"popden_standardised\", \"hdi_standardised\", \"urbanicity_standardised\"], axis=1)\n",
        "df_prov = df_prov.drop([\"popden_standardised\", \"hdi_standardised\", \"urbanicity_standardised\"], axis=1)\n"
      ]
    },
    {
      "cell_type": "code",
      "execution_count": 540,
      "metadata": {},
      "outputs": [
        {
          "name": "stdout",
          "output_type": "stream",
          "text": [
            "Index(['District', 'Year', 'Area_sq_km', 'HDI', 'Province', 'Cases',\n",
            "       'Population', 'Pop_den', 'geometry', 'urbanicity', 'hdi_qt',\n",
            "       'popden_qt', 'urban_qt'],\n",
            "      dtype='object')\n",
            "Index(['Province', 'Year', 'Cases', 'Population', 'HDI', 'Area_sq_km',\n",
            "       'Pop_den', 'geometry', 'urbanicity', 'hdi_qt', 'popden_qt', 'urban_qt'],\n",
            "      dtype='object')\n"
          ]
        }
      ],
      "source": [
        "# Check the column names in both dataframes\n",
        "print(df_dist.columns)\n",
        "print(df_prov.columns)"
      ]
    },
    {
      "cell_type": "markdown",
      "metadata": {},
      "source": [
        "# Variable transformation for dataset excluding kep seribu"
      ]
    },
    {
      "cell_type": "code",
      "execution_count": 541,
      "metadata": {},
      "outputs": [
        {
          "data": {
            "image/png": "[encoded data removed]",
            "text/plain": [
              "<Figure size 1500x1000 with 5 Axes>"
            ]
          },
          "metadata": {},
          "output_type": "display_data"
        },
        {
          "name": "stdout",
          "output_type": "stream",
          "text": [
            "              HDI  hdi_standardised  popden_standardised  urbanicity  \\\n",
            "count  128.000000      1.280000e+02         1.280000e+02  128.000000   \n",
            "mean     0.739695     -1.193490e-15         8.326673e-17    0.373451   \n",
            "std      0.057554      1.003929e+00         1.003929e+00    0.367240   \n",
            "min      0.653600     -1.501758e+00        -7.236935e-01    0.018248   \n",
            "25%      0.691300     -8.441521e-01        -6.114689e-01    0.076458   \n",
            "50%      0.723700     -2.789947e-01        -4.916236e-01    0.164329   \n",
            "75%      0.796675      9.939177e-01        -1.088352e-01    0.789559   \n",
            "max      0.860700      2.110714e+00         2.623722e+00    0.993514   \n",
            "\n",
            "       urbanicity_standardised  \n",
            "count             1.280000e+02  \n",
            "mean              1.526557e-16  \n",
            "std               1.003929e+00  \n",
            "min              -9.710250e-01  \n",
            "25%              -8.118939e-01  \n",
            "50%              -5.716795e-01  \n",
            "75%               1.137521e+00  \n",
            "max               1.695074e+00  \n",
            "\n",
            "HDI:\n",
            "  Skewness: 0.4559745093720877\n",
            "  Kurtosis: -1.0910470083907509\n",
            "\n",
            "hdi_standardised:\n",
            "  Skewness: 0.4559745093720913\n",
            "  Kurtosis: -1.0910470083907484\n",
            "\n",
            "popden_standardised:\n",
            "  Skewness: 1.5711037484065729\n",
            "  Kurtosis: 1.0113692053830734\n",
            "\n",
            "urbanicity:\n",
            "  Skewness: 0.6003240466669796\n",
            "  Kurtosis: -1.410955964271225\n",
            "\n",
            "urbanicity_standardised:\n",
            "  Skewness: 0.6003240466669795\n",
            "  Kurtosis: -1.4109559642712248\n",
            "Shapiro-Wilk test for HDI: Stat=0.9216, p-value=0.0000\n",
            "Shapiro-Wilk test for hdi_standardised: Stat=0.9216, p-value=0.0000\n",
            "Shapiro-Wilk test for popden_standardised: Stat=0.6706, p-value=0.0000\n",
            "Shapiro-Wilk test for urbanicity: Stat=0.7856, p-value=0.0000\n",
            "Shapiro-Wilk test for urbanicity_standardised: Stat=0.7856, p-value=0.0000\n"
          ]
        }
      ],
      "source": [
        "import pandas as pd\n",
        "import matplotlib.pyplot as plt\n",
        "import seaborn as sns\n",
        "from scipy.stats import shapiro, skew, kurtosis\n",
        "from sklearn.preprocessing import StandardScaler\n",
        "\n",
        "# --- Standardisation ---\n",
        "scaler = StandardScaler()\n",
        "df_dist_sim['hdi_standardised'] = scaler.fit_transform(df_dist_sim[['HDI']])\n",
        "df_dist_sim['urbanicity_standardised'] = scaler.fit_transform(df_dist_sim[['urbanicity']])\n",
        "df_dist_sim['popden_standardised'] = scaler.fit_transform(df_dist_sim[['Pop_den']])\n",
        "\n",
        "# --- Visualization ---\n",
        "plt.figure(figsize=(15, 10))\n",
        "\n",
        "# Original HDI\n",
        "plt.subplot(2, 3, 1)\n",
        "sns.histplot(df_dist_sim['HDI'], kde=True, bins=30, color='skyblue')\n",
        "plt.title('HDI Normalised')\n",
        "\n",
        "# Standardised HDI\n",
        "plt.subplot(2, 3, 2)\n",
        "sns.histplot(df_dist_sim['hdi_standardised'], kde=True, bins=30, color='deepskyblue')\n",
        "plt.title('HDI Standardised')\n",
        "\n",
        "# Population Density (already standardised)\n",
        "plt.subplot(2, 3, 3)\n",
        "sns.histplot(df_dist_sim['popden_standardised'], kde=True, bins=30, color='green')\n",
        "plt.title('Population Density Standardised')\n",
        "\n",
        "# Original Urbanicity\n",
        "plt.subplot(2, 3, 4)\n",
        "sns.histplot(df_dist_sim['urbanicity'], kde=True, bins=30, color='orange')\n",
        "plt.title('Urbanicity')\n",
        "\n",
        "# Standardised Urbanicity\n",
        "plt.subplot(2, 3, 5)\n",
        "sns.histplot(df_dist_sim['urbanicity_standardised'], kde=True, bins=30, color='darkorange')\n",
        "plt.title('Urbanicity Standardised')\n",
        "\n",
        "plt.tight_layout()\n",
        "plt.show()\n",
        "\n",
        "# --- Summary Statistics ---\n",
        "print(df_dist_sim[['HDI', 'hdi_standardised',\n",
        "               'popden_standardised', \n",
        "               'urbanicity', 'urbanicity_standardised']].describe())\n",
        "\n",
        "# --- Skewness and Kurtosis ---\n",
        "for col in ['HDI', 'hdi_standardised', \n",
        "            'popden_standardised', 'urbanicity', 'urbanicity_standardised']:\n",
        "    print(f\"\\n{col}:\")\n",
        "    print(f\"  Skewness: {skew(df_dist_sim[col])}\")\n",
        "    print(f\"  Kurtosis: {kurtosis(df_dist_sim[col])}\")\n",
        "\n",
        "# --- Normality Tests (Shapiro-Wilk) ---\n",
        "for col in ['HDI', 'hdi_standardised', \n",
        "            'popden_standardised', 'urbanicity', 'urbanicity_standardised']:\n",
        "    stat, p_value = shapiro(df_dist_sim[col])\n",
        "    print(f\"Shapiro-Wilk test for {col}: Stat={stat:.4f}, p-value={p_value:.4f}\")\n"
      ]
    },
    {
      "cell_type": "code",
      "execution_count": 542,
      "metadata": {},
      "outputs": [
        {
          "name": "stderr",
          "output_type": "stream",
          "text": [
            "C:\\Users\\jessi\\AppData\\Roaming\\Python\\Python313\\site-packages\\sklearn\\preprocessing\\_data.py:2829: UserWarning: n_quantiles (1000) is greater than the total number of samples (128). n_quantiles is set to n_samples.\n",
            "  warnings.warn(\n",
            "C:\\Users\\jessi\\AppData\\Roaming\\Python\\Python313\\site-packages\\sklearn\\preprocessing\\_data.py:2829: UserWarning: n_quantiles (1000) is greater than the total number of samples (128). n_quantiles is set to n_samples.\n",
            "  warnings.warn(\n",
            "C:\\Users\\jessi\\AppData\\Roaming\\Python\\Python313\\site-packages\\sklearn\\preprocessing\\_data.py:2829: UserWarning: n_quantiles (1000) is greater than the total number of samples (128). n_quantiles is set to n_samples.\n",
            "  warnings.warn(\n"
          ]
        },
        {
          "data": {
            "image/png": "[encoded data removed]",
            "text/plain": [
              "<Figure size 1500x600 with 3 Axes>"
            ]
          },
          "metadata": {},
          "output_type": "display_data"
        }
      ],
      "source": [
        "import pandas as pd\n",
        "import numpy as np\n",
        "import matplotlib.pyplot as plt\n",
        "import seaborn as sns\n",
        "from sklearn.preprocessing import QuantileTransformer\n",
        "\n",
        "# Initialize quantile transformer\n",
        "qt = QuantileTransformer(output_distribution='normal', random_state=0)\n",
        "\n",
        "# Apply to each column\n",
        "df_dist_sim['hdi_qt'] = qt.fit_transform(df_dist_sim[['HDI']])\n",
        "df_dist_sim['popden_qt'] = qt.fit_transform(df_dist_sim[['Pop_den']])\n",
        "df_dist_sim['urban_qt'] = qt.fit_transform(df_dist_sim[['urbanicity']])\n",
        "\n",
        "# Plot the transformed distributions\n",
        "plt.figure(figsize=(15, 6))\n",
        "\n",
        "plt.subplot(1, 3, 1)\n",
        "sns.histplot(df_dist_sim['hdi_qt'], kde=True, bins=30, color='deepskyblue')\n",
        "plt.title('HDI Quantile Transformed')\n",
        "\n",
        "plt.subplot(1, 3, 2)\n",
        "sns.histplot(df_dist_sim['popden_qt'], kde=True, bins=30, color='mediumseagreen')\n",
        "plt.title('Pop_den Quantile Transformed')\n",
        "\n",
        "plt.subplot(1, 3, 3)\n",
        "sns.histplot(df_dist_sim['urban_qt'], kde=True, bins=30, color='darkorange')\n",
        "plt.title('Urbanicity Quantile Transformed')\n",
        "\n",
        "plt.tight_layout()\n",
        "plt.show()\n"
      ]
    },
    {
      "cell_type": "code",
      "execution_count": 543,
      "metadata": {},
      "outputs": [
        {
          "name": "stderr",
          "output_type": "stream",
          "text": [
            "C:\\Users\\jessi\\AppData\\Roaming\\Python\\Python313\\site-packages\\sklearn\\preprocessing\\_data.py:2829: UserWarning: n_quantiles (1000) is greater than the total number of samples (8). n_quantiles is set to n_samples.\n",
            "  warnings.warn(\n",
            "C:\\Users\\jessi\\AppData\\Roaming\\Python\\Python313\\site-packages\\sklearn\\preprocessing\\_data.py:2829: UserWarning: n_quantiles (1000) is greater than the total number of samples (8). n_quantiles is set to n_samples.\n",
            "  warnings.warn(\n",
            "C:\\Users\\jessi\\AppData\\Roaming\\Python\\Python313\\site-packages\\sklearn\\preprocessing\\_data.py:2829: UserWarning: n_quantiles (1000) is greater than the total number of samples (8). n_quantiles is set to n_samples.\n",
            "  warnings.warn(\n"
          ]
        }
      ],
      "source": [
        "# Apply to each column for province too\n",
        "df_prov_sim['hdi_qt'] = qt.fit_transform(df_prov_sim[['HDI']])\n",
        "df_prov_sim['popden_qt'] = qt.fit_transform(df_prov_sim[['Pop_den']])\n",
        "df_prov_sim['urban_qt'] = qt.fit_transform(df_prov_sim[['urbanicity']])"
      ]
    },
    {
      "cell_type": "code",
      "execution_count": 544,
      "metadata": {},
      "outputs": [],
      "source": [
        "# Drop specified columns from both dataframes\n",
        "df_dist_sim = df_dist_sim.drop([\"popden_standardised\", \"hdi_standardised\", \"urbanicity_standardised\"], axis=1)"
      ]
    },
    {
      "cell_type": "markdown",
      "metadata": {},
      "source": [
        "# Save final datasets"
      ]
    },
    {
      "cell_type": "code",
      "execution_count": 545,
      "metadata": {},
      "outputs": [],
      "source": [
        "#save the dfs to high res and low res for further analysis\n",
        "df_dist.to_file(\"../data/processed/high_res.shp\")\n",
        "\n",
        "#ensure df_prov is a geodataframe\n",
        "df_prov.to_file(\"../data/processed/low_res.shp\")\n",
        "\n",
        "df_dist_sim.to_file(\"../simulation study/data/high_res_sim.shp\")\n",
        "df_prov_sim.to_file(\"../simulation study/data/low_res_sim.shp\")"
      ]
    }
  ],
  "metadata": {
    "colab": {
      "provenance": []
    },
    "kernelspec": {
      "display_name": "Python 3",
      "name": "python3"
    },
    "language_info": {
      "codemirror_mode": {
        "name": "ipython",
        "version": 3
      },
      "file_extension": ".py",
      "mimetype": "text/x-python",
      "name": "python",
      "nbconvert_exporter": "python",
      "pygments_lexer": "ipython3",
      "version": "3.13.1"
    }
  },
  "nbformat": 4,
  "nbformat_minor": 0
}
