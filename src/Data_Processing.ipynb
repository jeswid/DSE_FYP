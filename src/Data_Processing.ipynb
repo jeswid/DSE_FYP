{
  "cells": [
    {
      "cell_type": "markdown",
      "metadata": {
        "id": "6Mj2P7TyAXf8"
      },
      "source": [
        "#Import Libraries"
      ]
    },
    {
      "cell_type": "code",
      "execution_count": 199,
      "metadata": {
        "id": "vuGvfdHNAB54"
      },
      "outputs": [],
      "source": [
        "import pandas as pd\n",
        "import numpy as np\n",
        "import matplotlib.pyplot as plt\n",
        "import geopandas as gpd\n",
        "import os"
      ]
    },
    {
      "cell_type": "markdown",
      "metadata": {
        "id": "AyzNcaaWQmGU"
      },
      "source": [
        "#Reading in dengue data and processing"
      ]
    },
    {
      "cell_type": "markdown",
      "metadata": {
        "id": "zRahUGrYWKKM"
      },
      "source": [
        "##Read in cases data"
      ]
    },
    {
      "cell_type": "code",
      "execution_count": 200,
      "metadata": {
        "id": "-nZAdgJjGa8o"
      },
      "outputs": [],
      "source": [
        "data_jkt = pd.read_csv(\"../data/raw/jakarta_data.csv\")\n",
        "data_java = pd.read_csv(\"../data/raw/westjava_data.csv\")"
      ]
    },
    {
      "cell_type": "code",
      "execution_count": 201,
      "metadata": {
        "id": "WGUWbWBZI0qp"
      },
      "outputs": [],
      "source": [
        "#rename time to year\n",
        "data_java.rename(columns={'Time': 'Year'}, inplace=True)\n",
        "data_jkt.rename(columns={'Time': 'Year'}, inplace=True)"
      ]
    },
    {
      "cell_type": "code",
      "execution_count": 202,
      "metadata": {},
      "outputs": [],
      "source": [
        "#add Province column to identify the provinces of DKI Jakarta and West Java\n",
        "data_java[\"Province\"] = \"West Java\"\n",
        "data_jkt[\"Province\"] = \"DKI Jakarta\""
      ]
    },
    {
      "cell_type": "code",
      "execution_count": 203,
      "metadata": {
        "colab": {
          "base_uri": "https://localhost:8080/",
          "height": 206
        },
        "id": "8YtiJitm1-be",
        "outputId": "49897262-a606-41ff-aa93-e5117f207893"
      },
      "outputs": [
        {
          "data": {
            "text/html": [
              "<div>\n",
              "<style scoped>\n",
              "    .dataframe tbody tr th:only-of-type {\n",
              "        vertical-align: middle;\n",
              "    }\n",
              "\n",
              "    .dataframe tbody tr th {\n",
              "        vertical-align: top;\n",
              "    }\n",
              "\n",
              "    .dataframe thead th {\n",
              "        text-align: right;\n",
              "    }\n",
              "</style>\n",
              "<table border=\"1\" class=\"dataframe\">\n",
              "  <thead>\n",
              "    <tr style=\"text-align: right;\">\n",
              "      <th></th>\n",
              "      <th>District</th>\n",
              "      <th>Year</th>\n",
              "      <th>Age</th>\n",
              "      <th>Cases</th>\n",
              "      <th>Population</th>\n",
              "      <th>Province</th>\n",
              "    </tr>\n",
              "  </thead>\n",
              "  <tbody>\n",
              "    <tr>\n",
              "      <th>0</th>\n",
              "      <td>KEPULAUAN SERIBU</td>\n",
              "      <td>2020</td>\n",
              "      <td>0-4</td>\n",
              "      <td>9</td>\n",
              "      <td>2837</td>\n",
              "      <td>DKI Jakarta</td>\n",
              "    </tr>\n",
              "    <tr>\n",
              "      <th>1</th>\n",
              "      <td>KEPULAUAN SERIBU</td>\n",
              "      <td>2020</td>\n",
              "      <td>10-14</td>\n",
              "      <td>1</td>\n",
              "      <td>2307</td>\n",
              "      <td>DKI Jakarta</td>\n",
              "    </tr>\n",
              "    <tr>\n",
              "      <th>2</th>\n",
              "      <td>KEPULAUAN SERIBU</td>\n",
              "      <td>2020</td>\n",
              "      <td>15-19</td>\n",
              "      <td>0</td>\n",
              "      <td>2575</td>\n",
              "      <td>DKI Jakarta</td>\n",
              "    </tr>\n",
              "    <tr>\n",
              "      <th>3</th>\n",
              "      <td>KEPULAUAN SERIBU</td>\n",
              "      <td>2020</td>\n",
              "      <td>20-44</td>\n",
              "      <td>2</td>\n",
              "      <td>11456</td>\n",
              "      <td>DKI Jakarta</td>\n",
              "    </tr>\n",
              "    <tr>\n",
              "      <th>4</th>\n",
              "      <td>KEPULAUAN SERIBU</td>\n",
              "      <td>2020</td>\n",
              "      <td>45-54</td>\n",
              "      <td>0</td>\n",
              "      <td>3184</td>\n",
              "      <td>DKI Jakarta</td>\n",
              "    </tr>\n",
              "  </tbody>\n",
              "</table>\n",
              "</div>"
            ],
            "text/plain": [
              "           District  Year    Age  Cases  Population     Province\n",
              "0  KEPULAUAN SERIBU  2020    0-4      9        2837  DKI Jakarta\n",
              "1  KEPULAUAN SERIBU  2020  10-14      1        2307  DKI Jakarta\n",
              "2  KEPULAUAN SERIBU  2020  15-19      0        2575  DKI Jakarta\n",
              "3  KEPULAUAN SERIBU  2020  20-44      2       11456  DKI Jakarta\n",
              "4  KEPULAUAN SERIBU  2020  45-54      0        3184  DKI Jakarta"
            ]
          },
          "execution_count": 203,
          "metadata": {},
          "output_type": "execute_result"
        }
      ],
      "source": [
        "data_java.head()\n",
        "data_jkt.head()"
      ]
    },
    {
      "cell_type": "code",
      "execution_count": 204,
      "metadata": {
        "colab": {
          "base_uri": "https://localhost:8080/"
        },
        "id": "j3qb2yUHny5u",
        "outputId": "0d4e507f-5df7-45a4-939f-482bb2e2be00"
      },
      "outputs": [
        {
          "data": {
            "text/plain": [
              "array(['KEPULAUAN SERIBU', 'KOTA JAKARTA BARAT', 'KOTA JAKARTA PUSAT',\n",
              "       'KOTA JAKARTA SELATAN', 'KOTA JAKARTA TIMUR', 'KOTA JAKARTA UTARA'],\n",
              "      dtype=object)"
            ]
          },
          "execution_count": 204,
          "metadata": {},
          "output_type": "execute_result"
        }
      ],
      "source": [
        "#check the unique values of Distric for the jkt dataset\n",
        "data_jkt[\"District\"].unique()"
      ]
    },
    {
      "cell_type": "code",
      "execution_count": 205,
      "metadata": {
        "colab": {
          "base_uri": "https://localhost:8080/"
        },
        "id": "U4EbvVjWn3pD",
        "outputId": "93a139d9-65fb-43e2-d465-982e3d770d62"
      },
      "outputs": [
        {
          "data": {
            "text/plain": [
              "array(['BANDUNG', 'BANDUNG BARAT', 'BEKASI', 'BOGOR', 'CIAMIS', 'CIANJUR',\n",
              "       'CIREBON', 'GARUT', 'INDRAMAYU', 'KARAWANG', 'KOTA BANDUNG',\n",
              "       'KOTA BANJAR', 'KOTA BEKASI', 'KOTA BOGOR', 'KOTA CIMAHI',\n",
              "       'KOTA CIREBON', 'KOTA DEPOK', 'KOTA SUKABUMI', 'KOTA TASIKMALAYA',\n",
              "       'KUNINGAN', 'MAJALENGKA', 'PANGANDARAN', 'PURWAKARTA', 'SUBANG',\n",
              "       'SUKABUMI', 'SUMEDANG', 'TASIKMALAYA'], dtype=object)"
            ]
          },
          "execution_count": 205,
          "metadata": {},
          "output_type": "execute_result"
        }
      ],
      "source": [
        "#check the unique values of Distric for the java dataset\n",
        "data_java[\"District\"].unique()"
      ]
    },
    {
      "cell_type": "code",
      "execution_count": 206,
      "metadata": {
        "colab": {
          "base_uri": "https://localhost:8080/"
        },
        "id": "j8BonicIGKey",
        "outputId": "c467ffe9-ddc4-48bd-dd6e-f2c4f50d2563"
      },
      "outputs": [
        {
          "data": {
            "text/plain": [
              "array([2020, 2021, 2022, 2023])"
            ]
          },
          "execution_count": 206,
          "metadata": {},
          "output_type": "execute_result"
        }
      ],
      "source": [
        "#check the unique values for year for jkt\n",
        "data_jkt[\"Year\"].unique()"
      ]
    },
    {
      "cell_type": "code",
      "execution_count": 207,
      "metadata": {
        "colab": {
          "base_uri": "https://localhost:8080/"
        },
        "id": "eUv6sKxCGRIM",
        "outputId": "9d75388d-d1d0-40db-fe22-86fda3da8b88"
      },
      "outputs": [
        {
          "data": {
            "text/plain": [
              "array([2020, 2021, 2022, 2023])"
            ]
          },
          "execution_count": 207,
          "metadata": {},
          "output_type": "execute_result"
        }
      ],
      "source": [
        "#check the unique values for year for java\n",
        "data_java[\"Year\"].unique()"
      ]
    },
    {
      "cell_type": "markdown",
      "metadata": {
        "id": "sWtcpngBWQfM"
      },
      "source": [
        "##total area data processing for jkt"
      ]
    },
    {
      "cell_type": "code",
      "execution_count": 208,
      "metadata": {
        "id": "KM89HehzUFuk"
      },
      "outputs": [],
      "source": [
        "#read in the total area data\n",
        "area_jkt_old = pd.read_csv(\"../data/raw/total_area_jkt_2020.csv\")\n",
        "area_jkt_new = pd.read_csv(\"../data/raw/total_area_jkt_20212023.csv\")"
      ]
    },
    {
      "cell_type": "code",
      "execution_count": 209,
      "metadata": {
        "colab": {
          "base_uri": "https://localhost:8080/",
          "height": 206
        },
        "id": "vYguzQnDUqKP",
        "outputId": "72e3a6f7-6c81-4ffd-b6f8-c335d420213c"
      },
      "outputs": [
        {
          "data": {
            "text/html": [
              "<div>\n",
              "<style scoped>\n",
              "    .dataframe tbody tr th:only-of-type {\n",
              "        vertical-align: middle;\n",
              "    }\n",
              "\n",
              "    .dataframe tbody tr th {\n",
              "        vertical-align: top;\n",
              "    }\n",
              "\n",
              "    .dataframe thead th {\n",
              "        text-align: right;\n",
              "    }\n",
              "</style>\n",
              "<table border=\"1\" class=\"dataframe\">\n",
              "  <thead>\n",
              "    <tr style=\"text-align: right;\">\n",
              "      <th></th>\n",
              "      <th>Kab/Kota</th>\n",
              "      <th>Unnamed: 1</th>\n",
              "      <th>Unnamed: 2</th>\n",
              "      <th>Unnamed: 3</th>\n",
              "    </tr>\n",
              "  </thead>\n",
              "  <tbody>\n",
              "    <tr>\n",
              "      <th>0</th>\n",
              "      <td>NaN</td>\n",
              "      <td>The Total Area by Regency/ Municipality (Km&amp;lt...</td>\n",
              "      <td>NaN</td>\n",
              "      <td>NaN</td>\n",
              "    </tr>\n",
              "    <tr>\n",
              "      <th>1</th>\n",
              "      <td>NaN</td>\n",
              "      <td>2018</td>\n",
              "      <td>2019.00</td>\n",
              "      <td>2020.00</td>\n",
              "    </tr>\n",
              "    <tr>\n",
              "      <th>2</th>\n",
              "      <td>Kep Seribu</td>\n",
              "      <td>8.7</td>\n",
              "      <td>10.18</td>\n",
              "      <td>10.18</td>\n",
              "    </tr>\n",
              "    <tr>\n",
              "      <th>3</th>\n",
              "      <td>Jakarta Selatan</td>\n",
              "      <td>141.27</td>\n",
              "      <td>154.32</td>\n",
              "      <td>154.32</td>\n",
              "    </tr>\n",
              "    <tr>\n",
              "      <th>4</th>\n",
              "      <td>Jakarta Timur</td>\n",
              "      <td>188.03</td>\n",
              "      <td>182.70</td>\n",
              "      <td>182.70</td>\n",
              "    </tr>\n",
              "  </tbody>\n",
              "</table>\n",
              "</div>"
            ],
            "text/plain": [
              "          Kab/Kota                                         Unnamed: 1  \\\n",
              "0              NaN  The Total Area by Regency/ Municipality (Km&lt...   \n",
              "1              NaN                                               2018   \n",
              "2       Kep Seribu                                                8.7   \n",
              "3  Jakarta Selatan                                             141.27   \n",
              "4    Jakarta Timur                                             188.03   \n",
              "\n",
              "   Unnamed: 2  Unnamed: 3  \n",
              "0         NaN         NaN  \n",
              "1     2019.00     2020.00  \n",
              "2       10.18       10.18  \n",
              "3      154.32      154.32  \n",
              "4      182.70      182.70  "
            ]
          },
          "execution_count": 209,
          "metadata": {},
          "output_type": "execute_result"
        }
      ],
      "source": [
        "#check the files\n",
        "area_jkt_old.head()"
      ]
    },
    {
      "cell_type": "code",
      "execution_count": 210,
      "metadata": {
        "colab": {
          "base_uri": "https://localhost:8080/",
          "height": 206
        },
        "id": "FVOUktYTUxxa",
        "outputId": "5d795255-e11c-45b1-8c3e-2edcdd34ebde"
      },
      "outputs": [
        {
          "data": {
            "text/html": [
              "<div>\n",
              "<style scoped>\n",
              "    .dataframe tbody tr th:only-of-type {\n",
              "        vertical-align: middle;\n",
              "    }\n",
              "\n",
              "    .dataframe tbody tr th {\n",
              "        vertical-align: top;\n",
              "    }\n",
              "\n",
              "    .dataframe thead th {\n",
              "        text-align: right;\n",
              "    }\n",
              "</style>\n",
              "<table border=\"1\" class=\"dataframe\">\n",
              "  <thead>\n",
              "    <tr style=\"text-align: right;\">\n",
              "      <th></th>\n",
              "      <th>Kab/Kota</th>\n",
              "      <th>Unnamed: 1</th>\n",
              "      <th>Unnamed: 2</th>\n",
              "      <th>Unnamed: 3</th>\n",
              "    </tr>\n",
              "  </thead>\n",
              "  <tbody>\n",
              "    <tr>\n",
              "      <th>0</th>\n",
              "      <td>NaN</td>\n",
              "      <td>The Total Area by Regency/ Municipality (Km&amp;lt...</td>\n",
              "      <td>NaN</td>\n",
              "      <td>NaN</td>\n",
              "    </tr>\n",
              "    <tr>\n",
              "      <th>1</th>\n",
              "      <td>NaN</td>\n",
              "      <td>2021</td>\n",
              "      <td>2022.00</td>\n",
              "      <td>2023.00</td>\n",
              "    </tr>\n",
              "    <tr>\n",
              "      <th>2</th>\n",
              "      <td>Kep Seribu</td>\n",
              "      <td>10.18</td>\n",
              "      <td>10.73</td>\n",
              "      <td>10.73</td>\n",
              "    </tr>\n",
              "    <tr>\n",
              "      <th>3</th>\n",
              "      <td>Jakarta Selatan</td>\n",
              "      <td>154.32</td>\n",
              "      <td>144.94</td>\n",
              "      <td>144.94</td>\n",
              "    </tr>\n",
              "    <tr>\n",
              "      <th>4</th>\n",
              "      <td>Jakarta Timur</td>\n",
              "      <td>182.7</td>\n",
              "      <td>185.54</td>\n",
              "      <td>185.54</td>\n",
              "    </tr>\n",
              "  </tbody>\n",
              "</table>\n",
              "</div>"
            ],
            "text/plain": [
              "          Kab/Kota                                         Unnamed: 1  \\\n",
              "0              NaN  The Total Area by Regency/ Municipality (Km&lt...   \n",
              "1              NaN                                               2021   \n",
              "2       Kep Seribu                                              10.18   \n",
              "3  Jakarta Selatan                                             154.32   \n",
              "4    Jakarta Timur                                              182.7   \n",
              "\n",
              "   Unnamed: 2  Unnamed: 3  \n",
              "0         NaN         NaN  \n",
              "1     2022.00     2023.00  \n",
              "2       10.73       10.73  \n",
              "3      144.94      144.94  \n",
              "4      185.54      185.54  "
            ]
          },
          "execution_count": 210,
          "metadata": {},
          "output_type": "execute_result"
        }
      ],
      "source": [
        "#check the files\n",
        "area_jkt_new.head()"
      ]
    },
    {
      "cell_type": "code",
      "execution_count": 211,
      "metadata": {
        "id": "rAae-780U449"
      },
      "outputs": [],
      "source": [
        "#data cleaning for old and new jkt files - values for the index 1 row to be colnames for cols 1-3, then eliminate the rows of index 0 and 1 --> area is in km^2\n",
        "area_jkt_new.columns = area_jkt_new.iloc[1]\n",
        "area_jkt_new = area_jkt_new.iloc[2:]\n",
        "area_jkt_old.columns = area_jkt_old.iloc[1]\n",
        "area_jkt_old = area_jkt_old.iloc[2:]\n",
        "\n",
        "#rename the first column into District\n",
        "area_jkt_new.rename(columns={np.nan: 'District'}, inplace=True)\n",
        "area_jkt_old.rename(columns={np.nan: 'District'}, inplace=True)"
      ]
    },
    {
      "cell_type": "code",
      "execution_count": 212,
      "metadata": {
        "colab": {
          "base_uri": "https://localhost:8080/",
          "height": 206
        },
        "id": "nRLp7oruXCom",
        "outputId": "1106d9ed-83a8-4200-dda5-9439af78fa4d"
      },
      "outputs": [
        {
          "data": {
            "text/html": [
              "<div>\n",
              "<style scoped>\n",
              "    .dataframe tbody tr th:only-of-type {\n",
              "        vertical-align: middle;\n",
              "    }\n",
              "\n",
              "    .dataframe tbody tr th {\n",
              "        vertical-align: top;\n",
              "    }\n",
              "\n",
              "    .dataframe thead th {\n",
              "        text-align: right;\n",
              "    }\n",
              "</style>\n",
              "<table border=\"1\" class=\"dataframe\">\n",
              "  <thead>\n",
              "    <tr style=\"text-align: right;\">\n",
              "      <th>1</th>\n",
              "      <th>District</th>\n",
              "      <th>2018</th>\n",
              "      <th>2019.0</th>\n",
              "      <th>2020.0</th>\n",
              "    </tr>\n",
              "  </thead>\n",
              "  <tbody>\n",
              "    <tr>\n",
              "      <th>2</th>\n",
              "      <td>Kep Seribu</td>\n",
              "      <td>8.7</td>\n",
              "      <td>10.18</td>\n",
              "      <td>10.18</td>\n",
              "    </tr>\n",
              "    <tr>\n",
              "      <th>3</th>\n",
              "      <td>Jakarta Selatan</td>\n",
              "      <td>141.27</td>\n",
              "      <td>154.32</td>\n",
              "      <td>154.32</td>\n",
              "    </tr>\n",
              "    <tr>\n",
              "      <th>4</th>\n",
              "      <td>Jakarta Timur</td>\n",
              "      <td>188.03</td>\n",
              "      <td>182.70</td>\n",
              "      <td>182.70</td>\n",
              "    </tr>\n",
              "    <tr>\n",
              "      <th>5</th>\n",
              "      <td>Jakarta Pusat</td>\n",
              "      <td>48.13</td>\n",
              "      <td>52.38</td>\n",
              "      <td>52.38</td>\n",
              "    </tr>\n",
              "    <tr>\n",
              "      <th>6</th>\n",
              "      <td>Jakarta Barat</td>\n",
              "      <td>129.54</td>\n",
              "      <td>124.44</td>\n",
              "      <td>124.44</td>\n",
              "    </tr>\n",
              "  </tbody>\n",
              "</table>\n",
              "</div>"
            ],
            "text/plain": [
              "1         District    2018  2019.0  2020.0\n",
              "2       Kep Seribu     8.7   10.18   10.18\n",
              "3  Jakarta Selatan  141.27  154.32  154.32\n",
              "4    Jakarta Timur  188.03  182.70  182.70\n",
              "5    Jakarta Pusat   48.13   52.38   52.38\n",
              "6    Jakarta Barat  129.54  124.44  124.44"
            ]
          },
          "execution_count": 212,
          "metadata": {},
          "output_type": "execute_result"
        }
      ],
      "source": [
        "area_jkt_old.head()"
      ]
    },
    {
      "cell_type": "code",
      "execution_count": 213,
      "metadata": {
        "colab": {
          "base_uri": "https://localhost:8080/",
          "height": 206
        },
        "id": "uSHVdDfgVtbd",
        "outputId": "7d86599f-13d1-4b19-9463-c5da5a93b226"
      },
      "outputs": [
        {
          "data": {
            "text/html": [
              "<div>\n",
              "<style scoped>\n",
              "    .dataframe tbody tr th:only-of-type {\n",
              "        vertical-align: middle;\n",
              "    }\n",
              "\n",
              "    .dataframe tbody tr th {\n",
              "        vertical-align: top;\n",
              "    }\n",
              "\n",
              "    .dataframe thead th {\n",
              "        text-align: right;\n",
              "    }\n",
              "</style>\n",
              "<table border=\"1\" class=\"dataframe\">\n",
              "  <thead>\n",
              "    <tr style=\"text-align: right;\">\n",
              "      <th>1</th>\n",
              "      <th>District</th>\n",
              "      <th>2021</th>\n",
              "      <th>2022.0</th>\n",
              "      <th>2023.0</th>\n",
              "    </tr>\n",
              "  </thead>\n",
              "  <tbody>\n",
              "    <tr>\n",
              "      <th>2</th>\n",
              "      <td>Kep Seribu</td>\n",
              "      <td>10.18</td>\n",
              "      <td>10.73</td>\n",
              "      <td>10.73</td>\n",
              "    </tr>\n",
              "    <tr>\n",
              "      <th>3</th>\n",
              "      <td>Jakarta Selatan</td>\n",
              "      <td>154.32</td>\n",
              "      <td>144.94</td>\n",
              "      <td>144.94</td>\n",
              "    </tr>\n",
              "    <tr>\n",
              "      <th>4</th>\n",
              "      <td>Jakarta Timur</td>\n",
              "      <td>182.7</td>\n",
              "      <td>185.54</td>\n",
              "      <td>185.54</td>\n",
              "    </tr>\n",
              "    <tr>\n",
              "      <th>5</th>\n",
              "      <td>Jakarta Pusat</td>\n",
              "      <td>52.38</td>\n",
              "      <td>47.56</td>\n",
              "      <td>47.56</td>\n",
              "    </tr>\n",
              "    <tr>\n",
              "      <th>6</th>\n",
              "      <td>Jakarta Barat</td>\n",
              "      <td>124.44</td>\n",
              "      <td>125.00</td>\n",
              "      <td>125.00</td>\n",
              "    </tr>\n",
              "  </tbody>\n",
              "</table>\n",
              "</div>"
            ],
            "text/plain": [
              "1         District    2021  2022.0  2023.0\n",
              "2       Kep Seribu   10.18   10.73   10.73\n",
              "3  Jakarta Selatan  154.32  144.94  144.94\n",
              "4    Jakarta Timur   182.7  185.54  185.54\n",
              "5    Jakarta Pusat   52.38   47.56   47.56\n",
              "6    Jakarta Barat  124.44  125.00  125.00"
            ]
          },
          "execution_count": 213,
          "metadata": {},
          "output_type": "execute_result"
        }
      ],
      "source": [
        "area_jkt_new.head()"
      ]
    },
    {
      "cell_type": "code",
      "execution_count": 214,
      "metadata": {
        "id": "i4EvuxbmXT2L"
      },
      "outputs": [],
      "source": [
        "#merge both dataframew by District, and then convert to long form, then filter to get Year = 2020-2023 only\n",
        "area_jkt = pd.merge(area_jkt_old, area_jkt_new, on=\"District\", how=\"inner\")\n",
        "area_jkt = pd.melt(area_jkt, id_vars=[\"District\"], var_name=\"Year\", value_name=\"Area_sq_km\")\n",
        "\n",
        "#convert Year to integer\n",
        "area_jkt[\"Year\"] = area_jkt[\"Year\"].astype(int)\n",
        "\n",
        "#filter to get 2020-2023 values\n",
        "area_jkt = area_jkt[area_jkt[\"Year\"].isin([2020, 2021, 2022, 2023])]\n",
        "\n",
        "#convert the names of District values to upper case\n",
        "area_jkt[\"District\"] = area_jkt[\"District\"].str.upper()\n",
        "\n",
        "#rename the value KEP SERIBU into KEPULAUAN SERIBU and add KOTA in front of the other values under the column District\n",
        "area_jkt[\"District\"] = \"KOTA \" + area_jkt[\"District\"]\n",
        "area_jkt.loc[area_jkt[\"District\"] == \"KOTA KEP SERIBU\", \"District\"] = \"KEPULAUAN SERIBU\""
      ]
    },
    {
      "cell_type": "code",
      "execution_count": 215,
      "metadata": {
        "colab": {
          "base_uri": "https://localhost:8080/",
          "height": 206
        },
        "id": "MzGlXT7YXsEd",
        "outputId": "0f783f2e-76aa-40c0-88b0-4631cdc69152"
      },
      "outputs": [
        {
          "data": {
            "text/html": [
              "<div>\n",
              "<style scoped>\n",
              "    .dataframe tbody tr th:only-of-type {\n",
              "        vertical-align: middle;\n",
              "    }\n",
              "\n",
              "    .dataframe tbody tr th {\n",
              "        vertical-align: top;\n",
              "    }\n",
              "\n",
              "    .dataframe thead th {\n",
              "        text-align: right;\n",
              "    }\n",
              "</style>\n",
              "<table border=\"1\" class=\"dataframe\">\n",
              "  <thead>\n",
              "    <tr style=\"text-align: right;\">\n",
              "      <th></th>\n",
              "      <th>District</th>\n",
              "      <th>Year</th>\n",
              "      <th>Area_sq_km</th>\n",
              "    </tr>\n",
              "  </thead>\n",
              "  <tbody>\n",
              "    <tr>\n",
              "      <th>14</th>\n",
              "      <td>KEPULAUAN SERIBU</td>\n",
              "      <td>2020</td>\n",
              "      <td>10.18</td>\n",
              "    </tr>\n",
              "    <tr>\n",
              "      <th>15</th>\n",
              "      <td>KOTA JAKARTA SELATAN</td>\n",
              "      <td>2020</td>\n",
              "      <td>154.32</td>\n",
              "    </tr>\n",
              "    <tr>\n",
              "      <th>16</th>\n",
              "      <td>KOTA JAKARTA TIMUR</td>\n",
              "      <td>2020</td>\n",
              "      <td>182.7</td>\n",
              "    </tr>\n",
              "    <tr>\n",
              "      <th>17</th>\n",
              "      <td>KOTA JAKARTA PUSAT</td>\n",
              "      <td>2020</td>\n",
              "      <td>52.38</td>\n",
              "    </tr>\n",
              "    <tr>\n",
              "      <th>18</th>\n",
              "      <td>KOTA JAKARTA BARAT</td>\n",
              "      <td>2020</td>\n",
              "      <td>124.44</td>\n",
              "    </tr>\n",
              "  </tbody>\n",
              "</table>\n",
              "</div>"
            ],
            "text/plain": [
              "                District  Year Area_sq_km\n",
              "14      KEPULAUAN SERIBU  2020      10.18\n",
              "15  KOTA JAKARTA SELATAN  2020     154.32\n",
              "16    KOTA JAKARTA TIMUR  2020      182.7\n",
              "17    KOTA JAKARTA PUSAT  2020      52.38\n",
              "18    KOTA JAKARTA BARAT  2020     124.44"
            ]
          },
          "execution_count": 215,
          "metadata": {},
          "output_type": "execute_result"
        }
      ],
      "source": [
        "#check df\n",
        "area_jkt.head()"
      ]
    },
    {
      "cell_type": "code",
      "execution_count": 216,
      "metadata": {
        "colab": {
          "base_uri": "https://localhost:8080/"
        },
        "id": "OpWEP9iSGiyH",
        "outputId": "d4d46dbd-c75c-4b54-dad8-95dc0d44bd34"
      },
      "outputs": [
        {
          "data": {
            "text/plain": [
              "array([2020, 2021, 2022, 2023])"
            ]
          },
          "execution_count": 216,
          "metadata": {},
          "output_type": "execute_result"
        }
      ],
      "source": [
        "#check unique values for Year\n",
        "area_jkt[\"Year\"].unique()"
      ]
    },
    {
      "cell_type": "markdown",
      "metadata": {
        "id": "aVNLLhomYht8"
      },
      "source": [
        "##total area data processing for west java"
      ]
    },
    {
      "cell_type": "code",
      "execution_count": 217,
      "metadata": {
        "colab": {
          "base_uri": "https://localhost:8080/",
          "height": 206
        },
        "id": "l6DFe6wzYjg1",
        "outputId": "99cbe915-288c-46b9-fd3f-78bf4fee5e58"
      },
      "outputs": [
        {
          "data": {
            "text/html": [
              "<div>\n",
              "<style scoped>\n",
              "    .dataframe tbody tr th:only-of-type {\n",
              "        vertical-align: middle;\n",
              "    }\n",
              "\n",
              "    .dataframe tbody tr th {\n",
              "        vertical-align: top;\n",
              "    }\n",
              "\n",
              "    .dataframe thead th {\n",
              "        text-align: right;\n",
              "    }\n",
              "</style>\n",
              "<table border=\"1\" class=\"dataframe\">\n",
              "  <thead>\n",
              "    <tr style=\"text-align: right;\">\n",
              "      <th></th>\n",
              "      <th>Regency/Municipality</th>\n",
              "      <th>Unnamed: 1</th>\n",
              "      <th>Unnamed: 2</th>\n",
              "      <th>Unnamed: 3</th>\n",
              "      <th>Unnamed: 4</th>\n",
              "    </tr>\n",
              "  </thead>\n",
              "  <tbody>\n",
              "    <tr>\n",
              "      <th>0</th>\n",
              "      <td>NaN</td>\n",
              "      <td>Total Area (sq. km)</td>\n",
              "      <td>NaN</td>\n",
              "      <td>NaN</td>\n",
              "      <td>NaN</td>\n",
              "    </tr>\n",
              "    <tr>\n",
              "      <th>1</th>\n",
              "      <td>NaN</td>\n",
              "      <td>2022</td>\n",
              "      <td>2021.00</td>\n",
              "      <td>2019.00</td>\n",
              "      <td>2018.00</td>\n",
              "    </tr>\n",
              "    <tr>\n",
              "      <th>2</th>\n",
              "      <td>Jawa Barat Province</td>\n",
              "      <td>35377.76</td>\n",
              "      <td>35377.76</td>\n",
              "      <td>35377.76</td>\n",
              "      <td>35377.76</td>\n",
              "    </tr>\n",
              "    <tr>\n",
              "      <th>3</th>\n",
              "      <td>Bogor</td>\n",
              "      <td>2710.62</td>\n",
              "      <td>2710.62</td>\n",
              "      <td>2710.62</td>\n",
              "      <td>2710.62</td>\n",
              "    </tr>\n",
              "    <tr>\n",
              "      <th>4</th>\n",
              "      <td>Sukabumi</td>\n",
              "      <td>4145.7</td>\n",
              "      <td>4145.70</td>\n",
              "      <td>4145.70</td>\n",
              "      <td>4145.70</td>\n",
              "    </tr>\n",
              "  </tbody>\n",
              "</table>\n",
              "</div>"
            ],
            "text/plain": [
              "  Regency/Municipality           Unnamed: 1  Unnamed: 2  Unnamed: 3  \\\n",
              "0                  NaN  Total Area (sq. km)         NaN         NaN   \n",
              "1                  NaN                 2022     2021.00     2019.00   \n",
              "2  Jawa Barat Province             35377.76    35377.76    35377.76   \n",
              "3                Bogor              2710.62     2710.62     2710.62   \n",
              "4             Sukabumi               4145.7     4145.70     4145.70   \n",
              "\n",
              "   Unnamed: 4  \n",
              "0         NaN  \n",
              "1     2018.00  \n",
              "2    35377.76  \n",
              "3     2710.62  \n",
              "4     4145.70  "
            ]
          },
          "execution_count": 217,
          "metadata": {},
          "output_type": "execute_result"
        }
      ],
      "source": [
        "area_java = pd.read_csv(\"../data/raw/total_area_westjava.csv\")\n",
        "\n",
        "area_java.head()"
      ]
    },
    {
      "cell_type": "code",
      "execution_count": 218,
      "metadata": {
        "colab": {
          "base_uri": "https://localhost:8080/",
          "height": 206
        },
        "id": "un51GZZpYyMi",
        "outputId": "c5f06432-ee64-430f-a97e-200e08136e24"
      },
      "outputs": [
        {
          "data": {
            "text/html": [
              "<div>\n",
              "<style scoped>\n",
              "    .dataframe tbody tr th:only-of-type {\n",
              "        vertical-align: middle;\n",
              "    }\n",
              "\n",
              "    .dataframe tbody tr th {\n",
              "        vertical-align: top;\n",
              "    }\n",
              "\n",
              "    .dataframe thead th {\n",
              "        text-align: right;\n",
              "    }\n",
              "</style>\n",
              "<table border=\"1\" class=\"dataframe\">\n",
              "  <thead>\n",
              "    <tr style=\"text-align: right;\">\n",
              "      <th></th>\n",
              "      <th>District</th>\n",
              "      <th>Area_sq_km</th>\n",
              "    </tr>\n",
              "  </thead>\n",
              "  <tbody>\n",
              "    <tr>\n",
              "      <th>0</th>\n",
              "      <td>JAWA BARAT PROVINCE</td>\n",
              "      <td>35377.76</td>\n",
              "    </tr>\n",
              "    <tr>\n",
              "      <th>1</th>\n",
              "      <td>BOGOR</td>\n",
              "      <td>2710.62</td>\n",
              "    </tr>\n",
              "    <tr>\n",
              "      <th>2</th>\n",
              "      <td>SUKABUMI</td>\n",
              "      <td>4145.7</td>\n",
              "    </tr>\n",
              "    <tr>\n",
              "      <th>3</th>\n",
              "      <td>CIANJUR</td>\n",
              "      <td>3840.16</td>\n",
              "    </tr>\n",
              "    <tr>\n",
              "      <th>4</th>\n",
              "      <td>BANDUNG</td>\n",
              "      <td>1767.96</td>\n",
              "    </tr>\n",
              "  </tbody>\n",
              "</table>\n",
              "</div>"
            ],
            "text/plain": [
              "              District Area_sq_km\n",
              "0  JAWA BARAT PROVINCE   35377.76\n",
              "1                BOGOR    2710.62\n",
              "2             SUKABUMI     4145.7\n",
              "3              CIANJUR    3840.16\n",
              "4              BANDUNG    1767.96"
            ]
          },
          "execution_count": 218,
          "metadata": {},
          "output_type": "execute_result"
        }
      ],
      "source": [
        "#make the values for row index 1 become column values\n",
        "area_java.columns = area_java.iloc[1]\n",
        "area_java = area_java.iloc[2:]\n",
        "\n",
        "#rename the col 1 to be \"District\" instead of NaN\n",
        "area_java.rename(columns={np.nan: 'District'}, inplace=True)\n",
        "\n",
        "#reformat to long\n",
        "area_java = pd.melt(area_java, id_vars=[\"District\"], var_name=\"Year\", value_name=\"Area_sq_km\")\n",
        "\n",
        "#eliminate the Year column here because all the area values are the same\n",
        "area_java = area_java.drop(columns=[\"Year\"])\n",
        "\n",
        "#convert the names of District values to upper case\n",
        "area_java[\"District\"] = area_java[\"District\"].str.upper()\n",
        "\n",
        "#rewrite the values of District --> for values with MUNICIPALITY at the back, eliminate the MUNICIPALITY and add KOTA at the front of only the values previously containing municipality\n",
        "area_java.loc[area_java[\"District\"].str.contains(\"MUNICIPALITY\"), \"District\"] = \"KOTA \" + area_java[\"District\"].str.replace(\"MUNICIPALITY\", \"\")\n",
        "\n",
        "\n",
        "#check the dataframe format\n",
        "area_java.head()"
      ]
    },
    {
      "cell_type": "code",
      "execution_count": 219,
      "metadata": {
        "colab": {
          "base_uri": "https://localhost:8080/"
        },
        "id": "e0yV8t-4cBrw",
        "outputId": "a72d745c-e692-40e7-ac45-7a371f931747"
      },
      "outputs": [
        {
          "data": {
            "text/plain": [
              "array(['JAWA BARAT PROVINCE', 'BOGOR', 'SUKABUMI', 'CIANJUR', 'BANDUNG',\n",
              "       'GARUT', 'TASIKMALAYA', 'CIAMIS', 'KUNINGAN', 'CIREBON',\n",
              "       'MAJALENGKA', 'SUMEDANG', 'INDRAMAYU', 'SUBANG', 'PURWAKARTA',\n",
              "       'KARAWANG', 'BEKASI', 'BANDUNG BARAT', 'PANGANDARAN',\n",
              "       'KOTA BOGOR ', 'KOTA SUKABUMI ', 'KOTA BANDUNG ', 'KOTA CIREBON ',\n",
              "       'KOTA BEKASI ', 'KOTA DEPOK ', 'KOTA CIMAHI ', 'KOTA TASIKMALAYA ',\n",
              "       'KOTA BANJAR '], dtype=object)"
            ]
          },
          "execution_count": 219,
          "metadata": {},
          "output_type": "execute_result"
        }
      ],
      "source": [
        "area_java[\"District\"].unique()"
      ]
    },
    {
      "cell_type": "markdown",
      "metadata": {
        "id": "7N-x7uecWsfI"
      },
      "source": []
    },
    {
      "cell_type": "code",
      "execution_count": 220,
      "metadata": {
        "id": "F-XhVlJzMT83"
      },
      "outputs": [],
      "source": [
        "#merge the jkt and java datasets to the df_long dataset by District and Year to add the population density column\n",
        "data_java = data_java.merge(area_java, on=[\"District\"], how=\"left\")\n",
        "data_jkt = data_jkt.merge(area_jkt, on=[\"District\", \"Year\"], how=\"left\")"
      ]
    },
    {
      "cell_type": "code",
      "execution_count": 221,
      "metadata": {
        "id": "NFKeYPwTNbUS"
      },
      "outputs": [],
      "source": [
        "#convert population and area to integer\n",
        "data_java[\"Population\"] = data_java[\"Population\"].astype(int)\n",
        "data_jkt[\"Population\"] = data_jkt[\"Population\"].astype(int)\n",
        "\n",
        "#convert the area_sq_km values into\n",
        "data_java[\"Area_sq_km\"] = data_java[\"Area_sq_km\"].astype(float)\n",
        "data_jkt[\"Area_sq_km\"] = data_jkt[\"Area_sq_km\"].astype(float)\n",
        "data_java[\"Pop_density\"] = data_java[\"Population\"] / data_java[\"Area_sq_km\"]\n",
        "data_jkt[\"Pop_density\"] = data_jkt[\"Population\"] / data_jkt[\"Area_sq_km\"]"
      ]
    },
    {
      "cell_type": "code",
      "execution_count": 222,
      "metadata": {
        "colab": {
          "base_uri": "https://localhost:8080/",
          "height": 206
        },
        "id": "hWBcEcdgNw7q",
        "outputId": "7bb8a7b7-de27-4c84-e1ef-dbcd57bcc2a0"
      },
      "outputs": [
        {
          "data": {
            "text/html": [
              "<div>\n",
              "<style scoped>\n",
              "    .dataframe tbody tr th:only-of-type {\n",
              "        vertical-align: middle;\n",
              "    }\n",
              "\n",
              "    .dataframe tbody tr th {\n",
              "        vertical-align: top;\n",
              "    }\n",
              "\n",
              "    .dataframe thead th {\n",
              "        text-align: right;\n",
              "    }\n",
              "</style>\n",
              "<table border=\"1\" class=\"dataframe\">\n",
              "  <thead>\n",
              "    <tr style=\"text-align: right;\">\n",
              "      <th></th>\n",
              "      <th>District</th>\n",
              "      <th>Year</th>\n",
              "      <th>Age</th>\n",
              "      <th>Cases</th>\n",
              "      <th>Population</th>\n",
              "      <th>Province</th>\n",
              "      <th>Area_sq_km</th>\n",
              "      <th>Pop_density</th>\n",
              "    </tr>\n",
              "  </thead>\n",
              "  <tbody>\n",
              "    <tr>\n",
              "      <th>0</th>\n",
              "      <td>KEPULAUAN SERIBU</td>\n",
              "      <td>2020</td>\n",
              "      <td>0-4</td>\n",
              "      <td>9</td>\n",
              "      <td>2837</td>\n",
              "      <td>DKI Jakarta</td>\n",
              "      <td>10.18</td>\n",
              "      <td>278.683694</td>\n",
              "    </tr>\n",
              "    <tr>\n",
              "      <th>1</th>\n",
              "      <td>KEPULAUAN SERIBU</td>\n",
              "      <td>2020</td>\n",
              "      <td>10-14</td>\n",
              "      <td>1</td>\n",
              "      <td>2307</td>\n",
              "      <td>DKI Jakarta</td>\n",
              "      <td>10.18</td>\n",
              "      <td>226.620825</td>\n",
              "    </tr>\n",
              "    <tr>\n",
              "      <th>2</th>\n",
              "      <td>KEPULAUAN SERIBU</td>\n",
              "      <td>2020</td>\n",
              "      <td>15-19</td>\n",
              "      <td>0</td>\n",
              "      <td>2575</td>\n",
              "      <td>DKI Jakarta</td>\n",
              "      <td>10.18</td>\n",
              "      <td>252.946955</td>\n",
              "    </tr>\n",
              "    <tr>\n",
              "      <th>3</th>\n",
              "      <td>KEPULAUAN SERIBU</td>\n",
              "      <td>2020</td>\n",
              "      <td>20-44</td>\n",
              "      <td>2</td>\n",
              "      <td>11456</td>\n",
              "      <td>DKI Jakarta</td>\n",
              "      <td>10.18</td>\n",
              "      <td>1125.343811</td>\n",
              "    </tr>\n",
              "    <tr>\n",
              "      <th>4</th>\n",
              "      <td>KEPULAUAN SERIBU</td>\n",
              "      <td>2020</td>\n",
              "      <td>45-54</td>\n",
              "      <td>0</td>\n",
              "      <td>3184</td>\n",
              "      <td>DKI Jakarta</td>\n",
              "      <td>10.18</td>\n",
              "      <td>312.770138</td>\n",
              "    </tr>\n",
              "  </tbody>\n",
              "</table>\n",
              "</div>"
            ],
            "text/plain": [
              "           District  Year    Age  Cases  Population     Province  Area_sq_km  \\\n",
              "0  KEPULAUAN SERIBU  2020    0-4      9        2837  DKI Jakarta       10.18   \n",
              "1  KEPULAUAN SERIBU  2020  10-14      1        2307  DKI Jakarta       10.18   \n",
              "2  KEPULAUAN SERIBU  2020  15-19      0        2575  DKI Jakarta       10.18   \n",
              "3  KEPULAUAN SERIBU  2020  20-44      2       11456  DKI Jakarta       10.18   \n",
              "4  KEPULAUAN SERIBU  2020  45-54      0        3184  DKI Jakarta       10.18   \n",
              "\n",
              "   Pop_density  \n",
              "0   278.683694  \n",
              "1   226.620825  \n",
              "2   252.946955  \n",
              "3  1125.343811  \n",
              "4   312.770138  "
            ]
          },
          "execution_count": 222,
          "metadata": {},
          "output_type": "execute_result"
        }
      ],
      "source": [
        "data_jkt.head()"
      ]
    },
    {
      "cell_type": "code",
      "execution_count": 223,
      "metadata": {
        "colab": {
          "base_uri": "https://localhost:8080/"
        },
        "id": "3WaYbtfCGyyC",
        "outputId": "d5f5768f-4d32-431c-86e3-d8f0fcbe0e34"
      },
      "outputs": [
        {
          "data": {
            "text/plain": [
              "array([2020, 2021, 2022, 2023])"
            ]
          },
          "execution_count": 223,
          "metadata": {},
          "output_type": "execute_result"
        }
      ],
      "source": [
        "#check unique values for year\n",
        "data_java[\"Year\"].unique()"
      ]
    },
    {
      "cell_type": "code",
      "execution_count": 224,
      "metadata": {
        "colab": {
          "base_uri": "https://localhost:8080/"
        },
        "id": "g4_sGeULG2-b",
        "outputId": "2ffd1112-f06e-4765-d058-94aa3f33005c"
      },
      "outputs": [
        {
          "data": {
            "text/plain": [
              "array([2020, 2021, 2022, 2023])"
            ]
          },
          "execution_count": 224,
          "metadata": {},
          "output_type": "execute_result"
        }
      ],
      "source": [
        "#check unique values for year\n",
        "data_jkt[\"Year\"].unique()"
      ]
    },
    {
      "cell_type": "code",
      "execution_count": 225,
      "metadata": {
        "id": "3LybkvFXTC50"
      },
      "outputs": [],
      "source": [
        "#read in HDI data\n",
        "data_hdi_old = pd.read_csv(\"../data/raw/hdi_2019-2021.csv\")\n",
        "data_hdi_new = pd.read_csv(\"../data/raw/hdi_2022-2024.csv\")"
      ]
    },
    {
      "cell_type": "code",
      "execution_count": 226,
      "metadata": {
        "colab": {
          "base_uri": "https://localhost:8080/",
          "height": 206
        },
        "id": "oXjMiJmoTT3w",
        "outputId": "9c746b46-18a1-4bac-ffd3-e371684df5d0"
      },
      "outputs": [
        {
          "data": {
            "text/html": [
              "<div>\n",
              "<style scoped>\n",
              "    .dataframe tbody tr th:only-of-type {\n",
              "        vertical-align: middle;\n",
              "    }\n",
              "\n",
              "    .dataframe tbody tr th {\n",
              "        vertical-align: top;\n",
              "    }\n",
              "\n",
              "    .dataframe thead th {\n",
              "        text-align: right;\n",
              "    }\n",
              "</style>\n",
              "<table border=\"1\" class=\"dataframe\">\n",
              "  <thead>\n",
              "    <tr style=\"text-align: right;\">\n",
              "      <th></th>\n",
              "      <th>Province/Regency/City</th>\n",
              "      <th>Unnamed: 1</th>\n",
              "      <th>Unnamed: 2</th>\n",
              "      <th>Unnamed: 3</th>\n",
              "    </tr>\n",
              "  </thead>\n",
              "  <tbody>\n",
              "    <tr>\n",
              "      <th>0</th>\n",
              "      <td>NaN</td>\n",
              "      <td>[New Method] Human Development Index</td>\n",
              "      <td>NaN</td>\n",
              "      <td>NaN</td>\n",
              "    </tr>\n",
              "    <tr>\n",
              "      <th>1</th>\n",
              "      <td>NaN</td>\n",
              "      <td>2019</td>\n",
              "      <td>2020</td>\n",
              "      <td>2021</td>\n",
              "    </tr>\n",
              "    <tr>\n",
              "      <th>2</th>\n",
              "      <td>ACEH</td>\n",
              "      <td>71.9</td>\n",
              "      <td>71.99</td>\n",
              "      <td>72.18</td>\n",
              "    </tr>\n",
              "    <tr>\n",
              "      <th>3</th>\n",
              "      <td>Simeulue</td>\n",
              "      <td>65.7</td>\n",
              "      <td>66.03</td>\n",
              "      <td>66.41</td>\n",
              "    </tr>\n",
              "    <tr>\n",
              "      <th>4</th>\n",
              "      <td>Aceh Singkil</td>\n",
              "      <td>68.91</td>\n",
              "      <td>68.94</td>\n",
              "      <td>69.22</td>\n",
              "    </tr>\n",
              "  </tbody>\n",
              "</table>\n",
              "</div>"
            ],
            "text/plain": [
              "  Province/Regency/City                            Unnamed: 1 Unnamed: 2  \\\n",
              "0                   NaN  [New Method] Human Development Index        NaN   \n",
              "1                   NaN                                  2019       2020   \n",
              "2                  ACEH                                  71.9      71.99   \n",
              "3              Simeulue                                  65.7      66.03   \n",
              "4          Aceh Singkil                                 68.91      68.94   \n",
              "\n",
              "  Unnamed: 3  \n",
              "0        NaN  \n",
              "1       2021  \n",
              "2      72.18  \n",
              "3      66.41  \n",
              "4      69.22  "
            ]
          },
          "execution_count": 226,
          "metadata": {},
          "output_type": "execute_result"
        }
      ],
      "source": [
        "data_hdi_old.head()"
      ]
    },
    {
      "cell_type": "code",
      "execution_count": 227,
      "metadata": {
        "colab": {
          "base_uri": "https://localhost:8080/",
          "height": 206
        },
        "id": "OrxjaDwLHdVj",
        "outputId": "7ce13486-e1fc-474c-8728-8712c1c239cd"
      },
      "outputs": [
        {
          "data": {
            "text/html": [
              "<div>\n",
              "<style scoped>\n",
              "    .dataframe tbody tr th:only-of-type {\n",
              "        vertical-align: middle;\n",
              "    }\n",
              "\n",
              "    .dataframe tbody tr th {\n",
              "        vertical-align: top;\n",
              "    }\n",
              "\n",
              "    .dataframe thead th {\n",
              "        text-align: right;\n",
              "    }\n",
              "</style>\n",
              "<table border=\"1\" class=\"dataframe\">\n",
              "  <thead>\n",
              "    <tr style=\"text-align: right;\">\n",
              "      <th></th>\n",
              "      <th>Province/Regency/City</th>\n",
              "      <th>Unnamed: 1</th>\n",
              "      <th>Unnamed: 2</th>\n",
              "      <th>Unnamed: 3</th>\n",
              "    </tr>\n",
              "  </thead>\n",
              "  <tbody>\n",
              "    <tr>\n",
              "      <th>0</th>\n",
              "      <td>NaN</td>\n",
              "      <td>[New Method] Human Development Index</td>\n",
              "      <td>NaN</td>\n",
              "      <td>NaN</td>\n",
              "    </tr>\n",
              "    <tr>\n",
              "      <th>1</th>\n",
              "      <td>NaN</td>\n",
              "      <td>2022</td>\n",
              "      <td>2023</td>\n",
              "      <td>2024</td>\n",
              "    </tr>\n",
              "    <tr>\n",
              "      <th>2</th>\n",
              "      <td>ACEH</td>\n",
              "      <td>72.8</td>\n",
              "      <td>73.4</td>\n",
              "      <td>74.03</td>\n",
              "    </tr>\n",
              "    <tr>\n",
              "      <th>3</th>\n",
              "      <td>Simeulue</td>\n",
              "      <td>67.27</td>\n",
              "      <td>68.06</td>\n",
              "      <td>69.01</td>\n",
              "    </tr>\n",
              "    <tr>\n",
              "      <th>4</th>\n",
              "      <td>Aceh Singkil</td>\n",
              "      <td>69.62</td>\n",
              "      <td>70.14</td>\n",
              "      <td>70.75</td>\n",
              "    </tr>\n",
              "  </tbody>\n",
              "</table>\n",
              "</div>"
            ],
            "text/plain": [
              "  Province/Regency/City                            Unnamed: 1 Unnamed: 2  \\\n",
              "0                   NaN  [New Method] Human Development Index        NaN   \n",
              "1                   NaN                                  2022       2023   \n",
              "2                  ACEH                                  72.8       73.4   \n",
              "3              Simeulue                                 67.27      68.06   \n",
              "4          Aceh Singkil                                 69.62      70.14   \n",
              "\n",
              "  Unnamed: 3  \n",
              "0        NaN  \n",
              "1       2024  \n",
              "2      74.03  \n",
              "3      69.01  \n",
              "4      70.75  "
            ]
          },
          "execution_count": 227,
          "metadata": {},
          "output_type": "execute_result"
        }
      ],
      "source": [
        "data_hdi_new.head()"
      ]
    },
    {
      "cell_type": "code",
      "execution_count": 228,
      "metadata": {
        "id": "y2LQjJ2YiTGM"
      },
      "outputs": [],
      "source": [
        "#the colnames of the index 1 row to be colnames\n",
        "data_hdi_new.columns = data_hdi_new.iloc[1]\n",
        "data_hdi_new = data_hdi_new.iloc[2:]\n",
        "data_hdi_old.columns = data_hdi_old.iloc[1]\n",
        "data_hdi_old = data_hdi_old.iloc[2:]\n",
        "#rename the first column to \"District\"\n",
        "data_hdi_new.rename(columns={np.nan: 'District'}, inplace=True)\n",
        "data_hdi_old.rename(columns={np.nan: 'District'}, inplace=True)"
      ]
    },
    {
      "cell_type": "code",
      "execution_count": 229,
      "metadata": {
        "colab": {
          "base_uri": "https://localhost:8080/",
          "height": 206
        },
        "id": "6XXBm1RLje8B",
        "outputId": "b3c0c51d-ae2b-4e3e-f451-7efe48b29cb0"
      },
      "outputs": [
        {
          "data": {
            "text/html": [
              "<div>\n",
              "<style scoped>\n",
              "    .dataframe tbody tr th:only-of-type {\n",
              "        vertical-align: middle;\n",
              "    }\n",
              "\n",
              "    .dataframe tbody tr th {\n",
              "        vertical-align: top;\n",
              "    }\n",
              "\n",
              "    .dataframe thead th {\n",
              "        text-align: right;\n",
              "    }\n",
              "</style>\n",
              "<table border=\"1\" class=\"dataframe\">\n",
              "  <thead>\n",
              "    <tr style=\"text-align: right;\">\n",
              "      <th>1</th>\n",
              "      <th>District</th>\n",
              "      <th>2019</th>\n",
              "      <th>2020</th>\n",
              "      <th>2021</th>\n",
              "    </tr>\n",
              "  </thead>\n",
              "  <tbody>\n",
              "    <tr>\n",
              "      <th>2</th>\n",
              "      <td>ACEH</td>\n",
              "      <td>71.9</td>\n",
              "      <td>71.99</td>\n",
              "      <td>72.18</td>\n",
              "    </tr>\n",
              "    <tr>\n",
              "      <th>3</th>\n",
              "      <td>Simeulue</td>\n",
              "      <td>65.7</td>\n",
              "      <td>66.03</td>\n",
              "      <td>66.41</td>\n",
              "    </tr>\n",
              "    <tr>\n",
              "      <th>4</th>\n",
              "      <td>Aceh Singkil</td>\n",
              "      <td>68.91</td>\n",
              "      <td>68.94</td>\n",
              "      <td>69.22</td>\n",
              "    </tr>\n",
              "    <tr>\n",
              "      <th>5</th>\n",
              "      <td>Aceh Selatan</td>\n",
              "      <td>66.9</td>\n",
              "      <td>67.12</td>\n",
              "      <td>67.44</td>\n",
              "    </tr>\n",
              "    <tr>\n",
              "      <th>6</th>\n",
              "      <td>Aceh Tenggara</td>\n",
              "      <td>69.36</td>\n",
              "      <td>69.37</td>\n",
              "      <td>69.44</td>\n",
              "    </tr>\n",
              "  </tbody>\n",
              "</table>\n",
              "</div>"
            ],
            "text/plain": [
              "1       District   2019   2020   2021\n",
              "2           ACEH   71.9  71.99  72.18\n",
              "3       Simeulue   65.7  66.03  66.41\n",
              "4   Aceh Singkil  68.91  68.94  69.22\n",
              "5   Aceh Selatan   66.9  67.12  67.44\n",
              "6  Aceh Tenggara  69.36  69.37  69.44"
            ]
          },
          "execution_count": 229,
          "metadata": {},
          "output_type": "execute_result"
        }
      ],
      "source": [
        "data_hdi_old.head()"
      ]
    },
    {
      "cell_type": "code",
      "execution_count": 230,
      "metadata": {
        "colab": {
          "base_uri": "https://localhost:8080/",
          "height": 206
        },
        "id": "q51kHHuUHg3R",
        "outputId": "3438b330-680f-41dd-f6bd-1d0ae6bb6ec3"
      },
      "outputs": [
        {
          "data": {
            "text/html": [
              "<div>\n",
              "<style scoped>\n",
              "    .dataframe tbody tr th:only-of-type {\n",
              "        vertical-align: middle;\n",
              "    }\n",
              "\n",
              "    .dataframe tbody tr th {\n",
              "        vertical-align: top;\n",
              "    }\n",
              "\n",
              "    .dataframe thead th {\n",
              "        text-align: right;\n",
              "    }\n",
              "</style>\n",
              "<table border=\"1\" class=\"dataframe\">\n",
              "  <thead>\n",
              "    <tr style=\"text-align: right;\">\n",
              "      <th>1</th>\n",
              "      <th>District</th>\n",
              "      <th>2022</th>\n",
              "      <th>2023</th>\n",
              "      <th>2024</th>\n",
              "    </tr>\n",
              "  </thead>\n",
              "  <tbody>\n",
              "    <tr>\n",
              "      <th>2</th>\n",
              "      <td>ACEH</td>\n",
              "      <td>72.8</td>\n",
              "      <td>73.4</td>\n",
              "      <td>74.03</td>\n",
              "    </tr>\n",
              "    <tr>\n",
              "      <th>3</th>\n",
              "      <td>Simeulue</td>\n",
              "      <td>67.27</td>\n",
              "      <td>68.06</td>\n",
              "      <td>69.01</td>\n",
              "    </tr>\n",
              "    <tr>\n",
              "      <th>4</th>\n",
              "      <td>Aceh Singkil</td>\n",
              "      <td>69.62</td>\n",
              "      <td>70.14</td>\n",
              "      <td>70.75</td>\n",
              "    </tr>\n",
              "    <tr>\n",
              "      <th>5</th>\n",
              "      <td>Aceh Selatan</td>\n",
              "      <td>67.87</td>\n",
              "      <td>68.44</td>\n",
              "      <td>69.1</td>\n",
              "    </tr>\n",
              "    <tr>\n",
              "      <th>6</th>\n",
              "      <td>Aceh Tenggara</td>\n",
              "      <td>70.32</td>\n",
              "      <td>71.05</td>\n",
              "      <td>71.7</td>\n",
              "    </tr>\n",
              "  </tbody>\n",
              "</table>\n",
              "</div>"
            ],
            "text/plain": [
              "1       District   2022   2023   2024\n",
              "2           ACEH   72.8   73.4  74.03\n",
              "3       Simeulue  67.27  68.06  69.01\n",
              "4   Aceh Singkil  69.62  70.14  70.75\n",
              "5   Aceh Selatan  67.87  68.44   69.1\n",
              "6  Aceh Tenggara  70.32  71.05   71.7"
            ]
          },
          "execution_count": 230,
          "metadata": {},
          "output_type": "execute_result"
        }
      ],
      "source": [
        "data_hdi_new.head()"
      ]
    },
    {
      "cell_type": "code",
      "execution_count": 231,
      "metadata": {
        "id": "5iU5PBR3Tcr7"
      },
      "outputs": [],
      "source": [
        "#concat by district\n",
        "data_hdi = pd.merge(data_hdi_new, data_hdi_old, on=[\"District\"], how=\"inner\")"
      ]
    },
    {
      "cell_type": "code",
      "execution_count": 232,
      "metadata": {
        "colab": {
          "base_uri": "https://localhost:8080/",
          "height": 206
        },
        "id": "AYhn_hUzHksF",
        "outputId": "f56b4328-9696-43e3-9249-ea2b0147f5e2"
      },
      "outputs": [
        {
          "data": {
            "text/html": [
              "<div>\n",
              "<style scoped>\n",
              "    .dataframe tbody tr th:only-of-type {\n",
              "        vertical-align: middle;\n",
              "    }\n",
              "\n",
              "    .dataframe tbody tr th {\n",
              "        vertical-align: top;\n",
              "    }\n",
              "\n",
              "    .dataframe thead th {\n",
              "        text-align: right;\n",
              "    }\n",
              "</style>\n",
              "<table border=\"1\" class=\"dataframe\">\n",
              "  <thead>\n",
              "    <tr style=\"text-align: right;\">\n",
              "      <th>1</th>\n",
              "      <th>District</th>\n",
              "      <th>2022</th>\n",
              "      <th>2023</th>\n",
              "      <th>2024</th>\n",
              "      <th>2019</th>\n",
              "      <th>2020</th>\n",
              "      <th>2021</th>\n",
              "    </tr>\n",
              "  </thead>\n",
              "  <tbody>\n",
              "    <tr>\n",
              "      <th>0</th>\n",
              "      <td>ACEH</td>\n",
              "      <td>72.8</td>\n",
              "      <td>73.4</td>\n",
              "      <td>74.03</td>\n",
              "      <td>71.9</td>\n",
              "      <td>71.99</td>\n",
              "      <td>72.18</td>\n",
              "    </tr>\n",
              "    <tr>\n",
              "      <th>1</th>\n",
              "      <td>Simeulue</td>\n",
              "      <td>67.27</td>\n",
              "      <td>68.06</td>\n",
              "      <td>69.01</td>\n",
              "      <td>65.7</td>\n",
              "      <td>66.03</td>\n",
              "      <td>66.41</td>\n",
              "    </tr>\n",
              "    <tr>\n",
              "      <th>2</th>\n",
              "      <td>Aceh Singkil</td>\n",
              "      <td>69.62</td>\n",
              "      <td>70.14</td>\n",
              "      <td>70.75</td>\n",
              "      <td>68.91</td>\n",
              "      <td>68.94</td>\n",
              "      <td>69.22</td>\n",
              "    </tr>\n",
              "    <tr>\n",
              "      <th>3</th>\n",
              "      <td>Aceh Selatan</td>\n",
              "      <td>67.87</td>\n",
              "      <td>68.44</td>\n",
              "      <td>69.1</td>\n",
              "      <td>66.9</td>\n",
              "      <td>67.12</td>\n",
              "      <td>67.44</td>\n",
              "    </tr>\n",
              "    <tr>\n",
              "      <th>4</th>\n",
              "      <td>Aceh Tenggara</td>\n",
              "      <td>70.32</td>\n",
              "      <td>71.05</td>\n",
              "      <td>71.7</td>\n",
              "      <td>69.36</td>\n",
              "      <td>69.37</td>\n",
              "      <td>69.44</td>\n",
              "    </tr>\n",
              "  </tbody>\n",
              "</table>\n",
              "</div>"
            ],
            "text/plain": [
              "1       District   2022   2023   2024   2019   2020   2021\n",
              "0           ACEH   72.8   73.4  74.03   71.9  71.99  72.18\n",
              "1       Simeulue  67.27  68.06  69.01   65.7  66.03  66.41\n",
              "2   Aceh Singkil  69.62  70.14  70.75  68.91  68.94  69.22\n",
              "3   Aceh Selatan  67.87  68.44   69.1   66.9  67.12  67.44\n",
              "4  Aceh Tenggara  70.32  71.05   71.7  69.36  69.37  69.44"
            ]
          },
          "execution_count": 232,
          "metadata": {},
          "output_type": "execute_result"
        }
      ],
      "source": [
        "#check head for combined data_hdi\n",
        "data_hdi.head()"
      ]
    },
    {
      "cell_type": "code",
      "execution_count": 233,
      "metadata": {
        "colab": {
          "base_uri": "https://localhost:8080/",
          "height": 206
        },
        "id": "p6YKJvkYlM4q",
        "outputId": "c9ce9820-63ba-4de0-dbea-9e48a067c7f3"
      },
      "outputs": [
        {
          "data": {
            "text/html": [
              "<div>\n",
              "<style scoped>\n",
              "    .dataframe tbody tr th:only-of-type {\n",
              "        vertical-align: middle;\n",
              "    }\n",
              "\n",
              "    .dataframe tbody tr th {\n",
              "        vertical-align: top;\n",
              "    }\n",
              "\n",
              "    .dataframe thead th {\n",
              "        text-align: right;\n",
              "    }\n",
              "</style>\n",
              "<table border=\"1\" class=\"dataframe\">\n",
              "  <thead>\n",
              "    <tr style=\"text-align: right;\">\n",
              "      <th></th>\n",
              "      <th>District</th>\n",
              "      <th>Year</th>\n",
              "      <th>HDI</th>\n",
              "    </tr>\n",
              "  </thead>\n",
              "  <tbody>\n",
              "    <tr>\n",
              "      <th>0</th>\n",
              "      <td>ACEH</td>\n",
              "      <td>2022</td>\n",
              "      <td>72.8</td>\n",
              "    </tr>\n",
              "    <tr>\n",
              "      <th>1</th>\n",
              "      <td>Simeulue</td>\n",
              "      <td>2022</td>\n",
              "      <td>67.27</td>\n",
              "    </tr>\n",
              "    <tr>\n",
              "      <th>2</th>\n",
              "      <td>Aceh Singkil</td>\n",
              "      <td>2022</td>\n",
              "      <td>69.62</td>\n",
              "    </tr>\n",
              "    <tr>\n",
              "      <th>3</th>\n",
              "      <td>Aceh Selatan</td>\n",
              "      <td>2022</td>\n",
              "      <td>67.87</td>\n",
              "    </tr>\n",
              "    <tr>\n",
              "      <th>4</th>\n",
              "      <td>Aceh Tenggara</td>\n",
              "      <td>2022</td>\n",
              "      <td>70.32</td>\n",
              "    </tr>\n",
              "  </tbody>\n",
              "</table>\n",
              "</div>"
            ],
            "text/plain": [
              "        District  Year    HDI\n",
              "0           ACEH  2022   72.8\n",
              "1       Simeulue  2022  67.27\n",
              "2   Aceh Singkil  2022  69.62\n",
              "3   Aceh Selatan  2022  67.87\n",
              "4  Aceh Tenggara  2022  70.32"
            ]
          },
          "execution_count": 233,
          "metadata": {},
          "output_type": "execute_result"
        }
      ],
      "source": [
        "#pivot to long from wide\n",
        "data_hdi = pd.melt(data_hdi, id_vars=[\"District\"], var_name=\"Year\", value_name=\"HDI\")\n",
        "\n",
        "#check\n",
        "data_hdi.head()"
      ]
    },
    {
      "cell_type": "code",
      "execution_count": 234,
      "metadata": {
        "colab": {
          "base_uri": "https://localhost:8080/"
        },
        "id": "yULjnzZlHAYE",
        "outputId": "2a2f91b9-4693-4e8e-d7dd-1c960e6ae4a0"
      },
      "outputs": [
        {
          "data": {
            "text/plain": [
              "array(['2022', '2023', '2024', '2019', '2020', '2021'], dtype=object)"
            ]
          },
          "execution_count": 234,
          "metadata": {},
          "output_type": "execute_result"
        }
      ],
      "source": [
        "#check unique values for Year\n",
        "data_hdi[\"Year\"].unique()"
      ]
    },
    {
      "cell_type": "code",
      "execution_count": 235,
      "metadata": {
        "colab": {
          "base_uri": "https://localhost:8080/",
          "height": 206
        },
        "id": "6FEn54KhjOGU",
        "outputId": "3b23b62d-cdf8-449c-f365-b4c171ffb1db"
      },
      "outputs": [
        {
          "data": {
            "text/html": [
              "<div>\n",
              "<style scoped>\n",
              "    .dataframe tbody tr th:only-of-type {\n",
              "        vertical-align: middle;\n",
              "    }\n",
              "\n",
              "    .dataframe tbody tr th {\n",
              "        vertical-align: top;\n",
              "    }\n",
              "\n",
              "    .dataframe thead th {\n",
              "        text-align: right;\n",
              "    }\n",
              "</style>\n",
              "<table border=\"1\" class=\"dataframe\">\n",
              "  <thead>\n",
              "    <tr style=\"text-align: right;\">\n",
              "      <th></th>\n",
              "      <th>District</th>\n",
              "      <th>Year</th>\n",
              "      <th>HDI</th>\n",
              "    </tr>\n",
              "  </thead>\n",
              "  <tbody>\n",
              "    <tr>\n",
              "      <th>0</th>\n",
              "      <td>ACEH</td>\n",
              "      <td>2022</td>\n",
              "      <td>72.8</td>\n",
              "    </tr>\n",
              "    <tr>\n",
              "      <th>1</th>\n",
              "      <td>SIMEULUE</td>\n",
              "      <td>2022</td>\n",
              "      <td>67.27</td>\n",
              "    </tr>\n",
              "    <tr>\n",
              "      <th>2</th>\n",
              "      <td>ACEH SINGKIL</td>\n",
              "      <td>2022</td>\n",
              "      <td>69.62</td>\n",
              "    </tr>\n",
              "    <tr>\n",
              "      <th>3</th>\n",
              "      <td>ACEH SELATAN</td>\n",
              "      <td>2022</td>\n",
              "      <td>67.87</td>\n",
              "    </tr>\n",
              "    <tr>\n",
              "      <th>4</th>\n",
              "      <td>ACEH TENGGARA</td>\n",
              "      <td>2022</td>\n",
              "      <td>70.32</td>\n",
              "    </tr>\n",
              "  </tbody>\n",
              "</table>\n",
              "</div>"
            ],
            "text/plain": [
              "        District  Year    HDI\n",
              "0           ACEH  2022   72.8\n",
              "1       SIMEULUE  2022  67.27\n",
              "2   ACEH SINGKIL  2022  69.62\n",
              "3   ACEH SELATAN  2022  67.87\n",
              "4  ACEH TENGGARA  2022  70.32"
            ]
          },
          "execution_count": 235,
          "metadata": {},
          "output_type": "execute_result"
        }
      ],
      "source": [
        "#rename Kep.Seribu into kepulauan seribu\n",
        "data_hdi.loc[data_hdi[\"District\"] == \"Kep. Seribu\", \"District\"] = \"Kepulauan Seribu\"\n",
        "\n",
        "#convert the values of District column into all upper case\n",
        "data_hdi[\"District\"] = data_hdi[\"District\"].str.upper()\n",
        "\n",
        "#check again\n",
        "\n",
        "data_hdi.head()"
      ]
    },
    {
      "cell_type": "code",
      "execution_count": 236,
      "metadata": {
        "id": "UcE_6m8pIi3Q"
      },
      "outputs": [],
      "source": [
        "#convert Year to integer\n",
        "data_hdi[\"Year\"] = data_hdi[\"Year\"].astype(int)"
      ]
    },
    {
      "cell_type": "code",
      "execution_count": 237,
      "metadata": {
        "id": "6WANqIzlkYFn"
      },
      "outputs": [],
      "source": [
        "#merge the hdi data with the data_java and data_jakarta\n",
        "data_java = data_java.merge(data_hdi, on=[\"District\", \"Year\"], how=\"left\")\n",
        "data_jkt = data_jkt.merge(data_hdi, on=[\"District\", \"Year\"], how=\"left\")"
      ]
    },
    {
      "cell_type": "code",
      "execution_count": 238,
      "metadata": {
        "colab": {
          "base_uri": "https://localhost:8080/",
          "height": 206
        },
        "id": "5ic4Zglzll25",
        "outputId": "4a22d5af-12ce-48e0-8691-ae8d42a72782"
      },
      "outputs": [
        {
          "data": {
            "text/html": [
              "<div>\n",
              "<style scoped>\n",
              "    .dataframe tbody tr th:only-of-type {\n",
              "        vertical-align: middle;\n",
              "    }\n",
              "\n",
              "    .dataframe tbody tr th {\n",
              "        vertical-align: top;\n",
              "    }\n",
              "\n",
              "    .dataframe thead th {\n",
              "        text-align: right;\n",
              "    }\n",
              "</style>\n",
              "<table border=\"1\" class=\"dataframe\">\n",
              "  <thead>\n",
              "    <tr style=\"text-align: right;\">\n",
              "      <th></th>\n",
              "      <th>District</th>\n",
              "      <th>Year</th>\n",
              "      <th>Age</th>\n",
              "      <th>Cases</th>\n",
              "      <th>Population</th>\n",
              "      <th>Province</th>\n",
              "      <th>Area_sq_km</th>\n",
              "      <th>Pop_density</th>\n",
              "      <th>HDI</th>\n",
              "    </tr>\n",
              "  </thead>\n",
              "  <tbody>\n",
              "    <tr>\n",
              "      <th>0</th>\n",
              "      <td>BANDUNG</td>\n",
              "      <td>2020</td>\n",
              "      <td>0-4</td>\n",
              "      <td>332</td>\n",
              "      <td>313554</td>\n",
              "      <td>West Java</td>\n",
              "      <td>1767.96</td>\n",
              "      <td>177.35356</td>\n",
              "      <td>72.39</td>\n",
              "    </tr>\n",
              "    <tr>\n",
              "      <th>1</th>\n",
              "      <td>BANDUNG</td>\n",
              "      <td>2020</td>\n",
              "      <td>0-4</td>\n",
              "      <td>332</td>\n",
              "      <td>313554</td>\n",
              "      <td>West Java</td>\n",
              "      <td>1767.96</td>\n",
              "      <td>177.35356</td>\n",
              "      <td>72.39</td>\n",
              "    </tr>\n",
              "    <tr>\n",
              "      <th>2</th>\n",
              "      <td>BANDUNG</td>\n",
              "      <td>2020</td>\n",
              "      <td>0-4</td>\n",
              "      <td>332</td>\n",
              "      <td>313554</td>\n",
              "      <td>West Java</td>\n",
              "      <td>1767.96</td>\n",
              "      <td>177.35356</td>\n",
              "      <td>72.39</td>\n",
              "    </tr>\n",
              "    <tr>\n",
              "      <th>3</th>\n",
              "      <td>BANDUNG</td>\n",
              "      <td>2020</td>\n",
              "      <td>0-4</td>\n",
              "      <td>332</td>\n",
              "      <td>313554</td>\n",
              "      <td>West Java</td>\n",
              "      <td>1767.96</td>\n",
              "      <td>177.35356</td>\n",
              "      <td>72.39</td>\n",
              "    </tr>\n",
              "    <tr>\n",
              "      <th>4</th>\n",
              "      <td>BANDUNG</td>\n",
              "      <td>2020</td>\n",
              "      <td>15-44</td>\n",
              "      <td>950</td>\n",
              "      <td>1772345</td>\n",
              "      <td>West Java</td>\n",
              "      <td>1767.96</td>\n",
              "      <td>1002.48026</td>\n",
              "      <td>72.39</td>\n",
              "    </tr>\n",
              "  </tbody>\n",
              "</table>\n",
              "</div>"
            ],
            "text/plain": [
              "  District  Year    Age  Cases  Population   Province  Area_sq_km  \\\n",
              "0  BANDUNG  2020    0-4    332      313554  West Java     1767.96   \n",
              "1  BANDUNG  2020    0-4    332      313554  West Java     1767.96   \n",
              "2  BANDUNG  2020    0-4    332      313554  West Java     1767.96   \n",
              "3  BANDUNG  2020    0-4    332      313554  West Java     1767.96   \n",
              "4  BANDUNG  2020  15-44    950     1772345  West Java     1767.96   \n",
              "\n",
              "   Pop_density    HDI  \n",
              "0    177.35356  72.39  \n",
              "1    177.35356  72.39  \n",
              "2    177.35356  72.39  \n",
              "3    177.35356  72.39  \n",
              "4   1002.48026  72.39  "
            ]
          },
          "execution_count": 238,
          "metadata": {},
          "output_type": "execute_result"
        }
      ],
      "source": [
        "#check\n",
        "data_java.head()"
      ]
    },
    {
      "cell_type": "code",
      "execution_count": 239,
      "metadata": {
        "colab": {
          "base_uri": "https://localhost:8080/"
        },
        "id": "d8AvhJwsIoBe",
        "outputId": "1bc79bbc-c004-4d4b-9658-f19d5cab9d2d"
      },
      "outputs": [
        {
          "data": {
            "text/plain": [
              "array([2020, 2021, 2022, 2023])"
            ]
          },
          "execution_count": 239,
          "metadata": {},
          "output_type": "execute_result"
        }
      ],
      "source": [
        "#check values of Year\n",
        "data_java[\"Year\"].unique()"
      ]
    },
    {
      "cell_type": "code",
      "execution_count": 240,
      "metadata": {
        "colab": {
          "base_uri": "https://localhost:8080/",
          "height": 206
        },
        "id": "7eGjfu1jlo-6",
        "outputId": "b65d4998-a566-4c73-ba0b-4829ff24ba8a"
      },
      "outputs": [
        {
          "data": {
            "text/html": [
              "<div>\n",
              "<style scoped>\n",
              "    .dataframe tbody tr th:only-of-type {\n",
              "        vertical-align: middle;\n",
              "    }\n",
              "\n",
              "    .dataframe tbody tr th {\n",
              "        vertical-align: top;\n",
              "    }\n",
              "\n",
              "    .dataframe thead th {\n",
              "        text-align: right;\n",
              "    }\n",
              "</style>\n",
              "<table border=\"1\" class=\"dataframe\">\n",
              "  <thead>\n",
              "    <tr style=\"text-align: right;\">\n",
              "      <th></th>\n",
              "      <th>District</th>\n",
              "      <th>Year</th>\n",
              "      <th>Age</th>\n",
              "      <th>Cases</th>\n",
              "      <th>Population</th>\n",
              "      <th>Province</th>\n",
              "      <th>Area_sq_km</th>\n",
              "      <th>Pop_density</th>\n",
              "      <th>HDI</th>\n",
              "    </tr>\n",
              "  </thead>\n",
              "  <tbody>\n",
              "    <tr>\n",
              "      <th>0</th>\n",
              "      <td>KEPULAUAN SERIBU</td>\n",
              "      <td>2020</td>\n",
              "      <td>0-4</td>\n",
              "      <td>9</td>\n",
              "      <td>2837</td>\n",
              "      <td>DKI Jakarta</td>\n",
              "      <td>10.18</td>\n",
              "      <td>278.683694</td>\n",
              "      <td>71.63</td>\n",
              "    </tr>\n",
              "    <tr>\n",
              "      <th>1</th>\n",
              "      <td>KEPULAUAN SERIBU</td>\n",
              "      <td>2020</td>\n",
              "      <td>10-14</td>\n",
              "      <td>1</td>\n",
              "      <td>2307</td>\n",
              "      <td>DKI Jakarta</td>\n",
              "      <td>10.18</td>\n",
              "      <td>226.620825</td>\n",
              "      <td>71.63</td>\n",
              "    </tr>\n",
              "    <tr>\n",
              "      <th>2</th>\n",
              "      <td>KEPULAUAN SERIBU</td>\n",
              "      <td>2020</td>\n",
              "      <td>15-19</td>\n",
              "      <td>0</td>\n",
              "      <td>2575</td>\n",
              "      <td>DKI Jakarta</td>\n",
              "      <td>10.18</td>\n",
              "      <td>252.946955</td>\n",
              "      <td>71.63</td>\n",
              "    </tr>\n",
              "    <tr>\n",
              "      <th>3</th>\n",
              "      <td>KEPULAUAN SERIBU</td>\n",
              "      <td>2020</td>\n",
              "      <td>20-44</td>\n",
              "      <td>2</td>\n",
              "      <td>11456</td>\n",
              "      <td>DKI Jakarta</td>\n",
              "      <td>10.18</td>\n",
              "      <td>1125.343811</td>\n",
              "      <td>71.63</td>\n",
              "    </tr>\n",
              "    <tr>\n",
              "      <th>4</th>\n",
              "      <td>KEPULAUAN SERIBU</td>\n",
              "      <td>2020</td>\n",
              "      <td>45-54</td>\n",
              "      <td>0</td>\n",
              "      <td>3184</td>\n",
              "      <td>DKI Jakarta</td>\n",
              "      <td>10.18</td>\n",
              "      <td>312.770138</td>\n",
              "      <td>71.63</td>\n",
              "    </tr>\n",
              "  </tbody>\n",
              "</table>\n",
              "</div>"
            ],
            "text/plain": [
              "           District  Year    Age  Cases  Population     Province  Area_sq_km  \\\n",
              "0  KEPULAUAN SERIBU  2020    0-4      9        2837  DKI Jakarta       10.18   \n",
              "1  KEPULAUAN SERIBU  2020  10-14      1        2307  DKI Jakarta       10.18   \n",
              "2  KEPULAUAN SERIBU  2020  15-19      0        2575  DKI Jakarta       10.18   \n",
              "3  KEPULAUAN SERIBU  2020  20-44      2       11456  DKI Jakarta       10.18   \n",
              "4  KEPULAUAN SERIBU  2020  45-54      0        3184  DKI Jakarta       10.18   \n",
              "\n",
              "   Pop_density    HDI  \n",
              "0   278.683694  71.63  \n",
              "1   226.620825  71.63  \n",
              "2   252.946955  71.63  \n",
              "3  1125.343811  71.63  \n",
              "4   312.770138  71.63  "
            ]
          },
          "execution_count": 240,
          "metadata": {},
          "output_type": "execute_result"
        }
      ],
      "source": [
        "#check\n",
        "data_jkt.head()"
      ]
    },
    {
      "cell_type": "code",
      "execution_count": 241,
      "metadata": {
        "colab": {
          "base_uri": "https://localhost:8080/"
        },
        "id": "WuwleRW-Iqqf",
        "outputId": "d0148630-b715-43f9-d1bf-aa9ea8a0820f"
      },
      "outputs": [
        {
          "data": {
            "text/plain": [
              "array([2020, 2021, 2022, 2023])"
            ]
          },
          "execution_count": 241,
          "metadata": {},
          "output_type": "execute_result"
        }
      ],
      "source": [
        "#check values for year\n",
        "data_jkt[\"Year\"].unique()"
      ]
    },
    {
      "cell_type": "markdown",
      "metadata": {
        "id": "MfJFDaA2-pw-"
      },
      "source": [
        "#Read in shp file (district-level) for Indonesia"
      ]
    },
    {
      "cell_type": "code",
      "execution_count": 242,
      "metadata": {
        "id": "R6XHc0JA-tGE"
      },
      "outputs": [],
      "source": [
        "df_shp_dist = gpd.read_file(\"../data/raw/adm2.shp\")"
      ]
    },
    {
      "cell_type": "code",
      "execution_count": 243,
      "metadata": {
        "colab": {
          "base_uri": "https://localhost:8080/"
        },
        "id": "OL4xSnuB-yzZ",
        "outputId": "5e71419a-16b5-475e-92c8-3395d09e7306"
      },
      "outputs": [
        {
          "name": "stdout",
          "output_type": "stream",
          "text": [
            "           ADM2_EN          x         y  \\\n",
            "0       Aceh Barat  96.185453  4.456643   \n",
            "1  Aceh Barat Daya  96.878320  3.824899   \n",
            "2       Aceh Besar  95.515608  5.379938   \n",
            "3        Aceh Jaya  95.678706  4.832184   \n",
            "4     Aceh Selatan  97.435351  3.162864   \n",
            "\n",
            "                                            geometry  \n",
            "0  POLYGON ((96.26836 4.768, 96.26822 4.7625, 96....  \n",
            "1  MULTIPOLYGON (((96.80559 3.71758, 96.80444 3.7...  \n",
            "2  MULTIPOLYGON (((95.20544 5.28072, 95.20563 5.2...  \n",
            "3  MULTIPOLYGON (((95.58431 4.61495, 95.58379 4.6...  \n",
            "4  MULTIPOLYGON (((97.59461 2.80777, 97.59365 2.8...  \n"
          ]
        }
      ],
      "source": [
        "print(df_shp_dist.head())  # Displays the first 5 rows"
      ]
    },
    {
      "cell_type": "code",
      "execution_count": 244,
      "metadata": {
        "colab": {
          "base_uri": "https://localhost:8080/"
        },
        "id": "pK3HtZrE-3ov",
        "outputId": "97a89f2c-3d24-4ffb-e721-9d952a3d6ce0"
      },
      "outputs": [
        {
          "name": "stdout",
          "output_type": "stream",
          "text": [
            "['Aceh Barat' 'Aceh Barat Daya' 'Aceh Besar' 'Aceh Jaya' 'Aceh Selatan'\n",
            " 'Aceh Singkil' 'Aceh Tamiang' 'Aceh Tengah' 'Aceh Tenggara' 'Aceh Timur'\n",
            " 'Aceh Utara' 'Agam' 'Alor' 'Asahan' 'Asmat' 'Badung' 'Balangan' 'Bandung'\n",
            " 'Bandung Barat' 'Banggai' 'Banggai Kepulauan' 'Banggai Laut' 'Bangka'\n",
            " 'Bangka Barat' 'Bangka Selatan' 'Bangka Tengah' 'Bangkalan' 'Bangli'\n",
            " 'Banjar' 'Banjarnegara' 'Bantaeng' 'Bantul' 'Banyu Asin' 'Banyumas'\n",
            " 'Banyuwangi' 'Barito Kuala' 'Barito Selatan' 'Barito Timur'\n",
            " 'Barito Utara' 'Barru' 'Batang' 'Batang Hari' 'Batu Bara' 'Bekasi'\n",
            " 'Belitung' 'Belitung Timur' 'Belu' 'Bener Meriah' 'Bengkalis'\n",
            " 'Bengkayang' 'Bengkulu Selatan' 'Bengkulu Tengah' 'Bengkulu Utara'\n",
            " 'Berau' 'Biak Numfor' 'Bima' 'Bintan' 'Bireuen' 'Blitar' 'Blora'\n",
            " 'Boalemo' 'Bogor' 'Bojonegoro' 'Bolaang Mongondow'\n",
            " 'Bolaang Mongondow Selatan' 'Bolaang Mongondow Timur'\n",
            " 'Bolaang Mongondow Utara' 'Bombana' 'Bondowoso' 'Bone' 'Bone Bolango'\n",
            " 'Boven Digoel' 'Boyolali' 'Brebes' 'Buleleng' 'Bulukumba' 'Bulungan'\n",
            " 'Bungo' 'Buol' 'Buru' 'Buru Selatan' 'Buton' 'Buton Selatan'\n",
            " 'Buton Tengah' 'Buton Utara' 'Ciamis' 'Cianjur' 'Cilacap' 'Cirebon'\n",
            " 'Dairi' 'Danau' 'Danau Toba' 'Deiyai' 'Deli Serdang' 'Demak'\n",
            " 'Dharmasraya' 'Dogiyai' 'Dompu' 'Donggala' 'Empat Lawang' 'Ende'\n",
            " 'Enrekang' 'Fakfak' 'Flores Timur' 'Garut' 'Gayo Lues' 'Gianyar'\n",
            " 'Gorontalo' 'Gorontalo Utara' 'Gowa' 'Gresik' 'Grobogan' 'Gunung Kidul'\n",
            " 'Gunung Mas' 'Halmahera Barat' 'Halmahera Selatan' 'Halmahera Tengah'\n",
            " 'Halmahera Timur' 'Halmahera Utara' 'Hulu Sungai Selatan'\n",
            " 'Hulu Sungai Tengah' 'Hulu Sungai Utara' 'Humbang Hasundutan' 'Hutan'\n",
            " 'Indragiri Hilir' 'Indragiri Hulu' 'Indramayu' 'Intan Jaya' 'Jayapura'\n",
            " 'Jayawijaya' 'Jember' 'Jembrana' 'Jeneponto' 'Jepara' 'Jombang' 'Kaimana'\n",
            " 'Kampar' 'Kapuas' 'Kapuas Hulu' 'Karang Asem' 'Karanganyar' 'Karawang'\n",
            " 'Karimun' 'Karo' 'Katingan' 'Kaur' 'Kayong Utara' 'Kebumen' 'Kediri'\n",
            " 'Keerom' 'Kendal' 'Kepahiang' 'Kepulauan Anambas' 'Kepulauan Aru'\n",
            " 'Kepulauan Mentawai' 'Kepulauan Meranti' 'Kepulauan Sangihe'\n",
            " 'Kepulauan Selayar' 'Kepulauan Seribu' 'Kepulauan Sula'\n",
            " 'Kepulauan Talaud' 'Kepulauan Yapen' 'Kerinci' 'Ketapang' 'Klaten'\n",
            " 'Klungkung' 'Kolaka' 'Kolaka Timur' 'Kolaka Utara' 'Konawe'\n",
            " 'Konawe Kepulauan' 'Konawe Selatan' 'Konawe Utara' 'Kota Ambon'\n",
            " 'Kota Balikpapan' 'Kota Banda Aceh' 'Kota Bandar Lampung' 'Kota Bandung'\n",
            " 'Kota Banjar' 'Kota Banjar Baru' 'Kota Banjarmasin' 'Kota Baru'\n",
            " 'Kota Batam' 'Kota Batu' 'Kota Baubau' 'Kota Bekasi' 'Kota Bengkulu'\n",
            " 'Kota Bima' 'Kota Binjai' 'Kota Bitung' 'Kota Blitar' 'Kota Bogor'\n",
            " 'Kota Bontang' 'Kota Bukittinggi' 'Kota Cilegon' 'Kota Cimahi'\n",
            " 'Kota Cirebon' 'Kota Denpasar' 'Kota Depok' 'Kota Dumai' 'Kota Gorontalo'\n",
            " 'Kota Gunungsitoli' 'Kota Jakarta Barat' 'Kota Jakarta Pusat'\n",
            " 'Kota Jakarta Selatan' 'Kota Jakarta Timur' 'Kota Jakarta Utara'\n",
            " 'Kota Jambi' 'Kota Jayapura' 'Kota Kediri' 'Kota Kendari'\n",
            " 'Kota Kotamobagu' 'Kota Kupang' 'Kota Langsa' 'Kota Lhokseumawe'\n",
            " 'Kota Lubuklinggau' 'Kota Madiun' 'Kota Magelang' 'Kota Makassar'\n",
            " 'Kota Malang' 'Kota Manado' 'Kota Mataram' 'Kota Medan' 'Kota Metro'\n",
            " 'Kota Mojokerto' 'Kota Padang' 'Kota Padang Panjang'\n",
            " 'Kota Padangsidimpuan' 'Kota Pagar Alam' 'Kota Palangka Raya'\n",
            " 'Kota Palembang' 'Kota Palopo' 'Kota Palu' 'Kota Pangkal Pinang'\n",
            " 'Kota Parepare' 'Kota Pariaman' 'Kota Pasuruan' 'Kota Payakumbuh'\n",
            " 'Kota Pekalongan' 'Kota Pekanbaru' 'Kota Pematang Siantar'\n",
            " 'Kota Pontianak' 'Kota Prabumulih' 'Kota Probolinggo' 'Kota Sabang'\n",
            " 'Kota Salatiga' 'Kota Samarinda' 'Kota Sawah Lunto' 'Kota Semarang'\n",
            " 'Kota Serang' 'Kota Sibolga' 'Kota Singkawang' 'Kota Solok' 'Kota Sorong'\n",
            " 'Kota Subulussalam' 'Kota Sukabumi' 'Kota Sungai Penuh' 'Kota Surabaya'\n",
            " 'Kota Surakarta' 'Kota Tangerang' 'Kota Tangerang Selatan'\n",
            " 'Kota Tanjung Balai' 'Kota Tanjung Pinang' 'Kota Tarakan'\n",
            " 'Kota Tasikmalaya' 'Kota Tebing Tinggi' 'Kota Tegal' 'Kota Ternate'\n",
            " 'Kota Tidore Kepulauan' 'Kota Tomohon' 'Kota Tual' 'Kota Yogyakarta'\n",
            " 'Kotawaringin Barat' 'Kotawaringin Timur' 'Kuantan Singingi' 'Kubu Raya'\n",
            " 'Kudus' 'Kulon Progo' 'Kuningan' 'Kupang' 'Kutai Barat'\n",
            " 'Kutai Kartanegara' 'Kutai Timur' 'Labuhan Batu' 'Labuhan Batu Selatan'\n",
            " 'Labuhan Batu Utara' 'Lahat' 'Lamandau' 'Lamongan' 'Lampung Barat'\n",
            " 'Lampung Selatan' 'Lampung Tengah' 'Lampung Timur' 'Lampung Utara'\n",
            " 'Landak' 'Langkat' 'Lanny Jaya' 'Lebak' 'Lebong' 'Lembata'\n",
            " 'Lima Puluh Kota' 'Lingga' 'Lombok Barat' 'Lombok Tengah' 'Lombok Timur'\n",
            " 'Lombok Utara' 'Lumajang' 'Luwu' 'Luwu Timur' 'Luwu Utara' 'Madiun'\n",
            " 'Magelang' 'Magetan' 'Mahakam Hulu' 'Majalengka' 'Majene' 'Malaka'\n",
            " 'Malang' 'Malinau' 'Maluku Barat Daya' 'Maluku Tengah' 'Maluku Tenggara'\n",
            " 'Maluku Tenggara Barat' 'Mamasa' 'Mamberamo Raya' 'Mamberamo Tengah'\n",
            " 'Mamuju' 'Mamuju Tengah' 'Mamuju Utara' 'Mandailing Natal' 'Manggarai'\n",
            " 'Manggarai Barat' 'Manggarai Timur' 'Manokwari' 'Manokwari Selatan'\n",
            " 'Mappi' 'Maros' 'Maybrat' 'Melawi' 'Mempawah' 'Merangin' 'Merauke'\n",
            " 'Mesuji' 'Mimika' 'Minahasa' 'Minahasa Selatan' 'Minahasa Tenggara'\n",
            " 'Minahasa Utara' 'Mojokerto' 'Morowali' 'Morowali Utara' 'Muara Enim'\n",
            " 'Muaro Jambi' 'Mukomuko' 'Muna' 'Muna Barat' 'Murung Raya'\n",
            " 'Musi Banyuasin' 'Musi Rawas' 'Musi Rawas Utara' 'Nabire' 'Nagan Raya'\n",
            " 'Nagekeo' 'Natuna' 'Nduga' 'Ngada' 'Nganjuk' 'Ngawi' 'Nias' 'Nias Barat'\n",
            " 'Nias Selatan' 'Nias Utara' 'Nunukan' 'Ogan Ilir' 'Ogan Komering Ilir'\n",
            " 'Ogan Komering Ulu' 'Ogan Komering Ulu Selatan' 'Ogan Komering Ulu Timur'\n",
            " 'Pacitan' 'Padang Lawas' 'Padang Lawas Utara' 'Padang Pariaman'\n",
            " 'Pakpak Bharat' 'Pamekasan' 'Pandeglang' 'Pangandaran'\n",
            " 'Pangkajene Dan Kepulauan' 'Paniai' 'Parigi Moutong' 'Pasaman'\n",
            " 'Pasaman Barat' 'Paser' 'Pasuruan' 'Pati' 'Pegunungan Arfak'\n",
            " 'Pegunungan Bintang' 'Pekalongan' 'Pelalawan' 'Pemalang'\n",
            " 'Penajam Paser Utara' 'Penukal Abab Lematang Ilir' 'Pesawaran'\n",
            " 'Pesisir Barat' 'Pesisir Selatan' 'Pidie' 'Pidie Jaya' 'Pinrang'\n",
            " 'Pohuwato' 'Polewali Mandar' 'Ponorogo' 'Poso' 'Pringsewu' 'Probolinggo'\n",
            " 'Pulang Pisau' 'Pulau Morotai' 'Pulau Taliabu' 'Puncak' 'Puncak Jaya'\n",
            " 'Purbalingga' 'Purwakarta' 'Purworejo' 'Raja Ampat' 'Rejang Lebong'\n",
            " 'Rembang' 'Rokan Hilir' 'Rokan Hulu' 'Rote Ndao' 'Sabu Raijua' 'Sambas'\n",
            " 'Samosir' 'Sampang' 'Sanggau' 'Sarmi' 'Sarolangun' 'Sekadau' 'Seluma'\n",
            " 'Semarang' 'Seram Bagian Barat' 'Seram Bagian Timur' 'Serang'\n",
            " 'Serdang Bedagai' 'Seruyan' 'Siak' 'Siau Tagulandang Biaro'\n",
            " 'Sidenreng Rappang' 'Sidoarjo' 'Sigi' 'Sijunjung' 'Sikka' 'Simalungun'\n",
            " 'Simeulue' 'Sinjai' 'Sintang' 'Situbondo' 'Sleman' 'Solok'\n",
            " 'Solok Selatan' 'Soppeng' 'Sorong' 'Sorong Selatan' 'Sragen' 'Subang'\n",
            " 'Sukabumi' 'Sukamara' 'Sukoharjo' 'Sumba Barat' 'Sumba Barat Daya'\n",
            " 'Sumba Tengah' 'Sumba Timur' 'Sumbawa' 'Sumbawa Barat' 'Sumedang'\n",
            " 'Sumenep' 'Supiori' 'Tabalong' 'Tabanan' 'Takalar' 'Tambrauw'\n",
            " 'Tana Tidung' 'Tana Toraja' 'Tanah Bumbu' 'Tanah Datar' 'Tanah Laut'\n",
            " 'Tangerang' 'Tanggamus' 'Tanjung Jabung Barat' 'Tanjung Jabung Timur'\n",
            " 'Tapanuli Selatan' 'Tapanuli Tengah' 'Tapanuli Utara' 'Tapin'\n",
            " 'Tasikmalaya' 'Tebo' 'Tegal' 'Teluk Bintuni' 'Teluk Wondama' 'Temanggung'\n",
            " 'Timor Tengah Selatan' 'Timor Tengah Utara' 'Toba Samosir' 'Tojo Una-Una'\n",
            " 'Toli-Toli' 'Tolikara' 'Toraja Utara' 'Trenggalek' 'Tuban'\n",
            " 'Tulang Bawang Barat' 'Tulangbawang' 'Tulungagung' 'Waduk Cirata'\n",
            " 'Wadung Kedungombo' 'Wajo' 'Wakatobi' 'Waropen' 'Way Kanan' 'Wonogiri'\n",
            " 'Wonosobo' 'Yahukimo' 'Yalimo']\n"
          ]
        }
      ],
      "source": [
        "print(df_shp_dist[\"ADM2_EN\"].unique())  # Replace \"shape1\" with the suspected column name"
      ]
    },
    {
      "cell_type": "code",
      "execution_count": 245,
      "metadata": {
        "id": "xLf1EQxL-65I"
      },
      "outputs": [],
      "source": [
        "#rename shape1 to District\n",
        "df_shp_dist.rename(columns={'ADM2_EN': 'District'}, inplace=True)\n",
        "\n",
        "#convert the values of the column District to all caps\n",
        "df_shp_dist[\"District\"] = df_shp_dist[\"District\"].str.upper()"
      ]
    },
    {
      "cell_type": "code",
      "execution_count": 246,
      "metadata": {
        "colab": {
          "base_uri": "https://localhost:8080/",
          "height": 428
        },
        "id": "CPtvwDYX_D6e",
        "outputId": "90b91807-b1a9-4c87-94e4-1cd7ce029eba"
      },
      "outputs": [
        {
          "data": {
            "image/png": "[encoded data removed]",
            "text/plain": [
              "<Figure size 1200x800 with 1 Axes>"
            ]
          },
          "metadata": {},
          "output_type": "display_data"
        }
      ],
      "source": [
        "fig, ax = plt.subplots(figsize=(12, 8))\n",
        "df_shp_dist.plot(ax=ax, edgecolor=\"black\", cmap=\"Pastel1\")\n",
        "\n",
        "plt.title(\"Indonesia District Map\")\n",
        "plt.show()"
      ]
    },
    {
      "cell_type": "markdown",
      "metadata": {
        "id": "AkBj3SzyLGGP"
      },
      "source": [
        "#Tidy up the dengue data first into one final df"
      ]
    },
    {
      "cell_type": "code",
      "execution_count": 247,
      "metadata": {
        "id": "kn6oxYibK3Yy"
      },
      "outputs": [],
      "source": [
        "#combine the dengue data for both jkt and java\n",
        "df_combined = pd.concat([data_java, data_jkt], ignore_index=True)"
      ]
    },
    {
      "cell_type": "code",
      "execution_count": 248,
      "metadata": {
        "id": "qBSGt7gVLX7U"
      },
      "outputs": [],
      "source": [
        "#delete rows with redundant/repeated age groups --> we can take the interval of 9 years gap to avoid having too many groupings for age\n",
        "\n",
        "#inconsistent age group intervals --> not a good way to stratify the data based on age group! can just combine the entire dataset to be of one age group for now\n",
        "#for this --> eliminate redundant rows with age groups that are repeated --> 5-9, 10-14, 15-19, 20-44\n",
        "df_combined = df_combined[~df_combined['Age'].isin(['5-9', '10-14', '15-19', '20-44', '45-54', '55-64', '65-74', '75-99'])]"
      ]
    },
    {
      "cell_type": "code",
      "execution_count": 249,
      "metadata": {
        "colab": {
          "base_uri": "https://localhost:8080/"
        },
        "id": "74H-cekXLcgR",
        "outputId": "80786964-a6fc-4cab-806f-3a290dfdcd94"
      },
      "outputs": [
        {
          "data": {
            "text/plain": [
              "array(['0-4', '15-44', '45-99', '5-14'], dtype=object)"
            ]
          },
          "execution_count": 249,
          "metadata": {},
          "output_type": "execute_result"
        }
      ],
      "source": [
        "#check the unique age grps again\n",
        "df_combined['Age'].unique()"
      ]
    },
    {
      "cell_type": "code",
      "execution_count": 250,
      "metadata": {
        "id": "1YH6wQg5Ld0n"
      },
      "outputs": [],
      "source": [
        "#now we merge the age groups together for each of the same District, Year, Area_sq_km, HDI --> need to sum Cases and Population metrics and the recalculate Pop_density\n",
        "df_combined = df_combined.groupby(['District', 'Year', 'Area_sq_km', 'HDI', \"Province\"]).agg({'Cases': 'sum', 'Population': 'sum'}).reset_index()"
      ]
    },
    {
      "cell_type": "code",
      "execution_count": 251,
      "metadata": {
        "colab": {
          "base_uri": "https://localhost:8080/",
          "height": 206
        },
        "id": "U4nWSqjiLmXK",
        "outputId": "e39796b0-fc80-452e-cab8-47a2f2068887"
      },
      "outputs": [
        {
          "data": {
            "text/html": [
              "<div>\n",
              "<style scoped>\n",
              "    .dataframe tbody tr th:only-of-type {\n",
              "        vertical-align: middle;\n",
              "    }\n",
              "\n",
              "    .dataframe tbody tr th {\n",
              "        vertical-align: top;\n",
              "    }\n",
              "\n",
              "    .dataframe thead th {\n",
              "        text-align: right;\n",
              "    }\n",
              "</style>\n",
              "<table border=\"1\" class=\"dataframe\">\n",
              "  <thead>\n",
              "    <tr style=\"text-align: right;\">\n",
              "      <th></th>\n",
              "      <th>District</th>\n",
              "      <th>Year</th>\n",
              "      <th>Area_sq_km</th>\n",
              "      <th>HDI</th>\n",
              "      <th>Province</th>\n",
              "      <th>Cases</th>\n",
              "      <th>Population</th>\n",
              "    </tr>\n",
              "  </thead>\n",
              "  <tbody>\n",
              "    <tr>\n",
              "      <th>0</th>\n",
              "      <td>BANDUNG</td>\n",
              "      <td>2020</td>\n",
              "      <td>1767.96</td>\n",
              "      <td>72.39</td>\n",
              "      <td>West Java</td>\n",
              "      <td>9180</td>\n",
              "      <td>14495160</td>\n",
              "    </tr>\n",
              "    <tr>\n",
              "      <th>1</th>\n",
              "      <td>BANDUNG</td>\n",
              "      <td>2021</td>\n",
              "      <td>1767.96</td>\n",
              "      <td>72.73</td>\n",
              "      <td>West Java</td>\n",
              "      <td>8008</td>\n",
              "      <td>14662620</td>\n",
              "    </tr>\n",
              "    <tr>\n",
              "      <th>2</th>\n",
              "      <td>BANDUNG</td>\n",
              "      <td>2022</td>\n",
              "      <td>1767.96</td>\n",
              "      <td>73.16</td>\n",
              "      <td>West Java</td>\n",
              "      <td>16764</td>\n",
              "      <td>14830092</td>\n",
              "    </tr>\n",
              "    <tr>\n",
              "      <th>3</th>\n",
              "      <td>BANDUNG</td>\n",
              "      <td>2023</td>\n",
              "      <td>1767.96</td>\n",
              "      <td>73.74</td>\n",
              "      <td>West Java</td>\n",
              "      <td>4020</td>\n",
              "      <td>14997564</td>\n",
              "    </tr>\n",
              "    <tr>\n",
              "      <th>4</th>\n",
              "      <td>BANDUNG BARAT</td>\n",
              "      <td>2020</td>\n",
              "      <td>1305.77</td>\n",
              "      <td>68.08</td>\n",
              "      <td>West Java</td>\n",
              "      <td>3864</td>\n",
              "      <td>7153344</td>\n",
              "    </tr>\n",
              "  </tbody>\n",
              "</table>\n",
              "</div>"
            ],
            "text/plain": [
              "        District  Year  Area_sq_km    HDI   Province  Cases  Population\n",
              "0        BANDUNG  2020     1767.96  72.39  West Java   9180    14495160\n",
              "1        BANDUNG  2021     1767.96  72.73  West Java   8008    14662620\n",
              "2        BANDUNG  2022     1767.96  73.16  West Java  16764    14830092\n",
              "3        BANDUNG  2023     1767.96  73.74  West Java   4020    14997564\n",
              "4  BANDUNG BARAT  2020     1305.77  68.08  West Java   3864     7153344"
            ]
          },
          "execution_count": 251,
          "metadata": {},
          "output_type": "execute_result"
        }
      ],
      "source": [
        "df_combined.head()"
      ]
    },
    {
      "cell_type": "code",
      "execution_count": 252,
      "metadata": {
        "id": "IRu7YRbALn_N"
      },
      "outputs": [],
      "source": [
        "#recalculate the Pop_density\n",
        "df_combined['Pop_den'] = df_combined['Population'] / df_combined['Area_sq_km']"
      ]
    },
    {
      "cell_type": "code",
      "execution_count": 253,
      "metadata": {
        "colab": {
          "base_uri": "https://localhost:8080/",
          "height": 303
        },
        "id": "638TyVY4Lp6Z",
        "outputId": "6abb8651-3661-4f81-d5cb-3a807818398a"
      },
      "outputs": [
        {
          "data": {
            "text/plain": [
              "District       object\n",
              "Year            int64\n",
              "Area_sq_km    float64\n",
              "HDI            object\n",
              "Province       object\n",
              "Cases           int64\n",
              "Population      int64\n",
              "Pop_den       float64\n",
              "dtype: object"
            ]
          },
          "execution_count": 253,
          "metadata": {},
          "output_type": "execute_result"
        }
      ],
      "source": [
        "#make sure that Year is integer, Area_sq_km is float, HDI is float, Cases, Population, Pop_density are numbers, and HDI is float\n",
        "#check type of data first\n",
        "df_combined.dtypes"
      ]
    },
    {
      "cell_type": "code",
      "execution_count": 254,
      "metadata": {
        "id": "m5IfGua7Lq76"
      },
      "outputs": [],
      "source": [
        "#convert HDI into float\n",
        "df_combined['HDI'] = df_combined['HDI'].astype(float)"
      ]
    },
    {
      "cell_type": "code",
      "execution_count": 255,
      "metadata": {
        "colab": {
          "base_uri": "https://localhost:8080/",
          "height": 303
        },
        "id": "xi5AjOuNLsha",
        "outputId": "4f395ae1-31fa-42f9-b9c6-9f9e34acc4a3"
      },
      "outputs": [
        {
          "data": {
            "text/plain": [
              "District       object\n",
              "Year            int64\n",
              "Area_sq_km    float64\n",
              "HDI           float64\n",
              "Province       object\n",
              "Cases           int64\n",
              "Population      int64\n",
              "Pop_den       float64\n",
              "dtype: object"
            ]
          },
          "execution_count": 255,
          "metadata": {},
          "output_type": "execute_result"
        }
      ],
      "source": [
        "#check the data types again\n",
        "df_combined.dtypes"
      ]
    },
    {
      "cell_type": "markdown",
      "metadata": {
        "id": "XM8ifIIBCDhC"
      },
      "source": [
        "#Combine shp and dengue data"
      ]
    },
    {
      "cell_type": "code",
      "execution_count": 256,
      "metadata": {
        "colab": {
          "base_uri": "https://localhost:8080/",
          "height": 206
        },
        "id": "oat0LrOnA9_C",
        "outputId": "aad699be-99e9-4c90-ffb7-ceb5a27ff168"
      },
      "outputs": [
        {
          "data": {
            "text/html": [
              "<div>\n",
              "<style scoped>\n",
              "    .dataframe tbody tr th:only-of-type {\n",
              "        vertical-align: middle;\n",
              "    }\n",
              "\n",
              "    .dataframe tbody tr th {\n",
              "        vertical-align: top;\n",
              "    }\n",
              "\n",
              "    .dataframe thead th {\n",
              "        text-align: right;\n",
              "    }\n",
              "</style>\n",
              "<table border=\"1\" class=\"dataframe\">\n",
              "  <thead>\n",
              "    <tr style=\"text-align: right;\">\n",
              "      <th></th>\n",
              "      <th>District</th>\n",
              "      <th>x</th>\n",
              "      <th>y</th>\n",
              "      <th>geometry</th>\n",
              "      <th>Year</th>\n",
              "      <th>Area_sq_km</th>\n",
              "      <th>HDI</th>\n",
              "      <th>Province</th>\n",
              "      <th>Cases</th>\n",
              "      <th>Population</th>\n",
              "      <th>Pop_den</th>\n",
              "    </tr>\n",
              "  </thead>\n",
              "  <tbody>\n",
              "    <tr>\n",
              "      <th>0</th>\n",
              "      <td>BANDUNG</td>\n",
              "      <td>107.610841</td>\n",
              "      <td>-7.099969</td>\n",
              "      <td>POLYGON ((107.73309 -6.814, 107.73354 -6.81427...</td>\n",
              "      <td>2020</td>\n",
              "      <td>1767.96</td>\n",
              "      <td>72.39</td>\n",
              "      <td>West Java</td>\n",
              "      <td>9180</td>\n",
              "      <td>14495160</td>\n",
              "      <td>8198.805403</td>\n",
              "    </tr>\n",
              "    <tr>\n",
              "      <th>1</th>\n",
              "      <td>BANDUNG</td>\n",
              "      <td>107.610841</td>\n",
              "      <td>-7.099969</td>\n",
              "      <td>POLYGON ((107.73309 -6.814, 107.73354 -6.81427...</td>\n",
              "      <td>2021</td>\n",
              "      <td>1767.96</td>\n",
              "      <td>72.73</td>\n",
              "      <td>West Java</td>\n",
              "      <td>8008</td>\n",
              "      <td>14662620</td>\n",
              "      <td>8293.524740</td>\n",
              "    </tr>\n",
              "    <tr>\n",
              "      <th>2</th>\n",
              "      <td>BANDUNG</td>\n",
              "      <td>107.610841</td>\n",
              "      <td>-7.099969</td>\n",
              "      <td>POLYGON ((107.73309 -6.814, 107.73354 -6.81427...</td>\n",
              "      <td>2022</td>\n",
              "      <td>1767.96</td>\n",
              "      <td>73.16</td>\n",
              "      <td>West Java</td>\n",
              "      <td>16764</td>\n",
              "      <td>14830092</td>\n",
              "      <td>8388.250865</td>\n",
              "    </tr>\n",
              "    <tr>\n",
              "      <th>3</th>\n",
              "      <td>BANDUNG</td>\n",
              "      <td>107.610841</td>\n",
              "      <td>-7.099969</td>\n",
              "      <td>POLYGON ((107.73309 -6.814, 107.73354 -6.81427...</td>\n",
              "      <td>2023</td>\n",
              "      <td>1767.96</td>\n",
              "      <td>73.74</td>\n",
              "      <td>West Java</td>\n",
              "      <td>4020</td>\n",
              "      <td>14997564</td>\n",
              "      <td>8482.976990</td>\n",
              "    </tr>\n",
              "    <tr>\n",
              "      <th>4</th>\n",
              "      <td>BANDUNG BARAT</td>\n",
              "      <td>107.414953</td>\n",
              "      <td>-6.897056</td>\n",
              "      <td>POLYGON ((107.40945 -6.68851, 107.40986 -6.688...</td>\n",
              "      <td>2020</td>\n",
              "      <td>1305.77</td>\n",
              "      <td>68.08</td>\n",
              "      <td>West Java</td>\n",
              "      <td>3864</td>\n",
              "      <td>7153344</td>\n",
              "      <td>5478.257273</td>\n",
              "    </tr>\n",
              "  </tbody>\n",
              "</table>\n",
              "</div>"
            ],
            "text/plain": [
              "        District           x         y  \\\n",
              "0        BANDUNG  107.610841 -7.099969   \n",
              "1        BANDUNG  107.610841 -7.099969   \n",
              "2        BANDUNG  107.610841 -7.099969   \n",
              "3        BANDUNG  107.610841 -7.099969   \n",
              "4  BANDUNG BARAT  107.414953 -6.897056   \n",
              "\n",
              "                                            geometry  Year  Area_sq_km    HDI  \\\n",
              "0  POLYGON ((107.73309 -6.814, 107.73354 -6.81427...  2020     1767.96  72.39   \n",
              "1  POLYGON ((107.73309 -6.814, 107.73354 -6.81427...  2021     1767.96  72.73   \n",
              "2  POLYGON ((107.73309 -6.814, 107.73354 -6.81427...  2022     1767.96  73.16   \n",
              "3  POLYGON ((107.73309 -6.814, 107.73354 -6.81427...  2023     1767.96  73.74   \n",
              "4  POLYGON ((107.40945 -6.68851, 107.40986 -6.688...  2020     1305.77  68.08   \n",
              "\n",
              "    Province  Cases  Population      Pop_den  \n",
              "0  West Java   9180    14495160  8198.805403  \n",
              "1  West Java   8008    14662620  8293.524740  \n",
              "2  West Java  16764    14830092  8388.250865  \n",
              "3  West Java   4020    14997564  8482.976990  \n",
              "4  West Java   3864     7153344  5478.257273  "
            ]
          },
          "execution_count": 256,
          "metadata": {},
          "output_type": "execute_result"
        }
      ],
      "source": [
        "#combine shp file with dengue data\n",
        "##aim: get a single shp file that contains ONLY the coordinates for Jawa and the districts within Jawa\n",
        "data_combined = df_shp_dist.merge(df_combined, left_on=\"District\", right_on=\"District\")\n",
        "\n",
        "#check\n",
        "data_combined.head()"
      ]
    },
    {
      "cell_type": "code",
      "execution_count": 257,
      "metadata": {},
      "outputs": [],
      "source": [
        "#group by province, calculate total cases and population\n",
        "data_combined[\"Tot_Cases\"] = data_combined.groupby(\"Province\")[\"Cases\"].transform(\"sum\")\n",
        "data_combined[\"Tot_Pop\"] = data_combined.groupby(\"Province\")[\"Population\"].transform(\"sum\")"
      ]
    },
    {
      "cell_type": "code",
      "execution_count": 258,
      "metadata": {
        "colab": {
          "base_uri": "https://localhost:8080/",
          "height": 699
        },
        "id": "vLT8i7SPNuGC",
        "outputId": "704beb3e-1202-46e4-84cf-f68d035f0a3a"
      },
      "outputs": [
        {
          "data": {
            "image/png": "[encoded data removed]",
            "text/plain": [
              "<Figure size 1200x800 with 1 Axes>"
            ]
          },
          "metadata": {},
          "output_type": "display_data"
        }
      ],
      "source": [
        "# Ensure data_combined is a GeoDataFrame\n",
        "data_combined = gpd.GeoDataFrame(data_combined, geometry='geometry')\n",
        "\n",
        "#plot it out to check again that the area is complete for west java n jakarta\n",
        "fig, ax = plt.subplots(figsize=(12, 8))\n",
        "data_combined.plot(ax=ax, edgecolor=\"black\", cmap=\"Pastel1\")\n",
        "\n",
        "plt.title(\"Jakarta and West Java District Map\")\n",
        "plt.show()"
      ]
    },
    {
      "cell_type": "code",
      "execution_count": 260,
      "metadata": {
        "colab": {
          "base_uri": "https://localhost:8080/"
        },
        "id": "1-iw5J1RBnPL",
        "outputId": "c10ddd05-283a-4d73-9a24-f0e4e2a82c4c"
      },
      "outputs": [],
      "source": [
        "#save the final df used for this task to shp file\n",
        "data_combined.to_file(\"../data/processed/final_combined_divisions/final_combined_divisions.shp\")  # Specify the driver"
      ]
    }
  ],
  "metadata": {
    "colab": {
      "provenance": []
    },
    "kernelspec": {
      "display_name": "Python 3",
      "name": "python3"
    },
    "language_info": {
      "codemirror_mode": {
        "name": "ipython",
        "version": 3
      },
      "file_extension": ".py",
      "mimetype": "text/x-python",
      "name": "python",
      "nbconvert_exporter": "python",
      "pygments_lexer": "ipython3",
      "version": "3.13.1"
    }
  },
  "nbformat": 4,
  "nbformat_minor": 0
}
