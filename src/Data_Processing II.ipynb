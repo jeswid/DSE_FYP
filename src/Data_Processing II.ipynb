{
  "cells": [
    {
      "cell_type": "markdown",
      "metadata": {
        "id": "5fQLwQI9EtiG"
      },
      "source": [
        "### Libraries"
      ]
    },
    {
      "cell_type": "code",
      "execution_count": 1,
      "metadata": {
        "id": "99KCZ-okEvv3"
      },
      "outputs": [],
      "source": [
        "import geopandas as gpd\n",
        "import pandas as pd\n",
        "import matplotlib.pyplot as plt\n",
        "import numpy as np\n",
        "import os\n",
        "from sklearn.preprocessing import QuantileTransformer\n",
        "import seaborn as sns"
      ]
    },
    {
      "cell_type": "markdown",
      "metadata": {
        "id": "WDB8e5IQForo"
      },
      "source": [
        "### Data filtering to get jakarta data only"
      ]
    },
    {
      "cell_type": "code",
      "execution_count": 2,
      "metadata": {
        "id": "tnp2UT99EVp5"
      },
      "outputs": [],
      "source": [
        "## Read in data\n",
        "prov = gpd.read_file(\"../data/low_res_sim.shp\")  # Change path if needed\n",
        "dist = gpd.read_file(\"../data/high_res_sim.shp\")"
      ]
    },
    {
      "cell_type": "code",
      "execution_count": 3,
      "metadata": {
        "colab": {
          "base_uri": "https://localhost:8080/",
          "height": 293
        },
        "id": "Q-GkSC53EH7m",
        "outputId": "875daaba-2a14-4021-e080-2872f3d2c5df"
      },
      "outputs": [
        {
          "data": {
            "text/html": [
              "<div>\n",
              "<style scoped>\n",
              "    .dataframe tbody tr th:only-of-type {\n",
              "        vertical-align: middle;\n",
              "    }\n",
              "\n",
              "    .dataframe tbody tr th {\n",
              "        vertical-align: top;\n",
              "    }\n",
              "\n",
              "    .dataframe thead th {\n",
              "        text-align: right;\n",
              "    }\n",
              "</style>\n",
              "<table border=\"1\" class=\"dataframe\">\n",
              "  <thead>\n",
              "    <tr style=\"text-align: right;\">\n",
              "      <th></th>\n",
              "      <th>District</th>\n",
              "      <th>Year</th>\n",
              "      <th>Area_sq_km</th>\n",
              "      <th>HDI</th>\n",
              "      <th>Province</th>\n",
              "      <th>Cases</th>\n",
              "      <th>Population</th>\n",
              "      <th>Pop_den</th>\n",
              "      <th>urbanicity</th>\n",
              "      <th>geometry</th>\n",
              "    </tr>\n",
              "  </thead>\n",
              "  <tbody>\n",
              "    <tr>\n",
              "      <th>0</th>\n",
              "      <td>BANDUNG</td>\n",
              "      <td>2020</td>\n",
              "      <td>1767.96</td>\n",
              "      <td>0.7239</td>\n",
              "      <td>Jawa Barat</td>\n",
              "      <td>2295</td>\n",
              "      <td>3623790</td>\n",
              "      <td>2.049701</td>\n",
              "      <td>0.123155</td>\n",
              "      <td>POLYGON ((107.73309 -6.814, 107.73354 -6.81427...</td>\n",
              "    </tr>\n",
              "    <tr>\n",
              "      <th>1</th>\n",
              "      <td>BANDUNG</td>\n",
              "      <td>2021</td>\n",
              "      <td>1767.96</td>\n",
              "      <td>0.7273</td>\n",
              "      <td>Jawa Barat</td>\n",
              "      <td>2002</td>\n",
              "      <td>3665655</td>\n",
              "      <td>2.073381</td>\n",
              "      <td>0.123155</td>\n",
              "      <td>POLYGON ((107.73309 -6.814, 107.73354 -6.81427...</td>\n",
              "    </tr>\n",
              "    <tr>\n",
              "      <th>2</th>\n",
              "      <td>BANDUNG</td>\n",
              "      <td>2022</td>\n",
              "      <td>1767.96</td>\n",
              "      <td>0.7316</td>\n",
              "      <td>Jawa Barat</td>\n",
              "      <td>4191</td>\n",
              "      <td>3707523</td>\n",
              "      <td>2.097063</td>\n",
              "      <td>0.123155</td>\n",
              "      <td>POLYGON ((107.73309 -6.814, 107.73354 -6.81427...</td>\n",
              "    </tr>\n",
              "    <tr>\n",
              "      <th>3</th>\n",
              "      <td>BANDUNG</td>\n",
              "      <td>2023</td>\n",
              "      <td>1767.96</td>\n",
              "      <td>0.7374</td>\n",
              "      <td>Jawa Barat</td>\n",
              "      <td>1005</td>\n",
              "      <td>3749391</td>\n",
              "      <td>2.120744</td>\n",
              "      <td>0.123155</td>\n",
              "      <td>POLYGON ((107.73309 -6.814, 107.73354 -6.81427...</td>\n",
              "    </tr>\n",
              "    <tr>\n",
              "      <th>4</th>\n",
              "      <td>BANDUNG BARAT</td>\n",
              "      <td>2020</td>\n",
              "      <td>1305.77</td>\n",
              "      <td>0.6808</td>\n",
              "      <td>Jawa Barat</td>\n",
              "      <td>966</td>\n",
              "      <td>1788336</td>\n",
              "      <td>1.369564</td>\n",
              "      <td>0.079001</td>\n",
              "      <td>POLYGON ((107.40945 -6.68851, 107.40986 -6.688...</td>\n",
              "    </tr>\n",
              "  </tbody>\n",
              "</table>\n",
              "</div>"
            ],
            "text/plain": [
              "        District  Year  Area_sq_km     HDI    Province  Cases  Population  \\\n",
              "0        BANDUNG  2020     1767.96  0.7239  Jawa Barat   2295     3623790   \n",
              "1        BANDUNG  2021     1767.96  0.7273  Jawa Barat   2002     3665655   \n",
              "2        BANDUNG  2022     1767.96  0.7316  Jawa Barat   4191     3707523   \n",
              "3        BANDUNG  2023     1767.96  0.7374  Jawa Barat   1005     3749391   \n",
              "4  BANDUNG BARAT  2020     1305.77  0.6808  Jawa Barat    966     1788336   \n",
              "\n",
              "    Pop_den  urbanicity                                           geometry  \n",
              "0  2.049701    0.123155  POLYGON ((107.73309 -6.814, 107.73354 -6.81427...  \n",
              "1  2.073381    0.123155  POLYGON ((107.73309 -6.814, 107.73354 -6.81427...  \n",
              "2  2.097063    0.123155  POLYGON ((107.73309 -6.814, 107.73354 -6.81427...  \n",
              "3  2.120744    0.123155  POLYGON ((107.73309 -6.814, 107.73354 -6.81427...  \n",
              "4  1.369564    0.079001  POLYGON ((107.40945 -6.68851, 107.40986 -6.688...  "
            ]
          },
          "execution_count": 3,
          "metadata": {},
          "output_type": "execute_result"
        }
      ],
      "source": [
        "dist.head()"
      ]
    },
    {
      "cell_type": "code",
      "execution_count": 4,
      "metadata": {
        "colab": {
          "base_uri": "https://localhost:8080/"
        },
        "id": "_XMIbAKzFblW",
        "outputId": "5698155c-c0fe-487d-deab-e794faaa3bd1"
      },
      "outputs": [
        {
          "name": "stdout",
          "output_type": "stream",
          "text": [
            "['BANDUNG' 'BANDUNG BARAT' 'BEKASI' 'BOGOR' 'CIAMIS' 'CIANJUR' 'CIREBON'\n",
            " 'GARUT' 'INDRAMAYU' 'KARAWANG' 'KOTA BANDUNG' 'KOTA BANJAR' 'KOTA BEKASI'\n",
            " 'KOTA BOGOR' 'KOTA CIMAHI' 'KOTA CIREBON' 'KOTA DEPOK'\n",
            " 'KOTA JAKARTA BARAT' 'KOTA JAKARTA PUSAT' 'KOTA JAKARTA SELATAN'\n",
            " 'KOTA JAKARTA TIMUR' 'KOTA JAKARTA UTARA' 'KOTA SUKABUMI'\n",
            " 'KOTA TASIKMALAYA' 'KUNINGAN' 'MAJALENGKA' 'PANGANDARAN' 'PURWAKARTA'\n",
            " 'SUBANG' 'SUKABUMI' 'SUMEDANG' 'TASIKMALAYA']\n"
          ]
        }
      ],
      "source": [
        "# get the unique district names\n",
        "unique_districts = dist[\"District\"].unique()\n",
        "print(unique_districts)\n",
        "jkt = ['KOTA JAKARTA BARAT',\n",
        " 'KOTA JAKARTA PUSAT', 'KOTA JAKARTA SELATAN', 'KOTA JAKARTA TIMUR',\n",
        " 'KOTA JAKARTA UTARA']"
      ]
    },
    {
      "cell_type": "code",
      "execution_count": 5,
      "metadata": {
        "id": "lPIMEovdFcx6"
      },
      "outputs": [],
      "source": [
        "#filter df_combined to only retain observations in district = jkt list\n",
        "jkt_dist = dist[dist[\"District\"].isin(jkt)]\n",
        "\n",
        "#filter for jkt_prov data\n",
        "jkt_prov = prov[prov[\"Province\"] == \"DKI Jakarta\"]"
      ]
    },
    {
      "cell_type": "code",
      "execution_count": 6,
      "metadata": {},
      "outputs": [],
      "source": [
        "#filter df_combined to only retain observations in district = west java list\n",
        "java_dist = dist[~dist[\"District\"].isin(jkt)]\n",
        "\n",
        "#filter for jkt_prov data\n",
        "java_prov = prov[prov[\"Province\"] == \"Jawa Barat\"]"
      ]
    },
    {
      "cell_type": "code",
      "execution_count": 7,
      "metadata": {
        "colab": {
          "base_uri": "https://localhost:8080/",
          "height": 293
        },
        "id": "mJgLrs0JFerq",
        "outputId": "52be8b7b-9f6a-46a6-e2a2-ec0aea3a5d25"
      },
      "outputs": [
        {
          "data": {
            "text/html": [
              "<div>\n",
              "<style scoped>\n",
              "    .dataframe tbody tr th:only-of-type {\n",
              "        vertical-align: middle;\n",
              "    }\n",
              "\n",
              "    .dataframe tbody tr th {\n",
              "        vertical-align: top;\n",
              "    }\n",
              "\n",
              "    .dataframe thead th {\n",
              "        text-align: right;\n",
              "    }\n",
              "</style>\n",
              "<table border=\"1\" class=\"dataframe\">\n",
              "  <thead>\n",
              "    <tr style=\"text-align: right;\">\n",
              "      <th></th>\n",
              "      <th>District</th>\n",
              "      <th>Year</th>\n",
              "      <th>Area_sq_km</th>\n",
              "      <th>HDI</th>\n",
              "      <th>Province</th>\n",
              "      <th>Cases</th>\n",
              "      <th>Population</th>\n",
              "      <th>Pop_den</th>\n",
              "      <th>urbanicity</th>\n",
              "      <th>geometry</th>\n",
              "    </tr>\n",
              "  </thead>\n",
              "  <tbody>\n",
              "    <tr>\n",
              "      <th>68</th>\n",
              "      <td>KOTA JAKARTA BARAT</td>\n",
              "      <td>2020</td>\n",
              "      <td>124.44</td>\n",
              "      <td>0.8138</td>\n",
              "      <td>DKI Jakarta</td>\n",
              "      <td>161</td>\n",
              "      <td>184826</td>\n",
              "      <td>1.485262</td>\n",
              "      <td>0.951917</td>\n",
              "      <td>POLYGON ((106.70503 -6.0956, 106.70526 -6.0956...</td>\n",
              "    </tr>\n",
              "    <tr>\n",
              "      <th>69</th>\n",
              "      <td>KOTA JAKARTA BARAT</td>\n",
              "      <td>2021</td>\n",
              "      <td>124.44</td>\n",
              "      <td>0.8176</td>\n",
              "      <td>DKI Jakarta</td>\n",
              "      <td>138</td>\n",
              "      <td>183270</td>\n",
              "      <td>1.472758</td>\n",
              "      <td>0.951917</td>\n",
              "      <td>POLYGON ((106.70503 -6.0956, 106.70526 -6.0956...</td>\n",
              "    </tr>\n",
              "    <tr>\n",
              "      <th>70</th>\n",
              "      <td>KOTA JAKARTA BARAT</td>\n",
              "      <td>2022</td>\n",
              "      <td>125.00</td>\n",
              "      <td>0.8251</td>\n",
              "      <td>DKI Jakarta</td>\n",
              "      <td>420</td>\n",
              "      <td>181715</td>\n",
              "      <td>1.453720</td>\n",
              "      <td>0.951917</td>\n",
              "      <td>POLYGON ((106.70503 -6.0956, 106.70526 -6.0956...</td>\n",
              "    </tr>\n",
              "    <tr>\n",
              "      <th>71</th>\n",
              "      <td>KOTA JAKARTA BARAT</td>\n",
              "      <td>2023</td>\n",
              "      <td>125.00</td>\n",
              "      <td>0.8302</td>\n",
              "      <td>DKI Jakarta</td>\n",
              "      <td>359</td>\n",
              "      <td>180159</td>\n",
              "      <td>1.441272</td>\n",
              "      <td>0.951917</td>\n",
              "      <td>POLYGON ((106.70503 -6.0956, 106.70526 -6.0956...</td>\n",
              "    </tr>\n",
              "    <tr>\n",
              "      <th>72</th>\n",
              "      <td>KOTA JAKARTA PUSAT</td>\n",
              "      <td>2020</td>\n",
              "      <td>52.38</td>\n",
              "      <td>0.8139</td>\n",
              "      <td>DKI Jakarta</td>\n",
              "      <td>127</td>\n",
              "      <td>73140</td>\n",
              "      <td>1.396334</td>\n",
              "      <td>0.993514</td>\n",
              "      <td>POLYGON ((106.83247 -6.14138, 106.83282 -6.141...</td>\n",
              "    </tr>\n",
              "  </tbody>\n",
              "</table>\n",
              "</div>"
            ],
            "text/plain": [
              "              District  Year  Area_sq_km     HDI     Province  Cases  \\\n",
              "68  KOTA JAKARTA BARAT  2020      124.44  0.8138  DKI Jakarta    161   \n",
              "69  KOTA JAKARTA BARAT  2021      124.44  0.8176  DKI Jakarta    138   \n",
              "70  KOTA JAKARTA BARAT  2022      125.00  0.8251  DKI Jakarta    420   \n",
              "71  KOTA JAKARTA BARAT  2023      125.00  0.8302  DKI Jakarta    359   \n",
              "72  KOTA JAKARTA PUSAT  2020       52.38  0.8139  DKI Jakarta    127   \n",
              "\n",
              "    Population   Pop_den  urbanicity  \\\n",
              "68      184826  1.485262    0.951917   \n",
              "69      183270  1.472758    0.951917   \n",
              "70      181715  1.453720    0.951917   \n",
              "71      180159  1.441272    0.951917   \n",
              "72       73140  1.396334    0.993514   \n",
              "\n",
              "                                             geometry  \n",
              "68  POLYGON ((106.70503 -6.0956, 106.70526 -6.0956...  \n",
              "69  POLYGON ((106.70503 -6.0956, 106.70526 -6.0956...  \n",
              "70  POLYGON ((106.70503 -6.0956, 106.70526 -6.0956...  \n",
              "71  POLYGON ((106.70503 -6.0956, 106.70526 -6.0956...  \n",
              "72  POLYGON ((106.83247 -6.14138, 106.83282 -6.141...  "
            ]
          },
          "execution_count": 7,
          "metadata": {},
          "output_type": "execute_result"
        }
      ],
      "source": [
        "#print head\n",
        "jkt_dist.head()"
      ]
    },
    {
      "cell_type": "code",
      "execution_count": 8,
      "metadata": {
        "colab": {
          "base_uri": "https://localhost:8080/",
          "height": 447
        },
        "id": "x7ceD8X5Ffwh",
        "outputId": "b5790ea9-6cdc-44fd-8aa2-7a0e4a356aa7"
      },
      "outputs": [
        {
          "data": {
            "text/plain": [
              "<Axes: >"
            ]
          },
          "execution_count": 8,
          "metadata": {},
          "output_type": "execute_result"
        },
        {
          "data": {
            "image/png": "[encoded data removed]",
            "text/plain": [
              "<Figure size 640x480 with 1 Axes>"
            ]
          },
          "metadata": {},
          "output_type": "display_data"
        }
      ],
      "source": [
        "#try plotting the map alone\n",
        "jkt_dist.plot()"
      ]
    },
    {
      "cell_type": "code",
      "execution_count": 9,
      "metadata": {
        "colab": {
          "base_uri": "https://localhost:8080/",
          "height": 447
        },
        "id": "LaJCt3hID85-",
        "outputId": "5a73b1e5-6de6-441a-d4dc-e4b0fb9508fc"
      },
      "outputs": [
        {
          "data": {
            "text/html": [
              "<div>\n",
              "<style scoped>\n",
              "    .dataframe tbody tr th:only-of-type {\n",
              "        vertical-align: middle;\n",
              "    }\n",
              "\n",
              "    .dataframe tbody tr th {\n",
              "        vertical-align: top;\n",
              "    }\n",
              "\n",
              "    .dataframe thead th {\n",
              "        text-align: right;\n",
              "    }\n",
              "</style>\n",
              "<table border=\"1\" class=\"dataframe\">\n",
              "  <thead>\n",
              "    <tr style=\"text-align: right;\">\n",
              "      <th></th>\n",
              "      <th>Province</th>\n",
              "      <th>Year</th>\n",
              "      <th>Cases</th>\n",
              "      <th>Population</th>\n",
              "      <th>HDI</th>\n",
              "      <th>Area_sq_km</th>\n",
              "      <th>Pop_den</th>\n",
              "      <th>urbanicity</th>\n",
              "      <th>geometry</th>\n",
              "    </tr>\n",
              "  </thead>\n",
              "  <tbody>\n",
              "    <tr>\n",
              "      <th>0</th>\n",
              "      <td>DKI Jakarta</td>\n",
              "      <td>2020</td>\n",
              "      <td>1217</td>\n",
              "      <td>801232</td>\n",
              "      <td>0.82088</td>\n",
              "      <td>653.83</td>\n",
              "      <td>1.225444</td>\n",
              "      <td>0.931345</td>\n",
              "      <td>MULTIPOLYGON (((106.84094 -6.34198, 106.8407 -...</td>\n",
              "    </tr>\n",
              "    <tr>\n",
              "      <th>1</th>\n",
              "      <td>DKI Jakarta</td>\n",
              "      <td>2021</td>\n",
              "      <td>1048</td>\n",
              "      <td>796729</td>\n",
              "      <td>0.82340</td>\n",
              "      <td>653.83</td>\n",
              "      <td>1.218557</td>\n",
              "      <td>0.931345</td>\n",
              "      <td>MULTIPOLYGON (((106.84094 -6.34198, 106.8407 -...</td>\n",
              "    </tr>\n",
              "    <tr>\n",
              "      <th>2</th>\n",
              "      <td>DKI Jakarta</td>\n",
              "      <td>2022</td>\n",
              "      <td>2113</td>\n",
              "      <td>792228</td>\n",
              "      <td>0.82818</td>\n",
              "      <td>650.50</td>\n",
              "      <td>1.217875</td>\n",
              "      <td>0.931345</td>\n",
              "      <td>MULTIPOLYGON (((106.84094 -6.34198, 106.8407 -...</td>\n",
              "    </tr>\n",
              "    <tr>\n",
              "      <th>3</th>\n",
              "      <td>DKI Jakarta</td>\n",
              "      <td>2023</td>\n",
              "      <td>1562</td>\n",
              "      <td>787726</td>\n",
              "      <td>0.83372</td>\n",
              "      <td>650.25</td>\n",
              "      <td>1.211420</td>\n",
              "      <td>0.931345</td>\n",
              "      <td>MULTIPOLYGON (((106.84094 -6.34198, 106.8407 -...</td>\n",
              "    </tr>\n",
              "  </tbody>\n",
              "</table>\n",
              "</div>"
            ],
            "text/plain": [
              "      Province  Year  Cases  Population      HDI  Area_sq_km   Pop_den  \\\n",
              "0  DKI Jakarta  2020   1217      801232  0.82088      653.83  1.225444   \n",
              "1  DKI Jakarta  2021   1048      796729  0.82340      653.83  1.218557   \n",
              "2  DKI Jakarta  2022   2113      792228  0.82818      650.50  1.217875   \n",
              "3  DKI Jakarta  2023   1562      787726  0.83372      650.25  1.211420   \n",
              "\n",
              "   urbanicity                                           geometry  \n",
              "0    0.931345  MULTIPOLYGON (((106.84094 -6.34198, 106.8407 -...  \n",
              "1    0.931345  MULTIPOLYGON (((106.84094 -6.34198, 106.8407 -...  \n",
              "2    0.931345  MULTIPOLYGON (((106.84094 -6.34198, 106.8407 -...  \n",
              "3    0.931345  MULTIPOLYGON (((106.84094 -6.34198, 106.8407 -...  "
            ]
          },
          "execution_count": 9,
          "metadata": {},
          "output_type": "execute_result"
        }
      ],
      "source": [
        "jkt_prov.head()"
      ]
    },
    {
      "cell_type": "code",
      "execution_count": 10,
      "metadata": {
        "id": "OHKk7sZ2Fg3e"
      },
      "outputs": [],
      "source": [
        "# save as jkt combined divisions so next time dont need to filter again\n",
        "jkt_dist.to_file(\"../data/jkt_dist.shp\")\n",
        "jkt_prov.to_file(\"../data/jkt_prov.shp\")\n",
        "\n",
        "java_dist.to_file(\"../data/java_dist.shp\")\n",
        "java_prov.to_file(\"../data/java_prov.shp\")"
      ]
    }
  ],
  "metadata": {
    "colab": {
      "provenance": []
    },
    "kernelspec": {
      "display_name": "Python 3",
      "name": "python3"
    },
    "language_info": {
      "codemirror_mode": {
        "name": "ipython",
        "version": 3
      },
      "file_extension": ".py",
      "mimetype": "text/x-python",
      "name": "python",
      "nbconvert_exporter": "python",
      "pygments_lexer": "ipython3",
      "version": "3.13.1"
    }
  },
  "nbformat": 4,
  "nbformat_minor": 0
}
