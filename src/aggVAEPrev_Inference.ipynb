{
  "nbformat": 4,
  "nbformat_minor": 0,
  "metadata": {
    "colab": {
      "provenance": []
    },
    "kernelspec": {
      "name": "python3",
      "display_name": "Python 3"
    },
    "language_info": {
      "name": "python"
    }
  },
  "cells": [
    {
      "cell_type": "markdown",
      "source": [
        "\n",
        "### Load the necessary libraries\n"
      ],
      "metadata": {
        "id": "uxeE6BvTlxjf"
      }
    },
    {
      "cell_type": "code",
      "execution_count": null,
      "metadata": {
        "colab": {
          "base_uri": "https://localhost:8080/",
          "height": 383
        },
        "outputId": "18582e01-54de-4fa7-f475-44a5489d4c4c",
        "id": "WsYwJvk8lxjg"
      },
      "outputs": [
        {
          "output_type": "error",
          "ename": "ModuleNotFoundError",
          "evalue": "No module named 'numpyro'",
          "traceback": [
            "\u001b[0;31m---------------------------------------------------------------------------\u001b[0m",
            "\u001b[0;31mModuleNotFoundError\u001b[0m                       Traceback (most recent call last)",
            "\u001b[0;32m<ipython-input-3-23e6916981f7>\u001b[0m in \u001b[0;36m<cell line: 0>\u001b[0;34m()\u001b[0m\n\u001b[1;32m     10\u001b[0m \u001b[0;32mfrom\u001b[0m \u001b[0mjax\u001b[0m \u001b[0;32mimport\u001b[0m \u001b[0mrandom\u001b[0m\u001b[0;34m\u001b[0m\u001b[0;34m\u001b[0m\u001b[0m\n\u001b[1;32m     11\u001b[0m \u001b[0;34m\u001b[0m\u001b[0m\n\u001b[0;32m---> 12\u001b[0;31m \u001b[0;32mimport\u001b[0m \u001b[0mnumpyro\u001b[0m\u001b[0;34m\u001b[0m\u001b[0;34m\u001b[0m\u001b[0m\n\u001b[0m\u001b[1;32m     13\u001b[0m \u001b[0;32mfrom\u001b[0m \u001b[0mnumpyro\u001b[0m\u001b[0;34m.\u001b[0m\u001b[0minfer\u001b[0m \u001b[0;32mimport\u001b[0m \u001b[0mPredictive\u001b[0m\u001b[0;34m\u001b[0m\u001b[0;34m\u001b[0m\u001b[0m\n\u001b[1;32m     14\u001b[0m \u001b[0;32mimport\u001b[0m \u001b[0mnumpyro\u001b[0m\u001b[0;34m.\u001b[0m\u001b[0mdistributions\u001b[0m \u001b[0;32mas\u001b[0m \u001b[0mdist\u001b[0m\u001b[0;34m\u001b[0m\u001b[0;34m\u001b[0m\u001b[0m\n",
            "\u001b[0;31mModuleNotFoundError\u001b[0m: No module named 'numpyro'",
            "",
            "\u001b[0;31m---------------------------------------------------------------------------\u001b[0;32m\nNOTE: If your import is failing due to a missing package, you can\nmanually install dependencies using either !pip or !apt.\n\nTo view examples of installing some common dependencies, click the\n\"Open Examples\" button below.\n\u001b[0;31m---------------------------------------------------------------------------\u001b[0m\n"
          ],
          "errorDetails": {
            "actions": [
              {
                "action": "open_url",
                "actionText": "Open Examples",
                "url": "/notebooks/snippets/importing_libraries.ipynb"
              }
            ]
          }
        }
      ],
      "source": [
        "import os\n",
        "\n",
        "import dill\n",
        "import numpy as np\n",
        "import jax.numpy as jnp\n",
        "import pandas as pd\n",
        "import geopandas as gpd\n",
        "\n",
        "import jax\n",
        "from jax import random\n",
        "\n",
        "import numpyro\n",
        "from numpyro.infer import Predictive\n",
        "import numpyro.distributions as dist\n",
        "\n",
        "import arviz as az\n",
        "import plotly.express as px\n",
        "import plotly.graph_objs as go\n",
        "from plotly.subplots import make_subplots\n",
        "\n",
        "import matplotlib.pyplot as plt\n",
        "\n",
        "import sys\n",
        "sys.path.append(os.path.pardir)\n",
        "\n",
        "jax.config.update(\"jax_default_device\", jax.devices()[1])\n",
        "print(f\"Jax using device : {jax.devices()}\")"
      ]
    },
    {
      "cell_type": "markdown",
      "source": [
        "### Load the necessary variables"
      ],
      "metadata": {
        "id": "3C8ITzaaO0hK"
      }
    },
    {
      "cell_type": "code",
      "source": [
        "# Lat/Lon Values of artificial grid\n",
        "x = np.load(os.path.join(\"../data/processed/lat_lon_x_all.npy\"))\n",
        "# Low regional data\n",
        "pol_pts_all = np.load(\"../data/processed/pol_pt_lo.npy\")\n",
        "pt_which_pol_all = np.load(\"../data/processed/pt_which_pol_all.npy\")\n",
        "# Dataframes\n",
        "df = gpd.read_file(\"../data/processed/final_combined_divisions/final_combined_divisions.shp\")"
      ],
      "metadata": {
        "id": "AoD4Fs1kO2jV"
      },
      "execution_count": null,
      "outputs": []
    },
    {
      "cell_type": "code",
      "source": [
        "#load the model parameters\n",
        "# Define the correct path for model_weights (sibling folder to src)\n",
        "script_dir = os.getcwd()  # Get current working directory\n",
        "save_dir = os.path.abspath(os.path.join(script_dir, \"..\", \"model_weights\"))  # Move up and into model_weights\n",
        "\n",
        "# Ensure the directory exists\n",
        "if not os.path.exists(save_dir):\n",
        "    raise FileNotFoundError(f\"Directory '{save_dir}' does not exist. Ensure the chains were saved properly.\")\n",
        "\n",
        "n_samples = 2000  # Adjust based on your settings\n",
        "\n",
        "# Load MCMC objects\n",
        "mcmc_list = []\n",
        "for chain_id in range(3):  # Since you have chains 0 to 2\n",
        "    # Find all matching files for the chain\n",
        "    matching_files = sorted(\n",
        "        [f for f in os.listdir(save_dir) if f.startswith(f\"aggVAEPrev_chain{chain_id}_nsamples_{n_samples}_tt\")],\n",
        "        reverse=True  # Prioritize later files in case of multiple runs\n",
        "    )\n",
        "\n",
        "    if matching_files:\n",
        "        file_path = os.path.join(save_dir, matching_files[0])  # Pick the latest file\n",
        "        with open(file_path, \"rb\") as file:\n",
        "            mcmc = dill.load(file)\n",
        "            mcmc_list.append(mcmc)\n",
        "        print(f\"Loaded Chain {chain_id} from {file_path}\")\n",
        "    else:\n",
        "        print(f\"Warning: Missing Chain {chain_id} file!\")\n",
        "\n",
        "# Ensure all chains were loaded\n",
        "if len(mcmc_list) != 3:\n",
        "    raise ValueError(f\"Not all chains were loaded successfully! Loaded {len(mcmc_list)}/3 chains.\")\n",
        "\n",
        "# Extract samples from NumPyro MCMC objects (keeping chains separate)\n",
        "extracted_samples = [mcmc.get_samples(group_by_chain=True) for mcmc in mcmc_list]"
      ],
      "metadata": {
        "id": "WxStgpFzPQJC"
      },
      "execution_count": null,
      "outputs": []
    },
    {
      "cell_type": "markdown",
      "source": [
        "### Check diagnostics"
      ],
      "metadata": {
        "id": "JDow7FKIYbz5"
      }
    },
    {
      "cell_type": "code",
      "source": [
        "#metric values (ESS and Rhat)\n",
        "combined_samples = mcmc.get_samples()\n",
        "\n",
        "# Compute ESS and R-hat diagnostics\n",
        "ss = numpyro.diagnostics.summary(combined_samples)\n",
        "\n",
        "# Compute and print diagnostics\n",
        "r = np.mean(ss[\"vae_aggr\"][\"n_eff\"])\n",
        "print(f\"Average ESS for all aggVAE effects : {round(r)}\")\n",
        "print(f\"Max r_hat for all aggVAE effects : {round(np.max(ss['vae_aggr']['r_hat']),2)}\")\n",
        "print(f\"kernel_length R-hat : {round(ss['kernel_length']['r_hat'], 2)}\")\n",
        "print(f\"kernel_var R-hat : {round(ss['kernel_var']['r_hat'],2)}\")"
      ],
      "metadata": {
        "id": "aX9hU0iEYeOv"
      },
      "execution_count": null,
      "outputs": []
    },
    {
      "cell_type": "code",
      "source": [
        "#Plots\n",
        "# Convert to ArviZ InferenceData format\n",
        "idata = az.from_dict(posterior=combined_samples)"
      ],
      "metadata": {
        "id": "C822c1mWY5iW"
      },
      "execution_count": null,
      "outputs": []
    },
    {
      "cell_type": "code",
      "source": [
        "#trace plot (check mixing)\n",
        "az.plot_trace(idata, var_names = \"kernel_length\")\n",
        "az.plot_trace(idata, var_names = \"kernel_var\")"
      ],
      "metadata": {
        "id": "wlZGoexTZAd0"
      },
      "execution_count": null,
      "outputs": []
    },
    {
      "cell_type": "code",
      "source": [
        "#rank plot (ensure good mixing across chains)\n",
        "az.plot_rank(idata)"
      ],
      "metadata": {
        "id": "xCSuvpFaZBCQ"
      },
      "execution_count": null,
      "outputs": []
    },
    {
      "cell_type": "code",
      "source": [
        "#rhat (check diagnostics)\n",
        "print(az.rhat(idata))"
      ],
      "metadata": {
        "id": "0OiPtpW4ZB_I"
      },
      "execution_count": null,
      "outputs": []
    },
    {
      "cell_type": "code",
      "source": [
        "#effective sample size (ESS, >1000 ideally)\n",
        "print(az.ess(idata))"
      ],
      "metadata": {
        "id": "Pm2dkSb_ZDi8"
      },
      "execution_count": null,
      "outputs": []
    },
    {
      "cell_type": "code",
      "source": [
        "# Extract posterior samples (already combined)\n",
        "pos_samples = idata.posterior\n",
        "\n",
        "# Print MCMC summary\n",
        "print(az.summary(idata, var_names=[\"vae_aggr\", \"kernel_length\", \"kernel_var\"]))"
      ],
      "metadata": {
        "id": "PuBZCtKZZGDW"
      },
      "execution_count": null,
      "outputs": []
    },
    {
      "cell_type": "markdown",
      "source": [
        "### Extract prevalence estimate and observed prevalence data from the posterior and combine it into existing df"
      ],
      "metadata": {
        "id": "IsOGLLH-Zhlz"
      }
    },
    {
      "cell_type": "code",
      "source": [
        "#extract the theta estimate (dengue prevalence probability)\n",
        "# posterior predictive 1\n",
        "args[\"predict\"] = True\n",
        "prev_posterior_predictive_vae = Predictive(prev_model_vae_aggr, prev_samples)(random.PRNGKey(1), args)\n",
        "\n",
        "theta_samps_vae_aggr = prev_posterior_predictive_vae[\"theta\"]\n",
        "theta_mean_vae_aggr = theta_samps_vae_aggr.mean(axis = 0)\n",
        "bci_vae_aggr_25 = np.quantile(theta_samps_vae_aggr,0.25, axis = 0)\n",
        "bci_vae_aggr_75 = np.quantile(theta_samps_vae_aggr,0.75, axis = 0)\n",
        "df[\"theta_vae_aggr\"] = theta_mean_vae_aggr[0:df.shape[0]]\n",
        "\n",
        "theta_observed = df[\"prev\"]\n",
        "theta_vae_aggr = theta_mean_vae_aggr\n",
        "\n",
        "_max = np.max([theta_observed, theta_vae_aggr])\n",
        "_min = np.min([theta_observed, theta_vae_aggr])"
      ],
      "metadata": {
        "id": "TbRGQEVbZoVT"
      },
      "execution_count": null,
      "outputs": []
    },
    {
      "cell_type": "code",
      "source": [
        "#check the df head\n",
        "df.head()"
      ],
      "metadata": {
        "id": "6BAQQlHyajV9"
      },
      "execution_count": null,
      "outputs": []
    },
    {
      "cell_type": "code",
      "source": [
        "#plot the observed prevalence vs gp-estimated prevalence\n",
        "fig,ax = plt.subplots(1,2, figsize = (12,6))\n",
        "df.plot(column = \"theta_gp\", ax = ax[0], legend = True, cmap = \"plasma\", vmin = _min, vmax = _max)\n",
        "df.plot(column = \"obs_prev\", ax = ax[1], legend = True, cmap = \"plasma\", vmax = _max, vmin = _min)\n",
        "\n",
        "ax[0].set_title(\"Observed Dengue Prevalence\")\n",
        "ax[1].set_title(\"Aggregated VAE-Estimated Dengue Prevalence\")"
      ],
      "metadata": {
        "id": "fA1ZB1G_ale0"
      },
      "execution_count": null,
      "outputs": []
    },
    {
      "cell_type": "code",
      "source": [
        "#scatterplot\n",
        "fig, ax = plt.subplots(1, figsize=(10,5))\n",
        "\n",
        "ax.scatter(df.prev, df.theta_vae_aggr)\n",
        "ax.set_ylim(_min-0.02, _max+0.02)\n",
        "ax.set_xlim(_min-0.02, _max+0.02)\n",
        "ax.axline((1, 1), slope=1, ls=\"--\", c=\".3\")\n",
        "ax.set_xlabel(\"Observed prevalence\")\n",
        "ax.set_ylabel(\"Estimated prevalence\")\n",
        "ax.set_title(\"Observations using aggVAE Priors\")"
      ],
      "metadata": {
        "id": "-Lg3gHm2noqj"
      },
      "execution_count": null,
      "outputs": []
    }
  ]
}