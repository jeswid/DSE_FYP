{
  "cells": [
    {
      "cell_type": "markdown",
      "metadata": {
        "id": "e6OHOp4nw7bc"
      },
      "source": [
        "# CountGPVAE Simulation Demo\n",
        "\n",
        "This notebook demonstrates how to use the modularized components of the CountGPVAE model."
      ]
    },
    {
      "cell_type": "code",
      "execution_count": 1,
      "metadata": {
        "id": "bPZJu7mlw7bd"
      },
      "outputs": [
        {
          "name": "stderr",
          "output_type": "stream",
          "text": [
            "C:\\Users\\jessi\\AppData\\Roaming\\Python\\Python313\\site-packages\\tqdm\\auto.py:21: TqdmWarning: IProgress not found. Please update jupyter and ipywidgets. See https://ipywidgets.readthedocs.io/en/stable/user_install.html\n",
            "  from .autonotebook import tqdm as notebook_tqdm\n"
          ]
        }
      ],
      "source": [
        "import os\n",
        "import jax\n",
        "import jax.nn as nn\n",
        "import math\n",
        "import itertools\n",
        "from jax import lax, random\n",
        "from jax.example_libraries import stax\n",
        "import jax.numpy as jnp\n",
        "from jax.random import PRNGKey\n",
        "import numpy as np\n",
        "from sklearn.metrics import mean_squared_error, mean_absolute_error\n",
        "import numpyro\n",
        "import pickle\n",
        "import numpyro.distributions as dist\n",
        "from numpyro.infer import SVI, Trace_ELBO, RenyiELBO\n",
        "import arviz as az\n",
        "import sys\n",
        "from pyprojroot import here\n",
        "import time\n",
        "import plotly.express as px\n",
        "import geopandas as gpd\n",
        "sys.path.append(str(here() / \"simulation study\" / \"src\"))\n",
        "# Import our modular components\n",
        "from kernels import exp_sq_kernel, M_g\n",
        "from loader_jkt import load_data\n",
        "from gp import gp_aggr\n",
        "from vae import vae_model, vae_guide, vae_decoder\n",
        "from plotting import plot_process, plot_incidence_map\n",
        "import matplotlib.pyplot as plt\n",
        "from numpyro.infer import NUTS, MCMC, Predictive, init_to_median, init_to_uniform, init_to_sample, init_to_mean, init_to_value"
      ]
    },
    {
      "cell_type": "markdown",
      "metadata": {
        "id": "z3GQie9Dw7be"
      },
      "source": [
        "## 1. Load Data"
      ]
    },
    {
      "cell_type": "code",
      "execution_count": 2,
      "metadata": {
        "colab": {
          "base_uri": "https://localhost:8080/"
        },
        "id": "j8sxCkg9w7be",
        "outputId": "55720599-b89e-4c16-98c2-6c9ebeebc622"
      },
      "outputs": [
        {
          "name": "stdout",
          "output_type": "stream",
          "text": [
            "dict_keys(['x', 'pol_pts_lo', 'pol_pts_hi', 'df_lo', 'df_hi'])\n"
          ]
        }
      ],
      "source": [
        "# Load the spatial grid and polygon data\n",
        "spatial_data = load_data()\n",
        "print(spatial_data.keys())"
      ]
    },
    {
      "cell_type": "markdown",
      "metadata": {
        "id": "whJ-5gndw7be"
      },
      "source": [
        "## 2. Set up Model Parameters"
      ]
    },
    {
      "cell_type": "code",
      "execution_count": 3,
      "metadata": {
        "id": "38gAq6Tdw7be"
      },
      "outputs": [],
      "source": [
        "# Model configuration\n",
        "args = {\n",
        "    \"x\": spatial_data[\"x\"],\n",
        "    \"gp_kernel\": exp_sq_kernel,\n",
        "    \"noise\": 1.e-2,\n",
        "    \"jitter\": 1.e-2,\n",
        "    \"M_lo\": jnp.array(spatial_data[\"pol_pts_lo\"]),\n",
        "    \"M_hi\":  jnp.array(spatial_data[\"pol_pts_hi\"]),\n",
        "    'kernel_length': dist.InverseGamma(5, 2),\n",
        "    'kernel_var': dist.LogNormal(-1, 0.05),\n",
        "    \"vae_var\": 0.1,\n",
        "    \"batch_size\": 100,\n",
        "    \"hidden_dim\": 50,\n",
        "    \"z_dim\": 40,\n",
        "    \"learning_rate\": 1e-3,\n",
        "    \"num_epochs\": 30,\n",
        "    \"rng_key\": PRNGKey(6)\n",
        "}"
      ]
    },
    {
      "cell_type": "markdown",
      "metadata": {
        "id": "7HsfpX-0w7bf"
      },
      "source": [
        "## 3. Generate GP Samples"
      ]
    },
    {
      "cell_type": "code",
      "execution_count": 4,
      "metadata": {
        "colab": {
          "base_uri": "https://localhost:8080/",
          "height": 542
        },
        "id": "zkHFthuNw7bf",
        "outputId": "89e95d0b-7982-4286-e5f2-9ebf78cb3358"
      },
      "outputs": [
        {
          "data": {
            "application/vnd.plotly.v1+json": {
              "config": {
                "plotlyServerURL": "https://plot.ly"
              },
              "data": [
                {
                  "hovertemplate": "<extra></extra>",
                  "legendgroup": "",
                  "line": {
                    "color": "#636efa",
                    "dash": "solid"
                  },
                  "marker": {
                    "symbol": "circle"
                  },
                  "mode": "lines",
                  "name": "",
                  "orientation": "v",
                  "showlegend": false,
                  "type": "scatter",
                  "xaxis": "x",
                  "yaxis": "y"
                },
                {
                  "line": {
                    "color": "rgb(31, 119, 180)"
                  },
                  "opacity": 0.3,
                  "type": "scatter",
                  "x": {
                    "bdata": "AAECAwQF",
                    "dtype": "i1"
                  },
                  "y": {
                    "bdata": "9/2uQzSGe0K+Lc9BBsqhQl8nzkLsd5pC",
                    "dtype": "f4"
                  }
                },
                {
                  "line": {
                    "color": "rgb(31, 119, 180)"
                  },
                  "opacity": 0.3,
                  "type": "scatter",
                  "x": {
                    "bdata": "AAECAwQF",
                    "dtype": "i1"
                  },
                  "y": {
                    "bdata": "yCayRDyJekN1xt9CklyaQ9/w0UN3F6dD",
                    "dtype": "f4"
                  }
                },
                {
                  "line": {
                    "color": "rgb(31, 119, 180)"
                  },
                  "opacity": 0.3,
                  "type": "scatter",
                  "x": {
                    "bdata": "AAECAwQF",
                    "dtype": "i1"
                  },
                  "y": {
                    "bdata": "KKD9RGfvwUPBdEZDaK7HQyrbBUQd8v1D",
                    "dtype": "f4"
                  }
                },
                {
                  "line": {
                    "color": "rgb(31, 119, 180)"
                  },
                  "opacity": 0.3,
                  "type": "scatter",
                  "x": {
                    "bdata": "AAECAwQF",
                    "dtype": "i1"
                  },
                  "y": {
                    "bdata": "4QlNRSKGHETd4phDAJ0iRN9OW0QTRE1E",
                    "dtype": "f4"
                  }
                },
                {
                  "line": {
                    "color": "rgb(31, 119, 180)"
                  },
                  "opacity": 0.3,
                  "type": "scatter",
                  "x": {
                    "bdata": "AAECAwQF",
                    "dtype": "i1"
                  },
                  "y": {
                    "bdata": "yCFVRLC8HENY96FCcuosQyBiZ0MxglJD",
                    "dtype": "f4"
                  }
                }
              ],
              "layout": {
                "legend": {
                  "tracegroupgap": 0
                },
                "margin": {
                  "t": 60
                },
                "showlegend": false,
                "template": {
                  "data": {
                    "bar": [
                      {
                        "error_x": {
                          "color": "#2a3f5f"
                        },
                        "error_y": {
                          "color": "#2a3f5f"
                        },
                        "marker": {
                          "line": {
                            "color": "white",
                            "width": 0.5
                          },
                          "pattern": {
                            "fillmode": "overlay",
                            "size": 10,
                            "solidity": 0.2
                          }
                        },
                        "type": "bar"
                      }
                    ],
                    "barpolar": [
                      {
                        "marker": {
                          "line": {
                            "color": "white",
                            "width": 0.5
                          },
                          "pattern": {
                            "fillmode": "overlay",
                            "size": 10,
                            "solidity": 0.2
                          }
                        },
                        "type": "barpolar"
                      }
                    ],
                    "carpet": [
                      {
                        "aaxis": {
                          "endlinecolor": "#2a3f5f",
                          "gridcolor": "#C8D4E3",
                          "linecolor": "#C8D4E3",
                          "minorgridcolor": "#C8D4E3",
                          "startlinecolor": "#2a3f5f"
                        },
                        "baxis": {
                          "endlinecolor": "#2a3f5f",
                          "gridcolor": "#C8D4E3",
                          "linecolor": "#C8D4E3",
                          "minorgridcolor": "#C8D4E3",
                          "startlinecolor": "#2a3f5f"
                        },
                        "type": "carpet"
                      }
                    ],
                    "choropleth": [
                      {
                        "colorbar": {
                          "outlinewidth": 0,
                          "ticks": ""
                        },
                        "type": "choropleth"
                      }
                    ],
                    "contour": [
                      {
                        "colorbar": {
                          "outlinewidth": 0,
                          "ticks": ""
                        },
                        "colorscale": [
                          [
                            0,
                            "#0d0887"
                          ],
                          [
                            0.1111111111111111,
                            "#46039f"
                          ],
                          [
                            0.2222222222222222,
                            "#7201a8"
                          ],
                          [
                            0.3333333333333333,
                            "#9c179e"
                          ],
                          [
                            0.4444444444444444,
                            "#bd3786"
                          ],
                          [
                            0.5555555555555556,
                            "#d8576b"
                          ],
                          [
                            0.6666666666666666,
                            "#ed7953"
                          ],
                          [
                            0.7777777777777778,
                            "#fb9f3a"
                          ],
                          [
                            0.8888888888888888,
                            "#fdca26"
                          ],
                          [
                            1,
                            "#f0f921"
                          ]
                        ],
                        "type": "contour"
                      }
                    ],
                    "contourcarpet": [
                      {
                        "colorbar": {
                          "outlinewidth": 0,
                          "ticks": ""
                        },
                        "type": "contourcarpet"
                      }
                    ],
                    "heatmap": [
                      {
                        "colorbar": {
                          "outlinewidth": 0,
                          "ticks": ""
                        },
                        "colorscale": [
                          [
                            0,
                            "#0d0887"
                          ],
                          [
                            0.1111111111111111,
                            "#46039f"
                          ],
                          [
                            0.2222222222222222,
                            "#7201a8"
                          ],
                          [
                            0.3333333333333333,
                            "#9c179e"
                          ],
                          [
                            0.4444444444444444,
                            "#bd3786"
                          ],
                          [
                            0.5555555555555556,
                            "#d8576b"
                          ],
                          [
                            0.6666666666666666,
                            "#ed7953"
                          ],
                          [
                            0.7777777777777778,
                            "#fb9f3a"
                          ],
                          [
                            0.8888888888888888,
                            "#fdca26"
                          ],
                          [
                            1,
                            "#f0f921"
                          ]
                        ],
                        "type": "heatmap"
                      }
                    ],
                    "histogram": [
                      {
                        "marker": {
                          "pattern": {
                            "fillmode": "overlay",
                            "size": 10,
                            "solidity": 0.2
                          }
                        },
                        "type": "histogram"
                      }
                    ],
                    "histogram2d": [
                      {
                        "colorbar": {
                          "outlinewidth": 0,
                          "ticks": ""
                        },
                        "colorscale": [
                          [
                            0,
                            "#0d0887"
                          ],
                          [
                            0.1111111111111111,
                            "#46039f"
                          ],
                          [
                            0.2222222222222222,
                            "#7201a8"
                          ],
                          [
                            0.3333333333333333,
                            "#9c179e"
                          ],
                          [
                            0.4444444444444444,
                            "#bd3786"
                          ],
                          [
                            0.5555555555555556,
                            "#d8576b"
                          ],
                          [
                            0.6666666666666666,
                            "#ed7953"
                          ],
                          [
                            0.7777777777777778,
                            "#fb9f3a"
                          ],
                          [
                            0.8888888888888888,
                            "#fdca26"
                          ],
                          [
                            1,
                            "#f0f921"
                          ]
                        ],
                        "type": "histogram2d"
                      }
                    ],
                    "histogram2dcontour": [
                      {
                        "colorbar": {
                          "outlinewidth": 0,
                          "ticks": ""
                        },
                        "colorscale": [
                          [
                            0,
                            "#0d0887"
                          ],
                          [
                            0.1111111111111111,
                            "#46039f"
                          ],
                          [
                            0.2222222222222222,
                            "#7201a8"
                          ],
                          [
                            0.3333333333333333,
                            "#9c179e"
                          ],
                          [
                            0.4444444444444444,
                            "#bd3786"
                          ],
                          [
                            0.5555555555555556,
                            "#d8576b"
                          ],
                          [
                            0.6666666666666666,
                            "#ed7953"
                          ],
                          [
                            0.7777777777777778,
                            "#fb9f3a"
                          ],
                          [
                            0.8888888888888888,
                            "#fdca26"
                          ],
                          [
                            1,
                            "#f0f921"
                          ]
                        ],
                        "type": "histogram2dcontour"
                      }
                    ],
                    "mesh3d": [
                      {
                        "colorbar": {
                          "outlinewidth": 0,
                          "ticks": ""
                        },
                        "type": "mesh3d"
                      }
                    ],
                    "parcoords": [
                      {
                        "line": {
                          "colorbar": {
                            "outlinewidth": 0,
                            "ticks": ""
                          }
                        },
                        "type": "parcoords"
                      }
                    ],
                    "pie": [
                      {
                        "automargin": true,
                        "type": "pie"
                      }
                    ],
                    "scatter": [
                      {
                        "fillpattern": {
                          "fillmode": "overlay",
                          "size": 10,
                          "solidity": 0.2
                        },
                        "type": "scatter"
                      }
                    ],
                    "scatter3d": [
                      {
                        "line": {
                          "colorbar": {
                            "outlinewidth": 0,
                            "ticks": ""
                          }
                        },
                        "marker": {
                          "colorbar": {
                            "outlinewidth": 0,
                            "ticks": ""
                          }
                        },
                        "type": "scatter3d"
                      }
                    ],
                    "scattercarpet": [
                      {
                        "marker": {
                          "colorbar": {
                            "outlinewidth": 0,
                            "ticks": ""
                          }
                        },
                        "type": "scattercarpet"
                      }
                    ],
                    "scattergeo": [
                      {
                        "marker": {
                          "colorbar": {
                            "outlinewidth": 0,
                            "ticks": ""
                          }
                        },
                        "type": "scattergeo"
                      }
                    ],
                    "scattergl": [
                      {
                        "marker": {
                          "colorbar": {
                            "outlinewidth": 0,
                            "ticks": ""
                          }
                        },
                        "type": "scattergl"
                      }
                    ],
                    "scattermap": [
                      {
                        "marker": {
                          "colorbar": {
                            "outlinewidth": 0,
                            "ticks": ""
                          }
                        },
                        "type": "scattermap"
                      }
                    ],
                    "scattermapbox": [
                      {
                        "marker": {
                          "colorbar": {
                            "outlinewidth": 0,
                            "ticks": ""
                          }
                        },
                        "type": "scattermapbox"
                      }
                    ],
                    "scatterpolar": [
                      {
                        "marker": {
                          "colorbar": {
                            "outlinewidth": 0,
                            "ticks": ""
                          }
                        },
                        "type": "scatterpolar"
                      }
                    ],
                    "scatterpolargl": [
                      {
                        "marker": {
                          "colorbar": {
                            "outlinewidth": 0,
                            "ticks": ""
                          }
                        },
                        "type": "scatterpolargl"
                      }
                    ],
                    "scatterternary": [
                      {
                        "marker": {
                          "colorbar": {
                            "outlinewidth": 0,
                            "ticks": ""
                          }
                        },
                        "type": "scatterternary"
                      }
                    ],
                    "surface": [
                      {
                        "colorbar": {
                          "outlinewidth": 0,
                          "ticks": ""
                        },
                        "colorscale": [
                          [
                            0,
                            "#0d0887"
                          ],
                          [
                            0.1111111111111111,
                            "#46039f"
                          ],
                          [
                            0.2222222222222222,
                            "#7201a8"
                          ],
                          [
                            0.3333333333333333,
                            "#9c179e"
                          ],
                          [
                            0.4444444444444444,
                            "#bd3786"
                          ],
                          [
                            0.5555555555555556,
                            "#d8576b"
                          ],
                          [
                            0.6666666666666666,
                            "#ed7953"
                          ],
                          [
                            0.7777777777777778,
                            "#fb9f3a"
                          ],
                          [
                            0.8888888888888888,
                            "#fdca26"
                          ],
                          [
                            1,
                            "#f0f921"
                          ]
                        ],
                        "type": "surface"
                      }
                    ],
                    "table": [
                      {
                        "cells": {
                          "fill": {
                            "color": "#EBF0F8"
                          },
                          "line": {
                            "color": "white"
                          }
                        },
                        "header": {
                          "fill": {
                            "color": "#C8D4E3"
                          },
                          "line": {
                            "color": "white"
                          }
                        },
                        "type": "table"
                      }
                    ]
                  },
                  "layout": {
                    "annotationdefaults": {
                      "arrowcolor": "#2a3f5f",
                      "arrowhead": 0,
                      "arrowwidth": 1
                    },
                    "autotypenumbers": "strict",
                    "coloraxis": {
                      "colorbar": {
                        "outlinewidth": 0,
                        "ticks": ""
                      }
                    },
                    "colorscale": {
                      "diverging": [
                        [
                          0,
                          "#8e0152"
                        ],
                        [
                          0.1,
                          "#c51b7d"
                        ],
                        [
                          0.2,
                          "#de77ae"
                        ],
                        [
                          0.3,
                          "#f1b6da"
                        ],
                        [
                          0.4,
                          "#fde0ef"
                        ],
                        [
                          0.5,
                          "#f7f7f7"
                        ],
                        [
                          0.6,
                          "#e6f5d0"
                        ],
                        [
                          0.7,
                          "#b8e186"
                        ],
                        [
                          0.8,
                          "#7fbc41"
                        ],
                        [
                          0.9,
                          "#4d9221"
                        ],
                        [
                          1,
                          "#276419"
                        ]
                      ],
                      "sequential": [
                        [
                          0,
                          "#0d0887"
                        ],
                        [
                          0.1111111111111111,
                          "#46039f"
                        ],
                        [
                          0.2222222222222222,
                          "#7201a8"
                        ],
                        [
                          0.3333333333333333,
                          "#9c179e"
                        ],
                        [
                          0.4444444444444444,
                          "#bd3786"
                        ],
                        [
                          0.5555555555555556,
                          "#d8576b"
                        ],
                        [
                          0.6666666666666666,
                          "#ed7953"
                        ],
                        [
                          0.7777777777777778,
                          "#fb9f3a"
                        ],
                        [
                          0.8888888888888888,
                          "#fdca26"
                        ],
                        [
                          1,
                          "#f0f921"
                        ]
                      ],
                      "sequentialminus": [
                        [
                          0,
                          "#0d0887"
                        ],
                        [
                          0.1111111111111111,
                          "#46039f"
                        ],
                        [
                          0.2222222222222222,
                          "#7201a8"
                        ],
                        [
                          0.3333333333333333,
                          "#9c179e"
                        ],
                        [
                          0.4444444444444444,
                          "#bd3786"
                        ],
                        [
                          0.5555555555555556,
                          "#d8576b"
                        ],
                        [
                          0.6666666666666666,
                          "#ed7953"
                        ],
                        [
                          0.7777777777777778,
                          "#fb9f3a"
                        ],
                        [
                          0.8888888888888888,
                          "#fdca26"
                        ],
                        [
                          1,
                          "#f0f921"
                        ]
                      ]
                    },
                    "colorway": [
                      "#636efa",
                      "#EF553B",
                      "#00cc96",
                      "#ab63fa",
                      "#FFA15A",
                      "#19d3f3",
                      "#FF6692",
                      "#B6E880",
                      "#FF97FF",
                      "#FECB52"
                    ],
                    "font": {
                      "color": "#2a3f5f"
                    },
                    "geo": {
                      "bgcolor": "white",
                      "lakecolor": "white",
                      "landcolor": "white",
                      "showlakes": true,
                      "showland": true,
                      "subunitcolor": "#C8D4E3"
                    },
                    "hoverlabel": {
                      "align": "left"
                    },
                    "hovermode": "closest",
                    "mapbox": {
                      "style": "light"
                    },
                    "paper_bgcolor": "white",
                    "plot_bgcolor": "white",
                    "polar": {
                      "angularaxis": {
                        "gridcolor": "#EBF0F8",
                        "linecolor": "#EBF0F8",
                        "ticks": ""
                      },
                      "bgcolor": "white",
                      "radialaxis": {
                        "gridcolor": "#EBF0F8",
                        "linecolor": "#EBF0F8",
                        "ticks": ""
                      }
                    },
                    "scene": {
                      "xaxis": {
                        "backgroundcolor": "white",
                        "gridcolor": "#DFE8F3",
                        "gridwidth": 2,
                        "linecolor": "#EBF0F8",
                        "showbackground": true,
                        "ticks": "",
                        "zerolinecolor": "#EBF0F8"
                      },
                      "yaxis": {
                        "backgroundcolor": "white",
                        "gridcolor": "#DFE8F3",
                        "gridwidth": 2,
                        "linecolor": "#EBF0F8",
                        "showbackground": true,
                        "ticks": "",
                        "zerolinecolor": "#EBF0F8"
                      },
                      "zaxis": {
                        "backgroundcolor": "white",
                        "gridcolor": "#DFE8F3",
                        "gridwidth": 2,
                        "linecolor": "#EBF0F8",
                        "showbackground": true,
                        "ticks": "",
                        "zerolinecolor": "#EBF0F8"
                      }
                    },
                    "shapedefaults": {
                      "line": {
                        "color": "#2a3f5f"
                      }
                    },
                    "ternary": {
                      "aaxis": {
                        "gridcolor": "#DFE8F3",
                        "linecolor": "#A2B1C6",
                        "ticks": ""
                      },
                      "baxis": {
                        "gridcolor": "#DFE8F3",
                        "linecolor": "#A2B1C6",
                        "ticks": ""
                      },
                      "bgcolor": "white",
                      "caxis": {
                        "gridcolor": "#DFE8F3",
                        "linecolor": "#A2B1C6",
                        "ticks": ""
                      }
                    },
                    "title": {
                      "x": 0.05
                    },
                    "xaxis": {
                      "automargin": true,
                      "gridcolor": "#EBF0F8",
                      "linecolor": "#EBF0F8",
                      "ticks": "",
                      "title": {
                        "standoff": 15
                      },
                      "zerolinecolor": "#EBF0F8",
                      "zerolinewidth": 2
                    },
                    "yaxis": {
                      "automargin": true,
                      "gridcolor": "#EBF0F8",
                      "linecolor": "#EBF0F8",
                      "ticks": "",
                      "title": {
                        "standoff": 15
                      },
                      "zerolinecolor": "#EBF0F8",
                      "zerolinewidth": 2
                    }
                  }
                },
                "xaxis": {
                  "anchor": "y",
                  "domain": [
                    0,
                    1
                  ],
                  "title": {
                    "text": "region"
                  }
                },
                "yaxis": {
                  "anchor": "x",
                  "domain": [
                    0,
                    1
                  ],
                  "title": {
                    "text": "num cases"
                  }
                }
              }
            }
          },
          "metadata": {},
          "output_type": "display_data"
        }
      ],
      "source": [
        "# Create predictive function for GP\n",
        "from numpyro.infer import Predictive\n",
        "# Draw samples from the prior\n",
        "prior_samples = Predictive(gp_aggr, num_samples=5)(\n",
        "    PRNGKey(6),\n",
        "    config=args\n",
        ")\n",
        "\n",
        "# transform prior samples to arviz inference object\n",
        "prior_samples_arviz = az.from_numpyro(prior=prior_samples)\n",
        "\n",
        "plot_process(prior_samples_arviz.prior.gp_aggr.values)"
      ]
    },
    {
      "cell_type": "markdown",
      "metadata": {
        "id": "y2Vp3pclw7bf"
      },
      "source": [
        "## 4. Train VAE"
      ]
    },
    {
      "cell_type": "code",
      "execution_count": 115,
      "metadata": {
        "id": "2YwzUbGTw7bf"
      },
      "outputs": [],
      "source": [
        "# Initialize SVI\n",
        "optimizer = numpyro.optim.Adam(step_size=1e-3)\n",
        "agg_gp_predictive = Predictive(gp_aggr,num_samples = 5)\n",
        "@jax.jit\n",
        "def epoch_train(rng_key, svi_state, num_train):\n",
        "    def body_fn(i, val):\n",
        "        rng_key_i = jax.random.fold_in(rng_key, i) #Array(2,)\n",
        "        rng_key_i, rng_key_ls, rng_key_var, rng_key_noise = jax.random.split(rng_key_i, 4) #Tuple(Array(2,) x 4)\n",
        "        loss_sum, svi_state = val #val --svi_state\n",
        "\n",
        "        batch = agg_gp_predictive(rng_key_i, args)[\"gp_aggr\"] #(5,116) <- num_samples : 5, total_districts : 116\n",
        "        #* svi is where the vae_model & vae_guide gets applied\n",
        "        svi_state, loss = svi.update(svi_state, batch)\n",
        "        loss_sum += loss / args[\"batch_size\"]\n",
        "        return loss_sum, svi_state\n",
        "\n",
        "    return lax.fori_loop(lower = 0, upper = num_train, body_fun=body_fn, init_val=(0.0, svi_state))\n",
        "\n",
        "@jax.jit\n",
        "def eval_test(rng_key, svi_state, num_test):\n",
        "    def body_fn(i, loss_sum):\n",
        "        rng_key_i = jax.random.fold_in(rng_key, i)\n",
        "        rng_key_i, rng_key_ls, rng_key_varm, rng_key_noise = jax.random.split(rng_key_i, 4)\n",
        "        batch = agg_gp_predictive(rng_key_i, args)[\"gp_aggr\"]\n",
        "        #* svi is where the vae_model & vae_guide gets applied\n",
        "        loss = svi.evaluate(svi_state, batch) / args[\"batch_size\"]\n",
        "        loss_sum += loss\n",
        "        return loss_sum\n",
        "\n",
        "    loss = lax.fori_loop(lower = 0, upper = num_test,body_fun =  body_fn, init_val = 0.0)\n",
        "    loss = loss / num_test\n",
        "    return loss"
      ]
    },
    {
      "cell_type": "markdown",
      "metadata": {
        "id": "VabqlnplpGbN"
      },
      "source": [
        "## Hyerparameter tuning for h and z"
      ]
    },
    {
      "cell_type": "code",
      "execution_count": 16,
      "metadata": {
        "colab": {
          "base_uri": "https://localhost:8080/"
        },
        "id": "vwdUjb5vpJzs",
        "outputId": "566fb6c8-73b8-4bc3-bc49-cdb9cfe5cd37"
      },
      "outputs": [
        {
          "name": "stdout",
          "output_type": "stream",
          "text": [
            "Training with hidden_dim=20, z_dim=20\n"
          ]
        },
        {
          "ename": "KeyboardInterrupt",
          "evalue": "",
          "output_type": "error",
          "traceback": [
            "\u001b[1;31m---------------------------------------------------------------------------\u001b[0m",
            "\u001b[1;31mKeyboardInterrupt\u001b[0m                         Traceback (most recent call last)",
            "Cell \u001b[1;32mIn[16], line 45\u001b[0m\n\u001b[0;32m     42\u001b[0m t_start \u001b[38;5;241m=\u001b[39m time\u001b[38;5;241m.\u001b[39mtime()\n\u001b[0;32m     44\u001b[0m train_loss, svi_state \u001b[38;5;241m=\u001b[39m epoch_train(rng_key_train, svi_state, num_train)\n\u001b[1;32m---> 45\u001b[0m test_loss \u001b[38;5;241m=\u001b[39m \u001b[43meval_test\u001b[49m\u001b[43m(\u001b[49m\u001b[43mrng_key_test\u001b[49m\u001b[43m,\u001b[49m\u001b[43m \u001b[49m\u001b[43msvi_state\u001b[49m\u001b[43m,\u001b[49m\u001b[43m \u001b[49m\u001b[43mnum_test\u001b[49m\u001b[43m)\u001b[49m\n\u001b[0;32m     46\u001b[0m test_loss_list \u001b[38;5;241m=\u001b[39m test_loss_list\u001b[38;5;241m.\u001b[39mat[epoch]\u001b[38;5;241m.\u001b[39mset(test_loss)\n\u001b[0;32m     48\u001b[0m \u001b[38;5;28mprint\u001b[39m(\u001b[38;5;124mf\u001b[39m\u001b[38;5;124m\"\u001b[39m\u001b[38;5;124mEpoch: \u001b[39m\u001b[38;5;132;01m{\u001b[39;00mepoch\u001b[38;5;132;01m}\u001b[39;00m\u001b[38;5;124m, Train Loss: \u001b[39m\u001b[38;5;132;01m{\u001b[39;00mtrain_loss\u001b[38;5;132;01m:\u001b[39;00m\u001b[38;5;124m.2f\u001b[39m\u001b[38;5;132;01m}\u001b[39;00m\u001b[38;5;124m, Test Loss: \u001b[39m\u001b[38;5;132;01m{\u001b[39;00mtest_loss\u001b[38;5;132;01m:\u001b[39;00m\u001b[38;5;124m.2f\u001b[39m\u001b[38;5;132;01m}\u001b[39;00m\u001b[38;5;124m (\u001b[39m\u001b[38;5;132;01m{\u001b[39;00mtime\u001b[38;5;241m.\u001b[39mtime()\u001b[38;5;250m \u001b[39m\u001b[38;5;241m-\u001b[39m\u001b[38;5;250m \u001b[39mt_start\u001b[38;5;132;01m:\u001b[39;00m\u001b[38;5;124m.2f\u001b[39m\u001b[38;5;132;01m}\u001b[39;00m\u001b[38;5;124m s)\u001b[39m\u001b[38;5;124m\"\u001b[39m)\n",
            "    \u001b[1;31m[... skipping hidden 1 frame]\u001b[0m\n",
            "File \u001b[1;32m~\\AppData\\Roaming\\Python\\Python313\\site-packages\\jax\\_src\\pjit.py:339\u001b[0m, in \u001b[0;36m_cpp_pjit.<locals>.cache_miss\u001b[1;34m(*args, **kwargs)\u001b[0m\n\u001b[0;32m    334\u001b[0m \u001b[38;5;28;01mif\u001b[39;00m config\u001b[38;5;241m.\u001b[39mno_tracing\u001b[38;5;241m.\u001b[39mvalue:\n\u001b[0;32m    335\u001b[0m   \u001b[38;5;28;01mraise\u001b[39;00m \u001b[38;5;167;01mRuntimeError\u001b[39;00m(\u001b[38;5;124mf\u001b[39m\u001b[38;5;124m\"\u001b[39m\u001b[38;5;124mre-tracing function \u001b[39m\u001b[38;5;132;01m{\u001b[39;00mjit_info\u001b[38;5;241m.\u001b[39mfun_sourceinfo\u001b[38;5;132;01m}\u001b[39;00m\u001b[38;5;124m for \u001b[39m\u001b[38;5;124m\"\u001b[39m\n\u001b[0;32m    336\u001b[0m                      \u001b[38;5;124m\"\u001b[39m\u001b[38;5;124m`jit`, but \u001b[39m\u001b[38;5;124m'\u001b[39m\u001b[38;5;124mno_tracing\u001b[39m\u001b[38;5;124m'\u001b[39m\u001b[38;5;124m is set\u001b[39m\u001b[38;5;124m\"\u001b[39m)\n\u001b[0;32m    338\u001b[0m (outs, out_flat, out_tree, args_flat, jaxpr, attrs_tracked, executable,\n\u001b[1;32m--> 339\u001b[0m  pgle_profiler) \u001b[38;5;241m=\u001b[39m \u001b[43m_python_pjit_helper\u001b[49m\u001b[43m(\u001b[49m\u001b[43mfun\u001b[49m\u001b[43m,\u001b[49m\u001b[43m \u001b[49m\u001b[43mjit_info\u001b[49m\u001b[43m,\u001b[49m\u001b[43m \u001b[49m\u001b[38;5;241;43m*\u001b[39;49m\u001b[43margs\u001b[49m\u001b[43m,\u001b[49m\u001b[43m \u001b[49m\u001b[38;5;241;43m*\u001b[39;49m\u001b[38;5;241;43m*\u001b[39;49m\u001b[43mkwargs\u001b[49m\u001b[43m)\u001b[49m\n\u001b[0;32m    341\u001b[0m maybe_fastpath_data \u001b[38;5;241m=\u001b[39m _get_fastpath_data(\n\u001b[0;32m    342\u001b[0m     executable, out_tree, args_flat, out_flat, attrs_tracked, jaxpr\u001b[38;5;241m.\u001b[39meffects,\n\u001b[0;32m    343\u001b[0m     jaxpr\u001b[38;5;241m.\u001b[39mconsts, jit_info\u001b[38;5;241m.\u001b[39mabstracted_axes,\n\u001b[0;32m    344\u001b[0m     pgle_profiler)\n\u001b[0;32m    346\u001b[0m \u001b[38;5;28;01mreturn\u001b[39;00m outs, maybe_fastpath_data, _need_to_rebuild_with_fdo(pgle_profiler)\n",
            "File \u001b[1;32m~\\AppData\\Roaming\\Python\\Python313\\site-packages\\jax\\_src\\pjit.py:194\u001b[0m, in \u001b[0;36m_python_pjit_helper\u001b[1;34m(fun, jit_info, *args, **kwargs)\u001b[0m\n\u001b[0;32m    192\u001b[0m   args_flat \u001b[38;5;241m=\u001b[39m \u001b[38;5;28mmap\u001b[39m(core\u001b[38;5;241m.\u001b[39mfull_lower, args_flat)\n\u001b[0;32m    193\u001b[0m   core\u001b[38;5;241m.\u001b[39mcheck_eval_args(args_flat)\n\u001b[1;32m--> 194\u001b[0m   out_flat, compiled, profiler \u001b[38;5;241m=\u001b[39m \u001b[43m_pjit_call_impl_python\u001b[49m\u001b[43m(\u001b[49m\u001b[38;5;241;43m*\u001b[39;49m\u001b[43margs_flat\u001b[49m\u001b[43m,\u001b[49m\u001b[43m \u001b[49m\u001b[38;5;241;43m*\u001b[39;49m\u001b[38;5;241;43m*\u001b[39;49m\u001b[43mp\u001b[49m\u001b[38;5;241;43m.\u001b[39;49m\u001b[43mparams\u001b[49m\u001b[43m)\u001b[49m\n\u001b[0;32m    195\u001b[0m \u001b[38;5;28;01melse\u001b[39;00m:\n\u001b[0;32m    196\u001b[0m   out_flat \u001b[38;5;241m=\u001b[39m pjit_p\u001b[38;5;241m.\u001b[39mbind(\u001b[38;5;241m*\u001b[39margs_flat, \u001b[38;5;241m*\u001b[39m\u001b[38;5;241m*\u001b[39mp\u001b[38;5;241m.\u001b[39mparams)\n",
            "File \u001b[1;32m~\\AppData\\Roaming\\Python\\Python313\\site-packages\\jax\\_src\\pjit.py:1659\u001b[0m, in \u001b[0;36m_pjit_call_impl_python\u001b[1;34m(jaxpr, in_shardings, out_shardings, in_layouts, out_layouts, donated_invars, ctx_mesh, name, keep_unused, inline, compiler_options_kvs, *args)\u001b[0m\n\u001b[0;32m   1647\u001b[0m compiler_options_kvs \u001b[38;5;241m=\u001b[39m compiler_options_kvs \u001b[38;5;241m+\u001b[39m \u001b[38;5;28mtuple\u001b[39m(pgle_compile_options\u001b[38;5;241m.\u001b[39mitems())\n\u001b[0;32m   1648\u001b[0m \u001b[38;5;66;03m# Passing mutable PGLE profile here since it should be extracted by JAXPR to\u001b[39;00m\n\u001b[0;32m   1649\u001b[0m \u001b[38;5;66;03m# initialize the fdo_profile compile option.\u001b[39;00m\n\u001b[0;32m   1650\u001b[0m compiled \u001b[38;5;241m=\u001b[39m \u001b[43m_resolve_and_lower\u001b[49m\u001b[43m(\u001b[49m\n\u001b[0;32m   1651\u001b[0m \u001b[43m    \u001b[49m\u001b[43margs\u001b[49m\u001b[43m,\u001b[49m\u001b[43m \u001b[49m\u001b[43mjaxpr\u001b[49m\u001b[38;5;241;43m=\u001b[39;49m\u001b[43mjaxpr\u001b[49m\u001b[43m,\u001b[49m\u001b[43m \u001b[49m\u001b[43min_shardings\u001b[49m\u001b[38;5;241;43m=\u001b[39;49m\u001b[43min_shardings\u001b[49m\u001b[43m,\u001b[49m\n\u001b[0;32m   1652\u001b[0m \u001b[43m    \u001b[49m\u001b[43mout_shardings\u001b[49m\u001b[38;5;241;43m=\u001b[39;49m\u001b[43mout_shardings\u001b[49m\u001b[43m,\u001b[49m\u001b[43m \u001b[49m\u001b[43min_layouts\u001b[49m\u001b[38;5;241;43m=\u001b[39;49m\u001b[43min_layouts\u001b[49m\u001b[43m,\u001b[49m\n\u001b[0;32m   1653\u001b[0m \u001b[43m    \u001b[49m\u001b[43mout_layouts\u001b[49m\u001b[38;5;241;43m=\u001b[39;49m\u001b[43mout_layouts\u001b[49m\u001b[43m,\u001b[49m\u001b[43m \u001b[49m\u001b[43mdonated_invars\u001b[49m\u001b[38;5;241;43m=\u001b[39;49m\u001b[43mdonated_invars\u001b[49m\u001b[43m,\u001b[49m\n\u001b[0;32m   1654\u001b[0m \u001b[43m    \u001b[49m\u001b[43mctx_mesh\u001b[49m\u001b[38;5;241;43m=\u001b[39;49m\u001b[43mctx_mesh\u001b[49m\u001b[43m,\u001b[49m\u001b[43m \u001b[49m\u001b[43mname\u001b[49m\u001b[38;5;241;43m=\u001b[39;49m\u001b[43mname\u001b[49m\u001b[43m,\u001b[49m\u001b[43m \u001b[49m\u001b[43mkeep_unused\u001b[49m\u001b[38;5;241;43m=\u001b[39;49m\u001b[43mkeep_unused\u001b[49m\u001b[43m,\u001b[49m\n\u001b[0;32m   1655\u001b[0m \u001b[43m    \u001b[49m\u001b[43minline\u001b[49m\u001b[38;5;241;43m=\u001b[39;49m\u001b[43minline\u001b[49m\u001b[43m,\u001b[49m\u001b[43m \u001b[49m\u001b[43mlowering_platforms\u001b[49m\u001b[38;5;241;43m=\u001b[39;49m\u001b[38;5;28;43;01mNone\u001b[39;49;00m\u001b[43m,\u001b[49m\n\u001b[0;32m   1656\u001b[0m \u001b[43m    \u001b[49m\u001b[43mlowering_parameters\u001b[49m\u001b[38;5;241;43m=\u001b[39;49m\u001b[43mmlir\u001b[49m\u001b[38;5;241;43m.\u001b[39;49m\u001b[43mLoweringParameters\u001b[49m\u001b[43m(\u001b[49m\u001b[43m)\u001b[49m\u001b[43m,\u001b[49m\n\u001b[0;32m   1657\u001b[0m \u001b[43m    \u001b[49m\u001b[43mpgle_profiler\u001b[49m\u001b[38;5;241;43m=\u001b[39;49m\u001b[43mpgle_profiler\u001b[49m\u001b[43m,\u001b[49m\n\u001b[0;32m   1658\u001b[0m \u001b[43m    \u001b[49m\u001b[43mcompiler_options_kvs\u001b[49m\u001b[38;5;241;43m=\u001b[39;49m\u001b[43mcompiler_options_kvs\u001b[49m\u001b[43m,\u001b[49m\n\u001b[1;32m-> 1659\u001b[0m \u001b[43m\u001b[49m\u001b[43m)\u001b[49m\u001b[38;5;241;43m.\u001b[39;49m\u001b[43mcompile\u001b[49m\u001b[43m(\u001b[49m\u001b[43m)\u001b[49m\n\u001b[0;32m   1661\u001b[0m \u001b[38;5;66;03m# This check is expensive so only do it if enable_checks is on.\u001b[39;00m\n\u001b[0;32m   1662\u001b[0m \u001b[38;5;28;01mif\u001b[39;00m compiled\u001b[38;5;241m.\u001b[39m_auto_spmd_lowering \u001b[38;5;129;01mand\u001b[39;00m config\u001b[38;5;241m.\u001b[39menable_checks\u001b[38;5;241m.\u001b[39mvalue:\n",
            "File \u001b[1;32m~\\AppData\\Roaming\\Python\\Python313\\site-packages\\jax\\_src\\interpreters\\pxla.py:2448\u001b[0m, in \u001b[0;36mMeshComputation.compile\u001b[1;34m(self, compiler_options)\u001b[0m\n\u001b[0;32m   2446\u001b[0m compiler_options_kvs \u001b[38;5;241m=\u001b[39m \u001b[38;5;28mself\u001b[39m\u001b[38;5;241m.\u001b[39m_compiler_options_kvs \u001b[38;5;241m+\u001b[39m t_compiler_options\n\u001b[0;32m   2447\u001b[0m \u001b[38;5;28;01mif\u001b[39;00m \u001b[38;5;28mself\u001b[39m\u001b[38;5;241m.\u001b[39m_executable \u001b[38;5;129;01mis\u001b[39;00m \u001b[38;5;28;01mNone\u001b[39;00m \u001b[38;5;129;01mor\u001b[39;00m compiler_options_kvs:\n\u001b[1;32m-> 2448\u001b[0m   executable \u001b[38;5;241m=\u001b[39m \u001b[43mUnloadedMeshExecutable\u001b[49m\u001b[38;5;241;43m.\u001b[39;49m\u001b[43mfrom_hlo\u001b[49m\u001b[43m(\u001b[49m\n\u001b[0;32m   2449\u001b[0m \u001b[43m      \u001b[49m\u001b[38;5;28;43mself\u001b[39;49m\u001b[38;5;241;43m.\u001b[39;49m\u001b[43m_name\u001b[49m\u001b[43m,\u001b[49m\u001b[43m \u001b[49m\u001b[38;5;28;43mself\u001b[39;49m\u001b[38;5;241;43m.\u001b[39;49m\u001b[43m_hlo\u001b[49m\u001b[43m,\u001b[49m\u001b[43m \u001b[49m\u001b[38;5;241;43m*\u001b[39;49m\u001b[38;5;241;43m*\u001b[39;49m\u001b[38;5;28;43mself\u001b[39;49m\u001b[38;5;241;43m.\u001b[39;49m\u001b[43mcompile_args\u001b[49m\u001b[43m,\u001b[49m\n\u001b[0;32m   2450\u001b[0m \u001b[43m      \u001b[49m\u001b[43mcompiler_options_kvs\u001b[49m\u001b[38;5;241;43m=\u001b[39;49m\u001b[43mcompiler_options_kvs\u001b[49m\u001b[43m)\u001b[49m\n\u001b[0;32m   2451\u001b[0m   \u001b[38;5;28;01mif\u001b[39;00m \u001b[38;5;129;01mnot\u001b[39;00m compiler_options_kvs:\n\u001b[0;32m   2452\u001b[0m     \u001b[38;5;28mself\u001b[39m\u001b[38;5;241m.\u001b[39m_executable \u001b[38;5;241m=\u001b[39m executable\n",
            "File \u001b[1;32m~\\AppData\\Roaming\\Python\\Python313\\site-packages\\jax\\_src\\interpreters\\pxla.py:2967\u001b[0m, in \u001b[0;36mUnloadedMeshExecutable.from_hlo\u001b[1;34m(***failed resolving arguments***)\u001b[0m\n\u001b[0;32m   2964\u001b[0m       \u001b[38;5;28;01mbreak\u001b[39;00m\n\u001b[0;32m   2966\u001b[0m util\u001b[38;5;241m.\u001b[39mtest_event(\u001b[38;5;124m\"\u001b[39m\u001b[38;5;124mpxla_cached_compilation\u001b[39m\u001b[38;5;124m\"\u001b[39m)\n\u001b[1;32m-> 2967\u001b[0m xla_executable \u001b[38;5;241m=\u001b[39m \u001b[43m_cached_compilation\u001b[49m\u001b[43m(\u001b[49m\n\u001b[0;32m   2968\u001b[0m \u001b[43m    \u001b[49m\u001b[43mhlo\u001b[49m\u001b[43m,\u001b[49m\u001b[43m \u001b[49m\u001b[43mname\u001b[49m\u001b[43m,\u001b[49m\u001b[43m \u001b[49m\u001b[43mmesh\u001b[49m\u001b[43m,\u001b[49m\u001b[43m \u001b[49m\u001b[43mspmd_lowering\u001b[49m\u001b[43m,\u001b[49m\n\u001b[0;32m   2969\u001b[0m \u001b[43m    \u001b[49m\u001b[43mtuple_args\u001b[49m\u001b[43m,\u001b[49m\u001b[43m \u001b[49m\u001b[43mauto_spmd_lowering\u001b[49m\u001b[43m,\u001b[49m\u001b[43m \u001b[49m\u001b[43mallow_prop_to_inputs\u001b[49m\u001b[43m,\u001b[49m\n\u001b[0;32m   2970\u001b[0m \u001b[43m    \u001b[49m\u001b[43mallow_prop_to_outputs\u001b[49m\u001b[43m,\u001b[49m\u001b[43m \u001b[49m\u001b[38;5;28;43mtuple\u001b[39;49m\u001b[43m(\u001b[49m\u001b[43mhost_callbacks\u001b[49m\u001b[43m)\u001b[49m\u001b[43m,\u001b[49m\u001b[43m \u001b[49m\u001b[43mbackend\u001b[49m\u001b[43m,\u001b[49m\u001b[43m \u001b[49m\u001b[43mda\u001b[49m\u001b[43m,\u001b[49m\u001b[43m \u001b[49m\u001b[43mpmap_nreps\u001b[49m\u001b[43m,\u001b[49m\n\u001b[0;32m   2971\u001b[0m \u001b[43m    \u001b[49m\u001b[43mcompiler_options_kvs\u001b[49m\u001b[43m,\u001b[49m\u001b[43m \u001b[49m\u001b[43mpgle_profiler\u001b[49m\u001b[43m)\u001b[49m\n\u001b[0;32m   2973\u001b[0m orig_out_shardings \u001b[38;5;241m=\u001b[39m out_shardings\n\u001b[0;32m   2975\u001b[0m \u001b[38;5;28;01mif\u001b[39;00m auto_spmd_lowering:\n",
            "File \u001b[1;32m~\\AppData\\Roaming\\Python\\Python313\\site-packages\\jax\\_src\\interpreters\\pxla.py:2758\u001b[0m, in \u001b[0;36m_cached_compilation\u001b[1;34m(computation, name, mesh, spmd_lowering, tuple_args, auto_spmd_lowering, allow_prop_to_inputs, allow_prop_to_outputs, host_callbacks, backend, da, pmap_nreps, compiler_options_kvs, pgle_profiler)\u001b[0m\n\u001b[0;32m   2750\u001b[0m compile_options \u001b[38;5;241m=\u001b[39m create_compile_options(\n\u001b[0;32m   2751\u001b[0m     computation, mesh, spmd_lowering, tuple_args, auto_spmd_lowering,\n\u001b[0;32m   2752\u001b[0m     allow_prop_to_inputs, allow_prop_to_outputs, backend,\n\u001b[0;32m   2753\u001b[0m     dev, pmap_nreps, compiler_options)\n\u001b[0;32m   2755\u001b[0m \u001b[38;5;28;01mwith\u001b[39;00m dispatch\u001b[38;5;241m.\u001b[39mlog_elapsed_time(\n\u001b[0;32m   2756\u001b[0m     \u001b[38;5;124m\"\u001b[39m\u001b[38;5;124mFinished XLA compilation of \u001b[39m\u001b[38;5;132;01m{fun_name}\u001b[39;00m\u001b[38;5;124m in \u001b[39m\u001b[38;5;132;01m{elapsed_time:.9f}\u001b[39;00m\u001b[38;5;124m sec\u001b[39m\u001b[38;5;124m\"\u001b[39m,\n\u001b[0;32m   2757\u001b[0m     fun_name\u001b[38;5;241m=\u001b[39mname, event\u001b[38;5;241m=\u001b[39mdispatch\u001b[38;5;241m.\u001b[39mBACKEND_COMPILE_EVENT):\n\u001b[1;32m-> 2758\u001b[0m   xla_executable \u001b[38;5;241m=\u001b[39m \u001b[43mcompiler\u001b[49m\u001b[38;5;241;43m.\u001b[39;49m\u001b[43mcompile_or_get_cached\u001b[49m\u001b[43m(\u001b[49m\n\u001b[0;32m   2759\u001b[0m \u001b[43m      \u001b[49m\u001b[43mbackend\u001b[49m\u001b[43m,\u001b[49m\u001b[43m \u001b[49m\u001b[43mcomputation\u001b[49m\u001b[43m,\u001b[49m\u001b[43m \u001b[49m\u001b[43mdev\u001b[49m\u001b[43m,\u001b[49m\u001b[43m \u001b[49m\u001b[43mcompile_options\u001b[49m\u001b[43m,\u001b[49m\u001b[43m \u001b[49m\u001b[43mhost_callbacks\u001b[49m\u001b[43m,\u001b[49m\n\u001b[0;32m   2760\u001b[0m \u001b[43m      \u001b[49m\u001b[43mpgle_profiler\u001b[49m\u001b[43m)\u001b[49m\n\u001b[0;32m   2761\u001b[0m \u001b[38;5;28;01mreturn\u001b[39;00m xla_executable\n",
            "File \u001b[1;32m~\\AppData\\Roaming\\Python\\Python313\\site-packages\\jax\\_src\\compiler.py:470\u001b[0m, in \u001b[0;36mcompile_or_get_cached\u001b[1;34m(backend, computation, devices, compile_options, host_callbacks, pgle_profiler)\u001b[0m\n\u001b[0;32m    468\u001b[0m \u001b[38;5;28;01melse\u001b[39;00m:\n\u001b[0;32m    469\u001b[0m   log_persistent_cache_miss(module_name, cache_key)\n\u001b[1;32m--> 470\u001b[0m   \u001b[38;5;28;01mreturn\u001b[39;00m \u001b[43m_compile_and_write_cache\u001b[49m\u001b[43m(\u001b[49m\n\u001b[0;32m    471\u001b[0m \u001b[43m      \u001b[49m\u001b[43mbackend\u001b[49m\u001b[43m,\u001b[49m\n\u001b[0;32m    472\u001b[0m \u001b[43m      \u001b[49m\u001b[43mcomputation\u001b[49m\u001b[43m,\u001b[49m\n\u001b[0;32m    473\u001b[0m \u001b[43m      \u001b[49m\u001b[43mcompile_options\u001b[49m\u001b[43m,\u001b[49m\n\u001b[0;32m    474\u001b[0m \u001b[43m      \u001b[49m\u001b[43mhost_callbacks\u001b[49m\u001b[43m,\u001b[49m\n\u001b[0;32m    475\u001b[0m \u001b[43m      \u001b[49m\u001b[43mmodule_name\u001b[49m\u001b[43m,\u001b[49m\n\u001b[0;32m    476\u001b[0m \u001b[43m      \u001b[49m\u001b[43mcache_key\u001b[49m\u001b[43m,\u001b[49m\n\u001b[0;32m    477\u001b[0m \u001b[43m  \u001b[49m\u001b[43m)\u001b[49m\n",
            "File \u001b[1;32m~\\AppData\\Roaming\\Python\\Python313\\site-packages\\jax\\_src\\compiler.py:687\u001b[0m, in \u001b[0;36m_compile_and_write_cache\u001b[1;34m(backend, computation, compile_options, host_callbacks, module_name, cache_key)\u001b[0m\n\u001b[0;32m    678\u001b[0m \u001b[38;5;28;01mdef\u001b[39;00m\u001b[38;5;250m \u001b[39m\u001b[38;5;21m_compile_and_write_cache\u001b[39m(\n\u001b[0;32m    679\u001b[0m     backend: xc\u001b[38;5;241m.\u001b[39mClient,\n\u001b[0;32m    680\u001b[0m     computation: ir\u001b[38;5;241m.\u001b[39mModule,\n\u001b[1;32m   (...)\u001b[0m\n\u001b[0;32m    684\u001b[0m     cache_key: \u001b[38;5;28mstr\u001b[39m,\n\u001b[0;32m    685\u001b[0m ) \u001b[38;5;241m-\u001b[39m\u001b[38;5;241m>\u001b[39m xc\u001b[38;5;241m.\u001b[39mLoadedExecutable:\n\u001b[0;32m    686\u001b[0m   start_time \u001b[38;5;241m=\u001b[39m time\u001b[38;5;241m.\u001b[39mmonotonic()\n\u001b[1;32m--> 687\u001b[0m   executable \u001b[38;5;241m=\u001b[39m \u001b[43mbackend_compile\u001b[49m\u001b[43m(\u001b[49m\n\u001b[0;32m    688\u001b[0m \u001b[43m      \u001b[49m\u001b[43mbackend\u001b[49m\u001b[43m,\u001b[49m\u001b[43m \u001b[49m\u001b[43mcomputation\u001b[49m\u001b[43m,\u001b[49m\u001b[43m \u001b[49m\u001b[43mcompile_options\u001b[49m\u001b[43m,\u001b[49m\u001b[43m \u001b[49m\u001b[43mhost_callbacks\u001b[49m\n\u001b[0;32m    689\u001b[0m \u001b[43m  \u001b[49m\u001b[43m)\u001b[49m\n\u001b[0;32m    690\u001b[0m   compile_time \u001b[38;5;241m=\u001b[39m time\u001b[38;5;241m.\u001b[39mmonotonic() \u001b[38;5;241m-\u001b[39m start_time\n\u001b[0;32m    691\u001b[0m   _cache_write(\n\u001b[0;32m    692\u001b[0m       cache_key, compile_time, module_name, backend, executable, host_callbacks\n\u001b[0;32m    693\u001b[0m   )\n",
            "File \u001b[1;32m~\\AppData\\Roaming\\Python\\Python313\\site-packages\\jax\\_src\\profiler.py:334\u001b[0m, in \u001b[0;36mannotate_function.<locals>.wrapper\u001b[1;34m(*args, **kwargs)\u001b[0m\n\u001b[0;32m    331\u001b[0m \u001b[38;5;129m@wraps\u001b[39m(func)\n\u001b[0;32m    332\u001b[0m \u001b[38;5;28;01mdef\u001b[39;00m\u001b[38;5;250m \u001b[39m\u001b[38;5;21mwrapper\u001b[39m(\u001b[38;5;241m*\u001b[39margs, \u001b[38;5;241m*\u001b[39m\u001b[38;5;241m*\u001b[39mkwargs):\n\u001b[0;32m    333\u001b[0m   \u001b[38;5;28;01mwith\u001b[39;00m TraceAnnotation(name, \u001b[38;5;241m*\u001b[39m\u001b[38;5;241m*\u001b[39mdecorator_kwargs):\n\u001b[1;32m--> 334\u001b[0m     \u001b[38;5;28;01mreturn\u001b[39;00m \u001b[43mfunc\u001b[49m\u001b[43m(\u001b[49m\u001b[38;5;241;43m*\u001b[39;49m\u001b[43margs\u001b[49m\u001b[43m,\u001b[49m\u001b[43m \u001b[49m\u001b[38;5;241;43m*\u001b[39;49m\u001b[38;5;241;43m*\u001b[39;49m\u001b[43mkwargs\u001b[49m\u001b[43m)\u001b[49m\n\u001b[0;32m    335\u001b[0m   \u001b[38;5;28;01mreturn\u001b[39;00m wrapper\n",
            "File \u001b[1;32m~\\AppData\\Roaming\\Python\\Python313\\site-packages\\jax\\_src\\compiler.py:321\u001b[0m, in \u001b[0;36mbackend_compile\u001b[1;34m(backend, module, options, host_callbacks)\u001b[0m\n\u001b[0;32m    315\u001b[0m     \u001b[38;5;28;01mreturn\u001b[39;00m backend\u001b[38;5;241m.\u001b[39mcompile(\n\u001b[0;32m    316\u001b[0m         built_c, compile_options\u001b[38;5;241m=\u001b[39moptions, host_callbacks\u001b[38;5;241m=\u001b[39mhost_callbacks\n\u001b[0;32m    317\u001b[0m     )\n\u001b[0;32m    318\u001b[0m   \u001b[38;5;66;03m# Some backends don't have `host_callbacks` option yet\u001b[39;00m\n\u001b[0;32m    319\u001b[0m   \u001b[38;5;66;03m# TODO(sharadmv): remove this fallback when all backends allow `compile`\u001b[39;00m\n\u001b[0;32m    320\u001b[0m   \u001b[38;5;66;03m# to take in `host_callbacks`\u001b[39;00m\n\u001b[1;32m--> 321\u001b[0m   \u001b[38;5;28;01mreturn\u001b[39;00m \u001b[43mbackend\u001b[49m\u001b[38;5;241;43m.\u001b[39;49m\u001b[43mcompile\u001b[49m\u001b[43m(\u001b[49m\u001b[43mbuilt_c\u001b[49m\u001b[43m,\u001b[49m\u001b[43m \u001b[49m\u001b[43mcompile_options\u001b[49m\u001b[38;5;241;43m=\u001b[39;49m\u001b[43moptions\u001b[49m\u001b[43m)\u001b[49m\n\u001b[0;32m    322\u001b[0m \u001b[38;5;28;01mexcept\u001b[39;00m xc\u001b[38;5;241m.\u001b[39mXlaRuntimeError \u001b[38;5;28;01mas\u001b[39;00m e:\n\u001b[0;32m    323\u001b[0m   \u001b[38;5;28;01mfor\u001b[39;00m error_handler \u001b[38;5;129;01min\u001b[39;00m _XLA_RUNTIME_ERROR_HANDLERS:\n",
            "\u001b[1;31mKeyboardInterrupt\u001b[0m: "
          ]
        }
      ],
      "source": [
        "# Define hyperparameter grid\n",
        "hidden_dims = [20, 30, 40, 50]\n",
        "z_dims = [20, 30, 40, 50]\n",
        "\n",
        "# Store results\n",
        "test_loss_results_final = {}\n",
        "test_loss_results_mean = {}\n",
        "\n",
        "num_train = 100\n",
        "num_test = 100\n",
        "num_epochs = 20\n",
        "\n",
        "for hidden_dim, z_dim in itertools.product(hidden_dims, z_dims):\n",
        "    print(f\"Training with hidden_dim={hidden_dim}, z_dim={z_dim}\")\n",
        "\n",
        "    args[\"hidden_dim\"] = hidden_dim\n",
        "    args[\"z_dim\"] = z_dim\n",
        "\n",
        "    # Initialize optimizer and SVI\n",
        "    adam = numpyro.optim.Adam(step_size=args[\"learning_rate\"])\n",
        "    # Pass vae_var to vae_model using a lambda function\n",
        "    svi = SVI(\n",
        "        lambda batch: vae_model(batch, hidden_dim, z_dim, args[\"vae_var\"]),\n",
        "        lambda batch: vae_guide(batch, hidden_dim, z_dim),\n",
        "        adam,\n",
        "        RenyiELBO(),\n",
        "    )\n",
        "\n",
        "    # Split RNG keys\n",
        "    rng_key, rng_key_samp, rng_key_init = random.split(args[\"rng_key\"], 3)\n",
        "    init_batch = agg_gp_predictive(rng_key_samp, args)[\"gp_aggr\"]\n",
        "\n",
        "    # Initialize SVI state\n",
        "    svi_state = svi.init(rng_key_init, init_batch)\n",
        "\n",
        "    # Pre-allocate test loss array\n",
        "    test_loss_list = jnp.zeros(num_epochs)\n",
        "\n",
        "    # Training loop\n",
        "    for epoch in range(num_epochs):\n",
        "        rng_key, rng_key_train, rng_key_test = random.split(rng_key, 3)\n",
        "        t_start = time.time()\n",
        "\n",
        "        train_loss, svi_state = epoch_train(rng_key_train, svi_state, num_train)\n",
        "        test_loss = eval_test(rng_key_test, svi_state, num_test)\n",
        "        test_loss_list = test_loss_list.at[epoch].set(test_loss)\n",
        "\n",
        "        print(f\"Epoch: {epoch}, Train Loss: {train_loss:.2f}, Test Loss: {test_loss:.2f} ({time.time() - t_start:.2f} s)\")\n",
        "\n",
        "        if math.isnan(test_loss):  # Stop early if NaN\n",
        "            print(f\"NaN encountered at hidden_dim={hidden_dim}, z_dim={z_dim}. Skipping...\")\n",
        "            break  # Stop training if NaN occurs\n",
        "\n",
        "    # Store results only if valid\n",
        "    if not math.isnan(test_loss_list[-1]):\n",
        "        test_loss_results_final[(hidden_dim, z_dim)] = test_loss_list[-1]\n",
        "        test_loss_results_mean[(hidden_dim, z_dim)] = jnp.nanmean(test_loss_list)\n",
        "        print(f\"Final Test loss for hidden_dim={hidden_dim}, z_dim={z_dim}: {test_loss_list[-1]}\")\n",
        "        print(f\"Mean Test loss for hidden_dim={hidden_dim}, z_dim={z_dim}: {jnp.nanmean(test_loss_list)}\")\n",
        "\n",
        "print(\"Grid search complete.\")\n",
        "print(\"Results:\", test_loss_results_final)\n",
        "print(\"Mean Test Loss Results:\", test_loss_results_mean)"
      ]
    },
    {
      "cell_type": "markdown",
      "metadata": {
        "id": "snMElTO5tTmg"
      },
      "source": [
        "### Optimal hyperparams with lowest mean test loss and pretty stable final loss is (50, 30)"
      ]
    },
    {
      "cell_type": "code",
      "execution_count": null,
      "metadata": {
        "colab": {
          "base_uri": "https://localhost:8080/"
        },
        "id": "AStaTqU2w7bf",
        "outputId": "b44bba7f-a5ce-4cc6-f35c-fdb8ac466ed5"
      },
      "outputs": [
        {
          "name": "stdout",
          "output_type": "stream",
          "text": [
            "Epoch : 0, train loss : 62461775872.00, test loss : 3613909.75 (0.00 s.)\n",
            "Epoch : 1, train loss : 2129245312.00, test loss : 1725565.12 (0.00 s.)\n",
            "Epoch : 2, train loss : 1460391808.00, test loss : 1073098.50 (0.00 s.)\n",
            "Epoch : 3, train loss : 560378112.00, test loss : 146569.41 (0.00 s.)\n",
            "Epoch : 4, train loss : 72361448.00, test loss : 32610.39 (0.00 s.)\n",
            "Epoch : 5, train loss : 32149790.00, test loss : 34360.36 (0.00 s.)\n",
            "Epoch : 6, train loss : 32413850.00, test loss : 31477.86 (0.00 s.)\n",
            "Epoch : 7, train loss : 27511496.00, test loss : 26221.64 (0.00 s.)\n",
            "Epoch : 8, train loss : 28911178.00, test loss : 26865.74 (0.00 s.)\n",
            "Epoch : 9, train loss : 27171366.00, test loss : 26099.65 (0.00 s.)\n",
            "Epoch : 10, train loss : 28542736.00, test loss : 29742.70 (0.00 s.)\n",
            "Epoch : 11, train loss : 28341240.00, test loss : 26945.03 (0.00 s.)\n",
            "Epoch : 12, train loss : 27274382.00, test loss : 26384.37 (0.00 s.)\n",
            "Epoch : 13, train loss : 29153156.00, test loss : 28928.93 (0.00 s.)\n",
            "Epoch : 14, train loss : 28664906.00, test loss : 49471.31 (0.00 s.)\n",
            "Epoch : 15, train loss : 45578464.00, test loss : 117489.73 (0.00 s.)\n",
            "Epoch : 16, train loss : 31185792.00, test loss : 165245.66 (0.00 s.)\n",
            "Epoch : 17, train loss : 15171717120.00, test loss : 2361896.75 (0.00 s.)\n",
            "Epoch : 18, train loss : nan, test loss : nan (0.00 s.)\n"
          ]
        }
      ],
      "source": [
        "#-------------------------- Train VAE -------------------------- #\n",
        "run = True\n",
        "if run:\n",
        "    adam = numpyro.optim.Adam(step_size = args[\"learning_rate\"])\n",
        "    svi = SVI(\n",
        "        model=lambda batch: vae_model(batch, args[\"hidden_dim\"], args[\"z_dim\"], args[\"vae_var\"]),\n",
        "        guide=lambda batch: vae_guide(batch, args[\"hidden_dim\"], args[\"z_dim\"]),\n",
        "        optim=adam,\n",
        "        loss=RenyiELBO(),\n",
        "    )\n",
        "    rng_key, rng_key_samp, rng_key_init = random.split(args[\"rng_key\"],3)\n",
        "    #(num_samples, num_regions)\n",
        "    init_batch = agg_gp_predictive(rng_key_samp, args)[\"gp_aggr\"] #(num_samples, num_regions) <- i.e (5,58)\n",
        "    svi_state = svi.init(rng_key_init, init_batch)\n",
        "\n",
        "    test_loss_list = []\n",
        "\n",
        "    for i in range(args[\"num_epochs\"]):\n",
        "        rng_key, rng_key_train, rng_key_test, rng_key_infer = random.split(rng_key, 4)\n",
        "        t_start = time.time()\n",
        "        num_train = 1000\n",
        "        # Where forward/backward pass gets called for train\n",
        "        train_loss , svi_state = epoch_train(rng_key_train, svi_state, num_train)\n",
        "        num_test = 1000\n",
        "        # Where forward/backward pass gets called for test\n",
        "        test_loss = eval_test(rng_key_test, svi_state, num_test)\n",
        "        test_loss_list += [test_loss]\n",
        "\n",
        "        print(\"Epoch : {}, train loss : {:.2f}, test loss : {:.2f} ({:.2f} s.)\".format(i, train_loss, test_loss, time.time() - t_start))\n",
        "        if np.isnan(test_loss):\n",
        "            break"
      ]
    },
    {
      "cell_type": "code",
      "execution_count": null,
      "metadata": {
        "id": "2siiy1bEw7bf"
      },
      "outputs": [],
      "source": [
        "vae_params = svi.get_params(svi_state)"
      ]
    },
    {
      "cell_type": "code",
      "execution_count": null,
      "metadata": {
        "colab": {
          "base_uri": "https://localhost:8080/"
        },
        "id": "Ntv9d2-8w7bf",
        "outputId": "e3835429-adaa-4e06-d0cc-2cafee8d3a2e"
      },
      "outputs": [
        {
          "name": "stdout",
          "output_type": "stream",
          "text": [
            "VAE parameters saved to /content/model_weights/aggVAE/aggVAE_e50_h50_z30.pkl\n"
          ]
        }
      ],
      "source": [
        "save_dir = \"/content/model_weights/aggVAE\"\n",
        "os.makedirs(save_dir, exist_ok=True)\n",
        "\n",
        "save_path = os.path.join(save_dir, f\"aggVAE_e{args['num_epochs']}_h{args['hidden_dim']}_z{args['z_dim']}_batch{args[\"batch_size\"]}.pkl\")\n",
        "\n",
        "with open(save_path, \"wb\") as file:\n",
        "    pickle.dump(vae_params, file)\n",
        "\n",
        "print(f\"VAE parameters saved to {save_path}\")"
      ]
    },
    {
      "cell_type": "markdown",
      "metadata": {
        "id": "08_Ap8Jyw7bf"
      },
      "source": [
        "## Run MCMC using trained VAE encoder"
      ]
    },
    {
      "cell_type": "code",
      "execution_count": 5,
      "metadata": {
        "id": "n1wWr2lQw7bg"
      },
      "outputs": [],
      "source": [
        "#open saved encoder\n",
        "with open(\"../model weights/aggVAE/aggVAE_e29_h50_z40.pkl\", \"rb\") as file:\n",
        "    vae_params = pickle.load(file)\n",
        "\n",
        "encoder_params = vae_params[\"encoder$params\"]\n",
        "decoder_params = vae_params[\"decoder$params\"]\n",
        "\n",
        "# save decoder params inside args\n",
        "args[\"decoder_params\"] = decoder_params"
      ]
    },
    {
      "cell_type": "code",
      "execution_count": 6,
      "metadata": {
        "id": "MoQN0kgmw7bg"
      },
      "outputs": [],
      "source": [
        "N = 6\n",
        "\n",
        "def vae_sample(args):\n",
        "    dec_params = args[\"decoder_params\"]\n",
        "    z_dim, h_dim = dec_params[0][0].shape\n",
        "    z = numpyro.sample(\"z\", dist.Normal(jnp.zeros(z_dim), jnp.ones(z_dim)))\n",
        "    dec_init_fn, dec_apply_fn = vae_decoder(h_dim, N)\n",
        "    x_recon = dec_apply_fn(dec_params, z)\n",
        "    vae_aggr = numpyro.deterministic(\"vae_aggr\", x_recon)\n",
        "    return vae_aggr\n",
        "\n",
        "rng_key, rng_key_predict = random.split(random.PRNGKey(3))\n",
        "vae_predictive = Predictive(vae_sample, num_samples = 5)\n",
        "vae_draws = vae_predictive(rng_key_predict, args)[\"vae_aggr\"]"
      ]
    },
    {
      "cell_type": "code",
      "execution_count": 133,
      "metadata": {
        "colab": {
          "base_uri": "https://localhost:8080/",
          "height": 542
        },
        "id": "Dyo3JhHbw7bg",
        "outputId": "bd06d6cf-7747-4a1f-cf0b-9042e18e902f"
      },
      "outputs": [
        {
          "data": {
            "application/vnd.plotly.v1+json": {
              "config": {
                "plotlyServerURL": "https://plot.ly"
              },
              "data": [
                {
                  "hovertemplate": "<extra></extra>",
                  "legendgroup": "",
                  "line": {
                    "color": "#636efa",
                    "dash": "solid"
                  },
                  "marker": {
                    "symbol": "circle"
                  },
                  "mode": "lines",
                  "name": "",
                  "orientation": "v",
                  "showlegend": false,
                  "type": "scatter",
                  "xaxis": "x",
                  "yaxis": "y"
                },
                {
                  "line": {
                    "color": "rgb(31, 119, 180)"
                  },
                  "opacity": 0.3,
                  "type": "scatter",
                  "x": {
                    "bdata": "AAECAwQF",
                    "dtype": "i1"
                  },
                  "y": {
                    "bdata": "BXckQtipuUCc0RdAclj2QKSzK0FymhRB",
                    "dtype": "f4"
                  }
                },
                {
                  "line": {
                    "color": "rgb(31, 119, 180)"
                  },
                  "opacity": 0.3,
                  "type": "scatter",
                  "x": {
                    "bdata": "AAECAwQF",
                    "dtype": "i1"
                  },
                  "y": {
                    "bdata": "TwYMwRDRvL/Oesq/ad0HwM5BI8CRlKy/",
                    "dtype": "f4"
                  }
                },
                {
                  "line": {
                    "color": "rgb(31, 119, 180)"
                  },
                  "opacity": 0.3,
                  "type": "scatter",
                  "x": {
                    "bdata": "AAECAwQF",
                    "dtype": "i1"
                  },
                  "y": {
                    "bdata": "wSvHwCfIu7/vBOm/OOMDwLzKEcAFQXe/",
                    "dtype": "f4"
                  }
                },
                {
                  "line": {
                    "color": "rgb(31, 119, 180)"
                  },
                  "opacity": 0.3,
                  "type": "scatter",
                  "x": {
                    "bdata": "AAECAwQF",
                    "dtype": "i1"
                  },
                  "y": {
                    "bdata": "wTSyQG+Tmj96QEc/5fnUP12l8z+WOY0/",
                    "dtype": "f4"
                  }
                },
                {
                  "line": {
                    "color": "rgb(31, 119, 180)"
                  },
                  "opacity": 0.3,
                  "type": "scatter",
                  "x": {
                    "bdata": "AAECAwQF",
                    "dtype": "i1"
                  },
                  "y": {
                    "bdata": "JLMJwWvQnL8ui6+/PGztv2HHEcCTyJG/",
                    "dtype": "f4"
                  }
                }
              ],
              "layout": {
                "legend": {
                  "tracegroupgap": 0
                },
                "margin": {
                  "t": 60
                },
                "showlegend": false,
                "template": {
                  "data": {
                    "bar": [
                      {
                        "error_x": {
                          "color": "#2a3f5f"
                        },
                        "error_y": {
                          "color": "#2a3f5f"
                        },
                        "marker": {
                          "line": {
                            "color": "white",
                            "width": 0.5
                          },
                          "pattern": {
                            "fillmode": "overlay",
                            "size": 10,
                            "solidity": 0.2
                          }
                        },
                        "type": "bar"
                      }
                    ],
                    "barpolar": [
                      {
                        "marker": {
                          "line": {
                            "color": "white",
                            "width": 0.5
                          },
                          "pattern": {
                            "fillmode": "overlay",
                            "size": 10,
                            "solidity": 0.2
                          }
                        },
                        "type": "barpolar"
                      }
                    ],
                    "carpet": [
                      {
                        "aaxis": {
                          "endlinecolor": "#2a3f5f",
                          "gridcolor": "#C8D4E3",
                          "linecolor": "#C8D4E3",
                          "minorgridcolor": "#C8D4E3",
                          "startlinecolor": "#2a3f5f"
                        },
                        "baxis": {
                          "endlinecolor": "#2a3f5f",
                          "gridcolor": "#C8D4E3",
                          "linecolor": "#C8D4E3",
                          "minorgridcolor": "#C8D4E3",
                          "startlinecolor": "#2a3f5f"
                        },
                        "type": "carpet"
                      }
                    ],
                    "choropleth": [
                      {
                        "colorbar": {
                          "outlinewidth": 0,
                          "ticks": ""
                        },
                        "type": "choropleth"
                      }
                    ],
                    "contour": [
                      {
                        "colorbar": {
                          "outlinewidth": 0,
                          "ticks": ""
                        },
                        "colorscale": [
                          [
                            0,
                            "#0d0887"
                          ],
                          [
                            0.1111111111111111,
                            "#46039f"
                          ],
                          [
                            0.2222222222222222,
                            "#7201a8"
                          ],
                          [
                            0.3333333333333333,
                            "#9c179e"
                          ],
                          [
                            0.4444444444444444,
                            "#bd3786"
                          ],
                          [
                            0.5555555555555556,
                            "#d8576b"
                          ],
                          [
                            0.6666666666666666,
                            "#ed7953"
                          ],
                          [
                            0.7777777777777778,
                            "#fb9f3a"
                          ],
                          [
                            0.8888888888888888,
                            "#fdca26"
                          ],
                          [
                            1,
                            "#f0f921"
                          ]
                        ],
                        "type": "contour"
                      }
                    ],
                    "contourcarpet": [
                      {
                        "colorbar": {
                          "outlinewidth": 0,
                          "ticks": ""
                        },
                        "type": "contourcarpet"
                      }
                    ],
                    "heatmap": [
                      {
                        "colorbar": {
                          "outlinewidth": 0,
                          "ticks": ""
                        },
                        "colorscale": [
                          [
                            0,
                            "#0d0887"
                          ],
                          [
                            0.1111111111111111,
                            "#46039f"
                          ],
                          [
                            0.2222222222222222,
                            "#7201a8"
                          ],
                          [
                            0.3333333333333333,
                            "#9c179e"
                          ],
                          [
                            0.4444444444444444,
                            "#bd3786"
                          ],
                          [
                            0.5555555555555556,
                            "#d8576b"
                          ],
                          [
                            0.6666666666666666,
                            "#ed7953"
                          ],
                          [
                            0.7777777777777778,
                            "#fb9f3a"
                          ],
                          [
                            0.8888888888888888,
                            "#fdca26"
                          ],
                          [
                            1,
                            "#f0f921"
                          ]
                        ],
                        "type": "heatmap"
                      }
                    ],
                    "histogram": [
                      {
                        "marker": {
                          "pattern": {
                            "fillmode": "overlay",
                            "size": 10,
                            "solidity": 0.2
                          }
                        },
                        "type": "histogram"
                      }
                    ],
                    "histogram2d": [
                      {
                        "colorbar": {
                          "outlinewidth": 0,
                          "ticks": ""
                        },
                        "colorscale": [
                          [
                            0,
                            "#0d0887"
                          ],
                          [
                            0.1111111111111111,
                            "#46039f"
                          ],
                          [
                            0.2222222222222222,
                            "#7201a8"
                          ],
                          [
                            0.3333333333333333,
                            "#9c179e"
                          ],
                          [
                            0.4444444444444444,
                            "#bd3786"
                          ],
                          [
                            0.5555555555555556,
                            "#d8576b"
                          ],
                          [
                            0.6666666666666666,
                            "#ed7953"
                          ],
                          [
                            0.7777777777777778,
                            "#fb9f3a"
                          ],
                          [
                            0.8888888888888888,
                            "#fdca26"
                          ],
                          [
                            1,
                            "#f0f921"
                          ]
                        ],
                        "type": "histogram2d"
                      }
                    ],
                    "histogram2dcontour": [
                      {
                        "colorbar": {
                          "outlinewidth": 0,
                          "ticks": ""
                        },
                        "colorscale": [
                          [
                            0,
                            "#0d0887"
                          ],
                          [
                            0.1111111111111111,
                            "#46039f"
                          ],
                          [
                            0.2222222222222222,
                            "#7201a8"
                          ],
                          [
                            0.3333333333333333,
                            "#9c179e"
                          ],
                          [
                            0.4444444444444444,
                            "#bd3786"
                          ],
                          [
                            0.5555555555555556,
                            "#d8576b"
                          ],
                          [
                            0.6666666666666666,
                            "#ed7953"
                          ],
                          [
                            0.7777777777777778,
                            "#fb9f3a"
                          ],
                          [
                            0.8888888888888888,
                            "#fdca26"
                          ],
                          [
                            1,
                            "#f0f921"
                          ]
                        ],
                        "type": "histogram2dcontour"
                      }
                    ],
                    "mesh3d": [
                      {
                        "colorbar": {
                          "outlinewidth": 0,
                          "ticks": ""
                        },
                        "type": "mesh3d"
                      }
                    ],
                    "parcoords": [
                      {
                        "line": {
                          "colorbar": {
                            "outlinewidth": 0,
                            "ticks": ""
                          }
                        },
                        "type": "parcoords"
                      }
                    ],
                    "pie": [
                      {
                        "automargin": true,
                        "type": "pie"
                      }
                    ],
                    "scatter": [
                      {
                        "fillpattern": {
                          "fillmode": "overlay",
                          "size": 10,
                          "solidity": 0.2
                        },
                        "type": "scatter"
                      }
                    ],
                    "scatter3d": [
                      {
                        "line": {
                          "colorbar": {
                            "outlinewidth": 0,
                            "ticks": ""
                          }
                        },
                        "marker": {
                          "colorbar": {
                            "outlinewidth": 0,
                            "ticks": ""
                          }
                        },
                        "type": "scatter3d"
                      }
                    ],
                    "scattercarpet": [
                      {
                        "marker": {
                          "colorbar": {
                            "outlinewidth": 0,
                            "ticks": ""
                          }
                        },
                        "type": "scattercarpet"
                      }
                    ],
                    "scattergeo": [
                      {
                        "marker": {
                          "colorbar": {
                            "outlinewidth": 0,
                            "ticks": ""
                          }
                        },
                        "type": "scattergeo"
                      }
                    ],
                    "scattergl": [
                      {
                        "marker": {
                          "colorbar": {
                            "outlinewidth": 0,
                            "ticks": ""
                          }
                        },
                        "type": "scattergl"
                      }
                    ],
                    "scattermap": [
                      {
                        "marker": {
                          "colorbar": {
                            "outlinewidth": 0,
                            "ticks": ""
                          }
                        },
                        "type": "scattermap"
                      }
                    ],
                    "scattermapbox": [
                      {
                        "marker": {
                          "colorbar": {
                            "outlinewidth": 0,
                            "ticks": ""
                          }
                        },
                        "type": "scattermapbox"
                      }
                    ],
                    "scatterpolar": [
                      {
                        "marker": {
                          "colorbar": {
                            "outlinewidth": 0,
                            "ticks": ""
                          }
                        },
                        "type": "scatterpolar"
                      }
                    ],
                    "scatterpolargl": [
                      {
                        "marker": {
                          "colorbar": {
                            "outlinewidth": 0,
                            "ticks": ""
                          }
                        },
                        "type": "scatterpolargl"
                      }
                    ],
                    "scatterternary": [
                      {
                        "marker": {
                          "colorbar": {
                            "outlinewidth": 0,
                            "ticks": ""
                          }
                        },
                        "type": "scatterternary"
                      }
                    ],
                    "surface": [
                      {
                        "colorbar": {
                          "outlinewidth": 0,
                          "ticks": ""
                        },
                        "colorscale": [
                          [
                            0,
                            "#0d0887"
                          ],
                          [
                            0.1111111111111111,
                            "#46039f"
                          ],
                          [
                            0.2222222222222222,
                            "#7201a8"
                          ],
                          [
                            0.3333333333333333,
                            "#9c179e"
                          ],
                          [
                            0.4444444444444444,
                            "#bd3786"
                          ],
                          [
                            0.5555555555555556,
                            "#d8576b"
                          ],
                          [
                            0.6666666666666666,
                            "#ed7953"
                          ],
                          [
                            0.7777777777777778,
                            "#fb9f3a"
                          ],
                          [
                            0.8888888888888888,
                            "#fdca26"
                          ],
                          [
                            1,
                            "#f0f921"
                          ]
                        ],
                        "type": "surface"
                      }
                    ],
                    "table": [
                      {
                        "cells": {
                          "fill": {
                            "color": "#EBF0F8"
                          },
                          "line": {
                            "color": "white"
                          }
                        },
                        "header": {
                          "fill": {
                            "color": "#C8D4E3"
                          },
                          "line": {
                            "color": "white"
                          }
                        },
                        "type": "table"
                      }
                    ]
                  },
                  "layout": {
                    "annotationdefaults": {
                      "arrowcolor": "#2a3f5f",
                      "arrowhead": 0,
                      "arrowwidth": 1
                    },
                    "autotypenumbers": "strict",
                    "coloraxis": {
                      "colorbar": {
                        "outlinewidth": 0,
                        "ticks": ""
                      }
                    },
                    "colorscale": {
                      "diverging": [
                        [
                          0,
                          "#8e0152"
                        ],
                        [
                          0.1,
                          "#c51b7d"
                        ],
                        [
                          0.2,
                          "#de77ae"
                        ],
                        [
                          0.3,
                          "#f1b6da"
                        ],
                        [
                          0.4,
                          "#fde0ef"
                        ],
                        [
                          0.5,
                          "#f7f7f7"
                        ],
                        [
                          0.6,
                          "#e6f5d0"
                        ],
                        [
                          0.7,
                          "#b8e186"
                        ],
                        [
                          0.8,
                          "#7fbc41"
                        ],
                        [
                          0.9,
                          "#4d9221"
                        ],
                        [
                          1,
                          "#276419"
                        ]
                      ],
                      "sequential": [
                        [
                          0,
                          "#0d0887"
                        ],
                        [
                          0.1111111111111111,
                          "#46039f"
                        ],
                        [
                          0.2222222222222222,
                          "#7201a8"
                        ],
                        [
                          0.3333333333333333,
                          "#9c179e"
                        ],
                        [
                          0.4444444444444444,
                          "#bd3786"
                        ],
                        [
                          0.5555555555555556,
                          "#d8576b"
                        ],
                        [
                          0.6666666666666666,
                          "#ed7953"
                        ],
                        [
                          0.7777777777777778,
                          "#fb9f3a"
                        ],
                        [
                          0.8888888888888888,
                          "#fdca26"
                        ],
                        [
                          1,
                          "#f0f921"
                        ]
                      ],
                      "sequentialminus": [
                        [
                          0,
                          "#0d0887"
                        ],
                        [
                          0.1111111111111111,
                          "#46039f"
                        ],
                        [
                          0.2222222222222222,
                          "#7201a8"
                        ],
                        [
                          0.3333333333333333,
                          "#9c179e"
                        ],
                        [
                          0.4444444444444444,
                          "#bd3786"
                        ],
                        [
                          0.5555555555555556,
                          "#d8576b"
                        ],
                        [
                          0.6666666666666666,
                          "#ed7953"
                        ],
                        [
                          0.7777777777777778,
                          "#fb9f3a"
                        ],
                        [
                          0.8888888888888888,
                          "#fdca26"
                        ],
                        [
                          1,
                          "#f0f921"
                        ]
                      ]
                    },
                    "colorway": [
                      "#636efa",
                      "#EF553B",
                      "#00cc96",
                      "#ab63fa",
                      "#FFA15A",
                      "#19d3f3",
                      "#FF6692",
                      "#B6E880",
                      "#FF97FF",
                      "#FECB52"
                    ],
                    "font": {
                      "color": "#2a3f5f"
                    },
                    "geo": {
                      "bgcolor": "white",
                      "lakecolor": "white",
                      "landcolor": "white",
                      "showlakes": true,
                      "showland": true,
                      "subunitcolor": "#C8D4E3"
                    },
                    "hoverlabel": {
                      "align": "left"
                    },
                    "hovermode": "closest",
                    "mapbox": {
                      "style": "light"
                    },
                    "paper_bgcolor": "white",
                    "plot_bgcolor": "white",
                    "polar": {
                      "angularaxis": {
                        "gridcolor": "#EBF0F8",
                        "linecolor": "#EBF0F8",
                        "ticks": ""
                      },
                      "bgcolor": "white",
                      "radialaxis": {
                        "gridcolor": "#EBF0F8",
                        "linecolor": "#EBF0F8",
                        "ticks": ""
                      }
                    },
                    "scene": {
                      "xaxis": {
                        "backgroundcolor": "white",
                        "gridcolor": "#DFE8F3",
                        "gridwidth": 2,
                        "linecolor": "#EBF0F8",
                        "showbackground": true,
                        "ticks": "",
                        "zerolinecolor": "#EBF0F8"
                      },
                      "yaxis": {
                        "backgroundcolor": "white",
                        "gridcolor": "#DFE8F3",
                        "gridwidth": 2,
                        "linecolor": "#EBF0F8",
                        "showbackground": true,
                        "ticks": "",
                        "zerolinecolor": "#EBF0F8"
                      },
                      "zaxis": {
                        "backgroundcolor": "white",
                        "gridcolor": "#DFE8F3",
                        "gridwidth": 2,
                        "linecolor": "#EBF0F8",
                        "showbackground": true,
                        "ticks": "",
                        "zerolinecolor": "#EBF0F8"
                      }
                    },
                    "shapedefaults": {
                      "line": {
                        "color": "#2a3f5f"
                      }
                    },
                    "ternary": {
                      "aaxis": {
                        "gridcolor": "#DFE8F3",
                        "linecolor": "#A2B1C6",
                        "ticks": ""
                      },
                      "baxis": {
                        "gridcolor": "#DFE8F3",
                        "linecolor": "#A2B1C6",
                        "ticks": ""
                      },
                      "bgcolor": "white",
                      "caxis": {
                        "gridcolor": "#DFE8F3",
                        "linecolor": "#A2B1C6",
                        "ticks": ""
                      }
                    },
                    "title": {
                      "x": 0.05
                    },
                    "xaxis": {
                      "automargin": true,
                      "gridcolor": "#EBF0F8",
                      "linecolor": "#EBF0F8",
                      "ticks": "",
                      "title": {
                        "standoff": 15
                      },
                      "zerolinecolor": "#EBF0F8",
                      "zerolinewidth": 2
                    },
                    "yaxis": {
                      "automargin": true,
                      "gridcolor": "#EBF0F8",
                      "linecolor": "#EBF0F8",
                      "ticks": "",
                      "title": {
                        "standoff": 15
                      },
                      "zerolinecolor": "#EBF0F8",
                      "zerolinewidth": 2
                    }
                  }
                },
                "xaxis": {
                  "anchor": "y",
                  "domain": [
                    0,
                    1
                  ],
                  "title": {
                    "text": "region"
                  }
                },
                "yaxis": {
                  "anchor": "x",
                  "domain": [
                    0,
                    1
                  ],
                  "title": {
                    "text": "num cases"
                  }
                }
              }
            }
          },
          "metadata": {},
          "output_type": "display_data"
        }
      ],
      "source": [
        "plot_process(jnp.expand_dims(vae_draws, axis = 0))"
      ]
    },
    {
      "cell_type": "code",
      "execution_count": 7,
      "metadata": {
        "id": "wWOfTL9_w7bg"
      },
      "outputs": [],
      "source": [
        "# ------------------- Func for Agg VAE Prev ------------------- #\n",
        "def prev_model_vae_aggr(config=None):\n",
        "\n",
        "    if config is None:\n",
        "        config = {}\n",
        "\n",
        "    # Set defaults\n",
        "    x = config.get('x', None)\n",
        "    gp_kernel = config.get('gp_kernel', exp_sq_kernel)\n",
        "    noise = config.get('noise', 1e-4)\n",
        "    jitter = config.get('jitter', 1e-4)\n",
        "    M_lo = config.get('M_lo', None)\n",
        "    M_hi = config.get('M_hi', None)\n",
        "    kernel_length_prior = config.get('kernel_length', dist.InverseGamma(4, 1))\n",
        "    kernel_var_prior = config.get('kernel_var', dist.LogNormal(0, 0.1))\n",
        "    pop_density = config.get('pop_density', None)\n",
        "    urban_frac = config.get('urban_frac', None)\n",
        "    hdi_index = config.get('hdi_index', None)\n",
        "    count = config.get(\"count\", None)\n",
        "\n",
        "     # Total cases: pass in low prev counts, mask high prev ones as NaN\n",
        "    count_mask = ~jnp.isnan(count)\n",
        "\n",
        "    total_population = config.get('total_population', None)\n",
        "    is_prior_pred = config.get('prior_pred', False)\n",
        "    out_dims = config.get('out_dims', 6)\n",
        "    # GP\n",
        "    config_gp = config.copy()\n",
        "    config_gp['x'] = x\n",
        "    config_gp['gp_kernel'] = gp_kernel\n",
        "    config_gp['noise'] = noise\n",
        "    config_gp['jitter'] = jitter\n",
        "    config_gp['M_lo'] = M_lo\n",
        "    config_gp['M_hi'] = M_hi\n",
        "    config_gp['kernel_length'] = kernel_length_prior\n",
        "    config_gp['kernel_var'] = kernel_var_prior\n",
        "    # Call gp_aggr\n",
        "    decoder_params = config[\"decoder_params\"]\n",
        "    z_dim, hidden_dim = decoder_params[0][0].shape\n",
        "    z = numpyro.sample(\"z\", dist.Normal(jnp.zeros(z_dim), jnp.ones(z_dim)))\n",
        "    _, decoder_apply = vae_decoder(hidden_dim, out_dims) #Instantiate decoder\n",
        "    vae_aggr = numpyro.deterministic(\"vae_aggr\", decoder_apply(decoder_params, z))\n",
        "    s = numpyro.sample(\"sigma1\", dist.HalfNormal(200))\n",
        "\n",
        "    vae = numpyro.deterministic(\"vae\", s * vae_aggr)\n",
        "\n",
        "    # Fixed effects\n",
        "    b0 = numpyro.sample(\"b0\", dist.Normal(100, 10))  # Intercept\n",
        "    b_pop_density = numpyro.sample(\"b_pop_density\", dist.Normal(0, 1))  # Effect of population density\n",
        "    b_hdi = numpyro.sample(\"b_hdi\", dist.Normal(0, 1))  # Effect of HDI\n",
        "    b_urban = numpyro.sample(\"b_urban\", dist.Normal(0, 1))  # Effect of urbanicity\n",
        "\n",
        "    # Linear predictor\n",
        "    # lp = numpyro.deterministic(\"lp\", (b0 +\n",
        "    #                                   aggr_gp +\n",
        "    #                                   b_pop_density * pop_density +\n",
        "    #                                   b_hdi * hdi_index +\n",
        "    #                                   b_urban * urban_frac))  #\n",
        "    lp = numpyro.deterministic(\"lp\", nn.softplus(b0 +\n",
        "                                      vae +\n",
        "                                      b_pop_density * pop_density +\n",
        "                                      b_hdi * hdi_index +\n",
        "                                      b_urban * urban_frac))\n",
        "\n",
        "\n",
        "    sigma = numpyro.sample(\"sigma\", dist.HalfNormal(5))\n",
        "\n",
        "    # Full predictions (no masking)\n",
        "    full_pred_cases = numpyro.sample(\n",
        "        \"full_pred_cases\",\n",
        "        dist.Normal(lp, sigma))\n",
        "\n",
        "    # Observed only where count is available\n",
        "    with numpyro.handlers.mask(mask=count_mask):\n",
        "        numpyro.sample(\n",
        "            \"pred_cases\",  # not used for return\n",
        "            dist.Normal(lp, sigma),\n",
        "            obs=None if is_prior_pred else count)\n",
        "\n",
        "    # Store full predictions\n",
        "    numpyro.deterministic(\"pred_cases_out\", full_pred_cases)\n"
      ]
    },
    {
      "cell_type": "code",
      "execution_count": 28,
      "metadata": {
        "colab": {
          "base_uri": "https://localhost:8080/"
        },
        "id": "c2E02jvXw7bg",
        "outputId": "fc2e2cf6-de1c-400b-9312-9ccc1229dc33"
      },
      "outputs": [
        {
          "name": "stdout",
          "output_type": "stream",
          "text": [
            "dict_keys(['x', 'pol_pts_lo', 'pol_pts_hi', 'df_lo', 'df_hi'])\n",
            "Dengue incidence by province and year (low resolution):\n",
            "                  incidence\n",
            "Province    Year           \n",
            "DKI Jakarta 2020   0.001519\n",
            "            2021   0.001315\n",
            "            2022   0.002667\n",
            "            2023   0.001983 \n",
            "\n",
            "We are using data for the year 2022\n",
            "\n"
          ]
        }
      ],
      "source": [
        "spatial_data = load_data()\n",
        "print(spatial_data.keys())\n",
        "\n",
        "# Lets lok at the data and dissect it\n",
        "lo_prev = spatial_data[\"df_lo\"].copy()\n",
        "lo_prev['incidence'] = (lo_prev.Cases / lo_prev.Population)\n",
        "print(\"Dengue incidence by province and year (low resolution):\")\n",
        "print(lo_prev.groupby(['Province', 'Year'])[['incidence']].mean(), '\\n')\n",
        "\n",
        "# make sure we use only one year of data\n",
        "year_data = 2022\n",
        "print(f'We are using data for the year {year_data}\\n')\n",
        "\n",
        "# let us filter the data for the most recent year\n",
        "df_lo = spatial_data[\"df_lo\"][spatial_data[\"df_lo\"].Year == year_data]\n",
        "df_hi = spatial_data[\"df_hi\"][spatial_data[\"df_hi\"].Year == year_data]\n",
        "\n",
        "df_lo = df_lo.copy()\n",
        "df_hi = df_hi.copy()\n",
        "df_lo.loc[:, 'incidence'] = df_lo.Cases / df_lo.Population\n",
        "df_hi.loc[:, 'incidence'] = df_hi.Cases / df_hi.Population\n",
        "total_population = jnp.concatenate([df_lo.Population.values, df_hi.Population.values])\n",
        "count = jnp.concatenate([df_lo.Cases.values, jnp.full((df_hi.shape[0],), jnp.nan)])\n",
        "hdi_index = jnp.concatenate([df_lo.HDI.values, df_hi.HDI.values])*100\n",
        "pop_density = jnp.concatenate([df_lo.Pop_den.values*1e2, (df_hi.Pop_den.values)*1e-1])\n",
        "urban_frac = jnp.concatenate([df_lo.urbanicity.values, df_hi.urbanicity.values])*100"
      ]
    },
    {
      "cell_type": "code",
      "execution_count": 29,
      "metadata": {
        "id": "F2rpI1RRw7bg"
      },
      "outputs": [],
      "source": [
        "config_count = {\n",
        "    'x': spatial_data[\"x\"],\n",
        "    'gp_kernel': exp_sq_kernel,\n",
        "    'noise': 1e-2,\n",
        "    'jitter': 1e-2,\n",
        "    'M_lo': jnp.array(spatial_data[\"pol_pts_lo\"]),\n",
        "    'M_hi': jnp.array(spatial_data[\"pol_pts_hi\"]),\n",
        "    'kernel_length': dist.InverseGamma(5, 2),\n",
        "    'kernel_var': dist.LogNormal(-1, 0.05),\n",
        "    'pop_density': pop_density,\n",
        "    'hdi_index': hdi_index,\n",
        "    'urban_frac': urban_frac,\n",
        "    'count': count,\n",
        "    'prior_pred': False,\n",
        "    \"decoder_params\": decoder_params,\n",
        "    \"out_dims\": 6 # [lo + hi]\n",
        "}"
      ]
    },
    {
      "cell_type": "code",
      "execution_count": 30,
      "metadata": {},
      "outputs": [],
      "source": [
        "#define the BHM used\n",
        "model =  prev_model_vae_aggr\n",
        "\n",
        "#define the MCMC params used\n",
        "prob = 0.95\n",
        "tree = 18"
      ]
    },
    {
      "cell_type": "code",
      "execution_count": 31,
      "metadata": {
        "colab": {
          "base_uri": "https://localhost:8080/"
        },
        "id": "krupHwTQw7bg",
        "outputId": "aab1f758-9e19-41a6-cfec-85b3d9e4aac7"
      },
      "outputs": [
        {
          "name": "stderr",
          "output_type": "stream",
          "text": [
            "sample: 100%|██████████| 2000/2000 [8:33:53<00:00, 15.42s/it]  "
          ]
        },
        {
          "name": "stdout",
          "output_type": "stream",
          "text": [
            "Time taken to run MCMC: 514 minutes\n"
          ]
        },
        {
          "name": "stderr",
          "output_type": "stream",
          "text": [
            "\n"
          ]
        }
      ],
      "source": [
        "# Define the sampler\n",
        "sampler = NUTS(model, target_accept_prob = prob, max_tree_depth = tree)\n",
        "mcmc = MCMC(sampler,\n",
        "            num_warmup=1000,\n",
        "            num_samples=1000,\n",
        "            num_chains=4,\n",
        "            chain_method=\"vectorized\")\n",
        "\n",
        "start = time.time()\n",
        "mcmc.run(PRNGKey(2), config_count)\n",
        "end = time.time()\n",
        "t_elapsed_min = round((end - start) / 60)\n",
        "print(f\"Time taken to run MCMC: {t_elapsed_min} minutes\")"
      ]
    },
    {
      "cell_type": "code",
      "execution_count": 32,
      "metadata": {
        "colab": {
          "base_uri": "https://localhost:8080/"
        },
        "id": "D3eyNAXFw7bg",
        "outputId": "4b97cac2-c654-4ab6-b925-1a31c722ef61"
      },
      "outputs": [
        {
          "name": "stdout",
          "output_type": "stream",
          "text": [
            "MCMC object for year 2022 saved successfully at ../model weights/aggVAEPrev\\mcmc_jkt_2022_514min_z40_prob0.95_treedepth18.pkl.\n"
          ]
        }
      ],
      "source": [
        "#save mcmc for aggVAE jkt yearly (change the year manually)\n",
        "# Save the MCMC object as a pickle file\n",
        "# Define the path where you want to save the MCMC files\n",
        "\n",
        "save_dir = \"../model weights/aggVAEPrev\"\n",
        "os.makedirs(save_dir, exist_ok=True)\n",
        "\n",
        "# Define the file path where to save the MCMC object\n",
        "file_path = os.path.join(save_dir, f\"mcmc_jkt_{year_data}_{t_elapsed_min}min_z{args[\"z_dim\"]}_prob{prob}_treedepth{tree}.pkl\")\n",
        "\n",
        "# Save the MCMC object as a pickle file\n",
        "with open(file_path, 'wb') as f:\n",
        "        pickle.dump(mcmc, f)\n",
        "\n",
        "print(f\"MCMC object for year {year_data} saved successfully at {file_path}.\")"
      ]
    },
    {
      "cell_type": "code",
      "execution_count": 33,
      "metadata": {},
      "outputs": [
        {
          "name": "stdout",
          "output_type": "stream",
          "text": [
            "\n",
            "                        mean       std    median      5.0%     95.0%     n_eff     r_hat\n",
            "                b0     99.39      6.85     98.95     88.28    113.19   4377.55      1.01\n",
            "             b_hdi     -0.80      1.33     -0.65     -2.67      0.92       nan      1.96\n",
            "     b_pop_density      0.26      0.75      0.24     -1.20      1.30     10.48      1.11\n",
            "           b_urban     -0.40      0.89     -0.23     -1.40      1.06      4.03      1.37\n",
            "full_pred_cases[0]   2114.95      5.84   2115.86   2105.32   2120.55     15.90      1.09\n",
            "full_pred_cases[1]    285.51    159.69    198.63    137.65    547.00      3.36      1.56\n",
            "full_pred_cases[2]    114.05    151.60     18.41     -7.96    350.91      3.96      1.42\n",
            "full_pred_cases[3]    373.09    164.62    298.20    215.68    635.34      3.57      1.50\n",
            "full_pred_cases[4]    530.87    163.45    459.74    371.52    788.25      3.51      1.52\n",
            "full_pred_cases[5]    485.76    150.87    382.15    362.58    707.41      3.31      1.58\n",
            "             sigma      3.01      2.51      1.76      0.37      6.82      5.75      1.28\n",
            "            sigma1     85.33     70.35     79.62     12.29    177.19       nan      1.13\n",
            "              z[0]     -0.11      0.75     -0.06     -1.33      1.24     17.66      1.07\n",
            "              z[1]     -1.05      1.22     -1.82     -2.29      0.78      2.67      1.91\n",
            "              z[2]     -0.04      1.05     -0.08     -1.30      1.26      3.28      1.56\n",
            "              z[3]      0.19      1.00      0.06     -1.17      1.37       nan      1.46\n",
            "              z[4]     -0.27      0.92     -0.06     -1.37      1.19      4.47      1.32\n",
            "              z[5]      0.11      0.69      0.01     -1.28      1.12     44.93      1.03\n",
            "              z[6]      0.04      0.72      0.04     -1.24      1.22       nan      1.01\n",
            "              z[7]     -0.57      0.93     -0.51     -1.61      0.97      3.94      1.39\n",
            "              z[8]      0.05      0.72      0.03     -1.38      1.20     85.67      1.02\n",
            "              z[9]      0.10      1.04      0.03     -1.25      1.28      3.35      1.53\n",
            "             z[10]      0.57      1.05      0.17     -0.91      1.91      3.39      1.52\n",
            "             z[11]      0.35      0.96      0.08     -1.13      1.50      3.73      1.44\n",
            "             z[12]      0.69      1.05      0.65     -0.86      1.98      3.25      1.57\n",
            "             z[13]     -0.15      1.01      0.05     -1.49      1.20      3.85      1.41\n",
            "             z[14]      0.09      0.87     -0.12     -1.39      1.19      5.20      1.26\n",
            "             z[15]     -0.36      0.85     -0.13     -1.34      1.18      5.29      1.25\n",
            "             z[16]      0.03      0.83     -0.04     -1.39      1.29      8.43      1.14\n",
            "             z[17]     -0.01      0.88      0.07     -1.07      1.36      4.66      1.30\n",
            "             z[18]     -0.23      0.76     -0.51     -1.20      1.28     13.34      1.09\n",
            "             z[19]     -0.49      0.94     -0.57     -1.49      1.06      3.92      1.39\n",
            "             z[20]     -0.24      1.24     -0.14     -1.78      1.05      2.83      1.79\n",
            "             z[21]     -0.07      0.79     -0.07     -1.27      1.29     12.09      1.10\n",
            "             z[22]     -0.42      0.77     -0.65     -1.39      1.20     10.98      1.10\n",
            "             z[23]      0.31      0.80      0.60     -1.35      1.19      8.23      1.15\n",
            "             z[24]     -0.41      0.78     -0.60     -1.40      1.11      9.10      1.13\n",
            "             z[25]     -0.32      0.90     -0.05     -1.32      1.16      4.77      1.29\n",
            "             z[26]     -0.29      0.78     -0.37     -1.48      1.15     15.23      1.07\n",
            "             z[27]     -0.60      0.94     -0.61     -1.62      0.95      3.94      1.39\n",
            "             z[28]     -0.44      0.97     -0.36     -1.53      1.10      3.84      1.41\n",
            "             z[29]      0.45      0.97      0.09     -1.06      1.63      3.64      1.45\n",
            "             z[30]      0.21      0.72      0.22     -1.15      1.37    108.86      1.02\n",
            "             z[31]      0.29      1.09      0.07     -0.84      1.69      2.93      1.71\n",
            "             z[32]      0.21      0.93      0.05     -1.22      1.31      4.25      1.34\n",
            "             z[33]     -0.66      1.05     -1.04     -1.77      1.03      3.21      1.57\n",
            "             z[34]      0.14      0.90     -0.10     -1.38      1.12      4.53      1.31\n",
            "             z[35]     -0.25      0.82     -0.22     -1.20      1.36      6.78      1.18\n",
            "             z[36]      0.08      1.06      0.03     -1.18      1.27      3.16      1.61\n",
            "             z[37]     -0.11      0.72     -0.12     -1.44      1.07    153.02      1.02\n",
            "             z[38]      0.04      0.70      0.03     -1.19      1.28   4087.23      1.01\n",
            "             z[39]     -0.65      1.08     -0.79     -1.96      0.93      3.06      1.65\n",
            "\n",
            "Number of divergences: 162\n",
            "None\n"
          ]
        },
        {
          "data": {
            "text/html": [
              "<div>\n",
              "<style scoped>\n",
              "    .dataframe tbody tr th:only-of-type {\n",
              "        vertical-align: middle;\n",
              "    }\n",
              "\n",
              "    .dataframe tbody tr th {\n",
              "        vertical-align: top;\n",
              "    }\n",
              "\n",
              "    .dataframe thead th {\n",
              "        text-align: right;\n",
              "    }\n",
              "</style>\n",
              "<table border=\"1\" class=\"dataframe\">\n",
              "  <thead>\n",
              "    <tr style=\"text-align: right;\">\n",
              "      <th></th>\n",
              "      <th>mean</th>\n",
              "      <th>sd</th>\n",
              "      <th>hdi_3%</th>\n",
              "      <th>hdi_97%</th>\n",
              "      <th>mcse_mean</th>\n",
              "      <th>mcse_sd</th>\n",
              "      <th>ess_bulk</th>\n",
              "      <th>ess_tail</th>\n",
              "      <th>r_hat</th>\n",
              "    </tr>\n",
              "  </thead>\n",
              "  <tbody>\n",
              "    <tr>\n",
              "      <th>pred_cases_out[0]</th>\n",
              "      <td>2114.952</td>\n",
              "      <td>5.836</td>\n",
              "      <td>2103.200</td>\n",
              "      <td>2124.001</td>\n",
              "      <td>0.949</td>\n",
              "      <td>1.181</td>\n",
              "      <td>15.0</td>\n",
              "      <td>96.0</td>\n",
              "      <td>1.70</td>\n",
              "    </tr>\n",
              "    <tr>\n",
              "      <th>pred_cases_out[1]</th>\n",
              "      <td>285.505</td>\n",
              "      <td>159.688</td>\n",
              "      <td>137.646</td>\n",
              "      <td>601.078</td>\n",
              "      <td>59.544</td>\n",
              "      <td>15.345</td>\n",
              "      <td>7.0</td>\n",
              "      <td>4.0</td>\n",
              "      <td>1.89</td>\n",
              "    </tr>\n",
              "    <tr>\n",
              "      <th>pred_cases_out[2]</th>\n",
              "      <td>114.048</td>\n",
              "      <td>151.604</td>\n",
              "      <td>-11.851</td>\n",
              "      <td>400.046</td>\n",
              "      <td>51.866</td>\n",
              "      <td>17.358</td>\n",
              "      <td>11.0</td>\n",
              "      <td>133.0</td>\n",
              "      <td>2.05</td>\n",
              "    </tr>\n",
              "    <tr>\n",
              "      <th>pred_cases_out[3]</th>\n",
              "      <td>373.090</td>\n",
              "      <td>164.616</td>\n",
              "      <td>213.051</td>\n",
              "      <td>694.093</td>\n",
              "      <td>59.340</td>\n",
              "      <td>18.597</td>\n",
              "      <td>8.0</td>\n",
              "      <td>5.0</td>\n",
              "      <td>1.79</td>\n",
              "    </tr>\n",
              "    <tr>\n",
              "      <th>pred_cases_out[4]</th>\n",
              "      <td>530.869</td>\n",
              "      <td>163.446</td>\n",
              "      <td>371.518</td>\n",
              "      <td>848.731</td>\n",
              "      <td>59.433</td>\n",
              "      <td>17.552</td>\n",
              "      <td>7.0</td>\n",
              "      <td>4.0</td>\n",
              "      <td>1.77</td>\n",
              "    </tr>\n",
              "    <tr>\n",
              "      <th>pred_cases_out[5]</th>\n",
              "      <td>485.760</td>\n",
              "      <td>150.870</td>\n",
              "      <td>361.969</td>\n",
              "      <td>767.102</td>\n",
              "      <td>56.540</td>\n",
              "      <td>6.822</td>\n",
              "      <td>6.0</td>\n",
              "      <td>4.0</td>\n",
              "      <td>2.16</td>\n",
              "    </tr>\n",
              "    <tr>\n",
              "      <th>lp[0]</th>\n",
              "      <td>2114.901</td>\n",
              "      <td>4.363</td>\n",
              "      <td>2104.359</td>\n",
              "      <td>2119.692</td>\n",
              "      <td>0.929</td>\n",
              "      <td>0.822</td>\n",
              "      <td>12.0</td>\n",
              "      <td>104.0</td>\n",
              "      <td>1.77</td>\n",
              "    </tr>\n",
              "    <tr>\n",
              "      <th>lp[1]</th>\n",
              "      <td>285.405</td>\n",
              "      <td>159.678</td>\n",
              "      <td>138.755</td>\n",
              "      <td>599.714</td>\n",
              "      <td>59.553</td>\n",
              "      <td>15.204</td>\n",
              "      <td>7.0</td>\n",
              "      <td>4.0</td>\n",
              "      <td>1.89</td>\n",
              "    </tr>\n",
              "    <tr>\n",
              "      <th>lp[2]</th>\n",
              "      <td>113.184</td>\n",
              "      <td>152.362</td>\n",
              "      <td>0.000</td>\n",
              "      <td>397.212</td>\n",
              "      <td>52.426</td>\n",
              "      <td>17.207</td>\n",
              "      <td>9.0</td>\n",
              "      <td>5.0</td>\n",
              "      <td>1.96</td>\n",
              "    </tr>\n",
              "    <tr>\n",
              "      <th>lp[3]</th>\n",
              "      <td>372.265</td>\n",
              "      <td>165.088</td>\n",
              "      <td>211.738</td>\n",
              "      <td>693.497</td>\n",
              "      <td>59.766</td>\n",
              "      <td>18.452</td>\n",
              "      <td>8.0</td>\n",
              "      <td>5.0</td>\n",
              "      <td>1.79</td>\n",
              "    </tr>\n",
              "    <tr>\n",
              "      <th>lp[4]</th>\n",
              "      <td>532.234</td>\n",
              "      <td>162.913</td>\n",
              "      <td>371.467</td>\n",
              "      <td>847.671</td>\n",
              "      <td>59.033</td>\n",
              "      <td>17.730</td>\n",
              "      <td>8.0</td>\n",
              "      <td>4.0</td>\n",
              "      <td>1.77</td>\n",
              "    </tr>\n",
              "    <tr>\n",
              "      <th>lp[5]</th>\n",
              "      <td>486.132</td>\n",
              "      <td>150.374</td>\n",
              "      <td>364.813</td>\n",
              "      <td>771.438</td>\n",
              "      <td>56.278</td>\n",
              "      <td>6.816</td>\n",
              "      <td>6.0</td>\n",
              "      <td>4.0</td>\n",
              "      <td>2.17</td>\n",
              "    </tr>\n",
              "    <tr>\n",
              "      <th>b0</th>\n",
              "      <td>99.393</td>\n",
              "      <td>6.853</td>\n",
              "      <td>85.437</td>\n",
              "      <td>115.054</td>\n",
              "      <td>0.096</td>\n",
              "      <td>1.579</td>\n",
              "      <td>85.0</td>\n",
              "      <td>132.0</td>\n",
              "      <td>2.08</td>\n",
              "    </tr>\n",
              "    <tr>\n",
              "      <th>b_pop_density</th>\n",
              "      <td>0.259</td>\n",
              "      <td>0.753</td>\n",
              "      <td>-1.431</td>\n",
              "      <td>1.562</td>\n",
              "      <td>0.154</td>\n",
              "      <td>0.139</td>\n",
              "      <td>23.0</td>\n",
              "      <td>171.0</td>\n",
              "      <td>1.58</td>\n",
              "    </tr>\n",
              "    <tr>\n",
              "      <th>b_hdi</th>\n",
              "      <td>-0.800</td>\n",
              "      <td>1.328</td>\n",
              "      <td>-2.675</td>\n",
              "      <td>1.290</td>\n",
              "      <td>0.566</td>\n",
              "      <td>0.234</td>\n",
              "      <td>6.0</td>\n",
              "      <td>4.0</td>\n",
              "      <td>1.84</td>\n",
              "    </tr>\n",
              "    <tr>\n",
              "      <th>b_urban</th>\n",
              "      <td>-0.400</td>\n",
              "      <td>0.888</td>\n",
              "      <td>-1.422</td>\n",
              "      <td>1.501</td>\n",
              "      <td>0.299</td>\n",
              "      <td>0.119</td>\n",
              "      <td>11.0</td>\n",
              "      <td>5.0</td>\n",
              "      <td>1.62</td>\n",
              "    </tr>\n",
              "    <tr>\n",
              "      <th>vae[0]</th>\n",
              "      <td>2087.486</td>\n",
              "      <td>153.870</td>\n",
              "      <td>1733.987</td>\n",
              "      <td>2274.404</td>\n",
              "      <td>47.274</td>\n",
              "      <td>21.930</td>\n",
              "      <td>10.0</td>\n",
              "      <td>222.0</td>\n",
              "      <td>1.55</td>\n",
              "    </tr>\n",
              "    <tr>\n",
              "      <th>vae[1]</th>\n",
              "      <td>289.798</td>\n",
              "      <td>90.129</td>\n",
              "      <td>146.458</td>\n",
              "      <td>470.714</td>\n",
              "      <td>18.729</td>\n",
              "      <td>9.386</td>\n",
              "      <td>15.0</td>\n",
              "      <td>153.0</td>\n",
              "      <td>1.19</td>\n",
              "    </tr>\n",
              "    <tr>\n",
              "      <th>vae[2]</th>\n",
              "      <td>86.710</td>\n",
              "      <td>125.216</td>\n",
              "      <td>-154.468</td>\n",
              "      <td>293.540</td>\n",
              "      <td>25.797</td>\n",
              "      <td>14.658</td>\n",
              "      <td>18.0</td>\n",
              "      <td>152.0</td>\n",
              "      <td>1.16</td>\n",
              "    </tr>\n",
              "    <tr>\n",
              "      <th>vae[3]</th>\n",
              "      <td>379.763</td>\n",
              "      <td>103.718</td>\n",
              "      <td>195.413</td>\n",
              "      <td>561.352</td>\n",
              "      <td>23.403</td>\n",
              "      <td>9.721</td>\n",
              "      <td>15.0</td>\n",
              "      <td>174.0</td>\n",
              "      <td>1.20</td>\n",
              "    </tr>\n",
              "    <tr>\n",
              "      <th>vae[4]</th>\n",
              "      <td>536.812</td>\n",
              "      <td>111.119</td>\n",
              "      <td>375.297</td>\n",
              "      <td>773.739</td>\n",
              "      <td>25.364</td>\n",
              "      <td>9.925</td>\n",
              "      <td>15.0</td>\n",
              "      <td>189.0</td>\n",
              "      <td>1.20</td>\n",
              "    </tr>\n",
              "    <tr>\n",
              "      <th>vae[5]</th>\n",
              "      <td>485.391</td>\n",
              "      <td>89.304</td>\n",
              "      <td>342.898</td>\n",
              "      <td>658.911</td>\n",
              "      <td>12.037</td>\n",
              "      <td>10.862</td>\n",
              "      <td>21.0</td>\n",
              "      <td>176.0</td>\n",
              "      <td>1.14</td>\n",
              "    </tr>\n",
              "  </tbody>\n",
              "</table>\n",
              "</div>"
            ],
            "text/plain": [
              "                       mean       sd    hdi_3%   hdi_97%  mcse_mean  mcse_sd  \\\n",
              "pred_cases_out[0]  2114.952    5.836  2103.200  2124.001      0.949    1.181   \n",
              "pred_cases_out[1]   285.505  159.688   137.646   601.078     59.544   15.345   \n",
              "pred_cases_out[2]   114.048  151.604   -11.851   400.046     51.866   17.358   \n",
              "pred_cases_out[3]   373.090  164.616   213.051   694.093     59.340   18.597   \n",
              "pred_cases_out[4]   530.869  163.446   371.518   848.731     59.433   17.552   \n",
              "pred_cases_out[5]   485.760  150.870   361.969   767.102     56.540    6.822   \n",
              "lp[0]              2114.901    4.363  2104.359  2119.692      0.929    0.822   \n",
              "lp[1]               285.405  159.678   138.755   599.714     59.553   15.204   \n",
              "lp[2]               113.184  152.362     0.000   397.212     52.426   17.207   \n",
              "lp[3]               372.265  165.088   211.738   693.497     59.766   18.452   \n",
              "lp[4]               532.234  162.913   371.467   847.671     59.033   17.730   \n",
              "lp[5]               486.132  150.374   364.813   771.438     56.278    6.816   \n",
              "b0                   99.393    6.853    85.437   115.054      0.096    1.579   \n",
              "b_pop_density         0.259    0.753    -1.431     1.562      0.154    0.139   \n",
              "b_hdi                -0.800    1.328    -2.675     1.290      0.566    0.234   \n",
              "b_urban              -0.400    0.888    -1.422     1.501      0.299    0.119   \n",
              "vae[0]             2087.486  153.870  1733.987  2274.404     47.274   21.930   \n",
              "vae[1]              289.798   90.129   146.458   470.714     18.729    9.386   \n",
              "vae[2]               86.710  125.216  -154.468   293.540     25.797   14.658   \n",
              "vae[3]              379.763  103.718   195.413   561.352     23.403    9.721   \n",
              "vae[4]              536.812  111.119   375.297   773.739     25.364    9.925   \n",
              "vae[5]              485.391   89.304   342.898   658.911     12.037   10.862   \n",
              "\n",
              "                   ess_bulk  ess_tail  r_hat  \n",
              "pred_cases_out[0]      15.0      96.0   1.70  \n",
              "pred_cases_out[1]       7.0       4.0   1.89  \n",
              "pred_cases_out[2]      11.0     133.0   2.05  \n",
              "pred_cases_out[3]       8.0       5.0   1.79  \n",
              "pred_cases_out[4]       7.0       4.0   1.77  \n",
              "pred_cases_out[5]       6.0       4.0   2.16  \n",
              "lp[0]                  12.0     104.0   1.77  \n",
              "lp[1]                   7.0       4.0   1.89  \n",
              "lp[2]                   9.0       5.0   1.96  \n",
              "lp[3]                   8.0       5.0   1.79  \n",
              "lp[4]                   8.0       4.0   1.77  \n",
              "lp[5]                   6.0       4.0   2.17  \n",
              "b0                     85.0     132.0   2.08  \n",
              "b_pop_density          23.0     171.0   1.58  \n",
              "b_hdi                   6.0       4.0   1.84  \n",
              "b_urban                11.0       5.0   1.62  \n",
              "vae[0]                 10.0     222.0   1.55  \n",
              "vae[1]                 15.0     153.0   1.19  \n",
              "vae[2]                 18.0     152.0   1.16  \n",
              "vae[3]                 15.0     174.0   1.20  \n",
              "vae[4]                 15.0     189.0   1.20  \n",
              "vae[5]                 21.0     176.0   1.14  "
            ]
          },
          "execution_count": 33,
          "metadata": {},
          "output_type": "execute_result"
        }
      ],
      "source": [
        "# creating  posterior predictive\n",
        "rng_key_pr, rng_key_po = random.split(random.PRNGKey(4))\n",
        "posterior_samples = mcmc.get_samples()\n",
        "posterior_predictive = Predictive(model, posterior_samples)(\n",
        "    rng_key_po, config_count\n",
        ")\n",
        "\n",
        "# transform posterior predictive to arviz inference objects\n",
        "Total_districts = df_lo.shape[0] + df_hi.shape[0]\n",
        "numpyro_data = az.from_numpyro(\n",
        "    mcmc,\n",
        "    posterior_predictive=posterior_predictive,\n",
        "    coords={\"district\": np.arange(Total_districts)},\n",
        "    dims={\"lp\": [\"district\"]},\n",
        "    )\n",
        "\n",
        "# %%\n",
        "print(mcmc.print_summary())\n",
        "az.summary(numpyro_data, var_names = [\"pred_cases_out\", \"lp\", \"b0\", \"b_pop_density\", \"b_hdi\", \"b_urban\", \"vae\"])"
      ]
    },
    {
      "cell_type": "code",
      "execution_count": 34,
      "metadata": {},
      "outputs": [
        {
          "name": "stdout",
          "output_type": "stream",
          "text": [
            "Average ESS for all aggVAE effects : 4\n",
            "Average ESS for all aggVAE-low effects : 4\n",
            "Max r_hat for all aggVAE-low : 1.3600000143051147\n",
            "Average ESS for all aggVAE-high effects : 4\n",
            "Max r_hat for all aggVAE-high : 1.3899999856948853\n"
          ]
        }
      ],
      "source": [
        "ss = numpyro.diagnostics.summary(mcmc.get_samples(group_by_chain=True))\n",
        "r = np.mean(ss['vae_aggr']['n_eff'])\n",
        "print(\"Average ESS for all aggVAE effects : \" + str(round(r)))\n",
        "\n",
        "ess_lo = np.mean(ss[\"vae_aggr\"][\"n_eff\"][0:1])\n",
        "r_hat_lo = np.max(ss[\"vae_aggr\"][\"r_hat\"][0:1])\n",
        "\n",
        "ess_hi = np.mean(ss[\"vae_aggr\"][\"n_eff\"][1:6])\n",
        "r_hat_hi = np.max(ss[\"vae_aggr\"][\"r_hat\"][1 : 6])\n",
        "\n",
        "print(f\"Average ESS for all aggVAE-low effects : {round(ess_lo)}\")\n",
        "print(f\"Max r_hat for all aggVAE-low : {round(r_hat_lo,2)}\")\n",
        "\n",
        "print(f\"Average ESS for all aggVAE-high effects : {round(ess_hi)}\")\n",
        "print(f\"Max r_hat for all aggVAE-high : {round(r_hat_hi,2)}\")"
      ]
    },
    {
      "cell_type": "code",
      "execution_count": 26,
      "metadata": {},
      "outputs": [],
      "source": [
        "mean_pred_cases = numpyro_data.posterior.pred_cases_out.values.mean(axis=(0, 1))\n",
        "df_hi['pred_cases_num'] = mean_pred_cases[df_lo.shape[0]:]\n",
        "df_lo['pred_cases'] = mean_pred_cases[:df_lo.shape[0]] / df_lo.Population\n",
        "df_hi['pred_cases'] = mean_pred_cases[df_lo.shape[0]:] / df_hi.Population"
      ]
    },
    {
      "cell_type": "code",
      "execution_count": 27,
      "metadata": {},
      "outputs": [
        {
          "name": "stdout",
          "output_type": "stream",
          "text": [
            "RMSE: 85.0627\n",
            "MAE as % of average observed prevalence: 34.96%\n"
          ]
        }
      ],
      "source": [
        "#calculate RMSE, MAE, MAPE / MAE as percentage of average no. of districts\n",
        "import numpy as np\n",
        "from sklearn.metrics import mean_squared_error, mean_absolute_error\n",
        "\n",
        "# Extract the predicted and observed values\n",
        "y_pred = df_hi[\"pred_cases_num\"].values\n",
        "y_true = df_hi[\"Cases\"].values\n",
        "\n",
        "# Calculate metrics\n",
        "rmse = np.sqrt(mean_squared_error(y_true, y_pred))\n",
        "\n",
        "# Group by district\n",
        "district_mae_pct = []\n",
        "\n",
        "for district, group in df_hi.groupby(\"District\"):\n",
        "    y_true_d = group[\"Cases\"].values\n",
        "    y_pred_d = group[\"pred_cases_num\"].values\n",
        "\n",
        "    if len(y_true_d) > 0 and np.mean(y_true_d) != 0:\n",
        "        mae_d = mean_absolute_error(y_true_d, y_pred_d)\n",
        "        mae_pct_d = (mae_d / np.mean(y_true_d)) * 100\n",
        "        district_mae_pct.append(mae_pct_d)\n",
        "\n",
        "# Average across districts\n",
        "mae_pct_avg_across_districts = np.mean(district_mae_pct)\n",
        "\n",
        "# Print results\n",
        "print(f\"RMSE: {rmse:.4f}\")\n",
        "print(f\"MAE as % of average observed prevalence: {mae_pct_avg_across_districts:.2f}%\")"
      ]
    },
    {
      "cell_type": "code",
      "execution_count": 143,
      "metadata": {},
      "outputs": [
        {
          "data": {
            "image/png": "[encoded data removed]",
            "text/plain": [
              "<Figure size 1000x500 with 4 Axes>"
            ]
          },
          "metadata": {},
          "output_type": "display_data"
        }
      ],
      "source": [
        "fig, ax = plt.subplots(1, 2, figsize=(10, 5))\n",
        "plot_incidence_map(df_lo, ax = ax[0], title = \"Low-Res Observed Prevalence\")\n",
        "plot_incidence_map(df_lo, plot_col = 'pred_cases', ax = ax[1], title = \"Low-Res Predicted Prevalence\")\n",
        "plt.tight_layout()\n",
        "plt.show()"
      ]
    },
    {
      "cell_type": "code",
      "execution_count": 144,
      "metadata": {},
      "outputs": [
        {
          "data": {
            "image/png": "[encoded data removed]",
            "text/plain": [
              "<Figure size 1000x500 with 4 Axes>"
            ]
          },
          "metadata": {},
          "output_type": "display_data"
        }
      ],
      "source": [
        "fig, ax = plt.subplots(1, 2, figsize=(10, 5))\n",
        "plot_incidence_map(df_hi, ax = ax[0], title = \"High-Res Observed Prevalence\")\n",
        "plot_incidence_map(df_hi, plot_col = 'pred_cases', ax = ax[1], title = \"High-Res Predicted Prevalence\")\n",
        "plt.tight_layout()\n",
        "plt.show()"
      ]
    },
    {
      "cell_type": "code",
      "execution_count": null,
      "metadata": {},
      "outputs": [],
      "source": [
        "#save the df predictions (change the year naming convention manually)\n",
        "#df_hi.to_csv(\"../data/processed/df_hi_jkt_2022_aggVAE_preds.csv\")"
      ]
    },
    {
      "cell_type": "markdown",
      "metadata": {},
      "source": [
        "# MCMC Inference (see which one produces the best metric (change manually))"
      ]
    },
    {
      "cell_type": "code",
      "execution_count": 165,
      "metadata": {},
      "outputs": [],
      "source": [
        "model =  prev_model_vae_aggr"
      ]
    },
    {
      "cell_type": "code",
      "execution_count": null,
      "metadata": {},
      "outputs": [],
      "source": [
        "#load MCMC objects\n",
        "with open(\"../model weights/aggVAEPrev/mcmc_jkt_2023_23min_z40_prob0.85_treedepth15.pkl\", \"rb\") as f_1:\n",
        "    mcmc_1 = pickle.load(f_1)\n",
        "\n",
        "with open(\"../model weights/aggVAEPrev/mcmc_jkt_2023_31min_z40_prob0.9_treedepth15.pkl\", \"rb\") as f_2:\n",
        "    mcmc_2 = pickle.load(f_2)\n",
        "\n",
        "#this one is batch size 5 for comparison with batch size 100 on 2023 dataset\n",
        "with open(\"../model weights/aggVAEPrev/mcmc_jkt_2023_59min_z40_prob0.95_treedepth15.pkl\", \"rb\") as f_3:\n",
        "    mcmc_3 = pickle.load(f_3)\n",
        "\n",
        "with open(\"../model weights/aggVAEPrev/mcmc_jkt_2023_1min_z30_default.pkl\", \"rb\") as f_4:\n",
        "    mcmc_4 = pickle.load(f_4)\n",
        "\n",
        "with open(\"../model weights/aggVAEPrev/mcmc_jkt_2023_3min_z40_batch5.pkl\", \"rb\") as f_5:\n",
        "    mcmc_5 = pickle.load(f_5)\n",
        "\n",
        "with open(\"../model weights/aggVAEPrev/mcmc_jkt_2023_5min_z40_batch100.pkl\", \"rb\") as f_6:\n",
        "    mcmc_6 = pickle.load(f_6)"
      ]
    },
    {
      "cell_type": "code",
      "execution_count": null,
      "metadata": {},
      "outputs": [],
      "source": [
        "#load the 2023 dataset\n",
        "spatial_data = load_data()\n",
        "print(spatial_data.keys())\n",
        "\n",
        "# Lets lok at the data and dissect it\n",
        "lo_prev = spatial_data[\"df_lo\"].copy()\n",
        "lo_prev['incidence'] = (lo_prev.Cases / lo_prev.Population)\n",
        "print(\"Dengue incidence by province and year (low resolution):\")\n",
        "print(lo_prev.groupby(['Province', 'Year'])[['incidence']].mean(), '\\n')\n",
        "\n",
        "# make sure we use only one year of data\n",
        "year_data = 2023\n",
        "print(f'We are using data for the year {year_data}\\n')\n",
        "\n",
        "# let us filter the data for the most recent year\n",
        "df_lo = spatial_data[\"df_lo\"][spatial_data[\"df_lo\"].Year == year_data]\n",
        "df_hi = spatial_data[\"df_hi\"][spatial_data[\"df_hi\"].Year == year_data]\n",
        "\n",
        "df_lo = df_lo.copy()\n",
        "df_hi = df_hi.copy()\n",
        "df_lo.loc[:, 'incidence'] = df_lo.Cases / df_lo.Population\n",
        "df_hi.loc[:, 'incidence'] = df_hi.Cases / df_hi.Population\n",
        "total_population = jnp.concatenate([df_lo.Population.values, df_hi.Population.values])\n",
        "count = jnp.concatenate([df_lo.Cases.values, jnp.full((df_hi.shape[0],), jnp.nan)])\n",
        "hdi_index = jnp.concatenate([df_lo.HDI.values, df_hi.HDI.values])*100\n",
        "pop_density = jnp.concatenate([df_lo.Pop_den.values*1e2, (df_hi.Pop_den.values)*1e-1])\n",
        "urban_frac = jnp.concatenate([df_lo.urbanicity.values, df_hi.urbanicity.values])*100"
      ]
    },
    {
      "cell_type": "markdown",
      "metadata": {},
      "source": [
        "## Determine the best batch size, on 2023 dataset and default MCMC settings (for ease of computation)"
      ]
    },
    {
      "cell_type": "markdown",
      "metadata": {},
      "source": [
        "### MCMC 5 (z = 40, n = 1000) - 2023, batch size 5"
      ]
    },
    {
      "cell_type": "code",
      "execution_count": null,
      "metadata": {},
      "outputs": [],
      "source": [
        "args[\"z_dim\"] = 40\n",
        "#open saved encoder\n",
        "with open(\"../model weights/aggVAE/aggVAE_e29_h50_z40.pkl\", \"rb\") as file:\n",
        "    vae_params = pickle.load(file)\n",
        "\n",
        "encoder_params = vae_params[\"encoder$params\"]\n",
        "decoder_params = vae_params[\"decoder$params\"]\n",
        "\n",
        "# save decoder params inside args\n",
        "args[\"decoder_params\"] = decoder_params"
      ]
    },
    {
      "cell_type": "code",
      "execution_count": null,
      "metadata": {},
      "outputs": [],
      "source": [
        "config_count = {\n",
        "    'x': spatial_data[\"x\"],\n",
        "    'gp_kernel': exp_sq_kernel,\n",
        "    'noise': 1e-2,\n",
        "    'jitter': 1e-2,\n",
        "    'M_lo': jnp.array(spatial_data[\"pol_pts_lo\"]),\n",
        "    'M_hi': jnp.array(spatial_data[\"pol_pts_hi\"]),\n",
        "    'kernel_length': dist.InverseGamma(5, 2),\n",
        "    'kernel_var': dist.LogNormal(-1, 0.05),\n",
        "    'pop_density': pop_density,\n",
        "    'hdi_index': hdi_index,\n",
        "    'urban_frac': urban_frac,\n",
        "    'count': count,\n",
        "    'prior_pred': False,\n",
        "    \"decoder_params\": decoder_params,\n",
        "    \"out_dims\": 6 # [lo + hi]\n",
        "}"
      ]
    },
    {
      "cell_type": "code",
      "execution_count": null,
      "metadata": {},
      "outputs": [
        {
          "name": "stdout",
          "output_type": "stream",
          "text": [
            "\n",
            "                        mean       std    median      5.0%     95.0%     n_eff     r_hat\n",
            "                b0     99.26      9.83     99.68     83.72    114.89     61.90      1.05\n",
            "             b_hdi     -0.37      1.10     -0.33     -2.23      1.46      8.57      1.27\n",
            "     b_pop_density      0.33      0.97      0.32     -1.21      1.91     35.71      1.10\n",
            "           b_urban     -0.31      1.39     -0.11     -2.67      1.56      3.49      1.64\n",
            "full_pred_cases[0]   1557.16     13.36   1560.03   1539.70   1576.54     11.21      1.40\n",
            "full_pred_cases[1]    214.16    183.06    176.60    -11.40    429.02      2.31      2.86\n",
            "full_pred_cases[2]    126.64    146.01      8.37    -13.09    326.79      2.54      2.22\n",
            "full_pred_cases[3]    257.65    203.07    212.67    -11.23    490.37      2.24      3.12\n",
            "full_pred_cases[4]    339.13    237.29    334.41    -13.65    586.18      2.16      3.75\n",
            "full_pred_cases[5]    332.03    211.15    393.10     -9.20    543.93      2.27      3.02\n",
            "             sigma      6.44      3.08      6.08      1.54     11.10     24.77      1.23\n",
            "            sigma1    140.58    119.05    104.96     10.34    334.51      3.51      1.63\n",
            "              z[0]     -0.10      1.14     -0.09     -1.87      1.91     19.58      1.35\n",
            "              z[1]      0.04      0.94      0.10     -1.66      1.51     44.11      1.12\n",
            "              z[2]     -0.35      1.00     -0.31     -1.82      1.35     47.61      1.07\n",
            "              z[3]      0.22      0.99      0.23     -1.37      1.85     66.02      1.05\n",
            "              z[4]      0.17      1.02      0.23     -1.46      1.76     41.91      1.12\n",
            "              z[5]      0.05      0.98      0.06     -1.28      1.91     39.42      1.09\n",
            "              z[6]      0.13      0.99      0.22     -1.34      1.73     21.91      1.11\n",
            "              z[7]     -0.29      1.01     -0.25     -1.99      1.20     63.78      1.08\n",
            "              z[8]      0.11      0.92      0.14     -1.36      1.65     97.46      1.08\n",
            "              z[9]      0.35      0.99      0.31     -1.32      1.97     23.58      1.08\n",
            "             z[10]      0.10      1.01      0.10     -1.41      1.84     65.91      1.04\n",
            "             z[11]      0.33      1.04      0.32     -1.45      1.81     14.13      1.21\n",
            "             z[12]      0.22      0.90      0.21     -1.13      1.77     72.41      1.03\n",
            "             z[13]      0.05      0.92      0.01     -1.43      1.54     85.97      1.07\n",
            "             z[14]     -0.10      0.96     -0.15     -1.56      1.55     18.88      1.13\n",
            "             z[15]     -0.02      0.84     -0.04     -1.36      1.46     56.25      1.07\n",
            "             z[16]      0.01      0.87      0.07     -1.40      1.51     48.78      1.10\n",
            "             z[17]      0.14      1.12      0.14     -1.89      1.88     28.05      1.20\n",
            "             z[18]      0.33      0.96      0.30     -1.19      2.04     19.50      1.15\n",
            "             z[19]     -0.03      0.89     -0.04     -1.43      1.48    120.07      1.02\n",
            "             z[20]      0.30      0.95      0.31     -1.18      1.87     36.94      1.08\n",
            "             z[21]     -0.19      0.99     -0.15     -1.72      1.42      9.76      1.18\n",
            "             z[22]      0.02      1.12     -0.04     -2.00      1.87      6.47      1.26\n",
            "             z[23]     -0.06      1.06     -0.05     -1.76      1.70     39.43      1.13\n",
            "             z[24]      0.08      1.06      0.04     -1.46      2.08     40.87      1.04\n",
            "             z[25]     -0.15      1.06     -0.12     -2.08      1.39     11.44      1.19\n",
            "             z[26]     -0.05      1.02     -0.06     -1.70      1.58     40.14      1.12\n",
            "             z[27]      0.07      0.99      0.10     -1.60      1.60     92.99      1.04\n",
            "             z[28]      0.05      0.95      0.01     -1.50      1.51     89.24      1.01\n",
            "             z[29]      0.02      1.20      0.03     -2.09      1.85     48.92      1.07\n",
            "             z[30]      0.11      0.97      0.12     -1.39      1.73     76.67      1.05\n",
            "             z[31]      0.17      0.82      0.18     -1.09      1.48    124.00      1.04\n",
            "             z[32]      0.15      1.00      0.18     -1.63      1.66     52.11      1.10\n",
            "             z[33]     -0.16      0.93     -0.28     -1.54      1.45     27.61      1.13\n",
            "             z[34]      0.14      1.05      0.13     -1.46      2.08     32.82      1.09\n",
            "             z[35]      0.25      1.01      0.31     -1.33      1.90     21.71      1.10\n",
            "             z[36]      0.10      0.86      0.13     -1.30      1.48     75.42      1.06\n",
            "             z[37]     -0.26      0.92     -0.25     -1.69      1.36     86.47      1.02\n",
            "             z[38]      0.08      0.95      0.07     -1.37      1.65     81.60      1.02\n",
            "             z[39]      0.09      0.96      0.12     -1.53      1.68     56.13      1.08\n",
            "\n",
            "Number of divergences: 336\n",
            "None\n"
          ]
        },
        {
          "data": {
            "text/html": [
              "<div>\n",
              "<style scoped>\n",
              "    .dataframe tbody tr th:only-of-type {\n",
              "        vertical-align: middle;\n",
              "    }\n",
              "\n",
              "    .dataframe tbody tr th {\n",
              "        vertical-align: top;\n",
              "    }\n",
              "\n",
              "    .dataframe thead th {\n",
              "        text-align: right;\n",
              "    }\n",
              "</style>\n",
              "<table border=\"1\" class=\"dataframe\">\n",
              "  <thead>\n",
              "    <tr style=\"text-align: right;\">\n",
              "      <th></th>\n",
              "      <th>mean</th>\n",
              "      <th>sd</th>\n",
              "      <th>hdi_3%</th>\n",
              "      <th>hdi_97%</th>\n",
              "      <th>mcse_mean</th>\n",
              "      <th>mcse_sd</th>\n",
              "      <th>ess_bulk</th>\n",
              "      <th>ess_tail</th>\n",
              "      <th>r_hat</th>\n",
              "    </tr>\n",
              "  </thead>\n",
              "  <tbody>\n",
              "    <tr>\n",
              "      <th>pred_cases_out[0]</th>\n",
              "      <td>1557.161</td>\n",
              "      <td>13.365</td>\n",
              "      <td>1524.115</td>\n",
              "      <td>1576.543</td>\n",
              "      <td>4.291</td>\n",
              "      <td>4.554</td>\n",
              "      <td>18.0</td>\n",
              "      <td>17.0</td>\n",
              "      <td>1.19</td>\n",
              "    </tr>\n",
              "    <tr>\n",
              "      <th>pred_cases_out[1]</th>\n",
              "      <td>214.156</td>\n",
              "      <td>183.055</td>\n",
              "      <td>-13.123</td>\n",
              "      <td>466.704</td>\n",
              "      <td>84.566</td>\n",
              "      <td>15.922</td>\n",
              "      <td>5.0</td>\n",
              "      <td>28.0</td>\n",
              "      <td>2.04</td>\n",
              "    </tr>\n",
              "    <tr>\n",
              "      <th>pred_cases_out[2]</th>\n",
              "      <td>126.636</td>\n",
              "      <td>146.013</td>\n",
              "      <td>-18.084</td>\n",
              "      <td>353.392</td>\n",
              "      <td>63.819</td>\n",
              "      <td>8.875</td>\n",
              "      <td>7.0</td>\n",
              "      <td>36.0</td>\n",
              "      <td>1.61</td>\n",
              "    </tr>\n",
              "    <tr>\n",
              "      <th>pred_cases_out[3]</th>\n",
              "      <td>257.647</td>\n",
              "      <td>203.067</td>\n",
              "      <td>-13.528</td>\n",
              "      <td>525.974</td>\n",
              "      <td>95.191</td>\n",
              "      <td>23.445</td>\n",
              "      <td>5.0</td>\n",
              "      <td>58.0</td>\n",
              "      <td>2.10</td>\n",
              "    </tr>\n",
              "    <tr>\n",
              "      <th>pred_cases_out[4]</th>\n",
              "      <td>339.133</td>\n",
              "      <td>237.288</td>\n",
              "      <td>-15.512</td>\n",
              "      <td>635.931</td>\n",
              "      <td>113.318</td>\n",
              "      <td>40.538</td>\n",
              "      <td>5.0</td>\n",
              "      <td>27.0</td>\n",
              "      <td>2.10</td>\n",
              "    </tr>\n",
              "    <tr>\n",
              "      <th>pred_cases_out[5]</th>\n",
              "      <td>332.030</td>\n",
              "      <td>211.151</td>\n",
              "      <td>-10.150</td>\n",
              "      <td>582.005</td>\n",
              "      <td>98.536</td>\n",
              "      <td>38.692</td>\n",
              "      <td>6.0</td>\n",
              "      <td>22.0</td>\n",
              "      <td>2.04</td>\n",
              "    </tr>\n",
              "    <tr>\n",
              "      <th>lp[0]</th>\n",
              "      <td>1559.488</td>\n",
              "      <td>8.428</td>\n",
              "      <td>1543.307</td>\n",
              "      <td>1576.077</td>\n",
              "      <td>2.291</td>\n",
              "      <td>2.280</td>\n",
              "      <td>21.0</td>\n",
              "      <td>14.0</td>\n",
              "      <td>1.14</td>\n",
              "    </tr>\n",
              "    <tr>\n",
              "      <th>lp[1]</th>\n",
              "      <td>214.571</td>\n",
              "      <td>182.556</td>\n",
              "      <td>0.000</td>\n",
              "      <td>465.974</td>\n",
              "      <td>84.342</td>\n",
              "      <td>15.970</td>\n",
              "      <td>5.0</td>\n",
              "      <td>4.0</td>\n",
              "      <td>2.23</td>\n",
              "    </tr>\n",
              "    <tr>\n",
              "      <th>lp[2]</th>\n",
              "      <td>127.030</td>\n",
              "      <td>145.658</td>\n",
              "      <td>0.000</td>\n",
              "      <td>344.522</td>\n",
              "      <td>63.640</td>\n",
              "      <td>8.902</td>\n",
              "      <td>6.0</td>\n",
              "      <td>5.0</td>\n",
              "      <td>1.98</td>\n",
              "    </tr>\n",
              "    <tr>\n",
              "      <th>lp[3]</th>\n",
              "      <td>257.442</td>\n",
              "      <td>203.123</td>\n",
              "      <td>0.000</td>\n",
              "      <td>525.424</td>\n",
              "      <td>95.288</td>\n",
              "      <td>23.453</td>\n",
              "      <td>5.0</td>\n",
              "      <td>4.0</td>\n",
              "      <td>2.24</td>\n",
              "    </tr>\n",
              "    <tr>\n",
              "      <th>lp[4]</th>\n",
              "      <td>339.582</td>\n",
              "      <td>236.796</td>\n",
              "      <td>0.000</td>\n",
              "      <td>634.901</td>\n",
              "      <td>113.076</td>\n",
              "      <td>40.341</td>\n",
              "      <td>5.0</td>\n",
              "      <td>6.0</td>\n",
              "      <td>2.20</td>\n",
              "    </tr>\n",
              "    <tr>\n",
              "      <th>lp[5]</th>\n",
              "      <td>332.040</td>\n",
              "      <td>211.012</td>\n",
              "      <td>0.000</td>\n",
              "      <td>581.307</td>\n",
              "      <td>98.532</td>\n",
              "      <td>38.849</td>\n",
              "      <td>6.0</td>\n",
              "      <td>30.0</td>\n",
              "      <td>2.05</td>\n",
              "    </tr>\n",
              "    <tr>\n",
              "      <th>b0</th>\n",
              "      <td>99.256</td>\n",
              "      <td>9.832</td>\n",
              "      <td>82.473</td>\n",
              "      <td>119.268</td>\n",
              "      <td>1.241</td>\n",
              "      <td>0.599</td>\n",
              "      <td>64.0</td>\n",
              "      <td>148.0</td>\n",
              "      <td>1.05</td>\n",
              "    </tr>\n",
              "    <tr>\n",
              "      <th>b_pop_density</th>\n",
              "      <td>0.332</td>\n",
              "      <td>0.972</td>\n",
              "      <td>-1.269</td>\n",
              "      <td>2.249</td>\n",
              "      <td>0.169</td>\n",
              "      <td>0.057</td>\n",
              "      <td>33.0</td>\n",
              "      <td>114.0</td>\n",
              "      <td>1.10</td>\n",
              "    </tr>\n",
              "    <tr>\n",
              "      <th>b_hdi</th>\n",
              "      <td>-0.373</td>\n",
              "      <td>1.104</td>\n",
              "      <td>-2.422</td>\n",
              "      <td>1.764</td>\n",
              "      <td>0.315</td>\n",
              "      <td>0.109</td>\n",
              "      <td>12.0</td>\n",
              "      <td>54.0</td>\n",
              "      <td>1.27</td>\n",
              "    </tr>\n",
              "    <tr>\n",
              "      <th>b_urban</th>\n",
              "      <td>-0.314</td>\n",
              "      <td>1.394</td>\n",
              "      <td>-3.150</td>\n",
              "      <td>1.823</td>\n",
              "      <td>0.545</td>\n",
              "      <td>0.307</td>\n",
              "      <td>7.0</td>\n",
              "      <td>12.0</td>\n",
              "      <td>1.58</td>\n",
              "    </tr>\n",
              "    <tr>\n",
              "      <th>vae[0]</th>\n",
              "      <td>1480.399</td>\n",
              "      <td>197.658</td>\n",
              "      <td>1124.429</td>\n",
              "      <td>1842.420</td>\n",
              "      <td>62.464</td>\n",
              "      <td>17.555</td>\n",
              "      <td>10.0</td>\n",
              "      <td>44.0</td>\n",
              "      <td>1.30</td>\n",
              "    </tr>\n",
              "    <tr>\n",
              "      <th>vae[1]</th>\n",
              "      <td>99.530</td>\n",
              "      <td>184.962</td>\n",
              "      <td>-308.508</td>\n",
              "      <td>336.426</td>\n",
              "      <td>76.483</td>\n",
              "      <td>48.590</td>\n",
              "      <td>7.0</td>\n",
              "      <td>26.0</td>\n",
              "      <td>1.58</td>\n",
              "    </tr>\n",
              "    <tr>\n",
              "      <th>vae[2]</th>\n",
              "      <td>-112.428</td>\n",
              "      <td>294.223</td>\n",
              "      <td>-746.719</td>\n",
              "      <td>236.124</td>\n",
              "      <td>124.835</td>\n",
              "      <td>77.006</td>\n",
              "      <td>6.0</td>\n",
              "      <td>33.0</td>\n",
              "      <td>1.74</td>\n",
              "    </tr>\n",
              "    <tr>\n",
              "      <th>vae[3]</th>\n",
              "      <td>150.353</td>\n",
              "      <td>204.408</td>\n",
              "      <td>-314.806</td>\n",
              "      <td>396.940</td>\n",
              "      <td>83.547</td>\n",
              "      <td>54.271</td>\n",
              "      <td>7.0</td>\n",
              "      <td>27.0</td>\n",
              "      <td>1.54</td>\n",
              "    </tr>\n",
              "    <tr>\n",
              "      <th>vae[4]</th>\n",
              "      <td>256.669</td>\n",
              "      <td>218.198</td>\n",
              "      <td>-242.337</td>\n",
              "      <td>537.706</td>\n",
              "      <td>87.084</td>\n",
              "      <td>55.900</td>\n",
              "      <td>8.0</td>\n",
              "      <td>28.0</td>\n",
              "      <td>1.48</td>\n",
              "    </tr>\n",
              "    <tr>\n",
              "      <th>vae[5]</th>\n",
              "      <td>284.610</td>\n",
              "      <td>129.495</td>\n",
              "      <td>-14.839</td>\n",
              "      <td>470.249</td>\n",
              "      <td>43.371</td>\n",
              "      <td>23.182</td>\n",
              "      <td>10.0</td>\n",
              "      <td>37.0</td>\n",
              "      <td>1.34</td>\n",
              "    </tr>\n",
              "  </tbody>\n",
              "</table>\n",
              "</div>"
            ],
            "text/plain": [
              "                       mean       sd    hdi_3%   hdi_97%  mcse_mean  mcse_sd  \\\n",
              "pred_cases_out[0]  1557.161   13.365  1524.115  1576.543      4.291    4.554   \n",
              "pred_cases_out[1]   214.156  183.055   -13.123   466.704     84.566   15.922   \n",
              "pred_cases_out[2]   126.636  146.013   -18.084   353.392     63.819    8.875   \n",
              "pred_cases_out[3]   257.647  203.067   -13.528   525.974     95.191   23.445   \n",
              "pred_cases_out[4]   339.133  237.288   -15.512   635.931    113.318   40.538   \n",
              "pred_cases_out[5]   332.030  211.151   -10.150   582.005     98.536   38.692   \n",
              "lp[0]              1559.488    8.428  1543.307  1576.077      2.291    2.280   \n",
              "lp[1]               214.571  182.556     0.000   465.974     84.342   15.970   \n",
              "lp[2]               127.030  145.658     0.000   344.522     63.640    8.902   \n",
              "lp[3]               257.442  203.123     0.000   525.424     95.288   23.453   \n",
              "lp[4]               339.582  236.796     0.000   634.901    113.076   40.341   \n",
              "lp[5]               332.040  211.012     0.000   581.307     98.532   38.849   \n",
              "b0                   99.256    9.832    82.473   119.268      1.241    0.599   \n",
              "b_pop_density         0.332    0.972    -1.269     2.249      0.169    0.057   \n",
              "b_hdi                -0.373    1.104    -2.422     1.764      0.315    0.109   \n",
              "b_urban              -0.314    1.394    -3.150     1.823      0.545    0.307   \n",
              "vae[0]             1480.399  197.658  1124.429  1842.420     62.464   17.555   \n",
              "vae[1]               99.530  184.962  -308.508   336.426     76.483   48.590   \n",
              "vae[2]             -112.428  294.223  -746.719   236.124    124.835   77.006   \n",
              "vae[3]              150.353  204.408  -314.806   396.940     83.547   54.271   \n",
              "vae[4]              256.669  218.198  -242.337   537.706     87.084   55.900   \n",
              "vae[5]              284.610  129.495   -14.839   470.249     43.371   23.182   \n",
              "\n",
              "                   ess_bulk  ess_tail  r_hat  \n",
              "pred_cases_out[0]      18.0      17.0   1.19  \n",
              "pred_cases_out[1]       5.0      28.0   2.04  \n",
              "pred_cases_out[2]       7.0      36.0   1.61  \n",
              "pred_cases_out[3]       5.0      58.0   2.10  \n",
              "pred_cases_out[4]       5.0      27.0   2.10  \n",
              "pred_cases_out[5]       6.0      22.0   2.04  \n",
              "lp[0]                  21.0      14.0   1.14  \n",
              "lp[1]                   5.0       4.0   2.23  \n",
              "lp[2]                   6.0       5.0   1.98  \n",
              "lp[3]                   5.0       4.0   2.24  \n",
              "lp[4]                   5.0       6.0   2.20  \n",
              "lp[5]                   6.0      30.0   2.05  \n",
              "b0                     64.0     148.0   1.05  \n",
              "b_pop_density          33.0     114.0   1.10  \n",
              "b_hdi                  12.0      54.0   1.27  \n",
              "b_urban                 7.0      12.0   1.58  \n",
              "vae[0]                 10.0      44.0   1.30  \n",
              "vae[1]                  7.0      26.0   1.58  \n",
              "vae[2]                  6.0      33.0   1.74  \n",
              "vae[3]                  7.0      27.0   1.54  \n",
              "vae[4]                  8.0      28.0   1.48  \n",
              "vae[5]                 10.0      37.0   1.34  "
            ]
          },
          "metadata": {},
          "output_type": "display_data"
        }
      ],
      "source": [
        "# creating  posterior predictive\n",
        "rng_key_pr, rng_key_po = random.split(random.PRNGKey(4))\n",
        "posterior_samples = mcmc_5.get_samples()\n",
        "\n",
        "posterior_predictive = Predictive(model, posterior_samples)(\n",
        "    rng_key_po, config_count\n",
        ")\n",
        "\n",
        "# transform posterior predictive to arviz inference objects\n",
        "Total_districts = df_lo.shape[0] + df_hi.shape[0]\n",
        "numpyro_data = az.from_numpyro(\n",
        "    mcmc_5,\n",
        "    posterior_predictive=posterior_predictive,\n",
        "    coords={\"district\": np.arange(Total_districts)},\n",
        "    dims={\"lp\": [\"district\"]},\n",
        "    )\n",
        "\n",
        "# %%\n",
        "print(mcmc_5.print_summary())\n",
        "az.summary(numpyro_data, var_names = [\"pred_cases_out\", \"lp\", \"b0\", \"b_pop_density\", \"b_hdi\", \"b_urban\", \"vae\"])"
      ]
    },
    {
      "cell_type": "code",
      "execution_count": null,
      "metadata": {},
      "outputs": [
        {
          "name": "stdout",
          "output_type": "stream",
          "text": [
            "Average ESS for all aggVAE effects : 5\n",
            "Average ESS for all aggVAE-low effects : 5\n",
            "Max r_hat for all aggVAE-low : 1.3799999952316284\n",
            "Average ESS for all aggVAE-high effects : 4\n",
            "Max r_hat for all aggVAE-high : 1.590000033378601\n"
          ]
        }
      ],
      "source": [
        "#check ESS and rhat\n",
        "ss = numpyro.diagnostics.summary(mcmc_5.get_samples(group_by_chain=True))\n",
        "r = np.mean(ss['vae_aggr']['n_eff'])\n",
        "print(\"Average ESS for all aggVAE effects : \" + str(round(r)))\n",
        "\n",
        "ess_lo = np.mean(ss[\"vae_aggr\"][\"n_eff\"][0:1])\n",
        "r_hat_lo = np.max(ss[\"vae_aggr\"][\"r_hat\"][0:1])\n",
        "\n",
        "ess_hi = np.mean(ss[\"vae_aggr\"][\"n_eff\"][1:6])\n",
        "r_hat_hi = np.max(ss[\"vae_aggr\"][\"r_hat\"][1 : 6])\n",
        "\n",
        "print(f\"Average ESS for all aggVAE-low effects : {round(ess_lo)}\")\n",
        "print(f\"Max r_hat for all aggVAE-low : {round(r_hat_lo,2)}\")\n",
        "\n",
        "print(f\"Average ESS for all aggVAE-high effects : {round(ess_hi)}\")\n",
        "print(f\"Max r_hat for all aggVAE-high : {round(r_hat_hi,2)}\")"
      ]
    },
    {
      "cell_type": "markdown",
      "metadata": {},
      "source": [
        "### MCMC 6 (z = 40, n = 1000) - 2023, batch size 100"
      ]
    },
    {
      "cell_type": "code",
      "execution_count": null,
      "metadata": {},
      "outputs": [],
      "source": [
        "args[\"z_dim\"] = 30\n",
        "#open saved encoder\n",
        "with open(\"../model weights/aggVAE/aggVAE_e50_h50_z30.pkl\", \"rb\") as file:\n",
        "    vae_params = pickle.load(file)\n",
        "\n",
        "encoder_params = vae_params[\"encoder$params\"]\n",
        "decoder_params = vae_params[\"decoder$params\"]\n",
        "\n",
        "# save decoder params inside args\n",
        "args[\"decoder_params\"] = decoder_params"
      ]
    },
    {
      "cell_type": "code",
      "execution_count": null,
      "metadata": {},
      "outputs": [],
      "source": [
        "config_count = {\n",
        "    'x': spatial_data[\"x\"],\n",
        "    'gp_kernel': exp_sq_kernel,\n",
        "    'noise': 1e-2,\n",
        "    'jitter': 1e-2,\n",
        "    'M_lo': jnp.array(spatial_data[\"pol_pts_lo\"]),\n",
        "    'M_hi': jnp.array(spatial_data[\"pol_pts_hi\"]),\n",
        "    'kernel_length': dist.InverseGamma(5, 2),\n",
        "    'kernel_var': dist.LogNormal(-1, 0.05),\n",
        "    'pop_density': pop_density,\n",
        "    'hdi_index': hdi_index,\n",
        "    'urban_frac': urban_frac,\n",
        "    'count': count,\n",
        "    'prior_pred': False,\n",
        "    \"decoder_params\": decoder_params,\n",
        "    \"out_dims\": 6 # [lo + hi]\n",
        "}"
      ]
    },
    {
      "cell_type": "code",
      "execution_count": null,
      "metadata": {},
      "outputs": [
        {
          "name": "stdout",
          "output_type": "stream",
          "text": [
            "\n",
            "                        mean       std    median      5.0%     95.0%     n_eff     r_hat\n",
            "                b0    100.24      9.90    100.09     83.21    115.97    750.00      1.00\n",
            "             b_hdi      0.12      1.00      0.14     -1.66      1.63    286.63      1.01\n",
            "     b_pop_density      0.07      1.01      0.07     -1.53      1.71    390.24      1.00\n",
            "           b_urban      0.11      1.02      0.14     -1.59      1.72    261.76      1.01\n",
            "full_pred_cases[0]   1561.61      8.55   1562.05   1548.64   1575.12    528.91      1.01\n",
            "full_pred_cases[1]    401.71    111.46    401.85    221.37    586.26    153.74      1.01\n",
            "full_pred_cases[2]    281.03    121.40    281.80     94.96    492.20    158.71      1.01\n",
            "full_pred_cases[3]    452.69    111.12    453.59    274.88    638.40    152.26      1.01\n",
            "full_pred_cases[4]    559.50    101.98    560.76    400.04    737.20    151.75      1.01\n",
            "full_pred_cases[5]    522.66    101.76    522.32    360.77    696.49    157.25      1.01\n",
            "             sigma      5.68      2.73      5.20      1.56      9.59    277.75      1.02\n",
            "            sigma1    138.06     70.06    121.29     40.02    238.57    486.15      1.00\n",
            "              z[0]     -0.10      0.99     -0.12     -1.68      1.63    785.52      1.01\n",
            "              z[1]     -0.07      0.98     -0.07     -1.63      1.54    784.87      1.00\n",
            "              z[2]     -0.18      1.03     -0.20     -1.80      1.54    618.12      1.00\n",
            "              z[3]      0.16      1.01      0.17     -1.51      1.74    571.14      1.01\n",
            "              z[4]      0.15      0.99      0.15     -1.65      1.58    786.28      1.01\n",
            "              z[5]      0.13      0.95      0.10     -1.43      1.70    732.41      1.00\n",
            "              z[6]     -0.16      1.01     -0.16     -1.86      1.42    547.25      1.01\n",
            "              z[7]     -0.19      1.02     -0.20     -1.81      1.51    776.62      1.00\n",
            "              z[8]     -0.05      0.96     -0.05     -1.60      1.51    786.17      1.01\n",
            "              z[9]      0.18      1.01      0.16     -1.31      1.95    589.04      1.00\n",
            "             z[10]      0.14      1.00      0.15     -1.60      1.62    711.70      1.00\n",
            "             z[11]     -0.06      0.99     -0.05     -1.55      1.61    661.83      1.01\n",
            "             z[12]      0.21      0.95      0.24     -1.33      1.77    580.35      1.00\n",
            "             z[13]      0.12      0.97      0.14     -1.58      1.63    702.12      1.00\n",
            "             z[14]     -0.15      0.97     -0.16     -1.71      1.40    759.85      1.00\n",
            "             z[15]     -0.18      1.00     -0.17     -1.67      1.62    552.52      1.01\n",
            "             z[16]     -0.15      1.03     -0.12     -1.95      1.49    781.16      1.00\n",
            "             z[17]      0.05      1.05      0.05     -1.51      1.94    655.57      1.01\n",
            "             z[18]     -0.01      0.99      0.01     -1.66      1.53    653.52      1.01\n",
            "             z[19]      0.18      0.99      0.16     -1.57      1.70    801.18      1.00\n",
            "             z[20]     -0.13      0.97     -0.14     -1.70      1.47    804.86      1.00\n",
            "             z[21]     -0.11      0.92     -0.13     -1.65      1.43    807.26      1.01\n",
            "             z[22]     -0.05      0.98     -0.07     -1.61      1.63    998.18      1.00\n",
            "             z[23]      0.21      1.03      0.18     -1.32      2.01    452.11      1.01\n",
            "             z[24]     -0.09      1.00     -0.09     -1.69      1.50    815.28      1.00\n",
            "             z[25]     -0.06      0.98     -0.06     -1.72      1.44    643.53      1.01\n",
            "             z[26]     -0.06      0.98     -0.08     -1.56      1.60    770.36      1.01\n",
            "             z[27]     -0.14      0.98     -0.11     -1.69      1.51    793.74      1.00\n",
            "             z[28]      0.14      0.96      0.15     -1.49      1.72    849.40      1.00\n",
            "             z[29]      0.05      1.01      0.06     -1.49      1.78    597.51      1.01\n",
            "\n",
            "Number of divergences: 785\n",
            "None\n"
          ]
        },
        {
          "data": {
            "text/html": [
              "<div>\n",
              "<style scoped>\n",
              "    .dataframe tbody tr th:only-of-type {\n",
              "        vertical-align: middle;\n",
              "    }\n",
              "\n",
              "    .dataframe tbody tr th {\n",
              "        vertical-align: top;\n",
              "    }\n",
              "\n",
              "    .dataframe thead th {\n",
              "        text-align: right;\n",
              "    }\n",
              "</style>\n",
              "<table border=\"1\" class=\"dataframe\">\n",
              "  <thead>\n",
              "    <tr style=\"text-align: right;\">\n",
              "      <th></th>\n",
              "      <th>mean</th>\n",
              "      <th>sd</th>\n",
              "      <th>hdi_3%</th>\n",
              "      <th>hdi_97%</th>\n",
              "      <th>mcse_mean</th>\n",
              "      <th>mcse_sd</th>\n",
              "      <th>ess_bulk</th>\n",
              "      <th>ess_tail</th>\n",
              "      <th>r_hat</th>\n",
              "    </tr>\n",
              "  </thead>\n",
              "  <tbody>\n",
              "    <tr>\n",
              "      <th>pred_cases_out[0]</th>\n",
              "      <td>1561.608</td>\n",
              "      <td>8.548</td>\n",
              "      <td>1544.568</td>\n",
              "      <td>1577.866</td>\n",
              "      <td>0.370</td>\n",
              "      <td>0.374</td>\n",
              "      <td>598.0</td>\n",
              "      <td>575.0</td>\n",
              "      <td>1.01</td>\n",
              "    </tr>\n",
              "    <tr>\n",
              "      <th>pred_cases_out[1]</th>\n",
              "      <td>401.708</td>\n",
              "      <td>111.463</td>\n",
              "      <td>192.986</td>\n",
              "      <td>604.072</td>\n",
              "      <td>8.790</td>\n",
              "      <td>4.509</td>\n",
              "      <td>162.0</td>\n",
              "      <td>287.0</td>\n",
              "      <td>1.01</td>\n",
              "    </tr>\n",
              "    <tr>\n",
              "      <th>pred_cases_out[2]</th>\n",
              "      <td>281.028</td>\n",
              "      <td>121.398</td>\n",
              "      <td>57.448</td>\n",
              "      <td>507.012</td>\n",
              "      <td>9.375</td>\n",
              "      <td>4.537</td>\n",
              "      <td>167.0</td>\n",
              "      <td>297.0</td>\n",
              "      <td>1.01</td>\n",
              "    </tr>\n",
              "    <tr>\n",
              "      <th>pred_cases_out[3]</th>\n",
              "      <td>452.687</td>\n",
              "      <td>111.125</td>\n",
              "      <td>258.690</td>\n",
              "      <td>666.797</td>\n",
              "      <td>8.801</td>\n",
              "      <td>4.500</td>\n",
              "      <td>160.0</td>\n",
              "      <td>260.0</td>\n",
              "      <td>1.01</td>\n",
              "    </tr>\n",
              "    <tr>\n",
              "      <th>pred_cases_out[4]</th>\n",
              "      <td>559.500</td>\n",
              "      <td>101.984</td>\n",
              "      <td>371.597</td>\n",
              "      <td>747.594</td>\n",
              "      <td>8.109</td>\n",
              "      <td>4.072</td>\n",
              "      <td>160.0</td>\n",
              "      <td>271.0</td>\n",
              "      <td>1.01</td>\n",
              "    </tr>\n",
              "    <tr>\n",
              "      <th>pred_cases_out[5]</th>\n",
              "      <td>522.660</td>\n",
              "      <td>101.760</td>\n",
              "      <td>338.918</td>\n",
              "      <td>715.924</td>\n",
              "      <td>7.952</td>\n",
              "      <td>4.137</td>\n",
              "      <td>164.0</td>\n",
              "      <td>276.0</td>\n",
              "      <td>1.01</td>\n",
              "    </tr>\n",
              "    <tr>\n",
              "      <th>lp[0]</th>\n",
              "      <td>1561.816</td>\n",
              "      <td>6.121</td>\n",
              "      <td>1550.059</td>\n",
              "      <td>1573.676</td>\n",
              "      <td>0.190</td>\n",
              "      <td>0.198</td>\n",
              "      <td>1136.0</td>\n",
              "      <td>1144.0</td>\n",
              "      <td>1.01</td>\n",
              "    </tr>\n",
              "    <tr>\n",
              "      <th>lp[1]</th>\n",
              "      <td>401.773</td>\n",
              "      <td>111.323</td>\n",
              "      <td>192.326</td>\n",
              "      <td>601.550</td>\n",
              "      <td>8.783</td>\n",
              "      <td>4.514</td>\n",
              "      <td>162.0</td>\n",
              "      <td>278.0</td>\n",
              "      <td>1.01</td>\n",
              "    </tr>\n",
              "    <tr>\n",
              "      <th>lp[2]</th>\n",
              "      <td>280.964</td>\n",
              "      <td>121.179</td>\n",
              "      <td>58.716</td>\n",
              "      <td>508.813</td>\n",
              "      <td>9.366</td>\n",
              "      <td>4.536</td>\n",
              "      <td>168.0</td>\n",
              "      <td>304.0</td>\n",
              "      <td>1.01</td>\n",
              "    </tr>\n",
              "    <tr>\n",
              "      <th>lp[3]</th>\n",
              "      <td>452.630</td>\n",
              "      <td>110.831</td>\n",
              "      <td>256.236</td>\n",
              "      <td>663.117</td>\n",
              "      <td>8.780</td>\n",
              "      <td>4.476</td>\n",
              "      <td>161.0</td>\n",
              "      <td>268.0</td>\n",
              "      <td>1.01</td>\n",
              "    </tr>\n",
              "    <tr>\n",
              "      <th>lp[4]</th>\n",
              "      <td>559.357</td>\n",
              "      <td>101.889</td>\n",
              "      <td>367.209</td>\n",
              "      <td>743.183</td>\n",
              "      <td>8.114</td>\n",
              "      <td>4.094</td>\n",
              "      <td>159.0</td>\n",
              "      <td>274.0</td>\n",
              "      <td>1.01</td>\n",
              "    </tr>\n",
              "    <tr>\n",
              "      <th>lp[5]</th>\n",
              "      <td>522.705</td>\n",
              "      <td>101.578</td>\n",
              "      <td>339.450</td>\n",
              "      <td>718.005</td>\n",
              "      <td>7.948</td>\n",
              "      <td>4.154</td>\n",
              "      <td>163.0</td>\n",
              "      <td>262.0</td>\n",
              "      <td>1.01</td>\n",
              "    </tr>\n",
              "    <tr>\n",
              "      <th>b0</th>\n",
              "      <td>100.243</td>\n",
              "      <td>9.897</td>\n",
              "      <td>81.623</td>\n",
              "      <td>118.522</td>\n",
              "      <td>0.360</td>\n",
              "      <td>0.255</td>\n",
              "      <td>769.0</td>\n",
              "      <td>1463.0</td>\n",
              "      <td>1.00</td>\n",
              "    </tr>\n",
              "    <tr>\n",
              "      <th>b_pop_density</th>\n",
              "      <td>0.071</td>\n",
              "      <td>1.010</td>\n",
              "      <td>-1.595</td>\n",
              "      <td>2.100</td>\n",
              "      <td>0.050</td>\n",
              "      <td>0.023</td>\n",
              "      <td>409.0</td>\n",
              "      <td>856.0</td>\n",
              "      <td>1.01</td>\n",
              "    </tr>\n",
              "    <tr>\n",
              "      <th>b_hdi</th>\n",
              "      <td>0.122</td>\n",
              "      <td>0.995</td>\n",
              "      <td>-1.741</td>\n",
              "      <td>1.978</td>\n",
              "      <td>0.057</td>\n",
              "      <td>0.028</td>\n",
              "      <td>298.0</td>\n",
              "      <td>696.0</td>\n",
              "      <td>1.01</td>\n",
              "    </tr>\n",
              "    <tr>\n",
              "      <th>b_urban</th>\n",
              "      <td>0.112</td>\n",
              "      <td>1.021</td>\n",
              "      <td>-1.771</td>\n",
              "      <td>1.983</td>\n",
              "      <td>0.061</td>\n",
              "      <td>0.025</td>\n",
              "      <td>279.0</td>\n",
              "      <td>693.0</td>\n",
              "      <td>1.01</td>\n",
              "    </tr>\n",
              "    <tr>\n",
              "      <th>vae[0]</th>\n",
              "      <td>1432.389</td>\n",
              "      <td>172.688</td>\n",
              "      <td>1133.312</td>\n",
              "      <td>1767.303</td>\n",
              "      <td>8.327</td>\n",
              "      <td>4.047</td>\n",
              "      <td>431.0</td>\n",
              "      <td>939.0</td>\n",
              "      <td>1.00</td>\n",
              "    </tr>\n",
              "    <tr>\n",
              "      <th>vae[1]</th>\n",
              "      <td>280.696</td>\n",
              "      <td>43.569</td>\n",
              "      <td>205.614</td>\n",
              "      <td>360.602</td>\n",
              "      <td>1.793</td>\n",
              "      <td>1.837</td>\n",
              "      <td>606.0</td>\n",
              "      <td>894.0</td>\n",
              "      <td>1.00</td>\n",
              "    </tr>\n",
              "    <tr>\n",
              "      <th>vae[2]</th>\n",
              "      <td>158.961</td>\n",
              "      <td>35.223</td>\n",
              "      <td>99.428</td>\n",
              "      <td>223.643</td>\n",
              "      <td>1.420</td>\n",
              "      <td>1.854</td>\n",
              "      <td>663.0</td>\n",
              "      <td>885.0</td>\n",
              "      <td>1.00</td>\n",
              "    </tr>\n",
              "    <tr>\n",
              "      <th>vae[3]</th>\n",
              "      <td>330.956</td>\n",
              "      <td>46.555</td>\n",
              "      <td>248.255</td>\n",
              "      <td>413.448</td>\n",
              "      <td>1.943</td>\n",
              "      <td>1.607</td>\n",
              "      <td>580.0</td>\n",
              "      <td>892.0</td>\n",
              "      <td>1.00</td>\n",
              "    </tr>\n",
              "    <tr>\n",
              "      <th>vae[4]</th>\n",
              "      <td>438.389</td>\n",
              "      <td>58.532</td>\n",
              "      <td>331.271</td>\n",
              "      <td>539.791</td>\n",
              "      <td>2.463</td>\n",
              "      <td>1.780</td>\n",
              "      <td>568.0</td>\n",
              "      <td>970.0</td>\n",
              "      <td>1.00</td>\n",
              "    </tr>\n",
              "    <tr>\n",
              "      <th>vae[5]</th>\n",
              "      <td>402.999</td>\n",
              "      <td>62.536</td>\n",
              "      <td>295.294</td>\n",
              "      <td>518.080</td>\n",
              "      <td>2.504</td>\n",
              "      <td>2.453</td>\n",
              "      <td>638.0</td>\n",
              "      <td>1047.0</td>\n",
              "      <td>1.00</td>\n",
              "    </tr>\n",
              "  </tbody>\n",
              "</table>\n",
              "</div>"
            ],
            "text/plain": [
              "                       mean       sd    hdi_3%   hdi_97%  mcse_mean  mcse_sd  \\\n",
              "pred_cases_out[0]  1561.608    8.548  1544.568  1577.866      0.370    0.374   \n",
              "pred_cases_out[1]   401.708  111.463   192.986   604.072      8.790    4.509   \n",
              "pred_cases_out[2]   281.028  121.398    57.448   507.012      9.375    4.537   \n",
              "pred_cases_out[3]   452.687  111.125   258.690   666.797      8.801    4.500   \n",
              "pred_cases_out[4]   559.500  101.984   371.597   747.594      8.109    4.072   \n",
              "pred_cases_out[5]   522.660  101.760   338.918   715.924      7.952    4.137   \n",
              "lp[0]              1561.816    6.121  1550.059  1573.676      0.190    0.198   \n",
              "lp[1]               401.773  111.323   192.326   601.550      8.783    4.514   \n",
              "lp[2]               280.964  121.179    58.716   508.813      9.366    4.536   \n",
              "lp[3]               452.630  110.831   256.236   663.117      8.780    4.476   \n",
              "lp[4]               559.357  101.889   367.209   743.183      8.114    4.094   \n",
              "lp[5]               522.705  101.578   339.450   718.005      7.948    4.154   \n",
              "b0                  100.243    9.897    81.623   118.522      0.360    0.255   \n",
              "b_pop_density         0.071    1.010    -1.595     2.100      0.050    0.023   \n",
              "b_hdi                 0.122    0.995    -1.741     1.978      0.057    0.028   \n",
              "b_urban               0.112    1.021    -1.771     1.983      0.061    0.025   \n",
              "vae[0]             1432.389  172.688  1133.312  1767.303      8.327    4.047   \n",
              "vae[1]              280.696   43.569   205.614   360.602      1.793    1.837   \n",
              "vae[2]              158.961   35.223    99.428   223.643      1.420    1.854   \n",
              "vae[3]              330.956   46.555   248.255   413.448      1.943    1.607   \n",
              "vae[4]              438.389   58.532   331.271   539.791      2.463    1.780   \n",
              "vae[5]              402.999   62.536   295.294   518.080      2.504    2.453   \n",
              "\n",
              "                   ess_bulk  ess_tail  r_hat  \n",
              "pred_cases_out[0]     598.0     575.0   1.01  \n",
              "pred_cases_out[1]     162.0     287.0   1.01  \n",
              "pred_cases_out[2]     167.0     297.0   1.01  \n",
              "pred_cases_out[3]     160.0     260.0   1.01  \n",
              "pred_cases_out[4]     160.0     271.0   1.01  \n",
              "pred_cases_out[5]     164.0     276.0   1.01  \n",
              "lp[0]                1136.0    1144.0   1.01  \n",
              "lp[1]                 162.0     278.0   1.01  \n",
              "lp[2]                 168.0     304.0   1.01  \n",
              "lp[3]                 161.0     268.0   1.01  \n",
              "lp[4]                 159.0     274.0   1.01  \n",
              "lp[5]                 163.0     262.0   1.01  \n",
              "b0                    769.0    1463.0   1.00  \n",
              "b_pop_density         409.0     856.0   1.01  \n",
              "b_hdi                 298.0     696.0   1.01  \n",
              "b_urban               279.0     693.0   1.01  \n",
              "vae[0]                431.0     939.0   1.00  \n",
              "vae[1]                606.0     894.0   1.00  \n",
              "vae[2]                663.0     885.0   1.00  \n",
              "vae[3]                580.0     892.0   1.00  \n",
              "vae[4]                568.0     970.0   1.00  \n",
              "vae[5]                638.0    1047.0   1.00  "
            ]
          },
          "metadata": {},
          "output_type": "display_data"
        }
      ],
      "source": [
        "# creating  posterior predictive\n",
        "rng_key_pr, rng_key_po = random.split(random.PRNGKey(4))\n",
        "posterior_samples = mcmc_6.get_samples()\n",
        "posterior_predictive = Predictive(model, posterior_samples)(\n",
        "    rng_key_po, config_count\n",
        ")\n",
        "\n",
        "# transform posterior predictive to arviz inference objects\n",
        "Total_districts = df_lo.shape[0] + df_hi.shape[0]\n",
        "numpyro_data = az.from_numpyro(\n",
        "    mcmc_6,\n",
        "    posterior_predictive=posterior_predictive,\n",
        "    coords={\"district\": np.arange(Total_districts)},\n",
        "    dims={\"lp\": [\"district\"]},)\n",
        "\n",
        "# %%\n",
        "print(mcmc_6.print_summary())\n",
        "az.summary(numpyro_data, var_names = [\"pred_cases_out\", \"lp\", \"b0\", \"b_pop_density\", \"b_hdi\", \"b_urban\", \"vae\"])"
      ]
    },
    {
      "cell_type": "code",
      "execution_count": null,
      "metadata": {},
      "outputs": [
        {
          "name": "stdout",
          "output_type": "stream",
          "text": [
            "Average ESS for all aggVAE effects : 472\n",
            "Average ESS for all aggVAE-low effects : 476\n",
            "Max r_hat for all aggVAE-low : 1.0\n",
            "Average ESS for all aggVAE-high effects : 472\n",
            "Max r_hat for all aggVAE-high : 1.0\n"
          ]
        }
      ],
      "source": [
        "#check ESS and rhat\n",
        "ss = numpyro.diagnostics.summary(mcmc_6.get_samples(group_by_chain=True))\n",
        "r = np.mean(ss['vae_aggr']['n_eff'])\n",
        "print(\"Average ESS for all aggVAE effects : \" + str(round(r)))\n",
        "\n",
        "ess_lo = np.mean(ss[\"vae_aggr\"][\"n_eff\"][0:1])\n",
        "r_hat_lo = np.max(ss[\"vae_aggr\"][\"r_hat\"][0:1])\n",
        "\n",
        "ess_hi = np.mean(ss[\"vae_aggr\"][\"n_eff\"][1:6])\n",
        "r_hat_hi = np.max(ss[\"vae_aggr\"][\"r_hat\"][1 : 6])\n",
        "\n",
        "print(f\"Average ESS for all aggVAE-low effects : {round(ess_lo)}\")\n",
        "print(f\"Max r_hat for all aggVAE-low : {round(r_hat_lo,2)}\")\n",
        "\n",
        "print(f\"Average ESS for all aggVAE-high effects : {round(ess_hi)}\")\n",
        "print(f\"Max r_hat for all aggVAE-high : {round(r_hat_hi,2)}\")"
      ]
    },
    {
      "cell_type": "markdown",
      "metadata": {},
      "source": [
        "## Determine the best target_accept_prob, setting tree depth = 20, on 2023 dataset"
      ]
    },
    {
      "cell_type": "markdown",
      "metadata": {},
      "source": [
        "### MCMC 1 (z = 40, n = 1000 Inference, target accept prob = 0.85, tree depth 15) - 2023, batch size 5"
      ]
    },
    {
      "cell_type": "code",
      "execution_count": null,
      "metadata": {},
      "outputs": [
        {
          "name": "stdout",
          "output_type": "stream",
          "text": [
            "\n",
            "                        mean       std    median      5.0%     95.0%     n_eff     r_hat\n",
            "                b0    100.01      9.70     99.87     84.51    115.72   3609.96      1.00\n",
            "             b_hdi      0.08      1.02      0.08     -1.58      1.75   1460.67      1.00\n",
            "     b_pop_density      0.08      1.02      0.08     -1.55      1.75   2591.65      1.00\n",
            "           b_urban      0.05      1.01      0.03     -1.55      1.75   1555.27      1.00\n",
            "full_pred_cases[0]   1562.00      8.06   1562.00   1548.86   1575.06   2861.36      1.00\n",
            "full_pred_cases[1]    328.06    136.39    328.80     97.27    551.71    640.25      1.01\n",
            "full_pred_cases[2]    192.13    138.94    190.00    -11.34    375.45    722.12      1.00\n",
            "full_pred_cases[3]    387.86    141.02    392.14    158.52    619.72    653.50      1.01\n",
            "full_pred_cases[4]    503.53    139.13    506.97    271.81    717.27    598.49      1.01\n",
            "full_pred_cases[5]    473.46    137.01    463.61    262.52    679.28    593.84      1.00\n",
            "             sigma      5.02      2.88      4.58      0.78      9.46    297.12      1.02\n",
            "            sigma1     80.28     70.42     56.93      7.54    181.67    659.10      1.01\n",
            "              z[0]     -0.04      0.99     -0.03     -1.69      1.56   4075.50      1.00\n",
            "              z[1]     -0.08      0.97     -0.07     -1.72      1.48   3219.87      1.00\n",
            "              z[2]     -0.06      1.03     -0.08     -1.72      1.66   2972.52      1.00\n",
            "              z[3]      0.08      1.04      0.06     -1.51      1.91   2627.51      1.00\n",
            "              z[4]     -0.08      1.05     -0.09     -1.83      1.60   2562.01      1.00\n",
            "              z[5]      0.05      0.97      0.06     -1.47      1.67   2783.57      1.00\n",
            "              z[6]      0.09      1.00      0.10     -1.53      1.72   3247.77      1.00\n",
            "              z[7]     -0.09      1.04     -0.08     -1.78      1.59   2886.88      1.00\n",
            "              z[8]     -0.08      1.00     -0.08     -1.71      1.56   3517.76      1.00\n",
            "              z[9]     -0.02      0.99     -0.05     -1.58      1.61   2964.98      1.00\n",
            "             z[10]      0.08      1.00      0.07     -1.58      1.71   3306.84      1.00\n",
            "             z[11]     -0.12      1.01     -0.13     -1.80      1.53   2350.42      1.00\n",
            "             z[12]      0.03      0.99      0.02     -1.51      1.67   2764.36      1.00\n",
            "             z[13]      0.03      1.01      0.04     -1.64      1.65   2898.96      1.00\n",
            "             z[14]     -0.09      0.97     -0.07     -1.67      1.51   2830.61      1.00\n",
            "             z[15]     -0.11      1.01     -0.10     -1.80      1.50   2957.16      1.00\n",
            "             z[16]     -0.06      0.99     -0.05     -1.75      1.49   3296.19      1.00\n",
            "             z[17]      0.10      1.01      0.09     -1.54      1.77   2841.57      1.00\n",
            "             z[18]      0.04      1.00      0.04     -1.58      1.71   2953.77      1.00\n",
            "             z[19]      0.10      0.97      0.06     -1.41      1.78   2915.54      1.00\n",
            "             z[20]     -0.09      1.02     -0.11     -1.78      1.51   2236.98      1.00\n",
            "             z[21]      0.01      0.99     -0.02     -1.60      1.68   3113.94      1.00\n",
            "             z[22]     -0.14      0.97     -0.15     -1.70      1.51   2697.33      1.00\n",
            "             z[23]     -0.06      0.95     -0.05     -1.71      1.42   3649.30      1.00\n",
            "             z[24]     -0.06      1.02     -0.07     -1.61      1.71   2994.20      1.00\n",
            "             z[25]     -0.08      0.96     -0.06     -1.81      1.36   3281.25      1.00\n",
            "             z[26]     -0.06      0.99     -0.05     -1.61      1.67   3385.64      1.00\n",
            "             z[27]     -0.06      1.05     -0.07     -1.65      1.72   2961.76      1.00\n",
            "             z[28]      0.08      0.97      0.07     -1.48      1.71   3296.90      1.00\n",
            "             z[29]      0.08      0.97      0.07     -1.44      1.71   2766.80      1.00\n",
            "             z[30]      0.05      0.99      0.05     -1.64      1.62   3134.78      1.00\n",
            "             z[31]      0.05      0.96      0.08     -1.55      1.57   2234.38      1.00\n",
            "             z[32]      0.09      1.02      0.09     -1.67      1.73   2694.87      1.00\n",
            "             z[33]      0.08      0.95      0.06     -1.45      1.65   2698.99      1.00\n",
            "             z[34]     -0.09      0.99     -0.13     -1.72      1.55   2814.84      1.00\n",
            "             z[35]      0.09      0.96      0.08     -1.51      1.65   3309.35      1.00\n",
            "             z[36]      0.06      1.00      0.06     -1.67      1.62   3124.36      1.00\n",
            "             z[37]     -0.09      1.00     -0.12     -1.78      1.49   2395.33      1.00\n",
            "             z[38]      0.04      0.99      0.04     -1.56      1.65   3023.26      1.00\n",
            "             z[39]      0.09      0.96      0.08     -1.45      1.72   2893.86      1.00\n",
            "\n",
            "Number of divergences: 891\n",
            "None\n"
          ]
        },
        {
          "data": {
            "text/html": [
              "<div>\n",
              "<style scoped>\n",
              "    .dataframe tbody tr th:only-of-type {\n",
              "        vertical-align: middle;\n",
              "    }\n",
              "\n",
              "    .dataframe tbody tr th {\n",
              "        vertical-align: top;\n",
              "    }\n",
              "\n",
              "    .dataframe thead th {\n",
              "        text-align: right;\n",
              "    }\n",
              "</style>\n",
              "<table border=\"1\" class=\"dataframe\">\n",
              "  <thead>\n",
              "    <tr style=\"text-align: right;\">\n",
              "      <th></th>\n",
              "      <th>mean</th>\n",
              "      <th>sd</th>\n",
              "      <th>hdi_3%</th>\n",
              "      <th>hdi_97%</th>\n",
              "      <th>mcse_mean</th>\n",
              "      <th>mcse_sd</th>\n",
              "      <th>ess_bulk</th>\n",
              "      <th>ess_tail</th>\n",
              "      <th>r_hat</th>\n",
              "    </tr>\n",
              "  </thead>\n",
              "  <tbody>\n",
              "    <tr>\n",
              "      <th>pred_cases_out[0]</th>\n",
              "      <td>1561.999</td>\n",
              "      <td>8.059</td>\n",
              "      <td>1546.667</td>\n",
              "      <td>1578.896</td>\n",
              "      <td>0.152</td>\n",
              "      <td>0.298</td>\n",
              "      <td>3172.0</td>\n",
              "      <td>1583.0</td>\n",
              "      <td>1.02</td>\n",
              "    </tr>\n",
              "    <tr>\n",
              "      <th>pred_cases_out[1]</th>\n",
              "      <td>328.063</td>\n",
              "      <td>136.390</td>\n",
              "      <td>85.323</td>\n",
              "      <td>629.426</td>\n",
              "      <td>5.378</td>\n",
              "      <td>3.757</td>\n",
              "      <td>649.0</td>\n",
              "      <td>628.0</td>\n",
              "      <td>1.00</td>\n",
              "    </tr>\n",
              "    <tr>\n",
              "      <th>pred_cases_out[2]</th>\n",
              "      <td>192.125</td>\n",
              "      <td>138.936</td>\n",
              "      <td>-16.369</td>\n",
              "      <td>409.060</td>\n",
              "      <td>5.165</td>\n",
              "      <td>2.994</td>\n",
              "      <td>727.0</td>\n",
              "      <td>931.0</td>\n",
              "      <td>1.00</td>\n",
              "    </tr>\n",
              "    <tr>\n",
              "      <th>pred_cases_out[3]</th>\n",
              "      <td>387.857</td>\n",
              "      <td>141.025</td>\n",
              "      <td>127.517</td>\n",
              "      <td>675.265</td>\n",
              "      <td>5.512</td>\n",
              "      <td>3.774</td>\n",
              "      <td>662.0</td>\n",
              "      <td>761.0</td>\n",
              "      <td>1.01</td>\n",
              "    </tr>\n",
              "    <tr>\n",
              "      <th>pred_cases_out[4]</th>\n",
              "      <td>503.530</td>\n",
              "      <td>139.129</td>\n",
              "      <td>240.873</td>\n",
              "      <td>782.733</td>\n",
              "      <td>5.667</td>\n",
              "      <td>4.715</td>\n",
              "      <td>627.0</td>\n",
              "      <td>638.0</td>\n",
              "      <td>1.01</td>\n",
              "    </tr>\n",
              "    <tr>\n",
              "      <th>pred_cases_out[5]</th>\n",
              "      <td>473.460</td>\n",
              "      <td>137.011</td>\n",
              "      <td>226.650</td>\n",
              "      <td>732.950</td>\n",
              "      <td>5.599</td>\n",
              "      <td>7.737</td>\n",
              "      <td>729.0</td>\n",
              "      <td>568.0</td>\n",
              "      <td>1.00</td>\n",
              "    </tr>\n",
              "    <tr>\n",
              "      <th>lp[0]</th>\n",
              "      <td>1562.085</td>\n",
              "      <td>5.905</td>\n",
              "      <td>1550.519</td>\n",
              "      <td>1574.146</td>\n",
              "      <td>0.106</td>\n",
              "      <td>0.203</td>\n",
              "      <td>3418.0</td>\n",
              "      <td>1817.0</td>\n",
              "      <td>1.01</td>\n",
              "    </tr>\n",
              "    <tr>\n",
              "      <th>lp[1]</th>\n",
              "      <td>328.052</td>\n",
              "      <td>136.223</td>\n",
              "      <td>0.000</td>\n",
              "      <td>540.643</td>\n",
              "      <td>5.376</td>\n",
              "      <td>3.764</td>\n",
              "      <td>646.0</td>\n",
              "      <td>609.0</td>\n",
              "      <td>1.00</td>\n",
              "    </tr>\n",
              "    <tr>\n",
              "      <th>lp[2]</th>\n",
              "      <td>192.125</td>\n",
              "      <td>138.902</td>\n",
              "      <td>0.000</td>\n",
              "      <td>409.759</td>\n",
              "      <td>5.159</td>\n",
              "      <td>2.983</td>\n",
              "      <td>691.0</td>\n",
              "      <td>970.0</td>\n",
              "      <td>1.01</td>\n",
              "    </tr>\n",
              "    <tr>\n",
              "      <th>lp[3]</th>\n",
              "      <td>387.998</td>\n",
              "      <td>140.696</td>\n",
              "      <td>126.688</td>\n",
              "      <td>671.645</td>\n",
              "      <td>5.504</td>\n",
              "      <td>3.784</td>\n",
              "      <td>661.0</td>\n",
              "      <td>664.0</td>\n",
              "      <td>1.01</td>\n",
              "    </tr>\n",
              "    <tr>\n",
              "      <th>lp[4]</th>\n",
              "      <td>503.564</td>\n",
              "      <td>138.952</td>\n",
              "      <td>247.932</td>\n",
              "      <td>789.307</td>\n",
              "      <td>5.646</td>\n",
              "      <td>4.691</td>\n",
              "      <td>630.0</td>\n",
              "      <td>633.0</td>\n",
              "      <td>1.01</td>\n",
              "    </tr>\n",
              "    <tr>\n",
              "      <th>lp[5]</th>\n",
              "      <td>473.315</td>\n",
              "      <td>136.975</td>\n",
              "      <td>199.674</td>\n",
              "      <td>707.571</td>\n",
              "      <td>5.615</td>\n",
              "      <td>7.743</td>\n",
              "      <td>724.0</td>\n",
              "      <td>564.0</td>\n",
              "      <td>1.00</td>\n",
              "    </tr>\n",
              "    <tr>\n",
              "      <th>b0</th>\n",
              "      <td>100.009</td>\n",
              "      <td>9.698</td>\n",
              "      <td>81.193</td>\n",
              "      <td>116.986</td>\n",
              "      <td>0.161</td>\n",
              "      <td>0.165</td>\n",
              "      <td>3614.0</td>\n",
              "      <td>2480.0</td>\n",
              "      <td>1.00</td>\n",
              "    </tr>\n",
              "    <tr>\n",
              "      <th>b_pop_density</th>\n",
              "      <td>0.078</td>\n",
              "      <td>1.019</td>\n",
              "      <td>-1.770</td>\n",
              "      <td>2.067</td>\n",
              "      <td>0.020</td>\n",
              "      <td>0.020</td>\n",
              "      <td>2642.0</td>\n",
              "      <td>1937.0</td>\n",
              "      <td>1.00</td>\n",
              "    </tr>\n",
              "    <tr>\n",
              "      <th>b_hdi</th>\n",
              "      <td>0.078</td>\n",
              "      <td>1.017</td>\n",
              "      <td>-1.742</td>\n",
              "      <td>2.064</td>\n",
              "      <td>0.026</td>\n",
              "      <td>0.018</td>\n",
              "      <td>1475.0</td>\n",
              "      <td>1932.0</td>\n",
              "      <td>1.00</td>\n",
              "    </tr>\n",
              "    <tr>\n",
              "      <th>b_urban</th>\n",
              "      <td>0.047</td>\n",
              "      <td>1.012</td>\n",
              "      <td>-1.868</td>\n",
              "      <td>1.936</td>\n",
              "      <td>0.026</td>\n",
              "      <td>0.019</td>\n",
              "      <td>1594.0</td>\n",
              "      <td>2188.0</td>\n",
              "      <td>1.00</td>\n",
              "    </tr>\n",
              "    <tr>\n",
              "      <th>vae[0]</th>\n",
              "      <td>1441.770</td>\n",
              "      <td>176.293</td>\n",
              "      <td>1115.489</td>\n",
              "      <td>1775.341</td>\n",
              "      <td>4.119</td>\n",
              "      <td>3.507</td>\n",
              "      <td>1866.0</td>\n",
              "      <td>1709.0</td>\n",
              "      <td>1.00</td>\n",
              "    </tr>\n",
              "    <tr>\n",
              "      <th>vae[1]</th>\n",
              "      <td>215.863</td>\n",
              "      <td>85.030</td>\n",
              "      <td>59.429</td>\n",
              "      <td>394.699</td>\n",
              "      <td>2.927</td>\n",
              "      <td>3.411</td>\n",
              "      <td>1017.0</td>\n",
              "      <td>1122.0</td>\n",
              "      <td>1.01</td>\n",
              "    </tr>\n",
              "    <tr>\n",
              "      <th>vae[2]</th>\n",
              "      <td>64.080</td>\n",
              "      <td>118.122</td>\n",
              "      <td>-169.982</td>\n",
              "      <td>274.205</td>\n",
              "      <td>4.470</td>\n",
              "      <td>5.392</td>\n",
              "      <td>885.0</td>\n",
              "      <td>888.0</td>\n",
              "      <td>1.01</td>\n",
              "    </tr>\n",
              "    <tr>\n",
              "      <th>vae[3]</th>\n",
              "      <td>275.801</td>\n",
              "      <td>95.613</td>\n",
              "      <td>59.828</td>\n",
              "      <td>437.551</td>\n",
              "      <td>3.033</td>\n",
              "      <td>3.480</td>\n",
              "      <td>1189.0</td>\n",
              "      <td>1030.0</td>\n",
              "      <td>1.00</td>\n",
              "    </tr>\n",
              "    <tr>\n",
              "      <th>vae[4]</th>\n",
              "      <td>392.359</td>\n",
              "      <td>106.807</td>\n",
              "      <td>190.780</td>\n",
              "      <td>604.434</td>\n",
              "      <td>3.314</td>\n",
              "      <td>3.909</td>\n",
              "      <td>1203.0</td>\n",
              "      <td>1207.0</td>\n",
              "      <td>1.00</td>\n",
              "    </tr>\n",
              "    <tr>\n",
              "      <th>vae[5]</th>\n",
              "      <td>362.974</td>\n",
              "      <td>103.774</td>\n",
              "      <td>196.551</td>\n",
              "      <td>567.939</td>\n",
              "      <td>3.827</td>\n",
              "      <td>8.025</td>\n",
              "      <td>1251.0</td>\n",
              "      <td>794.0</td>\n",
              "      <td>1.01</td>\n",
              "    </tr>\n",
              "  </tbody>\n",
              "</table>\n",
              "</div>"
            ],
            "text/plain": [
              "                       mean       sd    hdi_3%   hdi_97%  mcse_mean  mcse_sd  \\\n",
              "pred_cases_out[0]  1561.999    8.059  1546.667  1578.896      0.152    0.298   \n",
              "pred_cases_out[1]   328.063  136.390    85.323   629.426      5.378    3.757   \n",
              "pred_cases_out[2]   192.125  138.936   -16.369   409.060      5.165    2.994   \n",
              "pred_cases_out[3]   387.857  141.025   127.517   675.265      5.512    3.774   \n",
              "pred_cases_out[4]   503.530  139.129   240.873   782.733      5.667    4.715   \n",
              "pred_cases_out[5]   473.460  137.011   226.650   732.950      5.599    7.737   \n",
              "lp[0]              1562.085    5.905  1550.519  1574.146      0.106    0.203   \n",
              "lp[1]               328.052  136.223     0.000   540.643      5.376    3.764   \n",
              "lp[2]               192.125  138.902     0.000   409.759      5.159    2.983   \n",
              "lp[3]               387.998  140.696   126.688   671.645      5.504    3.784   \n",
              "lp[4]               503.564  138.952   247.932   789.307      5.646    4.691   \n",
              "lp[5]               473.315  136.975   199.674   707.571      5.615    7.743   \n",
              "b0                  100.009    9.698    81.193   116.986      0.161    0.165   \n",
              "b_pop_density         0.078    1.019    -1.770     2.067      0.020    0.020   \n",
              "b_hdi                 0.078    1.017    -1.742     2.064      0.026    0.018   \n",
              "b_urban               0.047    1.012    -1.868     1.936      0.026    0.019   \n",
              "vae[0]             1441.770  176.293  1115.489  1775.341      4.119    3.507   \n",
              "vae[1]              215.863   85.030    59.429   394.699      2.927    3.411   \n",
              "vae[2]               64.080  118.122  -169.982   274.205      4.470    5.392   \n",
              "vae[3]              275.801   95.613    59.828   437.551      3.033    3.480   \n",
              "vae[4]              392.359  106.807   190.780   604.434      3.314    3.909   \n",
              "vae[5]              362.974  103.774   196.551   567.939      3.827    8.025   \n",
              "\n",
              "                   ess_bulk  ess_tail  r_hat  \n",
              "pred_cases_out[0]    3172.0    1583.0   1.02  \n",
              "pred_cases_out[1]     649.0     628.0   1.00  \n",
              "pred_cases_out[2]     727.0     931.0   1.00  \n",
              "pred_cases_out[3]     662.0     761.0   1.01  \n",
              "pred_cases_out[4]     627.0     638.0   1.01  \n",
              "pred_cases_out[5]     729.0     568.0   1.00  \n",
              "lp[0]                3418.0    1817.0   1.01  \n",
              "lp[1]                 646.0     609.0   1.00  \n",
              "lp[2]                 691.0     970.0   1.01  \n",
              "lp[3]                 661.0     664.0   1.01  \n",
              "lp[4]                 630.0     633.0   1.01  \n",
              "lp[5]                 724.0     564.0   1.00  \n",
              "b0                   3614.0    2480.0   1.00  \n",
              "b_pop_density        2642.0    1937.0   1.00  \n",
              "b_hdi                1475.0    1932.0   1.00  \n",
              "b_urban              1594.0    2188.0   1.00  \n",
              "vae[0]               1866.0    1709.0   1.00  \n",
              "vae[1]               1017.0    1122.0   1.01  \n",
              "vae[2]                885.0     888.0   1.01  \n",
              "vae[3]               1189.0    1030.0   1.00  \n",
              "vae[4]               1203.0    1207.0   1.00  \n",
              "vae[5]               1251.0     794.0   1.01  "
            ]
          },
          "execution_count": 179,
          "metadata": {},
          "output_type": "execute_result"
        }
      ],
      "source": [
        "# creating  posterior predictive\n",
        "rng_key_pr, rng_key_po = random.split(random.PRNGKey(4))\n",
        "posterior_samples = mcmc_1.get_samples()\n",
        "posterior_predictive = Predictive(model, posterior_samples)(\n",
        "    rng_key_po, config_count\n",
        ")\n",
        "\n",
        "# transform posterior predictive to arviz inference objects\n",
        "Total_districts = df_lo.shape[0] + df_hi.shape[0]\n",
        "numpyro_data = az.from_numpyro(\n",
        "    mcmc_1,\n",
        "    posterior_predictive=posterior_predictive,\n",
        "    coords={\"district\": np.arange(Total_districts)},\n",
        "    dims={\"lp\": [\"district\"]},)\n",
        "\n",
        "# %%\n",
        "print(mcmc_1.print_summary())\n",
        "az.summary(numpyro_data, var_names = [\"pred_cases_out\", \"lp\", \"b0\", \"b_pop_density\", \"b_hdi\", \"b_urban\", \"vae\"])"
      ]
    },
    {
      "cell_type": "code",
      "execution_count": null,
      "metadata": {},
      "outputs": [
        {
          "name": "stdout",
          "output_type": "stream",
          "text": [
            "Average ESS for all aggVAE effects : 805\n",
            "Average ESS for all aggVAE-low effects : 819\n",
            "Max r_hat for all aggVAE-low : 1.0099999904632568\n",
            "Average ESS for all aggVAE-high effects : 802\n",
            "Max r_hat for all aggVAE-high : 1.0099999904632568\n"
          ]
        }
      ],
      "source": [
        "#check ESS and rhat\n",
        "ss = numpyro.diagnostics.summary(mcmc_1.get_samples(group_by_chain=True))\n",
        "r = np.mean(ss['vae_aggr']['n_eff'])\n",
        "print(\"Average ESS for all aggVAE effects : \" + str(round(r)))\n",
        "\n",
        "ess_lo = np.mean(ss[\"vae_aggr\"][\"n_eff\"][0:1])\n",
        "r_hat_lo = np.max(ss[\"vae_aggr\"][\"r_hat\"][0:1])\n",
        "\n",
        "ess_hi = np.mean(ss[\"vae_aggr\"][\"n_eff\"][1:6])\n",
        "r_hat_hi = np.max(ss[\"vae_aggr\"][\"r_hat\"][1 : 6])\n",
        "\n",
        "print(f\"Average ESS for all aggVAE-low effects : {round(ess_lo)}\")\n",
        "print(f\"Max r_hat for all aggVAE-low : {round(r_hat_lo,2)}\")\n",
        "\n",
        "print(f\"Average ESS for all aggVAE-high effects : {round(ess_hi)}\")\n",
        "print(f\"Max r_hat for all aggVAE-high : {round(r_hat_hi,2)}\")"
      ]
    },
    {
      "cell_type": "code",
      "execution_count": 181,
      "metadata": {},
      "outputs": [],
      "source": [
        "mean_pred_cases = numpyro_data.posterior.pred_cases_out.values.mean(axis=(0, 1))\n",
        "df_hi['pred_cases_num'] = mean_pred_cases[df_lo.shape[0]:]\n",
        "df_lo['pred_cases'] = mean_pred_cases[:df_lo.shape[0]] / df_lo.Population\n",
        "df_hi['pred_cases'] = mean_pred_cases[df_lo.shape[0]:] / df_hi.Population"
      ]
    },
    {
      "cell_type": "code",
      "execution_count": null,
      "metadata": {},
      "outputs": [
        {
          "name": "stdout",
          "output_type": "stream",
          "text": [
            "RMSE: 102.7880\n",
            "MAE as % of average observed prevalence: 29.04%\n"
          ]
        }
      ],
      "source": [
        "#calculate RMSE, MAE as percentage of average no. of districts\n",
        "# Extract the predicted and observed values\n",
        "y_pred = df_hi[\"pred_cases_num\"].values\n",
        "y_true = df_hi[\"Cases\"].values\n",
        "\n",
        "# Calculate metrics\n",
        "rmse = np.sqrt(mean_squared_error(y_true, y_pred))\n",
        "\n",
        "# Group by district\n",
        "district_mae_pct = []\n",
        "\n",
        "for district, group in df_hi.groupby(\"District\"):\n",
        "    y_true_d = group[\"Cases\"].values\n",
        "    y_pred_d = group[\"pred_cases_num\"].values\n",
        "\n",
        "    if len(y_true_d) > 0 and np.mean(y_true_d) != 0:\n",
        "        mae_d = mean_absolute_error(y_true_d, y_pred_d)\n",
        "        mae_pct_d = (mae_d / np.mean(y_true_d)) * 100\n",
        "        district_mae_pct.append(mae_pct_d)\n",
        "\n",
        "# Average across districts\n",
        "mae_pct_avg_across_districts = np.mean(district_mae_pct)\n",
        "\n",
        "# Print results\n",
        "print(f\"RMSE: {rmse:.4f}\")\n",
        "print(f\"MAE as % of average observed prevalence: {mae_pct_avg_across_districts:.2f}%\")"
      ]
    },
    {
      "cell_type": "markdown",
      "metadata": {},
      "source": [
        "### MCMC 2 (z = 40, n = 1000, target accept prob = 0.9, tree depth = 15) - year is 2023"
      ]
    },
    {
      "cell_type": "code",
      "execution_count": null,
      "metadata": {},
      "outputs": [
        {
          "name": "stdout",
          "output_type": "stream",
          "text": [
            "\n",
            "                        mean       std    median      5.0%     95.0%     n_eff     r_hat\n",
            "                b0    100.01      9.62    100.00     83.39    115.08   2589.66      1.00\n",
            "             b_hdi      0.03      1.00      0.04     -1.64      1.62   1361.65      1.00\n",
            "     b_pop_density      0.07      0.99      0.07     -1.72      1.53   2691.22      1.00\n",
            "           b_urban      0.04      1.01      0.04     -1.56      1.81   1177.84      1.00\n",
            "full_pred_cases[0]   1561.71      7.99   1561.94   1549.13   1574.72   1885.27      1.00\n",
            "full_pred_cases[1]    324.35    138.10    324.65     96.91    542.57    434.25      1.00\n",
            "full_pred_cases[2]    190.59    139.72    184.32    -14.21    376.21    492.93      1.01\n",
            "full_pred_cases[3]    385.45    142.98    387.88    148.58    606.22    443.60      1.00\n",
            "full_pred_cases[4]    499.71    141.24    502.05    274.02    713.02    415.69      1.00\n",
            "full_pred_cases[5]    465.99    133.54    455.03    248.61    653.35    447.20      1.00\n",
            "             sigma      4.94      2.95      4.36      0.71      9.16    117.93      1.04\n",
            "            sigma1     79.79     70.80     56.15      6.83    176.66    582.75      1.02\n",
            "              z[0]     -0.04      1.00     -0.03     -1.59      1.67   2930.63      1.00\n",
            "              z[1]     -0.08      1.01     -0.08     -1.74      1.53   2758.52      1.00\n",
            "              z[2]     -0.07      0.99     -0.04     -1.74      1.48   3063.65      1.00\n",
            "              z[3]      0.06      1.00      0.05     -1.55      1.66   2409.53      1.00\n",
            "              z[4]     -0.07      1.04     -0.08     -1.70      1.65   2376.13      1.00\n",
            "              z[5]      0.02      0.99      0.03     -1.58      1.60   2643.89      1.00\n",
            "              z[6]      0.03      1.01      0.06     -1.67      1.63   2760.70      1.00\n",
            "              z[7]     -0.10      1.01     -0.10     -1.72      1.56   2876.75      1.00\n",
            "              z[8]     -0.05      0.99     -0.05     -1.63      1.60   2785.55      1.00\n",
            "              z[9]      0.03      1.01      0.02     -1.56      1.73   3357.79      1.00\n",
            "             z[10]      0.05      1.00      0.03     -1.57      1.67   3123.63      1.00\n",
            "             z[11]     -0.12      0.98     -0.14     -1.80      1.43   2296.83      1.00\n",
            "             z[12]      0.08      1.03      0.09     -1.58      1.77   1931.05      1.00\n",
            "             z[13]      0.05      1.00      0.07     -1.66      1.58   2934.27      1.00\n",
            "             z[14]     -0.08      0.99     -0.06     -1.64      1.58   3101.99      1.00\n",
            "             z[15]     -0.10      1.01     -0.09     -1.77      1.56   3250.40      1.00\n",
            "             z[16]     -0.02      1.00     -0.01     -1.66      1.55   2672.39      1.00\n",
            "             z[17]      0.08      0.98      0.09     -1.50      1.74   3298.94      1.00\n",
            "             z[18]      0.04      1.00      0.03     -1.61      1.67   3253.82      1.00\n",
            "             z[19]      0.10      1.00      0.10     -1.49      1.84   3167.53      1.00\n",
            "             z[20]     -0.13      0.98     -0.16     -1.66      1.58   2110.65      1.00\n",
            "             z[21]      0.05      0.95      0.04     -1.50      1.67   2609.03      1.00\n",
            "             z[22]     -0.16      0.98     -0.20     -1.79      1.39   2497.19      1.00\n",
            "             z[23]     -0.05      1.00     -0.08     -1.62      1.68   3213.16      1.00\n",
            "             z[24]     -0.07      1.00     -0.10     -1.68      1.57   2643.41      1.00\n",
            "             z[25]     -0.09      0.98     -0.08     -1.75      1.45   2893.33      1.00\n",
            "             z[26]     -0.07      0.97     -0.06     -1.67      1.53   3102.03      1.00\n",
            "             z[27]     -0.08      1.04     -0.06     -1.83      1.56   2764.73      1.00\n",
            "             z[28]      0.06      0.96      0.04     -1.51      1.58   2503.82      1.00\n",
            "             z[29]      0.09      0.98      0.07     -1.52      1.67   2401.55      1.00\n",
            "             z[30]      0.04      1.00      0.05     -1.54      1.75   3351.98      1.00\n",
            "             z[31]      0.03      0.99      0.03     -1.56      1.69   3310.96      1.00\n",
            "             z[32]      0.08      0.99      0.08     -1.60      1.62   2750.36      1.00\n",
            "             z[33]      0.11      0.98      0.09     -1.59      1.69   2960.96      1.00\n",
            "             z[34]     -0.07      0.98     -0.08     -1.66      1.58   2623.12      1.00\n",
            "             z[35]      0.08      0.99      0.05     -1.48      1.77   2980.20      1.00\n",
            "             z[36]      0.06      0.99      0.06     -1.63      1.63   3577.39      1.00\n",
            "             z[37]     -0.12      0.96     -0.14     -1.53      1.58   2170.18      1.00\n",
            "             z[38]      0.06      1.01      0.05     -1.60      1.70   3055.04      1.00\n",
            "             z[39]      0.07      1.00      0.07     -1.51      1.80   2166.60      1.00\n",
            "\n",
            "Number of divergences: 906\n",
            "None\n"
          ]
        },
        {
          "data": {
            "text/html": [
              "<div>\n",
              "<style scoped>\n",
              "    .dataframe tbody tr th:only-of-type {\n",
              "        vertical-align: middle;\n",
              "    }\n",
              "\n",
              "    .dataframe tbody tr th {\n",
              "        vertical-align: top;\n",
              "    }\n",
              "\n",
              "    .dataframe thead th {\n",
              "        text-align: right;\n",
              "    }\n",
              "</style>\n",
              "<table border=\"1\" class=\"dataframe\">\n",
              "  <thead>\n",
              "    <tr style=\"text-align: right;\">\n",
              "      <th></th>\n",
              "      <th>mean</th>\n",
              "      <th>sd</th>\n",
              "      <th>hdi_3%</th>\n",
              "      <th>hdi_97%</th>\n",
              "      <th>mcse_mean</th>\n",
              "      <th>mcse_sd</th>\n",
              "      <th>ess_bulk</th>\n",
              "      <th>ess_tail</th>\n",
              "      <th>r_hat</th>\n",
              "    </tr>\n",
              "  </thead>\n",
              "  <tbody>\n",
              "    <tr>\n",
              "      <th>pred_cases_out[0]</th>\n",
              "      <td>1561.707</td>\n",
              "      <td>7.994</td>\n",
              "      <td>1545.754</td>\n",
              "      <td>1577.814</td>\n",
              "      <td>0.183</td>\n",
              "      <td>0.380</td>\n",
              "      <td>2361.0</td>\n",
              "      <td>1179.0</td>\n",
              "      <td>1.02</td>\n",
              "    </tr>\n",
              "    <tr>\n",
              "      <th>pred_cases_out[1]</th>\n",
              "      <td>324.347</td>\n",
              "      <td>138.098</td>\n",
              "      <td>63.302</td>\n",
              "      <td>598.177</td>\n",
              "      <td>6.533</td>\n",
              "      <td>5.281</td>\n",
              "      <td>469.0</td>\n",
              "      <td>580.0</td>\n",
              "      <td>1.00</td>\n",
              "    </tr>\n",
              "    <tr>\n",
              "      <th>pred_cases_out[2]</th>\n",
              "      <td>190.594</td>\n",
              "      <td>139.721</td>\n",
              "      <td>-14.392</td>\n",
              "      <td>427.159</td>\n",
              "      <td>6.228</td>\n",
              "      <td>3.844</td>\n",
              "      <td>499.0</td>\n",
              "      <td>807.0</td>\n",
              "      <td>1.01</td>\n",
              "    </tr>\n",
              "    <tr>\n",
              "      <th>pred_cases_out[3]</th>\n",
              "      <td>385.452</td>\n",
              "      <td>142.977</td>\n",
              "      <td>113.651</td>\n",
              "      <td>669.494</td>\n",
              "      <td>6.682</td>\n",
              "      <td>5.251</td>\n",
              "      <td>472.0</td>\n",
              "      <td>610.0</td>\n",
              "      <td>1.00</td>\n",
              "    </tr>\n",
              "    <tr>\n",
              "      <th>pred_cases_out[4]</th>\n",
              "      <td>499.712</td>\n",
              "      <td>141.244</td>\n",
              "      <td>241.980</td>\n",
              "      <td>774.120</td>\n",
              "      <td>6.825</td>\n",
              "      <td>6.321</td>\n",
              "      <td>459.0</td>\n",
              "      <td>529.0</td>\n",
              "      <td>1.00</td>\n",
              "    </tr>\n",
              "    <tr>\n",
              "      <th>pred_cases_out[5]</th>\n",
              "      <td>465.991</td>\n",
              "      <td>133.540</td>\n",
              "      <td>233.173</td>\n",
              "      <td>717.134</td>\n",
              "      <td>6.234</td>\n",
              "      <td>8.161</td>\n",
              "      <td>548.0</td>\n",
              "      <td>558.0</td>\n",
              "      <td>1.00</td>\n",
              "    </tr>\n",
              "    <tr>\n",
              "      <th>lp[0]</th>\n",
              "      <td>1561.815</td>\n",
              "      <td>5.672</td>\n",
              "      <td>1551.341</td>\n",
              "      <td>1573.258</td>\n",
              "      <td>0.110</td>\n",
              "      <td>0.231</td>\n",
              "      <td>3056.0</td>\n",
              "      <td>1691.0</td>\n",
              "      <td>1.02</td>\n",
              "    </tr>\n",
              "    <tr>\n",
              "      <th>lp[1]</th>\n",
              "      <td>324.399</td>\n",
              "      <td>138.147</td>\n",
              "      <td>0.000</td>\n",
              "      <td>533.418</td>\n",
              "      <td>6.542</td>\n",
              "      <td>5.282</td>\n",
              "      <td>466.0</td>\n",
              "      <td>569.0</td>\n",
              "      <td>1.00</td>\n",
              "    </tr>\n",
              "    <tr>\n",
              "      <th>lp[2]</th>\n",
              "      <td>190.769</td>\n",
              "      <td>139.514</td>\n",
              "      <td>0.000</td>\n",
              "      <td>421.212</td>\n",
              "      <td>6.215</td>\n",
              "      <td>3.846</td>\n",
              "      <td>487.0</td>\n",
              "      <td>713.0</td>\n",
              "      <td>1.01</td>\n",
              "    </tr>\n",
              "    <tr>\n",
              "      <th>lp[3]</th>\n",
              "      <td>385.324</td>\n",
              "      <td>142.915</td>\n",
              "      <td>114.318</td>\n",
              "      <td>670.423</td>\n",
              "      <td>6.683</td>\n",
              "      <td>5.228</td>\n",
              "      <td>469.0</td>\n",
              "      <td>617.0</td>\n",
              "      <td>1.00</td>\n",
              "    </tr>\n",
              "    <tr>\n",
              "      <th>lp[4]</th>\n",
              "      <td>499.639</td>\n",
              "      <td>141.171</td>\n",
              "      <td>238.386</td>\n",
              "      <td>772.516</td>\n",
              "      <td>6.822</td>\n",
              "      <td>6.335</td>\n",
              "      <td>459.0</td>\n",
              "      <td>555.0</td>\n",
              "      <td>1.00</td>\n",
              "    </tr>\n",
              "    <tr>\n",
              "      <th>lp[5]</th>\n",
              "      <td>465.956</td>\n",
              "      <td>133.516</td>\n",
              "      <td>226.307</td>\n",
              "      <td>709.730</td>\n",
              "      <td>6.229</td>\n",
              "      <td>8.154</td>\n",
              "      <td>549.0</td>\n",
              "      <td>564.0</td>\n",
              "      <td>1.00</td>\n",
              "    </tr>\n",
              "    <tr>\n",
              "      <th>b0</th>\n",
              "      <td>100.014</td>\n",
              "      <td>9.619</td>\n",
              "      <td>81.868</td>\n",
              "      <td>117.972</td>\n",
              "      <td>0.187</td>\n",
              "      <td>0.181</td>\n",
              "      <td>2671.0</td>\n",
              "      <td>2003.0</td>\n",
              "      <td>1.00</td>\n",
              "    </tr>\n",
              "    <tr>\n",
              "      <th>b_pop_density</th>\n",
              "      <td>0.072</td>\n",
              "      <td>0.992</td>\n",
              "      <td>-1.724</td>\n",
              "      <td>2.044</td>\n",
              "      <td>0.019</td>\n",
              "      <td>0.019</td>\n",
              "      <td>2703.0</td>\n",
              "      <td>2223.0</td>\n",
              "      <td>1.00</td>\n",
              "    </tr>\n",
              "    <tr>\n",
              "      <th>b_hdi</th>\n",
              "      <td>0.031</td>\n",
              "      <td>1.002</td>\n",
              "      <td>-1.840</td>\n",
              "      <td>1.870</td>\n",
              "      <td>0.027</td>\n",
              "      <td>0.017</td>\n",
              "      <td>1396.0</td>\n",
              "      <td>1946.0</td>\n",
              "      <td>1.00</td>\n",
              "    </tr>\n",
              "    <tr>\n",
              "      <th>b_urban</th>\n",
              "      <td>0.044</td>\n",
              "      <td>1.009</td>\n",
              "      <td>-1.776</td>\n",
              "      <td>2.031</td>\n",
              "      <td>0.029</td>\n",
              "      <td>0.017</td>\n",
              "      <td>1200.0</td>\n",
              "      <td>1675.0</td>\n",
              "      <td>1.00</td>\n",
              "    </tr>\n",
              "    <tr>\n",
              "      <th>vae[0]</th>\n",
              "      <td>1446.395</td>\n",
              "      <td>173.592</td>\n",
              "      <td>1122.464</td>\n",
              "      <td>1774.407</td>\n",
              "      <td>4.617</td>\n",
              "      <td>3.086</td>\n",
              "      <td>1419.0</td>\n",
              "      <td>1796.0</td>\n",
              "      <td>1.00</td>\n",
              "    </tr>\n",
              "    <tr>\n",
              "      <th>vae[1]</th>\n",
              "      <td>216.064</td>\n",
              "      <td>87.774</td>\n",
              "      <td>50.790</td>\n",
              "      <td>376.010</td>\n",
              "      <td>3.246</td>\n",
              "      <td>4.716</td>\n",
              "      <td>950.0</td>\n",
              "      <td>875.0</td>\n",
              "      <td>1.01</td>\n",
              "    </tr>\n",
              "    <tr>\n",
              "      <th>vae[2]</th>\n",
              "      <td>67.023</td>\n",
              "      <td>119.685</td>\n",
              "      <td>-165.932</td>\n",
              "      <td>250.387</td>\n",
              "      <td>4.657</td>\n",
              "      <td>7.537</td>\n",
              "      <td>842.0</td>\n",
              "      <td>871.0</td>\n",
              "      <td>1.01</td>\n",
              "    </tr>\n",
              "    <tr>\n",
              "      <th>vae[3]</th>\n",
              "      <td>277.170</td>\n",
              "      <td>98.798</td>\n",
              "      <td>82.751</td>\n",
              "      <td>442.118</td>\n",
              "      <td>3.356</td>\n",
              "      <td>5.044</td>\n",
              "      <td>1147.0</td>\n",
              "      <td>1050.0</td>\n",
              "      <td>1.01</td>\n",
              "    </tr>\n",
              "    <tr>\n",
              "      <th>vae[4]</th>\n",
              "      <td>392.500</td>\n",
              "      <td>108.431</td>\n",
              "      <td>188.999</td>\n",
              "      <td>589.397</td>\n",
              "      <td>3.588</td>\n",
              "      <td>5.039</td>\n",
              "      <td>1180.0</td>\n",
              "      <td>1053.0</td>\n",
              "      <td>1.00</td>\n",
              "    </tr>\n",
              "    <tr>\n",
              "      <th>vae[5]</th>\n",
              "      <td>359.630</td>\n",
              "      <td>96.798</td>\n",
              "      <td>200.295</td>\n",
              "      <td>539.712</td>\n",
              "      <td>3.460</td>\n",
              "      <td>6.751</td>\n",
              "      <td>1207.0</td>\n",
              "      <td>920.0</td>\n",
              "      <td>1.00</td>\n",
              "    </tr>\n",
              "  </tbody>\n",
              "</table>\n",
              "</div>"
            ],
            "text/plain": [
              "                       mean       sd    hdi_3%   hdi_97%  mcse_mean  mcse_sd  \\\n",
              "pred_cases_out[0]  1561.707    7.994  1545.754  1577.814      0.183    0.380   \n",
              "pred_cases_out[1]   324.347  138.098    63.302   598.177      6.533    5.281   \n",
              "pred_cases_out[2]   190.594  139.721   -14.392   427.159      6.228    3.844   \n",
              "pred_cases_out[3]   385.452  142.977   113.651   669.494      6.682    5.251   \n",
              "pred_cases_out[4]   499.712  141.244   241.980   774.120      6.825    6.321   \n",
              "pred_cases_out[5]   465.991  133.540   233.173   717.134      6.234    8.161   \n",
              "lp[0]              1561.815    5.672  1551.341  1573.258      0.110    0.231   \n",
              "lp[1]               324.399  138.147     0.000   533.418      6.542    5.282   \n",
              "lp[2]               190.769  139.514     0.000   421.212      6.215    3.846   \n",
              "lp[3]               385.324  142.915   114.318   670.423      6.683    5.228   \n",
              "lp[4]               499.639  141.171   238.386   772.516      6.822    6.335   \n",
              "lp[5]               465.956  133.516   226.307   709.730      6.229    8.154   \n",
              "b0                  100.014    9.619    81.868   117.972      0.187    0.181   \n",
              "b_pop_density         0.072    0.992    -1.724     2.044      0.019    0.019   \n",
              "b_hdi                 0.031    1.002    -1.840     1.870      0.027    0.017   \n",
              "b_urban               0.044    1.009    -1.776     2.031      0.029    0.017   \n",
              "vae[0]             1446.395  173.592  1122.464  1774.407      4.617    3.086   \n",
              "vae[1]              216.064   87.774    50.790   376.010      3.246    4.716   \n",
              "vae[2]               67.023  119.685  -165.932   250.387      4.657    7.537   \n",
              "vae[3]              277.170   98.798    82.751   442.118      3.356    5.044   \n",
              "vae[4]              392.500  108.431   188.999   589.397      3.588    5.039   \n",
              "vae[5]              359.630   96.798   200.295   539.712      3.460    6.751   \n",
              "\n",
              "                   ess_bulk  ess_tail  r_hat  \n",
              "pred_cases_out[0]    2361.0    1179.0   1.02  \n",
              "pred_cases_out[1]     469.0     580.0   1.00  \n",
              "pred_cases_out[2]     499.0     807.0   1.01  \n",
              "pred_cases_out[3]     472.0     610.0   1.00  \n",
              "pred_cases_out[4]     459.0     529.0   1.00  \n",
              "pred_cases_out[5]     548.0     558.0   1.00  \n",
              "lp[0]                3056.0    1691.0   1.02  \n",
              "lp[1]                 466.0     569.0   1.00  \n",
              "lp[2]                 487.0     713.0   1.01  \n",
              "lp[3]                 469.0     617.0   1.00  \n",
              "lp[4]                 459.0     555.0   1.00  \n",
              "lp[5]                 549.0     564.0   1.00  \n",
              "b0                   2671.0    2003.0   1.00  \n",
              "b_pop_density        2703.0    2223.0   1.00  \n",
              "b_hdi                1396.0    1946.0   1.00  \n",
              "b_urban              1200.0    1675.0   1.00  \n",
              "vae[0]               1419.0    1796.0   1.00  \n",
              "vae[1]                950.0     875.0   1.01  \n",
              "vae[2]                842.0     871.0   1.01  \n",
              "vae[3]               1147.0    1050.0   1.01  \n",
              "vae[4]               1180.0    1053.0   1.00  \n",
              "vae[5]               1207.0     920.0   1.00  "
            ]
          },
          "metadata": {},
          "output_type": "display_data"
        }
      ],
      "source": [
        "# creating  posterior predictive\n",
        "rng_key_pr, rng_key_po = random.split(random.PRNGKey(4))\n",
        "posterior_samples = mcmc_2.get_samples()\n",
        "posterior_predictive = Predictive(model, posterior_samples)(\n",
        "    rng_key_po, config_count\n",
        ")\n",
        "\n",
        "# transform posterior predictive to arviz inference objects\n",
        "Total_districts = df_lo.shape[0] + df_hi.shape[0]\n",
        "numpyro_data = az.from_numpyro(\n",
        "    mcmc_2,\n",
        "    posterior_predictive=posterior_predictive,\n",
        "    coords={\"district\": np.arange(Total_districts)},\n",
        "    dims={\"lp\": [\"district\"]},\n",
        "    )\n",
        "\n",
        "# %%\n",
        "print(mcmc_2.print_summary())\n",
        "az.summary(numpyro_data, var_names = [\"pred_cases_out\", \"lp\", \"b0\", \"b_pop_density\", \"b_hdi\", \"b_urban\", \"vae\"])"
      ]
    },
    {
      "cell_type": "code",
      "execution_count": null,
      "metadata": {},
      "outputs": [
        {
          "name": "stdout",
          "output_type": "stream",
          "text": [
            "Average ESS for all aggVAE effects : 1117\n",
            "Average ESS for all aggVAE-low effects : 1121\n",
            "Max r_hat for all aggVAE-low : 1.0099999904632568\n",
            "Average ESS for all aggVAE-high effects : 1117\n",
            "Max r_hat for all aggVAE-high : 1.0099999904632568\n"
          ]
        }
      ],
      "source": [
        "#check ESS and rhat\n",
        "ss = numpyro.diagnostics.summary(mcmc_2.get_samples(group_by_chain=True))\n",
        "r = np.mean(ss['vae_aggr']['n_eff'])\n",
        "print(\"Average ESS for all aggVAE effects : \" + str(round(r)))\n",
        "\n",
        "ess_lo = np.mean(ss[\"vae_aggr\"][\"n_eff\"][0:1])\n",
        "r_hat_lo = np.max(ss[\"vae_aggr\"][\"r_hat\"][0:1])\n",
        "\n",
        "ess_hi = np.mean(ss[\"vae_aggr\"][\"n_eff\"][1:6])\n",
        "r_hat_hi = np.max(ss[\"vae_aggr\"][\"r_hat\"][1 : 6])\n",
        "\n",
        "print(f\"Average ESS for all aggVAE-low effects : {round(ess_lo)}\")\n",
        "print(f\"Max r_hat for all aggVAE-low : {round(r_hat_lo,2)}\")\n",
        "\n",
        "print(f\"Average ESS for all aggVAE-high effects : {round(ess_hi)}\")\n",
        "print(f\"Max r_hat for all aggVAE-high : {round(r_hat_hi,2)}\")"
      ]
    },
    {
      "cell_type": "code",
      "execution_count": null,
      "metadata": {},
      "outputs": [],
      "source": [
        "mean_pred_cases = numpyro_data.posterior.pred_cases_out.values.mean(axis=(0, 1))\n",
        "df_hi['pred_cases_num'] = mean_pred_cases[df_lo.shape[0]:]\n",
        "df_lo['pred_cases'] = mean_pred_cases[:df_lo.shape[0]] / df_lo.Population\n",
        "df_hi['pred_cases'] = mean_pred_cases[df_lo.shape[0]:] / df_hi.Population"
      ]
    },
    {
      "cell_type": "code",
      "execution_count": null,
      "metadata": {},
      "outputs": [
        {
          "name": "stdout",
          "output_type": "stream",
          "text": [
            "RMSE: 99.3886\n",
            "MAE as % of average observed prevalence: 28.17%\n"
          ]
        }
      ],
      "source": [
        "# Extract the predicted and observed values\n",
        "y_pred = df_hi[\"pred_cases_num\"].values\n",
        "y_true = df_hi[\"Cases\"].values\n",
        "\n",
        "# Calculate metrics\n",
        "rmse = np.sqrt(mean_squared_error(y_true, y_pred))\n",
        "\n",
        "# Group by district\n",
        "district_mae_pct = []\n",
        "\n",
        "for district, group in df_hi.groupby(\"District\"):\n",
        "    y_true_d = group[\"Cases\"].values\n",
        "    y_pred_d = group[\"pred_cases_num\"].values\n",
        "\n",
        "    if len(y_true_d) > 0 and np.mean(y_true_d) != 0:\n",
        "        mae_d = mean_absolute_error(y_true_d, y_pred_d)\n",
        "        mae_pct_d = (mae_d / np.mean(y_true_d)) * 100\n",
        "        district_mae_pct.append(mae_pct_d)\n",
        "\n",
        "# Average across districts\n",
        "mae_pct_avg_across_districts = np.mean(district_mae_pct)\n",
        "\n",
        "# Print results\n",
        "print(f\"RMSE: {rmse:.4f}\")\n",
        "print(f\"MAE as % of average observed prevalence: {mae_pct_avg_across_districts:.2f}%\")"
      ]
    },
    {
      "cell_type": "markdown",
      "metadata": {},
      "source": [
        "### MCMC 3 (z = 40, n = 1000, target accept prob = 0.95, tree depth = 15) - year is 2023 - BEST!"
      ]
    },
    {
      "cell_type": "code",
      "execution_count": null,
      "metadata": {},
      "outputs": [
        {
          "name": "stdout",
          "output_type": "stream",
          "text": [
            "\n",
            "                        mean       std    median      5.0%     95.0%     n_eff     r_hat\n",
            "                b0    100.01      9.62    100.00     83.39    115.08   2589.66      1.00\n",
            "             b_hdi      0.03      1.00      0.04     -1.64      1.62   1361.65      1.00\n",
            "     b_pop_density      0.07      0.99      0.07     -1.72      1.53   2691.22      1.00\n",
            "           b_urban      0.04      1.01      0.04     -1.56      1.81   1177.84      1.00\n",
            "full_pred_cases[0]   1561.71      7.99   1561.94   1549.13   1574.72   1885.27      1.00\n",
            "full_pred_cases[1]    324.35    138.10    324.65     96.91    542.57    434.25      1.00\n",
            "full_pred_cases[2]    190.59    139.72    184.32    -14.21    376.21    492.93      1.01\n",
            "full_pred_cases[3]    385.45    142.98    387.88    148.58    606.22    443.60      1.00\n",
            "full_pred_cases[4]    499.71    141.24    502.05    274.02    713.02    415.69      1.00\n",
            "full_pred_cases[5]    465.99    133.54    455.03    248.61    653.35    447.20      1.00\n",
            "             sigma      4.94      2.95      4.36      0.71      9.16    117.93      1.04\n",
            "            sigma1     79.79     70.80     56.15      6.83    176.66    582.75      1.02\n",
            "              z[0]     -0.04      1.00     -0.03     -1.59      1.67   2930.63      1.00\n",
            "              z[1]     -0.08      1.01     -0.08     -1.74      1.53   2758.52      1.00\n",
            "              z[2]     -0.07      0.99     -0.04     -1.74      1.48   3063.65      1.00\n",
            "              z[3]      0.06      1.00      0.05     -1.55      1.66   2409.53      1.00\n",
            "              z[4]     -0.07      1.04     -0.08     -1.70      1.65   2376.13      1.00\n",
            "              z[5]      0.02      0.99      0.03     -1.58      1.60   2643.89      1.00\n",
            "              z[6]      0.03      1.01      0.06     -1.67      1.63   2760.70      1.00\n",
            "              z[7]     -0.10      1.01     -0.10     -1.72      1.56   2876.75      1.00\n",
            "              z[8]     -0.05      0.99     -0.05     -1.63      1.60   2785.55      1.00\n",
            "              z[9]      0.03      1.01      0.02     -1.56      1.73   3357.79      1.00\n",
            "             z[10]      0.05      1.00      0.03     -1.57      1.67   3123.63      1.00\n",
            "             z[11]     -0.12      0.98     -0.14     -1.80      1.43   2296.83      1.00\n",
            "             z[12]      0.08      1.03      0.09     -1.58      1.77   1931.05      1.00\n",
            "             z[13]      0.05      1.00      0.07     -1.66      1.58   2934.27      1.00\n",
            "             z[14]     -0.08      0.99     -0.06     -1.64      1.58   3101.99      1.00\n",
            "             z[15]     -0.10      1.01     -0.09     -1.77      1.56   3250.40      1.00\n",
            "             z[16]     -0.02      1.00     -0.01     -1.66      1.55   2672.39      1.00\n",
            "             z[17]      0.08      0.98      0.09     -1.50      1.74   3298.94      1.00\n",
            "             z[18]      0.04      1.00      0.03     -1.61      1.67   3253.82      1.00\n",
            "             z[19]      0.10      1.00      0.10     -1.49      1.84   3167.53      1.00\n",
            "             z[20]     -0.13      0.98     -0.16     -1.66      1.58   2110.65      1.00\n",
            "             z[21]      0.05      0.95      0.04     -1.50      1.67   2609.03      1.00\n",
            "             z[22]     -0.16      0.98     -0.20     -1.79      1.39   2497.19      1.00\n",
            "             z[23]     -0.05      1.00     -0.08     -1.62      1.68   3213.16      1.00\n",
            "             z[24]     -0.07      1.00     -0.10     -1.68      1.57   2643.41      1.00\n",
            "             z[25]     -0.09      0.98     -0.08     -1.75      1.45   2893.33      1.00\n",
            "             z[26]     -0.07      0.97     -0.06     -1.67      1.53   3102.03      1.00\n",
            "             z[27]     -0.08      1.04     -0.06     -1.83      1.56   2764.73      1.00\n",
            "             z[28]      0.06      0.96      0.04     -1.51      1.58   2503.82      1.00\n",
            "             z[29]      0.09      0.98      0.07     -1.52      1.67   2401.55      1.00\n",
            "             z[30]      0.04      1.00      0.05     -1.54      1.75   3351.98      1.00\n",
            "             z[31]      0.03      0.99      0.03     -1.56      1.69   3310.96      1.00\n",
            "             z[32]      0.08      0.99      0.08     -1.60      1.62   2750.36      1.00\n",
            "             z[33]      0.11      0.98      0.09     -1.59      1.69   2960.96      1.00\n",
            "             z[34]     -0.07      0.98     -0.08     -1.66      1.58   2623.12      1.00\n",
            "             z[35]      0.08      0.99      0.05     -1.48      1.77   2980.20      1.00\n",
            "             z[36]      0.06      0.99      0.06     -1.63      1.63   3577.39      1.00\n",
            "             z[37]     -0.12      0.96     -0.14     -1.53      1.58   2170.18      1.00\n",
            "             z[38]      0.06      1.01      0.05     -1.60      1.70   3055.04      1.00\n",
            "             z[39]      0.07      1.00      0.07     -1.51      1.80   2166.60      1.00\n",
            "\n",
            "Number of divergences: 906\n",
            "None\n"
          ]
        },
        {
          "data": {
            "text/html": [
              "<div>\n",
              "<style scoped>\n",
              "    .dataframe tbody tr th:only-of-type {\n",
              "        vertical-align: middle;\n",
              "    }\n",
              "\n",
              "    .dataframe tbody tr th {\n",
              "        vertical-align: top;\n",
              "    }\n",
              "\n",
              "    .dataframe thead th {\n",
              "        text-align: right;\n",
              "    }\n",
              "</style>\n",
              "<table border=\"1\" class=\"dataframe\">\n",
              "  <thead>\n",
              "    <tr style=\"text-align: right;\">\n",
              "      <th></th>\n",
              "      <th>mean</th>\n",
              "      <th>sd</th>\n",
              "      <th>hdi_3%</th>\n",
              "      <th>hdi_97%</th>\n",
              "      <th>mcse_mean</th>\n",
              "      <th>mcse_sd</th>\n",
              "      <th>ess_bulk</th>\n",
              "      <th>ess_tail</th>\n",
              "      <th>r_hat</th>\n",
              "    </tr>\n",
              "  </thead>\n",
              "  <tbody>\n",
              "    <tr>\n",
              "      <th>pred_cases_out[0]</th>\n",
              "      <td>1561.707</td>\n",
              "      <td>7.994</td>\n",
              "      <td>1545.754</td>\n",
              "      <td>1577.814</td>\n",
              "      <td>0.183</td>\n",
              "      <td>0.380</td>\n",
              "      <td>2361.0</td>\n",
              "      <td>1179.0</td>\n",
              "      <td>1.02</td>\n",
              "    </tr>\n",
              "    <tr>\n",
              "      <th>pred_cases_out[1]</th>\n",
              "      <td>324.347</td>\n",
              "      <td>138.098</td>\n",
              "      <td>63.302</td>\n",
              "      <td>598.177</td>\n",
              "      <td>6.533</td>\n",
              "      <td>5.281</td>\n",
              "      <td>469.0</td>\n",
              "      <td>580.0</td>\n",
              "      <td>1.00</td>\n",
              "    </tr>\n",
              "    <tr>\n",
              "      <th>pred_cases_out[2]</th>\n",
              "      <td>190.594</td>\n",
              "      <td>139.721</td>\n",
              "      <td>-14.392</td>\n",
              "      <td>427.159</td>\n",
              "      <td>6.228</td>\n",
              "      <td>3.844</td>\n",
              "      <td>499.0</td>\n",
              "      <td>807.0</td>\n",
              "      <td>1.01</td>\n",
              "    </tr>\n",
              "    <tr>\n",
              "      <th>pred_cases_out[3]</th>\n",
              "      <td>385.452</td>\n",
              "      <td>142.977</td>\n",
              "      <td>113.651</td>\n",
              "      <td>669.494</td>\n",
              "      <td>6.682</td>\n",
              "      <td>5.251</td>\n",
              "      <td>472.0</td>\n",
              "      <td>610.0</td>\n",
              "      <td>1.00</td>\n",
              "    </tr>\n",
              "    <tr>\n",
              "      <th>pred_cases_out[4]</th>\n",
              "      <td>499.712</td>\n",
              "      <td>141.244</td>\n",
              "      <td>241.980</td>\n",
              "      <td>774.120</td>\n",
              "      <td>6.825</td>\n",
              "      <td>6.321</td>\n",
              "      <td>459.0</td>\n",
              "      <td>529.0</td>\n",
              "      <td>1.00</td>\n",
              "    </tr>\n",
              "    <tr>\n",
              "      <th>pred_cases_out[5]</th>\n",
              "      <td>465.991</td>\n",
              "      <td>133.540</td>\n",
              "      <td>233.173</td>\n",
              "      <td>717.134</td>\n",
              "      <td>6.234</td>\n",
              "      <td>8.161</td>\n",
              "      <td>548.0</td>\n",
              "      <td>558.0</td>\n",
              "      <td>1.00</td>\n",
              "    </tr>\n",
              "    <tr>\n",
              "      <th>lp[0]</th>\n",
              "      <td>1561.815</td>\n",
              "      <td>5.672</td>\n",
              "      <td>1551.341</td>\n",
              "      <td>1573.258</td>\n",
              "      <td>0.110</td>\n",
              "      <td>0.231</td>\n",
              "      <td>3056.0</td>\n",
              "      <td>1691.0</td>\n",
              "      <td>1.02</td>\n",
              "    </tr>\n",
              "    <tr>\n",
              "      <th>lp[1]</th>\n",
              "      <td>324.399</td>\n",
              "      <td>138.147</td>\n",
              "      <td>0.000</td>\n",
              "      <td>533.418</td>\n",
              "      <td>6.542</td>\n",
              "      <td>5.282</td>\n",
              "      <td>466.0</td>\n",
              "      <td>569.0</td>\n",
              "      <td>1.00</td>\n",
              "    </tr>\n",
              "    <tr>\n",
              "      <th>lp[2]</th>\n",
              "      <td>190.769</td>\n",
              "      <td>139.514</td>\n",
              "      <td>0.000</td>\n",
              "      <td>421.212</td>\n",
              "      <td>6.215</td>\n",
              "      <td>3.846</td>\n",
              "      <td>487.0</td>\n",
              "      <td>713.0</td>\n",
              "      <td>1.01</td>\n",
              "    </tr>\n",
              "    <tr>\n",
              "      <th>lp[3]</th>\n",
              "      <td>385.324</td>\n",
              "      <td>142.915</td>\n",
              "      <td>114.318</td>\n",
              "      <td>670.423</td>\n",
              "      <td>6.683</td>\n",
              "      <td>5.228</td>\n",
              "      <td>469.0</td>\n",
              "      <td>617.0</td>\n",
              "      <td>1.00</td>\n",
              "    </tr>\n",
              "    <tr>\n",
              "      <th>lp[4]</th>\n",
              "      <td>499.639</td>\n",
              "      <td>141.171</td>\n",
              "      <td>238.386</td>\n",
              "      <td>772.516</td>\n",
              "      <td>6.822</td>\n",
              "      <td>6.335</td>\n",
              "      <td>459.0</td>\n",
              "      <td>555.0</td>\n",
              "      <td>1.00</td>\n",
              "    </tr>\n",
              "    <tr>\n",
              "      <th>lp[5]</th>\n",
              "      <td>465.956</td>\n",
              "      <td>133.516</td>\n",
              "      <td>226.307</td>\n",
              "      <td>709.730</td>\n",
              "      <td>6.229</td>\n",
              "      <td>8.154</td>\n",
              "      <td>549.0</td>\n",
              "      <td>564.0</td>\n",
              "      <td>1.00</td>\n",
              "    </tr>\n",
              "    <tr>\n",
              "      <th>b0</th>\n",
              "      <td>100.014</td>\n",
              "      <td>9.619</td>\n",
              "      <td>81.868</td>\n",
              "      <td>117.972</td>\n",
              "      <td>0.187</td>\n",
              "      <td>0.181</td>\n",
              "      <td>2671.0</td>\n",
              "      <td>2003.0</td>\n",
              "      <td>1.00</td>\n",
              "    </tr>\n",
              "    <tr>\n",
              "      <th>b_pop_density</th>\n",
              "      <td>0.072</td>\n",
              "      <td>0.992</td>\n",
              "      <td>-1.724</td>\n",
              "      <td>2.044</td>\n",
              "      <td>0.019</td>\n",
              "      <td>0.019</td>\n",
              "      <td>2703.0</td>\n",
              "      <td>2223.0</td>\n",
              "      <td>1.00</td>\n",
              "    </tr>\n",
              "    <tr>\n",
              "      <th>b_hdi</th>\n",
              "      <td>0.031</td>\n",
              "      <td>1.002</td>\n",
              "      <td>-1.840</td>\n",
              "      <td>1.870</td>\n",
              "      <td>0.027</td>\n",
              "      <td>0.017</td>\n",
              "      <td>1396.0</td>\n",
              "      <td>1946.0</td>\n",
              "      <td>1.00</td>\n",
              "    </tr>\n",
              "    <tr>\n",
              "      <th>b_urban</th>\n",
              "      <td>0.044</td>\n",
              "      <td>1.009</td>\n",
              "      <td>-1.776</td>\n",
              "      <td>2.031</td>\n",
              "      <td>0.029</td>\n",
              "      <td>0.017</td>\n",
              "      <td>1200.0</td>\n",
              "      <td>1675.0</td>\n",
              "      <td>1.00</td>\n",
              "    </tr>\n",
              "    <tr>\n",
              "      <th>vae[0]</th>\n",
              "      <td>1446.395</td>\n",
              "      <td>173.592</td>\n",
              "      <td>1122.464</td>\n",
              "      <td>1774.407</td>\n",
              "      <td>4.617</td>\n",
              "      <td>3.086</td>\n",
              "      <td>1419.0</td>\n",
              "      <td>1796.0</td>\n",
              "      <td>1.00</td>\n",
              "    </tr>\n",
              "    <tr>\n",
              "      <th>vae[1]</th>\n",
              "      <td>216.064</td>\n",
              "      <td>87.774</td>\n",
              "      <td>50.790</td>\n",
              "      <td>376.010</td>\n",
              "      <td>3.246</td>\n",
              "      <td>4.716</td>\n",
              "      <td>950.0</td>\n",
              "      <td>875.0</td>\n",
              "      <td>1.01</td>\n",
              "    </tr>\n",
              "    <tr>\n",
              "      <th>vae[2]</th>\n",
              "      <td>67.023</td>\n",
              "      <td>119.685</td>\n",
              "      <td>-165.932</td>\n",
              "      <td>250.387</td>\n",
              "      <td>4.657</td>\n",
              "      <td>7.537</td>\n",
              "      <td>842.0</td>\n",
              "      <td>871.0</td>\n",
              "      <td>1.01</td>\n",
              "    </tr>\n",
              "    <tr>\n",
              "      <th>vae[3]</th>\n",
              "      <td>277.170</td>\n",
              "      <td>98.798</td>\n",
              "      <td>82.751</td>\n",
              "      <td>442.118</td>\n",
              "      <td>3.356</td>\n",
              "      <td>5.044</td>\n",
              "      <td>1147.0</td>\n",
              "      <td>1050.0</td>\n",
              "      <td>1.01</td>\n",
              "    </tr>\n",
              "    <tr>\n",
              "      <th>vae[4]</th>\n",
              "      <td>392.500</td>\n",
              "      <td>108.431</td>\n",
              "      <td>188.999</td>\n",
              "      <td>589.397</td>\n",
              "      <td>3.588</td>\n",
              "      <td>5.039</td>\n",
              "      <td>1180.0</td>\n",
              "      <td>1053.0</td>\n",
              "      <td>1.00</td>\n",
              "    </tr>\n",
              "    <tr>\n",
              "      <th>vae[5]</th>\n",
              "      <td>359.630</td>\n",
              "      <td>96.798</td>\n",
              "      <td>200.295</td>\n",
              "      <td>539.712</td>\n",
              "      <td>3.460</td>\n",
              "      <td>6.751</td>\n",
              "      <td>1207.0</td>\n",
              "      <td>920.0</td>\n",
              "      <td>1.00</td>\n",
              "    </tr>\n",
              "  </tbody>\n",
              "</table>\n",
              "</div>"
            ],
            "text/plain": [
              "                       mean       sd    hdi_3%   hdi_97%  mcse_mean  mcse_sd  \\\n",
              "pred_cases_out[0]  1561.707    7.994  1545.754  1577.814      0.183    0.380   \n",
              "pred_cases_out[1]   324.347  138.098    63.302   598.177      6.533    5.281   \n",
              "pred_cases_out[2]   190.594  139.721   -14.392   427.159      6.228    3.844   \n",
              "pred_cases_out[3]   385.452  142.977   113.651   669.494      6.682    5.251   \n",
              "pred_cases_out[4]   499.712  141.244   241.980   774.120      6.825    6.321   \n",
              "pred_cases_out[5]   465.991  133.540   233.173   717.134      6.234    8.161   \n",
              "lp[0]              1561.815    5.672  1551.341  1573.258      0.110    0.231   \n",
              "lp[1]               324.399  138.147     0.000   533.418      6.542    5.282   \n",
              "lp[2]               190.769  139.514     0.000   421.212      6.215    3.846   \n",
              "lp[3]               385.324  142.915   114.318   670.423      6.683    5.228   \n",
              "lp[4]               499.639  141.171   238.386   772.516      6.822    6.335   \n",
              "lp[5]               465.956  133.516   226.307   709.730      6.229    8.154   \n",
              "b0                  100.014    9.619    81.868   117.972      0.187    0.181   \n",
              "b_pop_density         0.072    0.992    -1.724     2.044      0.019    0.019   \n",
              "b_hdi                 0.031    1.002    -1.840     1.870      0.027    0.017   \n",
              "b_urban               0.044    1.009    -1.776     2.031      0.029    0.017   \n",
              "vae[0]             1446.395  173.592  1122.464  1774.407      4.617    3.086   \n",
              "vae[1]              216.064   87.774    50.790   376.010      3.246    4.716   \n",
              "vae[2]               67.023  119.685  -165.932   250.387      4.657    7.537   \n",
              "vae[3]              277.170   98.798    82.751   442.118      3.356    5.044   \n",
              "vae[4]              392.500  108.431   188.999   589.397      3.588    5.039   \n",
              "vae[5]              359.630   96.798   200.295   539.712      3.460    6.751   \n",
              "\n",
              "                   ess_bulk  ess_tail  r_hat  \n",
              "pred_cases_out[0]    2361.0    1179.0   1.02  \n",
              "pred_cases_out[1]     469.0     580.0   1.00  \n",
              "pred_cases_out[2]     499.0     807.0   1.01  \n",
              "pred_cases_out[3]     472.0     610.0   1.00  \n",
              "pred_cases_out[4]     459.0     529.0   1.00  \n",
              "pred_cases_out[5]     548.0     558.0   1.00  \n",
              "lp[0]                3056.0    1691.0   1.02  \n",
              "lp[1]                 466.0     569.0   1.00  \n",
              "lp[2]                 487.0     713.0   1.01  \n",
              "lp[3]                 469.0     617.0   1.00  \n",
              "lp[4]                 459.0     555.0   1.00  \n",
              "lp[5]                 549.0     564.0   1.00  \n",
              "b0                   2671.0    2003.0   1.00  \n",
              "b_pop_density        2703.0    2223.0   1.00  \n",
              "b_hdi                1396.0    1946.0   1.00  \n",
              "b_urban              1200.0    1675.0   1.00  \n",
              "vae[0]               1419.0    1796.0   1.00  \n",
              "vae[1]                950.0     875.0   1.01  \n",
              "vae[2]                842.0     871.0   1.01  \n",
              "vae[3]               1147.0    1050.0   1.01  \n",
              "vae[4]               1180.0    1053.0   1.00  \n",
              "vae[5]               1207.0     920.0   1.00  "
            ]
          },
          "metadata": {},
          "output_type": "display_data"
        }
      ],
      "source": [
        "# creating  posterior predictive\n",
        "rng_key_pr, rng_key_po = random.split(random.PRNGKey(4))\n",
        "posterior_samples = mcmc_3.get_samples()\n",
        "posterior_predictive = Predictive(model, posterior_samples)(\n",
        "    rng_key_po, config_count\n",
        ")\n",
        "\n",
        "# transform posterior predictive to arviz inference objects\n",
        "Total_districts = df_lo.shape[0] + df_hi.shape[0]\n",
        "numpyro_data = az.from_numpyro(\n",
        "    mcmc_3,\n",
        "    posterior_predictive=posterior_predictive,\n",
        "    coords={\"district\": np.arange(Total_districts)},\n",
        "    dims={\"lp\": [\"district\"]},\n",
        "    )\n",
        "\n",
        "# %%\n",
        "print(mcmc_3.print_summary())\n",
        "az.summary(numpyro_data, var_names = [\"pred_cases_out\", \"lp\", \"b0\", \"b_pop_density\", \"b_hdi\", \"b_urban\", \"vae\"])"
      ]
    },
    {
      "cell_type": "code",
      "execution_count": null,
      "metadata": {},
      "outputs": [
        {
          "name": "stdout",
          "output_type": "stream",
          "text": [
            "Average ESS for all aggVAE effects : 1117\n",
            "Average ESS for all aggVAE-low effects : 1121\n",
            "Max r_hat for all aggVAE-low : 1.0099999904632568\n",
            "Average ESS for all aggVAE-high effects : 1117\n",
            "Max r_hat for all aggVAE-high : 1.0099999904632568\n"
          ]
        }
      ],
      "source": [
        "#check ESS and rhat\n",
        "ss = numpyro.diagnostics.summary(mcmc_3.get_samples(group_by_chain=True))\n",
        "r = np.mean(ss['vae_aggr']['n_eff'])\n",
        "print(\"Average ESS for all aggVAE effects : \" + str(round(r)))\n",
        "\n",
        "ess_lo = np.mean(ss[\"vae_aggr\"][\"n_eff\"][0:1])\n",
        "r_hat_lo = np.max(ss[\"vae_aggr\"][\"r_hat\"][0:1])\n",
        "\n",
        "ess_hi = np.mean(ss[\"vae_aggr\"][\"n_eff\"][1:6])\n",
        "r_hat_hi = np.max(ss[\"vae_aggr\"][\"r_hat\"][1 : 6])\n",
        "\n",
        "print(f\"Average ESS for all aggVAE-low effects : {round(ess_lo)}\")\n",
        "print(f\"Max r_hat for all aggVAE-low : {round(r_hat_lo,2)}\")\n",
        "\n",
        "print(f\"Average ESS for all aggVAE-high effects : {round(ess_hi)}\")\n",
        "print(f\"Max r_hat for all aggVAE-high : {round(r_hat_hi,2)}\")"
      ]
    },
    {
      "cell_type": "code",
      "execution_count": null,
      "metadata": {},
      "outputs": [],
      "source": [
        "mean_pred_cases = numpyro_data.posterior.pred_cases_out.values.mean(axis=(0, 1))\n",
        "df_hi['pred_cases_num'] = mean_pred_cases[df_lo.shape[0]:]\n",
        "df_lo['pred_cases'] = mean_pred_cases[:df_lo.shape[0]] / df_lo.Population\n",
        "df_hi['pred_cases'] = mean_pred_cases[df_lo.shape[0]:] / df_hi.Population"
      ]
    },
    {
      "cell_type": "code",
      "execution_count": null,
      "metadata": {},
      "outputs": [
        {
          "name": "stdout",
          "output_type": "stream",
          "text": [
            "RMSE: 99.3886\n",
            "MAE as % of average observed prevalence: 28.17%\n"
          ]
        }
      ],
      "source": [
        "# Extract the predicted and observed values\n",
        "y_pred = df_hi[\"pred_cases_num\"].values\n",
        "y_true = df_hi[\"Cases\"].values\n",
        "\n",
        "# Calculate metrics\n",
        "rmse = np.sqrt(mean_squared_error(y_true, y_pred))\n",
        "\n",
        "# Group by district\n",
        "district_mae_pct = []\n",
        "\n",
        "for district, group in df_hi.groupby(\"District\"):\n",
        "    y_true_d = group[\"Cases\"].values\n",
        "    y_pred_d = group[\"pred_cases_num\"].values\n",
        "\n",
        "    if len(y_true_d) > 0 and np.mean(y_true_d) != 0:\n",
        "        mae_d = mean_absolute_error(y_true_d, y_pred_d)\n",
        "        mae_pct_d = (mae_d / np.mean(y_true_d)) * 100\n",
        "        district_mae_pct.append(mae_pct_d)\n",
        "\n",
        "# Average across districts\n",
        "mae_pct_avg_across_districts = np.mean(district_mae_pct)\n",
        "\n",
        "# Print results\n",
        "print(f\"RMSE: {rmse:.4f}\")\n",
        "print(f\"MAE as % of average observed prevalence: {mae_pct_avg_across_districts:.2f}%\")"
      ]
    },
    {
      "cell_type": "code",
      "execution_count": null,
      "metadata": {},
      "outputs": [],
      "source": [
        "#this is the best parameters, so we download the predictions to be used\n",
        "df_hi.to_csv(\"../data/processed/df_hi_jkt_2023_aggVAE_preds.csv\")"
      ]
    },
    {
      "cell_type": "markdown",
      "metadata": {},
      "source": [
        "### MCMC 4 (z = 30, n = 1000 Inference, target accept prob = 0.8, tree depth 10 (default) - bc alr converged, so using default MCMC settings is ok) - 2023, batch size 5"
      ]
    },
    {
      "cell_type": "code",
      "execution_count": null,
      "metadata": {},
      "outputs": [],
      "source": [
        "args[\"z_dim\"] = 30\n",
        "#open saved encoder\n",
        "with open(\"../model weights/aggVAE/aggVAE_e50_h50_z30.pkl\", \"rb\") as file:\n",
        "    vae_params = pickle.load(file)\n",
        "\n",
        "encoder_params = vae_params[\"encoder$params\"]\n",
        "decoder_params = vae_params[\"decoder$params\"]\n",
        "\n",
        "# save decoder params inside args\n",
        "args[\"decoder_params\"] = decoder_params"
      ]
    },
    {
      "cell_type": "code",
      "execution_count": null,
      "metadata": {},
      "outputs": [],
      "source": [
        "config_count = {\n",
        "    'x': spatial_data[\"x\"],\n",
        "    'gp_kernel': exp_sq_kernel,\n",
        "    'noise': 1e-2,\n",
        "    'jitter': 1e-2,\n",
        "    'M_lo': jnp.array(spatial_data[\"pol_pts_lo\"]),\n",
        "    'M_hi': jnp.array(spatial_data[\"pol_pts_hi\"]),\n",
        "    'kernel_length': dist.InverseGamma(5, 2),\n",
        "    'kernel_var': dist.LogNormal(-1, 0.05),\n",
        "    'pop_density': pop_density,\n",
        "    'hdi_index': hdi_index,\n",
        "    'urban_frac': urban_frac,\n",
        "    'count': count,\n",
        "    'prior_pred': False,\n",
        "    \"decoder_params\": decoder_params,\n",
        "    \"out_dims\": 6 # [lo + hi]\n",
        "}"
      ]
    },
    {
      "cell_type": "code",
      "execution_count": null,
      "metadata": {},
      "outputs": [
        {
          "name": "stdout",
          "output_type": "stream",
          "text": [
            "\n",
            "                        mean       std    median      5.0%     95.0%     n_eff     r_hat\n",
            "                b0    100.24      9.90    100.09     83.21    115.97    750.00      1.00\n",
            "             b_hdi      0.12      1.00      0.14     -1.66      1.63    286.63      1.01\n",
            "     b_pop_density      0.07      1.01      0.07     -1.53      1.71    390.24      1.00\n",
            "           b_urban      0.11      1.02      0.14     -1.59      1.72    261.76      1.01\n",
            "full_pred_cases[0]   1561.61      8.55   1562.05   1548.64   1575.12    528.91      1.01\n",
            "full_pred_cases[1]    401.71    111.46    401.85    221.37    586.26    153.74      1.01\n",
            "full_pred_cases[2]    281.03    121.40    281.80     94.96    492.20    158.71      1.01\n",
            "full_pred_cases[3]    452.69    111.12    453.59    274.88    638.40    152.26      1.01\n",
            "full_pred_cases[4]    559.50    101.98    560.76    400.04    737.20    151.75      1.01\n",
            "full_pred_cases[5]    522.66    101.76    522.32    360.77    696.49    157.25      1.01\n",
            "             sigma      5.68      2.73      5.20      1.56      9.59    277.75      1.02\n",
            "            sigma1    138.06     70.06    121.29     40.02    238.57    486.15      1.00\n",
            "              z[0]     -0.10      0.99     -0.12     -1.68      1.63    785.52      1.01\n",
            "              z[1]     -0.07      0.98     -0.07     -1.63      1.54    784.87      1.00\n",
            "              z[2]     -0.18      1.03     -0.20     -1.80      1.54    618.12      1.00\n",
            "              z[3]      0.16      1.01      0.17     -1.51      1.74    571.14      1.01\n",
            "              z[4]      0.15      0.99      0.15     -1.65      1.58    786.28      1.01\n",
            "              z[5]      0.13      0.95      0.10     -1.43      1.70    732.41      1.00\n",
            "              z[6]     -0.16      1.01     -0.16     -1.86      1.42    547.25      1.01\n",
            "              z[7]     -0.19      1.02     -0.20     -1.81      1.51    776.62      1.00\n",
            "              z[8]     -0.05      0.96     -0.05     -1.60      1.51    786.17      1.01\n",
            "              z[9]      0.18      1.01      0.16     -1.31      1.95    589.04      1.00\n",
            "             z[10]      0.14      1.00      0.15     -1.60      1.62    711.70      1.00\n",
            "             z[11]     -0.06      0.99     -0.05     -1.55      1.61    661.83      1.01\n",
            "             z[12]      0.21      0.95      0.24     -1.33      1.77    580.35      1.00\n",
            "             z[13]      0.12      0.97      0.14     -1.58      1.63    702.12      1.00\n",
            "             z[14]     -0.15      0.97     -0.16     -1.71      1.40    759.85      1.00\n",
            "             z[15]     -0.18      1.00     -0.17     -1.67      1.62    552.52      1.01\n",
            "             z[16]     -0.15      1.03     -0.12     -1.95      1.49    781.16      1.00\n",
            "             z[17]      0.05      1.05      0.05     -1.51      1.94    655.57      1.01\n",
            "             z[18]     -0.01      0.99      0.01     -1.66      1.53    653.52      1.01\n",
            "             z[19]      0.18      0.99      0.16     -1.57      1.70    801.18      1.00\n",
            "             z[20]     -0.13      0.97     -0.14     -1.70      1.47    804.86      1.00\n",
            "             z[21]     -0.11      0.92     -0.13     -1.65      1.43    807.26      1.01\n",
            "             z[22]     -0.05      0.98     -0.07     -1.61      1.63    998.18      1.00\n",
            "             z[23]      0.21      1.03      0.18     -1.32      2.01    452.11      1.01\n",
            "             z[24]     -0.09      1.00     -0.09     -1.69      1.50    815.28      1.00\n",
            "             z[25]     -0.06      0.98     -0.06     -1.72      1.44    643.53      1.01\n",
            "             z[26]     -0.06      0.98     -0.08     -1.56      1.60    770.36      1.01\n",
            "             z[27]     -0.14      0.98     -0.11     -1.69      1.51    793.74      1.00\n",
            "             z[28]      0.14      0.96      0.15     -1.49      1.72    849.40      1.00\n",
            "             z[29]      0.05      1.01      0.06     -1.49      1.78    597.51      1.01\n",
            "\n",
            "Number of divergences: 785\n",
            "None\n"
          ]
        },
        {
          "data": {
            "text/html": [
              "<div>\n",
              "<style scoped>\n",
              "    .dataframe tbody tr th:only-of-type {\n",
              "        vertical-align: middle;\n",
              "    }\n",
              "\n",
              "    .dataframe tbody tr th {\n",
              "        vertical-align: top;\n",
              "    }\n",
              "\n",
              "    .dataframe thead th {\n",
              "        text-align: right;\n",
              "    }\n",
              "</style>\n",
              "<table border=\"1\" class=\"dataframe\">\n",
              "  <thead>\n",
              "    <tr style=\"text-align: right;\">\n",
              "      <th></th>\n",
              "      <th>mean</th>\n",
              "      <th>sd</th>\n",
              "      <th>hdi_3%</th>\n",
              "      <th>hdi_97%</th>\n",
              "      <th>mcse_mean</th>\n",
              "      <th>mcse_sd</th>\n",
              "      <th>ess_bulk</th>\n",
              "      <th>ess_tail</th>\n",
              "      <th>r_hat</th>\n",
              "    </tr>\n",
              "  </thead>\n",
              "  <tbody>\n",
              "    <tr>\n",
              "      <th>pred_cases_out[0]</th>\n",
              "      <td>1561.608</td>\n",
              "      <td>8.548</td>\n",
              "      <td>1544.568</td>\n",
              "      <td>1577.866</td>\n",
              "      <td>0.370</td>\n",
              "      <td>0.374</td>\n",
              "      <td>598.0</td>\n",
              "      <td>575.0</td>\n",
              "      <td>1.01</td>\n",
              "    </tr>\n",
              "    <tr>\n",
              "      <th>pred_cases_out[1]</th>\n",
              "      <td>401.708</td>\n",
              "      <td>111.463</td>\n",
              "      <td>192.986</td>\n",
              "      <td>604.072</td>\n",
              "      <td>8.790</td>\n",
              "      <td>4.509</td>\n",
              "      <td>162.0</td>\n",
              "      <td>287.0</td>\n",
              "      <td>1.01</td>\n",
              "    </tr>\n",
              "    <tr>\n",
              "      <th>pred_cases_out[2]</th>\n",
              "      <td>281.028</td>\n",
              "      <td>121.398</td>\n",
              "      <td>57.448</td>\n",
              "      <td>507.012</td>\n",
              "      <td>9.375</td>\n",
              "      <td>4.537</td>\n",
              "      <td>167.0</td>\n",
              "      <td>297.0</td>\n",
              "      <td>1.01</td>\n",
              "    </tr>\n",
              "    <tr>\n",
              "      <th>pred_cases_out[3]</th>\n",
              "      <td>452.687</td>\n",
              "      <td>111.125</td>\n",
              "      <td>258.690</td>\n",
              "      <td>666.797</td>\n",
              "      <td>8.801</td>\n",
              "      <td>4.500</td>\n",
              "      <td>160.0</td>\n",
              "      <td>260.0</td>\n",
              "      <td>1.01</td>\n",
              "    </tr>\n",
              "    <tr>\n",
              "      <th>pred_cases_out[4]</th>\n",
              "      <td>559.500</td>\n",
              "      <td>101.984</td>\n",
              "      <td>371.597</td>\n",
              "      <td>747.594</td>\n",
              "      <td>8.109</td>\n",
              "      <td>4.072</td>\n",
              "      <td>160.0</td>\n",
              "      <td>271.0</td>\n",
              "      <td>1.01</td>\n",
              "    </tr>\n",
              "    <tr>\n",
              "      <th>pred_cases_out[5]</th>\n",
              "      <td>522.660</td>\n",
              "      <td>101.760</td>\n",
              "      <td>338.918</td>\n",
              "      <td>715.924</td>\n",
              "      <td>7.952</td>\n",
              "      <td>4.137</td>\n",
              "      <td>164.0</td>\n",
              "      <td>276.0</td>\n",
              "      <td>1.01</td>\n",
              "    </tr>\n",
              "    <tr>\n",
              "      <th>lp[0]</th>\n",
              "      <td>1561.816</td>\n",
              "      <td>6.121</td>\n",
              "      <td>1550.059</td>\n",
              "      <td>1573.676</td>\n",
              "      <td>0.190</td>\n",
              "      <td>0.198</td>\n",
              "      <td>1136.0</td>\n",
              "      <td>1144.0</td>\n",
              "      <td>1.01</td>\n",
              "    </tr>\n",
              "    <tr>\n",
              "      <th>lp[1]</th>\n",
              "      <td>401.773</td>\n",
              "      <td>111.323</td>\n",
              "      <td>192.326</td>\n",
              "      <td>601.550</td>\n",
              "      <td>8.783</td>\n",
              "      <td>4.514</td>\n",
              "      <td>162.0</td>\n",
              "      <td>278.0</td>\n",
              "      <td>1.01</td>\n",
              "    </tr>\n",
              "    <tr>\n",
              "      <th>lp[2]</th>\n",
              "      <td>280.964</td>\n",
              "      <td>121.179</td>\n",
              "      <td>58.716</td>\n",
              "      <td>508.813</td>\n",
              "      <td>9.366</td>\n",
              "      <td>4.536</td>\n",
              "      <td>168.0</td>\n",
              "      <td>304.0</td>\n",
              "      <td>1.01</td>\n",
              "    </tr>\n",
              "    <tr>\n",
              "      <th>lp[3]</th>\n",
              "      <td>452.630</td>\n",
              "      <td>110.831</td>\n",
              "      <td>256.236</td>\n",
              "      <td>663.117</td>\n",
              "      <td>8.780</td>\n",
              "      <td>4.476</td>\n",
              "      <td>161.0</td>\n",
              "      <td>268.0</td>\n",
              "      <td>1.01</td>\n",
              "    </tr>\n",
              "    <tr>\n",
              "      <th>lp[4]</th>\n",
              "      <td>559.357</td>\n",
              "      <td>101.889</td>\n",
              "      <td>367.209</td>\n",
              "      <td>743.183</td>\n",
              "      <td>8.114</td>\n",
              "      <td>4.094</td>\n",
              "      <td>159.0</td>\n",
              "      <td>274.0</td>\n",
              "      <td>1.01</td>\n",
              "    </tr>\n",
              "    <tr>\n",
              "      <th>lp[5]</th>\n",
              "      <td>522.705</td>\n",
              "      <td>101.578</td>\n",
              "      <td>339.450</td>\n",
              "      <td>718.005</td>\n",
              "      <td>7.948</td>\n",
              "      <td>4.154</td>\n",
              "      <td>163.0</td>\n",
              "      <td>262.0</td>\n",
              "      <td>1.01</td>\n",
              "    </tr>\n",
              "    <tr>\n",
              "      <th>b0</th>\n",
              "      <td>100.243</td>\n",
              "      <td>9.897</td>\n",
              "      <td>81.623</td>\n",
              "      <td>118.522</td>\n",
              "      <td>0.360</td>\n",
              "      <td>0.255</td>\n",
              "      <td>769.0</td>\n",
              "      <td>1463.0</td>\n",
              "      <td>1.00</td>\n",
              "    </tr>\n",
              "    <tr>\n",
              "      <th>b_pop_density</th>\n",
              "      <td>0.071</td>\n",
              "      <td>1.010</td>\n",
              "      <td>-1.595</td>\n",
              "      <td>2.100</td>\n",
              "      <td>0.050</td>\n",
              "      <td>0.023</td>\n",
              "      <td>409.0</td>\n",
              "      <td>856.0</td>\n",
              "      <td>1.01</td>\n",
              "    </tr>\n",
              "    <tr>\n",
              "      <th>b_hdi</th>\n",
              "      <td>0.122</td>\n",
              "      <td>0.995</td>\n",
              "      <td>-1.741</td>\n",
              "      <td>1.978</td>\n",
              "      <td>0.057</td>\n",
              "      <td>0.028</td>\n",
              "      <td>298.0</td>\n",
              "      <td>696.0</td>\n",
              "      <td>1.01</td>\n",
              "    </tr>\n",
              "    <tr>\n",
              "      <th>b_urban</th>\n",
              "      <td>0.112</td>\n",
              "      <td>1.021</td>\n",
              "      <td>-1.771</td>\n",
              "      <td>1.983</td>\n",
              "      <td>0.061</td>\n",
              "      <td>0.025</td>\n",
              "      <td>279.0</td>\n",
              "      <td>693.0</td>\n",
              "      <td>1.01</td>\n",
              "    </tr>\n",
              "    <tr>\n",
              "      <th>vae[0]</th>\n",
              "      <td>1432.389</td>\n",
              "      <td>172.688</td>\n",
              "      <td>1133.312</td>\n",
              "      <td>1767.303</td>\n",
              "      <td>8.327</td>\n",
              "      <td>4.047</td>\n",
              "      <td>431.0</td>\n",
              "      <td>939.0</td>\n",
              "      <td>1.00</td>\n",
              "    </tr>\n",
              "    <tr>\n",
              "      <th>vae[1]</th>\n",
              "      <td>280.696</td>\n",
              "      <td>43.569</td>\n",
              "      <td>205.614</td>\n",
              "      <td>360.602</td>\n",
              "      <td>1.793</td>\n",
              "      <td>1.837</td>\n",
              "      <td>606.0</td>\n",
              "      <td>894.0</td>\n",
              "      <td>1.00</td>\n",
              "    </tr>\n",
              "    <tr>\n",
              "      <th>vae[2]</th>\n",
              "      <td>158.961</td>\n",
              "      <td>35.223</td>\n",
              "      <td>99.428</td>\n",
              "      <td>223.643</td>\n",
              "      <td>1.420</td>\n",
              "      <td>1.854</td>\n",
              "      <td>663.0</td>\n",
              "      <td>885.0</td>\n",
              "      <td>1.00</td>\n",
              "    </tr>\n",
              "    <tr>\n",
              "      <th>vae[3]</th>\n",
              "      <td>330.956</td>\n",
              "      <td>46.555</td>\n",
              "      <td>248.255</td>\n",
              "      <td>413.448</td>\n",
              "      <td>1.943</td>\n",
              "      <td>1.607</td>\n",
              "      <td>580.0</td>\n",
              "      <td>892.0</td>\n",
              "      <td>1.00</td>\n",
              "    </tr>\n",
              "    <tr>\n",
              "      <th>vae[4]</th>\n",
              "      <td>438.389</td>\n",
              "      <td>58.532</td>\n",
              "      <td>331.271</td>\n",
              "      <td>539.791</td>\n",
              "      <td>2.463</td>\n",
              "      <td>1.780</td>\n",
              "      <td>568.0</td>\n",
              "      <td>970.0</td>\n",
              "      <td>1.00</td>\n",
              "    </tr>\n",
              "    <tr>\n",
              "      <th>vae[5]</th>\n",
              "      <td>402.999</td>\n",
              "      <td>62.536</td>\n",
              "      <td>295.294</td>\n",
              "      <td>518.080</td>\n",
              "      <td>2.504</td>\n",
              "      <td>2.453</td>\n",
              "      <td>638.0</td>\n",
              "      <td>1047.0</td>\n",
              "      <td>1.00</td>\n",
              "    </tr>\n",
              "  </tbody>\n",
              "</table>\n",
              "</div>"
            ],
            "text/plain": [
              "                       mean       sd    hdi_3%   hdi_97%  mcse_mean  mcse_sd  \\\n",
              "pred_cases_out[0]  1561.608    8.548  1544.568  1577.866      0.370    0.374   \n",
              "pred_cases_out[1]   401.708  111.463   192.986   604.072      8.790    4.509   \n",
              "pred_cases_out[2]   281.028  121.398    57.448   507.012      9.375    4.537   \n",
              "pred_cases_out[3]   452.687  111.125   258.690   666.797      8.801    4.500   \n",
              "pred_cases_out[4]   559.500  101.984   371.597   747.594      8.109    4.072   \n",
              "pred_cases_out[5]   522.660  101.760   338.918   715.924      7.952    4.137   \n",
              "lp[0]              1561.816    6.121  1550.059  1573.676      0.190    0.198   \n",
              "lp[1]               401.773  111.323   192.326   601.550      8.783    4.514   \n",
              "lp[2]               280.964  121.179    58.716   508.813      9.366    4.536   \n",
              "lp[3]               452.630  110.831   256.236   663.117      8.780    4.476   \n",
              "lp[4]               559.357  101.889   367.209   743.183      8.114    4.094   \n",
              "lp[5]               522.705  101.578   339.450   718.005      7.948    4.154   \n",
              "b0                  100.243    9.897    81.623   118.522      0.360    0.255   \n",
              "b_pop_density         0.071    1.010    -1.595     2.100      0.050    0.023   \n",
              "b_hdi                 0.122    0.995    -1.741     1.978      0.057    0.028   \n",
              "b_urban               0.112    1.021    -1.771     1.983      0.061    0.025   \n",
              "vae[0]             1432.389  172.688  1133.312  1767.303      8.327    4.047   \n",
              "vae[1]              280.696   43.569   205.614   360.602      1.793    1.837   \n",
              "vae[2]              158.961   35.223    99.428   223.643      1.420    1.854   \n",
              "vae[3]              330.956   46.555   248.255   413.448      1.943    1.607   \n",
              "vae[4]              438.389   58.532   331.271   539.791      2.463    1.780   \n",
              "vae[5]              402.999   62.536   295.294   518.080      2.504    2.453   \n",
              "\n",
              "                   ess_bulk  ess_tail  r_hat  \n",
              "pred_cases_out[0]     598.0     575.0   1.01  \n",
              "pred_cases_out[1]     162.0     287.0   1.01  \n",
              "pred_cases_out[2]     167.0     297.0   1.01  \n",
              "pred_cases_out[3]     160.0     260.0   1.01  \n",
              "pred_cases_out[4]     160.0     271.0   1.01  \n",
              "pred_cases_out[5]     164.0     276.0   1.01  \n",
              "lp[0]                1136.0    1144.0   1.01  \n",
              "lp[1]                 162.0     278.0   1.01  \n",
              "lp[2]                 168.0     304.0   1.01  \n",
              "lp[3]                 161.0     268.0   1.01  \n",
              "lp[4]                 159.0     274.0   1.01  \n",
              "lp[5]                 163.0     262.0   1.01  \n",
              "b0                    769.0    1463.0   1.00  \n",
              "b_pop_density         409.0     856.0   1.01  \n",
              "b_hdi                 298.0     696.0   1.01  \n",
              "b_urban               279.0     693.0   1.01  \n",
              "vae[0]                431.0     939.0   1.00  \n",
              "vae[1]                606.0     894.0   1.00  \n",
              "vae[2]                663.0     885.0   1.00  \n",
              "vae[3]                580.0     892.0   1.00  \n",
              "vae[4]                568.0     970.0   1.00  \n",
              "vae[5]                638.0    1047.0   1.00  "
            ]
          },
          "metadata": {},
          "output_type": "display_data"
        }
      ],
      "source": [
        "# creating  posterior predictive\n",
        "rng_key_pr, rng_key_po = random.split(random.PRNGKey(4))\n",
        "posterior_samples = mcmc_4.get_samples()\n",
        "posterior_predictive = Predictive(model, posterior_samples)(\n",
        "    rng_key_po, config_count\n",
        ")\n",
        "\n",
        "# transform posterior predictive to arviz inference objects\n",
        "Total_districts = df_lo.shape[0] + df_hi.shape[0]\n",
        "numpyro_data = az.from_numpyro(\n",
        "    mcmc_4,\n",
        "    posterior_predictive=posterior_predictive,\n",
        "    coords={\"district\": np.arange(Total_districts)},\n",
        "    dims={\"lp\": [\"district\"]},)\n",
        "\n",
        "# %%\n",
        "print(mcmc_4.print_summary())\n",
        "az.summary(numpyro_data, var_names = [\"pred_cases_out\", \"lp\", \"b0\", \"b_pop_density\", \"b_hdi\", \"b_urban\", \"vae\"])"
      ]
    },
    {
      "cell_type": "code",
      "execution_count": null,
      "metadata": {},
      "outputs": [
        {
          "name": "stdout",
          "output_type": "stream",
          "text": [
            "Average ESS for all aggVAE effects : 472\n",
            "Average ESS for all aggVAE-low effects : 476\n",
            "Max r_hat for all aggVAE-low : 1.0\n",
            "Average ESS for all aggVAE-high effects : 472\n",
            "Max r_hat for all aggVAE-high : 1.0\n"
          ]
        }
      ],
      "source": [
        "#check ESS and rhat\n",
        "ss = numpyro.diagnostics.summary(mcmc_4.get_samples(group_by_chain=True))\n",
        "r = np.mean(ss['vae_aggr']['n_eff'])\n",
        "print(\"Average ESS for all aggVAE effects : \" + str(round(r)))\n",
        "\n",
        "ess_lo = np.mean(ss[\"vae_aggr\"][\"n_eff\"][0:1])\n",
        "r_hat_lo = np.max(ss[\"vae_aggr\"][\"r_hat\"][0:1])\n",
        "\n",
        "ess_hi = np.mean(ss[\"vae_aggr\"][\"n_eff\"][1:6])\n",
        "r_hat_hi = np.max(ss[\"vae_aggr\"][\"r_hat\"][1 : 6])\n",
        "\n",
        "print(f\"Average ESS for all aggVAE-low effects : {round(ess_lo)}\")\n",
        "print(f\"Max r_hat for all aggVAE-low : {round(r_hat_lo,2)}\")\n",
        "\n",
        "print(f\"Average ESS for all aggVAE-high effects : {round(ess_hi)}\")\n",
        "print(f\"Max r_hat for all aggVAE-high : {round(r_hat_hi,2)}\")"
      ]
    },
    {
      "cell_type": "code",
      "execution_count": null,
      "metadata": {},
      "outputs": [],
      "source": [
        "mean_pred_cases = numpyro_data.posterior.pred_cases_out.values.mean(axis=(0, 1))\n",
        "df_hi['pred_cases_num'] = mean_pred_cases[df_lo.shape[0]:]\n",
        "df_lo['pred_cases'] = mean_pred_cases[:df_lo.shape[0]] / df_lo.Population\n",
        "df_hi['pred_cases'] = mean_pred_cases[df_lo.shape[0]:] / df_hi.Population"
      ]
    },
    {
      "cell_type": "code",
      "execution_count": null,
      "metadata": {},
      "outputs": [
        {
          "name": "stdout",
          "output_type": "stream",
          "text": [
            "RMSE: 149.9626\n",
            "MAE as % of average observed prevalence: 51.72%\n"
          ]
        }
      ],
      "source": [
        "#calculate RMSE, MAE, MAPE / MAE as percentage of average no. of districts\n",
        "import numpy as np\n",
        "from sklearn.metrics import mean_squared_error, mean_absolute_error\n",
        "\n",
        "# Extract the predicted and observed values\n",
        "y_pred = df_hi[\"pred_cases_num\"].values\n",
        "y_true = df_hi[\"Cases\"].values\n",
        "\n",
        "# Calculate metrics\n",
        "rmse = np.sqrt(mean_squared_error(y_true, y_pred))\n",
        "\n",
        "# Group by district\n",
        "district_mae_pct = []\n",
        "\n",
        "for district, group in df_hi.groupby(\"District\"):\n",
        "    y_true_d = group[\"Cases\"].values\n",
        "    y_pred_d = group[\"pred_cases_num\"].values\n",
        "\n",
        "    if len(y_true_d) > 0 and np.mean(y_true_d) != 0:\n",
        "        mae_d = mean_absolute_error(y_true_d, y_pred_d)\n",
        "        mae_pct_d = (mae_d / np.mean(y_true_d)) * 100\n",
        "        district_mae_pct.append(mae_pct_d)\n",
        "\n",
        "# Average across districts\n",
        "mae_pct_avg_across_districts = np.mean(district_mae_pct)\n",
        "\n",
        "# Print results\n",
        "print(f\"RMSE: {rmse:.4f}\")\n",
        "print(f\"MAE as % of average observed prevalence: {mae_pct_avg_across_districts:.2f}%\")"
      ]
    },
    {
      "cell_type": "markdown",
      "metadata": {},
      "source": [
        "## Determine the best target_accept_prob on the 2022 dataset"
      ]
    },
    {
      "cell_type": "code",
      "execution_count": null,
      "metadata": {},
      "outputs": [],
      "source": [
        "#load the mcmc data u want\n",
        "with open(\"../model weights/aggVAE/mcmc_jkt_2022_30min_targetprob0.9.pkl\", \"rb\") as f_1:\n",
        "    mcmc_1 = pickle.load(f_1)\n",
        "\n",
        "with open(\"../model weights/aggVAE/mcmc_jkt_2022_8min_prob0.95.pkl\", \"rb\") as f_2:\n",
        "    mcmc_2 = pickle.load(f_2)"
      ]
    },
    {
      "cell_type": "code",
      "execution_count": null,
      "metadata": {},
      "outputs": [
        {
          "name": "stdout",
          "output_type": "stream",
          "text": [
            "dict_keys(['x', 'pol_pts_lo', 'pol_pts_hi', 'df_lo', 'df_hi'])\n",
            "Dengue incidence by province and year (low resolution):\n",
            "                  incidence\n",
            "Province    Year           \n",
            "DKI Jakarta 2020   0.001519\n",
            "            2021   0.001315\n",
            "            2022   0.002667\n",
            "            2023   0.001983 \n",
            "\n",
            "We are using data for the year 2022\n",
            "\n"
          ]
        }
      ],
      "source": [
        "# load data\n",
        "spatial_data = load_data()\n",
        "print(spatial_data.keys())\n",
        "\n",
        "# Lets lok at the data and dissect it\n",
        "lo_prev = spatial_data[\"df_lo\"].copy()\n",
        "lo_prev['incidence'] = (lo_prev.Cases / lo_prev.Population)\n",
        "print(\"Dengue incidence by province and year (low resolution):\")\n",
        "print(lo_prev.groupby(['Province', 'Year'])[['incidence']].mean(), '\\n')\n",
        "\n",
        "# make sure we use only one year of data (change manually)\n",
        "year_data = 2022\n",
        "print(f'We are using data for the year {year_data}\\n')\n",
        "\n",
        "# let us filter the data for the years 2023, 2022, 2021, 2020 (must change the input manually for year_data)\n",
        "df_lo = spatial_data[\"df_lo\"][spatial_data[\"df_lo\"].Year == year_data]\n",
        "df_hi = spatial_data[\"df_hi\"][spatial_data[\"df_hi\"].Year == year_data]\n",
        "\n",
        "df_lo = df_lo.copy()\n",
        "df_hi = df_hi.copy()\n",
        "df_lo.loc[:, 'incidence'] = df_lo.Cases / df_lo.Population\n",
        "df_hi.loc[:, 'incidence'] = df_hi.Cases / df_hi.Population\n",
        "\n",
        "total_population = jnp.concatenate([df_lo.Population.values, df_hi.Population.values])\n",
        "count = jnp.concatenate([df_lo.Cases.values, jnp.full((df_hi.shape[0],), jnp.nan)])\n",
        "hdi_index = jnp.concatenate([df_lo.HDI.values, df_hi.HDI.values])*100\n",
        "pop_density = jnp.concatenate([df_lo.Pop_den.values*1e2, (df_hi.Pop_den.values)*1e-1])\n",
        "urban_frac = jnp.concatenate([df_lo.urbanicity.values, df_hi.urbanicity.values])*100"
      ]
    },
    {
      "cell_type": "markdown",
      "metadata": {},
      "source": [
        "### prob 0.99"
      ]
    },
    {
      "cell_type": "code",
      "execution_count": null,
      "metadata": {},
      "outputs": [],
      "source": [
        "# creating  prior and posterior predictive\n",
        "rng_key_pr, rng_key_po = random.split(random.PRNGKey(4))\n",
        "posterior_samples = mcmc_1.get_samples()\n",
        "posterior_predictive = Predictive(model, posterior_samples)(\n",
        "    rng_key_po, config_count\n",
        ")\n",
        "prior = Predictive(model, num_samples=500)(\n",
        "    rng_key_pr, config_count\n",
        ")\n",
        "# transform prior and posterior predictive to arviz inference objects\n",
        "Total_districts = df_lo.shape[0] + df_hi.shape[0]\n",
        "numpyro_data = az.from_numpyro(\n",
        "    mcmc_1,\n",
        "    prior=prior,\n",
        "    posterior_predictive=posterior_predictive,\n",
        "    coords={\"district\": np.arange(Total_districts)},\n",
        "    dims={\"lp\": [\"district\"]},\n",
        ")"
      ]
    },
    {
      "cell_type": "code",
      "execution_count": null,
      "metadata": {},
      "outputs": [
        {
          "name": "stdout",
          "output_type": "stream",
          "text": [
            "\n",
            "                     mean       std    median      5.0%     95.0%     n_eff     r_hat\n",
            "             b0     99.37     10.42     99.66     81.47    115.75    611.51      1.01\n",
            "          b_hdi     -0.06      0.99     -0.05     -1.69      1.62    512.64      1.01\n",
            "  b_pop_density      0.04      1.00      0.01     -1.54      1.77    884.54      1.01\n",
            "        b_urban      0.00      0.98     -0.01     -1.54      1.69    415.14      1.03\n",
            "  kernel_length      0.51      0.31      0.44      0.18      0.82    487.50      1.01\n",
            "     kernel_var      0.37      0.02      0.37      0.34      0.40    942.78      1.00\n",
            "       log_f[0]      3.12      0.63      3.19      2.10      4.06      7.64      1.23\n",
            "       log_f[1]      3.12      0.63      3.18      2.11      4.05      7.72      1.23\n",
            "       log_f[2]      3.12      0.63      3.18      2.10      4.01      7.32      1.24\n",
            "       log_f[3]      3.12      0.63      3.19      2.14      4.04      6.85      1.26\n",
            "       log_f[4]      3.13      0.63      3.18      2.17      4.08      6.80      1.26\n",
            "       log_f[5]      3.12      0.62      3.16      2.14      4.03      6.67      1.26\n",
            "       log_f[6]      3.13      0.61      3.16      2.16      4.03      6.78      1.26\n",
            "       log_f[7]      3.12      0.60      3.16      2.15      4.02      7.03      1.24\n",
            "       log_f[8]      3.13      0.61      3.15      2.18      4.09      6.76      1.26\n",
            "       log_f[9]      3.11      0.60      3.14      2.19      4.05      6.89      1.25\n",
            "      log_f[10]      3.12      0.63      3.20      2.12      4.07      7.20      1.24\n",
            "      log_f[11]      3.12      0.62      3.20      2.11      4.03      7.04      1.25\n",
            "      log_f[12]      3.13      0.63      3.19      2.12      4.07      6.68      1.27\n",
            "      log_f[13]      3.13      0.63      3.18      2.19      4.11      6.38      1.28\n",
            "      log_f[14]      3.13      0.63      3.17      2.12      4.00      6.55      1.27\n",
            "      log_f[15]      3.13      0.62      3.17      2.16      4.03      6.37      1.28\n",
            "      log_f[16]      3.13      0.61      3.16      2.21      4.08      6.15      1.29\n",
            "      log_f[17]      3.12      0.60      3.15      2.21      4.05      6.41      1.27\n",
            "      log_f[18]      3.12      0.61      3.15      2.17      4.04      6.21      1.28\n",
            "      log_f[19]      3.12      0.60      3.14      2.24      4.11      6.43      1.27\n",
            "      log_f[20]      3.12      0.63      3.19      2.10      4.06      7.25      1.24\n",
            "      log_f[21]      3.12      0.63      3.21      2.10      4.04      6.77      1.27\n",
            "      log_f[22]      3.12      0.62      3.17      2.11      4.01      6.60      1.27\n",
            "      log_f[23]      3.12      0.63      3.18      2.15      4.06      6.32      1.29\n",
            "      log_f[24]      3.13      0.63      3.18      2.15      4.11      6.00      1.32\n",
            "      log_f[25]      3.12      0.62      3.15      2.17      4.02      6.06      1.30\n",
            "      log_f[26]      3.13      0.61      3.16      2.20      4.05      5.91      1.31\n",
            "      log_f[27]      3.12      0.61      3.16      2.19      4.04      6.01      1.30\n",
            "      log_f[28]      3.12      0.61      3.15      2.22      4.08      6.07      1.30\n",
            "      log_f[29]      3.12      0.60      3.15      2.19      4.03      6.40      1.27\n",
            "      log_f[30]      3.13      0.63      3.20      2.11      4.11      6.70      1.27\n",
            "      log_f[31]      3.12      0.63      3.19      2.08      4.02      6.49      1.28\n",
            "      log_f[32]      3.12      0.63      3.20      2.13      4.04      6.19      1.30\n",
            "      log_f[33]      3.13      0.63      3.19      2.07      4.03      6.32      1.30\n",
            "      log_f[34]      3.12      0.62      3.16      2.09      4.00      5.91      1.32\n",
            "      log_f[35]      3.13      0.61      3.16      2.22      4.07      5.77      1.32\n",
            "      log_f[36]      3.12      0.61      3.15      2.18      4.03      5.68      1.33\n",
            "      log_f[37]      3.13      0.62      3.16      2.21      4.11      5.54      1.34\n",
            "      log_f[38]      3.12      0.60      3.15      2.20      4.04      5.91      1.30\n",
            "      log_f[39]      3.13      0.61      3.15      2.22      4.07      6.16      1.30\n",
            "      log_f[40]      3.12      0.63      3.17      2.12      4.07      6.70      1.27\n",
            "      log_f[41]      3.12      0.63      3.19      2.10      4.06      6.41      1.29\n",
            "      log_f[42]      3.13      0.63      3.20      2.09      4.07      6.02      1.31\n",
            "      log_f[43]      3.12      0.62      3.19      2.09      4.01      6.17      1.31\n",
            "      log_f[44]      3.13      0.62      3.17      2.21      4.10      5.68      1.33\n",
            "      log_f[45]      3.13      0.62      3.16      2.15      4.05      5.54      1.34\n",
            "      log_f[46]      3.13      0.62      3.15      2.29      4.18      5.52      1.35\n",
            "      log_f[47]      3.13      0.61      3.15      2.21      4.07      5.58      1.33\n",
            "      log_f[48]      3.12      0.61      3.13      2.22      4.05      5.71      1.32\n",
            "      log_f[49]      3.12      0.61      3.14      2.17      4.04      5.95      1.31\n",
            "      log_f[50]      3.12      0.63      3.16      2.13      4.09      6.52      1.28\n",
            "      log_f[51]      3.11      0.62      3.17      2.15      4.09      6.52      1.28\n",
            "      log_f[52]      3.13      0.62      3.17      2.18      4.11      5.90      1.31\n",
            "      log_f[53]      3.13      0.62      3.17      2.18      4.05      5.76      1.33\n",
            "      log_f[54]      3.12      0.62      3.13      2.18      4.09      5.60      1.34\n",
            "      log_f[55]      3.13      0.61      3.17      2.25      4.12      5.71      1.33\n",
            "      log_f[56]      3.13      0.62      3.14      2.20      4.05      5.51      1.35\n",
            "      log_f[57]      3.13      0.61      3.14      2.18      4.04      5.59      1.33\n",
            "      log_f[58]      3.12      0.61      3.15      2.23      4.09      5.79      1.33\n",
            "      log_f[59]      3.12      0.61      3.14      2.22      4.10      5.71      1.33\n",
            "      log_f[60]      3.11      0.62      3.15      2.11      4.05      6.61      1.27\n",
            "      log_f[61]      3.12      0.63      3.15      2.15      4.12      6.15      1.30\n",
            "      log_f[62]      3.12      0.63      3.14      2.16      4.07      5.98      1.32\n",
            "      log_f[63]      3.13      0.61      3.15      2.23      4.09      5.82      1.32\n",
            "      log_f[64]      3.12      0.62      3.14      2.21      4.09      5.61      1.34\n",
            "      log_f[65]      3.13      0.62      3.11      2.23      4.13      5.34      1.35\n",
            "      log_f[66]      3.13      0.61      3.16      2.20      4.07      5.65      1.34\n",
            "      log_f[67]      3.12      0.61      3.15      2.20      4.06      5.58      1.34\n",
            "      log_f[68]      3.12      0.61      3.14      2.21      4.07      5.76      1.32\n",
            "      log_f[69]      3.12      0.61      3.14      2.20      4.05      5.84      1.31\n",
            "      log_f[70]      3.11      0.63      3.16      2.13      4.10      6.48      1.28\n",
            "      log_f[71]      3.11      0.62      3.14      2.12      4.06      6.34      1.29\n",
            "      log_f[72]      3.12      0.62      3.14      2.22      4.12      6.06      1.31\n",
            "      log_f[73]      3.12      0.62      3.13      2.22      4.08      5.70      1.33\n",
            "      log_f[74]      3.13      0.62      3.13      2.25      4.14      5.63      1.34\n",
            "      log_f[75]      3.13      0.62      3.12      2.25      4.12      5.42      1.35\n",
            "      log_f[76]      3.12      0.61      3.13      2.23      4.08      5.78      1.33\n",
            "      log_f[77]      3.12      0.61      3.12      2.24      4.09      5.75      1.33\n",
            "      log_f[78]      3.12      0.61      3.12      2.20      4.05      5.76      1.33\n",
            "      log_f[79]      3.12      0.62      3.16      2.22      4.10      5.94      1.31\n",
            "      log_f[80]      3.11      0.62      3.14      2.07      4.04      6.67      1.27\n",
            "      log_f[81]      3.11      0.62      3.13      2.23      4.14      6.20      1.29\n",
            "      log_f[82]      3.12      0.62      3.14      2.19      4.08      6.11      1.30\n",
            "      log_f[83]      3.12      0.62      3.13      2.22      4.10      5.87      1.32\n",
            "      log_f[84]      3.12      0.63      3.12      2.24      4.14      5.59      1.34\n",
            "      log_f[85]      3.12      0.62      3.13      2.24      4.12      5.67      1.34\n",
            "      log_f[86]      3.12      0.61      3.12      2.16      4.05      5.90      1.32\n",
            "      log_f[87]      3.13      0.62      3.16      2.19      4.07      5.87      1.32\n",
            "      log_f[88]      3.13      0.61      3.13      2.22      4.11      5.81      1.32\n",
            "      log_f[89]      3.12      0.62      3.13      2.19      4.07      5.99      1.31\n",
            "      log_f[90]      3.10      0.62      3.13      2.13      4.06      6.89      1.26\n",
            "      log_f[91]      3.11      0.62      3.13      2.20      4.09      6.43      1.28\n",
            "      log_f[92]      3.11      0.62      3.13      2.17      4.06      6.22      1.29\n",
            "      log_f[93]      3.11      0.61      3.13      2.23      4.09      6.09      1.30\n",
            "      log_f[94]      3.12      0.61      3.14      2.23      4.10      6.13      1.30\n",
            "      log_f[95]      3.12      0.61      3.12      2.19      4.07      5.95      1.31\n",
            "      log_f[96]      3.11      0.61      3.12      2.21      4.06      5.99      1.31\n",
            "      log_f[97]      3.12      0.62      3.13      2.20      4.07      5.87      1.32\n",
            "      log_f[98]      3.12      0.61      3.13      2.20      4.10      6.25      1.29\n",
            "      log_f[99]      3.11      0.61      3.12      2.19      4.10      6.52      1.27\n",
            "       log_mean      2.99      0.10      2.99      2.83      3.16    709.23      1.01\n",
            "  pred_cases[0]   1646.60    875.22   1430.20    450.89   2979.53      4.73      1.43\n",
            "  pred_cases[1]    368.96    213.36    344.39     20.07    674.45      6.49      1.29\n",
            "  pred_cases[2]    234.85    154.30    227.44    -27.51    462.28     11.61      1.16\n",
            "  pred_cases[3]    422.40    236.87    388.99     32.10    768.29      6.07      1.33\n",
            "  pred_cases[4]    528.61    283.83    479.83     80.40    958.55      5.19      1.40\n",
            "  pred_cases[5]    472.32    253.13    436.97     83.82    858.99      5.58      1.36\n",
            "          sigma     44.25     28.43     37.42      7.49     84.59    262.47      1.02\n",
            "\n",
            "Number of divergences: 677\n",
            "None\n"
          ]
        },
        {
          "data": {
            "text/html": [
              "<div>\n",
              "<style scoped>\n",
              "    .dataframe tbody tr th:only-of-type {\n",
              "        vertical-align: middle;\n",
              "    }\n",
              "\n",
              "    .dataframe tbody tr th {\n",
              "        vertical-align: top;\n",
              "    }\n",
              "\n",
              "    .dataframe thead th {\n",
              "        text-align: right;\n",
              "    }\n",
              "</style>\n",
              "<table border=\"1\" class=\"dataframe\">\n",
              "  <thead>\n",
              "    <tr style=\"text-align: right;\">\n",
              "      <th></th>\n",
              "      <th>mean</th>\n",
              "      <th>sd</th>\n",
              "      <th>hdi_3%</th>\n",
              "      <th>hdi_97%</th>\n",
              "      <th>mcse_mean</th>\n",
              "      <th>mcse_sd</th>\n",
              "      <th>ess_bulk</th>\n",
              "      <th>ess_tail</th>\n",
              "      <th>r_hat</th>\n",
              "    </tr>\n",
              "  </thead>\n",
              "  <tbody>\n",
              "    <tr>\n",
              "      <th>pred_cases[0]</th>\n",
              "      <td>1646.596</td>\n",
              "      <td>875.216</td>\n",
              "      <td>365.375</td>\n",
              "      <td>3185.032</td>\n",
              "      <td>306.871</td>\n",
              "      <td>85.655</td>\n",
              "      <td>9.0</td>\n",
              "      <td>120.0</td>\n",
              "      <td>1.37</td>\n",
              "    </tr>\n",
              "    <tr>\n",
              "      <th>pred_cases[1]</th>\n",
              "      <td>368.961</td>\n",
              "      <td>213.365</td>\n",
              "      <td>-11.617</td>\n",
              "      <td>716.932</td>\n",
              "      <td>65.142</td>\n",
              "      <td>15.826</td>\n",
              "      <td>11.0</td>\n",
              "      <td>175.0</td>\n",
              "      <td>1.28</td>\n",
              "    </tr>\n",
              "    <tr>\n",
              "      <th>pred_cases[2]</th>\n",
              "      <td>234.845</td>\n",
              "      <td>154.303</td>\n",
              "      <td>-31.739</td>\n",
              "      <td>510.296</td>\n",
              "      <td>35.624</td>\n",
              "      <td>5.730</td>\n",
              "      <td>20.0</td>\n",
              "      <td>268.0</td>\n",
              "      <td>1.16</td>\n",
              "    </tr>\n",
              "    <tr>\n",
              "      <th>pred_cases[3]</th>\n",
              "      <td>422.398</td>\n",
              "      <td>236.873</td>\n",
              "      <td>-10.304</td>\n",
              "      <td>815.463</td>\n",
              "      <td>74.667</td>\n",
              "      <td>16.149</td>\n",
              "      <td>10.0</td>\n",
              "      <td>150.0</td>\n",
              "      <td>1.31</td>\n",
              "    </tr>\n",
              "    <tr>\n",
              "      <th>pred_cases[4]</th>\n",
              "      <td>528.612</td>\n",
              "      <td>283.825</td>\n",
              "      <td>45.214</td>\n",
              "      <td>1041.124</td>\n",
              "      <td>96.893</td>\n",
              "      <td>27.116</td>\n",
              "      <td>9.0</td>\n",
              "      <td>151.0</td>\n",
              "      <td>1.37</td>\n",
              "    </tr>\n",
              "    <tr>\n",
              "      <th>pred_cases[5]</th>\n",
              "      <td>472.321</td>\n",
              "      <td>253.130</td>\n",
              "      <td>52.169</td>\n",
              "      <td>928.174</td>\n",
              "      <td>83.932</td>\n",
              "      <td>22.753</td>\n",
              "      <td>10.0</td>\n",
              "      <td>159.0</td>\n",
              "      <td>1.33</td>\n",
              "    </tr>\n",
              "    <tr>\n",
              "      <th>lp[0]</th>\n",
              "      <td>1646.142</td>\n",
              "      <td>873.557</td>\n",
              "      <td>363.205</td>\n",
              "      <td>3159.308</td>\n",
              "      <td>306.922</td>\n",
              "      <td>86.535</td>\n",
              "      <td>9.0</td>\n",
              "      <td>122.0</td>\n",
              "      <td>1.37</td>\n",
              "    </tr>\n",
              "    <tr>\n",
              "      <th>lp[1]</th>\n",
              "      <td>368.010</td>\n",
              "      <td>205.532</td>\n",
              "      <td>0.000</td>\n",
              "      <td>683.969</td>\n",
              "      <td>64.043</td>\n",
              "      <td>16.406</td>\n",
              "      <td>11.0</td>\n",
              "      <td>165.0</td>\n",
              "      <td>1.30</td>\n",
              "    </tr>\n",
              "    <tr>\n",
              "      <th>lp[2]</th>\n",
              "      <td>234.612</td>\n",
              "      <td>146.278</td>\n",
              "      <td>0.000</td>\n",
              "      <td>473.000</td>\n",
              "      <td>36.148</td>\n",
              "      <td>5.650</td>\n",
              "      <td>17.0</td>\n",
              "      <td>230.0</td>\n",
              "      <td>1.19</td>\n",
              "    </tr>\n",
              "    <tr>\n",
              "      <th>lp[3]</th>\n",
              "      <td>422.696</td>\n",
              "      <td>231.447</td>\n",
              "      <td>0.000</td>\n",
              "      <td>786.191</td>\n",
              "      <td>74.361</td>\n",
              "      <td>15.825</td>\n",
              "      <td>10.0</td>\n",
              "      <td>155.0</td>\n",
              "      <td>1.33</td>\n",
              "    </tr>\n",
              "    <tr>\n",
              "      <th>lp[4]</th>\n",
              "      <td>528.869</td>\n",
              "      <td>279.449</td>\n",
              "      <td>50.732</td>\n",
              "      <td>1028.813</td>\n",
              "      <td>96.380</td>\n",
              "      <td>27.990</td>\n",
              "      <td>9.0</td>\n",
              "      <td>145.0</td>\n",
              "      <td>1.38</td>\n",
              "    </tr>\n",
              "    <tr>\n",
              "      <th>lp[5]</th>\n",
              "      <td>473.487</td>\n",
              "      <td>247.188</td>\n",
              "      <td>64.975</td>\n",
              "      <td>919.225</td>\n",
              "      <td>83.453</td>\n",
              "      <td>22.709</td>\n",
              "      <td>9.0</td>\n",
              "      <td>143.0</td>\n",
              "      <td>1.35</td>\n",
              "    </tr>\n",
              "    <tr>\n",
              "      <th>b0</th>\n",
              "      <td>99.372</td>\n",
              "      <td>10.422</td>\n",
              "      <td>78.844</td>\n",
              "      <td>117.470</td>\n",
              "      <td>0.419</td>\n",
              "      <td>0.246</td>\n",
              "      <td>625.0</td>\n",
              "      <td>249.0</td>\n",
              "      <td>1.01</td>\n",
              "    </tr>\n",
              "    <tr>\n",
              "      <th>b_pop_density</th>\n",
              "      <td>0.035</td>\n",
              "      <td>1.004</td>\n",
              "      <td>-1.804</td>\n",
              "      <td>1.952</td>\n",
              "      <td>0.033</td>\n",
              "      <td>0.021</td>\n",
              "      <td>906.0</td>\n",
              "      <td>1182.0</td>\n",
              "      <td>1.01</td>\n",
              "    </tr>\n",
              "    <tr>\n",
              "      <th>b_hdi</th>\n",
              "      <td>-0.058</td>\n",
              "      <td>0.993</td>\n",
              "      <td>-1.839</td>\n",
              "      <td>1.917</td>\n",
              "      <td>0.043</td>\n",
              "      <td>0.021</td>\n",
              "      <td>523.0</td>\n",
              "      <td>1328.0</td>\n",
              "      <td>1.01</td>\n",
              "    </tr>\n",
              "    <tr>\n",
              "      <th>b_urban</th>\n",
              "      <td>0.004</td>\n",
              "      <td>0.982</td>\n",
              "      <td>-1.971</td>\n",
              "      <td>1.787</td>\n",
              "      <td>0.049</td>\n",
              "      <td>0.025</td>\n",
              "      <td>406.0</td>\n",
              "      <td>889.0</td>\n",
              "      <td>1.03</td>\n",
              "    </tr>\n",
              "    <tr>\n",
              "      <th>aggr_gp[0]</th>\n",
              "      <td>1546.917</td>\n",
              "      <td>841.378</td>\n",
              "      <td>339.897</td>\n",
              "      <td>3026.070</td>\n",
              "      <td>295.800</td>\n",
              "      <td>97.235</td>\n",
              "      <td>9.0</td>\n",
              "      <td>131.0</td>\n",
              "      <td>1.36</td>\n",
              "    </tr>\n",
              "    <tr>\n",
              "      <th>aggr_gp[1]</th>\n",
              "      <td>272.095</td>\n",
              "      <td>154.963</td>\n",
              "      <td>72.624</td>\n",
              "      <td>547.645</td>\n",
              "      <td>52.208</td>\n",
              "      <td>16.544</td>\n",
              "      <td>10.0</td>\n",
              "      <td>97.0</td>\n",
              "      <td>1.32</td>\n",
              "    </tr>\n",
              "    <tr>\n",
              "      <th>aggr_gp[2]</th>\n",
              "      <td>135.824</td>\n",
              "      <td>76.131</td>\n",
              "      <td>28.744</td>\n",
              "      <td>272.044</td>\n",
              "      <td>26.561</td>\n",
              "      <td>8.655</td>\n",
              "      <td>9.0</td>\n",
              "      <td>140.0</td>\n",
              "      <td>1.35</td>\n",
              "    </tr>\n",
              "    <tr>\n",
              "      <th>aggr_gp[3]</th>\n",
              "      <td>327.100</td>\n",
              "      <td>185.457</td>\n",
              "      <td>61.009</td>\n",
              "      <td>642.490</td>\n",
              "      <td>62.141</td>\n",
              "      <td>19.564</td>\n",
              "      <td>10.0</td>\n",
              "      <td>92.0</td>\n",
              "      <td>1.34</td>\n",
              "    </tr>\n",
              "    <tr>\n",
              "      <th>aggr_gp[4]</th>\n",
              "      <td>433.656</td>\n",
              "      <td>241.078</td>\n",
              "      <td>84.369</td>\n",
              "      <td>865.453</td>\n",
              "      <td>83.804</td>\n",
              "      <td>29.521</td>\n",
              "      <td>9.0</td>\n",
              "      <td>106.0</td>\n",
              "      <td>1.35</td>\n",
              "    </tr>\n",
              "    <tr>\n",
              "      <th>aggr_gp[5]</th>\n",
              "      <td>378.238</td>\n",
              "      <td>207.533</td>\n",
              "      <td>95.478</td>\n",
              "      <td>763.239</td>\n",
              "      <td>71.583</td>\n",
              "      <td>21.739</td>\n",
              "      <td>10.0</td>\n",
              "      <td>180.0</td>\n",
              "      <td>1.34</td>\n",
              "    </tr>\n",
              "  </tbody>\n",
              "</table>\n",
              "</div>"
            ],
            "text/plain": [
              "                   mean       sd   hdi_3%   hdi_97%  mcse_mean  mcse_sd  \\\n",
              "pred_cases[0]  1646.596  875.216  365.375  3185.032    306.871   85.655   \n",
              "pred_cases[1]   368.961  213.365  -11.617   716.932     65.142   15.826   \n",
              "pred_cases[2]   234.845  154.303  -31.739   510.296     35.624    5.730   \n",
              "pred_cases[3]   422.398  236.873  -10.304   815.463     74.667   16.149   \n",
              "pred_cases[4]   528.612  283.825   45.214  1041.124     96.893   27.116   \n",
              "pred_cases[5]   472.321  253.130   52.169   928.174     83.932   22.753   \n",
              "lp[0]          1646.142  873.557  363.205  3159.308    306.922   86.535   \n",
              "lp[1]           368.010  205.532    0.000   683.969     64.043   16.406   \n",
              "lp[2]           234.612  146.278    0.000   473.000     36.148    5.650   \n",
              "lp[3]           422.696  231.447    0.000   786.191     74.361   15.825   \n",
              "lp[4]           528.869  279.449   50.732  1028.813     96.380   27.990   \n",
              "lp[5]           473.487  247.188   64.975   919.225     83.453   22.709   \n",
              "b0               99.372   10.422   78.844   117.470      0.419    0.246   \n",
              "b_pop_density     0.035    1.004   -1.804     1.952      0.033    0.021   \n",
              "b_hdi            -0.058    0.993   -1.839     1.917      0.043    0.021   \n",
              "b_urban           0.004    0.982   -1.971     1.787      0.049    0.025   \n",
              "aggr_gp[0]     1546.917  841.378  339.897  3026.070    295.800   97.235   \n",
              "aggr_gp[1]      272.095  154.963   72.624   547.645     52.208   16.544   \n",
              "aggr_gp[2]      135.824   76.131   28.744   272.044     26.561    8.655   \n",
              "aggr_gp[3]      327.100  185.457   61.009   642.490     62.141   19.564   \n",
              "aggr_gp[4]      433.656  241.078   84.369   865.453     83.804   29.521   \n",
              "aggr_gp[5]      378.238  207.533   95.478   763.239     71.583   21.739   \n",
              "\n",
              "               ess_bulk  ess_tail  r_hat  \n",
              "pred_cases[0]       9.0     120.0   1.37  \n",
              "pred_cases[1]      11.0     175.0   1.28  \n",
              "pred_cases[2]      20.0     268.0   1.16  \n",
              "pred_cases[3]      10.0     150.0   1.31  \n",
              "pred_cases[4]       9.0     151.0   1.37  \n",
              "pred_cases[5]      10.0     159.0   1.33  \n",
              "lp[0]               9.0     122.0   1.37  \n",
              "lp[1]              11.0     165.0   1.30  \n",
              "lp[2]              17.0     230.0   1.19  \n",
              "lp[3]              10.0     155.0   1.33  \n",
              "lp[4]               9.0     145.0   1.38  \n",
              "lp[5]               9.0     143.0   1.35  \n",
              "b0                625.0     249.0   1.01  \n",
              "b_pop_density     906.0    1182.0   1.01  \n",
              "b_hdi             523.0    1328.0   1.01  \n",
              "b_urban           406.0     889.0   1.03  \n",
              "aggr_gp[0]          9.0     131.0   1.36  \n",
              "aggr_gp[1]         10.0      97.0   1.32  \n",
              "aggr_gp[2]          9.0     140.0   1.35  \n",
              "aggr_gp[3]         10.0      92.0   1.34  \n",
              "aggr_gp[4]          9.0     106.0   1.35  \n",
              "aggr_gp[5]         10.0     180.0   1.34  "
            ]
          },
          "metadata": {},
          "output_type": "display_data"
        }
      ],
      "source": [
        "print(mcmc_1.print_summary())\n",
        "az.summary(numpyro_data, var_names = [\"pred_cases\", \"lp\", \"b0\", \"b_pop_density\", \"b_hdi\", \"b_urban\", \"aggr_gp\"])"
      ]
    },
    {
      "cell_type": "code",
      "execution_count": null,
      "metadata": {},
      "outputs": [
        {
          "name": "stdout",
          "output_type": "stream",
          "text": [
            "Average ESS for all aggGP effects : 5\n",
            "Average ESS for all aggGPE-low effects : 5\n",
            "Max r_hat for all aggGP-low : 1.440000057220459\n",
            "Average ESS for all aggGP-high effects : 5\n",
            "Max r_hat for all aggGP-high : 1.4199999570846558\n"
          ]
        }
      ],
      "source": [
        "#check ESS and rhat\n",
        "ss = numpyro.diagnostics.summary(mcmc_1.get_samples(group_by_chain=True))\n",
        "r = np.mean(ss['gp_aggr']['n_eff'])\n",
        "print(\"Average ESS for all aggGP effects : \" + str(round(r)))\n",
        "\n",
        "ess_lo = np.mean(ss[\"gp_aggr\"][\"n_eff\"][0:1])\n",
        "r_hat_lo = np.max(ss[\"gp_aggr\"][\"r_hat\"][0:1])\n",
        "\n",
        "ess_hi = np.mean(ss[\"gp_aggr\"][\"n_eff\"][1:6])\n",
        "r_hat_hi = np.max(ss[\"gp_aggr\"][\"r_hat\"][1 : 6])\n",
        "\n",
        "print(f\"Average ESS for all aggGPE-low effects : {round(ess_lo)}\")\n",
        "print(f\"Max r_hat for all aggGP-low : {round(r_hat_lo,2)}\")\n",
        "\n",
        "print(f\"Average ESS for all aggGP-high effects : {round(ess_hi)}\")\n",
        "print(f\"Max r_hat for all aggGP-high : {round(r_hat_hi,2)}\")"
      ]
    },
    {
      "cell_type": "markdown",
      "metadata": {},
      "source": [
        "### prob 0.95"
      ]
    },
    {
      "cell_type": "code",
      "execution_count": null,
      "metadata": {},
      "outputs": [],
      "source": [
        "# creating  prior and posterior predictive\n",
        "rng_key_pr, rng_key_po = random.split(random.PRNGKey(4))\n",
        "posterior_samples = mcmc_2.get_samples()\n",
        "posterior_predictive = Predictive(model, posterior_samples)(\n",
        "    rng_key_po, config_count\n",
        ")\n",
        "prior = Predictive(model, num_samples=500)(\n",
        "    rng_key_pr, config_count\n",
        ")\n",
        "# transform prior and posterior predictive to arviz inference objects\n",
        "Total_districts = df_lo.shape[0] + df_hi.shape[0]\n",
        "numpyro_data = az.from_numpyro(\n",
        "    mcmc_2,\n",
        "    prior=prior,\n",
        "    posterior_predictive=posterior_predictive,\n",
        "    coords={\"district\": np.arange(Total_districts)},\n",
        "    dims={\"lp\": [\"district\"]},\n",
        ")"
      ]
    },
    {
      "cell_type": "code",
      "execution_count": null,
      "metadata": {},
      "outputs": [
        {
          "name": "stdout",
          "output_type": "stream",
          "text": [
            "\n",
            "                     mean       std    median      5.0%     95.0%     n_eff     r_hat\n",
            "             b0    100.12     10.21    100.13     83.53    116.50   1222.95      1.00\n",
            "          b_hdi      0.02      1.00      0.03     -1.53      1.70    826.60      1.00\n",
            "  b_pop_density      0.03      0.99      0.03     -1.54      1.76   1158.81      1.00\n",
            "        b_urban     -0.01      1.00      0.00     -1.68      1.62    456.56      1.02\n",
            "  kernel_length      0.48      0.29      0.41      0.17      0.80    568.81      1.01\n",
            "     kernel_var      0.37      0.02      0.37      0.34      0.40   1342.08      1.00\n",
            "       log_f[0]      2.92      0.66      2.88      1.84      4.00     12.26      1.15\n",
            "       log_f[1]      2.91      0.65      2.88      1.88      4.03     12.24      1.15\n",
            "       log_f[2]      2.90      0.66      2.88      1.87      4.00     12.19      1.15\n",
            "       log_f[3]      2.90      0.66      2.88      1.88      3.97     12.26      1.15\n",
            "       log_f[4]      2.90      0.65      2.90      1.92      4.00     12.57      1.15\n",
            "       log_f[5]      2.89      0.66      2.89      1.88      3.96     13.26      1.15\n",
            "       log_f[6]      2.89      0.65      2.88      1.86      3.92     13.83      1.14\n",
            "       log_f[7]      2.89      0.65      2.89      1.88      3.92     15.21      1.13\n",
            "       log_f[8]      2.89      0.65      2.89      1.88      3.94     17.11      1.13\n",
            "       log_f[9]      2.89      0.66      2.89      1.87      3.94     18.87      1.12\n",
            "      log_f[10]      2.92      0.65      2.88      1.92      4.07     11.48      1.16\n",
            "      log_f[11]      2.91      0.65      2.88      1.88      4.01     11.32      1.16\n",
            "      log_f[12]      2.91      0.65      2.88      1.91      4.02     11.59      1.16\n",
            "      log_f[13]      2.90      0.65      2.90      1.92      3.99     11.77      1.16\n",
            "      log_f[14]      2.90      0.65      2.89      1.87      3.94     11.60      1.16\n",
            "      log_f[15]      2.89      0.65      2.90      1.85      3.91     12.23      1.15\n",
            "      log_f[16]      2.89      0.65      2.90      1.85      3.87     13.17      1.15\n",
            "      log_f[17]      2.89      0.65      2.90      1.88      3.90     14.28      1.14\n",
            "      log_f[18]      2.89      0.65      2.89      1.90      3.93     15.61      1.13\n",
            "      log_f[19]      2.89      0.65      2.88      1.88      3.94     17.67      1.12\n",
            "      log_f[20]      2.92      0.65      2.89      1.88      4.03     11.00      1.16\n",
            "      log_f[21]      2.91      0.65      2.88      1.92      4.03     10.78      1.17\n",
            "      log_f[22]      2.91      0.65      2.88      1.90      4.00     10.94      1.17\n",
            "      log_f[23]      2.90      0.65      2.90      1.92      3.97     10.71      1.17\n",
            "      log_f[24]      2.90      0.64      2.90      1.88      3.91     11.08      1.17\n",
            "      log_f[25]      2.90      0.64      2.89      1.89      3.88     11.83      1.16\n",
            "      log_f[26]      2.89      0.64      2.90      1.88      3.88     12.47      1.15\n",
            "      log_f[27]      2.90      0.64      2.91      1.93      3.94     13.32      1.15\n",
            "      log_f[28]      2.89      0.64      2.89      1.93      3.95     15.03      1.14\n",
            "      log_f[29]      2.89      0.65      2.88      1.84      3.87     16.89      1.13\n",
            "      log_f[30]      2.92      0.64      2.89      1.90      4.01     10.52      1.17\n",
            "      log_f[31]      2.92      0.64      2.89      1.93      4.02     10.35      1.18\n",
            "      log_f[32]      2.91      0.64      2.89      1.90      3.98     10.19      1.18\n",
            "      log_f[33]      2.91      0.64      2.90      1.89      3.93     10.25      1.18\n",
            "      log_f[34]      2.90      0.64      2.90      1.93      3.93     10.68      1.17\n",
            "      log_f[35]      2.90      0.63      2.91      1.94      3.92     10.99      1.17\n",
            "      log_f[36]      2.90      0.63      2.91      1.93      3.92     11.91      1.16\n",
            "      log_f[37]      2.89      0.64      2.89      1.93      3.91     13.00      1.15\n",
            "      log_f[38]      2.89      0.64      2.90      1.94      3.94     14.31      1.14\n",
            "      log_f[39]      2.89      0.64      2.89      1.84      3.87     15.67      1.13\n",
            "      log_f[40]      2.93      0.64      2.91      1.91      4.02     10.16      1.18\n",
            "      log_f[41]      2.92      0.64      2.91      1.97      4.04     10.26      1.18\n",
            "      log_f[42]      2.92      0.63      2.90      1.88      3.94      9.97      1.18\n",
            "      log_f[43]      2.91      0.63      2.90      1.92      3.94     10.12      1.18\n",
            "      log_f[44]      2.91      0.64      2.91      1.93      3.91     10.28      1.18\n",
            "      log_f[45]      2.91      0.63      2.92      1.97      3.93     10.56      1.18\n",
            "      log_f[46]      2.90      0.63      2.91      1.87      3.82     11.42      1.16\n",
            "      log_f[47]      2.90      0.63      2.92      1.92      3.85     12.69      1.15\n",
            "      log_f[48]      2.90      0.63      2.90      1.92      3.90     13.98      1.14\n",
            "      log_f[49]      2.89      0.64      2.89      1.85      3.86     15.02      1.13\n",
            "      log_f[50]      2.93      0.63      2.91      1.97      4.05     10.13      1.18\n",
            "      log_f[51]      2.92      0.63      2.91      1.87      3.88      9.96      1.18\n",
            "      log_f[52]      2.92      0.63      2.91      1.94      3.94      9.97      1.19\n",
            "      log_f[53]      2.92      0.62      2.92      1.99      3.95      9.83      1.19\n",
            "      log_f[54]      2.91      0.62      2.92      1.88      3.84     10.07      1.18\n",
            "      log_f[55]      2.91      0.62      2.92      1.86      3.82     10.68      1.17\n",
            "      log_f[56]      2.90      0.62      2.92      1.94      3.89     11.35      1.17\n",
            "      log_f[57]      2.90      0.62      2.91      1.91      3.87     12.12      1.16\n",
            "      log_f[58]      2.90      0.63      2.90      1.89      3.87     13.45      1.14\n",
            "      log_f[59]      2.90      0.63      2.90      1.95      3.94     14.56      1.14\n",
            "      log_f[60]      2.93      0.63      2.92      1.96      4.01     10.13      1.18\n",
            "      log_f[61]      2.93      0.63      2.92      1.82      3.85      9.66      1.19\n",
            "      log_f[62]      2.92      0.63      2.92      1.93      3.92      9.68      1.19\n",
            "      log_f[63]      2.92      0.62      2.92      1.92      3.89      9.97      1.19\n",
            "      log_f[64]      2.92      0.62      2.92      2.00      3.94     10.31      1.18\n",
            "      log_f[65]      2.91      0.62      2.93      1.97      3.91     10.57      1.18\n",
            "      log_f[66]      2.91      0.62      2.93      1.99      3.95     11.41      1.17\n",
            "      log_f[67]      2.91      0.61      2.93      1.83      3.78     12.36      1.16\n",
            "      log_f[68]      2.91      0.62      2.93      1.85      3.82     13.89      1.14\n",
            "      log_f[69]      2.90      0.62      2.92      1.90      3.90     15.46      1.13\n",
            "      log_f[70]      2.94      0.63      2.92      1.90      3.92      9.97      1.18\n",
            "      log_f[71]      2.93      0.62      2.93      1.92      3.89      9.85      1.19\n",
            "      log_f[72]      2.93      0.62      2.93      1.93      3.93      9.70      1.19\n",
            "      log_f[73]      2.93      0.62      2.93      1.96      3.90      9.93      1.19\n",
            "      log_f[74]      2.92      0.61      2.94      1.96      3.84     10.16      1.18\n",
            "      log_f[75]      2.92      0.61      2.94      1.85      3.77     10.65      1.18\n",
            "      log_f[76]      2.92      0.61      2.95      1.89      3.83     11.81      1.16\n",
            "      log_f[77]      2.91      0.61      2.93      1.92      3.86     12.59      1.16\n",
            "      log_f[78]      2.91      0.62      2.93      1.91      3.85     14.00      1.14\n",
            "      log_f[79]      2.91      0.62      2.92      1.90      3.89     15.75      1.13\n",
            "      log_f[80]      2.94      0.63      2.93      1.97      4.01     10.05      1.18\n",
            "      log_f[81]      2.94      0.62      2.93      1.94      3.90      9.96      1.18\n",
            "      log_f[82]      2.94      0.62      2.94      1.93      3.88      9.97      1.19\n",
            "      log_f[83]      2.93      0.62      2.93      1.95      3.91     10.12      1.18\n",
            "      log_f[84]      2.93      0.61      2.94      1.90      3.82     10.42      1.18\n",
            "      log_f[85]      2.92      0.61      2.94      1.93      3.86     11.00      1.17\n",
            "      log_f[86]      2.92      0.61      2.94      1.88      3.80     11.97      1.16\n",
            "      log_f[87]      2.92      0.61      2.94      1.87      3.77     13.14      1.15\n",
            "      log_f[88]      2.92      0.61      2.94      1.91      3.84     14.33      1.14\n",
            "      log_f[89]      2.91      0.62      2.94      1.91      3.89     16.24      1.13\n",
            "      log_f[90]      2.94      0.62      2.93      1.88      3.88     10.50      1.17\n",
            "      log_f[91]      2.94      0.62      2.94      1.85      3.88     10.13      1.17\n",
            "      log_f[92]      2.94      0.62      2.94      1.90      3.90     10.43      1.18\n",
            "      log_f[93]      2.93      0.62      2.94      1.93      3.92     10.17      1.18\n",
            "      log_f[94]      2.93      0.62      2.94      1.97      3.94     10.87      1.17\n",
            "      log_f[95]      2.93      0.62      2.95      1.90      3.86     10.94      1.17\n",
            "      log_f[96]      2.92      0.61      2.95      1.91      3.79     12.31      1.16\n",
            "      log_f[97]      2.93      0.61      2.95      1.85      3.77     13.49      1.15\n",
            "      log_f[98]      2.92      0.61      2.94      1.90      3.81     15.03      1.13\n",
            "      log_f[99]      2.92      0.62      2.93      1.91      3.83     17.00      1.12\n",
            "       log_mean      2.99      0.10      2.99      2.83      3.15    990.08      1.01\n",
            "  pred_cases[0]   1389.53    967.82   1213.42    313.92   2299.21     23.22      1.15\n",
            "  pred_cases[1]    325.97    218.44    306.20      7.32    573.56     27.66      1.10\n",
            "  pred_cases[2]    215.14    153.68    208.69    -16.30    437.35     85.70      1.05\n",
            "  pred_cases[3]    374.06    247.04    340.72     26.40    679.05     23.17      1.12\n",
            "  pred_cases[4]    463.68    296.85    422.34     80.85    828.42     21.71      1.13\n",
            "  pred_cases[5]    414.11    264.32    382.98     70.79    729.74     25.20      1.12\n",
            "          sigma     43.60     28.58     37.06      6.00     82.99    477.49      1.01\n",
            "\n",
            "Number of divergences: 308\n",
            "None\n"
          ]
        },
        {
          "data": {
            "text/html": [
              "<div>\n",
              "<style scoped>\n",
              "    .dataframe tbody tr th:only-of-type {\n",
              "        vertical-align: middle;\n",
              "    }\n",
              "\n",
              "    .dataframe tbody tr th {\n",
              "        vertical-align: top;\n",
              "    }\n",
              "\n",
              "    .dataframe thead th {\n",
              "        text-align: right;\n",
              "    }\n",
              "</style>\n",
              "<table border=\"1\" class=\"dataframe\">\n",
              "  <thead>\n",
              "    <tr style=\"text-align: right;\">\n",
              "      <th></th>\n",
              "      <th>mean</th>\n",
              "      <th>sd</th>\n",
              "      <th>hdi_3%</th>\n",
              "      <th>hdi_97%</th>\n",
              "      <th>mcse_mean</th>\n",
              "      <th>mcse_sd</th>\n",
              "      <th>ess_bulk</th>\n",
              "      <th>ess_tail</th>\n",
              "      <th>r_hat</th>\n",
              "    </tr>\n",
              "  </thead>\n",
              "  <tbody>\n",
              "    <tr>\n",
              "      <th>pred_cases[0]</th>\n",
              "      <td>1389.527</td>\n",
              "      <td>967.823</td>\n",
              "      <td>202.085</td>\n",
              "      <td>2644.281</td>\n",
              "      <td>215.843</td>\n",
              "      <td>334.338</td>\n",
              "      <td>16.0</td>\n",
              "      <td>40.0</td>\n",
              "      <td>1.18</td>\n",
              "    </tr>\n",
              "    <tr>\n",
              "      <th>pred_cases[1]</th>\n",
              "      <td>325.968</td>\n",
              "      <td>218.443</td>\n",
              "      <td>-22.035</td>\n",
              "      <td>629.538</td>\n",
              "      <td>40.600</td>\n",
              "      <td>50.289</td>\n",
              "      <td>30.0</td>\n",
              "      <td>50.0</td>\n",
              "      <td>1.10</td>\n",
              "    </tr>\n",
              "    <tr>\n",
              "      <th>pred_cases[2]</th>\n",
              "      <td>215.144</td>\n",
              "      <td>153.676</td>\n",
              "      <td>-37.819</td>\n",
              "      <td>476.227</td>\n",
              "      <td>13.655</td>\n",
              "      <td>17.457</td>\n",
              "      <td>208.0</td>\n",
              "      <td>128.0</td>\n",
              "      <td>1.05</td>\n",
              "    </tr>\n",
              "    <tr>\n",
              "      <th>pred_cases[3]</th>\n",
              "      <td>374.063</td>\n",
              "      <td>247.043</td>\n",
              "      <td>-12.040</td>\n",
              "      <td>744.591</td>\n",
              "      <td>49.999</td>\n",
              "      <td>56.876</td>\n",
              "      <td>24.0</td>\n",
              "      <td>53.0</td>\n",
              "      <td>1.12</td>\n",
              "    </tr>\n",
              "    <tr>\n",
              "      <th>pred_cases[4]</th>\n",
              "      <td>463.677</td>\n",
              "      <td>296.847</td>\n",
              "      <td>34.291</td>\n",
              "      <td>925.182</td>\n",
              "      <td>63.250</td>\n",
              "      <td>80.407</td>\n",
              "      <td>20.0</td>\n",
              "      <td>48.0</td>\n",
              "      <td>1.15</td>\n",
              "    </tr>\n",
              "    <tr>\n",
              "      <th>pred_cases[5]</th>\n",
              "      <td>414.112</td>\n",
              "      <td>264.316</td>\n",
              "      <td>3.071</td>\n",
              "      <td>775.125</td>\n",
              "      <td>52.846</td>\n",
              "      <td>71.015</td>\n",
              "      <td>25.0</td>\n",
              "      <td>45.0</td>\n",
              "      <td>1.12</td>\n",
              "    </tr>\n",
              "    <tr>\n",
              "      <th>lp[0]</th>\n",
              "      <td>1390.295</td>\n",
              "      <td>966.739</td>\n",
              "      <td>223.409</td>\n",
              "      <td>2664.244</td>\n",
              "      <td>215.666</td>\n",
              "      <td>333.828</td>\n",
              "      <td>17.0</td>\n",
              "      <td>40.0</td>\n",
              "      <td>1.18</td>\n",
              "    </tr>\n",
              "    <tr>\n",
              "      <th>lp[1]</th>\n",
              "      <td>326.203</td>\n",
              "      <td>212.418</td>\n",
              "      <td>0.000</td>\n",
              "      <td>596.356</td>\n",
              "      <td>40.077</td>\n",
              "      <td>51.748</td>\n",
              "      <td>29.0</td>\n",
              "      <td>50.0</td>\n",
              "      <td>1.11</td>\n",
              "    </tr>\n",
              "    <tr>\n",
              "      <th>lp[2]</th>\n",
              "      <td>215.877</td>\n",
              "      <td>144.277</td>\n",
              "      <td>0.000</td>\n",
              "      <td>432.452</td>\n",
              "      <td>16.134</td>\n",
              "      <td>18.786</td>\n",
              "      <td>120.0</td>\n",
              "      <td>104.0</td>\n",
              "      <td>1.06</td>\n",
              "    </tr>\n",
              "    <tr>\n",
              "      <th>lp[3]</th>\n",
              "      <td>374.010</td>\n",
              "      <td>240.870</td>\n",
              "      <td>0.000</td>\n",
              "      <td>695.706</td>\n",
              "      <td>49.782</td>\n",
              "      <td>57.963</td>\n",
              "      <td>23.0</td>\n",
              "      <td>53.0</td>\n",
              "      <td>1.13</td>\n",
              "    </tr>\n",
              "    <tr>\n",
              "      <th>lp[4]</th>\n",
              "      <td>463.417</td>\n",
              "      <td>291.624</td>\n",
              "      <td>0.000</td>\n",
              "      <td>853.364</td>\n",
              "      <td>63.487</td>\n",
              "      <td>81.536</td>\n",
              "      <td>19.0</td>\n",
              "      <td>46.0</td>\n",
              "      <td>1.16</td>\n",
              "    </tr>\n",
              "    <tr>\n",
              "      <th>lp[5]</th>\n",
              "      <td>414.623</td>\n",
              "      <td>258.773</td>\n",
              "      <td>0.000</td>\n",
              "      <td>740.902</td>\n",
              "      <td>52.455</td>\n",
              "      <td>72.595</td>\n",
              "      <td>24.0</td>\n",
              "      <td>44.0</td>\n",
              "      <td>1.13</td>\n",
              "    </tr>\n",
              "    <tr>\n",
              "      <th>b0</th>\n",
              "      <td>100.122</td>\n",
              "      <td>10.212</td>\n",
              "      <td>80.878</td>\n",
              "      <td>118.936</td>\n",
              "      <td>0.289</td>\n",
              "      <td>0.161</td>\n",
              "      <td>1244.0</td>\n",
              "      <td>2261.0</td>\n",
              "      <td>1.00</td>\n",
              "    </tr>\n",
              "    <tr>\n",
              "      <th>b_pop_density</th>\n",
              "      <td>0.026</td>\n",
              "      <td>0.993</td>\n",
              "      <td>-1.773</td>\n",
              "      <td>1.982</td>\n",
              "      <td>0.029</td>\n",
              "      <td>0.016</td>\n",
              "      <td>1159.0</td>\n",
              "      <td>1986.0</td>\n",
              "      <td>1.00</td>\n",
              "    </tr>\n",
              "    <tr>\n",
              "      <th>b_hdi</th>\n",
              "      <td>0.018</td>\n",
              "      <td>0.999</td>\n",
              "      <td>-1.818</td>\n",
              "      <td>1.920</td>\n",
              "      <td>0.035</td>\n",
              "      <td>0.017</td>\n",
              "      <td>817.0</td>\n",
              "      <td>2101.0</td>\n",
              "      <td>1.00</td>\n",
              "    </tr>\n",
              "    <tr>\n",
              "      <th>b_urban</th>\n",
              "      <td>-0.015</td>\n",
              "      <td>0.997</td>\n",
              "      <td>-2.133</td>\n",
              "      <td>1.638</td>\n",
              "      <td>0.046</td>\n",
              "      <td>0.024</td>\n",
              "      <td>494.0</td>\n",
              "      <td>300.0</td>\n",
              "      <td>1.02</td>\n",
              "    </tr>\n",
              "    <tr>\n",
              "      <th>aggr_gp[0]</th>\n",
              "      <td>1286.792</td>\n",
              "      <td>953.438</td>\n",
              "      <td>192.830</td>\n",
              "      <td>2566.205</td>\n",
              "      <td>216.551</td>\n",
              "      <td>339.294</td>\n",
              "      <td>16.0</td>\n",
              "      <td>44.0</td>\n",
              "      <td>1.19</td>\n",
              "    </tr>\n",
              "    <tr>\n",
              "      <th>aggr_gp[1]</th>\n",
              "      <td>224.889</td>\n",
              "      <td>179.771</td>\n",
              "      <td>29.595</td>\n",
              "      <td>455.842</td>\n",
              "      <td>38.973</td>\n",
              "      <td>61.495</td>\n",
              "      <td>18.0</td>\n",
              "      <td>43.0</td>\n",
              "      <td>1.16</td>\n",
              "    </tr>\n",
              "    <tr>\n",
              "      <th>aggr_gp[2]</th>\n",
              "      <td>111.942</td>\n",
              "      <td>86.744</td>\n",
              "      <td>16.688</td>\n",
              "      <td>229.291</td>\n",
              "      <td>19.144</td>\n",
              "      <td>30.778</td>\n",
              "      <td>17.0</td>\n",
              "      <td>43.0</td>\n",
              "      <td>1.18</td>\n",
              "    </tr>\n",
              "    <tr>\n",
              "      <th>aggr_gp[3]</th>\n",
              "      <td>272.997</td>\n",
              "      <td>207.797</td>\n",
              "      <td>36.679</td>\n",
              "      <td>566.731</td>\n",
              "      <td>47.564</td>\n",
              "      <td>68.926</td>\n",
              "      <td>15.0</td>\n",
              "      <td>47.0</td>\n",
              "      <td>1.20</td>\n",
              "    </tr>\n",
              "    <tr>\n",
              "      <th>aggr_gp[4]</th>\n",
              "      <td>362.924</td>\n",
              "      <td>265.379</td>\n",
              "      <td>49.856</td>\n",
              "      <td>718.074</td>\n",
              "      <td>60.718</td>\n",
              "      <td>91.771</td>\n",
              "      <td>15.0</td>\n",
              "      <td>42.0</td>\n",
              "      <td>1.20</td>\n",
              "    </tr>\n",
              "    <tr>\n",
              "      <th>aggr_gp[5]</th>\n",
              "      <td>314.038</td>\n",
              "      <td>235.059</td>\n",
              "      <td>47.028</td>\n",
              "      <td>626.279</td>\n",
              "      <td>50.334</td>\n",
              "      <td>81.119</td>\n",
              "      <td>19.0</td>\n",
              "      <td>47.0</td>\n",
              "      <td>1.16</td>\n",
              "    </tr>\n",
              "  </tbody>\n",
              "</table>\n",
              "</div>"
            ],
            "text/plain": [
              "                   mean       sd   hdi_3%   hdi_97%  mcse_mean  mcse_sd  \\\n",
              "pred_cases[0]  1389.527  967.823  202.085  2644.281    215.843  334.338   \n",
              "pred_cases[1]   325.968  218.443  -22.035   629.538     40.600   50.289   \n",
              "pred_cases[2]   215.144  153.676  -37.819   476.227     13.655   17.457   \n",
              "pred_cases[3]   374.063  247.043  -12.040   744.591     49.999   56.876   \n",
              "pred_cases[4]   463.677  296.847   34.291   925.182     63.250   80.407   \n",
              "pred_cases[5]   414.112  264.316    3.071   775.125     52.846   71.015   \n",
              "lp[0]          1390.295  966.739  223.409  2664.244    215.666  333.828   \n",
              "lp[1]           326.203  212.418    0.000   596.356     40.077   51.748   \n",
              "lp[2]           215.877  144.277    0.000   432.452     16.134   18.786   \n",
              "lp[3]           374.010  240.870    0.000   695.706     49.782   57.963   \n",
              "lp[4]           463.417  291.624    0.000   853.364     63.487   81.536   \n",
              "lp[5]           414.623  258.773    0.000   740.902     52.455   72.595   \n",
              "b0              100.122   10.212   80.878   118.936      0.289    0.161   \n",
              "b_pop_density     0.026    0.993   -1.773     1.982      0.029    0.016   \n",
              "b_hdi             0.018    0.999   -1.818     1.920      0.035    0.017   \n",
              "b_urban          -0.015    0.997   -2.133     1.638      0.046    0.024   \n",
              "aggr_gp[0]     1286.792  953.438  192.830  2566.205    216.551  339.294   \n",
              "aggr_gp[1]      224.889  179.771   29.595   455.842     38.973   61.495   \n",
              "aggr_gp[2]      111.942   86.744   16.688   229.291     19.144   30.778   \n",
              "aggr_gp[3]      272.997  207.797   36.679   566.731     47.564   68.926   \n",
              "aggr_gp[4]      362.924  265.379   49.856   718.074     60.718   91.771   \n",
              "aggr_gp[5]      314.038  235.059   47.028   626.279     50.334   81.119   \n",
              "\n",
              "               ess_bulk  ess_tail  r_hat  \n",
              "pred_cases[0]      16.0      40.0   1.18  \n",
              "pred_cases[1]      30.0      50.0   1.10  \n",
              "pred_cases[2]     208.0     128.0   1.05  \n",
              "pred_cases[3]      24.0      53.0   1.12  \n",
              "pred_cases[4]      20.0      48.0   1.15  \n",
              "pred_cases[5]      25.0      45.0   1.12  \n",
              "lp[0]              17.0      40.0   1.18  \n",
              "lp[1]              29.0      50.0   1.11  \n",
              "lp[2]             120.0     104.0   1.06  \n",
              "lp[3]              23.0      53.0   1.13  \n",
              "lp[4]              19.0      46.0   1.16  \n",
              "lp[5]              24.0      44.0   1.13  \n",
              "b0               1244.0    2261.0   1.00  \n",
              "b_pop_density    1159.0    1986.0   1.00  \n",
              "b_hdi             817.0    2101.0   1.00  \n",
              "b_urban           494.0     300.0   1.02  \n",
              "aggr_gp[0]         16.0      44.0   1.19  \n",
              "aggr_gp[1]         18.0      43.0   1.16  \n",
              "aggr_gp[2]         17.0      43.0   1.18  \n",
              "aggr_gp[3]         15.0      47.0   1.20  \n",
              "aggr_gp[4]         15.0      42.0   1.20  \n",
              "aggr_gp[5]         19.0      47.0   1.16  "
            ]
          },
          "metadata": {},
          "output_type": "display_data"
        }
      ],
      "source": [
        "print(mcmc_2.print_summary())\n",
        "az.summary(numpyro_data, var_names = [\"pred_cases\", \"lp\", \"b0\", \"b_pop_density\", \"b_hdi\", \"b_urban\", \"aggr_gp\"])"
      ]
    },
    {
      "cell_type": "code",
      "execution_count": null,
      "metadata": {},
      "outputs": [
        {
          "name": "stdout",
          "output_type": "stream",
          "text": [
            "Average ESS for all aggGP effects : 23\n",
            "Average ESS for all aggGPE-low effects : 21\n",
            "Max r_hat for all aggGP-low : 1.149999976158142\n",
            "Average ESS for all aggGP-high effects : 23\n",
            "Max r_hat for all aggGP-high : 1.159999966621399\n"
          ]
        }
      ],
      "source": [
        "#check ESS and rhat\n",
        "ss = numpyro.diagnostics.summary(mcmc_2.get_samples(group_by_chain=True))\n",
        "r = np.mean(ss['gp_aggr']['n_eff'])\n",
        "print(\"Average ESS for all aggGP effects : \" + str(round(r)))\n",
        "\n",
        "ess_lo = np.mean(ss[\"gp_aggr\"][\"n_eff\"][0:1])\n",
        "r_hat_lo = np.max(ss[\"gp_aggr\"][\"r_hat\"][0:1])\n",
        "\n",
        "ess_hi = np.mean(ss[\"gp_aggr\"][\"n_eff\"][1:6])\n",
        "r_hat_hi = np.max(ss[\"gp_aggr\"][\"r_hat\"][1 : 6])\n",
        "\n",
        "print(f\"Average ESS for all aggGPE-low effects : {round(ess_lo)}\")\n",
        "print(f\"Max r_hat for all aggGP-low : {round(r_hat_lo,2)}\")\n",
        "\n",
        "print(f\"Average ESS for all aggGP-high effects : {round(ess_hi)}\")\n",
        "print(f\"Max r_hat for all aggGP-high : {round(r_hat_hi,2)}\")"
      ]
    },
    {
      "cell_type": "code",
      "execution_count": null,
      "metadata": {},
      "outputs": [],
      "source": [
        "#insert the inference into the dataset\n",
        "mean_pred_cases = numpyro_data.posterior.pred_cases.values.mean(axis=(0, 1))\n",
        "df_hi['pred_cases_num'] = mean_pred_cases[df_lo.shape[0]:]\n",
        "df_lo['pred_cases'] = mean_pred_cases[:df_lo.shape[0]] / df_lo.Population\n",
        "df_hi['pred_cases'] = mean_pred_cases[df_lo.shape[0]:] / df_hi.Population"
      ]
    },
    {
      "cell_type": "code",
      "execution_count": null,
      "metadata": {},
      "outputs": [
        {
          "data": {
            "image/png": "[encoded data removed]",
            "text/plain": [
              "<Figure size 1000x500 with 4 Axes>"
            ]
          },
          "metadata": {},
          "output_type": "display_data"
        }
      ],
      "source": [
        "# Plot the process\n",
        "fig, ax = plt.subplots(1, 2, figsize=(10, 5))\n",
        "plot_incidence_map(df_lo, ax = ax[0], title = \"Low-Res Observed Prevalence\")\n",
        "plot_incidence_map(df_lo, plot_col = 'pred_cases', ax = ax[1], title = \"Low-Res Predicted Prevalence\")\n",
        "plt.tight_layout()\n",
        "plt.show()"
      ]
    },
    {
      "cell_type": "code",
      "execution_count": null,
      "metadata": {},
      "outputs": [
        {
          "data": {
            "image/png": "[encoded data removed]",
            "text/plain": [
              "<Figure size 1000x500 with 4 Axes>"
            ]
          },
          "metadata": {},
          "output_type": "display_data"
        }
      ],
      "source": [
        "# Plot the process\n",
        "fig, ax = plt.subplots(1, 2, figsize=(10, 5))\n",
        "plot_incidence_map(df_hi, ax = ax[0], title = \"High-Res Observed Prevalence\")\n",
        "plot_incidence_map(df_hi, plot_col = 'pred_cases', ax = ax[1], title = \"High-Res Predicted Prevalence\")\n",
        "plt.tight_layout()\n",
        "plt.show()"
      ]
    },
    {
      "cell_type": "code",
      "execution_count": null,
      "metadata": {},
      "outputs": [],
      "source": [
        "#save the dfs for jkt dist and province dfs with predictions - change the year accordingly (do one by one from 2023 to 2020)\n",
        "#df_hi.to_csv(\"../data/processed/df_hi_jkt_w_pred_2022.csv\")"
      ]
    }
  ],
  "metadata": {
    "accelerator": "GPU",
    "colab": {
      "gpuType": "A100",
      "machine_shape": "hm",
      "provenance": []
    },
    "kernelspec": {
      "display_name": "Python 3",
      "name": "python3"
    },
    "language_info": {
      "codemirror_mode": {
        "name": "ipython",
        "version": 3
      },
      "file_extension": ".py",
      "mimetype": "text/x-python",
      "name": "python",
      "nbconvert_exporter": "python",
      "pygments_lexer": "ipython3",
      "version": "3.13.1"
    }
  },
  "nbformat": 4,
  "nbformat_minor": 0
}
