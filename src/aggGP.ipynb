{
 "cells": [
  {
   "cell_type": "code",
   "execution_count": 21,
   "metadata": {
    "colab": {
     "base_uri": "https://localhost:8080/"
    },
    "id": "OuPxxVLhna2e",
    "outputId": "7c2077de-7352-4247-a9d6-928120913312"
   },
   "outputs": [
    {
     "name": "stderr",
     "output_type": "stream",
     "text": [
      "/opt/tljh/user/lib/python3.10/pty.py:89: RuntimeWarning: os.fork() was called. os.fork() is incompatible with multithreaded code, and JAX is multithreaded, so this will likely lead to a deadlock.\n",
      "  pid, fd = os.forkpty()\n"
     ]
    },
    {
     "name": "stdout",
     "output_type": "stream",
     "text": [
      "Defaulting to user installation because normal site-packages is not writeable\n",
      "Looking in links: https://storage.googleapis.com/jax-releases/jax_cuda_releases.html\n",
      "Requirement already satisfied: jax[cuda12] in ./.local/lib/python3.10/site-packages (0.5.2)\n",
      "Requirement already satisfied: jaxlib<=0.5.2,>=0.5.1 in ./.local/lib/python3.10/site-packages (from jax[cuda12]) (0.5.1)\n",
      "Requirement already satisfied: ml_dtypes>=0.4.0 in ./.local/lib/python3.10/site-packages (from jax[cuda12]) (0.5.1)\n",
      "Requirement already satisfied: numpy>=1.25 in ./.local/lib/python3.10/site-packages (from jax[cuda12]) (2.2.3)\n",
      "Requirement already satisfied: opt_einsum in ./.local/lib/python3.10/site-packages (from jax[cuda12]) (3.4.0)\n",
      "Requirement already satisfied: scipy>=1.11.1 in ./.local/lib/python3.10/site-packages (from jax[cuda12]) (1.15.2)\n",
      "Requirement already satisfied: jax-cuda12-plugin<=0.5.2,>=0.5.1 in ./.local/lib/python3.10/site-packages (from jax-cuda12-plugin[with_cuda]<=0.5.2,>=0.5.1; extra == \"cuda12\"->jax[cuda12]) (0.5.1)\n",
      "Requirement already satisfied: jax-cuda12-pjrt==0.5.1 in ./.local/lib/python3.10/site-packages (from jax-cuda12-plugin<=0.5.2,>=0.5.1->jax-cuda12-plugin[with_cuda]<=0.5.2,>=0.5.1; extra == \"cuda12\"->jax[cuda12]) (0.5.1)\n",
      "Requirement already satisfied: nvidia-cublas-cu12>=12.1.3.1 in ./.local/lib/python3.10/site-packages (from jax-cuda12-plugin[with_cuda]<=0.5.2,>=0.5.1; extra == \"cuda12\"->jax[cuda12]) (12.4.5.8)\n",
      "Requirement already satisfied: nvidia-cuda-cupti-cu12>=12.1.105 in ./.local/lib/python3.10/site-packages (from jax-cuda12-plugin[with_cuda]<=0.5.2,>=0.5.1; extra == \"cuda12\"->jax[cuda12]) (12.4.127)\n",
      "Requirement already satisfied: nvidia-cuda-nvcc-cu12>=12.6.85 in ./.local/lib/python3.10/site-packages (from jax-cuda12-plugin[with_cuda]<=0.5.2,>=0.5.1; extra == \"cuda12\"->jax[cuda12]) (12.8.61)\n",
      "Requirement already satisfied: nvidia-cuda-runtime-cu12>=12.1.105 in ./.local/lib/python3.10/site-packages (from jax-cuda12-plugin[with_cuda]<=0.5.2,>=0.5.1; extra == \"cuda12\"->jax[cuda12]) (12.4.127)\n",
      "Requirement already satisfied: nvidia-cudnn-cu12<10.0,>=9.1 in ./.local/lib/python3.10/site-packages (from jax-cuda12-plugin[with_cuda]<=0.5.2,>=0.5.1; extra == \"cuda12\"->jax[cuda12]) (9.1.0.70)\n",
      "Requirement already satisfied: nvidia-cufft-cu12>=11.0.2.54 in ./.local/lib/python3.10/site-packages (from jax-cuda12-plugin[with_cuda]<=0.5.2,>=0.5.1; extra == \"cuda12\"->jax[cuda12]) (11.2.1.3)\n",
      "Requirement already satisfied: nvidia-cusolver-cu12>=11.4.5.107 in ./.local/lib/python3.10/site-packages (from jax-cuda12-plugin[with_cuda]<=0.5.2,>=0.5.1; extra == \"cuda12\"->jax[cuda12]) (11.6.1.9)\n",
      "Requirement already satisfied: nvidia-cusparse-cu12>=12.1.0.106 in ./.local/lib/python3.10/site-packages (from jax-cuda12-plugin[with_cuda]<=0.5.2,>=0.5.1; extra == \"cuda12\"->jax[cuda12]) (12.3.1.170)\n",
      "Requirement already satisfied: nvidia-nccl-cu12>=2.18.1 in ./.local/lib/python3.10/site-packages (from jax-cuda12-plugin[with_cuda]<=0.5.2,>=0.5.1; extra == \"cuda12\"->jax[cuda12]) (2.21.5)\n",
      "Requirement already satisfied: nvidia-nvjitlink-cu12>=12.1.105 in ./.local/lib/python3.10/site-packages (from jax-cuda12-plugin[with_cuda]<=0.5.2,>=0.5.1; extra == \"cuda12\"->jax[cuda12]) (12.4.127)\n",
      "\n",
      "\u001b[1m[\u001b[0m\u001b[34;49mnotice\u001b[0m\u001b[1;39;49m]\u001b[0m\u001b[39;49m A new release of pip is available: \u001b[0m\u001b[31;49m24.1.2\u001b[0m\u001b[39;49m -> \u001b[0m\u001b[32;49m25.0.1\u001b[0m\n",
      "\u001b[1m[\u001b[0m\u001b[34;49mnotice\u001b[0m\u001b[1;39;49m]\u001b[0m\u001b[39;49m To update, run: \u001b[0m\u001b[32;49mpip install --upgrade pip\u001b[0m\n"
     ]
    }
   ],
   "source": [
    "!pip install --upgrade \"jax[cuda12]\" -f https://storage.googleapis.com/jax-releases/jax_cuda_releases.html"
   ]
  },
  {
   "cell_type": "code",
   "execution_count": 22,
   "metadata": {
    "colab": {
     "base_uri": "https://localhost:8080/"
    },
    "id": "UxgkIF1MockD",
    "outputId": "95e4f5fb-51b6-4094-9076-49d4fd8a068c"
   },
   "outputs": [
    {
     "name": "stdout",
     "output_type": "stream",
     "text": [
      "Defaulting to user installation because normal site-packages is not writeable\n",
      "Requirement already satisfied: numpyro in ./.local/lib/python3.10/site-packages (0.17.0)\n",
      "Requirement already satisfied: dill in ./.local/lib/python3.10/site-packages (0.3.9)\n",
      "Requirement already satisfied: jax>=0.4.25 in ./.local/lib/python3.10/site-packages (from numpyro) (0.5.2)\n",
      "Requirement already satisfied: jaxlib>=0.4.25 in ./.local/lib/python3.10/site-packages (from numpyro) (0.5.1)\n",
      "Requirement already satisfied: multipledispatch in ./.local/lib/python3.10/site-packages (from numpyro) (1.0.0)\n",
      "Requirement already satisfied: numpy in ./.local/lib/python3.10/site-packages (from numpyro) (2.2.3)\n",
      "Requirement already satisfied: tqdm in /opt/tljh/user/lib/python3.10/site-packages (from numpyro) (4.65.0)\n",
      "Requirement already satisfied: ml_dtypes>=0.4.0 in ./.local/lib/python3.10/site-packages (from jax>=0.4.25->numpyro) (0.5.1)\n",
      "Requirement already satisfied: opt_einsum in ./.local/lib/python3.10/site-packages (from jax>=0.4.25->numpyro) (3.4.0)\n",
      "Requirement already satisfied: scipy>=1.11.1 in ./.local/lib/python3.10/site-packages (from jax>=0.4.25->numpyro) (1.15.2)\n",
      "\n",
      "\u001b[1m[\u001b[0m\u001b[34;49mnotice\u001b[0m\u001b[1;39;49m]\u001b[0m\u001b[39;49m A new release of pip is available: \u001b[0m\u001b[31;49m24.1.2\u001b[0m\u001b[39;49m -> \u001b[0m\u001b[32;49m25.0.1\u001b[0m\n",
      "\u001b[1m[\u001b[0m\u001b[34;49mnotice\u001b[0m\u001b[1;39;49m]\u001b[0m\u001b[39;49m To update, run: \u001b[0m\u001b[32;49mpip install --upgrade pip\u001b[0m\n"
     ]
    }
   ],
   "source": [
    "!pip install numpyro dill"
   ]
  },
  {
   "cell_type": "code",
   "execution_count": 23,
   "metadata": {
    "colab": {
     "base_uri": "https://localhost:8080/"
    },
    "id": "darL70kibNmf",
    "outputId": "06df2b86-fc79-4427-a5f8-d32592b54fed"
   },
   "outputs": [
    {
     "name": "stdout",
     "output_type": "stream",
     "text": [
      "Defaulting to user installation because normal site-packages is not writeable\n",
      "Requirement already satisfied: arviz in ./.local/lib/python3.10/site-packages (0.21.0)\n",
      "Requirement already satisfied: setuptools>=60.0.0 in /opt/tljh/user/lib/python3.10/site-packages (from arviz) (65.6.3)\n",
      "Requirement already satisfied: matplotlib>=3.5 in ./.local/lib/python3.10/site-packages (from arviz) (3.10.1)\n",
      "Requirement already satisfied: numpy>=1.23.0 in ./.local/lib/python3.10/site-packages (from arviz) (2.2.3)\n",
      "Requirement already satisfied: scipy>=1.9.0 in ./.local/lib/python3.10/site-packages (from arviz) (1.15.2)\n",
      "Requirement already satisfied: packaging in /opt/tljh/user/lib/python3.10/site-packages (from arviz) (24.1)\n",
      "Requirement already satisfied: pandas>=1.5.0 in ./.local/lib/python3.10/site-packages (from arviz) (2.2.3)\n",
      "Requirement already satisfied: xarray>=2022.6.0 in ./.local/lib/python3.10/site-packages (from arviz) (2025.1.2)\n",
      "Requirement already satisfied: h5netcdf>=1.0.2 in ./.local/lib/python3.10/site-packages (from arviz) (1.6.0)\n",
      "Requirement already satisfied: typing-extensions>=4.1.0 in /opt/tljh/user/lib/python3.10/site-packages (from arviz) (4.12.2)\n",
      "Requirement already satisfied: xarray-einstats>=0.3 in ./.local/lib/python3.10/site-packages (from arviz) (0.8.0)\n",
      "Requirement already satisfied: h5py in ./.local/lib/python3.10/site-packages (from h5netcdf>=1.0.2->arviz) (3.13.0)\n",
      "Requirement already satisfied: contourpy>=1.0.1 in ./.local/lib/python3.10/site-packages (from matplotlib>=3.5->arviz) (1.3.1)\n",
      "Requirement already satisfied: cycler>=0.10 in ./.local/lib/python3.10/site-packages (from matplotlib>=3.5->arviz) (0.12.1)\n",
      "Requirement already satisfied: fonttools>=4.22.0 in ./.local/lib/python3.10/site-packages (from matplotlib>=3.5->arviz) (4.56.0)\n",
      "Requirement already satisfied: kiwisolver>=1.3.1 in ./.local/lib/python3.10/site-packages (from matplotlib>=3.5->arviz) (1.4.8)\n",
      "Requirement already satisfied: pillow>=8 in ./.local/lib/python3.10/site-packages (from matplotlib>=3.5->arviz) (11.1.0)\n",
      "Requirement already satisfied: pyparsing>=2.3.1 in ./.local/lib/python3.10/site-packages (from matplotlib>=3.5->arviz) (3.2.1)\n",
      "Requirement already satisfied: python-dateutil>=2.7 in /opt/tljh/user/lib/python3.10/site-packages (from matplotlib>=3.5->arviz) (2.9.0.post0)\n",
      "Requirement already satisfied: pytz>=2020.1 in ./.local/lib/python3.10/site-packages (from pandas>=1.5.0->arviz) (2025.1)\n",
      "Requirement already satisfied: tzdata>=2022.7 in ./.local/lib/python3.10/site-packages (from pandas>=1.5.0->arviz) (2025.1)\n",
      "Requirement already satisfied: six>=1.5 in /opt/tljh/user/lib/python3.10/site-packages (from python-dateutil>=2.7->matplotlib>=3.5->arviz) (1.16.0)\n",
      "\n",
      "\u001b[1m[\u001b[0m\u001b[34;49mnotice\u001b[0m\u001b[1;39;49m]\u001b[0m\u001b[39;49m A new release of pip is available: \u001b[0m\u001b[31;49m24.1.2\u001b[0m\u001b[39;49m -> \u001b[0m\u001b[32;49m25.0.1\u001b[0m\n",
      "\u001b[1m[\u001b[0m\u001b[34;49mnotice\u001b[0m\u001b[1;39;49m]\u001b[0m\u001b[39;49m To update, run: \u001b[0m\u001b[32;49mpip install --upgrade pip\u001b[0m\n"
     ]
    }
   ],
   "source": [
    "!pip install arviz"
   ]
  },
  {
   "cell_type": "code",
   "execution_count": 1,
   "metadata": {
    "id": "1wXMNry7Hkyp"
   },
   "outputs": [],
   "source": [
    "import os\n",
    "import numpy as np\n",
    "import pandas as pd\n",
    "import geopandas as gpd\n",
    "\n",
    "import time\n",
    "\n",
    "import jax\n",
    "import jax.numpy as jnp\n",
    "from jax import random\n",
    "import numpyro\n",
    "import numpyro.distributions as dist\n",
    "from numpyro.infer import NUTS, MCMC\n",
    "from numpyro.infer import SVI, Trace_ELBO, Predictive\n",
    "import numpyro.diagnostics\n",
    "\n",
    "from termcolor import colored\n",
    "\n",
    "import dill\n",
    "import pickle\n",
    "import arviz as az"
   ]
  },
  {
   "cell_type": "markdown",
   "metadata": {
    "id": "vZReN7eiHoiS"
   },
   "source": [
    "# GP Kernel Function"
   ]
  },
  {
   "cell_type": "code",
   "execution_count": 2,
   "metadata": {
    "id": "u-WVCaHGHru2"
   },
   "outputs": [],
   "source": [
    "def dist_euclid(x, z):\n",
    "    \"\"\"\n",
    "    Computes Eucledian Distance Between Regions. This function is used by\n",
    "    exp_sq_kernel function (kernel function for gaussian processes)\n",
    "    \"\"\"\n",
    "    x = jnp.array(x) # (ngrid_pts, lat/lon) <- i.e (7304,2)\n",
    "    z = jnp.array(z) # (ngrid_pts, lat/lon) <- i.e (7304,2)\n",
    "    if len(x.shape)==1:\n",
    "        x = x.reshape(x.shape[0], 1) #(2618,) -> (7304,1)\n",
    "    if len(z.shape)==1:\n",
    "        z = x.reshape(x.shape[0], 1) #(2618,) -> (7304,1)\n",
    "    n_x, m = x.shape # 7304 , 2\n",
    "    n_z, m_z = z.shape # 7304 , 2\n",
    "    assert m == m_z\n",
    "    delta = jnp.zeros((n_x,n_z)) #(ngrid_pts,ngrid_pts) <- i.e (7304,7304)\n",
    "    for d in jnp.arange(m):\n",
    "        x_d = x[:,d] #(ngrid_pts-lat/lon,) <- (7304,)\n",
    "        z_d = z[:,d] #(ngrid_pts-lat/lon,) <- (7304,)\n",
    "        delta += (x_d[:,jnp.newaxis] - z_d)**2 # (7304,7304)\n",
    "\n",
    "    return jnp.sqrt(delta) #(7304,7304)"
   ]
  },
  {
   "cell_type": "code",
   "execution_count": 3,
   "metadata": {
    "id": "gekmJsOwHumV"
   },
   "outputs": [],
   "source": [
    "def exp_sq_kernel(x, z, var, length, noise, jitter=1.0e-4):\n",
    "    dist = dist_euclid(x, z) #(7304, 7304)\n",
    "    deltaXsq = jnp.power(dist/ length, 2.0)\n",
    "    k = var * jnp.exp(-0.5 * deltaXsq)\n",
    "    k += (noise + jitter) * jnp.eye(x.shape[0])\n",
    "    return k # (ngrid_pts, ngrid_pts) <- (7304,7304)\n"
   ]
  },
  {
   "cell_type": "markdown",
   "metadata": {
    "id": "-iOiO_1NHwNz"
   },
   "source": [
    "#Aggregation Functions"
   ]
  },
  {
   "cell_type": "code",
   "execution_count": 4,
   "metadata": {
    "id": "xgPKoYAkHxrl"
   },
   "outputs": [],
   "source": [
    "def M_g(M, g):\n",
    "    '''\n",
    "    - $M$ is a matrix with binary entries $m_{ij},$ showing whether point $j$ is in polygon $i$\n",
    "    - $g$ is a vector of GP draws over grid\n",
    "    - $maltmul(M, g)$ gives a vector of sums over each polygon\n",
    "    '''\n",
    "    M = jnp.array(M)\n",
    "    g = jnp.array(g).T\n",
    "    return(jnp.matmul(M, g))"
   ]
  },
  {
   "cell_type": "markdown",
   "metadata": {
    "id": "4qNASOC3HzmW"
   },
   "source": [
    "# Aggregated Prevalence Model (old implementation, produces all theta = 1) - must edit this to include HDI, population density"
   ]
  },
  {
   "cell_type": "code",
   "execution_count": 5,
   "metadata": {
    "id": "SQPuzilzH1ih"
   },
   "outputs": [],
   "source": [
    "def prev_model_gp_aggr(args):\n",
    "    \"\"\"Dengue prevalence model with a Gaussian Process\"\"\"\n",
    "\n",
    "    x = args[\"x\"]  # Spatial grid points: (num_grid_points, 2)\n",
    "    gp_kernel = args[\"gp_kernel\"]  # Gaussian Process kernel\n",
    "    noise = args[\"noise\"]\n",
    "    jitter = args[\"jitter\"]\n",
    "\n",
    "    pop_density = args[\"pop_density\"]  # (num_districts,)\n",
    "    hdi = args[\"hdi\"]  # (num_districts,)\n",
    "    M = args[\"M\"]  # (num_districts, num_grid_points) aggregation matrix\n",
    "    total_cases = args[\"total_cases\"]\n",
    "    total_population = args[\"total_population\"]\n",
    "\n",
    "    # GP hyperparameters\n",
    "    kernel_length = numpyro.sample(\"kernel_length\", args[\"kernel_length\"])\n",
    "    kernel_var = numpyro.sample(\"kernel_var\", args[\"kernel_var\"])\n",
    "\n",
    "    # GP Kernel and Sample\n",
    "    k = gp_kernel(x, x, kernel_var, kernel_length, noise, jitter)\n",
    "    f = numpyro.sample(\"f\", dist.MultivariateNormal(loc=jnp.zeros(x.shape[0]), covariance_matrix=k))  # (num_grid_points,)\n",
    "\n",
    "    # Aggregate GP values to district level\n",
    "    gp_aggr = numpyro.deterministic(\"gp_aggr\", M @ f)  # (num_districts,)\n",
    "\n",
    "    # Fixed effects\n",
    "    b0 = numpyro.sample(\"b0\", dist.Normal(0, 1))  # Intercept\n",
    "    b_pop_density = numpyro.sample(\"b_pop_density\", dist.Normal(0, 1))  # Effect of population density\n",
    "    b_hdi = numpyro.sample(\"b_hdi\", dist.Normal(0, 1))  # Effect of HDI\n",
    "\n",
    "    #scale pop_density and hdi (normalise)\n",
    "    # Standardize covariates\n",
    "    pop_density = (pop_density - jnp.mean(pop_density)) / (jnp.std(pop_density))\n",
    "    hdi = (hdi - jnp.mean(hdi)) / (jnp.std(hdi))\n",
    "\n",
    "    # Linear predictor\n",
    "    lp = b0 + gp_aggr + b_pop_density * pop_density + b_hdi * hdi  # (num_districts,)\n",
    "\n",
    "    # Prevalence probability\n",
    "    theta = numpyro.deterministic(\"theta\", jax.nn.sigmoid(lp))  # (num_districts,)\n",
    "\n",
    "    # Binomial likelihood\n",
    "    observed_cases = numpyro.sample(\n",
    "        \"observed_cases\",\n",
    "        dist.Binomial(total_count=total_population, probs=theta),\n",
    "        obs=total_cases\n",
    "    )\n",
    "\n",
    "    return observed_cases\n"
   ]
  },
  {
   "cell_type": "markdown",
   "metadata": {
    "id": "YbDDNakYIbYe"
   },
   "source": [
    "# Load Data"
   ]
  },
  {
   "cell_type": "code",
   "execution_count": 6,
   "metadata": {
    "id": "3_l-ejoAIc2h"
   },
   "outputs": [],
   "source": [
    "# Lat/Lon Values of artificial grid\n",
    "x = np.load(\"../data/processed/lat_lon_x_all.npy\")\n",
    "\n",
    "# combined regional data\n",
    "pol_pts_all = np.load(\"../data/processed/pol_pts_all.npy\")\n",
    "pt_which_pol_all = np.load(\"../data/processed/pt_which_pol_all.npy\")\n",
    "\n",
    "#combine the dataframes\n",
    "df_combined = gpd.read_file(\"../data/processed/final_combined_divisions/final_combined_divisions.shp\")"
   ]
  },
  {
   "cell_type": "code",
   "execution_count": 7,
   "metadata": {
    "colab": {
     "base_uri": "https://localhost:8080/",
     "height": 293
    },
    "id": "01HUGp4bTjXK",
    "outputId": "4d4dcccf-ce9d-4a99-b358-963294db4c2e"
   },
   "outputs": [
    {
     "data": {
      "text/html": [
       "<div>\n",
       "<style scoped>\n",
       "    .dataframe tbody tr th:only-of-type {\n",
       "        vertical-align: middle;\n",
       "    }\n",
       "\n",
       "    .dataframe tbody tr th {\n",
       "        vertical-align: top;\n",
       "    }\n",
       "\n",
       "    .dataframe thead th {\n",
       "        text-align: right;\n",
       "    }\n",
       "</style>\n",
       "<table border=\"1\" class=\"dataframe\">\n",
       "  <thead>\n",
       "    <tr style=\"text-align: right;\">\n",
       "      <th></th>\n",
       "      <th>District</th>\n",
       "      <th>x</th>\n",
       "      <th>y</th>\n",
       "      <th>Year</th>\n",
       "      <th>Area_sq_km</th>\n",
       "      <th>HDI</th>\n",
       "      <th>Cases</th>\n",
       "      <th>Population</th>\n",
       "      <th>Pop_densit</th>\n",
       "      <th>geometry</th>\n",
       "    </tr>\n",
       "  </thead>\n",
       "  <tbody>\n",
       "    <tr>\n",
       "      <th>0</th>\n",
       "      <td>BANDUNG</td>\n",
       "      <td>107.610841</td>\n",
       "      <td>-7.099969</td>\n",
       "      <td>2020</td>\n",
       "      <td>1767.96</td>\n",
       "      <td>72.39</td>\n",
       "      <td>9180</td>\n",
       "      <td>14495160</td>\n",
       "      <td>8198.805403</td>\n",
       "      <td>POLYGON ((107.73309 -6.814, 107.73354 -6.81427...</td>\n",
       "    </tr>\n",
       "    <tr>\n",
       "      <th>1</th>\n",
       "      <td>BANDUNG</td>\n",
       "      <td>107.610841</td>\n",
       "      <td>-7.099969</td>\n",
       "      <td>2021</td>\n",
       "      <td>1767.96</td>\n",
       "      <td>72.73</td>\n",
       "      <td>8008</td>\n",
       "      <td>14662620</td>\n",
       "      <td>8293.524740</td>\n",
       "      <td>POLYGON ((107.73309 -6.814, 107.73354 -6.81427...</td>\n",
       "    </tr>\n",
       "    <tr>\n",
       "      <th>2</th>\n",
       "      <td>BANDUNG</td>\n",
       "      <td>107.610841</td>\n",
       "      <td>-7.099969</td>\n",
       "      <td>2022</td>\n",
       "      <td>1767.96</td>\n",
       "      <td>73.16</td>\n",
       "      <td>16764</td>\n",
       "      <td>14830092</td>\n",
       "      <td>8388.250865</td>\n",
       "      <td>POLYGON ((107.73309 -6.814, 107.73354 -6.81427...</td>\n",
       "    </tr>\n",
       "    <tr>\n",
       "      <th>3</th>\n",
       "      <td>BANDUNG</td>\n",
       "      <td>107.610841</td>\n",
       "      <td>-7.099969</td>\n",
       "      <td>2023</td>\n",
       "      <td>1767.96</td>\n",
       "      <td>73.74</td>\n",
       "      <td>4020</td>\n",
       "      <td>14997564</td>\n",
       "      <td>8482.976990</td>\n",
       "      <td>POLYGON ((107.73309 -6.814, 107.73354 -6.81427...</td>\n",
       "    </tr>\n",
       "    <tr>\n",
       "      <th>4</th>\n",
       "      <td>BANDUNG BARAT</td>\n",
       "      <td>107.414953</td>\n",
       "      <td>-6.897056</td>\n",
       "      <td>2020</td>\n",
       "      <td>1305.77</td>\n",
       "      <td>68.08</td>\n",
       "      <td>3864</td>\n",
       "      <td>7153344</td>\n",
       "      <td>5478.257273</td>\n",
       "      <td>POLYGON ((107.40945 -6.68851, 107.40986 -6.688...</td>\n",
       "    </tr>\n",
       "  </tbody>\n",
       "</table>\n",
       "</div>"
      ],
      "text/plain": [
       "        District           x         y  Year  Area_sq_km    HDI  Cases  \\\n",
       "0        BANDUNG  107.610841 -7.099969  2020     1767.96  72.39   9180   \n",
       "1        BANDUNG  107.610841 -7.099969  2021     1767.96  72.73   8008   \n",
       "2        BANDUNG  107.610841 -7.099969  2022     1767.96  73.16  16764   \n",
       "3        BANDUNG  107.610841 -7.099969  2023     1767.96  73.74   4020   \n",
       "4  BANDUNG BARAT  107.414953 -6.897056  2020     1305.77  68.08   3864   \n",
       "\n",
       "   Population   Pop_densit                                           geometry  \n",
       "0    14495160  8198.805403  POLYGON ((107.73309 -6.814, 107.73354 -6.81427...  \n",
       "1    14662620  8293.524740  POLYGON ((107.73309 -6.814, 107.73354 -6.81427...  \n",
       "2    14830092  8388.250865  POLYGON ((107.73309 -6.814, 107.73354 -6.81427...  \n",
       "3    14997564  8482.976990  POLYGON ((107.73309 -6.814, 107.73354 -6.81427...  \n",
       "4     7153344  5478.257273  POLYGON ((107.40945 -6.68851, 107.40986 -6.688...  "
      ]
     },
     "execution_count": 7,
     "metadata": {},
     "output_type": "execute_result"
    }
   ],
   "source": [
    "#check columns\n",
    "df_combined.head()"
   ]
  },
  {
   "cell_type": "code",
   "execution_count": 8,
   "metadata": {
    "colab": {
     "base_uri": "https://localhost:8080/",
     "height": 293
    },
    "id": "XuckCnfUVWEF",
    "outputId": "cd0e74d4-bee2-42a8-96f0-db71bfcce4ce"
   },
   "outputs": [
    {
     "data": {
      "text/html": [
       "<div>\n",
       "<style scoped>\n",
       "    .dataframe tbody tr th:only-of-type {\n",
       "        vertical-align: middle;\n",
       "    }\n",
       "\n",
       "    .dataframe tbody tr th {\n",
       "        vertical-align: top;\n",
       "    }\n",
       "\n",
       "    .dataframe thead th {\n",
       "        text-align: right;\n",
       "    }\n",
       "</style>\n",
       "<table border=\"1\" class=\"dataframe\">\n",
       "  <thead>\n",
       "    <tr style=\"text-align: right;\">\n",
       "      <th></th>\n",
       "      <th>District</th>\n",
       "      <th>x</th>\n",
       "      <th>y</th>\n",
       "      <th>Year</th>\n",
       "      <th>Area_sq_km</th>\n",
       "      <th>HDI</th>\n",
       "      <th>Cases</th>\n",
       "      <th>Population</th>\n",
       "      <th>Pop_density</th>\n",
       "      <th>geometry</th>\n",
       "    </tr>\n",
       "  </thead>\n",
       "  <tbody>\n",
       "    <tr>\n",
       "      <th>0</th>\n",
       "      <td>BANDUNG</td>\n",
       "      <td>107.610841</td>\n",
       "      <td>-7.099969</td>\n",
       "      <td>2020</td>\n",
       "      <td>1767.96</td>\n",
       "      <td>72.39</td>\n",
       "      <td>9180</td>\n",
       "      <td>14495160</td>\n",
       "      <td>8198.805403</td>\n",
       "      <td>POLYGON ((107.73309 -6.814, 107.73354 -6.81427...</td>\n",
       "    </tr>\n",
       "    <tr>\n",
       "      <th>1</th>\n",
       "      <td>BANDUNG</td>\n",
       "      <td>107.610841</td>\n",
       "      <td>-7.099969</td>\n",
       "      <td>2021</td>\n",
       "      <td>1767.96</td>\n",
       "      <td>72.73</td>\n",
       "      <td>8008</td>\n",
       "      <td>14662620</td>\n",
       "      <td>8293.524740</td>\n",
       "      <td>POLYGON ((107.73309 -6.814, 107.73354 -6.81427...</td>\n",
       "    </tr>\n",
       "    <tr>\n",
       "      <th>2</th>\n",
       "      <td>BANDUNG</td>\n",
       "      <td>107.610841</td>\n",
       "      <td>-7.099969</td>\n",
       "      <td>2022</td>\n",
       "      <td>1767.96</td>\n",
       "      <td>73.16</td>\n",
       "      <td>16764</td>\n",
       "      <td>14830092</td>\n",
       "      <td>8388.250865</td>\n",
       "      <td>POLYGON ((107.73309 -6.814, 107.73354 -6.81427...</td>\n",
       "    </tr>\n",
       "    <tr>\n",
       "      <th>3</th>\n",
       "      <td>BANDUNG</td>\n",
       "      <td>107.610841</td>\n",
       "      <td>-7.099969</td>\n",
       "      <td>2023</td>\n",
       "      <td>1767.96</td>\n",
       "      <td>73.74</td>\n",
       "      <td>4020</td>\n",
       "      <td>14997564</td>\n",
       "      <td>8482.976990</td>\n",
       "      <td>POLYGON ((107.73309 -6.814, 107.73354 -6.81427...</td>\n",
       "    </tr>\n",
       "    <tr>\n",
       "      <th>4</th>\n",
       "      <td>BANDUNG BARAT</td>\n",
       "      <td>107.414953</td>\n",
       "      <td>-6.897056</td>\n",
       "      <td>2020</td>\n",
       "      <td>1305.77</td>\n",
       "      <td>68.08</td>\n",
       "      <td>3864</td>\n",
       "      <td>7153344</td>\n",
       "      <td>5478.257273</td>\n",
       "      <td>POLYGON ((107.40945 -6.68851, 107.40986 -6.688...</td>\n",
       "    </tr>\n",
       "  </tbody>\n",
       "</table>\n",
       "</div>"
      ],
      "text/plain": [
       "        District           x         y  Year  Area_sq_km    HDI  Cases  \\\n",
       "0        BANDUNG  107.610841 -7.099969  2020     1767.96  72.39   9180   \n",
       "1        BANDUNG  107.610841 -7.099969  2021     1767.96  72.73   8008   \n",
       "2        BANDUNG  107.610841 -7.099969  2022     1767.96  73.16  16764   \n",
       "3        BANDUNG  107.610841 -7.099969  2023     1767.96  73.74   4020   \n",
       "4  BANDUNG BARAT  107.414953 -6.897056  2020     1305.77  68.08   3864   \n",
       "\n",
       "   Population  Pop_density                                           geometry  \n",
       "0    14495160  8198.805403  POLYGON ((107.73309 -6.814, 107.73354 -6.81427...  \n",
       "1    14662620  8293.524740  POLYGON ((107.73309 -6.814, 107.73354 -6.81427...  \n",
       "2    14830092  8388.250865  POLYGON ((107.73309 -6.814, 107.73354 -6.81427...  \n",
       "3    14997564  8482.976990  POLYGON ((107.73309 -6.814, 107.73354 -6.81427...  \n",
       "4     7153344  5478.257273  POLYGON ((107.40945 -6.68851, 107.40986 -6.688...  "
      ]
     },
     "execution_count": 8,
     "metadata": {},
     "output_type": "execute_result"
    }
   ],
   "source": [
    "#rename Pop_densit to Pop_density\n",
    "df_combined = df_combined.rename(columns={'Pop_densit': 'Pop_density'})\n",
    "\n",
    "#check head again\n",
    "df_combined.head()"
   ]
  },
  {
   "cell_type": "markdown",
   "metadata": {
    "id": "0cE5BfS4I5oZ"
   },
   "source": [
    "#Vars needed to be changed (change according to the agg prevalence model parameters)"
   ]
  },
  {
   "cell_type": "code",
   "execution_count": 9,
   "metadata": {
    "id": "ivFcMASHI8W8"
   },
   "outputs": [],
   "source": [
    "M = jnp.array(pol_pts_all)\n",
    "pop_density = jnp.array(df_combined[\"Pop_density\"])\n",
    "hdi = jnp.array(df_combined[\"HDI\"])\n",
    "test_cases = jnp.array(df_combined[\"Population\"])\n",
    "cases = jnp.array(df_combined[\"Cases\"])"
   ]
  },
  {
   "cell_type": "code",
   "execution_count": 10,
   "metadata": {
    "colab": {
     "base_uri": "https://localhost:8080/"
    },
    "id": "j79GvFnGGlol",
    "outputId": "8f22d049-6c15-4e3d-ef02-c11d6de02f63"
   },
   "outputs": [
    {
     "name": "stdout",
     "output_type": "stream",
     "text": [
      "(96, 7304)\n",
      "(96,)\n",
      "(96,)\n",
      "(96,)\n",
      "(96,)\n",
      "(7304, 2)\n",
      "(7304,)\n"
     ]
    }
   ],
   "source": [
    "#print the shape of all the vars above\n",
    "print(M.shape)\n",
    "print(pop_density.shape)\n",
    "print(hdi.shape)\n",
    "print(test_cases.shape)\n",
    "print(cases.shape)\n",
    "print(x.shape)\n",
    "print(pt_which_pol_all.shape)"
   ]
  },
  {
   "cell_type": "markdown",
   "metadata": {
    "id": "ZWzo1haaJQwA"
   },
   "source": [
    "#Agg GP Model"
   ]
  },
  {
   "cell_type": "code",
   "execution_count": 11,
   "metadata": {
    "id": "2S8IwtvDJF-K"
   },
   "outputs": [],
   "source": [
    " args = {\n",
    "        \"x\" : jnp.array(x), # Lat/lon vals of grid points # Shape (num_districts, 2)\n",
    "        \"gp_kernel\" : exp_sq_kernel,\n",
    "        \"jitter\" : 1e-4,\n",
    "        \"noise\" : 1e-4,\n",
    "        \"M\" : jnp.array(pol_pts_all), # Aggregation matrix # Shape (num_districts, num_districts)\n",
    "        # GP Kernel Hyperparams\n",
    "        \"kernel_length\" : dist.InverseGamma(3,3), #(,)\n",
    "        \"kernel_var\" : dist.HalfNormal(0.05),\n",
    "        \"pop_density\": jnp.array(df_combined[\"Pop_density\"]), # Shape (num_districts,)\n",
    "        \"hdi\": jnp.array(df_combined[\"HDI\"]), # Shape (num_districts, 2)\n",
    "        \"total_cases\" : jnp.array(df_combined[\"Cases\"]),\n",
    "        \"total_population\" : jnp.array(df_combined[\"Population\"])\n",
    "    }\n"
   ]
  },
  {
   "cell_type": "markdown",
   "metadata": {
    "id": "doOpZ-ltJTlb"
   },
   "source": [
    "#Run MCMC"
   ]
  },
  {
   "cell_type": "code",
   "execution_count": 12,
   "metadata": {
    "colab": {
     "base_uri": "https://localhost:8080/",
     "height": 211
    },
    "id": "0PVn1gP1JUhB",
    "outputId": "fb114274-6477-4c16-ff32-ca5dc3367f44"
   },
   "outputs": [],
   "source": [
    "# 🔹 Random keys\n",
    "run_key, predict_key = random.split(random.PRNGKey(3))\n",
    "\n",
    "# 🔹 MCMC settings\n",
    "n_warm = 1000\n",
    "n_samples = 2000\n",
    "n_chains = 4\n"
   ]
  },
  {
   "cell_type": "code",
   "execution_count": 13,
   "metadata": {
    "id": "8TsnIhztMVBV"
   },
   "outputs": [],
   "source": [
    "# 🔹 Directory for saving\n",
    "save_dir = \"model_weights\"\n",
    "os.makedirs(save_dir, exist_ok=True)"
   ]
  },
  {
   "cell_type": "markdown",
   "metadata": {
    "id": "uWUOUxUeJWMC"
   },
   "source": [
    "#Save Model"
   ]
  },
  {
   "cell_type": "code",
   "execution_count": null,
   "metadata": {
    "colab": {
     "base_uri": "https://localhost:8080/"
    },
    "id": "-7GknyeRJXT-",
    "outputId": "cebd7473-7e13-4071-ac07-0f888339281b"
   },
   "outputs": [
    {
     "name": "stdout",
     "output_type": "stream",
     "text": [
      "\n",
      "Running Chain 1/4...\n"
     ]
    },
    {
     "name": "stderr",
     "output_type": "stream",
     "text": [
      "warmup:   1%|▏         | 42/3000 [13:24<83:57:24, 102.18s/it, 1023 steps of size 3.87e-09. acc. prob=0.59]"
     ]
    }
   ],
   "source": [
    "# Get script location and define correct save directory (sibling to src/)\n",
    "script_dir = os.getcwd()  # Get current working directory\n",
    "save_dir = os.path.abspath(os.path.join(script_dir, \"..\", \"model_weights\"))  # Move up and into model_weights\n",
    "\n",
    "# Ensure the directory exists\n",
    "os.makedirs(save_dir, exist_ok=True)\n",
    "\n",
    "# Run MCMC for each chain separately to prevent total loss on crash\n",
    "chain_keys = random.split(run_key, n_chains)  # Precompute keys\n",
    "\n",
    "for chain_id in range(n_chains):\n",
    "    print(f\"\\nRunning Chain {chain_id + 1}/{n_chains}...\")\n",
    "\n",
    "    # Generate a separate key for each chain\n",
    "    chain_run_key = chain_keys[chain_id]\n",
    "\n",
    "    # Initialize MCMC with controlled step size\n",
    "    mcmc = MCMC(NUTS(prev_model_gp_aggr),\n",
    "        num_warmup=n_warm,\n",
    "        num_samples=n_samples,\n",
    "        num_chains=1)\n",
    "    \n",
    "    # Run the chain\n",
    "    start = time.time()\n",
    "    mcmc.run(chain_run_key, args)  # Ensure args is a tuple (args,)\n",
    "    end = time.time()\n",
    "    t_elapsed_min = round((end - start) / 60)\n",
    "\n",
    "    # 🔹 Save after each chain completes\n",
    "    f_path = os.path.join(save_dir, f\"aggGP_chain{chain_id}_nsamples_{n_samples}_tt{t_elapsed_min}min_logit.pkl\")\n",
    "    with open(f_path, \"wb\") as file:\n",
    "        dill.dump(mcmc, file)\n",
    "\n",
    "    print(f\"Saved Chain {chain_id + 1} to {f_path}\")\n",
    "    print(f\"Time taken: {t_elapsed_min} min\\n\")"
   ]
  },
  {
   "cell_type": "code",
   "execution_count": null,
   "metadata": {
    "id": "JY4TSDmLMbiz"
   },
   "outputs": [],
   "source": [
    "# 🔹 Print total elapsed time\n",
    "total_end = time.time()\n",
    "print(\"\\nMCMC Total elapsed time:\", round(total_end), \"s\")\n",
    "print(\"MCMC Total elapsed time:\", round(total_end / 60), \"min\")\n",
    "print(\"MCMC Total elapsed time:\", round(total_end / (60 * 60)), \"h\")"
   ]
  }
 ],
 "metadata": {
  "accelerator": "GPU",
  "colab": {
   "gpuType": "T4",
   "machine_shape": "hm",
   "provenance": []
  },
  "kernelspec": {
   "display_name": "Python 3 (ipykernel)",
   "language": "python",
   "name": "python3"
  },
  "language_info": {
   "codemirror_mode": {
    "name": "ipython",
    "version": 3
   },
   "file_extension": ".py",
   "mimetype": "text/x-python",
   "name": "python",
   "nbconvert_exporter": "python",
   "pygments_lexer": "ipython3",
   "version": "3.10.10"
  }
 },
 "nbformat": 4,
 "nbformat_minor": 4
}
