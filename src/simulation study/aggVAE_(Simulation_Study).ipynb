{
  "cells": [
    {
      "cell_type": "code",
      "execution_count": 9,
      "metadata": {
        "id": "nDjUgPoZOs5y"
      },
      "outputs": [],
      "source": [
        "import os\n",
        "import math\n",
        "import numpy as np\n",
        "\n",
        "import torch\n",
        "import time\n",
        "\n",
        "import itertools\n",
        "import jax\n",
        "import jax.numpy as jnp\n",
        "from jax import random, lax, jit, ops\n",
        "from jax.example_libraries import stax\n",
        "\n",
        "import numpyro\n",
        "from numpyro.infer import SVI, MCMC, NUTS, init_to_median, Predictive, RenyiELBO\n",
        "import numpyro.distributions as dist\n",
        "\n",
        "import geopandas as gpd\n",
        "import plotly.express as px\n",
        "\n",
        "from termcolor import colored\n",
        "\n",
        "import pickle"
      ]
    },
    {
      "cell_type": "code",
      "execution_count": 11,
      "metadata": {
        "id": "RWApQLwlTWKD"
      },
      "outputs": [],
      "source": [
        "#define the functions necessary\n",
        "def dist_euclid(x, z):\n",
        "    \"\"\"\n",
        "    Computes Eucledian Distance Between Regions. This function is used by\n",
        "    exp_sq_kernel function (kernel function for gaussian processes)\n",
        "    \"\"\"\n",
        "    x = jnp.array(x) # (ngrid_pts, lat/lon) <- i.e (7304,2)\n",
        "    z = jnp.array(z) # (ngrid_pts, lat/lon) <- i.e (7304,2)\n",
        "    if len(x.shape)==1:\n",
        "        x = x.reshape(x.shape[0], 1) #(2618,) -> (7304,1)\n",
        "    if len(z.shape)==1:\n",
        "        z = x.reshape(x.shape[0], 1) #(2618,) -> (7304,1)\n",
        "    n_x, m = x.shape # 7304 , 2\n",
        "    n_z, m_z = z.shape # 7304 , 2\n",
        "    assert m == m_z\n",
        "    delta = jnp.zeros((n_x,n_z)) #(ngrid_pts,ngrid_pts) <- i.e (7304,7304)\n",
        "    for d in jnp.arange(m):\n",
        "        x_d = x[:,d] #(ngrid_pts-lat/lon,) <- (7304,)\n",
        "        z_d = z[:,d] #(ngrid_pts-lat/lon,) <- (7304,)\n",
        "        delta += (x_d[:,jnp.newaxis] - z_d)**2 # (7304,7304)\n",
        "\n",
        "    return jnp.sqrt(delta) #(7304,7304)\n",
        "\n",
        "def exp_sq_kernel(x, z, var, length, noise, jitter=1.0e-4):\n",
        "    dist = dist_euclid(x, z) #(7304, 7304)\n",
        "    deltaXsq = jnp.power(dist/ length, 2.0)\n",
        "    k = var * jnp.exp(-0.5 * deltaXsq)\n",
        "    k += (noise + jitter) * jnp.eye(x.shape[0])\n",
        "    return k # (ngrid_pts, ngrid_pts) <- (7304,7304)\n",
        "\n",
        "def M_g(M, g):\n",
        "    '''\n",
        "    - $M$ is a matrix with binary entries $m_{ij},$ showing whether point $j$ is in polygon $i$\n",
        "    - $g$ is a vector of GP draws over grid\n",
        "    - $maltmul(M, g)$ gives a vector of sums over each polygon\n",
        "    '''\n",
        "    M = jnp.array(M)\n",
        "    g = jnp.array(g).T\n",
        "    return(jnp.matmul(M, g))"
      ]
    },
    {
      "cell_type": "markdown",
      "metadata": {
        "id": "AOpyAuFOQxOI"
      },
      "source": [
        "# AggVAE Model"
      ]
    },
    {
      "cell_type": "markdown",
      "metadata": {
        "id": "W35Bwle9YtgB"
      },
      "source": [
        "## Function for Predictive Simulation (Prior)"
      ]
    },
    {
      "cell_type": "code",
      "execution_count": 12,
      "metadata": {
        "id": "pqpibNNMYxp5"
      },
      "outputs": [],
      "source": [
        "def gp_aggr(args):\n",
        "    x = args[\"x\"]  # Spatial grid points: (num_grid_points, 2)\n",
        "    gp_kernel = args[\"gp_kernel\"]  # Gaussian Process kernel\n",
        "    noise = args[\"noise\"]\n",
        "    jitter = args[\"jitter\"]\n",
        "    M = args[\"M\"]  # (num_districts, num_grid_points) aggregation matrix\n",
        "\n",
        "    # GP hyperparameters\n",
        "    kernel_length = numpyro.sample(\"kernel_length\", args[\"kernel_length\"])\n",
        "    kernel_var = numpyro.sample(\"kernel_var\", args[\"kernel_var\"])\n",
        "\n",
        "    # GP Kernel and Sample\n",
        "    k = gp_kernel(x, x, kernel_var, kernel_length, noise, jitter)\n",
        "    f = numpyro.sample(\"f\", dist.MultivariateNormal(loc=jnp.zeros(x.shape[0]), covariance_matrix=k))  # (num_grid_points,)\n",
        "\n",
        "    # Aggregate GP values to district level\n",
        "    gp_aggr = numpyro.deterministic(\"gp_aggr\", M @ f)  # (num_districts,)\n",
        "\n",
        "    return gp_aggr"
      ]
    },
    {
      "cell_type": "markdown",
      "metadata": {
        "id": "yjA0_Y9YTBYf"
      },
      "source": [
        "## Define the VAE"
      ]
    },
    {
      "cell_type": "code",
      "execution_count": 13,
      "metadata": {
        "id": "8-qYl8VcTDzq"
      },
      "outputs": [],
      "source": [
        "def vae_encoder(hidden_dim = 50, z_dim = 40):\n",
        "    return stax.serial(\n",
        "        #(num_samples, num_regions) -> (num_samples, hidden_dims)\n",
        "        stax.Dense(hidden_dim, W_init = stax.randn()),\n",
        "        stax.Elu,\n",
        "        stax.FanOut(2),\n",
        "        stax.parallel(\n",
        "            # mean : (num_samples, hidden_dim) -> (num_samples, z_dim)\n",
        "            stax.Dense(z_dim, W_init = stax.randn()), #(5,50)\n",
        "            #std : (num_samples, hidden_dim) -> (num_samples, z_dim)\n",
        "            stax.serial(stax.Dense(z_dim, W_init = stax.randn()), stax.Exp)\n",
        "        )\n",
        "    )\n",
        "\n",
        "def vae_decoder(hidden_dim, out_dim):\n",
        "    return stax.serial(\n",
        "        # (num_samples, z_dim) -> (num_samples, hidden_dim)\n",
        "        stax.Dense(hidden_dim, W_init = stax.randn()),\n",
        "        stax.Elu,\n",
        "        # (num_samples, hidden_dim) -> (num_samples, num_regions)\n",
        "        stax.Dense(out_dim, W_init = stax.randn())\n",
        "    )\n",
        "\n",
        "\n",
        "def vae_model(batch, hidden_dim, z_dim):\n",
        "    \"\"\"This computes the decoder portion\"\"\"\n",
        "    batch = jnp.reshape(batch, (batch.shape[0], -1)) # (num_samples, num_regions)\n",
        "    batch_dim, out_dim = jnp.shape(batch)\n",
        "\n",
        "    # vae-decoder in numpyro module\n",
        "    decode = numpyro.module(\n",
        "        name = \"decoder\",\n",
        "        nn = vae_decoder(hidden_dim = hidden_dim, out_dim = out_dim),\n",
        "        input_shape = (batch_dim, z_dim) #(5,40)\n",
        "    )\n",
        "\n",
        "    # Sample a univariate normal\n",
        "    z = numpyro.sample(\n",
        "        \"z\",\n",
        "        dist.Normal(\n",
        "            jnp.zeros((batch_dim,z_dim)),\n",
        "            jnp.ones((batch_dim,z_dim))\n",
        "            )\n",
        "    )\n",
        "    # Forward pass from decoder\n",
        "    gen_loc = decode(z) #(num_regions,)\n",
        "    obs = numpyro.sample(\n",
        "        \"obs\",\n",
        "        dist.Normal(gen_loc, args[\"vae_var\"]),\n",
        "        obs = batch\n",
        "    ) #(num_samples, num_regions)\n",
        "    return obs\n",
        "\n",
        "\n",
        "def vae_guide(batch, hidden_dim, z_dim):\n",
        "    \"\"\"This computes the encoder portion\"\"\"\n",
        "    batch = jnp.reshape(batch, (batch.shape[0], -1)) #(num_samples, num_regions)\n",
        "    batch_dim, input_dim = jnp.shape(batch)# num_samples , num_regions\n",
        "\n",
        "    # vae-encoder in numpyro module\n",
        "    encode = numpyro.module(\n",
        "        name = \"encoder\",\n",
        "        nn = vae_encoder(hidden_dim=hidden_dim,z_dim = z_dim),\n",
        "        input_shape = (batch_dim, input_dim) #(5,58)\n",
        "    ) #(num_samples, num_regions) -> (num_samples, hidden_dims)\n",
        "\n",
        "    # Samapling mu, sigma - Pretty much the forward pass\n",
        "    z_loc, z_std = encode(batch) #mu : (num_samples, z_dim), sigma2 : (num_samples, z_dim)\n",
        "    # Sample a value z based on mu and sigma\n",
        "    z = numpyro.sample(\"z\", dist.Normal(z_loc, z_std)) #(num_sample, z_dim)\n",
        "    return z"
      ]
    },
    {
      "cell_type": "markdown",
      "metadata": {
        "id": "EA7tPNDnWgpG"
      },
      "source": [
        "## Train the VAE encoder"
      ]
    },
    {
      "cell_type": "code",
      "execution_count": 14,
      "metadata": {
        "id": "D8_MUf7FWlAX"
      },
      "outputs": [],
      "source": [
        "@jax.jit\n",
        "def epoch_train(rng_key, svi_state, num_train):\n",
        "    def body_fn(i, val):\n",
        "        rng_key_i = jax.random.fold_in(rng_key, i) #Array(2,)\n",
        "        rng_key_i, rng_key_ls, rng_key_var, rng_key_noise = jax.random.split(rng_key_i, 4) #Tuple(Array(2,) x 4)\n",
        "        loss_sum, svi_state = val #val --svi_state\n",
        "\n",
        "        batch = agg_gp_predictive(rng_key_i, args)[\"gp_aggr\"] #(5,116) <- num_samples : 5, total_districts : 116\n",
        "        #* svi is where the vae_model & vae_guide gets applied\n",
        "        svi_state, loss = svi.update(svi_state, batch)\n",
        "        loss_sum += loss / args[\"batch_size\"]\n",
        "        return loss_sum, svi_state\n",
        "\n",
        "    return lax.fori_loop(lower = 0, upper = num_train, body_fun=body_fn, init_val=(0.0, svi_state))\n",
        "\n",
        "@jax.jit\n",
        "def eval_test(rng_key, svi_state, num_test):\n",
        "    def body_fn(i, loss_sum):\n",
        "        rng_key_i = jax.random.fold_in(rng_key, i)\n",
        "        rng_key_i, rng_key_ls, rng_key_varm, rng_key_noise = jax.random.split(rng_key_i, 4)\n",
        "        batch = agg_gp_predictive(rng_key_i, args)[\"gp_aggr\"]\n",
        "        #* svi is where the vae_model & vae_guide gets applied\n",
        "        loss = svi.evaluate(svi_state, batch) / args[\"batch_size\"]\n",
        "        loss_sum += loss\n",
        "        return loss_sum\n",
        "\n",
        "    loss = lax.fori_loop(lower = 0, upper = num_test,body_fun =  body_fn, init_val = 0.0)\n",
        "    loss = loss / num_test\n",
        "    return loss"
      ]
    },
    {
      "cell_type": "markdown",
      "metadata": {
        "id": "HHkZ6dqhTEKl"
      },
      "source": [
        "## Function to plot the GP"
      ]
    },
    {
      "cell_type": "code",
      "execution_count": 15,
      "metadata": {
        "id": "7rke7xN5TJts"
      },
      "outputs": [],
      "source": [
        "def plot_process(gp_draws):\n",
        "    p = px.line()\n",
        "    for i in range(len(gp_draws)):\n",
        "        p.add_scatter(x = np.arange(gp_draws.shape[1]), y = gp_draws[i, :])\n",
        "\n",
        "    p.update_traces(line_color = \"black\")\n",
        "    p.update_layout(\n",
        "        template = \"plotly_white\",\n",
        "        xaxis_title = \"region\", yaxis_title = \"num cases\",\n",
        "        showlegend = False)\n",
        "    p.show()"
      ]
    },
    {
      "cell_type": "markdown",
      "metadata": {
        "id": "Egml-fn9TKMJ"
      },
      "source": [
        "## Load the variables"
      ]
    },
    {
      "cell_type": "code",
      "execution_count": 16,
      "metadata": {
        "id": "veD2sogTTMIc"
      },
      "outputs": [],
      "source": [
        "# Lat/Lon Values of artificial grid\n",
        "x = np.load(\"../../data/processed/lat_lon_x_jkt.npy\")\n",
        "pol_pts_jkt = np.load(\"../../data/processed/pol_pts_jkt.npy\")\n",
        "pt_which_pol_jkt = np.load(\"../../data/processed/pt_which_pol_jkt.npy\")\n",
        "\n",
        "df_combined = gpd.read_file(\"../../data/processed/jkt_combined_divisions/jkt_combined_divisions.shp\")"
      ]
    },
    {
      "cell_type": "markdown",
      "metadata": {
        "id": "DgiCqcl7TDwR"
      },
      "source": [
        "## Arguments"
      ]
    },
    {
      "cell_type": "code",
      "execution_count": 17,
      "metadata": {
        "id": "D79oQ7R-THBC"
      },
      "outputs": [],
      "source": [
        "args = {\n",
        "        \"x\": x,\n",
        "        \"gp_kernel\": exp_sq_kernel,\n",
        "        \"noise\": 1e-4,\n",
        "        \"M\": jnp.array(pol_pts_jkt),\n",
        "        \"jitter\" : 1e-4,\n",
        "        # VAE training\n",
        "        \"rng_key\": random.PRNGKey(5),\n",
        "        #common num_epochs 20-50\n",
        "        \"num_epochs\": 20,\n",
        "        #learning rate 0.0005 common choice, ADAM optimiser adapts the learning rate accordingly\n",
        "        \"learning_rate\": 0.0005,\n",
        "        #chosen to be 100 (no tune)\n",
        "        \"batch_size\": 100,\n",
        "        #change this to the optimal values after hyperparameter tuning\n",
        "        \"hidden_dim\": 30,\n",
        "        \"z_dim\": 40,\n",
        "        #chosen to be 100 (no tune)\n",
        "        \"num_train\": 100,\n",
        "        \"num_test\":100,\n",
        "        #variance set to 1 bc the latent variable prior distribution is assumed to be normal\n",
        "        \"vae_var\": 1,\n",
        "        \"kernel_length\": dist.InverseGamma(3,3),\n",
        "        \"kernel_var\": dist.HalfNormal(1e-5)\n",
        "    }\n"
      ]
    },
    {
      "cell_type": "markdown",
      "metadata": {
        "id": "dp6EFT7RTLKZ"
      },
      "source": [
        "## Prior predictive simulation"
      ]
    },
    {
      "cell_type": "code",
      "execution_count": 18,
      "metadata": {
        "id": "72dE-HgATNBA"
      },
      "outputs": [],
      "source": [
        "rng_key, rng_key_ = random.split(random.PRNGKey(4))\n",
        "agg_gp_predictive = Predictive(gp_aggr,num_samples = 5)\n",
        "agg_gp_draws = agg_gp_predictive(rng_key_, args)[\"gp_aggr\"] #(num_samples, num_regions)"
      ]
    },
    {
      "cell_type": "code",
      "execution_count": 22,
      "metadata": {
        "colab": {
          "base_uri": "https://localhost:8080/",
          "height": 542
        },
        "id": "KMnPLKZwJrO5",
        "outputId": "c22725f1-6f23-4b3a-9f7c-a65b56a7bc7a"
      },
      "outputs": [
        {
          "ename": "ValueError",
          "evalue": "Mime type rendering requires nbformat>=4.2.0 but it is not installed",
          "output_type": "error",
          "traceback": [
            "\u001b[1;31m---------------------------------------------------------------------------\u001b[0m",
            "\u001b[1;31mValueError\u001b[0m                                Traceback (most recent call last)",
            "Cell \u001b[1;32mIn[22], line 2\u001b[0m\n\u001b[0;32m      1\u001b[0m \u001b[38;5;66;03m# Plotting\u001b[39;00m\n\u001b[1;32m----> 2\u001b[0m \u001b[43mplot_process\u001b[49m\u001b[43m(\u001b[49m\u001b[43magg_gp_draws\u001b[49m\u001b[43m)\u001b[49m\n",
            "Cell \u001b[1;32mIn[15], line 11\u001b[0m, in \u001b[0;36mplot_process\u001b[1;34m(gp_draws)\u001b[0m\n\u001b[0;32m      6\u001b[0m p\u001b[38;5;241m.\u001b[39mupdate_traces(line_color \u001b[38;5;241m=\u001b[39m \u001b[38;5;124m\"\u001b[39m\u001b[38;5;124mblack\u001b[39m\u001b[38;5;124m\"\u001b[39m)\n\u001b[0;32m      7\u001b[0m p\u001b[38;5;241m.\u001b[39mupdate_layout(\n\u001b[0;32m      8\u001b[0m     template \u001b[38;5;241m=\u001b[39m \u001b[38;5;124m\"\u001b[39m\u001b[38;5;124mplotly_white\u001b[39m\u001b[38;5;124m\"\u001b[39m,\n\u001b[0;32m      9\u001b[0m     xaxis_title \u001b[38;5;241m=\u001b[39m \u001b[38;5;124m\"\u001b[39m\u001b[38;5;124mregion\u001b[39m\u001b[38;5;124m\"\u001b[39m, yaxis_title \u001b[38;5;241m=\u001b[39m \u001b[38;5;124m\"\u001b[39m\u001b[38;5;124mnum cases\u001b[39m\u001b[38;5;124m\"\u001b[39m,\n\u001b[0;32m     10\u001b[0m     showlegend \u001b[38;5;241m=\u001b[39m \u001b[38;5;28;01mFalse\u001b[39;00m)\n\u001b[1;32m---> 11\u001b[0m \u001b[43mp\u001b[49m\u001b[38;5;241;43m.\u001b[39;49m\u001b[43mshow\u001b[49m\u001b[43m(\u001b[49m\u001b[43m)\u001b[49m\n",
            "File \u001b[1;32m~\\AppData\\Roaming\\Python\\Python313\\site-packages\\plotly\\basedatatypes.py:3414\u001b[0m, in \u001b[0;36mBaseFigure.show\u001b[1;34m(self, *args, **kwargs)\u001b[0m\n\u001b[0;32m   3381\u001b[0m \u001b[38;5;250m\u001b[39m\u001b[38;5;124;03m\"\"\"\u001b[39;00m\n\u001b[0;32m   3382\u001b[0m \u001b[38;5;124;03mShow a figure using either the default renderer(s) or the renderer(s)\u001b[39;00m\n\u001b[0;32m   3383\u001b[0m \u001b[38;5;124;03mspecified by the renderer argument\u001b[39;00m\n\u001b[1;32m   (...)\u001b[0m\n\u001b[0;32m   3410\u001b[0m \u001b[38;5;124;03mNone\u001b[39;00m\n\u001b[0;32m   3411\u001b[0m \u001b[38;5;124;03m\"\"\"\u001b[39;00m\n\u001b[0;32m   3412\u001b[0m \u001b[38;5;28;01mimport\u001b[39;00m\u001b[38;5;250m \u001b[39m\u001b[38;5;21;01mplotly\u001b[39;00m\u001b[38;5;21;01m.\u001b[39;00m\u001b[38;5;21;01mio\u001b[39;00m\u001b[38;5;250m \u001b[39m\u001b[38;5;28;01mas\u001b[39;00m\u001b[38;5;250m \u001b[39m\u001b[38;5;21;01mpio\u001b[39;00m\n\u001b[1;32m-> 3414\u001b[0m \u001b[38;5;28;01mreturn\u001b[39;00m \u001b[43mpio\u001b[49m\u001b[38;5;241;43m.\u001b[39;49m\u001b[43mshow\u001b[49m\u001b[43m(\u001b[49m\u001b[38;5;28;43mself\u001b[39;49m\u001b[43m,\u001b[49m\u001b[43m \u001b[49m\u001b[38;5;241;43m*\u001b[39;49m\u001b[43margs\u001b[49m\u001b[43m,\u001b[49m\u001b[43m \u001b[49m\u001b[38;5;241;43m*\u001b[39;49m\u001b[38;5;241;43m*\u001b[39;49m\u001b[43mkwargs\u001b[49m\u001b[43m)\u001b[49m\n",
            "File \u001b[1;32m~\\AppData\\Roaming\\Python\\Python313\\site-packages\\plotly\\io\\_renderers.py:425\u001b[0m, in \u001b[0;36mshow\u001b[1;34m(fig, renderer, validate, **kwargs)\u001b[0m\n\u001b[0;32m    420\u001b[0m     \u001b[38;5;28;01mraise\u001b[39;00m \u001b[38;5;167;01mValueError\u001b[39;00m(\n\u001b[0;32m    421\u001b[0m         \u001b[38;5;124m\"\u001b[39m\u001b[38;5;124mMime type rendering requires ipython but it is not installed\u001b[39m\u001b[38;5;124m\"\u001b[39m\n\u001b[0;32m    422\u001b[0m     )\n\u001b[0;32m    424\u001b[0m \u001b[38;5;28;01mif\u001b[39;00m \u001b[38;5;129;01mnot\u001b[39;00m nbformat \u001b[38;5;129;01mor\u001b[39;00m Version(nbformat\u001b[38;5;241m.\u001b[39m__version__) \u001b[38;5;241m<\u001b[39m Version(\u001b[38;5;124m\"\u001b[39m\u001b[38;5;124m4.2.0\u001b[39m\u001b[38;5;124m\"\u001b[39m):\n\u001b[1;32m--> 425\u001b[0m     \u001b[38;5;28;01mraise\u001b[39;00m \u001b[38;5;167;01mValueError\u001b[39;00m(\n\u001b[0;32m    426\u001b[0m         \u001b[38;5;124m\"\u001b[39m\u001b[38;5;124mMime type rendering requires nbformat>=4.2.0 but it is not installed\u001b[39m\u001b[38;5;124m\"\u001b[39m\n\u001b[0;32m    427\u001b[0m     )\n\u001b[0;32m    429\u001b[0m display_jupyter_version_warnings()\n\u001b[0;32m    431\u001b[0m ipython_display\u001b[38;5;241m.\u001b[39mdisplay(bundle, raw\u001b[38;5;241m=\u001b[39m\u001b[38;5;28;01mTrue\u001b[39;00m)\n",
            "\u001b[1;31mValueError\u001b[0m: Mime type rendering requires nbformat>=4.2.0 but it is not installed"
          ]
        }
      ],
      "source": [
        "# Plotting\n",
        "plot_process(agg_gp_draws)"
      ]
    },
    {
      "cell_type": "markdown",
      "metadata": {
        "id": "24YH-_biUJG4"
      },
      "source": [
        "## Hyperparameter Tuning"
      ]
    },
    {
      "cell_type": "code",
      "execution_count": 23,
      "metadata": {
        "colab": {
          "base_uri": "https://localhost:8080/"
        },
        "id": "Ldon-7FAUM1i",
        "outputId": "5733b51e-1e3a-4ddd-8166-d21ba68e06fd"
      },
      "outputs": [
        {
          "name": "stdout",
          "output_type": "stream",
          "text": [
            "Training with hidden_dim=20, z_dim=20\n",
            "Epoch: 0, Train Loss: 92.06, Test Loss: 0.92 (3.11 s)\n",
            "Epoch: 1, Train Loss: 92.07, Test Loss: 0.92 (0.08 s)\n",
            "Epoch: 2, Train Loss: 92.08, Test Loss: 0.92 (0.08 s)\n",
            "Epoch: 3, Train Loss: 92.08, Test Loss: 0.92 (0.08 s)\n",
            "Epoch: 4, Train Loss: 92.09, Test Loss: 0.92 (0.08 s)\n",
            "Epoch: 5, Train Loss: 92.09, Test Loss: 0.92 (0.08 s)\n",
            "Epoch: 6, Train Loss: 92.05, Test Loss: 0.92 (0.07 s)\n",
            "Epoch: 7, Train Loss: 92.09, Test Loss: 0.92 (0.08 s)\n",
            "Epoch: 8, Train Loss: 92.08, Test Loss: 0.92 (0.08 s)\n",
            "Epoch: 9, Train Loss: 92.05, Test Loss: 0.92 (0.08 s)\n",
            "Epoch: 10, Train Loss: 92.05, Test Loss: 0.92 (0.07 s)\n",
            "Epoch: 11, Train Loss: 92.11, Test Loss: 0.92 (0.07 s)\n",
            "Epoch: 12, Train Loss: 92.13, Test Loss: 0.92 (0.08 s)\n",
            "Epoch: 13, Train Loss: 92.05, Test Loss: 0.92 (0.08 s)\n",
            "Epoch: 14, Train Loss: 92.10, Test Loss: 0.92 (0.08 s)\n",
            "Epoch: 15, Train Loss: 92.06, Test Loss: 0.92 (0.08 s)\n",
            "Epoch: 16, Train Loss: 92.05, Test Loss: 0.92 (0.08 s)\n",
            "Epoch: 17, Train Loss: 92.07, Test Loss: 0.92 (0.07 s)\n",
            "Epoch: 18, Train Loss: 92.06, Test Loss: 0.92 (0.07 s)\n",
            "Epoch: 19, Train Loss: 92.07, Test Loss: 0.92 (0.08 s)\n",
            "Final Test loss for hidden_dim=20, z_dim=20: 0.9231059551239014\n",
            "Mean Test loss for hidden_dim=20, z_dim=20: 0.9207326769828796\n",
            "Training with hidden_dim=20, z_dim=30\n",
            "Epoch: 0, Train Loss: 92.08, Test Loss: 0.92 (2.90 s)\n",
            "Epoch: 1, Train Loss: 92.06, Test Loss: 0.92 (0.07 s)\n",
            "Epoch: 2, Train Loss: 92.08, Test Loss: 0.92 (0.08 s)\n",
            "Epoch: 3, Train Loss: 92.07, Test Loss: 0.92 (0.07 s)\n",
            "Epoch: 4, Train Loss: 92.07, Test Loss: 0.92 (0.07 s)\n",
            "Epoch: 5, Train Loss: 92.10, Test Loss: 0.92 (0.08 s)\n",
            "Epoch: 6, Train Loss: 92.05, Test Loss: 0.92 (0.07 s)\n",
            "Epoch: 7, Train Loss: 92.10, Test Loss: 0.92 (0.07 s)\n",
            "Epoch: 8, Train Loss: 92.07, Test Loss: 0.92 (0.07 s)\n",
            "Epoch: 9, Train Loss: 92.06, Test Loss: 0.92 (0.07 s)\n",
            "Epoch: 10, Train Loss: 92.07, Test Loss: 0.92 (0.07 s)\n",
            "Epoch: 11, Train Loss: 92.09, Test Loss: 0.92 (0.07 s)\n",
            "Epoch: 12, Train Loss: 92.09, Test Loss: 0.92 (0.08 s)\n",
            "Epoch: 13, Train Loss: 92.05, Test Loss: 0.92 (0.09 s)\n",
            "Epoch: 14, Train Loss: 92.12, Test Loss: 0.92 (0.07 s)\n",
            "Epoch: 15, Train Loss: 92.06, Test Loss: 0.92 (0.07 s)\n",
            "Epoch: 16, Train Loss: 92.08, Test Loss: 0.92 (0.08 s)\n",
            "Epoch: 17, Train Loss: 92.05, Test Loss: 0.93 (0.08 s)\n",
            "Epoch: 18, Train Loss: 92.07, Test Loss: 0.92 (0.08 s)\n",
            "Epoch: 19, Train Loss: 92.08, Test Loss: 0.92 (0.07 s)\n",
            "Final Test loss for hidden_dim=20, z_dim=30: 0.9201497435569763\n",
            "Mean Test loss for hidden_dim=20, z_dim=30: 0.921319305896759\n",
            "Training with hidden_dim=20, z_dim=40\n",
            "Epoch: 0, Train Loss: 92.05, Test Loss: 0.92 (3.25 s)\n",
            "Epoch: 1, Train Loss: 92.11, Test Loss: 0.92 (0.07 s)\n",
            "Epoch: 2, Train Loss: 92.07, Test Loss: 0.92 (0.08 s)\n",
            "Epoch: 3, Train Loss: 92.11, Test Loss: 0.92 (0.08 s)\n",
            "Epoch: 4, Train Loss: 92.10, Test Loss: 0.92 (0.09 s)\n",
            "Epoch: 5, Train Loss: 92.10, Test Loss: 0.92 (0.08 s)\n",
            "Epoch: 6, Train Loss: 92.06, Test Loss: 0.92 (0.08 s)\n",
            "Epoch: 7, Train Loss: 92.08, Test Loss: 0.92 (0.08 s)\n",
            "Epoch: 8, Train Loss: 92.06, Test Loss: 0.92 (0.07 s)\n",
            "Epoch: 9, Train Loss: 92.11, Test Loss: 0.92 (0.07 s)\n",
            "Epoch: 10, Train Loss: 92.09, Test Loss: 0.92 (0.08 s)\n",
            "Epoch: 11, Train Loss: 92.12, Test Loss: 0.92 (0.11 s)\n",
            "Epoch: 12, Train Loss: 92.11, Test Loss: 0.92 (0.09 s)\n",
            "Epoch: 13, Train Loss: 92.09, Test Loss: 0.92 (0.09 s)\n",
            "Epoch: 14, Train Loss: 92.12, Test Loss: 0.92 (0.09 s)\n",
            "Epoch: 15, Train Loss: 92.05, Test Loss: 0.92 (0.08 s)\n",
            "Epoch: 16, Train Loss: 92.11, Test Loss: 0.92 (0.07 s)\n",
            "Epoch: 17, Train Loss: 92.07, Test Loss: 0.92 (0.08 s)\n",
            "Epoch: 18, Train Loss: 92.10, Test Loss: 0.92 (0.08 s)\n",
            "Epoch: 19, Train Loss: 92.05, Test Loss: 0.92 (0.08 s)\n",
            "Final Test loss for hidden_dim=20, z_dim=40: 0.9173188805580139\n",
            "Mean Test loss for hidden_dim=20, z_dim=40: 0.9207714200019836\n",
            "Training with hidden_dim=20, z_dim=50\n",
            "Epoch: 0, Train Loss: 92.08, Test Loss: 0.92 (3.07 s)\n",
            "Epoch: 1, Train Loss: 92.08, Test Loss: 0.92 (0.07 s)\n",
            "Epoch: 2, Train Loss: 92.10, Test Loss: 0.92 (0.08 s)\n",
            "Epoch: 3, Train Loss: 92.11, Test Loss: 0.92 (0.07 s)\n",
            "Epoch: 4, Train Loss: 92.11, Test Loss: 0.92 (0.07 s)\n",
            "Epoch: 5, Train Loss: 92.07, Test Loss: 0.92 (0.10 s)\n",
            "Epoch: 6, Train Loss: 92.10, Test Loss: 0.92 (0.08 s)\n",
            "Epoch: 7, Train Loss: 92.08, Test Loss: 0.92 (0.10 s)\n",
            "Epoch: 8, Train Loss: 92.09, Test Loss: 0.92 (0.08 s)\n",
            "Epoch: 9, Train Loss: 92.11, Test Loss: 0.92 (0.10 s)\n",
            "Epoch: 10, Train Loss: 92.06, Test Loss: 0.92 (0.11 s)\n",
            "Epoch: 11, Train Loss: 92.12, Test Loss: 0.92 (0.09 s)\n",
            "Epoch: 12, Train Loss: 92.12, Test Loss: 0.92 (0.09 s)\n",
            "Epoch: 13, Train Loss: 92.10, Test Loss: 0.92 (0.08 s)\n",
            "Epoch: 14, Train Loss: 92.11, Test Loss: 0.92 (0.08 s)\n",
            "Epoch: 15, Train Loss: 92.07, Test Loss: 0.92 (0.09 s)\n",
            "Epoch: 16, Train Loss: 92.07, Test Loss: 0.92 (0.08 s)\n",
            "Epoch: 17, Train Loss: 92.06, Test Loss: 0.93 (0.07 s)\n",
            "Epoch: 18, Train Loss: 92.10, Test Loss: 0.92 (0.10 s)\n",
            "Epoch: 19, Train Loss: 92.12, Test Loss: 0.92 (0.09 s)\n",
            "Final Test loss for hidden_dim=20, z_dim=50: 0.9182265400886536\n",
            "Mean Test loss for hidden_dim=20, z_dim=50: 0.9211856126785278\n",
            "Training with hidden_dim=30, z_dim=20\n",
            "Epoch: 0, Train Loss: 92.06, Test Loss: 0.92 (3.00 s)\n",
            "Epoch: 1, Train Loss: 92.07, Test Loss: 0.92 (0.08 s)\n",
            "Epoch: 2, Train Loss: 92.08, Test Loss: 0.92 (0.08 s)\n",
            "Epoch: 3, Train Loss: 92.08, Test Loss: 0.92 (0.08 s)\n",
            "Epoch: 4, Train Loss: 92.09, Test Loss: 0.92 (0.08 s)\n",
            "Epoch: 5, Train Loss: 92.10, Test Loss: 0.92 (0.08 s)\n",
            "Epoch: 6, Train Loss: 92.05, Test Loss: 0.92 (0.07 s)\n",
            "Epoch: 7, Train Loss: 92.09, Test Loss: 0.92 (0.08 s)\n",
            "Epoch: 8, Train Loss: 92.08, Test Loss: 0.92 (0.08 s)\n",
            "Epoch: 9, Train Loss: 92.06, Test Loss: 0.92 (0.12 s)\n",
            "Epoch: 10, Train Loss: 92.05, Test Loss: 0.92 (0.09 s)\n",
            "Epoch: 11, Train Loss: 92.11, Test Loss: 0.92 (0.08 s)\n",
            "Epoch: 12, Train Loss: 92.13, Test Loss: 0.92 (0.09 s)\n",
            "Epoch: 13, Train Loss: 92.05, Test Loss: 0.92 (0.07 s)\n",
            "Epoch: 14, Train Loss: 92.10, Test Loss: 0.92 (0.08 s)\n",
            "Epoch: 15, Train Loss: 92.07, Test Loss: 0.92 (0.08 s)\n",
            "Epoch: 16, Train Loss: 92.05, Test Loss: 0.92 (0.08 s)\n",
            "Epoch: 17, Train Loss: 92.07, Test Loss: 0.92 (0.08 s)\n",
            "Epoch: 18, Train Loss: 92.06, Test Loss: 0.92 (0.09 s)\n",
            "Epoch: 19, Train Loss: 92.07, Test Loss: 0.92 (0.07 s)\n",
            "Final Test loss for hidden_dim=30, z_dim=20: 0.923116147518158\n",
            "Mean Test loss for hidden_dim=30, z_dim=20: 0.9207401275634766\n",
            "Training with hidden_dim=30, z_dim=30\n",
            "Epoch: 0, Train Loss: 92.08, Test Loss: 0.92 (3.20 s)\n",
            "Epoch: 1, Train Loss: 92.06, Test Loss: 0.92 (0.08 s)\n",
            "Epoch: 2, Train Loss: 92.08, Test Loss: 0.92 (0.08 s)\n",
            "Epoch: 3, Train Loss: 92.07, Test Loss: 0.92 (0.09 s)\n",
            "Epoch: 4, Train Loss: 92.07, Test Loss: 0.92 (0.10 s)\n",
            "Epoch: 5, Train Loss: 92.10, Test Loss: 0.92 (0.08 s)\n",
            "Epoch: 6, Train Loss: 92.05, Test Loss: 0.92 (0.15 s)\n",
            "Epoch: 7, Train Loss: 92.10, Test Loss: 0.92 (0.08 s)\n",
            "Epoch: 8, Train Loss: 92.07, Test Loss: 0.92 (0.08 s)\n",
            "Epoch: 9, Train Loss: 92.06, Test Loss: 0.92 (0.08 s)\n",
            "Epoch: 10, Train Loss: 92.08, Test Loss: 0.92 (0.08 s)\n",
            "Epoch: 11, Train Loss: 92.09, Test Loss: 0.92 (0.08 s)\n",
            "Epoch: 12, Train Loss: 92.09, Test Loss: 0.92 (0.07 s)\n",
            "Epoch: 13, Train Loss: 92.05, Test Loss: 0.92 (0.08 s)\n",
            "Epoch: 14, Train Loss: 92.12, Test Loss: 0.92 (0.07 s)\n",
            "Epoch: 15, Train Loss: 92.06, Test Loss: 0.92 (0.08 s)\n",
            "Epoch: 16, Train Loss: 92.09, Test Loss: 0.92 (0.08 s)\n",
            "Epoch: 17, Train Loss: 92.05, Test Loss: 0.93 (0.07 s)\n",
            "Epoch: 18, Train Loss: 92.07, Test Loss: 0.92 (0.07 s)\n",
            "Epoch: 19, Train Loss: 92.07, Test Loss: 0.92 (0.07 s)\n",
            "Final Test loss for hidden_dim=30, z_dim=30: 0.9201259016990662\n",
            "Mean Test loss for hidden_dim=30, z_dim=30: 0.9213137626647949\n",
            "Training with hidden_dim=30, z_dim=40\n",
            "Epoch: 0, Train Loss: 92.05, Test Loss: 0.92 (2.99 s)\n",
            "Epoch: 1, Train Loss: 92.11, Test Loss: 0.92 (0.08 s)\n",
            "Epoch: 2, Train Loss: 92.07, Test Loss: 0.92 (0.08 s)\n",
            "Epoch: 3, Train Loss: 92.11, Test Loss: 0.92 (0.08 s)\n",
            "Epoch: 4, Train Loss: 92.10, Test Loss: 0.92 (0.09 s)\n",
            "Epoch: 5, Train Loss: 92.10, Test Loss: 0.92 (0.09 s)\n",
            "Epoch: 6, Train Loss: 92.06, Test Loss: 0.92 (0.08 s)\n",
            "Epoch: 7, Train Loss: 92.08, Test Loss: 0.92 (0.08 s)\n",
            "Epoch: 8, Train Loss: 92.06, Test Loss: 0.92 (0.08 s)\n",
            "Epoch: 9, Train Loss: 92.11, Test Loss: 0.92 (0.08 s)\n",
            "Epoch: 10, Train Loss: 92.09, Test Loss: 0.92 (0.08 s)\n",
            "Epoch: 11, Train Loss: 92.12, Test Loss: 0.92 (0.07 s)\n",
            "Epoch: 12, Train Loss: 92.11, Test Loss: 0.92 (0.07 s)\n",
            "Epoch: 13, Train Loss: 92.09, Test Loss: 0.92 (0.07 s)\n",
            "Epoch: 14, Train Loss: 92.12, Test Loss: 0.92 (0.08 s)\n",
            "Epoch: 15, Train Loss: 92.05, Test Loss: 0.92 (0.08 s)\n",
            "Epoch: 16, Train Loss: 92.11, Test Loss: 0.92 (0.07 s)\n",
            "Epoch: 17, Train Loss: 92.07, Test Loss: 0.92 (0.07 s)\n",
            "Epoch: 18, Train Loss: 92.10, Test Loss: 0.92 (0.07 s)\n",
            "Epoch: 19, Train Loss: 92.05, Test Loss: 0.92 (0.09 s)\n",
            "Final Test loss for hidden_dim=30, z_dim=40: 0.9172175526618958\n",
            "Mean Test loss for hidden_dim=30, z_dim=40: 0.9207998514175415\n",
            "Training with hidden_dim=30, z_dim=50\n",
            "Epoch: 0, Train Loss: 92.08, Test Loss: 0.92 (3.61 s)\n",
            "Epoch: 1, Train Loss: 92.08, Test Loss: 0.92 (0.11 s)\n",
            "Epoch: 2, Train Loss: 92.10, Test Loss: 0.92 (0.09 s)\n",
            "Epoch: 3, Train Loss: 92.11, Test Loss: 0.92 (0.09 s)\n",
            "Epoch: 4, Train Loss: 92.11, Test Loss: 0.92 (0.08 s)\n",
            "Epoch: 5, Train Loss: 92.07, Test Loss: 0.92 (0.08 s)\n",
            "Epoch: 6, Train Loss: 92.10, Test Loss: 0.92 (0.08 s)\n",
            "Epoch: 7, Train Loss: 92.07, Test Loss: 0.92 (0.09 s)\n",
            "Epoch: 8, Train Loss: 92.09, Test Loss: 0.92 (0.08 s)\n",
            "Epoch: 9, Train Loss: 92.12, Test Loss: 0.92 (0.09 s)\n",
            "Epoch: 10, Train Loss: 92.06, Test Loss: 0.92 (0.08 s)\n",
            "Epoch: 11, Train Loss: 92.12, Test Loss: 0.92 (0.08 s)\n",
            "Epoch: 12, Train Loss: 92.12, Test Loss: 0.92 (0.12 s)\n",
            "Epoch: 13, Train Loss: 92.11, Test Loss: 0.92 (0.09 s)\n",
            "Epoch: 14, Train Loss: 92.11, Test Loss: 0.92 (0.10 s)\n",
            "Epoch: 15, Train Loss: 92.07, Test Loss: 0.92 (0.09 s)\n",
            "Epoch: 16, Train Loss: 92.07, Test Loss: 0.92 (0.09 s)\n",
            "Epoch: 17, Train Loss: 92.06, Test Loss: 0.93 (0.11 s)\n",
            "Epoch: 18, Train Loss: 92.10, Test Loss: 0.92 (0.10 s)\n",
            "Epoch: 19, Train Loss: 92.12, Test Loss: 0.92 (0.08 s)\n",
            "Final Test loss for hidden_dim=30, z_dim=50: 0.9181044697761536\n",
            "Mean Test loss for hidden_dim=30, z_dim=50: 0.9212174415588379\n",
            "Training with hidden_dim=40, z_dim=20\n",
            "Epoch: 0, Train Loss: 92.06, Test Loss: 0.92 (3.61 s)\n",
            "Epoch: 1, Train Loss: 92.07, Test Loss: 0.92 (0.09 s)\n",
            "Epoch: 2, Train Loss: 92.08, Test Loss: 0.92 (0.08 s)\n",
            "Epoch: 3, Train Loss: 92.08, Test Loss: 0.92 (0.08 s)\n",
            "Epoch: 4, Train Loss: 92.09, Test Loss: 0.92 (0.08 s)\n",
            "Epoch: 5, Train Loss: 92.10, Test Loss: 0.92 (0.08 s)\n",
            "Epoch: 6, Train Loss: 92.05, Test Loss: 0.92 (0.08 s)\n",
            "Epoch: 7, Train Loss: 92.09, Test Loss: 0.92 (0.07 s)\n",
            "Epoch: 8, Train Loss: 92.08, Test Loss: 0.92 (0.08 s)\n",
            "Epoch: 9, Train Loss: 92.06, Test Loss: 0.92 (0.08 s)\n",
            "Epoch: 10, Train Loss: 92.05, Test Loss: 0.92 (0.08 s)\n",
            "Epoch: 11, Train Loss: 92.11, Test Loss: 0.92 (0.08 s)\n",
            "Epoch: 12, Train Loss: 92.13, Test Loss: 0.92 (0.08 s)\n",
            "Epoch: 13, Train Loss: 92.05, Test Loss: 0.92 (0.08 s)\n",
            "Epoch: 14, Train Loss: 92.10, Test Loss: 0.92 (0.08 s)\n",
            "Epoch: 15, Train Loss: 92.07, Test Loss: 0.92 (0.08 s)\n",
            "Epoch: 16, Train Loss: 92.05, Test Loss: 0.92 (0.07 s)\n",
            "Epoch: 17, Train Loss: 92.07, Test Loss: 0.92 (0.08 s)\n",
            "Epoch: 18, Train Loss: 92.06, Test Loss: 0.92 (0.09 s)\n",
            "Epoch: 19, Train Loss: 92.07, Test Loss: 0.92 (0.08 s)\n",
            "Final Test loss for hidden_dim=40, z_dim=20: 0.9231770038604736\n",
            "Mean Test loss for hidden_dim=40, z_dim=20: 0.9207644462585449\n",
            "Training with hidden_dim=40, z_dim=30\n",
            "Epoch: 0, Train Loss: 92.08, Test Loss: 0.92 (3.83 s)\n",
            "Epoch: 1, Train Loss: 92.06, Test Loss: 0.92 (0.09 s)\n",
            "Epoch: 2, Train Loss: 92.08, Test Loss: 0.92 (0.08 s)\n",
            "Epoch: 3, Train Loss: 92.07, Test Loss: 0.92 (0.08 s)\n",
            "Epoch: 4, Train Loss: 92.07, Test Loss: 0.92 (0.08 s)\n",
            "Epoch: 5, Train Loss: 92.10, Test Loss: 0.92 (0.08 s)\n",
            "Epoch: 6, Train Loss: 92.05, Test Loss: 0.92 (0.08 s)\n",
            "Epoch: 7, Train Loss: 92.10, Test Loss: 0.92 (0.08 s)\n",
            "Epoch: 8, Train Loss: 92.07, Test Loss: 0.92 (0.09 s)\n",
            "Epoch: 9, Train Loss: 92.06, Test Loss: 0.92 (0.11 s)\n",
            "Epoch: 10, Train Loss: 92.08, Test Loss: 0.92 (0.08 s)\n",
            "Epoch: 11, Train Loss: 92.09, Test Loss: 0.92 (0.08 s)\n",
            "Epoch: 12, Train Loss: 92.09, Test Loss: 0.92 (0.08 s)\n",
            "Epoch: 13, Train Loss: 92.05, Test Loss: 0.92 (0.08 s)\n",
            "Epoch: 14, Train Loss: 92.12, Test Loss: 0.92 (0.08 s)\n",
            "Epoch: 15, Train Loss: 92.06, Test Loss: 0.92 (0.08 s)\n",
            "Epoch: 16, Train Loss: 92.09, Test Loss: 0.92 (0.08 s)\n",
            "Epoch: 17, Train Loss: 92.05, Test Loss: 0.93 (0.08 s)\n",
            "Epoch: 18, Train Loss: 92.07, Test Loss: 0.92 (0.08 s)\n",
            "Epoch: 19, Train Loss: 92.07, Test Loss: 0.92 (0.08 s)\n",
            "Final Test loss for hidden_dim=40, z_dim=30: 0.9201892018318176\n",
            "Mean Test loss for hidden_dim=40, z_dim=30: 0.9213563203811646\n",
            "Training with hidden_dim=40, z_dim=40\n",
            "Epoch: 0, Train Loss: 92.05, Test Loss: 0.92 (3.11 s)\n",
            "Epoch: 1, Train Loss: 92.11, Test Loss: 0.92 (0.08 s)\n",
            "Epoch: 2, Train Loss: 92.07, Test Loss: 0.92 (0.08 s)\n",
            "Epoch: 3, Train Loss: 92.11, Test Loss: 0.92 (0.09 s)\n",
            "Epoch: 4, Train Loss: 92.10, Test Loss: 0.92 (0.08 s)\n",
            "Epoch: 5, Train Loss: 92.11, Test Loss: 0.92 (0.07 s)\n",
            "Epoch: 6, Train Loss: 92.07, Test Loss: 0.92 (0.08 s)\n",
            "Epoch: 7, Train Loss: 92.08, Test Loss: 0.92 (0.08 s)\n",
            "Epoch: 8, Train Loss: 92.06, Test Loss: 0.92 (0.08 s)\n",
            "Epoch: 9, Train Loss: 92.11, Test Loss: 0.92 (0.08 s)\n",
            "Epoch: 10, Train Loss: 92.09, Test Loss: 0.92 (0.08 s)\n",
            "Epoch: 11, Train Loss: 92.12, Test Loss: 0.92 (0.08 s)\n",
            "Epoch: 12, Train Loss: 92.12, Test Loss: 0.92 (0.08 s)\n",
            "Epoch: 13, Train Loss: 92.09, Test Loss: 0.92 (0.08 s)\n",
            "Epoch: 14, Train Loss: 92.13, Test Loss: 0.92 (0.07 s)\n",
            "Epoch: 15, Train Loss: 92.05, Test Loss: 0.92 (0.07 s)\n",
            "Epoch: 16, Train Loss: 92.11, Test Loss: 0.92 (0.07 s)\n",
            "Epoch: 17, Train Loss: 92.07, Test Loss: 0.92 (0.08 s)\n",
            "Epoch: 18, Train Loss: 92.10, Test Loss: 0.92 (0.07 s)\n",
            "Epoch: 19, Train Loss: 92.05, Test Loss: 0.92 (0.07 s)\n",
            "Final Test loss for hidden_dim=40, z_dim=40: 0.9172320365905762\n",
            "Mean Test loss for hidden_dim=40, z_dim=40: 0.9208173751831055\n",
            "Training with hidden_dim=40, z_dim=50\n",
            "Epoch: 0, Train Loss: 92.08, Test Loss: 0.92 (3.34 s)\n",
            "Epoch: 1, Train Loss: 92.08, Test Loss: 0.92 (0.08 s)\n",
            "Epoch: 2, Train Loss: 92.10, Test Loss: 0.92 (0.08 s)\n",
            "Epoch: 3, Train Loss: 92.11, Test Loss: 0.92 (0.08 s)\n",
            "Epoch: 4, Train Loss: 92.11, Test Loss: 0.92 (0.08 s)\n",
            "Epoch: 5, Train Loss: 92.07, Test Loss: 0.92 (0.08 s)\n",
            "Epoch: 6, Train Loss: 92.10, Test Loss: 0.92 (0.08 s)\n",
            "Epoch: 7, Train Loss: 92.07, Test Loss: 0.92 (0.08 s)\n",
            "Epoch: 8, Train Loss: 92.09, Test Loss: 0.92 (0.09 s)\n",
            "Epoch: 9, Train Loss: 92.12, Test Loss: 0.92 (0.09 s)\n",
            "Epoch: 10, Train Loss: 92.06, Test Loss: 0.92 (0.08 s)\n",
            "Epoch: 11, Train Loss: 92.12, Test Loss: 0.92 (0.08 s)\n",
            "Epoch: 12, Train Loss: 92.12, Test Loss: 0.92 (0.10 s)\n",
            "Epoch: 13, Train Loss: 92.11, Test Loss: 0.92 (0.09 s)\n",
            "Epoch: 14, Train Loss: 92.11, Test Loss: 0.92 (0.09 s)\n",
            "Epoch: 15, Train Loss: 92.08, Test Loss: 0.92 (0.17 s)\n",
            "Epoch: 16, Train Loss: 92.08, Test Loss: 0.92 (0.12 s)\n",
            "Epoch: 17, Train Loss: 92.06, Test Loss: 0.93 (0.10 s)\n",
            "Epoch: 18, Train Loss: 92.10, Test Loss: 0.92 (0.09 s)\n",
            "Epoch: 19, Train Loss: 92.12, Test Loss: 0.92 (0.09 s)\n",
            "Final Test loss for hidden_dim=40, z_dim=50: 0.9181786179542542\n",
            "Mean Test loss for hidden_dim=40, z_dim=50: 0.9212446212768555\n",
            "Training with hidden_dim=50, z_dim=20\n",
            "Epoch: 0, Train Loss: 92.06, Test Loss: 0.92 (3.05 s)\n",
            "Epoch: 1, Train Loss: 92.07, Test Loss: 0.92 (0.09 s)\n",
            "Epoch: 2, Train Loss: 92.08, Test Loss: 0.92 (0.08 s)\n",
            "Epoch: 3, Train Loss: 92.09, Test Loss: 0.92 (0.08 s)\n",
            "Epoch: 4, Train Loss: 92.09, Test Loss: 0.92 (0.08 s)\n",
            "Epoch: 5, Train Loss: 92.10, Test Loss: 0.92 (0.08 s)\n",
            "Epoch: 6, Train Loss: 92.05, Test Loss: 0.92 (0.08 s)\n",
            "Epoch: 7, Train Loss: 92.09, Test Loss: 0.92 (0.11 s)\n",
            "Epoch: 8, Train Loss: 92.08, Test Loss: 0.92 (0.09 s)\n",
            "Epoch: 9, Train Loss: 92.06, Test Loss: 0.92 (0.09 s)\n",
            "Epoch: 10, Train Loss: 92.04, Test Loss: 0.92 (0.09 s)\n",
            "Epoch: 11, Train Loss: 92.11, Test Loss: 0.92 (0.10 s)\n",
            "Epoch: 12, Train Loss: 92.13, Test Loss: 0.92 (0.11 s)\n",
            "Epoch: 13, Train Loss: 92.06, Test Loss: 0.92 (0.09 s)\n",
            "Epoch: 14, Train Loss: 92.10, Test Loss: 0.92 (0.08 s)\n",
            "Epoch: 15, Train Loss: 92.07, Test Loss: 0.92 (0.08 s)\n",
            "Epoch: 16, Train Loss: 92.05, Test Loss: 0.92 (0.09 s)\n",
            "Epoch: 17, Train Loss: 92.07, Test Loss: 0.92 (0.08 s)\n",
            "Epoch: 18, Train Loss: 92.06, Test Loss: 0.92 (0.08 s)\n",
            "Epoch: 19, Train Loss: 92.07, Test Loss: 0.92 (0.08 s)\n",
            "Final Test loss for hidden_dim=50, z_dim=20: 0.9231604933738708\n",
            "Mean Test loss for hidden_dim=50, z_dim=20: 0.9207416772842407\n",
            "Training with hidden_dim=50, z_dim=30\n"
          ]
        },
        {
          "ename": "KeyboardInterrupt",
          "evalue": "",
          "output_type": "error",
          "traceback": [
            "\u001b[1;31m---------------------------------------------------------------------------\u001b[0m",
            "\u001b[1;31mKeyboardInterrupt\u001b[0m                         Traceback (most recent call last)",
            "Cell \u001b[1;32mIn[23], line 32\u001b[0m\n\u001b[0;32m     30\u001b[0m \u001b[38;5;66;03m# Split RNG keys\u001b[39;00m\n\u001b[0;32m     31\u001b[0m rng_key, rng_key_samp, rng_key_init \u001b[38;5;241m=\u001b[39m random\u001b[38;5;241m.\u001b[39msplit(args[\u001b[38;5;124m\"\u001b[39m\u001b[38;5;124mrng_key\u001b[39m\u001b[38;5;124m\"\u001b[39m], \u001b[38;5;241m3\u001b[39m)\n\u001b[1;32m---> 32\u001b[0m init_batch \u001b[38;5;241m=\u001b[39m \u001b[43magg_gp_predictive\u001b[49m\u001b[43m(\u001b[49m\u001b[43mrng_key_samp\u001b[49m\u001b[43m,\u001b[49m\u001b[43m \u001b[49m\u001b[43margs\u001b[49m\u001b[43m)\u001b[49m[\u001b[38;5;124m\"\u001b[39m\u001b[38;5;124mgp_aggr\u001b[39m\u001b[38;5;124m\"\u001b[39m]\n\u001b[0;32m     34\u001b[0m \u001b[38;5;66;03m# Initialize SVI state\u001b[39;00m\n\u001b[0;32m     35\u001b[0m svi_state \u001b[38;5;241m=\u001b[39m svi\u001b[38;5;241m.\u001b[39minit(rng_key_init, init_batch)\n",
            "File \u001b[1;32m~\\AppData\\Roaming\\Python\\Python313\\site-packages\\numpyro\\infer\\util.py:1081\u001b[0m, in \u001b[0;36mPredictive.__call__\u001b[1;34m(self, rng_key, *args, **kwargs)\u001b[0m\n\u001b[0;32m   1071\u001b[0m \u001b[38;5;250m\u001b[39m\u001b[38;5;124;03m\"\"\"\u001b[39;00m\n\u001b[0;32m   1072\u001b[0m \u001b[38;5;124;03mReturns dict of samples from the predictive distribution. By default, only sample sites not\u001b[39;00m\n\u001b[0;32m   1073\u001b[0m \u001b[38;5;124;03mcontained in `posterior_samples` are returned. This can be modified by changing the\u001b[39;00m\n\u001b[1;32m   (...)\u001b[0m\n\u001b[0;32m   1078\u001b[0m \u001b[38;5;124;03m:param kwargs: model kwargs.\u001b[39;00m\n\u001b[0;32m   1079\u001b[0m \u001b[38;5;124;03m\"\"\"\u001b[39;00m\n\u001b[0;32m   1080\u001b[0m \u001b[38;5;28;01mif\u001b[39;00m \u001b[38;5;28mself\u001b[39m\u001b[38;5;241m.\u001b[39mbatch_ndims \u001b[38;5;241m==\u001b[39m \u001b[38;5;241m0\u001b[39m \u001b[38;5;129;01mor\u001b[39;00m \u001b[38;5;28mself\u001b[39m\u001b[38;5;241m.\u001b[39mparams \u001b[38;5;241m==\u001b[39m {} \u001b[38;5;129;01mor\u001b[39;00m \u001b[38;5;28mself\u001b[39m\u001b[38;5;241m.\u001b[39mguide \u001b[38;5;129;01mis\u001b[39;00m \u001b[38;5;28;01mNone\u001b[39;00m:\n\u001b[1;32m-> 1081\u001b[0m     \u001b[38;5;28;01mreturn\u001b[39;00m \u001b[38;5;28;43mself\u001b[39;49m\u001b[38;5;241;43m.\u001b[39;49m\u001b[43m_call_with_params\u001b[49m\u001b[43m(\u001b[49m\u001b[43mrng_key\u001b[49m\u001b[43m,\u001b[49m\u001b[43m \u001b[49m\u001b[38;5;28;43mself\u001b[39;49m\u001b[38;5;241;43m.\u001b[39;49m\u001b[43mparams\u001b[49m\u001b[43m,\u001b[49m\u001b[43m \u001b[49m\u001b[43margs\u001b[49m\u001b[43m,\u001b[49m\u001b[43m \u001b[49m\u001b[43mkwargs\u001b[49m\u001b[43m)\u001b[49m\n\u001b[0;32m   1082\u001b[0m \u001b[38;5;28;01melif\u001b[39;00m \u001b[38;5;28mself\u001b[39m\u001b[38;5;241m.\u001b[39mbatch_ndims \u001b[38;5;241m==\u001b[39m \u001b[38;5;241m1\u001b[39m:  \u001b[38;5;66;03m# batch over parameters\u001b[39;00m\n\u001b[0;32m   1083\u001b[0m     batch_size \u001b[38;5;241m=\u001b[39m jnp\u001b[38;5;241m.\u001b[39mshape(jax\u001b[38;5;241m.\u001b[39mtree\u001b[38;5;241m.\u001b[39mflatten(\u001b[38;5;28mself\u001b[39m\u001b[38;5;241m.\u001b[39mparams)[\u001b[38;5;241m0\u001b[39m][\u001b[38;5;241m0\u001b[39m])[\u001b[38;5;241m0\u001b[39m]\n",
            "File \u001b[1;32m~\\AppData\\Roaming\\Python\\Python313\\site-packages\\numpyro\\infer\\util.py:1057\u001b[0m, in \u001b[0;36mPredictive._call_with_params\u001b[1;34m(self, rng_key, params, args, kwargs)\u001b[0m\n\u001b[0;32m   1045\u001b[0m     posterior_samples \u001b[38;5;241m=\u001b[39m _predictive(\n\u001b[0;32m   1046\u001b[0m         guide_rng_key,\n\u001b[0;32m   1047\u001b[0m         guide,\n\u001b[1;32m   (...)\u001b[0m\n\u001b[0;32m   1054\u001b[0m         exclude_deterministic\u001b[38;5;241m=\u001b[39m\u001b[38;5;28mself\u001b[39m\u001b[38;5;241m.\u001b[39mexclude_deterministic,\n\u001b[0;32m   1055\u001b[0m     )\n\u001b[0;32m   1056\u001b[0m model \u001b[38;5;241m=\u001b[39m substitute(\u001b[38;5;28mself\u001b[39m\u001b[38;5;241m.\u001b[39mmodel, \u001b[38;5;28mself\u001b[39m\u001b[38;5;241m.\u001b[39mparams)\n\u001b[1;32m-> 1057\u001b[0m \u001b[38;5;28;01mreturn\u001b[39;00m \u001b[43m_predictive\u001b[49m\u001b[43m(\u001b[49m\n\u001b[0;32m   1058\u001b[0m \u001b[43m    \u001b[49m\u001b[43mrng_key\u001b[49m\u001b[43m,\u001b[49m\n\u001b[0;32m   1059\u001b[0m \u001b[43m    \u001b[49m\u001b[43mmodel\u001b[49m\u001b[43m,\u001b[49m\n\u001b[0;32m   1060\u001b[0m \u001b[43m    \u001b[49m\u001b[43mposterior_samples\u001b[49m\u001b[43m,\u001b[49m\n\u001b[0;32m   1061\u001b[0m \u001b[43m    \u001b[49m\u001b[38;5;28;43mself\u001b[39;49m\u001b[38;5;241;43m.\u001b[39;49m\u001b[43m_batch_shape\u001b[49m\u001b[43m,\u001b[49m\n\u001b[0;32m   1062\u001b[0m \u001b[43m    \u001b[49m\u001b[43mreturn_sites\u001b[49m\u001b[38;5;241;43m=\u001b[39;49m\u001b[38;5;28;43mself\u001b[39;49m\u001b[38;5;241;43m.\u001b[39;49m\u001b[43mreturn_sites\u001b[49m\u001b[43m,\u001b[49m\n\u001b[0;32m   1063\u001b[0m \u001b[43m    \u001b[49m\u001b[43minfer_discrete\u001b[49m\u001b[38;5;241;43m=\u001b[39;49m\u001b[38;5;28;43mself\u001b[39;49m\u001b[38;5;241;43m.\u001b[39;49m\u001b[43minfer_discrete\u001b[49m\u001b[43m,\u001b[49m\n\u001b[0;32m   1064\u001b[0m \u001b[43m    \u001b[49m\u001b[43mparallel\u001b[49m\u001b[38;5;241;43m=\u001b[39;49m\u001b[38;5;28;43mself\u001b[39;49m\u001b[38;5;241;43m.\u001b[39;49m\u001b[43mparallel\u001b[49m\u001b[43m,\u001b[49m\n\u001b[0;32m   1065\u001b[0m \u001b[43m    \u001b[49m\u001b[43mmodel_args\u001b[49m\u001b[38;5;241;43m=\u001b[39;49m\u001b[43margs\u001b[49m\u001b[43m,\u001b[49m\n\u001b[0;32m   1066\u001b[0m \u001b[43m    \u001b[49m\u001b[43mmodel_kwargs\u001b[49m\u001b[38;5;241;43m=\u001b[39;49m\u001b[43mkwargs\u001b[49m\u001b[43m,\u001b[49m\n\u001b[0;32m   1067\u001b[0m \u001b[43m    \u001b[49m\u001b[43mexclude_deterministic\u001b[49m\u001b[38;5;241;43m=\u001b[39;49m\u001b[38;5;28;43mself\u001b[39;49m\u001b[38;5;241;43m.\u001b[39;49m\u001b[43mexclude_deterministic\u001b[49m\u001b[43m,\u001b[49m\n\u001b[0;32m   1068\u001b[0m \u001b[43m\u001b[49m\u001b[43m)\u001b[49m\n",
            "File \u001b[1;32m~\\AppData\\Roaming\\Python\\Python313\\site-packages\\numpyro\\infer\\util.py:883\u001b[0m, in \u001b[0;36m_predictive\u001b[1;34m(rng_key, model, posterior_samples, batch_shape, return_sites, infer_discrete, parallel, exclude_deterministic, model_args, model_kwargs)\u001b[0m\n\u001b[0;32m    881\u001b[0m rng_key \u001b[38;5;241m=\u001b[39m rng_key\u001b[38;5;241m.\u001b[39mreshape(batch_shape \u001b[38;5;241m+\u001b[39m key_shape)\n\u001b[0;32m    882\u001b[0m chunk_size \u001b[38;5;241m=\u001b[39m num_samples \u001b[38;5;28;01mif\u001b[39;00m parallel \u001b[38;5;28;01melse\u001b[39;00m \u001b[38;5;241m1\u001b[39m\n\u001b[1;32m--> 883\u001b[0m \u001b[38;5;28;01mreturn\u001b[39;00m \u001b[43msoft_vmap\u001b[49m\u001b[43m(\u001b[49m\n\u001b[0;32m    884\u001b[0m \u001b[43m    \u001b[49m\u001b[43msingle_prediction\u001b[49m\u001b[43m,\u001b[49m\u001b[43m \u001b[49m\u001b[43m(\u001b[49m\u001b[43mrng_key\u001b[49m\u001b[43m,\u001b[49m\u001b[43m \u001b[49m\u001b[43mposterior_samples\u001b[49m\u001b[43m)\u001b[49m\u001b[43m,\u001b[49m\u001b[43m \u001b[49m\u001b[38;5;28;43mlen\u001b[39;49m\u001b[43m(\u001b[49m\u001b[43mbatch_shape\u001b[49m\u001b[43m)\u001b[49m\u001b[43m,\u001b[49m\u001b[43m \u001b[49m\u001b[43mchunk_size\u001b[49m\n\u001b[0;32m    885\u001b[0m \u001b[43m\u001b[49m\u001b[43m)\u001b[49m\n",
            "File \u001b[1;32m~\\AppData\\Roaming\\Python\\Python313\\site-packages\\numpyro\\util.py:453\u001b[0m, in \u001b[0;36msoft_vmap\u001b[1;34m(fn, xs, batch_ndims, chunk_size)\u001b[0m\n\u001b[0;32m    447\u001b[0m     xs \u001b[38;5;241m=\u001b[39m jax\u001b[38;5;241m.\u001b[39mtree\u001b[38;5;241m.\u001b[39mmap(\n\u001b[0;32m    448\u001b[0m         \u001b[38;5;28;01mlambda\u001b[39;00m x: jnp\u001b[38;5;241m.\u001b[39mreshape(x, prepend_shape \u001b[38;5;241m+\u001b[39m (chunk_size,) \u001b[38;5;241m+\u001b[39m jnp\u001b[38;5;241m.\u001b[39mshape(x)[\u001b[38;5;241m1\u001b[39m:]),\n\u001b[0;32m    449\u001b[0m         xs,\n\u001b[0;32m    450\u001b[0m     )\n\u001b[0;32m    451\u001b[0m     fn \u001b[38;5;241m=\u001b[39m vmap(fn)\n\u001b[1;32m--> 453\u001b[0m ys \u001b[38;5;241m=\u001b[39m \u001b[43mlax\u001b[49m\u001b[38;5;241;43m.\u001b[39;49m\u001b[43mmap\u001b[49m\u001b[43m(\u001b[49m\u001b[43mfn\u001b[49m\u001b[43m,\u001b[49m\u001b[43m \u001b[49m\u001b[43mxs\u001b[49m\u001b[43m)\u001b[49m \u001b[38;5;28;01mif\u001b[39;00m num_chunks \u001b[38;5;241m>\u001b[39m \u001b[38;5;241m1\u001b[39m \u001b[38;5;28;01melse\u001b[39;00m fn(xs)\n\u001b[0;32m    454\u001b[0m map_ndims \u001b[38;5;241m=\u001b[39m \u001b[38;5;28mint\u001b[39m(num_chunks \u001b[38;5;241m>\u001b[39m \u001b[38;5;241m1\u001b[39m) \u001b[38;5;241m+\u001b[39m \u001b[38;5;28mint\u001b[39m(chunk_size \u001b[38;5;241m>\u001b[39m \u001b[38;5;241m1\u001b[39m)\n\u001b[0;32m    455\u001b[0m ys \u001b[38;5;241m=\u001b[39m jax\u001b[38;5;241m.\u001b[39mtree\u001b[38;5;241m.\u001b[39mmap(\n\u001b[0;32m    456\u001b[0m     \u001b[38;5;28;01mlambda\u001b[39;00m y: jnp\u001b[38;5;241m.\u001b[39mreshape(\n\u001b[0;32m    457\u001b[0m         y, (\u001b[38;5;28mint\u001b[39m(np\u001b[38;5;241m.\u001b[39mprod(jnp\u001b[38;5;241m.\u001b[39mshape(y)[:map_ndims])),) \u001b[38;5;241m+\u001b[39m jnp\u001b[38;5;241m.\u001b[39mshape(y)[map_ndims:]\n\u001b[0;32m    458\u001b[0m     )[:batch_size],\n\u001b[0;32m    459\u001b[0m     ys,\n\u001b[0;32m    460\u001b[0m )\n",
            "    \u001b[1;31m[... skipping hidden 1 frame]\u001b[0m\n",
            "File \u001b[1;32m~\\AppData\\Roaming\\Python\\Python313\\site-packages\\jax\\_src\\lax\\control_flow\\loops.py:2237\u001b[0m, in \u001b[0;36mmap\u001b[1;34m(f, xs, batch_size)\u001b[0m\n\u001b[0;32m   2235\u001b[0m \u001b[38;5;28;01melse\u001b[39;00m:\n\u001b[0;32m   2236\u001b[0m   g \u001b[38;5;241m=\u001b[39m \u001b[38;5;28;01mlambda\u001b[39;00m _, x: ((), f(x))\n\u001b[1;32m-> 2237\u001b[0m   _, ys \u001b[38;5;241m=\u001b[39m \u001b[43mscan\u001b[49m\u001b[43m(\u001b[49m\u001b[43mg\u001b[49m\u001b[43m,\u001b[49m\u001b[43m \u001b[49m\u001b[43m(\u001b[49m\u001b[43m)\u001b[49m\u001b[43m,\u001b[49m\u001b[43m \u001b[49m\u001b[43mxs\u001b[49m\u001b[43m)\u001b[49m\n\u001b[0;32m   2238\u001b[0m \u001b[38;5;28;01mreturn\u001b[39;00m ys\n",
            "    \u001b[1;31m[... skipping hidden 1 frame]\u001b[0m\n",
            "File \u001b[1;32m~\\AppData\\Roaming\\Python\\Python313\\site-packages\\jax\\_src\\lax\\control_flow\\loops.py:331\u001b[0m, in \u001b[0;36mscan\u001b[1;34m(f, init, xs, length, reverse, unroll, _split_transpose)\u001b[0m\n\u001b[0;32m    329\u001b[0m   in_flat \u001b[38;5;241m=\u001b[39m [\u001b[38;5;241m*\u001b[39min_state, \u001b[38;5;241m*\u001b[39min_carry, \u001b[38;5;241m*\u001b[39min_ext]\n\u001b[0;32m    330\u001b[0m   num_carry \u001b[38;5;241m+\u001b[39m\u001b[38;5;241m=\u001b[39m \u001b[38;5;28mlen\u001b[39m(attrs_tracked)\n\u001b[1;32m--> 331\u001b[0m out \u001b[38;5;241m=\u001b[39m \u001b[43mscan_p\u001b[49m\u001b[38;5;241;43m.\u001b[39;49m\u001b[43mbind\u001b[49m\u001b[43m(\u001b[49m\u001b[38;5;241;43m*\u001b[39;49m\u001b[43mconsts\u001b[49m\u001b[43m,\u001b[49m\u001b[43m \u001b[49m\u001b[38;5;241;43m*\u001b[39;49m\u001b[43min_flat\u001b[49m\u001b[43m,\u001b[49m\n\u001b[0;32m    332\u001b[0m \u001b[43m                  \u001b[49m\u001b[43mreverse\u001b[49m\u001b[38;5;241;43m=\u001b[39;49m\u001b[43mreverse\u001b[49m\u001b[43m,\u001b[49m\u001b[43m \u001b[49m\u001b[43mlength\u001b[49m\u001b[38;5;241;43m=\u001b[39;49m\u001b[43mlength\u001b[49m\u001b[43m,\u001b[49m\u001b[43m \u001b[49m\u001b[43mjaxpr\u001b[49m\u001b[38;5;241;43m=\u001b[39;49m\u001b[43mjaxpr\u001b[49m\u001b[43m,\u001b[49m\n\u001b[0;32m    333\u001b[0m \u001b[43m                  \u001b[49m\u001b[43mnum_consts\u001b[49m\u001b[38;5;241;43m=\u001b[39;49m\u001b[38;5;28;43mlen\u001b[39;49m\u001b[43m(\u001b[49m\u001b[43mconsts\u001b[49m\u001b[43m)\u001b[49m\u001b[43m,\u001b[49m\u001b[43m \u001b[49m\u001b[43mnum_carry\u001b[49m\u001b[38;5;241;43m=\u001b[39;49m\u001b[43mnum_carry\u001b[49m\u001b[43m,\u001b[49m\n\u001b[0;32m    334\u001b[0m \u001b[43m                  \u001b[49m\u001b[43mlinear\u001b[49m\u001b[38;5;241;43m=\u001b[39;49m\u001b[43m(\u001b[49m\u001b[38;5;28;43;01mFalse\u001b[39;49;00m\u001b[43m,\u001b[49m\u001b[43m)\u001b[49m\u001b[43m \u001b[49m\u001b[38;5;241;43m*\u001b[39;49m\u001b[43m \u001b[49m\u001b[43m(\u001b[49m\u001b[38;5;28;43mlen\u001b[39;49m\u001b[43m(\u001b[49m\u001b[43mconsts\u001b[49m\u001b[43m)\u001b[49m\u001b[43m \u001b[49m\u001b[38;5;241;43m+\u001b[39;49m\u001b[43m \u001b[49m\u001b[38;5;28;43mlen\u001b[39;49m\u001b[43m(\u001b[49m\u001b[43min_flat\u001b[49m\u001b[43m)\u001b[49m\u001b[43m)\u001b[49m\u001b[43m,\u001b[49m\n\u001b[0;32m    335\u001b[0m \u001b[43m                  \u001b[49m\u001b[43munroll\u001b[49m\u001b[38;5;241;43m=\u001b[39;49m\u001b[43munroll\u001b[49m\u001b[43m,\u001b[49m\n\u001b[0;32m    336\u001b[0m \u001b[43m                  \u001b[49m\u001b[43m_split_transpose\u001b[49m\u001b[38;5;241;43m=\u001b[39;49m\u001b[43m_split_transpose\u001b[49m\u001b[43m)\u001b[49m\n\u001b[0;32m    337\u001b[0m \u001b[38;5;28;01mif\u001b[39;00m attrs_tracked:\n\u001b[0;32m    338\u001b[0m   out_state, out \u001b[38;5;241m=\u001b[39m split_list(out, [\u001b[38;5;28mlen\u001b[39m(attrs_tracked)])\n",
            "File \u001b[1;32m~\\AppData\\Roaming\\Python\\Python313\\site-packages\\jax\\_src\\core.py:502\u001b[0m, in \u001b[0;36mPrimitive.bind\u001b[1;34m(self, *args, **params)\u001b[0m\n\u001b[0;32m    500\u001b[0m \u001b[38;5;28;01mdef\u001b[39;00m\u001b[38;5;250m \u001b[39m\u001b[38;5;21mbind\u001b[39m(\u001b[38;5;28mself\u001b[39m, \u001b[38;5;241m*\u001b[39margs, \u001b[38;5;241m*\u001b[39m\u001b[38;5;241m*\u001b[39mparams):\n\u001b[0;32m    501\u001b[0m   args \u001b[38;5;241m=\u001b[39m args \u001b[38;5;28;01mif\u001b[39;00m \u001b[38;5;28mself\u001b[39m\u001b[38;5;241m.\u001b[39mskip_canonicalization \u001b[38;5;28;01melse\u001b[39;00m \u001b[38;5;28mmap\u001b[39m(canonicalize_value, args)\n\u001b[1;32m--> 502\u001b[0m   \u001b[38;5;28;01mreturn\u001b[39;00m \u001b[38;5;28;43mself\u001b[39;49m\u001b[38;5;241;43m.\u001b[39;49m\u001b[43m_true_bind\u001b[49m\u001b[43m(\u001b[49m\u001b[38;5;241;43m*\u001b[39;49m\u001b[43margs\u001b[49m\u001b[43m,\u001b[49m\u001b[43m \u001b[49m\u001b[38;5;241;43m*\u001b[39;49m\u001b[38;5;241;43m*\u001b[39;49m\u001b[43mparams\u001b[49m\u001b[43m)\u001b[49m\n",
            "File \u001b[1;32m~\\AppData\\Roaming\\Python\\Python313\\site-packages\\jax\\_src\\core.py:520\u001b[0m, in \u001b[0;36mPrimitive._true_bind\u001b[1;34m(self, *args, **params)\u001b[0m\n\u001b[0;32m    518\u001b[0m trace_ctx\u001b[38;5;241m.\u001b[39mset_trace(eval_trace)\n\u001b[0;32m    519\u001b[0m \u001b[38;5;28;01mtry\u001b[39;00m:\n\u001b[1;32m--> 520\u001b[0m   \u001b[38;5;28;01mreturn\u001b[39;00m \u001b[38;5;28;43mself\u001b[39;49m\u001b[38;5;241;43m.\u001b[39;49m\u001b[43mbind_with_trace\u001b[49m\u001b[43m(\u001b[49m\u001b[43mprev_trace\u001b[49m\u001b[43m,\u001b[49m\u001b[43m \u001b[49m\u001b[43margs\u001b[49m\u001b[43m,\u001b[49m\u001b[43m \u001b[49m\u001b[43mparams\u001b[49m\u001b[43m)\u001b[49m\n\u001b[0;32m    521\u001b[0m \u001b[38;5;28;01mfinally\u001b[39;00m:\n\u001b[0;32m    522\u001b[0m   trace_ctx\u001b[38;5;241m.\u001b[39mset_trace(prev_trace)\n",
            "File \u001b[1;32m~\\AppData\\Roaming\\Python\\Python313\\site-packages\\jax\\_src\\core.py:525\u001b[0m, in \u001b[0;36mPrimitive.bind_with_trace\u001b[1;34m(self, trace, args, params)\u001b[0m\n\u001b[0;32m    524\u001b[0m \u001b[38;5;28;01mdef\u001b[39;00m\u001b[38;5;250m \u001b[39m\u001b[38;5;21mbind_with_trace\u001b[39m(\u001b[38;5;28mself\u001b[39m, trace, args, params):\n\u001b[1;32m--> 525\u001b[0m   \u001b[38;5;28;01mreturn\u001b[39;00m \u001b[43mtrace\u001b[49m\u001b[38;5;241;43m.\u001b[39;49m\u001b[43mprocess_primitive\u001b[49m\u001b[43m(\u001b[49m\u001b[38;5;28;43mself\u001b[39;49m\u001b[43m,\u001b[49m\u001b[43m \u001b[49m\u001b[43margs\u001b[49m\u001b[43m,\u001b[49m\u001b[43m \u001b[49m\u001b[43mparams\u001b[49m\u001b[43m)\u001b[49m\n",
            "File \u001b[1;32m~\\AppData\\Roaming\\Python\\Python313\\site-packages\\jax\\_src\\core.py:1029\u001b[0m, in \u001b[0;36mEvalTrace.process_primitive\u001b[1;34m(self, primitive, args, params)\u001b[0m\n\u001b[0;32m   1027\u001b[0m       \u001b[38;5;28;01mreturn\u001b[39;00m primitive\u001b[38;5;241m.\u001b[39mbind_with_trace(arg\u001b[38;5;241m.\u001b[39m_trace, args, params)\n\u001b[0;32m   1028\u001b[0m check_eval_args(args)\n\u001b[1;32m-> 1029\u001b[0m \u001b[38;5;28;01mreturn\u001b[39;00m \u001b[43mprimitive\u001b[49m\u001b[38;5;241;43m.\u001b[39;49m\u001b[43mimpl\u001b[49m\u001b[43m(\u001b[49m\u001b[38;5;241;43m*\u001b[39;49m\u001b[43margs\u001b[49m\u001b[43m,\u001b[49m\u001b[43m \u001b[49m\u001b[38;5;241;43m*\u001b[39;49m\u001b[38;5;241;43m*\u001b[39;49m\u001b[43mparams\u001b[49m\u001b[43m)\u001b[49m\n",
            "File \u001b[1;32m~\\AppData\\Roaming\\Python\\Python313\\site-packages\\jax\\_src\\dispatch.py:88\u001b[0m, in \u001b[0;36mapply_primitive\u001b[1;34m(prim, *args, **params)\u001b[0m\n\u001b[0;32m     86\u001b[0m prev \u001b[38;5;241m=\u001b[39m lib\u001b[38;5;241m.\u001b[39mjax_jit\u001b[38;5;241m.\u001b[39mswap_thread_local_state_disable_jit(\u001b[38;5;28;01mFalse\u001b[39;00m)\n\u001b[0;32m     87\u001b[0m \u001b[38;5;28;01mtry\u001b[39;00m:\n\u001b[1;32m---> 88\u001b[0m   outs \u001b[38;5;241m=\u001b[39m \u001b[43mfun\u001b[49m\u001b[43m(\u001b[49m\u001b[38;5;241;43m*\u001b[39;49m\u001b[43margs\u001b[49m\u001b[43m)\u001b[49m\n\u001b[0;32m     89\u001b[0m \u001b[38;5;28;01mfinally\u001b[39;00m:\n\u001b[0;32m     90\u001b[0m   lib\u001b[38;5;241m.\u001b[39mjax_jit\u001b[38;5;241m.\u001b[39mswap_thread_local_state_disable_jit(prev)\n",
            "    \u001b[1;31m[... skipping hidden 1 frame]\u001b[0m\n",
            "File \u001b[1;32m~\\AppData\\Roaming\\Python\\Python313\\site-packages\\jax\\_src\\pjit.py:339\u001b[0m, in \u001b[0;36m_cpp_pjit.<locals>.cache_miss\u001b[1;34m(*args, **kwargs)\u001b[0m\n\u001b[0;32m    334\u001b[0m \u001b[38;5;28;01mif\u001b[39;00m config\u001b[38;5;241m.\u001b[39mno_tracing\u001b[38;5;241m.\u001b[39mvalue:\n\u001b[0;32m    335\u001b[0m   \u001b[38;5;28;01mraise\u001b[39;00m \u001b[38;5;167;01mRuntimeError\u001b[39;00m(\u001b[38;5;124mf\u001b[39m\u001b[38;5;124m\"\u001b[39m\u001b[38;5;124mre-tracing function \u001b[39m\u001b[38;5;132;01m{\u001b[39;00mjit_info\u001b[38;5;241m.\u001b[39mfun_sourceinfo\u001b[38;5;132;01m}\u001b[39;00m\u001b[38;5;124m for \u001b[39m\u001b[38;5;124m\"\u001b[39m\n\u001b[0;32m    336\u001b[0m                      \u001b[38;5;124m\"\u001b[39m\u001b[38;5;124m`jit`, but \u001b[39m\u001b[38;5;124m'\u001b[39m\u001b[38;5;124mno_tracing\u001b[39m\u001b[38;5;124m'\u001b[39m\u001b[38;5;124m is set\u001b[39m\u001b[38;5;124m\"\u001b[39m)\n\u001b[0;32m    338\u001b[0m (outs, out_flat, out_tree, args_flat, jaxpr, attrs_tracked, executable,\n\u001b[1;32m--> 339\u001b[0m  pgle_profiler) \u001b[38;5;241m=\u001b[39m \u001b[43m_python_pjit_helper\u001b[49m\u001b[43m(\u001b[49m\u001b[43mfun\u001b[49m\u001b[43m,\u001b[49m\u001b[43m \u001b[49m\u001b[43mjit_info\u001b[49m\u001b[43m,\u001b[49m\u001b[43m \u001b[49m\u001b[38;5;241;43m*\u001b[39;49m\u001b[43margs\u001b[49m\u001b[43m,\u001b[49m\u001b[43m \u001b[49m\u001b[38;5;241;43m*\u001b[39;49m\u001b[38;5;241;43m*\u001b[39;49m\u001b[43mkwargs\u001b[49m\u001b[43m)\u001b[49m\n\u001b[0;32m    341\u001b[0m maybe_fastpath_data \u001b[38;5;241m=\u001b[39m _get_fastpath_data(\n\u001b[0;32m    342\u001b[0m     executable, out_tree, args_flat, out_flat, attrs_tracked, jaxpr\u001b[38;5;241m.\u001b[39meffects,\n\u001b[0;32m    343\u001b[0m     jaxpr\u001b[38;5;241m.\u001b[39mconsts, jit_info\u001b[38;5;241m.\u001b[39mabstracted_axes,\n\u001b[0;32m    344\u001b[0m     pgle_profiler)\n\u001b[0;32m    346\u001b[0m \u001b[38;5;28;01mreturn\u001b[39;00m outs, maybe_fastpath_data, _need_to_rebuild_with_fdo(pgle_profiler)\n",
            "File \u001b[1;32m~\\AppData\\Roaming\\Python\\Python313\\site-packages\\jax\\_src\\pjit.py:194\u001b[0m, in \u001b[0;36m_python_pjit_helper\u001b[1;34m(fun, jit_info, *args, **kwargs)\u001b[0m\n\u001b[0;32m    192\u001b[0m   args_flat \u001b[38;5;241m=\u001b[39m \u001b[38;5;28mmap\u001b[39m(core\u001b[38;5;241m.\u001b[39mfull_lower, args_flat)\n\u001b[0;32m    193\u001b[0m   core\u001b[38;5;241m.\u001b[39mcheck_eval_args(args_flat)\n\u001b[1;32m--> 194\u001b[0m   out_flat, compiled, profiler \u001b[38;5;241m=\u001b[39m \u001b[43m_pjit_call_impl_python\u001b[49m\u001b[43m(\u001b[49m\u001b[38;5;241;43m*\u001b[39;49m\u001b[43margs_flat\u001b[49m\u001b[43m,\u001b[49m\u001b[43m \u001b[49m\u001b[38;5;241;43m*\u001b[39;49m\u001b[38;5;241;43m*\u001b[39;49m\u001b[43mp\u001b[49m\u001b[38;5;241;43m.\u001b[39;49m\u001b[43mparams\u001b[49m\u001b[43m)\u001b[49m\n\u001b[0;32m    195\u001b[0m \u001b[38;5;28;01melse\u001b[39;00m:\n\u001b[0;32m    196\u001b[0m   out_flat \u001b[38;5;241m=\u001b[39m pjit_p\u001b[38;5;241m.\u001b[39mbind(\u001b[38;5;241m*\u001b[39margs_flat, \u001b[38;5;241m*\u001b[39m\u001b[38;5;241m*\u001b[39mp\u001b[38;5;241m.\u001b[39mparams)\n",
            "File \u001b[1;32m~\\AppData\\Roaming\\Python\\Python313\\site-packages\\jax\\_src\\pjit.py:1659\u001b[0m, in \u001b[0;36m_pjit_call_impl_python\u001b[1;34m(jaxpr, in_shardings, out_shardings, in_layouts, out_layouts, donated_invars, ctx_mesh, name, keep_unused, inline, compiler_options_kvs, *args)\u001b[0m\n\u001b[0;32m   1647\u001b[0m compiler_options_kvs \u001b[38;5;241m=\u001b[39m compiler_options_kvs \u001b[38;5;241m+\u001b[39m \u001b[38;5;28mtuple\u001b[39m(pgle_compile_options\u001b[38;5;241m.\u001b[39mitems())\n\u001b[0;32m   1648\u001b[0m \u001b[38;5;66;03m# Passing mutable PGLE profile here since it should be extracted by JAXPR to\u001b[39;00m\n\u001b[0;32m   1649\u001b[0m \u001b[38;5;66;03m# initialize the fdo_profile compile option.\u001b[39;00m\n\u001b[0;32m   1650\u001b[0m compiled \u001b[38;5;241m=\u001b[39m \u001b[43m_resolve_and_lower\u001b[49m\u001b[43m(\u001b[49m\n\u001b[0;32m   1651\u001b[0m \u001b[43m    \u001b[49m\u001b[43margs\u001b[49m\u001b[43m,\u001b[49m\u001b[43m \u001b[49m\u001b[43mjaxpr\u001b[49m\u001b[38;5;241;43m=\u001b[39;49m\u001b[43mjaxpr\u001b[49m\u001b[43m,\u001b[49m\u001b[43m \u001b[49m\u001b[43min_shardings\u001b[49m\u001b[38;5;241;43m=\u001b[39;49m\u001b[43min_shardings\u001b[49m\u001b[43m,\u001b[49m\n\u001b[0;32m   1652\u001b[0m \u001b[43m    \u001b[49m\u001b[43mout_shardings\u001b[49m\u001b[38;5;241;43m=\u001b[39;49m\u001b[43mout_shardings\u001b[49m\u001b[43m,\u001b[49m\u001b[43m \u001b[49m\u001b[43min_layouts\u001b[49m\u001b[38;5;241;43m=\u001b[39;49m\u001b[43min_layouts\u001b[49m\u001b[43m,\u001b[49m\n\u001b[0;32m   1653\u001b[0m \u001b[43m    \u001b[49m\u001b[43mout_layouts\u001b[49m\u001b[38;5;241;43m=\u001b[39;49m\u001b[43mout_layouts\u001b[49m\u001b[43m,\u001b[49m\u001b[43m \u001b[49m\u001b[43mdonated_invars\u001b[49m\u001b[38;5;241;43m=\u001b[39;49m\u001b[43mdonated_invars\u001b[49m\u001b[43m,\u001b[49m\n\u001b[0;32m   1654\u001b[0m \u001b[43m    \u001b[49m\u001b[43mctx_mesh\u001b[49m\u001b[38;5;241;43m=\u001b[39;49m\u001b[43mctx_mesh\u001b[49m\u001b[43m,\u001b[49m\u001b[43m \u001b[49m\u001b[43mname\u001b[49m\u001b[38;5;241;43m=\u001b[39;49m\u001b[43mname\u001b[49m\u001b[43m,\u001b[49m\u001b[43m \u001b[49m\u001b[43mkeep_unused\u001b[49m\u001b[38;5;241;43m=\u001b[39;49m\u001b[43mkeep_unused\u001b[49m\u001b[43m,\u001b[49m\n\u001b[0;32m   1655\u001b[0m \u001b[43m    \u001b[49m\u001b[43minline\u001b[49m\u001b[38;5;241;43m=\u001b[39;49m\u001b[43minline\u001b[49m\u001b[43m,\u001b[49m\u001b[43m \u001b[49m\u001b[43mlowering_platforms\u001b[49m\u001b[38;5;241;43m=\u001b[39;49m\u001b[38;5;28;43;01mNone\u001b[39;49;00m\u001b[43m,\u001b[49m\n\u001b[0;32m   1656\u001b[0m \u001b[43m    \u001b[49m\u001b[43mlowering_parameters\u001b[49m\u001b[38;5;241;43m=\u001b[39;49m\u001b[43mmlir\u001b[49m\u001b[38;5;241;43m.\u001b[39;49m\u001b[43mLoweringParameters\u001b[49m\u001b[43m(\u001b[49m\u001b[43m)\u001b[49m\u001b[43m,\u001b[49m\n\u001b[0;32m   1657\u001b[0m \u001b[43m    \u001b[49m\u001b[43mpgle_profiler\u001b[49m\u001b[38;5;241;43m=\u001b[39;49m\u001b[43mpgle_profiler\u001b[49m\u001b[43m,\u001b[49m\n\u001b[0;32m   1658\u001b[0m \u001b[43m    \u001b[49m\u001b[43mcompiler_options_kvs\u001b[49m\u001b[38;5;241;43m=\u001b[39;49m\u001b[43mcompiler_options_kvs\u001b[49m\u001b[43m,\u001b[49m\n\u001b[1;32m-> 1659\u001b[0m \u001b[43m\u001b[49m\u001b[43m)\u001b[49m\u001b[38;5;241;43m.\u001b[39;49m\u001b[43mcompile\u001b[49m\u001b[43m(\u001b[49m\u001b[43m)\u001b[49m\n\u001b[0;32m   1661\u001b[0m \u001b[38;5;66;03m# This check is expensive so only do it if enable_checks is on.\u001b[39;00m\n\u001b[0;32m   1662\u001b[0m \u001b[38;5;28;01mif\u001b[39;00m compiled\u001b[38;5;241m.\u001b[39m_auto_spmd_lowering \u001b[38;5;129;01mand\u001b[39;00m config\u001b[38;5;241m.\u001b[39menable_checks\u001b[38;5;241m.\u001b[39mvalue:\n",
            "File \u001b[1;32m~\\AppData\\Roaming\\Python\\Python313\\site-packages\\jax\\_src\\interpreters\\pxla.py:2448\u001b[0m, in \u001b[0;36mMeshComputation.compile\u001b[1;34m(self, compiler_options)\u001b[0m\n\u001b[0;32m   2446\u001b[0m compiler_options_kvs \u001b[38;5;241m=\u001b[39m \u001b[38;5;28mself\u001b[39m\u001b[38;5;241m.\u001b[39m_compiler_options_kvs \u001b[38;5;241m+\u001b[39m t_compiler_options\n\u001b[0;32m   2447\u001b[0m \u001b[38;5;28;01mif\u001b[39;00m \u001b[38;5;28mself\u001b[39m\u001b[38;5;241m.\u001b[39m_executable \u001b[38;5;129;01mis\u001b[39;00m \u001b[38;5;28;01mNone\u001b[39;00m \u001b[38;5;129;01mor\u001b[39;00m compiler_options_kvs:\n\u001b[1;32m-> 2448\u001b[0m   executable \u001b[38;5;241m=\u001b[39m \u001b[43mUnloadedMeshExecutable\u001b[49m\u001b[38;5;241;43m.\u001b[39;49m\u001b[43mfrom_hlo\u001b[49m\u001b[43m(\u001b[49m\n\u001b[0;32m   2449\u001b[0m \u001b[43m      \u001b[49m\u001b[38;5;28;43mself\u001b[39;49m\u001b[38;5;241;43m.\u001b[39;49m\u001b[43m_name\u001b[49m\u001b[43m,\u001b[49m\u001b[43m \u001b[49m\u001b[38;5;28;43mself\u001b[39;49m\u001b[38;5;241;43m.\u001b[39;49m\u001b[43m_hlo\u001b[49m\u001b[43m,\u001b[49m\u001b[43m \u001b[49m\u001b[38;5;241;43m*\u001b[39;49m\u001b[38;5;241;43m*\u001b[39;49m\u001b[38;5;28;43mself\u001b[39;49m\u001b[38;5;241;43m.\u001b[39;49m\u001b[43mcompile_args\u001b[49m\u001b[43m,\u001b[49m\n\u001b[0;32m   2450\u001b[0m \u001b[43m      \u001b[49m\u001b[43mcompiler_options_kvs\u001b[49m\u001b[38;5;241;43m=\u001b[39;49m\u001b[43mcompiler_options_kvs\u001b[49m\u001b[43m)\u001b[49m\n\u001b[0;32m   2451\u001b[0m   \u001b[38;5;28;01mif\u001b[39;00m \u001b[38;5;129;01mnot\u001b[39;00m compiler_options_kvs:\n\u001b[0;32m   2452\u001b[0m     \u001b[38;5;28mself\u001b[39m\u001b[38;5;241m.\u001b[39m_executable \u001b[38;5;241m=\u001b[39m executable\n",
            "File \u001b[1;32m~\\AppData\\Roaming\\Python\\Python313\\site-packages\\jax\\_src\\interpreters\\pxla.py:2967\u001b[0m, in \u001b[0;36mUnloadedMeshExecutable.from_hlo\u001b[1;34m(***failed resolving arguments***)\u001b[0m\n\u001b[0;32m   2964\u001b[0m       \u001b[38;5;28;01mbreak\u001b[39;00m\n\u001b[0;32m   2966\u001b[0m util\u001b[38;5;241m.\u001b[39mtest_event(\u001b[38;5;124m\"\u001b[39m\u001b[38;5;124mpxla_cached_compilation\u001b[39m\u001b[38;5;124m\"\u001b[39m)\n\u001b[1;32m-> 2967\u001b[0m xla_executable \u001b[38;5;241m=\u001b[39m \u001b[43m_cached_compilation\u001b[49m\u001b[43m(\u001b[49m\n\u001b[0;32m   2968\u001b[0m \u001b[43m    \u001b[49m\u001b[43mhlo\u001b[49m\u001b[43m,\u001b[49m\u001b[43m \u001b[49m\u001b[43mname\u001b[49m\u001b[43m,\u001b[49m\u001b[43m \u001b[49m\u001b[43mmesh\u001b[49m\u001b[43m,\u001b[49m\u001b[43m \u001b[49m\u001b[43mspmd_lowering\u001b[49m\u001b[43m,\u001b[49m\n\u001b[0;32m   2969\u001b[0m \u001b[43m    \u001b[49m\u001b[43mtuple_args\u001b[49m\u001b[43m,\u001b[49m\u001b[43m \u001b[49m\u001b[43mauto_spmd_lowering\u001b[49m\u001b[43m,\u001b[49m\u001b[43m \u001b[49m\u001b[43mallow_prop_to_inputs\u001b[49m\u001b[43m,\u001b[49m\n\u001b[0;32m   2970\u001b[0m \u001b[43m    \u001b[49m\u001b[43mallow_prop_to_outputs\u001b[49m\u001b[43m,\u001b[49m\u001b[43m \u001b[49m\u001b[38;5;28;43mtuple\u001b[39;49m\u001b[43m(\u001b[49m\u001b[43mhost_callbacks\u001b[49m\u001b[43m)\u001b[49m\u001b[43m,\u001b[49m\u001b[43m \u001b[49m\u001b[43mbackend\u001b[49m\u001b[43m,\u001b[49m\u001b[43m \u001b[49m\u001b[43mda\u001b[49m\u001b[43m,\u001b[49m\u001b[43m \u001b[49m\u001b[43mpmap_nreps\u001b[49m\u001b[43m,\u001b[49m\n\u001b[0;32m   2971\u001b[0m \u001b[43m    \u001b[49m\u001b[43mcompiler_options_kvs\u001b[49m\u001b[43m,\u001b[49m\u001b[43m \u001b[49m\u001b[43mpgle_profiler\u001b[49m\u001b[43m)\u001b[49m\n\u001b[0;32m   2973\u001b[0m orig_out_shardings \u001b[38;5;241m=\u001b[39m out_shardings\n\u001b[0;32m   2975\u001b[0m \u001b[38;5;28;01mif\u001b[39;00m auto_spmd_lowering:\n",
            "File \u001b[1;32m~\\AppData\\Roaming\\Python\\Python313\\site-packages\\jax\\_src\\interpreters\\pxla.py:2758\u001b[0m, in \u001b[0;36m_cached_compilation\u001b[1;34m(computation, name, mesh, spmd_lowering, tuple_args, auto_spmd_lowering, allow_prop_to_inputs, allow_prop_to_outputs, host_callbacks, backend, da, pmap_nreps, compiler_options_kvs, pgle_profiler)\u001b[0m\n\u001b[0;32m   2750\u001b[0m compile_options \u001b[38;5;241m=\u001b[39m create_compile_options(\n\u001b[0;32m   2751\u001b[0m     computation, mesh, spmd_lowering, tuple_args, auto_spmd_lowering,\n\u001b[0;32m   2752\u001b[0m     allow_prop_to_inputs, allow_prop_to_outputs, backend,\n\u001b[0;32m   2753\u001b[0m     dev, pmap_nreps, compiler_options)\n\u001b[0;32m   2755\u001b[0m \u001b[38;5;28;01mwith\u001b[39;00m dispatch\u001b[38;5;241m.\u001b[39mlog_elapsed_time(\n\u001b[0;32m   2756\u001b[0m     \u001b[38;5;124m\"\u001b[39m\u001b[38;5;124mFinished XLA compilation of \u001b[39m\u001b[38;5;132;01m{fun_name}\u001b[39;00m\u001b[38;5;124m in \u001b[39m\u001b[38;5;132;01m{elapsed_time:.9f}\u001b[39;00m\u001b[38;5;124m sec\u001b[39m\u001b[38;5;124m\"\u001b[39m,\n\u001b[0;32m   2757\u001b[0m     fun_name\u001b[38;5;241m=\u001b[39mname, event\u001b[38;5;241m=\u001b[39mdispatch\u001b[38;5;241m.\u001b[39mBACKEND_COMPILE_EVENT):\n\u001b[1;32m-> 2758\u001b[0m   xla_executable \u001b[38;5;241m=\u001b[39m \u001b[43mcompiler\u001b[49m\u001b[38;5;241;43m.\u001b[39;49m\u001b[43mcompile_or_get_cached\u001b[49m\u001b[43m(\u001b[49m\n\u001b[0;32m   2759\u001b[0m \u001b[43m      \u001b[49m\u001b[43mbackend\u001b[49m\u001b[43m,\u001b[49m\u001b[43m \u001b[49m\u001b[43mcomputation\u001b[49m\u001b[43m,\u001b[49m\u001b[43m \u001b[49m\u001b[43mdev\u001b[49m\u001b[43m,\u001b[49m\u001b[43m \u001b[49m\u001b[43mcompile_options\u001b[49m\u001b[43m,\u001b[49m\u001b[43m \u001b[49m\u001b[43mhost_callbacks\u001b[49m\u001b[43m,\u001b[49m\n\u001b[0;32m   2760\u001b[0m \u001b[43m      \u001b[49m\u001b[43mpgle_profiler\u001b[49m\u001b[43m)\u001b[49m\n\u001b[0;32m   2761\u001b[0m \u001b[38;5;28;01mreturn\u001b[39;00m xla_executable\n",
            "File \u001b[1;32m~\\AppData\\Roaming\\Python\\Python313\\site-packages\\jax\\_src\\compiler.py:470\u001b[0m, in \u001b[0;36mcompile_or_get_cached\u001b[1;34m(backend, computation, devices, compile_options, host_callbacks, pgle_profiler)\u001b[0m\n\u001b[0;32m    468\u001b[0m \u001b[38;5;28;01melse\u001b[39;00m:\n\u001b[0;32m    469\u001b[0m   log_persistent_cache_miss(module_name, cache_key)\n\u001b[1;32m--> 470\u001b[0m   \u001b[38;5;28;01mreturn\u001b[39;00m \u001b[43m_compile_and_write_cache\u001b[49m\u001b[43m(\u001b[49m\n\u001b[0;32m    471\u001b[0m \u001b[43m      \u001b[49m\u001b[43mbackend\u001b[49m\u001b[43m,\u001b[49m\n\u001b[0;32m    472\u001b[0m \u001b[43m      \u001b[49m\u001b[43mcomputation\u001b[49m\u001b[43m,\u001b[49m\n\u001b[0;32m    473\u001b[0m \u001b[43m      \u001b[49m\u001b[43mcompile_options\u001b[49m\u001b[43m,\u001b[49m\n\u001b[0;32m    474\u001b[0m \u001b[43m      \u001b[49m\u001b[43mhost_callbacks\u001b[49m\u001b[43m,\u001b[49m\n\u001b[0;32m    475\u001b[0m \u001b[43m      \u001b[49m\u001b[43mmodule_name\u001b[49m\u001b[43m,\u001b[49m\n\u001b[0;32m    476\u001b[0m \u001b[43m      \u001b[49m\u001b[43mcache_key\u001b[49m\u001b[43m,\u001b[49m\n\u001b[0;32m    477\u001b[0m \u001b[43m  \u001b[49m\u001b[43m)\u001b[49m\n",
            "File \u001b[1;32m~\\AppData\\Roaming\\Python\\Python313\\site-packages\\jax\\_src\\compiler.py:687\u001b[0m, in \u001b[0;36m_compile_and_write_cache\u001b[1;34m(backend, computation, compile_options, host_callbacks, module_name, cache_key)\u001b[0m\n\u001b[0;32m    678\u001b[0m \u001b[38;5;28;01mdef\u001b[39;00m\u001b[38;5;250m \u001b[39m\u001b[38;5;21m_compile_and_write_cache\u001b[39m(\n\u001b[0;32m    679\u001b[0m     backend: xc\u001b[38;5;241m.\u001b[39mClient,\n\u001b[0;32m    680\u001b[0m     computation: ir\u001b[38;5;241m.\u001b[39mModule,\n\u001b[1;32m   (...)\u001b[0m\n\u001b[0;32m    684\u001b[0m     cache_key: \u001b[38;5;28mstr\u001b[39m,\n\u001b[0;32m    685\u001b[0m ) \u001b[38;5;241m-\u001b[39m\u001b[38;5;241m>\u001b[39m xc\u001b[38;5;241m.\u001b[39mLoadedExecutable:\n\u001b[0;32m    686\u001b[0m   start_time \u001b[38;5;241m=\u001b[39m time\u001b[38;5;241m.\u001b[39mmonotonic()\n\u001b[1;32m--> 687\u001b[0m   executable \u001b[38;5;241m=\u001b[39m \u001b[43mbackend_compile\u001b[49m\u001b[43m(\u001b[49m\n\u001b[0;32m    688\u001b[0m \u001b[43m      \u001b[49m\u001b[43mbackend\u001b[49m\u001b[43m,\u001b[49m\u001b[43m \u001b[49m\u001b[43mcomputation\u001b[49m\u001b[43m,\u001b[49m\u001b[43m \u001b[49m\u001b[43mcompile_options\u001b[49m\u001b[43m,\u001b[49m\u001b[43m \u001b[49m\u001b[43mhost_callbacks\u001b[49m\n\u001b[0;32m    689\u001b[0m \u001b[43m  \u001b[49m\u001b[43m)\u001b[49m\n\u001b[0;32m    690\u001b[0m   compile_time \u001b[38;5;241m=\u001b[39m time\u001b[38;5;241m.\u001b[39mmonotonic() \u001b[38;5;241m-\u001b[39m start_time\n\u001b[0;32m    691\u001b[0m   _cache_write(\n\u001b[0;32m    692\u001b[0m       cache_key, compile_time, module_name, backend, executable, host_callbacks\n\u001b[0;32m    693\u001b[0m   )\n",
            "File \u001b[1;32m~\\AppData\\Roaming\\Python\\Python313\\site-packages\\jax\\_src\\profiler.py:334\u001b[0m, in \u001b[0;36mannotate_function.<locals>.wrapper\u001b[1;34m(*args, **kwargs)\u001b[0m\n\u001b[0;32m    331\u001b[0m \u001b[38;5;129m@wraps\u001b[39m(func)\n\u001b[0;32m    332\u001b[0m \u001b[38;5;28;01mdef\u001b[39;00m\u001b[38;5;250m \u001b[39m\u001b[38;5;21mwrapper\u001b[39m(\u001b[38;5;241m*\u001b[39margs, \u001b[38;5;241m*\u001b[39m\u001b[38;5;241m*\u001b[39mkwargs):\n\u001b[0;32m    333\u001b[0m   \u001b[38;5;28;01mwith\u001b[39;00m TraceAnnotation(name, \u001b[38;5;241m*\u001b[39m\u001b[38;5;241m*\u001b[39mdecorator_kwargs):\n\u001b[1;32m--> 334\u001b[0m     \u001b[38;5;28;01mreturn\u001b[39;00m \u001b[43mfunc\u001b[49m\u001b[43m(\u001b[49m\u001b[38;5;241;43m*\u001b[39;49m\u001b[43margs\u001b[49m\u001b[43m,\u001b[49m\u001b[43m \u001b[49m\u001b[38;5;241;43m*\u001b[39;49m\u001b[38;5;241;43m*\u001b[39;49m\u001b[43mkwargs\u001b[49m\u001b[43m)\u001b[49m\n\u001b[0;32m    335\u001b[0m   \u001b[38;5;28;01mreturn\u001b[39;00m wrapper\n",
            "File \u001b[1;32m~\\AppData\\Roaming\\Python\\Python313\\site-packages\\jax\\_src\\compiler.py:321\u001b[0m, in \u001b[0;36mbackend_compile\u001b[1;34m(backend, module, options, host_callbacks)\u001b[0m\n\u001b[0;32m    315\u001b[0m     \u001b[38;5;28;01mreturn\u001b[39;00m backend\u001b[38;5;241m.\u001b[39mcompile(\n\u001b[0;32m    316\u001b[0m         built_c, compile_options\u001b[38;5;241m=\u001b[39moptions, host_callbacks\u001b[38;5;241m=\u001b[39mhost_callbacks\n\u001b[0;32m    317\u001b[0m     )\n\u001b[0;32m    318\u001b[0m   \u001b[38;5;66;03m# Some backends don't have `host_callbacks` option yet\u001b[39;00m\n\u001b[0;32m    319\u001b[0m   \u001b[38;5;66;03m# TODO(sharadmv): remove this fallback when all backends allow `compile`\u001b[39;00m\n\u001b[0;32m    320\u001b[0m   \u001b[38;5;66;03m# to take in `host_callbacks`\u001b[39;00m\n\u001b[1;32m--> 321\u001b[0m   \u001b[38;5;28;01mreturn\u001b[39;00m \u001b[43mbackend\u001b[49m\u001b[38;5;241;43m.\u001b[39;49m\u001b[43mcompile\u001b[49m\u001b[43m(\u001b[49m\u001b[43mbuilt_c\u001b[49m\u001b[43m,\u001b[49m\u001b[43m \u001b[49m\u001b[43mcompile_options\u001b[49m\u001b[38;5;241;43m=\u001b[39;49m\u001b[43moptions\u001b[49m\u001b[43m)\u001b[49m\n\u001b[0;32m    322\u001b[0m \u001b[38;5;28;01mexcept\u001b[39;00m xc\u001b[38;5;241m.\u001b[39mXlaRuntimeError \u001b[38;5;28;01mas\u001b[39;00m e:\n\u001b[0;32m    323\u001b[0m   \u001b[38;5;28;01mfor\u001b[39;00m error_handler \u001b[38;5;129;01min\u001b[39;00m _XLA_RUNTIME_ERROR_HANDLERS:\n",
            "\u001b[1;31mKeyboardInterrupt\u001b[0m: "
          ]
        }
      ],
      "source": [
        "# Define hyperparameter grid\n",
        "hidden_dims = [20, 30, 40, 50]\n",
        "z_dims = [20, 30, 40, 50]\n",
        "\n",
        "# Store results\n",
        "test_loss_results_final = {}\n",
        "test_loss_results_mean = {}\n",
        "\n",
        "num_train = args[\"num_train\"]\n",
        "num_test = args[\"num_test\"]\n",
        "num_epochs = args[\"num_epochs\"]\n",
        "\n",
        "for hidden_dim, z_dim in itertools.product(hidden_dims, z_dims):\n",
        "    print(f\"Training with hidden_dim={hidden_dim}, z_dim={z_dim}\")\n",
        "\n",
        "    args[\"hidden_dim\"] = hidden_dim\n",
        "    args[\"z_dim\"] = z_dim\n",
        "\n",
        "    # Initialize optimizer and SVI\n",
        "    adam = numpyro.optim.Adam(step_size=args[\"learning_rate\"])\n",
        "    svi = SVI(\n",
        "        vae_model,\n",
        "        vae_guide,\n",
        "        adam,\n",
        "        RenyiELBO(),\n",
        "        hidden_dim=hidden_dim,\n",
        "        z_dim=z_dim\n",
        "    )\n",
        "\n",
        "    # Split RNG keys\n",
        "    rng_key, rng_key_samp, rng_key_init = random.split(args[\"rng_key\"], 3)\n",
        "    init_batch = agg_gp_predictive(rng_key_samp, args)[\"gp_aggr\"]\n",
        "\n",
        "    # Initialize SVI state\n",
        "    svi_state = svi.init(rng_key_init, init_batch)\n",
        "\n",
        "    # Pre-allocate test loss array\n",
        "    test_loss_list = jnp.zeros(num_epochs)\n",
        "\n",
        "    # Training loop\n",
        "    for epoch in range(num_epochs):\n",
        "        rng_key, rng_key_train, rng_key_test = random.split(rng_key, 3)\n",
        "        t_start = time.time()\n",
        "\n",
        "        train_loss, svi_state = epoch_train(rng_key_train, svi_state, num_train)\n",
        "        test_loss = eval_test(rng_key_test, svi_state, num_test)\n",
        "        test_loss_list = test_loss_list.at[epoch].set(test_loss)\n",
        "\n",
        "        print(f\"Epoch: {epoch}, Train Loss: {train_loss:.2f}, Test Loss: {test_loss:.2f} ({time.time() - t_start:.2f} s)\")\n",
        "\n",
        "        if math.isnan(test_loss):  # Stop early if NaN\n",
        "            print(f\"NaN encountered at hidden_dim={hidden_dim}, z_dim={z_dim}. Skipping...\")\n",
        "            break  # Stop training if NaN occurs\n",
        "\n",
        "    # Store results only if valid\n",
        "    if not math.isnan(test_loss_list[-1]):\n",
        "        test_loss_results_final[(hidden_dim, z_dim)] = test_loss_list[-1]\n",
        "        test_loss_results_mean[(hidden_dim, z_dim)] = jnp.nanmean(test_loss_list)\n",
        "        print(f\"Final Test loss for hidden_dim={hidden_dim}, z_dim={z_dim}: {test_loss_list[-1]}\")\n",
        "        print(f\"Mean Test loss for hidden_dim={hidden_dim}, z_dim={z_dim}: {jnp.nanmean(test_loss_list)}\")\n",
        "\n",
        "print(\"Grid search complete.\")\n",
        "print(\"Results:\", test_loss_results_final)\n",
        "print(\"Mean Test Loss Results:\", test_loss_results_mean)"
      ]
    },
    {
      "cell_type": "code",
      "execution_count": null,
      "metadata": {
        "colab": {
          "base_uri": "https://localhost:8080/"
        },
        "id": "ROJghrFwVTFd",
        "outputId": "6fc9d563-5595-487d-c727-a58f096c9d5a"
      },
      "outputs": [
        {
          "name": "stdout",
          "output_type": "stream",
          "text": [
            "{(20, 20): Array(0.923106, dtype=float32), (20, 30): Array(0.92014986, dtype=float32), (20, 40): Array(0.9173188, dtype=float32), (20, 50): Array(0.9182265, dtype=float32), (30, 20): Array(0.92311615, dtype=float32), (30, 30): Array(0.9201259, dtype=float32), (30, 40): Array(0.9172175, dtype=float32), (30, 50): Array(0.91810465, dtype=float32), (40, 20): Array(0.923177, dtype=float32), (40, 30): Array(0.92018914, dtype=float32), (40, 40): Array(0.91723204, dtype=float32), (40, 50): Array(0.91817856, dtype=float32), (50, 20): Array(0.9231604, dtype=float32), (50, 30): Array(0.92014307, dtype=float32), (50, 40): Array(0.9172466, dtype=float32), (50, 50): Array(0.9181372, dtype=float32)}\n",
            "{(20, 20): Array(0.9207327, dtype=float32), (20, 30): Array(0.9213196, dtype=float32), (20, 40): Array(0.9207714, dtype=float32), (20, 50): Array(0.9211856, dtype=float32), (30, 20): Array(0.9207401, dtype=float32), (30, 30): Array(0.9213139, dtype=float32), (30, 40): Array(0.92079985, dtype=float32), (30, 50): Array(0.92121744, dtype=float32), (40, 20): Array(0.9207643, dtype=float32), (40, 30): Array(0.9213563, dtype=float32), (40, 40): Array(0.9208174, dtype=float32), (40, 50): Array(0.9212445, dtype=float32), (50, 20): Array(0.9207417, dtype=float32), (50, 30): Array(0.9213813, dtype=float32), (50, 40): Array(0.92083424, dtype=float32), (50, 50): Array(0.92130214, dtype=float32)}\n"
          ]
        }
      ],
      "source": [
        "print(test_loss_results_final)\n",
        "print(test_loss_results_mean)"
      ]
    },
    {
      "cell_type": "markdown",
      "metadata": {
        "id": "RQSdxxnaWn1g"
      },
      "source": [
        "### Optimal Hyperparams are 30 hidden dims and 40 latent dims\n"
      ]
    },
    {
      "cell_type": "markdown",
      "metadata": {
        "id": "Gb1HhnafTooi"
      },
      "source": [
        "##Initiate Training Loop with optimal hyperparams"
      ]
    },
    {
      "cell_type": "code",
      "execution_count": null,
      "metadata": {
        "id": "_NR2_Or-Tq_E"
      },
      "outputs": [],
      "source": [
        "adam = numpyro.optim.Adam(step_size = args[\"learning_rate\"])\n",
        "svi = SVI(\n",
        "        vae_model,\n",
        "        vae_guide,\n",
        "        adam,\n",
        "        RenyiELBO(),\n",
        "        hidden_dim = args[\"hidden_dim\"],\n",
        "        z_dim = args[\"z_dim\"]\n",
        "    )\n",
        "\n",
        "rng_key, rng_key_samp, rng_key_init = random.split(args[\"rng_key\"],3)\n",
        "#(num_samples, num_regions)\n",
        "init_batch = agg_gp_predictive(rng_key_, args)[\"gp_aggr\"] #(num_samples, num_regions) <- i.e (5,58)\n",
        "svi_state = svi.init(rng_key_init, init_batch)\n",
        "\n",
        "test_loss_list = []"
      ]
    },
    {
      "cell_type": "code",
      "execution_count": null,
      "metadata": {
        "colab": {
          "base_uri": "https://localhost:8080/"
        },
        "id": "T77REeqrUXy7",
        "outputId": "a0f9e4c1-f7fb-4976-ce04-880f74c49ec2"
      },
      "outputs": [
        {
          "name": "stdout",
          "output_type": "stream",
          "text": [
            "Epoch : 0, train loss : 920.80, test loss : 0.92 (0.00 s.)\n",
            "Epoch : 1, train loss : 920.90, test loss : 0.92 (0.00 s.)\n",
            "Epoch : 2, train loss : 920.93, test loss : 0.92 (0.00 s.)\n",
            "Epoch : 3, train loss : 920.79, test loss : 0.92 (0.00 s.)\n",
            "Epoch : 4, train loss : 920.90, test loss : 0.92 (0.00 s.)\n",
            "Epoch : 5, train loss : 920.90, test loss : 0.92 (0.00 s.)\n",
            "Epoch : 6, train loss : 920.93, test loss : 0.92 (0.00 s.)\n",
            "Epoch : 7, train loss : 920.90, test loss : 0.93 (0.00 s.)\n",
            "Epoch : 8, train loss : 920.93, test loss : 0.92 (0.00 s.)\n",
            "Epoch : 9, train loss : 920.82, test loss : 0.92 (0.00 s.)\n",
            "Epoch : 10, train loss : 920.98, test loss : 0.92 (0.00 s.)\n",
            "Epoch : 11, train loss : 920.87, test loss : 0.92 (0.00 s.)\n",
            "Epoch : 12, train loss : 920.94, test loss : 0.92 (0.00 s.)\n",
            "Epoch : 13, train loss : 920.93, test loss : 0.92 (0.00 s.)\n",
            "Epoch : 14, train loss : 920.90, test loss : 0.92 (0.00 s.)\n",
            "Epoch : 15, train loss : 920.89, test loss : 0.92 (0.00 s.)\n",
            "Epoch : 16, train loss : 920.83, test loss : 0.92 (0.00 s.)\n",
            "Epoch : 17, train loss : 920.99, test loss : 0.92 (0.00 s.)\n",
            "Epoch : 18, train loss : 920.90, test loss : 0.92 (0.00 s.)\n",
            "Epoch : 19, train loss : 920.92, test loss : 0.92 (0.00 s.)\n"
          ]
        }
      ],
      "source": [
        "for i in range(args[\"num_epochs\"]):\n",
        "    rng_key, rng_key_train, rng_key_test, rng_key_infer = random.split(rng_key, 4)\n",
        "    t_start = time.time()\n",
        "\n",
        "    num_train = 1000\n",
        "    # Where forward/backward pass gets called for train\n",
        "    train_loss , svi_state = epoch_train(rng_key_train, svi_state, num_train)\n",
        "\n",
        "    num_test = 1000\n",
        "\n",
        "    # Where forward/backward pass gets called for test\n",
        "    test_loss = eval_test(rng_key_test, svi_state, num_test)\n",
        "    test_loss_list += [test_loss]\n",
        "\n",
        "    print(\"Epoch : {}, train loss : {:.2f}, test loss : {:.2f} ({:.2f} s.)\".format(i, train_loss, test_loss, time.time() - t_start))\n",
        "\n",
        "    if math.isnan(test_loss):\n",
        "        break"
      ]
    },
    {
      "cell_type": "code",
      "execution_count": null,
      "metadata": {
        "id": "eXgAJbgnUlCl"
      },
      "outputs": [],
      "source": [
        "#extract the decoder\n",
        "decoder_params = svi.get_params(svi_state)"
      ]
    },
    {
      "cell_type": "markdown",
      "metadata": {
        "id": "4fldbVSkT0RR"
      },
      "source": [
        "##Save the decoder"
      ]
    },
    {
      "cell_type": "code",
      "execution_count": null,
      "metadata": {
        "colab": {
          "base_uri": "https://localhost:8080/"
        },
        "id": "v9zDJExcT1OB",
        "outputId": "967bf144-621d-4ad2-b1fe-07207c818a39"
      },
      "outputs": [
        {
          "name": "stdout",
          "output_type": "stream",
          "text": [
            "Decoder parameters saved to /content/model_weights/aggVAE/aggVAE_e20_h30_z40\n"
          ]
        }
      ],
      "source": [
        "# Get script directory\n",
        "script_dir = os.getcwd()  # Get current working directory\n",
        "\n",
        "# Define the correct save path inside model_weights/\n",
        "save_dir = os.path.abspath(os.path.join(script_dir, \"..\", model_weights\", \"aggVAE\"))\n",
        "os.makedirs(save_dir, exist_ok=True)  # Ensure the directory exists\n",
        "\n",
        "# Save decoder parameters\n",
        "save_path = os.path.join(save_dir, f\"aggVAE_e{args['num_epochs']}_h{args['hidden_dim']}_z{args['z_dim']}\")\n",
        "\n",
        "with open(save_path, \"wb\") as file:\n",
        "    pickle.dump(decoder_params, file)\n",
        "\n",
        "print(f\"Decoder parameters saved to {save_path}\")"
      ]
    }
  ],
  "metadata": {
    "colab": {
      "provenance": []
    },
    "kernelspec": {
      "display_name": "Python 3",
      "name": "python3"
    },
    "language_info": {
      "codemirror_mode": {
        "name": "ipython",
        "version": 3
      },
      "file_extension": ".py",
      "mimetype": "text/x-python",
      "name": "python",
      "nbconvert_exporter": "python",
      "pygments_lexer": "ipython3",
      "version": "3.13.1"
    }
  },
  "nbformat": 4,
  "nbformat_minor": 0
}
