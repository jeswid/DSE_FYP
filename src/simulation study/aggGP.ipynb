{
 "cells": [
  {
   "cell_type": "code",
   "execution_count": 1,
   "metadata": {
    "id": "1wXMNry7Hkyp"
   },
   "outputs": [],
   "source": [
    "import os\n",
    "import torch\n",
    "\n",
    "import numpy as np\n",
    "import pandas as pd\n",
    "import geopandas as gpd\n",
    "\n",
    "import time\n",
    "\n",
    "import jax\n",
    "import jax.numpy as jnp\n",
    "from jax import random\n",
    "import numpyro\n",
    "import numpyro.distributions as dist\n",
    "from numpyro.infer import NUTS, MCMC\n",
    "from numpyro.infer import SVI, Trace_ELBO, Predictive\n",
    "import numpyro.diagnostics\n",
    "\n",
    "from termcolor import colored\n",
    "\n",
    "import dill\n",
    "import pickle\n",
    "import arviz as az"
   ]
  },
  {
   "cell_type": "code",
   "execution_count": 2,
   "metadata": {},
   "outputs": [
    {
     "name": "stdout",
     "output_type": "stream",
     "text": [
      "Script A running on cuda\n"
     ]
    }
   ],
   "source": [
    "#assign this to GPU 0\n",
    "os.environ[\"CUDA_VISIBLE_DEVICES\"] = \"0\"  # Use GPU 0\n",
    "\n",
    "device = torch.device(\"cuda\" if torch.cuda.is_available() else \"cpu\")\n",
    "print(f\"Script A running on {device}\")"
   ]
  },
  {
   "cell_type": "markdown",
   "metadata": {
    "id": "vZReN7eiHoiS"
   },
   "source": [
    "# GP Kernel Function"
   ]
  },
  {
   "cell_type": "code",
   "execution_count": 3,
   "metadata": {
    "id": "u-WVCaHGHru2"
   },
   "outputs": [],
   "source": [
    "def dist_euclid(x, z):\n",
    "    \"\"\"\n",
    "    Computes Eucledian Distance Between Regions. This function is used by\n",
    "    exp_sq_kernel function (kernel function for gaussian processes)\n",
    "    \"\"\"\n",
    "    x = jnp.array(x) # (ngrid_pts, lat/lon) <- i.e (7304,2)\n",
    "    z = jnp.array(z) # (ngrid_pts, lat/lon) <- i.e (7304,2)\n",
    "    if len(x.shape)==1:\n",
    "        x = x.reshape(x.shape[0], 1) #(2618,) -> (7304,1)\n",
    "    if len(z.shape)==1:\n",
    "        z = x.reshape(x.shape[0], 1) #(2618,) -> (7304,1)\n",
    "    n_x, m = x.shape # 7304 , 2\n",
    "    n_z, m_z = z.shape # 7304 , 2\n",
    "    assert m == m_z\n",
    "    delta = jnp.zeros((n_x,n_z)) #(ngrid_pts,ngrid_pts) <- i.e (7304,7304)\n",
    "    for d in jnp.arange(m):\n",
    "        x_d = x[:,d] #(ngrid_pts-lat/lon,) <- (7304,)\n",
    "        z_d = z[:,d] #(ngrid_pts-lat/lon,) <- (7304,)\n",
    "        delta += (x_d[:,jnp.newaxis] - z_d)**2 # (7304,7304)\n",
    "\n",
    "    return jnp.sqrt(delta) #(7304,7304)"
   ]
  },
  {
   "cell_type": "code",
   "execution_count": 4,
   "metadata": {
    "id": "gekmJsOwHumV"
   },
   "outputs": [],
   "source": [
    "def exp_sq_kernel(x, z, var, length, noise, jitter=1.0e-4):\n",
    "    dist = dist_euclid(x, z) #(7304, 7304)\n",
    "    deltaXsq = jnp.power(dist/ length, 2.0)\n",
    "    k = var * jnp.exp(-0.5 * deltaXsq)\n",
    "    k += (noise + jitter) * jnp.eye(x.shape[0])\n",
    "    return k # (ngrid_pts, ngrid_pts) <- (7304,7304)\n"
   ]
  },
  {
   "cell_type": "markdown",
   "metadata": {
    "id": "-iOiO_1NHwNz"
   },
   "source": [
    "#Aggregation Functions"
   ]
  },
  {
   "cell_type": "code",
   "execution_count": 5,
   "metadata": {
    "id": "xgPKoYAkHxrl"
   },
   "outputs": [],
   "source": [
    "def M_g(M, g):\n",
    "    '''\n",
    "    - $M$ is a matrix with binary entries $m_{ij},$ showing whether point $j$ is in polygon $i$\n",
    "    - $g$ is a vector of GP draws over grid\n",
    "    - $maltmul(M, g)$ gives a vector of sums over each polygon\n",
    "    '''\n",
    "    M = jnp.array(M)\n",
    "    g = jnp.array(g).T\n",
    "    return(jnp.matmul(M, g))"
   ]
  },
  {
   "cell_type": "markdown",
   "metadata": {
    "id": "4qNASOC3HzmW"
   },
   "source": [
    "# Aggregated Prevalence Model (old implementation, produces all theta = 1) - must edit this to include HDI, population density"
   ]
  },
  {
   "cell_type": "code",
   "execution_count": 6,
   "metadata": {
    "id": "SQPuzilzH1ih"
   },
   "outputs": [],
   "source": [
    "def prev_model_gp_aggr(args):\n",
    "    \"\"\"Dengue prevalence model with a Gaussian Process\"\"\"\n",
    "\n",
    "    x = args[\"x\"]  # Spatial grid points: (num_grid_points, 2)\n",
    "    gp_kernel = args[\"gp_kernel\"]  # Gaussian Process kernel\n",
    "    noise = args[\"noise\"]\n",
    "    jitter = args[\"jitter\"]\n",
    "\n",
    "    pop_density = args[\"pop_density\"]  # (num_districts,)\n",
    "    hdi = args[\"hdi\"]  # (num_districts,)\n",
    "    M = args[\"M\"]  # (num_districts, num_grid_points) aggregation matrix\n",
    "    total_cases = args[\"total_cases\"]\n",
    "    total_population = args[\"total_population\"]\n",
    "\n",
    "    # GP hyperparameters\n",
    "    kernel_length = numpyro.sample(\"kernel_length\", args[\"kernel_length\"])\n",
    "    kernel_var = numpyro.sample(\"kernel_var\", args[\"kernel_var\"])\n",
    "\n",
    "    # GP Kernel and Sample\n",
    "    k = gp_kernel(x, x, kernel_var, kernel_length, noise, jitter)\n",
    "    f = numpyro.sample(\"f\", dist.MultivariateNormal(loc=jnp.zeros(x.shape[0]), covariance_matrix=k))  # (num_grid_points,)\n",
    "\n",
    "    # Aggregate GP values to district level\n",
    "    gp_aggr = numpyro.deterministic(\"gp_aggr\", M @ f)  # (num_districts,)\n",
    "\n",
    "    # Fixed effects\n",
    "    b0 = numpyro.sample(\"b0\", dist.Normal(0, 1))  # Intercept\n",
    "    b_pop_density = numpyro.sample(\"b_pop_density\", dist.Normal(0, 1))  # Effect of population density\n",
    "    b_hdi = numpyro.sample(\"b_hdi\", dist.Normal(0, 1))  # Effect of HDI\n",
    "\n",
    "    # Standardize covariates\n",
    "    pop_density = (pop_density - jnp.mean(pop_density)) / (jnp.std(pop_density))\n",
    "    hdi = (hdi - jnp.mean(hdi)) / (jnp.std(hdi))\n",
    "\n",
    "    # Linear predictor\n",
    "    lp = b0 + gp_aggr + b_pop_density * pop_density + b_hdi * hdi  # (num_districts,)\n",
    "\n",
    "    # Prevalence probability\n",
    "    theta = numpyro.deterministic(\"theta\", jax.nn.sigmoid(lp)* 1e-3) # (num_districts,)\n",
    "\n",
    "    # Binomial likelihood\n",
    "    observed_cases = numpyro.sample(\n",
    "        \"observed_cases\",\n",
    "        dist.Binomial(total_count=total_population, probs = theta),\n",
    "        obs=total_cases\n",
    "    )\n",
    "\n",
    "    return observed_cases"
   ]
  },
  {
   "cell_type": "markdown",
   "metadata": {
    "id": "YbDDNakYIbYe"
   },
   "source": [
    "# Load Data"
   ]
  },
  {
   "cell_type": "code",
   "execution_count": 7,
   "metadata": {
    "id": "3_l-ejoAIc2h"
   },
   "outputs": [],
   "source": [
    "# Lat/Lon Values of artificial grid\n",
    "x = np.load(\"../data/processed/lat_lon_x_all.npy\")\n",
    "\n",
    "# combined regional data\n",
    "pol_pts_all = np.load(\"../data/processed/pol_pts_all.npy\", allow_pickle = True)\n",
    "pt_which_pol_all = np.load(\"../data/processed/pt_which_pol_all.npy\")\n",
    "\n",
    "#combine the dataframes\n",
    "df_combined = gpd.read_file(\"../data/processed/final_combined_divisions/final_combined_divisions.shp\")"
   ]
  },
  {
   "cell_type": "code",
   "execution_count": 8,
   "metadata": {
    "colab": {
     "base_uri": "https://localhost:8080/",
     "height": 293
    },
    "id": "01HUGp4bTjXK",
    "outputId": "4d4dcccf-ce9d-4a99-b358-963294db4c2e"
   },
   "outputs": [
    {
     "data": {
      "text/html": [
       "<div>\n",
       "<style scoped>\n",
       "    .dataframe tbody tr th:only-of-type {\n",
       "        vertical-align: middle;\n",
       "    }\n",
       "\n",
       "    .dataframe tbody tr th {\n",
       "        vertical-align: top;\n",
       "    }\n",
       "\n",
       "    .dataframe thead th {\n",
       "        text-align: right;\n",
       "    }\n",
       "</style>\n",
       "<table border=\"1\" class=\"dataframe\">\n",
       "  <thead>\n",
       "    <tr style=\"text-align: right;\">\n",
       "      <th></th>\n",
       "      <th>District</th>\n",
       "      <th>x</th>\n",
       "      <th>y</th>\n",
       "      <th>Year</th>\n",
       "      <th>Area_sq_km</th>\n",
       "      <th>HDI</th>\n",
       "      <th>Cases</th>\n",
       "      <th>Population</th>\n",
       "      <th>Pop_den</th>\n",
       "      <th>geometry</th>\n",
       "    </tr>\n",
       "  </thead>\n",
       "  <tbody>\n",
       "    <tr>\n",
       "      <th>0</th>\n",
       "      <td>BANDUNG</td>\n",
       "      <td>107.610841</td>\n",
       "      <td>-7.099969</td>\n",
       "      <td>2020</td>\n",
       "      <td>1767.96</td>\n",
       "      <td>72.39</td>\n",
       "      <td>9180</td>\n",
       "      <td>14495160</td>\n",
       "      <td>8198.805403</td>\n",
       "      <td>POLYGON ((107.73309 -6.814, 107.73354 -6.81427...</td>\n",
       "    </tr>\n",
       "    <tr>\n",
       "      <th>1</th>\n",
       "      <td>BANDUNG</td>\n",
       "      <td>107.610841</td>\n",
       "      <td>-7.099969</td>\n",
       "      <td>2021</td>\n",
       "      <td>1767.96</td>\n",
       "      <td>72.73</td>\n",
       "      <td>8008</td>\n",
       "      <td>14662620</td>\n",
       "      <td>8293.524740</td>\n",
       "      <td>POLYGON ((107.73309 -6.814, 107.73354 -6.81427...</td>\n",
       "    </tr>\n",
       "    <tr>\n",
       "      <th>2</th>\n",
       "      <td>BANDUNG</td>\n",
       "      <td>107.610841</td>\n",
       "      <td>-7.099969</td>\n",
       "      <td>2022</td>\n",
       "      <td>1767.96</td>\n",
       "      <td>73.16</td>\n",
       "      <td>16764</td>\n",
       "      <td>14830092</td>\n",
       "      <td>8388.250865</td>\n",
       "      <td>POLYGON ((107.73309 -6.814, 107.73354 -6.81427...</td>\n",
       "    </tr>\n",
       "    <tr>\n",
       "      <th>3</th>\n",
       "      <td>BANDUNG</td>\n",
       "      <td>107.610841</td>\n",
       "      <td>-7.099969</td>\n",
       "      <td>2023</td>\n",
       "      <td>1767.96</td>\n",
       "      <td>73.74</td>\n",
       "      <td>4020</td>\n",
       "      <td>14997564</td>\n",
       "      <td>8482.976990</td>\n",
       "      <td>POLYGON ((107.73309 -6.814, 107.73354 -6.81427...</td>\n",
       "    </tr>\n",
       "    <tr>\n",
       "      <th>4</th>\n",
       "      <td>BANDUNG BARAT</td>\n",
       "      <td>107.414953</td>\n",
       "      <td>-6.897056</td>\n",
       "      <td>2020</td>\n",
       "      <td>1305.77</td>\n",
       "      <td>68.08</td>\n",
       "      <td>3864</td>\n",
       "      <td>7153344</td>\n",
       "      <td>5478.257273</td>\n",
       "      <td>POLYGON ((107.40945 -6.68851, 107.40986 -6.688...</td>\n",
       "    </tr>\n",
       "  </tbody>\n",
       "</table>\n",
       "</div>"
      ],
      "text/plain": [
       "        District           x         y  Year  Area_sq_km    HDI  Cases  \\\n",
       "0        BANDUNG  107.610841 -7.099969  2020     1767.96  72.39   9180   \n",
       "1        BANDUNG  107.610841 -7.099969  2021     1767.96  72.73   8008   \n",
       "2        BANDUNG  107.610841 -7.099969  2022     1767.96  73.16  16764   \n",
       "3        BANDUNG  107.610841 -7.099969  2023     1767.96  73.74   4020   \n",
       "4  BANDUNG BARAT  107.414953 -6.897056  2020     1305.77  68.08   3864   \n",
       "\n",
       "   Population      Pop_den                                           geometry  \n",
       "0    14495160  8198.805403  POLYGON ((107.73309 -6.814, 107.73354 -6.81427...  \n",
       "1    14662620  8293.524740  POLYGON ((107.73309 -6.814, 107.73354 -6.81427...  \n",
       "2    14830092  8388.250865  POLYGON ((107.73309 -6.814, 107.73354 -6.81427...  \n",
       "3    14997564  8482.976990  POLYGON ((107.73309 -6.814, 107.73354 -6.81427...  \n",
       "4     7153344  5478.257273  POLYGON ((107.40945 -6.68851, 107.40986 -6.688...  "
      ]
     },
     "execution_count": 8,
     "metadata": {},
     "output_type": "execute_result"
    }
   ],
   "source": [
    "#check columns\n",
    "df_combined.head()"
   ]
  },
  {
   "cell_type": "markdown",
   "metadata": {
    "id": "0cE5BfS4I5oZ"
   },
   "source": [
    "#Vars needed to be changed (change according to the agg prevalence model parameters)"
   ]
  },
  {
   "cell_type": "code",
   "execution_count": 9,
   "metadata": {
    "id": "ivFcMASHI8W8"
   },
   "outputs": [],
   "source": [
    "M = jnp.array(pol_pts_all)\n",
    "pop_density = jnp.array(df_combined[\"Pop_den\"])\n",
    "hdi = jnp.array(df_combined[\"HDI\"])\n",
    "test_cases = jnp.array(df_combined[\"Population\"])\n",
    "cases = jnp.array(df_combined[\"Cases\"])"
   ]
  },
  {
   "cell_type": "code",
   "execution_count": 10,
   "metadata": {
    "colab": {
     "base_uri": "https://localhost:8080/"
    },
    "id": "j79GvFnGGlol",
    "outputId": "8f22d049-6c15-4e3d-ef02-c11d6de02f63"
   },
   "outputs": [
    {
     "name": "stdout",
     "output_type": "stream",
     "text": [
      "(96, 7304)\n",
      "(96,)\n",
      "(96,)\n",
      "(96,)\n",
      "(96,)\n",
      "(7304, 2)\n",
      "(7304,)\n"
     ]
    }
   ],
   "source": [
    "#print the shape of all the vars above\n",
    "print(M.shape)\n",
    "print(pop_density.shape)\n",
    "print(hdi.shape)\n",
    "print(test_cases.shape)\n",
    "print(cases.shape)\n",
    "print(x.shape)\n",
    "print(pt_which_pol_all.shape)"
   ]
  },
  {
   "cell_type": "markdown",
   "metadata": {
    "id": "ZWzo1haaJQwA"
   },
   "source": [
    "#Agg GP Model"
   ]
  },
  {
   "cell_type": "code",
   "execution_count": 11,
   "metadata": {
    "id": "2S8IwtvDJF-K"
   },
   "outputs": [],
   "source": [
    " args = {\n",
    "        \"x\" : jnp.array(x), # Lat/lon vals of grid points # Shape (num_districts, 2)\n",
    "        \"gp_kernel\" : exp_sq_kernel,\n",
    "        \"jitter\" : 1e-4,\n",
    "        \"noise\" : 1e-4,\n",
    "        \"M\" : jnp.array(pol_pts_all), # Aggregation matrix # Shape (num_districts, num_districts)\n",
    "        # GP Kernel Hyperparams\n",
    "        \"kernel_length\" : dist.InverseGamma(3,3), #(,)\n",
    "        \"kernel_var\" : dist.HalfNormal(1e-5),\n",
    "        \"pop_density\": jnp.array(df_combined[\"Pop_den\"]), # Shape (num_districts,)\n",
    "        \"hdi\": jnp.array(df_combined[\"HDI\"]), # Shape (num_districts, 2)\n",
    "        \"total_cases\" : jnp.array(df_combined[\"Cases\"]),\n",
    "        \"total_population\" : jnp.array(df_combined[\"Population\"])\n",
    "    }\n"
   ]
  },
  {
   "cell_type": "markdown",
   "metadata": {
    "id": "doOpZ-ltJTlb"
   },
   "source": [
    "#Run MCMC"
   ]
  },
  {
   "cell_type": "code",
   "execution_count": 12,
   "metadata": {
    "colab": {
     "base_uri": "https://localhost:8080/",
     "height": 211
    },
    "id": "0PVn1gP1JUhB",
    "outputId": "fb114274-6477-4c16-ff32-ca5dc3367f44"
   },
   "outputs": [],
   "source": [
    "# Random keys\n",
    "run_key, predict_key = random.split(random.PRNGKey(3))\n",
    "\n",
    "# MCMC settings\n",
    "n_warm = 1000\n",
    "n_samples = 2000"
   ]
  },
  {
   "cell_type": "code",
   "execution_count": 13,
   "metadata": {
    "id": "8TsnIhztMVBV"
   },
   "outputs": [],
   "source": [
    "# Directory for saving\n",
    "save_dir = \"model_weights\"\n",
    "os.makedirs(save_dir, exist_ok=True)"
   ]
  },
  {
   "cell_type": "markdown",
   "metadata": {
    "id": "uWUOUxUeJWMC"
   },
   "source": [
    "#Save Model"
   ]
  },
  {
   "cell_type": "code",
   "execution_count": null,
   "metadata": {
    "colab": {
     "base_uri": "https://localhost:8080/"
    },
    "id": "-7GknyeRJXT-",
    "outputId": "cebd7473-7e13-4071-ac07-0f888339281b"
   },
   "outputs": [
    {
     "name": "stdout",
     "output_type": "stream",
     "text": [
      "\n",
      "🔹 Running Chain 1 ...\n"
     ]
    },
    {
     "name": "stderr",
     "output_type": "stream",
     "text": [
      "warmup:   4%|▍         | 125/3000 [3:50:51<107:41:33, 134.85s/it, 1023 steps of size 1.69e-08. acc. prob=0.70]"
     ]
    }
   ],
   "source": [
    "# Random keys\n",
    "base_key = random.PRNGKey(3)  # Base seed\n",
    "chain_keys = random.split(base_key, 4)  # Generate 4 unique keys\n",
    "\n",
    "# MCMC settings\n",
    "n_warm = 1000\n",
    "n_samples = 2000\n",
    "\n",
    "# Get script location and define correct save directory (sibling to src/)\n",
    "script_dir = os.getcwd()  # Get current working directory\n",
    "save_dir = os.path.abspath(os.path.join(script_dir, \"..\", \"model_weights\"))  # Move up and into model_weights\n",
    "os.makedirs(save_dir, exist_ok=True)  # Ensure the directory exists\n",
    "\n",
    "\n",
    "# Run MCMC for each chain\n",
    "for i, chain_key in enumerate(chain_keys, start=1):\n",
    "    print(f\"\\n🔹 Running Chain {i} ...\")\n",
    "    \n",
    "    # Initialize MCMC with NUTS kernel\n",
    "    nuts_kernel = NUTS(prev_model_gp_aggr)\n",
    "    mcmc = MCMC(nuts_kernel, num_warmup=n_warm, num_samples=n_samples)\n",
    "\n",
    "    # Run the chain\n",
    "    start = time.time()\n",
    "    mcmc.run(chain_key, args)  # Ensure args is a tuple (args,)\n",
    "    end = time.time()\n",
    "    t_elapsed_min = round((end - start) / 60)\n",
    "\n",
    "    # Save the MCMC object\n",
    "    f_path = os.path.join(save_dir, f\"aggGP_chain{i}_nsamples_{n_samples}_tt{t_elapsed_min}min_logit.pkl\")\n",
    "    with open(f_path, \"wb\") as file:\n",
    "        dill.dump(mcmc, file)\n",
    "\n",
    "    print(f\"Saved Chain {i} to {f_path}\")\n",
    "    print(f\"Time taken: {t_elapsed_min} min\\n\")"
   ]
  },
  {
   "cell_type": "code",
   "execution_count": null,
   "metadata": {
    "id": "JY4TSDmLMbiz"
   },
   "outputs": [],
   "source": [
    "# Print total elapsed time\n",
    "total_end = time.time()\n",
    "print(\"\\nMCMC Total elapsed time:\", round(total_end), \"s\")\n",
    "print(\"MCMC Total elapsed time:\", round(total_end / 60), \"min\")\n",
    "print(\"MCMC Total elapsed time:\", round(total_end / (60 * 60)), \"h\")"
   ]
  }
 ],
 "metadata": {
  "accelerator": "GPU",
  "colab": {
   "gpuType": "T4",
   "machine_shape": "hm",
   "provenance": []
  },
  "kernelspec": {
   "display_name": "Python 3",
   "language": "python",
   "name": "python3"
  },
  "language_info": {
   "codemirror_mode": {
    "name": "ipython",
    "version": 3
   },
   "file_extension": ".py",
   "mimetype": "text/x-python",
   "name": "python",
   "nbconvert_exporter": "python",
   "pygments_lexer": "ipython3",
   "version": "3.13.1"
  }
 },
 "nbformat": 4,
 "nbformat_minor": 4
}
