{
  "cells": [
    {
      "cell_type": "markdown",
      "metadata": {
        "id": "3ZWYClTlMV62"
      },
      "source": [
        "### Load libraries"
      ]
    },
    {
      "cell_type": "code",
      "execution_count": 47,
      "metadata": {
        "id": "mIL0szGyMC0G"
      },
      "outputs": [],
      "source": [
        "#load libraries\n",
        "import pandas as pd\n",
        "import numpy as np\n",
        "import matplotlib as plt\n",
        "import os\n",
        "import seaborn as sns\n",
        "import geopandas as gpd"
      ]
    },
    {
      "cell_type": "markdown",
      "metadata": {
        "id": "SSI4b7RHeN1B"
      },
      "source": [
        "### Read data"
      ]
    },
    {
      "cell_type": "code",
      "execution_count": 48,
      "metadata": {
        "id": "PkdwMfZmTlcv"
      },
      "outputs": [],
      "source": [
        "#read the ICER data\n",
        "icer = pd.read_excel(\"../data/raw/ICER_data.xlsx\")"
      ]
    },
    {
      "cell_type": "code",
      "execution_count": 49,
      "metadata": {
        "id": "3lET9zvbNCJA"
      },
      "outputs": [],
      "source": [
        "#read in the data for life expectancy\n",
        "le_district = pd.read_csv(\"../data/processed/le_combined.csv\")\n",
        "le_nat = pd.read_csv(\"../data/processed/le_calc_national.csv\")\n",
        "df_map = gpd.read_file(\"../data/processed/high_res.shp\")"
      ]
    },
    {
      "cell_type": "code",
      "execution_count": 50,
      "metadata": {
        "id": "VhuHI873bUN8"
      },
      "outputs": [],
      "source": [
        "#rename first column as treatment\n",
        "icer = icer.rename(columns={\"Unnamed: 0\": \"Treatment\"})"
      ]
    },
    {
      "cell_type": "code",
      "execution_count": 51,
      "metadata": {
        "colab": {
          "base_uri": "https://localhost:8080/",
          "height": 112
        },
        "id": "kKSibTUtbbyZ",
        "outputId": "50152bf2-d385-4fbb-befc-f547efbaafcc"
      },
      "outputs": [
        {
          "data": {
            "text/html": [
              "<div>\n",
              "<style scoped>\n",
              "    .dataframe tbody tr th:only-of-type {\n",
              "        vertical-align: middle;\n",
              "    }\n",
              "\n",
              "    .dataframe tbody tr th {\n",
              "        vertical-align: top;\n",
              "    }\n",
              "\n",
              "    .dataframe thead th {\n",
              "        text-align: right;\n",
              "    }\n",
              "</style>\n",
              "<table border=\"1\" class=\"dataframe\">\n",
              "  <thead>\n",
              "    <tr style=\"text-align: right;\">\n",
              "      <th></th>\n",
              "      <th>Treatment</th>\n",
              "      <th>burden</th>\n",
              "      <th>qaly_lost</th>\n",
              "      <th>healthcare_cost</th>\n",
              "      <th>payer_cost</th>\n",
              "    </tr>\n",
              "  </thead>\n",
              "  <tbody>\n",
              "    <tr>\n",
              "      <th>0</th>\n",
              "      <td>non_vaccine</td>\n",
              "      <td>382416</td>\n",
              "      <td>184088.54</td>\n",
              "      <td>26618814</td>\n",
              "      <td>16066984</td>\n",
              "    </tr>\n",
              "    <tr>\n",
              "      <th>1</th>\n",
              "      <td>vaccine</td>\n",
              "      <td>264217</td>\n",
              "      <td>127189.68</td>\n",
              "      <td>352828922</td>\n",
              "      <td>345497041</td>\n",
              "    </tr>\n",
              "  </tbody>\n",
              "</table>\n",
              "</div>"
            ],
            "text/plain": [
              "     Treatment  burden  qaly_lost  healthcare_cost  payer_cost\n",
              "0  non_vaccine  382416  184088.54         26618814    16066984\n",
              "1      vaccine  264217  127189.68        352828922   345497041"
            ]
          },
          "execution_count": 51,
          "metadata": {},
          "output_type": "execute_result"
        }
      ],
      "source": [
        "icer.head()"
      ]
    },
    {
      "cell_type": "markdown",
      "metadata": {
        "id": "lgs55zBhMYGy"
      },
      "source": [
        "### Calculate district-level ICER based on the available ICER (average) from 2020-2024 in Indonesia (from research paper), nationwide, adjusted by life expectancy to obtain district-level ICER, assuming intervention costs remain approximately the same (similar) --> life expectancy is to adjust based on QALYs. All prices are adjusted to 2018 USD based on PPP and discounted by 3%"
      ]
    },
    {
      "cell_type": "code",
      "execution_count": 52,
      "metadata": {
        "colab": {
          "base_uri": "https://localhost:8080/",
          "height": 206
        },
        "id": "YUtExeITOIRF",
        "outputId": "58b61664-b935-4ae9-e63d-7d45c522724c"
      },
      "outputs": [
        {
          "data": {
            "text/html": [
              "<div>\n",
              "<style scoped>\n",
              "    .dataframe tbody tr th:only-of-type {\n",
              "        vertical-align: middle;\n",
              "    }\n",
              "\n",
              "    .dataframe tbody tr th {\n",
              "        vertical-align: top;\n",
              "    }\n",
              "\n",
              "    .dataframe thead th {\n",
              "        text-align: right;\n",
              "    }\n",
              "</style>\n",
              "<table border=\"1\" class=\"dataframe\">\n",
              "  <thead>\n",
              "    <tr style=\"text-align: right;\">\n",
              "      <th></th>\n",
              "      <th>District</th>\n",
              "      <th>Year</th>\n",
              "      <th>Life Expectancy</th>\n",
              "    </tr>\n",
              "  </thead>\n",
              "  <tbody>\n",
              "    <tr>\n",
              "      <th>0</th>\n",
              "      <td>ACEH</td>\n",
              "      <td>2022</td>\n",
              "      <td>70.18</td>\n",
              "    </tr>\n",
              "    <tr>\n",
              "      <th>1</th>\n",
              "      <td>SIMEULUE</td>\n",
              "      <td>2022</td>\n",
              "      <td>65.48</td>\n",
              "    </tr>\n",
              "    <tr>\n",
              "      <th>2</th>\n",
              "      <td>ACEH SINGKIL</td>\n",
              "      <td>2022</td>\n",
              "      <td>67.65</td>\n",
              "    </tr>\n",
              "    <tr>\n",
              "      <th>3</th>\n",
              "      <td>ACEH SELATAN</td>\n",
              "      <td>2022</td>\n",
              "      <td>64.64</td>\n",
              "    </tr>\n",
              "    <tr>\n",
              "      <th>4</th>\n",
              "      <td>ACEH TENGGARA</td>\n",
              "      <td>2022</td>\n",
              "      <td>68.48</td>\n",
              "    </tr>\n",
              "  </tbody>\n",
              "</table>\n",
              "</div>"
            ],
            "text/plain": [
              "        District  Year  Life Expectancy\n",
              "0           ACEH  2022            70.18\n",
              "1       SIMEULUE  2022            65.48\n",
              "2   ACEH SINGKIL  2022            67.65\n",
              "3   ACEH SELATAN  2022            64.64\n",
              "4  ACEH TENGGARA  2022            68.48"
            ]
          },
          "execution_count": 52,
          "metadata": {},
          "output_type": "execute_result"
        }
      ],
      "source": [
        "le_district.head()"
      ]
    },
    {
      "cell_type": "code",
      "execution_count": 53,
      "metadata": {
        "id": "UE7xMtcVON3i"
      },
      "outputs": [],
      "source": [
        "#rename as district_life_exp\n",
        "le_district = le_district.rename(columns={\"Life Expectancy\": \"district_le\"})"
      ]
    },
    {
      "cell_type": "code",
      "execution_count": 54,
      "metadata": {
        "colab": {
          "base_uri": "https://localhost:8080/",
          "height": 206
        },
        "id": "04ceoHAgOKSt",
        "outputId": "098df8e6-344c-4995-ca88-d68c64cc294d"
      },
      "outputs": [
        {
          "data": {
            "text/html": [
              "<div>\n",
              "<style scoped>\n",
              "    .dataframe tbody tr th:only-of-type {\n",
              "        vertical-align: middle;\n",
              "    }\n",
              "\n",
              "    .dataframe tbody tr th {\n",
              "        vertical-align: top;\n",
              "    }\n",
              "\n",
              "    .dataframe thead th {\n",
              "        text-align: right;\n",
              "    }\n",
              "</style>\n",
              "<table border=\"1\" class=\"dataframe\">\n",
              "  <thead>\n",
              "    <tr style=\"text-align: right;\">\n",
              "      <th></th>\n",
              "      <th>Year</th>\n",
              "      <th>Life Expectancy</th>\n",
              "    </tr>\n",
              "  </thead>\n",
              "  <tbody>\n",
              "    <tr>\n",
              "      <th>0</th>\n",
              "      <td>2019</td>\n",
              "      <td>69.213148</td>\n",
              "    </tr>\n",
              "    <tr>\n",
              "      <th>1</th>\n",
              "      <td>2020</td>\n",
              "      <td>69.363809</td>\n",
              "    </tr>\n",
              "    <tr>\n",
              "      <th>2</th>\n",
              "      <td>2021</td>\n",
              "      <td>69.474243</td>\n",
              "    </tr>\n",
              "    <tr>\n",
              "      <th>3</th>\n",
              "      <td>2022</td>\n",
              "      <td>69.747513</td>\n",
              "    </tr>\n",
              "    <tr>\n",
              "      <th>4</th>\n",
              "      <td>2023</td>\n",
              "      <td>70.018191</td>\n",
              "    </tr>\n",
              "  </tbody>\n",
              "</table>\n",
              "</div>"
            ],
            "text/plain": [
              "   Year  Life Expectancy\n",
              "0  2019        69.213148\n",
              "1  2020        69.363809\n",
              "2  2021        69.474243\n",
              "3  2022        69.747513\n",
              "4  2023        70.018191"
            ]
          },
          "execution_count": 54,
          "metadata": {},
          "output_type": "execute_result"
        }
      ],
      "source": [
        "le_nat.head()"
      ]
    },
    {
      "cell_type": "code",
      "execution_count": 55,
      "metadata": {
        "id": "dm4QDvy6OUz7"
      },
      "outputs": [],
      "source": [
        "#rename as nat_le\n",
        "le_nat = le_nat.rename(columns={\"Life Expectancy\": \"nat_le\"})"
      ]
    },
    {
      "cell_type": "code",
      "execution_count": 56,
      "metadata": {
        "id": "EBUSP-SNOFFG"
      },
      "outputs": [],
      "source": [
        "#merge le_district and le_nat by year\n",
        "le_final = pd.merge(le_district, le_nat, on = \"Year\")\n",
        "\n",
        "#replace all the NA values\n",
        "\n",
        "#make sure all the life expectancy values are all floats\n",
        "le_final[\"district_le\"] = le_final[\"district_le\"].astype(float)\n",
        "le_final[\"nat_le\"] = le_final[\"nat_le\"].astype(float)\n",
        "\n",
        "#calculate the le_factor, which is a comparison of the district-level to the national-level life expectancy\n",
        "le_final[\"le_factor\"] = le_final[\"district_le\"] / le_final[\"nat_le\"]"
      ]
    },
    {
      "cell_type": "code",
      "execution_count": 57,
      "metadata": {
        "id": "9MVr-CgHNVOA"
      },
      "outputs": [],
      "source": [
        "#create another column in df_map to calculate the discounting factor for each district in dki jakarta and west java\n",
        "df = pd.merge(df_map, le_final, on = (\"District\", \"Year\"))"
      ]
    },
    {
      "cell_type": "code",
      "execution_count": 58,
      "metadata": {
        "id": "PfvcVf7ASXIE"
      },
      "outputs": [],
      "source": [
        "#remove the district_le and nat_le columns\n",
        "df_final = df.drop(columns = [\"district_le\", \"nat_le\"])"
      ]
    },
    {
      "cell_type": "code",
      "execution_count": 59,
      "metadata": {
        "id": "U474G0E3a22g"
      },
      "outputs": [],
      "source": [
        "df_final[\"qaly_lost_non_vaccine\"] = icer[\"qaly_lost\"].iloc[0]\n",
        "df_final[\"qaly_lost_vaccine\"] = icer[\"qaly_lost\"].iloc[1]\n",
        "df_final[\"burden_non_vaccine\"] = icer[\"burden\"].iloc[0]\n",
        "df_final[\"burden_vaccine\"] = icer[\"burden\"].iloc[1]\n",
        "df_final[\"healthcare_cost_non_vaccine\"] = icer[\"healthcare_cost\"].iloc[0] / df_final[\"burden_non_vaccine\"]\n",
        "df_final[\"healthcare_cost_vaccine\"] = icer[\"healthcare_cost\"].iloc[1] / df_final[\"burden_vaccine\"]\n",
        "df_final[\"payer_cost_non_vaccine\"] = icer[\"payer_cost\"].iloc[0] / df_final[\"burden_non_vaccine\"]\n",
        "df_final[\"payer_cost_vaccine\"] = icer[\"payer_cost\"].iloc[1] / df_final[\"burden_vaccine\"]\n"
      ]
    },
    {
      "cell_type": "code",
      "execution_count": 60,
      "metadata": {
        "id": "1Hcz49U7fJfQ"
      },
      "outputs": [],
      "source": [
        "# Scale total cost to produce district-level cost per year based on cases per district per year / total num of cases over 2020-2024 nationwide, assuming that healthcare costs for dengue treatment is linearly related to the number of dengue cases per year\n",
        "# this cost factor measures the scale of the district-level, yearly dengue cases to the national-level dengue cases in total from 2020-2024.\n",
        "df_final['cost_factor'] = df_final['Cases'] / (df_final['burden_non_vaccine'] + df_final['burden_vaccine'])\n"
      ]
    },
    {
      "cell_type": "code",
      "execution_count": 61,
      "metadata": {
        "id": "B45K2IqiSqjL"
      },
      "outputs": [],
      "source": [
        "#calculate district-level adjusted ICER for payers and healthcare\n",
        "# Scale QALYs lost using le_factor and the cost-factor to disaggregate the qalys to district-level, yearly measurements from the national-level total qalys lost from 2020-2024\n",
        "df_final['qaly_le_scaled_vaccine'] = df_final['qaly_lost_vaccine'] * df_final['le_factor']/ df_final[\"burden_vaccine\"]\n",
        "df_final['qaly_le_scaled_nonvaccine'] = df_final['qaly_lost_non_vaccine'] * df_final['le_factor']/ df_final[\"burden_non_vaccine\"]\n",
        "\n",
        "df_final['qaly_lost_scaled_vaccine'] = df_final['qaly_le_scaled_vaccine'] * df_final['cost_factor']\n",
        "df_final['qaly_lost_scaled_nonvaccine'] = df_final['qaly_le_scaled_nonvaccine'] * df_final['cost_factor']"
      ]
    },
    {
      "cell_type": "code",
      "execution_count": 62,
      "metadata": {
        "colab": {
          "base_uri": "https://localhost:8080/",
          "height": 342
        },
        "id": "IGF_HLPn3Kb4",
        "outputId": "0eb31e21-cbe0-40fe-90a4-92f4aa91d9dd"
      },
      "outputs": [
        {
          "data": {
            "text/html": [
              "<div>\n",
              "<style scoped>\n",
              "    .dataframe tbody tr th:only-of-type {\n",
              "        vertical-align: middle;\n",
              "    }\n",
              "\n",
              "    .dataframe tbody tr th {\n",
              "        vertical-align: top;\n",
              "    }\n",
              "\n",
              "    .dataframe thead th {\n",
              "        text-align: right;\n",
              "    }\n",
              "</style>\n",
              "<table border=\"1\" class=\"dataframe\">\n",
              "  <thead>\n",
              "    <tr style=\"text-align: right;\">\n",
              "      <th></th>\n",
              "      <th>District</th>\n",
              "      <th>Year</th>\n",
              "      <th>Area_sq_km</th>\n",
              "      <th>HDI</th>\n",
              "      <th>Province</th>\n",
              "      <th>Cases</th>\n",
              "      <th>Population</th>\n",
              "      <th>Pop_den</th>\n",
              "      <th>urbanicity</th>\n",
              "      <th>geometry</th>\n",
              "      <th>...</th>\n",
              "      <th>payer_cost_vaccine</th>\n",
              "      <th>cost_factor</th>\n",
              "      <th>qaly_le_scaled_vaccine</th>\n",
              "      <th>qaly_le_scaled_nonvaccine</th>\n",
              "      <th>qaly_lost_scaled_vaccine</th>\n",
              "      <th>qaly_lost_scaled_nonvaccine</th>\n",
              "      <th>healthcare_cost_vaccine_scaled</th>\n",
              "      <th>healthcare_cost_nonvaccine_scaled</th>\n",
              "      <th>payer_cost_vaccine_scaled</th>\n",
              "      <th>payer_cost_nonvaccine_scaled</th>\n",
              "    </tr>\n",
              "  </thead>\n",
              "  <tbody>\n",
              "    <tr>\n",
              "      <th>0</th>\n",
              "      <td>BANDUNG</td>\n",
              "      <td>2020</td>\n",
              "      <td>1767.96</td>\n",
              "      <td>72.39</td>\n",
              "      <td>Jawa Barat</td>\n",
              "      <td>2295</td>\n",
              "      <td>3623790</td>\n",
              "      <td>2049.701351</td>\n",
              "      <td>0.123155</td>\n",
              "      <td>POLYGON ((107.73309 -6.814, 107.73354 -6.81427...</td>\n",
              "      <td>...</td>\n",
              "      <td>1307.626084</td>\n",
              "      <td>0.003549</td>\n",
              "      <td>0.510297</td>\n",
              "      <td>0.510296</td>\n",
              "      <td>0.001811</td>\n",
              "      <td>0.001811</td>\n",
              "      <td>4.739453</td>\n",
              "      <td>0.247046</td>\n",
              "      <td>4.640966</td>\n",
              "      <td>0.149116</td>\n",
              "    </tr>\n",
              "    <tr>\n",
              "      <th>1</th>\n",
              "      <td>BANDUNG</td>\n",
              "      <td>2021</td>\n",
              "      <td>1767.96</td>\n",
              "      <td>72.73</td>\n",
              "      <td>Jawa Barat</td>\n",
              "      <td>2002</td>\n",
              "      <td>3665655</td>\n",
              "      <td>2073.381185</td>\n",
              "      <td>0.123155</td>\n",
              "      <td>POLYGON ((107.73309 -6.814, 107.73354 -6.81427...</td>\n",
              "      <td>...</td>\n",
              "      <td>1307.626084</td>\n",
              "      <td>0.003096</td>\n",
              "      <td>0.510802</td>\n",
              "      <td>0.510802</td>\n",
              "      <td>0.001581</td>\n",
              "      <td>0.001581</td>\n",
              "      <td>4.134373</td>\n",
              "      <td>0.215506</td>\n",
              "      <td>4.048459</td>\n",
              "      <td>0.130078</td>\n",
              "    </tr>\n",
              "    <tr>\n",
              "      <th>2</th>\n",
              "      <td>BANDUNG</td>\n",
              "      <td>2022</td>\n",
              "      <td>1767.96</td>\n",
              "      <td>73.16</td>\n",
              "      <td>Jawa Barat</td>\n",
              "      <td>4191</td>\n",
              "      <td>3707523</td>\n",
              "      <td>2097.062716</td>\n",
              "      <td>0.123155</td>\n",
              "      <td>POLYGON ((107.73309 -6.814, 107.73354 -6.81427...</td>\n",
              "      <td>...</td>\n",
              "      <td>1307.626084</td>\n",
              "      <td>0.006481</td>\n",
              "      <td>0.510802</td>\n",
              "      <td>0.510802</td>\n",
              "      <td>0.003311</td>\n",
              "      <td>0.003311</td>\n",
              "      <td>8.654923</td>\n",
              "      <td>0.451141</td>\n",
              "      <td>8.475072</td>\n",
              "      <td>0.272307</td>\n",
              "    </tr>\n",
              "    <tr>\n",
              "      <th>3</th>\n",
              "      <td>BANDUNG</td>\n",
              "      <td>2023</td>\n",
              "      <td>1767.96</td>\n",
              "      <td>73.74</td>\n",
              "      <td>Jawa Barat</td>\n",
              "      <td>1005</td>\n",
              "      <td>3749391</td>\n",
              "      <td>2120.744248</td>\n",
              "      <td>0.123155</td>\n",
              "      <td>POLYGON ((107.73309 -6.814, 107.73354 -6.81427...</td>\n",
              "      <td>...</td>\n",
              "      <td>1307.626084</td>\n",
              "      <td>0.001554</td>\n",
              "      <td>0.510615</td>\n",
              "      <td>0.510615</td>\n",
              "      <td>0.000794</td>\n",
              "      <td>0.000794</td>\n",
              "      <td>2.075447</td>\n",
              "      <td>0.108183</td>\n",
              "      <td>2.032319</td>\n",
              "      <td>0.065299</td>\n",
              "    </tr>\n",
              "    <tr>\n",
              "      <th>4</th>\n",
              "      <td>BANDUNG BARAT</td>\n",
              "      <td>2020</td>\n",
              "      <td>1305.77</td>\n",
              "      <td>68.08</td>\n",
              "      <td>Jawa Barat</td>\n",
              "      <td>966</td>\n",
              "      <td>1788336</td>\n",
              "      <td>1369.564318</td>\n",
              "      <td>0.079001</td>\n",
              "      <td>POLYGON ((107.40945 -6.68851, 107.40986 -6.688...</td>\n",
              "      <td>...</td>\n",
              "      <td>1307.626084</td>\n",
              "      <td>0.001494</td>\n",
              "      <td>0.502038</td>\n",
              "      <td>0.502038</td>\n",
              "      <td>0.000750</td>\n",
              "      <td>0.000750</td>\n",
              "      <td>1.994907</td>\n",
              "      <td>0.103985</td>\n",
              "      <td>1.953452</td>\n",
              "      <td>0.062765</td>\n",
              "    </tr>\n",
              "  </tbody>\n",
              "</table>\n",
              "<p>5 rows × 28 columns</p>\n",
              "</div>"
            ],
            "text/plain": [
              "        District  Year  Area_sq_km    HDI    Province  Cases  Population  \\\n",
              "0        BANDUNG  2020     1767.96  72.39  Jawa Barat   2295     3623790   \n",
              "1        BANDUNG  2021     1767.96  72.73  Jawa Barat   2002     3665655   \n",
              "2        BANDUNG  2022     1767.96  73.16  Jawa Barat   4191     3707523   \n",
              "3        BANDUNG  2023     1767.96  73.74  Jawa Barat   1005     3749391   \n",
              "4  BANDUNG BARAT  2020     1305.77  68.08  Jawa Barat    966     1788336   \n",
              "\n",
              "       Pop_den  urbanicity                                           geometry  \\\n",
              "0  2049.701351    0.123155  POLYGON ((107.73309 -6.814, 107.73354 -6.81427...   \n",
              "1  2073.381185    0.123155  POLYGON ((107.73309 -6.814, 107.73354 -6.81427...   \n",
              "2  2097.062716    0.123155  POLYGON ((107.73309 -6.814, 107.73354 -6.81427...   \n",
              "3  2120.744248    0.123155  POLYGON ((107.73309 -6.814, 107.73354 -6.81427...   \n",
              "4  1369.564318    0.079001  POLYGON ((107.40945 -6.68851, 107.40986 -6.688...   \n",
              "\n",
              "   ...  payer_cost_vaccine  cost_factor  qaly_le_scaled_vaccine  \\\n",
              "0  ...         1307.626084     0.003549                0.510297   \n",
              "1  ...         1307.626084     0.003096                0.510802   \n",
              "2  ...         1307.626084     0.006481                0.510802   \n",
              "3  ...         1307.626084     0.001554                0.510615   \n",
              "4  ...         1307.626084     0.001494                0.502038   \n",
              "\n",
              "   qaly_le_scaled_nonvaccine  qaly_lost_scaled_vaccine  \\\n",
              "0                   0.510296                  0.001811   \n",
              "1                   0.510802                  0.001581   \n",
              "2                   0.510802                  0.003311   \n",
              "3                   0.510615                  0.000794   \n",
              "4                   0.502038                  0.000750   \n",
              "\n",
              "   qaly_lost_scaled_nonvaccine  healthcare_cost_vaccine_scaled  \\\n",
              "0                     0.001811                        4.739453   \n",
              "1                     0.001581                        4.134373   \n",
              "2                     0.003311                        8.654923   \n",
              "3                     0.000794                        2.075447   \n",
              "4                     0.000750                        1.994907   \n",
              "\n",
              "   healthcare_cost_nonvaccine_scaled  payer_cost_vaccine_scaled  \\\n",
              "0                           0.247046                   4.640966   \n",
              "1                           0.215506                   4.048459   \n",
              "2                           0.451141                   8.475072   \n",
              "3                           0.108183                   2.032319   \n",
              "4                           0.103985                   1.953452   \n",
              "\n",
              "   payer_cost_nonvaccine_scaled  \n",
              "0                      0.149116  \n",
              "1                      0.130078  \n",
              "2                      0.272307  \n",
              "3                      0.065299  \n",
              "4                      0.062765  \n",
              "\n",
              "[5 rows x 28 columns]"
            ]
          },
          "execution_count": 62,
          "metadata": {},
          "output_type": "execute_result"
        }
      ],
      "source": [
        "# Scale costs\n",
        "df_final['healthcare_cost_vaccine_scaled'] = df_final['healthcare_cost_vaccine'] * df_final['cost_factor']\n",
        "df_final['healthcare_cost_nonvaccine_scaled'] = df_final['healthcare_cost_non_vaccine'] * df_final['cost_factor']\n",
        "df_final['payer_cost_vaccine_scaled'] = df_final['payer_cost_vaccine'] * df_final['cost_factor']\n",
        "df_final['payer_cost_nonvaccine_scaled'] = df_final['payer_cost_non_vaccine'] * df_final['cost_factor']\n",
        "df_final.head()"
      ]
    },
    {
      "cell_type": "code",
      "execution_count": 63,
      "metadata": {
        "colab": {
          "base_uri": "https://localhost:8080/",
          "height": 342
        },
        "id": "ph84sFY03YGA",
        "outputId": "e54781e1-cf61-406f-cff1-83ba73add5b5"
      },
      "outputs": [
        {
          "data": {
            "text/html": [
              "<div>\n",
              "<style scoped>\n",
              "    .dataframe tbody tr th:only-of-type {\n",
              "        vertical-align: middle;\n",
              "    }\n",
              "\n",
              "    .dataframe tbody tr th {\n",
              "        vertical-align: top;\n",
              "    }\n",
              "\n",
              "    .dataframe thead th {\n",
              "        text-align: right;\n",
              "    }\n",
              "</style>\n",
              "<table border=\"1\" class=\"dataframe\">\n",
              "  <thead>\n",
              "    <tr style=\"text-align: right;\">\n",
              "      <th></th>\n",
              "      <th>District</th>\n",
              "      <th>Year</th>\n",
              "      <th>Area_sq_km</th>\n",
              "      <th>HDI</th>\n",
              "      <th>Province</th>\n",
              "      <th>Cases</th>\n",
              "      <th>Population</th>\n",
              "      <th>Pop_den</th>\n",
              "      <th>urbanicity</th>\n",
              "      <th>geometry</th>\n",
              "      <th>...</th>\n",
              "      <th>qaly_le_scaled_vaccine</th>\n",
              "      <th>qaly_le_scaled_nonvaccine</th>\n",
              "      <th>qaly_lost_scaled_vaccine</th>\n",
              "      <th>qaly_lost_scaled_nonvaccine</th>\n",
              "      <th>healthcare_cost_vaccine_scaled</th>\n",
              "      <th>healthcare_cost_nonvaccine_scaled</th>\n",
              "      <th>payer_cost_vaccine_scaled</th>\n",
              "      <th>payer_cost_nonvaccine_scaled</th>\n",
              "      <th>incremental_healthcare_cost</th>\n",
              "      <th>incremental_payer_cost</th>\n",
              "    </tr>\n",
              "  </thead>\n",
              "  <tbody>\n",
              "    <tr>\n",
              "      <th>0</th>\n",
              "      <td>BANDUNG</td>\n",
              "      <td>2020</td>\n",
              "      <td>1767.96</td>\n",
              "      <td>72.39</td>\n",
              "      <td>Jawa Barat</td>\n",
              "      <td>2295</td>\n",
              "      <td>3623790</td>\n",
              "      <td>2049.701351</td>\n",
              "      <td>0.123155</td>\n",
              "      <td>POLYGON ((107.73309 -6.814, 107.73354 -6.81427...</td>\n",
              "      <td>...</td>\n",
              "      <td>0.510297</td>\n",
              "      <td>0.510296</td>\n",
              "      <td>0.001811</td>\n",
              "      <td>0.001811</td>\n",
              "      <td>4.739453</td>\n",
              "      <td>0.247046</td>\n",
              "      <td>4.640966</td>\n",
              "      <td>0.149116</td>\n",
              "      <td>4.492407</td>\n",
              "      <td>4.491851</td>\n",
              "    </tr>\n",
              "    <tr>\n",
              "      <th>1</th>\n",
              "      <td>BANDUNG</td>\n",
              "      <td>2021</td>\n",
              "      <td>1767.96</td>\n",
              "      <td>72.73</td>\n",
              "      <td>Jawa Barat</td>\n",
              "      <td>2002</td>\n",
              "      <td>3665655</td>\n",
              "      <td>2073.381185</td>\n",
              "      <td>0.123155</td>\n",
              "      <td>POLYGON ((107.73309 -6.814, 107.73354 -6.81427...</td>\n",
              "      <td>...</td>\n",
              "      <td>0.510802</td>\n",
              "      <td>0.510802</td>\n",
              "      <td>0.001581</td>\n",
              "      <td>0.001581</td>\n",
              "      <td>4.134373</td>\n",
              "      <td>0.215506</td>\n",
              "      <td>4.048459</td>\n",
              "      <td>0.130078</td>\n",
              "      <td>3.918867</td>\n",
              "      <td>3.918381</td>\n",
              "    </tr>\n",
              "    <tr>\n",
              "      <th>2</th>\n",
              "      <td>BANDUNG</td>\n",
              "      <td>2022</td>\n",
              "      <td>1767.96</td>\n",
              "      <td>73.16</td>\n",
              "      <td>Jawa Barat</td>\n",
              "      <td>4191</td>\n",
              "      <td>3707523</td>\n",
              "      <td>2097.062716</td>\n",
              "      <td>0.123155</td>\n",
              "      <td>POLYGON ((107.73309 -6.814, 107.73354 -6.81427...</td>\n",
              "      <td>...</td>\n",
              "      <td>0.510802</td>\n",
              "      <td>0.510802</td>\n",
              "      <td>0.003311</td>\n",
              "      <td>0.003311</td>\n",
              "      <td>8.654923</td>\n",
              "      <td>0.451141</td>\n",
              "      <td>8.475072</td>\n",
              "      <td>0.272307</td>\n",
              "      <td>8.203782</td>\n",
              "      <td>8.202765</td>\n",
              "    </tr>\n",
              "    <tr>\n",
              "      <th>3</th>\n",
              "      <td>BANDUNG</td>\n",
              "      <td>2023</td>\n",
              "      <td>1767.96</td>\n",
              "      <td>73.74</td>\n",
              "      <td>Jawa Barat</td>\n",
              "      <td>1005</td>\n",
              "      <td>3749391</td>\n",
              "      <td>2120.744248</td>\n",
              "      <td>0.123155</td>\n",
              "      <td>POLYGON ((107.73309 -6.814, 107.73354 -6.81427...</td>\n",
              "      <td>...</td>\n",
              "      <td>0.510615</td>\n",
              "      <td>0.510615</td>\n",
              "      <td>0.000794</td>\n",
              "      <td>0.000794</td>\n",
              "      <td>2.075447</td>\n",
              "      <td>0.108183</td>\n",
              "      <td>2.032319</td>\n",
              "      <td>0.065299</td>\n",
              "      <td>1.967263</td>\n",
              "      <td>1.967020</td>\n",
              "    </tr>\n",
              "    <tr>\n",
              "      <th>4</th>\n",
              "      <td>BANDUNG BARAT</td>\n",
              "      <td>2020</td>\n",
              "      <td>1305.77</td>\n",
              "      <td>68.08</td>\n",
              "      <td>Jawa Barat</td>\n",
              "      <td>966</td>\n",
              "      <td>1788336</td>\n",
              "      <td>1369.564318</td>\n",
              "      <td>0.079001</td>\n",
              "      <td>POLYGON ((107.40945 -6.68851, 107.40986 -6.688...</td>\n",
              "      <td>...</td>\n",
              "      <td>0.502038</td>\n",
              "      <td>0.502038</td>\n",
              "      <td>0.000750</td>\n",
              "      <td>0.000750</td>\n",
              "      <td>1.994907</td>\n",
              "      <td>0.103985</td>\n",
              "      <td>1.953452</td>\n",
              "      <td>0.062765</td>\n",
              "      <td>1.890922</td>\n",
              "      <td>1.890687</td>\n",
              "    </tr>\n",
              "  </tbody>\n",
              "</table>\n",
              "<p>5 rows × 30 columns</p>\n",
              "</div>"
            ],
            "text/plain": [
              "        District  Year  Area_sq_km    HDI    Province  Cases  Population  \\\n",
              "0        BANDUNG  2020     1767.96  72.39  Jawa Barat   2295     3623790   \n",
              "1        BANDUNG  2021     1767.96  72.73  Jawa Barat   2002     3665655   \n",
              "2        BANDUNG  2022     1767.96  73.16  Jawa Barat   4191     3707523   \n",
              "3        BANDUNG  2023     1767.96  73.74  Jawa Barat   1005     3749391   \n",
              "4  BANDUNG BARAT  2020     1305.77  68.08  Jawa Barat    966     1788336   \n",
              "\n",
              "       Pop_den  urbanicity                                           geometry  \\\n",
              "0  2049.701351    0.123155  POLYGON ((107.73309 -6.814, 107.73354 -6.81427...   \n",
              "1  2073.381185    0.123155  POLYGON ((107.73309 -6.814, 107.73354 -6.81427...   \n",
              "2  2097.062716    0.123155  POLYGON ((107.73309 -6.814, 107.73354 -6.81427...   \n",
              "3  2120.744248    0.123155  POLYGON ((107.73309 -6.814, 107.73354 -6.81427...   \n",
              "4  1369.564318    0.079001  POLYGON ((107.40945 -6.68851, 107.40986 -6.688...   \n",
              "\n",
              "   ...  qaly_le_scaled_vaccine  qaly_le_scaled_nonvaccine  \\\n",
              "0  ...                0.510297                   0.510296   \n",
              "1  ...                0.510802                   0.510802   \n",
              "2  ...                0.510802                   0.510802   \n",
              "3  ...                0.510615                   0.510615   \n",
              "4  ...                0.502038                   0.502038   \n",
              "\n",
              "   qaly_lost_scaled_vaccine  qaly_lost_scaled_nonvaccine  \\\n",
              "0                  0.001811                     0.001811   \n",
              "1                  0.001581                     0.001581   \n",
              "2                  0.003311                     0.003311   \n",
              "3                  0.000794                     0.000794   \n",
              "4                  0.000750                     0.000750   \n",
              "\n",
              "   healthcare_cost_vaccine_scaled  healthcare_cost_nonvaccine_scaled  \\\n",
              "0                        4.739453                           0.247046   \n",
              "1                        4.134373                           0.215506   \n",
              "2                        8.654923                           0.451141   \n",
              "3                        2.075447                           0.108183   \n",
              "4                        1.994907                           0.103985   \n",
              "\n",
              "   payer_cost_vaccine_scaled  payer_cost_nonvaccine_scaled  \\\n",
              "0                   4.640966                      0.149116   \n",
              "1                   4.048459                      0.130078   \n",
              "2                   8.475072                      0.272307   \n",
              "3                   2.032319                      0.065299   \n",
              "4                   1.953452                      0.062765   \n",
              "\n",
              "   incremental_healthcare_cost  incremental_payer_cost  \n",
              "0                     4.492407                4.491851  \n",
              "1                     3.918867                3.918381  \n",
              "2                     8.203782                8.202765  \n",
              "3                     1.967263                1.967020  \n",
              "4                     1.890922                1.890687  \n",
              "\n",
              "[5 rows x 30 columns]"
            ]
          },
          "execution_count": 63,
          "metadata": {},
          "output_type": "execute_result"
        }
      ],
      "source": [
        "# Compute incremental costs per person!\n",
        "df_final['incremental_healthcare_cost'] = (df_final['healthcare_cost_vaccine_scaled']) - (df_final['healthcare_cost_nonvaccine_scaled'])\n",
        "df_final['incremental_payer_cost'] = (df_final['payer_cost_vaccine_scaled']) - (df_final['payer_cost_nonvaccine_scaled'])\n",
        "\n",
        "df_final.head()"
      ]
    },
    {
      "cell_type": "code",
      "execution_count": 64,
      "metadata": {
        "id": "pWfUwA7A3g4I"
      },
      "outputs": [],
      "source": [
        "# Compute incremental QALY\n",
        "df_final['incremental_qaly'] = (df_final['qaly_lost_scaled_vaccine']) - (df_final['qaly_lost_scaled_nonvaccine'])"
      ]
    },
    {
      "cell_type": "code",
      "execution_count": 65,
      "metadata": {},
      "outputs": [],
      "source": [
        "#compute NMB per capita / case at the district level\n",
        "df_final['nmb_healthcare_observed'] = 3 * 3859 * df_final[\"incremental_qaly\"] - df_final[\"incremental_healthcare_cost\"]\n",
        "df_final['nmb_payer_observed'] = 3 * 3859 * df_final[\"incremental_qaly\"] - df_final[\"incremental_payer_cost\"]"
      ]
    },
    {
      "cell_type": "code",
      "execution_count": 66,
      "metadata": {
        "id": "0rgRujlWdgql"
      },
      "outputs": [],
      "source": [
        "#only retain the necessary rows and columns, save it as the benchmark ICER calculations\n",
        "df_final = df_final[[\"District\", \"Province\", \"Cases\", \"Population\", \"Year\", \"nmb_healthcare_observed\", \"nmb_payer_observed\", \"burden_non_vaccine\", \"burden_vaccine\", \"qaly_le_scaled_vaccine\", \"qaly_le_scaled_nonvaccine\", 'healthcare_cost_non_vaccine', 'healthcare_cost_vaccine', 'payer_cost_non_vaccine', 'payer_cost_vaccine']]"
      ]
    },
    {
      "cell_type": "code",
      "execution_count": 67,
      "metadata": {},
      "outputs": [
        {
          "data": {
            "text/html": [
              "<div>\n",
              "<style scoped>\n",
              "    .dataframe tbody tr th:only-of-type {\n",
              "        vertical-align: middle;\n",
              "    }\n",
              "\n",
              "    .dataframe tbody tr th {\n",
              "        vertical-align: top;\n",
              "    }\n",
              "\n",
              "    .dataframe thead th {\n",
              "        text-align: right;\n",
              "    }\n",
              "</style>\n",
              "<table border=\"1\" class=\"dataframe\">\n",
              "  <thead>\n",
              "    <tr style=\"text-align: right;\">\n",
              "      <th></th>\n",
              "      <th>District</th>\n",
              "      <th>Province</th>\n",
              "      <th>Cases</th>\n",
              "      <th>Population</th>\n",
              "      <th>Year</th>\n",
              "      <th>nmb_healthcare_observed</th>\n",
              "      <th>nmb_payer_observed</th>\n",
              "      <th>burden_non_vaccine</th>\n",
              "      <th>burden_vaccine</th>\n",
              "      <th>qaly_le_scaled_vaccine</th>\n",
              "      <th>qaly_le_scaled_nonvaccine</th>\n",
              "      <th>healthcare_cost_non_vaccine</th>\n",
              "      <th>healthcare_cost_vaccine</th>\n",
              "      <th>payer_cost_non_vaccine</th>\n",
              "      <th>payer_cost_vaccine</th>\n",
              "    </tr>\n",
              "  </thead>\n",
              "  <tbody>\n",
              "    <tr>\n",
              "      <th>0</th>\n",
              "      <td>BANDUNG</td>\n",
              "      <td>Jawa Barat</td>\n",
              "      <td>2295</td>\n",
              "      <td>3623790</td>\n",
              "      <td>2020</td>\n",
              "      <td>-4.492387</td>\n",
              "      <td>-4.491830</td>\n",
              "      <td>382416</td>\n",
              "      <td>264217</td>\n",
              "      <td>0.510297</td>\n",
              "      <td>0.510296</td>\n",
              "      <td>69.606957</td>\n",
              "      <td>1335.375551</td>\n",
              "      <td>42.014414</td>\n",
              "      <td>1307.626084</td>\n",
              "    </tr>\n",
              "    <tr>\n",
              "      <th>1</th>\n",
              "      <td>BANDUNG</td>\n",
              "      <td>Jawa Barat</td>\n",
              "      <td>2002</td>\n",
              "      <td>3665655</td>\n",
              "      <td>2021</td>\n",
              "      <td>-3.918849</td>\n",
              "      <td>-3.918364</td>\n",
              "      <td>382416</td>\n",
              "      <td>264217</td>\n",
              "      <td>0.510802</td>\n",
              "      <td>0.510802</td>\n",
              "      <td>69.606957</td>\n",
              "      <td>1335.375551</td>\n",
              "      <td>42.014414</td>\n",
              "      <td>1307.626084</td>\n",
              "    </tr>\n",
              "    <tr>\n",
              "      <th>2</th>\n",
              "      <td>BANDUNG</td>\n",
              "      <td>Jawa Barat</td>\n",
              "      <td>4191</td>\n",
              "      <td>3707523</td>\n",
              "      <td>2022</td>\n",
              "      <td>-8.203745</td>\n",
              "      <td>-8.202728</td>\n",
              "      <td>382416</td>\n",
              "      <td>264217</td>\n",
              "      <td>0.510802</td>\n",
              "      <td>0.510802</td>\n",
              "      <td>69.606957</td>\n",
              "      <td>1335.375551</td>\n",
              "      <td>42.014414</td>\n",
              "      <td>1307.626084</td>\n",
              "    </tr>\n",
              "    <tr>\n",
              "      <th>3</th>\n",
              "      <td>BANDUNG</td>\n",
              "      <td>Jawa Barat</td>\n",
              "      <td>1005</td>\n",
              "      <td>3749391</td>\n",
              "      <td>2023</td>\n",
              "      <td>-1.967255</td>\n",
              "      <td>-1.967011</td>\n",
              "      <td>382416</td>\n",
              "      <td>264217</td>\n",
              "      <td>0.510615</td>\n",
              "      <td>0.510615</td>\n",
              "      <td>69.606957</td>\n",
              "      <td>1335.375551</td>\n",
              "      <td>42.014414</td>\n",
              "      <td>1307.626084</td>\n",
              "    </tr>\n",
              "    <tr>\n",
              "      <th>4</th>\n",
              "      <td>BANDUNG BARAT</td>\n",
              "      <td>Jawa Barat</td>\n",
              "      <td>966</td>\n",
              "      <td>1788336</td>\n",
              "      <td>2020</td>\n",
              "      <td>-1.890913</td>\n",
              "      <td>-1.890679</td>\n",
              "      <td>382416</td>\n",
              "      <td>264217</td>\n",
              "      <td>0.502038</td>\n",
              "      <td>0.502038</td>\n",
              "      <td>69.606957</td>\n",
              "      <td>1335.375551</td>\n",
              "      <td>42.014414</td>\n",
              "      <td>1307.626084</td>\n",
              "    </tr>\n",
              "  </tbody>\n",
              "</table>\n",
              "</div>"
            ],
            "text/plain": [
              "        District    Province  Cases  Population  Year  \\\n",
              "0        BANDUNG  Jawa Barat   2295     3623790  2020   \n",
              "1        BANDUNG  Jawa Barat   2002     3665655  2021   \n",
              "2        BANDUNG  Jawa Barat   4191     3707523  2022   \n",
              "3        BANDUNG  Jawa Barat   1005     3749391  2023   \n",
              "4  BANDUNG BARAT  Jawa Barat    966     1788336  2020   \n",
              "\n",
              "   nmb_healthcare_observed  nmb_payer_observed  burden_non_vaccine  \\\n",
              "0                -4.492387           -4.491830              382416   \n",
              "1                -3.918849           -3.918364              382416   \n",
              "2                -8.203745           -8.202728              382416   \n",
              "3                -1.967255           -1.967011              382416   \n",
              "4                -1.890913           -1.890679              382416   \n",
              "\n",
              "   burden_vaccine  qaly_le_scaled_vaccine  qaly_le_scaled_nonvaccine  \\\n",
              "0          264217                0.510297                   0.510296   \n",
              "1          264217                0.510802                   0.510802   \n",
              "2          264217                0.510802                   0.510802   \n",
              "3          264217                0.510615                   0.510615   \n",
              "4          264217                0.502038                   0.502038   \n",
              "\n",
              "   healthcare_cost_non_vaccine  healthcare_cost_vaccine  \\\n",
              "0                    69.606957              1335.375551   \n",
              "1                    69.606957              1335.375551   \n",
              "2                    69.606957              1335.375551   \n",
              "3                    69.606957              1335.375551   \n",
              "4                    69.606957              1335.375551   \n",
              "\n",
              "   payer_cost_non_vaccine  payer_cost_vaccine  \n",
              "0               42.014414         1307.626084  \n",
              "1               42.014414         1307.626084  \n",
              "2               42.014414         1307.626084  \n",
              "3               42.014414         1307.626084  \n",
              "4               42.014414         1307.626084  "
            ]
          },
          "execution_count": 67,
          "metadata": {},
          "output_type": "execute_result"
        }
      ],
      "source": [
        "df_final.head()"
      ]
    },
    {
      "cell_type": "code",
      "execution_count": 68,
      "metadata": {},
      "outputs": [
        {
          "data": {
            "text/plain": [
              "0      False\n",
              "1      False\n",
              "2      False\n",
              "3      False\n",
              "4      False\n",
              "       ...  \n",
              "127    False\n",
              "128    False\n",
              "129    False\n",
              "130    False\n",
              "131    False\n",
              "Name: nmb_healthcare_observed, Length: 132, dtype: bool"
            ]
          },
          "execution_count": 68,
          "metadata": {},
          "output_type": "execute_result"
        }
      ],
      "source": [
        "df_final[\"nmb_healthcare_observed\"] > 0"
      ]
    },
    {
      "cell_type": "markdown",
      "metadata": {
        "id": "v0L1ASeqgMjR"
      },
      "source": [
        "### Save the df for other icer calculations"
      ]
    },
    {
      "cell_type": "code",
      "execution_count": 69,
      "metadata": {
        "id": "LFVS11vFgRKk"
      },
      "outputs": [],
      "source": [
        "df_final.to_csv(\"../data/processed/nmb_observed.csv\")"
      ]
    }
  ],
  "metadata": {
    "colab": {
      "provenance": []
    },
    "kernelspec": {
      "display_name": "Python 3",
      "name": "python3"
    },
    "language_info": {
      "codemirror_mode": {
        "name": "ipython",
        "version": 3
      },
      "file_extension": ".py",
      "mimetype": "text/x-python",
      "name": "python",
      "nbconvert_exporter": "python",
      "pygments_lexer": "ipython3",
      "version": "3.13.1"
    }
  },
  "nbformat": 4,
  "nbformat_minor": 0
}
