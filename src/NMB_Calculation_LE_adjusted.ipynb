{
  "cells": [
    {
      "cell_type": "markdown",
      "metadata": {
        "id": "3ZWYClTlMV62"
      },
      "source": [
        "### Load libraries"
      ]
    },
    {
      "cell_type": "code",
      "execution_count": 96,
      "metadata": {
        "id": "mIL0szGyMC0G"
      },
      "outputs": [],
      "source": [
        "#load libraries\n",
        "import pandas as pd\n",
        "import numpy as np\n",
        "import matplotlib as plt\n",
        "import os\n",
        "import seaborn as sns\n",
        "import geopandas as gpd"
      ]
    },
    {
      "cell_type": "markdown",
      "metadata": {
        "id": "SSI4b7RHeN1B"
      },
      "source": [
        "### Read data"
      ]
    },
    {
      "cell_type": "code",
      "execution_count": 97,
      "metadata": {
        "id": "PkdwMfZmTlcv"
      },
      "outputs": [],
      "source": [
        "#read the ICER data\n",
        "icer = pd.read_excel(\"../data/raw/ICER_data.xlsx\")"
      ]
    },
    {
      "cell_type": "code",
      "execution_count": 98,
      "metadata": {
        "id": "3lET9zvbNCJA"
      },
      "outputs": [],
      "source": [
        "#read in the data for life expectancy\n",
        "le_district = pd.read_csv(\"../data/processed/le_combined.csv\")\n",
        "le_nat = pd.read_csv(\"../data/processed/le_calc_national.csv\")\n",
        "df_map = gpd.read_file(\"../data/processed/high_res.shp\")"
      ]
    },
    {
      "cell_type": "code",
      "execution_count": null,
      "metadata": {},
      "outputs": [],
      "source": [
        "#normalise population density first\n"
      ]
    },
    {
      "cell_type": "code",
      "execution_count": 99,
      "metadata": {
        "id": "VhuHI873bUN8"
      },
      "outputs": [],
      "source": [
        "#rename first column as treatment\n",
        "icer = icer.rename(columns={\"Unnamed: 0\": \"Treatment\"})"
      ]
    },
    {
      "cell_type": "code",
      "execution_count": 100,
      "metadata": {
        "colab": {
          "base_uri": "https://localhost:8080/",
          "height": 112
        },
        "id": "kKSibTUtbbyZ",
        "outputId": "50152bf2-d385-4fbb-befc-f547efbaafcc"
      },
      "outputs": [
        {
          "data": {
            "text/html": [
              "<div>\n",
              "<style scoped>\n",
              "    .dataframe tbody tr th:only-of-type {\n",
              "        vertical-align: middle;\n",
              "    }\n",
              "\n",
              "    .dataframe tbody tr th {\n",
              "        vertical-align: top;\n",
              "    }\n",
              "\n",
              "    .dataframe thead th {\n",
              "        text-align: right;\n",
              "    }\n",
              "</style>\n",
              "<table border=\"1\" class=\"dataframe\">\n",
              "  <thead>\n",
              "    <tr style=\"text-align: right;\">\n",
              "      <th></th>\n",
              "      <th>Treatment</th>\n",
              "      <th>burden</th>\n",
              "      <th>qaly_lost</th>\n",
              "      <th>healthcare_cost</th>\n",
              "      <th>payer_cost</th>\n",
              "    </tr>\n",
              "  </thead>\n",
              "  <tbody>\n",
              "    <tr>\n",
              "      <th>0</th>\n",
              "      <td>non_vaccine</td>\n",
              "      <td>382416</td>\n",
              "      <td>184088.54</td>\n",
              "      <td>26618814</td>\n",
              "      <td>16066984</td>\n",
              "    </tr>\n",
              "    <tr>\n",
              "      <th>1</th>\n",
              "      <td>vaccine</td>\n",
              "      <td>264217</td>\n",
              "      <td>127189.68</td>\n",
              "      <td>352828922</td>\n",
              "      <td>345497041</td>\n",
              "    </tr>\n",
              "  </tbody>\n",
              "</table>\n",
              "</div>"
            ],
            "text/plain": [
              "     Treatment  burden  qaly_lost  healthcare_cost  payer_cost\n",
              "0  non_vaccine  382416  184088.54         26618814    16066984\n",
              "1      vaccine  264217  127189.68        352828922   345497041"
            ]
          },
          "execution_count": 100,
          "metadata": {},
          "output_type": "execute_result"
        }
      ],
      "source": [
        "icer.head()"
      ]
    },
    {
      "cell_type": "markdown",
      "metadata": {
        "id": "lgs55zBhMYGy"
      },
      "source": [
        "### Calculate district-level ICER based on the available ICER (average) from 2020-2024 in Indonesia (from research paper), nationwide, adjusted by life expectancy to obtain district-level ICER, assuming intervention costs remain approximately the same (similar) --> life expectancy is to adjust based on QALYs. All prices are adjusted to 2018 USD based on PPP and discounted by 3%"
      ]
    },
    {
      "cell_type": "code",
      "execution_count": 101,
      "metadata": {
        "colab": {
          "base_uri": "https://localhost:8080/",
          "height": 206
        },
        "id": "YUtExeITOIRF",
        "outputId": "58b61664-b935-4ae9-e63d-7d45c522724c"
      },
      "outputs": [
        {
          "data": {
            "text/html": [
              "<div>\n",
              "<style scoped>\n",
              "    .dataframe tbody tr th:only-of-type {\n",
              "        vertical-align: middle;\n",
              "    }\n",
              "\n",
              "    .dataframe tbody tr th {\n",
              "        vertical-align: top;\n",
              "    }\n",
              "\n",
              "    .dataframe thead th {\n",
              "        text-align: right;\n",
              "    }\n",
              "</style>\n",
              "<table border=\"1\" class=\"dataframe\">\n",
              "  <thead>\n",
              "    <tr style=\"text-align: right;\">\n",
              "      <th></th>\n",
              "      <th>District</th>\n",
              "      <th>Year</th>\n",
              "      <th>Life Expectancy</th>\n",
              "    </tr>\n",
              "  </thead>\n",
              "  <tbody>\n",
              "    <tr>\n",
              "      <th>0</th>\n",
              "      <td>ACEH</td>\n",
              "      <td>2022</td>\n",
              "      <td>70.18</td>\n",
              "    </tr>\n",
              "    <tr>\n",
              "      <th>1</th>\n",
              "      <td>SIMEULUE</td>\n",
              "      <td>2022</td>\n",
              "      <td>65.48</td>\n",
              "    </tr>\n",
              "    <tr>\n",
              "      <th>2</th>\n",
              "      <td>ACEH SINGKIL</td>\n",
              "      <td>2022</td>\n",
              "      <td>67.65</td>\n",
              "    </tr>\n",
              "    <tr>\n",
              "      <th>3</th>\n",
              "      <td>ACEH SELATAN</td>\n",
              "      <td>2022</td>\n",
              "      <td>64.64</td>\n",
              "    </tr>\n",
              "    <tr>\n",
              "      <th>4</th>\n",
              "      <td>ACEH TENGGARA</td>\n",
              "      <td>2022</td>\n",
              "      <td>68.48</td>\n",
              "    </tr>\n",
              "  </tbody>\n",
              "</table>\n",
              "</div>"
            ],
            "text/plain": [
              "        District  Year  Life Expectancy\n",
              "0           ACEH  2022            70.18\n",
              "1       SIMEULUE  2022            65.48\n",
              "2   ACEH SINGKIL  2022            67.65\n",
              "3   ACEH SELATAN  2022            64.64\n",
              "4  ACEH TENGGARA  2022            68.48"
            ]
          },
          "execution_count": 101,
          "metadata": {},
          "output_type": "execute_result"
        }
      ],
      "source": [
        "le_district.head()"
      ]
    },
    {
      "cell_type": "code",
      "execution_count": 102,
      "metadata": {
        "id": "UE7xMtcVON3i"
      },
      "outputs": [],
      "source": [
        "#rename as district_life_exp\n",
        "le_district = le_district.rename(columns={\"Life Expectancy\": \"district_le\"})"
      ]
    },
    {
      "cell_type": "code",
      "execution_count": 103,
      "metadata": {
        "colab": {
          "base_uri": "https://localhost:8080/",
          "height": 206
        },
        "id": "04ceoHAgOKSt",
        "outputId": "098df8e6-344c-4995-ca88-d68c64cc294d"
      },
      "outputs": [
        {
          "data": {
            "text/html": [
              "<div>\n",
              "<style scoped>\n",
              "    .dataframe tbody tr th:only-of-type {\n",
              "        vertical-align: middle;\n",
              "    }\n",
              "\n",
              "    .dataframe tbody tr th {\n",
              "        vertical-align: top;\n",
              "    }\n",
              "\n",
              "    .dataframe thead th {\n",
              "        text-align: right;\n",
              "    }\n",
              "</style>\n",
              "<table border=\"1\" class=\"dataframe\">\n",
              "  <thead>\n",
              "    <tr style=\"text-align: right;\">\n",
              "      <th></th>\n",
              "      <th>Year</th>\n",
              "      <th>Life Expectancy</th>\n",
              "    </tr>\n",
              "  </thead>\n",
              "  <tbody>\n",
              "    <tr>\n",
              "      <th>0</th>\n",
              "      <td>2019</td>\n",
              "      <td>69.213148</td>\n",
              "    </tr>\n",
              "    <tr>\n",
              "      <th>1</th>\n",
              "      <td>2020</td>\n",
              "      <td>69.363809</td>\n",
              "    </tr>\n",
              "    <tr>\n",
              "      <th>2</th>\n",
              "      <td>2021</td>\n",
              "      <td>69.474243</td>\n",
              "    </tr>\n",
              "    <tr>\n",
              "      <th>3</th>\n",
              "      <td>2022</td>\n",
              "      <td>69.747513</td>\n",
              "    </tr>\n",
              "    <tr>\n",
              "      <th>4</th>\n",
              "      <td>2023</td>\n",
              "      <td>70.018191</td>\n",
              "    </tr>\n",
              "  </tbody>\n",
              "</table>\n",
              "</div>"
            ],
            "text/plain": [
              "   Year  Life Expectancy\n",
              "0  2019        69.213148\n",
              "1  2020        69.363809\n",
              "2  2021        69.474243\n",
              "3  2022        69.747513\n",
              "4  2023        70.018191"
            ]
          },
          "execution_count": 103,
          "metadata": {},
          "output_type": "execute_result"
        }
      ],
      "source": [
        "le_nat.head()"
      ]
    },
    {
      "cell_type": "code",
      "execution_count": 104,
      "metadata": {
        "id": "dm4QDvy6OUz7"
      },
      "outputs": [],
      "source": [
        "#rename as nat_le\n",
        "le_nat = le_nat.rename(columns={\"Life Expectancy\": \"nat_le\"})"
      ]
    },
    {
      "cell_type": "code",
      "execution_count": 105,
      "metadata": {
        "id": "EBUSP-SNOFFG"
      },
      "outputs": [],
      "source": [
        "#merge le_district and le_nat by year\n",
        "le_final = pd.merge(le_district, le_nat, on = \"Year\")\n",
        "\n",
        "#replace all the NA values\n",
        "\n",
        "#make sure all the life expectancy values are all floats\n",
        "le_final[\"district_le\"] = le_final[\"district_le\"].astype(float)\n",
        "le_final[\"nat_le\"] = le_final[\"nat_le\"].astype(float)\n",
        "\n",
        "#calculate the le_factor, which is a comparison of the district-level to the national-level life expectancy\n",
        "le_final[\"le_factor\"] = le_final[\"district_le\"] / le_final[\"nat_le\"]"
      ]
    },
    {
      "cell_type": "code",
      "execution_count": 106,
      "metadata": {
        "id": "9MVr-CgHNVOA"
      },
      "outputs": [],
      "source": [
        "#create another column in df_map to calculate the discounting factor for each district in dki jakarta and west java\n",
        "df = pd.merge(df_map, le_final, on = (\"District\", \"Year\"))"
      ]
    },
    {
      "cell_type": "code",
      "execution_count": 107,
      "metadata": {
        "id": "PfvcVf7ASXIE"
      },
      "outputs": [],
      "source": [
        "#remove the district_le and nat_le columns\n",
        "df_final = df.drop(columns = [\"district_le\", \"nat_le\"])"
      ]
    },
    {
      "cell_type": "code",
      "execution_count": 113,
      "metadata": {
        "id": "U474G0E3a22g"
      },
      "outputs": [],
      "source": [
        "#get per capita, yearly cost from nationwide, aggregated data (2020-2024)\n",
        "df_final[\"burden_non_vaccine\"] = icer[\"burden\"].iloc[0]\n",
        "df_final[\"burden_vaccine\"] = icer[\"burden\"].iloc[1]\n",
        "df_final[\"healthcare_cost_non_vaccine\"] = icer[\"healthcare_cost\"].iloc[0] / df_final[\"burden_non_vaccine\"] / 5\n",
        "df_final[\"healthcare_cost_vaccine\"] = icer[\"healthcare_cost\"].iloc[1] / df_final[\"burden_vaccine\"] / 5\n",
        "df_final[\"payer_cost_non_vaccine\"] = icer[\"payer_cost\"].iloc[0] / df_final[\"burden_non_vaccine\"] / 5\n",
        "df_final[\"payer_cost_vaccine\"] = icer[\"payer_cost\"].iloc[1] / df_final[\"burden_vaccine\"] / 5\n"
      ]
    },
    {
      "cell_type": "code",
      "execution_count": null,
      "metadata": {},
      "outputs": [],
      "source": [
        "# Incremental cost per dengue case (per capita)  yearly\n",
        "df_final[\"incremental_healthcare_cost\"] = (\n",
        "    df_final[\"healthcare_cost_vaccine\"] - df_final[\"healthcare_cost_non_vaccine\"]) * df_final[\"Cases\"]\n",
        "\n",
        "df_final[\"incremental_payer_cost\"] = (\n",
        "    df_final[\"payer_cost_vaccine\"] - df_final[\"payer_cost_non_vaccine\"]) * df_final[\"Cases\"]"
      ]
    },
    {
      "cell_type": "code",
      "execution_count": 115,
      "metadata": {},
      "outputs": [
        {
          "data": {
            "text/html": [
              "<div>\n",
              "<style scoped>\n",
              "    .dataframe tbody tr th:only-of-type {\n",
              "        vertical-align: middle;\n",
              "    }\n",
              "\n",
              "    .dataframe tbody tr th {\n",
              "        vertical-align: top;\n",
              "    }\n",
              "\n",
              "    .dataframe thead th {\n",
              "        text-align: right;\n",
              "    }\n",
              "</style>\n",
              "<table border=\"1\" class=\"dataframe\">\n",
              "  <thead>\n",
              "    <tr style=\"text-align: right;\">\n",
              "      <th></th>\n",
              "      <th>District</th>\n",
              "      <th>Year</th>\n",
              "      <th>Area_sq_km</th>\n",
              "      <th>HDI</th>\n",
              "      <th>Province</th>\n",
              "      <th>Cases</th>\n",
              "      <th>Population</th>\n",
              "      <th>Pop_den</th>\n",
              "      <th>urbanicity</th>\n",
              "      <th>geometry</th>\n",
              "      <th>le_factor</th>\n",
              "      <th>burden_non_vaccine</th>\n",
              "      <th>burden_vaccine</th>\n",
              "      <th>healthcare_cost_non_vaccine</th>\n",
              "      <th>healthcare_cost_vaccine</th>\n",
              "      <th>payer_cost_non_vaccine</th>\n",
              "      <th>payer_cost_vaccine</th>\n",
              "      <th>incremental_healthcare_cost</th>\n",
              "      <th>incremental_payer_cost</th>\n",
              "    </tr>\n",
              "  </thead>\n",
              "  <tbody>\n",
              "    <tr>\n",
              "      <th>0</th>\n",
              "      <td>BANDUNG</td>\n",
              "      <td>2020</td>\n",
              "      <td>1767.96</td>\n",
              "      <td>0.7239</td>\n",
              "      <td>Jawa Barat</td>\n",
              "      <td>2295</td>\n",
              "      <td>3623790</td>\n",
              "      <td>2.049701</td>\n",
              "      <td>0.123155</td>\n",
              "      <td>POLYGON ((107.73309 -6.814, 107.73354 -6.81427...</td>\n",
              "      <td>1.060063</td>\n",
              "      <td>382416</td>\n",
              "      <td>264217</td>\n",
              "      <td>13.921391</td>\n",
              "      <td>267.07511</td>\n",
              "      <td>8.402883</td>\n",
              "      <td>261.525217</td>\n",
              "      <td>5.809878e+05</td>\n",
              "      <td>5.809158e+05</td>\n",
              "    </tr>\n",
              "    <tr>\n",
              "      <th>1</th>\n",
              "      <td>BANDUNG</td>\n",
              "      <td>2021</td>\n",
              "      <td>1767.96</td>\n",
              "      <td>0.7273</td>\n",
              "      <td>Jawa Barat</td>\n",
              "      <td>2002</td>\n",
              "      <td>3665655</td>\n",
              "      <td>2.073381</td>\n",
              "      <td>0.123155</td>\n",
              "      <td>POLYGON ((107.73309 -6.814, 107.73354 -6.81427...</td>\n",
              "      <td>1.061113</td>\n",
              "      <td>382416</td>\n",
              "      <td>264217</td>\n",
              "      <td>13.921391</td>\n",
              "      <td>267.07511</td>\n",
              "      <td>8.402883</td>\n",
              "      <td>261.525217</td>\n",
              "      <td>5.068137e+05</td>\n",
              "      <td>5.067509e+05</td>\n",
              "    </tr>\n",
              "    <tr>\n",
              "      <th>2</th>\n",
              "      <td>BANDUNG</td>\n",
              "      <td>2022</td>\n",
              "      <td>1767.96</td>\n",
              "      <td>0.7316</td>\n",
              "      <td>Jawa Barat</td>\n",
              "      <td>4191</td>\n",
              "      <td>3707523</td>\n",
              "      <td>2.097063</td>\n",
              "      <td>0.123155</td>\n",
              "      <td>POLYGON ((107.73309 -6.814, 107.73354 -6.81427...</td>\n",
              "      <td>1.061113</td>\n",
              "      <td>382416</td>\n",
              "      <td>264217</td>\n",
              "      <td>13.921391</td>\n",
              "      <td>267.07511</td>\n",
              "      <td>8.402883</td>\n",
              "      <td>261.525217</td>\n",
              "      <td>1.060967e+06</td>\n",
              "      <td>1.060836e+06</td>\n",
              "    </tr>\n",
              "    <tr>\n",
              "      <th>3</th>\n",
              "      <td>BANDUNG</td>\n",
              "      <td>2023</td>\n",
              "      <td>1767.96</td>\n",
              "      <td>0.7374</td>\n",
              "      <td>Jawa Barat</td>\n",
              "      <td>1005</td>\n",
              "      <td>3749391</td>\n",
              "      <td>2.120744</td>\n",
              "      <td>0.123155</td>\n",
              "      <td>POLYGON ((107.73309 -6.814, 107.73354 -6.81427...</td>\n",
              "      <td>1.060724</td>\n",
              "      <td>382416</td>\n",
              "      <td>264217</td>\n",
              "      <td>13.921391</td>\n",
              "      <td>267.07511</td>\n",
              "      <td>8.402883</td>\n",
              "      <td>261.525217</td>\n",
              "      <td>2.544195e+05</td>\n",
              "      <td>2.543879e+05</td>\n",
              "    </tr>\n",
              "    <tr>\n",
              "      <th>4</th>\n",
              "      <td>BANDUNG BARAT</td>\n",
              "      <td>2020</td>\n",
              "      <td>1305.77</td>\n",
              "      <td>0.6808</td>\n",
              "      <td>Jawa Barat</td>\n",
              "      <td>966</td>\n",
              "      <td>1788336</td>\n",
              "      <td>1.369564</td>\n",
              "      <td>0.079001</td>\n",
              "      <td>POLYGON ((107.40945 -6.68851, 107.40986 -6.688...</td>\n",
              "      <td>1.042907</td>\n",
              "      <td>382416</td>\n",
              "      <td>264217</td>\n",
              "      <td>13.921391</td>\n",
              "      <td>267.07511</td>\n",
              "      <td>8.402883</td>\n",
              "      <td>261.525217</td>\n",
              "      <td>2.445465e+05</td>\n",
              "      <td>2.445162e+05</td>\n",
              "    </tr>\n",
              "  </tbody>\n",
              "</table>\n",
              "</div>"
            ],
            "text/plain": [
              "        District  Year  Area_sq_km     HDI    Province  Cases  Population  \\\n",
              "0        BANDUNG  2020     1767.96  0.7239  Jawa Barat   2295     3623790   \n",
              "1        BANDUNG  2021     1767.96  0.7273  Jawa Barat   2002     3665655   \n",
              "2        BANDUNG  2022     1767.96  0.7316  Jawa Barat   4191     3707523   \n",
              "3        BANDUNG  2023     1767.96  0.7374  Jawa Barat   1005     3749391   \n",
              "4  BANDUNG BARAT  2020     1305.77  0.6808  Jawa Barat    966     1788336   \n",
              "\n",
              "    Pop_den  urbanicity                                           geometry  \\\n",
              "0  2.049701    0.123155  POLYGON ((107.73309 -6.814, 107.73354 -6.81427...   \n",
              "1  2.073381    0.123155  POLYGON ((107.73309 -6.814, 107.73354 -6.81427...   \n",
              "2  2.097063    0.123155  POLYGON ((107.73309 -6.814, 107.73354 -6.81427...   \n",
              "3  2.120744    0.123155  POLYGON ((107.73309 -6.814, 107.73354 -6.81427...   \n",
              "4  1.369564    0.079001  POLYGON ((107.40945 -6.68851, 107.40986 -6.688...   \n",
              "\n",
              "   le_factor  burden_non_vaccine  burden_vaccine  healthcare_cost_non_vaccine  \\\n",
              "0   1.060063              382416          264217                    13.921391   \n",
              "1   1.061113              382416          264217                    13.921391   \n",
              "2   1.061113              382416          264217                    13.921391   \n",
              "3   1.060724              382416          264217                    13.921391   \n",
              "4   1.042907              382416          264217                    13.921391   \n",
              "\n",
              "   healthcare_cost_vaccine  payer_cost_non_vaccine  payer_cost_vaccine  \\\n",
              "0                267.07511                8.402883          261.525217   \n",
              "1                267.07511                8.402883          261.525217   \n",
              "2                267.07511                8.402883          261.525217   \n",
              "3                267.07511                8.402883          261.525217   \n",
              "4                267.07511                8.402883          261.525217   \n",
              "\n",
              "   incremental_healthcare_cost  incremental_payer_cost  \n",
              "0                 5.809878e+05            5.809158e+05  \n",
              "1                 5.068137e+05            5.067509e+05  \n",
              "2                 1.060967e+06            1.060836e+06  \n",
              "3                 2.544195e+05            2.543879e+05  \n",
              "4                 2.445465e+05            2.445162e+05  "
            ]
          },
          "execution_count": 115,
          "metadata": {},
          "output_type": "execute_result"
        }
      ],
      "source": [
        "#scale this using population density, urbanicity, and differences in dengue case counts\n",
        "df_final.head()"
      ]
    },
    {
      "cell_type": "markdown",
      "metadata": {
        "id": "v0L1ASeqgMjR"
      },
      "source": [
        "### Save the df for other icer calculations"
      ]
    },
    {
      "cell_type": "code",
      "execution_count": null,
      "metadata": {
        "id": "LFVS11vFgRKk"
      },
      "outputs": [],
      "source": [
        "#df_final.to_csv(\"../data/processed/nmb_observed.csv\")"
      ]
    }
  ],
  "metadata": {
    "colab": {
      "provenance": []
    },
    "kernelspec": {
      "display_name": "Python 3",
      "name": "python3"
    },
    "language_info": {
      "codemirror_mode": {
        "name": "ipython",
        "version": 3
      },
      "file_extension": ".py",
      "mimetype": "text/x-python",
      "name": "python",
      "nbconvert_exporter": "python",
      "pygments_lexer": "ipython3",
      "version": "3.13.1"
    }
  },
  "nbformat": 4,
  "nbformat_minor": 0
}
