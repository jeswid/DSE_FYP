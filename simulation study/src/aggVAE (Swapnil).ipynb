{
 "cells": [
  {
   "cell_type": "markdown",
   "metadata": {},
   "source": [
    "# CountGPVAE Simulation Demo\n",
    "\n",
    "This notebook demonstrates how to use the modularized components of the CountGPVAE model."
   ]
  },
  {
   "cell_type": "code",
   "execution_count": 178,
   "metadata": {},
   "outputs": [],
   "source": [
    "import os\n",
    "import jax\n",
    "import jax.nn as nn\n",
    "from jax import lax, random\n",
    "import jax.numpy as jnp\n",
    "from jax.random import PRNGKey\n",
    "import numpy as np\n",
    "import numpyro\n",
    "import pickle\n",
    "import numpyro.distributions as dist\n",
    "from numpyro.infer import SVI, Trace_ELBO, RenyiELBO\n",
    "import arviz as az\n",
    "import sys\n",
    "from pyprojroot import here\n",
    "import time\n",
    "sys.path.append(str(here() / \"simulation study\" / \"src\"))\n",
    "# Import our modular components\n",
    "from kernels import exp_sq_kernel, M_g\n",
    "from loader_jkt import load_data\n",
    "from gp import gp_aggr\n",
    "from vae import vae_model, vae_guide, vae_decoder\n",
    "from plotting import plot_process, plot_incidence_map\n",
    "import matplotlib.pyplot as plt\n",
    "from numpyro.infer import NUTS, MCMC, Predictive, init_to_median, init_to_uniform, init_to_sample, init_to_mean, init_to_value"
   ]
  },
  {
   "cell_type": "markdown",
   "metadata": {},
   "source": [
    "## 1. Load Data"
   ]
  },
  {
   "cell_type": "code",
   "execution_count": 179,
   "metadata": {},
   "outputs": [
    {
     "name": "stdout",
     "output_type": "stream",
     "text": [
      "dict_keys(['x', 'pol_pts_lo', 'pol_pts_hi', 'df_lo', 'df_hi'])\n"
     ]
    }
   ],
   "source": [
    "# Load the spatial grid and polygon data\n",
    "spatial_data = load_data()\n",
    "print(spatial_data.keys())"
   ]
  },
  {
   "cell_type": "markdown",
   "metadata": {},
   "source": [
    "## 2. Set up Model Parameters"
   ]
  },
  {
   "cell_type": "code",
   "execution_count": 180,
   "metadata": {},
   "outputs": [],
   "source": [
    "# Model configuration\n",
    "args = {\n",
    "    \"x\": spatial_data[\"x\"],\n",
    "    \"gp_kernel\": exp_sq_kernel,\n",
    "    \"noise\": 1.e-2,\n",
    "    \"jitter\": 1.e-2,\n",
    "    \"M_lo\": jnp.array(spatial_data[\"pol_pts_lo\"]),\n",
    "    \"M_hi\":  jnp.array(spatial_data[\"pol_pts_hi\"]),\n",
    "    'kernel_length': dist.InverseGamma(5, 2),\n",
    "    'kernel_var': dist.LogNormal(-1, 0.05),\n",
    "    \"vae_var\": 0.1,\n",
    "    \"batch_size\": 5,\n",
    "    \"hidden_dim\": 50,\n",
    "    \"z_dim\": 40,\n",
    "    \"learning_rate\": 1e-3,\n",
    "    \"num_epochs\": 15,\n",
    "    \"rng_key\": PRNGKey(6)\n",
    "}"
   ]
  },
  {
   "cell_type": "markdown",
   "metadata": {},
   "source": [
    "## 3. Generate GP Samples"
   ]
  },
  {
   "cell_type": "code",
   "execution_count": 181,
   "metadata": {},
   "outputs": [
    {
     "data": {
      "application/vnd.plotly.v1+json": {
       "config": {
        "plotlyServerURL": "https://plot.ly"
       },
       "data": [
        {
         "hovertemplate": "<extra></extra>",
         "legendgroup": "",
         "line": {
          "color": "#636efa",
          "dash": "solid"
         },
         "marker": {
          "symbol": "circle"
         },
         "mode": "lines",
         "name": "",
         "orientation": "v",
         "showlegend": false,
         "type": "scatter",
         "xaxis": "x",
         "yaxis": "y"
        },
        {
         "line": {
          "color": "rgb(31, 119, 180)"
         },
         "opacity": 0.3,
         "type": "scatter",
         "x": {
          "bdata": "AAECAwQF",
          "dtype": "i1"
         },
         "y": {
          "bdata": "9/2uQzSGe0K+Lc9BBsqhQl8nzkLsd5pC",
          "dtype": "f4"
         }
        },
        {
         "line": {
          "color": "rgb(31, 119, 180)"
         },
         "opacity": 0.3,
         "type": "scatter",
         "x": {
          "bdata": "AAECAwQF",
          "dtype": "i1"
         },
         "y": {
          "bdata": "yCayRDyJekN1xt9CklyaQ9/w0UN3F6dD",
          "dtype": "f4"
         }
        },
        {
         "line": {
          "color": "rgb(31, 119, 180)"
         },
         "opacity": 0.3,
         "type": "scatter",
         "x": {
          "bdata": "AAECAwQF",
          "dtype": "i1"
         },
         "y": {
          "bdata": "KKD9RGfvwUPBdEZDaK7HQyrbBUQd8v1D",
          "dtype": "f4"
         }
        },
        {
         "line": {
          "color": "rgb(31, 119, 180)"
         },
         "opacity": 0.3,
         "type": "scatter",
         "x": {
          "bdata": "AAECAwQF",
          "dtype": "i1"
         },
         "y": {
          "bdata": "4QlNRSKGHETd4phDAJ0iRN9OW0QTRE1E",
          "dtype": "f4"
         }
        },
        {
         "line": {
          "color": "rgb(31, 119, 180)"
         },
         "opacity": 0.3,
         "type": "scatter",
         "x": {
          "bdata": "AAECAwQF",
          "dtype": "i1"
         },
         "y": {
          "bdata": "yCFVRLC8HENY96FCcuosQyBiZ0MxglJD",
          "dtype": "f4"
         }
        }
       ],
       "layout": {
        "legend": {
         "tracegroupgap": 0
        },
        "margin": {
         "t": 60
        },
        "showlegend": false,
        "template": {
         "data": {
          "bar": [
           {
            "error_x": {
             "color": "#2a3f5f"
            },
            "error_y": {
             "color": "#2a3f5f"
            },
            "marker": {
             "line": {
              "color": "white",
              "width": 0.5
             },
             "pattern": {
              "fillmode": "overlay",
              "size": 10,
              "solidity": 0.2
             }
            },
            "type": "bar"
           }
          ],
          "barpolar": [
           {
            "marker": {
             "line": {
              "color": "white",
              "width": 0.5
             },
             "pattern": {
              "fillmode": "overlay",
              "size": 10,
              "solidity": 0.2
             }
            },
            "type": "barpolar"
           }
          ],
          "carpet": [
           {
            "aaxis": {
             "endlinecolor": "#2a3f5f",
             "gridcolor": "#C8D4E3",
             "linecolor": "#C8D4E3",
             "minorgridcolor": "#C8D4E3",
             "startlinecolor": "#2a3f5f"
            },
            "baxis": {
             "endlinecolor": "#2a3f5f",
             "gridcolor": "#C8D4E3",
             "linecolor": "#C8D4E3",
             "minorgridcolor": "#C8D4E3",
             "startlinecolor": "#2a3f5f"
            },
            "type": "carpet"
           }
          ],
          "choropleth": [
           {
            "colorbar": {
             "outlinewidth": 0,
             "ticks": ""
            },
            "type": "choropleth"
           }
          ],
          "contour": [
           {
            "colorbar": {
             "outlinewidth": 0,
             "ticks": ""
            },
            "colorscale": [
             [
              0,
              "#0d0887"
             ],
             [
              0.1111111111111111,
              "#46039f"
             ],
             [
              0.2222222222222222,
              "#7201a8"
             ],
             [
              0.3333333333333333,
              "#9c179e"
             ],
             [
              0.4444444444444444,
              "#bd3786"
             ],
             [
              0.5555555555555556,
              "#d8576b"
             ],
             [
              0.6666666666666666,
              "#ed7953"
             ],
             [
              0.7777777777777778,
              "#fb9f3a"
             ],
             [
              0.8888888888888888,
              "#fdca26"
             ],
             [
              1,
              "#f0f921"
             ]
            ],
            "type": "contour"
           }
          ],
          "contourcarpet": [
           {
            "colorbar": {
             "outlinewidth": 0,
             "ticks": ""
            },
            "type": "contourcarpet"
           }
          ],
          "heatmap": [
           {
            "colorbar": {
             "outlinewidth": 0,
             "ticks": ""
            },
            "colorscale": [
             [
              0,
              "#0d0887"
             ],
             [
              0.1111111111111111,
              "#46039f"
             ],
             [
              0.2222222222222222,
              "#7201a8"
             ],
             [
              0.3333333333333333,
              "#9c179e"
             ],
             [
              0.4444444444444444,
              "#bd3786"
             ],
             [
              0.5555555555555556,
              "#d8576b"
             ],
             [
              0.6666666666666666,
              "#ed7953"
             ],
             [
              0.7777777777777778,
              "#fb9f3a"
             ],
             [
              0.8888888888888888,
              "#fdca26"
             ],
             [
              1,
              "#f0f921"
             ]
            ],
            "type": "heatmap"
           }
          ],
          "histogram": [
           {
            "marker": {
             "pattern": {
              "fillmode": "overlay",
              "size": 10,
              "solidity": 0.2
             }
            },
            "type": "histogram"
           }
          ],
          "histogram2d": [
           {
            "colorbar": {
             "outlinewidth": 0,
             "ticks": ""
            },
            "colorscale": [
             [
              0,
              "#0d0887"
             ],
             [
              0.1111111111111111,
              "#46039f"
             ],
             [
              0.2222222222222222,
              "#7201a8"
             ],
             [
              0.3333333333333333,
              "#9c179e"
             ],
             [
              0.4444444444444444,
              "#bd3786"
             ],
             [
              0.5555555555555556,
              "#d8576b"
             ],
             [
              0.6666666666666666,
              "#ed7953"
             ],
             [
              0.7777777777777778,
              "#fb9f3a"
             ],
             [
              0.8888888888888888,
              "#fdca26"
             ],
             [
              1,
              "#f0f921"
             ]
            ],
            "type": "histogram2d"
           }
          ],
          "histogram2dcontour": [
           {
            "colorbar": {
             "outlinewidth": 0,
             "ticks": ""
            },
            "colorscale": [
             [
              0,
              "#0d0887"
             ],
             [
              0.1111111111111111,
              "#46039f"
             ],
             [
              0.2222222222222222,
              "#7201a8"
             ],
             [
              0.3333333333333333,
              "#9c179e"
             ],
             [
              0.4444444444444444,
              "#bd3786"
             ],
             [
              0.5555555555555556,
              "#d8576b"
             ],
             [
              0.6666666666666666,
              "#ed7953"
             ],
             [
              0.7777777777777778,
              "#fb9f3a"
             ],
             [
              0.8888888888888888,
              "#fdca26"
             ],
             [
              1,
              "#f0f921"
             ]
            ],
            "type": "histogram2dcontour"
           }
          ],
          "mesh3d": [
           {
            "colorbar": {
             "outlinewidth": 0,
             "ticks": ""
            },
            "type": "mesh3d"
           }
          ],
          "parcoords": [
           {
            "line": {
             "colorbar": {
              "outlinewidth": 0,
              "ticks": ""
             }
            },
            "type": "parcoords"
           }
          ],
          "pie": [
           {
            "automargin": true,
            "type": "pie"
           }
          ],
          "scatter": [
           {
            "fillpattern": {
             "fillmode": "overlay",
             "size": 10,
             "solidity": 0.2
            },
            "type": "scatter"
           }
          ],
          "scatter3d": [
           {
            "line": {
             "colorbar": {
              "outlinewidth": 0,
              "ticks": ""
             }
            },
            "marker": {
             "colorbar": {
              "outlinewidth": 0,
              "ticks": ""
             }
            },
            "type": "scatter3d"
           }
          ],
          "scattercarpet": [
           {
            "marker": {
             "colorbar": {
              "outlinewidth": 0,
              "ticks": ""
             }
            },
            "type": "scattercarpet"
           }
          ],
          "scattergeo": [
           {
            "marker": {
             "colorbar": {
              "outlinewidth": 0,
              "ticks": ""
             }
            },
            "type": "scattergeo"
           }
          ],
          "scattergl": [
           {
            "marker": {
             "colorbar": {
              "outlinewidth": 0,
              "ticks": ""
             }
            },
            "type": "scattergl"
           }
          ],
          "scattermap": [
           {
            "marker": {
             "colorbar": {
              "outlinewidth": 0,
              "ticks": ""
             }
            },
            "type": "scattermap"
           }
          ],
          "scattermapbox": [
           {
            "marker": {
             "colorbar": {
              "outlinewidth": 0,
              "ticks": ""
             }
            },
            "type": "scattermapbox"
           }
          ],
          "scatterpolar": [
           {
            "marker": {
             "colorbar": {
              "outlinewidth": 0,
              "ticks": ""
             }
            },
            "type": "scatterpolar"
           }
          ],
          "scatterpolargl": [
           {
            "marker": {
             "colorbar": {
              "outlinewidth": 0,
              "ticks": ""
             }
            },
            "type": "scatterpolargl"
           }
          ],
          "scatterternary": [
           {
            "marker": {
             "colorbar": {
              "outlinewidth": 0,
              "ticks": ""
             }
            },
            "type": "scatterternary"
           }
          ],
          "surface": [
           {
            "colorbar": {
             "outlinewidth": 0,
             "ticks": ""
            },
            "colorscale": [
             [
              0,
              "#0d0887"
             ],
             [
              0.1111111111111111,
              "#46039f"
             ],
             [
              0.2222222222222222,
              "#7201a8"
             ],
             [
              0.3333333333333333,
              "#9c179e"
             ],
             [
              0.4444444444444444,
              "#bd3786"
             ],
             [
              0.5555555555555556,
              "#d8576b"
             ],
             [
              0.6666666666666666,
              "#ed7953"
             ],
             [
              0.7777777777777778,
              "#fb9f3a"
             ],
             [
              0.8888888888888888,
              "#fdca26"
             ],
             [
              1,
              "#f0f921"
             ]
            ],
            "type": "surface"
           }
          ],
          "table": [
           {
            "cells": {
             "fill": {
              "color": "#EBF0F8"
             },
             "line": {
              "color": "white"
             }
            },
            "header": {
             "fill": {
              "color": "#C8D4E3"
             },
             "line": {
              "color": "white"
             }
            },
            "type": "table"
           }
          ]
         },
         "layout": {
          "annotationdefaults": {
           "arrowcolor": "#2a3f5f",
           "arrowhead": 0,
           "arrowwidth": 1
          },
          "autotypenumbers": "strict",
          "coloraxis": {
           "colorbar": {
            "outlinewidth": 0,
            "ticks": ""
           }
          },
          "colorscale": {
           "diverging": [
            [
             0,
             "#8e0152"
            ],
            [
             0.1,
             "#c51b7d"
            ],
            [
             0.2,
             "#de77ae"
            ],
            [
             0.3,
             "#f1b6da"
            ],
            [
             0.4,
             "#fde0ef"
            ],
            [
             0.5,
             "#f7f7f7"
            ],
            [
             0.6,
             "#e6f5d0"
            ],
            [
             0.7,
             "#b8e186"
            ],
            [
             0.8,
             "#7fbc41"
            ],
            [
             0.9,
             "#4d9221"
            ],
            [
             1,
             "#276419"
            ]
           ],
           "sequential": [
            [
             0,
             "#0d0887"
            ],
            [
             0.1111111111111111,
             "#46039f"
            ],
            [
             0.2222222222222222,
             "#7201a8"
            ],
            [
             0.3333333333333333,
             "#9c179e"
            ],
            [
             0.4444444444444444,
             "#bd3786"
            ],
            [
             0.5555555555555556,
             "#d8576b"
            ],
            [
             0.6666666666666666,
             "#ed7953"
            ],
            [
             0.7777777777777778,
             "#fb9f3a"
            ],
            [
             0.8888888888888888,
             "#fdca26"
            ],
            [
             1,
             "#f0f921"
            ]
           ],
           "sequentialminus": [
            [
             0,
             "#0d0887"
            ],
            [
             0.1111111111111111,
             "#46039f"
            ],
            [
             0.2222222222222222,
             "#7201a8"
            ],
            [
             0.3333333333333333,
             "#9c179e"
            ],
            [
             0.4444444444444444,
             "#bd3786"
            ],
            [
             0.5555555555555556,
             "#d8576b"
            ],
            [
             0.6666666666666666,
             "#ed7953"
            ],
            [
             0.7777777777777778,
             "#fb9f3a"
            ],
            [
             0.8888888888888888,
             "#fdca26"
            ],
            [
             1,
             "#f0f921"
            ]
           ]
          },
          "colorway": [
           "#636efa",
           "#EF553B",
           "#00cc96",
           "#ab63fa",
           "#FFA15A",
           "#19d3f3",
           "#FF6692",
           "#B6E880",
           "#FF97FF",
           "#FECB52"
          ],
          "font": {
           "color": "#2a3f5f"
          },
          "geo": {
           "bgcolor": "white",
           "lakecolor": "white",
           "landcolor": "white",
           "showlakes": true,
           "showland": true,
           "subunitcolor": "#C8D4E3"
          },
          "hoverlabel": {
           "align": "left"
          },
          "hovermode": "closest",
          "mapbox": {
           "style": "light"
          },
          "paper_bgcolor": "white",
          "plot_bgcolor": "white",
          "polar": {
           "angularaxis": {
            "gridcolor": "#EBF0F8",
            "linecolor": "#EBF0F8",
            "ticks": ""
           },
           "bgcolor": "white",
           "radialaxis": {
            "gridcolor": "#EBF0F8",
            "linecolor": "#EBF0F8",
            "ticks": ""
           }
          },
          "scene": {
           "xaxis": {
            "backgroundcolor": "white",
            "gridcolor": "#DFE8F3",
            "gridwidth": 2,
            "linecolor": "#EBF0F8",
            "showbackground": true,
            "ticks": "",
            "zerolinecolor": "#EBF0F8"
           },
           "yaxis": {
            "backgroundcolor": "white",
            "gridcolor": "#DFE8F3",
            "gridwidth": 2,
            "linecolor": "#EBF0F8",
            "showbackground": true,
            "ticks": "",
            "zerolinecolor": "#EBF0F8"
           },
           "zaxis": {
            "backgroundcolor": "white",
            "gridcolor": "#DFE8F3",
            "gridwidth": 2,
            "linecolor": "#EBF0F8",
            "showbackground": true,
            "ticks": "",
            "zerolinecolor": "#EBF0F8"
           }
          },
          "shapedefaults": {
           "line": {
            "color": "#2a3f5f"
           }
          },
          "ternary": {
           "aaxis": {
            "gridcolor": "#DFE8F3",
            "linecolor": "#A2B1C6",
            "ticks": ""
           },
           "baxis": {
            "gridcolor": "#DFE8F3",
            "linecolor": "#A2B1C6",
            "ticks": ""
           },
           "bgcolor": "white",
           "caxis": {
            "gridcolor": "#DFE8F3",
            "linecolor": "#A2B1C6",
            "ticks": ""
           }
          },
          "title": {
           "x": 0.05
          },
          "xaxis": {
           "automargin": true,
           "gridcolor": "#EBF0F8",
           "linecolor": "#EBF0F8",
           "ticks": "",
           "title": {
            "standoff": 15
           },
           "zerolinecolor": "#EBF0F8",
           "zerolinewidth": 2
          },
          "yaxis": {
           "automargin": true,
           "gridcolor": "#EBF0F8",
           "linecolor": "#EBF0F8",
           "ticks": "",
           "title": {
            "standoff": 15
           },
           "zerolinecolor": "#EBF0F8",
           "zerolinewidth": 2
          }
         }
        },
        "xaxis": {
         "anchor": "y",
         "domain": [
          0,
          1
         ],
         "title": {
          "text": "region"
         }
        },
        "yaxis": {
         "anchor": "x",
         "domain": [
          0,
          1
         ],
         "title": {
          "text": "num cases"
         }
        }
       }
      }
     },
     "metadata": {},
     "output_type": "display_data"
    }
   ],
   "source": [
    "# Create predictive function for GP\n",
    "from numpyro.infer import Predictive\n",
    "# Draw samples from the prior\n",
    "prior_samples = Predictive(gp_aggr, num_samples=5)(\n",
    "    PRNGKey(6), \n",
    "    config=args\n",
    ")\n",
    "\n",
    "# transform prior samples to arviz inference object\n",
    "prior_samples_arviz = az.from_numpyro(prior=prior_samples)\n",
    "\n",
    "plot_process(prior_samples_arviz.prior.gp_aggr.values)"
   ]
  },
  {
   "cell_type": "markdown",
   "metadata": {},
   "source": [
    "## 4. Train VAE"
   ]
  },
  {
   "cell_type": "code",
   "execution_count": 182,
   "metadata": {},
   "outputs": [],
   "source": [
    "# Initialize SVI\n",
    "optimizer = numpyro.optim.Adam(step_size=1e-3)\n",
    "agg_gp_predictive = Predictive(gp_aggr,num_samples = 5)\n",
    "@jax.jit\n",
    "def epoch_train(rng_key, svi_state, num_train):\n",
    "    def body_fn(i, val):\n",
    "        rng_key_i = jax.random.fold_in(rng_key, i) #Array(2,)\n",
    "        rng_key_i, rng_key_ls, rng_key_var, rng_key_noise = jax.random.split(rng_key_i, 4) #Tuple(Array(2,) x 4)\n",
    "        loss_sum, svi_state = val #val --svi_state\n",
    "        \n",
    "        batch = agg_gp_predictive(rng_key_i, args)[\"gp_aggr\"] #(5,116) <- num_samples : 5, total_districts : 116\n",
    "        #* svi is where the vae_model & vae_guide gets applied\n",
    "        svi_state, loss = svi.update(svi_state, batch)\n",
    "        loss_sum += loss / args[\"batch_size\"]\n",
    "        return loss_sum, svi_state \n",
    "    \n",
    "    return lax.fori_loop(lower = 0, upper = num_train, body_fun=body_fn, init_val=(0.0, svi_state))\n",
    "\n",
    "@jax.jit \n",
    "def eval_test(rng_key, svi_state, num_test):\n",
    "    def body_fn(i, loss_sum):\n",
    "        rng_key_i = jax.random.fold_in(rng_key, i)\n",
    "        rng_key_i, rng_key_ls, rng_key_varm, rng_key_noise = jax.random.split(rng_key_i, 4)\n",
    "        batch = agg_gp_predictive(rng_key_i, args)[\"gp_aggr\"]\n",
    "        #* svi is where the vae_model & vae_guide gets applied\n",
    "        loss = svi.evaluate(svi_state, batch) / args[\"batch_size\"]\n",
    "        loss_sum += loss\n",
    "        return loss_sum \n",
    "    \n",
    "    loss = lax.fori_loop(lower = 0, upper = num_test,body_fun =  body_fn, init_val = 0.0)\n",
    "    loss = loss / num_test \n",
    "    return loss"
   ]
  },
  {
   "cell_type": "code",
   "execution_count": 183,
   "metadata": {},
   "outputs": [
    {
     "name": "stdout",
     "output_type": "stream",
     "text": [
      "Epoch : 0, train loss : 1249236221952.00, test loss : 72278096.00 (20.70 s.)\n",
      "Epoch : 1, train loss : 42584915968.00, test loss : 34511308.00 (0.00 s.)\n",
      "Epoch : 2, train loss : 29207826432.00, test loss : 21461976.00 (0.00 s.)\n",
      "Epoch : 3, train loss : 11207560192.00, test loss : 2931390.75 (0.00 s.)\n",
      "Epoch : 4, train loss : 1447229568.00, test loss : 652208.38 (0.00 s.)\n",
      "Epoch : 5, train loss : 642996544.00, test loss : 687207.31 (0.00 s.)\n",
      "Epoch : 6, train loss : 648277120.00, test loss : 629557.06 (0.00 s.)\n",
      "Epoch : 7, train loss : 550229696.00, test loss : 524433.38 (0.00 s.)\n",
      "Epoch : 8, train loss : 578223872.00, test loss : 537315.38 (0.00 s.)\n",
      "Epoch : 9, train loss : 543426560.00, test loss : 521993.31 (0.00 s.)\n",
      "Epoch : 10, train loss : 570854144.00, test loss : 594853.88 (0.00 s.)\n",
      "Epoch : 11, train loss : 566824640.00, test loss : 538900.69 (0.00 s.)\n",
      "Epoch : 12, train loss : 545487744.00, test loss : 527687.50 (0.00 s.)\n",
      "Epoch : 13, train loss : 583063552.00, test loss : 578579.19 (0.00 s.)\n",
      "Epoch : 14, train loss : 573298368.00, test loss : 989426.38 (0.00 s.)\n"
     ]
    }
   ],
   "source": [
    "#-------------------------- Train VAE -------------------------- #\n",
    "run = True\n",
    "if run:\n",
    "    adam = numpyro.optim.Adam(step_size = args[\"learning_rate\"])\n",
    "    svi = SVI(\n",
    "        model=lambda batch: vae_model(batch, args[\"hidden_dim\"], args[\"z_dim\"], args[\"vae_var\"]),\n",
    "        guide=lambda batch: vae_guide(batch, args[\"hidden_dim\"], args[\"z_dim\"]),\n",
    "        optim=adam, \n",
    "        loss=RenyiELBO(),\n",
    "    )\n",
    "    rng_key, rng_key_samp, rng_key_init = random.split(args[\"rng_key\"],3)\n",
    "    #(num_samples, num_regions) \n",
    "    init_batch = agg_gp_predictive(rng_key_samp, args)[\"gp_aggr\"] #(num_samples, num_regions) <- i.e (5,58)\n",
    "    svi_state = svi.init(rng_key_init, init_batch)\n",
    "\n",
    "    test_loss_list = []\n",
    "\n",
    "    for i in range(args[\"num_epochs\"]):\n",
    "        rng_key, rng_key_train, rng_key_test, rng_key_infer = random.split(rng_key, 4)\n",
    "        t_start = time.time()\n",
    "        num_train = 1000\n",
    "        # Where forward/backward pass gets called for train\n",
    "        train_loss , svi_state = epoch_train(rng_key_train, svi_state, num_train)\n",
    "        num_test = 1000\n",
    "        # Where forward/backward pass gets called for test\n",
    "        test_loss = eval_test(rng_key_test, svi_state, num_test)\n",
    "        test_loss_list += [test_loss]\n",
    "\n",
    "        print(\"Epoch : {}, train loss : {:.2f}, test loss : {:.2f} ({:.2f} s.)\".format(i, train_loss, test_loss, time.time() - t_start))\n",
    "        if np.isnan(test_loss):\n",
    "            break "
   ]
  },
  {
   "cell_type": "code",
   "execution_count": 187,
   "metadata": {},
   "outputs": [],
   "source": [
    "vae_params = svi.get_params(svi_state)"
   ]
  },
  {
   "cell_type": "code",
   "execution_count": 188,
   "metadata": {},
   "outputs": [],
   "source": [
    "#save the params\n",
    "# Get script directory\n",
    "script_dir = os.getcwd()  # Get current working directory\n",
    "\n",
    "# Define the correct save path inside model_weights/\n",
    "save_dir = os.path.abspath(os.path.join(script_dir, \"..\", \"model weights\", \"aggVAE\"))\n",
    "os.makedirs(save_dir, exist_ok=True)  # Ensure the directory exists\n",
    "\n",
    "# Save decoder parameters\n",
    "save_path = os.path.join(save_dir, f\"aggVAE_e{args['num_epochs']}_h{args['hidden_dim']}_z{args['z_dim']}\")"
   ]
  },
  {
   "cell_type": "markdown",
   "metadata": {},
   "source": [
    "## Run MCMC using trained VAE encoder"
   ]
  },
  {
   "cell_type": "code",
   "execution_count": 186,
   "metadata": {},
   "outputs": [
    {
     "ename": "FileNotFoundError",
     "evalue": "[Errno 2] No such file or directory: '../model weights/aggVAE/aggVAE_e15_h50_z40'",
     "output_type": "error",
     "traceback": [
      "\u001b[1;31m---------------------------------------------------------------------------\u001b[0m",
      "\u001b[1;31mFileNotFoundError\u001b[0m                         Traceback (most recent call last)",
      "Cell \u001b[1;32mIn[186], line 2\u001b[0m\n\u001b[0;32m      1\u001b[0m \u001b[38;5;66;03m#open saved encoder\u001b[39;00m\n\u001b[1;32m----> 2\u001b[0m \u001b[38;5;28;01mwith\u001b[39;00m \u001b[38;5;28;43mopen\u001b[39;49m\u001b[43m(\u001b[49m\u001b[38;5;124;43m\"\u001b[39;49m\u001b[38;5;124;43m../model weights/aggVAE/aggVAE_e15_h50_z40\u001b[39;49m\u001b[38;5;124;43m\"\u001b[39;49m\u001b[43m,\u001b[49m\u001b[43m \u001b[49m\u001b[38;5;124;43m\"\u001b[39;49m\u001b[38;5;124;43mrb\u001b[39;49m\u001b[38;5;124;43m\"\u001b[39;49m\u001b[43m)\u001b[49m \u001b[38;5;28;01mas\u001b[39;00m file:\n\u001b[0;32m      3\u001b[0m     vae_params \u001b[38;5;241m=\u001b[39m pickle\u001b[38;5;241m.\u001b[39mload(file)\n\u001b[0;32m      5\u001b[0m encoder_params \u001b[38;5;241m=\u001b[39m vae_params[\u001b[38;5;124m\"\u001b[39m\u001b[38;5;124mencoder$params\u001b[39m\u001b[38;5;124m\"\u001b[39m]\n",
      "File \u001b[1;32m~\\AppData\\Roaming\\Python\\Python313\\site-packages\\IPython\\core\\interactiveshell.py:324\u001b[0m, in \u001b[0;36m_modified_open\u001b[1;34m(file, *args, **kwargs)\u001b[0m\n\u001b[0;32m    317\u001b[0m \u001b[38;5;28;01mif\u001b[39;00m file \u001b[38;5;129;01min\u001b[39;00m {\u001b[38;5;241m0\u001b[39m, \u001b[38;5;241m1\u001b[39m, \u001b[38;5;241m2\u001b[39m}:\n\u001b[0;32m    318\u001b[0m     \u001b[38;5;28;01mraise\u001b[39;00m \u001b[38;5;167;01mValueError\u001b[39;00m(\n\u001b[0;32m    319\u001b[0m         \u001b[38;5;124mf\u001b[39m\u001b[38;5;124m\"\u001b[39m\u001b[38;5;124mIPython won\u001b[39m\u001b[38;5;124m'\u001b[39m\u001b[38;5;124mt let you open fd=\u001b[39m\u001b[38;5;132;01m{\u001b[39;00mfile\u001b[38;5;132;01m}\u001b[39;00m\u001b[38;5;124m by default \u001b[39m\u001b[38;5;124m\"\u001b[39m\n\u001b[0;32m    320\u001b[0m         \u001b[38;5;124m\"\u001b[39m\u001b[38;5;124mas it is likely to crash IPython. If you know what you are doing, \u001b[39m\u001b[38;5;124m\"\u001b[39m\n\u001b[0;32m    321\u001b[0m         \u001b[38;5;124m\"\u001b[39m\u001b[38;5;124myou can use builtins\u001b[39m\u001b[38;5;124m'\u001b[39m\u001b[38;5;124m open.\u001b[39m\u001b[38;5;124m\"\u001b[39m\n\u001b[0;32m    322\u001b[0m     )\n\u001b[1;32m--> 324\u001b[0m \u001b[38;5;28;01mreturn\u001b[39;00m \u001b[43mio_open\u001b[49m\u001b[43m(\u001b[49m\u001b[43mfile\u001b[49m\u001b[43m,\u001b[49m\u001b[43m \u001b[49m\u001b[38;5;241;43m*\u001b[39;49m\u001b[43margs\u001b[49m\u001b[43m,\u001b[49m\u001b[43m \u001b[49m\u001b[38;5;241;43m*\u001b[39;49m\u001b[38;5;241;43m*\u001b[39;49m\u001b[43mkwargs\u001b[49m\u001b[43m)\u001b[49m\n",
      "\u001b[1;31mFileNotFoundError\u001b[0m: [Errno 2] No such file or directory: '../model weights/aggVAE/aggVAE_e15_h50_z40'"
     ]
    }
   ],
   "source": [
    "#open saved encoder\n",
    "with open(\"../model weights/aggVAE/aggVAE_e15_h50_z40\", \"rb\") as file:\n",
    "    vae_params = pickle.load(file)\n",
    "\n",
    "encoder_params = vae_params[\"encoder$params\"]\n",
    "decoder_params = vae_params[\"decoder$params\"]"
   ]
  },
  {
   "cell_type": "code",
   "execution_count": null,
   "metadata": {},
   "outputs": [],
   "source": [
    "encoder_params = vae_params[\"encoder$params\"]\n",
    "decoder_params = vae_params[\"decoder$params\"]\n",
    "# save decoder params inside args\n",
    "args[\"decoder_params\"] = decoder_params"
   ]
  },
  {
   "cell_type": "code",
   "execution_count": null,
   "metadata": {},
   "outputs": [],
   "source": [
    "N = 6\n",
    "\n",
    "def vae_sample(args):\n",
    "    dec_params = args[\"decoder_params\"]\n",
    "    z_dim, h_dim = dec_params[0][0].shape \n",
    "    z = numpyro.sample(\"z\", dist.Normal(jnp.zeros(z_dim), jnp.ones(z_dim)))\n",
    "    dec_init_fn, dec_apply_fn = vae_decoder(h_dim, N)\n",
    "    x_recon = dec_apply_fn(dec_params, z)\n",
    "    vae_aggr = numpyro.deterministic(\"vae_aggr\", x_recon)\n",
    "    return vae_aggr\n",
    "\n",
    "rng_key, rng_key_predict = random.split(random.PRNGKey(3))\n",
    "vae_predictive = Predictive(vae_sample, num_samples = 5)\n",
    "vae_draws = vae_predictive(rng_key_predict, args)[\"vae_aggr\"] "
   ]
  },
  {
   "cell_type": "code",
   "execution_count": null,
   "metadata": {},
   "outputs": [
    {
     "data": {
      "application/vnd.plotly.v1+json": {
       "config": {
        "plotlyServerURL": "https://plot.ly"
       },
       "data": [
        {
         "hovertemplate": "<extra></extra>",
         "legendgroup": "",
         "line": {
          "color": "#636efa",
          "dash": "solid"
         },
         "marker": {
          "symbol": "circle"
         },
         "mode": "lines",
         "name": "",
         "orientation": "v",
         "showlegend": false,
         "type": "scatter",
         "xaxis": "x",
         "yaxis": "y"
        },
        {
         "line": {
          "color": "rgb(31, 119, 180)"
         },
         "opacity": 0.3,
         "type": "scatter",
         "x": {
          "bdata": "AAECAwQF",
          "dtype": "i1"
         },
         "y": {
          "bdata": "AADA/wAAwP8AAMD/AADA/wAAwP8AAMD/",
          "dtype": "f4"
         }
        },
        {
         "line": {
          "color": "rgb(31, 119, 180)"
         },
         "opacity": 0.3,
         "type": "scatter",
         "x": {
          "bdata": "AAECAwQF",
          "dtype": "i1"
         },
         "y": {
          "bdata": "AADA/wAAwP8AAMD/AADA/wAAwP8AAMD/",
          "dtype": "f4"
         }
        },
        {
         "line": {
          "color": "rgb(31, 119, 180)"
         },
         "opacity": 0.3,
         "type": "scatter",
         "x": {
          "bdata": "AAECAwQF",
          "dtype": "i1"
         },
         "y": {
          "bdata": "AADA/wAAwP8AAMD/AADA/wAAwP8AAMD/",
          "dtype": "f4"
         }
        },
        {
         "line": {
          "color": "rgb(31, 119, 180)"
         },
         "opacity": 0.3,
         "type": "scatter",
         "x": {
          "bdata": "AAECAwQF",
          "dtype": "i1"
         },
         "y": {
          "bdata": "AADA/wAAwP8AAMD/AADA/wAAwP8AAMD/",
          "dtype": "f4"
         }
        },
        {
         "line": {
          "color": "rgb(31, 119, 180)"
         },
         "opacity": 0.3,
         "type": "scatter",
         "x": {
          "bdata": "AAECAwQF",
          "dtype": "i1"
         },
         "y": {
          "bdata": "AADA/wAAwP8AAMD/AADA/wAAwP8AAMD/",
          "dtype": "f4"
         }
        }
       ],
       "layout": {
        "legend": {
         "tracegroupgap": 0
        },
        "margin": {
         "t": 60
        },
        "showlegend": false,
        "template": {
         "data": {
          "bar": [
           {
            "error_x": {
             "color": "#2a3f5f"
            },
            "error_y": {
             "color": "#2a3f5f"
            },
            "marker": {
             "line": {
              "color": "white",
              "width": 0.5
             },
             "pattern": {
              "fillmode": "overlay",
              "size": 10,
              "solidity": 0.2
             }
            },
            "type": "bar"
           }
          ],
          "barpolar": [
           {
            "marker": {
             "line": {
              "color": "white",
              "width": 0.5
             },
             "pattern": {
              "fillmode": "overlay",
              "size": 10,
              "solidity": 0.2
             }
            },
            "type": "barpolar"
           }
          ],
          "carpet": [
           {
            "aaxis": {
             "endlinecolor": "#2a3f5f",
             "gridcolor": "#C8D4E3",
             "linecolor": "#C8D4E3",
             "minorgridcolor": "#C8D4E3",
             "startlinecolor": "#2a3f5f"
            },
            "baxis": {
             "endlinecolor": "#2a3f5f",
             "gridcolor": "#C8D4E3",
             "linecolor": "#C8D4E3",
             "minorgridcolor": "#C8D4E3",
             "startlinecolor": "#2a3f5f"
            },
            "type": "carpet"
           }
          ],
          "choropleth": [
           {
            "colorbar": {
             "outlinewidth": 0,
             "ticks": ""
            },
            "type": "choropleth"
           }
          ],
          "contour": [
           {
            "colorbar": {
             "outlinewidth": 0,
             "ticks": ""
            },
            "colorscale": [
             [
              0,
              "#0d0887"
             ],
             [
              0.1111111111111111,
              "#46039f"
             ],
             [
              0.2222222222222222,
              "#7201a8"
             ],
             [
              0.3333333333333333,
              "#9c179e"
             ],
             [
              0.4444444444444444,
              "#bd3786"
             ],
             [
              0.5555555555555556,
              "#d8576b"
             ],
             [
              0.6666666666666666,
              "#ed7953"
             ],
             [
              0.7777777777777778,
              "#fb9f3a"
             ],
             [
              0.8888888888888888,
              "#fdca26"
             ],
             [
              1,
              "#f0f921"
             ]
            ],
            "type": "contour"
           }
          ],
          "contourcarpet": [
           {
            "colorbar": {
             "outlinewidth": 0,
             "ticks": ""
            },
            "type": "contourcarpet"
           }
          ],
          "heatmap": [
           {
            "colorbar": {
             "outlinewidth": 0,
             "ticks": ""
            },
            "colorscale": [
             [
              0,
              "#0d0887"
             ],
             [
              0.1111111111111111,
              "#46039f"
             ],
             [
              0.2222222222222222,
              "#7201a8"
             ],
             [
              0.3333333333333333,
              "#9c179e"
             ],
             [
              0.4444444444444444,
              "#bd3786"
             ],
             [
              0.5555555555555556,
              "#d8576b"
             ],
             [
              0.6666666666666666,
              "#ed7953"
             ],
             [
              0.7777777777777778,
              "#fb9f3a"
             ],
             [
              0.8888888888888888,
              "#fdca26"
             ],
             [
              1,
              "#f0f921"
             ]
            ],
            "type": "heatmap"
           }
          ],
          "histogram": [
           {
            "marker": {
             "pattern": {
              "fillmode": "overlay",
              "size": 10,
              "solidity": 0.2
             }
            },
            "type": "histogram"
           }
          ],
          "histogram2d": [
           {
            "colorbar": {
             "outlinewidth": 0,
             "ticks": ""
            },
            "colorscale": [
             [
              0,
              "#0d0887"
             ],
             [
              0.1111111111111111,
              "#46039f"
             ],
             [
              0.2222222222222222,
              "#7201a8"
             ],
             [
              0.3333333333333333,
              "#9c179e"
             ],
             [
              0.4444444444444444,
              "#bd3786"
             ],
             [
              0.5555555555555556,
              "#d8576b"
             ],
             [
              0.6666666666666666,
              "#ed7953"
             ],
             [
              0.7777777777777778,
              "#fb9f3a"
             ],
             [
              0.8888888888888888,
              "#fdca26"
             ],
             [
              1,
              "#f0f921"
             ]
            ],
            "type": "histogram2d"
           }
          ],
          "histogram2dcontour": [
           {
            "colorbar": {
             "outlinewidth": 0,
             "ticks": ""
            },
            "colorscale": [
             [
              0,
              "#0d0887"
             ],
             [
              0.1111111111111111,
              "#46039f"
             ],
             [
              0.2222222222222222,
              "#7201a8"
             ],
             [
              0.3333333333333333,
              "#9c179e"
             ],
             [
              0.4444444444444444,
              "#bd3786"
             ],
             [
              0.5555555555555556,
              "#d8576b"
             ],
             [
              0.6666666666666666,
              "#ed7953"
             ],
             [
              0.7777777777777778,
              "#fb9f3a"
             ],
             [
              0.8888888888888888,
              "#fdca26"
             ],
             [
              1,
              "#f0f921"
             ]
            ],
            "type": "histogram2dcontour"
           }
          ],
          "mesh3d": [
           {
            "colorbar": {
             "outlinewidth": 0,
             "ticks": ""
            },
            "type": "mesh3d"
           }
          ],
          "parcoords": [
           {
            "line": {
             "colorbar": {
              "outlinewidth": 0,
              "ticks": ""
             }
            },
            "type": "parcoords"
           }
          ],
          "pie": [
           {
            "automargin": true,
            "type": "pie"
           }
          ],
          "scatter": [
           {
            "fillpattern": {
             "fillmode": "overlay",
             "size": 10,
             "solidity": 0.2
            },
            "type": "scatter"
           }
          ],
          "scatter3d": [
           {
            "line": {
             "colorbar": {
              "outlinewidth": 0,
              "ticks": ""
             }
            },
            "marker": {
             "colorbar": {
              "outlinewidth": 0,
              "ticks": ""
             }
            },
            "type": "scatter3d"
           }
          ],
          "scattercarpet": [
           {
            "marker": {
             "colorbar": {
              "outlinewidth": 0,
              "ticks": ""
             }
            },
            "type": "scattercarpet"
           }
          ],
          "scattergeo": [
           {
            "marker": {
             "colorbar": {
              "outlinewidth": 0,
              "ticks": ""
             }
            },
            "type": "scattergeo"
           }
          ],
          "scattergl": [
           {
            "marker": {
             "colorbar": {
              "outlinewidth": 0,
              "ticks": ""
             }
            },
            "type": "scattergl"
           }
          ],
          "scattermap": [
           {
            "marker": {
             "colorbar": {
              "outlinewidth": 0,
              "ticks": ""
             }
            },
            "type": "scattermap"
           }
          ],
          "scattermapbox": [
           {
            "marker": {
             "colorbar": {
              "outlinewidth": 0,
              "ticks": ""
             }
            },
            "type": "scattermapbox"
           }
          ],
          "scatterpolar": [
           {
            "marker": {
             "colorbar": {
              "outlinewidth": 0,
              "ticks": ""
             }
            },
            "type": "scatterpolar"
           }
          ],
          "scatterpolargl": [
           {
            "marker": {
             "colorbar": {
              "outlinewidth": 0,
              "ticks": ""
             }
            },
            "type": "scatterpolargl"
           }
          ],
          "scatterternary": [
           {
            "marker": {
             "colorbar": {
              "outlinewidth": 0,
              "ticks": ""
             }
            },
            "type": "scatterternary"
           }
          ],
          "surface": [
           {
            "colorbar": {
             "outlinewidth": 0,
             "ticks": ""
            },
            "colorscale": [
             [
              0,
              "#0d0887"
             ],
             [
              0.1111111111111111,
              "#46039f"
             ],
             [
              0.2222222222222222,
              "#7201a8"
             ],
             [
              0.3333333333333333,
              "#9c179e"
             ],
             [
              0.4444444444444444,
              "#bd3786"
             ],
             [
              0.5555555555555556,
              "#d8576b"
             ],
             [
              0.6666666666666666,
              "#ed7953"
             ],
             [
              0.7777777777777778,
              "#fb9f3a"
             ],
             [
              0.8888888888888888,
              "#fdca26"
             ],
             [
              1,
              "#f0f921"
             ]
            ],
            "type": "surface"
           }
          ],
          "table": [
           {
            "cells": {
             "fill": {
              "color": "#EBF0F8"
             },
             "line": {
              "color": "white"
             }
            },
            "header": {
             "fill": {
              "color": "#C8D4E3"
             },
             "line": {
              "color": "white"
             }
            },
            "type": "table"
           }
          ]
         },
         "layout": {
          "annotationdefaults": {
           "arrowcolor": "#2a3f5f",
           "arrowhead": 0,
           "arrowwidth": 1
          },
          "autotypenumbers": "strict",
          "coloraxis": {
           "colorbar": {
            "outlinewidth": 0,
            "ticks": ""
           }
          },
          "colorscale": {
           "diverging": [
            [
             0,
             "#8e0152"
            ],
            [
             0.1,
             "#c51b7d"
            ],
            [
             0.2,
             "#de77ae"
            ],
            [
             0.3,
             "#f1b6da"
            ],
            [
             0.4,
             "#fde0ef"
            ],
            [
             0.5,
             "#f7f7f7"
            ],
            [
             0.6,
             "#e6f5d0"
            ],
            [
             0.7,
             "#b8e186"
            ],
            [
             0.8,
             "#7fbc41"
            ],
            [
             0.9,
             "#4d9221"
            ],
            [
             1,
             "#276419"
            ]
           ],
           "sequential": [
            [
             0,
             "#0d0887"
            ],
            [
             0.1111111111111111,
             "#46039f"
            ],
            [
             0.2222222222222222,
             "#7201a8"
            ],
            [
             0.3333333333333333,
             "#9c179e"
            ],
            [
             0.4444444444444444,
             "#bd3786"
            ],
            [
             0.5555555555555556,
             "#d8576b"
            ],
            [
             0.6666666666666666,
             "#ed7953"
            ],
            [
             0.7777777777777778,
             "#fb9f3a"
            ],
            [
             0.8888888888888888,
             "#fdca26"
            ],
            [
             1,
             "#f0f921"
            ]
           ],
           "sequentialminus": [
            [
             0,
             "#0d0887"
            ],
            [
             0.1111111111111111,
             "#46039f"
            ],
            [
             0.2222222222222222,
             "#7201a8"
            ],
            [
             0.3333333333333333,
             "#9c179e"
            ],
            [
             0.4444444444444444,
             "#bd3786"
            ],
            [
             0.5555555555555556,
             "#d8576b"
            ],
            [
             0.6666666666666666,
             "#ed7953"
            ],
            [
             0.7777777777777778,
             "#fb9f3a"
            ],
            [
             0.8888888888888888,
             "#fdca26"
            ],
            [
             1,
             "#f0f921"
            ]
           ]
          },
          "colorway": [
           "#636efa",
           "#EF553B",
           "#00cc96",
           "#ab63fa",
           "#FFA15A",
           "#19d3f3",
           "#FF6692",
           "#B6E880",
           "#FF97FF",
           "#FECB52"
          ],
          "font": {
           "color": "#2a3f5f"
          },
          "geo": {
           "bgcolor": "white",
           "lakecolor": "white",
           "landcolor": "white",
           "showlakes": true,
           "showland": true,
           "subunitcolor": "#C8D4E3"
          },
          "hoverlabel": {
           "align": "left"
          },
          "hovermode": "closest",
          "mapbox": {
           "style": "light"
          },
          "paper_bgcolor": "white",
          "plot_bgcolor": "white",
          "polar": {
           "angularaxis": {
            "gridcolor": "#EBF0F8",
            "linecolor": "#EBF0F8",
            "ticks": ""
           },
           "bgcolor": "white",
           "radialaxis": {
            "gridcolor": "#EBF0F8",
            "linecolor": "#EBF0F8",
            "ticks": ""
           }
          },
          "scene": {
           "xaxis": {
            "backgroundcolor": "white",
            "gridcolor": "#DFE8F3",
            "gridwidth": 2,
            "linecolor": "#EBF0F8",
            "showbackground": true,
            "ticks": "",
            "zerolinecolor": "#EBF0F8"
           },
           "yaxis": {
            "backgroundcolor": "white",
            "gridcolor": "#DFE8F3",
            "gridwidth": 2,
            "linecolor": "#EBF0F8",
            "showbackground": true,
            "ticks": "",
            "zerolinecolor": "#EBF0F8"
           },
           "zaxis": {
            "backgroundcolor": "white",
            "gridcolor": "#DFE8F3",
            "gridwidth": 2,
            "linecolor": "#EBF0F8",
            "showbackground": true,
            "ticks": "",
            "zerolinecolor": "#EBF0F8"
           }
          },
          "shapedefaults": {
           "line": {
            "color": "#2a3f5f"
           }
          },
          "ternary": {
           "aaxis": {
            "gridcolor": "#DFE8F3",
            "linecolor": "#A2B1C6",
            "ticks": ""
           },
           "baxis": {
            "gridcolor": "#DFE8F3",
            "linecolor": "#A2B1C6",
            "ticks": ""
           },
           "bgcolor": "white",
           "caxis": {
            "gridcolor": "#DFE8F3",
            "linecolor": "#A2B1C6",
            "ticks": ""
           }
          },
          "title": {
           "x": 0.05
          },
          "xaxis": {
           "automargin": true,
           "gridcolor": "#EBF0F8",
           "linecolor": "#EBF0F8",
           "ticks": "",
           "title": {
            "standoff": 15
           },
           "zerolinecolor": "#EBF0F8",
           "zerolinewidth": 2
          },
          "yaxis": {
           "automargin": true,
           "gridcolor": "#EBF0F8",
           "linecolor": "#EBF0F8",
           "ticks": "",
           "title": {
            "standoff": 15
           },
           "zerolinecolor": "#EBF0F8",
           "zerolinewidth": 2
          }
         }
        },
        "xaxis": {
         "anchor": "y",
         "domain": [
          0,
          1
         ],
         "title": {
          "text": "region"
         }
        },
        "yaxis": {
         "anchor": "x",
         "domain": [
          0,
          1
         ],
         "title": {
          "text": "num cases"
         }
        }
       }
      }
     },
     "metadata": {},
     "output_type": "display_data"
    }
   ],
   "source": [
    "plot_process(jnp.expand_dims(vae_draws, axis = 0))"
   ]
  },
  {
   "cell_type": "code",
   "execution_count": null,
   "metadata": {},
   "outputs": [],
   "source": [
    "# ------------------- Func for Agg VAE Prev ------------------- #\n",
    "def prev_model_vae_aggr(config=None):\n",
    "\n",
    "    if config is None:\n",
    "        config = {}\n",
    "        \n",
    "    # Set defaults\n",
    "    x = config.get('x', None)\n",
    "    gp_kernel = config.get('gp_kernel', exp_sq_kernel)\n",
    "    noise = config.get('noise', 1e-4)\n",
    "    jitter = config.get('jitter', 1e-4)\n",
    "    M_lo = config.get('M_lo', None)\n",
    "    M_hi = config.get('M_hi', None)\n",
    "    kernel_length_prior = config.get('kernel_length', dist.InverseGamma(4, 1))\n",
    "    kernel_var_prior = config.get('kernel_var', dist.LogNormal(0, 0.1))\n",
    "    pop_density = config.get('pop_density', None)\n",
    "    urban_frac = config.get('urban_frac', None)\n",
    "    hdi_index = config.get('hdi_index', None)\n",
    "    count = config.get(\"count\", None)\n",
    "\n",
    "     # Total cases: pass in low prev counts, mask high prev ones as NaN\n",
    "    count_mask = ~jnp.isnan(count)\n",
    "\n",
    "    total_population = config.get('total_population', None)\n",
    "    is_prior_pred = config.get('prior_pred', False)\n",
    "    out_dims = config.get('out_dims', 6)\n",
    "    # GP\n",
    "    config_gp = config.copy()\n",
    "    config_gp['x'] = x\n",
    "    config_gp['gp_kernel'] = gp_kernel\n",
    "    config_gp['noise'] = noise\n",
    "    config_gp['jitter'] = jitter\n",
    "    config_gp['M_lo'] = M_lo\n",
    "    config_gp['M_hi'] = M_hi\n",
    "    config_gp['kernel_length'] = kernel_length_prior\n",
    "    config_gp['kernel_var'] = kernel_var_prior\n",
    "    # Call gp_aggr\n",
    "    decoder_params = config[\"decoder_params\"]\n",
    "    z_dim, hidden_dim = decoder_params[0][0].shape\n",
    "    z = numpyro.sample(\"z\", dist.Normal(jnp.zeros(z_dim), jnp.ones(z_dim)))\n",
    "    _, decoder_apply = vae_decoder(hidden_dim, out_dims) #Instantiate decoder\n",
    "    vae_aggr = numpyro.deterministic(\"vae_aggr\", decoder_apply(decoder_params, z))\n",
    "    s = numpyro.sample(\"sigma1\", dist.HalfNormal(200))\n",
    "\n",
    "    vae = numpyro.deterministic(\"vae\", s * vae_aggr)\n",
    "\n",
    "    # Fixed effects\n",
    "    b0 = numpyro.sample(\"b0\", dist.Normal(100, 10))  # Intercept\n",
    "    b_pop_density = numpyro.sample(\"b_pop_density\", dist.Normal(0, 1))  # Effect of population density\n",
    "    b_hdi = numpyro.sample(\"b_hdi\", dist.Normal(0, 1))  # Effect of HDI\n",
    "    b_urban = numpyro.sample(\"b_urban\", dist.Normal(0, 1))  # Effect of urbanicity\n",
    "\n",
    "    # Linear predictor\n",
    "    # lp = numpyro.deterministic(\"lp\", (b0 + \n",
    "    #                                   aggr_gp + \n",
    "    #                                   b_pop_density * pop_density + \n",
    "    #                                   b_hdi * hdi_index + \n",
    "    #                                   b_urban * urban_frac))  #\n",
    "    lp = numpyro.deterministic(\"lp\", nn.softplus(b0 + \n",
    "                                      vae + \n",
    "                                      b_pop_density * pop_density + \n",
    "                                      b_hdi * hdi_index + \n",
    "                                      b_urban * urban_frac)) \n",
    "\n",
    "\n",
    "    sigma = numpyro.sample(\"sigma\", dist.HalfNormal(5))\n",
    "    \n",
    "    # Full predictions (no masking)\n",
    "    full_pred_cases = numpyro.sample(\n",
    "        \"full_pred_cases\",\n",
    "        dist.Normal(lp, sigma))\n",
    "\n",
    "    # Observed only where count is available\n",
    "    with numpyro.handlers.mask(mask=count_mask):\n",
    "        numpyro.sample(\n",
    "            \"pred_cases\",  # not used for return\n",
    "            dist.Normal(lp, sigma),\n",
    "            obs=None if is_prior_pred else count)\n",
    "\n",
    "    # Store full predictions\n",
    "    numpyro.deterministic(\"pred_cases_out\", full_pred_cases)\n"
   ]
  },
  {
   "cell_type": "code",
   "execution_count": null,
   "metadata": {},
   "outputs": [
    {
     "name": "stdout",
     "output_type": "stream",
     "text": [
      "dict_keys(['x', 'pol_pts_lo', 'pol_pts_hi', 'df_lo', 'df_hi'])\n",
      "Dengue incidence by province and year (low resolution):\n",
      "                  incidence\n",
      "Province    Year           \n",
      "DKI Jakarta 2020   0.001519\n",
      "            2021   0.001315\n",
      "            2022   0.002667\n",
      "            2023   0.001983 \n",
      "\n",
      "We are using data for the year 2020\n",
      "\n"
     ]
    }
   ],
   "source": [
    "spatial_data = load_data()\n",
    "print(spatial_data.keys())\n",
    "\n",
    "# Lets lok at the data and dissect it \n",
    "lo_prev = spatial_data[\"df_lo\"].copy()\n",
    "lo_prev['incidence'] = (lo_prev.Cases / lo_prev.Population)\n",
    "print(\"Dengue incidence by province and year (low resolution):\")\n",
    "print(lo_prev.groupby(['Province', 'Year'])[['incidence']].mean(), '\\n')\n",
    "\n",
    "# make sure we use only one year of data \n",
    "year_data = 2020\n",
    "print(f'We are using data for the year {year_data}\\n')\n",
    "\n",
    "# let us filter the data for the most recent year\n",
    "df_lo = spatial_data[\"df_lo\"][spatial_data[\"df_lo\"].Year == year_data]\n",
    "df_hi = spatial_data[\"df_hi\"][spatial_data[\"df_hi\"].Year == year_data]\n",
    "\n",
    "df_lo = df_lo.copy()  \n",
    "df_hi = df_hi.copy()\n",
    "df_lo.loc[:, 'incidence'] = df_lo.Cases / df_lo.Population\n",
    "df_hi.loc[:, 'incidence'] = df_hi.Cases / df_hi.Population\n",
    "total_population = jnp.concatenate([df_lo.Population.values, df_hi.Population.values])\n",
    "count = jnp.concatenate([df_lo.Cases.values, jnp.full((df_hi.shape[0],), jnp.nan)])\n",
    "hdi_index = jnp.concatenate([df_lo.HDI.values, df_hi.HDI.values])*100\n",
    "pop_density = jnp.concatenate([df_lo.Pop_den.values*1e2, (df_hi.Pop_den.values)*1e-1])\n",
    "urban_frac = jnp.concatenate([df_lo.urbanicity.values, df_hi.urbanicity.values])*100"
   ]
  },
  {
   "cell_type": "code",
   "execution_count": null,
   "metadata": {},
   "outputs": [],
   "source": [
    "config_count = {\n",
    "    'x': spatial_data[\"x\"],\n",
    "    'gp_kernel': exp_sq_kernel,\n",
    "    'noise': 1e-2,\n",
    "    'jitter': 1e-2,\n",
    "    'M_lo': jnp.array(spatial_data[\"pol_pts_lo\"]),\n",
    "    'M_hi': jnp.array(spatial_data[\"pol_pts_hi\"]),\n",
    "    'kernel_length': dist.InverseGamma(5, 2),\n",
    "    'kernel_var': dist.LogNormal(-1, 0.05),\n",
    "    'pop_density': pop_density,\n",
    "    'hdi_index': hdi_index,\n",
    "    'urban_frac': urban_frac,\n",
    "    'count': count,\n",
    "    'prior_pred': False,\n",
    "    \"decoder_params\": decoder_params,\n",
    "    \"out_dims\": 6 # [lo + hi] \n",
    "}"
   ]
  },
  {
   "cell_type": "code",
   "execution_count": null,
   "metadata": {},
   "outputs": [
    {
     "ename": "ValueError",
     "evalue": "Normal distribution got invalid loc parameter.",
     "output_type": "error",
     "traceback": [
      "\u001b[1;31m---------------------------------------------------------------------------\u001b[0m",
      "\u001b[1;31mValueError\u001b[0m                                Traceback (most recent call last)",
      "Cell \u001b[1;32mIn[144], line 11\u001b[0m\n\u001b[0;32m      4\u001b[0m mcmc \u001b[38;5;241m=\u001b[39m MCMC(sampler, \u001b[38;5;66;03m# change for later run to 0.99 and 20\u001b[39;00m\n\u001b[0;32m      5\u001b[0m             num_warmup\u001b[38;5;241m=\u001b[39m\u001b[38;5;241m1000\u001b[39m,\n\u001b[0;32m      6\u001b[0m             num_samples\u001b[38;5;241m=\u001b[39m\u001b[38;5;241m1000\u001b[39m,\n\u001b[0;32m      7\u001b[0m             num_chains\u001b[38;5;241m=\u001b[39m\u001b[38;5;241m4\u001b[39m,\n\u001b[0;32m      8\u001b[0m             chain_method\u001b[38;5;241m=\u001b[39m\u001b[38;5;124m\"\u001b[39m\u001b[38;5;124mvectorized\u001b[39m\u001b[38;5;124m\"\u001b[39m,\n\u001b[0;32m      9\u001b[0m             )\n\u001b[0;32m     10\u001b[0m start \u001b[38;5;241m=\u001b[39m time\u001b[38;5;241m.\u001b[39mtime()\n\u001b[1;32m---> 11\u001b[0m \u001b[43mmcmc\u001b[49m\u001b[38;5;241;43m.\u001b[39;49m\u001b[43mrun\u001b[49m\u001b[43m(\u001b[49m\u001b[43mPRNGKey\u001b[49m\u001b[43m(\u001b[49m\u001b[38;5;241;43m2\u001b[39;49m\u001b[43m)\u001b[49m\u001b[43m,\u001b[49m\u001b[43m \u001b[49m\u001b[43mconfig_count\u001b[49m\u001b[43m)\u001b[49m\n\u001b[0;32m     12\u001b[0m end \u001b[38;5;241m=\u001b[39m time\u001b[38;5;241m.\u001b[39mtime()\n\u001b[0;32m     13\u001b[0m t_elapsed_min \u001b[38;5;241m=\u001b[39m \u001b[38;5;28mround\u001b[39m((end \u001b[38;5;241m-\u001b[39m start) \u001b[38;5;241m/\u001b[39m \u001b[38;5;241m60\u001b[39m)\n",
      "File \u001b[1;32m~\\AppData\\Roaming\\Python\\Python313\\site-packages\\numpyro\\infer\\mcmc.py:713\u001b[0m, in \u001b[0;36mMCMC.run\u001b[1;34m(self, rng_key, extra_fields, init_params, *args, **kwargs)\u001b[0m\n\u001b[0;32m    711\u001b[0m \u001b[38;5;28;01melse\u001b[39;00m:\n\u001b[0;32m    712\u001b[0m     \u001b[38;5;28;01massert\u001b[39;00m \u001b[38;5;28mself\u001b[39m\u001b[38;5;241m.\u001b[39mchain_method \u001b[38;5;241m==\u001b[39m \u001b[38;5;124m\"\u001b[39m\u001b[38;5;124mvectorized\u001b[39m\u001b[38;5;124m\"\u001b[39m\n\u001b[1;32m--> 713\u001b[0m     states, last_state \u001b[38;5;241m=\u001b[39m \u001b[43mpartial_map_fn\u001b[49m\u001b[43m(\u001b[49m\u001b[43mmap_args\u001b[49m\u001b[43m)\u001b[49m\n\u001b[0;32m    714\u001b[0m     \u001b[38;5;66;03m# swap num_samples x num_chains to num_chains x num_samples\u001b[39;00m\n\u001b[0;32m    715\u001b[0m     states \u001b[38;5;241m=\u001b[39m jax\u001b[38;5;241m.\u001b[39mtree\u001b[38;5;241m.\u001b[39mmap(\u001b[38;5;28;01mlambda\u001b[39;00m x: jnp\u001b[38;5;241m.\u001b[39mswapaxes(x, \u001b[38;5;241m0\u001b[39m, \u001b[38;5;241m1\u001b[39m), states)\n",
      "File \u001b[1;32m~\\AppData\\Roaming\\Python\\Python313\\site-packages\\numpyro\\infer\\mcmc.py:465\u001b[0m, in \u001b[0;36mMCMC._single_chain_mcmc\u001b[1;34m(self, init, args, kwargs, collect_fields, remove_sites)\u001b[0m\n\u001b[0;32m    463\u001b[0m \u001b[38;5;66;03m# Check if _sample_fn is None, then we need to initialize the sampler.\u001b[39;00m\n\u001b[0;32m    464\u001b[0m \u001b[38;5;28;01mif\u001b[39;00m init_state \u001b[38;5;129;01mis\u001b[39;00m \u001b[38;5;28;01mNone\u001b[39;00m \u001b[38;5;129;01mor\u001b[39;00m (\u001b[38;5;28mgetattr\u001b[39m(\u001b[38;5;28mself\u001b[39m\u001b[38;5;241m.\u001b[39msampler, \u001b[38;5;124m\"\u001b[39m\u001b[38;5;124m_sample_fn\u001b[39m\u001b[38;5;124m\"\u001b[39m, \u001b[38;5;28;01mNone\u001b[39;00m) \u001b[38;5;129;01mis\u001b[39;00m \u001b[38;5;28;01mNone\u001b[39;00m):\n\u001b[1;32m--> 465\u001b[0m     new_init_state \u001b[38;5;241m=\u001b[39m \u001b[38;5;28;43mself\u001b[39;49m\u001b[38;5;241;43m.\u001b[39;49m\u001b[43msampler\u001b[49m\u001b[38;5;241;43m.\u001b[39;49m\u001b[43minit\u001b[49m\u001b[43m(\u001b[49m\n\u001b[0;32m    466\u001b[0m \u001b[43m        \u001b[49m\u001b[43mrng_key\u001b[49m\u001b[43m,\u001b[49m\n\u001b[0;32m    467\u001b[0m \u001b[43m        \u001b[49m\u001b[38;5;28;43mself\u001b[39;49m\u001b[38;5;241;43m.\u001b[39;49m\u001b[43mnum_warmup\u001b[49m\u001b[43m,\u001b[49m\n\u001b[0;32m    468\u001b[0m \u001b[43m        \u001b[49m\u001b[43minit_params\u001b[49m\u001b[43m,\u001b[49m\n\u001b[0;32m    469\u001b[0m \u001b[43m        \u001b[49m\u001b[43mmodel_args\u001b[49m\u001b[38;5;241;43m=\u001b[39;49m\u001b[43margs\u001b[49m\u001b[43m,\u001b[49m\n\u001b[0;32m    470\u001b[0m \u001b[43m        \u001b[49m\u001b[43mmodel_kwargs\u001b[49m\u001b[38;5;241;43m=\u001b[39;49m\u001b[43mkwargs\u001b[49m\u001b[43m,\u001b[49m\n\u001b[0;32m    471\u001b[0m \u001b[43m    \u001b[49m\u001b[43m)\u001b[49m\n\u001b[0;32m    472\u001b[0m     init_state \u001b[38;5;241m=\u001b[39m new_init_state \u001b[38;5;28;01mif\u001b[39;00m init_state \u001b[38;5;129;01mis\u001b[39;00m \u001b[38;5;28;01mNone\u001b[39;00m \u001b[38;5;28;01melse\u001b[39;00m init_state\n\u001b[0;32m    473\u001b[0m sample_fn, postprocess_fn \u001b[38;5;241m=\u001b[39m \u001b[38;5;28mself\u001b[39m\u001b[38;5;241m.\u001b[39m_get_cached_fns()\n",
      "File \u001b[1;32m~\\AppData\\Roaming\\Python\\Python313\\site-packages\\numpyro\\infer\\hmc.py:749\u001b[0m, in \u001b[0;36mHMC.init\u001b[1;34m(self, rng_key, num_warmup, init_params, model_args, model_kwargs)\u001b[0m\n\u001b[0;32m    744\u001b[0m \u001b[38;5;66;03m# vectorized\u001b[39;00m\n\u001b[0;32m    745\u001b[0m \u001b[38;5;28;01melse\u001b[39;00m:\n\u001b[0;32m    746\u001b[0m     rng_key, rng_key_init_model \u001b[38;5;241m=\u001b[39m jnp\u001b[38;5;241m.\u001b[39mswapaxes(\n\u001b[0;32m    747\u001b[0m         vmap(random\u001b[38;5;241m.\u001b[39msplit)(rng_key), \u001b[38;5;241m0\u001b[39m, \u001b[38;5;241m1\u001b[39m\n\u001b[0;32m    748\u001b[0m     )\n\u001b[1;32m--> 749\u001b[0m init_params \u001b[38;5;241m=\u001b[39m \u001b[38;5;28;43mself\u001b[39;49m\u001b[38;5;241;43m.\u001b[39;49m\u001b[43m_init_state\u001b[49m\u001b[43m(\u001b[49m\n\u001b[0;32m    750\u001b[0m \u001b[43m    \u001b[49m\u001b[43mrng_key_init_model\u001b[49m\u001b[43m,\u001b[49m\u001b[43m \u001b[49m\u001b[43mmodel_args\u001b[49m\u001b[43m,\u001b[49m\u001b[43m \u001b[49m\u001b[43mmodel_kwargs\u001b[49m\u001b[43m,\u001b[49m\u001b[43m \u001b[49m\u001b[43minit_params\u001b[49m\n\u001b[0;32m    751\u001b[0m \u001b[43m\u001b[49m\u001b[43m)\u001b[49m\n\u001b[0;32m    752\u001b[0m \u001b[38;5;28;01mif\u001b[39;00m \u001b[38;5;28mself\u001b[39m\u001b[38;5;241m.\u001b[39m_potential_fn \u001b[38;5;129;01mand\u001b[39;00m init_params \u001b[38;5;129;01mis\u001b[39;00m \u001b[38;5;28;01mNone\u001b[39;00m:\n\u001b[0;32m    753\u001b[0m     \u001b[38;5;28;01mraise\u001b[39;00m \u001b[38;5;167;01mValueError\u001b[39;00m(\n\u001b[0;32m    754\u001b[0m         \u001b[38;5;124m\"\u001b[39m\u001b[38;5;124mValid value of `init_params` must be provided with `potential_fn`.\u001b[39m\u001b[38;5;124m\"\u001b[39m\n\u001b[0;32m    755\u001b[0m     )\n",
      "File \u001b[1;32m~\\AppData\\Roaming\\Python\\Python313\\site-packages\\numpyro\\infer\\hmc.py:693\u001b[0m, in \u001b[0;36mHMC._init_state\u001b[1;34m(self, rng_key, model_args, model_kwargs, init_params)\u001b[0m\n\u001b[0;32m    686\u001b[0m \u001b[38;5;28;01mdef\u001b[39;00m\u001b[38;5;250m \u001b[39m\u001b[38;5;21m_init_state\u001b[39m(\u001b[38;5;28mself\u001b[39m, rng_key, model_args, model_kwargs, init_params):\n\u001b[0;32m    687\u001b[0m     \u001b[38;5;28;01mif\u001b[39;00m \u001b[38;5;28mself\u001b[39m\u001b[38;5;241m.\u001b[39m_model \u001b[38;5;129;01mis\u001b[39;00m \u001b[38;5;129;01mnot\u001b[39;00m \u001b[38;5;28;01mNone\u001b[39;00m:\n\u001b[0;32m    688\u001b[0m         (\n\u001b[0;32m    689\u001b[0m             new_init_params,\n\u001b[0;32m    690\u001b[0m             potential_fn,\n\u001b[0;32m    691\u001b[0m             postprocess_fn,\n\u001b[0;32m    692\u001b[0m             model_trace,\n\u001b[1;32m--> 693\u001b[0m         ) \u001b[38;5;241m=\u001b[39m \u001b[43minitialize_model\u001b[49m\u001b[43m(\u001b[49m\n\u001b[0;32m    694\u001b[0m \u001b[43m            \u001b[49m\u001b[43mrng_key\u001b[49m\u001b[43m,\u001b[49m\n\u001b[0;32m    695\u001b[0m \u001b[43m            \u001b[49m\u001b[38;5;28;43mself\u001b[39;49m\u001b[38;5;241;43m.\u001b[39;49m\u001b[43m_model\u001b[49m\u001b[43m,\u001b[49m\n\u001b[0;32m    696\u001b[0m \u001b[43m            \u001b[49m\u001b[43mdynamic_args\u001b[49m\u001b[38;5;241;43m=\u001b[39;49m\u001b[38;5;28;43;01mTrue\u001b[39;49;00m\u001b[43m,\u001b[49m\n\u001b[0;32m    697\u001b[0m \u001b[43m            \u001b[49m\u001b[43minit_strategy\u001b[49m\u001b[38;5;241;43m=\u001b[39;49m\u001b[38;5;28;43mself\u001b[39;49m\u001b[38;5;241;43m.\u001b[39;49m\u001b[43m_init_strategy\u001b[49m\u001b[43m,\u001b[49m\n\u001b[0;32m    698\u001b[0m \u001b[43m            \u001b[49m\u001b[43mmodel_args\u001b[49m\u001b[38;5;241;43m=\u001b[39;49m\u001b[43mmodel_args\u001b[49m\u001b[43m,\u001b[49m\n\u001b[0;32m    699\u001b[0m \u001b[43m            \u001b[49m\u001b[43mmodel_kwargs\u001b[49m\u001b[38;5;241;43m=\u001b[39;49m\u001b[43mmodel_kwargs\u001b[49m\u001b[43m,\u001b[49m\n\u001b[0;32m    700\u001b[0m \u001b[43m            \u001b[49m\u001b[43mforward_mode_differentiation\u001b[49m\u001b[38;5;241;43m=\u001b[39;49m\u001b[38;5;28;43mself\u001b[39;49m\u001b[38;5;241;43m.\u001b[39;49m\u001b[43m_forward_mode_differentiation\u001b[49m\u001b[43m,\u001b[49m\n\u001b[0;32m    701\u001b[0m \u001b[43m        \u001b[49m\u001b[43m)\u001b[49m\n\u001b[0;32m    702\u001b[0m         \u001b[38;5;28;01mif\u001b[39;00m init_params \u001b[38;5;129;01mis\u001b[39;00m \u001b[38;5;28;01mNone\u001b[39;00m:\n\u001b[0;32m    703\u001b[0m             init_params \u001b[38;5;241m=\u001b[39m new_init_params\n",
      "File \u001b[1;32m~\\AppData\\Roaming\\Python\\Python313\\site-packages\\numpyro\\infer\\util.py:773\u001b[0m, in \u001b[0;36minitialize_model\u001b[1;34m(rng_key, model, init_strategy, dynamic_args, model_args, model_kwargs, forward_mode_differentiation, validate_grad)\u001b[0m\n\u001b[0;32m    770\u001b[0m \u001b[38;5;28;01mif\u001b[39;00m device_get(\u001b[38;5;241m~\u001b[39mjnp\u001b[38;5;241m.\u001b[39mall(is_valid)):\n\u001b[0;32m    771\u001b[0m     \u001b[38;5;28;01mwith\u001b[39;00m numpyro\u001b[38;5;241m.\u001b[39mvalidation_enabled(), trace() \u001b[38;5;28;01mas\u001b[39;00m tr:\n\u001b[0;32m    772\u001b[0m         \u001b[38;5;66;03m# validate parameters\u001b[39;00m\n\u001b[1;32m--> 773\u001b[0m         \u001b[43msubstituted_model\u001b[49m\u001b[43m(\u001b[49m\u001b[38;5;241;43m*\u001b[39;49m\u001b[43mmodel_args\u001b[49m\u001b[43m,\u001b[49m\u001b[43m \u001b[49m\u001b[38;5;241;43m*\u001b[39;49m\u001b[38;5;241;43m*\u001b[39;49m\u001b[43mmodel_kwargs\u001b[49m\u001b[43m)\u001b[49m\n\u001b[0;32m    774\u001b[0m         \u001b[38;5;66;03m# validate values\u001b[39;00m\n\u001b[0;32m    775\u001b[0m         \u001b[38;5;28;01mfor\u001b[39;00m site \u001b[38;5;129;01min\u001b[39;00m tr\u001b[38;5;241m.\u001b[39mvalues():\n",
      "File \u001b[1;32m~\\AppData\\Roaming\\Python\\Python313\\site-packages\\numpyro\\primitives.py:121\u001b[0m, in \u001b[0;36mMessenger.__call__\u001b[1;34m(self, *args, **kwargs)\u001b[0m\n\u001b[0;32m    119\u001b[0m     \u001b[38;5;28;01mreturn\u001b[39;00m \u001b[38;5;28mself\u001b[39m\n\u001b[0;32m    120\u001b[0m \u001b[38;5;28;01mwith\u001b[39;00m \u001b[38;5;28mself\u001b[39m:\n\u001b[1;32m--> 121\u001b[0m     \u001b[38;5;28;01mreturn\u001b[39;00m \u001b[38;5;28;43mself\u001b[39;49m\u001b[38;5;241;43m.\u001b[39;49m\u001b[43mfn\u001b[49m\u001b[43m(\u001b[49m\u001b[38;5;241;43m*\u001b[39;49m\u001b[43margs\u001b[49m\u001b[43m,\u001b[49m\u001b[43m \u001b[49m\u001b[38;5;241;43m*\u001b[39;49m\u001b[38;5;241;43m*\u001b[39;49m\u001b[43mkwargs\u001b[49m\u001b[43m)\u001b[49m\n",
      "File \u001b[1;32m~\\AppData\\Roaming\\Python\\Python313\\site-packages\\numpyro\\primitives.py:121\u001b[0m, in \u001b[0;36mMessenger.__call__\u001b[1;34m(self, *args, **kwargs)\u001b[0m\n\u001b[0;32m    119\u001b[0m     \u001b[38;5;28;01mreturn\u001b[39;00m \u001b[38;5;28mself\u001b[39m\n\u001b[0;32m    120\u001b[0m \u001b[38;5;28;01mwith\u001b[39;00m \u001b[38;5;28mself\u001b[39m:\n\u001b[1;32m--> 121\u001b[0m     \u001b[38;5;28;01mreturn\u001b[39;00m \u001b[38;5;28;43mself\u001b[39;49m\u001b[38;5;241;43m.\u001b[39;49m\u001b[43mfn\u001b[49m\u001b[43m(\u001b[49m\u001b[38;5;241;43m*\u001b[39;49m\u001b[43margs\u001b[49m\u001b[43m,\u001b[49m\u001b[43m \u001b[49m\u001b[38;5;241;43m*\u001b[39;49m\u001b[38;5;241;43m*\u001b[39;49m\u001b[43mkwargs\u001b[49m\u001b[43m)\u001b[49m\n",
      "Cell \u001b[1;32mIn[141], line 71\u001b[0m, in \u001b[0;36mprev_model_vae_aggr\u001b[1;34m(config)\u001b[0m\n\u001b[0;32m     66\u001b[0m sigma \u001b[38;5;241m=\u001b[39m numpyro\u001b[38;5;241m.\u001b[39msample(\u001b[38;5;124m\"\u001b[39m\u001b[38;5;124msigma\u001b[39m\u001b[38;5;124m\"\u001b[39m, dist\u001b[38;5;241m.\u001b[39mHalfNormal(\u001b[38;5;241m5\u001b[39m))\n\u001b[0;32m     68\u001b[0m \u001b[38;5;66;03m# Full predictions (no masking)\u001b[39;00m\n\u001b[0;32m     69\u001b[0m full_pred_cases \u001b[38;5;241m=\u001b[39m numpyro\u001b[38;5;241m.\u001b[39msample(\n\u001b[0;32m     70\u001b[0m     \u001b[38;5;124m\"\u001b[39m\u001b[38;5;124mfull_pred_cases\u001b[39m\u001b[38;5;124m\"\u001b[39m,\n\u001b[1;32m---> 71\u001b[0m     \u001b[43mdist\u001b[49m\u001b[38;5;241;43m.\u001b[39;49m\u001b[43mNormal\u001b[49m\u001b[43m(\u001b[49m\u001b[43mlp\u001b[49m\u001b[43m,\u001b[49m\u001b[43m \u001b[49m\u001b[43msigma\u001b[49m\u001b[43m)\u001b[49m)\n\u001b[0;32m     73\u001b[0m \u001b[38;5;66;03m# Observed only where count is available\u001b[39;00m\n\u001b[0;32m     74\u001b[0m \u001b[38;5;28;01mwith\u001b[39;00m numpyro\u001b[38;5;241m.\u001b[39mhandlers\u001b[38;5;241m.\u001b[39mmask(mask\u001b[38;5;241m=\u001b[39mcount_mask):\n",
      "File \u001b[1;32m~\\AppData\\Roaming\\Python\\Python313\\site-packages\\numpyro\\distributions\\distribution.py:101\u001b[0m, in \u001b[0;36mDistributionMeta.__call__\u001b[1;34m(cls, *args, **kwargs)\u001b[0m\n\u001b[0;32m     99\u001b[0m     \u001b[38;5;28;01mif\u001b[39;00m result \u001b[38;5;129;01mis\u001b[39;00m \u001b[38;5;129;01mnot\u001b[39;00m \u001b[38;5;28;01mNone\u001b[39;00m:\n\u001b[0;32m    100\u001b[0m         \u001b[38;5;28;01mreturn\u001b[39;00m result\n\u001b[1;32m--> 101\u001b[0m \u001b[38;5;28;01mreturn\u001b[39;00m \u001b[38;5;28;43msuper\u001b[39;49m\u001b[43m(\u001b[49m\u001b[43m)\u001b[49m\u001b[38;5;241;43m.\u001b[39;49m\u001b[38;5;21;43m__call__\u001b[39;49m\u001b[43m(\u001b[49m\u001b[38;5;241;43m*\u001b[39;49m\u001b[43margs\u001b[49m\u001b[43m,\u001b[49m\u001b[43m \u001b[49m\u001b[38;5;241;43m*\u001b[39;49m\u001b[38;5;241;43m*\u001b[39;49m\u001b[43mkwargs\u001b[49m\u001b[43m)\u001b[49m\n",
      "File \u001b[1;32m~\\AppData\\Roaming\\Python\\Python313\\site-packages\\numpyro\\distributions\\continuous.py:2186\u001b[0m, in \u001b[0;36mNormal.__init__\u001b[1;34m(self, loc, scale, validate_args)\u001b[0m\n\u001b[0;32m   2184\u001b[0m \u001b[38;5;28mself\u001b[39m\u001b[38;5;241m.\u001b[39mloc, \u001b[38;5;28mself\u001b[39m\u001b[38;5;241m.\u001b[39mscale \u001b[38;5;241m=\u001b[39m promote_shapes(loc, scale)\n\u001b[0;32m   2185\u001b[0m batch_shape \u001b[38;5;241m=\u001b[39m lax\u001b[38;5;241m.\u001b[39mbroadcast_shapes(jnp\u001b[38;5;241m.\u001b[39mshape(loc), jnp\u001b[38;5;241m.\u001b[39mshape(scale))\n\u001b[1;32m-> 2186\u001b[0m \u001b[38;5;28;43msuper\u001b[39;49m\u001b[43m(\u001b[49m\u001b[43mNormal\u001b[49m\u001b[43m,\u001b[49m\u001b[43m \u001b[49m\u001b[38;5;28;43mself\u001b[39;49m\u001b[43m)\u001b[49m\u001b[38;5;241;43m.\u001b[39;49m\u001b[38;5;21;43m__init__\u001b[39;49m\u001b[43m(\u001b[49m\n\u001b[0;32m   2187\u001b[0m \u001b[43m    \u001b[49m\u001b[43mbatch_shape\u001b[49m\u001b[38;5;241;43m=\u001b[39;49m\u001b[43mbatch_shape\u001b[49m\u001b[43m,\u001b[49m\u001b[43m \u001b[49m\u001b[43mvalidate_args\u001b[49m\u001b[38;5;241;43m=\u001b[39;49m\u001b[43mvalidate_args\u001b[49m\n\u001b[0;32m   2188\u001b[0m \u001b[43m\u001b[49m\u001b[43m)\u001b[49m\n",
      "File \u001b[1;32m~\\AppData\\Roaming\\Python\\Python313\\site-packages\\numpyro\\distributions\\distribution.py:237\u001b[0m, in \u001b[0;36mDistribution.__init__\u001b[1;34m(self, batch_shape, event_shape, validate_args)\u001b[0m\n\u001b[0;32m    235\u001b[0m     \u001b[38;5;28mself\u001b[39m\u001b[38;5;241m.\u001b[39m_validate_args \u001b[38;5;241m=\u001b[39m validate_args\n\u001b[0;32m    236\u001b[0m \u001b[38;5;28;01mif\u001b[39;00m \u001b[38;5;28mself\u001b[39m\u001b[38;5;241m.\u001b[39m_validate_args:\n\u001b[1;32m--> 237\u001b[0m     \u001b[38;5;28;43mself\u001b[39;49m\u001b[38;5;241;43m.\u001b[39;49m\u001b[43mvalidate_args\u001b[49m\u001b[43m(\u001b[49m\u001b[43mstrict\u001b[49m\u001b[38;5;241;43m=\u001b[39;49m\u001b[38;5;28;43;01mFalse\u001b[39;49;00m\u001b[43m)\u001b[49m\n\u001b[0;32m    238\u001b[0m \u001b[38;5;28msuper\u001b[39m(Distribution, \u001b[38;5;28mself\u001b[39m)\u001b[38;5;241m.\u001b[39m\u001b[38;5;21m__init__\u001b[39m()\n",
      "File \u001b[1;32m~\\AppData\\Roaming\\Python\\Python313\\site-packages\\numpyro\\distributions\\distribution.py:265\u001b[0m, in \u001b[0;36mDistribution.validate_args\u001b[1;34m(self, strict)\u001b[0m\n\u001b[0;32m    263\u001b[0m \u001b[38;5;28;01mif\u001b[39;00m not_jax_tracer(is_valid):\n\u001b[0;32m    264\u001b[0m     \u001b[38;5;28;01mif\u001b[39;00m \u001b[38;5;129;01mnot\u001b[39;00m np\u001b[38;5;241m.\u001b[39mall(is_valid):\n\u001b[1;32m--> 265\u001b[0m         \u001b[38;5;28;01mraise\u001b[39;00m \u001b[38;5;167;01mValueError\u001b[39;00m(\n\u001b[0;32m    266\u001b[0m             \u001b[38;5;124m\"\u001b[39m\u001b[38;5;132;01m{}\u001b[39;00m\u001b[38;5;124m distribution got invalid \u001b[39m\u001b[38;5;132;01m{}\u001b[39;00m\u001b[38;5;124m parameter.\u001b[39m\u001b[38;5;124m\"\u001b[39m\u001b[38;5;241m.\u001b[39mformat(\n\u001b[0;32m    267\u001b[0m                 \u001b[38;5;28mself\u001b[39m\u001b[38;5;241m.\u001b[39m\u001b[38;5;18m__class__\u001b[39m\u001b[38;5;241m.\u001b[39m\u001b[38;5;18m__name__\u001b[39m, param\n\u001b[0;32m    268\u001b[0m             )\n\u001b[0;32m    269\u001b[0m         )\n\u001b[0;32m    270\u001b[0m \u001b[38;5;28;01melif\u001b[39;00m strict:\n\u001b[0;32m    271\u001b[0m     \u001b[38;5;28;01mraise\u001b[39;00m \u001b[38;5;167;01mRuntimeError\u001b[39;00m(\u001b[38;5;124m\"\u001b[39m\u001b[38;5;124mCannot validate arguments inside jitted code.\u001b[39m\u001b[38;5;124m\"\u001b[39m)\n",
      "\u001b[1;31mValueError\u001b[0m: Normal distribution got invalid loc parameter."
     ]
    }
   ],
   "source": [
    "model =  prev_model_vae_aggr\n",
    "# Define the sampler\n",
    "sampler = NUTS(model)\n",
    "mcmc = MCMC(sampler, # change for later run to 0.99 and 20\n",
    "            num_warmup=1000,\n",
    "            num_samples=1000,\n",
    "            num_chains=4,\n",
    "            chain_method=\"vectorized\",\n",
    "            )\n",
    "start = time.time()\n",
    "mcmc.run(PRNGKey(2), config_count)\n",
    "end = time.time()\n",
    "t_elapsed_min = round((end - start) / 60)\n",
    "print(f\"Time taken to run MCMC: {t_elapsed_min} minutes\")"
   ]
  },
  {
   "cell_type": "code",
   "execution_count": null,
   "metadata": {},
   "outputs": [
    {
     "name": "stdout",
     "output_type": "stream",
     "text": [
      "\n",
      "                        mean       std    median      5.0%     95.0%     n_eff     r_hat\n",
      "                b0     99.98      9.83     99.88     82.81    115.50    655.47      1.00\n",
      "             b_hdi      0.09      1.02      0.09     -1.55      1.78    306.95      1.01\n",
      "     b_pop_density      0.04      0.99      0.04     -1.49      1.76    561.40      1.00\n",
      "           b_urban      0.13      1.05      0.14     -1.53      1.87    197.86      1.02\n",
      "full_pred_cases[0]   1047.79      9.17   1047.88   1034.56   1064.13    574.78      1.01\n",
      "full_pred_cases[1]    281.24    108.98    280.44    107.25    471.05    136.58      1.03\n",
      "full_pred_cases[2]    206.99    115.29    201.76     -7.14    369.17    138.99      1.03\n",
      "full_pred_cases[3]    318.35    109.49    317.42    142.84    508.11    136.23      1.03\n",
      "full_pred_cases[4]    372.50     99.85    371.05    213.15    544.20    138.68      1.03\n",
      "full_pred_cases[5]    348.64     94.95    347.76    212.19    526.93    138.38      1.03\n",
      "             sigma      5.69      2.87      5.19      1.43      9.88    348.90      1.01\n",
      "            sigma1     38.46     26.05     31.14      7.76     71.72    338.19      1.02\n",
      "              z[0]     -0.02      1.00     -0.04     -1.62      1.69    851.45      1.01\n",
      "              z[1]     -0.07      0.99     -0.06     -1.49      1.70    809.49      1.00\n",
      "              z[2]     -0.13      1.01     -0.09     -1.69      1.56    628.47      1.00\n",
      "              z[3]      0.11      1.01      0.11     -1.60      1.70    788.82      1.00\n",
      "              z[4]     -0.10      1.04     -0.09     -1.79      1.62    686.34      1.01\n",
      "              z[5]      0.11      0.99      0.12     -1.62      1.61    739.41      1.00\n",
      "              z[6]      0.10      0.99      0.12     -1.45      1.76    730.00      1.00\n",
      "              z[7]      0.11      1.00      0.13     -1.45      1.83    701.46      1.01\n",
      "              z[8]     -0.03      0.96     -0.01     -1.62      1.44    938.01      1.01\n",
      "              z[9]      0.09      0.99      0.08     -1.51      1.75    535.74      1.00\n",
      "             z[10]      0.09      1.02      0.09     -1.62      1.71    875.84      1.00\n",
      "             z[11]     -0.08      0.97     -0.10     -1.72      1.48    711.46      1.00\n",
      "             z[12]      0.16      1.00      0.14     -1.45      1.82    779.32      1.01\n",
      "             z[13]      0.10      0.99      0.10     -1.54      1.69    843.32      1.00\n",
      "             z[14]     -0.09      0.98     -0.08     -1.61      1.53    840.73      1.00\n",
      "             z[15]     -0.11      1.00     -0.10     -1.81      1.49    758.54      1.00\n",
      "             z[16]     -0.09      1.02     -0.13     -1.71      1.57    753.99      1.00\n",
      "             z[17]      0.05      0.99      0.03     -1.67      1.56    873.40      1.00\n",
      "             z[18]      0.11      1.00      0.11     -1.61      1.69    958.20      1.01\n",
      "             z[19]      0.05      1.01      0.08     -1.60      1.71    813.12      1.00\n",
      "             z[20]     -0.03      1.02     -0.03     -1.68      1.65    694.61      1.01\n",
      "             z[21]     -0.03      0.97     -0.03     -1.68      1.50    794.32      1.00\n",
      "             z[22]     -0.12      0.96     -0.14     -1.70      1.50    643.50      1.01\n",
      "             z[23]     -0.10      1.02     -0.12     -1.90      1.51    662.69      1.01\n",
      "             z[24]      0.15      1.01      0.16     -1.46      1.83    768.03      1.00\n",
      "             z[25]     -0.10      0.95     -0.05     -1.64      1.47    819.36      1.01\n",
      "             z[26]     -0.06      1.01     -0.10     -1.76      1.54    686.54      1.01\n",
      "             z[27]     -0.07      0.98     -0.06     -1.77      1.48    973.42      1.00\n",
      "             z[28]      0.13      0.95      0.14     -1.44      1.71    906.26      1.00\n",
      "             z[29]     -0.11      0.99     -0.09     -1.75      1.49    787.24      1.00\n",
      "             z[30]      0.09      1.00      0.10     -1.55      1.67    695.70      1.00\n",
      "             z[31]     -0.09      0.98     -0.09     -1.83      1.40    771.13      1.01\n",
      "             z[32]      0.05      1.03      0.05     -1.63      1.79    787.41      1.00\n",
      "             z[33]      0.07      0.97      0.08     -1.54      1.68    702.90      1.01\n",
      "             z[34]     -0.03      1.01     -0.05     -1.68      1.64    745.94      1.00\n",
      "             z[35]      0.12      0.99      0.16     -1.50      1.73    723.48      1.00\n",
      "             z[36]      0.07      0.99      0.07     -1.49      1.75    880.22      1.00\n",
      "             z[37]     -0.05      1.00     -0.07     -1.75      1.54    834.88      1.00\n",
      "             z[38]      0.12      0.97      0.09     -1.43      1.77    837.79      1.01\n",
      "             z[39]      0.08      1.01      0.06     -1.61      1.68    834.56      1.00\n",
      "\n",
      "Number of divergences: 905\n",
      "None\n"
     ]
    },
    {
     "data": {
      "text/html": [
       "<div>\n",
       "<style scoped>\n",
       "    .dataframe tbody tr th:only-of-type {\n",
       "        vertical-align: middle;\n",
       "    }\n",
       "\n",
       "    .dataframe tbody tr th {\n",
       "        vertical-align: top;\n",
       "    }\n",
       "\n",
       "    .dataframe thead th {\n",
       "        text-align: right;\n",
       "    }\n",
       "</style>\n",
       "<table border=\"1\" class=\"dataframe\">\n",
       "  <thead>\n",
       "    <tr style=\"text-align: right;\">\n",
       "      <th></th>\n",
       "      <th>mean</th>\n",
       "      <th>sd</th>\n",
       "      <th>hdi_3%</th>\n",
       "      <th>hdi_97%</th>\n",
       "      <th>mcse_mean</th>\n",
       "      <th>mcse_sd</th>\n",
       "      <th>ess_bulk</th>\n",
       "      <th>ess_tail</th>\n",
       "      <th>r_hat</th>\n",
       "    </tr>\n",
       "  </thead>\n",
       "  <tbody>\n",
       "    <tr>\n",
       "      <th>pred_cases_out[0]</th>\n",
       "      <td>1047.788</td>\n",
       "      <td>9.174</td>\n",
       "      <td>1031.186</td>\n",
       "      <td>1067.733</td>\n",
       "      <td>0.382</td>\n",
       "      <td>0.424</td>\n",
       "      <td>614.0</td>\n",
       "      <td>649.0</td>\n",
       "      <td>1.01</td>\n",
       "    </tr>\n",
       "    <tr>\n",
       "      <th>pred_cases_out[1]</th>\n",
       "      <td>281.242</td>\n",
       "      <td>108.975</td>\n",
       "      <td>69.868</td>\n",
       "      <td>488.092</td>\n",
       "      <td>9.122</td>\n",
       "      <td>4.447</td>\n",
       "      <td>144.0</td>\n",
       "      <td>255.0</td>\n",
       "      <td>1.03</td>\n",
       "    </tr>\n",
       "    <tr>\n",
       "      <th>pred_cases_out[2]</th>\n",
       "      <td>206.985</td>\n",
       "      <td>115.288</td>\n",
       "      <td>-9.621</td>\n",
       "      <td>397.501</td>\n",
       "      <td>9.584</td>\n",
       "      <td>3.997</td>\n",
       "      <td>144.0</td>\n",
       "      <td>250.0</td>\n",
       "      <td>1.03</td>\n",
       "    </tr>\n",
       "    <tr>\n",
       "      <th>pred_cases_out[3]</th>\n",
       "      <td>318.353</td>\n",
       "      <td>109.493</td>\n",
       "      <td>101.696</td>\n",
       "      <td>518.628</td>\n",
       "      <td>9.173</td>\n",
       "      <td>4.638</td>\n",
       "      <td>143.0</td>\n",
       "      <td>275.0</td>\n",
       "      <td>1.03</td>\n",
       "    </tr>\n",
       "    <tr>\n",
       "      <th>pred_cases_out[4]</th>\n",
       "      <td>372.500</td>\n",
       "      <td>99.849</td>\n",
       "      <td>183.812</td>\n",
       "      <td>565.474</td>\n",
       "      <td>8.296</td>\n",
       "      <td>3.983</td>\n",
       "      <td>145.0</td>\n",
       "      <td>254.0</td>\n",
       "      <td>1.03</td>\n",
       "    </tr>\n",
       "    <tr>\n",
       "      <th>pred_cases_out[5]</th>\n",
       "      <td>348.637</td>\n",
       "      <td>94.945</td>\n",
       "      <td>169.594</td>\n",
       "      <td>531.984</td>\n",
       "      <td>7.899</td>\n",
       "      <td>3.914</td>\n",
       "      <td>145.0</td>\n",
       "      <td>256.0</td>\n",
       "      <td>1.03</td>\n",
       "    </tr>\n",
       "    <tr>\n",
       "      <th>lp[0]</th>\n",
       "      <td>1047.902</td>\n",
       "      <td>6.341</td>\n",
       "      <td>1036.176</td>\n",
       "      <td>1061.424</td>\n",
       "      <td>0.186</td>\n",
       "      <td>0.249</td>\n",
       "      <td>1277.0</td>\n",
       "      <td>1118.0</td>\n",
       "      <td>1.00</td>\n",
       "    </tr>\n",
       "    <tr>\n",
       "      <th>lp[1]</th>\n",
       "      <td>281.308</td>\n",
       "      <td>108.899</td>\n",
       "      <td>69.295</td>\n",
       "      <td>487.115</td>\n",
       "      <td>9.140</td>\n",
       "      <td>4.460</td>\n",
       "      <td>143.0</td>\n",
       "      <td>274.0</td>\n",
       "      <td>1.03</td>\n",
       "    </tr>\n",
       "    <tr>\n",
       "      <th>lp[2]</th>\n",
       "      <td>206.797</td>\n",
       "      <td>115.002</td>\n",
       "      <td>0.000</td>\n",
       "      <td>393.577</td>\n",
       "      <td>9.561</td>\n",
       "      <td>3.981</td>\n",
       "      <td>145.0</td>\n",
       "      <td>256.0</td>\n",
       "      <td>1.03</td>\n",
       "    </tr>\n",
       "    <tr>\n",
       "      <th>lp[3]</th>\n",
       "      <td>318.391</td>\n",
       "      <td>109.322</td>\n",
       "      <td>108.574</td>\n",
       "      <td>524.800</td>\n",
       "      <td>9.172</td>\n",
       "      <td>4.633</td>\n",
       "      <td>143.0</td>\n",
       "      <td>260.0</td>\n",
       "      <td>1.03</td>\n",
       "    </tr>\n",
       "    <tr>\n",
       "      <th>lp[4]</th>\n",
       "      <td>372.470</td>\n",
       "      <td>99.694</td>\n",
       "      <td>187.279</td>\n",
       "      <td>569.643</td>\n",
       "      <td>8.306</td>\n",
       "      <td>4.025</td>\n",
       "      <td>144.0</td>\n",
       "      <td>239.0</td>\n",
       "      <td>1.03</td>\n",
       "    </tr>\n",
       "    <tr>\n",
       "      <th>lp[5]</th>\n",
       "      <td>348.576</td>\n",
       "      <td>94.698</td>\n",
       "      <td>169.302</td>\n",
       "      <td>530.420</td>\n",
       "      <td>7.871</td>\n",
       "      <td>3.900</td>\n",
       "      <td>145.0</td>\n",
       "      <td>251.0</td>\n",
       "      <td>1.03</td>\n",
       "    </tr>\n",
       "    <tr>\n",
       "      <th>b0</th>\n",
       "      <td>99.981</td>\n",
       "      <td>9.830</td>\n",
       "      <td>81.817</td>\n",
       "      <td>118.776</td>\n",
       "      <td>0.382</td>\n",
       "      <td>0.175</td>\n",
       "      <td>668.0</td>\n",
       "      <td>1317.0</td>\n",
       "      <td>1.00</td>\n",
       "    </tr>\n",
       "    <tr>\n",
       "      <th>b_pop_density</th>\n",
       "      <td>0.042</td>\n",
       "      <td>0.987</td>\n",
       "      <td>-1.736</td>\n",
       "      <td>1.981</td>\n",
       "      <td>0.042</td>\n",
       "      <td>0.024</td>\n",
       "      <td>567.0</td>\n",
       "      <td>876.0</td>\n",
       "      <td>1.00</td>\n",
       "    </tr>\n",
       "    <tr>\n",
       "      <th>b_hdi</th>\n",
       "      <td>0.094</td>\n",
       "      <td>1.022</td>\n",
       "      <td>-1.838</td>\n",
       "      <td>1.986</td>\n",
       "      <td>0.058</td>\n",
       "      <td>0.026</td>\n",
       "      <td>310.0</td>\n",
       "      <td>858.0</td>\n",
       "      <td>1.01</td>\n",
       "    </tr>\n",
       "    <tr>\n",
       "      <th>b_urban</th>\n",
       "      <td>0.134</td>\n",
       "      <td>1.048</td>\n",
       "      <td>-1.742</td>\n",
       "      <td>2.122</td>\n",
       "      <td>0.073</td>\n",
       "      <td>0.033</td>\n",
       "      <td>209.0</td>\n",
       "      <td>565.0</td>\n",
       "      <td>1.02</td>\n",
       "    </tr>\n",
       "    <tr>\n",
       "      <th>vae[0]</th>\n",
       "      <td>922.561</td>\n",
       "      <td>177.903</td>\n",
       "      <td>582.241</td>\n",
       "      <td>1221.539</td>\n",
       "      <td>9.494</td>\n",
       "      <td>7.976</td>\n",
       "      <td>372.0</td>\n",
       "      <td>637.0</td>\n",
       "      <td>1.01</td>\n",
       "    </tr>\n",
       "    <tr>\n",
       "      <th>vae[1]</th>\n",
       "      <td>160.471</td>\n",
       "      <td>30.947</td>\n",
       "      <td>101.613</td>\n",
       "      <td>212.918</td>\n",
       "      <td>1.647</td>\n",
       "      <td>1.376</td>\n",
       "      <td>374.0</td>\n",
       "      <td>633.0</td>\n",
       "      <td>1.01</td>\n",
       "    </tr>\n",
       "    <tr>\n",
       "      <th>vae[2]</th>\n",
       "      <td>82.303</td>\n",
       "      <td>15.853</td>\n",
       "      <td>51.873</td>\n",
       "      <td>108.941</td>\n",
       "      <td>0.844</td>\n",
       "      <td>0.706</td>\n",
       "      <td>374.0</td>\n",
       "      <td>629.0</td>\n",
       "      <td>1.01</td>\n",
       "    </tr>\n",
       "    <tr>\n",
       "      <th>vae[3]</th>\n",
       "      <td>197.303</td>\n",
       "      <td>37.987</td>\n",
       "      <td>124.426</td>\n",
       "      <td>260.831</td>\n",
       "      <td>2.017</td>\n",
       "      <td>1.665</td>\n",
       "      <td>375.0</td>\n",
       "      <td>628.0</td>\n",
       "      <td>1.01</td>\n",
       "    </tr>\n",
       "    <tr>\n",
       "      <th>vae[4]</th>\n",
       "      <td>252.253</td>\n",
       "      <td>49.469</td>\n",
       "      <td>158.580</td>\n",
       "      <td>336.040</td>\n",
       "      <td>2.661</td>\n",
       "      <td>2.294</td>\n",
       "      <td>368.0</td>\n",
       "      <td>618.0</td>\n",
       "      <td>1.01</td>\n",
       "    </tr>\n",
       "    <tr>\n",
       "      <th>vae[5]</th>\n",
       "      <td>229.652</td>\n",
       "      <td>44.223</td>\n",
       "      <td>145.168</td>\n",
       "      <td>304.029</td>\n",
       "      <td>2.341</td>\n",
       "      <td>1.921</td>\n",
       "      <td>377.0</td>\n",
       "      <td>631.0</td>\n",
       "      <td>1.01</td>\n",
       "    </tr>\n",
       "  </tbody>\n",
       "</table>\n",
       "</div>"
      ],
      "text/plain": [
       "                       mean       sd    hdi_3%   hdi_97%  mcse_mean  mcse_sd  \\\n",
       "pred_cases_out[0]  1047.788    9.174  1031.186  1067.733      0.382    0.424   \n",
       "pred_cases_out[1]   281.242  108.975    69.868   488.092      9.122    4.447   \n",
       "pred_cases_out[2]   206.985  115.288    -9.621   397.501      9.584    3.997   \n",
       "pred_cases_out[3]   318.353  109.493   101.696   518.628      9.173    4.638   \n",
       "pred_cases_out[4]   372.500   99.849   183.812   565.474      8.296    3.983   \n",
       "pred_cases_out[5]   348.637   94.945   169.594   531.984      7.899    3.914   \n",
       "lp[0]              1047.902    6.341  1036.176  1061.424      0.186    0.249   \n",
       "lp[1]               281.308  108.899    69.295   487.115      9.140    4.460   \n",
       "lp[2]               206.797  115.002     0.000   393.577      9.561    3.981   \n",
       "lp[3]               318.391  109.322   108.574   524.800      9.172    4.633   \n",
       "lp[4]               372.470   99.694   187.279   569.643      8.306    4.025   \n",
       "lp[5]               348.576   94.698   169.302   530.420      7.871    3.900   \n",
       "b0                   99.981    9.830    81.817   118.776      0.382    0.175   \n",
       "b_pop_density         0.042    0.987    -1.736     1.981      0.042    0.024   \n",
       "b_hdi                 0.094    1.022    -1.838     1.986      0.058    0.026   \n",
       "b_urban               0.134    1.048    -1.742     2.122      0.073    0.033   \n",
       "vae[0]              922.561  177.903   582.241  1221.539      9.494    7.976   \n",
       "vae[1]              160.471   30.947   101.613   212.918      1.647    1.376   \n",
       "vae[2]               82.303   15.853    51.873   108.941      0.844    0.706   \n",
       "vae[3]              197.303   37.987   124.426   260.831      2.017    1.665   \n",
       "vae[4]              252.253   49.469   158.580   336.040      2.661    2.294   \n",
       "vae[5]              229.652   44.223   145.168   304.029      2.341    1.921   \n",
       "\n",
       "                   ess_bulk  ess_tail  r_hat  \n",
       "pred_cases_out[0]     614.0     649.0   1.01  \n",
       "pred_cases_out[1]     144.0     255.0   1.03  \n",
       "pred_cases_out[2]     144.0     250.0   1.03  \n",
       "pred_cases_out[3]     143.0     275.0   1.03  \n",
       "pred_cases_out[4]     145.0     254.0   1.03  \n",
       "pred_cases_out[5]     145.0     256.0   1.03  \n",
       "lp[0]                1277.0    1118.0   1.00  \n",
       "lp[1]                 143.0     274.0   1.03  \n",
       "lp[2]                 145.0     256.0   1.03  \n",
       "lp[3]                 143.0     260.0   1.03  \n",
       "lp[4]                 144.0     239.0   1.03  \n",
       "lp[5]                 145.0     251.0   1.03  \n",
       "b0                    668.0    1317.0   1.00  \n",
       "b_pop_density         567.0     876.0   1.00  \n",
       "b_hdi                 310.0     858.0   1.01  \n",
       "b_urban               209.0     565.0   1.02  \n",
       "vae[0]                372.0     637.0   1.01  \n",
       "vae[1]                374.0     633.0   1.01  \n",
       "vae[2]                374.0     629.0   1.01  \n",
       "vae[3]                375.0     628.0   1.01  \n",
       "vae[4]                368.0     618.0   1.01  \n",
       "vae[5]                377.0     631.0   1.01  "
      ]
     },
     "execution_count": 124,
     "metadata": {},
     "output_type": "execute_result"
    }
   ],
   "source": [
    "# creating  posterior predictive\n",
    "rng_key_pr, rng_key_po = random.split(random.PRNGKey(4))\n",
    "posterior_samples = mcmc.get_samples()\n",
    "posterior_predictive = Predictive(model, posterior_samples)(\n",
    "    rng_key_po, config_count\n",
    ")\n",
    "\n",
    "# transform posterior predictive to arviz inference objects\n",
    "Total_districts = df_lo.shape[0] + df_hi.shape[0]\n",
    "numpyro_data = az.from_numpyro(\n",
    "    mcmc,\n",
    "    posterior_predictive=posterior_predictive,\n",
    "    coords={\"district\": np.arange(Total_districts)},\n",
    "    dims={\"lp\": [\"district\"]},\n",
    ")\n",
    "\n",
    "# %%\n",
    "print(mcmc.print_summary())\n",
    "az.summary(numpyro_data, var_names = [\"pred_cases_out\", \"lp\", \"b0\", \"b_pop_density\", \"b_hdi\", \"b_urban\", \"vae\"])"
   ]
  },
  {
   "cell_type": "code",
   "execution_count": null,
   "metadata": {},
   "outputs": [],
   "source": [
    "mean_pred_cases = numpyro_data.posterior.pred_cases_out.values.mean(axis=(0,1))\n",
    "df_lo['pred_cases'] = mean_pred_cases[:df_lo.shape[0]] / df_lo.Population\n",
    "df_hi['pred_cases'] = mean_pred_cases[df_lo.shape[0]:] / df_hi.Population"
   ]
  },
  {
   "cell_type": "code",
   "execution_count": null,
   "metadata": {},
   "outputs": [
    {
     "data": {
      "image/png": "[encoded data removed]",
      "text/plain": [
       "<Figure size 1000x500 with 4 Axes>"
      ]
     },
     "metadata": {},
     "output_type": "display_data"
    }
   ],
   "source": [
    "fig, ax = plt.subplots(1, 2, figsize=(10, 5))\n",
    "plot_incidence_map(df_lo, ax = ax[0], title = \"Low-Res Observed Prevalence\")\n",
    "plot_incidence_map(df_lo, plot_col = 'pred_cases', ax = ax[1], title = \"Low-Res Predicted Prevalence\")\n",
    "plt.tight_layout()\n",
    "plt.show()"
   ]
  },
  {
   "cell_type": "code",
   "execution_count": null,
   "metadata": {},
   "outputs": [
    {
     "data": {
      "image/png": "[encoded data removed]",
      "text/plain": [
       "<Figure size 1000x500 with 4 Axes>"
      ]
     },
     "metadata": {},
     "output_type": "display_data"
    }
   ],
   "source": [
    "fig, ax = plt.subplots(1, 2, figsize=(10, 5))\n",
    "plot_incidence_map(df_hi, ax = ax[0], title = \"High-Res Observed Prevalence\")\n",
    "plot_incidence_map(df_hi, plot_col = 'pred_cases', ax = ax[1], title = \"High-Res Predicted Prevalence\")\n",
    "plt.tight_layout()\n",
    "plt.show()"
   ]
  },
  {
   "cell_type": "code",
   "execution_count": null,
   "metadata": {},
   "outputs": [
    {
     "name": "stdout",
     "output_type": "stream",
     "text": [
      "MCMC object for year 2021 saved successfully at c:\\Users\\jessi\\Documents\\school\\y4\\s2\\DSE4101\\Individual\\FYP codes\\DSE_FYP\\simulation study\\model weights\\aggVAEPrev\\mcmc_jkt_2021.pkl.\n"
     ]
    }
   ],
   "source": [
    "#save mcmc for aggVAE jkt yearly (change the year manually)\n",
    "# Save the MCMC object as a pickle file\n",
    "# Define the path where you want to save the MCMC files\n",
    "base_dir = os.path.abspath(os.path.join(os.getcwd(), '..'))  # this assumes you are in the 'src' folder\n",
    "model_weights_dir = os.path.join(base_dir, 'model weights', 'aggVAEPrev')\n",
    "\n",
    "# Make sure the directory exists, otherwise create it\n",
    "if not os.path.exists(model_weights_dir):\n",
    "    os.makedirs(model_weights_dir)\n",
    "\n",
    "# Define the file path where to save the MCMC object\n",
    "file_path = os.path.join(model_weights_dir, f\"mcmc_jkt_{year_data}.pkl\")\n",
    "    \n",
    "\n",
    "# Save the MCMC object as a pickle file\n",
    "with open(file_path, 'wb') as f:\n",
    "        pickle.dump(mcmc, f)\n",
    "\n",
    "print(f\"MCMC object for year {year_data} saved successfully at {file_path}.\")"
   ]
  },
  {
   "cell_type": "code",
   "execution_count": null,
   "metadata": {},
   "outputs": [],
   "source": [
    "#save the df predictions\n",
    "df_hi.to_csv(\"../data/df_hi_jkt_2020_aggVAE_preds.csv\")"
   ]
  }
 ],
 "metadata": {
  "kernelspec": {
   "display_name": "Python 3",
   "language": "python",
   "name": "python3"
  },
  "language_info": {
   "codemirror_mode": {
    "name": "ipython",
    "version": 3
   },
   "file_extension": ".py",
   "mimetype": "text/x-python",
   "name": "python",
   "nbconvert_exporter": "python",
   "pygments_lexer": "ipython3",
   "version": "3.13.1"
  }
 },
 "nbformat": 4,
 "nbformat_minor": 2
}
