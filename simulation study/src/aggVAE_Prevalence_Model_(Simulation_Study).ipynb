{
  "nbformat": 4,
  "nbformat_minor": 0,
  "metadata": {
    "colab": {
      "provenance": []
    },
    "kernelspec": {
      "name": "python3",
      "display_name": "Python 3"
    },
    "language_info": {
      "name": "python"
    }
  },
  "cells": [
    {
      "cell_type": "code",
      "execution_count": null,
      "metadata": {
        "id": "gU89vhNRUoB4"
      },
      "outputs": [],
      "source": [
        "import pickle\n",
        "import os\n",
        "import torch\n",
        "\n",
        "import numpy as np\n",
        "import geopandas as gpd\n",
        "import jax\n",
        "import jax.numpy as jnp\n",
        "from jax import random\n",
        "from jax import random, lax, jit, ops\n",
        "from jax.example_libraries import stax\n",
        "\n",
        "import numpyro\n",
        "import numpyro.distributions as dist\n",
        "from numpyro.infer import MCMC, NUTS, Predictive\n",
        "\n",
        "import matplotlib.pyplot as plt\n",
        "import seaborn as sns\n",
        "\n",
        "import numpy as np\n",
        "\n",
        "import dill\n",
        "\n",
        "import time"
      ]
    },
    {
      "cell_type": "code",
      "source": [
        "#ensure this script runs on GPU 1\n",
        "os.environ[\"CUDA_VISIBLE_DEVICES\"] = \"1\"  # Use GPU 1\n",
        "\n",
        "device = torch.device(\"cuda\" if torch.cuda.is_available() else \"cpu\")\n",
        "print(f\"Script B running on {device}\")"
      ],
      "metadata": {
        "colab": {
          "base_uri": "https://localhost:8080/"
        },
        "id": "idQW-xiLjtTz",
        "outputId": "291f5224-13c3-4526-9a8b-8f4f002fffa8"
      },
      "execution_count": null,
      "outputs": [
        {
          "output_type": "stream",
          "name": "stdout",
          "text": [
            "Script B running on cpu\n"
          ]
        }
      ]
    },
    {
      "cell_type": "code",
      "source": [
        "#define the necessary functions\n",
        "def dist_euclid(x, z):\n",
        "    \"\"\"\n",
        "    Computes Eucledian Distance Between Regions. This function is used by\n",
        "    exp_sq_kernel function (kernel function for gaussian processes)\n",
        "    \"\"\"\n",
        "    x = jnp.array(x) # (ngrid_pts, lat/lon) <- i.e (7304,2)\n",
        "    z = jnp.array(z) # (ngrid_pts, lat/lon) <- i.e (7304,2)\n",
        "    if len(x.shape)==1:\n",
        "        x = x.reshape(x.shape[0], 1) #(2618,) -> (7304,1)\n",
        "    if len(z.shape)==1:\n",
        "        z = x.reshape(x.shape[0], 1) #(2618,) -> (7304,1)\n",
        "    n_x, m = x.shape # 7304 , 2\n",
        "    n_z, m_z = z.shape # 7304 , 2\n",
        "    assert m == m_z\n",
        "    delta = jnp.zeros((n_x,n_z)) #(ngrid_pts,ngrid_pts) <- i.e (7304,7304)\n",
        "    for d in jnp.arange(m):\n",
        "        x_d = x[:,d] #(ngrid_pts-lat/lon,) <- (7304,)\n",
        "        z_d = z[:,d] #(ngrid_pts-lat/lon,) <- (7304,)\n",
        "        delta += (x_d[:,jnp.newaxis] - z_d)**2 # (7304,7304)\n",
        "\n",
        "    return jnp.sqrt(delta) #(7304,7304)\n",
        "def exp_sq_kernel(x, z, var, length, noise, jitter=1.0e-4):\n",
        "    dist = dist_euclid(x, z) #(7304, 7304)\n",
        "    deltaXsq = jnp.power(dist/ length, 2.0)\n",
        "    k = var * jnp.exp(-0.5 * deltaXsq)\n",
        "    k += (noise + jitter) * jnp.eye(x.shape[0])\n",
        "    return k # (ngrid_pts, ngrid_pts) <- (7304,7304)\n",
        "\n",
        "def vae_decoder(hidden_dim, out_dim):\n",
        "    return stax.serial(\n",
        "        # (num_samples, z_dim) -> (num_samples, hidden_dim): (5,40) -> (5,50)\n",
        "        stax.Dense(hidden_dim, W_init = stax.randn()),\n",
        "        stax.Elu,\n",
        "        # (num_samples, hidden_dim) -> (num_samples, num_regions) : (5,50) -> (5, 58)\n",
        "        stax.Dense(out_dim, W_init = stax.randn())\n",
        "    )"
      ],
      "metadata": {
        "id": "b8MC7NwCjxm2"
      },
      "execution_count": null,
      "outputs": []
    },
    {
      "cell_type": "code",
      "source": [
        "def prev_model_vae_aggr(args):\n",
        "\n",
        "    x = args[\"x\"]\n",
        "    out_dims = args[\"out_dims\"]\n",
        "    n = args[\"sigma\"]\n",
        "    predict = args[\"predict\"]\n",
        "    n_hi_regions = total_population_hi.shape[0] #24\n",
        "\n",
        "    #covariates\n",
        "    pop_density_lo = args[\"pop_density_lo\"]  # (4,) one province (jkt) for 4 yrs' data\n",
        "    pop_density_hi = args[\"pop_density_hi\"]  # (24,)\n",
        "    hdi_lo = args[\"hdi_lo\"]  # (4,) 6 districts within jkt for 4 yrs' data\n",
        "    hdi_hi = args[\"hdi_hi\"]  # (24,)\n",
        "    total_population_lo = args[\"total_population_lo\"]\n",
        "    total_population_hi = args[\"total_population_hi\"]\n",
        "\n",
        "    #aggregate pop_density tgt\n",
        "    pop_density = jnp.concatenate([pop_density_lo,pop_density_hi], axis = 0)\n",
        "\n",
        "    #aggregate hdi tgt\n",
        "    hdi = jnp.concatenate([hdi_lo,hdi_hi], axis = 0)\n",
        "\n",
        "    #aggregate total populations low and high\n",
        "    total_population = jnp.concatenate([total_population_lo,total_population_hi], axis = 0)\n",
        "\n",
        "    total_cases_lo = args[\"total_cases_lo\"] #cos we wanna predict total cases district-wise, so only feed total cases for low res data\n",
        "\n",
        "    # random effect\n",
        "    decoder_params =args[\"decoder_params\"]\n",
        "    z_dim, hidden_dim = decoder_params[0][0].shape\n",
        "    z = numpyro.sample(\"z\", dist.Normal(jnp.zeros(z_dim), jnp.ones(z_dim)))\n",
        "    _, decoder_apply = vae_decoder(hidden_dim, out_dims) #Instantiate decoder\n",
        "    vae_aggr = numpyro.deterministic(\"vae_aggr\", decoder_apply(decoder_params, z))\n",
        "    s = numpyro.sample(\"sigma\", dist.HalfNormal(n))\n",
        "    vae = numpyro.deterministic(\"vae\", s * vae_aggr)\n",
        "\n",
        "    ## Fixed effects\n",
        "    b0 = numpyro.sample(\"b0\", dist.Normal(0, 1))  #Intercept\n",
        "    b_pop_density = numpyro.sample(\"b_pop_density\", dist.Normal(0, 1))  #Effect of population density\n",
        "    b_hdi = numpyro.sample(\"b_hdi\", dist.Normal(0, 1))  #Effect of HDI\n",
        "\n",
        "    #scale pop_density and hdi (normalise)\n",
        "    # Standardize covariates\n",
        "    pop_density = (pop_density - jnp.mean(pop_density)) / (jnp.std(pop_density))\n",
        "    hdi = (hdi - jnp.mean(hdi)) / (jnp.std(hdi))\n",
        "\n",
        "    # Linear predictor\n",
        "    lp = b0 + vae + b_pop_density * pop_density + b_hdi * hdi  # (num_districts,)\n",
        "\n",
        "    # Prevalence probability\n",
        "    theta = numpyro.deterministic(\"theta\", jax.nn.sigmoid(lp)*1e-2)  # (num_districts,)\n",
        "\n",
        "    #add NaN values to total_cases to accommodate for unavailable total cases data for high resolution (that we want to predict)\n",
        "    total_cases = jnp.pad(total_cases_lo, (0, n_hi_regions),constant_values = 0.0) #[3762.  484. ... , 0,0,0]\n",
        "    total_cases = jnp.where(total_cases == 0, jnp.nan, total_cases)# [3762.  484. ... , nan,nan,nan]\n",
        "    total_cases_mask = ~jnp.isnan(total_cases) # [True, True, ...., False, False, False]\n",
        "\n",
        "    # Binomial likelihood\n",
        "    with numpyro.handlers.mask(mask=total_cases_mask):\n",
        "        observed_cases = numpyro.sample(\n",
        "            \"observed_cases\",\n",
        "            dist.Binomial(total_count=total_population, probs=theta),\n",
        "            obs=total_cases)\n",
        "\n",
        "    return observed_cases\n",
        "\n"
      ],
      "metadata": {
        "id": "2b3sw-2mUxLS"
      },
      "execution_count": null,
      "outputs": []
    },
    {
      "cell_type": "markdown",
      "source": [
        "##Load variables"
      ],
      "metadata": {
        "id": "JgtiiyNuWPpN"
      }
    },
    {
      "cell_type": "code",
      "source": [
        "# Lat/Lon Values of artificial grid\n",
        "x = np.load(\"lat_lon_x_jkt.npy\")\n",
        "df_lo = gpd.read_file('jkt_prov.shp')\n",
        "df_hi = gpd.read_file('jkt_dist.shp')"
      ],
      "metadata": {
        "id": "TQwJ2-dkWPJP"
      },
      "execution_count": null,
      "outputs": []
    },
    {
      "cell_type": "code",
      "source": [
        "#hidden dim of vae\n",
        "h = 30\n",
        "\n",
        "#z dim of vae\n",
        "a = 40"
      ],
      "metadata": {
        "id": "AyUZa4Bzj3Lg"
      },
      "execution_count": null,
      "outputs": []
    },
    {
      "cell_type": "markdown",
      "source": [
        "##Arguments to Model"
      ],
      "metadata": {
        "id": "x_zfQLneXYy8"
      }
    },
    {
      "cell_type": "code",
      "source": [
        "args = {\n",
        "        \"pop_density_lo\": jnp.array(df_lo[\"Pop_den\"]), # Shape (num_districts,)\n",
        "        \"pop_density_hi\": jnp.array(df_hi[\"Pop_den\"]), # Shape (num_districts,)\n",
        "        \"hdi_lo\": jnp.array(df_lo[\"HDI\"]), # Shape (num_districts, 2)\n",
        "        \"hdi_hi\": jnp.array(df_hi[\"HDI\"]), # Shape (num_districts, 2)\n",
        "        \"total_cases_lo\" : jnp.array(df_lo[\"Cases\"]),\n",
        "        \"total_population_lo\" : jnp.array(df_lo[\"Population\"]),\n",
        "        \"total_population_hi\" : jnp.array(df_hi[\"Population\"]),\n",
        "        \"x\" : jnp.array(x),\n",
        "        \"gp_kernel\" : exp_sq_kernel,\n",
        "        \"jitter\" : 1e-4,\n",
        "        \"noise\" : 1e-4,\n",
        "        # VAE training\n",
        "        \"rng_key\": random.PRNGKey(5),\n",
        "        \"num_epochs\": 20,\n",
        "        \"learning_rate\": 0.0005,\n",
        "        \"batch_size\": 100,\n",
        "        \"out_dims\" : df_lo.shape[0] + df_hi.shape[0], #28\n",
        "        \"num_train\": 100,\n",
        "        \"num_test\":100,\n",
        "        \"vae_var\": 1,\n",
        "        \"sigma\": 0.01\n",
        "    }"
      ],
      "metadata": {
        "id": "FRnHiFc8Xahm"
      },
      "execution_count": null,
      "outputs": []
    },
    {
      "cell_type": "markdown",
      "source": [
        "##Load decoder model"
      ],
      "metadata": {
        "id": "Kjs__SLEXbSO"
      }
    },
    {
      "cell_type": "code",
      "source": [
        "#change the specific file name under the folder model_weights\n",
        "with open(\"aggVAE_e20_h30_z40\", \"rb\") as file:\n",
        "        vae_params = pickle.load(file)\n",
        "\n",
        "encoder_params = vae_params[\"encoder$params\"]\n",
        "decoder_params = vae_params[\"decoder$params\"]\n",
        "args[\"decoder_params\"] = decoder_params"
      ],
      "metadata": {
        "id": "3Ry-ZxLzXdZE"
      },
      "execution_count": null,
      "outputs": []
    },
    {
      "cell_type": "markdown",
      "source": [
        "##Run MCMC"
      ],
      "metadata": {
        "id": "pGFE9Am7Xu81"
      }
    },
    {
      "cell_type": "code",
      "source": [
        "# Get script location and define correct save directory (sibling to src/)\n",
        "script_dir = os.getcwd()  # Get current working directory\n",
        "save_dir = os.path.abspath(os.path.join(script_dir, \"..\", \"model_weights\", \"aggVAEPrev\"))  # Move up and into model_weights\n",
        "os.makedirs(save_dir, exist_ok=True)  # Ensure the directory exists\n",
        "\n",
        "#set seed for running mcmc\n",
        "mcmc_key, predict_key = random.split(random.PRNGKey(0))\n",
        "start_time = time.time()\n",
        "mcmc = MCMC(NUTS(prev_model_vae_aggr), num_warmup = 1000, num_samples = 2000, num_chains = 4)\n",
        "\n",
        "mcmc.run(mcmc_key, args)\n",
        "t_elapsed = time.time() - start_time\n",
        "t_elapsed_mins = int(t_elapsed / 60)\n",
        "\n",
        "mcmc.print_summary(exclude_deterministic = False)"
      ],
      "metadata": {
        "id": "1Cdqp20BXx2M",
        "colab": {
          "base_uri": "https://localhost:8080/"
        },
        "outputId": "63e4bd7f-6421-46d6-e667-000a74aec50b"
      },
      "execution_count": null,
      "outputs": [
        {
          "output_type": "stream",
          "name": "stderr",
          "text": [
            "<ipython-input-14-5fe9d1121c00>:9: UserWarning: There are not enough devices to run parallel chains: expected 4 but got 1. Chains will be drawn sequentially. If you are running MCMC in CPU, consider using `numpyro.set_host_device_count(4)` at the beginning of your program. You can double-check how many devices are available in your system using `jax.local_device_count()`.\n",
            "  mcmc = MCMC(NUTS(prev_model_vae_aggr), num_warmup = 1000, num_samples = 2000, num_chains = 4)\n",
            "sample: 100%|██████████| 3000/3000 [00:09<00:00, 329.85it/s, 15 steps of size 4.07e-01. acc. prob=0.88]\n",
            "sample: 100%|██████████| 3000/3000 [00:06<00:00, 459.27it/s, 7 steps of size 4.79e-01. acc. prob=0.85] \n",
            "sample: 100%|██████████| 3000/3000 [00:07<00:00, 401.44it/s, 7 steps of size 4.73e-01. acc. prob=0.84]\n",
            "sample: 100%|██████████| 3000/3000 [00:06<00:00, 458.61it/s, 15 steps of size 3.50e-01. acc. prob=0.90]\n"
          ]
        },
        {
          "output_type": "stream",
          "name": "stdout",
          "text": [
            "\n",
            "                     mean       std    median      5.0%     95.0%     n_eff     r_hat\n",
            "             b0     -1.50      0.02     -1.50     -1.53     -1.47  12407.64      1.00\n",
            "          b_hdi      0.14      0.02      0.14      0.11      0.17  12395.71      1.00\n",
            "  b_pop_density     -0.11      0.02     -0.11     -0.14     -0.08  12227.32      1.00\n",
            "          sigma      0.01      0.01      0.01      0.00      0.02   8945.01      1.00\n",
            "       theta[0]      0.00      0.00      0.00      0.00      0.00  12716.81      1.00\n",
            "       theta[1]      0.00      0.00      0.00      0.00      0.00  12654.60      1.00\n",
            "       theta[2]      0.00      0.00      0.00      0.00      0.00  12238.76      1.00\n",
            "       theta[3]      0.00      0.00      0.00      0.00      0.00  11952.38      1.00\n",
            "       theta[4]      0.00      0.00      0.00      0.00      0.00  12574.31      1.00\n",
            "       theta[5]      0.00      0.00      0.00      0.00      0.00  12593.23      1.00\n",
            "       theta[6]      0.00      0.00      0.00      0.00      0.00  12558.22      1.00\n",
            "       theta[7]      0.00      0.00      0.00      0.00      0.00  12199.66      1.00\n",
            "       theta[8]      0.00      0.00      0.00      0.00      0.00  14659.47      1.00\n",
            "       theta[9]      0.00      0.00      0.00      0.00      0.00  14749.36      1.00\n",
            "      theta[10]      0.00      0.00      0.00      0.00      0.00  14471.59      1.00\n",
            "      theta[11]      0.00      0.00      0.00      0.00      0.00  14368.49      1.00\n",
            "      theta[12]      0.00      0.00      0.00      0.00      0.00  12243.58      1.00\n",
            "      theta[13]      0.00      0.00      0.00      0.00      0.00  12286.26      1.00\n",
            "      theta[14]      0.00      0.00      0.00      0.00      0.00  12579.64      1.00\n",
            "      theta[15]      0.00      0.00      0.00      0.00      0.00  12824.06      1.00\n",
            "      theta[16]      0.00      0.00      0.00      0.00      0.00  11343.04      1.00\n",
            "      theta[17]      0.00      0.00      0.00      0.00      0.00  11350.23      1.00\n",
            "      theta[18]      0.00      0.00      0.00      0.00      0.00  11368.73      1.00\n",
            "      theta[19]      0.00      0.00      0.00      0.00      0.00  11437.81      1.00\n",
            "         vae[0]     -0.00      0.00     -0.00     -0.00      0.00   8656.48      1.00\n",
            "         vae[1]     -0.00      0.00     -0.00     -0.00      0.00   8657.67      1.00\n",
            "         vae[2]     -0.00      0.00     -0.00     -0.00      0.00   8653.87      1.00\n",
            "         vae[3]     -0.00      0.00     -0.00     -0.00      0.00   8663.99      1.00\n",
            "         vae[4]     -0.00      0.00     -0.00     -0.00      0.00   9063.12      1.00\n",
            "         vae[5]     -0.00      0.00     -0.00     -0.00      0.00   9136.45      1.00\n",
            "         vae[6]     -0.00      0.00     -0.00     -0.00      0.00   9097.22      1.00\n",
            "         vae[7]     -0.00      0.00     -0.00     -0.00      0.00   9083.78      1.00\n",
            "         vae[8]     -0.00      0.00     -0.00     -0.00      0.00   8106.98      1.00\n",
            "         vae[9]     -0.00      0.00     -0.00     -0.00      0.00   8047.24      1.00\n",
            "        vae[10]     -0.00      0.00     -0.00     -0.00      0.00   8076.38      1.00\n",
            "        vae[11]     -0.00      0.00     -0.00     -0.00      0.00   8082.01      1.00\n",
            "        vae[12]     -0.00      0.00     -0.00     -0.00      0.00   8407.89      1.00\n",
            "        vae[13]     -0.00      0.00     -0.00     -0.00      0.00   8513.60      1.00\n",
            "        vae[14]     -0.00      0.00     -0.00     -0.00      0.00   8505.66      1.00\n",
            "        vae[15]     -0.00      0.00     -0.00     -0.00      0.00   8705.74      1.00\n",
            "        vae[16]      0.00      0.00      0.00     -0.00      0.00   8650.27      1.00\n",
            "        vae[17]      0.00      0.00      0.00     -0.00      0.00   8678.90      1.00\n",
            "        vae[18]      0.00      0.00      0.00     -0.00      0.00   8678.32      1.00\n",
            "        vae[19]      0.00      0.00      0.00     -0.00      0.00   8608.12      1.00\n",
            "    vae_aggr[0]     -0.00      0.00     -0.00     -0.01      0.01  11635.66      1.00\n",
            "    vae_aggr[1]     -0.00      0.00     -0.00     -0.01      0.01  11628.46      1.00\n",
            "    vae_aggr[2]     -0.00      0.00     -0.00     -0.01      0.01  11592.41      1.00\n",
            "    vae_aggr[3]     -0.00      0.00     -0.00     -0.01      0.01  11648.28      1.00\n",
            "    vae_aggr[4]     -0.00      0.00     -0.00     -0.01      0.00  12888.53      1.00\n",
            "    vae_aggr[5]     -0.00      0.00     -0.00     -0.01      0.00  12928.45      1.00\n",
            "    vae_aggr[6]     -0.00      0.00     -0.00     -0.01      0.00  12878.49      1.00\n",
            "    vae_aggr[7]     -0.00      0.00     -0.00     -0.01      0.00  12906.07      1.00\n",
            "    vae_aggr[8]     -0.00      0.00     -0.00     -0.00      0.00  11576.49      1.00\n",
            "    vae_aggr[9]     -0.00      0.00     -0.00     -0.00      0.00  11548.56      1.00\n",
            "   vae_aggr[10]     -0.00      0.00     -0.00     -0.00      0.00  11612.87      1.00\n",
            "   vae_aggr[11]     -0.00      0.00     -0.00     -0.00      0.00  11555.29      1.00\n",
            "   vae_aggr[12]     -0.00      0.00     -0.00     -0.00      0.00  12143.31      1.00\n",
            "   vae_aggr[13]     -0.00      0.00     -0.00     -0.00      0.00  12218.71      1.00\n",
            "   vae_aggr[14]     -0.00      0.00     -0.00     -0.00      0.00  12489.62      1.00\n",
            "   vae_aggr[15]     -0.00      0.00     -0.00     -0.00      0.00  12537.06      1.00\n",
            "   vae_aggr[16]      0.00      0.00      0.00     -0.00      0.01  11754.20      1.00\n",
            "   vae_aggr[17]      0.00      0.00      0.00     -0.00      0.01  11816.87      1.00\n",
            "   vae_aggr[18]      0.00      0.00      0.00     -0.00      0.01  11834.89      1.00\n",
            "   vae_aggr[19]      0.00      0.00      0.00     -0.00      0.01  11775.53      1.00\n",
            "           z[0]      0.00      1.00      0.00     -1.68      1.61  11646.13      1.00\n",
            "           z[1]     -0.00      0.98      0.00     -1.62      1.62  12183.79      1.00\n",
            "           z[2]     -0.00      0.98     -0.00     -1.72      1.50  11529.56      1.00\n",
            "           z[3]      0.00      1.01      0.00     -1.71      1.57  12709.57      1.00\n",
            "           z[4]     -0.02      1.01     -0.01     -1.67      1.64  11829.15      1.00\n",
            "           z[5]     -0.01      1.00     -0.01     -1.58      1.68  13792.01      1.00\n",
            "           z[6]     -0.02      0.99     -0.01     -1.68      1.58  10248.22      1.00\n",
            "           z[7]     -0.01      0.98     -0.00     -1.59      1.64  10507.07      1.00\n",
            "           z[8]     -0.01      0.99     -0.01     -1.62      1.61  11185.29      1.00\n",
            "           z[9]     -0.01      1.01     -0.01     -1.64      1.63  12914.74      1.00\n",
            "          z[10]     -0.01      0.99     -0.01     -1.56      1.68  14949.89      1.00\n",
            "          z[11]     -0.01      1.01      0.01     -1.72      1.57  11776.74      1.00\n",
            "          z[12]      0.01      1.00      0.00     -1.66      1.65  13074.99      1.00\n",
            "          z[13]      0.01      1.03     -0.00     -1.75      1.63  10704.87      1.00\n",
            "          z[14]     -0.01      0.97     -0.01     -1.57      1.59  12618.15      1.00\n",
            "          z[15]     -0.01      1.01     -0.02     -1.62      1.70  10908.77      1.00\n",
            "          z[16]     -0.01      0.99     -0.02     -1.66      1.57  12641.33      1.00\n",
            "          z[17]      0.02      0.98      0.00     -1.60      1.60  12964.93      1.00\n",
            "          z[18]      0.00      1.01     -0.01     -1.67      1.63  12418.50      1.00\n",
            "          z[19]      0.02      1.02      0.02     -1.60      1.74  11627.97      1.00\n",
            "          z[20]     -0.00      1.02     -0.00     -1.70      1.63  13644.01      1.00\n",
            "          z[21]      0.01      1.00      0.01     -1.58      1.65  13571.61      1.00\n",
            "          z[22]     -0.00      0.99     -0.00     -1.60      1.63  10614.46      1.00\n",
            "          z[23]     -0.01      1.00     -0.01     -1.61      1.68  10915.36      1.00\n",
            "          z[24]     -0.00      0.98      0.00     -1.62      1.60  11663.94      1.00\n",
            "          z[25]     -0.02      1.00     -0.00     -1.64      1.63  10731.99      1.00\n",
            "          z[26]     -0.01      1.01     -0.00     -1.62      1.70  11641.67      1.00\n",
            "          z[27]      0.02      1.00      0.03     -1.63      1.67  12670.88      1.00\n",
            "          z[28]     -0.01      1.02     -0.01     -1.71      1.64  11347.30      1.00\n",
            "          z[29]     -0.00      0.99     -0.01     -1.58      1.66  10418.43      1.00\n",
            "          z[30]      0.01      0.99      0.02     -1.66      1.60  10715.63      1.00\n",
            "          z[31]     -0.00      0.99     -0.02     -1.62      1.61  10690.93      1.00\n",
            "          z[32]      0.02      1.00      0.00     -1.60      1.66  11895.73      1.00\n",
            "          z[33]     -0.00      0.99      0.00     -1.70      1.53  11159.59      1.00\n",
            "          z[34]      0.00      1.00     -0.00     -1.62      1.64  10936.08      1.00\n",
            "          z[35]     -0.01      0.99     -0.00     -1.64      1.59  13619.00      1.00\n",
            "          z[36]     -0.00      1.02      0.01     -1.68      1.65  12932.12      1.00\n",
            "          z[37]     -0.01      1.00     -0.01     -1.58      1.70  12320.44      1.00\n",
            "          z[38]      0.00      1.01      0.01     -1.70      1.64  11942.05      1.00\n",
            "          z[39]     -0.01      1.01     -0.01     -1.72      1.60  10430.38      1.00\n",
            "\n",
            "Number of divergences: 0\n"
          ]
        }
      ]
    },
    {
      "cell_type": "code",
      "source": [
        "n_samples = 2000\n",
        "n_warmup = 1000\n",
        "n = args[\"sigma\"]\n",
        "\n",
        "#save the mcmc\n",
        "f_path = os.path.join(save_dir, f\"aggVAEPrev_nsamples_{n_samples}_tt{t_elapsed_mins}min_sigma{n}_hdim{h}_zdim{a}.pkl\")\n",
        "with open(f_path, \"wb\") as file:\n",
        "    dill.dump(mcmc, file)\n",
        "\n",
        "print(f\"Saved aggVAEPrev MCMC samples to {f_path}\")"
      ],
      "metadata": {
        "colab": {
          "base_uri": "https://localhost:8080/"
        },
        "id": "s5WTwxrMj-07",
        "outputId": "4e22674a-12ac-47ad-94b2-0d06651c10fc"
      },
      "execution_count": null,
      "outputs": [
        {
          "output_type": "stream",
          "name": "stdout",
          "text": [
            "Saved aggVAEPrev MCMC samples to /model_weights/aggVAEPrev/aggVAEPrev_nsamples_2000_tt0min_sigma0.01_hdim30_zdim40.pkl\n"
          ]
        }
      ]
    },
    {
      "cell_type": "code",
      "source": [
        "#print total elapsed time\n",
        "total_end = time.time()\n",
        "print(\"\\nMCMC Total elapsed time:\", round(total_end), \"s\")\n",
        "print(\"MCMC Total elapsed time:\", round(total_end / 60), \"min\")\n",
        "print(\"MCMC Total elapsed time:\", round(total_end / (60 * 60)), \"h\")"
      ],
      "metadata": {
        "colab": {
          "base_uri": "https://localhost:8080/"
        },
        "id": "oVXQxbUKj_wk",
        "outputId": "0c86aa58-5bfd-4bde-dde4-25786130168e"
      },
      "execution_count": null,
      "outputs": [
        {
          "output_type": "stream",
          "name": "stdout",
          "text": [
            "\n",
            "MCMC Total elapsed time: 1743426622 s\n",
            "MCMC Total elapsed time: 29057110 min\n",
            "MCMC Total elapsed time: 484285 h\n"
          ]
        }
      ]
    },
    {
      "cell_type": "code",
      "source": [
        "#print the summary stats\n",
        "samples = mcmc.get_samples(group_by_chain = True)\n",
        "mcmc.print_summary(exclude_deterministic=False)"
      ],
      "metadata": {
        "colab": {
          "base_uri": "https://localhost:8080/"
        },
        "id": "8EW5mUIhkA-P",
        "outputId": "734467b7-bcaa-4510-aa58-2a756c280cbd"
      },
      "execution_count": null,
      "outputs": [
        {
          "output_type": "stream",
          "name": "stdout",
          "text": [
            "\n",
            "                     mean       std    median      5.0%     95.0%     n_eff     r_hat\n",
            "             b0     -1.50      0.02     -1.50     -1.53     -1.47  12407.64      1.00\n",
            "          b_hdi      0.14      0.02      0.14      0.11      0.17  12395.71      1.00\n",
            "  b_pop_density     -0.11      0.02     -0.11     -0.14     -0.08  12227.32      1.00\n",
            "          sigma      0.01      0.01      0.01      0.00      0.02   8945.01      1.00\n",
            "       theta[0]      0.00      0.00      0.00      0.00      0.00  12716.81      1.00\n",
            "       theta[1]      0.00      0.00      0.00      0.00      0.00  12654.60      1.00\n",
            "       theta[2]      0.00      0.00      0.00      0.00      0.00  12238.76      1.00\n",
            "       theta[3]      0.00      0.00      0.00      0.00      0.00  11952.38      1.00\n",
            "       theta[4]      0.00      0.00      0.00      0.00      0.00  12574.31      1.00\n",
            "       theta[5]      0.00      0.00      0.00      0.00      0.00  12593.23      1.00\n",
            "       theta[6]      0.00      0.00      0.00      0.00      0.00  12558.22      1.00\n",
            "       theta[7]      0.00      0.00      0.00      0.00      0.00  12199.66      1.00\n",
            "       theta[8]      0.00      0.00      0.00      0.00      0.00  14659.47      1.00\n",
            "       theta[9]      0.00      0.00      0.00      0.00      0.00  14749.36      1.00\n",
            "      theta[10]      0.00      0.00      0.00      0.00      0.00  14471.59      1.00\n",
            "      theta[11]      0.00      0.00      0.00      0.00      0.00  14368.49      1.00\n",
            "      theta[12]      0.00      0.00      0.00      0.00      0.00  12243.58      1.00\n",
            "      theta[13]      0.00      0.00      0.00      0.00      0.00  12286.26      1.00\n",
            "      theta[14]      0.00      0.00      0.00      0.00      0.00  12579.64      1.00\n",
            "      theta[15]      0.00      0.00      0.00      0.00      0.00  12824.06      1.00\n",
            "      theta[16]      0.00      0.00      0.00      0.00      0.00  11343.04      1.00\n",
            "      theta[17]      0.00      0.00      0.00      0.00      0.00  11350.23      1.00\n",
            "      theta[18]      0.00      0.00      0.00      0.00      0.00  11368.73      1.00\n",
            "      theta[19]      0.00      0.00      0.00      0.00      0.00  11437.81      1.00\n",
            "         vae[0]     -0.00      0.00     -0.00     -0.00      0.00   8656.48      1.00\n",
            "         vae[1]     -0.00      0.00     -0.00     -0.00      0.00   8657.67      1.00\n",
            "         vae[2]     -0.00      0.00     -0.00     -0.00      0.00   8653.87      1.00\n",
            "         vae[3]     -0.00      0.00     -0.00     -0.00      0.00   8663.99      1.00\n",
            "         vae[4]     -0.00      0.00     -0.00     -0.00      0.00   9063.12      1.00\n",
            "         vae[5]     -0.00      0.00     -0.00     -0.00      0.00   9136.45      1.00\n",
            "         vae[6]     -0.00      0.00     -0.00     -0.00      0.00   9097.22      1.00\n",
            "         vae[7]     -0.00      0.00     -0.00     -0.00      0.00   9083.78      1.00\n",
            "         vae[8]     -0.00      0.00     -0.00     -0.00      0.00   8106.98      1.00\n",
            "         vae[9]     -0.00      0.00     -0.00     -0.00      0.00   8047.24      1.00\n",
            "        vae[10]     -0.00      0.00     -0.00     -0.00      0.00   8076.38      1.00\n",
            "        vae[11]     -0.00      0.00     -0.00     -0.00      0.00   8082.01      1.00\n",
            "        vae[12]     -0.00      0.00     -0.00     -0.00      0.00   8407.89      1.00\n",
            "        vae[13]     -0.00      0.00     -0.00     -0.00      0.00   8513.60      1.00\n",
            "        vae[14]     -0.00      0.00     -0.00     -0.00      0.00   8505.66      1.00\n",
            "        vae[15]     -0.00      0.00     -0.00     -0.00      0.00   8705.74      1.00\n",
            "        vae[16]      0.00      0.00      0.00     -0.00      0.00   8650.27      1.00\n",
            "        vae[17]      0.00      0.00      0.00     -0.00      0.00   8678.90      1.00\n",
            "        vae[18]      0.00      0.00      0.00     -0.00      0.00   8678.32      1.00\n",
            "        vae[19]      0.00      0.00      0.00     -0.00      0.00   8608.12      1.00\n",
            "    vae_aggr[0]     -0.00      0.00     -0.00     -0.01      0.01  11635.66      1.00\n",
            "    vae_aggr[1]     -0.00      0.00     -0.00     -0.01      0.01  11628.46      1.00\n",
            "    vae_aggr[2]     -0.00      0.00     -0.00     -0.01      0.01  11592.41      1.00\n",
            "    vae_aggr[3]     -0.00      0.00     -0.00     -0.01      0.01  11648.28      1.00\n",
            "    vae_aggr[4]     -0.00      0.00     -0.00     -0.01      0.00  12888.53      1.00\n",
            "    vae_aggr[5]     -0.00      0.00     -0.00     -0.01      0.00  12928.45      1.00\n",
            "    vae_aggr[6]     -0.00      0.00     -0.00     -0.01      0.00  12878.49      1.00\n",
            "    vae_aggr[7]     -0.00      0.00     -0.00     -0.01      0.00  12906.07      1.00\n",
            "    vae_aggr[8]     -0.00      0.00     -0.00     -0.00      0.00  11576.49      1.00\n",
            "    vae_aggr[9]     -0.00      0.00     -0.00     -0.00      0.00  11548.56      1.00\n",
            "   vae_aggr[10]     -0.00      0.00     -0.00     -0.00      0.00  11612.87      1.00\n",
            "   vae_aggr[11]     -0.00      0.00     -0.00     -0.00      0.00  11555.29      1.00\n",
            "   vae_aggr[12]     -0.00      0.00     -0.00     -0.00      0.00  12143.31      1.00\n",
            "   vae_aggr[13]     -0.00      0.00     -0.00     -0.00      0.00  12218.71      1.00\n",
            "   vae_aggr[14]     -0.00      0.00     -0.00     -0.00      0.00  12489.62      1.00\n",
            "   vae_aggr[15]     -0.00      0.00     -0.00     -0.00      0.00  12537.06      1.00\n",
            "   vae_aggr[16]      0.00      0.00      0.00     -0.00      0.01  11754.20      1.00\n",
            "   vae_aggr[17]      0.00      0.00      0.00     -0.00      0.01  11816.87      1.00\n",
            "   vae_aggr[18]      0.00      0.00      0.00     -0.00      0.01  11834.89      1.00\n",
            "   vae_aggr[19]      0.00      0.00      0.00     -0.00      0.01  11775.53      1.00\n",
            "           z[0]      0.00      1.00      0.00     -1.68      1.61  11646.13      1.00\n",
            "           z[1]     -0.00      0.98      0.00     -1.62      1.62  12183.79      1.00\n",
            "           z[2]     -0.00      0.98     -0.00     -1.72      1.50  11529.56      1.00\n",
            "           z[3]      0.00      1.01      0.00     -1.71      1.57  12709.57      1.00\n",
            "           z[4]     -0.02      1.01     -0.01     -1.67      1.64  11829.15      1.00\n",
            "           z[5]     -0.01      1.00     -0.01     -1.58      1.68  13792.01      1.00\n",
            "           z[6]     -0.02      0.99     -0.01     -1.68      1.58  10248.22      1.00\n",
            "           z[7]     -0.01      0.98     -0.00     -1.59      1.64  10507.07      1.00\n",
            "           z[8]     -0.01      0.99     -0.01     -1.62      1.61  11185.29      1.00\n",
            "           z[9]     -0.01      1.01     -0.01     -1.64      1.63  12914.74      1.00\n",
            "          z[10]     -0.01      0.99     -0.01     -1.56      1.68  14949.89      1.00\n",
            "          z[11]     -0.01      1.01      0.01     -1.72      1.57  11776.74      1.00\n",
            "          z[12]      0.01      1.00      0.00     -1.66      1.65  13074.99      1.00\n",
            "          z[13]      0.01      1.03     -0.00     -1.75      1.63  10704.87      1.00\n",
            "          z[14]     -0.01      0.97     -0.01     -1.57      1.59  12618.15      1.00\n",
            "          z[15]     -0.01      1.01     -0.02     -1.62      1.70  10908.77      1.00\n",
            "          z[16]     -0.01      0.99     -0.02     -1.66      1.57  12641.33      1.00\n",
            "          z[17]      0.02      0.98      0.00     -1.60      1.60  12964.93      1.00\n",
            "          z[18]      0.00      1.01     -0.01     -1.67      1.63  12418.50      1.00\n",
            "          z[19]      0.02      1.02      0.02     -1.60      1.74  11627.97      1.00\n",
            "          z[20]     -0.00      1.02     -0.00     -1.70      1.63  13644.01      1.00\n",
            "          z[21]      0.01      1.00      0.01     -1.58      1.65  13571.61      1.00\n",
            "          z[22]     -0.00      0.99     -0.00     -1.60      1.63  10614.46      1.00\n",
            "          z[23]     -0.01      1.00     -0.01     -1.61      1.68  10915.36      1.00\n",
            "          z[24]     -0.00      0.98      0.00     -1.62      1.60  11663.94      1.00\n",
            "          z[25]     -0.02      1.00     -0.00     -1.64      1.63  10731.99      1.00\n",
            "          z[26]     -0.01      1.01     -0.00     -1.62      1.70  11641.67      1.00\n",
            "          z[27]      0.02      1.00      0.03     -1.63      1.67  12670.88      1.00\n",
            "          z[28]     -0.01      1.02     -0.01     -1.71      1.64  11347.30      1.00\n",
            "          z[29]     -0.00      0.99     -0.01     -1.58      1.66  10418.43      1.00\n",
            "          z[30]      0.01      0.99      0.02     -1.66      1.60  10715.63      1.00\n",
            "          z[31]     -0.00      0.99     -0.02     -1.62      1.61  10690.93      1.00\n",
            "          z[32]      0.02      1.00      0.00     -1.60      1.66  11895.73      1.00\n",
            "          z[33]     -0.00      0.99      0.00     -1.70      1.53  11159.59      1.00\n",
            "          z[34]      0.00      1.00     -0.00     -1.62      1.64  10936.08      1.00\n",
            "          z[35]     -0.01      0.99     -0.00     -1.64      1.59  13619.00      1.00\n",
            "          z[36]     -0.00      1.02      0.01     -1.68      1.65  12932.12      1.00\n",
            "          z[37]     -0.01      1.00     -0.01     -1.58      1.70  12320.44      1.00\n",
            "          z[38]      0.00      1.01      0.01     -1.70      1.64  11942.05      1.00\n",
            "          z[39]     -0.01      1.01     -0.01     -1.72      1.60  10430.38      1.00\n",
            "\n",
            "Number of divergences: 0\n"
          ]
        }
      ]
    },
    {
      "cell_type": "code",
      "source": [
        "#metric values (ESS and Rhat)\n",
        "n_lo = df_lo.shape[0]\n",
        "n_hi = df_hi.shape[0]\n",
        "\n",
        "ss = numpyro.diagnostics.summary(mcmc.get_samples(group_by_chain = True))\n",
        "r = np.mean(ss[\"vae_aggr\"][\"n_eff\"])\n",
        "\n",
        "print(f\"Average ESS for all aggVAE effects : {round(r)}\")\n",
        "\n",
        "ess_lo = np.mean(ss[\"vae_aggr\"][\"n_eff\"][0:n_lo])\n",
        "r_hat_lo = np.max(ss[\"vae_aggr\"][\"r_hat\"][0:n_lo])\n",
        "\n",
        "ess_hi = np.mean(ss[\"vae_aggr\"][\"n_eff\"][n_lo:n_lo + n_hi])\n",
        "r_hat_hi = np.max(ss[\"vae_aggr\"][\"r_hat\"][n_lo : n_lo + n_hi])\n",
        "\n",
        "print(f\"Average ESS for all aggVAE-low effects : {round(ess_lo)}\")\n",
        "print(f\"Max r_hat for all aggVAE-low : {round(r_hat_lo,2)}\")\n",
        "\n",
        "print(f\"Average ESS for all aggVAE-high effects : {round(ess_hi)}\")\n",
        "print(f\"Max r_hat for all aggVAE-high : {round(r_hat_hi,2)}\")\n"
      ],
      "metadata": {
        "colab": {
          "base_uri": "https://localhost:8080/"
        },
        "id": "j_XmKyIgkCJn",
        "outputId": "ba4fdda1-a8bf-4d17-dd75-c6b55bfa187a"
      },
      "execution_count": null,
      "outputs": [
        {
          "output_type": "stream",
          "name": "stdout",
          "text": [
            "Available keys in ss: dict_keys(['b0', 'b_hdi', 'b_pop_density', 'sigma', 'theta', 'vae', 'vae_aggr', 'z'])\n",
            "Average ESS for all aggVAE effects for 2000 samples: 12048\n",
            "Max R-hat for all aggVAE effects for 2000 samples: 1.0\n"
          ]
        }
      ]
    },
    {
      "cell_type": "code",
      "source": [
        "samples[\"theta\"].shape"
      ],
      "metadata": {
        "id": "vj3xfPn8lP0_"
      },
      "execution_count": null,
      "outputs": []
    },
    {
      "cell_type": "code",
      "source": [
        "theta_mean_gp = samples[\"theta\"].mean(axis = 0)\n",
        "bci_gp_25 = np.quantile(samples[\"theta\"],0.25,axis = 0)\n",
        "bci_gp_75 = np.quantile(samples[\"theta\"],0.75, axis = 0)\n",
        "\n",
        "df_lo[\"obs_prev\"] = df_lo[\"Cases\"] / df_lo[\"Population\"]\n",
        "df_hi[\"obs_prev\"] = df_hi[\"Cases\"] / df_hi[\"Population\"]\n",
        "\n",
        "df_lo[\"theta_vae\"] = theta_mean_gp[0:n_lo]\n",
        "df_hi[\"theta_vae\"] = theta_mean_gp[n_lo:n_lo + n_hi]\n",
        "\n",
        "theta_obs_lo = df_lo[\"obs_prev\"]\n",
        "theta_vae_est_lo = df_lo[\"theta_vae\"]\n",
        "theta_obs_hi = df_hi[\"obs_prev\"]\n",
        "theta_vae_est_hi = df_hi[\"theta_vae\"]\n",
        "\n",
        "max_val_lo = np.max([theta_obs_lo, theta_vae_est_lo])\n",
        "min_val_lo = np.min([theta_obs_lo, theta_vae_est_lo])\n",
        "\n",
        "max_val_hi = np.max([theta_obs_hi, theta_vae_est_hi])\n",
        "min_val_hi = np.min([theta_obs_hi, theta_vae_est_hi])"
      ],
      "metadata": {
        "id": "2lolZ9vKlQ-5"
      },
      "execution_count": null,
      "outputs": []
    },
    {
      "cell_type": "code",
      "source": [
        "#plot the observed prevalence vs vae-estimated prevalence (low-res)\n",
        "# Set Seaborn style for better visualization\n",
        "sns.set_style(\"whitegrid\")\n",
        "\n",
        "# Define a more contrasting color scheme (Spectral has strong contrast)\n",
        "cmap_choice = \"Spectral\"  # Try 'coolwarm', 'viridis', 'RdYlBu', or 'Spectral' for better distinction\n",
        "\n",
        "fig, ax = plt.subplots(1, 2, figsize=(12, 6))\n",
        "\n",
        "# Plot using a high-contrast colormap\n",
        "df_lo.plot(column=\"theta_vae\", ax=ax[0], legend=True, cmap=cmap_choice, vmin=min_val_lo, vmax=max_val_lo)\n",
        "df_lo.plot(column=\"obs_prev\", ax=ax[1], legend=True, cmap=cmap_choice, vmin=min_val_lo, vmax=max_val_lo)\n",
        "\n",
        "ax[0].set_title(\"VAE-Estimated Province-Level Dengue Prevalence\", fontsize=12, fontweight=\"bold\")\n",
        "ax[1].set_title(\"Observed Province-Level Dengue Prevalence\", fontsize=12, fontweight=\"bold\")\n",
        "\n",
        "# Improve spacing\n",
        "plt.tight_layout()\n",
        "\n",
        "# Save the plot\n",
        "plot_dir = \"../plots\"  # Adjust based on directory structure\n",
        "os.makedirs(plot_dir, exist_ok=True)\n",
        "\n",
        "# Define the filename\n",
        "filename = f\"{plot_dir}/prov_vae_vs_observed_prevalence_sigma{n}_vae_hiddendim_{h}_zdim_{a}.png\"\n",
        "\n",
        "plt.savefig(filename, dpi=300, bbox_inches=\"tight\")  # Save with high resolution\n",
        "\n",
        "# Show the plot (optional)\n",
        "plt.show()\n",
        "\n",
        "print(f\"Plot saved to {filename}\")"
      ],
      "metadata": {
        "colab": {
          "base_uri": "https://localhost:8080/",
          "height": 624
        },
        "id": "O6-ydezskI2V",
        "outputId": "509224d6-9307-45e1-bac0-5ff3297ecb4d"
      },
      "execution_count": null,
      "outputs": [
        {
          "output_type": "display_data",
          "data": {
            "text/plain": [
              "<Figure size 1200x600 with 4 Axes>"
            ],
            "image/png": "[encoded data removed]"
          },
          "metadata": {}
        },
        {
          "output_type": "stream",
          "name": "stdout",
          "text": [
            "Plot saved to ../plots/vae_vs_observed_prevalence_sigma0.01_vae_hiddendim_30_zdim_40.png\n"
          ]
        }
      ]
    },
    {
      "cell_type": "code",
      "source": [
        "#plot observed vs estimated prevalence (high-res)\n",
        "#plot the observed prevalence vs vae-estimated prevalence (low-res)\n",
        "# Set Seaborn style for better visualization\n",
        "sns.set_style(\"whitegrid\")\n",
        "\n",
        "# Define a more contrasting color scheme (Spectral has strong contrast)\n",
        "cmap_choice = \"Spectral\"  # Try 'coolwarm', 'viridis', 'RdYlBu', or 'Spectral' for better distinction\n",
        "\n",
        "fig, ax = plt.subplots(1, 2, figsize=(12, 6))\n",
        "\n",
        "# Plot using a high-contrast colormap\n",
        "df_hi.plot(column=\"theta_vae\", ax=ax[0], legend=True, cmap=cmap_choice, vmin=min_val_hi, vmax=max_val_hi)\n",
        "df_hi.plot(column=\"obs_prev\", ax=ax[1], legend=True, cmap=cmap_choice, vmin=min_val_hi, vmax=max_val_hi)\n",
        "\n",
        "ax[0].set_title(\"VAE-Estimated District-Level Dengue Prevalence\", fontsize=12, fontweight=\"bold\")\n",
        "ax[1].set_title(\"Observed District-Level Dengue Prevalence\", fontsize=12, fontweight=\"bold\")\n",
        "\n",
        "# Improve spacing\n",
        "plt.tight_layout()\n",
        "\n",
        "# Save the plot\n",
        "plot_dir = \"../plots\"  # Adjust based on directory structure\n",
        "os.makedirs(plot_dir, exist_ok=True)\n",
        "\n",
        "# Define the filename\n",
        "filename = f\"{plot_dir}/dist_vae_vs_observed_prevalence_sigma{n}_vae_hiddendim_{h}_zdim_{a}.png\"\n",
        "\n",
        "plt.savefig(filename, dpi=300, bbox_inches=\"tight\")  # Save with high resolution\n",
        "\n",
        "# Show the plot (optional)\n",
        "plt.show()\n",
        "\n",
        "print(f\"Plot saved to {filename}\")"
      ],
      "metadata": {
        "id": "x-ijP3C-k1jf"
      },
      "execution_count": null,
      "outputs": []
    },
    {
      "cell_type": "markdown",
      "source": [
        "## Save files with aggVAE Prev predictions"
      ],
      "metadata": {
        "id": "PGqRv3I3fhuj"
      }
    },
    {
      "cell_type": "code",
      "source": [
        "df_lo.to_csv('df_with_aggVAE_preds_lo.csv')\n",
        "df_lo.to_file('df_with_aggVAE_preds_lo.shp')\n",
        "df_hi.to_csv('df_with_aggVAE_preds_hi.csv')\n",
        "df_hi.to_file('df_with_aggVAE_preds_hi.shp')"
      ],
      "metadata": {
        "id": "bknwsIazUKqY"
      },
      "execution_count": null,
      "outputs": []
    }
  ]
}