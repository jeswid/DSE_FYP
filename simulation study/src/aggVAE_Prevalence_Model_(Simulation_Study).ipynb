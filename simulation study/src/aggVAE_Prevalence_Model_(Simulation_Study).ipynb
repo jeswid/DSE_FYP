{
  "cells": [
    {
      "cell_type": "code",
      "execution_count": 99,
      "metadata": {
        "id": "gU89vhNRUoB4"
      },
      "outputs": [],
      "source": [
        "import pickle\n",
        "import os\n",
        "import torch\n",
        "\n",
        "import numpy as np\n",
        "import geopandas as gpd\n",
        "import jax\n",
        "import jax.numpy as jnp\n",
        "from jax import random\n",
        "from jax import random, lax, jit, ops\n",
        "from jax.example_libraries import stax\n",
        "\n",
        "import numpyro\n",
        "import numpyro.distributions as dist\n",
        "from numpyro.infer import MCMC, NUTS, Predictive\n",
        "\n",
        "import matplotlib.pyplot as plt\n",
        "import seaborn as sns\n",
        "\n",
        "import numpy as np\n",
        "\n",
        "import dill\n",
        "\n",
        "import time"
      ]
    },
    {
      "cell_type": "code",
      "execution_count": 100,
      "metadata": {
        "id": "b8MC7NwCjxm2"
      },
      "outputs": [],
      "source": [
        "#define the necessary functions\n",
        "def dist_euclid(x, z):\n",
        "    \"\"\"\n",
        "    Computes Eucledian Distance Between Regions. This function is used by\n",
        "    exp_sq_kernel function (kernel function for gaussian processes)\n",
        "    \"\"\"\n",
        "    x = jnp.array(x) # (ngrid_pts, lat/lon) <- i.e (7304,2)\n",
        "    z = jnp.array(z) # (ngrid_pts, lat/lon) <- i.e (7304,2)\n",
        "    if len(x.shape)==1:\n",
        "        x = x.reshape(x.shape[0], 1) #(2618,) -> (7304,1)\n",
        "    if len(z.shape)==1:\n",
        "        z = x.reshape(x.shape[0], 1) #(2618,) -> (7304,1)\n",
        "    n_x, m = x.shape # 7304 , 2\n",
        "    n_z, m_z = z.shape # 7304 , 2\n",
        "    assert m == m_z\n",
        "    delta = jnp.zeros((n_x,n_z)) #(ngrid_pts,ngrid_pts) <- i.e (7304,7304)\n",
        "    for d in jnp.arange(m):\n",
        "        x_d = x[:,d] #(ngrid_pts-lat/lon,) <- (7304,)\n",
        "        z_d = z[:,d] #(ngrid_pts-lat/lon,) <- (7304,)\n",
        "        delta += (x_d[:,jnp.newaxis] - z_d)**2 # (7304,7304)\n",
        "\n",
        "    return jnp.sqrt(delta) #(7304,7304)\n",
        "def exp_sq_kernel(x, z, var, length, noise, jitter=1.0e-4):\n",
        "    dist = dist_euclid(x, z) #(7304, 7304)\n",
        "    deltaXsq = jnp.power(dist/ length, 2.0)\n",
        "    k = var * jnp.exp(-0.5 * deltaXsq)\n",
        "    k += (noise + jitter) * jnp.eye(x.shape[0])\n",
        "    return k # (ngrid_pts, ngrid_pts) <- (7304,7304)\n",
        "\n",
        "def vae_decoder(hidden_dim, out_dim):\n",
        "    return stax.serial(\n",
        "        # (num_samples, z_dim) -> (num_samples, hidden_dim): (5,40) -> (5,50)\n",
        "        stax.Dense(hidden_dim, W_init = stax.randn()),\n",
        "        stax.Elu,\n",
        "        # (num_samples, hidden_dim) -> (num_samples, num_regions) : (5,50) -> (5, 58)\n",
        "        stax.Dense(out_dim, W_init = stax.randn())\n",
        "    )"
      ]
    },
    {
      "cell_type": "code",
      "execution_count": null,
      "metadata": {
        "id": "2b3sw-2mUxLS"
      },
      "outputs": [],
      "source": [
        "def prev_model_vae_aggr(args):\n",
        "\n",
        "    x = args[\"x\"]\n",
        "    out_dims = args[\"out_dims\"]\n",
        "    n = args[\"sigma\"]\n",
        "\n",
        "    #covariates\n",
        "    pop_density_lo = args[\"pop_density_lo\"]  # (4,) one province (jkt) for 4 yrs' data\n",
        "    pop_density_hi = args[\"pop_density_hi\"]  # (24,)\n",
        "    hdi_lo = args[\"hdi_lo\"]  # (4,) 6 districts within jkt for 4 yrs' data\n",
        "    hdi_hi = args[\"hdi_hi\"]  # (24,)\n",
        "    urban_lo = args[\"urban_lo\"]  # (4,) 6 districts within jkt for 4 yrs' data\n",
        "    urban_hi = args[\"urban_hi\"]  # (24,)\n",
        "    total_population_lo = args[\"total_population_lo\"]\n",
        "    total_population_hi = args[\"total_population_hi\"]\n",
        "\n",
        "    n_hi_regions = total_population_hi.shape[0] #24\n",
        "\n",
        "    #aggregate pop_density tgt\n",
        "    pop_density = jnp.concatenate([pop_density_lo,pop_density_hi], axis = 0)\n",
        "\n",
        "    #aggregate hdi tgt\n",
        "    hdi = jnp.concatenate([hdi_lo,hdi_hi], axis = 0)\n",
        "\n",
        "    #aggregate urbanicity tgt\n",
        "    urban = jnp.concatenate([urban_lo,urban_hi], axis = 0)\n",
        "\n",
        "    #aggregate total populations low and high\n",
        "    total_population = jnp.concatenate([total_population_lo,total_population_hi], axis = 0)\n",
        "\n",
        "    total_cases_lo = args[\"total_cases_lo\"] #cos we wanna predict total cases district-wise, so only feed total cases for low res data\n",
        "\n",
        "    # random effect\n",
        "    decoder_params =args[\"decoder_params\"]\n",
        "    z_dim, hidden_dim = decoder_params[0][0].shape\n",
        "    z = numpyro.sample(\"z\", dist.Normal(jnp.zeros(z_dim), jnp.ones(z_dim)))\n",
        "    _, decoder_apply = vae_decoder(hidden_dim, out_dims) #Instantiate decoder\n",
        "    vae_aggr = numpyro.deterministic(\"vae_aggr\", decoder_apply(decoder_params, z))\n",
        "    s = numpyro.sample(\"sigma\", dist.HalfNormal(n))\n",
        "    vae = numpyro.deterministic(\"vae\", s * vae_aggr)\n",
        "\n",
        "    ## Fixed effects\n",
        "    b0 = numpyro.sample(\"b0\", dist.Normal(0, 1))  #Intercept\n",
        "    b_pop_density = numpyro.sample(\"b_pop_density\", dist.Normal(0, 1))  #Effect of population density\n",
        "    b_hdi = numpyro.sample(\"b_hdi\", dist.Normal(0, 1))  #Effect of HDI\n",
        "    b_urban = numpyro.sample(\"b_urban\", dist.Normal(0, 1))  # Effect of urbanicity\n",
        "\n",
        "    # Linear predictor\n",
        "    lp = b0 + vae + b_pop_density * pop_density + b_hdi * hdi + b_urban * urban # (num_districts,)\n",
        "\n",
        "    # Prevalence probability\n",
        "    theta = numpyro.deterministic(\"theta\", jax.nn.sigmoid(lp)*1e-2)  # (num_districts,)\n",
        "\n",
        "    #add NaN values to total_cases to accommodate for unavailable total cases data for high resolution (that we want to predict)\n",
        "    total_cases = jnp.pad(total_cases_lo, (0, n_hi_regions),constant_values = 0.0) #[3762.  484. ... , 0,0,0]\n",
        "    total_cases = jnp.where(total_cases == 0, jnp.nan, total_cases)# [3762.  484. ... , nan,nan,nan]\n",
        "    total_cases_mask = ~jnp.isnan(total_cases) # [True, True, ...., False, False, False]\n",
        "\n",
        "    # Binomial likelihood\n",
        "    with numpyro.handlers.mask(mask=total_cases_mask):\n",
        "        observed_cases = numpyro.sample(\n",
        "            \"observed_cases\",\n",
        "            dist.Binomial(total_count=total_population, probs=theta),\n",
        "            obs=total_cases)\n",
        "\n",
        "    return observed_cases\n",
        "\n"
      ]
    },
    {
      "cell_type": "markdown",
      "metadata": {
        "id": "JgtiiyNuWPpN"
      },
      "source": [
        "## Load variables"
      ]
    },
    {
      "cell_type": "code",
      "execution_count": 102,
      "metadata": {
        "id": "TQwJ2-dkWPJP"
      },
      "outputs": [],
      "source": [
        "# Lat/Lon Values of artificial grid\n",
        "x = np.load(\"../data/lat_lon_x_jkt.npy\")\n",
        "df_lo = gpd.read_file('../data/jkt_prov.shp')\n",
        "df_hi = gpd.read_file('../data/jkt_dist.shp')"
      ]
    },
    {
      "cell_type": "code",
      "execution_count": 103,
      "metadata": {
        "id": "AyUZa4Bzj3Lg"
      },
      "outputs": [],
      "source": [
        "#hidden dim of vae\n",
        "h = 30\n",
        "\n",
        "#z dim of vae\n",
        "a = 40"
      ]
    },
    {
      "cell_type": "markdown",
      "metadata": {
        "id": "x_zfQLneXYy8"
      },
      "source": [
        "##Arguments to Model"
      ]
    },
    {
      "cell_type": "code",
      "execution_count": null,
      "metadata": {
        "id": "FRnHiFc8Xahm"
      },
      "outputs": [],
      "source": [
        "args = {\n",
        "        \"pop_density_lo\": jnp.array(df_lo[\"Pop_den\"]), # Shape (num_districts,)\n",
        "        \"pop_density_hi\": jnp.array(df_hi[\"Pop_den\"]), # Shape (num_districts,)\n",
        "        \"hdi_lo\": jnp.array(df_lo[\"HDI\"]), # Shape (num_districts, 2)\n",
        "        \"hdi_hi\": jnp.array(df_hi[\"HDI\"]), # Shape (num_districts, 2)\n",
        "        \"total_cases_lo\" : jnp.array(df_lo[\"Cases\"]),\n",
        "        \"urban_lo\" = jnp.array(df_lo[\"urban_qt\"]),\n",
        "        \"urban_hi\" = jnp.array(df_hi[\"urban_qt\"]),\n",
        "        \"total_population_lo\" : jnp.array(df_lo[\"Population\"]),\n",
        "        \"total_population_hi\" : jnp.array(df_hi[\"Population\"]),\n",
        "        \"x\" : jnp.array(x),\n",
        "        \"gp_kernel\" : exp_sq_kernel,\n",
        "        \"jitter\" : 1e-4,\n",
        "        \"noise\" : 1e-4,\n",
        "        # VAE training\n",
        "        \"rng_key\": random.PRNGKey(5),\n",
        "        \"num_epochs\": 20,\n",
        "        \"learning_rate\": 0.0005,\n",
        "        \"batch_size\": 100,\n",
        "        \"out_dims\" : df_lo.shape[0] + df_hi.shape[0], #28\n",
        "        \"num_train\": 100,\n",
        "        \"num_test\":100,\n",
        "        \"vae_var\": 1,\n",
        "        \"sigma\": 30\n",
        "    }"
      ]
    },
    {
      "cell_type": "markdown",
      "metadata": {
        "id": "Kjs__SLEXbSO"
      },
      "source": [
        "##Load decoder model"
      ]
    },
    {
      "cell_type": "code",
      "execution_count": 105,
      "metadata": {
        "id": "3Ry-ZxLzXdZE"
      },
      "outputs": [],
      "source": [
        "#change the specific file name under the folder model_weights\n",
        "with open(\"../model weights/aggVAE/aggVAE_e20_h30_z40\", \"rb\") as file:\n",
        "        vae_params = pickle.load(file)\n",
        "\n",
        "encoder_params = vae_params[\"encoder$params\"]\n",
        "decoder_params = vae_params[\"decoder$params\"]\n",
        "args[\"decoder_params\"] = decoder_params"
      ]
    },
    {
      "cell_type": "markdown",
      "metadata": {
        "id": "pGFE9Am7Xu81"
      },
      "source": [
        "##Run MCMC"
      ]
    },
    {
      "cell_type": "code",
      "execution_count": 106,
      "metadata": {
        "colab": {
          "base_uri": "https://localhost:8080/"
        },
        "id": "1Cdqp20BXx2M",
        "outputId": "63e4bd7f-6421-46d6-e667-000a74aec50b"
      },
      "outputs": [
        {
          "name": "stderr",
          "output_type": "stream",
          "text": [
            "C:\\Users\\jessi\\AppData\\Local\\Temp\\ipykernel_8976\\416112565.py:9: UserWarning: There are not enough devices to run parallel chains: expected 4 but got 1. Chains will be drawn sequentially. If you are running MCMC in CPU, consider using `numpyro.set_host_device_count(4)` at the beginning of your program. You can double-check how many devices are available in your system using `jax.local_device_count()`.\n",
            "  mcmc = MCMC(NUTS(prev_model_vae_aggr), num_warmup = 1000, num_samples = 2000, num_chains = 4)\n",
            "sample: 100%|██████████| 3000/3000 [00:12<00:00, 239.97it/s, 255 steps of size 1.06e-02. acc. prob=0.94]\n",
            "sample: 100%|██████████| 3000/3000 [00:12<00:00, 245.65it/s, 511 steps of size 1.01e-02. acc. prob=0.95]\n",
            "sample: 100%|██████████| 3000/3000 [00:12<00:00, 236.36it/s, 511 steps of size 1.00e-02. acc. prob=0.95]\n",
            "sample: 100%|██████████| 3000/3000 [00:10<00:00, 284.14it/s, 511 steps of size 1.20e-02. acc. prob=0.93]\n"
          ]
        },
        {
          "name": "stdout",
          "output_type": "stream",
          "text": [
            "\n",
            "                     mean       std    median      5.0%     95.0%     n_eff     r_hat\n",
            "             b0      0.74      0.78      0.78     -0.48      2.08   5946.55      1.00\n",
            "          b_hdi      1.03      0.26      1.02      0.58      1.45   6109.28      1.00\n",
            "  b_pop_density      0.37      0.96      0.38     -1.23      1.95   9867.80      1.00\n",
            "          sigma    136.39     16.82    135.87    108.75    163.65   8250.99      1.00\n",
            "       theta[0]      0.00      0.00      0.00      0.00      0.00   9152.34      1.00\n",
            "       theta[1]      0.00      0.00      0.00      0.00      0.00   9034.77      1.00\n",
            "       theta[2]      0.00      0.00      0.00      0.00      0.00   8032.46      1.00\n",
            "       theta[3]      0.00      0.00      0.00      0.00      0.00   8870.77      1.00\n",
            "       theta[4]      0.00      0.00      0.00      0.00      0.01   6821.50      1.00\n",
            "       theta[5]      0.00      0.00      0.00      0.00      0.01   6895.32      1.00\n",
            "       theta[6]      0.00      0.00      0.00      0.00      0.01   7005.36      1.00\n",
            "       theta[7]      0.00      0.00      0.00      0.00      0.01   7110.93      1.00\n",
            "       theta[8]      0.01      0.00      0.01      0.00      0.01   9133.52      1.00\n",
            "       theta[9]      0.01      0.00      0.01      0.00      0.01   8923.17      1.00\n",
            "      theta[10]      0.01      0.00      0.01      0.00      0.01   8734.92      1.00\n",
            "      theta[11]      0.01      0.00      0.01      0.00      0.01   8594.32      1.00\n",
            "      theta[12]      0.01      0.00      0.01      0.00      0.01   6185.93      1.00\n",
            "      theta[13]      0.01      0.00      0.01      0.00      0.01   6200.92      1.00\n",
            "      theta[14]      0.01      0.00      0.01      0.00      0.01   6710.38      1.00\n",
            "      theta[15]      0.01      0.00      0.01      0.00      0.01   6648.19      1.00\n",
            "      theta[16]      0.01      0.00      0.01      0.01      0.01   5201.40      1.00\n",
            "      theta[17]      0.01      0.00      0.01      0.01      0.01   5354.73      1.00\n",
            "      theta[18]      0.01      0.00      0.01      0.01      0.01   5079.95      1.00\n",
            "      theta[19]      0.01      0.00      0.01      0.01      0.01   4968.36      1.00\n",
            "      theta[20]      0.01      0.00      0.01      0.00      0.01   6305.30      1.00\n",
            "      theta[21]      0.01      0.00      0.01      0.00      0.01   6344.01      1.00\n",
            "      theta[22]      0.01      0.00      0.01      0.00      0.01   6231.99      1.00\n",
            "      theta[23]      0.01      0.00      0.01      0.01      0.01   6219.56      1.00\n",
            "      theta[24]      0.01      0.00      0.01      0.00      0.01   4782.12      1.00\n",
            "      theta[25]      0.01      0.00      0.01      0.00      0.01   4809.25      1.00\n",
            "      theta[26]      0.01      0.00      0.01      0.00      0.01   5194.22      1.00\n",
            "      theta[27]      0.01      0.00      0.01      0.00      0.01   5246.51      1.00\n",
            "         vae[0]     -2.39      0.79     -2.43     -3.70     -1.11   5708.75      1.00\n",
            "         vae[1]     -2.59      0.79     -2.63     -3.86     -1.28   5748.25      1.00\n",
            "         vae[2]     -1.93      0.77     -1.97     -3.15     -0.62   5802.36      1.00\n",
            "         vae[3]     -2.42      0.76     -2.46     -3.62     -1.12   5899.88      1.00\n",
            "         vae[4]     -0.32      0.34     -0.35     -0.84      0.26   5243.63      1.00\n",
            "         vae[5]     -0.32      0.34     -0.35     -0.84      0.26   5243.53      1.00\n",
            "         vae[6]     -0.32      0.34     -0.35     -0.84      0.26   5243.69      1.00\n",
            "         vae[7]     -0.31      0.33     -0.34     -0.82      0.27   5242.12      1.00\n",
            "         vae[8]     -0.89      0.70     -0.98     -2.01      0.24   4840.29      1.00\n",
            "         vae[9]     -0.93      0.69     -1.01     -2.05      0.17   4847.59      1.00\n",
            "        vae[10]     -0.93      0.69     -1.01     -2.04      0.19   4839.98      1.00\n",
            "        vae[11]     -0.92      0.70     -1.00     -2.04      0.23   4832.87      1.00\n",
            "        vae[12]     -0.49      0.26     -0.47     -0.93     -0.08   8270.14      1.00\n",
            "        vae[13]     -0.48      0.27     -0.47     -0.90     -0.04   8144.09      1.00\n",
            "        vae[14]     -0.51      0.26     -0.50     -0.94     -0.09   8215.39      1.00\n",
            "        vae[15]     -0.46      0.27     -0.45     -0.88     -0.02   8098.97      1.00\n",
            "        vae[16]     -0.14      0.30     -0.14     -0.63      0.35   6960.91      1.00\n",
            "        vae[17]     -0.09      0.28     -0.09     -0.54      0.38   6929.94      1.00\n",
            "        vae[18]     -0.09      0.27     -0.09     -0.53      0.36   6936.11      1.00\n",
            "        vae[19]     -0.03      0.30     -0.03     -0.50      0.46   6957.55      1.00\n",
            "        vae[20]     -0.49      0.46     -0.50     -1.26      0.23   7386.94      1.00\n",
            "        vae[21]     -0.54      0.45     -0.56     -1.29      0.17   7604.39      1.00\n",
            "        vae[22]     -0.60      0.46     -0.62     -1.29      0.20   7498.39      1.00\n",
            "        vae[23]     -0.62      0.46     -0.63     -1.38      0.12   7418.07      1.00\n",
            "        vae[24]     -0.24      0.45     -0.22     -0.93      0.54   7637.14      1.00\n",
            "        vae[25]     -0.33      0.44     -0.31     -1.07      0.37   7791.16      1.00\n",
            "        vae[26]     -0.31      0.45     -0.29     -1.04      0.43   7510.43      1.00\n",
            "        vae[27]     -0.31      0.44     -0.29     -1.03      0.41   7566.63      1.00\n",
            "    vae_aggr[0]     -0.02      0.01     -0.02     -0.03     -0.01   5189.58      1.00\n",
            "    vae_aggr[1]     -0.02      0.01     -0.02     -0.03     -0.01   5188.37      1.00\n",
            "    vae_aggr[2]     -0.01      0.01     -0.01     -0.02     -0.00   5321.01      1.00\n",
            "    vae_aggr[3]     -0.02      0.01     -0.02     -0.03     -0.01   5293.06      1.00\n",
            "    vae_aggr[4]     -0.00      0.00     -0.00     -0.01      0.00   5136.85      1.00\n",
            "    vae_aggr[5]     -0.00      0.00     -0.00     -0.01      0.00   5135.33      1.00\n",
            "    vae_aggr[6]     -0.00      0.00     -0.00     -0.01      0.00   5135.72      1.00\n",
            "    vae_aggr[7]     -0.00      0.00     -0.00     -0.01      0.00   5141.93      1.00\n",
            "    vae_aggr[8]     -0.01      0.01     -0.01     -0.02      0.00   4852.02      1.00\n",
            "    vae_aggr[9]     -0.01      0.01     -0.01     -0.02      0.00   4854.60      1.00\n",
            "   vae_aggr[10]     -0.01      0.01     -0.01     -0.02      0.00   4847.13      1.00\n",
            "   vae_aggr[11]     -0.01      0.01     -0.01     -0.02      0.00   4843.48      1.00\n",
            "   vae_aggr[12]     -0.00      0.00     -0.00     -0.01     -0.00   9500.03      1.00\n",
            "   vae_aggr[13]     -0.00      0.00     -0.00     -0.01     -0.00   9320.58      1.00\n",
            "   vae_aggr[14]     -0.00      0.00     -0.00     -0.01     -0.00   9467.79      1.00\n",
            "   vae_aggr[15]     -0.00      0.00     -0.00     -0.01     -0.00   9213.07      1.00\n",
            "   vae_aggr[16]     -0.00      0.00     -0.00     -0.00      0.00   7078.06      1.00\n",
            "   vae_aggr[17]     -0.00      0.00     -0.00     -0.00      0.00   7046.90      1.00\n",
            "   vae_aggr[18]     -0.00      0.00     -0.00     -0.00      0.00   7075.42      1.00\n",
            "   vae_aggr[19]     -0.00      0.00     -0.00     -0.00      0.00   7031.44      1.00\n",
            "   vae_aggr[20]     -0.00      0.00     -0.00     -0.01      0.00   7399.35      1.00\n",
            "   vae_aggr[21]     -0.00      0.00     -0.00     -0.01      0.00   7472.03      1.00\n",
            "   vae_aggr[22]     -0.00      0.00     -0.00     -0.01      0.00   7380.49      1.00\n",
            "   vae_aggr[23]     -0.00      0.00     -0.00     -0.01      0.00   7336.99      1.00\n",
            "   vae_aggr[24]     -0.00      0.00     -0.00     -0.01      0.00   8093.94      1.00\n",
            "   vae_aggr[25]     -0.00      0.00     -0.00     -0.01      0.00   8308.38      1.00\n",
            "   vae_aggr[26]     -0.00      0.00     -0.00     -0.01      0.00   8052.80      1.00\n",
            "   vae_aggr[27]     -0.00      0.00     -0.00     -0.01      0.00   8082.39      1.00\n",
            "           z[0]     -0.10      0.99     -0.09     -1.73      1.49  10871.18      1.00\n",
            "           z[1]      1.25      1.00      1.24     -0.39      2.86   7807.49      1.00\n",
            "           z[2]      0.54      1.06      0.54     -1.10      2.33   8658.13      1.00\n",
            "           z[3]     -0.77      0.92     -0.77     -2.33      0.70  11186.47      1.00\n",
            "           z[4]     -0.06      1.14     -0.04     -2.04      1.68   6817.24      1.00\n",
            "           z[5]     -1.04      1.00     -1.06     -2.69      0.58  10262.97      1.00\n",
            "           z[6]     -0.43      0.99     -0.44     -2.09      1.14  11312.66      1.00\n",
            "           z[7]      0.76      0.97      0.77     -0.80      2.39   9341.89      1.00\n",
            "           z[8]     -1.08      1.02     -1.07     -2.82      0.52  10489.61      1.00\n",
            "           z[9]      0.59      0.98      0.60     -0.99      2.24  11364.16      1.00\n",
            "          z[10]      0.84      0.97      0.84     -0.77      2.44  11568.16      1.00\n",
            "          z[11]      0.15      0.95      0.13     -1.39      1.73  10306.76      1.00\n",
            "          z[12]      0.23      1.00      0.21     -1.50      1.79  11511.33      1.00\n",
            "          z[13]      0.39      0.93      0.39     -1.10      1.97  10633.29      1.00\n",
            "          z[14]     -0.15      1.01     -0.15     -1.84      1.48  11304.52      1.00\n",
            "          z[15]      0.69      1.14      0.74     -1.26      2.47   7848.78      1.00\n",
            "          z[16]     -0.39      0.96     -0.40     -1.91      1.22  11207.00      1.00\n",
            "          z[17]     -0.40      0.92     -0.39     -1.92      1.11  10495.45      1.00\n",
            "          z[18]     -0.26      0.99     -0.25     -1.95      1.26   8852.75      1.00\n",
            "          z[19]      1.10      0.93      1.10     -0.39      2.65  10201.28      1.00\n",
            "          z[20]     -0.60      0.97     -0.61     -2.26      0.93  11085.61      1.00\n",
            "          z[21]      2.32      0.97      2.33      0.71      3.88   6601.04      1.00\n",
            "          z[22]      0.90      0.95      0.90     -0.62      2.50  10503.23      1.00\n",
            "          z[23]      1.16      0.93      1.16     -0.35      2.73  10560.50      1.00\n",
            "          z[24]     -0.14      0.96     -0.15     -1.67      1.50   9104.50      1.00\n",
            "          z[25]      0.57      0.94      0.57     -1.04      2.06  10766.07      1.00\n",
            "          z[26]      1.22      1.05      1.23     -0.47      2.99   8224.38      1.00\n",
            "          z[27]     -0.39      0.97     -0.38     -2.01      1.21  13501.91      1.00\n",
            "          z[28]      0.94      1.05      0.95     -0.72      2.73   9175.88      1.00\n",
            "          z[29]     -0.53      1.01     -0.53     -2.18      1.11  11818.20      1.00\n",
            "          z[30]      0.76      1.01      0.77     -0.92      2.39  10016.03      1.00\n",
            "          z[31]      1.29      0.97      1.27     -0.33      2.85  10436.52      1.00\n",
            "          z[32]     -0.62      0.99     -0.61     -2.24      1.00  10874.02      1.00\n",
            "          z[33]     -0.28      0.96     -0.27     -1.82      1.29  10348.80      1.00\n",
            "          z[34]      1.02      0.98      1.03     -0.63      2.59   9491.66      1.00\n",
            "          z[35]      0.61      0.99      0.60     -1.02      2.24   9285.31      1.00\n",
            "          z[36]      0.07      0.89      0.08     -1.31      1.61  11187.43      1.00\n",
            "          z[37]      0.18      1.05      0.17     -1.53      1.91   9995.56      1.00\n",
            "          z[38]     -0.38      1.07     -0.40     -2.13      1.33   8420.39      1.00\n",
            "          z[39]      0.08      0.98      0.07     -1.50      1.67  10733.95      1.00\n",
            "\n",
            "Number of divergences: 0\n"
          ]
        }
      ],
      "source": [
        "# Get script location and define correct save directory (sibling to src/)\n",
        "script_dir = os.getcwd()  # Get current working directory\n",
        "save_dir = os.path.abspath(os.path.join(script_dir, \"..\", \"model weights\", \"aggVAEPrev\"))  # Move up and into model_weights\n",
        "os.makedirs(save_dir, exist_ok=True)  # Ensure the directory exists\n",
        "\n",
        "#set seed for running mcmc\n",
        "mcmc_key, predict_key = random.split(random.PRNGKey(0))\n",
        "start_time = time.time()\n",
        "mcmc = MCMC(NUTS(prev_model_vae_aggr), num_warmup = 1000, num_samples = 2000, num_chains = 4)\n",
        "\n",
        "mcmc.run(mcmc_key, args)\n",
        "t_elapsed = time.time() - start_time\n",
        "t_elapsed_mins = int(t_elapsed / 60)\n",
        "\n",
        "mcmc.print_summary(exclude_deterministic = False)"
      ]
    },
    {
      "cell_type": "code",
      "execution_count": 107,
      "metadata": {
        "colab": {
          "base_uri": "https://localhost:8080/"
        },
        "id": "s5WTwxrMj-07",
        "outputId": "4e22674a-12ac-47ad-94b2-0d06651c10fc"
      },
      "outputs": [
        {
          "name": "stdout",
          "output_type": "stream",
          "text": [
            "Saved aggVAEPrev MCMC samples to c:\\Users\\jessi\\Documents\\school\\y4\\s2\\DSE4101\\Individual\\DSE_FYP\\simulation study\\model weights\\aggVAEPrev\\aggVAEPrev_nsamples_2000_tt0min_sigma30_hdim30_zdim40.pkl\n"
          ]
        }
      ],
      "source": [
        "n_samples = 2000\n",
        "n_warmup = 1000\n",
        "n = args[\"sigma\"]\n",
        "\n",
        "#save the mcmc\n",
        "f_path = os.path.join(save_dir, f\"aggVAEPrev_nsamples_{n_samples}_tt{t_elapsed_mins}min_sigma{n}_hdim{h}_zdim{a}.pkl\")\n",
        "with open(f_path, \"wb\") as file:\n",
        "    dill.dump(mcmc, file)\n",
        "\n",
        "print(f\"Saved aggVAEPrev MCMC samples to {f_path}\")"
      ]
    },
    {
      "cell_type": "code",
      "execution_count": 108,
      "metadata": {
        "colab": {
          "base_uri": "https://localhost:8080/"
        },
        "id": "oVXQxbUKj_wk",
        "outputId": "0c86aa58-5bfd-4bde-dde4-25786130168e"
      },
      "outputs": [
        {
          "name": "stdout",
          "output_type": "stream",
          "text": [
            "\n",
            "MCMC Total elapsed time: 1743725989 s\n",
            "MCMC Total elapsed time: 29062100 min\n",
            "MCMC Total elapsed time: 484368 h\n"
          ]
        }
      ],
      "source": [
        "#print total elapsed time\n",
        "total_end = time.time()\n",
        "print(\"\\nMCMC Total elapsed time:\", round(total_end), \"s\")\n",
        "print(\"MCMC Total elapsed time:\", round(total_end / 60), \"min\")\n",
        "print(\"MCMC Total elapsed time:\", round(total_end / (60 * 60)), \"h\")"
      ]
    },
    {
      "cell_type": "code",
      "execution_count": 109,
      "metadata": {
        "colab": {
          "base_uri": "https://localhost:8080/"
        },
        "id": "8EW5mUIhkA-P",
        "outputId": "734467b7-bcaa-4510-aa58-2a756c280cbd"
      },
      "outputs": [
        {
          "name": "stdout",
          "output_type": "stream",
          "text": [
            "\n",
            "                     mean       std    median      5.0%     95.0%     n_eff     r_hat\n",
            "             b0      0.74      0.78      0.78     -0.48      2.08   5946.55      1.00\n",
            "          b_hdi      1.03      0.26      1.02      0.58      1.45   6109.28      1.00\n",
            "  b_pop_density      0.37      0.96      0.38     -1.23      1.95   9867.80      1.00\n",
            "          sigma    136.39     16.82    135.87    108.75    163.65   8250.99      1.00\n",
            "       theta[0]      0.00      0.00      0.00      0.00      0.00   9152.34      1.00\n",
            "       theta[1]      0.00      0.00      0.00      0.00      0.00   9034.77      1.00\n",
            "       theta[2]      0.00      0.00      0.00      0.00      0.00   8032.46      1.00\n",
            "       theta[3]      0.00      0.00      0.00      0.00      0.00   8870.77      1.00\n",
            "       theta[4]      0.00      0.00      0.00      0.00      0.01   6821.50      1.00\n",
            "       theta[5]      0.00      0.00      0.00      0.00      0.01   6895.32      1.00\n",
            "       theta[6]      0.00      0.00      0.00      0.00      0.01   7005.36      1.00\n",
            "       theta[7]      0.00      0.00      0.00      0.00      0.01   7110.93      1.00\n",
            "       theta[8]      0.01      0.00      0.01      0.00      0.01   9133.52      1.00\n",
            "       theta[9]      0.01      0.00      0.01      0.00      0.01   8923.17      1.00\n",
            "      theta[10]      0.01      0.00      0.01      0.00      0.01   8734.92      1.00\n",
            "      theta[11]      0.01      0.00      0.01      0.00      0.01   8594.32      1.00\n",
            "      theta[12]      0.01      0.00      0.01      0.00      0.01   6185.93      1.00\n",
            "      theta[13]      0.01      0.00      0.01      0.00      0.01   6200.92      1.00\n",
            "      theta[14]      0.01      0.00      0.01      0.00      0.01   6710.38      1.00\n",
            "      theta[15]      0.01      0.00      0.01      0.00      0.01   6648.19      1.00\n",
            "      theta[16]      0.01      0.00      0.01      0.01      0.01   5201.40      1.00\n",
            "      theta[17]      0.01      0.00      0.01      0.01      0.01   5354.73      1.00\n",
            "      theta[18]      0.01      0.00      0.01      0.01      0.01   5079.95      1.00\n",
            "      theta[19]      0.01      0.00      0.01      0.01      0.01   4968.36      1.00\n",
            "      theta[20]      0.01      0.00      0.01      0.00      0.01   6305.30      1.00\n",
            "      theta[21]      0.01      0.00      0.01      0.00      0.01   6344.01      1.00\n",
            "      theta[22]      0.01      0.00      0.01      0.00      0.01   6231.99      1.00\n",
            "      theta[23]      0.01      0.00      0.01      0.01      0.01   6219.56      1.00\n",
            "      theta[24]      0.01      0.00      0.01      0.00      0.01   4782.12      1.00\n",
            "      theta[25]      0.01      0.00      0.01      0.00      0.01   4809.25      1.00\n",
            "      theta[26]      0.01      0.00      0.01      0.00      0.01   5194.22      1.00\n",
            "      theta[27]      0.01      0.00      0.01      0.00      0.01   5246.51      1.00\n",
            "         vae[0]     -2.39      0.79     -2.43     -3.70     -1.11   5708.75      1.00\n",
            "         vae[1]     -2.59      0.79     -2.63     -3.86     -1.28   5748.25      1.00\n",
            "         vae[2]     -1.93      0.77     -1.97     -3.15     -0.62   5802.36      1.00\n",
            "         vae[3]     -2.42      0.76     -2.46     -3.62     -1.12   5899.88      1.00\n",
            "         vae[4]     -0.32      0.34     -0.35     -0.84      0.26   5243.63      1.00\n",
            "         vae[5]     -0.32      0.34     -0.35     -0.84      0.26   5243.53      1.00\n",
            "         vae[6]     -0.32      0.34     -0.35     -0.84      0.26   5243.69      1.00\n",
            "         vae[7]     -0.31      0.33     -0.34     -0.82      0.27   5242.12      1.00\n",
            "         vae[8]     -0.89      0.70     -0.98     -2.01      0.24   4840.29      1.00\n",
            "         vae[9]     -0.93      0.69     -1.01     -2.05      0.17   4847.59      1.00\n",
            "        vae[10]     -0.93      0.69     -1.01     -2.04      0.19   4839.98      1.00\n",
            "        vae[11]     -0.92      0.70     -1.00     -2.04      0.23   4832.87      1.00\n",
            "        vae[12]     -0.49      0.26     -0.47     -0.93     -0.08   8270.14      1.00\n",
            "        vae[13]     -0.48      0.27     -0.47     -0.90     -0.04   8144.09      1.00\n",
            "        vae[14]     -0.51      0.26     -0.50     -0.94     -0.09   8215.39      1.00\n",
            "        vae[15]     -0.46      0.27     -0.45     -0.88     -0.02   8098.97      1.00\n",
            "        vae[16]     -0.14      0.30     -0.14     -0.63      0.35   6960.91      1.00\n",
            "        vae[17]     -0.09      0.28     -0.09     -0.54      0.38   6929.94      1.00\n",
            "        vae[18]     -0.09      0.27     -0.09     -0.53      0.36   6936.11      1.00\n",
            "        vae[19]     -0.03      0.30     -0.03     -0.50      0.46   6957.55      1.00\n",
            "        vae[20]     -0.49      0.46     -0.50     -1.26      0.23   7386.94      1.00\n",
            "        vae[21]     -0.54      0.45     -0.56     -1.29      0.17   7604.39      1.00\n",
            "        vae[22]     -0.60      0.46     -0.62     -1.29      0.20   7498.39      1.00\n",
            "        vae[23]     -0.62      0.46     -0.63     -1.38      0.12   7418.07      1.00\n",
            "        vae[24]     -0.24      0.45     -0.22     -0.93      0.54   7637.14      1.00\n",
            "        vae[25]     -0.33      0.44     -0.31     -1.07      0.37   7791.16      1.00\n",
            "        vae[26]     -0.31      0.45     -0.29     -1.04      0.43   7510.43      1.00\n",
            "        vae[27]     -0.31      0.44     -0.29     -1.03      0.41   7566.63      1.00\n",
            "    vae_aggr[0]     -0.02      0.01     -0.02     -0.03     -0.01   5189.58      1.00\n",
            "    vae_aggr[1]     -0.02      0.01     -0.02     -0.03     -0.01   5188.37      1.00\n",
            "    vae_aggr[2]     -0.01      0.01     -0.01     -0.02     -0.00   5321.01      1.00\n",
            "    vae_aggr[3]     -0.02      0.01     -0.02     -0.03     -0.01   5293.06      1.00\n",
            "    vae_aggr[4]     -0.00      0.00     -0.00     -0.01      0.00   5136.85      1.00\n",
            "    vae_aggr[5]     -0.00      0.00     -0.00     -0.01      0.00   5135.33      1.00\n",
            "    vae_aggr[6]     -0.00      0.00     -0.00     -0.01      0.00   5135.72      1.00\n",
            "    vae_aggr[7]     -0.00      0.00     -0.00     -0.01      0.00   5141.93      1.00\n",
            "    vae_aggr[8]     -0.01      0.01     -0.01     -0.02      0.00   4852.02      1.00\n",
            "    vae_aggr[9]     -0.01      0.01     -0.01     -0.02      0.00   4854.60      1.00\n",
            "   vae_aggr[10]     -0.01      0.01     -0.01     -0.02      0.00   4847.13      1.00\n",
            "   vae_aggr[11]     -0.01      0.01     -0.01     -0.02      0.00   4843.48      1.00\n",
            "   vae_aggr[12]     -0.00      0.00     -0.00     -0.01     -0.00   9500.03      1.00\n",
            "   vae_aggr[13]     -0.00      0.00     -0.00     -0.01     -0.00   9320.58      1.00\n",
            "   vae_aggr[14]     -0.00      0.00     -0.00     -0.01     -0.00   9467.79      1.00\n",
            "   vae_aggr[15]     -0.00      0.00     -0.00     -0.01     -0.00   9213.07      1.00\n",
            "   vae_aggr[16]     -0.00      0.00     -0.00     -0.00      0.00   7078.06      1.00\n",
            "   vae_aggr[17]     -0.00      0.00     -0.00     -0.00      0.00   7046.90      1.00\n",
            "   vae_aggr[18]     -0.00      0.00     -0.00     -0.00      0.00   7075.42      1.00\n",
            "   vae_aggr[19]     -0.00      0.00     -0.00     -0.00      0.00   7031.44      1.00\n",
            "   vae_aggr[20]     -0.00      0.00     -0.00     -0.01      0.00   7399.35      1.00\n",
            "   vae_aggr[21]     -0.00      0.00     -0.00     -0.01      0.00   7472.03      1.00\n",
            "   vae_aggr[22]     -0.00      0.00     -0.00     -0.01      0.00   7380.49      1.00\n",
            "   vae_aggr[23]     -0.00      0.00     -0.00     -0.01      0.00   7336.99      1.00\n",
            "   vae_aggr[24]     -0.00      0.00     -0.00     -0.01      0.00   8093.94      1.00\n",
            "   vae_aggr[25]     -0.00      0.00     -0.00     -0.01      0.00   8308.38      1.00\n",
            "   vae_aggr[26]     -0.00      0.00     -0.00     -0.01      0.00   8052.80      1.00\n",
            "   vae_aggr[27]     -0.00      0.00     -0.00     -0.01      0.00   8082.39      1.00\n",
            "           z[0]     -0.10      0.99     -0.09     -1.73      1.49  10871.18      1.00\n",
            "           z[1]      1.25      1.00      1.24     -0.39      2.86   7807.49      1.00\n",
            "           z[2]      0.54      1.06      0.54     -1.10      2.33   8658.13      1.00\n",
            "           z[3]     -0.77      0.92     -0.77     -2.33      0.70  11186.47      1.00\n",
            "           z[4]     -0.06      1.14     -0.04     -2.04      1.68   6817.24      1.00\n",
            "           z[5]     -1.04      1.00     -1.06     -2.69      0.58  10262.97      1.00\n",
            "           z[6]     -0.43      0.99     -0.44     -2.09      1.14  11312.66      1.00\n",
            "           z[7]      0.76      0.97      0.77     -0.80      2.39   9341.89      1.00\n",
            "           z[8]     -1.08      1.02     -1.07     -2.82      0.52  10489.61      1.00\n",
            "           z[9]      0.59      0.98      0.60     -0.99      2.24  11364.16      1.00\n",
            "          z[10]      0.84      0.97      0.84     -0.77      2.44  11568.16      1.00\n",
            "          z[11]      0.15      0.95      0.13     -1.39      1.73  10306.76      1.00\n",
            "          z[12]      0.23      1.00      0.21     -1.50      1.79  11511.33      1.00\n",
            "          z[13]      0.39      0.93      0.39     -1.10      1.97  10633.29      1.00\n",
            "          z[14]     -0.15      1.01     -0.15     -1.84      1.48  11304.52      1.00\n",
            "          z[15]      0.69      1.14      0.74     -1.26      2.47   7848.78      1.00\n",
            "          z[16]     -0.39      0.96     -0.40     -1.91      1.22  11207.00      1.00\n",
            "          z[17]     -0.40      0.92     -0.39     -1.92      1.11  10495.45      1.00\n",
            "          z[18]     -0.26      0.99     -0.25     -1.95      1.26   8852.75      1.00\n",
            "          z[19]      1.10      0.93      1.10     -0.39      2.65  10201.28      1.00\n",
            "          z[20]     -0.60      0.97     -0.61     -2.26      0.93  11085.61      1.00\n",
            "          z[21]      2.32      0.97      2.33      0.71      3.88   6601.04      1.00\n",
            "          z[22]      0.90      0.95      0.90     -0.62      2.50  10503.23      1.00\n",
            "          z[23]      1.16      0.93      1.16     -0.35      2.73  10560.50      1.00\n",
            "          z[24]     -0.14      0.96     -0.15     -1.67      1.50   9104.50      1.00\n",
            "          z[25]      0.57      0.94      0.57     -1.04      2.06  10766.07      1.00\n",
            "          z[26]      1.22      1.05      1.23     -0.47      2.99   8224.38      1.00\n",
            "          z[27]     -0.39      0.97     -0.38     -2.01      1.21  13501.91      1.00\n",
            "          z[28]      0.94      1.05      0.95     -0.72      2.73   9175.88      1.00\n",
            "          z[29]     -0.53      1.01     -0.53     -2.18      1.11  11818.20      1.00\n",
            "          z[30]      0.76      1.01      0.77     -0.92      2.39  10016.03      1.00\n",
            "          z[31]      1.29      0.97      1.27     -0.33      2.85  10436.52      1.00\n",
            "          z[32]     -0.62      0.99     -0.61     -2.24      1.00  10874.02      1.00\n",
            "          z[33]     -0.28      0.96     -0.27     -1.82      1.29  10348.80      1.00\n",
            "          z[34]      1.02      0.98      1.03     -0.63      2.59   9491.66      1.00\n",
            "          z[35]      0.61      0.99      0.60     -1.02      2.24   9285.31      1.00\n",
            "          z[36]      0.07      0.89      0.08     -1.31      1.61  11187.43      1.00\n",
            "          z[37]      0.18      1.05      0.17     -1.53      1.91   9995.56      1.00\n",
            "          z[38]     -0.38      1.07     -0.40     -2.13      1.33   8420.39      1.00\n",
            "          z[39]      0.08      0.98      0.07     -1.50      1.67  10733.95      1.00\n",
            "\n",
            "Number of divergences: 0\n"
          ]
        }
      ],
      "source": [
        "#print the summary stats\n",
        "samples = mcmc.get_samples(group_by_chain = True)\n",
        "mcmc.print_summary(exclude_deterministic=False)"
      ]
    },
    {
      "cell_type": "code",
      "execution_count": 110,
      "metadata": {
        "colab": {
          "base_uri": "https://localhost:8080/"
        },
        "id": "j_XmKyIgkCJn",
        "outputId": "ba4fdda1-a8bf-4d17-dd75-c6b55bfa187a"
      },
      "outputs": [
        {
          "name": "stdout",
          "output_type": "stream",
          "text": [
            "Average ESS for all aggVAE effects : 6743\n",
            "Average ESS for all aggVAE-low effects : 5248\n",
            "Max r_hat for all aggVAE-low : 1.0\n",
            "Average ESS for all aggVAE-high effects : 6992\n",
            "Max r_hat for all aggVAE-high : 1.0\n"
          ]
        }
      ],
      "source": [
        "#metric values (ESS and Rhat)\n",
        "n_lo = df_lo.shape[0]\n",
        "n_hi = df_hi.shape[0]\n",
        "\n",
        "ss = numpyro.diagnostics.summary(mcmc.get_samples(group_by_chain = True))\n",
        "r = np.mean(ss[\"vae_aggr\"][\"n_eff\"])\n",
        "\n",
        "print(f\"Average ESS for all aggVAE effects : {round(r)}\")\n",
        "\n",
        "ess_lo = np.mean(ss[\"vae_aggr\"][\"n_eff\"][0:n_lo])\n",
        "r_hat_lo = np.max(ss[\"vae_aggr\"][\"r_hat\"][0:n_lo])\n",
        "\n",
        "ess_hi = np.mean(ss[\"vae_aggr\"][\"n_eff\"][n_lo:n_lo + n_hi])\n",
        "r_hat_hi = np.max(ss[\"vae_aggr\"][\"r_hat\"][n_lo : n_lo + n_hi])\n",
        "\n",
        "print(f\"Average ESS for all aggVAE-low effects : {round(ess_lo)}\")\n",
        "print(f\"Max r_hat for all aggVAE-low : {round(r_hat_lo,2)}\")\n",
        "\n",
        "print(f\"Average ESS for all aggVAE-high effects : {round(ess_hi)}\")\n",
        "print(f\"Max r_hat for all aggVAE-high : {round(r_hat_hi,2)}\")\n"
      ]
    },
    {
      "cell_type": "markdown",
      "metadata": {},
      "source": [
        "## Append Predictions"
      ]
    },
    {
      "cell_type": "code",
      "execution_count": 111,
      "metadata": {
        "id": "vj3xfPn8lP0_"
      },
      "outputs": [
        {
          "data": {
            "text/plain": [
              "(4, 2000, 28)"
            ]
          },
          "execution_count": 111,
          "metadata": {},
          "output_type": "execute_result"
        }
      ],
      "source": [
        "samples[\"theta\"].shape"
      ]
    },
    {
      "cell_type": "code",
      "execution_count": 112,
      "metadata": {
        "id": "2lolZ9vKlQ-5"
      },
      "outputs": [],
      "source": [
        "theta_mean_gp = samples[\"theta\"].mean(axis = (0,1))\n",
        "bci_gp_25 = np.quantile(samples[\"theta\"],0.25,axis = (0,1))\n",
        "bci_gp_75 = np.quantile(samples[\"theta\"],0.75, axis = (0,1))\n",
        "\n",
        "df_lo[\"obs_prev\"] = df_lo[\"Cases\"] / df_lo[\"Population\"]\n",
        "df_hi[\"obs_prev\"] = df_hi[\"Cases\"] / df_hi[\"Population\"]\n",
        "\n",
        "df_lo[\"theta_vae\"] = theta_mean_gp[0:n_lo]\n",
        "df_hi[\"theta_vae\"] = theta_mean_gp[n_lo:n_lo + n_hi]\n",
        "\n",
        "theta_obs_lo = df_lo[\"obs_prev\"]\n",
        "theta_vae_est_lo = df_lo[\"theta_vae\"]\n",
        "theta_obs_hi = df_hi[\"obs_prev\"]\n",
        "theta_vae_est_hi = df_hi[\"theta_vae\"]\n",
        "\n",
        "max_val_lo = np.max([theta_obs_lo, theta_vae_est_lo])\n",
        "min_val_lo = np.min([theta_obs_lo, theta_vae_est_lo])\n",
        "\n",
        "max_val_hi = np.max([theta_obs_hi, theta_vae_est_hi])\n",
        "min_val_hi = np.min([theta_obs_hi, theta_vae_est_hi])"
      ]
    },
    {
      "cell_type": "markdown",
      "metadata": {},
      "source": [
        "## Plot"
      ]
    },
    {
      "cell_type": "code",
      "execution_count": 113,
      "metadata": {
        "colab": {
          "base_uri": "https://localhost:8080/",
          "height": 624
        },
        "id": "O6-ydezskI2V",
        "outputId": "509224d6-9307-45e1-bac0-5ff3297ecb4d"
      },
      "outputs": [
        {
          "data": {
            "image/png": "[encoded data removed]",
            "text/plain": [
              "<Figure size 1200x600 with 4 Axes>"
            ]
          },
          "metadata": {},
          "output_type": "display_data"
        },
        {
          "name": "stdout",
          "output_type": "stream",
          "text": [
            "Plot saved to ../plots/prov_vae_vs_observed_prevalence_sigma30_vae_hiddendim_30_zdim_40.png\n"
          ]
        }
      ],
      "source": [
        "#plot the observed prevalence vs vae-estimated prevalence (low-res)\n",
        "# Set Seaborn style for better visualization\n",
        "sns.set_style(\"whitegrid\")\n",
        "\n",
        "# Define a more contrasting color scheme (Spectral has strong contrast)\n",
        "cmap_choice = \"Spectral\"  # Try 'coolwarm', 'viridis', 'RdYlBu', or 'Spectral' for better distinction\n",
        "\n",
        "fig, ax = plt.subplots(1, 2, figsize=(12, 6))\n",
        "\n",
        "# Plot using a high-contrast colormap\n",
        "df_lo.plot(column=\"theta_vae\", ax=ax[0], legend=True, cmap=cmap_choice, vmin=min_val_lo, vmax=max_val_lo)\n",
        "df_lo.plot(column=\"obs_prev\", ax=ax[1], legend=True, cmap=cmap_choice, vmin=min_val_lo, vmax=max_val_lo)\n",
        "\n",
        "ax[0].set_title(\"VAE-Estimated Province-Level Dengue Prevalence\", fontsize=12, fontweight=\"bold\")\n",
        "ax[1].set_title(\"Observed Province-Level Dengue Prevalence\", fontsize=12, fontweight=\"bold\")\n",
        "\n",
        "# Improve spacing\n",
        "plt.tight_layout()\n",
        "\n",
        "# Save the plot\n",
        "plot_dir = \"../plots\"  # Adjust based on directory structure\n",
        "os.makedirs(plot_dir, exist_ok=True)\n",
        "\n",
        "# Define the filename\n",
        "filename = f\"{plot_dir}/prov_vae_vs_observed_prevalence_sigma{n}_vae_hiddendim_{h}_zdim_{a}.png\"\n",
        "\n",
        "plt.savefig(filename, dpi=300, bbox_inches=\"tight\")  # Save with high resolution\n",
        "\n",
        "# Show the plot (optional)\n",
        "plt.show()\n",
        "\n",
        "print(f\"Plot saved to {filename}\")"
      ]
    },
    {
      "cell_type": "code",
      "execution_count": 114,
      "metadata": {
        "id": "x-ijP3C-k1jf"
      },
      "outputs": [
        {
          "data": {
            "image/png": "[encoded data removed]",
            "text/plain": [
              "<Figure size 1200x600 with 4 Axes>"
            ]
          },
          "metadata": {},
          "output_type": "display_data"
        },
        {
          "name": "stdout",
          "output_type": "stream",
          "text": [
            "Plot saved to ../plots/dist_vae_vs_observed_prevalence_sigma30_vae_hiddendim_30_zdim_40.png\n"
          ]
        }
      ],
      "source": [
        "#plot observed vs estimated prevalence (high-res)\n",
        "#plot the observed prevalence vs vae-estimated prevalence (low-res)\n",
        "# Set Seaborn style for better visualization\n",
        "sns.set_style(\"whitegrid\")\n",
        "\n",
        "# Define a more contrasting color scheme (Spectral has strong contrast)\n",
        "cmap_choice = \"Spectral\"  # Try 'coolwarm', 'viridis', 'RdYlBu', or 'Spectral' for better distinction\n",
        "\n",
        "fig, ax = plt.subplots(1, 2, figsize=(12, 6))\n",
        "\n",
        "# Plot using a high-contrast colormap\n",
        "df_hi.plot(column=\"theta_vae\", ax=ax[0], legend=True, cmap=cmap_choice, vmin=min_val_hi, vmax=max_val_hi)\n",
        "df_hi.plot(column=\"obs_prev\", ax=ax[1], legend=True, cmap=cmap_choice, vmin=min_val_hi, vmax=max_val_hi)\n",
        "\n",
        "ax[0].set_title(\"VAE-Estimated District-Level Dengue Prevalence\", fontsize=12, fontweight=\"bold\")\n",
        "ax[1].set_title(\"Observed District-Level Dengue Prevalence\", fontsize=12, fontweight=\"bold\")\n",
        "\n",
        "# Improve spacing\n",
        "plt.tight_layout()\n",
        "\n",
        "# Save the plot\n",
        "plot_dir = \"../plots\"  # Adjust based on directory structure\n",
        "os.makedirs(plot_dir, exist_ok=True)\n",
        "\n",
        "# Define the filename\n",
        "filename = f\"{plot_dir}/dist_vae_vs_observed_prevalence_sigma{n}_vae_hiddendim_{h}_zdim_{a}.png\"\n",
        "\n",
        "plt.savefig(filename, dpi=300, bbox_inches=\"tight\")  # Save with high resolution\n",
        "\n",
        "# Show the plot (optional)\n",
        "plt.show()\n",
        "\n",
        "print(f\"Plot saved to {filename}\")"
      ]
    },
    {
      "cell_type": "markdown",
      "metadata": {
        "id": "PGqRv3I3fhuj"
      },
      "source": [
        "## Save files with aggVAE Prev predictions"
      ]
    },
    {
      "cell_type": "code",
      "execution_count": 115,
      "metadata": {
        "id": "bknwsIazUKqY"
      },
      "outputs": [],
      "source": [
        "df_lo.to_csv('../data/df_with_aggVAE_preds_lo.csv')\n",
        "df_lo.to_file('../data/df_with_aggVAE_preds_lo.shp')\n",
        "df_hi.to_csv('../data/df_with_aggVAE_preds_hi.csv')\n",
        "df_hi.to_file('../data/df_with_aggVAE_preds_hi.shp')"
      ]
    }
  ],
  "metadata": {
    "colab": {
      "provenance": []
    },
    "kernelspec": {
      "display_name": "Python 3",
      "name": "python3"
    },
    "language_info": {
      "codemirror_mode": {
        "name": "ipython",
        "version": 3
      },
      "file_extension": ".py",
      "mimetype": "text/x-python",
      "name": "python",
      "nbconvert_exporter": "python",
      "pygments_lexer": "ipython3",
      "version": "3.13.1"
    }
  },
  "nbformat": 4,
  "nbformat_minor": 0
}
