{
  "cells": [
    {
      "cell_type": "code",
      "execution_count": 136,
      "metadata": {
        "id": "gU89vhNRUoB4"
      },
      "outputs": [],
      "source": [
        "import pickle\n",
        "import os\n",
        "import torch\n",
        "\n",
        "import numpy as np\n",
        "import geopandas as gpd\n",
        "import jax\n",
        "import jax.numpy as jnp\n",
        "from jax import random\n",
        "from jax import random, lax, jit, ops\n",
        "from jax.example_libraries import stax\n",
        "\n",
        "import numpyro\n",
        "import numpyro.distributions as dist\n",
        "from numpyro.infer import MCMC, NUTS, Predictive\n",
        "\n",
        "import matplotlib.pyplot as plt\n",
        "import seaborn as sns\n",
        "\n",
        "import numpy as np\n",
        "\n",
        "import dill\n",
        "\n",
        "import time\n",
        "\n",
        "from sklearn.preprocessing import QuantileTransformer"
      ]
    },
    {
      "cell_type": "code",
      "execution_count": 137,
      "metadata": {
        "id": "b8MC7NwCjxm2"
      },
      "outputs": [],
      "source": [
        "#define the necessary functions\n",
        "def dist_euclid(x, z):\n",
        "    \"\"\"\n",
        "    Computes Eucledian Distance Between Regions. This function is used by\n",
        "    exp_sq_kernel function (kernel function for gaussian processes)\n",
        "    \"\"\"\n",
        "    x = jnp.array(x) # (ngrid_pts, lat/lon) \n",
        "    z = jnp.array(z) # (ngrid_pts, lat/lon) \n",
        "    if len(x.shape)==1:\n",
        "        x = x.reshape(x.shape[0], 1) #(2618,) \n",
        "    if len(z.shape)==1:\n",
        "        z = x.reshape(x.shape[0], 1) #(2618,) \n",
        "    n_x, m = x.shape # 7304 , 2\n",
        "    n_z, m_z = z.shape # 7304 , 2\n",
        "    assert m == m_z\n",
        "    delta = jnp.zeros((n_x,n_z)) #(ngrid_pts,ngrid_pts) \n",
        "    for d in jnp.arange(m):\n",
        "        x_d = x[:,d] #(ngrid_pts-lat/lon,) \n",
        "        z_d = z[:,d] #(ngrid_pts-lat/lon,) \n",
        "        delta += (x_d[:,jnp.newaxis] - z_d)**2 \n",
        "\n",
        "    return jnp.sqrt(delta) \n",
        "def exp_sq_kernel(x, z, var, length, noise, jitter=1.0e-4):\n",
        "    dist = dist_euclid(x, z) \n",
        "    deltaXsq = jnp.power(dist/ length, 2.0)\n",
        "    k = var * jnp.exp(-0.5 * deltaXsq)\n",
        "    k += (noise + jitter) * jnp.eye(x.shape[0])\n",
        "    return k # (ngrid_pts, ngrid_pts) \n",
        "\n",
        "def vae_decoder(hidden_dim, out_dim):\n",
        "    return stax.serial(\n",
        "        # (num_samples, z_dim) -> (num_samples, hidden_dim): (5,40) -> (5,50)\n",
        "        stax.Dense(hidden_dim, W_init = stax.randn()),\n",
        "        stax.Elu,\n",
        "        # (num_samples, hidden_dim) -> (num_samples, num_regions) : (5,50) -> (5, 58)\n",
        "        stax.Dense(out_dim, W_init = stax.randn())\n",
        "    )"
      ]
    },
    {
      "cell_type": "code",
      "execution_count": 138,
      "metadata": {
        "id": "2b3sw-2mUxLS"
      },
      "outputs": [],
      "source": [
        "def prev_model_vae_aggr(args):\n",
        "\n",
        "    x = args[\"x\"]\n",
        "    out_dims = args[\"out_dims\"]\n",
        "    n = args[\"sigma\"]\n",
        "\n",
        "    #covariates\n",
        "    pop_density = args[\"pop_density\"]\n",
        "    hdi = args[\"hdi\"]\n",
        "    urban = args['urban']\n",
        "    total_population_lo = args[\"total_population_lo\"]\n",
        "    total_population_hi = args[\"total_population_hi\"]\n",
        "\n",
        "    n_hi_regions = total_population_hi.shape[0] #24\n",
        "\n",
        "    #aggregate total populations low and high\n",
        "    total_population = jnp.concatenate([total_population_lo,total_population_hi], axis = 0)\n",
        "\n",
        "    total_cases_lo = args[\"total_cases_lo\"] #cos we wanna predict total cases district-wise, so only feed total cases for low res data\n",
        "\n",
        "    # random effect\n",
        "    decoder_params =args[\"decoder_params\"]\n",
        "    z_dim, hidden_dim = decoder_params[0][0].shape\n",
        "    z = numpyro.sample(\"z\", dist.Normal(jnp.zeros(z_dim), jnp.ones(z_dim)))\n",
        "    _, decoder_apply = vae_decoder(hidden_dim, out_dims) #Instantiate decoder\n",
        "    vae_aggr = numpyro.deterministic(\"vae_aggr\", decoder_apply(decoder_params, z))\n",
        "    s = numpyro.sample(\"sigma\", dist.HalfNormal(n))\n",
        "    vae = numpyro.deterministic(\"vae\", s * vae_aggr)\n",
        "\n",
        "    ## Fixed effects\n",
        "    b0 = numpyro.sample(\"b0\", dist.Normal(-5.25, 0.5))  #Intercept\n",
        "    b_pop_density = numpyro.sample(\"b_pop_density\", dist.Normal(0, 0.33))  #Effect of population density\n",
        "    b_hdi = numpyro.sample(\"b_hdi\", dist.Normal(0, 0.33))  #Effect of HDI\n",
        "    b_urban = numpyro.sample(\"b_urban\", dist.Normal(0, 0.33))  # Effect of urbanicity\n",
        "\n",
        "    # Linear predictor\n",
        "    lp = numpyro.deterministic(\"lp\", b0 - vae_aggr - b_pop_density * pop_density - b_hdi * hdi - b_urban * urban)  # (num_districts,)\n",
        "\n",
        "    # Prevalence probability\n",
        "    theta = numpyro.deterministic(\"theta\", jax.nn.sigmoid(lp) * 0.01)  # (num_districts,)\n",
        "\n",
        "    #add NaN values to total_cases to accommodate for unavailable total cases data for high resolution (that we want to predict)\n",
        "    total_cases = jnp.pad(total_cases_lo, (0, n_hi_regions),constant_values = 0.0) #[3762.  484. ... , 0,0,0]\n",
        "    total_cases = jnp.where(total_cases == 0, jnp.nan, total_cases)# [3762.  484. ... , nan,nan,nan]\n",
        "    total_cases_mask = ~jnp.isnan(total_cases) # [True, True, ...., False, False, False]\n",
        "\n",
        "    # Binomial likelihood\n",
        "    with numpyro.handlers.mask(mask=total_cases_mask):\n",
        "        pred_cases = numpyro.sample(\n",
        "            \"pred_cases\",\n",
        "            dist.Binomial(total_count=total_population, probs=theta),\n",
        "            obs=total_cases)\n",
        "\n",
        "    return pred_cases"
      ]
    },
    {
      "cell_type": "markdown",
      "metadata": {
        "id": "JgtiiyNuWPpN"
      },
      "source": [
        "## Load variables"
      ]
    },
    {
      "cell_type": "code",
      "execution_count": 139,
      "metadata": {
        "id": "TQwJ2-dkWPJP"
      },
      "outputs": [],
      "source": [
        "# Lat/Lon Values of artificial grid\n",
        "x = np.load(\"../data/lat_lon_x_jkt.npy\")\n",
        "df_lo = gpd.read_file('../data/jkt_prov.shp')\n",
        "df_hi = gpd.read_file('../data/jkt_dist.shp')"
      ]
    },
    {
      "cell_type": "code",
      "execution_count": 140,
      "metadata": {},
      "outputs": [],
      "source": [
        "#pass data only for 2023\n",
        "df_lo = df_lo[df_lo.Year == 2023]\n",
        "df_hi = df_hi[df_hi.Year == 2023]"
      ]
    },
    {
      "cell_type": "code",
      "execution_count": 141,
      "metadata": {
        "id": "AyUZa4Bzj3Lg"
      },
      "outputs": [],
      "source": [
        "#hidden dim of vae\n",
        "h = 50\n",
        "\n",
        "#z dim of vae\n",
        "a = 50\n",
        "\n",
        "#prior choice for kernel var length\n",
        "b = (0, 0.5)"
      ]
    },
    {
      "cell_type": "markdown",
      "metadata": {
        "id": "x_zfQLneXYy8"
      },
      "source": [
        "## Arguments to Model"
      ]
    },
    {
      "cell_type": "code",
      "execution_count": 142,
      "metadata": {},
      "outputs": [],
      "source": [
        "pop_lo = np.array(df_lo[\"Pop_den\"]).reshape(-1, 1)\n",
        "pop_hi = np.array(df_hi[\"Pop_den\"]).reshape(-1, 1)\n",
        "hdi_lo = np.array(df_lo[\"HDI\"]).reshape(-1, 1)\n",
        "hdi_hi = np.array(df_hi[\"HDI\"]).reshape(-1, 1)\n",
        "urban_lo = np.array(df_lo[\"urbanicity\"]).reshape(-1, 1)\n",
        "urban_hi = np.array(df_hi[\"urbanicity\"]).reshape(-1, 1)\n",
        "\n",
        "pop_all = np.concatenate([pop_lo, pop_hi], axis=0)\n",
        "hdi_all = np.concatenate([hdi_lo, hdi_hi], axis=0)\n",
        "urban_all = np.concatenate([urban_lo, urban_hi], axis=0)"
      ]
    },
    {
      "cell_type": "code",
      "execution_count": 143,
      "metadata": {
        "id": "FRnHiFc8Xahm"
      },
      "outputs": [],
      "source": [
        "args = {\n",
        "        \"pop_density\": jnp.array(pop_all), # Shape (num_districts,)\n",
        "        \"hdi\": jnp.array(hdi_all), # Shape (num_districts, 2)\n",
        "        \"urban\": jnp.array(urban_all),\n",
        "        \"total_cases_lo\" : jnp.array(df_lo[\"Cases\"]),\n",
        "        \"total_population_lo\" : jnp.array(df_lo[\"Population\"]),\n",
        "        \"total_population_hi\" : jnp.array(df_hi[\"Population\"]),\n",
        "        \"x\" : jnp.array(x),\n",
        "        \"gp_kernel\" : exp_sq_kernel,\n",
        "        \"jitter\" : 1e-4,\n",
        "        \"noise\" : 1e-4,\n",
        "        # VAE training\n",
        "        \"rng_key\": random.PRNGKey(5),\n",
        "        \"num_epochs\": 20,\n",
        "        \"learning_rate\": 0.0005,\n",
        "        \"batch_size\": 100,\n",
        "        \"out_dims\" : df_lo.shape[0] + df_hi.shape[0], #28\n",
        "        \"num_train\": 100,\n",
        "        \"num_test\":100,\n",
        "        \"vae_var\": 1,\n",
        "        \"sigma\": 0.01\n",
        "    }"
      ]
    },
    {
      "cell_type": "markdown",
      "metadata": {
        "id": "Kjs__SLEXbSO"
      },
      "source": [
        "## Load decoder model"
      ]
    },
    {
      "cell_type": "code",
      "execution_count": 144,
      "metadata": {
        "id": "3Ry-ZxLzXdZE"
      },
      "outputs": [],
      "source": [
        "#change the specific file name under the folder model_weights\n",
        "with open(\"../model weights/aggVAE/aggVAE_e20_h50_z50\", \"rb\") as file:\n",
        "        vae_params = pickle.load(file)\n",
        "\n",
        "encoder_params = vae_params[\"encoder$params\"]\n",
        "decoder_params = vae_params[\"decoder$params\"]\n",
        "args[\"decoder_params\"] = decoder_params"
      ]
    },
    {
      "cell_type": "markdown",
      "metadata": {
        "id": "pGFE9Am7Xu81"
      },
      "source": [
        "## Run MCMC"
      ]
    },
    {
      "cell_type": "code",
      "execution_count": null,
      "metadata": {
        "colab": {
          "base_uri": "https://localhost:8080/"
        },
        "id": "1Cdqp20BXx2M",
        "outputId": "63e4bd7f-6421-46d6-e667-000a74aec50b"
      },
      "outputs": [
        {
          "name": "stderr",
          "output_type": "stream",
          "text": [
            "C:\\Users\\jessi\\AppData\\Local\\Temp\\ipykernel_19976\\250601759.py:9: UserWarning: There are not enough devices to run parallel chains: expected 4 but got 1. Chains will be drawn sequentially. If you are running MCMC in CPU, consider using `numpyro.set_host_device_count(4)` at the beginning of your program. You can double-check how many devices are available in your system using `jax.local_device_count()`.\n",
            "  mcmc = MCMC(NUTS(prev_model_vae_aggr), num_warmup = 1000, num_samples = 2000, num_chains = 4)\n",
            "  0%|          | 0/3000 [00:00<?, ?it/s]"
          ]
        }
      ],
      "source": [
        "# Get script location and define correct save directory (sibling to src/)\n",
        "script_dir = os.getcwd()  # Get current working directory\n",
        "save_dir = os.path.abspath(os.path.join(script_dir, \"..\", \"model weights\", \"aggVAEPrev\"))  # Move up and into model_weights\n",
        "os.makedirs(save_dir, exist_ok=True)  # Ensure the directory exists\n",
        "\n",
        "#set seed for running mcmc\n",
        "mcmc_key, predict_key = random.split(random.PRNGKey(0))\n",
        "start_time = time.time()\n",
        "mcmc = MCMC(NUTS(prev_model_vae_aggr), num_warmup = 1000, num_samples = 2000, num_chains = 4)\n",
        "\n",
        "mcmc.run(mcmc_key, args)\n",
        "t_elapsed = time.time() - start_time\n",
        "t_elapsed_mins = int(t_elapsed / 60)"
      ]
    },
    {
      "cell_type": "code",
      "execution_count": null,
      "metadata": {},
      "outputs": [
        {
          "name": "stdout",
          "output_type": "stream",
          "text": [
            "189.41557383537292\n"
          ]
        }
      ],
      "source": [
        "#print the time taken\n",
        "print(t_elapsed)"
      ]
    },
    {
      "cell_type": "code",
      "execution_count": null,
      "metadata": {
        "colab": {
          "base_uri": "https://localhost:8080/"
        },
        "id": "s5WTwxrMj-07",
        "outputId": "4e22674a-12ac-47ad-94b2-0d06651c10fc"
      },
      "outputs": [
        {
          "name": "stdout",
          "output_type": "stream",
          "text": [
            "Saved aggVAEPrev MCMC samples to c:\\Users\\jessi\\Documents\\school\\y4\\s2\\DSE4101\\Individual\\FYP codes\\DSE_FYP\\simulation study\\model weights\\aggVAEPrev\\aggVAEPrev_nsamples_2000_tt3min_sigma0.0001_hdim50_zdim50_lognormal_noqt_thetascaled.pkl\n"
          ]
        }
      ],
      "source": [
        "n_samples = 2000\n",
        "n_warmup = 1000\n",
        "n = args[\"sigma\"]\n",
        "\n",
        "\n",
        "#save the mcmc\n",
        "f_path = os.path.join(save_dir, f\"aggVAEPrev_nsamples_{n_samples}_tt{t_elapsed_mins}min_sigma{n}_hdim{h}_zdim{a}_lognormal_noqt_thetascaled.pkl\")\n",
        "with open(f_path, \"wb\") as file:\n",
        "    dill.dump(mcmc, file)\n",
        "\n",
        "print(f\"Saved aggVAEPrev MCMC samples to {f_path}\")"
      ]
    },
    {
      "cell_type": "code",
      "execution_count": null,
      "metadata": {
        "colab": {
          "base_uri": "https://localhost:8080/"
        },
        "id": "8EW5mUIhkA-P",
        "outputId": "734467b7-bcaa-4510-aa58-2a756c280cbd"
      },
      "outputs": [
        {
          "name": "stdout",
          "output_type": "stream",
          "text": [
            "\n",
            "                     mean       std    median      5.0%     95.0%     n_eff     r_hat\n",
            "             b0     -5.20      0.50     -5.20     -6.04     -4.40    789.38      1.00\n",
            "          b_hdi     -0.01      0.32      0.00     -0.54      0.49    600.68      1.01\n",
            "  b_pop_density     -0.00      0.07     -0.00     -0.12      0.11    548.19      1.01\n",
            "        b_urban     -0.02      0.25     -0.01     -0.43      0.40    458.76      1.01\n",
            "        lp[0,0]     -1.64      0.01     -1.64     -1.66     -1.62   6750.42      1.00\n",
            "        lp[0,1]     -4.42      0.49     -4.42     -5.28     -3.68    792.26      1.00\n",
            "        lp[0,2]     -4.77      0.53     -4.77     -5.66     -3.90    799.13      1.00\n",
            "        lp[0,3]     -4.26      0.47     -4.26     -5.09     -3.53    764.96      1.00\n",
            "        lp[0,4]     -4.03      0.44     -4.03     -4.77     -3.33    748.67      1.00\n",
            "        lp[0,5]     -4.18      0.45     -4.19     -4.97     -3.50    790.84      1.00\n",
            "        lp[1,0]     -1.64      0.02     -1.64     -1.67     -1.61   1490.97      1.00\n",
            "        lp[1,1]     -4.42      0.49     -4.42     -5.26     -3.66    797.67      1.00\n",
            "        lp[1,2]     -4.77      0.53     -4.77     -5.68     -3.92    803.83      1.00\n",
            "        lp[1,3]     -4.26      0.47     -4.26     -5.09     -3.53    770.96      1.00\n",
            "        lp[1,4]     -4.03      0.44     -4.03     -4.80     -3.35    755.12      1.00\n",
            "        lp[1,5]     -4.18      0.45     -4.19     -4.95     -3.48    796.88      1.00\n",
            "        lp[2,0]     -1.64      0.02     -1.64     -1.68     -1.60   1630.94      1.00\n",
            "        lp[2,1]     -4.42      0.49     -4.42     -5.24     -3.63    803.21      1.00\n",
            "        lp[2,2]     -4.77      0.54     -4.77     -5.66     -3.90    808.82      1.00\n",
            "        lp[2,3]     -4.26      0.48     -4.26     -5.10     -3.53    776.58      1.00\n",
            "        lp[2,4]     -4.03      0.44     -4.03     -4.81     -3.36    761.42      1.00\n",
            "        lp[2,5]     -4.18      0.45     -4.19     -4.96     -3.48    802.97      1.00\n",
            "        lp[3,0]     -1.64      0.02     -1.64     -1.68     -1.60    742.35      1.01\n",
            "        lp[3,1]     -4.42      0.49     -4.42     -5.28     -3.67    790.09      1.00\n",
            "        lp[3,2]     -4.77      0.54     -4.77     -5.71     -3.93    797.35      1.00\n",
            "        lp[3,3]     -4.26      0.48     -4.26     -5.07     -3.48    762.58      1.00\n",
            "        lp[3,4]     -4.03      0.45     -4.03     -4.78     -3.32    746.67      1.00\n",
            "        lp[3,5]     -4.18      0.45     -4.19     -4.99     -3.50    788.29      1.00\n",
            "        lp[4,0]     -1.64      0.01     -1.64     -1.66     -1.62   3615.75      1.00\n",
            "        lp[4,1]     -4.42      0.49     -4.42     -5.28     -3.68    792.31      1.00\n",
            "        lp[4,2]     -4.77      0.53     -4.77     -5.67     -3.91    799.08      1.00\n",
            "        lp[4,3]     -4.26      0.48     -4.26     -5.10     -3.53    765.28      1.00\n",
            "        lp[4,4]     -4.03      0.44     -4.03     -4.78     -3.33    749.04      1.00\n",
            "        lp[4,5]     -4.18      0.45     -4.19     -4.97     -3.50    790.93      1.00\n",
            "        lp[5,0]     -1.64      0.02     -1.64     -1.68     -1.60   1750.35      1.00\n",
            "        lp[5,1]     -4.42      0.48     -4.43     -5.22     -3.65    785.53      1.00\n",
            "        lp[5,2]     -4.77      0.53     -4.77     -5.66     -3.92    793.13      1.00\n",
            "        lp[5,3]     -4.26      0.47     -4.26     -5.08     -3.54    757.35      1.00\n",
            "        lp[5,4]     -4.03      0.43     -4.03     -4.79     -3.36    740.24      1.00\n",
            "        lp[5,5]     -4.19      0.44     -4.19     -4.96     -3.51    783.51      1.00\n",
            "          sigma      0.00      0.00      0.00      0.00      0.00    938.54      1.00\n",
            "     theta[0,0]      0.00      0.00      0.00      0.00      0.00   6749.43      1.00\n",
            "     theta[0,1]      0.00      0.00      0.00      0.00      0.00    837.28      1.00\n",
            "     theta[0,2]      0.00      0.00      0.00      0.00      0.00    847.18      1.00\n",
            "     theta[0,3]      0.00      0.00      0.00      0.00      0.00    827.29      1.00\n",
            "     theta[0,4]      0.00      0.00      0.00      0.00      0.00    809.97      1.00\n",
            "     theta[0,5]      0.00      0.00      0.00      0.00      0.00    831.34      1.00\n",
            "     theta[1,0]      0.00      0.00      0.00      0.00      0.00   1489.51      1.00\n",
            "     theta[1,1]      0.00      0.00      0.00      0.00      0.00    843.77      1.00\n",
            "     theta[1,2]      0.00      0.00      0.00      0.00      0.00    852.88      1.00\n",
            "     theta[1,3]      0.00      0.00      0.00      0.00      0.00    834.45      1.00\n",
            "     theta[1,4]      0.00      0.00      0.00      0.00      0.00    817.62      1.00\n",
            "     theta[1,5]      0.00      0.00      0.00      0.00      0.00    838.40      1.00\n",
            "     theta[2,0]      0.00      0.00      0.00      0.00      0.00   1625.57      1.00\n",
            "     theta[2,1]      0.00      0.00      0.00      0.00      0.00    848.25      1.00\n",
            "     theta[2,2]      0.00      0.00      0.00      0.00      0.00    856.85      1.00\n",
            "     theta[2,3]      0.00      0.00      0.00      0.00      0.00    839.02      1.00\n",
            "     theta[2,4]      0.00      0.00      0.00      0.00      0.00    822.60      1.00\n",
            "     theta[2,5]      0.00      0.00      0.00      0.00      0.00    843.37      1.00\n",
            "     theta[3,0]      0.00      0.00      0.00      0.00      0.00    742.65      1.01\n",
            "     theta[3,1]      0.00      0.00      0.00      0.00      0.00    833.44      1.00\n",
            "     theta[3,2]      0.00      0.00      0.00      0.00      0.00    844.07      1.00\n",
            "     theta[3,3]      0.00      0.00      0.00      0.00      0.00    822.89      1.00\n",
            "     theta[3,4]      0.00      0.00      0.00      0.00      0.00    805.44      1.00\n",
            "     theta[3,5]      0.00      0.00      0.00      0.00      0.00    827.01      1.00\n",
            "     theta[4,0]      0.00      0.00      0.00      0.00      0.00   3616.47      1.00\n",
            "     theta[4,1]      0.00      0.00      0.00      0.00      0.00    838.34      1.00\n",
            "     theta[4,2]      0.00      0.00      0.00      0.00      0.00    848.16      1.00\n",
            "     theta[4,3]      0.00      0.00      0.00      0.00      0.00    828.61      1.00\n",
            "     theta[4,4]      0.00      0.00      0.00      0.00      0.00    811.37      1.00\n",
            "     theta[4,5]      0.00      0.00      0.00      0.00      0.00    832.40      1.00\n",
            "     theta[5,0]      0.00      0.00      0.00      0.00      0.00   1753.39      1.00\n",
            "     theta[5,1]      0.00      0.00      0.00      0.00      0.00    830.85      1.00\n",
            "     theta[5,2]      0.00      0.00      0.00      0.00      0.00    841.27      1.00\n",
            "     theta[5,3]      0.00      0.00      0.00      0.00      0.00    820.43      1.00\n",
            "     theta[5,4]      0.00      0.00      0.00      0.00      0.00    802.57      1.00\n",
            "     theta[5,5]      0.00      0.00      0.00      0.00      0.00    824.52      1.00\n",
            "         vae[0]     -0.00      0.00     -0.00     -0.00     -0.00    947.18      1.00\n",
            "         vae[1]     -0.00      0.00     -0.00     -0.00     -0.00    952.72      1.00\n",
            "         vae[2]     -0.00      0.00     -0.00     -0.00     -0.00    941.26      1.00\n",
            "         vae[3]     -0.00      0.00     -0.00     -0.00     -0.00    955.69      1.00\n",
            "         vae[4]     -0.00      0.00     -0.00     -0.00     -0.00    957.10      1.00\n",
            "         vae[5]     -0.00      0.00     -0.00     -0.00     -0.00    952.63      1.00\n",
            "    vae_aggr[0]     -3.54      0.58     -3.54     -4.50     -2.57    800.90      1.00\n",
            "    vae_aggr[1]     -0.76      0.11     -0.76     -0.94     -0.59    725.65      1.01\n",
            "    vae_aggr[2]     -0.41      0.06     -0.41     -0.51     -0.32    753.41      1.00\n",
            "    vae_aggr[3]     -0.91      0.15     -0.92     -1.16     -0.68    367.55      1.02\n",
            "    vae_aggr[4]     -1.15      0.18     -1.15     -1.45     -0.84    471.42      1.02\n",
            "    vae_aggr[5]     -0.99      0.14     -1.00     -1.23     -0.75    742.93      1.00\n",
            "           z[0]      0.05      1.01      0.03     -1.58      1.71    744.31      1.01\n",
            "           z[1]     -0.00      0.98      0.02     -1.64      1.59    527.17      1.01\n",
            "           z[2]     -0.06      0.99     -0.05     -1.75      1.50    903.32      1.00\n",
            "           z[3]      0.11      1.00      0.10     -1.51      1.76    648.65      1.00\n",
            "           z[4]     -0.04      0.95     -0.03     -1.62      1.48    743.26      1.00\n",
            "           z[5]     -0.06      1.03     -0.08     -1.72      1.65    554.63      1.02\n",
            "           z[6]     -0.03      1.00     -0.04     -1.65      1.63    665.89      1.00\n",
            "           z[7]     -0.01      0.99     -0.03     -1.60      1.68    550.37      1.01\n",
            "           z[8]     -0.01      1.00     -0.01     -1.69      1.55    847.98      1.00\n",
            "           z[9]     -0.05      1.01     -0.05     -1.72      1.56    767.93      1.00\n",
            "          z[10]      0.01      1.00     -0.02     -1.64      1.66    454.19      1.01\n",
            "          z[11]      0.03      1.02      0.01     -1.58      1.78    427.47      1.01\n",
            "          z[12]      0.00      1.03     -0.00     -1.72      1.64    602.16      1.00\n",
            "          z[13]     -0.41      0.95     -0.44     -1.91      1.20    479.63      1.02\n",
            "          z[14]     -0.04      1.02     -0.03     -1.64      1.70    509.88      1.01\n",
            "          z[15]      0.11      0.97      0.12     -1.55      1.64    773.80      1.01\n",
            "          z[16]     -0.02      0.96     -0.02     -1.64      1.53    916.28      1.00\n",
            "          z[17]      0.00      1.01      0.01     -1.60      1.74    700.24      1.00\n",
            "          z[18]     -0.03      1.01     -0.05     -1.72      1.58    735.06      1.00\n",
            "          z[19]     -0.03      0.98     -0.03     -1.77      1.46    634.98      1.00\n",
            "          z[20]      0.02      0.98      0.01     -1.61      1.60    701.12      1.00\n",
            "          z[21]      0.03      0.98      0.05     -1.52      1.67    478.52      1.01\n",
            "          z[22]      0.02      1.01     -0.01     -1.59      1.76    575.98      1.01\n",
            "          z[23]      0.40      0.94      0.41     -1.14      1.94    319.58      1.03\n",
            "          z[24]      0.06      1.00      0.03     -1.54      1.73    584.98      1.01\n",
            "          z[25]      0.03      0.98      0.01     -1.49      1.69    758.98      1.01\n",
            "          z[26]      0.33      0.94      0.34     -1.18      1.86    511.10      1.01\n",
            "          z[27]      0.02      0.99      0.01     -1.56      1.70    694.27      1.00\n",
            "          z[28]     -0.03      0.99     -0.07     -1.53      1.69    757.08      1.00\n",
            "          z[29]      0.05      0.95      0.05     -1.47      1.60    541.96      1.00\n",
            "          z[30]     -0.07      0.97     -0.06     -1.63      1.54    361.07      1.02\n",
            "          z[31]     -0.06      1.01     -0.08     -1.72      1.57    628.88      1.01\n",
            "          z[32]      0.08      0.99      0.07     -1.59      1.66    383.17      1.03\n",
            "          z[33]     -0.01      0.99     -0.02     -1.58      1.68    742.27      1.00\n",
            "          z[34]      0.07      0.98      0.07     -1.52      1.64    678.35      1.00\n",
            "          z[35]     -0.03      0.98     -0.03     -1.54      1.66    832.81      1.01\n",
            "          z[36]      0.01      1.00      0.01     -1.69      1.59    712.84      1.00\n",
            "          z[37]     -0.02      1.00     -0.01     -1.82      1.47    792.12      1.01\n",
            "          z[38]     -0.02      1.01     -0.04     -1.70      1.63    762.28      1.00\n",
            "          z[39]     -0.01      1.03     -0.00     -1.68      1.65    579.38      1.00\n",
            "          z[40]      0.13      0.98      0.13     -1.39      1.86    594.65      1.01\n",
            "          z[41]     -0.05      0.92     -0.07     -1.53      1.45    662.80      1.01\n",
            "          z[42]      0.03      0.98      0.04     -1.54      1.71    521.48      1.01\n",
            "          z[43]     -0.01      1.01     -0.04     -1.60      1.72    786.04      1.01\n",
            "          z[44]     -0.12      0.95     -0.12     -1.74      1.36    560.72      1.01\n",
            "          z[45]     -0.07      0.96     -0.08     -1.68      1.47    792.12      1.00\n",
            "          z[46]     -0.00      0.94      0.00     -1.48      1.62    888.49      1.00\n",
            "          z[47]     -0.00      0.96     -0.02     -1.56      1.60    527.03      1.01\n",
            "          z[48]      0.02      1.01      0.03     -1.66      1.62    660.62      1.00\n",
            "          z[49]      0.04      1.00      0.06     -1.67      1.63    567.69      1.01\n",
            "\n",
            "Number of divergences: 277\n"
          ]
        }
      ],
      "source": [
        "#print the summary stats\n",
        "samples = mcmc.get_samples(group_by_chain = True)\n",
        "mcmc.print_summary(exclude_deterministic=False)"
      ]
    },
    {
      "cell_type": "code",
      "execution_count": null,
      "metadata": {
        "colab": {
          "base_uri": "https://localhost:8080/"
        },
        "id": "j_XmKyIgkCJn",
        "outputId": "ba4fdda1-a8bf-4d17-dd75-c6b55bfa187a"
      },
      "outputs": [
        {
          "name": "stdout",
          "output_type": "stream",
          "text": [
            "Average ESS for all aggVAE effects : 644\n",
            "Average ESS for all aggVAE-low effects : 801\n",
            "Max r_hat for all aggVAE-low : 1.0\n",
            "Average ESS for all aggVAE-high effects : 612\n",
            "Max r_hat for all aggVAE-high : 1.0199999809265137\n"
          ]
        }
      ],
      "source": [
        "#metric values (ESS and Rhat)\n",
        "n_lo = df_lo.shape[0]\n",
        "n_hi = df_hi.shape[0]\n",
        "\n",
        "ss = numpyro.diagnostics.summary(mcmc.get_samples(group_by_chain = True))\n",
        "r = np.mean(ss[\"vae_aggr\"][\"n_eff\"])\n",
        "\n",
        "print(f\"Average ESS for all aggVAE effects : {round(r)}\")\n",
        "\n",
        "ess_lo = np.mean(ss[\"vae_aggr\"][\"n_eff\"][0:n_lo])\n",
        "r_hat_lo = np.max(ss[\"vae_aggr\"][\"r_hat\"][0:n_lo])\n",
        "\n",
        "ess_hi = np.mean(ss[\"vae_aggr\"][\"n_eff\"][n_lo:n_lo + n_hi])\n",
        "r_hat_hi = np.max(ss[\"vae_aggr\"][\"r_hat\"][n_lo : n_lo + n_hi])\n",
        "\n",
        "print(f\"Average ESS for all aggVAE-low effects : {round(ess_lo)}\")\n",
        "print(f\"Max r_hat for all aggVAE-low : {round(r_hat_lo,2)}\")\n",
        "\n",
        "print(f\"Average ESS for all aggVAE-high effects : {round(ess_hi)}\")\n",
        "print(f\"Max r_hat for all aggVAE-high : {round(r_hat_hi,2)}\")\n"
      ]
    },
    {
      "cell_type": "markdown",
      "metadata": {},
      "source": [
        "## Append Predictions"
      ]
    },
    {
      "cell_type": "code",
      "execution_count": null,
      "metadata": {
        "id": "vj3xfPn8lP0_"
      },
      "outputs": [
        {
          "data": {
            "text/plain": [
              "(4, 2000, 6, 6)"
            ]
          },
          "execution_count": 129,
          "metadata": {},
          "output_type": "execute_result"
        }
      ],
      "source": [
        "samples[\"theta\"].shape"
      ]
    },
    {
      "cell_type": "code",
      "execution_count": null,
      "metadata": {
        "id": "2lolZ9vKlQ-5"
      },
      "outputs": [],
      "source": [
        "# Reduce over axis=2 if needed\n",
        "theta_mean_vae = samples[\"theta\"].mean(axis=(0,1))  # shape: (n_obs, latent_dim)\n",
        "theta_mean_vae_scalar = theta_mean_vae.mean(axis=1)  # now shape: (n_obs,)\n",
        "\n",
        "bci_gp_25 = np.quantile(samples[\"theta\"],0.25,axis = (0,1))\n",
        "bci_gp_75 = np.quantile(samples[\"theta\"],0.75, axis = (0,1))\n",
        "\n",
        "df_lo[\"obs_prev\"] = df_lo[\"Cases\"] / df_lo[\"Population\"]\n",
        "df_hi[\"obs_prev\"] = df_hi[\"Cases\"] / df_hi[\"Population\"]\n",
        "\n",
        "df_lo[\"theta_vae\"] = theta_mean_vae_scalar[0:n_lo]\n",
        "df_hi[\"theta_vae\"] = theta_mean_vae_scalar[n_lo:n_lo + n_hi]\n",
        "\n",
        "theta_obs_lo = df_lo[\"obs_prev\"]\n",
        "theta_vae_est_lo = df_lo[\"theta_vae\"]\n",
        "theta_obs_hi = df_hi[\"obs_prev\"]\n",
        "theta_vae_est_hi = df_hi[\"theta_vae\"]\n",
        "\n",
        "max_val_lo = np.max(np.concatenate([theta_obs_lo.values, theta_vae_est_lo.values]))\n",
        "min_val_lo = np.min(np.concatenate([theta_obs_lo.values, theta_vae_est_lo.values]))\n",
        "\n",
        "max_val_hi = np.max(np.concatenate([theta_obs_hi.values, theta_vae_est_hi.values]))\n",
        "min_val_hi = np.min(np.concatenate([theta_obs_hi.values, theta_vae_est_hi.values]))"
      ]
    },
    {
      "cell_type": "code",
      "execution_count": null,
      "metadata": {},
      "outputs": [],
      "source": [
        "from sklearn.metrics import mean_squared_error, mean_absolute_error\n",
        "# High incidence districts\n",
        "rmse_hi = mean_squared_error(theta_obs_hi, theta_vae_est_hi)\n",
        "mae_hi = mean_absolute_error(theta_obs_hi, theta_vae_est_hi)\n",
        "mae_pct_hi = 100 * np.mean(np.abs(theta_obs_hi - theta_vae_est_hi) / theta_obs_hi)\n",
        "\n",
        "from scipy.stats import spearmanr\n",
        "# Spearman correlation\n",
        "corr, p_value = spearmanr(theta_obs_hi, theta_vae_est_hi)"
      ]
    },
    {
      "cell_type": "code",
      "execution_count": null,
      "metadata": {},
      "outputs": [
        {
          "name": "stdout",
          "output_type": "stream",
          "text": [
            "RMSE aggVAE: 2.2534277662517746e-06\n",
            "MAE aggVAE: 0.0014994549555270732\n",
            "MAE(%) aggVAE: 75.66779473162582\n",
            "Spearman correlation aggVAE: 0.09999999999999999\n",
            "p-value: aggVAE 0.8728885715695383\n"
          ]
        }
      ],
      "source": [
        "print(\"RMSE aggVAE:\", rmse_hi)\n",
        "print(\"MAE aggVAE:\",mae_hi)\n",
        "print(\"MAE(%) aggVAE:\",mae_pct_hi)\n",
        "\n",
        "print(\"Spearman correlation aggVAE:\", corr)\n",
        "print(\"p-value: aggVAE\", p_value)"
      ]
    },
    {
      "cell_type": "code",
      "execution_count": null,
      "metadata": {},
      "outputs": [
        {
          "name": "stdout",
          "output_type": "stream",
          "text": [
            "4.115080448452152\n"
          ]
        }
      ],
      "source": [
        "# Compute average observed prevalence for low-res districts\n",
        "mean_obs_prev_hi = theta_obs_hi.mean()\n",
        "\n",
        "# Compute average predicted prevalence (before scaling) for low-res districts\n",
        "mean_pred_prev_hi = theta_vae_est_hi.mean()\n",
        "\n",
        "# Compute scaling factor to calibrate predictions\n",
        "theta_scaling_factor = mean_obs_prev_hi / mean_pred_prev_hi\n",
        "print(theta_scaling_factor)"
      ]
    },
    {
      "cell_type": "markdown",
      "metadata": {},
      "source": [
        "## Plot"
      ]
    },
    {
      "cell_type": "code",
      "execution_count": null,
      "metadata": {
        "id": "x-ijP3C-k1jf"
      },
      "outputs": [
        {
          "data": {
            "image/png": "[encoded data removed]",
            "text/plain": [
              "<Figure size 1200x600 with 4 Axes>"
            ]
          },
          "metadata": {},
          "output_type": "display_data"
        },
        {
          "name": "stdout",
          "output_type": "stream",
          "text": [
            "Plot saved to ../plots/dist_vae_vs_observed_prevalence_sigma0.0001_vae_hiddendim_50_zdim_50_lognormal_noqt.png\n"
          ]
        }
      ],
      "source": [
        "#plot observed vs estimated prevalence (high-res)\n",
        "#plot the observed prevalence vs vae-estimated prevalence (low-res)\n",
        "# Set Seaborn style for better visualization\n",
        "sns.set_style(\"whitegrid\")\n",
        "\n",
        "# Define a more contrasting color scheme (Spectral has strong contrast)\n",
        "cmap_choice = \"Spectral\"  # Try 'coolwarm', 'viridis', 'RdYlBu', or 'Spectral' for better distinction\n",
        "\n",
        "fig, ax = plt.subplots(1, 2, figsize=(12, 6))\n",
        "\n",
        "# Plot using a high-contrast colormap\n",
        "df_hi.plot(column=\"theta_vae\", ax=ax[0], legend=True, cmap=cmap_choice, vmin=min_val_hi, vmax=max_val_hi)\n",
        "df_hi.plot(column=\"obs_prev\", ax=ax[1], legend=True, cmap=cmap_choice, vmin=min_val_hi, vmax=max_val_hi)\n",
        "\n",
        "ax[0].set_title(\"VAE-Estimated District-Level Dengue Prevalence\", fontsize=12, fontweight=\"bold\")\n",
        "ax[1].set_title(\"Observed District-Level Dengue Prevalence\", fontsize=12, fontweight=\"bold\")\n",
        "\n",
        "# Improve spacing\n",
        "plt.tight_layout()\n",
        "\n",
        "# Save the plot\n",
        "plot_dir = \"../plots\"  # Adjust based on directory structure\n",
        "os.makedirs(plot_dir, exist_ok=True)\n",
        "\n",
        "# Define the filename\n",
        "filename = f\"{plot_dir}/dist_vae_vs_observed_prevalence_sigma{n}_vae_hiddendim_{h}_zdim_{a}_lognormal_noqt.png\"\n",
        "\n",
        "plt.savefig(filename, dpi=300, bbox_inches=\"tight\")  # Save with high resolution\n",
        "\n",
        "# Show the plot (optional)\n",
        "plt.show()\n",
        "\n",
        "print(f\"Plot saved to {filename}\")"
      ]
    },
    {
      "cell_type": "markdown",
      "metadata": {
        "id": "PGqRv3I3fhuj"
      },
      "source": [
        "## Save files with aggVAE Prev predictions"
      ]
    },
    {
      "cell_type": "code",
      "execution_count": null,
      "metadata": {
        "id": "bknwsIazUKqY"
      },
      "outputs": [],
      "source": [
        "df_hi.to_csv('../data/df_with_aggVAE_preds_hi.csv')\n",
        "df_hi.to_file('../data/df_with_aggVAE_preds_hi.shp')"
      ]
    }
  ],
  "metadata": {
    "colab": {
      "provenance": []
    },
    "kernelspec": {
      "display_name": "Python 3",
      "name": "python3"
    },
    "language_info": {
      "codemirror_mode": {
        "name": "ipython",
        "version": 3
      },
      "file_extension": ".py",
      "mimetype": "text/x-python",
      "name": "python",
      "nbconvert_exporter": "python",
      "pygments_lexer": "ipython3",
      "version": "3.13.1"
    }
  },
  "nbformat": 4,
  "nbformat_minor": 0
}
