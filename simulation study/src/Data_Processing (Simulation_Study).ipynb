{
  "cells": [
    {
      "cell_type": "markdown",
      "metadata": {
        "id": "5fQLwQI9EtiG"
      },
      "source": [
        "### Libraries"
      ]
    },
    {
      "cell_type": "code",
      "execution_count": 31,
      "metadata": {
        "id": "99KCZ-okEvv3"
      },
      "outputs": [],
      "source": [
        "import geopandas as gpd\n",
        "import pandas as pd\n",
        "import matplotlib.pyplot as plt\n",
        "import numpy as np\n",
        "import os"
      ]
    },
    {
      "cell_type": "markdown",
      "metadata": {
        "id": "WDB8e5IQForo"
      },
      "source": [
        "### Data filtering to get jakarta data only"
      ]
    },
    {
      "cell_type": "code",
      "execution_count": 32,
      "metadata": {
        "id": "tnp2UT99EVp5"
      },
      "outputs": [],
      "source": [
        "## Read in data\n",
        "prov = gpd.read_file(\"../data/low_res_sim.shp\")  # Change path if needed\n",
        "dist = gpd.read_file(\"../data/high_res_sim.shp\")"
      ]
    },
    {
      "cell_type": "code",
      "execution_count": 33,
      "metadata": {
        "colab": {
          "base_uri": "https://localhost:8080/",
          "height": 293
        },
        "id": "Q-GkSC53EH7m",
        "outputId": "875daaba-2a14-4021-e080-2872f3d2c5df"
      },
      "outputs": [
        {
          "data": {
            "text/html": [
              "<div>\n",
              "<style scoped>\n",
              "    .dataframe tbody tr th:only-of-type {\n",
              "        vertical-align: middle;\n",
              "    }\n",
              "\n",
              "    .dataframe tbody tr th {\n",
              "        vertical-align: top;\n",
              "    }\n",
              "\n",
              "    .dataframe thead th {\n",
              "        text-align: right;\n",
              "    }\n",
              "</style>\n",
              "<table border=\"1\" class=\"dataframe\">\n",
              "  <thead>\n",
              "    <tr style=\"text-align: right;\">\n",
              "      <th></th>\n",
              "      <th>District</th>\n",
              "      <th>Year</th>\n",
              "      <th>Area_sq_km</th>\n",
              "      <th>HDI</th>\n",
              "      <th>Province</th>\n",
              "      <th>Cases</th>\n",
              "      <th>Population</th>\n",
              "      <th>Pop_den</th>\n",
              "      <th>urbanicity</th>\n",
              "      <th>hdi_qt</th>\n",
              "      <th>popden_qt</th>\n",
              "      <th>urban_qt</th>\n",
              "      <th>geometry</th>\n",
              "    </tr>\n",
              "  </thead>\n",
              "  <tbody>\n",
              "    <tr>\n",
              "      <th>0</th>\n",
              "      <td>BANDUNG</td>\n",
              "      <td>2020</td>\n",
              "      <td>1767.96</td>\n",
              "      <td>0.7239</td>\n",
              "      <td>Jawa Barat</td>\n",
              "      <td>2295</td>\n",
              "      <td>3623790</td>\n",
              "      <td>2049.701351</td>\n",
              "      <td>0.123155</td>\n",
              "      <td>0.009869</td>\n",
              "      <td>0.394904</td>\n",
              "      <td>-0.198672</td>\n",
              "      <td>POLYGON ((107.73309 -6.814, 107.73354 -6.81427...</td>\n",
              "    </tr>\n",
              "    <tr>\n",
              "      <th>1</th>\n",
              "      <td>BANDUNG</td>\n",
              "      <td>2021</td>\n",
              "      <td>1767.96</td>\n",
              "      <td>0.7273</td>\n",
              "      <td>Jawa Barat</td>\n",
              "      <td>2002</td>\n",
              "      <td>3665655</td>\n",
              "      <td>2073.381185</td>\n",
              "      <td>0.123155</td>\n",
              "      <td>0.069135</td>\n",
              "      <td>0.437957</td>\n",
              "      <td>-0.198672</td>\n",
              "      <td>POLYGON ((107.73309 -6.814, 107.73354 -6.81427...</td>\n",
              "    </tr>\n",
              "    <tr>\n",
              "      <th>2</th>\n",
              "      <td>BANDUNG</td>\n",
              "      <td>2022</td>\n",
              "      <td>1767.96</td>\n",
              "      <td>0.7316</td>\n",
              "      <td>Jawa Barat</td>\n",
              "      <td>4191</td>\n",
              "      <td>3707523</td>\n",
              "      <td>2097.062716</td>\n",
              "      <td>0.123155</td>\n",
              "      <td>0.128646</td>\n",
              "      <td>0.459787</td>\n",
              "      <td>-0.198672</td>\n",
              "      <td>POLYGON ((107.73309 -6.814, 107.73354 -6.81427...</td>\n",
              "    </tr>\n",
              "    <tr>\n",
              "      <th>3</th>\n",
              "      <td>BANDUNG</td>\n",
              "      <td>2023</td>\n",
              "      <td>1767.96</td>\n",
              "      <td>0.7374</td>\n",
              "      <td>Jawa Barat</td>\n",
              "      <td>1005</td>\n",
              "      <td>3749391</td>\n",
              "      <td>2120.744248</td>\n",
              "      <td>0.123155</td>\n",
              "      <td>0.188616</td>\n",
              "      <td>0.481838</td>\n",
              "      <td>-0.198672</td>\n",
              "      <td>POLYGON ((107.73309 -6.814, 107.73354 -6.81427...</td>\n",
              "    </tr>\n",
              "    <tr>\n",
              "      <th>4</th>\n",
              "      <td>BANDUNG BARAT</td>\n",
              "      <td>2020</td>\n",
              "      <td>1305.77</td>\n",
              "      <td>0.6808</td>\n",
              "      <td>Jawa Barat</td>\n",
              "      <td>966</td>\n",
              "      <td>1788336</td>\n",
              "      <td>1369.564318</td>\n",
              "      <td>0.079001</td>\n",
              "      <td>-1.038123</td>\n",
              "      <td>-0.069135</td>\n",
              "      <td>-0.459787</td>\n",
              "      <td>POLYGON ((107.40945 -6.68851, 107.40986 -6.688...</td>\n",
              "    </tr>\n",
              "  </tbody>\n",
              "</table>\n",
              "</div>"
            ],
            "text/plain": [
              "        District  Year  Area_sq_km     HDI    Province  Cases  Population  \\\n",
              "0        BANDUNG  2020     1767.96  0.7239  Jawa Barat   2295     3623790   \n",
              "1        BANDUNG  2021     1767.96  0.7273  Jawa Barat   2002     3665655   \n",
              "2        BANDUNG  2022     1767.96  0.7316  Jawa Barat   4191     3707523   \n",
              "3        BANDUNG  2023     1767.96  0.7374  Jawa Barat   1005     3749391   \n",
              "4  BANDUNG BARAT  2020     1305.77  0.6808  Jawa Barat    966     1788336   \n",
              "\n",
              "       Pop_den  urbanicity    hdi_qt  popden_qt  urban_qt  \\\n",
              "0  2049.701351    0.123155  0.009869   0.394904 -0.198672   \n",
              "1  2073.381185    0.123155  0.069135   0.437957 -0.198672   \n",
              "2  2097.062716    0.123155  0.128646   0.459787 -0.198672   \n",
              "3  2120.744248    0.123155  0.188616   0.481838 -0.198672   \n",
              "4  1369.564318    0.079001 -1.038123  -0.069135 -0.459787   \n",
              "\n",
              "                                            geometry  \n",
              "0  POLYGON ((107.73309 -6.814, 107.73354 -6.81427...  \n",
              "1  POLYGON ((107.73309 -6.814, 107.73354 -6.81427...  \n",
              "2  POLYGON ((107.73309 -6.814, 107.73354 -6.81427...  \n",
              "3  POLYGON ((107.73309 -6.814, 107.73354 -6.81427...  \n",
              "4  POLYGON ((107.40945 -6.68851, 107.40986 -6.688...  "
            ]
          },
          "execution_count": 33,
          "metadata": {},
          "output_type": "execute_result"
        }
      ],
      "source": [
        "dist.head()"
      ]
    },
    {
      "cell_type": "code",
      "execution_count": 34,
      "metadata": {
        "colab": {
          "base_uri": "https://localhost:8080/"
        },
        "id": "_XMIbAKzFblW",
        "outputId": "5698155c-c0fe-487d-deab-e794faaa3bd1"
      },
      "outputs": [
        {
          "name": "stdout",
          "output_type": "stream",
          "text": [
            "['BANDUNG' 'BANDUNG BARAT' 'BEKASI' 'BOGOR' 'CIAMIS' 'CIANJUR' 'CIREBON'\n",
            " 'GARUT' 'INDRAMAYU' 'KARAWANG' 'KOTA BANDUNG' 'KOTA BANJAR' 'KOTA BEKASI'\n",
            " 'KOTA BOGOR' 'KOTA CIMAHI' 'KOTA CIREBON' 'KOTA DEPOK'\n",
            " 'KOTA JAKARTA BARAT' 'KOTA JAKARTA PUSAT' 'KOTA JAKARTA SELATAN'\n",
            " 'KOTA JAKARTA TIMUR' 'KOTA JAKARTA UTARA' 'KOTA SUKABUMI'\n",
            " 'KOTA TASIKMALAYA' 'KUNINGAN' 'MAJALENGKA' 'PANGANDARAN' 'PURWAKARTA'\n",
            " 'SUBANG' 'SUKABUMI' 'SUMEDANG' 'TASIKMALAYA']\n"
          ]
        }
      ],
      "source": [
        "# get the unique district names\n",
        "unique_districts = dist[\"District\"].unique()\n",
        "print(unique_districts)\n",
        "jkt = ['KOTA JAKARTA BARAT',\n",
        " 'KOTA JAKARTA PUSAT', 'KOTA JAKARTA SELATAN', 'KOTA JAKARTA TIMUR',\n",
        " 'KOTA JAKARTA UTARA']"
      ]
    },
    {
      "cell_type": "code",
      "execution_count": 35,
      "metadata": {
        "id": "lPIMEovdFcx6"
      },
      "outputs": [],
      "source": [
        "#filter df_combined to only retain observations in district = jkt list\n",
        "jkt_dist = dist[dist[\"District\"].isin(jkt)]\n",
        "\n",
        "#filter for jkt_prov data\n",
        "jkt_prov = prov[prov[\"Province\"] == \"DKI Jakarta\"]"
      ]
    },
    {
      "cell_type": "code",
      "execution_count": 36,
      "metadata": {
        "colab": {
          "base_uri": "https://localhost:8080/",
          "height": 293
        },
        "id": "mJgLrs0JFerq",
        "outputId": "52be8b7b-9f6a-46a6-e2a2-ec0aea3a5d25"
      },
      "outputs": [
        {
          "data": {
            "text/html": [
              "<div>\n",
              "<style scoped>\n",
              "    .dataframe tbody tr th:only-of-type {\n",
              "        vertical-align: middle;\n",
              "    }\n",
              "\n",
              "    .dataframe tbody tr th {\n",
              "        vertical-align: top;\n",
              "    }\n",
              "\n",
              "    .dataframe thead th {\n",
              "        text-align: right;\n",
              "    }\n",
              "</style>\n",
              "<table border=\"1\" class=\"dataframe\">\n",
              "  <thead>\n",
              "    <tr style=\"text-align: right;\">\n",
              "      <th></th>\n",
              "      <th>District</th>\n",
              "      <th>Year</th>\n",
              "      <th>Area_sq_km</th>\n",
              "      <th>HDI</th>\n",
              "      <th>Province</th>\n",
              "      <th>Cases</th>\n",
              "      <th>Population</th>\n",
              "      <th>Pop_den</th>\n",
              "      <th>urbanicity</th>\n",
              "      <th>hdi_qt</th>\n",
              "      <th>popden_qt</th>\n",
              "      <th>urban_qt</th>\n",
              "      <th>geometry</th>\n",
              "    </tr>\n",
              "  </thead>\n",
              "  <tbody>\n",
              "    <tr>\n",
              "      <th>68</th>\n",
              "      <td>KOTA JAKARTA BARAT</td>\n",
              "      <td>2020</td>\n",
              "      <td>124.44</td>\n",
              "      <td>0.8138</td>\n",
              "      <td>DKI Jakarta</td>\n",
              "      <td>161</td>\n",
              "      <td>184826</td>\n",
              "      <td>1485.261974</td>\n",
              "      <td>0.951917</td>\n",
              "      <td>0.852925</td>\n",
              "      <td>0.128646</td>\n",
              "      <td>1.469371</td>\n",
              "      <td>POLYGON ((106.70503 -6.0956, 106.70526 -6.0956...</td>\n",
              "    </tr>\n",
              "    <tr>\n",
              "      <th>69</th>\n",
              "      <td>KOTA JAKARTA BARAT</td>\n",
              "      <td>2021</td>\n",
              "      <td>124.44</td>\n",
              "      <td>0.8176</td>\n",
              "      <td>DKI Jakarta</td>\n",
              "      <td>138</td>\n",
              "      <td>183270</td>\n",
              "      <td>1472.757956</td>\n",
              "      <td>0.951917</td>\n",
              "      <td>1.004868</td>\n",
              "      <td>0.088935</td>\n",
              "      <td>1.469371</td>\n",
              "      <td>POLYGON ((106.70503 -6.0956, 106.70526 -6.0956...</td>\n",
              "    </tr>\n",
              "    <tr>\n",
              "      <th>70</th>\n",
              "      <td>KOTA JAKARTA BARAT</td>\n",
              "      <td>2022</td>\n",
              "      <td>125.00</td>\n",
              "      <td>0.8251</td>\n",
              "      <td>DKI Jakarta</td>\n",
              "      <td>420</td>\n",
              "      <td>181715</td>\n",
              "      <td>1453.720000</td>\n",
              "      <td>0.951917</td>\n",
              "      <td>1.313613</td>\n",
              "      <td>0.069135</td>\n",
              "      <td>1.469371</td>\n",
              "      <td>POLYGON ((106.70503 -6.0956, 106.70526 -6.0956...</td>\n",
              "    </tr>\n",
              "    <tr>\n",
              "      <th>71</th>\n",
              "      <td>KOTA JAKARTA BARAT</td>\n",
              "      <td>2023</td>\n",
              "      <td>125.00</td>\n",
              "      <td>0.8302</td>\n",
              "      <td>DKI Jakarta</td>\n",
              "      <td>359</td>\n",
              "      <td>180159</td>\n",
              "      <td>1441.272000</td>\n",
              "      <td>0.951917</td>\n",
              "      <td>1.530131</td>\n",
              "      <td>0.049363</td>\n",
              "      <td>1.469371</td>\n",
              "      <td>POLYGON ((106.70503 -6.0956, 106.70526 -6.0956...</td>\n",
              "    </tr>\n",
              "    <tr>\n",
              "      <th>72</th>\n",
              "      <td>KOTA JAKARTA PUSAT</td>\n",
              "      <td>2020</td>\n",
              "      <td>52.38</td>\n",
              "      <td>0.8139</td>\n",
              "      <td>DKI Jakarta</td>\n",
              "      <td>127</td>\n",
              "      <td>73140</td>\n",
              "      <td>1396.334479</td>\n",
              "      <td>0.993514</td>\n",
              "      <td>0.881675</td>\n",
              "      <td>-0.029610</td>\n",
              "      <td>5.199338</td>\n",
              "      <td>POLYGON ((106.83247 -6.14138, 106.83282 -6.141...</td>\n",
              "    </tr>\n",
              "  </tbody>\n",
              "</table>\n",
              "</div>"
            ],
            "text/plain": [
              "              District  Year  Area_sq_km     HDI     Province  Cases  \\\n",
              "68  KOTA JAKARTA BARAT  2020      124.44  0.8138  DKI Jakarta    161   \n",
              "69  KOTA JAKARTA BARAT  2021      124.44  0.8176  DKI Jakarta    138   \n",
              "70  KOTA JAKARTA BARAT  2022      125.00  0.8251  DKI Jakarta    420   \n",
              "71  KOTA JAKARTA BARAT  2023      125.00  0.8302  DKI Jakarta    359   \n",
              "72  KOTA JAKARTA PUSAT  2020       52.38  0.8139  DKI Jakarta    127   \n",
              "\n",
              "    Population      Pop_den  urbanicity    hdi_qt  popden_qt  urban_qt  \\\n",
              "68      184826  1485.261974    0.951917  0.852925   0.128646  1.469371   \n",
              "69      183270  1472.757956    0.951917  1.004868   0.088935  1.469371   \n",
              "70      181715  1453.720000    0.951917  1.313613   0.069135  1.469371   \n",
              "71      180159  1441.272000    0.951917  1.530131   0.049363  1.469371   \n",
              "72       73140  1396.334479    0.993514  0.881675  -0.029610  5.199338   \n",
              "\n",
              "                                             geometry  \n",
              "68  POLYGON ((106.70503 -6.0956, 106.70526 -6.0956...  \n",
              "69  POLYGON ((106.70503 -6.0956, 106.70526 -6.0956...  \n",
              "70  POLYGON ((106.70503 -6.0956, 106.70526 -6.0956...  \n",
              "71  POLYGON ((106.70503 -6.0956, 106.70526 -6.0956...  \n",
              "72  POLYGON ((106.83247 -6.14138, 106.83282 -6.141...  "
            ]
          },
          "execution_count": 36,
          "metadata": {},
          "output_type": "execute_result"
        }
      ],
      "source": [
        "#print head\n",
        "jkt_dist.head()"
      ]
    },
    {
      "cell_type": "code",
      "execution_count": 37,
      "metadata": {
        "colab": {
          "base_uri": "https://localhost:8080/",
          "height": 447
        },
        "id": "x7ceD8X5Ffwh",
        "outputId": "b5790ea9-6cdc-44fd-8aa2-7a0e4a356aa7"
      },
      "outputs": [
        {
          "data": {
            "text/plain": [
              "<Axes: >"
            ]
          },
          "execution_count": 37,
          "metadata": {},
          "output_type": "execute_result"
        },
        {
          "data": {
            "image/png": "[encoded data removed]",
            "text/plain": [
              "<Figure size 640x480 with 1 Axes>"
            ]
          },
          "metadata": {},
          "output_type": "display_data"
        }
      ],
      "source": [
        "#try plotting the map alone\n",
        "jkt_dist.plot()"
      ]
    },
    {
      "cell_type": "code",
      "execution_count": 38,
      "metadata": {
        "colab": {
          "base_uri": "https://localhost:8080/",
          "height": 447
        },
        "id": "LaJCt3hID85-",
        "outputId": "5a73b1e5-6de6-441a-d4dc-e4b0fb9508fc"
      },
      "outputs": [
        {
          "data": {
            "text/plain": [
              "<Axes: >"
            ]
          },
          "execution_count": 38,
          "metadata": {},
          "output_type": "execute_result"
        },
        {
          "data": {
            "image/png": "[encoded data removed]",
            "text/plain": [
              "<Figure size 640x480 with 1 Axes>"
            ]
          },
          "metadata": {},
          "output_type": "display_data"
        }
      ],
      "source": [
        "jkt_prov.plot()"
      ]
    },
    {
      "cell_type": "code",
      "execution_count": 40,
      "metadata": {
        "id": "OHKk7sZ2Fg3e"
      },
      "outputs": [],
      "source": [
        "# save as jkt combined divisions so next time dont need to filter again\n",
        "jkt_dist.to_file(\"../data/jkt_dist.shp\")\n",
        "jkt_prov.to_file(\"../data/jkt_prov.shp\")"
      ]
    }
  ],
  "metadata": {
    "colab": {
      "provenance": []
    },
    "kernelspec": {
      "display_name": "Python 3",
      "name": "python3"
    },
    "language_info": {
      "codemirror_mode": {
        "name": "ipython",
        "version": 3
      },
      "file_extension": ".py",
      "mimetype": "text/x-python",
      "name": "python",
      "nbconvert_exporter": "python",
      "pygments_lexer": "ipython3",
      "version": "3.13.1"
    }
  },
  "nbformat": 4,
  "nbformat_minor": 0
}
