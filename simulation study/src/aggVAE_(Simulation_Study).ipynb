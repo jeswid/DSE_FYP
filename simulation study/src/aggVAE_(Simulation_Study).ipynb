{
  "cells": [
    {
      "cell_type": "code",
      "execution_count": 13,
      "metadata": {
        "id": "nDjUgPoZOs5y"
      },
      "outputs": [],
      "source": [
        "# Standard library\n",
        "import os\n",
        "import sys\n",
        "import math\n",
        "import time\n",
        "import pickle\n",
        "from pathlib import Path\n",
        "import itertools\n",
        "\n",
        "# Numerical and scientific computing\n",
        "import numpy as np\n",
        "import matplotlib.pyplot as plt\n",
        "\n",
        "# PyTorch (though not used in this snippet)\n",
        "import torch\n",
        "\n",
        "# JAX and NumPyro\n",
        "import jax\n",
        "import jax.numpy as jnp\n",
        "import jax.nn as nn\n",
        "from jax import random, lax\n",
        "from jax.random import PRNGKey\n",
        "from jax.example_libraries import stax\n",
        "\n",
        "import numpyro\n",
        "import numpyro.distributions as dist\n",
        "from numpyro.infer import (\n",
        "    SVI, MCMC, NUTS, Predictive,\n",
        "    init_to_median, init_to_uniform,\n",
        "    init_to_sample, init_to_mean, init_to_value,\n",
        "    Trace_ELBO, RenyiELBO\n",
        ")\n",
        "\n",
        "# Data visualization and analysis\n",
        "import plotly.express as px\n",
        "import arviz as az\n",
        "import geopandas as gpd\n",
        "\n",
        "# Miscellaneous\n",
        "from termcolor import colored"
      ]
    },
    {
      "cell_type": "code",
      "execution_count": 14,
      "metadata": {
        "id": "RWApQLwlTWKD"
      },
      "outputs": [],
      "source": [
        "def dist_euclid(x, z):\n",
        "    \"\"\"\n",
        "    Computes Eucledian Distance Between Regions. This function is used by\n",
        "    exp_sq_kernel function (kernel function for gaussian processes)\n",
        "    \"\"\"\n",
        "    x = jnp.array(x) # (ngrid_pts, lat/lon) <- i.e (7304,2)\n",
        "    z = jnp.array(z) # (ngrid_pts, lat/lon) <- i.e (7304,2)\n",
        "    if len(x.shape)==1:\n",
        "        x = x.reshape(x.shape[0], 1) #(2618,) -> (7304,1)\n",
        "    if len(z.shape)==1:\n",
        "        z = x.reshape(x.shape[0], 1) #(2618,) -> (7304,1)\n",
        "    n_x, m = x.shape # 7304 , 2\n",
        "    n_z, m_z = z.shape # 7304 , 2\n",
        "    assert m == m_z\n",
        "    delta = jnp.zeros((n_x,n_z)) #(ngrid_pts,ngrid_pts) <- i.e (7304,7304)\n",
        "    for d in jnp.arange(m):\n",
        "        x_d = x[:,d] #(ngrid_pts-lat/lon,) <- (7304,)\n",
        "        z_d = z[:,d] #(ngrid_pts-lat/lon,) <- (7304,)\n",
        "        delta += (x_d[:,jnp.newaxis] - z_d)**2 # (7304,7304)\n",
        "\n",
        "    return jnp.sqrt(delta) #(7304,7304)\n",
        "\n",
        "def exp_sq_kernel(x, z, var, length, noise, jitter=1.0e-4):\n",
        "    \"\"\"\n",
        "    Exponential squared kernel (RBF kernel) for Gaussian processes\n",
        "    \n",
        "    Args:\n",
        "        x: First set of points (n_x, d)\n",
        "        z: Second set of points (n_z, d)\n",
        "        var: Kernel variance\n",
        "        length: Length scale\n",
        "        noise: Noise term\n",
        "        jitter: Small constant for numerical stability\n",
        "    \n",
        "    Returns:\n",
        "        Kernel matrix of shape (n_x, n_z)\n",
        "    \"\"\"\n",
        "    dist = dist_euclid(x, z) #(7304, 7304)\n",
        "    deltaXsq = jnp.power(dist/ length, 2.0)\n",
        "    k = var * jnp.exp(-0.5 * deltaXsq)\n",
        "    k += (noise + jitter) * jnp.eye(x.shape[0])\n",
        "    return k # (ngrid_pts, ngrid_pts) <- (7304,7304)\n",
        "\n",
        "def M_g(M, g):\n",
        "    '''\n",
        "    Matrix multiplication for aggregating GP draws over polygons\n",
        "    \n",
        "    Args:\n",
        "        M: Matrix with binary entries m_ij, showing whether point j is in polygon i\n",
        "        g: Vector of GP draws over grid\n",
        "    \n",
        "    Returns:\n",
        "        Vector of sums over each polygon\n",
        "    '''\n",
        "    M = jnp.array(M)\n",
        "    g = jnp.array(g).T\n",
        "    return(jnp.matmul(M, g)) "
      ]
    },
    {
      "cell_type": "markdown",
      "metadata": {
        "id": "AOpyAuFOQxOI"
      },
      "source": [
        "# AggVAE Model"
      ]
    },
    {
      "cell_type": "markdown",
      "metadata": {
        "id": "W35Bwle9YtgB"
      },
      "source": [
        "## Function for Predictive Simulation (Prior)"
      ]
    },
    {
      "cell_type": "code",
      "execution_count": 15,
      "metadata": {
        "id": "pqpibNNMYxp5"
      },
      "outputs": [],
      "source": [
        "def gp_aggr(config=None):\n",
        "    \"\"\"\n",
        "    Gaussian Process aggregation model for spatial data\n",
        "    \n",
        "    Args:\n",
        "        config: Dictionary containing model configuration:\n",
        "            x: Spatial grid points (num_grid_points, 2)\n",
        "            gp_kernel: Gaussian Process kernel function (default: exp_sq_kernel)\n",
        "            noise: Noise parameter (default: 1e-4)\n",
        "            jitter: Jitter parameter for numerical stability (default: 1e-4)\n",
        "            M_lo: Low resolution aggregation matrix (9, 2618)\n",
        "            M_hi: High resolution aggregation matrix (49, 2618)\n",
        "            kernel_length: Prior distribution for kernel length (default: InverseGamma(4,1))\n",
        "            kernel_var: Prior distribution for kernel variance (default: LogNormal(0,0.1))\n",
        "    \n",
        "    Returns:\n",
        "        Sampled GP values and their aggregations\n",
        "    \"\"\"\n",
        "    if config is None:\n",
        "        config = {}\n",
        "        \n",
        "    # Set defaults\n",
        "    x = config.get('x', None)\n",
        "    gp_kernel = config.get('gp_kernel', exp_sq_kernel)\n",
        "    noise = config.get('noise', 1e-4)\n",
        "    jitter = config.get('jitter', 1e-4)\n",
        "    M_lo = config.get('M_lo', None)\n",
        "    M_hi = config.get('M_hi', None)\n",
        "    kernel_length_prior = config.get('kernel_length', dist.InverseGamma(4, 1))\n",
        "    kernel_var_prior = config.get('kernel_var', dist.LogNormal(0, 0.1))\n",
        "\n",
        "    # GP hyperparameters\n",
        "    kernel_length = numpyro.sample(\"kernel_length\", kernel_length_prior)\n",
        "    kernel_var = numpyro.sample(\"kernel_var\", kernel_var_prior)\n",
        "    log_mean = numpyro.sample(\"log_mean\", dist.Normal(jnp.log(20), 0.1))\n",
        "    \n",
        "    # Create kernel with smaller variance\n",
        "    k = gp_kernel(x, x, kernel_var, kernel_length, noise, jitter)\n",
        "    \n",
        "    # Sample GP on log scale with appropriate mean\n",
        "    log_f = numpyro.sample(\"log_f\", dist.MultivariateNormal(\n",
        "        loc=jnp.ones(x.shape[0]) * log_mean,\n",
        "        covariance_matrix=k))\n",
        "    \n",
        "    # Transform back to original scale\n",
        "    f = jnp.exp(log_f)  # This will naturally be positive and centered around 1400\n",
        "    \n",
        "    # Aggregate as before\n",
        "    gp_aggr_lo = numpyro.deterministic(\"gp_aggr_lo\", M_g(M_lo, f))\n",
        "    gp_aggr_hi = numpyro.deterministic(\"gp_aggr_hi\", M_g(M_hi, f))\n",
        "    gp_aggr = numpyro.deterministic(\"gp_aggr\", jnp.concatenate([gp_aggr_lo, gp_aggr_hi]))\n",
        "\n",
        "    return gp_aggr"
      ]
    },
    {
      "cell_type": "markdown",
      "metadata": {
        "id": "yjA0_Y9YTBYf"
      },
      "source": [
        "## Define the VAE"
      ]
    },
    {
      "cell_type": "code",
      "execution_count": 16,
      "metadata": {
        "id": "8-qYl8VcTDzq"
      },
      "outputs": [],
      "source": [
        "#vae architecture\n",
        "def vae_encoder(hidden_dim=50, z_dim=40):\n",
        "    \"\"\"\n",
        "    VAE encoder network architecture\n",
        "    \n",
        "    Args:\n",
        "        hidden_dim: Number of hidden dimensions\n",
        "        z_dim: Number of latent dimensions\n",
        "    \n",
        "    Returns:\n",
        "        Stax neural network for encoding\n",
        "    \"\"\"\n",
        "    return stax.serial(\n",
        "        #(num_samples, num_regions) -> (num_samples, hidden_dims)\n",
        "        stax.Dense(hidden_dim, W_init=stax.randn()),\n",
        "        stax.Elu,\n",
        "        stax.FanOut(2),\n",
        "        stax.parallel(\n",
        "            # mean : (num_samples, hidden_dim) -> (num_samples, z_dim)\n",
        "            stax.Dense(z_dim, W_init=stax.randn()), #(5,50)\n",
        "            #std : (num_samples, hidden_dim) -> (num_samples, z_dim)\n",
        "            stax.serial(stax.Dense(z_dim, W_init=stax.randn()), stax.Exp)\n",
        "        )\n",
        "    )\n",
        "\n",
        "def vae_decoder(hidden_dim, out_dim):\n",
        "    \"\"\"\n",
        "    VAE decoder network architecture\n",
        "    \n",
        "    Args:\n",
        "        hidden_dim: Number of hidden dimensions\n",
        "        out_dim: Output dimensions (number of regions)\n",
        "    \n",
        "    Returns:\n",
        "        Stax neural network for decoding\n",
        "    \"\"\"\n",
        "    return stax.serial(\n",
        "        # (num_samples, z_dim) -> (num_samples, hidden_dim)\n",
        "        stax.Dense(hidden_dim, W_init=stax.randn()),\n",
        "        stax.Elu,\n",
        "        # (num_samples, hidden_dim) -> (num_samples, num_regions)\n",
        "        stax.Dense(out_dim, W_init=stax.randn())\n",
        "    )\n",
        "\n",
        "def vae_model(batch, hidden_dim, z_dim, vae_var):\n",
        "    \"\"\"\n",
        "    VAE model (decoder portion)\n",
        "    \n",
        "    Args:\n",
        "        batch: Input data batch\n",
        "        hidden_dim: Number of hidden dimensions\n",
        "        z_dim: Number of latent dimensions\n",
        "        vae_var: VAE variance parameter\n",
        "    \n",
        "    Returns:\n",
        "        Sampled observations\n",
        "    \"\"\"\n",
        "    batch = jnp.reshape(batch, (batch.shape[0], -1)) # (num_samples, num_regions)\n",
        "    batch_dim, out_dim = jnp.shape(batch)\n",
        "\n",
        "    # vae-decoder in numpyro module\n",
        "    decode = numpyro.module(\n",
        "        name=\"decoder\",\n",
        "        nn=vae_decoder(hidden_dim=hidden_dim, out_dim=out_dim),\n",
        "        input_shape=(batch_dim, z_dim) #(5,40)\n",
        "    )\n",
        "\n",
        "    # Sample a univariate normal\n",
        "    z = numpyro.sample(\n",
        "        \"z\",\n",
        "        dist.Normal(\n",
        "            jnp.zeros((batch_dim,z_dim)),\n",
        "            jnp.ones((batch_dim,z_dim))\n",
        "        )\n",
        "    )\n",
        "    # Forward pass from decoder\n",
        "    gen_loc = decode(z) #(num_regions,)\n",
        "    obs = numpyro.sample(\n",
        "        \"obs\",\n",
        "        dist.Normal(gen_loc, vae_var),\n",
        "        obs=batch\n",
        "    ) #(num_samples, num_regions)\n",
        "    return obs\n",
        "\n",
        "def vae_guide(batch, hidden_dim, z_dim):\n",
        "    \"\"\"\n",
        "    VAE guide (encoder portion)\n",
        "    \n",
        "    Args:\n",
        "        batch: Input data batch\n",
        "        hidden_dim: Number of hidden dimensions\n",
        "        z_dim: Number of latent dimensions\n",
        "    \n",
        "    Returns:\n",
        "        Sampled latent variables\n",
        "    \"\"\"\n",
        "    batch = jnp.reshape(batch, (batch.shape[0], -1)) #(num_samples, num_regions)\n",
        "    batch_dim, input_dim = jnp.shape(batch)# num_samples , num_regions\n",
        "\n",
        "    # vae-encoder in numpyro module\n",
        "    encode = numpyro.module(\n",
        "        name=\"encoder\",\n",
        "        nn=vae_encoder(hidden_dim=hidden_dim,z_dim=z_dim),\n",
        "        input_shape=(batch_dim, input_dim) #(5,58)\n",
        "    ) #(num_samples, num_regions) -> (num_samples, hidden_dims)\n",
        "\n",
        "    # Sampling mu, sigma - Pretty much the forward pass\n",
        "    z_loc, z_std = encode(batch) #mu : (num_samples, z_dim), sigma2 : (num_samples, z_dim)\n",
        "    # Sample a value z based on mu and sigma\n",
        "    z = numpyro.sample(\"z\", dist.Normal(z_loc, z_std)) #(num_sample, z_dim)\n",
        "    return z"
      ]
    },
    {
      "cell_type": "markdown",
      "metadata": {
        "id": "EA7tPNDnWgpG"
      },
      "source": [
        "## Train the VAE encoder"
      ]
    },
    {
      "cell_type": "code",
      "execution_count": 17,
      "metadata": {
        "id": "D8_MUf7FWlAX"
      },
      "outputs": [],
      "source": [
        "@jax.jit\n",
        "def epoch_train(rng_key, svi_state, num_train):\n",
        "    def body_fn(i, val):\n",
        "        rng_key_i = jax.random.fold_in(rng_key, i) #Array(2,)\n",
        "        rng_key_i, rng_key_ls, rng_key_var, rng_key_noise = jax.random.split(rng_key_i, 4) #Tuple(Array(2,) x 4)\n",
        "        loss_sum, svi_state = val #val --svi_state\n",
        "\n",
        "        batch = agg_gp_predictive(rng_key_i, args)[\"gp_aggr\"] #(5,116) <- num_samples : 5, total_districts : 116\n",
        "        #* svi is where the vae_model & vae_guide gets applied\n",
        "        svi_state, loss = svi.update(svi_state, batch)\n",
        "        loss_sum += loss / args[\"batch_size\"]\n",
        "        return loss_sum, svi_state\n",
        "\n",
        "    return lax.fori_loop(lower = 0, upper = num_train, body_fun=body_fn, init_val=(0.0, svi_state))\n",
        "\n",
        "@jax.jit\n",
        "def eval_test(rng_key, svi_state, num_test):\n",
        "    def body_fn(i, loss_sum):\n",
        "        rng_key_i = jax.random.fold_in(rng_key, i)\n",
        "        rng_key_i, rng_key_ls, rng_key_varm, rng_key_noise = jax.random.split(rng_key_i, 4)\n",
        "        batch = agg_gp_predictive(rng_key_i, args)[\"gp_aggr\"]\n",
        "        #* svi is where the vae_model & vae_guide gets applied\n",
        "        loss = svi.evaluate(svi_state, batch) / args[\"batch_size\"]\n",
        "        loss_sum += loss\n",
        "        return loss_sum\n",
        "\n",
        "    loss = lax.fori_loop(lower = 0, upper = num_test,body_fun =  body_fn, init_val = 0.0)\n",
        "    loss = loss / num_test\n",
        "    return loss"
      ]
    },
    {
      "cell_type": "markdown",
      "metadata": {
        "id": "HHkZ6dqhTEKl"
      },
      "source": [
        "## Function to plot the GP"
      ]
    },
    {
      "cell_type": "code",
      "execution_count": 18,
      "metadata": {
        "id": "7rke7xN5TJts"
      },
      "outputs": [],
      "source": [
        "#plot process and plot incidence map\n",
        "def plot_process(gp_draws):\n",
        "    \"\"\"\n",
        "    Plot multiple GP draws as line plots\n",
        "    \n",
        "    Args:\n",
        "        gp_draws: Array of GP draws with shape (num_samples, num_regions)\n",
        "    \"\"\"\n",
        "    p = px.line()\n",
        "    for i in range(gp_draws.shape[1]):\n",
        "        p.add_scatter(\n",
        "            x=np.arange(gp_draws.shape[2]), \n",
        "            y=gp_draws[0,i, :],\n",
        "            line_color='rgb(31, 119, 180)',  # A nice blue color\n",
        "            opacity=0.3  # Add transparency\n",
        "        )\n",
        "\n",
        "    p.update_layout(\n",
        "        template=\"plotly_white\",\n",
        "        xaxis_title=\"region\", \n",
        "        yaxis_title=\"num cases\",\n",
        "        showlegend=False\n",
        "    )\n",
        "    return p  # Return the figure instead of showing it directly\n",
        "\n",
        "def plot_incidence_map(geodf,plot_col=\"incidence\", title=\"Incidence\", ax=None, vmin=0.001, vmax=0.008, cmap=\"viridis\"):\n",
        "    \"\"\"\n",
        "    Plot incidence data on a map with value annotations.\n",
        "    \n",
        "    Parameters:\n",
        "    -----------\n",
        "    geodf : geopandas.GeoDataFrame\n",
        "        GeoDataFrame containing the incidence data and geometry\n",
        "    plot_col : str\n",
        "        Column name to plot\n",
        "    title : str\n",
        "        Title for the plot\n",
        "    ax : matplotlib.axes.Axes\n",
        "        The axes to plot on\n",
        "    vmin, vmax : float\n",
        "        Minimum and maximum values for the color scale\n",
        "    cmap : str\n",
        "        Colormap to use for the plot\n",
        "        \n",
        "    Returns:\n",
        "    --------\n",
        "    None\n",
        "    \"\"\"\n",
        "    # Plot the map\n",
        "    geodf.plot(\n",
        "        column=plot_col,\n",
        "        cmap=cmap,\n",
        "        vmin=vmin,\n",
        "        vmax=vmax,\n",
        "        legend=True,\n",
        "        ax=ax,\n",
        "    )\n",
        "    \n",
        "    # Add text labels with incidence values\n",
        "    for idx, row in geodf.iterrows():\n",
        "        # Get centroid coordinates of each polygon\n",
        "        centroid = row.geometry.centroid\n",
        "        # Format incidence value as percentage with 2 decimal places\n",
        "        value = f\"{row[plot_col]*100:.3f}%\"\n",
        "        # Add text with white background for visibility\n",
        "        ax.annotate(\n",
        "            value,\n",
        "            xy=(centroid.x, centroid.y),\n",
        "            xytext=(0, 0),\n",
        "            textcoords='offset points',\n",
        "            ha='center',\n",
        "            va='center',\n",
        "            fontsize=12,\n",
        "            fontweight='bold',\n",
        "            color='white',\n",
        "            bbox=dict(\n",
        "                facecolor='black',\n",
        "                alpha=0.7,\n",
        "                edgecolor='none',\n",
        "                pad=1\n",
        "            )\n",
        "        )\n",
        "    \n",
        "    ax.set_title(title)"
      ]
    },
    {
      "cell_type": "markdown",
      "metadata": {
        "id": "Egml-fn9TKMJ"
      },
      "source": [
        "## Load the variables"
      ]
    },
    {
      "cell_type": "code",
      "execution_count": 19,
      "metadata": {
        "id": "veD2sogTTMIc"
      },
      "outputs": [],
      "source": [
        "# Lat/Lon Values of artificial grid\n",
        "x = np.load(\"../data/lat_lon_x_jkt.npy\")\n",
        "pol_pts_jkt_lo = np.load(\"../data/pol_pts_jkt_lo.npy\")\n",
        "pol_pts_jkt_hi = np.load(\"../data/pol_pts_jkt_hi.npy\")\n",
        "df_lo = gpd.read_file(\"../data/jkt_prov.shp\")\n",
        "df_hi = gpd.read_file(\"../data/jkt_dist.shp\")"
      ]
    },
    {
      "cell_type": "code",
      "execution_count": 20,
      "metadata": {},
      "outputs": [
        {
          "name": "stdout",
          "output_type": "stream",
          "text": [
            "[[0 0 0 0 0 0 0 0 0 0 0 0 0 0 0 0 0 1 1 1 0 0 0 0 0 1 1 1 1 0 0 0 1 1 1 1\n",
            "  1 1 1 0 0 1 1 1 1 1 1 1 1 0 0 1 1 1 1 1 1 1 1 0 0 1 1 1 1 1 1 1 1 0 0 1\n",
            "  1 1 1 1 1 1 1 1 0 0 0 0 1 1 1 1 1 1 0 0 0 0 0 0 1 1 1 1]]\n"
          ]
        }
      ],
      "source": [
        "print(pol_pts_jkt_lo)"
      ]
    },
    {
      "cell_type": "code",
      "execution_count": 21,
      "metadata": {},
      "outputs": [
        {
          "name": "stdout",
          "output_type": "stream",
          "text": [
            "[[0 0 0 0 0 0 0 0 0 0 0 0 0 0 0 0 0 1 1 0 0 0 0 0 0 1 1 1 0 0 0 0 0 0 0 1\n",
            "  1 1 0 0 0 0 0 0 0 0 1 1 0 0 0 0 0 0 0 0 0 0 0 0 0 0 0 0 0 0 0 0 0 0 0 0\n",
            "  0 0 0 0 0 0 0 0 0 0 0 0 0 0 0 0 0 0 0 0 0 0 0 0 0 0 0 0]\n",
            " [0 0 0 0 0 0 0 0 0 0 0 0 0 0 0 0 0 0 0 0 0 0 0 0 0 0 0 0 0 0 0 0 0 0 0 0\n",
            "  0 0 0 0 0 0 0 0 0 1 0 0 0 0 0 0 0 0 0 0 1 1 0 0 0 0 0 0 0 0 1 1 0 0 0 0\n",
            "  0 0 0 0 0 0 0 0 0 0 0 0 0 0 0 0 0 0 0 0 0 0 0 0 0 0 0 0]\n",
            " [0 0 0 0 0 0 0 0 0 0 0 0 0 0 0 0 0 0 0 0 0 0 0 0 0 0 0 0 0 0 0 0 1 1 1 0\n",
            "  0 0 0 0 0 1 1 1 1 0 0 0 0 0 0 1 1 1 1 1 0 0 0 0 0 0 0 0 0 0 0 0 0 0 0 0\n",
            "  0 0 0 0 0 0 0 0 0 0 0 0 0 0 0 0 0 0 0 0 0 0 0 0 0 0 0 0]\n",
            " [0 0 0 0 0 0 0 0 0 0 0 0 0 0 0 0 0 0 0 0 0 0 0 0 0 0 0 0 0 0 0 0 0 0 0 0\n",
            "  0 0 0 0 0 0 0 0 0 0 0 0 0 0 0 0 0 0 0 0 0 0 0 0 0 1 1 1 1 1 0 0 0 0 0 1\n",
            "  1 1 1 1 1 0 0 0 0 0 0 0 1 1 1 0 0 0 0 0 0 0 0 0 1 1 0 0]\n",
            " [0 0 0 0 0 0 0 0 0 0 0 0 0 0 0 0 0 0 0 1 0 0 0 0 0 0 0 0 1 0 0 0 0 0 0 0\n",
            "  0 0 1 0 0 0 0 0 0 0 0 0 1 0 0 0 0 0 0 0 0 0 1 0 0 0 0 0 0 0 0 0 1 0 0 0\n",
            "  0 0 0 0 0 1 1 1 0 0 0 0 0 0 0 1 1 1 0 0 0 0 0 0 0 0 1 1]]\n"
          ]
        }
      ],
      "source": [
        "print(pol_pts_jkt_hi)"
      ]
    },
    {
      "cell_type": "markdown",
      "metadata": {
        "id": "DgiCqcl7TDwR"
      },
      "source": [
        "## Arguments"
      ]
    },
    {
      "cell_type": "code",
      "execution_count": 22,
      "metadata": {
        "id": "D79oQ7R-THBC"
      },
      "outputs": [],
      "source": [
        "args = {\n",
        "        \"x\": x,\n",
        "        \"gp_kernel\": exp_sq_kernel,\n",
        "        \"noise\": 1e-4,\n",
        "        \"M_lo\": jnp.array(pol_pts_jkt_lo),\n",
        "        \"M_hi\": jnp.array(pol_pts_jkt_hi),\n",
        "        \"jitter\" : 1e-4,\n",
        "        # VAE training\n",
        "        \"rng_key\": random.PRNGKey(5),\n",
        "        #common num_epochs 20-50\n",
        "        \"num_epochs\": 20,\n",
        "        #learning rate 0.0005 common choice, ADAM optimiser adapts the learning rate accordingly\n",
        "        \"learning_rate\": 0.0005,\n",
        "        #chosen to be 100 (no tune)\n",
        "        \"batch_size\": 100,\n",
        "        #change this to the optimal values after hyperparameter tuning\n",
        "        \"hidden_dim\": 50,\n",
        "        \"z_dim\": 50,\n",
        "        #chosen to be 100 (no tune)\n",
        "        \"num_train\": 100,\n",
        "        \"num_test\":100,\n",
        "        #variance set to 1 bc the latent variable prior distribution is assumed to be normal\n",
        "        \"vae_var\": 1,\n",
        "        \"kernel_length\": dist.InverseGamma(3, 3),\n",
        "        \"kernel_var\": dist.LogNormal(0, 0.5)\n",
        "    }\n"
      ]
    },
    {
      "cell_type": "code",
      "execution_count": 25,
      "metadata": {},
      "outputs": [],
      "source": [
        "# Model configuration\n",
        "args = {\n",
        "    \"x\": x,\n",
        "    \"gp_kernel\": exp_sq_kernel,\n",
        "    \"noise\": 1.e-2,\n",
        "    \"jitter\": 1.e-2,\n",
        "    \"M_lo\": jnp.array(pol_pts_jkt_lo[0,:].reshape(1, -1)),\n",
        "    \"M_hi\":  jnp.array(pol_pts_jkt_hi)[[0,4,9,14,19], :],\n",
        "    'kernel_length': dist.InverseGamma(5, 2),\n",
        "    'kernel_var': dist.LogNormal(-1, 0.05),\n",
        "    \"vae_var\": 0.1,\n",
        "    \"batch_size\": 5,\n",
        "    \"hidden_dim\": 50,\n",
        "    \"z_dim\": 40,\n",
        "    \"learning_rate\": 1e-3,\n",
        "    \"num_epochs\": 100,\n",
        "    \"rng_key\": PRNGKey(6)\n",
        "}"
      ]
    },
    {
      "cell_type": "markdown",
      "metadata": {
        "id": "dp6EFT7RTLKZ"
      },
      "source": [
        "## Prior predictive simulation"
      ]
    },
    {
      "cell_type": "code",
      "execution_count": 26,
      "metadata": {
        "id": "72dE-HgATNBA"
      },
      "outputs": [],
      "source": [
        "# Create predictive function for GP\n",
        "from numpyro.infer import Predictive\n",
        "\n",
        "# Draw samples from the prior\n",
        "prior_samples = Predictive(gp_aggr, num_samples=5)(\n",
        "    PRNGKey(6), \n",
        "    config=args\n",
        ")\n",
        "\n",
        "# transform prior samples to arviz inference object\n",
        "prior_samples_arviz = az.from_numpyro(prior=prior_samples)"
      ]
    },
    {
      "cell_type": "code",
      "execution_count": 27,
      "metadata": {
        "colab": {
          "base_uri": "https://localhost:8080/",
          "height": 542
        },
        "id": "KMnPLKZwJrO5",
        "outputId": "91781ac5-552d-46eb-a1d7-8ca55e2a8fd7"
      },
      "outputs": [
        {
          "data": {
            "application/vnd.plotly.v1+json": {
              "config": {
                "plotlyServerURL": "https://plot.ly"
              },
              "data": [
                {
                  "hovertemplate": "<extra></extra>",
                  "legendgroup": "",
                  "line": {
                    "color": "#636efa",
                    "dash": "solid"
                  },
                  "marker": {
                    "symbol": "circle"
                  },
                  "mode": "lines",
                  "name": "",
                  "orientation": "v",
                  "showlegend": false,
                  "type": "scatter",
                  "xaxis": "x",
                  "yaxis": "y"
                },
                {
                  "line": {
                    "color": "rgb(31, 119, 180)"
                  },
                  "opacity": 0.3,
                  "type": "scatter",
                  "x": {
                    "bdata": "AAECAwQF",
                    "dtype": "i1"
                  },
                  "y": {
                    "bdata": "9/2uQzSGe0Lsd5pC7HeaQux3mkLsd5pC",
                    "dtype": "f4"
                  }
                },
                {
                  "line": {
                    "color": "rgb(31, 119, 180)"
                  },
                  "opacity": 0.3,
                  "type": "scatter",
                  "x": {
                    "bdata": "AAECAwQF",
                    "dtype": "i1"
                  },
                  "y": {
                    "bdata": "yCayRDyJekN3F6dDdxenQ3cXp0N3F6dD",
                    "dtype": "f4"
                  }
                },
                {
                  "line": {
                    "color": "rgb(31, 119, 180)"
                  },
                  "opacity": 0.3,
                  "type": "scatter",
                  "x": {
                    "bdata": "AAECAwQF",
                    "dtype": "i1"
                  },
                  "y": {
                    "bdata": "KKD9RGfvwUMd8v1DHfL9Qx3y/UMd8v1D",
                    "dtype": "f4"
                  }
                },
                {
                  "line": {
                    "color": "rgb(31, 119, 180)"
                  },
                  "opacity": 0.3,
                  "type": "scatter",
                  "x": {
                    "bdata": "AAECAwQF",
                    "dtype": "i1"
                  },
                  "y": {
                    "bdata": "4QlNRSKGHEQTRE1EE0RNRBNETUQTRE1E",
                    "dtype": "f4"
                  }
                },
                {
                  "line": {
                    "color": "rgb(31, 119, 180)"
                  },
                  "opacity": 0.3,
                  "type": "scatter",
                  "x": {
                    "bdata": "AAECAwQF",
                    "dtype": "i1"
                  },
                  "y": {
                    "bdata": "yCFVRLC8HEMxglJDMYJSQzGCUkMxglJD",
                    "dtype": "f4"
                  }
                }
              ],
              "layout": {
                "legend": {
                  "tracegroupgap": 0
                },
                "margin": {
                  "t": 60
                },
                "showlegend": false,
                "template": {
                  "data": {
                    "bar": [
                      {
                        "error_x": {
                          "color": "#2a3f5f"
                        },
                        "error_y": {
                          "color": "#2a3f5f"
                        },
                        "marker": {
                          "line": {
                            "color": "white",
                            "width": 0.5
                          },
                          "pattern": {
                            "fillmode": "overlay",
                            "size": 10,
                            "solidity": 0.2
                          }
                        },
                        "type": "bar"
                      }
                    ],
                    "barpolar": [
                      {
                        "marker": {
                          "line": {
                            "color": "white",
                            "width": 0.5
                          },
                          "pattern": {
                            "fillmode": "overlay",
                            "size": 10,
                            "solidity": 0.2
                          }
                        },
                        "type": "barpolar"
                      }
                    ],
                    "carpet": [
                      {
                        "aaxis": {
                          "endlinecolor": "#2a3f5f",
                          "gridcolor": "#C8D4E3",
                          "linecolor": "#C8D4E3",
                          "minorgridcolor": "#C8D4E3",
                          "startlinecolor": "#2a3f5f"
                        },
                        "baxis": {
                          "endlinecolor": "#2a3f5f",
                          "gridcolor": "#C8D4E3",
                          "linecolor": "#C8D4E3",
                          "minorgridcolor": "#C8D4E3",
                          "startlinecolor": "#2a3f5f"
                        },
                        "type": "carpet"
                      }
                    ],
                    "choropleth": [
                      {
                        "colorbar": {
                          "outlinewidth": 0,
                          "ticks": ""
                        },
                        "type": "choropleth"
                      }
                    ],
                    "contour": [
                      {
                        "colorbar": {
                          "outlinewidth": 0,
                          "ticks": ""
                        },
                        "colorscale": [
                          [
                            0,
                            "#0d0887"
                          ],
                          [
                            0.1111111111111111,
                            "#46039f"
                          ],
                          [
                            0.2222222222222222,
                            "#7201a8"
                          ],
                          [
                            0.3333333333333333,
                            "#9c179e"
                          ],
                          [
                            0.4444444444444444,
                            "#bd3786"
                          ],
                          [
                            0.5555555555555556,
                            "#d8576b"
                          ],
                          [
                            0.6666666666666666,
                            "#ed7953"
                          ],
                          [
                            0.7777777777777778,
                            "#fb9f3a"
                          ],
                          [
                            0.8888888888888888,
                            "#fdca26"
                          ],
                          [
                            1,
                            "#f0f921"
                          ]
                        ],
                        "type": "contour"
                      }
                    ],
                    "contourcarpet": [
                      {
                        "colorbar": {
                          "outlinewidth": 0,
                          "ticks": ""
                        },
                        "type": "contourcarpet"
                      }
                    ],
                    "heatmap": [
                      {
                        "colorbar": {
                          "outlinewidth": 0,
                          "ticks": ""
                        },
                        "colorscale": [
                          [
                            0,
                            "#0d0887"
                          ],
                          [
                            0.1111111111111111,
                            "#46039f"
                          ],
                          [
                            0.2222222222222222,
                            "#7201a8"
                          ],
                          [
                            0.3333333333333333,
                            "#9c179e"
                          ],
                          [
                            0.4444444444444444,
                            "#bd3786"
                          ],
                          [
                            0.5555555555555556,
                            "#d8576b"
                          ],
                          [
                            0.6666666666666666,
                            "#ed7953"
                          ],
                          [
                            0.7777777777777778,
                            "#fb9f3a"
                          ],
                          [
                            0.8888888888888888,
                            "#fdca26"
                          ],
                          [
                            1,
                            "#f0f921"
                          ]
                        ],
                        "type": "heatmap"
                      }
                    ],
                    "histogram": [
                      {
                        "marker": {
                          "pattern": {
                            "fillmode": "overlay",
                            "size": 10,
                            "solidity": 0.2
                          }
                        },
                        "type": "histogram"
                      }
                    ],
                    "histogram2d": [
                      {
                        "colorbar": {
                          "outlinewidth": 0,
                          "ticks": ""
                        },
                        "colorscale": [
                          [
                            0,
                            "#0d0887"
                          ],
                          [
                            0.1111111111111111,
                            "#46039f"
                          ],
                          [
                            0.2222222222222222,
                            "#7201a8"
                          ],
                          [
                            0.3333333333333333,
                            "#9c179e"
                          ],
                          [
                            0.4444444444444444,
                            "#bd3786"
                          ],
                          [
                            0.5555555555555556,
                            "#d8576b"
                          ],
                          [
                            0.6666666666666666,
                            "#ed7953"
                          ],
                          [
                            0.7777777777777778,
                            "#fb9f3a"
                          ],
                          [
                            0.8888888888888888,
                            "#fdca26"
                          ],
                          [
                            1,
                            "#f0f921"
                          ]
                        ],
                        "type": "histogram2d"
                      }
                    ],
                    "histogram2dcontour": [
                      {
                        "colorbar": {
                          "outlinewidth": 0,
                          "ticks": ""
                        },
                        "colorscale": [
                          [
                            0,
                            "#0d0887"
                          ],
                          [
                            0.1111111111111111,
                            "#46039f"
                          ],
                          [
                            0.2222222222222222,
                            "#7201a8"
                          ],
                          [
                            0.3333333333333333,
                            "#9c179e"
                          ],
                          [
                            0.4444444444444444,
                            "#bd3786"
                          ],
                          [
                            0.5555555555555556,
                            "#d8576b"
                          ],
                          [
                            0.6666666666666666,
                            "#ed7953"
                          ],
                          [
                            0.7777777777777778,
                            "#fb9f3a"
                          ],
                          [
                            0.8888888888888888,
                            "#fdca26"
                          ],
                          [
                            1,
                            "#f0f921"
                          ]
                        ],
                        "type": "histogram2dcontour"
                      }
                    ],
                    "mesh3d": [
                      {
                        "colorbar": {
                          "outlinewidth": 0,
                          "ticks": ""
                        },
                        "type": "mesh3d"
                      }
                    ],
                    "parcoords": [
                      {
                        "line": {
                          "colorbar": {
                            "outlinewidth": 0,
                            "ticks": ""
                          }
                        },
                        "type": "parcoords"
                      }
                    ],
                    "pie": [
                      {
                        "automargin": true,
                        "type": "pie"
                      }
                    ],
                    "scatter": [
                      {
                        "fillpattern": {
                          "fillmode": "overlay",
                          "size": 10,
                          "solidity": 0.2
                        },
                        "type": "scatter"
                      }
                    ],
                    "scatter3d": [
                      {
                        "line": {
                          "colorbar": {
                            "outlinewidth": 0,
                            "ticks": ""
                          }
                        },
                        "marker": {
                          "colorbar": {
                            "outlinewidth": 0,
                            "ticks": ""
                          }
                        },
                        "type": "scatter3d"
                      }
                    ],
                    "scattercarpet": [
                      {
                        "marker": {
                          "colorbar": {
                            "outlinewidth": 0,
                            "ticks": ""
                          }
                        },
                        "type": "scattercarpet"
                      }
                    ],
                    "scattergeo": [
                      {
                        "marker": {
                          "colorbar": {
                            "outlinewidth": 0,
                            "ticks": ""
                          }
                        },
                        "type": "scattergeo"
                      }
                    ],
                    "scattergl": [
                      {
                        "marker": {
                          "colorbar": {
                            "outlinewidth": 0,
                            "ticks": ""
                          }
                        },
                        "type": "scattergl"
                      }
                    ],
                    "scattermap": [
                      {
                        "marker": {
                          "colorbar": {
                            "outlinewidth": 0,
                            "ticks": ""
                          }
                        },
                        "type": "scattermap"
                      }
                    ],
                    "scattermapbox": [
                      {
                        "marker": {
                          "colorbar": {
                            "outlinewidth": 0,
                            "ticks": ""
                          }
                        },
                        "type": "scattermapbox"
                      }
                    ],
                    "scatterpolar": [
                      {
                        "marker": {
                          "colorbar": {
                            "outlinewidth": 0,
                            "ticks": ""
                          }
                        },
                        "type": "scatterpolar"
                      }
                    ],
                    "scatterpolargl": [
                      {
                        "marker": {
                          "colorbar": {
                            "outlinewidth": 0,
                            "ticks": ""
                          }
                        },
                        "type": "scatterpolargl"
                      }
                    ],
                    "scatterternary": [
                      {
                        "marker": {
                          "colorbar": {
                            "outlinewidth": 0,
                            "ticks": ""
                          }
                        },
                        "type": "scatterternary"
                      }
                    ],
                    "surface": [
                      {
                        "colorbar": {
                          "outlinewidth": 0,
                          "ticks": ""
                        },
                        "colorscale": [
                          [
                            0,
                            "#0d0887"
                          ],
                          [
                            0.1111111111111111,
                            "#46039f"
                          ],
                          [
                            0.2222222222222222,
                            "#7201a8"
                          ],
                          [
                            0.3333333333333333,
                            "#9c179e"
                          ],
                          [
                            0.4444444444444444,
                            "#bd3786"
                          ],
                          [
                            0.5555555555555556,
                            "#d8576b"
                          ],
                          [
                            0.6666666666666666,
                            "#ed7953"
                          ],
                          [
                            0.7777777777777778,
                            "#fb9f3a"
                          ],
                          [
                            0.8888888888888888,
                            "#fdca26"
                          ],
                          [
                            1,
                            "#f0f921"
                          ]
                        ],
                        "type": "surface"
                      }
                    ],
                    "table": [
                      {
                        "cells": {
                          "fill": {
                            "color": "#EBF0F8"
                          },
                          "line": {
                            "color": "white"
                          }
                        },
                        "header": {
                          "fill": {
                            "color": "#C8D4E3"
                          },
                          "line": {
                            "color": "white"
                          }
                        },
                        "type": "table"
                      }
                    ]
                  },
                  "layout": {
                    "annotationdefaults": {
                      "arrowcolor": "#2a3f5f",
                      "arrowhead": 0,
                      "arrowwidth": 1
                    },
                    "autotypenumbers": "strict",
                    "coloraxis": {
                      "colorbar": {
                        "outlinewidth": 0,
                        "ticks": ""
                      }
                    },
                    "colorscale": {
                      "diverging": [
                        [
                          0,
                          "#8e0152"
                        ],
                        [
                          0.1,
                          "#c51b7d"
                        ],
                        [
                          0.2,
                          "#de77ae"
                        ],
                        [
                          0.3,
                          "#f1b6da"
                        ],
                        [
                          0.4,
                          "#fde0ef"
                        ],
                        [
                          0.5,
                          "#f7f7f7"
                        ],
                        [
                          0.6,
                          "#e6f5d0"
                        ],
                        [
                          0.7,
                          "#b8e186"
                        ],
                        [
                          0.8,
                          "#7fbc41"
                        ],
                        [
                          0.9,
                          "#4d9221"
                        ],
                        [
                          1,
                          "#276419"
                        ]
                      ],
                      "sequential": [
                        [
                          0,
                          "#0d0887"
                        ],
                        [
                          0.1111111111111111,
                          "#46039f"
                        ],
                        [
                          0.2222222222222222,
                          "#7201a8"
                        ],
                        [
                          0.3333333333333333,
                          "#9c179e"
                        ],
                        [
                          0.4444444444444444,
                          "#bd3786"
                        ],
                        [
                          0.5555555555555556,
                          "#d8576b"
                        ],
                        [
                          0.6666666666666666,
                          "#ed7953"
                        ],
                        [
                          0.7777777777777778,
                          "#fb9f3a"
                        ],
                        [
                          0.8888888888888888,
                          "#fdca26"
                        ],
                        [
                          1,
                          "#f0f921"
                        ]
                      ],
                      "sequentialminus": [
                        [
                          0,
                          "#0d0887"
                        ],
                        [
                          0.1111111111111111,
                          "#46039f"
                        ],
                        [
                          0.2222222222222222,
                          "#7201a8"
                        ],
                        [
                          0.3333333333333333,
                          "#9c179e"
                        ],
                        [
                          0.4444444444444444,
                          "#bd3786"
                        ],
                        [
                          0.5555555555555556,
                          "#d8576b"
                        ],
                        [
                          0.6666666666666666,
                          "#ed7953"
                        ],
                        [
                          0.7777777777777778,
                          "#fb9f3a"
                        ],
                        [
                          0.8888888888888888,
                          "#fdca26"
                        ],
                        [
                          1,
                          "#f0f921"
                        ]
                      ]
                    },
                    "colorway": [
                      "#636efa",
                      "#EF553B",
                      "#00cc96",
                      "#ab63fa",
                      "#FFA15A",
                      "#19d3f3",
                      "#FF6692",
                      "#B6E880",
                      "#FF97FF",
                      "#FECB52"
                    ],
                    "font": {
                      "color": "#2a3f5f"
                    },
                    "geo": {
                      "bgcolor": "white",
                      "lakecolor": "white",
                      "landcolor": "white",
                      "showlakes": true,
                      "showland": true,
                      "subunitcolor": "#C8D4E3"
                    },
                    "hoverlabel": {
                      "align": "left"
                    },
                    "hovermode": "closest",
                    "mapbox": {
                      "style": "light"
                    },
                    "paper_bgcolor": "white",
                    "plot_bgcolor": "white",
                    "polar": {
                      "angularaxis": {
                        "gridcolor": "#EBF0F8",
                        "linecolor": "#EBF0F8",
                        "ticks": ""
                      },
                      "bgcolor": "white",
                      "radialaxis": {
                        "gridcolor": "#EBF0F8",
                        "linecolor": "#EBF0F8",
                        "ticks": ""
                      }
                    },
                    "scene": {
                      "xaxis": {
                        "backgroundcolor": "white",
                        "gridcolor": "#DFE8F3",
                        "gridwidth": 2,
                        "linecolor": "#EBF0F8",
                        "showbackground": true,
                        "ticks": "",
                        "zerolinecolor": "#EBF0F8"
                      },
                      "yaxis": {
                        "backgroundcolor": "white",
                        "gridcolor": "#DFE8F3",
                        "gridwidth": 2,
                        "linecolor": "#EBF0F8",
                        "showbackground": true,
                        "ticks": "",
                        "zerolinecolor": "#EBF0F8"
                      },
                      "zaxis": {
                        "backgroundcolor": "white",
                        "gridcolor": "#DFE8F3",
                        "gridwidth": 2,
                        "linecolor": "#EBF0F8",
                        "showbackground": true,
                        "ticks": "",
                        "zerolinecolor": "#EBF0F8"
                      }
                    },
                    "shapedefaults": {
                      "line": {
                        "color": "#2a3f5f"
                      }
                    },
                    "ternary": {
                      "aaxis": {
                        "gridcolor": "#DFE8F3",
                        "linecolor": "#A2B1C6",
                        "ticks": ""
                      },
                      "baxis": {
                        "gridcolor": "#DFE8F3",
                        "linecolor": "#A2B1C6",
                        "ticks": ""
                      },
                      "bgcolor": "white",
                      "caxis": {
                        "gridcolor": "#DFE8F3",
                        "linecolor": "#A2B1C6",
                        "ticks": ""
                      }
                    },
                    "title": {
                      "x": 0.05
                    },
                    "xaxis": {
                      "automargin": true,
                      "gridcolor": "#EBF0F8",
                      "linecolor": "#EBF0F8",
                      "ticks": "",
                      "title": {
                        "standoff": 15
                      },
                      "zerolinecolor": "#EBF0F8",
                      "zerolinewidth": 2
                    },
                    "yaxis": {
                      "automargin": true,
                      "gridcolor": "#EBF0F8",
                      "linecolor": "#EBF0F8",
                      "ticks": "",
                      "title": {
                        "standoff": 15
                      },
                      "zerolinecolor": "#EBF0F8",
                      "zerolinewidth": 2
                    }
                  }
                },
                "xaxis": {
                  "anchor": "y",
                  "domain": [
                    0,
                    1
                  ],
                  "title": {
                    "text": "region"
                  }
                },
                "yaxis": {
                  "anchor": "x",
                  "domain": [
                    0,
                    1
                  ],
                  "title": {
                    "text": "num cases"
                  }
                }
              }
            }
          },
          "metadata": {},
          "output_type": "display_data"
        }
      ],
      "source": [
        "plot_process(prior_samples_arviz.prior.gp_aggr.values)"
      ]
    },
    {
      "cell_type": "markdown",
      "metadata": {
        "id": "Gb1HhnafTooi"
      },
      "source": [
        "## Initiate Training Loop for VAE encoder"
      ]
    },
    {
      "cell_type": "code",
      "execution_count": 28,
      "metadata": {
        "id": "_NR2_Or-Tq_E"
      },
      "outputs": [],
      "source": [
        "# Initialize SVI\n",
        "optimizer = numpyro.optim.Adam(step_size=1e-3)\n",
        "agg_gp_predictive = Predictive(gp_aggr,num_samples = 5)\n",
        "@jax.jit\n",
        "def epoch_train(rng_key, svi_state, num_train):\n",
        "    def body_fn(i, val):\n",
        "        rng_key_i = jax.random.fold_in(rng_key, i) #Array(2,)\n",
        "        rng_key_i, rng_key_ls, rng_key_var, rng_key_noise = jax.random.split(rng_key_i, 4) #Tuple(Array(2,) x 4)\n",
        "        loss_sum, svi_state = val #val --svi_state\n",
        "        \n",
        "        batch = agg_gp_predictive(rng_key_i, args)[\"gp_aggr\"] #(5,116) <- num_samples : 5, total_districts : 116\n",
        "        #* svi is where the vae_model & vae_guide gets applied\n",
        "        svi_state, loss = svi.update(svi_state, batch)\n",
        "        loss_sum += loss / args[\"batch_size\"]\n",
        "        return loss_sum, svi_state \n",
        "    \n",
        "    return lax.fori_loop(lower = 0, upper = num_train, body_fun=body_fn, init_val=(0.0, svi_state))\n",
        "\n",
        "@jax.jit \n",
        "def eval_test(rng_key, svi_state, num_test):\n",
        "    def body_fn(i, loss_sum):\n",
        "        rng_key_i = jax.random.fold_in(rng_key, i)\n",
        "        rng_key_i, rng_key_ls, rng_key_varm, rng_key_noise = jax.random.split(rng_key_i, 4)\n",
        "        batch = agg_gp_predictive(rng_key_i, args)[\"gp_aggr\"]\n",
        "        #* svi is where the vae_model & vae_guide gets applied\n",
        "        loss = svi.evaluate(svi_state, batch) / args[\"batch_size\"]\n",
        "        loss_sum += loss\n",
        "        return loss_sum \n",
        "    \n",
        "    loss = lax.fori_loop(lower = 0, upper = num_test,body_fun =  body_fn, init_val = 0.0)\n",
        "    loss = loss / num_test \n",
        "    return loss"
      ]
    },
    {
      "cell_type": "code",
      "execution_count": 29,
      "metadata": {
        "id": "T77REeqrUXy7"
      },
      "outputs": [
        {
          "name": "stdout",
          "output_type": "stream",
          "text": [
            "Epoch : 0, train loss : 5361181116071936.00, test loss : 3631308800.00 (3.51 s.)\n",
            "Epoch : 1, train loss : 252616302919680.00, test loss : 65434256.00 (0.00 s.)\n",
            "Epoch : 2, train loss : 62537428992.00, test loss : 64563804.00 (0.00 s.)\n",
            "Epoch : 3, train loss : 55318867968.00, test loss : 60580188.00 (0.00 s.)\n",
            "Epoch : 4, train loss : 59868250112.00, test loss : 48440264.00 (0.00 s.)\n",
            "Epoch : 5, train loss : 51777458176.00, test loss : 55431344.00 (0.00 s.)\n",
            "Epoch : 6, train loss : 53629333504.00, test loss : 49645152.00 (0.00 s.)\n",
            "Epoch : 7, train loss : 48495988736.00, test loss : 49497408.00 (0.00 s.)\n",
            "Epoch : 8, train loss : 50514984960.00, test loss : 51984244.00 (0.00 s.)\n",
            "Epoch : 9, train loss : 52616507392.00, test loss : 52535156.00 (0.00 s.)\n",
            "Epoch : 10, train loss : 55186604032.00, test loss : 47850504.00 (0.00 s.)\n",
            "Epoch : 11, train loss : 48830312448.00, test loss : 52707864.00 (0.00 s.)\n",
            "Epoch : 12, train loss : 54355124224.00, test loss : 52063188.00 (0.00 s.)\n",
            "Epoch : 13, train loss : 52289998848.00, test loss : 51362928.00 (0.00 s.)\n",
            "Epoch : 14, train loss : 51439788032.00, test loss : 49850812.00 (0.00 s.)\n",
            "Epoch : 15, train loss : 54841896960.00, test loss : 50038112.00 (0.00 s.)\n",
            "Epoch : 16, train loss : 47265853440.00, test loss : 50450548.00 (0.00 s.)\n",
            "Epoch : 17, train loss : 53614878720.00, test loss : 49136720.00 (0.00 s.)\n",
            "Epoch : 18, train loss : 52074762240.00, test loss : 47385096.00 (0.00 s.)\n",
            "Epoch : 19, train loss : 50424279040.00, test loss : 50384716.00 (0.00 s.)\n",
            "Epoch : 20, train loss : 45835374592.00, test loss : 49448652.00 (0.00 s.)\n",
            "Epoch : 21, train loss : 50445701120.00, test loss : 51535712.00 (0.00 s.)\n",
            "Epoch : 22, train loss : 47192281088.00, test loss : 49657688.00 (0.00 s.)\n",
            "Epoch : 23, train loss : 49161605120.00, test loss : 54865460.00 (0.00 s.)\n",
            "Epoch : 24, train loss : 51734360064.00, test loss : 53153992.00 (0.00 s.)\n",
            "Epoch : 25, train loss : 49971920896.00, test loss : 50121264.00 (0.00 s.)\n",
            "Epoch : 26, train loss : 50556854272.00, test loss : 53312460.00 (0.00 s.)\n",
            "Epoch : 27, train loss : 51474259968.00, test loss : 46585936.00 (0.00 s.)\n",
            "Epoch : 28, train loss : 50424479744.00, test loss : 50129864.00 (0.00 s.)\n",
            "Epoch : 29, train loss : 51757559808.00, test loss : 54989088.00 (0.00 s.)\n",
            "Epoch : 30, train loss : 51364724736.00, test loss : 51001852.00 (0.00 s.)\n",
            "Epoch : 31, train loss : 51544870912.00, test loss : 54784500.00 (0.00 s.)\n",
            "Epoch : 32, train loss : 51044208640.00, test loss : 48092520.00 (0.00 s.)\n",
            "Epoch : 33, train loss : 46654124032.00, test loss : 50498432.00 (0.00 s.)\n",
            "Epoch : 34, train loss : 51513192448.00, test loss : 51393316.00 (0.00 s.)\n",
            "Epoch : 35, train loss : 51725508608.00, test loss : 49172836.00 (0.00 s.)\n",
            "Epoch : 36, train loss : 49337434112.00, test loss : 51914608.00 (0.00 s.)\n",
            "Epoch : 37, train loss : 52990611456.00, test loss : 56651228.00 (0.00 s.)\n",
            "Epoch : 38, train loss : 52498812928.00, test loss : 46002140.00 (0.00 s.)\n",
            "Epoch : 39, train loss : 50729869312.00, test loss : 55165864.00 (0.00 s.)\n",
            "Epoch : 40, train loss : 49027260416.00, test loss : 52960720.00 (0.00 s.)\n",
            "Epoch : 41, train loss : 49394614272.00, test loss : 49946512.00 (0.00 s.)\n",
            "Epoch : 42, train loss : 49716666368.00, test loss : 53174304.00 (0.00 s.)\n",
            "Epoch : 43, train loss : 50051092480.00, test loss : 50060896.00 (0.00 s.)\n",
            "Epoch : 44, train loss : 50925793280.00, test loss : 56679576.00 (0.00 s.)\n",
            "Epoch : 45, train loss : 53327929344.00, test loss : 47702700.00 (0.00 s.)\n",
            "Epoch : 46, train loss : 51417526272.00, test loss : 52194824.00 (0.00 s.)\n",
            "Epoch : 47, train loss : 51061026816.00, test loss : 55103856.00 (0.00 s.)\n",
            "Epoch : 48, train loss : 53906276352.00, test loss : 47781020.00 (0.00 s.)\n",
            "Epoch : 49, train loss : 50495344640.00, test loss : 48916036.00 (0.00 s.)\n",
            "Epoch : 50, train loss : 52776062976.00, test loss : 47243408.00 (0.00 s.)\n",
            "Epoch : 51, train loss : 52675588096.00, test loss : 44995724.00 (0.00 s.)\n",
            "Epoch : 52, train loss : nan, test loss : nan (0.00 s.)\n"
          ]
        }
      ],
      "source": [
        "#-------------------------- Train VAE -------------------------- #\n",
        "run = True\n",
        "if run:\n",
        "    adam = numpyro.optim.Adam(step_size = args[\"learning_rate\"])\n",
        "    svi = SVI(\n",
        "        model=lambda batch: vae_model(batch, args[\"hidden_dim\"], args[\"z_dim\"], args[\"vae_var\"]),\n",
        "        guide=lambda batch: vae_guide(batch, args[\"hidden_dim\"], args[\"z_dim\"]),\n",
        "        optim=adam, \n",
        "        loss=RenyiELBO(),\n",
        "    )\n",
        "    rng_key, rng_key_samp, rng_key_init = random.split(args[\"rng_key\"],3)\n",
        "    #(num_samples, num_regions) \n",
        "    init_batch = agg_gp_predictive(rng_key_samp, args)[\"gp_aggr\"] #(num_samples, num_regions) <- i.e (5,58)\n",
        "    svi_state = svi.init(rng_key_init, init_batch)\n",
        "\n",
        "    test_loss_list = []\n",
        "\n",
        "    for i in range(args[\"num_epochs\"]):\n",
        "        rng_key, rng_key_train, rng_key_test, rng_key_infer = random.split(rng_key, 4)\n",
        "        t_start = time.time()\n",
        "        num_train = 1000\n",
        "        # Where forward/backward pass gets called for train\n",
        "        train_loss , svi_state = epoch_train(rng_key_train, svi_state, num_train)\n",
        "        num_test = 1000\n",
        "        # Where forward/backward pass gets called for test\n",
        "        test_loss = eval_test(rng_key_test, svi_state, num_test)\n",
        "        test_loss_list += [test_loss]\n",
        "\n",
        "        print(\"Epoch : {}, train loss : {:.2f}, test loss : {:.2f} ({:.2f} s.)\".format(i, train_loss, test_loss, time.time() - t_start))\n",
        "        if np.isnan(test_loss):\n",
        "            break "
      ]
    },
    {
      "cell_type": "code",
      "execution_count": 30,
      "metadata": {
        "id": "eXgAJbgnUlCl"
      },
      "outputs": [],
      "source": [
        "#extract the decoder\n",
        "vae_params = svi.get_params(svi_state)"
      ]
    },
    {
      "cell_type": "markdown",
      "metadata": {
        "id": "4fldbVSkT0RR"
      },
      "source": [
        "## Save the decoder"
      ]
    },
    {
      "cell_type": "code",
      "execution_count": 31,
      "metadata": {
        "id": "v9zDJExcT1OB"
      },
      "outputs": [
        {
          "name": "stdout",
          "output_type": "stream",
          "text": [
            "Decoder parameters saved to c:\\Users\\jessi\\Documents\\school\\y4\\s2\\DSE4101\\Individual\\FYP codes\\DSE_FYP\\simulation study\\model weights\\aggVAE\\aggVAE_e100_h50_z40\n"
          ]
        }
      ],
      "source": [
        "# Get script directory\n",
        "script_dir = os.getcwd()  # Get current working directory\n",
        "\n",
        "# Define the correct save path inside model_weights/\n",
        "save_dir = os.path.abspath(os.path.join(script_dir, \"..\", \"model weights\", \"aggVAE\"))\n",
        "os.makedirs(save_dir, exist_ok=True)  # Ensure the directory exists\n",
        "\n",
        "# Save decoder parameters\n",
        "save_path = os.path.join(save_dir, f\"aggVAE_e{args['num_epochs']}_h{args['hidden_dim']}_z{args['z_dim']}\")\n",
        "\n",
        "with open(save_path, \"wb\") as file:\n",
        "    pickle.dump(vae_params, file)\n",
        "\n",
        "print(f\"Decoder parameters saved to {save_path}\")"
      ]
    }
  ],
  "metadata": {
    "accelerator": "GPU",
    "colab": {
      "gpuType": "T4",
      "machine_shape": "hm",
      "provenance": []
    },
    "kernelspec": {
      "display_name": "Python 3",
      "name": "python3"
    },
    "language_info": {
      "codemirror_mode": {
        "name": "ipython",
        "version": 3
      },
      "file_extension": ".py",
      "mimetype": "text/x-python",
      "name": "python",
      "nbconvert_exporter": "python",
      "pygments_lexer": "ipython3",
      "version": "3.13.1"
    }
  },
  "nbformat": 4,
  "nbformat_minor": 0
}
