{
  "cells": [
    {
      "cell_type": "code",
      "execution_count": 2,
      "metadata": {
        "colab": {
          "base_uri": "https://localhost:8080/"
        },
        "id": "t6EnwpCfeQJF",
        "outputId": "eb44fd24-5a2d-4989-bc1f-b714f997cea0"
      },
      "outputs": [
        {
          "name": "stdout",
          "output_type": "stream",
          "text": [
            "Collecting numpyro\n",
            "  Downloading numpyro-0.18.0-py3-none-any.whl.metadata (37 kB)\n",
            "Requirement already satisfied: jax>=0.4.25 in /usr/local/lib/python3.11/dist-packages (from numpyro) (0.5.2)\n",
            "Requirement already satisfied: jaxlib>=0.4.25 in /usr/local/lib/python3.11/dist-packages (from numpyro) (0.5.1)\n",
            "Requirement already satisfied: multipledispatch in /usr/local/lib/python3.11/dist-packages (from numpyro) (1.0.0)\n",
            "Requirement already satisfied: numpy in /usr/local/lib/python3.11/dist-packages (from numpyro) (2.0.2)\n",
            "Requirement already satisfied: tqdm in /usr/local/lib/python3.11/dist-packages (from numpyro) (4.67.1)\n",
            "Requirement already satisfied: ml_dtypes>=0.4.0 in /usr/local/lib/python3.11/dist-packages (from jax>=0.4.25->numpyro) (0.4.1)\n",
            "Requirement already satisfied: opt_einsum in /usr/local/lib/python3.11/dist-packages (from jax>=0.4.25->numpyro) (3.4.0)\n",
            "Requirement already satisfied: scipy>=1.11.1 in /usr/local/lib/python3.11/dist-packages (from jax>=0.4.25->numpyro) (1.14.1)\n",
            "Downloading numpyro-0.18.0-py3-none-any.whl (365 kB)\n",
            "\u001b[?25l   \u001b[90m━━━━━━━━━━━━━━━━━━━━━━━━━━━━━━━━━━━━━━━━\u001b[0m \u001b[32m0.0/365.8 kB\u001b[0m \u001b[31m?\u001b[0m eta \u001b[36m-:--:--\u001b[0m\r\u001b[2K   \u001b[91m━━━━━━━━━━━━━━━━━━━━━━━━━━━━━━━━\u001b[0m\u001b[90m╺\u001b[0m\u001b[90m━━━━━━━\u001b[0m \u001b[32m297.0/365.8 kB\u001b[0m \u001b[31m10.3 MB/s\u001b[0m eta \u001b[36m0:00:01\u001b[0m\r\u001b[2K   \u001b[90m━━━━━━━━━━━━━━━━━━━━━━━━━━━━━━━━━━━━━━━━\u001b[0m \u001b[32m365.8/365.8 kB\u001b[0m \u001b[31m8.3 MB/s\u001b[0m eta \u001b[36m0:00:00\u001b[0m\n",
            "\u001b[?25hInstalling collected packages: numpyro\n",
            "Successfully installed numpyro-0.18.0\n"
          ]
        }
      ],
      "source": [
        "!pip install numpyro"
      ]
    },
    {
      "cell_type": "code",
      "execution_count": 3,
      "metadata": {
        "id": "nDjUgPoZOs5y"
      },
      "outputs": [],
      "source": [
        "import os\n",
        "import math\n",
        "import numpy as np\n",
        "\n",
        "import torch\n",
        "import time\n",
        "\n",
        "import itertools\n",
        "import jax\n",
        "import jax.numpy as jnp\n",
        "from jax import random, lax, jit, ops\n",
        "from jax.example_libraries import stax\n",
        "\n",
        "import numpyro\n",
        "from numpyro.infer import SVI, MCMC, NUTS, init_to_median, Predictive, RenyiELBO\n",
        "import numpyro.distributions as dist\n",
        "\n",
        "import geopandas as gpd\n",
        "import plotly.express as px\n",
        "\n",
        "from termcolor import colored\n",
        "\n",
        "import pickle"
      ]
    },
    {
      "cell_type": "code",
      "execution_count": 4,
      "metadata": {
        "colab": {
          "base_uri": "https://localhost:8080/"
        },
        "id": "1SeHa4ZBTSsz",
        "outputId": "dd823e2b-d9a2-4462-b982-a4f289805605"
      },
      "outputs": [
        {
          "name": "stdout",
          "output_type": "stream",
          "text": [
            "Script B running on cpu\n"
          ]
        }
      ],
      "source": [
        "#ensure this script runs on GPU 1\n",
        "os.environ[\"CUDA_VISIBLE_DEVICES\"] = \"1\"  # Use GPU 1\n",
        "\n",
        "device = torch.device(\"cuda\" if torch.cuda.is_available() else \"cpu\")\n",
        "print(f\"Script B running on {device}\")"
      ]
    },
    {
      "cell_type": "code",
      "execution_count": 5,
      "metadata": {
        "id": "RWApQLwlTWKD"
      },
      "outputs": [],
      "source": [
        "#define the functions necessary\n",
        "def dist_euclid(x, z):\n",
        "    \"\"\"\n",
        "    Computes Eucledian Distance Between Regions. This function is used by\n",
        "    exp_sq_kernel function (kernel function for gaussian processes)\n",
        "    \"\"\"\n",
        "    x = jnp.array(x) # (ngrid_pts, lat/lon) <- i.e (7304,2)\n",
        "    z = jnp.array(z) # (ngrid_pts, lat/lon) <- i.e (7304,2)\n",
        "    if len(x.shape)==1:\n",
        "        x = x.reshape(x.shape[0], 1) #(2618,) -> (7304,1)\n",
        "    if len(z.shape)==1:\n",
        "        z = x.reshape(x.shape[0], 1) #(2618,) -> (7304,1)\n",
        "    n_x, m = x.shape # 7304 , 2\n",
        "    n_z, m_z = z.shape # 7304 , 2\n",
        "    assert m == m_z\n",
        "    delta = jnp.zeros((n_x,n_z)) #(ngrid_pts,ngrid_pts) <- i.e (7304,7304)\n",
        "    for d in jnp.arange(m):\n",
        "        x_d = x[:,d] #(ngrid_pts-lat/lon,) <- (7304,)\n",
        "        z_d = z[:,d] #(ngrid_pts-lat/lon,) <- (7304,)\n",
        "        delta += (x_d[:,jnp.newaxis] - z_d)**2 # (7304,7304)\n",
        "\n",
        "    return jnp.sqrt(delta) #(7304,7304)\n",
        "\n",
        "def exp_sq_kernel(x, z, var, length, noise, jitter=1.0e-4):\n",
        "    dist = dist_euclid(x, z) #(7304, 7304)\n",
        "    deltaXsq = jnp.power(dist/ length, 2.0)\n",
        "    k = var * jnp.exp(-0.5 * deltaXsq)\n",
        "    k += (noise + jitter) * jnp.eye(x.shape[0])\n",
        "    return k # (ngrid_pts, ngrid_pts) <- (7304,7304)\n",
        "\n",
        "def M_g(M, g):\n",
        "    '''\n",
        "    - $M$ is a matrix with binary entries $m_{ij},$ showing whether point $j$ is in polygon $i$\n",
        "    - $g$ is a vector of GP draws over grid\n",
        "    - $maltmul(M, g)$ gives a vector of sums over each polygon\n",
        "    '''\n",
        "    M = jnp.array(M)\n",
        "    g = jnp.array(g).T\n",
        "    return(jnp.matmul(M, g))"
      ]
    },
    {
      "cell_type": "markdown",
      "metadata": {
        "id": "AOpyAuFOQxOI"
      },
      "source": [
        "#AggVAE Model"
      ]
    },
    {
      "cell_type": "markdown",
      "metadata": {
        "id": "W35Bwle9YtgB"
      },
      "source": [
        "##Function for Predictive Simulation (Prior)"
      ]
    },
    {
      "cell_type": "code",
      "execution_count": null,
      "metadata": {
        "id": "pqpibNNMYxp5"
      },
      "outputs": [],
      "source": [
        "def gp_aggr(args):\n",
        "    x = args[\"x\"]  # Spatial grid points: (num_grid_points, 2)\n",
        "    gp_kernel = args[\"gp_kernel\"]  # Gaussian Process kernel\n",
        "    noise = args[\"noise\"]\n",
        "    jitter = args[\"jitter\"]\n",
        "\n",
        "    M_lo= args[\"M_lo\"] # (9, 2618)\n",
        "    M_hi = args[\"M_hi\"] # (49, 2618),\n",
        "\n",
        "    # GP hyperparameters\n",
        "    kernel_length = numpyro.sample(\"kernel_length\", args[\"kernel_length\"])\n",
        "    kernel_var = numpyro.sample(\"kernel_var\", args[\"kernel_var\"])\n",
        "\n",
        "    # GP Kernel and Sample\n",
        "    k = gp_kernel(x, x, kernel_var, kernel_length, noise, jitter)\n",
        "    f = numpyro.sample(\"f\", dist.MultivariateNormal(loc=jnp.zeros(x.shape[0]), covariance_matrix=k))  # (num_grid_points,)\n",
        "\n",
        "    #aggregate f into gp_aggr according to indexing of (point in polygon)\n",
        "    gp_aggr_lo = numpyro.deterministic(\"gp_aggr_lo\", M_g(M_lo, f)) #(num_regions,) <- i.e (9,) for lo\n",
        "    gp_aggr_hi = numpyro.deterministic(\"gp_aggr_hi\", M_g(M_hi, f)) #(49,)\n",
        "    gp_aggr = numpyro.deterministic(\"gp_aggr\", jnp.concatenate([gp_aggr_lo, gp_aggr_hi])) #(58,)\n",
        "\n",
        "\n",
        "    return gp_aggr"
      ]
    },
    {
      "cell_type": "markdown",
      "metadata": {
        "id": "yjA0_Y9YTBYf"
      },
      "source": [
        "##Define the VAE"
      ]
    },
    {
      "cell_type": "code",
      "execution_count": 7,
      "metadata": {
        "id": "8-qYl8VcTDzq"
      },
      "outputs": [],
      "source": [
        "def vae_encoder(hidden_dim = 50, z_dim = 40):\n",
        "    return stax.serial(\n",
        "        #(num_samples, num_regions) -> (num_samples, hidden_dims)\n",
        "        stax.Dense(hidden_dim, W_init = stax.randn()),\n",
        "        stax.Elu,\n",
        "        stax.FanOut(2),\n",
        "        stax.parallel(\n",
        "            # mean : (num_samples, hidden_dim) -> (num_samples, z_dim)\n",
        "            stax.Dense(z_dim, W_init = stax.randn()), #(5,50)\n",
        "            #std : (num_samples, hidden_dim) -> (num_samples, z_dim)\n",
        "            stax.serial(stax.Dense(z_dim, W_init = stax.randn()), stax.Exp)\n",
        "        )\n",
        "    )\n",
        "\n",
        "def vae_decoder(hidden_dim, out_dim):\n",
        "    return stax.serial(\n",
        "        # (num_samples, z_dim) -> (num_samples, hidden_dim)\n",
        "        stax.Dense(hidden_dim, W_init = stax.randn()),\n",
        "        stax.Elu,\n",
        "        # (num_samples, hidden_dim) -> (num_samples, num_regions)\n",
        "        stax.Dense(out_dim, W_init = stax.randn())\n",
        "    )\n",
        "\n",
        "\n",
        "def vae_model(batch, hidden_dim, z_dim):\n",
        "    \"\"\"This computes the decoder portion\"\"\"\n",
        "    batch = jnp.reshape(batch, (batch.shape[0], -1)) # (num_samples, num_regions)\n",
        "    batch_dim, out_dim = jnp.shape(batch)\n",
        "\n",
        "    # vae-decoder in numpyro module\n",
        "    decode = numpyro.module(\n",
        "        name = \"decoder\",\n",
        "        nn = vae_decoder(hidden_dim = hidden_dim, out_dim = out_dim),\n",
        "        input_shape = (batch_dim, z_dim) #(5,40)\n",
        "    )\n",
        "\n",
        "    # Sample a univariate normal\n",
        "    z = numpyro.sample(\n",
        "        \"z\",\n",
        "        dist.Normal(\n",
        "            jnp.zeros((batch_dim,z_dim)),\n",
        "            jnp.ones((batch_dim,z_dim))\n",
        "            )\n",
        "    )\n",
        "    # Forward pass from decoder\n",
        "    gen_loc = decode(z) #(num_regions,)\n",
        "    obs = numpyro.sample(\n",
        "        \"obs\",\n",
        "        dist.Normal(gen_loc, args[\"vae_var\"]),\n",
        "        obs = batch\n",
        "    ) #(num_samples, num_regions)\n",
        "    return obs\n",
        "\n",
        "\n",
        "def vae_guide(batch, hidden_dim, z_dim):\n",
        "    \"\"\"This computes the encoder portion\"\"\"\n",
        "    batch = jnp.reshape(batch, (batch.shape[0], -1)) #(num_samples, num_regions)\n",
        "    batch_dim, input_dim = jnp.shape(batch)# num_samples , num_regions\n",
        "\n",
        "    # vae-encoder in numpyro module\n",
        "    encode = numpyro.module(\n",
        "        name = \"encoder\",\n",
        "        nn = vae_encoder(hidden_dim=hidden_dim,z_dim = z_dim),\n",
        "        input_shape = (batch_dim, input_dim) #(5,58)\n",
        "    ) #(num_samples, num_regions) -> (num_samples, hidden_dims)\n",
        "\n",
        "    # Samapling mu, sigma - Pretty much the forward pass\n",
        "    z_loc, z_std = encode(batch) #mu : (num_samples, z_dim), sigma2 : (num_samples, z_dim)\n",
        "    # Sample a value z based on mu and sigma\n",
        "    z = numpyro.sample(\"z\", dist.Normal(z_loc, z_std)) #(num_sample, z_dim)\n",
        "    return z"
      ]
    },
    {
      "cell_type": "markdown",
      "metadata": {
        "id": "EA7tPNDnWgpG"
      },
      "source": [
        "##Train the VAE encoder"
      ]
    },
    {
      "cell_type": "code",
      "execution_count": 8,
      "metadata": {
        "id": "D8_MUf7FWlAX"
      },
      "outputs": [],
      "source": [
        "@jax.jit\n",
        "def epoch_train(rng_key, svi_state, num_train):\n",
        "    def body_fn(i, val):\n",
        "        rng_key_i = jax.random.fold_in(rng_key, i) #Array(2,)\n",
        "        rng_key_i, rng_key_ls, rng_key_var, rng_key_noise = jax.random.split(rng_key_i, 4) #Tuple(Array(2,) x 4)\n",
        "        loss_sum, svi_state = val #val --svi_state\n",
        "\n",
        "        batch = agg_gp_predictive(rng_key_i, args)[\"gp_aggr\"] #(5,116) <- num_samples : 5, total_districts : 116\n",
        "        #* svi is where the vae_model & vae_guide gets applied\n",
        "        svi_state, loss = svi.update(svi_state, batch)\n",
        "        loss_sum += loss / args[\"batch_size\"]\n",
        "        return loss_sum, svi_state\n",
        "\n",
        "    return lax.fori_loop(lower = 0, upper = num_train, body_fun=body_fn, init_val=(0.0, svi_state))\n",
        "\n",
        "@jax.jit\n",
        "def eval_test(rng_key, svi_state, num_test):\n",
        "    def body_fn(i, loss_sum):\n",
        "        rng_key_i = jax.random.fold_in(rng_key, i)\n",
        "        rng_key_i, rng_key_ls, rng_key_varm, rng_key_noise = jax.random.split(rng_key_i, 4)\n",
        "        batch = agg_gp_predictive(rng_key_i, args)[\"gp_aggr\"]\n",
        "        #* svi is where the vae_model & vae_guide gets applied\n",
        "        loss = svi.evaluate(svi_state, batch) / args[\"batch_size\"]\n",
        "        loss_sum += loss\n",
        "        return loss_sum\n",
        "\n",
        "    loss = lax.fori_loop(lower = 0, upper = num_test,body_fun =  body_fn, init_val = 0.0)\n",
        "    loss = loss / num_test\n",
        "    return loss"
      ]
    },
    {
      "cell_type": "markdown",
      "metadata": {
        "id": "HHkZ6dqhTEKl"
      },
      "source": [
        "##Function to plot the GP"
      ]
    },
    {
      "cell_type": "code",
      "execution_count": 9,
      "metadata": {
        "id": "7rke7xN5TJts"
      },
      "outputs": [],
      "source": [
        "def plot_process(gp_draws):\n",
        "    p = px.line()\n",
        "    for i in range(len(gp_draws)):\n",
        "        p.add_scatter(x = np.arange(gp_draws.shape[1]), y = gp_draws[i, :])\n",
        "\n",
        "    p.update_traces(line_color = \"black\")\n",
        "    p.update_layout(\n",
        "        template = \"plotly_white\",\n",
        "        xaxis_title = \"region\", yaxis_title = \"num cases\",\n",
        "        showlegend = False)\n",
        "    p.show()"
      ]
    },
    {
      "cell_type": "markdown",
      "metadata": {
        "id": "Egml-fn9TKMJ"
      },
      "source": [
        "##Load the variables"
      ]
    },
    {
      "cell_type": "code",
      "execution_count": 10,
      "metadata": {
        "id": "veD2sogTTMIc"
      },
      "outputs": [],
      "source": [
        "# Lat/Lon Values of artificial grid\n",
        "x = np.load(\"lat_lon_x_jkt.npy\")\n",
        "pol_pts_jkt_lo = np.load(\"pol_pts_jkt_lo.npy\")\n",
        "pol_pts_jkt_hi = np.load(\"pol_pts_jkt_hi.npy\")"
      ]
    },
    {
      "cell_type": "markdown",
      "metadata": {
        "id": "DgiCqcl7TDwR"
      },
      "source": [
        "##Arguments"
      ]
    },
    {
      "cell_type": "code",
      "execution_count": 12,
      "metadata": {
        "id": "D79oQ7R-THBC"
      },
      "outputs": [],
      "source": [
        "args = {\n",
        "        \"x\": x,\n",
        "        \"gp_kernel\": exp_sq_kernel,\n",
        "        \"noise\": 1e-4,\n",
        "        \"M_lo\": jnp.array(pol_pts_jkt_lo),\n",
        "        \"M_hi\": jnp.array(pol_pts_jkt_hi),\n",
        "        \"jitter\" : 1e-4,\n",
        "        # VAE training\n",
        "        \"rng_key\": random.PRNGKey(5),\n",
        "        #common num_epochs 20-50\n",
        "        \"num_epochs\": 20,\n",
        "        #learning rate 0.0005 common choice, ADAM optimiser adapts the learning rate accordingly\n",
        "        \"learning_rate\": 0.0005,\n",
        "        #chosen to be 100 (no tune)\n",
        "        \"batch_size\": 100,\n",
        "        #change this to the optimal values after hyperparameter tuning\n",
        "        \"hidden_dim\": 30,\n",
        "        \"z_dim\": 40,\n",
        "        #chosen to be 100 (no tune)\n",
        "        \"num_train\": 100,\n",
        "        \"num_test\":100,\n",
        "        #variance set to 1 bc the latent variable prior distribution is assumed to be normal\n",
        "        \"vae_var\": 1,\n",
        "        \"kernel_length\": dist.InverseGamma(3,3),\n",
        "        \"kernel_var\": dist.HalfNormal(1e-5)\n",
        "    }\n"
      ]
    },
    {
      "cell_type": "markdown",
      "metadata": {
        "id": "dp6EFT7RTLKZ"
      },
      "source": [
        "##Prior predictive simulation"
      ]
    },
    {
      "cell_type": "code",
      "execution_count": 13,
      "metadata": {
        "id": "72dE-HgATNBA"
      },
      "outputs": [],
      "source": [
        "rng_key, rng_key_ = random.split(random.PRNGKey(4))\n",
        "agg_gp_predictive = Predictive(gp_aggr,num_samples = 5)\n",
        "agg_gp_draws = agg_gp_predictive(rng_key_, args)[\"gp_aggr\"] #(num_samples, num_regions)"
      ]
    },
    {
      "cell_type": "code",
      "execution_count": 14,
      "metadata": {
        "colab": {
          "base_uri": "https://localhost:8080/",
          "height": 542
        },
        "id": "KMnPLKZwJrO5",
        "outputId": "91781ac5-552d-46eb-a1d7-8ca55e2a8fd7"
      },
      "outputs": [
        {
          "data": {
            "text/html": [
              "<html>\n",
              "<head><meta charset=\"utf-8\" /></head>\n",
              "<body>\n",
              "    <div>            <script src=\"https://cdnjs.cloudflare.com/ajax/libs/mathjax/2.7.5/MathJax.js?config=TeX-AMS-MML_SVG\"></script><script type=\"text/javascript\">if (window.MathJax && window.MathJax.Hub && window.MathJax.Hub.Config) {window.MathJax.Hub.Config({SVG: {font: \"STIX-Web\"}});}</script>                <script type=\"text/javascript\">window.PlotlyConfig = {MathJaxConfig: 'local'};</script>\n",
              "        <script charset=\"utf-8\" src=\"https://cdn.plot.ly/plotly-2.35.2.min.js\"></script>                <div id=\"e25b43cf-37af-41c5-9f4b-c51cc261ac80\" class=\"plotly-graph-div\" style=\"height:525px; width:100%;\"></div>            <script type=\"text/javascript\">                                    window.PLOTLYENV=window.PLOTLYENV || {};                                    if (document.getElementById(\"e25b43cf-37af-41c5-9f4b-c51cc261ac80\")) {                    Plotly.newPlot(                        \"e25b43cf-37af-41c5-9f4b-c51cc261ac80\",                        [{\"hovertemplate\":\"\\u003cextra\\u003e\\u003c\\u002fextra\\u003e\",\"legendgroup\":\"\",\"line\":{\"color\":\"black\",\"dash\":\"solid\"},\"marker\":{\"symbol\":\"circle\"},\"mode\":\"lines\",\"name\":\"\",\"orientation\":\"v\",\"showlegend\":false,\"xaxis\":\"x\",\"yaxis\":\"y\",\"type\":\"scatter\"},{\"x\":[0,1,2,3,4,5,6,7,8,9,10,11,12,13,14,15,16,17,18,19,20,21,22,23,24,25,26,27],\"y\":[0.015143432,0.015143432,0.015143432,0.015143432,0.0023786093,0.0023786093,0.0023786093,0.0023786093,-0.004160873,-0.004160873,-0.004160873,-0.004160873,0.013097333,0.013097333,0.013097333,0.013097333,-0.0059275627,-0.0059275627,-0.0059275627,-0.0059275627,0.039034583,0.039034583,0.039034583,0.039034583,-0.029278653,-0.029278653,-0.029278653,-0.029278653],\"type\":\"scatter\",\"line\":{\"color\":\"black\"}},{\"x\":[0,1,2,3,4,5,6,7,8,9,10,11,12,13,14,15,16,17,18,19,20,21,22,23,24,25,26,27],\"y\":[0.34538043,0.34538043,0.34538043,0.34538043,-0.011717729,-0.011717729,-0.011717729,-0.011717729,0.014112201,0.014112201,0.014112201,0.014112201,0.0093718795,0.0093718795,0.0093718795,0.0093718795,0.109654695,0.109654695,0.109654695,0.109654695,0.14124262,0.14124262,0.14124262,0.14124262,0.08271674,0.08271674,0.08271674,0.08271674],\"type\":\"scatter\",\"line\":{\"color\":\"black\"}},{\"x\":[0,1,2,3,4,5,6,7,8,9,10,11,12,13,14,15,16,17,18,19,20,21,22,23,24,25,26,27],\"y\":[0.23727657,0.23727657,0.23727657,0.23727657,-0.003469178,-0.003469178,-0.003469178,-0.003469178,0.083151914,0.083151914,0.083151914,0.083151914,-0.025275882,-0.025275882,-0.025275882,-0.025275882,-0.016394936,-0.016394936,-0.016394936,-0.016394936,0.084423184,0.084423184,0.084423184,0.084423184,0.11484148,0.11484148,0.11484148,0.11484148],\"type\":\"scatter\",\"line\":{\"color\":\"black\"}},{\"x\":[0,1,2,3,4,5,6,7,8,9,10,11,12,13,14,15,16,17,18,19,20,21,22,23,24,25,26,27],\"y\":[-0.51142526,-0.51142526,-0.51142526,-0.51142526,-0.0094729625,-0.0094729625,-0.0094729625,-0.0094729625,-0.13181676,-0.13181676,-0.13181676,-0.13181676,0.012673472,0.012673472,0.012673472,0.012673472,-0.11771313,-0.11771313,-0.11771313,-0.11771313,-0.1124206,-0.1124206,-0.1124206,-0.1124206,-0.15267527,-0.15267527,-0.15267527,-0.15267527],\"type\":\"scatter\",\"line\":{\"color\":\"black\"}},{\"x\":[0,1,2,3,4,5,6,7,8,9,10,11,12,13,14,15,16,17,18,19,20,21,22,23,24,25,26,27],\"y\":[-0.29232293,-0.29232293,-0.29232293,-0.29232293,-0.014668455,-0.014668455,-0.014668455,-0.014668455,0.0403387,0.0403387,0.0403387,0.0403387,0.024700625,0.024700625,0.024700625,0.024700625,-0.10880572,-0.10880572,-0.10880572,-0.10880572,-0.08875312,-0.08875312,-0.08875312,-0.08875312,-0.14513497,-0.14513497,-0.14513497,-0.14513497],\"type\":\"scatter\",\"line\":{\"color\":\"black\"}}],                        {\"template\":{\"data\":{\"barpolar\":[{\"marker\":{\"line\":{\"color\":\"white\",\"width\":0.5},\"pattern\":{\"fillmode\":\"overlay\",\"size\":10,\"solidity\":0.2}},\"type\":\"barpolar\"}],\"bar\":[{\"error_x\":{\"color\":\"#2a3f5f\"},\"error_y\":{\"color\":\"#2a3f5f\"},\"marker\":{\"line\":{\"color\":\"white\",\"width\":0.5},\"pattern\":{\"fillmode\":\"overlay\",\"size\":10,\"solidity\":0.2}},\"type\":\"bar\"}],\"carpet\":[{\"aaxis\":{\"endlinecolor\":\"#2a3f5f\",\"gridcolor\":\"#C8D4E3\",\"linecolor\":\"#C8D4E3\",\"minorgridcolor\":\"#C8D4E3\",\"startlinecolor\":\"#2a3f5f\"},\"baxis\":{\"endlinecolor\":\"#2a3f5f\",\"gridcolor\":\"#C8D4E3\",\"linecolor\":\"#C8D4E3\",\"minorgridcolor\":\"#C8D4E3\",\"startlinecolor\":\"#2a3f5f\"},\"type\":\"carpet\"}],\"choropleth\":[{\"colorbar\":{\"outlinewidth\":0,\"ticks\":\"\"},\"type\":\"choropleth\"}],\"contourcarpet\":[{\"colorbar\":{\"outlinewidth\":0,\"ticks\":\"\"},\"type\":\"contourcarpet\"}],\"contour\":[{\"colorbar\":{\"outlinewidth\":0,\"ticks\":\"\"},\"colorscale\":[[0.0,\"#0d0887\"],[0.1111111111111111,\"#46039f\"],[0.2222222222222222,\"#7201a8\"],[0.3333333333333333,\"#9c179e\"],[0.4444444444444444,\"#bd3786\"],[0.5555555555555556,\"#d8576b\"],[0.6666666666666666,\"#ed7953\"],[0.7777777777777778,\"#fb9f3a\"],[0.8888888888888888,\"#fdca26\"],[1.0,\"#f0f921\"]],\"type\":\"contour\"}],\"heatmapgl\":[{\"colorbar\":{\"outlinewidth\":0,\"ticks\":\"\"},\"colorscale\":[[0.0,\"#0d0887\"],[0.1111111111111111,\"#46039f\"],[0.2222222222222222,\"#7201a8\"],[0.3333333333333333,\"#9c179e\"],[0.4444444444444444,\"#bd3786\"],[0.5555555555555556,\"#d8576b\"],[0.6666666666666666,\"#ed7953\"],[0.7777777777777778,\"#fb9f3a\"],[0.8888888888888888,\"#fdca26\"],[1.0,\"#f0f921\"]],\"type\":\"heatmapgl\"}],\"heatmap\":[{\"colorbar\":{\"outlinewidth\":0,\"ticks\":\"\"},\"colorscale\":[[0.0,\"#0d0887\"],[0.1111111111111111,\"#46039f\"],[0.2222222222222222,\"#7201a8\"],[0.3333333333333333,\"#9c179e\"],[0.4444444444444444,\"#bd3786\"],[0.5555555555555556,\"#d8576b\"],[0.6666666666666666,\"#ed7953\"],[0.7777777777777778,\"#fb9f3a\"],[0.8888888888888888,\"#fdca26\"],[1.0,\"#f0f921\"]],\"type\":\"heatmap\"}],\"histogram2dcontour\":[{\"colorbar\":{\"outlinewidth\":0,\"ticks\":\"\"},\"colorscale\":[[0.0,\"#0d0887\"],[0.1111111111111111,\"#46039f\"],[0.2222222222222222,\"#7201a8\"],[0.3333333333333333,\"#9c179e\"],[0.4444444444444444,\"#bd3786\"],[0.5555555555555556,\"#d8576b\"],[0.6666666666666666,\"#ed7953\"],[0.7777777777777778,\"#fb9f3a\"],[0.8888888888888888,\"#fdca26\"],[1.0,\"#f0f921\"]],\"type\":\"histogram2dcontour\"}],\"histogram2d\":[{\"colorbar\":{\"outlinewidth\":0,\"ticks\":\"\"},\"colorscale\":[[0.0,\"#0d0887\"],[0.1111111111111111,\"#46039f\"],[0.2222222222222222,\"#7201a8\"],[0.3333333333333333,\"#9c179e\"],[0.4444444444444444,\"#bd3786\"],[0.5555555555555556,\"#d8576b\"],[0.6666666666666666,\"#ed7953\"],[0.7777777777777778,\"#fb9f3a\"],[0.8888888888888888,\"#fdca26\"],[1.0,\"#f0f921\"]],\"type\":\"histogram2d\"}],\"histogram\":[{\"marker\":{\"pattern\":{\"fillmode\":\"overlay\",\"size\":10,\"solidity\":0.2}},\"type\":\"histogram\"}],\"mesh3d\":[{\"colorbar\":{\"outlinewidth\":0,\"ticks\":\"\"},\"type\":\"mesh3d\"}],\"parcoords\":[{\"line\":{\"colorbar\":{\"outlinewidth\":0,\"ticks\":\"\"}},\"type\":\"parcoords\"}],\"pie\":[{\"automargin\":true,\"type\":\"pie\"}],\"scatter3d\":[{\"line\":{\"colorbar\":{\"outlinewidth\":0,\"ticks\":\"\"}},\"marker\":{\"colorbar\":{\"outlinewidth\":0,\"ticks\":\"\"}},\"type\":\"scatter3d\"}],\"scattercarpet\":[{\"marker\":{\"colorbar\":{\"outlinewidth\":0,\"ticks\":\"\"}},\"type\":\"scattercarpet\"}],\"scattergeo\":[{\"marker\":{\"colorbar\":{\"outlinewidth\":0,\"ticks\":\"\"}},\"type\":\"scattergeo\"}],\"scattergl\":[{\"marker\":{\"colorbar\":{\"outlinewidth\":0,\"ticks\":\"\"}},\"type\":\"scattergl\"}],\"scattermapbox\":[{\"marker\":{\"colorbar\":{\"outlinewidth\":0,\"ticks\":\"\"}},\"type\":\"scattermapbox\"}],\"scatterpolargl\":[{\"marker\":{\"colorbar\":{\"outlinewidth\":0,\"ticks\":\"\"}},\"type\":\"scatterpolargl\"}],\"scatterpolar\":[{\"marker\":{\"colorbar\":{\"outlinewidth\":0,\"ticks\":\"\"}},\"type\":\"scatterpolar\"}],\"scatter\":[{\"fillpattern\":{\"fillmode\":\"overlay\",\"size\":10,\"solidity\":0.2},\"type\":\"scatter\"}],\"scatterternary\":[{\"marker\":{\"colorbar\":{\"outlinewidth\":0,\"ticks\":\"\"}},\"type\":\"scatterternary\"}],\"surface\":[{\"colorbar\":{\"outlinewidth\":0,\"ticks\":\"\"},\"colorscale\":[[0.0,\"#0d0887\"],[0.1111111111111111,\"#46039f\"],[0.2222222222222222,\"#7201a8\"],[0.3333333333333333,\"#9c179e\"],[0.4444444444444444,\"#bd3786\"],[0.5555555555555556,\"#d8576b\"],[0.6666666666666666,\"#ed7953\"],[0.7777777777777778,\"#fb9f3a\"],[0.8888888888888888,\"#fdca26\"],[1.0,\"#f0f921\"]],\"type\":\"surface\"}],\"table\":[{\"cells\":{\"fill\":{\"color\":\"#EBF0F8\"},\"line\":{\"color\":\"white\"}},\"header\":{\"fill\":{\"color\":\"#C8D4E3\"},\"line\":{\"color\":\"white\"}},\"type\":\"table\"}]},\"layout\":{\"annotationdefaults\":{\"arrowcolor\":\"#2a3f5f\",\"arrowhead\":0,\"arrowwidth\":1},\"autotypenumbers\":\"strict\",\"coloraxis\":{\"colorbar\":{\"outlinewidth\":0,\"ticks\":\"\"}},\"colorscale\":{\"diverging\":[[0,\"#8e0152\"],[0.1,\"#c51b7d\"],[0.2,\"#de77ae\"],[0.3,\"#f1b6da\"],[0.4,\"#fde0ef\"],[0.5,\"#f7f7f7\"],[0.6,\"#e6f5d0\"],[0.7,\"#b8e186\"],[0.8,\"#7fbc41\"],[0.9,\"#4d9221\"],[1,\"#276419\"]],\"sequential\":[[0.0,\"#0d0887\"],[0.1111111111111111,\"#46039f\"],[0.2222222222222222,\"#7201a8\"],[0.3333333333333333,\"#9c179e\"],[0.4444444444444444,\"#bd3786\"],[0.5555555555555556,\"#d8576b\"],[0.6666666666666666,\"#ed7953\"],[0.7777777777777778,\"#fb9f3a\"],[0.8888888888888888,\"#fdca26\"],[1.0,\"#f0f921\"]],\"sequentialminus\":[[0.0,\"#0d0887\"],[0.1111111111111111,\"#46039f\"],[0.2222222222222222,\"#7201a8\"],[0.3333333333333333,\"#9c179e\"],[0.4444444444444444,\"#bd3786\"],[0.5555555555555556,\"#d8576b\"],[0.6666666666666666,\"#ed7953\"],[0.7777777777777778,\"#fb9f3a\"],[0.8888888888888888,\"#fdca26\"],[1.0,\"#f0f921\"]]},\"colorway\":[\"#636efa\",\"#EF553B\",\"#00cc96\",\"#ab63fa\",\"#FFA15A\",\"#19d3f3\",\"#FF6692\",\"#B6E880\",\"#FF97FF\",\"#FECB52\"],\"font\":{\"color\":\"#2a3f5f\"},\"geo\":{\"bgcolor\":\"white\",\"lakecolor\":\"white\",\"landcolor\":\"white\",\"showlakes\":true,\"showland\":true,\"subunitcolor\":\"#C8D4E3\"},\"hoverlabel\":{\"align\":\"left\"},\"hovermode\":\"closest\",\"mapbox\":{\"style\":\"light\"},\"paper_bgcolor\":\"white\",\"plot_bgcolor\":\"white\",\"polar\":{\"angularaxis\":{\"gridcolor\":\"#EBF0F8\",\"linecolor\":\"#EBF0F8\",\"ticks\":\"\"},\"bgcolor\":\"white\",\"radialaxis\":{\"gridcolor\":\"#EBF0F8\",\"linecolor\":\"#EBF0F8\",\"ticks\":\"\"}},\"scene\":{\"xaxis\":{\"backgroundcolor\":\"white\",\"gridcolor\":\"#DFE8F3\",\"gridwidth\":2,\"linecolor\":\"#EBF0F8\",\"showbackground\":true,\"ticks\":\"\",\"zerolinecolor\":\"#EBF0F8\"},\"yaxis\":{\"backgroundcolor\":\"white\",\"gridcolor\":\"#DFE8F3\",\"gridwidth\":2,\"linecolor\":\"#EBF0F8\",\"showbackground\":true,\"ticks\":\"\",\"zerolinecolor\":\"#EBF0F8\"},\"zaxis\":{\"backgroundcolor\":\"white\",\"gridcolor\":\"#DFE8F3\",\"gridwidth\":2,\"linecolor\":\"#EBF0F8\",\"showbackground\":true,\"ticks\":\"\",\"zerolinecolor\":\"#EBF0F8\"}},\"shapedefaults\":{\"line\":{\"color\":\"#2a3f5f\"}},\"ternary\":{\"aaxis\":{\"gridcolor\":\"#DFE8F3\",\"linecolor\":\"#A2B1C6\",\"ticks\":\"\"},\"baxis\":{\"gridcolor\":\"#DFE8F3\",\"linecolor\":\"#A2B1C6\",\"ticks\":\"\"},\"bgcolor\":\"white\",\"caxis\":{\"gridcolor\":\"#DFE8F3\",\"linecolor\":\"#A2B1C6\",\"ticks\":\"\"}},\"title\":{\"x\":0.05},\"xaxis\":{\"automargin\":true,\"gridcolor\":\"#EBF0F8\",\"linecolor\":\"#EBF0F8\",\"ticks\":\"\",\"title\":{\"standoff\":15},\"zerolinecolor\":\"#EBF0F8\",\"zerolinewidth\":2},\"yaxis\":{\"automargin\":true,\"gridcolor\":\"#EBF0F8\",\"linecolor\":\"#EBF0F8\",\"ticks\":\"\",\"title\":{\"standoff\":15},\"zerolinecolor\":\"#EBF0F8\",\"zerolinewidth\":2}}},\"xaxis\":{\"anchor\":\"y\",\"domain\":[0.0,1.0],\"title\":{\"text\":\"region\"}},\"yaxis\":{\"anchor\":\"x\",\"domain\":[0.0,1.0],\"title\":{\"text\":\"num cases\"}},\"legend\":{\"tracegroupgap\":0},\"margin\":{\"t\":60},\"showlegend\":false},                        {\"responsive\": true}                    ).then(function(){\n",
              "                            \n",
              "var gd = document.getElementById('e25b43cf-37af-41c5-9f4b-c51cc261ac80');\n",
              "var x = new MutationObserver(function (mutations, observer) {{\n",
              "        var display = window.getComputedStyle(gd).display;\n",
              "        if (!display || display === 'none') {{\n",
              "            console.log([gd, 'removed!']);\n",
              "            Plotly.purge(gd);\n",
              "            observer.disconnect();\n",
              "        }}\n",
              "}});\n",
              "\n",
              "// Listen for the removal of the full notebook cells\n",
              "var notebookContainer = gd.closest('#notebook-container');\n",
              "if (notebookContainer) {{\n",
              "    x.observe(notebookContainer, {childList: true});\n",
              "}}\n",
              "\n",
              "// Listen for the clearing of the current output cell\n",
              "var outputEl = gd.closest('.output');\n",
              "if (outputEl) {{\n",
              "    x.observe(outputEl, {childList: true});\n",
              "}}\n",
              "\n",
              "                        })                };                            </script>        </div>\n",
              "</body>\n",
              "</html>"
            ]
          },
          "metadata": {},
          "output_type": "display_data"
        }
      ],
      "source": [
        "# Plotting\n",
        "plot_process(agg_gp_draws)"
      ]
    },
    {
      "cell_type": "markdown",
      "metadata": {
        "id": "24YH-_biUJG4"
      },
      "source": [
        "##Hyperparameter Tuning"
      ]
    },
    {
      "cell_type": "code",
      "execution_count": null,
      "metadata": {
        "colab": {
          "base_uri": "https://localhost:8080/"
        },
        "id": "Ldon-7FAUM1i",
        "outputId": "466e11c6-4c95-4a56-e370-73d1f7ff242d"
      },
      "outputs": [
        {
          "name": "stdout",
          "output_type": "stream",
          "text": [
            "Training with hidden_dim=20, z_dim=20\n",
            "Epoch: 0, Train Loss: 129.60, Test Loss: 1.30 (40.56 s)\n",
            "Epoch: 1, Train Loss: 129.64, Test Loss: 1.30 (33.32 s)\n",
            "Epoch: 2, Train Loss: 129.69, Test Loss: 1.29 (32.33 s)\n",
            "Epoch: 3, Train Loss: 129.67, Test Loss: 1.30 (30.45 s)\n",
            "Epoch: 4, Train Loss: 129.75, Test Loss: 1.29 (31.71 s)\n",
            "Epoch: 5, Train Loss: 129.70, Test Loss: 1.30 (32.21 s)\n",
            "Epoch: 6, Train Loss: 129.62, Test Loss: 1.30 (33.25 s)\n",
            "Epoch: 7, Train Loss: 129.69, Test Loss: 1.30 (32.00 s)\n",
            "Epoch: 8, Train Loss: 129.75, Test Loss: 1.30 (38.55 s)\n",
            "Epoch: 9, Train Loss: 129.69, Test Loss: 1.30 (38.41 s)\n",
            "Epoch: 10, Train Loss: 129.66, Test Loss: 1.30 (35.74 s)\n",
            "Epoch: 11, Train Loss: 129.67, Test Loss: 1.30 (33.52 s)\n",
            "Epoch: 12, Train Loss: 129.77, Test Loss: 1.29 (30.16 s)\n",
            "Epoch: 13, Train Loss: 129.63, Test Loss: 1.30 (36.50 s)\n",
            "Epoch: 14, Train Loss: 129.75, Test Loss: 1.30 (37.48 s)\n",
            "Epoch: 15, Train Loss: 129.71, Test Loss: 1.29 (37.67 s)\n",
            "Epoch: 16, Train Loss: 129.64, Test Loss: 1.30 (32.98 s)\n",
            "Epoch: 17, Train Loss: 129.59, Test Loss: 1.30 (39.59 s)\n",
            "Epoch: 18, Train Loss: 129.67, Test Loss: 1.30 (32.64 s)\n",
            "Epoch: 19, Train Loss: 129.69, Test Loss: 1.30 (32.64 s)\n",
            "Final Test loss for hidden_dim=20, z_dim=20: 1.2995095252990723\n",
            "Mean Test loss for hidden_dim=20, z_dim=20: 1.2968270778656006\n",
            "Training with hidden_dim=20, z_dim=30\n",
            "Epoch: 0, Train Loss: 129.62, Test Loss: 1.30 (41.09 s)\n",
            "Epoch: 1, Train Loss: 129.63, Test Loss: 1.30 (37.80 s)\n",
            "Epoch: 2, Train Loss: 129.68, Test Loss: 1.29 (35.38 s)\n",
            "Epoch: 3, Train Loss: 129.66, Test Loss: 1.30 (31.26 s)\n",
            "Epoch: 4, Train Loss: 129.73, Test Loss: 1.30 (34.17 s)\n",
            "Epoch: 5, Train Loss: 129.71, Test Loss: 1.29 (30.73 s)\n",
            "Epoch: 6, Train Loss: 129.62, Test Loss: 1.30 (32.56 s)\n",
            "Epoch: 7, Train Loss: 129.70, Test Loss: 1.30 (33.87 s)\n",
            "Epoch: 8, Train Loss: 129.76, Test Loss: 1.30 (34.94 s)\n",
            "Epoch: 9, Train Loss: 129.70, Test Loss: 1.30 (38.44 s)\n",
            "Epoch: 10, Train Loss: 129.69, Test Loss: 1.30 (34.62 s)\n",
            "Epoch: 11, Train Loss: 129.65, Test Loss: 1.29 (38.92 s)\n",
            "Epoch: 12, Train Loss: 129.74, Test Loss: 1.30 (40.56 s)\n",
            "Epoch: 13, Train Loss: 129.63, Test Loss: 1.30 (37.81 s)\n",
            "Epoch: 14, Train Loss: 129.77, Test Loss: 1.30 (34.59 s)\n",
            "Epoch: 15, Train Loss: 129.70, Test Loss: 1.30 (32.02 s)\n",
            "Epoch: 16, Train Loss: 129.68, Test Loss: 1.30 (36.05 s)\n",
            "Epoch: 17, Train Loss: 129.58, Test Loss: 1.30 (29.73 s)\n",
            "Epoch: 18, Train Loss: 129.67, Test Loss: 1.30 (38.69 s)\n",
            "Epoch: 19, Train Loss: 129.72, Test Loss: 1.30 (33.51 s)\n",
            "Final Test loss for hidden_dim=20, z_dim=30: 1.2964059114456177\n",
            "Mean Test loss for hidden_dim=20, z_dim=30: 1.2972986698150635\n",
            "Training with hidden_dim=20, z_dim=40\n",
            "Epoch: 0, Train Loss: 129.59, Test Loss: 1.30 (37.98 s)\n",
            "Epoch: 1, Train Loss: 129.67, Test Loss: 1.30 (36.57 s)\n",
            "Epoch: 2, Train Loss: 129.67, Test Loss: 1.30 (31.33 s)\n",
            "Epoch: 3, Train Loss: 129.71, Test Loss: 1.30 (39.01 s)\n",
            "Epoch: 4, Train Loss: 129.77, Test Loss: 1.30 (32.92 s)\n",
            "Epoch: 5, Train Loss: 129.71, Test Loss: 1.29 (30.88 s)\n",
            "Epoch: 6, Train Loss: 129.63, Test Loss: 1.30 (32.03 s)\n",
            "Epoch: 7, Train Loss: 129.69, Test Loss: 1.30 (38.02 s)\n",
            "Epoch: 8, Train Loss: 129.75, Test Loss: 1.30 (33.79 s)\n",
            "Epoch: 9, Train Loss: 129.75, Test Loss: 1.29 (35.84 s)\n",
            "Epoch: 10, Train Loss: 129.69, Test Loss: 1.29 (32.65 s)\n",
            "Epoch: 11, Train Loss: 129.68, Test Loss: 1.30 (33.47 s)\n",
            "Epoch: 12, Train Loss: 129.78, Test Loss: 1.30 (31.14 s)\n",
            "Epoch: 13, Train Loss: 129.68, Test Loss: 1.30 (35.04 s)\n",
            "Epoch: 14, Train Loss: 129.77, Test Loss: 1.30 (33.90 s)\n",
            "Epoch: 15, Train Loss: 129.70, Test Loss: 1.30 (37.67 s)\n",
            "Epoch: 16, Train Loss: 129.71, Test Loss: 1.30 (34.01 s)\n",
            "Epoch: 17, Train Loss: 129.60, Test Loss: 1.30 (32.79 s)\n",
            "Epoch: 18, Train Loss: 129.70, Test Loss: 1.30 (30.96 s)\n",
            "Epoch: 19, Train Loss: 129.69, Test Loss: 1.29 (38.38 s)\n",
            "Final Test loss for hidden_dim=20, z_dim=40: 1.293931245803833\n",
            "Mean Test loss for hidden_dim=20, z_dim=40: 1.2969086170196533\n",
            "Training with hidden_dim=20, z_dim=50\n",
            "Epoch: 0, Train Loss: 129.62, Test Loss: 1.30 (43.53 s)\n",
            "Epoch: 1, Train Loss: 129.64, Test Loss: 1.30 (33.05 s)\n",
            "Epoch: 2, Train Loss: 129.70, Test Loss: 1.30 (33.04 s)\n",
            "Epoch: 3, Train Loss: 129.70, Test Loss: 1.30 (37.42 s)\n",
            "Epoch: 4, Train Loss: 129.78, Test Loss: 1.30 (38.73 s)\n",
            "Epoch: 5, Train Loss: 129.67, Test Loss: 1.30 (33.93 s)\n",
            "Epoch: 6, Train Loss: 129.67, Test Loss: 1.30 (36.48 s)\n",
            "Epoch: 7, Train Loss: 129.69, Test Loss: 1.30 (35.53 s)\n",
            "Epoch: 8, Train Loss: 129.76, Test Loss: 1.29 (36.07 s)\n",
            "Epoch: 9, Train Loss: 129.76, Test Loss: 1.30 (33.13 s)\n",
            "Epoch: 10, Train Loss: 129.67, Test Loss: 1.30 (35.78 s)\n",
            "Epoch: 11, Train Loss: 129.69, Test Loss: 1.30 (35.86 s)\n",
            "Epoch: 12, Train Loss: 129.76, Test Loss: 1.29 (32.69 s)\n",
            "Epoch: 13, Train Loss: 129.68, Test Loss: 1.30 (34.29 s)\n",
            "Epoch: 14, Train Loss: 129.77, Test Loss: 1.30 (33.88 s)\n",
            "Epoch: 15, Train Loss: 129.72, Test Loss: 1.30 (32.42 s)\n",
            "Epoch: 16, Train Loss: 129.67, Test Loss: 1.30 (34.27 s)\n",
            "Epoch: 17, Train Loss: 129.59, Test Loss: 1.30 (34.08 s)\n",
            "Epoch: 18, Train Loss: 129.70, Test Loss: 1.30 (36.05 s)\n",
            "Epoch: 19, Train Loss: 129.74, Test Loss: 1.29 (34.73 s)\n",
            "Final Test loss for hidden_dim=20, z_dim=50: 1.2943055629730225\n",
            "Mean Test loss for hidden_dim=20, z_dim=50: 1.297315001487732\n",
            "Training with hidden_dim=30, z_dim=20\n",
            "Epoch: 0, Train Loss: 129.60, Test Loss: 1.30 (42.27 s)\n",
            "Epoch: 1, Train Loss: 129.64, Test Loss: 1.30 (32.45 s)\n",
            "Epoch: 2, Train Loss: 129.69, Test Loss: 1.29 (35.10 s)\n",
            "Epoch: 3, Train Loss: 129.68, Test Loss: 1.30 (32.91 s)\n",
            "Epoch: 4, Train Loss: 129.75, Test Loss: 1.29 (33.96 s)\n",
            "Epoch: 5, Train Loss: 129.70, Test Loss: 1.30 (37.81 s)\n",
            "Epoch: 6, Train Loss: 129.62, Test Loss: 1.30 (31.08 s)\n",
            "Epoch: 7, Train Loss: 129.70, Test Loss: 1.30 (33.24 s)\n",
            "Epoch: 8, Train Loss: 129.76, Test Loss: 1.30 (33.50 s)\n",
            "Epoch: 9, Train Loss: 129.69, Test Loss: 1.30 (37.79 s)\n",
            "Epoch: 10, Train Loss: 129.66, Test Loss: 1.30 (35.28 s)\n",
            "Epoch: 11, Train Loss: 129.67, Test Loss: 1.30 (34.26 s)\n",
            "Epoch: 12, Train Loss: 129.77, Test Loss: 1.29 (35.56 s)\n",
            "Epoch: 13, Train Loss: 129.63, Test Loss: 1.30 (37.41 s)\n",
            "Epoch: 14, Train Loss: 129.75, Test Loss: 1.30 (32.31 s)\n",
            "Epoch: 15, Train Loss: 129.71, Test Loss: 1.29 (36.79 s)\n",
            "Epoch: 16, Train Loss: 129.65, Test Loss: 1.30 (35.23 s)\n",
            "Epoch: 17, Train Loss: 129.59, Test Loss: 1.30 (33.98 s)\n",
            "Epoch: 18, Train Loss: 129.68, Test Loss: 1.30 (35.26 s)\n",
            "Epoch: 19, Train Loss: 129.69, Test Loss: 1.30 (36.27 s)\n",
            "Final Test loss for hidden_dim=30, z_dim=20: 1.2997791767120361\n",
            "Mean Test loss for hidden_dim=30, z_dim=20: 1.296851634979248\n",
            "Training with hidden_dim=30, z_dim=30\n",
            "Epoch: 0, Train Loss: 129.62, Test Loss: 1.30 (38.41 s)\n",
            "Epoch: 1, Train Loss: 129.63, Test Loss: 1.30 (33.24 s)\n",
            "Epoch: 2, Train Loss: 129.69, Test Loss: 1.29 (33.63 s)\n",
            "Epoch: 3, Train Loss: 129.66, Test Loss: 1.30 (32.93 s)\n",
            "Epoch: 4, Train Loss: 129.73, Test Loss: 1.30 (32.32 s)\n",
            "Epoch: 5, Train Loss: 129.71, Test Loss: 1.29 (38.57 s)\n",
            "Epoch: 6, Train Loss: 129.62, Test Loss: 1.30 (34.77 s)\n",
            "Epoch: 7, Train Loss: 129.70, Test Loss: 1.30 (38.67 s)\n",
            "Epoch: 8, Train Loss: 129.76, Test Loss: 1.30 (32.59 s)\n",
            "Epoch: 9, Train Loss: 129.70, Test Loss: 1.30 (34.60 s)\n",
            "Epoch: 10, Train Loss: 129.69, Test Loss: 1.30 (38.51 s)\n",
            "Epoch: 11, Train Loss: 129.65, Test Loss: 1.29 (31.99 s)\n",
            "Epoch: 12, Train Loss: 129.74, Test Loss: 1.30 (34.01 s)\n",
            "Epoch: 13, Train Loss: 129.64, Test Loss: 1.30 (37.02 s)\n",
            "Epoch: 14, Train Loss: 129.78, Test Loss: 1.30 (36.11 s)\n",
            "Epoch: 15, Train Loss: 129.71, Test Loss: 1.30 (39.25 s)\n",
            "Epoch: 16, Train Loss: 129.68, Test Loss: 1.30 (34.53 s)\n",
            "Epoch: 17, Train Loss: 129.59, Test Loss: 1.30 (37.24 s)\n",
            "Epoch: 18, Train Loss: 129.67, Test Loss: 1.30 (31.39 s)\n",
            "Epoch: 19, Train Loss: 129.72, Test Loss: 1.30 (34.30 s)\n",
            "Final Test loss for hidden_dim=30, z_dim=30: 1.2964383363723755\n",
            "Mean Test loss for hidden_dim=30, z_dim=30: 1.297353744506836\n",
            "Training with hidden_dim=30, z_dim=40\n",
            "Epoch: 0, Train Loss: 129.59, Test Loss: 1.30 (39.47 s)\n",
            "Epoch: 1, Train Loss: 129.68, Test Loss: 1.30 (33.38 s)\n",
            "Epoch: 2, Train Loss: 129.67, Test Loss: 1.30 (32.26 s)\n",
            "Epoch: 3, Train Loss: 129.71, Test Loss: 1.30 (34.85 s)\n",
            "Epoch: 4, Train Loss: 129.77, Test Loss: 1.30 (31.09 s)\n",
            "Epoch: 5, Train Loss: 129.71, Test Loss: 1.29 (33.91 s)\n",
            "Epoch: 6, Train Loss: 129.63, Test Loss: 1.30 (30.74 s)\n",
            "Epoch: 7, Train Loss: 129.69, Test Loss: 1.30 (33.32 s)\n",
            "Epoch: 8, Train Loss: 129.75, Test Loss: 1.30 (33.84 s)\n",
            "Epoch: 9, Train Loss: 129.75, Test Loss: 1.29 (33.72 s)\n",
            "Epoch: 10, Train Loss: 129.69, Test Loss: 1.30 (32.60 s)\n",
            "Epoch: 11, Train Loss: 129.67, Test Loss: 1.30 (34.38 s)\n",
            "Epoch: 12, Train Loss: 129.78, Test Loss: 1.30 (33.82 s)\n",
            "Epoch: 13, Train Loss: 129.68, Test Loss: 1.30 (36.82 s)\n",
            "Epoch: 14, Train Loss: 129.77, Test Loss: 1.30 (35.31 s)\n",
            "Epoch: 15, Train Loss: 129.71, Test Loss: 1.30 (33.90 s)\n",
            "Epoch: 16, Train Loss: 129.71, Test Loss: 1.30 (36.08 s)\n",
            "Epoch: 17, Train Loss: 129.60, Test Loss: 1.30 (33.61 s)\n",
            "Epoch: 18, Train Loss: 129.70, Test Loss: 1.30 (35.24 s)\n",
            "Epoch: 19, Train Loss: 129.69, Test Loss: 1.29 (33.95 s)\n",
            "Final Test loss for hidden_dim=30, z_dim=40: 1.293789029121399\n",
            "Mean Test loss for hidden_dim=30, z_dim=40: 1.2969043254852295\n",
            "Training with hidden_dim=30, z_dim=50\n",
            "Epoch: 0, Train Loss: 129.62, Test Loss: 1.30 (39.16 s)\n",
            "Epoch: 1, Train Loss: 129.64, Test Loss: 1.30 (34.69 s)\n",
            "Epoch: 2, Train Loss: 129.70, Test Loss: 1.30 (34.64 s)\n",
            "Epoch: 3, Train Loss: 129.70, Test Loss: 1.30 (36.81 s)\n",
            "Epoch: 4, Train Loss: 129.79, Test Loss: 1.30 (36.12 s)\n",
            "Epoch: 5, Train Loss: 129.68, Test Loss: 1.30 (33.35 s)\n",
            "Epoch: 6, Train Loss: 129.67, Test Loss: 1.30 (33.71 s)\n",
            "Epoch: 7, Train Loss: 129.70, Test Loss: 1.30 (31.91 s)\n",
            "Epoch: 8, Train Loss: 129.76, Test Loss: 1.29 (35.07 s)\n",
            "Epoch: 9, Train Loss: 129.76, Test Loss: 1.30 (30.87 s)\n",
            "Epoch: 10, Train Loss: 129.67, Test Loss: 1.30 (36.54 s)\n",
            "Epoch: 11, Train Loss: 129.70, Test Loss: 1.30 (35.29 s)\n",
            "Epoch: 12, Train Loss: 129.77, Test Loss: 1.29 (36.68 s)\n",
            "Epoch: 13, Train Loss: 129.69, Test Loss: 1.30 (37.16 s)\n",
            "Epoch: 14, Train Loss: 129.77, Test Loss: 1.30 (32.80 s)\n",
            "Epoch: 15, Train Loss: 129.73, Test Loss: 1.30 (37.24 s)\n",
            "Epoch: 16, Train Loss: 129.68, Test Loss: 1.30 (34.49 s)\n",
            "Epoch: 17, Train Loss: 129.59, Test Loss: 1.30 (32.95 s)\n",
            "Epoch: 18, Train Loss: 129.70, Test Loss: 1.30 (34.08 s)\n",
            "Epoch: 19, Train Loss: 129.75, Test Loss: 1.29 (33.01 s)\n",
            "Final Test loss for hidden_dim=30, z_dim=50: 1.2944155931472778\n",
            "Mean Test loss for hidden_dim=30, z_dim=50: 1.2973623275756836\n",
            "Training with hidden_dim=40, z_dim=20\n",
            "Epoch: 0, Train Loss: 129.60, Test Loss: 1.30 (36.46 s)\n",
            "Epoch: 1, Train Loss: 129.64, Test Loss: 1.30 (34.79 s)\n",
            "Epoch: 2, Train Loss: 129.69, Test Loss: 1.29 (34.74 s)\n",
            "Epoch: 3, Train Loss: 129.68, Test Loss: 1.30 (31.49 s)\n",
            "Epoch: 4, Train Loss: 129.76, Test Loss: 1.29 (31.81 s)\n",
            "Epoch: 5, Train Loss: 129.70, Test Loss: 1.30 (33.52 s)\n",
            "Epoch: 6, Train Loss: 129.62, Test Loss: 1.30 (33.87 s)\n",
            "Epoch: 7, Train Loss: 129.69, Test Loss: 1.30 (35.39 s)\n",
            "Epoch: 8, Train Loss: 129.76, Test Loss: 1.30 (36.30 s)\n",
            "Epoch: 9, Train Loss: 129.69, Test Loss: 1.30 (33.38 s)\n",
            "Epoch: 10, Train Loss: 129.66, Test Loss: 1.30 (35.19 s)\n",
            "Epoch: 11, Train Loss: 129.67, Test Loss: 1.30 (34.39 s)\n",
            "Epoch: 12, Train Loss: 129.77, Test Loss: 1.29 (31.86 s)\n",
            "Epoch: 13, Train Loss: 129.63, Test Loss: 1.30 (35.17 s)\n",
            "Epoch: 14, Train Loss: 129.76, Test Loss: 1.30 (33.18 s)\n",
            "Epoch: 15, Train Loss: 129.72, Test Loss: 1.29 (34.61 s)\n",
            "Epoch: 16, Train Loss: 129.65, Test Loss: 1.30 (30.64 s)\n",
            "Epoch: 17, Train Loss: 129.59, Test Loss: 1.30 (34.60 s)\n",
            "Epoch: 18, Train Loss: 129.68, Test Loss: 1.30 (32.64 s)\n",
            "Epoch: 19, Train Loss: 129.69, Test Loss: 1.30 (33.43 s)\n",
            "Final Test loss for hidden_dim=40, z_dim=20: 1.2998257875442505\n",
            "Mean Test loss for hidden_dim=40, z_dim=20: 1.2968658208847046\n",
            "Training with hidden_dim=40, z_dim=30\n",
            "Epoch: 0, Train Loss: 129.62, Test Loss: 1.30 (38.41 s)\n",
            "Epoch: 1, Train Loss: 129.63, Test Loss: 1.30 (32.82 s)\n",
            "Epoch: 2, Train Loss: 129.69, Test Loss: 1.29 (35.25 s)\n",
            "Epoch: 3, Train Loss: 129.66, Test Loss: 1.30 (29.35 s)\n",
            "Epoch: 4, Train Loss: 129.74, Test Loss: 1.30 (32.57 s)\n",
            "Epoch: 5, Train Loss: 129.71, Test Loss: 1.29 (31.49 s)\n",
            "Epoch: 6, Train Loss: 129.62, Test Loss: 1.30 (35.48 s)\n",
            "Epoch: 7, Train Loss: 129.70, Test Loss: 1.30 (33.39 s)\n",
            "Epoch: 8, Train Loss: 129.76, Test Loss: 1.30 (32.53 s)\n",
            "Epoch: 9, Train Loss: 129.70, Test Loss: 1.30 (32.02 s)\n",
            "Epoch: 10, Train Loss: 129.69, Test Loss: 1.30 (37.96 s)\n",
            "Epoch: 11, Train Loss: 129.65, Test Loss: 1.29 (34.17 s)\n",
            "Epoch: 12, Train Loss: 129.74, Test Loss: 1.30 (30.58 s)\n",
            "Epoch: 13, Train Loss: 129.64, Test Loss: 1.30 (29.79 s)\n",
            "Epoch: 14, Train Loss: 129.78, Test Loss: 1.30 (32.44 s)\n",
            "Epoch: 15, Train Loss: 129.71, Test Loss: 1.30 (32.57 s)\n",
            "Epoch: 16, Train Loss: 129.68, Test Loss: 1.30 (33.65 s)\n",
            "Epoch: 17, Train Loss: 129.59, Test Loss: 1.30 (32.18 s)\n",
            "Epoch: 18, Train Loss: 129.67, Test Loss: 1.30 (40.87 s)\n",
            "Epoch: 19, Train Loss: 129.72, Test Loss: 1.30 (35.23 s)\n",
            "Final Test loss for hidden_dim=40, z_dim=30: 1.296520709991455\n",
            "Mean Test loss for hidden_dim=40, z_dim=30: 1.2974079847335815\n",
            "Training with hidden_dim=40, z_dim=40\n",
            "Epoch: 0, Train Loss: 129.59, Test Loss: 1.30 (38.80 s)\n",
            "Epoch: 1, Train Loss: 129.68, Test Loss: 1.30 (30.95 s)\n"
          ]
        }
      ],
      "source": [
        "# Define hyperparameter grid\n",
        "hidden_dims = [20, 30, 40, 50]\n",
        "z_dims = [20, 30, 40, 50]\n",
        "\n",
        "# Store results\n",
        "test_loss_results_final = {}\n",
        "test_loss_results_mean = {}\n",
        "\n",
        "num_train = args[\"num_train\"]\n",
        "num_test = args[\"num_test\"]\n",
        "num_epochs = args[\"num_epochs\"]\n",
        "\n",
        "for hidden_dim, z_dim in itertools.product(hidden_dims, z_dims):\n",
        "    print(f\"Training with hidden_dim={hidden_dim}, z_dim={z_dim}\")\n",
        "\n",
        "    args[\"hidden_dim\"] = hidden_dim\n",
        "    args[\"z_dim\"] = z_dim\n",
        "\n",
        "    # Initialize optimizer and SVI\n",
        "    adam = numpyro.optim.Adam(step_size=args[\"learning_rate\"])\n",
        "    svi = SVI(\n",
        "        vae_model,\n",
        "        vae_guide,\n",
        "        adam,\n",
        "        RenyiELBO(),\n",
        "        hidden_dim=hidden_dim,\n",
        "        z_dim=z_dim\n",
        "    )\n",
        "\n",
        "    # Split RNG keys\n",
        "    rng_key, rng_key_samp, rng_key_init = random.split(args[\"rng_key\"], 3)\n",
        "    init_batch = agg_gp_predictive(rng_key_samp, args)[\"gp_aggr\"]\n",
        "\n",
        "    # Initialize SVI state\n",
        "    svi_state = svi.init(rng_key_init, init_batch)\n",
        "\n",
        "    # Pre-allocate test loss array\n",
        "    test_loss_list = jnp.zeros(num_epochs)\n",
        "\n",
        "    # Training loop\n",
        "    for epoch in range(num_epochs):\n",
        "        rng_key, rng_key_train, rng_key_test = random.split(rng_key, 3)\n",
        "        t_start = time.time()\n",
        "\n",
        "        train_loss, svi_state = epoch_train(rng_key_train, svi_state, num_train)\n",
        "        test_loss = eval_test(rng_key_test, svi_state, num_test)\n",
        "        test_loss_list = test_loss_list.at[epoch].set(test_loss)\n",
        "\n",
        "        print(f\"Epoch: {epoch}, Train Loss: {train_loss:.2f}, Test Loss: {test_loss:.2f} ({time.time() - t_start:.2f} s)\")\n",
        "\n",
        "        if math.isnan(test_loss):  # Stop early if NaN\n",
        "            print(f\"NaN encountered at hidden_dim={hidden_dim}, z_dim={z_dim}. Skipping...\")\n",
        "            break  # Stop training if NaN occurs\n",
        "\n",
        "    # Store results only if valid\n",
        "    if not math.isnan(test_loss_list[-1]):\n",
        "        test_loss_results_final[(hidden_dim, z_dim)] = test_loss_list[-1]\n",
        "        test_loss_results_mean[(hidden_dim, z_dim)] = jnp.nanmean(test_loss_list)\n",
        "        print(f\"Final Test loss for hidden_dim={hidden_dim}, z_dim={z_dim}: {test_loss_list[-1]}\")\n",
        "        print(f\"Mean Test loss for hidden_dim={hidden_dim}, z_dim={z_dim}: {jnp.nanmean(test_loss_list)}\")\n",
        "\n",
        "print(\"Grid search complete.\")\n",
        "print(\"Results:\", test_loss_results_final)\n",
        "print(\"Mean Test Loss Results:\", test_loss_results_mean)"
      ]
    },
    {
      "cell_type": "code",
      "execution_count": null,
      "metadata": {
        "id": "ROJghrFwVTFd"
      },
      "outputs": [],
      "source": [
        "print(test_loss_results_final)\n",
        "print(test_loss_results_mean)"
      ]
    },
    {
      "cell_type": "markdown",
      "metadata": {
        "id": "RQSdxxnaWn1g"
      },
      "source": [
        "### Optimal Hyperparams are 30 hidden dims and 40 latent dims\n"
      ]
    },
    {
      "cell_type": "markdown",
      "metadata": {
        "id": "Gb1HhnafTooi"
      },
      "source": [
        "##Initiate Training Loop with optimal hyperparams"
      ]
    },
    {
      "cell_type": "code",
      "execution_count": null,
      "metadata": {
        "id": "_NR2_Or-Tq_E"
      },
      "outputs": [],
      "source": [
        "adam = numpyro.optim.Adam(step_size = args[\"learning_rate\"])\n",
        "svi = SVI(\n",
        "        vae_model,\n",
        "        vae_guide,\n",
        "        adam,\n",
        "        RenyiELBO(),\n",
        "        hidden_dim = args[\"hidden_dim\"],\n",
        "        z_dim = args[\"z_dim\"]\n",
        "    )\n",
        "\n",
        "rng_key, rng_key_samp, rng_key_init = random.split(args[\"rng_key\"],3)\n",
        "#(num_samples, num_regions)\n",
        "init_batch = agg_gp_predictive(rng_key_, args)[\"gp_aggr\"] #(num_samples, num_regions) <- i.e (5,58)\n",
        "svi_state = svi.init(rng_key_init, init_batch)\n",
        "\n",
        "test_loss_list = []"
      ]
    },
    {
      "cell_type": "code",
      "execution_count": null,
      "metadata": {
        "id": "T77REeqrUXy7"
      },
      "outputs": [],
      "source": [
        "for i in range(args[\"num_epochs\"]):\n",
        "    rng_key, rng_key_train, rng_key_test, rng_key_infer = random.split(rng_key, 4)\n",
        "    t_start = time.time()\n",
        "\n",
        "    num_train = 1000\n",
        "    # Where forward/backward pass gets called for train\n",
        "    train_loss , svi_state = epoch_train(rng_key_train, svi_state, num_train)\n",
        "\n",
        "    num_test = 1000\n",
        "\n",
        "    # Where forward/backward pass gets called for test\n",
        "    test_loss = eval_test(rng_key_test, svi_state, num_test)\n",
        "    test_loss_list += [test_loss]\n",
        "\n",
        "    print(\"Epoch : {}, train loss : {:.2f}, test loss : {:.2f} ({:.2f} s.)\".format(i, train_loss, test_loss, time.time() - t_start))\n",
        "\n",
        "    if math.isnan(test_loss):\n",
        "        break"
      ]
    },
    {
      "cell_type": "code",
      "execution_count": null,
      "metadata": {
        "id": "eXgAJbgnUlCl"
      },
      "outputs": [],
      "source": [
        "#extract the decoder\n",
        "decoder_params = svi.get_params(svi_state)"
      ]
    },
    {
      "cell_type": "markdown",
      "metadata": {
        "id": "4fldbVSkT0RR"
      },
      "source": [
        "##Save the decoder"
      ]
    },
    {
      "cell_type": "code",
      "execution_count": null,
      "metadata": {
        "id": "v9zDJExcT1OB"
      },
      "outputs": [],
      "source": [
        "# Get script directory\n",
        "script_dir = os.getcwd()  # Get current working directory\n",
        "\n",
        "# Define the correct save path inside model_weights/\n",
        "save_dir = os.path.abspath(os.path.join(script_dir, \"..\", \"model_weights\", \"aggVAE\"))\n",
        "os.makedirs(save_dir, exist_ok=True)  # Ensure the directory exists\n",
        "\n",
        "# Save decoder parameters\n",
        "save_path = os.path.join(save_dir, f\"aggVAE_e{args['num_epochs']}_h{args['hidden_dim']}_z{args['z_dim']}\")\n",
        "\n",
        "with open(save_path, \"wb\") as file:\n",
        "    pickle.dump(decoder_params, file)\n",
        "\n",
        "print(f\"Decoder parameters saved to {save_path}\")"
      ]
    }
  ],
  "metadata": {
    "accelerator": "GPU",
    "colab": {
      "gpuType": "T4",
      "machine_shape": "hm",
      "provenance": []
    },
    "kernelspec": {
      "display_name": "Python 3",
      "name": "python3"
    },
    "language_info": {
      "name": "python"
    }
  },
  "nbformat": 4,
  "nbformat_minor": 0
}
