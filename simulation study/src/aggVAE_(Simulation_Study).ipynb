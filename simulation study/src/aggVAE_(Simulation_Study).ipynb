{
  "cells": [
    {
      "cell_type": "code",
      "execution_count": 1,
      "metadata": {
        "id": "nDjUgPoZOs5y"
      },
      "outputs": [
        {
          "name": "stderr",
          "output_type": "stream",
          "text": [
            "C:\\Users\\jessi\\AppData\\Roaming\\Python\\Python313\\site-packages\\tqdm\\auto.py:21: TqdmWarning: IProgress not found. Please update jupyter and ipywidgets. See https://ipywidgets.readthedocs.io/en/stable/user_install.html\n",
            "  from .autonotebook import tqdm as notebook_tqdm\n"
          ]
        }
      ],
      "source": [
        "import os\n",
        "import math\n",
        "import numpy as np\n",
        "\n",
        "import torch\n",
        "import time\n",
        "\n",
        "import itertools\n",
        "import jax\n",
        "import jax.numpy as jnp\n",
        "from jax import random, lax, jit, ops\n",
        "from jax.example_libraries import stax\n",
        "\n",
        "import numpyro\n",
        "from numpyro.infer import SVI, MCMC, NUTS, init_to_median, Predictive, RenyiELBO\n",
        "import numpyro.distributions as dist\n",
        "\n",
        "import geopandas as gpd\n",
        "import plotly.express as px\n",
        "\n",
        "from termcolor import colored\n",
        "\n",
        "import pickle"
      ]
    },
    {
      "cell_type": "code",
      "execution_count": 2,
      "metadata": {
        "id": "RWApQLwlTWKD"
      },
      "outputs": [],
      "source": [
        "#define the functions necessary\n",
        "def dist_euclid(x, z):\n",
        "    \"\"\"\n",
        "    Computes Eucledian Distance Between Regions. This function is used by\n",
        "    exp_sq_kernel function (kernel function for gaussian processes)\n",
        "    \"\"\"\n",
        "    x = jnp.array(x) # (ngrid_pts, lat/lon) \n",
        "    z = jnp.array(z) # (ngrid_pts, lat/lon)\n",
        "    if len(x.shape)==1:\n",
        "        x = x.reshape(x.shape[0], 1) #(2618,) \n",
        "    if len(z.shape)==1:\n",
        "        z = x.reshape(x.shape[0], 1) #(2618,) \n",
        "    n_x, m = x.shape \n",
        "    n_z, m_z = z.shape \n",
        "    assert m == m_z\n",
        "    delta = jnp.zeros((n_x,n_z)) #(ngrid_pts,ngrid_pts) \n",
        "    for d in jnp.arange(m):\n",
        "        x_d = x[:,d] #(ngrid_pts-lat/lon,) \n",
        "        z_d = z[:,d] #(ngrid_pts-lat/lon,) \n",
        "        delta += (x_d[:,jnp.newaxis] - z_d)**2\n",
        "\n",
        "    return jnp.sqrt(delta) #(7304,7304)\n",
        "\n",
        "def exp_sq_kernel(x, z, var, length, noise, jitter=1.0e-4):\n",
        "    dist = dist_euclid(x, z) #(7304, 7304)\n",
        "    deltaXsq = jnp.power(dist/ length, 2.0)\n",
        "    k = var * jnp.exp(-0.5 * deltaXsq)\n",
        "    k += (noise + jitter) * jnp.eye(x.shape[0])\n",
        "    return k # (ngrid_pts, ngrid_pts) \n",
        "\n",
        "def M_g(M, g):\n",
        "    '''\n",
        "    - $M$ is a matrix with binary entries $m_{ij},$ showing whether point $j$ is in polygon $i$\n",
        "    - $g$ is a vector of GP draws over grid\n",
        "    - $maltmul(M, g)$ gives a vector of sums over each polygon\n",
        "    '''\n",
        "    M = jnp.array(M)\n",
        "    g = jnp.array(g).T\n",
        "    return(jnp.matmul(M, g))"
      ]
    },
    {
      "cell_type": "markdown",
      "metadata": {
        "id": "AOpyAuFOQxOI"
      },
      "source": [
        "# AggVAE Model"
      ]
    },
    {
      "cell_type": "markdown",
      "metadata": {
        "id": "W35Bwle9YtgB"
      },
      "source": [
        "## Function for Predictive Simulation (Prior)"
      ]
    },
    {
      "cell_type": "code",
      "execution_count": 3,
      "metadata": {
        "id": "pqpibNNMYxp5"
      },
      "outputs": [],
      "source": [
        "def gp_aggr(args):\n",
        "    x = args[\"x\"]  # Spatial grid points: (num_grid_points, 2)\n",
        "    gp_kernel = args[\"gp_kernel\"]  # Gaussian Process kernel\n",
        "    noise = args[\"noise\"]\n",
        "    jitter = args[\"jitter\"]\n",
        "\n",
        "    M_lo= args[\"M_lo\"] \n",
        "    M_hi = args[\"M_hi\"] \n",
        "\n",
        "    # GP hyperparameters\n",
        "    kernel_length = numpyro.sample(\"kernel_length\", args[\"kernel_length\"])\n",
        "    kernel_var = numpyro.sample(\"kernel_var\", args[\"kernel_var\"])\n",
        "\n",
        "    # GP Kernel and Sample\n",
        "    k = gp_kernel(x, x, kernel_var, kernel_length, noise, jitter)\n",
        "    f = numpyro.sample(\"f\", dist.MultivariateNormal(loc=jnp.zeros(x.shape[0]), covariance_matrix=k))  # (num_grid_points,)\n",
        "\n",
        "    #aggregate f into gp_aggr according to indexing of (point in polygon)\n",
        "    gp_aggr_lo = numpyro.deterministic(\"gp_aggr_lo\", M_g(M_lo, f)) #(num_regions,) <- i.e (9,) for lo\n",
        "    gp_aggr_hi = numpyro.deterministic(\"gp_aggr_hi\", M_g(M_hi, f)) #(49,)\n",
        "    gp_aggr = numpyro.deterministic(\"gp_aggr\", jnp.concatenate([gp_aggr_lo, gp_aggr_hi])) #(58,)\n",
        "\n",
        "\n",
        "    return gp_aggr"
      ]
    },
    {
      "cell_type": "markdown",
      "metadata": {
        "id": "yjA0_Y9YTBYf"
      },
      "source": [
        "## Define the VAE"
      ]
    },
    {
      "cell_type": "code",
      "execution_count": 4,
      "metadata": {
        "id": "8-qYl8VcTDzq"
      },
      "outputs": [],
      "source": [
        "def vae_encoder(hidden_dim = 50, z_dim = 40):\n",
        "    return stax.serial(\n",
        "        #(num_samples, num_regions) -> (num_samples, hidden_dims)\n",
        "        stax.Dense(hidden_dim, W_init = stax.randn()),\n",
        "        stax.Elu,\n",
        "        stax.FanOut(2),\n",
        "        stax.parallel(\n",
        "            # mean : (num_samples, hidden_dim) -> (num_samples, z_dim)\n",
        "            stax.Dense(z_dim, W_init = stax.randn()), #(5,50)\n",
        "            #std : (num_samples, hidden_dim) -> (num_samples, z_dim)\n",
        "            stax.serial(stax.Dense(z_dim, W_init = stax.randn()), stax.Exp)\n",
        "        )\n",
        "    )\n",
        "\n",
        "def vae_decoder(hidden_dim, out_dim):\n",
        "    return stax.serial(\n",
        "        # (num_samples, z_dim) -> (num_samples, hidden_dim)\n",
        "        stax.Dense(hidden_dim, W_init = stax.randn()),\n",
        "        stax.Elu,\n",
        "        # (num_samples, hidden_dim) -> (num_samples, num_regions)\n",
        "        stax.Dense(out_dim, W_init = stax.randn())\n",
        "    )\n",
        "\n",
        "\n",
        "def vae_model(batch, hidden_dim, z_dim):\n",
        "    \"\"\"This computes the decoder portion\"\"\"\n",
        "    batch = jnp.reshape(batch, (batch.shape[0], -1)) # (num_samples, num_regions)\n",
        "    batch_dim, out_dim = jnp.shape(batch)\n",
        "\n",
        "    # vae-decoder in numpyro module\n",
        "    decode = numpyro.module(\n",
        "        name = \"decoder\",\n",
        "        nn = vae_decoder(hidden_dim = hidden_dim, out_dim = out_dim),\n",
        "        input_shape = (batch_dim, z_dim) #(5,40)\n",
        "    )\n",
        "\n",
        "    # Sample a univariate normal\n",
        "    z = numpyro.sample(\n",
        "        \"z\",\n",
        "        dist.Normal(\n",
        "            jnp.zeros((batch_dim,z_dim)),\n",
        "            jnp.ones((batch_dim,z_dim))\n",
        "            )\n",
        "    )\n",
        "    # Forward pass from decoder\n",
        "    gen_loc = decode(z) #(num_regions,)\n",
        "    obs = numpyro.sample(\n",
        "        \"obs\",\n",
        "        dist.Normal(gen_loc, args[\"vae_var\"]),\n",
        "        obs = batch\n",
        "    ) #(num_samples, num_regions)\n",
        "    return obs\n",
        "\n",
        "\n",
        "def vae_guide(batch, hidden_dim, z_dim):\n",
        "    \"\"\"This computes the encoder portion\"\"\"\n",
        "    batch = jnp.reshape(batch, (batch.shape[0], -1)) #(num_samples, num_regions)\n",
        "    batch_dim, input_dim = jnp.shape(batch)# num_samples , num_regions\n",
        "\n",
        "    # vae-encoder in numpyro module\n",
        "    encode = numpyro.module(\n",
        "        name = \"encoder\",\n",
        "        nn = vae_encoder(hidden_dim=hidden_dim,z_dim = z_dim),\n",
        "        input_shape = (batch_dim, input_dim) #(5,58)\n",
        "    ) #(num_samples, num_regions) -> (num_samples, hidden_dims)\n",
        "\n",
        "    # Samapling mu, sigma - Pretty much the forward pass\n",
        "    z_loc, z_std = encode(batch) #mu : (num_samples, z_dim), sigma2 : (num_samples, z_dim)\n",
        "    # Sample a value z based on mu and sigma\n",
        "    z = numpyro.sample(\"z\", dist.Normal(z_loc, z_std)) #(num_sample, z_dim)\n",
        "    return z"
      ]
    },
    {
      "cell_type": "markdown",
      "metadata": {
        "id": "EA7tPNDnWgpG"
      },
      "source": [
        "## Train the VAE encoder"
      ]
    },
    {
      "cell_type": "code",
      "execution_count": 5,
      "metadata": {
        "id": "D8_MUf7FWlAX"
      },
      "outputs": [],
      "source": [
        "@jax.jit\n",
        "def epoch_train(rng_key, svi_state, num_train):\n",
        "    def body_fn(i, val):\n",
        "        rng_key_i = jax.random.fold_in(rng_key, i) #Array(2,)\n",
        "        rng_key_i, rng_key_ls, rng_key_var, rng_key_noise = jax.random.split(rng_key_i, 4) #Tuple(Array(2,) x 4)\n",
        "        loss_sum, svi_state = val #val --svi_state\n",
        "\n",
        "        batch = agg_gp_predictive(rng_key_i, args)[\"gp_aggr\"] #(5,116) <- num_samples : 5, total_districts : 116\n",
        "        #* svi is where the vae_model & vae_guide gets applied\n",
        "        svi_state, loss = svi.update(svi_state, batch)\n",
        "        loss_sum += loss / args[\"batch_size\"]\n",
        "        return loss_sum, svi_state\n",
        "\n",
        "    return lax.fori_loop(lower = 0, upper = num_train, body_fun=body_fn, init_val=(0.0, svi_state))\n",
        "\n",
        "@jax.jit\n",
        "def eval_test(rng_key, svi_state, num_test):\n",
        "    def body_fn(i, loss_sum):\n",
        "        rng_key_i = jax.random.fold_in(rng_key, i)\n",
        "        rng_key_i, rng_key_ls, rng_key_varm, rng_key_noise = jax.random.split(rng_key_i, 4)\n",
        "        batch = agg_gp_predictive(rng_key_i, args)[\"gp_aggr\"]\n",
        "        #* svi is where the vae_model & vae_guide gets applied\n",
        "        loss = svi.evaluate(svi_state, batch) / args[\"batch_size\"]\n",
        "        loss_sum += loss\n",
        "        return loss_sum\n",
        "\n",
        "    loss = lax.fori_loop(lower = 0, upper = num_test,body_fun =  body_fn, init_val = 0.0)\n",
        "    loss = loss / num_test\n",
        "    return loss"
      ]
    },
    {
      "cell_type": "markdown",
      "metadata": {
        "id": "HHkZ6dqhTEKl"
      },
      "source": [
        "## Function to plot the GP"
      ]
    },
    {
      "cell_type": "code",
      "execution_count": 6,
      "metadata": {
        "id": "7rke7xN5TJts"
      },
      "outputs": [],
      "source": [
        "def plot_process(gp_draws):\n",
        "    p = px.line()\n",
        "    for i in range(len(gp_draws)):\n",
        "        p.add_scatter(x = np.arange(gp_draws.shape[1]), y = gp_draws[i, :])\n",
        "\n",
        "    p.update_traces(line_color = \"black\")\n",
        "    p.update_layout(\n",
        "        template = \"plotly_white\",\n",
        "        xaxis_title = \"region\", yaxis_title = \"num cases\",\n",
        "        showlegend = False)\n",
        "    p.show()"
      ]
    },
    {
      "cell_type": "markdown",
      "metadata": {
        "id": "Egml-fn9TKMJ"
      },
      "source": [
        "## Load the variables"
      ]
    },
    {
      "cell_type": "code",
      "execution_count": 7,
      "metadata": {
        "id": "veD2sogTTMIc"
      },
      "outputs": [],
      "source": [
        "# Lat/Lon Values of artificial grid\n",
        "x = np.load(\"../data/lat_lon_x_jkt.npy\")\n",
        "pol_pts_jkt_lo = np.load(\"../data/pol_pts_jkt_lo.npy\")\n",
        "pol_pts_jkt_hi = np.load(\"../data/pol_pts_jkt_hi.npy\")"
      ]
    },
    {
      "cell_type": "markdown",
      "metadata": {
        "id": "DgiCqcl7TDwR"
      },
      "source": [
        "## Arguments"
      ]
    },
    {
      "cell_type": "code",
      "execution_count": 8,
      "metadata": {
        "id": "D79oQ7R-THBC"
      },
      "outputs": [],
      "source": [
        "args = {\n",
        "        \"x\": x,\n",
        "        \"gp_kernel\": exp_sq_kernel,\n",
        "        \"noise\": 1e-4,\n",
        "        \"M_lo\": jnp.array(pol_pts_jkt_lo),\n",
        "        \"M_hi\": jnp.array(pol_pts_jkt_hi),\n",
        "        \"jitter\" : 1e-4,\n",
        "        # VAE training\n",
        "        \"rng_key\": random.PRNGKey(5),\n",
        "        #common num_epochs 20-50\n",
        "        \"num_epochs\": 20,\n",
        "        #learning rate 0.0005 common choice, ADAM optimiser adapts the learning rate accordingly\n",
        "        \"learning_rate\": 0.0005,\n",
        "        #chosen to be 100 (no tune)\n",
        "        \"batch_size\": 100,\n",
        "        #change this to the optimal values after hyperparameter tuning\n",
        "        \"hidden_dim\": 50,\n",
        "        \"z_dim\": 50,\n",
        "        #chosen to be 100 (no tune)\n",
        "        \"num_train\": 100,\n",
        "        \"num_test\":100,\n",
        "        #variance set to 1 bc the latent variable prior distribution is assumed to be normal\n",
        "        \"vae_var\": 1,\n",
        "        \"kernel_length\": dist.InverseGamma(3, 3),\n",
        "        \"kernel_var\": dist.LogNormal(0, 0.5)\n",
        "    }\n"
      ]
    },
    {
      "cell_type": "markdown",
      "metadata": {
        "id": "dp6EFT7RTLKZ"
      },
      "source": [
        "## Prior predictive simulation"
      ]
    },
    {
      "cell_type": "code",
      "execution_count": 9,
      "metadata": {
        "id": "72dE-HgATNBA"
      },
      "outputs": [],
      "source": [
        "rng_key, rng_key_ = random.split(random.PRNGKey(4))\n",
        "agg_gp_predictive = Predictive(gp_aggr,num_samples = 5)\n",
        "agg_gp_draws = agg_gp_predictive(rng_key_, args)[\"gp_aggr\"] #(num_samples, num_regions)"
      ]
    },
    {
      "cell_type": "code",
      "execution_count": 10,
      "metadata": {
        "colab": {
          "base_uri": "https://localhost:8080/",
          "height": 542
        },
        "id": "KMnPLKZwJrO5",
        "outputId": "91781ac5-552d-46eb-a1d7-8ca55e2a8fd7"
      },
      "outputs": [
        {
          "data": {
            "application/vnd.plotly.v1+json": {
              "config": {
                "plotlyServerURL": "https://plot.ly"
              },
              "data": [
                {
                  "hovertemplate": "<extra></extra>",
                  "legendgroup": "",
                  "line": {
                    "color": "black",
                    "dash": "solid"
                  },
                  "marker": {
                    "symbol": "circle"
                  },
                  "mode": "lines",
                  "name": "",
                  "orientation": "v",
                  "showlegend": false,
                  "type": "scatter",
                  "xaxis": "x",
                  "yaxis": "y"
                },
                {
                  "line": {
                    "color": "black"
                  },
                  "type": "scatter",
                  "x": {
                    "bdata": "AAECAwQF",
                    "dtype": "i1"
                  },
                  "y": {
                    "bdata": "YfA9wsRKCMEqvITASjYgwSJ8UcFEZjvB",
                    "dtype": "f4"
                  }
                },
                {
                  "line": {
                    "color": "black"
                  },
                  "type": "scatter",
                  "x": {
                    "bdata": "AAECAwQF",
                    "dtype": "i1"
                  },
                  "y": {
                    "bdata": "TflGwmUCFcHiYYzAwokpwdXaVMFJTULB",
                    "dtype": "f4"
                  }
                },
                {
                  "line": {
                    "color": "black"
                  },
                  "type": "scatter",
                  "x": {
                    "bdata": "AAECAwQF",
                    "dtype": "i1"
                  },
                  "y": {
                    "bdata": "Ol2TQQDQOECCMNM/YM5rQDvmtEBcc5FA",
                    "dtype": "f4"
                  }
                },
                {
                  "line": {
                    "color": "black"
                  },
                  "type": "scatter",
                  "x": {
                    "bdata": "AAECAwQF",
                    "dtype": "i1"
                  },
                  "y": {
                    "bdata": "yyQpwvJ72cBNG3LAOkgBweGTRcFAcjTB",
                    "dtype": "f4"
                  }
                },
                {
                  "line": {
                    "color": "black"
                  },
                  "type": "scatter",
                  "x": {
                    "bdata": "AAECAwQF",
                    "dtype": "i1"
                  },
                  "y": {
                    "bdata": "xJW4QmBjhEF4AwJBDuybQbfSy0EuM7VB",
                    "dtype": "f4"
                  }
                }
              ],
              "layout": {
                "legend": {
                  "tracegroupgap": 0
                },
                "margin": {
                  "t": 60
                },
                "showlegend": false,
                "template": {
                  "data": {
                    "bar": [
                      {
                        "error_x": {
                          "color": "#2a3f5f"
                        },
                        "error_y": {
                          "color": "#2a3f5f"
                        },
                        "marker": {
                          "line": {
                            "color": "white",
                            "width": 0.5
                          },
                          "pattern": {
                            "fillmode": "overlay",
                            "size": 10,
                            "solidity": 0.2
                          }
                        },
                        "type": "bar"
                      }
                    ],
                    "barpolar": [
                      {
                        "marker": {
                          "line": {
                            "color": "white",
                            "width": 0.5
                          },
                          "pattern": {
                            "fillmode": "overlay",
                            "size": 10,
                            "solidity": 0.2
                          }
                        },
                        "type": "barpolar"
                      }
                    ],
                    "carpet": [
                      {
                        "aaxis": {
                          "endlinecolor": "#2a3f5f",
                          "gridcolor": "#C8D4E3",
                          "linecolor": "#C8D4E3",
                          "minorgridcolor": "#C8D4E3",
                          "startlinecolor": "#2a3f5f"
                        },
                        "baxis": {
                          "endlinecolor": "#2a3f5f",
                          "gridcolor": "#C8D4E3",
                          "linecolor": "#C8D4E3",
                          "minorgridcolor": "#C8D4E3",
                          "startlinecolor": "#2a3f5f"
                        },
                        "type": "carpet"
                      }
                    ],
                    "choropleth": [
                      {
                        "colorbar": {
                          "outlinewidth": 0,
                          "ticks": ""
                        },
                        "type": "choropleth"
                      }
                    ],
                    "contour": [
                      {
                        "colorbar": {
                          "outlinewidth": 0,
                          "ticks": ""
                        },
                        "colorscale": [
                          [
                            0,
                            "#0d0887"
                          ],
                          [
                            0.1111111111111111,
                            "#46039f"
                          ],
                          [
                            0.2222222222222222,
                            "#7201a8"
                          ],
                          [
                            0.3333333333333333,
                            "#9c179e"
                          ],
                          [
                            0.4444444444444444,
                            "#bd3786"
                          ],
                          [
                            0.5555555555555556,
                            "#d8576b"
                          ],
                          [
                            0.6666666666666666,
                            "#ed7953"
                          ],
                          [
                            0.7777777777777778,
                            "#fb9f3a"
                          ],
                          [
                            0.8888888888888888,
                            "#fdca26"
                          ],
                          [
                            1,
                            "#f0f921"
                          ]
                        ],
                        "type": "contour"
                      }
                    ],
                    "contourcarpet": [
                      {
                        "colorbar": {
                          "outlinewidth": 0,
                          "ticks": ""
                        },
                        "type": "contourcarpet"
                      }
                    ],
                    "heatmap": [
                      {
                        "colorbar": {
                          "outlinewidth": 0,
                          "ticks": ""
                        },
                        "colorscale": [
                          [
                            0,
                            "#0d0887"
                          ],
                          [
                            0.1111111111111111,
                            "#46039f"
                          ],
                          [
                            0.2222222222222222,
                            "#7201a8"
                          ],
                          [
                            0.3333333333333333,
                            "#9c179e"
                          ],
                          [
                            0.4444444444444444,
                            "#bd3786"
                          ],
                          [
                            0.5555555555555556,
                            "#d8576b"
                          ],
                          [
                            0.6666666666666666,
                            "#ed7953"
                          ],
                          [
                            0.7777777777777778,
                            "#fb9f3a"
                          ],
                          [
                            0.8888888888888888,
                            "#fdca26"
                          ],
                          [
                            1,
                            "#f0f921"
                          ]
                        ],
                        "type": "heatmap"
                      }
                    ],
                    "histogram": [
                      {
                        "marker": {
                          "pattern": {
                            "fillmode": "overlay",
                            "size": 10,
                            "solidity": 0.2
                          }
                        },
                        "type": "histogram"
                      }
                    ],
                    "histogram2d": [
                      {
                        "colorbar": {
                          "outlinewidth": 0,
                          "ticks": ""
                        },
                        "colorscale": [
                          [
                            0,
                            "#0d0887"
                          ],
                          [
                            0.1111111111111111,
                            "#46039f"
                          ],
                          [
                            0.2222222222222222,
                            "#7201a8"
                          ],
                          [
                            0.3333333333333333,
                            "#9c179e"
                          ],
                          [
                            0.4444444444444444,
                            "#bd3786"
                          ],
                          [
                            0.5555555555555556,
                            "#d8576b"
                          ],
                          [
                            0.6666666666666666,
                            "#ed7953"
                          ],
                          [
                            0.7777777777777778,
                            "#fb9f3a"
                          ],
                          [
                            0.8888888888888888,
                            "#fdca26"
                          ],
                          [
                            1,
                            "#f0f921"
                          ]
                        ],
                        "type": "histogram2d"
                      }
                    ],
                    "histogram2dcontour": [
                      {
                        "colorbar": {
                          "outlinewidth": 0,
                          "ticks": ""
                        },
                        "colorscale": [
                          [
                            0,
                            "#0d0887"
                          ],
                          [
                            0.1111111111111111,
                            "#46039f"
                          ],
                          [
                            0.2222222222222222,
                            "#7201a8"
                          ],
                          [
                            0.3333333333333333,
                            "#9c179e"
                          ],
                          [
                            0.4444444444444444,
                            "#bd3786"
                          ],
                          [
                            0.5555555555555556,
                            "#d8576b"
                          ],
                          [
                            0.6666666666666666,
                            "#ed7953"
                          ],
                          [
                            0.7777777777777778,
                            "#fb9f3a"
                          ],
                          [
                            0.8888888888888888,
                            "#fdca26"
                          ],
                          [
                            1,
                            "#f0f921"
                          ]
                        ],
                        "type": "histogram2dcontour"
                      }
                    ],
                    "mesh3d": [
                      {
                        "colorbar": {
                          "outlinewidth": 0,
                          "ticks": ""
                        },
                        "type": "mesh3d"
                      }
                    ],
                    "parcoords": [
                      {
                        "line": {
                          "colorbar": {
                            "outlinewidth": 0,
                            "ticks": ""
                          }
                        },
                        "type": "parcoords"
                      }
                    ],
                    "pie": [
                      {
                        "automargin": true,
                        "type": "pie"
                      }
                    ],
                    "scatter": [
                      {
                        "fillpattern": {
                          "fillmode": "overlay",
                          "size": 10,
                          "solidity": 0.2
                        },
                        "type": "scatter"
                      }
                    ],
                    "scatter3d": [
                      {
                        "line": {
                          "colorbar": {
                            "outlinewidth": 0,
                            "ticks": ""
                          }
                        },
                        "marker": {
                          "colorbar": {
                            "outlinewidth": 0,
                            "ticks": ""
                          }
                        },
                        "type": "scatter3d"
                      }
                    ],
                    "scattercarpet": [
                      {
                        "marker": {
                          "colorbar": {
                            "outlinewidth": 0,
                            "ticks": ""
                          }
                        },
                        "type": "scattercarpet"
                      }
                    ],
                    "scattergeo": [
                      {
                        "marker": {
                          "colorbar": {
                            "outlinewidth": 0,
                            "ticks": ""
                          }
                        },
                        "type": "scattergeo"
                      }
                    ],
                    "scattergl": [
                      {
                        "marker": {
                          "colorbar": {
                            "outlinewidth": 0,
                            "ticks": ""
                          }
                        },
                        "type": "scattergl"
                      }
                    ],
                    "scattermap": [
                      {
                        "marker": {
                          "colorbar": {
                            "outlinewidth": 0,
                            "ticks": ""
                          }
                        },
                        "type": "scattermap"
                      }
                    ],
                    "scattermapbox": [
                      {
                        "marker": {
                          "colorbar": {
                            "outlinewidth": 0,
                            "ticks": ""
                          }
                        },
                        "type": "scattermapbox"
                      }
                    ],
                    "scatterpolar": [
                      {
                        "marker": {
                          "colorbar": {
                            "outlinewidth": 0,
                            "ticks": ""
                          }
                        },
                        "type": "scatterpolar"
                      }
                    ],
                    "scatterpolargl": [
                      {
                        "marker": {
                          "colorbar": {
                            "outlinewidth": 0,
                            "ticks": ""
                          }
                        },
                        "type": "scatterpolargl"
                      }
                    ],
                    "scatterternary": [
                      {
                        "marker": {
                          "colorbar": {
                            "outlinewidth": 0,
                            "ticks": ""
                          }
                        },
                        "type": "scatterternary"
                      }
                    ],
                    "surface": [
                      {
                        "colorbar": {
                          "outlinewidth": 0,
                          "ticks": ""
                        },
                        "colorscale": [
                          [
                            0,
                            "#0d0887"
                          ],
                          [
                            0.1111111111111111,
                            "#46039f"
                          ],
                          [
                            0.2222222222222222,
                            "#7201a8"
                          ],
                          [
                            0.3333333333333333,
                            "#9c179e"
                          ],
                          [
                            0.4444444444444444,
                            "#bd3786"
                          ],
                          [
                            0.5555555555555556,
                            "#d8576b"
                          ],
                          [
                            0.6666666666666666,
                            "#ed7953"
                          ],
                          [
                            0.7777777777777778,
                            "#fb9f3a"
                          ],
                          [
                            0.8888888888888888,
                            "#fdca26"
                          ],
                          [
                            1,
                            "#f0f921"
                          ]
                        ],
                        "type": "surface"
                      }
                    ],
                    "table": [
                      {
                        "cells": {
                          "fill": {
                            "color": "#EBF0F8"
                          },
                          "line": {
                            "color": "white"
                          }
                        },
                        "header": {
                          "fill": {
                            "color": "#C8D4E3"
                          },
                          "line": {
                            "color": "white"
                          }
                        },
                        "type": "table"
                      }
                    ]
                  },
                  "layout": {
                    "annotationdefaults": {
                      "arrowcolor": "#2a3f5f",
                      "arrowhead": 0,
                      "arrowwidth": 1
                    },
                    "autotypenumbers": "strict",
                    "coloraxis": {
                      "colorbar": {
                        "outlinewidth": 0,
                        "ticks": ""
                      }
                    },
                    "colorscale": {
                      "diverging": [
                        [
                          0,
                          "#8e0152"
                        ],
                        [
                          0.1,
                          "#c51b7d"
                        ],
                        [
                          0.2,
                          "#de77ae"
                        ],
                        [
                          0.3,
                          "#f1b6da"
                        ],
                        [
                          0.4,
                          "#fde0ef"
                        ],
                        [
                          0.5,
                          "#f7f7f7"
                        ],
                        [
                          0.6,
                          "#e6f5d0"
                        ],
                        [
                          0.7,
                          "#b8e186"
                        ],
                        [
                          0.8,
                          "#7fbc41"
                        ],
                        [
                          0.9,
                          "#4d9221"
                        ],
                        [
                          1,
                          "#276419"
                        ]
                      ],
                      "sequential": [
                        [
                          0,
                          "#0d0887"
                        ],
                        [
                          0.1111111111111111,
                          "#46039f"
                        ],
                        [
                          0.2222222222222222,
                          "#7201a8"
                        ],
                        [
                          0.3333333333333333,
                          "#9c179e"
                        ],
                        [
                          0.4444444444444444,
                          "#bd3786"
                        ],
                        [
                          0.5555555555555556,
                          "#d8576b"
                        ],
                        [
                          0.6666666666666666,
                          "#ed7953"
                        ],
                        [
                          0.7777777777777778,
                          "#fb9f3a"
                        ],
                        [
                          0.8888888888888888,
                          "#fdca26"
                        ],
                        [
                          1,
                          "#f0f921"
                        ]
                      ],
                      "sequentialminus": [
                        [
                          0,
                          "#0d0887"
                        ],
                        [
                          0.1111111111111111,
                          "#46039f"
                        ],
                        [
                          0.2222222222222222,
                          "#7201a8"
                        ],
                        [
                          0.3333333333333333,
                          "#9c179e"
                        ],
                        [
                          0.4444444444444444,
                          "#bd3786"
                        ],
                        [
                          0.5555555555555556,
                          "#d8576b"
                        ],
                        [
                          0.6666666666666666,
                          "#ed7953"
                        ],
                        [
                          0.7777777777777778,
                          "#fb9f3a"
                        ],
                        [
                          0.8888888888888888,
                          "#fdca26"
                        ],
                        [
                          1,
                          "#f0f921"
                        ]
                      ]
                    },
                    "colorway": [
                      "#636efa",
                      "#EF553B",
                      "#00cc96",
                      "#ab63fa",
                      "#FFA15A",
                      "#19d3f3",
                      "#FF6692",
                      "#B6E880",
                      "#FF97FF",
                      "#FECB52"
                    ],
                    "font": {
                      "color": "#2a3f5f"
                    },
                    "geo": {
                      "bgcolor": "white",
                      "lakecolor": "white",
                      "landcolor": "white",
                      "showlakes": true,
                      "showland": true,
                      "subunitcolor": "#C8D4E3"
                    },
                    "hoverlabel": {
                      "align": "left"
                    },
                    "hovermode": "closest",
                    "mapbox": {
                      "style": "light"
                    },
                    "paper_bgcolor": "white",
                    "plot_bgcolor": "white",
                    "polar": {
                      "angularaxis": {
                        "gridcolor": "#EBF0F8",
                        "linecolor": "#EBF0F8",
                        "ticks": ""
                      },
                      "bgcolor": "white",
                      "radialaxis": {
                        "gridcolor": "#EBF0F8",
                        "linecolor": "#EBF0F8",
                        "ticks": ""
                      }
                    },
                    "scene": {
                      "xaxis": {
                        "backgroundcolor": "white",
                        "gridcolor": "#DFE8F3",
                        "gridwidth": 2,
                        "linecolor": "#EBF0F8",
                        "showbackground": true,
                        "ticks": "",
                        "zerolinecolor": "#EBF0F8"
                      },
                      "yaxis": {
                        "backgroundcolor": "white",
                        "gridcolor": "#DFE8F3",
                        "gridwidth": 2,
                        "linecolor": "#EBF0F8",
                        "showbackground": true,
                        "ticks": "",
                        "zerolinecolor": "#EBF0F8"
                      },
                      "zaxis": {
                        "backgroundcolor": "white",
                        "gridcolor": "#DFE8F3",
                        "gridwidth": 2,
                        "linecolor": "#EBF0F8",
                        "showbackground": true,
                        "ticks": "",
                        "zerolinecolor": "#EBF0F8"
                      }
                    },
                    "shapedefaults": {
                      "line": {
                        "color": "#2a3f5f"
                      }
                    },
                    "ternary": {
                      "aaxis": {
                        "gridcolor": "#DFE8F3",
                        "linecolor": "#A2B1C6",
                        "ticks": ""
                      },
                      "baxis": {
                        "gridcolor": "#DFE8F3",
                        "linecolor": "#A2B1C6",
                        "ticks": ""
                      },
                      "bgcolor": "white",
                      "caxis": {
                        "gridcolor": "#DFE8F3",
                        "linecolor": "#A2B1C6",
                        "ticks": ""
                      }
                    },
                    "title": {
                      "x": 0.05
                    },
                    "xaxis": {
                      "automargin": true,
                      "gridcolor": "#EBF0F8",
                      "linecolor": "#EBF0F8",
                      "ticks": "",
                      "title": {
                        "standoff": 15
                      },
                      "zerolinecolor": "#EBF0F8",
                      "zerolinewidth": 2
                    },
                    "yaxis": {
                      "automargin": true,
                      "gridcolor": "#EBF0F8",
                      "linecolor": "#EBF0F8",
                      "ticks": "",
                      "title": {
                        "standoff": 15
                      },
                      "zerolinecolor": "#EBF0F8",
                      "zerolinewidth": 2
                    }
                  }
                },
                "xaxis": {
                  "anchor": "y",
                  "domain": [
                    0,
                    1
                  ],
                  "title": {
                    "text": "region"
                  }
                },
                "yaxis": {
                  "anchor": "x",
                  "domain": [
                    0,
                    1
                  ],
                  "title": {
                    "text": "num cases"
                  }
                }
              }
            }
          },
          "metadata": {},
          "output_type": "display_data"
        }
      ],
      "source": [
        "# Plotting\n",
        "plot_process(agg_gp_draws)"
      ]
    },
    {
      "cell_type": "markdown",
      "metadata": {
        "id": "24YH-_biUJG4"
      },
      "source": [
        "## Hyperparameter Tuning"
      ]
    },
    {
      "cell_type": "code",
      "execution_count": 11,
      "metadata": {
        "colab": {
          "base_uri": "https://localhost:8080/"
        },
        "id": "Ldon-7FAUM1i",
        "outputId": "466e11c6-4c95-4a56-e370-73d1f7ff242d"
      },
      "outputs": [
        {
          "name": "stdout",
          "output_type": "stream",
          "text": [
            "Training with hidden_dim=20, z_dim=20\n",
            "Epoch: 0, Train Loss: 10773.52, Test Loss: 111.88 (5.35 s)\n",
            "Epoch: 1, Train Loss: 9391.38, Test Loss: 71.65 (0.12 s)\n",
            "Epoch: 2, Train Loss: 7102.36, Test Loss: 40.51 (0.13 s)\n",
            "Epoch: 3, Train Loss: 3270.60, Test Loss: 23.74 (0.13 s)\n",
            "Epoch: 4, Train Loss: 1920.84, Test Loss: 18.34 (0.14 s)\n",
            "Epoch: 5, Train Loss: 1498.49, Test Loss: 13.37 (0.14 s)\n",
            "Epoch: 6, Train Loss: 1154.92, Test Loss: 12.10 (0.12 s)\n",
            "Epoch: 7, Train Loss: 1204.08, Test Loss: 10.43 (0.12 s)\n",
            "Epoch: 8, Train Loss: 830.07, Test Loss: 7.83 (0.13 s)\n",
            "Epoch: 9, Train Loss: 756.00, Test Loss: 6.86 (0.12 s)\n",
            "Epoch: 10, Train Loss: 803.94, Test Loss: 6.89 (0.12 s)\n",
            "Epoch: 11, Train Loss: 673.91, Test Loss: 5.79 (0.11 s)\n",
            "Epoch: 12, Train Loss: 582.37, Test Loss: 5.15 (0.11 s)\n",
            "Epoch: 13, Train Loss: 536.82, Test Loss: 5.10 (0.11 s)\n",
            "Epoch: 14, Train Loss: 498.48, Test Loss: 5.52 (0.11 s)\n",
            "Epoch: 15, Train Loss: 449.80, Test Loss: 4.61 (0.11 s)\n",
            "Epoch: 16, Train Loss: 458.08, Test Loss: 4.02 (0.11 s)\n",
            "Epoch: 17, Train Loss: 470.42, Test Loss: 4.37 (0.11 s)\n",
            "Epoch: 18, Train Loss: 460.04, Test Loss: 4.00 (0.11 s)\n",
            "Epoch: 19, Train Loss: 457.93, Test Loss: 4.72 (0.12 s)\n",
            "Final Test loss for hidden_dim=20, z_dim=20: 4.717045783996582\n",
            "Mean Test loss for hidden_dim=20, z_dim=20: 18.34449577331543\n",
            "Training with hidden_dim=20, z_dim=30\n",
            "Epoch: 0, Train Loss: 10773.53, Test Loss: 111.86 (5.11 s)\n",
            "Epoch: 1, Train Loss: 9089.68, Test Loss: 64.55 (0.13 s)\n",
            "Epoch: 2, Train Loss: 6114.04, Test Loss: 32.62 (0.15 s)\n",
            "Epoch: 3, Train Loss: 2695.32, Test Loss: 19.48 (0.13 s)\n",
            "Epoch: 4, Train Loss: 1619.97, Test Loss: 15.43 (0.13 s)\n",
            "Epoch: 5, Train Loss: 1294.07, Test Loss: 11.32 (0.14 s)\n",
            "Epoch: 6, Train Loss: 1009.73, Test Loss: 10.62 (0.14 s)\n",
            "Epoch: 7, Train Loss: 1064.68, Test Loss: 10.02 (0.13 s)\n",
            "Epoch: 8, Train Loss: 763.74, Test Loss: 7.50 (0.15 s)\n",
            "Epoch: 9, Train Loss: 698.30, Test Loss: 6.38 (0.16 s)\n",
            "Epoch: 10, Train Loss: 791.80, Test Loss: 6.36 (0.16 s)\n",
            "Epoch: 11, Train Loss: 626.44, Test Loss: 5.70 (0.16 s)\n",
            "Epoch: 12, Train Loss: 545.62, Test Loss: 4.67 (0.14 s)\n",
            "Epoch: 13, Train Loss: 515.01, Test Loss: 4.84 (0.14 s)\n",
            "Epoch: 14, Train Loss: 486.17, Test Loss: 5.55 (0.13 s)\n",
            "Epoch: 15, Train Loss: 446.96, Test Loss: 4.57 (0.14 s)\n",
            "Epoch: 16, Train Loss: 458.47, Test Loss: 4.34 (0.14 s)\n",
            "Epoch: 17, Train Loss: 479.63, Test Loss: 4.93 (0.16 s)\n",
            "Epoch: 18, Train Loss: 453.38, Test Loss: 5.15 (0.15 s)\n",
            "Epoch: 19, Train Loss: 485.24, Test Loss: 6.22 (0.12 s)\n",
            "Final Test loss for hidden_dim=20, z_dim=30: 6.216748237609863\n",
            "Mean Test loss for hidden_dim=20, z_dim=30: 17.105976104736328\n",
            "Training with hidden_dim=20, z_dim=40\n",
            "Epoch: 0, Train Loss: 10773.04, Test Loss: 111.84 (5.27 s)\n",
            "Epoch: 1, Train Loss: 8861.99, Test Loss: 60.34 (0.12 s)\n",
            "Epoch: 2, Train Loss: 5570.55, Test Loss: 28.73 (0.13 s)\n",
            "Epoch: 3, Train Loss: 2394.55, Test Loss: 17.34 (0.13 s)\n",
            "Epoch: 4, Train Loss: 1457.22, Test Loss: 14.11 (0.14 s)\n",
            "Epoch: 5, Train Loss: 1185.54, Test Loss: 10.31 (0.12 s)\n",
            "Epoch: 6, Train Loss: 925.73, Test Loss: 10.18 (0.12 s)\n",
            "Epoch: 7, Train Loss: 993.78, Test Loss: 8.39 (0.12 s)\n",
            "Epoch: 8, Train Loss: 705.76, Test Loss: 6.86 (0.13 s)\n",
            "Epoch: 9, Train Loss: 652.53, Test Loss: 6.50 (0.12 s)\n",
            "Epoch: 10, Train Loss: 708.87, Test Loss: 5.73 (0.12 s)\n",
            "Epoch: 11, Train Loss: 597.37, Test Loss: 4.89 (0.12 s)\n",
            "Epoch: 12, Train Loss: 513.71, Test Loss: 4.34 (0.11 s)\n",
            "Epoch: 13, Train Loss: 491.32, Test Loss: 5.38 (0.12 s)\n",
            "Epoch: 14, Train Loss: 457.45, Test Loss: 5.01 (0.11 s)\n",
            "Epoch: 15, Train Loss: 421.16, Test Loss: 4.47 (0.12 s)\n",
            "Epoch: 16, Train Loss: 444.77, Test Loss: 4.28 (0.11 s)\n",
            "Epoch: 17, Train Loss: 456.87, Test Loss: 4.64 (0.11 s)\n",
            "Epoch: 18, Train Loss: 432.50, Test Loss: 3.87 (0.12 s)\n",
            "Epoch: 19, Train Loss: 468.71, Test Loss: 5.65 (0.12 s)\n",
            "Final Test loss for hidden_dim=20, z_dim=40: 5.647775173187256\n",
            "Mean Test loss for hidden_dim=20, z_dim=40: 16.142932891845703\n",
            "Training with hidden_dim=20, z_dim=50\n",
            "Epoch: 0, Train Loss: 10772.99, Test Loss: 111.80 (9.43 s)\n",
            "Epoch: 1, Train Loss: 8751.88, Test Loss: 58.83 (0.26 s)\n",
            "Epoch: 2, Train Loss: 5367.89, Test Loss: 27.26 (0.26 s)\n",
            "Epoch: 3, Train Loss: 2230.87, Test Loss: 16.43 (0.23 s)\n",
            "Epoch: 4, Train Loss: 1373.12, Test Loss: 13.24 (0.18 s)\n",
            "Epoch: 5, Train Loss: 1109.53, Test Loss: 9.92 (0.17 s)\n",
            "Epoch: 6, Train Loss: 880.64, Test Loss: 9.25 (0.16 s)\n",
            "Epoch: 7, Train Loss: 940.77, Test Loss: 8.10 (0.21 s)\n",
            "Epoch: 8, Train Loss: 660.19, Test Loss: 6.50 (0.15 s)\n",
            "Epoch: 9, Train Loss: 610.08, Test Loss: 5.74 (0.13 s)\n",
            "Epoch: 10, Train Loss: 652.56, Test Loss: 5.41 (0.11 s)\n",
            "Epoch: 11, Train Loss: 549.87, Test Loss: 4.57 (0.11 s)\n",
            "Epoch: 12, Train Loss: 493.23, Test Loss: 4.35 (0.11 s)\n",
            "Epoch: 13, Train Loss: 449.87, Test Loss: 4.12 (0.12 s)\n",
            "Epoch: 14, Train Loss: 419.96, Test Loss: 4.45 (0.12 s)\n",
            "Epoch: 15, Train Loss: 382.40, Test Loss: 3.91 (0.12 s)\n",
            "Epoch: 16, Train Loss: 388.36, Test Loss: 3.74 (0.12 s)\n",
            "Epoch: 17, Train Loss: 414.60, Test Loss: 3.84 (0.11 s)\n",
            "Epoch: 18, Train Loss: 398.43, Test Loss: 3.42 (0.11 s)\n",
            "Epoch: 19, Train Loss: 394.35, Test Loss: 3.53 (0.13 s)\n",
            "Final Test loss for hidden_dim=20, z_dim=50: 3.525113821029663\n",
            "Mean Test loss for hidden_dim=20, z_dim=50: 15.420431137084961\n",
            "Training with hidden_dim=30, z_dim=20\n",
            "Epoch: 0, Train Loss: 10767.23, Test Loss: 111.13 (4.79 s)\n",
            "Epoch: 1, Train Loss: 7838.29, Test Loss: 49.94 (0.11 s)\n",
            "Epoch: 2, Train Loss: 4551.93, Test Loss: 24.13 (0.12 s)\n",
            "Epoch: 3, Train Loss: 2102.46, Test Loss: 15.49 (0.13 s)\n",
            "Epoch: 4, Train Loss: 1332.82, Test Loss: 12.95 (0.15 s)\n",
            "Epoch: 5, Train Loss: 1110.19, Test Loss: 9.59 (0.13 s)\n",
            "Epoch: 6, Train Loss: 882.51, Test Loss: 9.54 (0.12 s)\n",
            "Epoch: 7, Train Loss: 970.46, Test Loss: 9.34 (0.12 s)\n",
            "Epoch: 8, Train Loss: 708.88, Test Loss: 6.67 (0.12 s)\n",
            "Epoch: 9, Train Loss: 647.02, Test Loss: 5.96 (0.12 s)\n",
            "Epoch: 10, Train Loss: 710.94, Test Loss: 5.77 (0.12 s)\n",
            "Epoch: 11, Train Loss: 591.00, Test Loss: 4.90 (0.12 s)\n",
            "Epoch: 12, Train Loss: 523.50, Test Loss: 4.84 (0.12 s)\n",
            "Epoch: 13, Train Loss: 486.07, Test Loss: 4.73 (0.11 s)\n",
            "Epoch: 14, Train Loss: 464.96, Test Loss: 5.14 (0.16 s)\n",
            "Epoch: 15, Train Loss: 443.18, Test Loss: 4.72 (0.18 s)\n",
            "Epoch: 16, Train Loss: 433.64, Test Loss: 4.47 (0.14 s)\n",
            "Epoch: 17, Train Loss: 454.81, Test Loss: 4.89 (0.14 s)\n",
            "Epoch: 18, Train Loss: 440.86, Test Loss: 3.84 (0.15 s)\n",
            "Epoch: 19, Train Loss: 493.78, Test Loss: 5.55 (0.14 s)\n",
            "Final Test loss for hidden_dim=30, z_dim=20: 5.547642707824707\n",
            "Mean Test loss for hidden_dim=30, z_dim=20: 15.1784029006958\n",
            "Training with hidden_dim=30, z_dim=30\n",
            "Epoch: 0, Train Loss: 10769.31, Test Loss: 111.38 (6.14 s)\n",
            "Epoch: 1, Train Loss: 7715.62, Test Loss: 46.26 (0.15 s)\n",
            "Epoch: 2, Train Loss: 4007.78, Test Loss: 20.66 (0.15 s)\n",
            "Epoch: 3, Train Loss: 1810.27, Test Loss: 13.78 (0.19 s)\n",
            "Epoch: 4, Train Loss: 1180.16, Test Loss: 11.47 (0.17 s)\n",
            "Epoch: 5, Train Loss: 984.90, Test Loss: 8.77 (0.19 s)\n",
            "Epoch: 6, Train Loss: 809.32, Test Loss: 8.73 (0.20 s)\n",
            "Epoch: 7, Train Loss: 869.87, Test Loss: 8.61 (0.21 s)\n",
            "Epoch: 8, Train Loss: 643.28, Test Loss: 6.94 (0.12 s)\n",
            "Epoch: 9, Train Loss: 617.26, Test Loss: 5.85 (0.13 s)\n",
            "Epoch: 10, Train Loss: 682.24, Test Loss: 5.53 (0.13 s)\n",
            "Epoch: 11, Train Loss: 546.22, Test Loss: 4.75 (0.12 s)\n",
            "Epoch: 12, Train Loss: 503.08, Test Loss: 4.12 (0.13 s)\n",
            "Epoch: 13, Train Loss: 470.83, Test Loss: 4.36 (0.12 s)\n",
            "Epoch: 14, Train Loss: 437.61, Test Loss: 4.89 (0.15 s)\n",
            "Epoch: 15, Train Loss: 411.43, Test Loss: 4.32 (0.11 s)\n",
            "Epoch: 16, Train Loss: 435.97, Test Loss: 4.07 (0.12 s)\n",
            "Epoch: 17, Train Loss: 421.09, Test Loss: 4.35 (0.18 s)\n",
            "Epoch: 18, Train Loss: 429.02, Test Loss: 4.00 (0.19 s)\n",
            "Epoch: 19, Train Loss: 446.19, Test Loss: 4.86 (0.17 s)\n",
            "Final Test loss for hidden_dim=30, z_dim=30: 4.862548351287842\n",
            "Mean Test loss for hidden_dim=30, z_dim=30: 14.3850736618042\n",
            "Training with hidden_dim=30, z_dim=40\n",
            "Epoch: 0, Train Loss: 10770.54, Test Loss: 111.53 (5.36 s)\n",
            "Epoch: 1, Train Loss: 7763.41, Test Loss: 45.36 (0.14 s)\n",
            "Epoch: 2, Train Loss: 3891.77, Test Loss: 20.26 (0.12 s)\n",
            "Epoch: 3, Train Loss: 1829.23, Test Loss: 13.07 (0.12 s)\n",
            "Epoch: 4, Train Loss: 1155.98, Test Loss: 11.17 (0.11 s)\n",
            "Epoch: 5, Train Loss: 975.99, Test Loss: 8.25 (0.11 s)\n",
            "Epoch: 6, Train Loss: 771.99, Test Loss: 8.49 (0.12 s)\n",
            "Epoch: 7, Train Loss: 868.11, Test Loss: 8.69 (0.11 s)\n",
            "Epoch: 8, Train Loss: 663.46, Test Loss: 5.97 (0.12 s)\n",
            "Epoch: 9, Train Loss: 577.55, Test Loss: 6.06 (0.12 s)\n",
            "Epoch: 10, Train Loss: 654.20, Test Loss: 5.22 (0.18 s)\n",
            "Epoch: 11, Train Loss: 535.69, Test Loss: 4.38 (0.12 s)\n",
            "Epoch: 12, Train Loss: 480.17, Test Loss: 4.21 (0.14 s)\n",
            "Epoch: 13, Train Loss: 454.26, Test Loss: 4.21 (0.12 s)\n",
            "Epoch: 14, Train Loss: 430.91, Test Loss: 5.02 (0.14 s)\n",
            "Epoch: 15, Train Loss: 404.02, Test Loss: 4.37 (0.17 s)\n",
            "Epoch: 16, Train Loss: 420.82, Test Loss: 4.02 (0.14 s)\n",
            "Epoch: 17, Train Loss: 438.72, Test Loss: 4.25 (0.11 s)\n",
            "Epoch: 18, Train Loss: 407.94, Test Loss: 3.61 (0.11 s)\n",
            "Epoch: 19, Train Loss: 437.65, Test Loss: 4.57 (0.11 s)\n",
            "Final Test loss for hidden_dim=30, z_dim=40: 4.5657124519348145\n",
            "Mean Test loss for hidden_dim=30, z_dim=40: 14.134692192077637\n",
            "Training with hidden_dim=30, z_dim=50\n",
            "Epoch: 0, Train Loss: 10762.50, Test Loss: 110.60 (5.22 s)\n",
            "Epoch: 1, Train Loss: 7130.38, Test Loss: 39.48 (0.11 s)\n",
            "Epoch: 2, Train Loss: 3275.43, Test Loss: 17.06 (0.10 s)\n",
            "Epoch: 3, Train Loss: 1501.68, Test Loss: 11.49 (0.13 s)\n",
            "Epoch: 4, Train Loss: 1017.50, Test Loss: 9.76 (0.13 s)\n",
            "Epoch: 5, Train Loss: 858.28, Test Loss: 7.67 (0.11 s)\n",
            "Epoch: 6, Train Loss: 715.57, Test Loss: 8.01 (0.11 s)\n",
            "Epoch: 7, Train Loss: 773.16, Test Loss: 6.49 (0.11 s)\n",
            "Epoch: 8, Train Loss: 565.36, Test Loss: 5.43 (0.12 s)\n",
            "Epoch: 9, Train Loss: 550.59, Test Loss: 5.01 (0.12 s)\n",
            "Epoch: 10, Train Loss: 594.99, Test Loss: 4.71 (0.12 s)\n",
            "Epoch: 11, Train Loss: 502.03, Test Loss: 4.50 (0.11 s)\n",
            "Epoch: 12, Train Loss: 447.08, Test Loss: 3.54 (0.13 s)\n",
            "Epoch: 13, Train Loss: 414.68, Test Loss: 4.10 (0.15 s)\n",
            "Epoch: 14, Train Loss: 391.51, Test Loss: 4.38 (0.18 s)\n",
            "Epoch: 15, Train Loss: 355.76, Test Loss: 3.91 (0.18 s)\n",
            "Epoch: 16, Train Loss: 379.99, Test Loss: 3.79 (0.14 s)\n",
            "Epoch: 17, Train Loss: 389.39, Test Loss: 3.78 (0.12 s)\n",
            "Epoch: 18, Train Loss: 376.36, Test Loss: 3.20 (0.14 s)\n",
            "Epoch: 19, Train Loss: 390.04, Test Loss: 3.81 (0.13 s)\n",
            "Final Test loss for hidden_dim=30, z_dim=50: 3.809096336364746\n",
            "Mean Test loss for hidden_dim=30, z_dim=50: 13.035873413085938\n",
            "Training with hidden_dim=40, z_dim=20\n",
            "Epoch: 0, Train Loss: 10715.43, Test Loss: 106.55 (6.16 s)\n",
            "Epoch: 1, Train Loss: 6629.85, Test Loss: 38.19 (0.17 s)\n",
            "Epoch: 2, Train Loss: 3358.25, Test Loss: 18.24 (0.13 s)\n",
            "Epoch: 3, Train Loss: 1608.92, Test Loss: 12.53 (0.17 s)\n",
            "Epoch: 4, Train Loss: 1102.00, Test Loss: 10.87 (0.18 s)\n",
            "Epoch: 5, Train Loss: 933.12, Test Loss: 8.29 (0.14 s)\n",
            "Epoch: 6, Train Loss: 794.87, Test Loss: 8.18 (0.21 s)\n",
            "Epoch: 7, Train Loss: 868.32, Test Loss: 8.48 (0.21 s)\n",
            "Epoch: 8, Train Loss: 648.99, Test Loss: 6.25 (0.18 s)\n",
            "Epoch: 9, Train Loss: 614.88, Test Loss: 5.46 (0.16 s)\n",
            "Epoch: 10, Train Loss: 683.56, Test Loss: 5.23 (0.17 s)\n",
            "Epoch: 11, Train Loss: 555.28, Test Loss: 4.86 (0.18 s)\n",
            "Epoch: 12, Train Loss: 512.73, Test Loss: 4.41 (0.14 s)\n",
            "Epoch: 13, Train Loss: 467.50, Test Loss: 4.49 (0.17 s)\n",
            "Epoch: 14, Train Loss: 451.39, Test Loss: 5.41 (0.13 s)\n",
            "Epoch: 15, Train Loss: 425.41, Test Loss: 4.52 (0.13 s)\n",
            "Epoch: 16, Train Loss: 433.35, Test Loss: 4.16 (0.14 s)\n",
            "Epoch: 17, Train Loss: 429.12, Test Loss: 4.10 (0.18 s)\n",
            "Epoch: 18, Train Loss: 444.71, Test Loss: 4.08 (0.23 s)\n",
            "Epoch: 19, Train Loss: 488.08, Test Loss: 4.83 (0.22 s)\n",
            "Final Test loss for hidden_dim=40, z_dim=20: 4.831033706665039\n",
            "Mean Test loss for hidden_dim=40, z_dim=20: 13.456207275390625\n",
            "Training with hidden_dim=40, z_dim=30\n",
            "Epoch: 0, Train Loss: 10690.20, Test Loss: 104.57 (7.07 s)\n",
            "Epoch: 1, Train Loss: 6204.93, Test Loss: 33.59 (0.13 s)\n",
            "Epoch: 2, Train Loss: 2917.51, Test Loss: 15.84 (0.15 s)\n",
            "Epoch: 3, Train Loss: 1415.46, Test Loss: 10.98 (0.19 s)\n",
            "Epoch: 4, Train Loss: 977.71, Test Loss: 9.59 (0.21 s)\n",
            "Epoch: 5, Train Loss: 827.81, Test Loss: 7.50 (0.19 s)\n",
            "Epoch: 6, Train Loss: 696.13, Test Loss: 7.25 (0.19 s)\n",
            "Epoch: 7, Train Loss: 737.89, Test Loss: 6.55 (0.20 s)\n",
            "Epoch: 8, Train Loss: 549.05, Test Loss: 6.18 (0.24 s)\n",
            "Epoch: 9, Train Loss: 539.05, Test Loss: 4.89 (0.28 s)\n",
            "Epoch: 10, Train Loss: 629.79, Test Loss: 4.61 (0.33 s)\n",
            "Epoch: 11, Train Loss: 474.06, Test Loss: 4.05 (0.30 s)\n",
            "Epoch: 12, Train Loss: 426.30, Test Loss: 3.99 (0.24 s)\n",
            "Epoch: 13, Train Loss: 402.93, Test Loss: 3.90 (0.21 s)\n",
            "Epoch: 14, Train Loss: 373.60, Test Loss: 4.20 (0.19 s)\n",
            "Epoch: 15, Train Loss: 340.87, Test Loss: 3.46 (0.17 s)\n",
            "Epoch: 16, Train Loss: 349.12, Test Loss: 3.48 (0.20 s)\n",
            "Epoch: 17, Train Loss: 348.18, Test Loss: 3.40 (0.17 s)\n",
            "Epoch: 18, Train Loss: 349.82, Test Loss: 2.83 (0.20 s)\n",
            "Epoch: 19, Train Loss: 358.66, Test Loss: 3.77 (0.18 s)\n",
            "Final Test loss for hidden_dim=40, z_dim=30: 3.7662405967712402\n",
            "Mean Test loss for hidden_dim=40, z_dim=30: 12.23091983795166\n",
            "Training with hidden_dim=40, z_dim=40\n",
            "Epoch: 0, Train Loss: 10731.68, Test Loss: 107.38 (5.88 s)\n",
            "Epoch: 1, Train Loss: 6259.01, Test Loss: 31.46 (0.22 s)\n",
            "Epoch: 2, Train Loss: 2670.80, Test Loss: 14.82 (0.23 s)\n",
            "Epoch: 3, Train Loss: 1337.74, Test Loss: 10.20 (0.19 s)\n",
            "Epoch: 4, Train Loss: 915.84, Test Loss: 8.94 (0.13 s)\n",
            "Epoch: 5, Train Loss: 798.22, Test Loss: 7.03 (0.19 s)\n",
            "Epoch: 6, Train Loss: 662.90, Test Loss: 6.92 (0.19 s)\n",
            "Epoch: 7, Train Loss: 752.79, Test Loss: 7.57 (0.14 s)\n",
            "Epoch: 8, Train Loss: 558.66, Test Loss: 6.60 (0.20 s)\n",
            "Epoch: 9, Train Loss: 534.97, Test Loss: 5.39 (0.15 s)\n",
            "Epoch: 10, Train Loss: 569.91, Test Loss: 4.47 (0.19 s)\n",
            "Epoch: 11, Train Loss: 461.91, Test Loss: 3.82 (0.19 s)\n",
            "Epoch: 12, Train Loss: 452.77, Test Loss: 3.67 (0.16 s)\n",
            "Epoch: 13, Train Loss: 387.90, Test Loss: 3.97 (0.13 s)\n",
            "Epoch: 14, Train Loss: 374.25, Test Loss: 3.90 (0.24 s)\n",
            "Epoch: 15, Train Loss: 355.05, Test Loss: 3.50 (0.18 s)\n",
            "Epoch: 16, Train Loss: 349.93, Test Loss: 3.50 (0.12 s)\n",
            "Epoch: 17, Train Loss: 373.81, Test Loss: 3.18 (0.13 s)\n",
            "Epoch: 18, Train Loss: 345.89, Test Loss: 3.30 (0.20 s)\n",
            "Epoch: 19, Train Loss: 366.96, Test Loss: 3.56 (0.19 s)\n",
            "Final Test loss for hidden_dim=40, z_dim=40: 3.559541702270508\n",
            "Mean Test loss for hidden_dim=40, z_dim=40: 12.159296035766602\n",
            "Training with hidden_dim=40, z_dim=50\n",
            "Epoch: 0, Train Loss: 10732.93, Test Loss: 107.48 (6.42 s)\n",
            "Epoch: 1, Train Loss: 6097.84, Test Loss: 29.55 (0.14 s)\n",
            "Epoch: 2, Train Loss: 2582.47, Test Loss: 14.14 (0.19 s)\n",
            "Epoch: 3, Train Loss: 1244.66, Test Loss: 9.96 (0.18 s)\n",
            "Epoch: 4, Train Loss: 903.39, Test Loss: 9.06 (0.15 s)\n",
            "Epoch: 5, Train Loss: 778.94, Test Loss: 7.31 (0.15 s)\n",
            "Epoch: 6, Train Loss: 690.85, Test Loss: 7.52 (0.15 s)\n",
            "Epoch: 7, Train Loss: 761.98, Test Loss: 9.00 (0.16 s)\n",
            "Epoch: 8, Train Loss: 557.63, Test Loss: 6.11 (0.21 s)\n",
            "Epoch: 9, Train Loss: 558.38, Test Loss: 5.02 (0.15 s)\n",
            "Epoch: 10, Train Loss: 601.54, Test Loss: 4.84 (0.16 s)\n",
            "Epoch: 11, Train Loss: 493.13, Test Loss: 4.37 (0.12 s)\n",
            "Epoch: 12, Train Loss: 485.73, Test Loss: 3.70 (0.12 s)\n",
            "Epoch: 13, Train Loss: 416.43, Test Loss: 3.91 (0.13 s)\n",
            "Epoch: 14, Train Loss: 397.46, Test Loss: 4.15 (0.20 s)\n",
            "Epoch: 15, Train Loss: 401.54, Test Loss: 3.88 (0.13 s)\n",
            "Epoch: 16, Train Loss: 402.25, Test Loss: 3.33 (0.15 s)\n",
            "Epoch: 17, Train Loss: 405.36, Test Loss: 4.31 (0.17 s)\n",
            "Epoch: 18, Train Loss: 412.28, Test Loss: 3.86 (0.16 s)\n",
            "Epoch: 19, Train Loss: 485.06, Test Loss: 6.88 (0.16 s)\n",
            "Final Test loss for hidden_dim=40, z_dim=50: 6.881185531616211\n",
            "Mean Test loss for hidden_dim=40, z_dim=50: 12.418922424316406\n",
            "Training with hidden_dim=50, z_dim=20\n",
            "Epoch: 0, Train Loss: 10726.82, Test Loss: 106.74 (8.23 s)\n",
            "Epoch: 1, Train Loss: 6267.72, Test Loss: 32.73 (0.34 s)\n",
            "Epoch: 2, Train Loss: 2829.28, Test Loss: 15.55 (0.25 s)\n",
            "Epoch: 3, Train Loss: 1422.21, Test Loss: 10.76 (0.24 s)\n",
            "Epoch: 4, Train Loss: 1003.00, Test Loss: 10.48 (0.23 s)\n",
            "Epoch: 5, Train Loss: 844.18, Test Loss: 7.69 (0.16 s)\n",
            "Epoch: 6, Train Loss: 722.61, Test Loss: 7.75 (0.19 s)\n",
            "Epoch: 7, Train Loss: 823.61, Test Loss: 8.71 (0.16 s)\n",
            "Epoch: 8, Train Loss: 619.96, Test Loss: 5.73 (0.15 s)\n",
            "Epoch: 9, Train Loss: 582.24, Test Loss: 4.80 (0.15 s)\n",
            "Epoch: 10, Train Loss: 624.27, Test Loss: 5.13 (0.15 s)\n",
            "Epoch: 11, Train Loss: 513.47, Test Loss: 4.74 (0.19 s)\n",
            "Epoch: 12, Train Loss: 500.39, Test Loss: 4.45 (0.31 s)\n",
            "Epoch: 13, Train Loss: 442.49, Test Loss: 4.68 (0.26 s)\n",
            "Epoch: 14, Train Loss: 435.35, Test Loss: 4.91 (0.25 s)\n",
            "Epoch: 15, Train Loss: 436.94, Test Loss: 4.53 (0.25 s)\n",
            "Epoch: 16, Train Loss: 424.93, Test Loss: 4.41 (0.28 s)\n",
            "Epoch: 17, Train Loss: 426.32, Test Loss: 4.99 (0.25 s)\n",
            "Epoch: 18, Train Loss: 404.38, Test Loss: 4.85 (0.20 s)\n",
            "Epoch: 19, Train Loss: 512.49, Test Loss: 4.28 (0.20 s)\n",
            "Final Test loss for hidden_dim=50, z_dim=20: 4.280803680419922\n",
            "Mean Test loss for hidden_dim=50, z_dim=20: 12.8954496383667\n",
            "Training with hidden_dim=50, z_dim=30\n",
            "Epoch: 0, Train Loss: 10628.45, Test Loss: 99.72 (7.30 s)\n",
            "Epoch: 1, Train Loss: 5582.79, Test Loss: 27.99 (0.14 s)\n",
            "Epoch: 2, Train Loss: 2454.55, Test Loss: 13.89 (0.14 s)\n",
            "Epoch: 3, Train Loss: 1299.64, Test Loss: 9.93 (0.15 s)\n",
            "Epoch: 4, Train Loss: 935.82, Test Loss: 8.93 (0.17 s)\n",
            "Epoch: 5, Train Loss: 793.49, Test Loss: 6.94 (0.13 s)\n",
            "Epoch: 6, Train Loss: 695.82, Test Loss: 6.93 (0.15 s)\n",
            "Epoch: 7, Train Loss: 771.52, Test Loss: 10.33 (0.13 s)\n",
            "Epoch: 8, Train Loss: 613.78, Test Loss: 6.73 (0.14 s)\n",
            "Epoch: 9, Train Loss: 593.61, Test Loss: 5.26 (0.14 s)\n",
            "Epoch: 10, Train Loss: 635.52, Test Loss: 5.34 (0.14 s)\n",
            "Epoch: 11, Train Loss: 510.94, Test Loss: 4.65 (0.13 s)\n",
            "Epoch: 12, Train Loss: 480.21, Test Loss: 4.07 (0.15 s)\n",
            "Epoch: 13, Train Loss: 449.20, Test Loss: 3.88 (0.17 s)\n",
            "Epoch: 14, Train Loss: 426.88, Test Loss: 4.65 (0.14 s)\n",
            "Epoch: 15, Train Loss: 401.35, Test Loss: 4.45 (0.13 s)\n",
            "Epoch: 16, Train Loss: 437.40, Test Loss: 3.70 (0.13 s)\n",
            "Epoch: 17, Train Loss: 433.25, Test Loss: 4.95 (0.14 s)\n",
            "Epoch: 18, Train Loss: 421.35, Test Loss: 4.89 (0.13 s)\n",
            "Epoch: 19, Train Loss: 469.90, Test Loss: 5.12 (0.13 s)\n",
            "Final Test loss for hidden_dim=50, z_dim=30: 5.116559982299805\n",
            "Mean Test loss for hidden_dim=50, z_dim=30: 12.117559432983398\n",
            "Training with hidden_dim=50, z_dim=40\n",
            "Epoch: 0, Train Loss: 10654.33, Test Loss: 101.30 (6.00 s)\n",
            "Epoch: 1, Train Loss: 5400.23, Test Loss: 25.18 (0.16 s)\n",
            "Epoch: 2, Train Loss: 2246.54, Test Loss: 13.45 (0.15 s)\n",
            "Epoch: 3, Train Loss: 1174.18, Test Loss: 9.18 (0.14 s)\n",
            "Epoch: 4, Train Loss: 861.94, Test Loss: 8.53 (0.15 s)\n",
            "Epoch: 5, Train Loss: 740.01, Test Loss: 6.88 (0.16 s)\n",
            "Epoch: 6, Train Loss: 637.91, Test Loss: 7.34 (0.17 s)\n",
            "Epoch: 7, Train Loss: 739.90, Test Loss: 9.49 (0.16 s)\n",
            "Epoch: 8, Train Loss: 581.19, Test Loss: 5.99 (0.18 s)\n",
            "Epoch: 9, Train Loss: 533.04, Test Loss: 4.45 (0.19 s)\n",
            "Epoch: 10, Train Loss: 618.29, Test Loss: 5.13 (0.20 s)\n",
            "Epoch: 11, Train Loss: 493.22, Test Loss: 4.33 (0.17 s)\n",
            "Epoch: 12, Train Loss: 458.18, Test Loss: 3.98 (0.16 s)\n",
            "Epoch: 13, Train Loss: 411.97, Test Loss: 4.05 (0.19 s)\n",
            "Epoch: 14, Train Loss: 399.54, Test Loss: 4.39 (0.18 s)\n",
            "Epoch: 15, Train Loss: 388.16, Test Loss: 4.26 (0.18 s)\n",
            "Epoch: 16, Train Loss: 407.10, Test Loss: 3.93 (0.18 s)\n",
            "Epoch: 17, Train Loss: 398.48, Test Loss: 4.00 (0.18 s)\n",
            "Epoch: 18, Train Loss: 400.29, Test Loss: 3.55 (0.18 s)\n",
            "Epoch: 19, Train Loss: 439.84, Test Loss: 4.46 (0.15 s)\n",
            "Final Test loss for hidden_dim=50, z_dim=40: 4.463942050933838\n",
            "Mean Test loss for hidden_dim=50, z_dim=40: 11.693145751953125\n",
            "Training with hidden_dim=50, z_dim=50\n",
            "Epoch: 0, Train Loss: 10653.95, Test Loss: 100.57 (4.65 s)\n",
            "Epoch: 1, Train Loss: 5160.55, Test Loss: 22.99 (0.13 s)\n",
            "Epoch: 2, Train Loss: 2069.05, Test Loss: 12.36 (0.12 s)\n",
            "Epoch: 3, Train Loss: 1117.32, Test Loss: 8.73 (0.12 s)\n",
            "Epoch: 4, Train Loss: 808.46, Test Loss: 8.01 (0.13 s)\n",
            "Epoch: 5, Train Loss: 713.03, Test Loss: 6.59 (0.12 s)\n",
            "Epoch: 6, Train Loss: 645.01, Test Loss: 6.90 (0.12 s)\n",
            "Epoch: 7, Train Loss: 752.43, Test Loss: 9.51 (0.13 s)\n",
            "Epoch: 8, Train Loss: 563.69, Test Loss: 5.45 (0.13 s)\n",
            "Epoch: 9, Train Loss: 542.66, Test Loss: 4.66 (0.12 s)\n",
            "Epoch: 10, Train Loss: 573.14, Test Loss: 4.62 (0.12 s)\n",
            "Epoch: 11, Train Loss: 484.24, Test Loss: 4.40 (0.13 s)\n",
            "Epoch: 12, Train Loss: 472.55, Test Loss: 3.74 (0.14 s)\n",
            "Epoch: 13, Train Loss: 411.04, Test Loss: 4.31 (0.13 s)\n",
            "Epoch: 14, Train Loss: 395.52, Test Loss: 4.18 (0.12 s)\n",
            "Epoch: 15, Train Loss: 399.65, Test Loss: 3.88 (0.12 s)\n",
            "Epoch: 16, Train Loss: 395.80, Test Loss: 3.75 (0.12 s)\n",
            "Epoch: 17, Train Loss: 398.31, Test Loss: 4.55 (0.11 s)\n",
            "Epoch: 18, Train Loss: 399.13, Test Loss: 3.73 (0.12 s)\n",
            "Epoch: 19, Train Loss: 412.36, Test Loss: 4.14 (0.12 s)\n",
            "Final Test loss for hidden_dim=50, z_dim=50: 4.143667221069336\n",
            "Mean Test loss for hidden_dim=50, z_dim=50: 11.352895736694336\n",
            "Grid search complete.\n",
            "Results: {(20, 20): Array(4.717046, dtype=float32), (20, 30): Array(6.216748, dtype=float32), (20, 40): Array(5.647775, dtype=float32), (20, 50): Array(3.5251138, dtype=float32), (30, 20): Array(5.5476427, dtype=float32), (30, 30): Array(4.8625484, dtype=float32), (30, 40): Array(4.5657125, dtype=float32), (30, 50): Array(3.8090963, dtype=float32), (40, 20): Array(4.8310337, dtype=float32), (40, 30): Array(3.7662406, dtype=float32), (40, 40): Array(3.5595417, dtype=float32), (40, 50): Array(6.8811855, dtype=float32), (50, 20): Array(4.2808037, dtype=float32), (50, 30): Array(5.11656, dtype=float32), (50, 40): Array(4.463942, dtype=float32), (50, 50): Array(4.143667, dtype=float32)}\n",
            "Mean Test Loss Results: {(20, 20): Array(18.344496, dtype=float32), (20, 30): Array(17.105976, dtype=float32), (20, 40): Array(16.142933, dtype=float32), (20, 50): Array(15.420431, dtype=float32), (30, 20): Array(15.178403, dtype=float32), (30, 30): Array(14.385074, dtype=float32), (30, 40): Array(14.134692, dtype=float32), (30, 50): Array(13.035873, dtype=float32), (40, 20): Array(13.456207, dtype=float32), (40, 30): Array(12.23092, dtype=float32), (40, 40): Array(12.159296, dtype=float32), (40, 50): Array(12.418922, dtype=float32), (50, 20): Array(12.89545, dtype=float32), (50, 30): Array(12.117559, dtype=float32), (50, 40): Array(11.693146, dtype=float32), (50, 50): Array(11.352896, dtype=float32)}\n"
          ]
        }
      ],
      "source": [
        "# Define hyperparameter grid\n",
        "hidden_dims = [20, 30, 40, 50]\n",
        "z_dims = [20, 30, 40, 50]\n",
        "\n",
        "# Store results\n",
        "test_loss_results_final = {}\n",
        "test_loss_results_mean = {}\n",
        "\n",
        "num_train = args[\"num_train\"]\n",
        "num_test = args[\"num_test\"]\n",
        "num_epochs = args[\"num_epochs\"]\n",
        "\n",
        "for hidden_dim, z_dim in itertools.product(hidden_dims, z_dims):\n",
        "    print(f\"Training with hidden_dim={hidden_dim}, z_dim={z_dim}\")\n",
        "\n",
        "    args[\"hidden_dim\"] = hidden_dim\n",
        "    args[\"z_dim\"] = z_dim\n",
        "\n",
        "    # Initialize optimizer and SVI\n",
        "    adam = numpyro.optim.Adam(step_size=args[\"learning_rate\"])\n",
        "    svi = SVI(\n",
        "        vae_model,\n",
        "        vae_guide,\n",
        "        adam,\n",
        "        RenyiELBO(),\n",
        "        hidden_dim=hidden_dim,\n",
        "        z_dim=z_dim\n",
        "    )\n",
        "\n",
        "    # Split RNG keys\n",
        "    rng_key, rng_key_samp, rng_key_init = random.split(args[\"rng_key\"], 3)\n",
        "    init_batch = agg_gp_predictive(rng_key_samp, args)[\"gp_aggr\"]\n",
        "\n",
        "    # Initialize SVI state\n",
        "    svi_state = svi.init(rng_key_init, init_batch)\n",
        "\n",
        "    # Pre-allocate test loss array\n",
        "    test_loss_list = jnp.zeros(num_epochs)\n",
        "\n",
        "    # Training loop\n",
        "    for epoch in range(num_epochs):\n",
        "        rng_key, rng_key_train, rng_key_test = random.split(rng_key, 3)\n",
        "        t_start = time.time()\n",
        "\n",
        "        train_loss, svi_state = epoch_train(rng_key_train, svi_state, num_train)\n",
        "        test_loss = eval_test(rng_key_test, svi_state, num_test)\n",
        "        test_loss_list = test_loss_list.at[epoch].set(test_loss)\n",
        "\n",
        "        print(f\"Epoch: {epoch}, Train Loss: {train_loss:.2f}, Test Loss: {test_loss:.2f} ({time.time() - t_start:.2f} s)\")\n",
        "\n",
        "        if math.isnan(test_loss):  # Stop early if NaN\n",
        "            print(f\"NaN encountered at hidden_dim={hidden_dim}, z_dim={z_dim}. Skipping...\")\n",
        "            break  # Stop training if NaN occurs\n",
        "\n",
        "    # Store results only if valid\n",
        "    if not math.isnan(test_loss_list[-1]):\n",
        "        test_loss_results_final[(hidden_dim, z_dim)] = test_loss_list[-1]\n",
        "        test_loss_results_mean[(hidden_dim, z_dim)] = jnp.nanmean(test_loss_list)\n",
        "        print(f\"Final Test loss for hidden_dim={hidden_dim}, z_dim={z_dim}: {test_loss_list[-1]}\")\n",
        "        print(f\"Mean Test loss for hidden_dim={hidden_dim}, z_dim={z_dim}: {jnp.nanmean(test_loss_list)}\")\n",
        "\n",
        "print(\"Grid search complete.\")\n",
        "print(\"Results:\", test_loss_results_final)\n",
        "print(\"Mean Test Loss Results:\", test_loss_results_mean)"
      ]
    },
    {
      "cell_type": "code",
      "execution_count": 12,
      "metadata": {
        "id": "ROJghrFwVTFd"
      },
      "outputs": [
        {
          "name": "stdout",
          "output_type": "stream",
          "text": [
            "{(20, 20): Array(4.717046, dtype=float32), (20, 30): Array(6.216748, dtype=float32), (20, 40): Array(5.647775, dtype=float32), (20, 50): Array(3.5251138, dtype=float32), (30, 20): Array(5.5476427, dtype=float32), (30, 30): Array(4.8625484, dtype=float32), (30, 40): Array(4.5657125, dtype=float32), (30, 50): Array(3.8090963, dtype=float32), (40, 20): Array(4.8310337, dtype=float32), (40, 30): Array(3.7662406, dtype=float32), (40, 40): Array(3.5595417, dtype=float32), (40, 50): Array(6.8811855, dtype=float32), (50, 20): Array(4.2808037, dtype=float32), (50, 30): Array(5.11656, dtype=float32), (50, 40): Array(4.463942, dtype=float32), (50, 50): Array(4.143667, dtype=float32)}\n",
            "{(20, 20): Array(18.344496, dtype=float32), (20, 30): Array(17.105976, dtype=float32), (20, 40): Array(16.142933, dtype=float32), (20, 50): Array(15.420431, dtype=float32), (30, 20): Array(15.178403, dtype=float32), (30, 30): Array(14.385074, dtype=float32), (30, 40): Array(14.134692, dtype=float32), (30, 50): Array(13.035873, dtype=float32), (40, 20): Array(13.456207, dtype=float32), (40, 30): Array(12.23092, dtype=float32), (40, 40): Array(12.159296, dtype=float32), (40, 50): Array(12.418922, dtype=float32), (50, 20): Array(12.89545, dtype=float32), (50, 30): Array(12.117559, dtype=float32), (50, 40): Array(11.693146, dtype=float32), (50, 50): Array(11.352896, dtype=float32)}\n"
          ]
        }
      ],
      "source": [
        "print(test_loss_results_final)\n",
        "print(test_loss_results_mean)"
      ]
    },
    {
      "cell_type": "markdown",
      "metadata": {
        "id": "RQSdxxnaWn1g"
      },
      "source": [
        "### Optimal Hyperparams are 50, 50 (kernel var lognormal(0, 0.5))\n"
      ]
    },
    {
      "cell_type": "markdown",
      "metadata": {
        "id": "Gb1HhnafTooi"
      },
      "source": [
        "## Initiate Training Loop with optimal hyperparams"
      ]
    },
    {
      "cell_type": "code",
      "execution_count": 13,
      "metadata": {
        "id": "_NR2_Or-Tq_E"
      },
      "outputs": [],
      "source": [
        "adam = numpyro.optim.Adam(step_size = args[\"learning_rate\"])\n",
        "svi = SVI(\n",
        "        vae_model,\n",
        "        vae_guide,\n",
        "        adam,\n",
        "        RenyiELBO(),\n",
        "        hidden_dim = 50,\n",
        "        z_dim = 50\n",
        "    )\n",
        "\n",
        "rng_key, rng_key_samp, rng_key_init = random.split(args[\"rng_key\"],3)\n",
        "#(num_samples, num_regions)\n",
        "init_batch = agg_gp_predictive(rng_key_, args)[\"gp_aggr\"] #(num_samples, num_regions) <- i.e (5,58)\n",
        "svi_state = svi.init(rng_key_init, init_batch)\n",
        "\n",
        "test_loss_list = []"
      ]
    },
    {
      "cell_type": "code",
      "execution_count": 14,
      "metadata": {
        "id": "T77REeqrUXy7"
      },
      "outputs": [
        {
          "name": "stdout",
          "output_type": "stream",
          "text": [
            "Epoch : 0, train loss : 24156.75, test loss : 5.42 (0.00 s.)\n",
            "Epoch : 1, train loss : 4943.25, test loss : 3.78 (0.00 s.)\n",
            "Epoch : 2, train loss : 3412.62, test loss : 3.63 (0.00 s.)\n",
            "Epoch : 3, train loss : 2729.23, test loss : 2.21 (0.00 s.)\n",
            "Epoch : 4, train loss : 2650.57, test loss : 2.38 (0.00 s.)\n",
            "Epoch : 5, train loss : 2638.77, test loss : 2.15 (0.00 s.)\n",
            "Epoch : 6, train loss : 2537.45, test loss : 2.18 (0.00 s.)\n",
            "Epoch : 7, train loss : 2535.65, test loss : 2.39 (0.00 s.)\n",
            "Epoch : 8, train loss : 2489.25, test loss : 2.49 (0.00 s.)\n",
            "Epoch : 9, train loss : 2463.81, test loss : 2.33 (0.00 s.)\n",
            "Epoch : 10, train loss : 2379.75, test loss : 2.35 (0.00 s.)\n",
            "Epoch : 11, train loss : 2349.32, test loss : 2.06 (0.00 s.)\n",
            "Epoch : 12, train loss : 2460.15, test loss : 2.13 (0.00 s.)\n",
            "Epoch : 13, train loss : 2182.09, test loss : 1.89 (0.00 s.)\n",
            "Epoch : 14, train loss : 2127.58, test loss : 1.95 (0.00 s.)\n",
            "Epoch : 15, train loss : 2019.70, test loss : 1.95 (0.00 s.)\n",
            "Epoch : 16, train loss : 1930.43, test loss : 1.89 (0.00 s.)\n",
            "Epoch : 17, train loss : 1861.78, test loss : 2.03 (0.00 s.)\n",
            "Epoch : 18, train loss : 1758.70, test loss : 1.60 (0.00 s.)\n",
            "Epoch : 19, train loss : 127459.80, test loss : 1.87 (0.00 s.)\n"
          ]
        }
      ],
      "source": [
        "for i in range(args[\"num_epochs\"]):\n",
        "    rng_key, rng_key_train, rng_key_test, rng_key_infer = random.split(rng_key, 4)\n",
        "    t_start = time.time()\n",
        "\n",
        "    num_train = 1000\n",
        "    # Where forward/backward pass gets called for train\n",
        "    train_loss , svi_state = epoch_train(rng_key_train, svi_state, num_train)\n",
        "\n",
        "    num_test = 1000\n",
        "\n",
        "    # Where forward/backward pass gets called for test\n",
        "    test_loss = eval_test(rng_key_test, svi_state, num_test)\n",
        "    test_loss_list += [test_loss]\n",
        "\n",
        "    print(\"Epoch : {}, train loss : {:.2f}, test loss : {:.2f} ({:.2f} s.)\".format(i, train_loss, test_loss, time.time() - t_start))\n",
        "\n",
        "    if math.isnan(test_loss):\n",
        "        break"
      ]
    },
    {
      "cell_type": "code",
      "execution_count": 15,
      "metadata": {
        "id": "eXgAJbgnUlCl"
      },
      "outputs": [],
      "source": [
        "#extract the decoder\n",
        "decoder_params = svi.get_params(svi_state)"
      ]
    },
    {
      "cell_type": "markdown",
      "metadata": {
        "id": "4fldbVSkT0RR"
      },
      "source": [
        "## Save the decoder"
      ]
    },
    {
      "cell_type": "code",
      "execution_count": 16,
      "metadata": {
        "id": "v9zDJExcT1OB"
      },
      "outputs": [
        {
          "name": "stdout",
          "output_type": "stream",
          "text": [
            "Decoder parameters saved to c:\\Users\\jessi\\Documents\\school\\y4\\s2\\DSE4101\\Individual\\FYP codes\\DSE_FYP\\simulation study\\model weights\\aggVAE\\aggVAE_e20_h50_z50\n"
          ]
        }
      ],
      "source": [
        "# Get script directory\n",
        "script_dir = os.getcwd()  # Get current working directory\n",
        "\n",
        "# Define the correct save path inside model_weights/\n",
        "save_dir = os.path.abspath(os.path.join(script_dir, \"..\", \"model weights\", \"aggVAE\"))\n",
        "os.makedirs(save_dir, exist_ok=True)  # Ensure the directory exists\n",
        "\n",
        "# Save decoder parameters\n",
        "save_path = os.path.join(save_dir, f\"aggVAE_e{args['num_epochs']}_h{args['hidden_dim']}_z{args['z_dim']}\")\n",
        "\n",
        "with open(save_path, \"wb\") as file:\n",
        "    pickle.dump(decoder_params, file)\n",
        "\n",
        "print(f\"Decoder parameters saved to {save_path}\")"
      ]
    }
  ],
  "metadata": {
    "accelerator": "GPU",
    "colab": {
      "gpuType": "T4",
      "machine_shape": "hm",
      "provenance": []
    },
    "kernelspec": {
      "display_name": "Python 3",
      "name": "python3"
    },
    "language_info": {
      "codemirror_mode": {
        "name": "ipython",
        "version": 3
      },
      "file_extension": ".py",
      "mimetype": "text/x-python",
      "name": "python",
      "nbconvert_exporter": "python",
      "pygments_lexer": "ipython3",
      "version": "3.13.1"
    }
  },
  "nbformat": 4,
  "nbformat_minor": 0
}
