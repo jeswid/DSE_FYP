{
  "cells": [
    {
      "cell_type": "code",
      "execution_count": 1,
      "metadata": {
        "colab": {
          "base_uri": "https://localhost:8080/"
        },
        "id": "t6EnwpCfeQJF",
        "outputId": "eb44fd24-5a2d-4989-bc1f-b714f997cea0"
      },
      "outputs": [
        {
          "name": "stdout",
          "output_type": "stream",
          "text": [
            "Defaulting to user installation because normal site-packages is not writeable\n",
            "Requirement already satisfied: numpyro in c:\\users\\jessi\\appdata\\roaming\\python\\python313\\site-packages (0.17.0)\n",
            "Requirement already satisfied: jax>=0.4.25 in c:\\users\\jessi\\appdata\\roaming\\python\\python313\\site-packages (from numpyro) (0.5.3)\n",
            "Requirement already satisfied: jaxlib>=0.4.25 in c:\\users\\jessi\\appdata\\roaming\\python\\python313\\site-packages (from numpyro) (0.5.3)\n",
            "Requirement already satisfied: multipledispatch in c:\\users\\jessi\\appdata\\roaming\\python\\python313\\site-packages (from numpyro) (1.0.0)\n",
            "Requirement already satisfied: numpy in c:\\users\\jessi\\appdata\\roaming\\python\\python313\\site-packages (from numpyro) (2.2.2)\n",
            "Requirement already satisfied: tqdm in c:\\users\\jessi\\appdata\\roaming\\python\\python313\\site-packages (from numpyro) (4.67.1)\n",
            "Requirement already satisfied: ml_dtypes>=0.4.0 in c:\\users\\jessi\\appdata\\roaming\\python\\python313\\site-packages (from jax>=0.4.25->numpyro) (0.5.1)\n",
            "Requirement already satisfied: opt_einsum in c:\\users\\jessi\\appdata\\roaming\\python\\python313\\site-packages (from jax>=0.4.25->numpyro) (3.4.0)\n",
            "Requirement already satisfied: scipy>=1.11.1 in c:\\users\\jessi\\appdata\\roaming\\python\\python313\\site-packages (from jax>=0.4.25->numpyro) (1.15.2)\n",
            "Requirement already satisfied: colorama in c:\\users\\jessi\\appdata\\roaming\\python\\python313\\site-packages (from tqdm->numpyro) (0.4.6)\n"
          ]
        }
      ],
      "source": [
        "!pip install numpyro"
      ]
    },
    {
      "cell_type": "code",
      "execution_count": 2,
      "metadata": {
        "id": "nDjUgPoZOs5y"
      },
      "outputs": [
        {
          "name": "stderr",
          "output_type": "stream",
          "text": [
            "C:\\Users\\jessi\\AppData\\Roaming\\Python\\Python313\\site-packages\\tqdm\\auto.py:21: TqdmWarning: IProgress not found. Please update jupyter and ipywidgets. See https://ipywidgets.readthedocs.io/en/stable/user_install.html\n",
            "  from .autonotebook import tqdm as notebook_tqdm\n"
          ]
        }
      ],
      "source": [
        "import os\n",
        "import math\n",
        "import numpy as np\n",
        "\n",
        "import torch\n",
        "import time\n",
        "\n",
        "import itertools\n",
        "import jax\n",
        "import jax.numpy as jnp\n",
        "from jax import random, lax, jit, ops\n",
        "from jax.example_libraries import stax\n",
        "\n",
        "import numpyro\n",
        "from numpyro.infer import SVI, MCMC, NUTS, init_to_median, Predictive, RenyiELBO\n",
        "import numpyro.distributions as dist\n",
        "\n",
        "import geopandas as gpd\n",
        "import plotly.express as px\n",
        "\n",
        "from termcolor import colored\n",
        "\n",
        "import pickle"
      ]
    },
    {
      "cell_type": "code",
      "execution_count": 3,
      "metadata": {
        "colab": {
          "base_uri": "https://localhost:8080/"
        },
        "id": "1SeHa4ZBTSsz",
        "outputId": "dd823e2b-d9a2-4462-b982-a4f289805605"
      },
      "outputs": [
        {
          "name": "stdout",
          "output_type": "stream",
          "text": [
            "Script B running on cpu\n"
          ]
        }
      ],
      "source": [
        "#ensure this script runs on GPU 1\n",
        "os.environ[\"CUDA_VISIBLE_DEVICES\"] = \"1\"  # Use GPU 1\n",
        "\n",
        "device = torch.device(\"cuda\" if torch.cuda.is_available() else \"cpu\")\n",
        "print(f\"Script B running on {device}\")"
      ]
    },
    {
      "cell_type": "code",
      "execution_count": 4,
      "metadata": {
        "id": "RWApQLwlTWKD"
      },
      "outputs": [],
      "source": [
        "#define the functions necessary\n",
        "def dist_euclid(x, z):\n",
        "    \"\"\"\n",
        "    Computes Eucledian Distance Between Regions. This function is used by\n",
        "    exp_sq_kernel function (kernel function for gaussian processes)\n",
        "    \"\"\"\n",
        "    x = jnp.array(x) # (ngrid_pts, lat/lon) <- i.e (7304,2)\n",
        "    z = jnp.array(z) # (ngrid_pts, lat/lon) <- i.e (7304,2)\n",
        "    if len(x.shape)==1:\n",
        "        x = x.reshape(x.shape[0], 1) #(2618,) -> (7304,1)\n",
        "    if len(z.shape)==1:\n",
        "        z = x.reshape(x.shape[0], 1) #(2618,) -> (7304,1)\n",
        "    n_x, m = x.shape # 7304 , 2\n",
        "    n_z, m_z = z.shape # 7304 , 2\n",
        "    assert m == m_z\n",
        "    delta = jnp.zeros((n_x,n_z)) #(ngrid_pts,ngrid_pts) <- i.e (7304,7304)\n",
        "    for d in jnp.arange(m):\n",
        "        x_d = x[:,d] #(ngrid_pts-lat/lon,) <- (7304,)\n",
        "        z_d = z[:,d] #(ngrid_pts-lat/lon,) <- (7304,)\n",
        "        delta += (x_d[:,jnp.newaxis] - z_d)**2 # (7304,7304)\n",
        "\n",
        "    return jnp.sqrt(delta) #(7304,7304)\n",
        "\n",
        "def exp_sq_kernel(x, z, var, length, noise, jitter=1.0e-4):\n",
        "    dist = dist_euclid(x, z) #(7304, 7304)\n",
        "    deltaXsq = jnp.power(dist/ length, 2.0)\n",
        "    k = var * jnp.exp(-0.5 * deltaXsq)\n",
        "    k += (noise + jitter) * jnp.eye(x.shape[0])\n",
        "    return k # (ngrid_pts, ngrid_pts) <- (7304,7304)\n",
        "\n",
        "def M_g(M, g):\n",
        "    '''\n",
        "    - $M$ is a matrix with binary entries $m_{ij},$ showing whether point $j$ is in polygon $i$\n",
        "    - $g$ is a vector of GP draws over grid\n",
        "    - $maltmul(M, g)$ gives a vector of sums over each polygon\n",
        "    '''\n",
        "    M = jnp.array(M)\n",
        "    g = jnp.array(g).T\n",
        "    return(jnp.matmul(M, g))"
      ]
    },
    {
      "cell_type": "markdown",
      "metadata": {
        "id": "AOpyAuFOQxOI"
      },
      "source": [
        "# AggVAE Model"
      ]
    },
    {
      "cell_type": "markdown",
      "metadata": {
        "id": "W35Bwle9YtgB"
      },
      "source": [
        "## Function for Predictive Simulation (Prior)"
      ]
    },
    {
      "cell_type": "code",
      "execution_count": 5,
      "metadata": {
        "id": "pqpibNNMYxp5"
      },
      "outputs": [],
      "source": [
        "def gp_aggr(args):\n",
        "    x = args[\"x\"]  # Spatial grid points: (num_grid_points, 2)\n",
        "    gp_kernel = args[\"gp_kernel\"]  # Gaussian Process kernel\n",
        "    noise = args[\"noise\"]\n",
        "    jitter = args[\"jitter\"]\n",
        "\n",
        "    M_lo= args[\"M_lo\"] # (9, 2618)\n",
        "    M_hi = args[\"M_hi\"] # (49, 2618),\n",
        "\n",
        "    # GP hyperparameters\n",
        "    kernel_length = numpyro.sample(\"kernel_length\", args[\"kernel_length\"])\n",
        "    kernel_var = numpyro.sample(\"kernel_var\", args[\"kernel_var\"])\n",
        "\n",
        "    # GP Kernel and Sample\n",
        "    k = gp_kernel(x, x, kernel_var, kernel_length, noise, jitter)\n",
        "    f = numpyro.sample(\"f\", dist.MultivariateNormal(loc=jnp.zeros(x.shape[0]), covariance_matrix=k))  # (num_grid_points,)\n",
        "\n",
        "    #aggregate f into gp_aggr according to indexing of (point in polygon)\n",
        "    gp_aggr_lo = numpyro.deterministic(\"gp_aggr_lo\", M_g(M_lo, f)) #(num_regions,) <- i.e (9,) for lo\n",
        "    gp_aggr_hi = numpyro.deterministic(\"gp_aggr_hi\", M_g(M_hi, f)) #(49,)\n",
        "    gp_aggr = numpyro.deterministic(\"gp_aggr\", jnp.concatenate([gp_aggr_lo, gp_aggr_hi])) #(58,)\n",
        "\n",
        "\n",
        "    return gp_aggr"
      ]
    },
    {
      "cell_type": "markdown",
      "metadata": {
        "id": "yjA0_Y9YTBYf"
      },
      "source": [
        "## Define the VAE"
      ]
    },
    {
      "cell_type": "code",
      "execution_count": 6,
      "metadata": {
        "id": "8-qYl8VcTDzq"
      },
      "outputs": [],
      "source": [
        "def vae_encoder(hidden_dim = 50, z_dim = 40):\n",
        "    return stax.serial(\n",
        "        #(num_samples, num_regions) -> (num_samples, hidden_dims)\n",
        "        stax.Dense(hidden_dim, W_init = stax.randn()),\n",
        "        stax.Elu,\n",
        "        stax.FanOut(2),\n",
        "        stax.parallel(\n",
        "            # mean : (num_samples, hidden_dim) -> (num_samples, z_dim)\n",
        "            stax.Dense(z_dim, W_init = stax.randn()), #(5,50)\n",
        "            #std : (num_samples, hidden_dim) -> (num_samples, z_dim)\n",
        "            stax.serial(stax.Dense(z_dim, W_init = stax.randn()), stax.Exp)\n",
        "        )\n",
        "    )\n",
        "\n",
        "def vae_decoder(hidden_dim, out_dim):\n",
        "    return stax.serial(\n",
        "        # (num_samples, z_dim) -> (num_samples, hidden_dim)\n",
        "        stax.Dense(hidden_dim, W_init = stax.randn()),\n",
        "        stax.Elu,\n",
        "        # (num_samples, hidden_dim) -> (num_samples, num_regions)\n",
        "        stax.Dense(out_dim, W_init = stax.randn())\n",
        "    )\n",
        "\n",
        "\n",
        "def vae_model(batch, hidden_dim, z_dim):\n",
        "    \"\"\"This computes the decoder portion\"\"\"\n",
        "    batch = jnp.reshape(batch, (batch.shape[0], -1)) # (num_samples, num_regions)\n",
        "    batch_dim, out_dim = jnp.shape(batch)\n",
        "\n",
        "    # vae-decoder in numpyro module\n",
        "    decode = numpyro.module(\n",
        "        name = \"decoder\",\n",
        "        nn = vae_decoder(hidden_dim = hidden_dim, out_dim = out_dim),\n",
        "        input_shape = (batch_dim, z_dim) #(5,40)\n",
        "    )\n",
        "\n",
        "    # Sample a univariate normal\n",
        "    z = numpyro.sample(\n",
        "        \"z\",\n",
        "        dist.Normal(\n",
        "            jnp.zeros((batch_dim,z_dim)),\n",
        "            jnp.ones((batch_dim,z_dim))\n",
        "            )\n",
        "    )\n",
        "    # Forward pass from decoder\n",
        "    gen_loc = decode(z) #(num_regions,)\n",
        "    obs = numpyro.sample(\n",
        "        \"obs\",\n",
        "        dist.Normal(gen_loc, args[\"vae_var\"]),\n",
        "        obs = batch\n",
        "    ) #(num_samples, num_regions)\n",
        "    return obs\n",
        "\n",
        "\n",
        "def vae_guide(batch, hidden_dim, z_dim):\n",
        "    \"\"\"This computes the encoder portion\"\"\"\n",
        "    batch = jnp.reshape(batch, (batch.shape[0], -1)) #(num_samples, num_regions)\n",
        "    batch_dim, input_dim = jnp.shape(batch)# num_samples , num_regions\n",
        "\n",
        "    # vae-encoder in numpyro module\n",
        "    encode = numpyro.module(\n",
        "        name = \"encoder\",\n",
        "        nn = vae_encoder(hidden_dim=hidden_dim,z_dim = z_dim),\n",
        "        input_shape = (batch_dim, input_dim) #(5,58)\n",
        "    ) #(num_samples, num_regions) -> (num_samples, hidden_dims)\n",
        "\n",
        "    # Samapling mu, sigma - Pretty much the forward pass\n",
        "    z_loc, z_std = encode(batch) #mu : (num_samples, z_dim), sigma2 : (num_samples, z_dim)\n",
        "    # Sample a value z based on mu and sigma\n",
        "    z = numpyro.sample(\"z\", dist.Normal(z_loc, z_std)) #(num_sample, z_dim)\n",
        "    return z"
      ]
    },
    {
      "cell_type": "markdown",
      "metadata": {
        "id": "EA7tPNDnWgpG"
      },
      "source": [
        "## Train the VAE encoder"
      ]
    },
    {
      "cell_type": "code",
      "execution_count": 7,
      "metadata": {
        "id": "D8_MUf7FWlAX"
      },
      "outputs": [],
      "source": [
        "@jax.jit\n",
        "def epoch_train(rng_key, svi_state, num_train):\n",
        "    def body_fn(i, val):\n",
        "        rng_key_i = jax.random.fold_in(rng_key, i) #Array(2,)\n",
        "        rng_key_i, rng_key_ls, rng_key_var, rng_key_noise = jax.random.split(rng_key_i, 4) #Tuple(Array(2,) x 4)\n",
        "        loss_sum, svi_state = val #val --svi_state\n",
        "\n",
        "        batch = agg_gp_predictive(rng_key_i, args)[\"gp_aggr\"] #(5,116) <- num_samples : 5, total_districts : 116\n",
        "        #* svi is where the vae_model & vae_guide gets applied\n",
        "        svi_state, loss = svi.update(svi_state, batch)\n",
        "        loss_sum += loss / args[\"batch_size\"]\n",
        "        return loss_sum, svi_state\n",
        "\n",
        "    return lax.fori_loop(lower = 0, upper = num_train, body_fun=body_fn, init_val=(0.0, svi_state))\n",
        "\n",
        "@jax.jit\n",
        "def eval_test(rng_key, svi_state, num_test):\n",
        "    def body_fn(i, loss_sum):\n",
        "        rng_key_i = jax.random.fold_in(rng_key, i)\n",
        "        rng_key_i, rng_key_ls, rng_key_varm, rng_key_noise = jax.random.split(rng_key_i, 4)\n",
        "        batch = agg_gp_predictive(rng_key_i, args)[\"gp_aggr\"]\n",
        "        #* svi is where the vae_model & vae_guide gets applied\n",
        "        loss = svi.evaluate(svi_state, batch) / args[\"batch_size\"]\n",
        "        loss_sum += loss\n",
        "        return loss_sum\n",
        "\n",
        "    loss = lax.fori_loop(lower = 0, upper = num_test,body_fun =  body_fn, init_val = 0.0)\n",
        "    loss = loss / num_test\n",
        "    return loss"
      ]
    },
    {
      "cell_type": "markdown",
      "metadata": {
        "id": "HHkZ6dqhTEKl"
      },
      "source": [
        "## Function to plot the GP"
      ]
    },
    {
      "cell_type": "code",
      "execution_count": 8,
      "metadata": {
        "id": "7rke7xN5TJts"
      },
      "outputs": [],
      "source": [
        "def plot_process(gp_draws):\n",
        "    p = px.line()\n",
        "    for i in range(len(gp_draws)):\n",
        "        p.add_scatter(x = np.arange(gp_draws.shape[1]), y = gp_draws[i, :])\n",
        "\n",
        "    p.update_traces(line_color = \"black\")\n",
        "    p.update_layout(\n",
        "        template = \"plotly_white\",\n",
        "        xaxis_title = \"region\", yaxis_title = \"num cases\",\n",
        "        showlegend = False)\n",
        "    p.show()"
      ]
    },
    {
      "cell_type": "markdown",
      "metadata": {
        "id": "Egml-fn9TKMJ"
      },
      "source": [
        "## Load the variables"
      ]
    },
    {
      "cell_type": "code",
      "execution_count": 9,
      "metadata": {
        "id": "veD2sogTTMIc"
      },
      "outputs": [],
      "source": [
        "# Lat/Lon Values of artificial grid\n",
        "x = np.load(\"../data/lat_lon_x_jkt.npy\")\n",
        "pol_pts_jkt_lo = np.load(\"../data/pol_pts_jkt_lo.npy\")\n",
        "pol_pts_jkt_hi = np.load(\"../data/pol_pts_jkt_hi.npy\")"
      ]
    },
    {
      "cell_type": "markdown",
      "metadata": {
        "id": "DgiCqcl7TDwR"
      },
      "source": [
        "## Arguments"
      ]
    },
    {
      "cell_type": "code",
      "execution_count": 19,
      "metadata": {
        "id": "D79oQ7R-THBC"
      },
      "outputs": [],
      "source": [
        "args = {\n",
        "        \"x\": x,\n",
        "        \"gp_kernel\": exp_sq_kernel,\n",
        "        \"noise\": 1e-4,\n",
        "        \"M_lo\": jnp.array(pol_pts_jkt_lo),\n",
        "        \"M_hi\": jnp.array(pol_pts_jkt_hi),\n",
        "        \"jitter\" : 1e-4,\n",
        "        # VAE training\n",
        "        \"rng_key\": random.PRNGKey(5),\n",
        "        #common num_epochs 20-50\n",
        "        \"num_epochs\": 20,\n",
        "        #learning rate 0.0005 common choice, ADAM optimiser adapts the learning rate accordingly\n",
        "        \"learning_rate\": 0.0005,\n",
        "        #chosen to be 100 (no tune)\n",
        "        \"batch_size\": 100,\n",
        "        #change this to the optimal values after hyperparameter tuning\n",
        "        \"hidden_dim\": 40,\n",
        "        \"z_dim\": 40,\n",
        "        #chosen to be 100 (no tune)\n",
        "        \"num_train\": 100,\n",
        "        \"num_test\":100,\n",
        "        #variance set to 1 bc the latent variable prior distribution is assumed to be normal\n",
        "        \"vae_var\": 1,\n",
        "        \"kernel_length\": dist.LogNormal(-1, 0.5),\n",
        "        \"kernel_var\": dist.LogNormal(0, 1)\n",
        "    }\n"
      ]
    },
    {
      "cell_type": "markdown",
      "metadata": {
        "id": "dp6EFT7RTLKZ"
      },
      "source": [
        "## Prior predictive simulation"
      ]
    },
    {
      "cell_type": "code",
      "execution_count": 11,
      "metadata": {
        "id": "72dE-HgATNBA"
      },
      "outputs": [],
      "source": [
        "rng_key, rng_key_ = random.split(random.PRNGKey(4))\n",
        "agg_gp_predictive = Predictive(gp_aggr,num_samples = 5)\n",
        "agg_gp_draws = agg_gp_predictive(rng_key_, args)[\"gp_aggr\"] #(num_samples, num_regions)"
      ]
    },
    {
      "cell_type": "code",
      "execution_count": 12,
      "metadata": {
        "colab": {
          "base_uri": "https://localhost:8080/",
          "height": 542
        },
        "id": "KMnPLKZwJrO5",
        "outputId": "91781ac5-552d-46eb-a1d7-8ca55e2a8fd7"
      },
      "outputs": [
        {
          "data": {
            "application/vnd.plotly.v1+json": {
              "config": {
                "plotlyServerURL": "https://plot.ly"
              },
              "data": [
                {
                  "hovertemplate": "<extra></extra>",
                  "legendgroup": "",
                  "line": {
                    "color": "black",
                    "dash": "solid"
                  },
                  "marker": {
                    "symbol": "circle"
                  },
                  "mode": "lines",
                  "name": "",
                  "orientation": "v",
                  "showlegend": false,
                  "type": "scatter",
                  "xaxis": "x",
                  "yaxis": "y"
                },
                {
                  "line": {
                    "color": "black"
                  },
                  "type": "scatter",
                  "x": {
                    "bdata": "AAECAwQFBgcICQoLDA0ODxAREhMUFRYX",
                    "dtype": "i1"
                  },
                  "y": {
                    "bdata": "KrcUwiq3FMIqtxTCKrcUwqsZ1MCrGdTAqxnUwKsZ1MCEVU7AhFVOwIRVTsCEVU7A4ZUBweGVAcHhlQHB4ZUBwY4XJMGOFyTBjhckwY4XJMH+jA/B/owPwf6MD8H+jA/B",
                    "dtype": "f4"
                  }
                },
                {
                  "line": {
                    "color": "black"
                  },
                  "type": "scatter",
                  "x": {
                    "bdata": "AAECAwQFBgcICQoLDA0ODxAREhMUFRYX",
                    "dtype": "i1"
                  },
                  "y": {
                    "bdata": "TB3BQEwdwUBMHcFATB3BQAu5EsALuRLAC7kSwAu5EsB0M10/dDNdP3QzXT90M10/HgEjwB4BI8AeASPAHgEjwKUCiUClAolApQKJQKUCiUBMUbdATFG3QExRt0BMUbdA",
                    "dtype": "f4"
                  }
                },
                {
                  "line": {
                    "color": "black"
                  },
                  "type": "scatter",
                  "x": {
                    "bdata": "AAECAwQFBgcICQoLDA0ODxAREhMUFRYX",
                    "dtype": "i1"
                  },
                  "y": {
                    "bdata": "e6XzQnul80J7pfNCe6XzQqgamUGoGplBqBqZQagamUHA9XlBwPV5QcD1eUHA9XlBwGJzQcBic0HAYnNBwGJzQZh180GYdfNBmHXzQZh180G4rCVCuKwlQrisJUK4rCVC",
                    "dtype": "f4"
                  }
                },
                {
                  "line": {
                    "color": "black"
                  },
                  "type": "scatter",
                  "x": {
                    "bdata": "AAECAwQFBgcICQoLDA0ODxAREhMUFRYX",
                    "dtype": "i1"
                  },
                  "y": {
                    "bdata": "GtSFwhrUhcIa1IXCGtSFwo+BKMGPgSjBj4EowY+BKMFmCs3AZgrNwGYKzcBmCs3Adi4HwXYuB8F2LgfBdi4HwbQkjcG0JI3BtCSNwbQkjcEWEb/BFhG/wRYRv8EWEb/B",
                    "dtype": "f4"
                  }
                },
                {
                  "line": {
                    "color": "black"
                  },
                  "type": "scatter",
                  "x": {
                    "bdata": "AAECAwQFBgcICQoLDA0ODxAREhMUFRYX",
                    "dtype": "i1"
                  },
                  "y": {
                    "bdata": "jTh2Qo04dkKNOHZCjTh2Ql6tRkFerUZBXq1GQV6tRkEHz7NAB8+zQAfPs0AHz7NASHhjQUh4Y0FIeGNBSHhjQeX5cEHl+XBB5flwQeX5cEEj22NBI9tjQSPbY0Ej22NB",
                    "dtype": "f4"
                  }
                }
              ],
              "layout": {
                "legend": {
                  "tracegroupgap": 0
                },
                "margin": {
                  "t": 60
                },
                "showlegend": false,
                "template": {
                  "data": {
                    "bar": [
                      {
                        "error_x": {
                          "color": "#2a3f5f"
                        },
                        "error_y": {
                          "color": "#2a3f5f"
                        },
                        "marker": {
                          "line": {
                            "color": "white",
                            "width": 0.5
                          },
                          "pattern": {
                            "fillmode": "overlay",
                            "size": 10,
                            "solidity": 0.2
                          }
                        },
                        "type": "bar"
                      }
                    ],
                    "barpolar": [
                      {
                        "marker": {
                          "line": {
                            "color": "white",
                            "width": 0.5
                          },
                          "pattern": {
                            "fillmode": "overlay",
                            "size": 10,
                            "solidity": 0.2
                          }
                        },
                        "type": "barpolar"
                      }
                    ],
                    "carpet": [
                      {
                        "aaxis": {
                          "endlinecolor": "#2a3f5f",
                          "gridcolor": "#C8D4E3",
                          "linecolor": "#C8D4E3",
                          "minorgridcolor": "#C8D4E3",
                          "startlinecolor": "#2a3f5f"
                        },
                        "baxis": {
                          "endlinecolor": "#2a3f5f",
                          "gridcolor": "#C8D4E3",
                          "linecolor": "#C8D4E3",
                          "minorgridcolor": "#C8D4E3",
                          "startlinecolor": "#2a3f5f"
                        },
                        "type": "carpet"
                      }
                    ],
                    "choropleth": [
                      {
                        "colorbar": {
                          "outlinewidth": 0,
                          "ticks": ""
                        },
                        "type": "choropleth"
                      }
                    ],
                    "contour": [
                      {
                        "colorbar": {
                          "outlinewidth": 0,
                          "ticks": ""
                        },
                        "colorscale": [
                          [
                            0,
                            "#0d0887"
                          ],
                          [
                            0.1111111111111111,
                            "#46039f"
                          ],
                          [
                            0.2222222222222222,
                            "#7201a8"
                          ],
                          [
                            0.3333333333333333,
                            "#9c179e"
                          ],
                          [
                            0.4444444444444444,
                            "#bd3786"
                          ],
                          [
                            0.5555555555555556,
                            "#d8576b"
                          ],
                          [
                            0.6666666666666666,
                            "#ed7953"
                          ],
                          [
                            0.7777777777777778,
                            "#fb9f3a"
                          ],
                          [
                            0.8888888888888888,
                            "#fdca26"
                          ],
                          [
                            1,
                            "#f0f921"
                          ]
                        ],
                        "type": "contour"
                      }
                    ],
                    "contourcarpet": [
                      {
                        "colorbar": {
                          "outlinewidth": 0,
                          "ticks": ""
                        },
                        "type": "contourcarpet"
                      }
                    ],
                    "heatmap": [
                      {
                        "colorbar": {
                          "outlinewidth": 0,
                          "ticks": ""
                        },
                        "colorscale": [
                          [
                            0,
                            "#0d0887"
                          ],
                          [
                            0.1111111111111111,
                            "#46039f"
                          ],
                          [
                            0.2222222222222222,
                            "#7201a8"
                          ],
                          [
                            0.3333333333333333,
                            "#9c179e"
                          ],
                          [
                            0.4444444444444444,
                            "#bd3786"
                          ],
                          [
                            0.5555555555555556,
                            "#d8576b"
                          ],
                          [
                            0.6666666666666666,
                            "#ed7953"
                          ],
                          [
                            0.7777777777777778,
                            "#fb9f3a"
                          ],
                          [
                            0.8888888888888888,
                            "#fdca26"
                          ],
                          [
                            1,
                            "#f0f921"
                          ]
                        ],
                        "type": "heatmap"
                      }
                    ],
                    "histogram": [
                      {
                        "marker": {
                          "pattern": {
                            "fillmode": "overlay",
                            "size": 10,
                            "solidity": 0.2
                          }
                        },
                        "type": "histogram"
                      }
                    ],
                    "histogram2d": [
                      {
                        "colorbar": {
                          "outlinewidth": 0,
                          "ticks": ""
                        },
                        "colorscale": [
                          [
                            0,
                            "#0d0887"
                          ],
                          [
                            0.1111111111111111,
                            "#46039f"
                          ],
                          [
                            0.2222222222222222,
                            "#7201a8"
                          ],
                          [
                            0.3333333333333333,
                            "#9c179e"
                          ],
                          [
                            0.4444444444444444,
                            "#bd3786"
                          ],
                          [
                            0.5555555555555556,
                            "#d8576b"
                          ],
                          [
                            0.6666666666666666,
                            "#ed7953"
                          ],
                          [
                            0.7777777777777778,
                            "#fb9f3a"
                          ],
                          [
                            0.8888888888888888,
                            "#fdca26"
                          ],
                          [
                            1,
                            "#f0f921"
                          ]
                        ],
                        "type": "histogram2d"
                      }
                    ],
                    "histogram2dcontour": [
                      {
                        "colorbar": {
                          "outlinewidth": 0,
                          "ticks": ""
                        },
                        "colorscale": [
                          [
                            0,
                            "#0d0887"
                          ],
                          [
                            0.1111111111111111,
                            "#46039f"
                          ],
                          [
                            0.2222222222222222,
                            "#7201a8"
                          ],
                          [
                            0.3333333333333333,
                            "#9c179e"
                          ],
                          [
                            0.4444444444444444,
                            "#bd3786"
                          ],
                          [
                            0.5555555555555556,
                            "#d8576b"
                          ],
                          [
                            0.6666666666666666,
                            "#ed7953"
                          ],
                          [
                            0.7777777777777778,
                            "#fb9f3a"
                          ],
                          [
                            0.8888888888888888,
                            "#fdca26"
                          ],
                          [
                            1,
                            "#f0f921"
                          ]
                        ],
                        "type": "histogram2dcontour"
                      }
                    ],
                    "mesh3d": [
                      {
                        "colorbar": {
                          "outlinewidth": 0,
                          "ticks": ""
                        },
                        "type": "mesh3d"
                      }
                    ],
                    "parcoords": [
                      {
                        "line": {
                          "colorbar": {
                            "outlinewidth": 0,
                            "ticks": ""
                          }
                        },
                        "type": "parcoords"
                      }
                    ],
                    "pie": [
                      {
                        "automargin": true,
                        "type": "pie"
                      }
                    ],
                    "scatter": [
                      {
                        "fillpattern": {
                          "fillmode": "overlay",
                          "size": 10,
                          "solidity": 0.2
                        },
                        "type": "scatter"
                      }
                    ],
                    "scatter3d": [
                      {
                        "line": {
                          "colorbar": {
                            "outlinewidth": 0,
                            "ticks": ""
                          }
                        },
                        "marker": {
                          "colorbar": {
                            "outlinewidth": 0,
                            "ticks": ""
                          }
                        },
                        "type": "scatter3d"
                      }
                    ],
                    "scattercarpet": [
                      {
                        "marker": {
                          "colorbar": {
                            "outlinewidth": 0,
                            "ticks": ""
                          }
                        },
                        "type": "scattercarpet"
                      }
                    ],
                    "scattergeo": [
                      {
                        "marker": {
                          "colorbar": {
                            "outlinewidth": 0,
                            "ticks": ""
                          }
                        },
                        "type": "scattergeo"
                      }
                    ],
                    "scattergl": [
                      {
                        "marker": {
                          "colorbar": {
                            "outlinewidth": 0,
                            "ticks": ""
                          }
                        },
                        "type": "scattergl"
                      }
                    ],
                    "scattermap": [
                      {
                        "marker": {
                          "colorbar": {
                            "outlinewidth": 0,
                            "ticks": ""
                          }
                        },
                        "type": "scattermap"
                      }
                    ],
                    "scattermapbox": [
                      {
                        "marker": {
                          "colorbar": {
                            "outlinewidth": 0,
                            "ticks": ""
                          }
                        },
                        "type": "scattermapbox"
                      }
                    ],
                    "scatterpolar": [
                      {
                        "marker": {
                          "colorbar": {
                            "outlinewidth": 0,
                            "ticks": ""
                          }
                        },
                        "type": "scatterpolar"
                      }
                    ],
                    "scatterpolargl": [
                      {
                        "marker": {
                          "colorbar": {
                            "outlinewidth": 0,
                            "ticks": ""
                          }
                        },
                        "type": "scatterpolargl"
                      }
                    ],
                    "scatterternary": [
                      {
                        "marker": {
                          "colorbar": {
                            "outlinewidth": 0,
                            "ticks": ""
                          }
                        },
                        "type": "scatterternary"
                      }
                    ],
                    "surface": [
                      {
                        "colorbar": {
                          "outlinewidth": 0,
                          "ticks": ""
                        },
                        "colorscale": [
                          [
                            0,
                            "#0d0887"
                          ],
                          [
                            0.1111111111111111,
                            "#46039f"
                          ],
                          [
                            0.2222222222222222,
                            "#7201a8"
                          ],
                          [
                            0.3333333333333333,
                            "#9c179e"
                          ],
                          [
                            0.4444444444444444,
                            "#bd3786"
                          ],
                          [
                            0.5555555555555556,
                            "#d8576b"
                          ],
                          [
                            0.6666666666666666,
                            "#ed7953"
                          ],
                          [
                            0.7777777777777778,
                            "#fb9f3a"
                          ],
                          [
                            0.8888888888888888,
                            "#fdca26"
                          ],
                          [
                            1,
                            "#f0f921"
                          ]
                        ],
                        "type": "surface"
                      }
                    ],
                    "table": [
                      {
                        "cells": {
                          "fill": {
                            "color": "#EBF0F8"
                          },
                          "line": {
                            "color": "white"
                          }
                        },
                        "header": {
                          "fill": {
                            "color": "#C8D4E3"
                          },
                          "line": {
                            "color": "white"
                          }
                        },
                        "type": "table"
                      }
                    ]
                  },
                  "layout": {
                    "annotationdefaults": {
                      "arrowcolor": "#2a3f5f",
                      "arrowhead": 0,
                      "arrowwidth": 1
                    },
                    "autotypenumbers": "strict",
                    "coloraxis": {
                      "colorbar": {
                        "outlinewidth": 0,
                        "ticks": ""
                      }
                    },
                    "colorscale": {
                      "diverging": [
                        [
                          0,
                          "#8e0152"
                        ],
                        [
                          0.1,
                          "#c51b7d"
                        ],
                        [
                          0.2,
                          "#de77ae"
                        ],
                        [
                          0.3,
                          "#f1b6da"
                        ],
                        [
                          0.4,
                          "#fde0ef"
                        ],
                        [
                          0.5,
                          "#f7f7f7"
                        ],
                        [
                          0.6,
                          "#e6f5d0"
                        ],
                        [
                          0.7,
                          "#b8e186"
                        ],
                        [
                          0.8,
                          "#7fbc41"
                        ],
                        [
                          0.9,
                          "#4d9221"
                        ],
                        [
                          1,
                          "#276419"
                        ]
                      ],
                      "sequential": [
                        [
                          0,
                          "#0d0887"
                        ],
                        [
                          0.1111111111111111,
                          "#46039f"
                        ],
                        [
                          0.2222222222222222,
                          "#7201a8"
                        ],
                        [
                          0.3333333333333333,
                          "#9c179e"
                        ],
                        [
                          0.4444444444444444,
                          "#bd3786"
                        ],
                        [
                          0.5555555555555556,
                          "#d8576b"
                        ],
                        [
                          0.6666666666666666,
                          "#ed7953"
                        ],
                        [
                          0.7777777777777778,
                          "#fb9f3a"
                        ],
                        [
                          0.8888888888888888,
                          "#fdca26"
                        ],
                        [
                          1,
                          "#f0f921"
                        ]
                      ],
                      "sequentialminus": [
                        [
                          0,
                          "#0d0887"
                        ],
                        [
                          0.1111111111111111,
                          "#46039f"
                        ],
                        [
                          0.2222222222222222,
                          "#7201a8"
                        ],
                        [
                          0.3333333333333333,
                          "#9c179e"
                        ],
                        [
                          0.4444444444444444,
                          "#bd3786"
                        ],
                        [
                          0.5555555555555556,
                          "#d8576b"
                        ],
                        [
                          0.6666666666666666,
                          "#ed7953"
                        ],
                        [
                          0.7777777777777778,
                          "#fb9f3a"
                        ],
                        [
                          0.8888888888888888,
                          "#fdca26"
                        ],
                        [
                          1,
                          "#f0f921"
                        ]
                      ]
                    },
                    "colorway": [
                      "#636efa",
                      "#EF553B",
                      "#00cc96",
                      "#ab63fa",
                      "#FFA15A",
                      "#19d3f3",
                      "#FF6692",
                      "#B6E880",
                      "#FF97FF",
                      "#FECB52"
                    ],
                    "font": {
                      "color": "#2a3f5f"
                    },
                    "geo": {
                      "bgcolor": "white",
                      "lakecolor": "white",
                      "landcolor": "white",
                      "showlakes": true,
                      "showland": true,
                      "subunitcolor": "#C8D4E3"
                    },
                    "hoverlabel": {
                      "align": "left"
                    },
                    "hovermode": "closest",
                    "mapbox": {
                      "style": "light"
                    },
                    "paper_bgcolor": "white",
                    "plot_bgcolor": "white",
                    "polar": {
                      "angularaxis": {
                        "gridcolor": "#EBF0F8",
                        "linecolor": "#EBF0F8",
                        "ticks": ""
                      },
                      "bgcolor": "white",
                      "radialaxis": {
                        "gridcolor": "#EBF0F8",
                        "linecolor": "#EBF0F8",
                        "ticks": ""
                      }
                    },
                    "scene": {
                      "xaxis": {
                        "backgroundcolor": "white",
                        "gridcolor": "#DFE8F3",
                        "gridwidth": 2,
                        "linecolor": "#EBF0F8",
                        "showbackground": true,
                        "ticks": "",
                        "zerolinecolor": "#EBF0F8"
                      },
                      "yaxis": {
                        "backgroundcolor": "white",
                        "gridcolor": "#DFE8F3",
                        "gridwidth": 2,
                        "linecolor": "#EBF0F8",
                        "showbackground": true,
                        "ticks": "",
                        "zerolinecolor": "#EBF0F8"
                      },
                      "zaxis": {
                        "backgroundcolor": "white",
                        "gridcolor": "#DFE8F3",
                        "gridwidth": 2,
                        "linecolor": "#EBF0F8",
                        "showbackground": true,
                        "ticks": "",
                        "zerolinecolor": "#EBF0F8"
                      }
                    },
                    "shapedefaults": {
                      "line": {
                        "color": "#2a3f5f"
                      }
                    },
                    "ternary": {
                      "aaxis": {
                        "gridcolor": "#DFE8F3",
                        "linecolor": "#A2B1C6",
                        "ticks": ""
                      },
                      "baxis": {
                        "gridcolor": "#DFE8F3",
                        "linecolor": "#A2B1C6",
                        "ticks": ""
                      },
                      "bgcolor": "white",
                      "caxis": {
                        "gridcolor": "#DFE8F3",
                        "linecolor": "#A2B1C6",
                        "ticks": ""
                      }
                    },
                    "title": {
                      "x": 0.05
                    },
                    "xaxis": {
                      "automargin": true,
                      "gridcolor": "#EBF0F8",
                      "linecolor": "#EBF0F8",
                      "ticks": "",
                      "title": {
                        "standoff": 15
                      },
                      "zerolinecolor": "#EBF0F8",
                      "zerolinewidth": 2
                    },
                    "yaxis": {
                      "automargin": true,
                      "gridcolor": "#EBF0F8",
                      "linecolor": "#EBF0F8",
                      "ticks": "",
                      "title": {
                        "standoff": 15
                      },
                      "zerolinecolor": "#EBF0F8",
                      "zerolinewidth": 2
                    }
                  }
                },
                "xaxis": {
                  "anchor": "y",
                  "domain": [
                    0,
                    1
                  ],
                  "title": {
                    "text": "region"
                  }
                },
                "yaxis": {
                  "anchor": "x",
                  "domain": [
                    0,
                    1
                  ],
                  "title": {
                    "text": "num cases"
                  }
                }
              }
            }
          },
          "metadata": {},
          "output_type": "display_data"
        }
      ],
      "source": [
        "# Plotting\n",
        "plot_process(agg_gp_draws)"
      ]
    },
    {
      "cell_type": "markdown",
      "metadata": {
        "id": "24YH-_biUJG4"
      },
      "source": [
        "## Hyperparameter Tuning"
      ]
    },
    {
      "cell_type": "code",
      "execution_count": 13,
      "metadata": {
        "colab": {
          "base_uri": "https://localhost:8080/"
        },
        "id": "Ldon-7FAUM1i",
        "outputId": "466e11c6-4c95-4a56-e370-73d1f7ff242d"
      },
      "outputs": [
        {
          "name": "stdout",
          "output_type": "stream",
          "text": [
            "Training with hidden_dim=20, z_dim=20\n",
            "Epoch: 0, Train Loss: 62690.86, Test Loss: 659.35 (3.63 s)\n",
            "Epoch: 1, Train Loss: 39545.20, Test Loss: 267.84 (0.12 s)\n",
            "Epoch: 2, Train Loss: 26016.62, Test Loss: 141.80 (0.13 s)\n",
            "Epoch: 3, Train Loss: 13316.55, Test Loss: 98.49 (0.10 s)\n",
            "Epoch: 4, Train Loss: 8194.10, Test Loss: 77.63 (0.11 s)\n",
            "Epoch: 5, Train Loss: 7716.47, Test Loss: 59.24 (0.10 s)\n",
            "Epoch: 6, Train Loss: 5440.21, Test Loss: 58.47 (0.09 s)\n",
            "Epoch: 7, Train Loss: 5796.90, Test Loss: 60.20 (0.09 s)\n",
            "Epoch: 8, Train Loss: 3981.10, Test Loss: 36.58 (0.09 s)\n",
            "Epoch: 9, Train Loss: 4065.93, Test Loss: 35.60 (0.10 s)\n",
            "Epoch: 10, Train Loss: 7679.67, Test Loss: 56.80 (0.10 s)\n",
            "Epoch: 11, Train Loss: 13832.93, Test Loss: 1347.12 (0.09 s)\n",
            "Epoch: 12, Train Loss: 3406.36, Test Loss: 26.75 (0.10 s)\n",
            "Epoch: 13, Train Loss: 2806.83, Test Loss: 28.86 (0.10 s)\n",
            "Epoch: 14, Train Loss: 2723.90, Test Loss: 30.63 (0.09 s)\n",
            "Epoch: 15, Train Loss: 2407.02, Test Loss: 25.74 (0.09 s)\n",
            "Epoch: 16, Train Loss: 2661.98, Test Loss: 27.14 (0.09 s)\n",
            "Epoch: 17, Train Loss: 2827.27, Test Loss: 25.84 (0.09 s)\n",
            "Epoch: 18, Train Loss: 2805.48, Test Loss: 25.79 (0.10 s)\n",
            "Epoch: 19, Train Loss: 2921.23, Test Loss: 29.02 (0.10 s)\n",
            "Final Test loss for hidden_dim=20, z_dim=20: 29.02176284790039\n",
            "Mean Test loss for hidden_dim=20, z_dim=20: 155.94491577148438\n",
            "Training with hidden_dim=20, z_dim=30\n",
            "Epoch: 0, Train Loss: 62656.97, Test Loss: 1089.07 (3.77 s)\n",
            "Epoch: 1, Train Loss: 37502.50, Test Loss: 230.92 (0.10 s)\n",
            "Epoch: 2, Train Loss: 23263.47, Test Loss: 116.95 (0.11 s)\n",
            "Epoch: 3, Train Loss: 11203.11, Test Loss: 85.90 (0.11 s)\n",
            "Epoch: 4, Train Loss: 7274.49, Test Loss: 69.78 (0.10 s)\n",
            "Epoch: 5, Train Loss: 6995.27, Test Loss: 54.01 (0.10 s)\n",
            "Epoch: 6, Train Loss: 5048.58, Test Loss: 54.52 (0.09 s)\n",
            "Epoch: 7, Train Loss: 5404.77, Test Loss: 47.46 (0.09 s)\n",
            "Epoch: 8, Train Loss: 3598.97, Test Loss: 35.78 (0.10 s)\n",
            "Epoch: 9, Train Loss: 3873.14, Test Loss: 32.69 (0.10 s)\n",
            "Epoch: 10, Train Loss: 3806.28, Test Loss: 33.33 (0.11 s)\n",
            "Epoch: 11, Train Loss: 3504.92, Test Loss: 32.40 (0.10 s)\n",
            "Epoch: 12, Train Loss: 3155.77, Test Loss: 25.02 (0.10 s)\n",
            "Epoch: 13, Train Loss: 2606.34, Test Loss: 26.37 (0.10 s)\n",
            "Epoch: 14, Train Loss: 2500.05, Test Loss: 28.23 (0.11 s)\n",
            "Epoch: 15, Train Loss: 2189.59, Test Loss: 24.10 (0.09 s)\n",
            "Epoch: 16, Train Loss: 2592.50, Test Loss: 24.97 (0.09 s)\n",
            "Epoch: 17, Train Loss: 2509.05, Test Loss: 22.85 (0.09 s)\n",
            "Epoch: 18, Train Loss: 2479.16, Test Loss: 23.44 (0.10 s)\n",
            "Epoch: 19, Train Loss: 2585.41, Test Loss: 29.72 (0.09 s)\n",
            "Final Test loss for hidden_dim=20, z_dim=30: 29.716379165649414\n",
            "Mean Test loss for hidden_dim=20, z_dim=30: 104.37583923339844\n",
            "Training with hidden_dim=20, z_dim=40\n",
            "Epoch: 0, Train Loss: 62814.25, Test Loss: 676.13 (3.21 s)\n",
            "Epoch: 1, Train Loss: 37854.63, Test Loss: 242.23 (0.10 s)\n",
            "Epoch: 2, Train Loss: 23203.36, Test Loss: 125.96 (0.10 s)\n",
            "Epoch: 3, Train Loss: 11457.05, Test Loss: 87.75 (0.11 s)\n",
            "Epoch: 4, Train Loss: 7395.44, Test Loss: 70.78 (0.10 s)\n",
            "Epoch: 5, Train Loss: 6963.68, Test Loss: 55.05 (0.10 s)\n",
            "Epoch: 6, Train Loss: 5017.64, Test Loss: 54.33 (0.10 s)\n",
            "Epoch: 7, Train Loss: 5271.94, Test Loss: 56.18 (0.09 s)\n",
            "Epoch: 8, Train Loss: 3751.83, Test Loss: 36.84 (0.10 s)\n",
            "Epoch: 9, Train Loss: 3886.63, Test Loss: 32.59 (0.11 s)\n",
            "Epoch: 10, Train Loss: 4090.90, Test Loss: 33.59 (0.10 s)\n",
            "Epoch: 11, Train Loss: 3523.80, Test Loss: 32.00 (0.10 s)\n",
            "Epoch: 12, Train Loss: 3227.53, Test Loss: 23.77 (0.10 s)\n",
            "Epoch: 13, Train Loss: 2496.11, Test Loss: 25.75 (0.10 s)\n",
            "Epoch: 14, Train Loss: 2432.48, Test Loss: 27.91 (0.10 s)\n",
            "Epoch: 15, Train Loss: 2162.69, Test Loss: 22.20 (0.10 s)\n",
            "Epoch: 16, Train Loss: 2439.90, Test Loss: 24.92 (0.10 s)\n",
            "Epoch: 17, Train Loss: 2479.13, Test Loss: 22.94 (0.10 s)\n",
            "Epoch: 18, Train Loss: 2460.27, Test Loss: 22.22 (0.10 s)\n",
            "Epoch: 19, Train Loss: 2495.35, Test Loss: 24.35 (0.10 s)\n",
            "Final Test loss for hidden_dim=20, z_dim=40: 24.34615707397461\n",
            "Mean Test loss for hidden_dim=20, z_dim=40: 84.8742446899414\n",
            "Training with hidden_dim=20, z_dim=50\n",
            "Epoch: 0, Train Loss: 62452.92, Test Loss: 730.35 (3.64 s)\n",
            "Epoch: 1, Train Loss: 33106.77, Test Loss: 216.03 (0.10 s)\n",
            "Epoch: 2, Train Loss: 21845.47, Test Loss: 125.53 (0.10 s)\n",
            "Epoch: 3, Train Loss: 11244.53, Test Loss: 86.44 (0.10 s)\n",
            "Epoch: 4, Train Loss: 7297.52, Test Loss: 72.98 (0.10 s)\n",
            "Epoch: 5, Train Loss: 6984.00, Test Loss: 56.26 (0.11 s)\n",
            "Epoch: 6, Train Loss: 5018.73, Test Loss: 52.96 (0.10 s)\n",
            "Epoch: 7, Train Loss: 5190.59, Test Loss: 68.00 (0.10 s)\n",
            "Epoch: 8, Train Loss: 8409.59, Test Loss: 56.43 (0.11 s)\n",
            "Epoch: 9, Train Loss: 13708.20, Test Loss: 59.27 (0.10 s)\n",
            "Epoch: 10, Train Loss: 6856.65, Test Loss: 37.15 (0.11 s)\n",
            "Epoch: 11, Train Loss: 3950.54, Test Loss: 33.19 (0.11 s)\n",
            "Epoch: 12, Train Loss: 87082.73, Test Loss: 45.58 (0.11 s)\n",
            "Epoch: 13, Train Loss: 9455.27, Test Loss: 36.90 (0.12 s)\n",
            "Epoch: 14, Train Loss: 3166.69, Test Loss: 29.11 (0.11 s)\n",
            "Epoch: 15, Train Loss: 2570.33, Test Loss: 26.73 (0.10 s)\n",
            "Epoch: 16, Train Loss: 5216.16, Test Loss: 31.28 (0.10 s)\n",
            "Epoch: 17, Train Loss: 4173.06, Test Loss: 29.09 (0.10 s)\n",
            "Epoch: 18, Train Loss: 3236.62, Test Loss: 31.89 (0.10 s)\n",
            "Epoch: 19, Train Loss: 3362.69, Test Loss: 29.91 (0.10 s)\n",
            "Final Test loss for hidden_dim=20, z_dim=50: 29.911405563354492\n",
            "Mean Test loss for hidden_dim=20, z_dim=50: 92.7552261352539\n",
            "Training with hidden_dim=30, z_dim=20\n",
            "Epoch: 0, Train Loss: 62119.38, Test Loss: 628.02 (3.73 s)\n",
            "Epoch: 1, Train Loss: 32081.46, Test Loss: 195.52 (0.11 s)\n",
            "Epoch: 2, Train Loss: 17948.12, Test Loss: 98.74 (0.10 s)\n",
            "Epoch: 3, Train Loss: 9655.42, Test Loss: 73.43 (0.10 s)\n",
            "Epoch: 4, Train Loss: 32253.12, Test Loss: 2287.55 (0.09 s)\n",
            "Epoch: 5, Train Loss: 13715.88, Test Loss: 67.34 (0.10 s)\n",
            "Epoch: 6, Train Loss: 5131.97, Test Loss: 54.25 (0.10 s)\n",
            "Epoch: 7, Train Loss: 5443.49, Test Loss: 46.73 (0.10 s)\n",
            "Epoch: 8, Train Loss: 3744.98, Test Loss: 35.81 (0.10 s)\n",
            "Epoch: 9, Train Loss: 4023.08, Test Loss: 35.29 (0.10 s)\n",
            "Epoch: 10, Train Loss: 4067.12, Test Loss: 35.68 (0.11 s)\n",
            "Epoch: 11, Train Loss: 6238.01, Test Loss: 33.82 (0.10 s)\n",
            "Epoch: 12, Train Loss: 3188.28, Test Loss: 27.98 (0.10 s)\n",
            "Epoch: 13, Train Loss: 2896.90, Test Loss: 29.55 (0.11 s)\n",
            "Epoch: 14, Train Loss: 2797.60, Test Loss: 33.24 (0.10 s)\n",
            "Epoch: 15, Train Loss: 2440.79, Test Loss: 27.08 (0.10 s)\n",
            "Epoch: 16, Train Loss: 2732.30, Test Loss: 28.51 (0.11 s)\n",
            "Epoch: 17, Train Loss: 2882.52, Test Loss: 26.67 (0.13 s)\n",
            "Epoch: 18, Train Loss: 2764.29, Test Loss: 26.82 (0.10 s)\n",
            "Epoch: 19, Train Loss: 2909.45, Test Loss: 27.48 (0.10 s)\n",
            "Final Test loss for hidden_dim=30, z_dim=20: 27.47747230529785\n",
            "Mean Test loss for hidden_dim=30, z_dim=20: 190.9761199951172\n",
            "Training with hidden_dim=30, z_dim=30\n",
            "Epoch: 0, Train Loss: 61869.88, Test Loss: 702.95 (4.15 s)\n",
            "Epoch: 1, Train Loss: 28655.26, Test Loss: 165.99 (0.11 s)\n",
            "Epoch: 2, Train Loss: 15725.14, Test Loss: 85.25 (0.11 s)\n",
            "Epoch: 3, Train Loss: 8366.06, Test Loss: 64.44 (0.11 s)\n",
            "Epoch: 4, Train Loss: 6764.53, Test Loss: 55.63 (0.11 s)\n",
            "Epoch: 5, Train Loss: 5405.50, Test Loss: 42.43 (0.11 s)\n",
            "Epoch: 6, Train Loss: 4009.92, Test Loss: 49.44 (0.10 s)\n",
            "Epoch: 7, Train Loss: 4455.54, Test Loss: 49.66 (0.13 s)\n",
            "Epoch: 8, Train Loss: 3198.17, Test Loss: 30.81 (0.13 s)\n",
            "Epoch: 9, Train Loss: 3310.45, Test Loss: 28.98 (0.11 s)\n",
            "Epoch: 10, Train Loss: 3322.16, Test Loss: 28.46 (0.11 s)\n",
            "Epoch: 11, Train Loss: 3109.20, Test Loss: 27.50 (0.11 s)\n",
            "Epoch: 12, Train Loss: 2932.66, Test Loss: 21.94 (0.11 s)\n",
            "Epoch: 13, Train Loss: 2304.84, Test Loss: 23.09 (0.11 s)\n",
            "Epoch: 14, Train Loss: 2232.37, Test Loss: 25.42 (0.10 s)\n",
            "Epoch: 15, Train Loss: 1948.53, Test Loss: 21.32 (0.10 s)\n",
            "Epoch: 16, Train Loss: 2291.82, Test Loss: 22.39 (0.10 s)\n",
            "Epoch: 17, Train Loss: 2233.10, Test Loss: 20.75 (0.10 s)\n",
            "Epoch: 18, Train Loss: 2199.18, Test Loss: 20.98 (0.10 s)\n",
            "Epoch: 19, Train Loss: 2814.12, Test Loss: 54.18 (0.10 s)\n",
            "Final Test loss for hidden_dim=30, z_dim=30: 54.176109313964844\n",
            "Mean Test loss for hidden_dim=30, z_dim=30: 77.08076477050781\n",
            "Training with hidden_dim=30, z_dim=40\n",
            "Epoch: 0, Train Loss: 62401.31, Test Loss: 623.95 (3.35 s)\n",
            "Epoch: 1, Train Loss: 31267.22, Test Loss: 173.39 (0.12 s)\n",
            "Epoch: 2, Train Loss: 15901.46, Test Loss: 88.11 (0.10 s)\n",
            "Epoch: 3, Train Loss: 8945.00, Test Loss: 66.46 (0.10 s)\n",
            "Epoch: 4, Train Loss: 5900.69, Test Loss: 65.93 (0.10 s)\n",
            "Epoch: 5, Train Loss: 5715.05, Test Loss: 42.82 (0.10 s)\n",
            "Epoch: 6, Train Loss: 4179.20, Test Loss: 42.85 (0.10 s)\n",
            "Epoch: 7, Train Loss: 4854.30, Test Loss: 37.18 (0.10 s)\n",
            "Epoch: 8, Train Loss: 2949.46, Test Loss: 28.07 (0.11 s)\n",
            "Epoch: 9, Train Loss: 3135.42, Test Loss: 33.49 (0.11 s)\n",
            "Epoch: 10, Train Loss: 3987.24, Test Loss: 28.05 (0.10 s)\n",
            "Epoch: 11, Train Loss: 3274.22, Test Loss: 26.04 (0.10 s)\n",
            "Epoch: 12, Train Loss: 2500.71, Test Loss: 21.89 (0.11 s)\n",
            "Epoch: 13, Train Loss: 2210.26, Test Loss: 22.65 (0.10 s)\n",
            "Epoch: 14, Train Loss: 2189.25, Test Loss: 27.02 (0.10 s)\n",
            "Epoch: 15, Train Loss: 1847.12, Test Loss: 19.95 (0.11 s)\n",
            "Epoch: 16, Train Loss: 2342.14, Test Loss: 24.06 (0.10 s)\n",
            "Epoch: 17, Train Loss: 2148.65, Test Loss: 20.25 (0.10 s)\n",
            "Epoch: 18, Train Loss: 2088.63, Test Loss: 20.27 (0.10 s)\n",
            "Epoch: 19, Train Loss: 2349.29, Test Loss: 22.63 (0.11 s)\n",
            "Final Test loss for hidden_dim=30, z_dim=40: 22.630237579345703\n",
            "Mean Test loss for hidden_dim=30, z_dim=40: 71.75289916992188\n",
            "Training with hidden_dim=30, z_dim=50\n",
            "Epoch: 0, Train Loss: 62254.77, Test Loss: 731.97 (3.65 s)\n",
            "Epoch: 1, Train Loss: 35039.77, Test Loss: 171.90 (0.11 s)\n",
            "Epoch: 2, Train Loss: 15402.72, Test Loss: 80.66 (0.11 s)\n",
            "Epoch: 3, Train Loss: 7644.25, Test Loss: 60.36 (0.11 s)\n",
            "Epoch: 4, Train Loss: 5351.71, Test Loss: 51.72 (0.11 s)\n",
            "Epoch: 5, Train Loss: 5167.67, Test Loss: 40.87 (0.10 s)\n",
            "Epoch: 6, Train Loss: 3776.76, Test Loss: 41.42 (0.10 s)\n",
            "Epoch: 7, Train Loss: 95861.07, Test Loss: 43.60 (0.11 s)\n",
            "Epoch: 8, Train Loss: 4921.15, Test Loss: 41.92 (0.10 s)\n",
            "Epoch: 9, Train Loss: 5188.30, Test Loss: 41.29 (0.11 s)\n",
            "Epoch: 10, Train Loss: 4974.71, Test Loss: 35.17 (0.10 s)\n",
            "Epoch: 11, Train Loss: 3714.21, Test Loss: 34.95 (0.11 s)\n",
            "Epoch: 12, Train Loss: 3313.85, Test Loss: 28.15 (0.14 s)\n",
            "Epoch: 13, Train Loss: 2982.04, Test Loss: 30.55 (0.10 s)\n",
            "Epoch: 14, Train Loss: 2927.91, Test Loss: 34.10 (0.10 s)\n",
            "Epoch: 15, Train Loss: 2570.27, Test Loss: 28.68 (0.11 s)\n",
            "Epoch: 16, Train Loss: 3038.75, Test Loss: 30.10 (0.10 s)\n",
            "Epoch: 17, Train Loss: 3104.23, Test Loss: 29.06 (0.10 s)\n",
            "Epoch: 18, Train Loss: 3056.64, Test Loss: 29.12 (0.10 s)\n",
            "Epoch: 19, Train Loss: 3241.76, Test Loss: 31.43 (0.10 s)\n",
            "Final Test loss for hidden_dim=30, z_dim=50: 31.427656173706055\n",
            "Mean Test loss for hidden_dim=30, z_dim=50: 80.85015106201172\n",
            "Training with hidden_dim=40, z_dim=20\n",
            "Epoch: 0, Train Loss: 61339.21, Test Loss: 620.47 (3.50 s)\n",
            "Epoch: 1, Train Loss: 38253.58, Test Loss: 213.50 (0.10 s)\n",
            "Epoch: 2, Train Loss: 16672.67, Test Loss: 89.65 (0.10 s)\n",
            "Epoch: 3, Train Loss: 8825.77, Test Loss: 67.57 (0.10 s)\n",
            "Epoch: 4, Train Loss: 5886.53, Test Loss: 56.26 (0.10 s)\n",
            "Epoch: 5, Train Loss: 5761.85, Test Loss: 45.02 (0.11 s)\n",
            "Epoch: 6, Train Loss: 4228.47, Test Loss: 48.94 (0.10 s)\n",
            "Epoch: 7, Train Loss: 4897.56, Test Loss: 47.34 (0.11 s)\n",
            "Epoch: 8, Train Loss: 3864.89, Test Loss: 35.75 (0.11 s)\n",
            "Epoch: 9, Train Loss: 3660.51, Test Loss: 32.16 (0.10 s)\n",
            "Epoch: 10, Train Loss: 3620.02, Test Loss: 29.52 (0.11 s)\n",
            "Epoch: 11, Train Loss: 8836.61, Test Loss: 37.24 (0.11 s)\n",
            "Epoch: 12, Train Loss: 3084.19, Test Loss: 24.34 (0.10 s)\n",
            "Epoch: 13, Train Loss: 2535.22, Test Loss: 25.94 (0.10 s)\n",
            "Epoch: 14, Train Loss: 2510.85, Test Loss: 28.23 (0.10 s)\n",
            "Epoch: 15, Train Loss: 2205.41, Test Loss: 23.56 (0.11 s)\n",
            "Epoch: 16, Train Loss: 2604.71, Test Loss: 25.10 (0.10 s)\n",
            "Epoch: 17, Train Loss: 2579.00, Test Loss: 24.12 (0.10 s)\n",
            "Epoch: 18, Train Loss: 2528.80, Test Loss: 24.15 (0.10 s)\n",
            "Epoch: 19, Train Loss: 2660.81, Test Loss: 25.22 (0.10 s)\n",
            "Final Test loss for hidden_dim=40, z_dim=20: 25.22492027282715\n",
            "Mean Test loss for hidden_dim=40, z_dim=20: 76.2042007446289\n",
            "Training with hidden_dim=40, z_dim=30\n",
            "Epoch: 0, Train Loss: 61780.70, Test Loss: 731.44 (3.80 s)\n",
            "Epoch: 1, Train Loss: 25223.76, Test Loss: 144.58 (0.10 s)\n",
            "Epoch: 2, Train Loss: 13621.46, Test Loss: 75.03 (0.11 s)\n",
            "Epoch: 3, Train Loss: 7355.86, Test Loss: 57.19 (0.10 s)\n",
            "Epoch: 4, Train Loss: 340044.69, Test Loss: 109.84 (0.10 s)\n",
            "Epoch: 5, Train Loss: 31203.58, Test Loss: 125.37 (0.10 s)\n",
            "Epoch: 6, Train Loss: 28716.02, Test Loss: 166.30 (0.10 s)\n",
            "Epoch: 7, Train Loss: nan, Test Loss: nan (0.11 s)\n",
            "NaN encountered at hidden_dim=40, z_dim=30. Skipping...\n",
            "Final Test loss for hidden_dim=40, z_dim=30: 0.0\n",
            "Mean Test loss for hidden_dim=40, z_dim=30: 74.1968765258789\n",
            "Training with hidden_dim=40, z_dim=40\n",
            "Epoch: 0, Train Loss: 62530.37, Test Loss: 611.77 (3.50 s)\n",
            "Epoch: 1, Train Loss: 31150.11, Test Loss: 163.88 (0.10 s)\n",
            "Epoch: 2, Train Loss: 16183.99, Test Loss: 71.46 (0.10 s)\n",
            "Epoch: 3, Train Loss: 7057.25, Test Loss: 57.06 (0.16 s)\n",
            "Epoch: 4, Train Loss: 5109.80, Test Loss: 50.91 (0.10 s)\n",
            "Epoch: 5, Train Loss: 5117.88, Test Loss: 53.77 (0.11 s)\n",
            "Epoch: 6, Train Loss: 3931.67, Test Loss: 42.78 (0.11 s)\n",
            "Epoch: 7, Train Loss: 4301.33, Test Loss: 43.32 (0.10 s)\n",
            "Epoch: 8, Train Loss: 3038.96, Test Loss: 28.72 (0.10 s)\n",
            "Epoch: 9, Train Loss: 3290.82, Test Loss: 26.29 (0.11 s)\n",
            "Epoch: 10, Train Loss: 3214.46, Test Loss: 28.45 (0.13 s)\n",
            "Epoch: 11, Train Loss: 2990.46, Test Loss: 27.50 (0.11 s)\n",
            "Epoch: 12, Train Loss: 2850.02, Test Loss: 21.06 (0.11 s)\n",
            "Epoch: 13, Train Loss: 2214.38, Test Loss: 22.74 (0.11 s)\n",
            "Epoch: 14, Train Loss: 2170.54, Test Loss: 24.78 (0.10 s)\n",
            "Epoch: 15, Train Loss: 1972.82, Test Loss: 20.86 (0.10 s)\n",
            "Epoch: 16, Train Loss: 4469.54, Test Loss: 40.02 (0.10 s)\n",
            "Epoch: 17, Train Loss: 2300.19, Test Loss: 20.76 (0.10 s)\n",
            "Epoch: 18, Train Loss: 2306.20, Test Loss: 21.48 (0.10 s)\n",
            "Epoch: 19, Train Loss: 2381.33, Test Loss: 21.91 (0.10 s)\n",
            "Final Test loss for hidden_dim=40, z_dim=40: 21.912702560424805\n",
            "Mean Test loss for hidden_dim=40, z_dim=40: 69.97639465332031\n",
            "Training with hidden_dim=40, z_dim=50\n",
            "Epoch: 0, Train Loss: 60007.86, Test Loss: 512.34 (3.64 s)\n",
            "Epoch: 1, Train Loss: 21579.36, Test Loss: 114.86 (0.10 s)\n",
            "Epoch: 2, Train Loss: 11282.64, Test Loss: 63.45 (0.11 s)\n",
            "Epoch: 3, Train Loss: 6307.62, Test Loss: 48.29 (0.11 s)\n",
            "Epoch: 4, Train Loss: 4408.93, Test Loss: 55.18 (0.11 s)\n",
            "Epoch: 5, Train Loss: 4325.40, Test Loss: 36.34 (0.12 s)\n",
            "Epoch: 6, Train Loss: 3428.63, Test Loss: 36.35 (0.11 s)\n",
            "Epoch: 7, Train Loss: 46141.02, Test Loss: 51.99 (0.10 s)\n",
            "Epoch: 8, Train Loss: 2999.44, Test Loss: 25.63 (0.11 s)\n",
            "Epoch: 9, Train Loss: 2839.14, Test Loss: 24.55 (0.12 s)\n",
            "Epoch: 10, Train Loss: 2825.71, Test Loss: 25.24 (0.12 s)\n",
            "Epoch: 11, Train Loss: 4585.03, Test Loss: 125799.90 (0.12 s)\n",
            "Epoch: 12, Train Loss: 1785157.12, Test Loss: 4151.49 (0.11 s)\n",
            "Epoch: 13, Train Loss: 10297.66, Test Loss: 108185.14 (0.11 s)\n",
            "Epoch: 14, Train Loss: 357744.78, Test Loss: 36.94 (0.11 s)\n",
            "Epoch: 15, Train Loss: 2736.97, Test Loss: 29.70 (0.10 s)\n",
            "Epoch: 16, Train Loss: 2955.82, Test Loss: 27.41 (0.11 s)\n",
            "Epoch: 17, Train Loss: 3843.93, Test Loss: 25.44 (0.11 s)\n",
            "Epoch: 18, Train Loss: 2702.83, Test Loss: 25.47 (0.11 s)\n",
            "Epoch: 19, Train Loss: 2782.90, Test Loss: 28.03 (0.11 s)\n",
            "Final Test loss for hidden_dim=40, z_dim=50: 28.029052734375\n",
            "Mean Test loss for hidden_dim=40, z_dim=50: 11965.1865234375\n",
            "Training with hidden_dim=50, z_dim=20\n",
            "Epoch: 0, Train Loss: 60078.32, Test Loss: 530.83 (3.73 s)\n",
            "Epoch: 1, Train Loss: 28842.26, Test Loss: 235.29 (0.11 s)\n",
            "Epoch: 2, Train Loss: 17239.70, Test Loss: 75.38 (0.11 s)\n",
            "Epoch: 3, Train Loss: 7320.77, Test Loss: 58.69 (0.10 s)\n",
            "Epoch: 4, Train Loss: 5272.87, Test Loss: 51.99 (0.10 s)\n",
            "Epoch: 5, Train Loss: 5190.45, Test Loss: 41.45 (0.10 s)\n",
            "Epoch: 6, Train Loss: 3904.46, Test Loss: 44.90 (0.10 s)\n",
            "Epoch: 7, Train Loss: 4331.45, Test Loss: 49.05 (0.10 s)\n",
            "Epoch: 8, Train Loss: 3224.03, Test Loss: 30.25 (0.11 s)\n",
            "Epoch: 9, Train Loss: 3260.13, Test Loss: 27.05 (0.10 s)\n",
            "Epoch: 10, Train Loss: 5513.14, Test Loss: 28.72 (0.11 s)\n",
            "Epoch: 11, Train Loss: 3226.53, Test Loss: 29.17 (0.10 s)\n",
            "Epoch: 12, Train Loss: 2979.16, Test Loss: 21.72 (0.10 s)\n",
            "Epoch: 13, Train Loss: 2358.09, Test Loss: 22.70 (0.12 s)\n",
            "Epoch: 14, Train Loss: 2344.52, Test Loss: 25.66 (0.12 s)\n",
            "Epoch: 15, Train Loss: 2005.56, Test Loss: 21.00 (0.10 s)\n",
            "Epoch: 16, Train Loss: 2416.02, Test Loss: 23.39 (0.10 s)\n",
            "Epoch: 17, Train Loss: 2318.49, Test Loss: 22.70 (0.10 s)\n",
            "Epoch: 18, Train Loss: 2253.29, Test Loss: 21.03 (0.11 s)\n",
            "Epoch: 19, Train Loss: 2352.38, Test Loss: 22.80 (0.10 s)\n",
            "Final Test loss for hidden_dim=50, z_dim=20: 22.802024841308594\n",
            "Mean Test loss for hidden_dim=50, z_dim=20: 69.18865966796875\n",
            "Training with hidden_dim=50, z_dim=30\n",
            "Epoch: 0, Train Loss: 60097.36, Test Loss: 1314.38 (4.16 s)\n",
            "Epoch: 1, Train Loss: 28568.06, Test Loss: 121.41 (0.13 s)\n",
            "Epoch: 2, Train Loss: 12132.01, Test Loss: 69.07 (0.12 s)\n",
            "Epoch: 3, Train Loss: 6871.71, Test Loss: 53.52 (0.12 s)\n",
            "Epoch: 4, Train Loss: 4711.81, Test Loss: 45.41 (0.11 s)\n",
            "Epoch: 5, Train Loss: 4618.35, Test Loss: 36.57 (0.11 s)\n",
            "Epoch: 6, Train Loss: 3427.84, Test Loss: 38.19 (0.12 s)\n",
            "Epoch: 7, Train Loss: 6722641141373599744.00, Test Loss: 5209.00 (0.12 s)\n",
            "Epoch: 8, Train Loss: 4011039.00, Test Loss: 372.11 (0.11 s)\n",
            "Epoch: 9, Train Loss: 330423.75, Test Loss: 2486.39 (0.12 s)\n",
            "Epoch: 10, Train Loss: 245258.66, Test Loss: 513.50 (0.11 s)\n",
            "Epoch: 11, Train Loss: 70920.44, Test Loss: 673.79 (0.10 s)\n",
            "Epoch: 12, Train Loss: 47390.04, Test Loss: 460.59 (0.11 s)\n",
            "Epoch: 13, Train Loss: 185196.75, Test Loss: 589.25 (0.11 s)\n",
            "Epoch: 14, Train Loss: 60503.05, Test Loss: 802.49 (0.10 s)\n",
            "Epoch: 15, Train Loss: 49342.20, Test Loss: 659.28 (0.11 s)\n",
            "Epoch: 16, Train Loss: 4125405952.00, Test Loss: 1017571.81 (0.11 s)\n",
            "Epoch: 17, Train Loss: 42006629842944.00, Test Loss: 2008.15 (0.11 s)\n",
            "Epoch: 18, Train Loss: 263464.25, Test Loss: 733461.19 (0.10 s)\n",
            "Epoch: 19, Train Loss: 58363166720.00, Test Loss: 53239.55 (0.11 s)\n",
            "Final Test loss for hidden_dim=50, z_dim=30: 53239.55078125\n",
            "Mean Test loss for hidden_dim=50, z_dim=30: 90986.2734375\n",
            "Training with hidden_dim=50, z_dim=40\n",
            "Epoch: 0, Train Loss: 78953.70, Test Loss: 878.18 (3.78 s)\n",
            "Epoch: 1, Train Loss: 23839.60, Test Loss: 133.64 (0.12 s)\n",
            "Epoch: 2, Train Loss: 12428.08, Test Loss: 80.65 (0.12 s)\n",
            "Epoch: 3, Train Loss: 7234.61, Test Loss: 54.92 (0.11 s)\n",
            "Epoch: 4, Train Loss: 4847.02, Test Loss: 78.61 (0.11 s)\n",
            "Epoch: 5, Train Loss: 4902.16, Test Loss: 37.91 (0.13 s)\n",
            "Epoch: 6, Train Loss: 3633.63, Test Loss: 37.79 (0.12 s)\n",
            "Epoch: 7, Train Loss: 4104.57, Test Loss: 39.44 (0.11 s)\n",
            "Epoch: 8, Train Loss: 2647.64, Test Loss: 25.15 (0.12 s)\n",
            "Epoch: 9, Train Loss: 3069.24, Test Loss: 35.93 (0.10 s)\n",
            "Epoch: 10, Train Loss: 196154.98, Test Loss: 523.20 (0.11 s)\n",
            "Epoch: 11, Train Loss: 23511.35, Test Loss: 114.35 (0.11 s)\n",
            "Epoch: 12, Train Loss: 4064.72, Test Loss: 38.55 (0.10 s)\n",
            "Epoch: 13, Train Loss: 5111.50, Test Loss: 32.89 (0.12 s)\n",
            "Epoch: 14, Train Loss: 2981.16, Test Loss: 34.51 (0.12 s)\n",
            "Epoch: 15, Train Loss: 2482.24, Test Loss: 27.32 (0.11 s)\n",
            "Epoch: 16, Train Loss: 8947.99, Test Loss: 52.70 (0.11 s)\n",
            "Epoch: 17, Train Loss: 7445.06, Test Loss: 39.70 (0.11 s)\n",
            "Epoch: 18, Train Loss: 2997.37, Test Loss: 27.65 (0.12 s)\n",
            "Epoch: 19, Train Loss: 3010.54, Test Loss: 28.41 (0.11 s)\n",
            "Final Test loss for hidden_dim=50, z_dim=40: 28.411907196044922\n",
            "Mean Test loss for hidden_dim=50, z_dim=40: 116.07525634765625\n",
            "Training with hidden_dim=50, z_dim=50\n",
            "Epoch: 0, Train Loss: 59082.50, Test Loss: 5832.98 (4.11 s)\n",
            "Epoch: 1, Train Loss: 18968.10, Test Loss: 98.12 (0.10 s)\n",
            "Epoch: 2, Train Loss: 43495.70, Test Loss: 60.14 (0.10 s)\n",
            "Epoch: 3, Train Loss: 6001.89, Test Loss: 48.00 (0.12 s)\n",
            "Epoch: 4, Train Loss: 4407.01, Test Loss: 42.96 (0.11 s)\n",
            "Epoch: 5, Train Loss: 4209.40, Test Loss: 35.97 (0.12 s)\n",
            "Epoch: 6, Train Loss: 3279.93, Test Loss: 34.49 (0.11 s)\n",
            "Epoch: 7, Train Loss: 3958.86, Test Loss: 50.95 (0.11 s)\n",
            "Epoch: 8, Train Loss: 651444.56, Test Loss: 114.79 (0.12 s)\n",
            "Epoch: 9, Train Loss: 1122879.75, Test Loss: 115.76 (0.11 s)\n",
            "Epoch: 10, Train Loss: 229057.84, Test Loss: 1982.20 (0.14 s)\n",
            "Epoch: 11, Train Loss: 8580633.00, Test Loss: 407435840.00 (0.12 s)\n",
            "Epoch: 12, Train Loss: 298362077184.00, Test Loss: 14431.43 (0.11 s)\n",
            "Epoch: 13, Train Loss: 7967025.00, Test Loss: 606.60 (0.11 s)\n",
            "Epoch: 14, Train Loss: 69599.85, Test Loss: 519.02 (0.11 s)\n",
            "Epoch: 15, Train Loss: 51292.18, Test Loss: 679.34 (0.11 s)\n",
            "Epoch: 16, Train Loss: 51640.46, Test Loss: 412.59 (0.11 s)\n",
            "Epoch: 17, Train Loss: 145920.44, Test Loss: 488.24 (0.12 s)\n",
            "Epoch: 18, Train Loss: 58404.73, Test Loss: 491.26 (0.11 s)\n",
            "Epoch: 19, Train Loss: 61852.98, Test Loss: 502.93 (0.12 s)\n",
            "Final Test loss for hidden_dim=50, z_dim=50: 502.927734375\n",
            "Mean Test loss for hidden_dim=50, z_dim=50: 20373118.0\n",
            "Grid search complete.\n",
            "Results: {(20, 20): Array(29.021763, dtype=float32), (20, 30): Array(29.71638, dtype=float32), (20, 40): Array(24.346157, dtype=float32), (20, 50): Array(29.911406, dtype=float32), (30, 20): Array(27.477472, dtype=float32), (30, 30): Array(54.17611, dtype=float32), (30, 40): Array(22.630238, dtype=float32), (30, 50): Array(31.427656, dtype=float32), (40, 20): Array(25.22492, dtype=float32), (40, 30): Array(0., dtype=float32), (40, 40): Array(21.912703, dtype=float32), (40, 50): Array(28.029053, dtype=float32), (50, 20): Array(22.802025, dtype=float32), (50, 30): Array(53239.55, dtype=float32), (50, 40): Array(28.411907, dtype=float32), (50, 50): Array(502.92773, dtype=float32)}\n",
            "Mean Test Loss Results: {(20, 20): Array(155.94492, dtype=float32), (20, 30): Array(104.37584, dtype=float32), (20, 40): Array(84.874245, dtype=float32), (20, 50): Array(92.755226, dtype=float32), (30, 20): Array(190.97612, dtype=float32), (30, 30): Array(77.080765, dtype=float32), (30, 40): Array(71.7529, dtype=float32), (30, 50): Array(80.85015, dtype=float32), (40, 20): Array(76.2042, dtype=float32), (40, 30): Array(74.19688, dtype=float32), (40, 40): Array(69.976395, dtype=float32), (40, 50): Array(11965.187, dtype=float32), (50, 20): Array(69.18866, dtype=float32), (50, 30): Array(90986.27, dtype=float32), (50, 40): Array(116.07526, dtype=float32), (50, 50): Array(20373118., dtype=float32)}\n"
          ]
        }
      ],
      "source": [
        "# Define hyperparameter grid\n",
        "hidden_dims = [20, 30, 40, 50]\n",
        "z_dims = [20, 30, 40, 50]\n",
        "\n",
        "# Store results\n",
        "test_loss_results_final = {}\n",
        "test_loss_results_mean = {}\n",
        "\n",
        "num_train = args[\"num_train\"]\n",
        "num_test = args[\"num_test\"]\n",
        "num_epochs = args[\"num_epochs\"]\n",
        "\n",
        "for hidden_dim, z_dim in itertools.product(hidden_dims, z_dims):\n",
        "    print(f\"Training with hidden_dim={hidden_dim}, z_dim={z_dim}\")\n",
        "\n",
        "    args[\"hidden_dim\"] = hidden_dim\n",
        "    args[\"z_dim\"] = z_dim\n",
        "\n",
        "    # Initialize optimizer and SVI\n",
        "    adam = numpyro.optim.Adam(step_size=args[\"learning_rate\"])\n",
        "    svi = SVI(\n",
        "        vae_model,\n",
        "        vae_guide,\n",
        "        adam,\n",
        "        RenyiELBO(),\n",
        "        hidden_dim=hidden_dim,\n",
        "        z_dim=z_dim\n",
        "    )\n",
        "\n",
        "    # Split RNG keys\n",
        "    rng_key, rng_key_samp, rng_key_init = random.split(args[\"rng_key\"], 3)\n",
        "    init_batch = agg_gp_predictive(rng_key_samp, args)[\"gp_aggr\"]\n",
        "\n",
        "    # Initialize SVI state\n",
        "    svi_state = svi.init(rng_key_init, init_batch)\n",
        "\n",
        "    # Pre-allocate test loss array\n",
        "    test_loss_list = jnp.zeros(num_epochs)\n",
        "\n",
        "    # Training loop\n",
        "    for epoch in range(num_epochs):\n",
        "        rng_key, rng_key_train, rng_key_test = random.split(rng_key, 3)\n",
        "        t_start = time.time()\n",
        "\n",
        "        train_loss, svi_state = epoch_train(rng_key_train, svi_state, num_train)\n",
        "        test_loss = eval_test(rng_key_test, svi_state, num_test)\n",
        "        test_loss_list = test_loss_list.at[epoch].set(test_loss)\n",
        "\n",
        "        print(f\"Epoch: {epoch}, Train Loss: {train_loss:.2f}, Test Loss: {test_loss:.2f} ({time.time() - t_start:.2f} s)\")\n",
        "\n",
        "        if math.isnan(test_loss):  # Stop early if NaN\n",
        "            print(f\"NaN encountered at hidden_dim={hidden_dim}, z_dim={z_dim}. Skipping...\")\n",
        "            break  # Stop training if NaN occurs\n",
        "\n",
        "    # Store results only if valid\n",
        "    if not math.isnan(test_loss_list[-1]):\n",
        "        test_loss_results_final[(hidden_dim, z_dim)] = test_loss_list[-1]\n",
        "        test_loss_results_mean[(hidden_dim, z_dim)] = jnp.nanmean(test_loss_list)\n",
        "        print(f\"Final Test loss for hidden_dim={hidden_dim}, z_dim={z_dim}: {test_loss_list[-1]}\")\n",
        "        print(f\"Mean Test loss for hidden_dim={hidden_dim}, z_dim={z_dim}: {jnp.nanmean(test_loss_list)}\")\n",
        "\n",
        "print(\"Grid search complete.\")\n",
        "print(\"Results:\", test_loss_results_final)\n",
        "print(\"Mean Test Loss Results:\", test_loss_results_mean)"
      ]
    },
    {
      "cell_type": "code",
      "execution_count": 14,
      "metadata": {
        "id": "ROJghrFwVTFd"
      },
      "outputs": [
        {
          "name": "stdout",
          "output_type": "stream",
          "text": [
            "{(20, 20): Array(29.021763, dtype=float32), (20, 30): Array(29.71638, dtype=float32), (20, 40): Array(24.346157, dtype=float32), (20, 50): Array(29.911406, dtype=float32), (30, 20): Array(27.477472, dtype=float32), (30, 30): Array(54.17611, dtype=float32), (30, 40): Array(22.630238, dtype=float32), (30, 50): Array(31.427656, dtype=float32), (40, 20): Array(25.22492, dtype=float32), (40, 30): Array(0., dtype=float32), (40, 40): Array(21.912703, dtype=float32), (40, 50): Array(28.029053, dtype=float32), (50, 20): Array(22.802025, dtype=float32), (50, 30): Array(53239.55, dtype=float32), (50, 40): Array(28.411907, dtype=float32), (50, 50): Array(502.92773, dtype=float32)}\n",
            "{(20, 20): Array(155.94492, dtype=float32), (20, 30): Array(104.37584, dtype=float32), (20, 40): Array(84.874245, dtype=float32), (20, 50): Array(92.755226, dtype=float32), (30, 20): Array(190.97612, dtype=float32), (30, 30): Array(77.080765, dtype=float32), (30, 40): Array(71.7529, dtype=float32), (30, 50): Array(80.85015, dtype=float32), (40, 20): Array(76.2042, dtype=float32), (40, 30): Array(74.19688, dtype=float32), (40, 40): Array(69.976395, dtype=float32), (40, 50): Array(11965.187, dtype=float32), (50, 20): Array(69.18866, dtype=float32), (50, 30): Array(90986.27, dtype=float32), (50, 40): Array(116.07526, dtype=float32), (50, 50): Array(20373118., dtype=float32)}\n"
          ]
        }
      ],
      "source": [
        "print(test_loss_results_final)\n",
        "print(test_loss_results_mean)"
      ]
    },
    {
      "cell_type": "markdown",
      "metadata": {
        "id": "RQSdxxnaWn1g"
      },
      "source": [
        "### Optimal Hyperparams are 40 hidden dims and 40 latent dims\n"
      ]
    },
    {
      "cell_type": "markdown",
      "metadata": {
        "id": "Gb1HhnafTooi"
      },
      "source": [
        "## Initiate Training Loop with optimal hyperparams"
      ]
    },
    {
      "cell_type": "code",
      "execution_count": 20,
      "metadata": {
        "id": "_NR2_Or-Tq_E"
      },
      "outputs": [],
      "source": [
        "adam = numpyro.optim.Adam(step_size = args[\"learning_rate\"])\n",
        "svi = SVI(\n",
        "        vae_model,\n",
        "        vae_guide,\n",
        "        adam,\n",
        "        RenyiELBO(),\n",
        "        hidden_dim = args[\"hidden_dim\"],\n",
        "        z_dim = args[\"z_dim\"]\n",
        "    )\n",
        "\n",
        "rng_key, rng_key_samp, rng_key_init = random.split(args[\"rng_key\"],3)\n",
        "#(num_samples, num_regions)\n",
        "init_batch = agg_gp_predictive(rng_key_, args)[\"gp_aggr\"] #(num_samples, num_regions) <- i.e (5,58)\n",
        "svi_state = svi.init(rng_key_init, init_batch)\n",
        "\n",
        "test_loss_list = []"
      ]
    },
    {
      "cell_type": "code",
      "execution_count": 21,
      "metadata": {
        "id": "T77REeqrUXy7"
      },
      "outputs": [
        {
          "name": "stdout",
          "output_type": "stream",
          "text": [
            "Epoch : 0, train loss : 141412.16, test loss : 29.42 (0.00 s.)\n",
            "Epoch : 1, train loss : 41129124.00, test loss : 303.64 (0.00 s.)\n",
            "Epoch : 2, train loss : 601856.00, test loss : 135.27 (0.00 s.)\n",
            "Epoch : 3, train loss : 82521.20, test loss : 64.69 (0.00 s.)\n",
            "Epoch : 4, train loss : 110382.38, test loss : 56.13 (0.00 s.)\n",
            "Epoch : 5, train loss : 45075.00, test loss : 36.62 (0.00 s.)\n",
            "Epoch : 6, train loss : 32760.90, test loss : 28.69 (0.00 s.)\n",
            "Epoch : 7, train loss : 26884.22, test loss : 23.66 (0.00 s.)\n",
            "Epoch : 8, train loss : 21530.72, test loss : 17.94 (0.00 s.)\n",
            "Epoch : 9, train loss : 17382.08, test loss : 16.38 (0.00 s.)\n",
            "Epoch : 10, train loss : 15925.57, test loss : 14.91 (0.00 s.)\n",
            "Epoch : 11, train loss : 15186.05, test loss : 15.35 (0.00 s.)\n",
            "Epoch : 12, train loss : 14599.62, test loss : 13.73 (0.00 s.)\n",
            "Epoch : 13, train loss : 13660.88, test loss : 13.42 (0.00 s.)\n",
            "Epoch : 14, train loss : 13085.31, test loss : 13.34 (0.00 s.)\n",
            "Epoch : 15, train loss : 14449.29, test loss : 13.14 (0.00 s.)\n",
            "Epoch : 16, train loss : 12678.60, test loss : 11.90 (0.00 s.)\n",
            "Epoch : 17, train loss : 13519.40, test loss : 14.75 (0.00 s.)\n",
            "Epoch : 18, train loss : 12416.39, test loss : 12.40 (0.00 s.)\n",
            "Epoch : 19, train loss : 187350417408.00, test loss : 17822000349184.00 (0.00 s.)\n"
          ]
        }
      ],
      "source": [
        "for i in range(args[\"num_epochs\"]):\n",
        "    rng_key, rng_key_train, rng_key_test, rng_key_infer = random.split(rng_key, 4)\n",
        "    t_start = time.time()\n",
        "\n",
        "    num_train = 1000\n",
        "    # Where forward/backward pass gets called for train\n",
        "    train_loss , svi_state = epoch_train(rng_key_train, svi_state, num_train)\n",
        "\n",
        "    num_test = 1000\n",
        "\n",
        "    # Where forward/backward pass gets called for test\n",
        "    test_loss = eval_test(rng_key_test, svi_state, num_test)\n",
        "    test_loss_list += [test_loss]\n",
        "\n",
        "    print(\"Epoch : {}, train loss : {:.2f}, test loss : {:.2f} ({:.2f} s.)\".format(i, train_loss, test_loss, time.time() - t_start))\n",
        "\n",
        "    if math.isnan(test_loss):\n",
        "        break"
      ]
    },
    {
      "cell_type": "code",
      "execution_count": 22,
      "metadata": {
        "id": "eXgAJbgnUlCl"
      },
      "outputs": [],
      "source": [
        "#extract the decoder\n",
        "decoder_params = svi.get_params(svi_state)"
      ]
    },
    {
      "cell_type": "markdown",
      "metadata": {
        "id": "4fldbVSkT0RR"
      },
      "source": [
        "## Save the decoder"
      ]
    },
    {
      "cell_type": "code",
      "execution_count": 24,
      "metadata": {
        "id": "v9zDJExcT1OB"
      },
      "outputs": [
        {
          "name": "stdout",
          "output_type": "stream",
          "text": [
            "Decoder parameters saved to c:\\Users\\jessi\\Documents\\school\\y4\\s2\\DSE4101\\Individual\\FYP codes\\DSE_FYP\\simulation study\\model weights\\aggVAE\\aggVAE_e20_h40_z40\n"
          ]
        }
      ],
      "source": [
        "# Get script directory\n",
        "script_dir = os.getcwd()  # Get current working directory\n",
        "\n",
        "# Define the correct save path inside model_weights/\n",
        "save_dir = os.path.abspath(os.path.join(script_dir, \"..\", \"model weights\", \"aggVAE\"))\n",
        "os.makedirs(save_dir, exist_ok=True)  # Ensure the directory exists\n",
        "\n",
        "# Save decoder parameters\n",
        "save_path = os.path.join(save_dir, f\"aggVAE_e{args['num_epochs']}_h{args['hidden_dim']}_z{args['z_dim']}\")\n",
        "\n",
        "with open(save_path, \"wb\") as file:\n",
        "    pickle.dump(decoder_params, file)\n",
        "\n",
        "print(f\"Decoder parameters saved to {save_path}\")"
      ]
    }
  ],
  "metadata": {
    "accelerator": "GPU",
    "colab": {
      "gpuType": "T4",
      "machine_shape": "hm",
      "provenance": []
    },
    "kernelspec": {
      "display_name": "Python 3",
      "name": "python3"
    },
    "language_info": {
      "codemirror_mode": {
        "name": "ipython",
        "version": 3
      },
      "file_extension": ".py",
      "mimetype": "text/x-python",
      "name": "python",
      "nbconvert_exporter": "python",
      "pygments_lexer": "ipython3",
      "version": "3.13.1"
    }
  },
  "nbformat": 4,
  "nbformat_minor": 0
}
