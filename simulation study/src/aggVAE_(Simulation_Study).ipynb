{
  "cells": [
    {
      "cell_type": "code",
      "execution_count": 168,
      "metadata": {
        "id": "nDjUgPoZOs5y"
      },
      "outputs": [],
      "source": [
        "import os\n",
        "import math\n",
        "import numpy as np\n",
        "\n",
        "import torch\n",
        "import time\n",
        "\n",
        "import itertools\n",
        "import jax\n",
        "import jax.numpy as jnp\n",
        "from jax import random, lax, jit, ops\n",
        "from jax.example_libraries import stax\n",
        "\n",
        "import numpyro\n",
        "from numpyro.infer import SVI, MCMC, NUTS, init_to_median, Predictive, RenyiELBO\n",
        "import numpyro.distributions as dist\n",
        "\n",
        "import geopandas as gpd\n",
        "import plotly.express as px\n",
        "\n",
        "from termcolor import colored\n",
        "\n",
        "import pickle"
      ]
    },
    {
      "cell_type": "code",
      "execution_count": 169,
      "metadata": {
        "id": "RWApQLwlTWKD"
      },
      "outputs": [],
      "source": [
        "#define the functions necessary\n",
        "def dist_euclid(x, z):\n",
        "    \"\"\"\n",
        "    Computes Eucledian Distance Between Regions. This function is used by\n",
        "    exp_sq_kernel function (kernel function for gaussian processes)\n",
        "    \"\"\"\n",
        "    x = jnp.array(x) # (ngrid_pts, lat/lon) \n",
        "    z = jnp.array(z) # (ngrid_pts, lat/lon)\n",
        "    if len(x.shape)==1:\n",
        "        x = x.reshape(x.shape[0], 1) #(2618,) \n",
        "    if len(z.shape)==1:\n",
        "        z = x.reshape(x.shape[0], 1) #(2618,) \n",
        "    n_x, m = x.shape \n",
        "    n_z, m_z = z.shape \n",
        "    assert m == m_z\n",
        "    delta = jnp.zeros((n_x,n_z)) #(ngrid_pts,ngrid_pts) \n",
        "    for d in jnp.arange(m):\n",
        "        x_d = x[:,d] #(ngrid_pts-lat/lon,) \n",
        "        z_d = z[:,d] #(ngrid_pts-lat/lon,) \n",
        "        delta += (x_d[:,jnp.newaxis] - z_d)**2\n",
        "\n",
        "    return jnp.sqrt(delta) #(7304,7304)\n",
        "\n",
        "def exp_sq_kernel(x, z, var, length, noise, jitter=1.0e-4):\n",
        "    dist = dist_euclid(x, z) #(7304, 7304)\n",
        "    deltaXsq = jnp.power(dist/ length, 2.0)\n",
        "    k = var * jnp.exp(-0.5 * deltaXsq)\n",
        "    k += (noise + jitter) * jnp.eye(x.shape[0])\n",
        "    return k # (ngrid_pts, ngrid_pts) \n",
        "\n",
        "def M_g(M, g):\n",
        "    '''\n",
        "    - $M$ is a matrix with binary entries $m_{ij},$ showing whether point $j$ is in polygon $i$\n",
        "    - $g$ is a vector of GP draws over grid\n",
        "    - $maltmul(M, g)$ gives a vector of sums over each polygon\n",
        "    '''\n",
        "    M = jnp.array(M)\n",
        "    g = jnp.array(g).T\n",
        "    return(jnp.matmul(M, g))"
      ]
    },
    {
      "cell_type": "markdown",
      "metadata": {
        "id": "AOpyAuFOQxOI"
      },
      "source": [
        "# AggVAE Model"
      ]
    },
    {
      "cell_type": "markdown",
      "metadata": {
        "id": "W35Bwle9YtgB"
      },
      "source": [
        "## Function for Predictive Simulation (Prior)"
      ]
    },
    {
      "cell_type": "code",
      "execution_count": 170,
      "metadata": {
        "id": "pqpibNNMYxp5"
      },
      "outputs": [],
      "source": [
        "def gp_aggr(args):\n",
        "    x = args[\"x\"]  # Spatial grid points: (num_grid_points, 2)\n",
        "    gp_kernel = args[\"gp_kernel\"]  # Gaussian Process kernel\n",
        "    noise = args[\"noise\"]\n",
        "    jitter = args[\"jitter\"]\n",
        "\n",
        "    M_lo= args[\"M_lo\"] \n",
        "    M_hi = args[\"M_hi\"] \n",
        "\n",
        "    # GP hyperparameters\n",
        "    kernel_length = numpyro.sample(\"kernel_length\", args[\"kernel_length\"])\n",
        "    kernel_var = numpyro.sample(\"kernel_var\", args[\"kernel_var\"])\n",
        "\n",
        "    # GP Kernel and Sample\n",
        "    k = gp_kernel(x, x, kernel_var, kernel_length, noise, jitter)\n",
        "    f = numpyro.sample(\"f\", dist.MultivariateNormal(loc=jnp.zeros(x.shape[0]), covariance_matrix=k))  # (num_grid_points,)\n",
        "\n",
        "    #aggregate f into gp_aggr according to indexing of (point in polygon)\n",
        "    gp_aggr_lo = numpyro.deterministic(\"gp_aggr_lo\", M_g(M_lo, f)) #(num_regions,) <- i.e (9,) for lo\n",
        "    gp_aggr_hi = numpyro.deterministic(\"gp_aggr_hi\", M_g(M_hi, f)) #(49,)\n",
        "    gp_aggr = numpyro.deterministic(\"gp_aggr\", jnp.concatenate([gp_aggr_lo, gp_aggr_hi])) #(58,)\n",
        "\n",
        "\n",
        "    return gp_aggr"
      ]
    },
    {
      "cell_type": "markdown",
      "metadata": {
        "id": "yjA0_Y9YTBYf"
      },
      "source": [
        "## Define the VAE"
      ]
    },
    {
      "cell_type": "code",
      "execution_count": 171,
      "metadata": {
        "id": "8-qYl8VcTDzq"
      },
      "outputs": [],
      "source": [
        "def vae_encoder(hidden_dim = 50, z_dim = 40):\n",
        "    return stax.serial(\n",
        "        #(num_samples, num_regions) -> (num_samples, hidden_dims)\n",
        "        stax.Dense(hidden_dim, W_init = stax.randn()),\n",
        "        stax.Elu,\n",
        "        stax.FanOut(2),\n",
        "        stax.parallel(\n",
        "            # mean : (num_samples, hidden_dim) -> (num_samples, z_dim)\n",
        "            stax.Dense(z_dim, W_init = stax.randn()), #(5,50)\n",
        "            #std : (num_samples, hidden_dim) -> (num_samples, z_dim)\n",
        "            stax.serial(stax.Dense(z_dim, W_init = stax.randn()), stax.Exp)\n",
        "        )\n",
        "    )\n",
        "\n",
        "def vae_decoder(hidden_dim, out_dim):\n",
        "    return stax.serial(\n",
        "        # (num_samples, z_dim) -> (num_samples, hidden_dim)\n",
        "        stax.Dense(hidden_dim, W_init = stax.randn()),\n",
        "        stax.Elu,\n",
        "        # (num_samples, hidden_dim) -> (num_samples, num_regions)\n",
        "        stax.Dense(out_dim, W_init = stax.randn())\n",
        "    )\n",
        "\n",
        "\n",
        "def vae_model(batch, hidden_dim, z_dim):\n",
        "    \"\"\"This computes the decoder portion\"\"\"\n",
        "    batch = jnp.reshape(batch, (batch.shape[0], -1)) # (num_samples, num_regions)\n",
        "    batch_dim, out_dim = jnp.shape(batch)\n",
        "\n",
        "    # vae-decoder in numpyro module\n",
        "    decode = numpyro.module(\n",
        "        name = \"decoder\",\n",
        "        nn = vae_decoder(hidden_dim = hidden_dim, out_dim = out_dim),\n",
        "        input_shape = (batch_dim, z_dim) #(5,40)\n",
        "    )\n",
        "\n",
        "    # Sample a univariate normal\n",
        "    z = numpyro.sample(\n",
        "        \"z\",\n",
        "        dist.Normal(\n",
        "            jnp.zeros((batch_dim,z_dim)),\n",
        "            jnp.ones((batch_dim,z_dim))\n",
        "            )\n",
        "    )\n",
        "    # Forward pass from decoder\n",
        "    gen_loc = decode(z) #(num_regions,)\n",
        "    obs = numpyro.sample(\n",
        "        \"obs\",\n",
        "        dist.Normal(gen_loc, args[\"vae_var\"]),\n",
        "        obs = batch\n",
        "    ) #(num_samples, num_regions)\n",
        "    return obs\n",
        "\n",
        "\n",
        "def vae_guide(batch, hidden_dim, z_dim):\n",
        "    \"\"\"This computes the encoder portion\"\"\"\n",
        "    batch = jnp.reshape(batch, (batch.shape[0], -1)) #(num_samples, num_regions)\n",
        "    batch_dim, input_dim = jnp.shape(batch)# num_samples , num_regions\n",
        "\n",
        "    # vae-encoder in numpyro module\n",
        "    encode = numpyro.module(\n",
        "        name = \"encoder\",\n",
        "        nn = vae_encoder(hidden_dim=hidden_dim,z_dim = z_dim),\n",
        "        input_shape = (batch_dim, input_dim) #(5,58)\n",
        "    ) #(num_samples, num_regions) -> (num_samples, hidden_dims)\n",
        "\n",
        "    # Samapling mu, sigma - Pretty much the forward pass\n",
        "    z_loc, z_std = encode(batch) #mu : (num_samples, z_dim), sigma2 : (num_samples, z_dim)\n",
        "    # Sample a value z based on mu and sigma\n",
        "    z = numpyro.sample(\"z\", dist.Normal(z_loc, z_std)) #(num_sample, z_dim)\n",
        "    return z"
      ]
    },
    {
      "cell_type": "markdown",
      "metadata": {
        "id": "EA7tPNDnWgpG"
      },
      "source": [
        "## Train the VAE encoder"
      ]
    },
    {
      "cell_type": "code",
      "execution_count": 172,
      "metadata": {
        "id": "D8_MUf7FWlAX"
      },
      "outputs": [],
      "source": [
        "@jax.jit\n",
        "def epoch_train(rng_key, svi_state, num_train):\n",
        "    def body_fn(i, val):\n",
        "        rng_key_i = jax.random.fold_in(rng_key, i) #Array(2,)\n",
        "        rng_key_i, rng_key_ls, rng_key_var, rng_key_noise = jax.random.split(rng_key_i, 4) #Tuple(Array(2,) x 4)\n",
        "        loss_sum, svi_state = val #val --svi_state\n",
        "\n",
        "        batch = agg_gp_predictive(rng_key_i, args)[\"gp_aggr\"] #(5,116) <- num_samples : 5, total_districts : 116\n",
        "        #* svi is where the vae_model & vae_guide gets applied\n",
        "        svi_state, loss = svi.update(svi_state, batch)\n",
        "        loss_sum += loss / args[\"batch_size\"]\n",
        "        return loss_sum, svi_state\n",
        "\n",
        "    return lax.fori_loop(lower = 0, upper = num_train, body_fun=body_fn, init_val=(0.0, svi_state))\n",
        "\n",
        "@jax.jit\n",
        "def eval_test(rng_key, svi_state, num_test):\n",
        "    def body_fn(i, loss_sum):\n",
        "        rng_key_i = jax.random.fold_in(rng_key, i)\n",
        "        rng_key_i, rng_key_ls, rng_key_varm, rng_key_noise = jax.random.split(rng_key_i, 4)\n",
        "        batch = agg_gp_predictive(rng_key_i, args)[\"gp_aggr\"]\n",
        "        #* svi is where the vae_model & vae_guide gets applied\n",
        "        loss = svi.evaluate(svi_state, batch) / args[\"batch_size\"]\n",
        "        loss_sum += loss\n",
        "        return loss_sum\n",
        "\n",
        "    loss = lax.fori_loop(lower = 0, upper = num_test,body_fun =  body_fn, init_val = 0.0)\n",
        "    loss = loss / num_test\n",
        "    return loss"
      ]
    },
    {
      "cell_type": "markdown",
      "metadata": {
        "id": "HHkZ6dqhTEKl"
      },
      "source": [
        "## Function to plot the GP"
      ]
    },
    {
      "cell_type": "code",
      "execution_count": 173,
      "metadata": {
        "id": "7rke7xN5TJts"
      },
      "outputs": [],
      "source": [
        "def plot_process(gp_draws):\n",
        "    p = px.line()\n",
        "    for i in range(len(gp_draws)):\n",
        "        p.add_scatter(x = np.arange(gp_draws.shape[1]), y = gp_draws[i, :])\n",
        "\n",
        "    p.update_traces(line_color = \"black\")\n",
        "    p.update_layout(\n",
        "        template = \"plotly_white\",\n",
        "        xaxis_title = \"region\", yaxis_title = \"num cases\",\n",
        "        showlegend = False)\n",
        "    p.show()"
      ]
    },
    {
      "cell_type": "markdown",
      "metadata": {
        "id": "Egml-fn9TKMJ"
      },
      "source": [
        "## Load the variables"
      ]
    },
    {
      "cell_type": "code",
      "execution_count": 174,
      "metadata": {
        "id": "veD2sogTTMIc"
      },
      "outputs": [],
      "source": [
        "# Lat/Lon Values of artificial grid\n",
        "x = np.load(\"../data/lat_lon_x_jkt.npy\")\n",
        "pol_pts_jkt_lo = np.load(\"../data/pol_pts_jkt_lo.npy\")\n",
        "pol_pts_jkt_hi = np.load(\"../data/pol_pts_jkt_hi.npy\")"
      ]
    },
    {
      "cell_type": "markdown",
      "metadata": {
        "id": "DgiCqcl7TDwR"
      },
      "source": [
        "## Arguments"
      ]
    },
    {
      "cell_type": "code",
      "execution_count": null,
      "metadata": {
        "id": "D79oQ7R-THBC"
      },
      "outputs": [],
      "source": [
        "args = {\n",
        "        \"x\": x,\n",
        "        \"gp_kernel\": exp_sq_kernel,\n",
        "        \"noise\": 1e-4,\n",
        "        \"M_lo\": jnp.array(pol_pts_jkt_lo),\n",
        "        \"M_hi\": jnp.array(pol_pts_jkt_hi),\n",
        "        \"jitter\" : 1e-4,\n",
        "        # VAE training\n",
        "        \"rng_key\": random.PRNGKey(5),\n",
        "        #common num_epochs 20-50\n",
        "        \"num_epochs\": 20,\n",
        "        #learning rate 0.0005 common choice, ADAM optimiser adapts the learning rate accordingly\n",
        "        \"learning_rate\": 0.0005,\n",
        "        #chosen to be 100 (no tune)\n",
        "        \"batch_size\": 100,\n",
        "        #change this to the optimal values after hyperparameter tuning\n",
        "        \"hidden_dim\": 50,\n",
        "        \"z_dim\": 50,\n",
        "        #chosen to be 100 (no tune)\n",
        "        \"num_train\": 100,\n",
        "        \"num_test\":100,\n",
        "        #variance set to 1 bc the latent variable prior distribution is assumed to be normal\n",
        "        \"vae_var\": 1,\n",
        "        \"kernel_length\": dist.InverseGamma(3, 3),\n",
        "        \"kernel_var\": dist.HalfNormal(1e-5)\n",
        "    }\n"
      ]
    },
    {
      "cell_type": "markdown",
      "metadata": {
        "id": "dp6EFT7RTLKZ"
      },
      "source": [
        "## Prior predictive simulation"
      ]
    },
    {
      "cell_type": "code",
      "execution_count": 176,
      "metadata": {
        "id": "72dE-HgATNBA"
      },
      "outputs": [],
      "source": [
        "rng_key, rng_key_ = random.split(random.PRNGKey(4))\n",
        "agg_gp_predictive = Predictive(gp_aggr,num_samples = 5)\n",
        "agg_gp_draws = agg_gp_predictive(rng_key_, args)[\"gp_aggr\"] #(num_samples, num_regions)"
      ]
    },
    {
      "cell_type": "code",
      "execution_count": 177,
      "metadata": {
        "colab": {
          "base_uri": "https://localhost:8080/",
          "height": 542
        },
        "id": "KMnPLKZwJrO5",
        "outputId": "91781ac5-552d-46eb-a1d7-8ca55e2a8fd7"
      },
      "outputs": [
        {
          "data": {
            "application/vnd.plotly.v1+json": {
              "config": {
                "plotlyServerURL": "https://plot.ly"
              },
              "data": [
                {
                  "hovertemplate": "<extra></extra>",
                  "legendgroup": "",
                  "line": {
                    "color": "black",
                    "dash": "solid"
                  },
                  "marker": {
                    "symbol": "circle"
                  },
                  "mode": "lines",
                  "name": "",
                  "orientation": "v",
                  "showlegend": false,
                  "type": "scatter",
                  "xaxis": "x",
                  "yaxis": "y"
                },
                {
                  "line": {
                    "color": "black"
                  },
                  "type": "scatter",
                  "x": {
                    "bdata": "AAECAwQFBgcICQoLDA0ODxAREhMUFRYX",
                    "dtype": "i1"
                  },
                  "y": {
                    "bdata": "/hUjwf4VI8H+FSPB/hUjwWRY879kWPO/ZFjzv2RY879GKmG/Riphv0YqYb9GKmG/sCQCwLAkAsCwJALAsCQCwEK3LMBCtyzAQrcswEK3LMBFhSvARYUrwEWFK8BFhSvA",
                    "dtype": "f4"
                  }
                },
                {
                  "line": {
                    "color": "black"
                  },
                  "type": "scatter",
                  "x": {
                    "bdata": "AAECAwQFBgcICQoLDA0ODxAREhMUFRYX",
                    "dtype": "i1"
                  },
                  "y": {
                    "bdata": "oC7JwKAuycCgLsnAoC7JwPbIjb/2yI2/9siNv/bIjb/Bcg6/wXIOv8FyDr/Bcg6/ZrCnv2awp79msKe/ZrCnv7Pn47+z5+O/s+fjv7Pn478MIMS/DCDEvwwgxL8MIMS/",
                    "dtype": "f4"
                  }
                },
                {
                  "line": {
                    "color": "black"
                  },
                  "type": "scatter",
                  "x": {
                    "bdata": "AAECAwQFBgcICQoLDA0ODxAREhMUFRYX",
                    "dtype": "i1"
                  },
                  "y": {
                    "bdata": "HD9BQBw/QUAcP0FAHD9BQEMC2D5DAtg+QwLYPkMC2D7gyZE+4MmRPuDJkT7gyZE+XW4kP11uJD9dbiQ/XW4kP3TBij90wYo/dMGKP3TBij8UJRY/FCUWPxQlFj8UJRY/",
                    "dtype": "f4"
                  }
                },
                {
                  "line": {
                    "color": "black"
                  },
                  "type": "scatter",
                  "x": {
                    "bdata": "AAECAwQFBgcICQoLDA0ODxAREhMUFRYX",
                    "dtype": "i1"
                  },
                  "y": {
                    "bdata": "nEQAwZxEAMGcRADBnEQAwSJJq78iSau/IkmrvyJJq7+8fju/vH47v7x+O7+8fju/0Mm/v9DJv7/Qyb+/0Mm/v+r/EMDq/xDA6v8QwOr/EMBeqQvAXqkLwF6pC8BeqQvA",
                    "dtype": "f4"
                  }
                },
                {
                  "line": {
                    "color": "black"
                  },
                  "type": "scatter",
                  "x": {
                    "bdata": "AAECAwQFBgcICQoLDA0ODxAREhMUFRYX",
                    "dtype": "i1"
                  },
                  "y": {
                    "bdata": "aMSZQWjEmUFoxJlBaMSZQQKBYEACgWBAAoFgQAKBYEDontc/6J7XP+ie1z/ontc/ygeDQMoHg0DKB4NAygeDQBpXqUAaV6lAGlepQBpXqUCFipRAhYqUQIWKlECFipRA",
                    "dtype": "f4"
                  }
                }
              ],
              "layout": {
                "legend": {
                  "tracegroupgap": 0
                },
                "margin": {
                  "t": 60
                },
                "showlegend": false,
                "template": {
                  "data": {
                    "bar": [
                      {
                        "error_x": {
                          "color": "#2a3f5f"
                        },
                        "error_y": {
                          "color": "#2a3f5f"
                        },
                        "marker": {
                          "line": {
                            "color": "white",
                            "width": 0.5
                          },
                          "pattern": {
                            "fillmode": "overlay",
                            "size": 10,
                            "solidity": 0.2
                          }
                        },
                        "type": "bar"
                      }
                    ],
                    "barpolar": [
                      {
                        "marker": {
                          "line": {
                            "color": "white",
                            "width": 0.5
                          },
                          "pattern": {
                            "fillmode": "overlay",
                            "size": 10,
                            "solidity": 0.2
                          }
                        },
                        "type": "barpolar"
                      }
                    ],
                    "carpet": [
                      {
                        "aaxis": {
                          "endlinecolor": "#2a3f5f",
                          "gridcolor": "#C8D4E3",
                          "linecolor": "#C8D4E3",
                          "minorgridcolor": "#C8D4E3",
                          "startlinecolor": "#2a3f5f"
                        },
                        "baxis": {
                          "endlinecolor": "#2a3f5f",
                          "gridcolor": "#C8D4E3",
                          "linecolor": "#C8D4E3",
                          "minorgridcolor": "#C8D4E3",
                          "startlinecolor": "#2a3f5f"
                        },
                        "type": "carpet"
                      }
                    ],
                    "choropleth": [
                      {
                        "colorbar": {
                          "outlinewidth": 0,
                          "ticks": ""
                        },
                        "type": "choropleth"
                      }
                    ],
                    "contour": [
                      {
                        "colorbar": {
                          "outlinewidth": 0,
                          "ticks": ""
                        },
                        "colorscale": [
                          [
                            0,
                            "#0d0887"
                          ],
                          [
                            0.1111111111111111,
                            "#46039f"
                          ],
                          [
                            0.2222222222222222,
                            "#7201a8"
                          ],
                          [
                            0.3333333333333333,
                            "#9c179e"
                          ],
                          [
                            0.4444444444444444,
                            "#bd3786"
                          ],
                          [
                            0.5555555555555556,
                            "#d8576b"
                          ],
                          [
                            0.6666666666666666,
                            "#ed7953"
                          ],
                          [
                            0.7777777777777778,
                            "#fb9f3a"
                          ],
                          [
                            0.8888888888888888,
                            "#fdca26"
                          ],
                          [
                            1,
                            "#f0f921"
                          ]
                        ],
                        "type": "contour"
                      }
                    ],
                    "contourcarpet": [
                      {
                        "colorbar": {
                          "outlinewidth": 0,
                          "ticks": ""
                        },
                        "type": "contourcarpet"
                      }
                    ],
                    "heatmap": [
                      {
                        "colorbar": {
                          "outlinewidth": 0,
                          "ticks": ""
                        },
                        "colorscale": [
                          [
                            0,
                            "#0d0887"
                          ],
                          [
                            0.1111111111111111,
                            "#46039f"
                          ],
                          [
                            0.2222222222222222,
                            "#7201a8"
                          ],
                          [
                            0.3333333333333333,
                            "#9c179e"
                          ],
                          [
                            0.4444444444444444,
                            "#bd3786"
                          ],
                          [
                            0.5555555555555556,
                            "#d8576b"
                          ],
                          [
                            0.6666666666666666,
                            "#ed7953"
                          ],
                          [
                            0.7777777777777778,
                            "#fb9f3a"
                          ],
                          [
                            0.8888888888888888,
                            "#fdca26"
                          ],
                          [
                            1,
                            "#f0f921"
                          ]
                        ],
                        "type": "heatmap"
                      }
                    ],
                    "histogram": [
                      {
                        "marker": {
                          "pattern": {
                            "fillmode": "overlay",
                            "size": 10,
                            "solidity": 0.2
                          }
                        },
                        "type": "histogram"
                      }
                    ],
                    "histogram2d": [
                      {
                        "colorbar": {
                          "outlinewidth": 0,
                          "ticks": ""
                        },
                        "colorscale": [
                          [
                            0,
                            "#0d0887"
                          ],
                          [
                            0.1111111111111111,
                            "#46039f"
                          ],
                          [
                            0.2222222222222222,
                            "#7201a8"
                          ],
                          [
                            0.3333333333333333,
                            "#9c179e"
                          ],
                          [
                            0.4444444444444444,
                            "#bd3786"
                          ],
                          [
                            0.5555555555555556,
                            "#d8576b"
                          ],
                          [
                            0.6666666666666666,
                            "#ed7953"
                          ],
                          [
                            0.7777777777777778,
                            "#fb9f3a"
                          ],
                          [
                            0.8888888888888888,
                            "#fdca26"
                          ],
                          [
                            1,
                            "#f0f921"
                          ]
                        ],
                        "type": "histogram2d"
                      }
                    ],
                    "histogram2dcontour": [
                      {
                        "colorbar": {
                          "outlinewidth": 0,
                          "ticks": ""
                        },
                        "colorscale": [
                          [
                            0,
                            "#0d0887"
                          ],
                          [
                            0.1111111111111111,
                            "#46039f"
                          ],
                          [
                            0.2222222222222222,
                            "#7201a8"
                          ],
                          [
                            0.3333333333333333,
                            "#9c179e"
                          ],
                          [
                            0.4444444444444444,
                            "#bd3786"
                          ],
                          [
                            0.5555555555555556,
                            "#d8576b"
                          ],
                          [
                            0.6666666666666666,
                            "#ed7953"
                          ],
                          [
                            0.7777777777777778,
                            "#fb9f3a"
                          ],
                          [
                            0.8888888888888888,
                            "#fdca26"
                          ],
                          [
                            1,
                            "#f0f921"
                          ]
                        ],
                        "type": "histogram2dcontour"
                      }
                    ],
                    "mesh3d": [
                      {
                        "colorbar": {
                          "outlinewidth": 0,
                          "ticks": ""
                        },
                        "type": "mesh3d"
                      }
                    ],
                    "parcoords": [
                      {
                        "line": {
                          "colorbar": {
                            "outlinewidth": 0,
                            "ticks": ""
                          }
                        },
                        "type": "parcoords"
                      }
                    ],
                    "pie": [
                      {
                        "automargin": true,
                        "type": "pie"
                      }
                    ],
                    "scatter": [
                      {
                        "fillpattern": {
                          "fillmode": "overlay",
                          "size": 10,
                          "solidity": 0.2
                        },
                        "type": "scatter"
                      }
                    ],
                    "scatter3d": [
                      {
                        "line": {
                          "colorbar": {
                            "outlinewidth": 0,
                            "ticks": ""
                          }
                        },
                        "marker": {
                          "colorbar": {
                            "outlinewidth": 0,
                            "ticks": ""
                          }
                        },
                        "type": "scatter3d"
                      }
                    ],
                    "scattercarpet": [
                      {
                        "marker": {
                          "colorbar": {
                            "outlinewidth": 0,
                            "ticks": ""
                          }
                        },
                        "type": "scattercarpet"
                      }
                    ],
                    "scattergeo": [
                      {
                        "marker": {
                          "colorbar": {
                            "outlinewidth": 0,
                            "ticks": ""
                          }
                        },
                        "type": "scattergeo"
                      }
                    ],
                    "scattergl": [
                      {
                        "marker": {
                          "colorbar": {
                            "outlinewidth": 0,
                            "ticks": ""
                          }
                        },
                        "type": "scattergl"
                      }
                    ],
                    "scattermap": [
                      {
                        "marker": {
                          "colorbar": {
                            "outlinewidth": 0,
                            "ticks": ""
                          }
                        },
                        "type": "scattermap"
                      }
                    ],
                    "scattermapbox": [
                      {
                        "marker": {
                          "colorbar": {
                            "outlinewidth": 0,
                            "ticks": ""
                          }
                        },
                        "type": "scattermapbox"
                      }
                    ],
                    "scatterpolar": [
                      {
                        "marker": {
                          "colorbar": {
                            "outlinewidth": 0,
                            "ticks": ""
                          }
                        },
                        "type": "scatterpolar"
                      }
                    ],
                    "scatterpolargl": [
                      {
                        "marker": {
                          "colorbar": {
                            "outlinewidth": 0,
                            "ticks": ""
                          }
                        },
                        "type": "scatterpolargl"
                      }
                    ],
                    "scatterternary": [
                      {
                        "marker": {
                          "colorbar": {
                            "outlinewidth": 0,
                            "ticks": ""
                          }
                        },
                        "type": "scatterternary"
                      }
                    ],
                    "surface": [
                      {
                        "colorbar": {
                          "outlinewidth": 0,
                          "ticks": ""
                        },
                        "colorscale": [
                          [
                            0,
                            "#0d0887"
                          ],
                          [
                            0.1111111111111111,
                            "#46039f"
                          ],
                          [
                            0.2222222222222222,
                            "#7201a8"
                          ],
                          [
                            0.3333333333333333,
                            "#9c179e"
                          ],
                          [
                            0.4444444444444444,
                            "#bd3786"
                          ],
                          [
                            0.5555555555555556,
                            "#d8576b"
                          ],
                          [
                            0.6666666666666666,
                            "#ed7953"
                          ],
                          [
                            0.7777777777777778,
                            "#fb9f3a"
                          ],
                          [
                            0.8888888888888888,
                            "#fdca26"
                          ],
                          [
                            1,
                            "#f0f921"
                          ]
                        ],
                        "type": "surface"
                      }
                    ],
                    "table": [
                      {
                        "cells": {
                          "fill": {
                            "color": "#EBF0F8"
                          },
                          "line": {
                            "color": "white"
                          }
                        },
                        "header": {
                          "fill": {
                            "color": "#C8D4E3"
                          },
                          "line": {
                            "color": "white"
                          }
                        },
                        "type": "table"
                      }
                    ]
                  },
                  "layout": {
                    "annotationdefaults": {
                      "arrowcolor": "#2a3f5f",
                      "arrowhead": 0,
                      "arrowwidth": 1
                    },
                    "autotypenumbers": "strict",
                    "coloraxis": {
                      "colorbar": {
                        "outlinewidth": 0,
                        "ticks": ""
                      }
                    },
                    "colorscale": {
                      "diverging": [
                        [
                          0,
                          "#8e0152"
                        ],
                        [
                          0.1,
                          "#c51b7d"
                        ],
                        [
                          0.2,
                          "#de77ae"
                        ],
                        [
                          0.3,
                          "#f1b6da"
                        ],
                        [
                          0.4,
                          "#fde0ef"
                        ],
                        [
                          0.5,
                          "#f7f7f7"
                        ],
                        [
                          0.6,
                          "#e6f5d0"
                        ],
                        [
                          0.7,
                          "#b8e186"
                        ],
                        [
                          0.8,
                          "#7fbc41"
                        ],
                        [
                          0.9,
                          "#4d9221"
                        ],
                        [
                          1,
                          "#276419"
                        ]
                      ],
                      "sequential": [
                        [
                          0,
                          "#0d0887"
                        ],
                        [
                          0.1111111111111111,
                          "#46039f"
                        ],
                        [
                          0.2222222222222222,
                          "#7201a8"
                        ],
                        [
                          0.3333333333333333,
                          "#9c179e"
                        ],
                        [
                          0.4444444444444444,
                          "#bd3786"
                        ],
                        [
                          0.5555555555555556,
                          "#d8576b"
                        ],
                        [
                          0.6666666666666666,
                          "#ed7953"
                        ],
                        [
                          0.7777777777777778,
                          "#fb9f3a"
                        ],
                        [
                          0.8888888888888888,
                          "#fdca26"
                        ],
                        [
                          1,
                          "#f0f921"
                        ]
                      ],
                      "sequentialminus": [
                        [
                          0,
                          "#0d0887"
                        ],
                        [
                          0.1111111111111111,
                          "#46039f"
                        ],
                        [
                          0.2222222222222222,
                          "#7201a8"
                        ],
                        [
                          0.3333333333333333,
                          "#9c179e"
                        ],
                        [
                          0.4444444444444444,
                          "#bd3786"
                        ],
                        [
                          0.5555555555555556,
                          "#d8576b"
                        ],
                        [
                          0.6666666666666666,
                          "#ed7953"
                        ],
                        [
                          0.7777777777777778,
                          "#fb9f3a"
                        ],
                        [
                          0.8888888888888888,
                          "#fdca26"
                        ],
                        [
                          1,
                          "#f0f921"
                        ]
                      ]
                    },
                    "colorway": [
                      "#636efa",
                      "#EF553B",
                      "#00cc96",
                      "#ab63fa",
                      "#FFA15A",
                      "#19d3f3",
                      "#FF6692",
                      "#B6E880",
                      "#FF97FF",
                      "#FECB52"
                    ],
                    "font": {
                      "color": "#2a3f5f"
                    },
                    "geo": {
                      "bgcolor": "white",
                      "lakecolor": "white",
                      "landcolor": "white",
                      "showlakes": true,
                      "showland": true,
                      "subunitcolor": "#C8D4E3"
                    },
                    "hoverlabel": {
                      "align": "left"
                    },
                    "hovermode": "closest",
                    "mapbox": {
                      "style": "light"
                    },
                    "paper_bgcolor": "white",
                    "plot_bgcolor": "white",
                    "polar": {
                      "angularaxis": {
                        "gridcolor": "#EBF0F8",
                        "linecolor": "#EBF0F8",
                        "ticks": ""
                      },
                      "bgcolor": "white",
                      "radialaxis": {
                        "gridcolor": "#EBF0F8",
                        "linecolor": "#EBF0F8",
                        "ticks": ""
                      }
                    },
                    "scene": {
                      "xaxis": {
                        "backgroundcolor": "white",
                        "gridcolor": "#DFE8F3",
                        "gridwidth": 2,
                        "linecolor": "#EBF0F8",
                        "showbackground": true,
                        "ticks": "",
                        "zerolinecolor": "#EBF0F8"
                      },
                      "yaxis": {
                        "backgroundcolor": "white",
                        "gridcolor": "#DFE8F3",
                        "gridwidth": 2,
                        "linecolor": "#EBF0F8",
                        "showbackground": true,
                        "ticks": "",
                        "zerolinecolor": "#EBF0F8"
                      },
                      "zaxis": {
                        "backgroundcolor": "white",
                        "gridcolor": "#DFE8F3",
                        "gridwidth": 2,
                        "linecolor": "#EBF0F8",
                        "showbackground": true,
                        "ticks": "",
                        "zerolinecolor": "#EBF0F8"
                      }
                    },
                    "shapedefaults": {
                      "line": {
                        "color": "#2a3f5f"
                      }
                    },
                    "ternary": {
                      "aaxis": {
                        "gridcolor": "#DFE8F3",
                        "linecolor": "#A2B1C6",
                        "ticks": ""
                      },
                      "baxis": {
                        "gridcolor": "#DFE8F3",
                        "linecolor": "#A2B1C6",
                        "ticks": ""
                      },
                      "bgcolor": "white",
                      "caxis": {
                        "gridcolor": "#DFE8F3",
                        "linecolor": "#A2B1C6",
                        "ticks": ""
                      }
                    },
                    "title": {
                      "x": 0.05
                    },
                    "xaxis": {
                      "automargin": true,
                      "gridcolor": "#EBF0F8",
                      "linecolor": "#EBF0F8",
                      "ticks": "",
                      "title": {
                        "standoff": 15
                      },
                      "zerolinecolor": "#EBF0F8",
                      "zerolinewidth": 2
                    },
                    "yaxis": {
                      "automargin": true,
                      "gridcolor": "#EBF0F8",
                      "linecolor": "#EBF0F8",
                      "ticks": "",
                      "title": {
                        "standoff": 15
                      },
                      "zerolinecolor": "#EBF0F8",
                      "zerolinewidth": 2
                    }
                  }
                },
                "xaxis": {
                  "anchor": "y",
                  "domain": [
                    0,
                    1
                  ],
                  "title": {
                    "text": "region"
                  }
                },
                "yaxis": {
                  "anchor": "x",
                  "domain": [
                    0,
                    1
                  ],
                  "title": {
                    "text": "num cases"
                  }
                }
              }
            }
          },
          "metadata": {},
          "output_type": "display_data"
        }
      ],
      "source": [
        "# Plotting\n",
        "plot_process(agg_gp_draws)"
      ]
    },
    {
      "cell_type": "markdown",
      "metadata": {
        "id": "24YH-_biUJG4"
      },
      "source": [
        "## Hyperparameter Tuning"
      ]
    },
    {
      "cell_type": "code",
      "execution_count": 178,
      "metadata": {
        "colab": {
          "base_uri": "https://localhost:8080/"
        },
        "id": "Ldon-7FAUM1i",
        "outputId": "466e11c6-4c95-4a56-e370-73d1f7ff242d"
      },
      "outputs": [
        {
          "name": "stdout",
          "output_type": "stream",
          "text": [
            "Training with hidden_dim=20, z_dim=20\n"
          ]
        },
        {
          "ename": "KeyboardInterrupt",
          "evalue": "",
          "output_type": "error",
          "traceback": [
            "\u001b[1;31m---------------------------------------------------------------------------\u001b[0m",
            "\u001b[1;31mJaxStackTraceBeforeTransformation\u001b[0m         Traceback (most recent call last)",
            "File \u001b[1;32m<frozen runpy>:198\u001b[0m, in \u001b[0;36m_run_module_as_main\u001b[1;34m()\u001b[0m\n",
            "File \u001b[1;32m<frozen runpy>:88\u001b[0m, in \u001b[0;36m_run_code\u001b[1;34m()\u001b[0m\n",
            "File \u001b[1;32m~\\AppData\\Roaming\\Python\\Python313\\site-packages\\ipykernel_launcher.py:18\u001b[0m\n\u001b[0;32m     16\u001b[0m \u001b[38;5;28;01mfrom\u001b[39;00m\u001b[38;5;250m \u001b[39m\u001b[38;5;21;01mipykernel\u001b[39;00m\u001b[38;5;250m \u001b[39m\u001b[38;5;28;01mimport\u001b[39;00m kernelapp \u001b[38;5;28;01mas\u001b[39;00m app\n\u001b[1;32m---> 18\u001b[0m app\u001b[38;5;241m.\u001b[39mlaunch_new_instance()\n",
            "File \u001b[1;32m~\\AppData\\Roaming\\Python\\Python313\\site-packages\\traitlets\\config\\application.py:1075\u001b[0m, in \u001b[0;36mlaunch_instance\u001b[1;34m()\u001b[0m\n\u001b[0;32m   1074\u001b[0m app\u001b[38;5;241m.\u001b[39minitialize(argv)\n\u001b[1;32m-> 1075\u001b[0m app\u001b[38;5;241m.\u001b[39mstart()\n",
            "File \u001b[1;32m~\\AppData\\Roaming\\Python\\Python313\\site-packages\\ipykernel\\kernelapp.py:739\u001b[0m, in \u001b[0;36mstart\u001b[1;34m()\u001b[0m\n\u001b[0;32m    738\u001b[0m \u001b[38;5;28;01mtry\u001b[39;00m:\n\u001b[1;32m--> 739\u001b[0m     \u001b[38;5;28mself\u001b[39m\u001b[38;5;241m.\u001b[39mio_loop\u001b[38;5;241m.\u001b[39mstart()\n\u001b[0;32m    740\u001b[0m \u001b[38;5;28;01mexcept\u001b[39;00m \u001b[38;5;167;01mKeyboardInterrupt\u001b[39;00m:\n",
            "File \u001b[1;32m~\\AppData\\Roaming\\Python\\Python313\\site-packages\\tornado\\platform\\asyncio.py:205\u001b[0m, in \u001b[0;36mstart\u001b[1;34m()\u001b[0m\n\u001b[0;32m    204\u001b[0m \u001b[38;5;28;01mdef\u001b[39;00m\u001b[38;5;250m \u001b[39m\u001b[38;5;21mstart\u001b[39m(\u001b[38;5;28mself\u001b[39m) \u001b[38;5;241m-\u001b[39m\u001b[38;5;241m>\u001b[39m \u001b[38;5;28;01mNone\u001b[39;00m:\n\u001b[1;32m--> 205\u001b[0m     \u001b[38;5;28mself\u001b[39m\u001b[38;5;241m.\u001b[39masyncio_loop\u001b[38;5;241m.\u001b[39mrun_forever()\n",
            "File \u001b[1;32mc:\\Python313\\Lib\\asyncio\\base_events.py:678\u001b[0m, in \u001b[0;36mrun_forever\u001b[1;34m()\u001b[0m\n\u001b[0;32m    677\u001b[0m \u001b[38;5;28;01mwhile\u001b[39;00m \u001b[38;5;28;01mTrue\u001b[39;00m:\n\u001b[1;32m--> 678\u001b[0m     \u001b[38;5;28mself\u001b[39m\u001b[38;5;241m.\u001b[39m_run_once()\n\u001b[0;32m    679\u001b[0m     \u001b[38;5;28;01mif\u001b[39;00m \u001b[38;5;28mself\u001b[39m\u001b[38;5;241m.\u001b[39m_stopping:\n",
            "File \u001b[1;32mc:\\Python313\\Lib\\asyncio\\base_events.py:2033\u001b[0m, in \u001b[0;36m_run_once\u001b[1;34m()\u001b[0m\n\u001b[0;32m   2032\u001b[0m     \u001b[38;5;28;01melse\u001b[39;00m:\n\u001b[1;32m-> 2033\u001b[0m         handle\u001b[38;5;241m.\u001b[39m_run()\n\u001b[0;32m   2034\u001b[0m handle \u001b[38;5;241m=\u001b[39m \u001b[38;5;28;01mNone\u001b[39;00m\n",
            "File \u001b[1;32mc:\\Python313\\Lib\\asyncio\\events.py:89\u001b[0m, in \u001b[0;36m_run\u001b[1;34m()\u001b[0m\n\u001b[0;32m     88\u001b[0m \u001b[38;5;28;01mtry\u001b[39;00m:\n\u001b[1;32m---> 89\u001b[0m     \u001b[38;5;28mself\u001b[39m\u001b[38;5;241m.\u001b[39m_context\u001b[38;5;241m.\u001b[39mrun(\u001b[38;5;28mself\u001b[39m\u001b[38;5;241m.\u001b[39m_callback, \u001b[38;5;241m*\u001b[39m\u001b[38;5;28mself\u001b[39m\u001b[38;5;241m.\u001b[39m_args)\n\u001b[0;32m     90\u001b[0m \u001b[38;5;28;01mexcept\u001b[39;00m (\u001b[38;5;167;01mSystemExit\u001b[39;00m, \u001b[38;5;167;01mKeyboardInterrupt\u001b[39;00m):\n",
            "File \u001b[1;32m~\\AppData\\Roaming\\Python\\Python313\\site-packages\\ipykernel\\kernelbase.py:545\u001b[0m, in \u001b[0;36mdispatch_queue\u001b[1;34m()\u001b[0m\n\u001b[0;32m    544\u001b[0m \u001b[38;5;28;01mtry\u001b[39;00m:\n\u001b[1;32m--> 545\u001b[0m     \u001b[38;5;28;01mawait\u001b[39;00m \u001b[38;5;28mself\u001b[39m\u001b[38;5;241m.\u001b[39mprocess_one()\n\u001b[0;32m    546\u001b[0m \u001b[38;5;28;01mexcept\u001b[39;00m \u001b[38;5;167;01mException\u001b[39;00m:\n",
            "File \u001b[1;32m~\\AppData\\Roaming\\Python\\Python313\\site-packages\\ipykernel\\kernelbase.py:534\u001b[0m, in \u001b[0;36mprocess_one\u001b[1;34m()\u001b[0m\n\u001b[0;32m    533\u001b[0m         \u001b[38;5;28;01mreturn\u001b[39;00m\n\u001b[1;32m--> 534\u001b[0m \u001b[38;5;28;01mawait\u001b[39;00m dispatch(\u001b[38;5;241m*\u001b[39margs)\n",
            "File \u001b[1;32m~\\AppData\\Roaming\\Python\\Python313\\site-packages\\ipykernel\\kernelbase.py:437\u001b[0m, in \u001b[0;36mdispatch_shell\u001b[1;34m()\u001b[0m\n\u001b[0;32m    436\u001b[0m     \u001b[38;5;28;01mif\u001b[39;00m inspect\u001b[38;5;241m.\u001b[39misawaitable(result):\n\u001b[1;32m--> 437\u001b[0m         \u001b[38;5;28;01mawait\u001b[39;00m result\n\u001b[0;32m    438\u001b[0m \u001b[38;5;28;01mexcept\u001b[39;00m \u001b[38;5;167;01mException\u001b[39;00m:\n",
            "File \u001b[1;32m~\\AppData\\Roaming\\Python\\Python313\\site-packages\\ipykernel\\ipkernel.py:362\u001b[0m, in \u001b[0;36mexecute_request\u001b[1;34m()\u001b[0m\n\u001b[0;32m    361\u001b[0m \u001b[38;5;28mself\u001b[39m\u001b[38;5;241m.\u001b[39m_associate_new_top_level_threads_with(parent_header)\n\u001b[1;32m--> 362\u001b[0m \u001b[38;5;28;01mawait\u001b[39;00m \u001b[38;5;28msuper\u001b[39m()\u001b[38;5;241m.\u001b[39mexecute_request(stream, ident, parent)\n",
            "File \u001b[1;32m~\\AppData\\Roaming\\Python\\Python313\\site-packages\\ipykernel\\kernelbase.py:778\u001b[0m, in \u001b[0;36mexecute_request\u001b[1;34m()\u001b[0m\n\u001b[0;32m    777\u001b[0m \u001b[38;5;28;01mif\u001b[39;00m inspect\u001b[38;5;241m.\u001b[39misawaitable(reply_content):\n\u001b[1;32m--> 778\u001b[0m     reply_content \u001b[38;5;241m=\u001b[39m \u001b[38;5;28;01mawait\u001b[39;00m reply_content\n\u001b[0;32m    780\u001b[0m \u001b[38;5;66;03m# Flush output before sending the reply.\u001b[39;00m\n",
            "File \u001b[1;32m~\\AppData\\Roaming\\Python\\Python313\\site-packages\\ipykernel\\ipkernel.py:449\u001b[0m, in \u001b[0;36mdo_execute\u001b[1;34m()\u001b[0m\n\u001b[0;32m    448\u001b[0m \u001b[38;5;28;01mif\u001b[39;00m accepts_params[\u001b[38;5;124m\"\u001b[39m\u001b[38;5;124mcell_id\u001b[39m\u001b[38;5;124m\"\u001b[39m]:\n\u001b[1;32m--> 449\u001b[0m     res \u001b[38;5;241m=\u001b[39m shell\u001b[38;5;241m.\u001b[39mrun_cell(\n\u001b[0;32m    450\u001b[0m         code,\n\u001b[0;32m    451\u001b[0m         store_history\u001b[38;5;241m=\u001b[39mstore_history,\n\u001b[0;32m    452\u001b[0m         silent\u001b[38;5;241m=\u001b[39msilent,\n\u001b[0;32m    453\u001b[0m         cell_id\u001b[38;5;241m=\u001b[39mcell_id,\n\u001b[0;32m    454\u001b[0m     )\n\u001b[0;32m    455\u001b[0m \u001b[38;5;28;01melse\u001b[39;00m:\n",
            "File \u001b[1;32m~\\AppData\\Roaming\\Python\\Python313\\site-packages\\ipykernel\\zmqshell.py:549\u001b[0m, in \u001b[0;36mrun_cell\u001b[1;34m()\u001b[0m\n\u001b[0;32m    548\u001b[0m \u001b[38;5;28mself\u001b[39m\u001b[38;5;241m.\u001b[39m_last_traceback \u001b[38;5;241m=\u001b[39m \u001b[38;5;28;01mNone\u001b[39;00m\n\u001b[1;32m--> 549\u001b[0m \u001b[38;5;28;01mreturn\u001b[39;00m \u001b[38;5;28msuper\u001b[39m()\u001b[38;5;241m.\u001b[39mrun_cell(\u001b[38;5;241m*\u001b[39margs, \u001b[38;5;241m*\u001b[39m\u001b[38;5;241m*\u001b[39mkwargs)\n",
            "File \u001b[1;32m~\\AppData\\Roaming\\Python\\Python313\\site-packages\\IPython\\core\\interactiveshell.py:3077\u001b[0m, in \u001b[0;36mrun_cell\u001b[1;34m()\u001b[0m\n\u001b[0;32m   3076\u001b[0m \u001b[38;5;28;01mtry\u001b[39;00m:\n\u001b[1;32m-> 3077\u001b[0m     result \u001b[38;5;241m=\u001b[39m \u001b[38;5;28mself\u001b[39m\u001b[38;5;241m.\u001b[39m_run_cell(\n\u001b[0;32m   3078\u001b[0m         raw_cell, store_history, silent, shell_futures, cell_id\n\u001b[0;32m   3079\u001b[0m     )\n\u001b[0;32m   3080\u001b[0m \u001b[38;5;28;01mfinally\u001b[39;00m:\n",
            "File \u001b[1;32m~\\AppData\\Roaming\\Python\\Python313\\site-packages\\IPython\\core\\interactiveshell.py:3132\u001b[0m, in \u001b[0;36m_run_cell\u001b[1;34m()\u001b[0m\n\u001b[0;32m   3131\u001b[0m \u001b[38;5;28;01mtry\u001b[39;00m:\n\u001b[1;32m-> 3132\u001b[0m     result \u001b[38;5;241m=\u001b[39m runner(coro)\n\u001b[0;32m   3133\u001b[0m \u001b[38;5;28;01mexcept\u001b[39;00m \u001b[38;5;167;01mBaseException\u001b[39;00m \u001b[38;5;28;01mas\u001b[39;00m e:\n",
            "File \u001b[1;32m~\\AppData\\Roaming\\Python\\Python313\\site-packages\\IPython\\core\\async_helpers.py:128\u001b[0m, in \u001b[0;36m_pseudo_sync_runner\u001b[1;34m()\u001b[0m\n\u001b[0;32m    127\u001b[0m \u001b[38;5;28;01mtry\u001b[39;00m:\n\u001b[1;32m--> 128\u001b[0m     coro\u001b[38;5;241m.\u001b[39msend(\u001b[38;5;28;01mNone\u001b[39;00m)\n\u001b[0;32m    129\u001b[0m \u001b[38;5;28;01mexcept\u001b[39;00m \u001b[38;5;167;01mStopIteration\u001b[39;00m \u001b[38;5;28;01mas\u001b[39;00m exc:\n",
            "File \u001b[1;32m~\\AppData\\Roaming\\Python\\Python313\\site-packages\\IPython\\core\\interactiveshell.py:3336\u001b[0m, in \u001b[0;36mrun_cell_async\u001b[1;34m()\u001b[0m\n\u001b[0;32m   3333\u001b[0m interactivity \u001b[38;5;241m=\u001b[39m \u001b[38;5;124m\"\u001b[39m\u001b[38;5;124mnone\u001b[39m\u001b[38;5;124m\"\u001b[39m \u001b[38;5;28;01mif\u001b[39;00m silent \u001b[38;5;28;01melse\u001b[39;00m \u001b[38;5;28mself\u001b[39m\u001b[38;5;241m.\u001b[39mast_node_interactivity\n\u001b[1;32m-> 3336\u001b[0m has_raised \u001b[38;5;241m=\u001b[39m \u001b[38;5;28;01mawait\u001b[39;00m \u001b[38;5;28mself\u001b[39m\u001b[38;5;241m.\u001b[39mrun_ast_nodes(code_ast\u001b[38;5;241m.\u001b[39mbody, cell_name,\n\u001b[0;32m   3337\u001b[0m        interactivity\u001b[38;5;241m=\u001b[39minteractivity, compiler\u001b[38;5;241m=\u001b[39mcompiler, result\u001b[38;5;241m=\u001b[39mresult)\n\u001b[0;32m   3339\u001b[0m \u001b[38;5;28mself\u001b[39m\u001b[38;5;241m.\u001b[39mlast_execution_succeeded \u001b[38;5;241m=\u001b[39m \u001b[38;5;129;01mnot\u001b[39;00m has_raised\n",
            "File \u001b[1;32m~\\AppData\\Roaming\\Python\\Python313\\site-packages\\IPython\\core\\interactiveshell.py:3519\u001b[0m, in \u001b[0;36mrun_ast_nodes\u001b[1;34m()\u001b[0m\n\u001b[0;32m   3518\u001b[0m     asy \u001b[38;5;241m=\u001b[39m compare(code)\n\u001b[1;32m-> 3519\u001b[0m \u001b[38;5;28;01mif\u001b[39;00m \u001b[38;5;28;01mawait\u001b[39;00m \u001b[38;5;28mself\u001b[39m\u001b[38;5;241m.\u001b[39mrun_code(code, result, async_\u001b[38;5;241m=\u001b[39masy):\n\u001b[0;32m   3520\u001b[0m     \u001b[38;5;28;01mreturn\u001b[39;00m \u001b[38;5;28;01mTrue\u001b[39;00m\n",
            "File \u001b[1;32m~\\AppData\\Roaming\\Python\\Python313\\site-packages\\IPython\\core\\interactiveshell.py:3579\u001b[0m, in \u001b[0;36mrun_code\u001b[1;34m()\u001b[0m\n\u001b[0;32m   3578\u001b[0m     \u001b[38;5;28;01melse\u001b[39;00m:\n\u001b[1;32m-> 3579\u001b[0m         exec(code_obj, \u001b[38;5;28mself\u001b[39m\u001b[38;5;241m.\u001b[39muser_global_ns, \u001b[38;5;28mself\u001b[39m\u001b[38;5;241m.\u001b[39muser_ns)\n\u001b[0;32m   3580\u001b[0m \u001b[38;5;28;01mfinally\u001b[39;00m:\n\u001b[0;32m   3581\u001b[0m     \u001b[38;5;66;03m# Reset our crash handler in place\u001b[39;00m\n",
            "Cell \u001b[1;32mIn[176], line 3\u001b[0m\n\u001b[0;32m      2\u001b[0m agg_gp_predictive \u001b[38;5;241m=\u001b[39m Predictive(gp_aggr,num_samples \u001b[38;5;241m=\u001b[39m \u001b[38;5;241m5\u001b[39m)\n\u001b[1;32m----> 3\u001b[0m agg_gp_draws \u001b[38;5;241m=\u001b[39m agg_gp_predictive(rng_key_, args)[\u001b[38;5;124m\"\u001b[39m\u001b[38;5;124mgp_aggr\u001b[39m\u001b[38;5;124m\"\u001b[39m] \u001b[38;5;66;03m#(num_samples, num_regions)\u001b[39;00m\n",
            "File \u001b[1;32m~\\AppData\\Roaming\\Python\\Python313\\site-packages\\numpyro\\infer\\util.py:1081\u001b[0m, in \u001b[0;36m__call__\u001b[1;34m()\u001b[0m\n\u001b[0;32m   1080\u001b[0m \u001b[38;5;28;01mif\u001b[39;00m \u001b[38;5;28mself\u001b[39m\u001b[38;5;241m.\u001b[39mbatch_ndims \u001b[38;5;241m==\u001b[39m \u001b[38;5;241m0\u001b[39m \u001b[38;5;129;01mor\u001b[39;00m \u001b[38;5;28mself\u001b[39m\u001b[38;5;241m.\u001b[39mparams \u001b[38;5;241m==\u001b[39m {} \u001b[38;5;129;01mor\u001b[39;00m \u001b[38;5;28mself\u001b[39m\u001b[38;5;241m.\u001b[39mguide \u001b[38;5;129;01mis\u001b[39;00m \u001b[38;5;28;01mNone\u001b[39;00m:\n\u001b[1;32m-> 1081\u001b[0m     \u001b[38;5;28;01mreturn\u001b[39;00m \u001b[38;5;28mself\u001b[39m\u001b[38;5;241m.\u001b[39m_call_with_params(rng_key, \u001b[38;5;28mself\u001b[39m\u001b[38;5;241m.\u001b[39mparams, args, kwargs)\n\u001b[0;32m   1082\u001b[0m \u001b[38;5;28;01melif\u001b[39;00m \u001b[38;5;28mself\u001b[39m\u001b[38;5;241m.\u001b[39mbatch_ndims \u001b[38;5;241m==\u001b[39m \u001b[38;5;241m1\u001b[39m:  \u001b[38;5;66;03m# batch over parameters\u001b[39;00m\n",
            "File \u001b[1;32m~\\AppData\\Roaming\\Python\\Python313\\site-packages\\numpyro\\infer\\util.py:1057\u001b[0m, in \u001b[0;36m_call_with_params\u001b[1;34m()\u001b[0m\n\u001b[0;32m   1056\u001b[0m model \u001b[38;5;241m=\u001b[39m substitute(\u001b[38;5;28mself\u001b[39m\u001b[38;5;241m.\u001b[39mmodel, \u001b[38;5;28mself\u001b[39m\u001b[38;5;241m.\u001b[39mparams)\n\u001b[1;32m-> 1057\u001b[0m \u001b[38;5;28;01mreturn\u001b[39;00m _predictive(\n\u001b[0;32m   1058\u001b[0m     rng_key,\n\u001b[0;32m   1059\u001b[0m     model,\n\u001b[0;32m   1060\u001b[0m     posterior_samples,\n\u001b[0;32m   1061\u001b[0m     \u001b[38;5;28mself\u001b[39m\u001b[38;5;241m.\u001b[39m_batch_shape,\n\u001b[0;32m   1062\u001b[0m     return_sites\u001b[38;5;241m=\u001b[39m\u001b[38;5;28mself\u001b[39m\u001b[38;5;241m.\u001b[39mreturn_sites,\n\u001b[0;32m   1063\u001b[0m     infer_discrete\u001b[38;5;241m=\u001b[39m\u001b[38;5;28mself\u001b[39m\u001b[38;5;241m.\u001b[39minfer_discrete,\n\u001b[0;32m   1064\u001b[0m     parallel\u001b[38;5;241m=\u001b[39m\u001b[38;5;28mself\u001b[39m\u001b[38;5;241m.\u001b[39mparallel,\n\u001b[0;32m   1065\u001b[0m     model_args\u001b[38;5;241m=\u001b[39margs,\n\u001b[0;32m   1066\u001b[0m     model_kwargs\u001b[38;5;241m=\u001b[39mkwargs,\n\u001b[0;32m   1067\u001b[0m     exclude_deterministic\u001b[38;5;241m=\u001b[39m\u001b[38;5;28mself\u001b[39m\u001b[38;5;241m.\u001b[39mexclude_deterministic,\n\u001b[0;32m   1068\u001b[0m )\n",
            "File \u001b[1;32m~\\AppData\\Roaming\\Python\\Python313\\site-packages\\numpyro\\infer\\util.py:883\u001b[0m, in \u001b[0;36m_predictive\u001b[1;34m()\u001b[0m\n\u001b[0;32m    882\u001b[0m chunk_size \u001b[38;5;241m=\u001b[39m num_samples \u001b[38;5;28;01mif\u001b[39;00m parallel \u001b[38;5;28;01melse\u001b[39;00m \u001b[38;5;241m1\u001b[39m\n\u001b[1;32m--> 883\u001b[0m \u001b[38;5;28;01mreturn\u001b[39;00m soft_vmap(\n\u001b[0;32m    884\u001b[0m     single_prediction, (rng_key, posterior_samples), \u001b[38;5;28mlen\u001b[39m(batch_shape), chunk_size\n\u001b[0;32m    885\u001b[0m )\n",
            "File \u001b[1;32m~\\AppData\\Roaming\\Python\\Python313\\site-packages\\numpyro\\util.py:453\u001b[0m, in \u001b[0;36msoft_vmap\u001b[1;34m()\u001b[0m\n\u001b[0;32m    451\u001b[0m     fn \u001b[38;5;241m=\u001b[39m vmap(fn)\n\u001b[1;32m--> 453\u001b[0m ys \u001b[38;5;241m=\u001b[39m lax\u001b[38;5;241m.\u001b[39mmap(fn, xs) \u001b[38;5;28;01mif\u001b[39;00m num_chunks \u001b[38;5;241m>\u001b[39m \u001b[38;5;241m1\u001b[39m \u001b[38;5;28;01melse\u001b[39;00m fn(xs)\n\u001b[0;32m    454\u001b[0m map_ndims \u001b[38;5;241m=\u001b[39m \u001b[38;5;28mint\u001b[39m(num_chunks \u001b[38;5;241m>\u001b[39m \u001b[38;5;241m1\u001b[39m) \u001b[38;5;241m+\u001b[39m \u001b[38;5;28mint\u001b[39m(chunk_size \u001b[38;5;241m>\u001b[39m \u001b[38;5;241m1\u001b[39m)\n",
            "File \u001b[1;32m~\\AppData\\Roaming\\Python\\Python313\\site-packages\\numpyro\\infer\\util.py:856\u001b[0m, in \u001b[0;36msingle_prediction\u001b[1;34m()\u001b[0m\n\u001b[0;32m    855\u001b[0m \u001b[38;5;28;01melse\u001b[39;00m:\n\u001b[1;32m--> 856\u001b[0m     model_trace \u001b[38;5;241m=\u001b[39m trace(seed(substituted_model, rng_key))\u001b[38;5;241m.\u001b[39mget_trace(\n\u001b[0;32m    857\u001b[0m         \u001b[38;5;241m*\u001b[39mmodel_args, \u001b[38;5;241m*\u001b[39m\u001b[38;5;241m*\u001b[39mmodel_kwargs\n\u001b[0;32m    858\u001b[0m     )\n\u001b[0;32m    859\u001b[0m     pred_samples \u001b[38;5;241m=\u001b[39m {name: site[\u001b[38;5;124m\"\u001b[39m\u001b[38;5;124mvalue\u001b[39m\u001b[38;5;124m\"\u001b[39m] \u001b[38;5;28;01mfor\u001b[39;00m name, site \u001b[38;5;129;01min\u001b[39;00m model_trace\u001b[38;5;241m.\u001b[39mitems()}\n",
            "File \u001b[1;32m~\\AppData\\Roaming\\Python\\Python313\\site-packages\\numpyro\\handlers.py:191\u001b[0m, in \u001b[0;36mget_trace\u001b[1;34m()\u001b[0m\n\u001b[0;32m    184\u001b[0m \u001b[38;5;250m\u001b[39m\u001b[38;5;124;03m\"\"\"\u001b[39;00m\n\u001b[0;32m    185\u001b[0m \u001b[38;5;124;03mRun the wrapped callable and return the recorded trace.\u001b[39;00m\n\u001b[0;32m    186\u001b[0m \n\u001b[1;32m   (...)\u001b[0m\n\u001b[0;32m    189\u001b[0m \u001b[38;5;124;03m:return: `OrderedDict` containing the execution trace.\u001b[39;00m\n\u001b[0;32m    190\u001b[0m \u001b[38;5;124;03m\"\"\"\u001b[39;00m\n\u001b[1;32m--> 191\u001b[0m \u001b[38;5;28mself\u001b[39m(\u001b[38;5;241m*\u001b[39margs, \u001b[38;5;241m*\u001b[39m\u001b[38;5;241m*\u001b[39mkwargs)\n\u001b[0;32m    192\u001b[0m \u001b[38;5;28;01mreturn\u001b[39;00m \u001b[38;5;28mself\u001b[39m\u001b[38;5;241m.\u001b[39mtrace\n",
            "File \u001b[1;32m~\\AppData\\Roaming\\Python\\Python313\\site-packages\\numpyro\\primitives.py:121\u001b[0m, in \u001b[0;36m__call__\u001b[1;34m()\u001b[0m\n\u001b[0;32m    120\u001b[0m \u001b[38;5;28;01mwith\u001b[39;00m \u001b[38;5;28mself\u001b[39m:\n\u001b[1;32m--> 121\u001b[0m     \u001b[38;5;28;01mreturn\u001b[39;00m \u001b[38;5;28mself\u001b[39m\u001b[38;5;241m.\u001b[39mfn(\u001b[38;5;241m*\u001b[39margs, \u001b[38;5;241m*\u001b[39m\u001b[38;5;241m*\u001b[39mkwargs)\n",
            "File \u001b[1;32m~\\AppData\\Roaming\\Python\\Python313\\site-packages\\numpyro\\primitives.py:121\u001b[0m, in \u001b[0;36m__call__\u001b[1;34m()\u001b[0m\n\u001b[0;32m    120\u001b[0m \u001b[38;5;28;01mwith\u001b[39;00m \u001b[38;5;28mself\u001b[39m:\n\u001b[1;32m--> 121\u001b[0m     \u001b[38;5;28;01mreturn\u001b[39;00m \u001b[38;5;28mself\u001b[39m\u001b[38;5;241m.\u001b[39mfn(\u001b[38;5;241m*\u001b[39margs, \u001b[38;5;241m*\u001b[39m\u001b[38;5;241m*\u001b[39mkwargs)\n",
            "    \u001b[1;31m[... skipping similar frames: __call__ at line 121 (2 times)]\u001b[0m\n",
            "File \u001b[1;32m~\\AppData\\Roaming\\Python\\Python313\\site-packages\\numpyro\\primitives.py:121\u001b[0m, in \u001b[0;36m__call__\u001b[1;34m()\u001b[0m\n\u001b[0;32m    120\u001b[0m \u001b[38;5;28;01mwith\u001b[39;00m \u001b[38;5;28mself\u001b[39m:\n\u001b[1;32m--> 121\u001b[0m     \u001b[38;5;28;01mreturn\u001b[39;00m \u001b[38;5;28mself\u001b[39m\u001b[38;5;241m.\u001b[39mfn(\u001b[38;5;241m*\u001b[39margs, \u001b[38;5;241m*\u001b[39m\u001b[38;5;241m*\u001b[39mkwargs)\n",
            "Cell \u001b[1;32mIn[82], line 11\u001b[0m, in \u001b[0;36mgp_aggr\u001b[1;34m()\u001b[0m\n\u001b[0;32m     10\u001b[0m \u001b[38;5;66;03m# GP hyperparameters\u001b[39;00m\n\u001b[1;32m---> 11\u001b[0m kernel_length \u001b[38;5;241m=\u001b[39m numpyro\u001b[38;5;241m.\u001b[39msample(\u001b[38;5;124m\"\u001b[39m\u001b[38;5;124mkernel_length\u001b[39m\u001b[38;5;124m\"\u001b[39m, args[\u001b[38;5;124m\"\u001b[39m\u001b[38;5;124mkernel_length\u001b[39m\u001b[38;5;124m\"\u001b[39m])\n\u001b[0;32m     12\u001b[0m kernel_var \u001b[38;5;241m=\u001b[39m numpyro\u001b[38;5;241m.\u001b[39msample(\u001b[38;5;124m\"\u001b[39m\u001b[38;5;124mkernel_var\u001b[39m\u001b[38;5;124m\"\u001b[39m, args[\u001b[38;5;124m\"\u001b[39m\u001b[38;5;124mkernel_var\u001b[39m\u001b[38;5;124m\"\u001b[39m])\n",
            "File \u001b[1;32m~\\AppData\\Roaming\\Python\\Python313\\site-packages\\numpyro\\primitives.py:250\u001b[0m, in \u001b[0;36msample\u001b[1;34m()\u001b[0m\n\u001b[0;32m    249\u001b[0m \u001b[38;5;66;03m# ...and use apply_stack to send it to the Messengers\u001b[39;00m\n\u001b[1;32m--> 250\u001b[0m msg \u001b[38;5;241m=\u001b[39m apply_stack(initial_msg)\n\u001b[0;32m    251\u001b[0m \u001b[38;5;28;01mreturn\u001b[39;00m msg[\u001b[38;5;124m\"\u001b[39m\u001b[38;5;124mvalue\u001b[39m\u001b[38;5;124m\"\u001b[39m]\n",
            "File \u001b[1;32m~\\AppData\\Roaming\\Python\\Python313\\site-packages\\numpyro\\primitives.py:55\u001b[0m, in \u001b[0;36mapply_stack\u001b[1;34m()\u001b[0m\n\u001b[0;32m     54\u001b[0m \u001b[38;5;28;01mfor\u001b[39;00m pointer, handler \u001b[38;5;129;01min\u001b[39;00m \u001b[38;5;28menumerate\u001b[39m(\u001b[38;5;28mreversed\u001b[39m(_PYRO_STACK)):\n\u001b[1;32m---> 55\u001b[0m     handler\u001b[38;5;241m.\u001b[39mprocess_message(msg)\n\u001b[0;32m     56\u001b[0m     \u001b[38;5;66;03m# When a Messenger sets the \"stop\" field of a message,\u001b[39;00m\n\u001b[0;32m     57\u001b[0m     \u001b[38;5;66;03m# it prevents any Messengers above it on the stack from being applied.\u001b[39;00m\n",
            "File \u001b[1;32m~\\AppData\\Roaming\\Python\\Python313\\site-packages\\numpyro\\handlers.py:835\u001b[0m, in \u001b[0;36mprocess_message\u001b[1;34m()\u001b[0m\n\u001b[0;32m    834\u001b[0m \u001b[38;5;28;01mif\u001b[39;00m \u001b[38;5;28mself\u001b[39m\u001b[38;5;241m.\u001b[39mrng_key \u001b[38;5;129;01mis\u001b[39;00m \u001b[38;5;129;01mnot\u001b[39;00m \u001b[38;5;28;01mNone\u001b[39;00m:\n\u001b[1;32m--> 835\u001b[0m     \u001b[38;5;28mself\u001b[39m\u001b[38;5;241m.\u001b[39mrng_key, rng_key_sample \u001b[38;5;241m=\u001b[39m random\u001b[38;5;241m.\u001b[39msplit(\u001b[38;5;28mself\u001b[39m\u001b[38;5;241m.\u001b[39mrng_key)\n\u001b[0;32m    836\u001b[0m     msg[\u001b[38;5;124m\"\u001b[39m\u001b[38;5;124mkwargs\u001b[39m\u001b[38;5;124m\"\u001b[39m][\u001b[38;5;124m\"\u001b[39m\u001b[38;5;124mrng_key\u001b[39m\u001b[38;5;124m\"\u001b[39m] \u001b[38;5;241m=\u001b[39m rng_key_sample\n",
            "File \u001b[1;32m~\\AppData\\Roaming\\Python\\Python313\\site-packages\\jax\\_src\\random.py:291\u001b[0m, in \u001b[0;36msplit\u001b[1;34m()\u001b[0m\n\u001b[0;32m    290\u001b[0m typed_key, wrapped \u001b[38;5;241m=\u001b[39m _check_prng_key(\u001b[38;5;124m\"\u001b[39m\u001b[38;5;124msplit\u001b[39m\u001b[38;5;124m\"\u001b[39m, key)\n\u001b[1;32m--> 291\u001b[0m \u001b[38;5;28;01mreturn\u001b[39;00m _return_prng_keys(wrapped, _split(typed_key, num))\n",
            "File \u001b[1;32m~\\AppData\\Roaming\\Python\\Python313\\site-packages\\jax\\_src\\random.py:277\u001b[0m, in \u001b[0;36m_split\u001b[1;34m()\u001b[0m\n\u001b[0;32m    276\u001b[0m shape \u001b[38;5;241m=\u001b[39m \u001b[38;5;28mtuple\u001b[39m(num) \u001b[38;5;28;01mif\u001b[39;00m \u001b[38;5;28misinstance\u001b[39m(num, Sequence) \u001b[38;5;28;01melse\u001b[39;00m (num,)\n\u001b[1;32m--> 277\u001b[0m \u001b[38;5;28;01mreturn\u001b[39;00m prng\u001b[38;5;241m.\u001b[39mrandom_split(key, shape\u001b[38;5;241m=\u001b[39mshape)\n",
            "File \u001b[1;32m~\\AppData\\Roaming\\Python\\Python313\\site-packages\\jax\\_src\\prng.py:568\u001b[0m, in \u001b[0;36mrandom_split\u001b[1;34m()\u001b[0m\n\u001b[0;32m    567\u001b[0m \u001b[38;5;28;01mdef\u001b[39;00m\u001b[38;5;250m \u001b[39m\u001b[38;5;21mrandom_split\u001b[39m(keys, shape: Shape):\n\u001b[1;32m--> 568\u001b[0m   \u001b[38;5;28;01mreturn\u001b[39;00m random_split_p\u001b[38;5;241m.\u001b[39mbind(keys, shape\u001b[38;5;241m=\u001b[39mshape)\n",
            "\u001b[1;31mJaxStackTraceBeforeTransformation\u001b[0m: KeyboardInterrupt\n\nThe preceding stack trace is the source of the JAX operation that, once transformed by JAX, triggered the following exception.\n\n--------------------",
            "\nThe above exception was the direct cause of the following exception:\n",
            "\u001b[1;31mKeyboardInterrupt\u001b[0m                         Traceback (most recent call last)",
            "Cell \u001b[1;32mIn[178], line 45\u001b[0m\n\u001b[0;32m     42\u001b[0m rng_key, rng_key_train, rng_key_test \u001b[38;5;241m=\u001b[39m random\u001b[38;5;241m.\u001b[39msplit(rng_key, \u001b[38;5;241m3\u001b[39m)\n\u001b[0;32m     43\u001b[0m t_start \u001b[38;5;241m=\u001b[39m time\u001b[38;5;241m.\u001b[39mtime()\n\u001b[1;32m---> 45\u001b[0m train_loss, svi_state \u001b[38;5;241m=\u001b[39m \u001b[43mepoch_train\u001b[49m\u001b[43m(\u001b[49m\u001b[43mrng_key_train\u001b[49m\u001b[43m,\u001b[49m\u001b[43m \u001b[49m\u001b[43msvi_state\u001b[49m\u001b[43m,\u001b[49m\u001b[43m \u001b[49m\u001b[43mnum_train\u001b[49m\u001b[43m)\u001b[49m\n\u001b[0;32m     46\u001b[0m test_loss \u001b[38;5;241m=\u001b[39m eval_test(rng_key_test, svi_state, num_test)\n\u001b[0;32m     47\u001b[0m test_loss_list \u001b[38;5;241m=\u001b[39m test_loss_list\u001b[38;5;241m.\u001b[39mat[epoch]\u001b[38;5;241m.\u001b[39mset(test_loss)\n",
            "    \u001b[1;31m[... skipping hidden 1 frame]\u001b[0m\n",
            "File \u001b[1;32m~\\AppData\\Roaming\\Python\\Python313\\site-packages\\jax\\_src\\pjit.py:339\u001b[0m, in \u001b[0;36m_cpp_pjit.<locals>.cache_miss\u001b[1;34m(*args, **kwargs)\u001b[0m\n\u001b[0;32m    334\u001b[0m \u001b[38;5;28;01mif\u001b[39;00m config\u001b[38;5;241m.\u001b[39mno_tracing\u001b[38;5;241m.\u001b[39mvalue:\n\u001b[0;32m    335\u001b[0m   \u001b[38;5;28;01mraise\u001b[39;00m \u001b[38;5;167;01mRuntimeError\u001b[39;00m(\u001b[38;5;124mf\u001b[39m\u001b[38;5;124m\"\u001b[39m\u001b[38;5;124mre-tracing function \u001b[39m\u001b[38;5;132;01m{\u001b[39;00mjit_info\u001b[38;5;241m.\u001b[39mfun_sourceinfo\u001b[38;5;132;01m}\u001b[39;00m\u001b[38;5;124m for \u001b[39m\u001b[38;5;124m\"\u001b[39m\n\u001b[0;32m    336\u001b[0m                      \u001b[38;5;124m\"\u001b[39m\u001b[38;5;124m`jit`, but \u001b[39m\u001b[38;5;124m'\u001b[39m\u001b[38;5;124mno_tracing\u001b[39m\u001b[38;5;124m'\u001b[39m\u001b[38;5;124m is set\u001b[39m\u001b[38;5;124m\"\u001b[39m)\n\u001b[0;32m    338\u001b[0m (outs, out_flat, out_tree, args_flat, jaxpr, attrs_tracked, executable,\n\u001b[1;32m--> 339\u001b[0m  pgle_profiler) \u001b[38;5;241m=\u001b[39m \u001b[43m_python_pjit_helper\u001b[49m\u001b[43m(\u001b[49m\u001b[43mfun\u001b[49m\u001b[43m,\u001b[49m\u001b[43m \u001b[49m\u001b[43mjit_info\u001b[49m\u001b[43m,\u001b[49m\u001b[43m \u001b[49m\u001b[38;5;241;43m*\u001b[39;49m\u001b[43margs\u001b[49m\u001b[43m,\u001b[49m\u001b[43m \u001b[49m\u001b[38;5;241;43m*\u001b[39;49m\u001b[38;5;241;43m*\u001b[39;49m\u001b[43mkwargs\u001b[49m\u001b[43m)\u001b[49m\n\u001b[0;32m    341\u001b[0m maybe_fastpath_data \u001b[38;5;241m=\u001b[39m _get_fastpath_data(\n\u001b[0;32m    342\u001b[0m     executable, out_tree, args_flat, out_flat, attrs_tracked, jaxpr\u001b[38;5;241m.\u001b[39meffects,\n\u001b[0;32m    343\u001b[0m     jaxpr\u001b[38;5;241m.\u001b[39mconsts, jit_info\u001b[38;5;241m.\u001b[39mabstracted_axes,\n\u001b[0;32m    344\u001b[0m     pgle_profiler)\n\u001b[0;32m    346\u001b[0m \u001b[38;5;28;01mreturn\u001b[39;00m outs, maybe_fastpath_data, _need_to_rebuild_with_fdo(pgle_profiler)\n",
            "File \u001b[1;32m~\\AppData\\Roaming\\Python\\Python313\\site-packages\\jax\\_src\\pjit.py:194\u001b[0m, in \u001b[0;36m_python_pjit_helper\u001b[1;34m(fun, jit_info, *args, **kwargs)\u001b[0m\n\u001b[0;32m    192\u001b[0m   args_flat \u001b[38;5;241m=\u001b[39m \u001b[38;5;28mmap\u001b[39m(core\u001b[38;5;241m.\u001b[39mfull_lower, args_flat)\n\u001b[0;32m    193\u001b[0m   core\u001b[38;5;241m.\u001b[39mcheck_eval_args(args_flat)\n\u001b[1;32m--> 194\u001b[0m   out_flat, compiled, profiler \u001b[38;5;241m=\u001b[39m \u001b[43m_pjit_call_impl_python\u001b[49m\u001b[43m(\u001b[49m\u001b[38;5;241;43m*\u001b[39;49m\u001b[43margs_flat\u001b[49m\u001b[43m,\u001b[49m\u001b[43m \u001b[49m\u001b[38;5;241;43m*\u001b[39;49m\u001b[38;5;241;43m*\u001b[39;49m\u001b[43mp\u001b[49m\u001b[38;5;241;43m.\u001b[39;49m\u001b[43mparams\u001b[49m\u001b[43m)\u001b[49m\n\u001b[0;32m    195\u001b[0m \u001b[38;5;28;01melse\u001b[39;00m:\n\u001b[0;32m    196\u001b[0m   out_flat \u001b[38;5;241m=\u001b[39m pjit_p\u001b[38;5;241m.\u001b[39mbind(\u001b[38;5;241m*\u001b[39margs_flat, \u001b[38;5;241m*\u001b[39m\u001b[38;5;241m*\u001b[39mp\u001b[38;5;241m.\u001b[39mparams)\n",
            "File \u001b[1;32m~\\AppData\\Roaming\\Python\\Python313\\site-packages\\jax\\_src\\pjit.py:1650\u001b[0m, in \u001b[0;36m_pjit_call_impl_python\u001b[1;34m(jaxpr, in_shardings, out_shardings, in_layouts, out_layouts, donated_invars, ctx_mesh, name, keep_unused, inline, compiler_options_kvs, *args)\u001b[0m\n\u001b[0;32m   1647\u001b[0m compiler_options_kvs \u001b[38;5;241m=\u001b[39m compiler_options_kvs \u001b[38;5;241m+\u001b[39m \u001b[38;5;28mtuple\u001b[39m(pgle_compile_options\u001b[38;5;241m.\u001b[39mitems())\n\u001b[0;32m   1648\u001b[0m \u001b[38;5;66;03m# Passing mutable PGLE profile here since it should be extracted by JAXPR to\u001b[39;00m\n\u001b[0;32m   1649\u001b[0m \u001b[38;5;66;03m# initialize the fdo_profile compile option.\u001b[39;00m\n\u001b[1;32m-> 1650\u001b[0m compiled \u001b[38;5;241m=\u001b[39m \u001b[43m_resolve_and_lower\u001b[49m\u001b[43m(\u001b[49m\n\u001b[0;32m   1651\u001b[0m \u001b[43m    \u001b[49m\u001b[43margs\u001b[49m\u001b[43m,\u001b[49m\u001b[43m \u001b[49m\u001b[43mjaxpr\u001b[49m\u001b[38;5;241;43m=\u001b[39;49m\u001b[43mjaxpr\u001b[49m\u001b[43m,\u001b[49m\u001b[43m \u001b[49m\u001b[43min_shardings\u001b[49m\u001b[38;5;241;43m=\u001b[39;49m\u001b[43min_shardings\u001b[49m\u001b[43m,\u001b[49m\n\u001b[0;32m   1652\u001b[0m \u001b[43m    \u001b[49m\u001b[43mout_shardings\u001b[49m\u001b[38;5;241;43m=\u001b[39;49m\u001b[43mout_shardings\u001b[49m\u001b[43m,\u001b[49m\u001b[43m \u001b[49m\u001b[43min_layouts\u001b[49m\u001b[38;5;241;43m=\u001b[39;49m\u001b[43min_layouts\u001b[49m\u001b[43m,\u001b[49m\n\u001b[0;32m   1653\u001b[0m \u001b[43m    \u001b[49m\u001b[43mout_layouts\u001b[49m\u001b[38;5;241;43m=\u001b[39;49m\u001b[43mout_layouts\u001b[49m\u001b[43m,\u001b[49m\u001b[43m \u001b[49m\u001b[43mdonated_invars\u001b[49m\u001b[38;5;241;43m=\u001b[39;49m\u001b[43mdonated_invars\u001b[49m\u001b[43m,\u001b[49m\n\u001b[0;32m   1654\u001b[0m \u001b[43m    \u001b[49m\u001b[43mctx_mesh\u001b[49m\u001b[38;5;241;43m=\u001b[39;49m\u001b[43mctx_mesh\u001b[49m\u001b[43m,\u001b[49m\u001b[43m \u001b[49m\u001b[43mname\u001b[49m\u001b[38;5;241;43m=\u001b[39;49m\u001b[43mname\u001b[49m\u001b[43m,\u001b[49m\u001b[43m \u001b[49m\u001b[43mkeep_unused\u001b[49m\u001b[38;5;241;43m=\u001b[39;49m\u001b[43mkeep_unused\u001b[49m\u001b[43m,\u001b[49m\n\u001b[0;32m   1655\u001b[0m \u001b[43m    \u001b[49m\u001b[43minline\u001b[49m\u001b[38;5;241;43m=\u001b[39;49m\u001b[43minline\u001b[49m\u001b[43m,\u001b[49m\u001b[43m \u001b[49m\u001b[43mlowering_platforms\u001b[49m\u001b[38;5;241;43m=\u001b[39;49m\u001b[38;5;28;43;01mNone\u001b[39;49;00m\u001b[43m,\u001b[49m\n\u001b[0;32m   1656\u001b[0m \u001b[43m    \u001b[49m\u001b[43mlowering_parameters\u001b[49m\u001b[38;5;241;43m=\u001b[39;49m\u001b[43mmlir\u001b[49m\u001b[38;5;241;43m.\u001b[39;49m\u001b[43mLoweringParameters\u001b[49m\u001b[43m(\u001b[49m\u001b[43m)\u001b[49m\u001b[43m,\u001b[49m\n\u001b[0;32m   1657\u001b[0m \u001b[43m    \u001b[49m\u001b[43mpgle_profiler\u001b[49m\u001b[38;5;241;43m=\u001b[39;49m\u001b[43mpgle_profiler\u001b[49m\u001b[43m,\u001b[49m\n\u001b[0;32m   1658\u001b[0m \u001b[43m    \u001b[49m\u001b[43mcompiler_options_kvs\u001b[49m\u001b[38;5;241;43m=\u001b[39;49m\u001b[43mcompiler_options_kvs\u001b[49m\u001b[43m,\u001b[49m\n\u001b[0;32m   1659\u001b[0m \u001b[43m\u001b[49m\u001b[43m)\u001b[49m\u001b[38;5;241m.\u001b[39mcompile()\n\u001b[0;32m   1661\u001b[0m \u001b[38;5;66;03m# This check is expensive so only do it if enable_checks is on.\u001b[39;00m\n\u001b[0;32m   1662\u001b[0m \u001b[38;5;28;01mif\u001b[39;00m compiled\u001b[38;5;241m.\u001b[39m_auto_spmd_lowering \u001b[38;5;129;01mand\u001b[39;00m config\u001b[38;5;241m.\u001b[39menable_checks\u001b[38;5;241m.\u001b[39mvalue:\n",
            "File \u001b[1;32m~\\AppData\\Roaming\\Python\\Python313\\site-packages\\jax\\_src\\pjit.py:1617\u001b[0m, in \u001b[0;36m_resolve_and_lower\u001b[1;34m(args, jaxpr, in_shardings, out_shardings, in_layouts, out_layouts, donated_invars, ctx_mesh, name, keep_unused, inline, lowering_platforms, lowering_parameters, pgle_profiler, compiler_options_kvs)\u001b[0m\n\u001b[0;32m   1614\u001b[0m in_layouts \u001b[38;5;241m=\u001b[39m _resolve_in_layouts(args, in_layouts, in_shardings,\n\u001b[0;32m   1615\u001b[0m                                  jaxpr\u001b[38;5;241m.\u001b[39min_avals)\n\u001b[0;32m   1616\u001b[0m out_layouts \u001b[38;5;241m=\u001b[39m _resolve_out_layouts(out_layouts, out_shardings, jaxpr\u001b[38;5;241m.\u001b[39mout_avals)\n\u001b[1;32m-> 1617\u001b[0m \u001b[38;5;28;01mreturn\u001b[39;00m \u001b[43m_pjit_lower\u001b[49m\u001b[43m(\u001b[49m\n\u001b[0;32m   1618\u001b[0m \u001b[43m    \u001b[49m\u001b[43mjaxpr\u001b[49m\u001b[43m,\u001b[49m\u001b[43m \u001b[49m\u001b[43min_shardings\u001b[49m\u001b[43m,\u001b[49m\u001b[43m \u001b[49m\u001b[43mout_shardings\u001b[49m\u001b[43m,\u001b[49m\u001b[43m \u001b[49m\u001b[43min_layouts\u001b[49m\u001b[43m,\u001b[49m\u001b[43m \u001b[49m\u001b[43mout_layouts\u001b[49m\u001b[43m,\u001b[49m\n\u001b[0;32m   1619\u001b[0m \u001b[43m    \u001b[49m\u001b[43mdonated_invars\u001b[49m\u001b[43m,\u001b[49m\u001b[43m \u001b[49m\u001b[43mctx_mesh\u001b[49m\u001b[43m,\u001b[49m\u001b[43m \u001b[49m\u001b[43mname\u001b[49m\u001b[43m,\u001b[49m\u001b[43m \u001b[49m\u001b[43mkeep_unused\u001b[49m\u001b[43m,\u001b[49m\u001b[43m \u001b[49m\u001b[43minline\u001b[49m\u001b[43m,\u001b[49m\u001b[43m \u001b[49m\u001b[43mcompiler_options_kvs\u001b[49m\u001b[43m,\u001b[49m\n\u001b[0;32m   1620\u001b[0m \u001b[43m    \u001b[49m\u001b[43mlowering_platforms\u001b[49m\u001b[38;5;241;43m=\u001b[39;49m\u001b[43mlowering_platforms\u001b[49m\u001b[43m,\u001b[49m\n\u001b[0;32m   1621\u001b[0m \u001b[43m    \u001b[49m\u001b[43mlowering_parameters\u001b[49m\u001b[38;5;241;43m=\u001b[39;49m\u001b[43mlowering_parameters\u001b[49m\u001b[43m,\u001b[49m\n\u001b[0;32m   1622\u001b[0m \u001b[43m    \u001b[49m\u001b[43mpgle_profiler\u001b[49m\u001b[38;5;241;43m=\u001b[39;49m\u001b[43mpgle_profiler\u001b[49m\u001b[43m)\u001b[49m\n",
            "File \u001b[1;32m~\\AppData\\Roaming\\Python\\Python313\\site-packages\\jax\\_src\\pjit.py:1750\u001b[0m, in \u001b[0;36m_pjit_lower\u001b[1;34m(jaxpr, in_shardings, out_shardings, in_layouts, out_layouts, donated_invars, ctx_mesh, name, keep_unused, inline, compiler_options_kvs, lowering_platforms, lowering_parameters, pgle_profiler)\u001b[0m\n\u001b[0;32m   1733\u001b[0m \u001b[38;5;28;01mdef\u001b[39;00m\u001b[38;5;250m \u001b[39m\u001b[38;5;21m_pjit_lower\u001b[39m(\n\u001b[0;32m   1734\u001b[0m     jaxpr: core\u001b[38;5;241m.\u001b[39mClosedJaxpr,\n\u001b[0;32m   1735\u001b[0m     in_shardings,\n\u001b[1;32m   (...)\u001b[0m\n\u001b[0;32m   1747\u001b[0m     lowering_parameters: mlir\u001b[38;5;241m.\u001b[39mLoweringParameters,\n\u001b[0;32m   1748\u001b[0m     pgle_profiler: profiler\u001b[38;5;241m.\u001b[39mPGLEProfiler \u001b[38;5;241m|\u001b[39m \u001b[38;5;28;01mNone\u001b[39;00m):\n\u001b[0;32m   1749\u001b[0m   util\u001b[38;5;241m.\u001b[39mtest_event(\u001b[38;5;124m\"\u001b[39m\u001b[38;5;124mpjit_lower\u001b[39m\u001b[38;5;124m\"\u001b[39m)\n\u001b[1;32m-> 1750\u001b[0m   \u001b[38;5;28;01mreturn\u001b[39;00m \u001b[43mpxla\u001b[49m\u001b[38;5;241;43m.\u001b[39;49m\u001b[43mlower_sharding_computation\u001b[49m\u001b[43m(\u001b[49m\n\u001b[0;32m   1751\u001b[0m \u001b[43m      \u001b[49m\u001b[43mjaxpr\u001b[49m\u001b[43m,\u001b[49m\u001b[43m \u001b[49m\u001b[38;5;124;43m'\u001b[39;49m\u001b[38;5;124;43mjit\u001b[39;49m\u001b[38;5;124;43m'\u001b[39;49m\u001b[43m,\u001b[49m\u001b[43m \u001b[49m\u001b[43mname\u001b[49m\u001b[43m,\u001b[49m\u001b[43m \u001b[49m\u001b[43min_shardings\u001b[49m\u001b[43m,\u001b[49m\u001b[43m \u001b[49m\u001b[43mout_shardings\u001b[49m\u001b[43m,\u001b[49m\n\u001b[0;32m   1752\u001b[0m \u001b[43m      \u001b[49m\u001b[43min_layouts\u001b[49m\u001b[43m,\u001b[49m\u001b[43m \u001b[49m\u001b[43mout_layouts\u001b[49m\u001b[43m,\u001b[49m\u001b[43m \u001b[49m\u001b[38;5;28;43mtuple\u001b[39;49m\u001b[43m(\u001b[49m\u001b[43mdonated_invars\u001b[49m\u001b[43m)\u001b[49m\u001b[43m,\u001b[49m\n\u001b[0;32m   1753\u001b[0m \u001b[43m      \u001b[49m\u001b[43mkeep_unused\u001b[49m\u001b[38;5;241;43m=\u001b[39;49m\u001b[43mkeep_unused\u001b[49m\u001b[43m,\u001b[49m\u001b[43m \u001b[49m\u001b[43mcontext_mesh\u001b[49m\u001b[38;5;241;43m=\u001b[39;49m\u001b[43mctx_mesh\u001b[49m\u001b[43m,\u001b[49m\n\u001b[0;32m   1754\u001b[0m \u001b[43m      \u001b[49m\u001b[43mcompiler_options_kvs\u001b[49m\u001b[38;5;241;43m=\u001b[39;49m\u001b[43mcompiler_options_kvs\u001b[49m\u001b[43m,\u001b[49m\n\u001b[0;32m   1755\u001b[0m \u001b[43m      \u001b[49m\u001b[43mlowering_platforms\u001b[49m\u001b[38;5;241;43m=\u001b[39;49m\u001b[43mlowering_platforms\u001b[49m\u001b[43m,\u001b[49m\n\u001b[0;32m   1756\u001b[0m \u001b[43m      \u001b[49m\u001b[43mlowering_parameters\u001b[49m\u001b[38;5;241;43m=\u001b[39;49m\u001b[43mlowering_parameters\u001b[49m\u001b[43m,\u001b[49m\n\u001b[0;32m   1757\u001b[0m \u001b[43m      \u001b[49m\u001b[43mpgle_profiler\u001b[49m\u001b[38;5;241;43m=\u001b[39;49m\u001b[43mpgle_profiler\u001b[49m\u001b[43m)\u001b[49m\n",
            "File \u001b[1;32m~\\AppData\\Roaming\\Python\\Python313\\site-packages\\jax\\_src\\profiler.py:334\u001b[0m, in \u001b[0;36mannotate_function.<locals>.wrapper\u001b[1;34m(*args, **kwargs)\u001b[0m\n\u001b[0;32m    331\u001b[0m \u001b[38;5;129m@wraps\u001b[39m(func)\n\u001b[0;32m    332\u001b[0m \u001b[38;5;28;01mdef\u001b[39;00m\u001b[38;5;250m \u001b[39m\u001b[38;5;21mwrapper\u001b[39m(\u001b[38;5;241m*\u001b[39margs, \u001b[38;5;241m*\u001b[39m\u001b[38;5;241m*\u001b[39mkwargs):\n\u001b[0;32m    333\u001b[0m   \u001b[38;5;28;01mwith\u001b[39;00m TraceAnnotation(name, \u001b[38;5;241m*\u001b[39m\u001b[38;5;241m*\u001b[39mdecorator_kwargs):\n\u001b[1;32m--> 334\u001b[0m     \u001b[38;5;28;01mreturn\u001b[39;00m \u001b[43mfunc\u001b[49m\u001b[43m(\u001b[49m\u001b[38;5;241;43m*\u001b[39;49m\u001b[43margs\u001b[49m\u001b[43m,\u001b[49m\u001b[43m \u001b[49m\u001b[38;5;241;43m*\u001b[39;49m\u001b[38;5;241;43m*\u001b[39;49m\u001b[43mkwargs\u001b[49m\u001b[43m)\u001b[49m\n\u001b[0;32m    335\u001b[0m   \u001b[38;5;28;01mreturn\u001b[39;00m wrapper\n",
            "File \u001b[1;32m~\\AppData\\Roaming\\Python\\Python313\\site-packages\\jax\\_src\\interpreters\\pxla.py:2359\u001b[0m, in \u001b[0;36mlower_sharding_computation\u001b[1;34m(closed_jaxpr, api_name, fun_name, in_shardings, out_shardings, in_layouts, out_layouts, donated_invars, keep_unused, context_mesh, compiler_options_kvs, lowering_platforms, lowering_parameters, pgle_profiler)\u001b[0m\n\u001b[0;32m   2353\u001b[0m semantic_in_shardings \u001b[38;5;241m=\u001b[39m SemanticallyEqualShardings(\n\u001b[0;32m   2354\u001b[0m     in_shardings, global_in_avals)\n\u001b[0;32m   2355\u001b[0m semantic_out_shardings \u001b[38;5;241m=\u001b[39m SemanticallyEqualShardings(\n\u001b[0;32m   2356\u001b[0m     out_shardings, global_out_avals)\n\u001b[0;32m   2358\u001b[0m (module, keepalive, host_callbacks, unordered_effects, ordered_effects,\n\u001b[1;32m-> 2359\u001b[0m  nreps, tuple_args, shape_poly_state) \u001b[38;5;241m=\u001b[39m \u001b[43m_cached_lowering_to_hlo\u001b[49m\u001b[43m(\u001b[49m\n\u001b[0;32m   2360\u001b[0m \u001b[43m     \u001b[49m\u001b[43mclosed_jaxpr\u001b[49m\u001b[43m,\u001b[49m\u001b[43m \u001b[49m\u001b[43mapi_name\u001b[49m\u001b[43m,\u001b[49m\u001b[43m \u001b[49m\u001b[43mfun_name\u001b[49m\u001b[43m,\u001b[49m\u001b[43m \u001b[49m\u001b[43mbackend\u001b[49m\u001b[43m,\u001b[49m\u001b[43m \u001b[49m\u001b[43msemantic_in_shardings\u001b[49m\u001b[43m,\u001b[49m\n\u001b[0;32m   2361\u001b[0m \u001b[43m     \u001b[49m\u001b[43msemantic_out_shardings\u001b[49m\u001b[43m,\u001b[49m\u001b[43m \u001b[49m\u001b[43min_layouts\u001b[49m\u001b[43m,\u001b[49m\u001b[43m \u001b[49m\u001b[43mout_layouts\u001b[49m\u001b[43m,\u001b[49m\u001b[43m \u001b[49m\u001b[43mnum_devices\u001b[49m\u001b[43m,\u001b[49m\n\u001b[0;32m   2362\u001b[0m \u001b[43m     \u001b[49m\u001b[38;5;28;43mtuple\u001b[39;49m\u001b[43m(\u001b[49m\u001b[43mda_object\u001b[49m\u001b[43m)\u001b[49m\u001b[43m \u001b[49m\u001b[38;5;28;43;01mif\u001b[39;49;00m\u001b[43m \u001b[49m\u001b[43mprim_requires_devices\u001b[49m\u001b[43m \u001b[49m\u001b[38;5;28;43;01melse\u001b[39;49;00m\u001b[43m \u001b[49m\u001b[38;5;28;43;01mNone\u001b[39;49;00m\u001b[43m,\u001b[49m\u001b[43m  \u001b[49m\u001b[38;5;66;43;03m# type: ignore[arg-type]\u001b[39;49;00m\n\u001b[0;32m   2363\u001b[0m \u001b[43m     \u001b[49m\u001b[43mdonated_invars\u001b[49m\u001b[43m,\u001b[49m\u001b[43m \u001b[49m\u001b[43mname_stack\u001b[49m\u001b[43m,\u001b[49m\u001b[43m \u001b[49m\u001b[43mall_default_mem_kind\u001b[49m\u001b[43m,\u001b[49m\u001b[43m \u001b[49m\u001b[43minout_aliases\u001b[49m\u001b[43m,\u001b[49m\n\u001b[0;32m   2364\u001b[0m \u001b[43m     \u001b[49m\u001b[43mpropagated_out_mem_kinds\u001b[49m\u001b[43m,\u001b[49m\u001b[43m \u001b[49m\u001b[43mplatforms\u001b[49m\u001b[43m,\u001b[49m\n\u001b[0;32m   2365\u001b[0m \u001b[43m     \u001b[49m\u001b[43mlowering_parameters\u001b[49m\u001b[38;5;241;43m=\u001b[39;49m\u001b[43mlowering_parameters\u001b[49m\u001b[43m,\u001b[49m\n\u001b[0;32m   2366\u001b[0m \u001b[43m     \u001b[49m\u001b[43mabstract_mesh\u001b[49m\u001b[38;5;241;43m=\u001b[39;49m\u001b[43mabstract_mesh\u001b[49m\u001b[43m)\u001b[49m\n\u001b[0;32m   2368\u001b[0m \u001b[38;5;66;03m# backend and device_assignment is passed through to MeshExecutable because\u001b[39;00m\n\u001b[0;32m   2369\u001b[0m \u001b[38;5;66;03m# if keep_unused=False and all in_shardings are pruned, then there is no way\u001b[39;00m\n\u001b[0;32m   2370\u001b[0m \u001b[38;5;66;03m# to get the device_assignment and backend. So pass it to MeshExecutable\u001b[39;00m\n\u001b[0;32m   2371\u001b[0m \u001b[38;5;66;03m# because we calculate the device_assignment and backend before in_shardings,\u001b[39;00m\n\u001b[0;32m   2372\u001b[0m \u001b[38;5;66;03m# etc are pruned.\u001b[39;00m\n\u001b[0;32m   2373\u001b[0m \u001b[38;5;28;01mreturn\u001b[39;00m MeshComputation(\n\u001b[0;32m   2374\u001b[0m     \u001b[38;5;28mstr\u001b[39m(name_stack),\n\u001b[0;32m   2375\u001b[0m     module,\n\u001b[1;32m   (...)\u001b[0m\n\u001b[0;32m   2402\u001b[0m     intermediate_shardings\u001b[38;5;241m=\u001b[39munique_intermediate_shardings,\n\u001b[0;32m   2403\u001b[0m     context_mesh\u001b[38;5;241m=\u001b[39mcontext_mesh)\n",
            "File \u001b[1;32m~\\AppData\\Roaming\\Python\\Python313\\site-packages\\jax\\_src\\interpreters\\pxla.py:1959\u001b[0m, in \u001b[0;36m_cached_lowering_to_hlo\u001b[1;34m(closed_jaxpr, api_name, fun_name, backend, semantic_in_shardings, semantic_out_shardings, in_layouts, out_layouts, num_devices, device_assignment, donated_invars, name_stack, all_default_mem_kind, inout_aliases, propagated_out_mem_kinds, platforms, lowering_parameters, abstract_mesh)\u001b[0m\n\u001b[0;32m   1955\u001b[0m ordered_effects \u001b[38;5;241m=\u001b[39m \u001b[38;5;28mlist\u001b[39m(effects\u001b[38;5;241m.\u001b[39mordered_effects\u001b[38;5;241m.\u001b[39mfilter_in(closed_jaxpr\u001b[38;5;241m.\u001b[39meffects))\n\u001b[0;32m   1956\u001b[0m \u001b[38;5;28;01mwith\u001b[39;00m dispatch\u001b[38;5;241m.\u001b[39mlog_elapsed_time(\n\u001b[0;32m   1957\u001b[0m       \u001b[38;5;124m\"\u001b[39m\u001b[38;5;124mFinished jaxpr to MLIR module conversion \u001b[39m\u001b[38;5;132;01m{fun_name}\u001b[39;00m\u001b[38;5;124m in \u001b[39m\u001b[38;5;132;01m{elapsed_time:.9f}\u001b[39;00m\u001b[38;5;124m sec\u001b[39m\u001b[38;5;124m\"\u001b[39m,\n\u001b[0;32m   1958\u001b[0m       fun_name\u001b[38;5;241m=\u001b[39m\u001b[38;5;28mstr\u001b[39m(name_stack), event\u001b[38;5;241m=\u001b[39mdispatch\u001b[38;5;241m.\u001b[39mJAXPR_TO_MLIR_MODULE_EVENT):\n\u001b[1;32m-> 1959\u001b[0m   lowering_result \u001b[38;5;241m=\u001b[39m \u001b[43mmlir\u001b[49m\u001b[38;5;241;43m.\u001b[39;49m\u001b[43mlower_jaxpr_to_module\u001b[49m\u001b[43m(\u001b[49m\n\u001b[0;32m   1960\u001b[0m \u001b[43m      \u001b[49m\u001b[43mmodule_name\u001b[49m\u001b[43m,\u001b[49m\n\u001b[0;32m   1961\u001b[0m \u001b[43m      \u001b[49m\u001b[43mclosed_jaxpr\u001b[49m\u001b[43m,\u001b[49m\n\u001b[0;32m   1962\u001b[0m \u001b[43m      \u001b[49m\u001b[43mordered_effects\u001b[49m\u001b[38;5;241;43m=\u001b[39;49m\u001b[43mordered_effects\u001b[49m\u001b[43m,\u001b[49m\n\u001b[0;32m   1963\u001b[0m \u001b[43m      \u001b[49m\u001b[43mbackend\u001b[49m\u001b[38;5;241;43m=\u001b[39;49m\u001b[43mbackend\u001b[49m\u001b[43m,\u001b[49m\n\u001b[0;32m   1964\u001b[0m \u001b[43m      \u001b[49m\u001b[43mplatforms\u001b[49m\u001b[38;5;241;43m=\u001b[39;49m\u001b[43mplatforms\u001b[49m\u001b[43m,\u001b[49m\n\u001b[0;32m   1965\u001b[0m \u001b[43m      \u001b[49m\u001b[43maxis_context\u001b[49m\u001b[38;5;241;43m=\u001b[39;49m\u001b[43maxis_ctx\u001b[49m\u001b[43m,\u001b[49m\n\u001b[0;32m   1966\u001b[0m \u001b[43m      \u001b[49m\u001b[43mname_stack\u001b[49m\u001b[38;5;241;43m=\u001b[39;49m\u001b[43mname_stack\u001b[49m\u001b[43m,\u001b[49m\n\u001b[0;32m   1967\u001b[0m \u001b[43m      \u001b[49m\u001b[43mdonated_args\u001b[49m\u001b[38;5;241;43m=\u001b[39;49m\u001b[43mdonated_invars\u001b[49m\u001b[43m,\u001b[49m\n\u001b[0;32m   1968\u001b[0m \u001b[43m      \u001b[49m\u001b[43mreplicated_args\u001b[49m\u001b[38;5;241;43m=\u001b[39;49m\u001b[43mreplicated_args\u001b[49m\u001b[43m,\u001b[49m\n\u001b[0;32m   1969\u001b[0m \u001b[43m      \u001b[49m\u001b[43marg_shardings\u001b[49m\u001b[38;5;241;43m=\u001b[39;49m\u001b[43min_mlir_shardings\u001b[49m\u001b[43m,\u001b[49m\n\u001b[0;32m   1970\u001b[0m \u001b[43m      \u001b[49m\u001b[43mresult_shardings\u001b[49m\u001b[38;5;241;43m=\u001b[39;49m\u001b[43mout_mlir_shardings\u001b[49m\u001b[43m,\u001b[49m\n\u001b[0;32m   1971\u001b[0m \u001b[43m      \u001b[49m\u001b[43min_layouts\u001b[49m\u001b[38;5;241;43m=\u001b[39;49m\u001b[43min_layouts\u001b[49m\u001b[43m,\u001b[49m\n\u001b[0;32m   1972\u001b[0m \u001b[43m      \u001b[49m\u001b[43mout_layouts\u001b[49m\u001b[38;5;241;43m=\u001b[39;49m\u001b[43mout_layouts\u001b[49m\u001b[43m,\u001b[49m\n\u001b[0;32m   1973\u001b[0m \u001b[43m      \u001b[49m\u001b[43marg_names\u001b[49m\u001b[38;5;241;43m=\u001b[39;49m\u001b[43mjaxpr\u001b[49m\u001b[38;5;241;43m.\u001b[39;49m\u001b[43m_debug_info\u001b[49m\u001b[38;5;241;43m.\u001b[39;49m\u001b[43msafe_arg_names\u001b[49m\u001b[43m(\u001b[49m\u001b[38;5;28;43mlen\u001b[39;49m\u001b[43m(\u001b[49m\u001b[43mjaxpr\u001b[49m\u001b[38;5;241;43m.\u001b[39;49m\u001b[43minvars\u001b[49m\u001b[43m)\u001b[49m\u001b[43m)\u001b[49m\u001b[43m,\u001b[49m\n\u001b[0;32m   1974\u001b[0m \u001b[43m      \u001b[49m\u001b[43mresult_names\u001b[49m\u001b[38;5;241;43m=\u001b[39;49m\u001b[43mjaxpr\u001b[49m\u001b[38;5;241;43m.\u001b[39;49m\u001b[43m_debug_info\u001b[49m\u001b[38;5;241;43m.\u001b[39;49m\u001b[43msafe_result_paths\u001b[49m\u001b[43m(\u001b[49m\u001b[38;5;28;43mlen\u001b[39;49m\u001b[43m(\u001b[49m\u001b[43mjaxpr\u001b[49m\u001b[38;5;241;43m.\u001b[39;49m\u001b[43moutvars\u001b[49m\u001b[43m)\u001b[49m\u001b[43m)\u001b[49m\u001b[43m,\u001b[49m\n\u001b[0;32m   1975\u001b[0m \u001b[43m      \u001b[49m\u001b[43mnum_replicas\u001b[49m\u001b[38;5;241;43m=\u001b[39;49m\u001b[43mnreps\u001b[49m\u001b[43m,\u001b[49m\n\u001b[0;32m   1976\u001b[0m \u001b[43m      \u001b[49m\u001b[43mnum_partitions\u001b[49m\u001b[38;5;241;43m=\u001b[39;49m\u001b[43mnum_partitions\u001b[49m\u001b[43m,\u001b[49m\n\u001b[0;32m   1977\u001b[0m \u001b[43m      \u001b[49m\u001b[43mall_default_mem_kind\u001b[49m\u001b[38;5;241;43m=\u001b[39;49m\u001b[43mall_default_mem_kind\u001b[49m\u001b[43m,\u001b[49m\n\u001b[0;32m   1978\u001b[0m \u001b[43m      \u001b[49m\u001b[43minput_output_aliases\u001b[49m\u001b[38;5;241;43m=\u001b[39;49m\u001b[43minout_aliases\u001b[49m\u001b[43m,\u001b[49m\n\u001b[0;32m   1979\u001b[0m \u001b[43m      \u001b[49m\u001b[43mpropagated_out_mem_kinds\u001b[49m\u001b[38;5;241;43m=\u001b[39;49m\u001b[43mpropagated_out_mem_kinds\u001b[49m\u001b[43m,\u001b[49m\n\u001b[0;32m   1980\u001b[0m \u001b[43m      \u001b[49m\u001b[43mlowering_parameters\u001b[49m\u001b[38;5;241;43m=\u001b[39;49m\u001b[43mlowering_parameters\u001b[49m\u001b[43m)\u001b[49m\n\u001b[0;32m   1981\u001b[0m tuple_args \u001b[38;5;241m=\u001b[39m dispatch\u001b[38;5;241m.\u001b[39mshould_tuple_args(\u001b[38;5;28mlen\u001b[39m(global_in_avals), backend\u001b[38;5;241m.\u001b[39mplatform)\n\u001b[0;32m   1982\u001b[0m unordered_effects \u001b[38;5;241m=\u001b[39m \u001b[38;5;28mlist\u001b[39m(\n\u001b[0;32m   1983\u001b[0m     effects\u001b[38;5;241m.\u001b[39mordered_effects\u001b[38;5;241m.\u001b[39mfilter_not_in(closed_jaxpr\u001b[38;5;241m.\u001b[39meffects))\n",
            "File \u001b[1;32m~\\AppData\\Roaming\\Python\\Python313\\site-packages\\jax\\_src\\interpreters\\mlir.py:1219\u001b[0m, in \u001b[0;36mlower_jaxpr_to_module\u001b[1;34m(***failed resolving arguments***)\u001b[0m\n\u001b[0;32m   1217\u001b[0m   attrs[\u001b[38;5;124m\"\u001b[39m\u001b[38;5;124mmhlo.num_replicas\u001b[39m\u001b[38;5;124m\"\u001b[39m] \u001b[38;5;241m=\u001b[39m i32_attr(num_replicas)\n\u001b[0;32m   1218\u001b[0m   attrs[\u001b[38;5;124m\"\u001b[39m\u001b[38;5;124mmhlo.num_partitions\u001b[39m\u001b[38;5;124m\"\u001b[39m] \u001b[38;5;241m=\u001b[39m i32_attr(num_partitions)\n\u001b[1;32m-> 1219\u001b[0m   \u001b[43mlower_jaxpr_to_fun\u001b[49m\u001b[43m(\u001b[49m\n\u001b[0;32m   1220\u001b[0m \u001b[43m      \u001b[49m\u001b[43mctx\u001b[49m\u001b[43m,\u001b[49m\u001b[43m \u001b[49m\u001b[38;5;124;43m\"\u001b[39;49m\u001b[38;5;124;43mmain\u001b[39;49m\u001b[38;5;124;43m\"\u001b[39;49m\u001b[43m,\u001b[49m\u001b[43m \u001b[49m\u001b[43mjaxpr\u001b[49m\u001b[43m,\u001b[49m\u001b[43m \u001b[49m\u001b[43mordered_effects\u001b[49m\u001b[43m,\u001b[49m\n\u001b[0;32m   1221\u001b[0m \u001b[43m      \u001b[49m\u001b[43mname_stack\u001b[49m\u001b[38;5;241;43m=\u001b[39;49m\u001b[43mname_stack\u001b[49m\u001b[43m,\u001b[49m\n\u001b[0;32m   1222\u001b[0m \u001b[43m      \u001b[49m\u001b[43mpublic\u001b[49m\u001b[38;5;241;43m=\u001b[39;49m\u001b[38;5;28;43;01mTrue\u001b[39;49;00m\u001b[43m,\u001b[49m\n\u001b[0;32m   1223\u001b[0m \u001b[43m      \u001b[49m\u001b[43mreplicated_args\u001b[49m\u001b[38;5;241;43m=\u001b[39;49m\u001b[43mreplicated_args\u001b[49m\u001b[43m,\u001b[49m\n\u001b[0;32m   1224\u001b[0m \u001b[43m      \u001b[49m\u001b[43marg_shardings\u001b[49m\u001b[38;5;241;43m=\u001b[39;49m\u001b[43marg_shardings\u001b[49m\u001b[43m,\u001b[49m\n\u001b[0;32m   1225\u001b[0m \u001b[43m      \u001b[49m\u001b[43mresult_shardings\u001b[49m\u001b[38;5;241;43m=\u001b[39;49m\u001b[43mresult_shardings\u001b[49m\u001b[43m,\u001b[49m\n\u001b[0;32m   1226\u001b[0m \u001b[43m      \u001b[49m\u001b[43minput_output_aliases\u001b[49m\u001b[38;5;241;43m=\u001b[39;49m\u001b[43minput_output_aliases\u001b[49m\u001b[43m,\u001b[49m\n\u001b[0;32m   1227\u001b[0m \u001b[43m      \u001b[49m\u001b[43mxla_donated_args\u001b[49m\u001b[38;5;241;43m=\u001b[39;49m\u001b[43mxla_donated_args\u001b[49m\u001b[43m,\u001b[49m\n\u001b[0;32m   1228\u001b[0m \u001b[43m      \u001b[49m\u001b[43marg_names\u001b[49m\u001b[38;5;241;43m=\u001b[39;49m\u001b[43marg_names\u001b[49m\u001b[43m,\u001b[49m\n\u001b[0;32m   1229\u001b[0m \u001b[43m      \u001b[49m\u001b[43mresult_names\u001b[49m\u001b[38;5;241;43m=\u001b[39;49m\u001b[43mresult_names\u001b[49m\u001b[43m,\u001b[49m\n\u001b[0;32m   1230\u001b[0m \u001b[43m      \u001b[49m\u001b[43marg_memory_kinds\u001b[49m\u001b[38;5;241;43m=\u001b[39;49m\u001b[43marg_memory_kinds\u001b[49m\u001b[43m,\u001b[49m\n\u001b[0;32m   1231\u001b[0m \u001b[43m      \u001b[49m\u001b[43mresult_memory_kinds\u001b[49m\u001b[38;5;241;43m=\u001b[39;49m\u001b[43mresult_memory_kinds\u001b[49m\u001b[43m,\u001b[49m\n\u001b[0;32m   1232\u001b[0m \u001b[43m      \u001b[49m\u001b[43marg_layouts\u001b[49m\u001b[38;5;241;43m=\u001b[39;49m\u001b[43min_layouts\u001b[49m\u001b[43m,\u001b[49m\n\u001b[0;32m   1233\u001b[0m \u001b[43m      \u001b[49m\u001b[43mresult_layouts\u001b[49m\u001b[38;5;241;43m=\u001b[39;49m\u001b[43mout_layouts\u001b[49m\u001b[43m,\u001b[49m\n\u001b[0;32m   1234\u001b[0m \u001b[43m      \u001b[49m\u001b[43mpropagated_out_mem_kinds\u001b[49m\u001b[38;5;241;43m=\u001b[39;49m\u001b[43mpropagated_out_mem_kinds\u001b[49m\u001b[43m)\u001b[49m\n\u001b[0;32m   1236\u001b[0m \u001b[38;5;28;01mtry\u001b[39;00m:\n\u001b[0;32m   1237\u001b[0m   \u001b[38;5;28;01mif\u001b[39;00m \u001b[38;5;129;01mnot\u001b[39;00m ctx\u001b[38;5;241m.\u001b[39mmodule\u001b[38;5;241m.\u001b[39moperation\u001b[38;5;241m.\u001b[39mverify():\n",
            "File \u001b[1;32m~\\AppData\\Roaming\\Python\\Python313\\site-packages\\jax\\_src\\interpreters\\mlir.py:1709\u001b[0m, in \u001b[0;36mlower_jaxpr_to_fun\u001b[1;34m(ctx, name, jaxpr, effects, name_stack, public, replicated_args, arg_shardings, result_shardings, use_sharding_annotations, input_output_aliases, xla_donated_args, api_name, arg_names, result_names, arg_memory_kinds, result_memory_kinds, arg_layouts, result_layouts, propagated_out_mem_kinds)\u001b[0m\n\u001b[0;32m   1707\u001b[0m   callee_name_stack \u001b[38;5;241m=\u001b[39m name_stack\n\u001b[0;32m   1708\u001b[0m consts \u001b[38;5;241m=\u001b[39m [ir_constant(xla\u001b[38;5;241m.\u001b[39mcanonicalize_dtype(x)) \u001b[38;5;28;01mfor\u001b[39;00m x \u001b[38;5;129;01min\u001b[39;00m jaxpr\u001b[38;5;241m.\u001b[39mconsts]\n\u001b[1;32m-> 1709\u001b[0m out_vals, tokens_out \u001b[38;5;241m=\u001b[39m \u001b[43mjaxpr_subcomp\u001b[49m\u001b[43m(\u001b[49m\n\u001b[0;32m   1710\u001b[0m \u001b[43m    \u001b[49m\u001b[43mctx\u001b[49m\u001b[43m,\u001b[49m\u001b[43m \u001b[49m\u001b[43mjaxpr\u001b[49m\u001b[38;5;241;43m.\u001b[39;49m\u001b[43mjaxpr\u001b[49m\u001b[43m,\u001b[49m\u001b[43m \u001b[49m\u001b[43mcallee_name_stack\u001b[49m\u001b[43m,\u001b[49m\u001b[43m \u001b[49m\u001b[43mtokens_in\u001b[49m\u001b[43m,\u001b[49m\n\u001b[0;32m   1711\u001b[0m \u001b[43m    \u001b[49m\u001b[43mconsts\u001b[49m\u001b[43m,\u001b[49m\u001b[43m \u001b[49m\u001b[38;5;241;43m*\u001b[39;49m\u001b[43margs\u001b[49m\u001b[43m,\u001b[49m\u001b[43m \u001b[49m\u001b[43mdim_var_values\u001b[49m\u001b[38;5;241;43m=\u001b[39;49m\u001b[43mdim_var_values\u001b[49m\u001b[43m)\u001b[49m\n\u001b[0;32m   1712\u001b[0m outs: \u001b[38;5;28mlist\u001b[39m[IrValues] \u001b[38;5;241m=\u001b[39m []\n\u001b[0;32m   1713\u001b[0m \u001b[38;5;28;01mfor\u001b[39;00m eff \u001b[38;5;129;01min\u001b[39;00m effects:\n",
            "File \u001b[1;32m~\\AppData\\Roaming\\Python\\Python313\\site-packages\\jax\\_src\\interpreters\\mlir.py:1986\u001b[0m, in \u001b[0;36mjaxpr_subcomp\u001b[1;34m(ctx, jaxpr, name_stack, tokens, consts, dim_var_values, *args)\u001b[0m\n\u001b[0;32m   1983\u001b[0m   rule_ctx \u001b[38;5;241m=\u001b[39m rule_ctx\u001b[38;5;241m.\u001b[39mreplace(axis_size_env\u001b[38;5;241m=\u001b[39maxis_size_env)\n\u001b[0;32m   1985\u001b[0m \u001b[38;5;28;01massert\u001b[39;00m \u001b[38;5;28mall\u001b[39m(_is_ir_values(v) \u001b[38;5;28;01mfor\u001b[39;00m v \u001b[38;5;129;01min\u001b[39;00m in_nodes), (eqn, in_nodes)\n\u001b[1;32m-> 1986\u001b[0m ans \u001b[38;5;241m=\u001b[39m \u001b[43mlower_per_platform\u001b[49m\u001b[43m(\u001b[49m\u001b[43mrule_ctx\u001b[49m\u001b[43m,\u001b[49m\u001b[43m \u001b[49m\u001b[38;5;28;43mstr\u001b[39;49m\u001b[43m(\u001b[49m\u001b[43meqn\u001b[49m\u001b[38;5;241;43m.\u001b[39;49m\u001b[43mprimitive\u001b[49m\u001b[43m)\u001b[49m\u001b[43m,\u001b[49m\n\u001b[0;32m   1987\u001b[0m \u001b[43m                         \u001b[49m\u001b[43mplatform_rules\u001b[49m\u001b[43m,\u001b[49m\u001b[43m \u001b[49m\u001b[43mdefault_rule\u001b[49m\u001b[43m,\u001b[49m\n\u001b[0;32m   1988\u001b[0m \u001b[43m                         \u001b[49m\u001b[43meqn\u001b[49m\u001b[38;5;241;43m.\u001b[39;49m\u001b[43meffects\u001b[49m\u001b[43m,\u001b[49m\n\u001b[0;32m   1989\u001b[0m \u001b[43m                         \u001b[49m\u001b[38;5;241;43m*\u001b[39;49m\u001b[43min_nodes\u001b[49m\u001b[43m,\u001b[49m\u001b[43m \u001b[49m\u001b[38;5;241;43m*\u001b[39;49m\u001b[38;5;241;43m*\u001b[39;49m\u001b[43meqn\u001b[49m\u001b[38;5;241;43m.\u001b[39;49m\u001b[43mparams\u001b[49m\u001b[43m)\u001b[49m\n\u001b[0;32m   1991\u001b[0m \u001b[38;5;28;01mif\u001b[39;00m effects:\n\u001b[0;32m   1992\u001b[0m   \u001b[38;5;66;03m# If there were ordered effects in the primitive, there should be output\u001b[39;00m\n\u001b[0;32m   1993\u001b[0m   \u001b[38;5;66;03m# tokens we need for subsequent ordered effects.\u001b[39;00m\n\u001b[0;32m   1994\u001b[0m   tokens_out \u001b[38;5;241m=\u001b[39m rule_ctx\u001b[38;5;241m.\u001b[39mtokens_out\n",
            "File \u001b[1;32m~\\AppData\\Roaming\\Python\\Python313\\site-packages\\jax\\_src\\interpreters\\mlir.py:2104\u001b[0m, in \u001b[0;36mlower_per_platform\u001b[1;34m(ctx, description, platform_rules, default_rule, effects, *rule_args, **rule_kwargs)\u001b[0m\n\u001b[0;32m   2102\u001b[0m \u001b[38;5;66;03m# If there is a single rule left just apply the rule, without conditionals.\u001b[39;00m\n\u001b[0;32m   2103\u001b[0m \u001b[38;5;28;01mif\u001b[39;00m \u001b[38;5;28mlen\u001b[39m(kept_rules) \u001b[38;5;241m==\u001b[39m \u001b[38;5;241m1\u001b[39m:\n\u001b[1;32m-> 2104\u001b[0m   output \u001b[38;5;241m=\u001b[39m \u001b[43mkept_rules\u001b[49m\u001b[43m[\u001b[49m\u001b[38;5;241;43m0\u001b[39;49m\u001b[43m]\u001b[49m\u001b[43m(\u001b[49m\u001b[43mctx\u001b[49m\u001b[43m,\u001b[49m\u001b[43m \u001b[49m\u001b[38;5;241;43m*\u001b[39;49m\u001b[43mrule_args\u001b[49m\u001b[43m,\u001b[49m\u001b[43m \u001b[49m\u001b[38;5;241;43m*\u001b[39;49m\u001b[38;5;241;43m*\u001b[39;49m\u001b[43mrule_kwargs\u001b[49m\u001b[43m)\u001b[49m\n\u001b[0;32m   2105\u001b[0m   foreach(\n\u001b[0;32m   2106\u001b[0m       \u001b[38;5;28;01mlambda\u001b[39;00m o: wrap_compute_type_in_place(ctx, o\u001b[38;5;241m.\u001b[39mowner),\n\u001b[0;32m   2107\u001b[0m       \u001b[38;5;28mfilter\u001b[39m(_is_not_block_argument, flatten_ir_values(output)),\n\u001b[0;32m   2108\u001b[0m   )\n\u001b[0;32m   2109\u001b[0m   foreach(\n\u001b[0;32m   2110\u001b[0m       \u001b[38;5;28;01mlambda\u001b[39;00m o: wrap_xla_metadata_in_place(ctx, o\u001b[38;5;241m.\u001b[39mowner),\n\u001b[0;32m   2111\u001b[0m       flatten_ir_values(output),\n\u001b[0;32m   2112\u001b[0m   )\n",
            "File \u001b[1;32m~\\AppData\\Roaming\\Python\\Python313\\site-packages\\jax\\_src\\lax\\control_flow\\loops.py:1848\u001b[0m, in \u001b[0;36m_while_lowering\u001b[1;34m(ctx, cond_jaxpr, body_jaxpr, cond_nconsts, body_nconsts, *args)\u001b[0m\n\u001b[0;32m   1845\u001b[0m body_name_stack \u001b[38;5;241m=\u001b[39m name_stack\u001b[38;5;241m.\u001b[39mextend(\u001b[38;5;124m'\u001b[39m\u001b[38;5;124mbody\u001b[39m\u001b[38;5;124m'\u001b[39m)\n\u001b[0;32m   1846\u001b[0m body_consts \u001b[38;5;241m=\u001b[39m [mlir\u001b[38;5;241m.\u001b[39mir_constant(xla\u001b[38;5;241m.\u001b[39mcanonicalize_dtype(x))\n\u001b[0;32m   1847\u001b[0m                \u001b[38;5;28;01mfor\u001b[39;00m x \u001b[38;5;129;01min\u001b[39;00m body_jaxpr\u001b[38;5;241m.\u001b[39mconsts]\n\u001b[1;32m-> 1848\u001b[0m new_z, tokens_out \u001b[38;5;241m=\u001b[39m \u001b[43mmlir\u001b[49m\u001b[38;5;241;43m.\u001b[39;49m\u001b[43mjaxpr_subcomp\u001b[49m\u001b[43m(\u001b[49m\n\u001b[0;32m   1849\u001b[0m \u001b[43m    \u001b[49m\u001b[43mctx\u001b[49m\u001b[38;5;241;43m.\u001b[39;49m\u001b[43mmodule_context\u001b[49m\u001b[43m,\u001b[49m\u001b[43m \u001b[49m\u001b[43mbody_jaxpr\u001b[49m\u001b[38;5;241;43m.\u001b[39;49m\u001b[43mjaxpr\u001b[49m\u001b[43m,\u001b[49m\u001b[43m \u001b[49m\u001b[43mbody_name_stack\u001b[49m\u001b[43m,\u001b[49m\n\u001b[0;32m   1850\u001b[0m \u001b[43m    \u001b[49m\u001b[43mtokens_in\u001b[49m\u001b[43m,\u001b[49m\u001b[43m \u001b[49m\u001b[43mbody_consts\u001b[49m\u001b[43m,\u001b[49m\u001b[43m \u001b[49m\u001b[38;5;241;43m*\u001b[39;49m\u001b[43m(\u001b[49m\u001b[43my\u001b[49m\u001b[43m \u001b[49m\u001b[38;5;241;43m+\u001b[39;49m\u001b[43m \u001b[49m\u001b[43mz\u001b[49m\u001b[43m)\u001b[49m\u001b[43m,\u001b[49m\u001b[43m \u001b[49m\u001b[43mdim_var_values\u001b[49m\u001b[38;5;241;43m=\u001b[39;49m\u001b[43mctx\u001b[49m\u001b[38;5;241;43m.\u001b[39;49m\u001b[43mdim_var_values\u001b[49m\u001b[43m)\u001b[49m\n\u001b[0;32m   1851\u001b[0m out_tokens \u001b[38;5;241m=\u001b[39m [tokens_out\u001b[38;5;241m.\u001b[39mget(eff) \u001b[38;5;28;01mfor\u001b[39;00m eff \u001b[38;5;129;01min\u001b[39;00m body_effects]\n\u001b[0;32m   1852\u001b[0m \u001b[38;5;28;01mif\u001b[39;00m batched:\n",
            "File \u001b[1;32m~\\AppData\\Roaming\\Python\\Python313\\site-packages\\jax\\_src\\interpreters\\mlir.py:1986\u001b[0m, in \u001b[0;36mjaxpr_subcomp\u001b[1;34m(ctx, jaxpr, name_stack, tokens, consts, dim_var_values, *args)\u001b[0m\n\u001b[0;32m   1983\u001b[0m   rule_ctx \u001b[38;5;241m=\u001b[39m rule_ctx\u001b[38;5;241m.\u001b[39mreplace(axis_size_env\u001b[38;5;241m=\u001b[39maxis_size_env)\n\u001b[0;32m   1985\u001b[0m \u001b[38;5;28;01massert\u001b[39;00m \u001b[38;5;28mall\u001b[39m(_is_ir_values(v) \u001b[38;5;28;01mfor\u001b[39;00m v \u001b[38;5;129;01min\u001b[39;00m in_nodes), (eqn, in_nodes)\n\u001b[1;32m-> 1986\u001b[0m ans \u001b[38;5;241m=\u001b[39m \u001b[43mlower_per_platform\u001b[49m\u001b[43m(\u001b[49m\u001b[43mrule_ctx\u001b[49m\u001b[43m,\u001b[49m\u001b[43m \u001b[49m\u001b[38;5;28;43mstr\u001b[39;49m\u001b[43m(\u001b[49m\u001b[43meqn\u001b[49m\u001b[38;5;241;43m.\u001b[39;49m\u001b[43mprimitive\u001b[49m\u001b[43m)\u001b[49m\u001b[43m,\u001b[49m\n\u001b[0;32m   1987\u001b[0m \u001b[43m                         \u001b[49m\u001b[43mplatform_rules\u001b[49m\u001b[43m,\u001b[49m\u001b[43m \u001b[49m\u001b[43mdefault_rule\u001b[49m\u001b[43m,\u001b[49m\n\u001b[0;32m   1988\u001b[0m \u001b[43m                         \u001b[49m\u001b[43meqn\u001b[49m\u001b[38;5;241;43m.\u001b[39;49m\u001b[43meffects\u001b[49m\u001b[43m,\u001b[49m\n\u001b[0;32m   1989\u001b[0m \u001b[43m                         \u001b[49m\u001b[38;5;241;43m*\u001b[39;49m\u001b[43min_nodes\u001b[49m\u001b[43m,\u001b[49m\u001b[43m \u001b[49m\u001b[38;5;241;43m*\u001b[39;49m\u001b[38;5;241;43m*\u001b[39;49m\u001b[43meqn\u001b[49m\u001b[38;5;241;43m.\u001b[39;49m\u001b[43mparams\u001b[49m\u001b[43m)\u001b[49m\n\u001b[0;32m   1991\u001b[0m \u001b[38;5;28;01mif\u001b[39;00m effects:\n\u001b[0;32m   1992\u001b[0m   \u001b[38;5;66;03m# If there were ordered effects in the primitive, there should be output\u001b[39;00m\n\u001b[0;32m   1993\u001b[0m   \u001b[38;5;66;03m# tokens we need for subsequent ordered effects.\u001b[39;00m\n\u001b[0;32m   1994\u001b[0m   tokens_out \u001b[38;5;241m=\u001b[39m rule_ctx\u001b[38;5;241m.\u001b[39mtokens_out\n",
            "File \u001b[1;32m~\\AppData\\Roaming\\Python\\Python313\\site-packages\\jax\\_src\\interpreters\\mlir.py:2104\u001b[0m, in \u001b[0;36mlower_per_platform\u001b[1;34m(ctx, description, platform_rules, default_rule, effects, *rule_args, **rule_kwargs)\u001b[0m\n\u001b[0;32m   2102\u001b[0m \u001b[38;5;66;03m# If there is a single rule left just apply the rule, without conditionals.\u001b[39;00m\n\u001b[0;32m   2103\u001b[0m \u001b[38;5;28;01mif\u001b[39;00m \u001b[38;5;28mlen\u001b[39m(kept_rules) \u001b[38;5;241m==\u001b[39m \u001b[38;5;241m1\u001b[39m:\n\u001b[1;32m-> 2104\u001b[0m   output \u001b[38;5;241m=\u001b[39m \u001b[43mkept_rules\u001b[49m\u001b[43m[\u001b[49m\u001b[38;5;241;43m0\u001b[39;49m\u001b[43m]\u001b[49m\u001b[43m(\u001b[49m\u001b[43mctx\u001b[49m\u001b[43m,\u001b[49m\u001b[43m \u001b[49m\u001b[38;5;241;43m*\u001b[39;49m\u001b[43mrule_args\u001b[49m\u001b[43m,\u001b[49m\u001b[43m \u001b[49m\u001b[38;5;241;43m*\u001b[39;49m\u001b[38;5;241;43m*\u001b[39;49m\u001b[43mrule_kwargs\u001b[49m\u001b[43m)\u001b[49m\n\u001b[0;32m   2105\u001b[0m   foreach(\n\u001b[0;32m   2106\u001b[0m       \u001b[38;5;28;01mlambda\u001b[39;00m o: wrap_compute_type_in_place(ctx, o\u001b[38;5;241m.\u001b[39mowner),\n\u001b[0;32m   2107\u001b[0m       \u001b[38;5;28mfilter\u001b[39m(_is_not_block_argument, flatten_ir_values(output)),\n\u001b[0;32m   2108\u001b[0m   )\n\u001b[0;32m   2109\u001b[0m   foreach(\n\u001b[0;32m   2110\u001b[0m       \u001b[38;5;28;01mlambda\u001b[39;00m o: wrap_xla_metadata_in_place(ctx, o\u001b[38;5;241m.\u001b[39mowner),\n\u001b[0;32m   2111\u001b[0m       flatten_ir_values(output),\n\u001b[0;32m   2112\u001b[0m   )\n",
            "File \u001b[1;32m~\\AppData\\Roaming\\Python\\Python313\\site-packages\\jax\\_src\\prng.py:597\u001b[0m, in \u001b[0;36mrandom_split_lowering\u001b[1;34m(ctx, keys, shape)\u001b[0m\n\u001b[0;32m    595\u001b[0m split \u001b[38;5;241m=\u001b[39m iterated_vmap_unary(aval\u001b[38;5;241m.\u001b[39mndim, \u001b[38;5;28;01mlambda\u001b[39;00m k: impl\u001b[38;5;241m.\u001b[39msplit(k, shape))\n\u001b[0;32m    596\u001b[0m split_lowering \u001b[38;5;241m=\u001b[39m mlir\u001b[38;5;241m.\u001b[39mlower_fun(split, multiple_results\u001b[38;5;241m=\u001b[39m\u001b[38;5;28;01mFalse\u001b[39;00m)\n\u001b[1;32m--> 597\u001b[0m \u001b[38;5;28;01mreturn\u001b[39;00m \u001b[43mmlir\u001b[49m\u001b[38;5;241;43m.\u001b[39;49m\u001b[43mdelegate_lowering\u001b[49m\u001b[43m(\u001b[49m\n\u001b[0;32m    598\u001b[0m \u001b[43m    \u001b[49m\u001b[43mctx\u001b[49m\u001b[43m,\u001b[49m\u001b[43m \u001b[49m\u001b[43msplit_lowering\u001b[49m\u001b[43m,\u001b[49m\u001b[43m \u001b[49m\u001b[43mkeys\u001b[49m\u001b[43m,\u001b[49m\n\u001b[0;32m    599\u001b[0m \u001b[43m    \u001b[49m\u001b[43mavals_in\u001b[49m\u001b[38;5;241;43m=\u001b[39;49m\u001b[43m[\u001b[49m\u001b[43mcore\u001b[49m\u001b[38;5;241;43m.\u001b[39;49m\u001b[43mphysical_aval\u001b[49m\u001b[43m(\u001b[49m\u001b[43maval\u001b[49m\u001b[43m)\u001b[49m\u001b[43m]\u001b[49m\u001b[43m,\u001b[49m\n\u001b[0;32m    600\u001b[0m \u001b[43m    \u001b[49m\u001b[43mavals_out\u001b[49m\u001b[38;5;241;43m=\u001b[39;49m\u001b[38;5;28;43mmap\u001b[39;49m\u001b[43m(\u001b[49m\u001b[43mcore\u001b[49m\u001b[38;5;241;43m.\u001b[39;49m\u001b[43mphysical_aval\u001b[49m\u001b[43m,\u001b[49m\u001b[43m \u001b[49m\u001b[43mctx\u001b[49m\u001b[38;5;241;43m.\u001b[39;49m\u001b[43mavals_out\u001b[49m\u001b[43m)\u001b[49m\u001b[43m)\u001b[49m\n",
            "File \u001b[1;32m~\\AppData\\Roaming\\Python\\Python313\\site-packages\\jax\\_src\\interpreters\\mlir.py:146\u001b[0m, in \u001b[0;36mdelegate_lowering\u001b[1;34m(ctx, lowering_fun, *args, **ctx_override_kwargs)\u001b[0m\n\u001b[0;32m    144\u001b[0m \u001b[38;5;250m\u001b[39m\u001b[38;5;124;03m\"\"\"Side-effects on `ctx`\"\"\"\u001b[39;00m\n\u001b[0;32m    145\u001b[0m ctx_new \u001b[38;5;241m=\u001b[39m ctx\u001b[38;5;241m.\u001b[39mreplace(\u001b[38;5;241m*\u001b[39m\u001b[38;5;241m*\u001b[39mctx_override_kwargs)\n\u001b[1;32m--> 146\u001b[0m out \u001b[38;5;241m=\u001b[39m \u001b[43mlowering_fun\u001b[49m\u001b[43m(\u001b[49m\u001b[43mctx_new\u001b[49m\u001b[43m,\u001b[49m\u001b[43m \u001b[49m\u001b[38;5;241;43m*\u001b[39;49m\u001b[43margs\u001b[49m\u001b[43m)\u001b[49m\n\u001b[0;32m    147\u001b[0m ctx\u001b[38;5;241m.\u001b[39mset_tokens_out(ctx_new\u001b[38;5;241m.\u001b[39mtokens_out)\n\u001b[0;32m    148\u001b[0m \u001b[38;5;28;01mreturn\u001b[39;00m out\n",
            "File \u001b[1;32m~\\AppData\\Roaming\\Python\\Python313\\site-packages\\jax\\_src\\interpreters\\mlir.py:2220\u001b[0m, in \u001b[0;36mlower_fun.<locals>.f_lowered\u001b[1;34m(ctx, *args, **params)\u001b[0m\n\u001b[0;32m   2218\u001b[0m \u001b[38;5;28;01melse\u001b[39;00m:\n\u001b[0;32m   2219\u001b[0m   sub_context \u001b[38;5;241m=\u001b[39m ctx\u001b[38;5;241m.\u001b[39mmodule_context\n\u001b[1;32m-> 2220\u001b[0m out, tokens \u001b[38;5;241m=\u001b[39m \u001b[43mjaxpr_subcomp\u001b[49m\u001b[43m(\u001b[49m\n\u001b[0;32m   2221\u001b[0m \u001b[43m    \u001b[49m\u001b[43msub_context\u001b[49m\u001b[43m,\u001b[49m\u001b[43m \u001b[49m\u001b[43mjaxpr\u001b[49m\u001b[43m,\u001b[49m\u001b[43m \u001b[49m\u001b[43mctx\u001b[49m\u001b[38;5;241;43m.\u001b[39;49m\u001b[43mname_stack\u001b[49m\u001b[43m,\u001b[49m\u001b[43m \u001b[49m\u001b[43mctx\u001b[49m\u001b[38;5;241;43m.\u001b[39;49m\u001b[43mtokens_in\u001b[49m\u001b[43m,\u001b[49m\n\u001b[0;32m   2222\u001b[0m \u001b[43m    \u001b[49m\u001b[43m_ir_consts\u001b[49m\u001b[43m(\u001b[49m\u001b[43mconsts\u001b[49m\u001b[43m)\u001b[49m\u001b[43m,\u001b[49m\u001b[43m \u001b[49m\u001b[38;5;241;43m*\u001b[39;49m\u001b[43margs\u001b[49m\u001b[43m,\u001b[49m\n\u001b[0;32m   2223\u001b[0m \u001b[43m    \u001b[49m\u001b[43mdim_var_values\u001b[49m\u001b[38;5;241;43m=\u001b[39;49m\u001b[43mctx\u001b[49m\u001b[38;5;241;43m.\u001b[39;49m\u001b[43mdim_var_values\u001b[49m\u001b[43m)\u001b[49m\n\u001b[0;32m   2224\u001b[0m ctx\u001b[38;5;241m.\u001b[39mset_tokens_out(tokens)\n\u001b[0;32m   2225\u001b[0m \u001b[38;5;28;01mreturn\u001b[39;00m out\n",
            "File \u001b[1;32m~\\AppData\\Roaming\\Python\\Python313\\site-packages\\jax\\_src\\interpreters\\mlir.py:1986\u001b[0m, in \u001b[0;36mjaxpr_subcomp\u001b[1;34m(ctx, jaxpr, name_stack, tokens, consts, dim_var_values, *args)\u001b[0m\n\u001b[0;32m   1983\u001b[0m   rule_ctx \u001b[38;5;241m=\u001b[39m rule_ctx\u001b[38;5;241m.\u001b[39mreplace(axis_size_env\u001b[38;5;241m=\u001b[39maxis_size_env)\n\u001b[0;32m   1985\u001b[0m \u001b[38;5;28;01massert\u001b[39;00m \u001b[38;5;28mall\u001b[39m(_is_ir_values(v) \u001b[38;5;28;01mfor\u001b[39;00m v \u001b[38;5;129;01min\u001b[39;00m in_nodes), (eqn, in_nodes)\n\u001b[1;32m-> 1986\u001b[0m ans \u001b[38;5;241m=\u001b[39m \u001b[43mlower_per_platform\u001b[49m\u001b[43m(\u001b[49m\u001b[43mrule_ctx\u001b[49m\u001b[43m,\u001b[49m\u001b[43m \u001b[49m\u001b[38;5;28;43mstr\u001b[39;49m\u001b[43m(\u001b[49m\u001b[43meqn\u001b[49m\u001b[38;5;241;43m.\u001b[39;49m\u001b[43mprimitive\u001b[49m\u001b[43m)\u001b[49m\u001b[43m,\u001b[49m\n\u001b[0;32m   1987\u001b[0m \u001b[43m                         \u001b[49m\u001b[43mplatform_rules\u001b[49m\u001b[43m,\u001b[49m\u001b[43m \u001b[49m\u001b[43mdefault_rule\u001b[49m\u001b[43m,\u001b[49m\n\u001b[0;32m   1988\u001b[0m \u001b[43m                         \u001b[49m\u001b[43meqn\u001b[49m\u001b[38;5;241;43m.\u001b[39;49m\u001b[43meffects\u001b[49m\u001b[43m,\u001b[49m\n\u001b[0;32m   1989\u001b[0m \u001b[43m                         \u001b[49m\u001b[38;5;241;43m*\u001b[39;49m\u001b[43min_nodes\u001b[49m\u001b[43m,\u001b[49m\u001b[43m \u001b[49m\u001b[38;5;241;43m*\u001b[39;49m\u001b[38;5;241;43m*\u001b[39;49m\u001b[43meqn\u001b[49m\u001b[38;5;241;43m.\u001b[39;49m\u001b[43mparams\u001b[49m\u001b[43m)\u001b[49m\n\u001b[0;32m   1991\u001b[0m \u001b[38;5;28;01mif\u001b[39;00m effects:\n\u001b[0;32m   1992\u001b[0m   \u001b[38;5;66;03m# If there were ordered effects in the primitive, there should be output\u001b[39;00m\n\u001b[0;32m   1993\u001b[0m   \u001b[38;5;66;03m# tokens we need for subsequent ordered effects.\u001b[39;00m\n\u001b[0;32m   1994\u001b[0m   tokens_out \u001b[38;5;241m=\u001b[39m rule_ctx\u001b[38;5;241m.\u001b[39mtokens_out\n",
            "File \u001b[1;32m~\\AppData\\Roaming\\Python\\Python313\\site-packages\\jax\\_src\\interpreters\\mlir.py:2104\u001b[0m, in \u001b[0;36mlower_per_platform\u001b[1;34m(ctx, description, platform_rules, default_rule, effects, *rule_args, **rule_kwargs)\u001b[0m\n\u001b[0;32m   2102\u001b[0m \u001b[38;5;66;03m# If there is a single rule left just apply the rule, without conditionals.\u001b[39;00m\n\u001b[0;32m   2103\u001b[0m \u001b[38;5;28;01mif\u001b[39;00m \u001b[38;5;28mlen\u001b[39m(kept_rules) \u001b[38;5;241m==\u001b[39m \u001b[38;5;241m1\u001b[39m:\n\u001b[1;32m-> 2104\u001b[0m   output \u001b[38;5;241m=\u001b[39m \u001b[43mkept_rules\u001b[49m\u001b[43m[\u001b[49m\u001b[38;5;241;43m0\u001b[39;49m\u001b[43m]\u001b[49m\u001b[43m(\u001b[49m\u001b[43mctx\u001b[49m\u001b[43m,\u001b[49m\u001b[43m \u001b[49m\u001b[38;5;241;43m*\u001b[39;49m\u001b[43mrule_args\u001b[49m\u001b[43m,\u001b[49m\u001b[43m \u001b[49m\u001b[38;5;241;43m*\u001b[39;49m\u001b[38;5;241;43m*\u001b[39;49m\u001b[43mrule_kwargs\u001b[49m\u001b[43m)\u001b[49m\n\u001b[0;32m   2105\u001b[0m   foreach(\n\u001b[0;32m   2106\u001b[0m       \u001b[38;5;28;01mlambda\u001b[39;00m o: wrap_compute_type_in_place(ctx, o\u001b[38;5;241m.\u001b[39mowner),\n\u001b[0;32m   2107\u001b[0m       \u001b[38;5;28mfilter\u001b[39m(_is_not_block_argument, flatten_ir_values(output)),\n\u001b[0;32m   2108\u001b[0m   )\n\u001b[0;32m   2109\u001b[0m   foreach(\n\u001b[0;32m   2110\u001b[0m       \u001b[38;5;28;01mlambda\u001b[39;00m o: wrap_xla_metadata_in_place(ctx, o\u001b[38;5;241m.\u001b[39mowner),\n\u001b[0;32m   2111\u001b[0m       flatten_ir_values(output),\n\u001b[0;32m   2112\u001b[0m   )\n",
            "File \u001b[1;32m~\\AppData\\Roaming\\Python\\Python313\\site-packages\\jax\\_src\\pjit.py:1912\u001b[0m, in \u001b[0;36m_pjit_lowering\u001b[1;34m(ctx, name, jaxpr, in_shardings, out_shardings, in_layouts, out_layouts, donated_invars, ctx_mesh, keep_unused, inline, compiler_options_kvs, *args)\u001b[0m\n\u001b[0;32m   1909\u001b[0m output_types \u001b[38;5;241m=\u001b[39m [mlir\u001b[38;5;241m.\u001b[39mtoken_type()] \u001b[38;5;241m*\u001b[39m \u001b[38;5;28mlen\u001b[39m(effects) \u001b[38;5;241m+\u001b[39m output_types\n\u001b[0;32m   1910\u001b[0m flat_output_types \u001b[38;5;241m=\u001b[39m mlir\u001b[38;5;241m.\u001b[39mflatten_ir_types(output_types)\n\u001b[1;32m-> 1912\u001b[0m func \u001b[38;5;241m=\u001b[39m \u001b[43m_pjit_cached_lower_jaxpr_to_fun\u001b[49m\u001b[43m(\u001b[49m\n\u001b[0;32m   1913\u001b[0m \u001b[43m    \u001b[49m\u001b[43mctx\u001b[49m\u001b[43m,\u001b[49m\u001b[43m \u001b[49m\u001b[43mname\u001b[49m\u001b[43m,\u001b[49m\u001b[43m \u001b[49m\u001b[43mjaxpr\u001b[49m\u001b[43m,\u001b[49m\u001b[43m \u001b[49m\u001b[38;5;28;43mtuple\u001b[39;49m\u001b[43m(\u001b[49m\u001b[43meffects\u001b[49m\u001b[43m)\u001b[49m\u001b[43m,\u001b[49m\u001b[43m \u001b[49m\u001b[43min_shardings\u001b[49m\u001b[43m,\u001b[49m\n\u001b[0;32m   1914\u001b[0m \u001b[43m    \u001b[49m\u001b[43mout_shardings\u001b[49m\u001b[43m,\u001b[49m\u001b[43m \u001b[49m\u001b[43min_layouts\u001b[49m\u001b[43m,\u001b[49m\u001b[43m \u001b[49m\u001b[43mout_layouts\u001b[49m\u001b[43m,\u001b[49m\n\u001b[0;32m   1915\u001b[0m \u001b[43m    \u001b[49m\u001b[43mapi_name\u001b[49m\u001b[38;5;241;43m=\u001b[39;49m\u001b[38;5;124;43m'\u001b[39;49m\u001b[38;5;124;43mjit\u001b[39;49m\u001b[38;5;124;43m'\u001b[39;49m\u001b[43m)\u001b[49m\n\u001b[0;32m   1917\u001b[0m tokens_in \u001b[38;5;241m=\u001b[39m [ctx\u001b[38;5;241m.\u001b[39mtokens_in\u001b[38;5;241m.\u001b[39mget(eff) \u001b[38;5;28;01mfor\u001b[39;00m eff \u001b[38;5;129;01min\u001b[39;00m effects]\n\u001b[0;32m   1918\u001b[0m args \u001b[38;5;241m=\u001b[39m (\u001b[38;5;241m*\u001b[39mctx\u001b[38;5;241m.\u001b[39mdim_var_values, \u001b[38;5;241m*\u001b[39mtokens_in, \u001b[38;5;241m*\u001b[39margs)\n",
            "File \u001b[1;32m~\\AppData\\Roaming\\Python\\Python313\\site-packages\\jax\\_src\\pjit.py:1894\u001b[0m, in \u001b[0;36m_pjit_cached_lower_jaxpr_to_fun\u001b[1;34m(ctx, name, jaxpr, effects, in_shardings, out_shardings, in_layouts, out_layouts, api_name)\u001b[0m\n\u001b[0;32m   1890\u001b[0m   result_shardings \u001b[38;5;241m=\u001b[39m [\u001b[38;5;28;01mNone\u001b[39;00m \u001b[38;5;28;01mif\u001b[39;00m \u001b[38;5;28misinstance\u001b[39m(o, UnspecifiedValue) \u001b[38;5;28;01melse\u001b[39;00m o \u001b[38;5;28;01mfor\u001b[39;00m o \u001b[38;5;129;01min\u001b[39;00m out_shardings]\n\u001b[0;32m   1891\u001b[0m   \u001b[38;5;66;03m# TODO(b/228598865): inlined calls cannot have shardings set directly on the\u001b[39;00m\n\u001b[0;32m   1892\u001b[0m   \u001b[38;5;66;03m# inputs or outputs because they are lost during MLIR->HLO conversion.\u001b[39;00m\n\u001b[0;32m   1893\u001b[0m   \u001b[38;5;66;03m# using_sharding_annotation=False means we add an identity operation instead.\u001b[39;00m\n\u001b[1;32m-> 1894\u001b[0m   func \u001b[38;5;241m=\u001b[39m \u001b[43mmlir\u001b[49m\u001b[38;5;241;43m.\u001b[39;49m\u001b[43mlower_jaxpr_to_fun\u001b[49m\u001b[43m(\u001b[49m\n\u001b[0;32m   1895\u001b[0m \u001b[43m      \u001b[49m\u001b[43mmod_ctx\u001b[49m\u001b[43m,\u001b[49m\u001b[43m \u001b[49m\u001b[43mname\u001b[49m\u001b[43m,\u001b[49m\u001b[43m \u001b[49m\u001b[43mjaxpr\u001b[49m\u001b[43m,\u001b[49m\u001b[43m \u001b[49m\u001b[43meffects\u001b[49m\u001b[43m,\u001b[49m\u001b[43m \u001b[49m\u001b[43mctx\u001b[49m\u001b[38;5;241;43m.\u001b[39;49m\u001b[43mname_stack\u001b[49m\u001b[43m,\u001b[49m\n\u001b[0;32m   1896\u001b[0m \u001b[43m      \u001b[49m\u001b[43marg_shardings\u001b[49m\u001b[38;5;241;43m=\u001b[39;49m\u001b[43marg_shardings\u001b[49m\u001b[43m,\u001b[49m\u001b[43m \u001b[49m\u001b[43mresult_shardings\u001b[49m\u001b[38;5;241;43m=\u001b[39;49m\u001b[43mresult_shardings\u001b[49m\u001b[43m,\u001b[49m\n\u001b[0;32m   1897\u001b[0m \u001b[43m      \u001b[49m\u001b[43muse_sharding_annotations\u001b[49m\u001b[38;5;241;43m=\u001b[39;49m\u001b[38;5;28;43;01mFalse\u001b[39;49;00m\u001b[43m,\u001b[49m\u001b[43m \u001b[49m\u001b[43mapi_name\u001b[49m\u001b[38;5;241;43m=\u001b[39;49m\u001b[43mapi_name\u001b[49m\u001b[43m,\u001b[49m\n\u001b[0;32m   1898\u001b[0m \u001b[43m      \u001b[49m\u001b[43marg_layouts\u001b[49m\u001b[38;5;241;43m=\u001b[39;49m\u001b[43min_layouts\u001b[49m\u001b[43m,\u001b[49m\u001b[43m \u001b[49m\u001b[43mresult_layouts\u001b[49m\u001b[38;5;241;43m=\u001b[39;49m\u001b[43mout_layouts\u001b[49m\u001b[43m)\u001b[49m\n\u001b[0;32m   1899\u001b[0m   mod_ctx\u001b[38;5;241m.\u001b[39mcached_primitive_lowerings[key] \u001b[38;5;241m=\u001b[39m func\n\u001b[0;32m   1900\u001b[0m \u001b[38;5;28;01mreturn\u001b[39;00m func\n",
            "File \u001b[1;32m~\\AppData\\Roaming\\Python\\Python313\\site-packages\\jax\\_src\\interpreters\\mlir.py:1709\u001b[0m, in \u001b[0;36mlower_jaxpr_to_fun\u001b[1;34m(ctx, name, jaxpr, effects, name_stack, public, replicated_args, arg_shardings, result_shardings, use_sharding_annotations, input_output_aliases, xla_donated_args, api_name, arg_names, result_names, arg_memory_kinds, result_memory_kinds, arg_layouts, result_layouts, propagated_out_mem_kinds)\u001b[0m\n\u001b[0;32m   1707\u001b[0m   callee_name_stack \u001b[38;5;241m=\u001b[39m name_stack\n\u001b[0;32m   1708\u001b[0m consts \u001b[38;5;241m=\u001b[39m [ir_constant(xla\u001b[38;5;241m.\u001b[39mcanonicalize_dtype(x)) \u001b[38;5;28;01mfor\u001b[39;00m x \u001b[38;5;129;01min\u001b[39;00m jaxpr\u001b[38;5;241m.\u001b[39mconsts]\n\u001b[1;32m-> 1709\u001b[0m out_vals, tokens_out \u001b[38;5;241m=\u001b[39m \u001b[43mjaxpr_subcomp\u001b[49m\u001b[43m(\u001b[49m\n\u001b[0;32m   1710\u001b[0m \u001b[43m    \u001b[49m\u001b[43mctx\u001b[49m\u001b[43m,\u001b[49m\u001b[43m \u001b[49m\u001b[43mjaxpr\u001b[49m\u001b[38;5;241;43m.\u001b[39;49m\u001b[43mjaxpr\u001b[49m\u001b[43m,\u001b[49m\u001b[43m \u001b[49m\u001b[43mcallee_name_stack\u001b[49m\u001b[43m,\u001b[49m\u001b[43m \u001b[49m\u001b[43mtokens_in\u001b[49m\u001b[43m,\u001b[49m\n\u001b[0;32m   1711\u001b[0m \u001b[43m    \u001b[49m\u001b[43mconsts\u001b[49m\u001b[43m,\u001b[49m\u001b[43m \u001b[49m\u001b[38;5;241;43m*\u001b[39;49m\u001b[43margs\u001b[49m\u001b[43m,\u001b[49m\u001b[43m \u001b[49m\u001b[43mdim_var_values\u001b[49m\u001b[38;5;241;43m=\u001b[39;49m\u001b[43mdim_var_values\u001b[49m\u001b[43m)\u001b[49m\n\u001b[0;32m   1712\u001b[0m outs: \u001b[38;5;28mlist\u001b[39m[IrValues] \u001b[38;5;241m=\u001b[39m []\n\u001b[0;32m   1713\u001b[0m \u001b[38;5;28;01mfor\u001b[39;00m eff \u001b[38;5;129;01min\u001b[39;00m effects:\n",
            "File \u001b[1;32m~\\AppData\\Roaming\\Python\\Python313\\site-packages\\jax\\_src\\interpreters\\mlir.py:1986\u001b[0m, in \u001b[0;36mjaxpr_subcomp\u001b[1;34m(ctx, jaxpr, name_stack, tokens, consts, dim_var_values, *args)\u001b[0m\n\u001b[0;32m   1983\u001b[0m   rule_ctx \u001b[38;5;241m=\u001b[39m rule_ctx\u001b[38;5;241m.\u001b[39mreplace(axis_size_env\u001b[38;5;241m=\u001b[39maxis_size_env)\n\u001b[0;32m   1985\u001b[0m \u001b[38;5;28;01massert\u001b[39;00m \u001b[38;5;28mall\u001b[39m(_is_ir_values(v) \u001b[38;5;28;01mfor\u001b[39;00m v \u001b[38;5;129;01min\u001b[39;00m in_nodes), (eqn, in_nodes)\n\u001b[1;32m-> 1986\u001b[0m ans \u001b[38;5;241m=\u001b[39m \u001b[43mlower_per_platform\u001b[49m\u001b[43m(\u001b[49m\u001b[43mrule_ctx\u001b[49m\u001b[43m,\u001b[49m\u001b[43m \u001b[49m\u001b[38;5;28;43mstr\u001b[39;49m\u001b[43m(\u001b[49m\u001b[43meqn\u001b[49m\u001b[38;5;241;43m.\u001b[39;49m\u001b[43mprimitive\u001b[49m\u001b[43m)\u001b[49m\u001b[43m,\u001b[49m\n\u001b[0;32m   1987\u001b[0m \u001b[43m                         \u001b[49m\u001b[43mplatform_rules\u001b[49m\u001b[43m,\u001b[49m\u001b[43m \u001b[49m\u001b[43mdefault_rule\u001b[49m\u001b[43m,\u001b[49m\n\u001b[0;32m   1988\u001b[0m \u001b[43m                         \u001b[49m\u001b[43meqn\u001b[49m\u001b[38;5;241;43m.\u001b[39;49m\u001b[43meffects\u001b[49m\u001b[43m,\u001b[49m\n\u001b[0;32m   1989\u001b[0m \u001b[43m                         \u001b[49m\u001b[38;5;241;43m*\u001b[39;49m\u001b[43min_nodes\u001b[49m\u001b[43m,\u001b[49m\u001b[43m \u001b[49m\u001b[38;5;241;43m*\u001b[39;49m\u001b[38;5;241;43m*\u001b[39;49m\u001b[43meqn\u001b[49m\u001b[38;5;241;43m.\u001b[39;49m\u001b[43mparams\u001b[49m\u001b[43m)\u001b[49m\n\u001b[0;32m   1991\u001b[0m \u001b[38;5;28;01mif\u001b[39;00m effects:\n\u001b[0;32m   1992\u001b[0m   \u001b[38;5;66;03m# If there were ordered effects in the primitive, there should be output\u001b[39;00m\n\u001b[0;32m   1993\u001b[0m   \u001b[38;5;66;03m# tokens we need for subsequent ordered effects.\u001b[39;00m\n\u001b[0;32m   1994\u001b[0m   tokens_out \u001b[38;5;241m=\u001b[39m rule_ctx\u001b[38;5;241m.\u001b[39mtokens_out\n",
            "File \u001b[1;32m~\\AppData\\Roaming\\Python\\Python313\\site-packages\\jax\\_src\\interpreters\\mlir.py:2104\u001b[0m, in \u001b[0;36mlower_per_platform\u001b[1;34m(ctx, description, platform_rules, default_rule, effects, *rule_args, **rule_kwargs)\u001b[0m\n\u001b[0;32m   2102\u001b[0m \u001b[38;5;66;03m# If there is a single rule left just apply the rule, without conditionals.\u001b[39;00m\n\u001b[0;32m   2103\u001b[0m \u001b[38;5;28;01mif\u001b[39;00m \u001b[38;5;28mlen\u001b[39m(kept_rules) \u001b[38;5;241m==\u001b[39m \u001b[38;5;241m1\u001b[39m:\n\u001b[1;32m-> 2104\u001b[0m   output \u001b[38;5;241m=\u001b[39m \u001b[43mkept_rules\u001b[49m\u001b[43m[\u001b[49m\u001b[38;5;241;43m0\u001b[39;49m\u001b[43m]\u001b[49m\u001b[43m(\u001b[49m\u001b[43mctx\u001b[49m\u001b[43m,\u001b[49m\u001b[43m \u001b[49m\u001b[38;5;241;43m*\u001b[39;49m\u001b[43mrule_args\u001b[49m\u001b[43m,\u001b[49m\u001b[43m \u001b[49m\u001b[38;5;241;43m*\u001b[39;49m\u001b[38;5;241;43m*\u001b[39;49m\u001b[43mrule_kwargs\u001b[49m\u001b[43m)\u001b[49m\n\u001b[0;32m   2105\u001b[0m   foreach(\n\u001b[0;32m   2106\u001b[0m       \u001b[38;5;28;01mlambda\u001b[39;00m o: wrap_compute_type_in_place(ctx, o\u001b[38;5;241m.\u001b[39mowner),\n\u001b[0;32m   2107\u001b[0m       \u001b[38;5;28mfilter\u001b[39m(_is_not_block_argument, flatten_ir_values(output)),\n\u001b[0;32m   2108\u001b[0m   )\n\u001b[0;32m   2109\u001b[0m   foreach(\n\u001b[0;32m   2110\u001b[0m       \u001b[38;5;28;01mlambda\u001b[39;00m o: wrap_xla_metadata_in_place(ctx, o\u001b[38;5;241m.\u001b[39mowner),\n\u001b[0;32m   2111\u001b[0m       flatten_ir_values(output),\n\u001b[0;32m   2112\u001b[0m   )\n",
            "File \u001b[1;32m~\\AppData\\Roaming\\Python\\Python313\\site-packages\\jax\\_src\\interpreters\\mlir.py:2220\u001b[0m, in \u001b[0;36mlower_fun.<locals>.f_lowered\u001b[1;34m(ctx, *args, **params)\u001b[0m\n\u001b[0;32m   2218\u001b[0m \u001b[38;5;28;01melse\u001b[39;00m:\n\u001b[0;32m   2219\u001b[0m   sub_context \u001b[38;5;241m=\u001b[39m ctx\u001b[38;5;241m.\u001b[39mmodule_context\n\u001b[1;32m-> 2220\u001b[0m out, tokens \u001b[38;5;241m=\u001b[39m \u001b[43mjaxpr_subcomp\u001b[49m\u001b[43m(\u001b[49m\n\u001b[0;32m   2221\u001b[0m \u001b[43m    \u001b[49m\u001b[43msub_context\u001b[49m\u001b[43m,\u001b[49m\u001b[43m \u001b[49m\u001b[43mjaxpr\u001b[49m\u001b[43m,\u001b[49m\u001b[43m \u001b[49m\u001b[43mctx\u001b[49m\u001b[38;5;241;43m.\u001b[39;49m\u001b[43mname_stack\u001b[49m\u001b[43m,\u001b[49m\u001b[43m \u001b[49m\u001b[43mctx\u001b[49m\u001b[38;5;241;43m.\u001b[39;49m\u001b[43mtokens_in\u001b[49m\u001b[43m,\u001b[49m\n\u001b[0;32m   2222\u001b[0m \u001b[43m    \u001b[49m\u001b[43m_ir_consts\u001b[49m\u001b[43m(\u001b[49m\u001b[43mconsts\u001b[49m\u001b[43m)\u001b[49m\u001b[43m,\u001b[49m\u001b[43m \u001b[49m\u001b[38;5;241;43m*\u001b[39;49m\u001b[43margs\u001b[49m\u001b[43m,\u001b[49m\n\u001b[0;32m   2223\u001b[0m \u001b[43m    \u001b[49m\u001b[43mdim_var_values\u001b[49m\u001b[38;5;241;43m=\u001b[39;49m\u001b[43mctx\u001b[49m\u001b[38;5;241;43m.\u001b[39;49m\u001b[43mdim_var_values\u001b[49m\u001b[43m)\u001b[49m\n\u001b[0;32m   2224\u001b[0m ctx\u001b[38;5;241m.\u001b[39mset_tokens_out(tokens)\n\u001b[0;32m   2225\u001b[0m \u001b[38;5;28;01mreturn\u001b[39;00m out\n",
            "File \u001b[1;32m~\\AppData\\Roaming\\Python\\Python313\\site-packages\\jax\\_src\\interpreters\\mlir.py:1986\u001b[0m, in \u001b[0;36mjaxpr_subcomp\u001b[1;34m(ctx, jaxpr, name_stack, tokens, consts, dim_var_values, *args)\u001b[0m\n\u001b[0;32m   1983\u001b[0m   rule_ctx \u001b[38;5;241m=\u001b[39m rule_ctx\u001b[38;5;241m.\u001b[39mreplace(axis_size_env\u001b[38;5;241m=\u001b[39maxis_size_env)\n\u001b[0;32m   1985\u001b[0m \u001b[38;5;28;01massert\u001b[39;00m \u001b[38;5;28mall\u001b[39m(_is_ir_values(v) \u001b[38;5;28;01mfor\u001b[39;00m v \u001b[38;5;129;01min\u001b[39;00m in_nodes), (eqn, in_nodes)\n\u001b[1;32m-> 1986\u001b[0m ans \u001b[38;5;241m=\u001b[39m \u001b[43mlower_per_platform\u001b[49m\u001b[43m(\u001b[49m\u001b[43mrule_ctx\u001b[49m\u001b[43m,\u001b[49m\u001b[43m \u001b[49m\u001b[38;5;28;43mstr\u001b[39;49m\u001b[43m(\u001b[49m\u001b[43meqn\u001b[49m\u001b[38;5;241;43m.\u001b[39;49m\u001b[43mprimitive\u001b[49m\u001b[43m)\u001b[49m\u001b[43m,\u001b[49m\n\u001b[0;32m   1987\u001b[0m \u001b[43m                         \u001b[49m\u001b[43mplatform_rules\u001b[49m\u001b[43m,\u001b[49m\u001b[43m \u001b[49m\u001b[43mdefault_rule\u001b[49m\u001b[43m,\u001b[49m\n\u001b[0;32m   1988\u001b[0m \u001b[43m                         \u001b[49m\u001b[43meqn\u001b[49m\u001b[38;5;241;43m.\u001b[39;49m\u001b[43meffects\u001b[49m\u001b[43m,\u001b[49m\n\u001b[0;32m   1989\u001b[0m \u001b[43m                         \u001b[49m\u001b[38;5;241;43m*\u001b[39;49m\u001b[43min_nodes\u001b[49m\u001b[43m,\u001b[49m\u001b[43m \u001b[49m\u001b[38;5;241;43m*\u001b[39;49m\u001b[38;5;241;43m*\u001b[39;49m\u001b[43meqn\u001b[49m\u001b[38;5;241;43m.\u001b[39;49m\u001b[43mparams\u001b[49m\u001b[43m)\u001b[49m\n\u001b[0;32m   1991\u001b[0m \u001b[38;5;28;01mif\u001b[39;00m effects:\n\u001b[0;32m   1992\u001b[0m   \u001b[38;5;66;03m# If there were ordered effects in the primitive, there should be output\u001b[39;00m\n\u001b[0;32m   1993\u001b[0m   \u001b[38;5;66;03m# tokens we need for subsequent ordered effects.\u001b[39;00m\n\u001b[0;32m   1994\u001b[0m   tokens_out \u001b[38;5;241m=\u001b[39m rule_ctx\u001b[38;5;241m.\u001b[39mtokens_out\n",
            "File \u001b[1;32m~\\AppData\\Roaming\\Python\\Python313\\site-packages\\jax\\_src\\interpreters\\mlir.py:2104\u001b[0m, in \u001b[0;36mlower_per_platform\u001b[1;34m(ctx, description, platform_rules, default_rule, effects, *rule_args, **rule_kwargs)\u001b[0m\n\u001b[0;32m   2102\u001b[0m \u001b[38;5;66;03m# If there is a single rule left just apply the rule, without conditionals.\u001b[39;00m\n\u001b[0;32m   2103\u001b[0m \u001b[38;5;28;01mif\u001b[39;00m \u001b[38;5;28mlen\u001b[39m(kept_rules) \u001b[38;5;241m==\u001b[39m \u001b[38;5;241m1\u001b[39m:\n\u001b[1;32m-> 2104\u001b[0m   output \u001b[38;5;241m=\u001b[39m \u001b[43mkept_rules\u001b[49m\u001b[43m[\u001b[49m\u001b[38;5;241;43m0\u001b[39;49m\u001b[43m]\u001b[49m\u001b[43m(\u001b[49m\u001b[43mctx\u001b[49m\u001b[43m,\u001b[49m\u001b[43m \u001b[49m\u001b[38;5;241;43m*\u001b[39;49m\u001b[43mrule_args\u001b[49m\u001b[43m,\u001b[49m\u001b[43m \u001b[49m\u001b[38;5;241;43m*\u001b[39;49m\u001b[38;5;241;43m*\u001b[39;49m\u001b[43mrule_kwargs\u001b[49m\u001b[43m)\u001b[49m\n\u001b[0;32m   2105\u001b[0m   foreach(\n\u001b[0;32m   2106\u001b[0m       \u001b[38;5;28;01mlambda\u001b[39;00m o: wrap_compute_type_in_place(ctx, o\u001b[38;5;241m.\u001b[39mowner),\n\u001b[0;32m   2107\u001b[0m       \u001b[38;5;28mfilter\u001b[39m(_is_not_block_argument, flatten_ir_values(output)),\n\u001b[0;32m   2108\u001b[0m   )\n\u001b[0;32m   2109\u001b[0m   foreach(\n\u001b[0;32m   2110\u001b[0m       \u001b[38;5;28;01mlambda\u001b[39;00m o: wrap_xla_metadata_in_place(ctx, o\u001b[38;5;241m.\u001b[39mowner),\n\u001b[0;32m   2111\u001b[0m       flatten_ir_values(output),\n\u001b[0;32m   2112\u001b[0m   )\n",
            "File \u001b[1;32m~\\AppData\\Roaming\\Python\\Python313\\site-packages\\jax\\_src\\interpreters\\mlir.py:2213\u001b[0m, in \u001b[0;36mlower_fun.<locals>.f_lowered\u001b[1;34m(ctx, *args, **params)\u001b[0m\n\u001b[0;32m   2211\u001b[0m   jaxpr, _, consts \u001b[38;5;241m=\u001b[39m pe\u001b[38;5;241m.\u001b[39mtrace_to_jaxpr_dynamic2(wrapped_fun)\n\u001b[0;32m   2212\u001b[0m \u001b[38;5;28;01melse\u001b[39;00m:\n\u001b[1;32m-> 2213\u001b[0m   jaxpr, _, consts, () \u001b[38;5;241m=\u001b[39m \u001b[43mpe\u001b[49m\u001b[38;5;241;43m.\u001b[39;49m\u001b[43mtrace_to_jaxpr_dynamic\u001b[49m\u001b[43m(\u001b[49m\u001b[43mwrapped_fun\u001b[49m\u001b[43m,\u001b[49m\u001b[43m \u001b[49m\u001b[43mctx\u001b[49m\u001b[38;5;241;43m.\u001b[39;49m\u001b[43mavals_in\u001b[49m\u001b[43m)\u001b[49m\n\u001b[0;32m   2214\u001b[0m   \u001b[38;5;66;03m# TODO(frostig,mattjj): check ctx.avals_out against jaxpr avals out?\u001b[39;00m\n\u001b[0;32m   2216\u001b[0m \u001b[38;5;28;01mif\u001b[39;00m ctx\u001b[38;5;241m.\u001b[39mplatforms \u001b[38;5;129;01mis\u001b[39;00m \u001b[38;5;129;01mnot\u001b[39;00m \u001b[38;5;28;01mNone\u001b[39;00m:\n",
            "File \u001b[1;32m~\\AppData\\Roaming\\Python\\Python313\\site-packages\\jax\\_src\\profiler.py:334\u001b[0m, in \u001b[0;36mannotate_function.<locals>.wrapper\u001b[1;34m(*args, **kwargs)\u001b[0m\n\u001b[0;32m    331\u001b[0m \u001b[38;5;129m@wraps\u001b[39m(func)\n\u001b[0;32m    332\u001b[0m \u001b[38;5;28;01mdef\u001b[39;00m\u001b[38;5;250m \u001b[39m\u001b[38;5;21mwrapper\u001b[39m(\u001b[38;5;241m*\u001b[39margs, \u001b[38;5;241m*\u001b[39m\u001b[38;5;241m*\u001b[39mkwargs):\n\u001b[0;32m    333\u001b[0m   \u001b[38;5;28;01mwith\u001b[39;00m TraceAnnotation(name, \u001b[38;5;241m*\u001b[39m\u001b[38;5;241m*\u001b[39mdecorator_kwargs):\n\u001b[1;32m--> 334\u001b[0m     \u001b[38;5;28;01mreturn\u001b[39;00m \u001b[43mfunc\u001b[49m\u001b[43m(\u001b[49m\u001b[38;5;241;43m*\u001b[39;49m\u001b[43margs\u001b[49m\u001b[43m,\u001b[49m\u001b[43m \u001b[49m\u001b[38;5;241;43m*\u001b[39;49m\u001b[38;5;241;43m*\u001b[39;49m\u001b[43mkwargs\u001b[49m\u001b[43m)\u001b[49m\n\u001b[0;32m    335\u001b[0m   \u001b[38;5;28;01mreturn\u001b[39;00m wrapper\n",
            "File \u001b[1;32m~\\AppData\\Roaming\\Python\\Python313\\site-packages\\jax\\_src\\interpreters\\partial_eval.py:2181\u001b[0m, in \u001b[0;36mtrace_to_jaxpr_dynamic\u001b[1;34m(fun, in_avals, keep_inputs)\u001b[0m\n\u001b[0;32m   2179\u001b[0m in_tracers \u001b[38;5;241m=\u001b[39m [t \u001b[38;5;28;01mfor\u001b[39;00m t, keep \u001b[38;5;129;01min\u001b[39;00m \u001b[38;5;28mzip\u001b[39m(in_tracers, keep_inputs) \u001b[38;5;28;01mif\u001b[39;00m keep]\n\u001b[0;32m   2180\u001b[0m \u001b[38;5;28;01mwith\u001b[39;00m core\u001b[38;5;241m.\u001b[39mset_current_trace(trace):\n\u001b[1;32m-> 2181\u001b[0m   ans \u001b[38;5;241m=\u001b[39m \u001b[43mfun\u001b[49m\u001b[38;5;241;43m.\u001b[39;49m\u001b[43mcall_wrapped\u001b[49m\u001b[43m(\u001b[49m\u001b[38;5;241;43m*\u001b[39;49m\u001b[43min_tracers\u001b[49m\u001b[43m)\u001b[49m\n\u001b[0;32m   2183\u001b[0m out_tracers \u001b[38;5;241m=\u001b[39m \u001b[38;5;28mmap\u001b[39m(trace\u001b[38;5;241m.\u001b[39mto_jaxpr_tracer, ans)\n\u001b[0;32m   2184\u001b[0m _check_no_returned_refs(fun\u001b[38;5;241m.\u001b[39mdebug_info, out_tracers)\n",
            "File \u001b[1;32m~\\AppData\\Roaming\\Python\\Python313\\site-packages\\jax\\_src\\linear_util.py:210\u001b[0m, in \u001b[0;36mWrappedFun.call_wrapped\u001b[1;34m(self, *args, **kwargs)\u001b[0m\n\u001b[0;32m    208\u001b[0m \u001b[38;5;28;01mdef\u001b[39;00m\u001b[38;5;250m \u001b[39m\u001b[38;5;21mcall_wrapped\u001b[39m(\u001b[38;5;28mself\u001b[39m, \u001b[38;5;241m*\u001b[39margs, \u001b[38;5;241m*\u001b[39m\u001b[38;5;241m*\u001b[39mkwargs):\n\u001b[0;32m    209\u001b[0m \u001b[38;5;250m  \u001b[39m\u001b[38;5;124;03m\"\"\"Calls the transformed function\"\"\"\u001b[39;00m\n\u001b[1;32m--> 210\u001b[0m   \u001b[38;5;28;01mreturn\u001b[39;00m \u001b[38;5;28;43mself\u001b[39;49m\u001b[38;5;241;43m.\u001b[39;49m\u001b[43mf_transformed\u001b[49m\u001b[43m(\u001b[49m\u001b[38;5;241;43m*\u001b[39;49m\u001b[43margs\u001b[49m\u001b[43m,\u001b[49m\u001b[43m \u001b[49m\u001b[38;5;241;43m*\u001b[39;49m\u001b[38;5;241;43m*\u001b[39;49m\u001b[43mkwargs\u001b[49m\u001b[43m)\u001b[49m\n",
            "File \u001b[1;32m~\\AppData\\Roaming\\Python\\Python313\\site-packages\\jax\\_src\\linear_util.py:388\u001b[0m, in \u001b[0;36m_get_result_paths_thunk\u001b[1;34m(_fun, _store, *args, **kwargs)\u001b[0m\n\u001b[0;32m    386\u001b[0m \u001b[38;5;129m@transformation_with_aux2\u001b[39m\n\u001b[0;32m    387\u001b[0m \u001b[38;5;28;01mdef\u001b[39;00m\u001b[38;5;250m \u001b[39m\u001b[38;5;21m_get_result_paths_thunk\u001b[39m(_fun: Callable, _store: Store, \u001b[38;5;241m*\u001b[39margs, \u001b[38;5;241m*\u001b[39m\u001b[38;5;241m*\u001b[39mkwargs):\n\u001b[1;32m--> 388\u001b[0m   ans \u001b[38;5;241m=\u001b[39m \u001b[43m_fun\u001b[49m\u001b[43m(\u001b[49m\u001b[38;5;241;43m*\u001b[39;49m\u001b[43margs\u001b[49m\u001b[43m,\u001b[49m\u001b[43m \u001b[49m\u001b[38;5;241;43m*\u001b[39;49m\u001b[38;5;241;43m*\u001b[39;49m\u001b[43mkwargs\u001b[49m\u001b[43m)\u001b[49m\n\u001b[0;32m    389\u001b[0m   result_paths \u001b[38;5;241m=\u001b[39m \u001b[38;5;28mtuple\u001b[39m(\u001b[38;5;124mf\u001b[39m\u001b[38;5;124m\"\u001b[39m\u001b[38;5;124mresult\u001b[39m\u001b[38;5;132;01m{\u001b[39;00m_clean_keystr_arg_names(path)\u001b[38;5;132;01m}\u001b[39;00m\u001b[38;5;124m\"\u001b[39m \u001b[38;5;28;01mfor\u001b[39;00m path, _ \u001b[38;5;129;01min\u001b[39;00m generate_key_paths(ans))\n\u001b[0;32m    390\u001b[0m   \u001b[38;5;28;01mif\u001b[39;00m _store:\n\u001b[0;32m    391\u001b[0m     \u001b[38;5;66;03m# In some instances a lu.WrappedFun is called multiple times, e.g.,\u001b[39;00m\n\u001b[0;32m    392\u001b[0m     \u001b[38;5;66;03m# the bwd function in a custom_vjp\u001b[39;00m\n",
            "File \u001b[1;32m~\\AppData\\Roaming\\Python\\Python313\\site-packages\\jax\\_src\\lax\\control_flow\\loops.py:498\u001b[0m, in \u001b[0;36m_scan_impl\u001b[1;34m(***failed resolving arguments***)\u001b[0m\n\u001b[0;32m    496\u001b[0m \u001b[38;5;28;01mif\u001b[39;00m num_trips:\n\u001b[0;32m    497\u001b[0m   i \u001b[38;5;241m=\u001b[39m lax\u001b[38;5;241m.\u001b[39m_const(num_trips, \u001b[38;5;241m0\u001b[39m)\n\u001b[1;32m--> 498\u001b[0m   _, carry, yss \u001b[38;5;241m=\u001b[39m \u001b[43mwhile_loop\u001b[49m\u001b[43m(\u001b[49m\u001b[43mcond_fun\u001b[49m\u001b[43m,\u001b[49m\u001b[43m \u001b[49m\u001b[43mbody_fun\u001b[49m\u001b[43m,\u001b[49m\u001b[43m \u001b[49m\u001b[43m(\u001b[49m\u001b[43mi\u001b[49m\u001b[43m,\u001b[49m\u001b[43m \u001b[49m\u001b[43mcarry\u001b[49m\u001b[43m,\u001b[49m\u001b[43m \u001b[49m\u001b[43myss\u001b[49m\u001b[43m)\u001b[49m\u001b[43m)\u001b[49m\n\u001b[0;32m    499\u001b[0m \u001b[38;5;28;01mif\u001b[39;00m unroll \u001b[38;5;241m!=\u001b[39m \u001b[38;5;241m1\u001b[39m \u001b[38;5;129;01mand\u001b[39;00m num_trips \u001b[38;5;241m!=\u001b[39m \u001b[38;5;241m0\u001b[39m:\n\u001b[0;32m    500\u001b[0m   ys \u001b[38;5;241m=\u001b[39m [lax\u001b[38;5;241m.\u001b[39mreshape(ys, (num_trips \u001b[38;5;241m*\u001b[39m unroll, \u001b[38;5;241m*\u001b[39mys\u001b[38;5;241m.\u001b[39mshape[\u001b[38;5;241m2\u001b[39m:])) \u001b[38;5;28;01mfor\u001b[39;00m ys \u001b[38;5;129;01min\u001b[39;00m yss]\n",
            "    \u001b[1;31m[... skipping hidden 1 frame]\u001b[0m\n",
            "File \u001b[1;32m~\\AppData\\Roaming\\Python\\Python313\\site-packages\\jax\\_src\\lax\\control_flow\\loops.py:1400\u001b[0m, in \u001b[0;36mwhile_loop\u001b[1;34m(cond_fun, body_fun, init_val)\u001b[0m\n\u001b[0;32m   1393\u001b[0m   \u001b[38;5;28;01mreturn\u001b[39;00m init_vals, init_avals, body_jaxpr, in_tree, cond_jaxpr, cond_consts, body_consts, body_tree\n\u001b[0;32m   1395\u001b[0m \u001b[38;5;66;03m# The body input and output avals must match exactly. However, we want to account for\u001b[39;00m\n\u001b[0;32m   1396\u001b[0m \u001b[38;5;66;03m# the case when init contains weakly-typed values (e.g. Python scalars), with avals that\u001b[39;00m\n\u001b[0;32m   1397\u001b[0m \u001b[38;5;66;03m# may not match the output despite being compatible by virtue of their weak type.\u001b[39;00m\n\u001b[0;32m   1398\u001b[0m \u001b[38;5;66;03m# To do this, we compute the jaxpr in two passes: first with the raw inputs, and if\u001b[39;00m\n\u001b[0;32m   1399\u001b[0m \u001b[38;5;66;03m# necessary, a second time with modified init values.\u001b[39;00m\n\u001b[1;32m-> 1400\u001b[0m init_vals, init_avals, body_jaxpr, in_tree, \u001b[38;5;241m*\u001b[39mrest \u001b[38;5;241m=\u001b[39m \u001b[43m_create_jaxpr\u001b[49m\u001b[43m(\u001b[49m\u001b[43minit_val\u001b[49m\u001b[43m)\u001b[49m\n\u001b[0;32m   1401\u001b[0m new_init_vals, changed \u001b[38;5;241m=\u001b[39m _promote_weak_typed_inputs(init_vals, init_avals, body_jaxpr\u001b[38;5;241m.\u001b[39mout_avals)\n\u001b[0;32m   1402\u001b[0m new_init_val, \u001b[38;5;241m=\u001b[39m tree_unflatten(in_tree, new_init_vals)\n",
            "File \u001b[1;32m~\\AppData\\Roaming\\Python\\Python313\\site-packages\\jax\\_src\\lax\\control_flow\\loops.py:1380\u001b[0m, in \u001b[0;36mwhile_loop.<locals>._create_jaxpr\u001b[1;34m(init_val)\u001b[0m\n\u001b[0;32m   1378\u001b[0m init_avals \u001b[38;5;241m=\u001b[39m \u001b[38;5;28mtuple\u001b[39m(_map(core\u001b[38;5;241m.\u001b[39mget_aval, init_vals))\n\u001b[0;32m   1379\u001b[0m cond_dbg \u001b[38;5;241m=\u001b[39m api_util\u001b[38;5;241m.\u001b[39mdebug_info(\u001b[38;5;124m\"\u001b[39m\u001b[38;5;124mwhile_cond\u001b[39m\u001b[38;5;124m\"\u001b[39m, cond_fun, (init_val,), {})\n\u001b[1;32m-> 1380\u001b[0m cond_jaxpr, cond_consts, cond_tree \u001b[38;5;241m=\u001b[39m \u001b[43m_initial_style_jaxpr\u001b[49m\u001b[43m(\u001b[49m\n\u001b[0;32m   1381\u001b[0m \u001b[43m    \u001b[49m\u001b[43mcond_fun\u001b[49m\u001b[43m,\u001b[49m\u001b[43m \u001b[49m\u001b[43min_tree\u001b[49m\u001b[43m,\u001b[49m\u001b[43m \u001b[49m\u001b[43minit_avals\u001b[49m\u001b[43m,\u001b[49m\u001b[43m \u001b[49m\u001b[43mcond_dbg\u001b[49m\u001b[43m)\u001b[49m\n\u001b[0;32m   1382\u001b[0m body_dbg \u001b[38;5;241m=\u001b[39m api_util\u001b[38;5;241m.\u001b[39mdebug_info(\u001b[38;5;124m\"\u001b[39m\u001b[38;5;124mwhile_body\u001b[39m\u001b[38;5;124m\"\u001b[39m, body_fun, (init_val,), {})\n\u001b[0;32m   1383\u001b[0m body_jaxpr, body_consts, body_tree \u001b[38;5;241m=\u001b[39m _initial_style_jaxpr(\n\u001b[0;32m   1384\u001b[0m     body_fun, in_tree, init_avals, body_dbg)\n",
            "File \u001b[1;32m~\\AppData\\Roaming\\Python\\Python313\\site-packages\\jax\\_src\\lax\\control_flow\\common.py:70\u001b[0m, in \u001b[0;36m_initial_style_jaxpr\u001b[1;34m(fun, in_tree, in_avals, debug_info)\u001b[0m\n\u001b[0;32m     63\u001b[0m \u001b[38;5;129m@weakref_lru_cache\u001b[39m\n\u001b[0;32m     64\u001b[0m \u001b[38;5;28;01mdef\u001b[39;00m\u001b[38;5;250m \u001b[39m\u001b[38;5;21m_initial_style_jaxpr\u001b[39m(fun: Callable,\n\u001b[0;32m     65\u001b[0m                          in_tree: PyTreeDef,\n\u001b[0;32m     66\u001b[0m                          in_avals: Sequence[core\u001b[38;5;241m.\u001b[39mAbstractValue],\n\u001b[0;32m     67\u001b[0m                          debug_info: core\u001b[38;5;241m.\u001b[39mDebugInfo):\n\u001b[0;32m     68\u001b[0m   jaxpr, consts, out_tree, () \u001b[38;5;241m=\u001b[39m _initial_style_open_jaxpr(\n\u001b[0;32m     69\u001b[0m       fun, in_tree, in_avals, debug_info)\n\u001b[1;32m---> 70\u001b[0m   closed_jaxpr \u001b[38;5;241m=\u001b[39m pe\u001b[38;5;241m.\u001b[39mclose_jaxpr(\u001b[43mpe\u001b[49m\u001b[38;5;241;43m.\u001b[39;49m\u001b[43mconvert_constvars_jaxpr\u001b[49m\u001b[43m(\u001b[49m\u001b[43mjaxpr\u001b[49m\u001b[43m)\u001b[49m)\n\u001b[0;32m     71\u001b[0m   \u001b[38;5;28;01mreturn\u001b[39;00m closed_jaxpr, consts, out_tree\n",
            "File \u001b[1;32m~\\AppData\\Roaming\\Python\\Python313\\site-packages\\jax\\_src\\interpreters\\partial_eval.py:847\u001b[0m, in \u001b[0;36mconvert_constvars_jaxpr\u001b[1;34m(jaxpr)\u001b[0m\n\u001b[0;32m    844\u001b[0m   constvars, envvars \u001b[38;5;241m=\u001b[39m partition_list(which, jaxpr\u001b[38;5;241m.\u001b[39mconstvars)\n\u001b[0;32m    845\u001b[0m   \u001b[38;5;28;01mreturn\u001b[39;00m jaxpr\u001b[38;5;241m.\u001b[39mreplace(constvars\u001b[38;5;241m=\u001b[39mconstvars, invars\u001b[38;5;241m=\u001b[39m[\u001b[38;5;241m*\u001b[39menvvars, \u001b[38;5;241m*\u001b[39mjaxpr\u001b[38;5;241m.\u001b[39minvars])\n\u001b[1;32m--> 847\u001b[0m \u001b[38;5;129m@weakref_lru_cache\u001b[39m\n\u001b[0;32m    848\u001b[0m \u001b[38;5;28;01mdef\u001b[39;00m\u001b[38;5;250m \u001b[39m\u001b[38;5;21mconvert_constvars_jaxpr\u001b[39m(jaxpr: Jaxpr) \u001b[38;5;241m-\u001b[39m\u001b[38;5;241m>\u001b[39m Jaxpr:\n\u001b[0;32m    849\u001b[0m \u001b[38;5;250m  \u001b[39m\u001b[38;5;124;03m\"\"\"Moves the constvars to the start of invars.\"\"\"\u001b[39;00m\n\u001b[0;32m    850\u001b[0m   config\u001b[38;5;241m.\u001b[39menable_checks\u001b[38;5;241m.\u001b[39mvalue \u001b[38;5;129;01mand\u001b[39;00m core\u001b[38;5;241m.\u001b[39mcheck_jaxpr(jaxpr)\n",
            "\u001b[1;31mKeyboardInterrupt\u001b[0m: "
          ]
        }
      ],
      "source": [
        "# Define hyperparameter grid\n",
        "hidden_dims = [20, 30, 40, 50]\n",
        "z_dims = [20, 30, 40, 50]\n",
        "\n",
        "# Store results\n",
        "test_loss_results_final = {}\n",
        "test_loss_results_mean = {}\n",
        "\n",
        "num_train = args[\"num_train\"]\n",
        "num_test = args[\"num_test\"]\n",
        "num_epochs = args[\"num_epochs\"]\n",
        "\n",
        "for hidden_dim, z_dim in itertools.product(hidden_dims, z_dims):\n",
        "    print(f\"Training with hidden_dim={hidden_dim}, z_dim={z_dim}\")\n",
        "\n",
        "    args[\"hidden_dim\"] = hidden_dim\n",
        "    args[\"z_dim\"] = z_dim\n",
        "\n",
        "    # Initialize optimizer and SVI\n",
        "    adam = numpyro.optim.Adam(step_size=args[\"learning_rate\"])\n",
        "    svi = SVI(\n",
        "        vae_model,\n",
        "        vae_guide,\n",
        "        adam,\n",
        "        RenyiELBO(),\n",
        "        hidden_dim=hidden_dim,\n",
        "        z_dim=z_dim\n",
        "    )\n",
        "\n",
        "    # Split RNG keys\n",
        "    rng_key, rng_key_samp, rng_key_init = random.split(args[\"rng_key\"], 3)\n",
        "    init_batch = agg_gp_predictive(rng_key_samp, args)[\"gp_aggr\"]\n",
        "\n",
        "    # Initialize SVI state\n",
        "    svi_state = svi.init(rng_key_init, init_batch)\n",
        "\n",
        "    # Pre-allocate test loss array\n",
        "    test_loss_list = jnp.zeros(num_epochs)\n",
        "\n",
        "    # Training loop\n",
        "    for epoch in range(num_epochs):\n",
        "        rng_key, rng_key_train, rng_key_test = random.split(rng_key, 3)\n",
        "        t_start = time.time()\n",
        "\n",
        "        train_loss, svi_state = epoch_train(rng_key_train, svi_state, num_train)\n",
        "        test_loss = eval_test(rng_key_test, svi_state, num_test)\n",
        "        test_loss_list = test_loss_list.at[epoch].set(test_loss)\n",
        "\n",
        "        print(f\"Epoch: {epoch}, Train Loss: {train_loss:.2f}, Test Loss: {test_loss:.2f} ({time.time() - t_start:.2f} s)\")\n",
        "\n",
        "        if math.isnan(test_loss):  # Stop early if NaN\n",
        "            print(f\"NaN encountered at hidden_dim={hidden_dim}, z_dim={z_dim}. Skipping...\")\n",
        "            break  # Stop training if NaN occurs\n",
        "\n",
        "    # Store results only if valid\n",
        "    if not math.isnan(test_loss_list[-1]):\n",
        "        test_loss_results_final[(hidden_dim, z_dim)] = test_loss_list[-1]\n",
        "        test_loss_results_mean[(hidden_dim, z_dim)] = jnp.nanmean(test_loss_list)\n",
        "        print(f\"Final Test loss for hidden_dim={hidden_dim}, z_dim={z_dim}: {test_loss_list[-1]}\")\n",
        "        print(f\"Mean Test loss for hidden_dim={hidden_dim}, z_dim={z_dim}: {jnp.nanmean(test_loss_list)}\")\n",
        "\n",
        "print(\"Grid search complete.\")\n",
        "print(\"Results:\", test_loss_results_final)\n",
        "print(\"Mean Test Loss Results:\", test_loss_results_mean)"
      ]
    },
    {
      "cell_type": "code",
      "execution_count": null,
      "metadata": {
        "id": "ROJghrFwVTFd"
      },
      "outputs": [
        {
          "name": "stdout",
          "output_type": "stream",
          "text": [
            "{(20, 20): Array(1.1109414, dtype=float32), (20, 30): Array(1.1080139, dtype=float32), (20, 40): Array(1.1053879, dtype=float32), (20, 50): Array(1.1061616, dtype=float32), (30, 20): Array(1.110951, dtype=float32), (30, 30): Array(1.1080121, dtype=float32), (30, 40): Array(1.1054654, dtype=float32), (30, 50): Array(1.1061699, dtype=float32), (40, 20): Array(1.1109627, dtype=float32), (40, 30): Array(1.1081985, dtype=float32), (40, 40): Array(1.1056371, dtype=float32), (40, 50): Array(1.1062559, dtype=float32), (50, 20): Array(1.1110449, dtype=float32), (50, 30): Array(1.1082025, dtype=float32), (50, 40): Array(1.105541, dtype=float32), (50, 50): Array(1.1063113, dtype=float32)}\n",
            "{(20, 20): Array(1.1081921, dtype=float32), (20, 30): Array(1.1087439, dtype=float32), (20, 40): Array(1.1082863, dtype=float32), (20, 50): Array(1.1086638, dtype=float32), (30, 20): Array(1.1082151, dtype=float32), (30, 30): Array(1.108742, dtype=float32), (30, 40): Array(1.1082854, dtype=float32), (30, 50): Array(1.1087356, dtype=float32), (40, 20): Array(1.1082214, dtype=float32), (40, 30): Array(1.1088078, dtype=float32), (40, 40): Array(1.1083779, dtype=float32), (40, 50): Array(1.1087606, dtype=float32), (50, 20): Array(1.1082453, dtype=float32), (50, 30): Array(1.1088336, dtype=float32), (50, 40): Array(1.1083891, dtype=float32), (50, 50): Array(1.1087458, dtype=float32)}\n"
          ]
        }
      ],
      "source": [
        "print(test_loss_results_final)\n",
        "print(test_loss_results_mean)"
      ]
    },
    {
      "cell_type": "markdown",
      "metadata": {
        "id": "RQSdxxnaWn1g"
      },
      "source": [
        "### Optimal Hyperparams are 20, 40 (for kernel var 1e-5)\n"
      ]
    },
    {
      "cell_type": "markdown",
      "metadata": {
        "id": "Gb1HhnafTooi"
      },
      "source": [
        "## Initiate Training Loop with optimal hyperparams"
      ]
    },
    {
      "cell_type": "code",
      "execution_count": 181,
      "metadata": {
        "id": "_NR2_Or-Tq_E"
      },
      "outputs": [],
      "source": [
        "adam = numpyro.optim.Adam(step_size = args[\"learning_rate\"])\n",
        "svi = SVI(\n",
        "        vae_model,\n",
        "        vae_guide,\n",
        "        adam,\n",
        "        RenyiELBO(),\n",
        "        hidden_dim = 50,\n",
        "        z_dim = 50\n",
        "    )\n",
        "\n",
        "rng_key, rng_key_samp, rng_key_init = random.split(args[\"rng_key\"],3)\n",
        "#(num_samples, num_regions)\n",
        "init_batch = agg_gp_predictive(rng_key_, args)[\"gp_aggr\"] #(num_samples, num_regions) <- i.e (5,58)\n",
        "svi_state = svi.init(rng_key_init, init_batch)\n",
        "\n",
        "test_loss_list = []"
      ]
    },
    {
      "cell_type": "code",
      "execution_count": 182,
      "metadata": {
        "id": "T77REeqrUXy7"
      },
      "outputs": [
        {
          "name": "stdout",
          "output_type": "stream",
          "text": [
            "Epoch : 0, train loss : 4746.36, test loss : 2.99 (8.17 s.)\n",
            "Epoch : 1, train loss : 2128.18, test loss : 1.86 (0.00 s.)\n",
            "Epoch : 2, train loss : 2050.04, test loss : 1.78 (0.00 s.)\n",
            "Epoch : 3, train loss : 1988.51, test loss : 1.79 (0.00 s.)\n",
            "Epoch : 4, train loss : 1990.75, test loss : 1.95 (0.00 s.)\n",
            "Epoch : 5, train loss : 1950.11, test loss : 1.99 (0.00 s.)\n",
            "Epoch : 6, train loss : 1891.51, test loss : 1.77 (0.00 s.)\n",
            "Epoch : 7, train loss : 1851.94, test loss : 1.75 (0.00 s.)\n",
            "Epoch : 8, train loss : 1806.55, test loss : 1.61 (0.00 s.)\n",
            "Epoch : 9, train loss : 1716.98, test loss : 1.65 (0.00 s.)\n",
            "Epoch : 10, train loss : 1800.13, test loss : 1.61 (0.00 s.)\n",
            "Epoch : 11, train loss : 1648.91, test loss : 1.62 (0.00 s.)\n",
            "Epoch : 12, train loss : 1628.01, test loss : 1.59 (0.00 s.)\n",
            "Epoch : 13, train loss : 1601.16, test loss : 1.57 (0.00 s.)\n",
            "Epoch : 14, train loss : 1585.67, test loss : 1.51 (0.00 s.)\n",
            "Epoch : 15, train loss : 1563.83, test loss : 1.55 (0.00 s.)\n",
            "Epoch : 16, train loss : 1517.13, test loss : 1.55 (0.00 s.)\n",
            "Epoch : 17, train loss : 1449.95, test loss : 1.43 (0.00 s.)\n",
            "Epoch : 18, train loss : 1416.35, test loss : 1.40 (0.00 s.)\n",
            "Epoch : 19, train loss : 1404.87, test loss : 1.42 (0.00 s.)\n"
          ]
        }
      ],
      "source": [
        "for i in range(args[\"num_epochs\"]):\n",
        "    rng_key, rng_key_train, rng_key_test, rng_key_infer = random.split(rng_key, 4)\n",
        "    t_start = time.time()\n",
        "\n",
        "    num_train = 1000\n",
        "    # Where forward/backward pass gets called for train\n",
        "    train_loss , svi_state = epoch_train(rng_key_train, svi_state, num_train)\n",
        "\n",
        "    num_test = 1000\n",
        "\n",
        "    # Where forward/backward pass gets called for test\n",
        "    test_loss = eval_test(rng_key_test, svi_state, num_test)\n",
        "    test_loss_list += [test_loss]\n",
        "\n",
        "    print(\"Epoch : {}, train loss : {:.2f}, test loss : {:.2f} ({:.2f} s.)\".format(i, train_loss, test_loss, time.time() - t_start))\n",
        "\n",
        "    if math.isnan(test_loss):\n",
        "        break"
      ]
    },
    {
      "cell_type": "code",
      "execution_count": 183,
      "metadata": {
        "id": "eXgAJbgnUlCl"
      },
      "outputs": [],
      "source": [
        "#extract the decoder\n",
        "decoder_params = svi.get_params(svi_state)"
      ]
    },
    {
      "cell_type": "markdown",
      "metadata": {
        "id": "4fldbVSkT0RR"
      },
      "source": [
        "## Save the decoder"
      ]
    },
    {
      "cell_type": "code",
      "execution_count": 184,
      "metadata": {
        "id": "v9zDJExcT1OB"
      },
      "outputs": [
        {
          "name": "stdout",
          "output_type": "stream",
          "text": [
            "Decoder parameters saved to c:\\Users\\jessi\\Documents\\school\\y4\\s2\\DSE4101\\Individual\\FYP codes\\DSE_FYP\\simulation study\\model weights\\aggVAE\\aggVAE_e20_h20_z20\n"
          ]
        }
      ],
      "source": [
        "# Get script directory\n",
        "script_dir = os.getcwd()  # Get current working directory\n",
        "\n",
        "# Define the correct save path inside model_weights/\n",
        "save_dir = os.path.abspath(os.path.join(script_dir, \"..\", \"model weights\", \"aggVAE\"))\n",
        "os.makedirs(save_dir, exist_ok=True)  # Ensure the directory exists\n",
        "\n",
        "# Save decoder parameters\n",
        "save_path = os.path.join(save_dir, f\"aggVAE_e{args['num_epochs']}_h{args['hidden_dim']}_z{args['z_dim']}\")\n",
        "\n",
        "with open(save_path, \"wb\") as file:\n",
        "    pickle.dump(decoder_params, file)\n",
        "\n",
        "print(f\"Decoder parameters saved to {save_path}\")"
      ]
    }
  ],
  "metadata": {
    "accelerator": "GPU",
    "colab": {
      "gpuType": "T4",
      "machine_shape": "hm",
      "provenance": []
    },
    "kernelspec": {
      "display_name": "Python 3",
      "name": "python3"
    },
    "language_info": {
      "codemirror_mode": {
        "name": "ipython",
        "version": 3
      },
      "file_extension": ".py",
      "mimetype": "text/x-python",
      "name": "python",
      "nbconvert_exporter": "python",
      "pygments_lexer": "ipython3",
      "version": "3.13.1"
    }
  },
  "nbformat": 4,
  "nbformat_minor": 0
}
