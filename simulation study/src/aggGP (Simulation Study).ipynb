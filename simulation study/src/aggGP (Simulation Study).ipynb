{
 "cells": [
  {
   "cell_type": "code",
   "execution_count": 16,
   "metadata": {
    "id": "1wXMNry7Hkyp"
   },
   "outputs": [],
   "source": [
    "import os\n",
    "import numpy as np\n",
    "import pandas as pd\n",
    "import geopandas as gpd\n",
    "import seaborn as sns\n",
    "\n",
    "import time\n",
    "\n",
    "import jax\n",
    "import jax.numpy as jnp\n",
    "from jax import random\n",
    "import numpyro\n",
    "import numpyro.distributions as dist\n",
    "from numpyro.infer import NUTS, MCMC\n",
    "from numpyro.infer import SVI, Trace_ELBO, Predictive\n",
    "import numpyro.diagnostics\n",
    "\n",
    "from termcolor import colored\n",
    "import matplotlib.pyplot as plt\n",
    "\n",
    "from pathlib import Path\n",
    "\n",
    "import dill\n",
    "import pickle\n",
    "import arviz as az\n",
    "\n",
    "from sklearn.preprocessing import QuantileTransformer"
   ]
  },
  {
   "cell_type": "markdown",
   "metadata": {
    "id": "vZReN7eiHoiS"
   },
   "source": [
    "# GP Kernel Function"
   ]
  },
  {
   "cell_type": "code",
   "execution_count": 17,
   "metadata": {
    "id": "u-WVCaHGHru2"
   },
   "outputs": [],
   "source": [
    "def dist_euclid(x, z):\n",
    "    \"\"\"\n",
    "    Computes Eucledian Distance Between Regions. This function is used by\n",
    "    exp_sq_kernel function (kernel function for gaussian processes)\n",
    "    \"\"\"\n",
    "    x = jnp.array(x) # (ngrid_pts, lat/lon) <- i.e (7304,2)\n",
    "    z = jnp.array(z) # (ngrid_pts, lat/lon) <- i.e (7304,2)\n",
    "    if len(x.shape)==1:\n",
    "        x = x.reshape(x.shape[0], 1) #(2618,) -> (7304,1)\n",
    "    if len(z.shape)==1:\n",
    "        z = x.reshape(x.shape[0], 1) #(2618,) -> (7304,1)\n",
    "    n_x, m = x.shape # 7304 , 2\n",
    "    n_z, m_z = z.shape # 7304 , 2\n",
    "    assert m == m_z\n",
    "    delta = jnp.zeros((n_x,n_z)) #(ngrid_pts,ngrid_pts) <- i.e (7304,7304)\n",
    "    for d in jnp.arange(m):\n",
    "        x_d = x[:,d] #(ngrid_pts-lat/lon,) <- (7304,)\n",
    "        z_d = z[:,d] #(ngrid_pts-lat/lon,) <- (7304,)\n",
    "        delta += (x_d[:,jnp.newaxis] - z_d)**2 # (7304,7304)\n",
    "\n",
    "    return jnp.sqrt(delta) #(7304,7304)"
   ]
  },
  {
   "cell_type": "code",
   "execution_count": 18,
   "metadata": {
    "id": "gekmJsOwHumV"
   },
   "outputs": [],
   "source": [
    "def exp_sq_kernel(x, z, var, length, noise, jitter=1.0e-4):\n",
    "    dist = dist_euclid(x, z) #(7304, 7304)\n",
    "    deltaXsq = jnp.power(dist/ length, 2.0)\n",
    "    k = var * jnp.exp(-0.5 * deltaXsq)\n",
    "    k += (noise + jitter) * jnp.eye(x.shape[0])\n",
    "    return k # (ngrid_pts, ngrid_pts) <- (7304,7304)\n"
   ]
  },
  {
   "cell_type": "markdown",
   "metadata": {
    "id": "-iOiO_1NHwNz"
   },
   "source": [
    "# Aggregation Functions"
   ]
  },
  {
   "cell_type": "code",
   "execution_count": 19,
   "metadata": {
    "id": "xgPKoYAkHxrl"
   },
   "outputs": [],
   "source": [
    "def M_g(M, g):\n",
    "    '''\n",
    "    - $M$ is a matrix with binary entries $m_{ij},$ showing whether point $j$ is in polygon $i$\n",
    "    - $g$ is a vector of GP draws over grid\n",
    "    - $maltmul(M, g)$ gives a vector of sums over each polygon\n",
    "    '''\n",
    "    M = jnp.array(M)\n",
    "    g = jnp.array(g).T\n",
    "    return(jnp.matmul(M, g))"
   ]
  },
  {
   "cell_type": "markdown",
   "metadata": {
    "id": "4qNASOC3HzmW"
   },
   "source": [
    "# Aggregated Prevalence Model - must edit this to include HDI, population density\n",
    "\n"
   ]
  },
  {
   "cell_type": "code",
   "execution_count": 20,
   "metadata": {
    "id": "SQPuzilzH1ih"
   },
   "outputs": [],
   "source": [
    "def prev_model_gp_aggr(args):\n",
    "    \"\"\"Dengue prevalence model with a Gaussian Process\"\"\"\n",
    "\n",
    "    x = args[\"x\"]  # Spatial grid points: (num_grid_points, 2)\n",
    "    gp_kernel = args[\"gp_kernel\"]  # Gaussian Process kernel\n",
    "    noise = args[\"noise\"]\n",
    "    jitter = args[\"jitter\"]\n",
    "\n",
    "    #aggregate pop_density tgt\n",
    "    pop_density = args[\"pop_density\"]\n",
    "\n",
    "    #aggregate hdi tgt\n",
    "    hdi = args[\"hdi\"]\n",
    "\n",
    "    urban = args[\"urban\"]\n",
    "\n",
    "    M_lo = args[\"M_lo\"]  # (4, num_grid_points) aggregation matrix\n",
    "    M_hi = args[\"M_hi\"]  # (24, num_grid_points) aggregation matrix\n",
    "\n",
    "    total_cases_lo = args[\"total_cases_lo\"] #cos we wanna predict total cases district-wise, so only feed total cases for low res data\n",
    "\n",
    "    total_population_lo = args[\"total_population_lo\"]\n",
    "    total_population_hi = args[\"total_population_hi\"]\n",
    "\n",
    "    #aggregate total populations low and high\n",
    "    total_population = jnp.concatenate([total_population_lo,total_population_hi], axis = 0)\n",
    "\n",
    "    #add NaN values to total_cases to accommodate for unavailable total cases data for high resolution (that we want to predict)\n",
    "    total_cases = jnp.pad(total_cases_lo, (0, M_hi.shape[0]),constant_values = 0.0) #[3762.  484. ... , 0,0,0]\n",
    "    total_cases = jnp.where(total_cases == 0, jnp.nan, total_cases)# [3762.  484. ... , nan,nan,nan]\n",
    "    total_cases_mask = ~jnp.isnan(total_cases) # [True, True, ...., False, False, False]\n",
    "\n",
    "    # GP hyperparameters\n",
    "    kernel_length = numpyro.sample(\"kernel_length\", args[\"kernel_length\"])\n",
    "    kernel_var = numpyro.sample(\"kernel_var\", args[\"kernel_var\"])\n",
    "\n",
    "    # GP Kernel and Sample\n",
    "    k = gp_kernel(x, x, kernel_var, kernel_length, noise, jitter)\n",
    "    f = numpyro.sample(\"f\", dist.MultivariateNormal(loc=jnp.zeros(x.shape[0]), covariance_matrix=k))  # (num_grid_points,)\n",
    "\n",
    "    # Aggregate GP values to district level\n",
    "    gp_aggr_lo = numpyro.deterministic(\"gp_aggr_lo\", M_g(M_lo, f))  # (4,)\n",
    "    gp_aggr_hi = numpyro.deterministic(\"gp_aggr_hi\", M_g(M_hi, f))  # (24,)\n",
    "\n",
    "    # Now we need to aggregate both. This step is important since even though we only\n",
    "    # show the model the low resolution data, to produce high resolution data it\n",
    "    # needs the GP realizations for those regions\n",
    "    gp_aggr = numpyro.deterministic(\"gp_aggr\", jnp.concatenate([gp_aggr_lo,gp_aggr_hi])) #(28,)\n",
    "\n",
    "    # Fixed effects\n",
    "    b0 = numpyro.sample(\"b0\", dist.Normal(-5.25, 0.5))  # Intercept\n",
    "    b_pop_density = numpyro.sample(\"b_pop_density\", dist.Normal(0, 0.33))  # Effect of population density normal (2, 0.25) previously\n",
    "    b_hdi = numpyro.sample(\"b_hdi\", dist.Normal(0, 0.33))  # Effect of HDI\n",
    "    b_urban = numpyro.sample(\"b_urban\", dist.Normal(0, 0.33))  # Effect of urbanicity\n",
    "\n",
    "    #standardise all before passing into lp\n",
    "    #pop_density = (pop_density - jnp.mean(pop_density)) / jnp.std(pop_density)\n",
    "    #hdi = (hdi-jnp.mean(hdi)) / jnp.std(hdi)\n",
    "    #urban = (urban - jnp.mean(urban)) / jnp.std(urban)\n",
    "\n",
    "    # Linear predictor\n",
    "    lp = numpyro.deterministic(\"lp\", b0 - gp_aggr - b_pop_density * pop_density - b_hdi * hdi - b_urban * urban)  # (num_districts,)\n",
    "    #lp = numpyro.deterministic(\"lp\", (b0 - gp_aggr - b_pop_density * pop_density))  # (num_districts,)\n",
    "    #lp = numpyro.deterministic(\"lp\", (b0 - gp_aggr))  # (num_districts,)\n",
    "\n",
    "    # Prevalence probability\n",
    "    theta = numpyro.deterministic(\"theta\", jax.nn.sigmoid(lp))  # (num_districts,)\n",
    "\n",
    "    # Binomial likelihood\n",
    "    with numpyro.handlers.mask(mask=total_cases_mask):\n",
    "        pred_cases = numpyro.sample(\n",
    "            \"pred_cases\",\n",
    "            dist.Binomial(total_count=total_population, probs=theta),\n",
    "            obs=total_cases)\n",
    "\n",
    "    return pred_cases"
   ]
  },
  {
   "cell_type": "markdown",
   "metadata": {
    "id": "YbDDNakYIbYe"
   },
   "source": [
    "# Load Data"
   ]
  },
  {
   "cell_type": "code",
   "execution_count": 21,
   "metadata": {
    "id": "3_l-ejoAIc2h"
   },
   "outputs": [],
   "source": [
    "# Lat/Lon Values of artificial grid\n",
    "x = np.load(\"../data/lat_lon_x_jkt.npy\")\n",
    "\n",
    "# combined regional data\n",
    "pol_pts_jkt_lo = np.load(\"../data/pol_pts_jkt_lo.npy\")\n",
    "pt_which_pol_jkt_lo = np.load(\"../data/pt_which_pol_jkt_lo.npy\")\n",
    "pol_pts_jkt_hi = np.load(\"../data/pol_pts_jkt_hi.npy\")\n",
    "pt_which_pol_jkt_hi = np.load(\"../data/pt_which_pol_jkt_hi.npy\")\n",
    "\n",
    "#combine the dataframes\n",
    "df_lo = gpd.read_file(\"../data/jkt_prov.shp\")\n",
    "df_hi = gpd.read_file(\"../data/jkt_dist.shp\")"
   ]
  },
  {
   "cell_type": "code",
   "execution_count": 22,
   "metadata": {},
   "outputs": [
    {
     "data": {
      "text/plain": [
       "np.int64(2023)"
      ]
     },
     "execution_count": 22,
     "metadata": {},
     "output_type": "execute_result"
    }
   ],
   "source": [
    "df_lo['Year'].max()"
   ]
  },
  {
   "cell_type": "code",
   "execution_count": 23,
   "metadata": {},
   "outputs": [],
   "source": [
    "#filter to get one year only\n",
    "df_lo = df_lo[df_lo[\"Year\"] == 2023]\n",
    "df_hi = df_hi[df_hi[\"Year\"] == 2023]"
   ]
  },
  {
   "cell_type": "code",
   "execution_count": 24,
   "metadata": {},
   "outputs": [
    {
     "name": "stdout",
     "output_type": "stream",
     "text": [
      "3    0.001983\n",
      "dtype: float64\n",
      "3     1.441272\n",
      "7     1.555341\n",
      "11    1.074003\n",
      "15    1.267236\n",
      "19    0.970084\n",
      "Name: Pop_den, dtype: float64\n"
     ]
    }
   ],
   "source": [
    "print(df_lo.Cases / df_lo.Population)\n",
    "print(df_hi.Pop_den)"
   ]
  },
  {
   "cell_type": "markdown",
   "metadata": {
    "id": "0cE5BfS4I5oZ"
   },
   "source": [
    "# Vars needed to be changed (change according to the agg prevalence model parameters)"
   ]
  },
  {
   "cell_type": "code",
   "execution_count": 25,
   "metadata": {
    "id": "ivFcMASHI8W8"
   },
   "outputs": [],
   "source": [
    "M_lo = jnp.array(pol_pts_jkt_lo)\n",
    "M_hi = jnp.array(pol_pts_jkt_hi)\n",
    "cases_lo = jnp.array(df_lo[\"Cases\"])\n",
    "pop_lo = jnp.array(df_lo[\"Population\"])\n",
    "pop_hi = jnp.array(df_hi[\"Population\"])"
   ]
  },
  {
   "cell_type": "code",
   "execution_count": 26,
   "metadata": {
    "colab": {
     "base_uri": "https://localhost:8080/"
    },
    "id": "j79GvFnGGlol",
    "outputId": "b4b37b17-a256-49f0-e2b5-dc453c9232f4"
   },
   "outputs": [
    {
     "name": "stdout",
     "output_type": "stream",
     "text": [
      "(1, 100)\n",
      "(5, 100)\n",
      "(1,)\n",
      "(1,)\n",
      "(5,)\n",
      "(100, 2)\n"
     ]
    }
   ],
   "source": [
    "#print the shape of all the vars above\n",
    "print(M_lo.shape)\n",
    "print(M_hi.shape)\n",
    "print(cases_lo.shape)\n",
    "print(pop_lo.shape)\n",
    "print(pop_hi.shape)\n",
    "print(x.shape)"
   ]
  },
  {
   "cell_type": "markdown",
   "metadata": {},
   "source": [
    "### Prior Predictive Check"
   ]
  },
  {
   "cell_type": "code",
   "execution_count": 31,
   "metadata": {},
   "outputs": [],
   "source": [
    "# Prior Predictive Check\n",
    "prior_samples = Predictive(prev_model_gp_aggr, num_samples=500)(\n",
    "    random.PRNGKey(6), args)\n",
    "\n",
    "# transform prior samples to arviz inference object\n",
    "prior_samples_arviz = az.from_numpyro(prior=prior_samples)"
   ]
  },
  {
   "cell_type": "code",
   "execution_count": 32,
   "metadata": {},
   "outputs": [
    {
     "name": "stderr",
     "output_type": "stream",
     "text": [
      "arviz - WARNING - Shape validation failed: input_shape: (1, 500), minimum_shape: (chains=2, draws=4)\n"
     ]
    },
    {
     "data": {
      "text/html": [
       "<div>\n",
       "<style scoped>\n",
       "    .dataframe tbody tr th:only-of-type {\n",
       "        vertical-align: middle;\n",
       "    }\n",
       "\n",
       "    .dataframe tbody tr th {\n",
       "        vertical-align: top;\n",
       "    }\n",
       "\n",
       "    .dataframe thead th {\n",
       "        text-align: right;\n",
       "    }\n",
       "</style>\n",
       "<table border=\"1\" class=\"dataframe\">\n",
       "  <thead>\n",
       "    <tr style=\"text-align: right;\">\n",
       "      <th></th>\n",
       "      <th>median</th>\n",
       "      <th>mad</th>\n",
       "      <th>eti_3%</th>\n",
       "      <th>eti_97%</th>\n",
       "      <th>mcse_median</th>\n",
       "      <th>ess_median</th>\n",
       "      <th>ess_tail</th>\n",
       "      <th>r_hat</th>\n",
       "    </tr>\n",
       "  </thead>\n",
       "  <tbody>\n",
       "    <tr>\n",
       "      <th>theta[0]</th>\n",
       "      <td>0.000</td>\n",
       "      <td>0.000</td>\n",
       "      <td>0.000</td>\n",
       "      <td>1.000</td>\n",
       "      <td>0.001</td>\n",
       "      <td>492.080</td>\n",
       "      <td>500.0</td>\n",
       "      <td>NaN</td>\n",
       "    </tr>\n",
       "    <tr>\n",
       "      <th>theta[1]</th>\n",
       "      <td>0.003</td>\n",
       "      <td>0.003</td>\n",
       "      <td>0.000</td>\n",
       "      <td>1.000</td>\n",
       "      <td>0.002</td>\n",
       "      <td>487.213</td>\n",
       "      <td>542.0</td>\n",
       "      <td>NaN</td>\n",
       "    </tr>\n",
       "    <tr>\n",
       "      <th>theta[2]</th>\n",
       "      <td>0.005</td>\n",
       "      <td>0.005</td>\n",
       "      <td>0.000</td>\n",
       "      <td>0.979</td>\n",
       "      <td>0.001</td>\n",
       "      <td>462.303</td>\n",
       "      <td>473.0</td>\n",
       "      <td>NaN</td>\n",
       "    </tr>\n",
       "    <tr>\n",
       "      <th>theta[3]</th>\n",
       "      <td>0.004</td>\n",
       "      <td>0.004</td>\n",
       "      <td>0.000</td>\n",
       "      <td>1.000</td>\n",
       "      <td>0.002</td>\n",
       "      <td>484.393</td>\n",
       "      <td>483.0</td>\n",
       "      <td>NaN</td>\n",
       "    </tr>\n",
       "    <tr>\n",
       "      <th>theta[4]</th>\n",
       "      <td>0.002</td>\n",
       "      <td>0.002</td>\n",
       "      <td>0.000</td>\n",
       "      <td>1.000</td>\n",
       "      <td>0.002</td>\n",
       "      <td>443.300</td>\n",
       "      <td>500.0</td>\n",
       "      <td>NaN</td>\n",
       "    </tr>\n",
       "    <tr>\n",
       "      <th>theta[5]</th>\n",
       "      <td>0.002</td>\n",
       "      <td>0.002</td>\n",
       "      <td>0.000</td>\n",
       "      <td>1.000</td>\n",
       "      <td>0.002</td>\n",
       "      <td>434.839</td>\n",
       "      <td>500.0</td>\n",
       "      <td>NaN</td>\n",
       "    </tr>\n",
       "    <tr>\n",
       "      <th>lp[0]</th>\n",
       "      <td>-9.268</td>\n",
       "      <td>36.569</td>\n",
       "      <td>-119.507</td>\n",
       "      <td>97.621</td>\n",
       "      <td>3.025</td>\n",
       "      <td>492.080</td>\n",
       "      <td>514.0</td>\n",
       "      <td>NaN</td>\n",
       "    </tr>\n",
       "    <tr>\n",
       "      <th>lp[1]</th>\n",
       "      <td>-5.667</td>\n",
       "      <td>6.753</td>\n",
       "      <td>-24.780</td>\n",
       "      <td>13.374</td>\n",
       "      <td>0.629</td>\n",
       "      <td>487.213</td>\n",
       "      <td>542.0</td>\n",
       "      <td>NaN</td>\n",
       "    </tr>\n",
       "    <tr>\n",
       "      <th>lp[2]</th>\n",
       "      <td>-5.385</td>\n",
       "      <td>3.296</td>\n",
       "      <td>-15.163</td>\n",
       "      <td>3.854</td>\n",
       "      <td>0.314</td>\n",
       "      <td>462.303</td>\n",
       "      <td>473.0</td>\n",
       "      <td>NaN</td>\n",
       "    </tr>\n",
       "    <tr>\n",
       "      <th>lp[3]</th>\n",
       "      <td>-5.631</td>\n",
       "      <td>7.979</td>\n",
       "      <td>-29.488</td>\n",
       "      <td>17.050</td>\n",
       "      <td>0.778</td>\n",
       "      <td>484.393</td>\n",
       "      <td>483.0</td>\n",
       "      <td>NaN</td>\n",
       "    </tr>\n",
       "    <tr>\n",
       "      <th>lp[4]</th>\n",
       "      <td>-6.079</td>\n",
       "      <td>10.606</td>\n",
       "      <td>-36.845</td>\n",
       "      <td>23.753</td>\n",
       "      <td>1.001</td>\n",
       "      <td>443.300</td>\n",
       "      <td>513.0</td>\n",
       "      <td>NaN</td>\n",
       "    </tr>\n",
       "    <tr>\n",
       "      <th>lp[5]</th>\n",
       "      <td>-6.053</td>\n",
       "      <td>9.423</td>\n",
       "      <td>-33.074</td>\n",
       "      <td>19.744</td>\n",
       "      <td>0.709</td>\n",
       "      <td>434.839</td>\n",
       "      <td>514.0</td>\n",
       "      <td>NaN</td>\n",
       "    </tr>\n",
       "    <tr>\n",
       "      <th>gp_aggr[0]</th>\n",
       "      <td>3.610</td>\n",
       "      <td>36.531</td>\n",
       "      <td>-103.064</td>\n",
       "      <td>113.772</td>\n",
       "      <td>3.473</td>\n",
       "      <td>492.142</td>\n",
       "      <td>514.0</td>\n",
       "      <td>NaN</td>\n",
       "    </tr>\n",
       "    <tr>\n",
       "      <th>gp_aggr[1]</th>\n",
       "      <td>0.382</td>\n",
       "      <td>6.711</td>\n",
       "      <td>-18.695</td>\n",
       "      <td>19.820</td>\n",
       "      <td>0.596</td>\n",
       "      <td>432.952</td>\n",
       "      <td>535.0</td>\n",
       "      <td>NaN</td>\n",
       "    </tr>\n",
       "    <tr>\n",
       "      <th>gp_aggr[2]</th>\n",
       "      <td>0.330</td>\n",
       "      <td>3.237</td>\n",
       "      <td>-8.992</td>\n",
       "      <td>9.911</td>\n",
       "      <td>0.286</td>\n",
       "      <td>469.967</td>\n",
       "      <td>514.0</td>\n",
       "      <td>NaN</td>\n",
       "    </tr>\n",
       "    <tr>\n",
       "      <th>gp_aggr[3]</th>\n",
       "      <td>0.632</td>\n",
       "      <td>7.956</td>\n",
       "      <td>-22.509</td>\n",
       "      <td>24.133</td>\n",
       "      <td>0.722</td>\n",
       "      <td>512.320</td>\n",
       "      <td>483.0</td>\n",
       "      <td>NaN</td>\n",
       "    </tr>\n",
       "    <tr>\n",
       "      <th>gp_aggr[4]</th>\n",
       "      <td>1.241</td>\n",
       "      <td>10.944</td>\n",
       "      <td>-29.018</td>\n",
       "      <td>31.929</td>\n",
       "      <td>0.739</td>\n",
       "      <td>484.452</td>\n",
       "      <td>535.0</td>\n",
       "      <td>NaN</td>\n",
       "    </tr>\n",
       "    <tr>\n",
       "      <th>gp_aggr[5]</th>\n",
       "      <td>0.849</td>\n",
       "      <td>9.133</td>\n",
       "      <td>-25.031</td>\n",
       "      <td>27.163</td>\n",
       "      <td>0.751</td>\n",
       "      <td>482.850</td>\n",
       "      <td>484.0</td>\n",
       "      <td>NaN</td>\n",
       "    </tr>\n",
       "    <tr>\n",
       "      <th>b0</th>\n",
       "      <td>-5.249</td>\n",
       "      <td>0.319</td>\n",
       "      <td>-6.218</td>\n",
       "      <td>-4.406</td>\n",
       "      <td>0.028</td>\n",
       "      <td>474.715</td>\n",
       "      <td>405.0</td>\n",
       "      <td>NaN</td>\n",
       "    </tr>\n",
       "    <tr>\n",
       "      <th>b_pop_density</th>\n",
       "      <td>-0.016</td>\n",
       "      <td>0.224</td>\n",
       "      <td>-0.627</td>\n",
       "      <td>0.599</td>\n",
       "      <td>0.018</td>\n",
       "      <td>434.040</td>\n",
       "      <td>437.0</td>\n",
       "      <td>NaN</td>\n",
       "    </tr>\n",
       "    <tr>\n",
       "      <th>b_hdi</th>\n",
       "      <td>-0.019</td>\n",
       "      <td>0.205</td>\n",
       "      <td>-0.610</td>\n",
       "      <td>0.563</td>\n",
       "      <td>0.018</td>\n",
       "      <td>455.762</td>\n",
       "      <td>415.0</td>\n",
       "      <td>NaN</td>\n",
       "    </tr>\n",
       "    <tr>\n",
       "      <th>b_urban</th>\n",
       "      <td>-0.036</td>\n",
       "      <td>0.228</td>\n",
       "      <td>-0.582</td>\n",
       "      <td>0.654</td>\n",
       "      <td>0.016</td>\n",
       "      <td>597.189</td>\n",
       "      <td>454.0</td>\n",
       "      <td>NaN</td>\n",
       "    </tr>\n",
       "  </tbody>\n",
       "</table>\n",
       "</div>"
      ],
      "text/plain": [
       "               median     mad   eti_3%  eti_97%  mcse_median  ess_median  \\\n",
       "theta[0]        0.000   0.000    0.000    1.000        0.001     492.080   \n",
       "theta[1]        0.003   0.003    0.000    1.000        0.002     487.213   \n",
       "theta[2]        0.005   0.005    0.000    0.979        0.001     462.303   \n",
       "theta[3]        0.004   0.004    0.000    1.000        0.002     484.393   \n",
       "theta[4]        0.002   0.002    0.000    1.000        0.002     443.300   \n",
       "theta[5]        0.002   0.002    0.000    1.000        0.002     434.839   \n",
       "lp[0]          -9.268  36.569 -119.507   97.621        3.025     492.080   \n",
       "lp[1]          -5.667   6.753  -24.780   13.374        0.629     487.213   \n",
       "lp[2]          -5.385   3.296  -15.163    3.854        0.314     462.303   \n",
       "lp[3]          -5.631   7.979  -29.488   17.050        0.778     484.393   \n",
       "lp[4]          -6.079  10.606  -36.845   23.753        1.001     443.300   \n",
       "lp[5]          -6.053   9.423  -33.074   19.744        0.709     434.839   \n",
       "gp_aggr[0]      3.610  36.531 -103.064  113.772        3.473     492.142   \n",
       "gp_aggr[1]      0.382   6.711  -18.695   19.820        0.596     432.952   \n",
       "gp_aggr[2]      0.330   3.237   -8.992    9.911        0.286     469.967   \n",
       "gp_aggr[3]      0.632   7.956  -22.509   24.133        0.722     512.320   \n",
       "gp_aggr[4]      1.241  10.944  -29.018   31.929        0.739     484.452   \n",
       "gp_aggr[5]      0.849   9.133  -25.031   27.163        0.751     482.850   \n",
       "b0             -5.249   0.319   -6.218   -4.406        0.028     474.715   \n",
       "b_pop_density  -0.016   0.224   -0.627    0.599        0.018     434.040   \n",
       "b_hdi          -0.019   0.205   -0.610    0.563        0.018     455.762   \n",
       "b_urban        -0.036   0.228   -0.582    0.654        0.016     597.189   \n",
       "\n",
       "               ess_tail  r_hat  \n",
       "theta[0]          500.0    NaN  \n",
       "theta[1]          542.0    NaN  \n",
       "theta[2]          473.0    NaN  \n",
       "theta[3]          483.0    NaN  \n",
       "theta[4]          500.0    NaN  \n",
       "theta[5]          500.0    NaN  \n",
       "lp[0]             514.0    NaN  \n",
       "lp[1]             542.0    NaN  \n",
       "lp[2]             473.0    NaN  \n",
       "lp[3]             483.0    NaN  \n",
       "lp[4]             513.0    NaN  \n",
       "lp[5]             514.0    NaN  \n",
       "gp_aggr[0]        514.0    NaN  \n",
       "gp_aggr[1]        535.0    NaN  \n",
       "gp_aggr[2]        514.0    NaN  \n",
       "gp_aggr[3]        483.0    NaN  \n",
       "gp_aggr[4]        535.0    NaN  \n",
       "gp_aggr[5]        484.0    NaN  \n",
       "b0                405.0    NaN  \n",
       "b_pop_density     437.0    NaN  \n",
       "b_hdi             415.0    NaN  \n",
       "b_urban           454.0    NaN  "
      ]
     },
     "execution_count": 32,
     "metadata": {},
     "output_type": "execute_result"
    }
   ],
   "source": [
    "az.summary(prior_samples_arviz, var_names = [\"theta\", \"lp\", \"gp_aggr\", \"b0\", \"b_pop_density\", \"b_hdi\", \"b_urban\"], stat_focus = \"median\")"
   ]
  },
  {
   "cell_type": "markdown",
   "metadata": {
    "id": "ZWzo1haaJQwA"
   },
   "source": [
    "# Agg GP Model"
   ]
  },
  {
   "cell_type": "code",
   "execution_count": 29,
   "metadata": {},
   "outputs": [],
   "source": [
    "pop_lo = jnp.array(df_lo[\"Pop_den\"]) \n",
    "pop_hi = jnp.array(df_hi[\"Pop_den\"]) \n",
    "hdi_lo = jnp.array(df_lo[\"HDI\"])\n",
    "hdi_hi = jnp.array(df_hi[\"HDI\"])\n",
    "urban_lo = jnp.array(df_lo[\"urbanicity\"])\n",
    "urban_hi = jnp.array(df_hi[\"urbanicity\"])\n",
    "\n",
    "pop_all = jnp.concatenate([pop_lo, pop_hi], axis=0)\n",
    "hdi_all = jnp.concatenate([hdi_lo, hdi_hi], axis=0)\n",
    "urban_all = jnp.concatenate([urban_lo, urban_hi], axis=0)"
   ]
  },
  {
   "cell_type": "code",
   "execution_count": 30,
   "metadata": {},
   "outputs": [],
   "source": [
    "args = {\n",
    "        \"x\" : jnp.array(x), # Lat/lon vals of grid points # Shape (num_districts, 2)\n",
    "        \"gp_kernel\" : exp_sq_kernel,\n",
    "        \"jitter\" : 1e-4,\n",
    "        \"noise\" : 1e-4,\n",
    "        \"M_lo\" : M_lo, # Aggregation matrix # Shape (num_districts, num_districts)\n",
    "        \"M_hi\" : M_hi, # Aggregation matrix # Shape (num_districts, num_districts)\n",
    "        # GP Kernel Hyperparams\n",
    "        \"kernel_length\" : dist.InverseGamma(3, 3), #(,)\n",
    "        \"kernel_var\" : dist.LogNormal(0, 0.5),\n",
    "        \"pop_density\": jnp.array(pop_all), # Shape (num_districts,)\n",
    "        \"hdi\": jnp.array(hdi_all), # Shape (num_districts, 2)\n",
    "        \"urban\": jnp.array(urban_all),\n",
    "        \"total_cases_lo\" : cases_lo,\n",
    "        \"total_population_lo\" : pop_lo,\n",
    "        \"total_population_hi\" : pop_hi\n",
    "}\n"
   ]
  },
  {
   "cell_type": "markdown",
   "metadata": {
    "id": "doOpZ-ltJTlb"
   },
   "source": [
    "# Run MCMC"
   ]
  },
  {
   "cell_type": "code",
   "execution_count": 33,
   "metadata": {
    "id": "0PVn1gP1JUhB"
   },
   "outputs": [],
   "source": [
    "# Base seed for reproducibility\n",
    "base_seed = 3  # Keep this fixed for full replicability\n",
    "\n",
    "\n",
    "# MCMC settings\n",
    "n_warm = 1000\n",
    "n_samples = 2000"
   ]
  },
  {
   "cell_type": "code",
   "execution_count": 35,
   "metadata": {},
   "outputs": [],
   "source": [
    "save_dir = Path.cwd().parent / \"model weights\" / \"aggGP\""
   ]
  },
  {
   "cell_type": "markdown",
   "metadata": {
    "id": "uWUOUxUeJWMC"
   },
   "source": [
    "# Save Model"
   ]
  },
  {
   "cell_type": "code",
   "execution_count": null,
   "metadata": {
    "colab": {
     "base_uri": "https://localhost:8080/"
    },
    "id": "ZWFS6twjv8qg",
    "outputId": "5468b9d5-cbad-46f0-c4bd-08dc6f3eaef7"
   },
   "outputs": [
    {
     "name": "stderr",
     "output_type": "stream",
     "text": [
      "C:\\Users\\jessi\\AppData\\Local\\Temp\\ipykernel_16060\\1880162180.py:2: UserWarning: There are not enough devices to run parallel chains: expected 4 but got 1. Chains will be drawn sequentially. If you are running MCMC in CPU, consider using `numpyro.set_host_device_count(4)` at the beginning of your program. You can double-check how many devices are available in your system using `jax.local_device_count()`.\n",
      "  mcmc = MCMC(\n",
      "sample: 100%|██████████| 3000/3000 [01:50<00:00, 27.15it/s, 127 steps of size 1.69e-02. acc. prob=0.82]\n",
      "  0%|          | 0/3000 [00:00<?, ?it/s]"
     ]
    }
   ],
   "source": [
    "rng_key = jax.random.PRNGKey(base_seed)\n",
    "mcmc = MCMC(\n",
    "    NUTS(prev_model_gp_aggr),\n",
    "    num_warmup=n_warm,\n",
    "    num_samples=n_samples,\n",
    "    num_chains=4  # Run all chains at once\n",
    ")\n",
    "\n",
    "start = time.time()\n",
    "try:\n",
    "    mcmc.run(rng_key, args)\n",
    "    end = time.time()\n",
    "    t_elapsed = end - start\n",
    "    t_elapsed_min = round(t_elapsed / 60)\n",
    "    print(f\"Total time elapsed: {t_elapsed:.2f}s ({t_elapsed_min} min)\")\n",
    "\n",
    "    # Save full MCMC object\n",
    "    f_path = f\"{save_dir}/aggGP_4chains_nsamples_{n_samples}_tt{t_elapsed_min}min_thetascaled.pkl\"\n",
    "    os.makedirs(save_dir, exist_ok=True)\n",
    "    with open(f_path, \"wb\") as file:\n",
    "        dill.dump(mcmc, file)\n",
    "\n",
    "    print(f\"Saved full 4-chain MCMC object to {f_path}\")\n",
    "\n",
    "except Exception as e:\n",
    "    print(f\"Error occurred during multi-chain MCMC run: {e}\")"
   ]
  },
  {
   "cell_type": "markdown",
   "metadata": {},
   "source": [
    "# Results Inference"
   ]
  },
  {
   "cell_type": "code",
   "execution_count": null,
   "metadata": {
    "id": "ohvACXZ2l-HP"
   },
   "outputs": [
    {
     "ename": "TypeError",
     "evalue": "'NoneType' object is not subscriptable",
     "output_type": "error",
     "traceback": [
      "\u001b[1;31m---------------------------------------------------------------------------\u001b[0m",
      "\u001b[1;31mTypeError\u001b[0m                                 Traceback (most recent call last)",
      "Cell \u001b[1;32mIn[376], line 1\u001b[0m\n\u001b[1;32m----> 1\u001b[0m samples \u001b[38;5;241m=\u001b[39m \u001b[43mmcmc\u001b[49m\u001b[38;5;241;43m.\u001b[39;49m\u001b[43mget_samples\u001b[49m\u001b[43m(\u001b[49m\u001b[43mgroup_by_chain\u001b[49m\u001b[38;5;241;43m=\u001b[39;49m\u001b[43m \u001b[49m\u001b[38;5;28;43;01mTrue\u001b[39;49;00m\u001b[43m)\u001b[49m\n\u001b[0;32m      2\u001b[0m mcmc\u001b[38;5;241m.\u001b[39mprint_summary(exclude_deterministic \u001b[38;5;241m=\u001b[39m \u001b[38;5;28;01mFalse\u001b[39;00m)\n",
      "File \u001b[1;32m~\\AppData\\Roaming\\Python\\Python313\\site-packages\\numpyro\\infer\\mcmc.py:743\u001b[0m, in \u001b[0;36mMCMC.get_samples\u001b[1;34m(self, group_by_chain)\u001b[0m\n\u001b[0;32m    722\u001b[0m \u001b[38;5;28;01mdef\u001b[39;00m\u001b[38;5;250m \u001b[39m\u001b[38;5;21mget_samples\u001b[39m(\u001b[38;5;28mself\u001b[39m, group_by_chain\u001b[38;5;241m=\u001b[39m\u001b[38;5;28;01mFalse\u001b[39;00m):\n\u001b[0;32m    723\u001b[0m \u001b[38;5;250m    \u001b[39m\u001b[38;5;124;03m\"\"\"\u001b[39;00m\n\u001b[0;32m    724\u001b[0m \u001b[38;5;124;03m    Get samples from the MCMC run.\u001b[39;00m\n\u001b[0;32m    725\u001b[0m \n\u001b[1;32m   (...)\u001b[0m\n\u001b[0;32m    740\u001b[0m \n\u001b[0;32m    741\u001b[0m \u001b[38;5;124;03m    \"\"\"\u001b[39;00m\n\u001b[0;32m    742\u001b[0m     \u001b[38;5;28;01mreturn\u001b[39;00m (\n\u001b[1;32m--> 743\u001b[0m         \u001b[38;5;28;43mself\u001b[39;49m\u001b[38;5;241;43m.\u001b[39;49m\u001b[43m_states\u001b[49m\u001b[43m[\u001b[49m\u001b[38;5;28;43mself\u001b[39;49m\u001b[38;5;241;43m.\u001b[39;49m\u001b[43m_sample_field\u001b[49m\u001b[43m]\u001b[49m\n\u001b[0;32m    744\u001b[0m         \u001b[38;5;28;01mif\u001b[39;00m group_by_chain\n\u001b[0;32m    745\u001b[0m         \u001b[38;5;28;01melse\u001b[39;00m \u001b[38;5;28mself\u001b[39m\u001b[38;5;241m.\u001b[39m_get_states_flat()[\u001b[38;5;28mself\u001b[39m\u001b[38;5;241m.\u001b[39m_sample_field]\n\u001b[0;32m    746\u001b[0m     )\n",
      "\u001b[1;31mTypeError\u001b[0m: 'NoneType' object is not subscriptable"
     ]
    }
   ],
   "source": [
    "samples = mcmc.get_samples(group_by_chain= True)\n",
    "mcmc.print_summary(exclude_deterministic = False)"
   ]
  },
  {
   "cell_type": "code",
   "execution_count": null,
   "metadata": {
    "colab": {
     "base_uri": "https://localhost:8080/"
    },
    "id": "l1Gj9ZQQmDr_",
    "outputId": "3879c32f-ec32-4c7b-eecb-7186e13b01e9"
   },
   "outputs": [
    {
     "data": {
      "text/plain": [
       "Array([[[2.00000009e-03, 1.46698381e-03, 4.51188680e-04, 1.96151529e-03,\n",
       "         1.99928554e-03, 1.97306508e-03],\n",
       "        [2.00000009e-03, 1.54998130e-03, 5.10994520e-04, 1.97256845e-03,\n",
       "         1.99949997e-03, 1.98524445e-03],\n",
       "        [2.00000009e-03, 1.33840321e-03, 3.44568165e-04, 1.96243054e-03,\n",
       "         1.99946249e-03, 1.97916641e-03],\n",
       "        ...,\n",
       "        [2.00000009e-03, 1.99999963e-03, 1.97491492e-03, 2.00000009e-03,\n",
       "         2.00000009e-03, 2.00000009e-03],\n",
       "        [2.00000009e-03, 1.99999986e-03, 1.98956346e-03, 2.00000009e-03,\n",
       "         2.00000009e-03, 2.00000009e-03],\n",
       "        [2.00000009e-03, 1.99999986e-03, 1.98946288e-03, 2.00000009e-03,\n",
       "         2.00000009e-03, 2.00000009e-03]],\n",
       "\n",
       "       [[2.00000009e-03, 1.43406168e-03, 2.05638324e-04, 1.80625240e-03,\n",
       "         1.99639541e-03, 1.98866520e-03],\n",
       "        [2.00000009e-03, 1.41591288e-03, 2.10792496e-04, 1.81869138e-03,\n",
       "         1.99622358e-03, 1.98867056e-03],\n",
       "        [2.00000009e-03, 1.51257054e-03, 2.19999885e-04, 1.81191892e-03,\n",
       "         1.99636677e-03, 1.98829034e-03],\n",
       "        ...,\n",
       "        [2.00000009e-03, 1.77716732e-03, 5.96254831e-04, 1.98315154e-03,\n",
       "         1.99992233e-03, 1.99736352e-03],\n",
       "        [2.00000009e-03, 1.78097421e-03, 5.87313960e-04, 1.97845208e-03,\n",
       "         1.99990952e-03, 1.99764199e-03],\n",
       "        [2.00000009e-03, 1.76520913e-03, 5.66763803e-04, 1.97710586e-03,\n",
       "         1.99990952e-03, 1.99783570e-03]],\n",
       "\n",
       "       [[2.00000009e-03, 1.25153759e-03, 3.00564483e-04, 2.48533324e-04,\n",
       "         1.79801031e-03, 1.99373253e-03],\n",
       "        [2.00000009e-03, 1.06960407e-03, 2.52215279e-04, 2.02978714e-04,\n",
       "         1.78112136e-03, 1.99177978e-03],\n",
       "        [1.99943525e-03, 3.50164737e-05, 1.38179985e-05, 9.91189387e-04,\n",
       "         1.04822603e-03, 5.05217804e-06],\n",
       "        ...,\n",
       "        [2.00000009e-03, 2.00000009e-03, 1.99979916e-03, 2.00000009e-03,\n",
       "         2.00000009e-03, 2.00000009e-03],\n",
       "        [2.00000009e-03, 2.00000009e-03, 1.99980242e-03, 2.00000009e-03,\n",
       "         2.00000009e-03, 2.00000009e-03],\n",
       "        [2.00000009e-03, 2.00000009e-03, 1.99989788e-03, 2.00000009e-03,\n",
       "         2.00000009e-03, 2.00000009e-03]],\n",
       "\n",
       "       [[2.00000009e-03, 1.99981895e-03, 1.79262599e-03, 1.99998706e-03,\n",
       "         2.00000009e-03, 1.99999916e-03],\n",
       "        [2.00000009e-03, 1.99942174e-03, 1.57384085e-03, 1.99997076e-03,\n",
       "         2.00000009e-03, 1.99999870e-03],\n",
       "        [2.00000009e-03, 1.99956470e-03, 1.65852287e-03, 1.99992000e-03,\n",
       "         2.00000009e-03, 1.99999986e-03],\n",
       "        ...,\n",
       "        [2.00000009e-03, 1.99999916e-03, 1.96820986e-03, 2.00000009e-03,\n",
       "         2.00000009e-03, 2.00000009e-03],\n",
       "        [2.00000009e-03, 1.99999963e-03, 1.97622948e-03, 2.00000009e-03,\n",
       "         2.00000009e-03, 2.00000009e-03],\n",
       "        [2.00000009e-03, 1.99999986e-03, 1.98964938e-03, 2.00000009e-03,\n",
       "         2.00000009e-03, 2.00000009e-03]]], dtype=float32)"
      ]
     },
     "execution_count": 306,
     "metadata": {},
     "output_type": "execute_result"
    }
   ],
   "source": [
    "#view the theta\n",
    "samples[\"theta\"]"
   ]
  },
  {
   "cell_type": "code",
   "execution_count": null,
   "metadata": {
    "colab": {
     "base_uri": "https://localhost:8080/"
    },
    "id": "jZAE96PymKlP",
    "outputId": "f62ea8b2-bf71-4f8f-96eb-217b161b347b"
   },
   "outputs": [
    {
     "name": "stdout",
     "output_type": "stream",
     "text": [
      "Average ESS for all aggGP effects : 4\n",
      "Average ESS for all aggGP-low effects : 4\n",
      "Max r_hat for all aggGP-low : 1.8899999856948853\n",
      "Average ESS for all aggGP-high effects : 4\n",
      "Max r_hat for all aggGP-high : 1.8799999952316284\n",
      "kernel_length R-hat : 1.0199999809265137\n",
      "kernel_var R-hat : 1.1299999952316284\n"
     ]
    }
   ],
   "source": [
    "#assess the R hat, ESS etc.,\n",
    "n_lo = df_lo.shape[0]\n",
    "n_hi = df_hi.shape[0]\n",
    "\n",
    "ss = numpyro.diagnostics.summary(samples)\n",
    "r = np.mean(ss[\"gp_aggr\"][\"n_eff\"])\n",
    "print(f\"Average ESS for all aggGP effects : {round(r)}\")\n",
    "\n",
    "ess_lo = np.mean(ss[\"gp_aggr\"][\"n_eff\"][0:n_lo])\n",
    "r_hat_lo = np.max(ss[\"gp_aggr\"][\"r_hat\"][0:n_lo])\n",
    "\n",
    "ess_hi = np.mean(ss[\"gp_aggr\"][\"n_eff\"][n_lo:n_lo + n_hi])\n",
    "r_hat_hi = np.max(ss[\"gp_aggr\"][\"r_hat\"][n_lo : n_lo + n_hi])\n",
    "\n",
    "print(f\"Average ESS for all aggGP-low effects : {round(ess_lo)}\")\n",
    "print(f\"Max r_hat for all aggGP-low : {round(r_hat_lo,2)}\")\n",
    "\n",
    "print(f\"Average ESS for all aggGP-high effects : {round(ess_hi)}\")\n",
    "print(f\"Max r_hat for all aggGP-high : {round(r_hat_hi,2)}\")\n",
    "\n",
    "print(f\"kernel_length R-hat : {round(ss['kernel_length']['r_hat'], 2)}\")\n",
    "print(f\"kernel_var R-hat : {round(ss['kernel_var']['r_hat'],2)}\")"
   ]
  },
  {
   "cell_type": "code",
   "execution_count": null,
   "metadata": {
    "colab": {
     "base_uri": "https://localhost:8080/"
    },
    "id": "IwWHLugpnWth",
    "outputId": "1fe5a450-161d-4ef1-b490-96532a5b8a6e"
   },
   "outputs": [
    {
     "name": "stdout",
     "output_type": "stream",
     "text": [
      "                                                            mean  \\\n",
      "b0                                                     -5.273966   \n",
      "b_hdi                                                  -0.015644   \n",
      "b_pop_density                                           -0.00392   \n",
      "b_urban                                                 -0.01389   \n",
      "f              [-1.3095622, -1.3197105, -1.328141, -1.3350198...   \n",
      "gp_aggr        [-77.726845, -13.643797, -6.86363, -16.284323,...   \n",
      "gp_aggr_hi     [-13.643797, -6.86363, -16.284323, -21.795557,...   \n",
      "gp_aggr_lo                                           [-77.72689]   \n",
      "kernel_length                                           1.443275   \n",
      "kernel_var                                              1.315241   \n",
      "lp             [72.48376, 8.401657, 1.6224637, 11.04152, 16.5...   \n",
      "theta          [0.0019998879, 0.0016090943, 0.0010332006, 0.0...   \n",
      "\n",
      "                                                             std  \\\n",
      "b0                                                      0.500883   \n",
      "b_hdi                                                   0.328678   \n",
      "b_pop_density                                           0.323568   \n",
      "b_urban                                                  0.31689   \n",
      "f              [1.0323722, 1.030395, 1.0286762, 1.027821, 1.0...   \n",
      "gp_aggr        [58.709618, 10.2894125, 5.1801906, 12.383544, ...   \n",
      "gp_aggr_hi     [10.2894125, 5.1801906, 12.383544, 16.650627, ...   \n",
      "gp_aggr_lo                                           [58.709618]   \n",
      "kernel_length                                           1.125939   \n",
      "kernel_var                                               0.72102   \n",
      "lp             [58.684425, 10.285902, 5.2093945, 12.380423, 1...   \n",
      "theta          [1.7085249e-07, 0.00063130993, 0.00078864617, ...   \n",
      "\n",
      "                                                          median  \\\n",
      "b0                                                     -5.289487   \n",
      "b_hdi                                                  -0.010632   \n",
      "b_pop_density                                           0.000588   \n",
      "b_urban                                                -0.011215   \n",
      "f              [-1.0153878, -1.0205969, -1.0281106, -1.027882...   \n",
      "gp_aggr        [-57.625008, -10.268324, -5.0772095, -12.19820...   \n",
      "gp_aggr_hi     [-10.268324, -5.0772095, -12.198202, -16.25591...   \n",
      "gp_aggr_lo                                          [-57.625008]   \n",
      "kernel_length                                           1.116015   \n",
      "kernel_var                                              1.166623   \n",
      "lp             [52.533752, 4.8731804, -0.12697606, 7.02744, 1...   \n",
      "theta          [0.002, 0.0019848181, 0.0009365971, 0.00199822...   \n",
      "\n",
      "                                                            5.0%  \\\n",
      "b0                                                     -6.086255   \n",
      "b_hdi                                                  -0.537406   \n",
      "b_pop_density                                          -0.523859   \n",
      "b_urban                                                -0.570844   \n",
      "f              [-3.0504136, -3.1315887, -3.0888476, -3.084175...   \n",
      "gp_aggr        [-172.84258, -30.33391, -15.399757, -36.656654...   \n",
      "gp_aggr_hi     [-30.33391, -15.399757, -36.656654, -49.1152, ...   \n",
      "gp_aggr_lo                                          [-172.84258]   \n",
      "kernel_length                                            0.31639   \n",
      "kernel_var                                              0.374487   \n",
      "lp             [6.9777856, -3.8312116, -4.4377813, -3.6069393...   \n",
      "theta          [0.0019999999, 0.0003378229, 6.3922336e-05, 0....   \n",
      "\n",
      "                                                           95.0%  \\\n",
      "b0                                                       -4.4295   \n",
      "b_hdi                                                   0.524105   \n",
      "b_pop_density                                            0.52788   \n",
      "b_urban                                                 0.476421   \n",
      "f              [0.028688932, -0.08359185, -0.060129438, -0.07...   \n",
      "gp_aggr        [-12.399221, -1.7196411, -1.2431812, -1.791272...   \n",
      "gp_aggr_hi     [-1.7196411, -1.2431812, -1.7912724, -3.114389...   \n",
      "gp_aggr_lo                                          [-12.399221]   \n",
      "kernel_length                                            2.69042   \n",
      "kernel_var                                              2.312886   \n",
      "lp             [167.43037, 25.526379, 10.757592, 31.915405, 4...   \n",
      "theta                 [0.002, 0.002, 0.002, 0.002, 0.002, 0.002]   \n",
      "\n",
      "                                                           n_eff  \\\n",
      "b0                                                    838.557421   \n",
      "b_hdi                                                 422.842757   \n",
      "b_pop_density                                         579.223025   \n",
      "b_urban                                               615.239929   \n",
      "f              [4.058210740568153, 3.9995577991356637, 3.9553...   \n",
      "gp_aggr        [3.7538487227572146, 3.774750097113043, 3.7592...   \n",
      "gp_aggr_hi     [3.774750097113043, 3.7592444866693313, 3.8087...   \n",
      "gp_aggr_lo                                   [3.753846837518548]   \n",
      "kernel_length                                         154.558136   \n",
      "kernel_var                                             12.955512   \n",
      "lp             [3.750558006415314, 3.7689867777993387, 3.7877...   \n",
      "theta          [45.601797769250794, 37.30467247107506, 5.6507...   \n",
      "\n",
      "                                                           r_hat  \n",
      "b0                                                      1.003454  \n",
      "b_hdi                                                   1.004199  \n",
      "b_pop_density                                           1.006419  \n",
      "b_urban                                                 1.002049  \n",
      "f              [1.7215564, 1.7456144, 1.7641822, 1.7793635, 1...  \n",
      "gp_aggr        [1.8873538, 1.8545574, 1.8814092, 1.8682775, 1...  \n",
      "gp_aggr_hi     [1.8545574, 1.8814092, 1.8682775, 1.8737624, 1...  \n",
      "gp_aggr_lo                                           [1.8873553]  \n",
      "kernel_length                                           1.022708  \n",
      "kernel_var                                              1.130448  \n",
      "lp             [1.8884516, 1.850557, 1.8460133, 1.8669435, 1....  \n",
      "theta          [1.0116434, 1.080394, 1.3190975, 1.0750866, 1....  \n"
     ]
    }
   ],
   "source": [
    "# Convert summary stats to a DataFrame for better readability\n",
    "df_summary = pd.DataFrame.from_dict(ss, orient=\"index\")\n",
    "print(df_summary)"
   ]
  },
  {
   "cell_type": "code",
   "execution_count": null,
   "metadata": {
    "colab": {
     "base_uri": "https://localhost:8080/",
     "height": 506
    },
    "id": "90XDSwaCnmnp",
    "outputId": "37dd671a-bf23-4b64-8d82-1e6be577bd4c"
   },
   "outputs": [
    {
     "data": {
      "text/plain": [
       "array([[<Axes: title={'center': 'kernel_var'}>,\n",
       "        <Axes: title={'center': 'kernel_var'}>]], dtype=object)"
      ]
     },
     "execution_count": 309,
     "metadata": {},
     "output_type": "execute_result"
    },
    {
     "data": {
      "image/png": "[encoded data removed]",
      "text/plain": [
       "<Figure size 1200x200 with 2 Axes>"
      ]
     },
     "metadata": {},
     "output_type": "display_data"
    },
    {
     "data": {
      "image/png": "[encoded data removed]",
      "text/plain": [
       "<Figure size 1200x200 with 2 Axes>"
      ]
     },
     "metadata": {},
     "output_type": "display_data"
    }
   ],
   "source": [
    "# Convert manually combined samples into an ArviZ InferenceData object\n",
    "case_samples_az_gp = az.from_dict(posterior=samples)\n",
    "\n",
    "# Plot trace plots for kernel_length and kernel_var\n",
    "az.plot_trace(case_samples_az_gp, var_names=[\"kernel_length\"])\n",
    "az.plot_trace(case_samples_az_gp, var_names=[\"kernel_var\"])"
   ]
  },
  {
   "cell_type": "markdown",
   "metadata": {
    "id": "EBWNi9gBrYnn"
   },
   "source": [
    "### Calculate and append observed and gp-estimated theta"
   ]
  },
  {
   "cell_type": "code",
   "execution_count": null,
   "metadata": {
    "colab": {
     "base_uri": "https://localhost:8080/"
    },
    "id": "LkssrPezsA0o",
    "outputId": "ff4ef741-1cb7-43a9-d8a7-63925a4623df"
   },
   "outputs": [
    {
     "data": {
      "text/plain": [
       "(4, 2000, 6)"
      ]
     },
     "execution_count": 310,
     "metadata": {},
     "output_type": "execute_result"
    }
   ],
   "source": [
    "samples[\"theta\"].shape"
   ]
  },
  {
   "cell_type": "code",
   "execution_count": null,
   "metadata": {
    "id": "3v7wGkjgqIyc"
   },
   "outputs": [],
   "source": [
    "theta_mean_gp = samples[\"theta\"].mean(axis = (0, 1))\n",
    "#theta_mean_gp_scalar = theta_mean_gp.mean(axis=1)  # now shape: (n_obs,)\n",
    "\n",
    "bci_gp_25 = np.quantile(samples[\"theta\"],0.25,axis = (0, 1))\n",
    "bci_gp_75 = np.quantile(samples[\"theta\"],0.75, axis = (0, 1))\n",
    "\n",
    "# Slice IQR values to match low-res and high-res\n",
    "bci_lo_25 = bci_gp_25[:n_lo]\n",
    "bci_lo_75 = bci_gp_75[:n_lo]\n",
    "\n",
    "bci_hi_25 = bci_gp_25[n_lo:n_lo + n_hi]\n",
    "bci_hi_75 = bci_gp_75[n_lo:n_lo + n_hi]\n",
    "\n",
    "\n",
    "df_lo[\"obs_prev\"] = df_lo[\"Cases\"] / df_lo[\"Population\"]\n",
    "df_hi[\"obs_prev\"] = df_hi[\"Cases\"] / df_hi[\"Population\"]\n",
    "\n",
    "df_lo[\"theta_gp\"] = theta_mean_gp[0:n_lo]\n",
    "df_hi[\"theta_gp\"] = theta_mean_gp[n_lo:n_lo + n_hi]\n",
    "\n",
    "theta_obs_lo = df_lo[\"obs_prev\"]\n",
    "theta_gp_est_lo = df_lo[\"theta_gp\"]\n",
    "theta_obs_hi = df_hi[\"obs_prev\"]\n",
    "theta_gp_est_hi = df_hi[\"theta_gp\"]\n",
    "\n",
    "max_val_lo = np.max(np.concatenate([theta_obs_lo.values, theta_gp_est_lo.values]))\n",
    "min_val_lo = np.min(np.concatenate([theta_obs_lo.values, theta_gp_est_lo.values]))\n",
    "\n",
    "max_val_hi = np.max(np.concatenate([theta_obs_hi.values, theta_gp_est_hi.values]))\n",
    "min_val_hi = np.min(np.concatenate([theta_obs_hi.values, theta_gp_est_hi.values]))"
   ]
  },
  {
   "cell_type": "code",
   "execution_count": null,
   "metadata": {},
   "outputs": [
    {
     "name": "stdout",
     "output_type": "stream",
     "text": [
      "3     0.001609\n",
      "7     0.001033\n",
      "11    0.001701\n",
      "15    0.001831\n",
      "19    0.001785\n",
      "Name: theta_gp, dtype: float32\n"
     ]
    }
   ],
   "source": [
    "print(df_hi[\"theta_gp\"])"
   ]
  },
  {
   "cell_type": "code",
   "execution_count": null,
   "metadata": {},
   "outputs": [
    {
     "name": "stdout",
     "output_type": "stream",
     "text": [
      "1.2442355959018745\n"
     ]
    }
   ],
   "source": [
    "# Compute average observed prevalence for low-res districts\n",
    "mean_obs_prev_hi = theta_obs_hi.mean()\n",
    "\n",
    "# Compute average predicted prevalence (before scaling) for low-res districts\n",
    "mean_pred_prev_hi = theta_gp_est_hi.mean()\n",
    "\n",
    "# Compute scaling factor to calibrate predictions\n",
    "theta_scaling_factor = mean_obs_prev_hi / mean_pred_prev_hi\n",
    "print(theta_scaling_factor)\n"
   ]
  },
  {
   "cell_type": "code",
   "execution_count": null,
   "metadata": {},
   "outputs": [
    {
     "name": "stdout",
     "output_type": "stream",
     "text": [
      "2.5953271591561736e-07\n",
      "0.00038882015408340685\n",
      "19.27379562165545\n",
      "Spearman correlation aggVAE: 0.0\n",
      "p-value: aggVAE 1.0\n"
     ]
    }
   ],
   "source": [
    "from sklearn.metrics import mean_squared_error, mean_absolute_error\n",
    "# High incidence districts\n",
    "rmse_hi = mean_squared_error(theta_obs_hi, theta_gp_est_hi)\n",
    "mae_hi = mean_absolute_error(theta_obs_hi, theta_gp_est_hi)\n",
    "mae_pct_hi = 100 * np.mean(np.abs(theta_obs_hi - theta_gp_est_hi) / theta_obs_hi)\n",
    "\n",
    "from scipy.stats import spearmanr\n",
    "# Spearman correlation\n",
    "corr, p_value = spearmanr(theta_obs_hi, theta_gp_est_hi)\n",
    "\n",
    "print(rmse_hi)\n",
    "print(mae_hi)\n",
    "print(mae_pct_hi)\n",
    "print(\"Spearman correlation aggVAE:\", corr)\n",
    "print(\"p-value: aggVAE\", p_value)"
   ]
  },
  {
   "cell_type": "markdown",
   "metadata": {
    "id": "565SkR5Rq72t"
   },
   "source": [
    "# Plot the map"
   ]
  },
  {
   "cell_type": "markdown",
   "metadata": {
    "id": "BD_7w9ZbUryB"
   },
   "source": [
    "## high-res"
   ]
  },
  {
   "cell_type": "code",
   "execution_count": null,
   "metadata": {
    "id": "ZU5isbe8Ut1O"
   },
   "outputs": [
    {
     "data": {
      "image/png": "[encoded data removed]",
      "text/plain": [
       "<Figure size 1200x600 with 4 Axes>"
      ]
     },
     "metadata": {},
     "output_type": "display_data"
    },
    {
     "data": {
      "text/plain": [
       "<Figure size 800x600 with 0 Axes>"
      ]
     },
     "metadata": {},
     "output_type": "display_data"
    }
   ],
   "source": [
    "# Create the figure and axes\n",
    "fig, ax = plt.subplots(1, 2, figsize=(12, 6))\n",
    "\n",
    "# Plot observed prevalence on the map\n",
    "df_hi.plot(\n",
    "    column=\"obs_prev\",  # Column to use for color\n",
    "    cmap=\"viridis\",  # Colormap\n",
    "    vmin=min_val_hi,  # Minimum value for color scale\n",
    "    vmax=max_val_hi,  # Maximum value for color scale\n",
    "    legend=True,  # Show legend\n",
    "    ax=ax[0],  # Plot on the first subplot\n",
    ")\n",
    "ax[0].set_title(\"High-Res Observed Prevalence\")\n",
    "\n",
    "# Plot estimated prevalence on the map\n",
    "df_hi.plot(\n",
    "    column=\"theta_gp\",  # Column to use for color\n",
    "    cmap=\"viridis\",  # Colormap\n",
    "    vmin=min_val_hi,  # Minimum value for color scale\n",
    "    vmax=max_val_hi,  # Maximum value for color scale\n",
    "    legend=True,  # Show legend\n",
    "    ax=ax[1],  # Plot on the second subplot\n",
    ")\n",
    "ax[1].set_title(\"High-Res Estimated Prevalence (θ)\")\n",
    "\n",
    "# Save the plot\n",
    "plt.savefig(\"observed_vs_estimated_prevalence_hi_kernelvar1e-5_standardised.png\")  # Save as PNG\n",
    "# Or save as PDF:\n",
    "# plt.savefig(\"observed_vs_estimated_prevalence.pdf\")\n",
    "\n",
    "plt.tight_layout()\n",
    "plt.show()\n",
    "\n",
    "#save the plot\n",
    "plt.figure(figsize=(8, 6))\n",
    "\n",
    "plt.show()"
   ]
  },
  {
   "cell_type": "code",
   "execution_count": null,
   "metadata": {
    "id": "ogViomPZUpkM"
   },
   "outputs": [],
   "source": [
    "#save df\n",
    "df_hi.to_file(\"../data/df_with_gp_preds_highres.shp\")\n",
    "df_hi.to_csv(\"../data/df_with_gp_preds_highres.csv\")"
   ]
  }
 ],
 "metadata": {
  "accelerator": "GPU",
  "colab": {
   "gpuType": "T4",
   "machine_shape": "hm",
   "provenance": []
  },
  "kernelspec": {
   "display_name": "Python 3",
   "language": "python",
   "name": "python3"
  },
  "language_info": {
   "codemirror_mode": {
    "name": "ipython",
    "version": 3
   },
   "file_extension": ".py",
   "mimetype": "text/x-python",
   "name": "python",
   "nbconvert_exporter": "python",
   "pygments_lexer": "ipython3",
   "version": "3.13.1"
  }
 },
 "nbformat": 4,
 "nbformat_minor": 4
}
