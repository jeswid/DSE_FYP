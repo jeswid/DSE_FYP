{
 "cells": [
  {
   "cell_type": "code",
   "execution_count": 436,
   "metadata": {
    "id": "1wXMNry7Hkyp"
   },
   "outputs": [],
   "source": [
    "import os\n",
    "import numpy as np\n",
    "import pandas as pd\n",
    "import geopandas as gpd\n",
    "\n",
    "import time\n",
    "\n",
    "import jax\n",
    "import jax.numpy as jnp\n",
    "from jax import random\n",
    "import numpyro\n",
    "import numpyro.distributions as dist\n",
    "from numpyro.infer import NUTS, MCMC\n",
    "from numpyro.infer import SVI, Trace_ELBO, Predictive\n",
    "import numpyro.diagnostics\n",
    "\n",
    "from termcolor import colored\n",
    "import matplotlib.pyplot as plt\n",
    "\n",
    "from pathlib import Path\n",
    "\n",
    "import dill\n",
    "import pickle\n",
    "import arviz as az\n",
    "\n",
    "from sklearn.preprocessing import QuantileTransformer"
   ]
  },
  {
   "cell_type": "markdown",
   "metadata": {
    "id": "vZReN7eiHoiS"
   },
   "source": [
    "# GP Kernel Function"
   ]
  },
  {
   "cell_type": "code",
   "execution_count": 437,
   "metadata": {
    "id": "u-WVCaHGHru2"
   },
   "outputs": [],
   "source": [
    "def dist_euclid(x, z):\n",
    "    \"\"\"\n",
    "    Computes Eucledian Distance Between Regions. This function is used by\n",
    "    exp_sq_kernel function (kernel function for gaussian processes)\n",
    "    \"\"\"\n",
    "    x = jnp.array(x) # (ngrid_pts, lat/lon) <- i.e (7304,2)\n",
    "    z = jnp.array(z) # (ngrid_pts, lat/lon) <- i.e (7304,2)\n",
    "    if len(x.shape)==1:\n",
    "        x = x.reshape(x.shape[0], 1) #(2618,) -> (7304,1)\n",
    "    if len(z.shape)==1:\n",
    "        z = x.reshape(x.shape[0], 1) #(2618,) -> (7304,1)\n",
    "    n_x, m = x.shape # 7304 , 2\n",
    "    n_z, m_z = z.shape # 7304 , 2\n",
    "    assert m == m_z\n",
    "    delta = jnp.zeros((n_x,n_z)) #(ngrid_pts,ngrid_pts) <- i.e (7304,7304)\n",
    "    for d in jnp.arange(m):\n",
    "        x_d = x[:,d] #(ngrid_pts-lat/lon,) <- (7304,)\n",
    "        z_d = z[:,d] #(ngrid_pts-lat/lon,) <- (7304,)\n",
    "        delta += (x_d[:,jnp.newaxis] - z_d)**2 # (7304,7304)\n",
    "\n",
    "    return jnp.sqrt(delta) #(7304,7304)"
   ]
  },
  {
   "cell_type": "code",
   "execution_count": 438,
   "metadata": {
    "id": "gekmJsOwHumV"
   },
   "outputs": [],
   "source": [
    "def exp_sq_kernel(x, z, var, length, noise, jitter=1.0e-4):\n",
    "    dist = dist_euclid(x, z) #(7304, 7304)\n",
    "    deltaXsq = jnp.power(dist/ length, 2.0)\n",
    "    k = var * jnp.exp(-0.5 * deltaXsq)\n",
    "    k += (noise + jitter) * jnp.eye(x.shape[0])\n",
    "    return k # (ngrid_pts, ngrid_pts) <- (7304,7304)\n"
   ]
  },
  {
   "cell_type": "markdown",
   "metadata": {
    "id": "-iOiO_1NHwNz"
   },
   "source": [
    "# Aggregation Functions"
   ]
  },
  {
   "cell_type": "code",
   "execution_count": 439,
   "metadata": {
    "id": "xgPKoYAkHxrl"
   },
   "outputs": [],
   "source": [
    "def M_g(M, g):\n",
    "    '''\n",
    "    - $M$ is a matrix with binary entries $m_{ij},$ showing whether point $j$ is in polygon $i$\n",
    "    - $g$ is a vector of GP draws over grid\n",
    "    - $maltmul(M, g)$ gives a vector of sums over each polygon\n",
    "    '''\n",
    "    M = jnp.array(M)\n",
    "    g = jnp.array(g).T\n",
    "    return(jnp.matmul(M, g))"
   ]
  },
  {
   "cell_type": "markdown",
   "metadata": {
    "id": "4qNASOC3HzmW"
   },
   "source": [
    "# Aggregated Prevalence Model - must edit this to include HDI, population density\n",
    "\n"
   ]
  },
  {
   "cell_type": "code",
   "execution_count": 440,
   "metadata": {
    "id": "SQPuzilzH1ih"
   },
   "outputs": [],
   "source": [
    "def prev_model_gp_aggr(args):\n",
    "    \"\"\"Dengue prevalence model with a Gaussian Process\"\"\"\n",
    "\n",
    "    x = args[\"x\"]  # Spatial grid points: (num_grid_points, 2)\n",
    "    gp_kernel = args[\"gp_kernel\"]  # Gaussian Process kernel\n",
    "    noise = args[\"noise\"]\n",
    "    jitter = args[\"jitter\"]\n",
    "\n",
    "    #covariates\n",
    "    pop_density = args[\"pop_density\"]\n",
    "    hdi = args[\"hdi\"]\n",
    "    urban = args['urban']\n",
    "\n",
    "    M_lo = args[\"M_lo\"]  # (4, num_grid_points) aggregation matrix\n",
    "    M_hi = args[\"M_hi\"]  # (24, num_grid_points) aggregation matrix\n",
    "\n",
    "    total_cases_lo = args[\"total_cases_lo\"] #cos we wanna predict total cases district-wise, so only feed total cases for low res data\n",
    "\n",
    "    total_population_lo = args[\"total_population_lo\"]\n",
    "    total_population_hi = args[\"total_population_hi\"]\n",
    "\n",
    "    #aggregate total populations low and high\n",
    "    total_population = jnp.concatenate([total_population_lo,total_population_hi], axis = 0)\n",
    "\n",
    "    #add NaN values to total_cases to accommodate for unavailable total cases data for high resolution (that we want to predict)\n",
    "    total_cases = jnp.pad(total_cases_lo, (0, M_hi.shape[0]),constant_values = 0.0) #[3762.  484. ... , 0,0,0]\n",
    "    total_cases = jnp.where(total_cases == 0, jnp.nan, total_cases)# [3762.  484. ... , nan,nan,nan]\n",
    "    total_cases_mask = ~jnp.isnan(total_cases) # [True, True, ...., False, False, False]\n",
    "\n",
    "    # GP hyperparameters\n",
    "    kernel_length = numpyro.sample(\"kernel_length\", args[\"kernel_length\"])\n",
    "    kernel_var = numpyro.sample(\"kernel_var\", args[\"kernel_var\"])\n",
    "\n",
    "    # GP Kernel and Sample\n",
    "    k = gp_kernel(x, x, kernel_var, kernel_length, noise, jitter)\n",
    "    f = numpyro.sample(\"f\", dist.MultivariateNormal(loc=jnp.zeros(x.shape[0]), covariance_matrix=k))  # (num_grid_points,)\n",
    "\n",
    "    # Aggregate GP values to district level\n",
    "    gp_aggr_lo = numpyro.deterministic(\"gp_aggr_lo\", M_g(M_lo, f))  # (4,)\n",
    "    gp_aggr_hi = numpyro.deterministic(\"gp_aggr_hi\", M_g(M_hi, f))  # (24,)\n",
    "\n",
    "    # Now we need to aggregate both. This step is important since even though we only\n",
    "    # show the model the low resolution data, to produce high resolution data it\n",
    "    # needs th GP realizations for those regions\n",
    "    gp_aggr = numpyro.deterministic(\"gp_aggr\", jnp.concatenate([gp_aggr_lo,gp_aggr_hi])) #(28,)\n",
    "\n",
    "    # Fixed effects\n",
    "    b0 = numpyro.sample(\"b0\", dist.Normal(0, 1))  # Intercept\n",
    "    b_pop_density = numpyro.sample(\"b_pop_density\", dist.Normal(0, 1))  # Effect of population density\n",
    "    b_hdi = numpyro.sample(\"b_hdi\", dist.Normal(0, 1))  # Effect of HDI\n",
    "    b_urban = numpyro.sample(\"b_urban\", dist.Normal(0, 1))  # Effect of urbanicity\n",
    "\n",
    "    #standardise all the vars\n",
    "    pop_density = (pop_density - jnp.mean(pop_density)) / jnp.std(pop_density)\n",
    "    hdi = (hdi - jnp.mean(hdi)) / jnp.std(hdi)\n",
    "    urban = (urban - jnp.mean(urban)) / jnp.std(urban)\n",
    "\n",
    "    # Linear predictor\n",
    "    lp = b0 + gp_aggr + b_pop_density * pop_density + b_hdi * hdi + b_urban * urban  # (num_districts,)\n",
    "\n",
    "    # Prevalence probability\n",
    "    theta = numpyro.deterministic(\"theta\", jax.nn.sigmoid(lp) * 2e-3)  # (num_districts,)\n",
    "\n",
    "    # Binomial likelihood\n",
    "    with numpyro.handlers.mask(mask=total_cases_mask):\n",
    "        observed_cases = numpyro.sample(\n",
    "            \"observed_cases\",\n",
    "            dist.Binomial(total_count=total_population, probs=theta),\n",
    "            obs=total_cases)\n",
    "\n",
    "    return observed_cases\n"
   ]
  },
  {
   "cell_type": "markdown",
   "metadata": {
    "id": "YbDDNakYIbYe"
   },
   "source": [
    "# Load Data"
   ]
  },
  {
   "cell_type": "code",
   "execution_count": 441,
   "metadata": {
    "id": "3_l-ejoAIc2h"
   },
   "outputs": [],
   "source": [
    "# Lat/Lon Values of artificial grid\n",
    "x = np.load(\"../data/lat_lon_x_jkt.npy\")\n",
    "\n",
    "# combined regional data\n",
    "pol_pts_jkt_lo = np.load(\"../data/pol_pts_jkt_lo.npy\")\n",
    "pt_which_pol_jkt_lo = np.load(\"../data/pt_which_pol_jkt_lo.npy\")\n",
    "pol_pts_jkt_hi = np.load(\"../data/pol_pts_jkt_hi.npy\")\n",
    "pt_which_pol_jkt_hi = np.load(\"../data/pt_which_pol_jkt_hi.npy\")\n",
    "\n",
    "#combine the dataframes\n",
    "df_lo = gpd.read_file(\"../data/jkt_prov.shp\")\n",
    "df_hi = gpd.read_file(\"../data/jkt_dist.shp\")"
   ]
  },
  {
   "cell_type": "markdown",
   "metadata": {
    "id": "0cE5BfS4I5oZ"
   },
   "source": [
    "# Vars needed to be changed (change according to the agg prevalence model parameters)"
   ]
  },
  {
   "cell_type": "code",
   "execution_count": 442,
   "metadata": {
    "id": "ivFcMASHI8W8"
   },
   "outputs": [],
   "source": [
    "M_lo = jnp.array(pol_pts_jkt_lo)\n",
    "M_hi = jnp.array(pol_pts_jkt_hi)\n",
    "cases_lo = jnp.array(df_lo[\"Cases\"])\n",
    "pop_lo = jnp.array(df_lo[\"Population\"])\n",
    "pop_hi = jnp.array(df_hi[\"Population\"])"
   ]
  },
  {
   "cell_type": "code",
   "execution_count": 443,
   "metadata": {
    "colab": {
     "base_uri": "https://localhost:8080/"
    },
    "id": "j79GvFnGGlol",
    "outputId": "b4b37b17-a256-49f0-e2b5-dc453c9232f4"
   },
   "outputs": [
    {
     "name": "stdout",
     "output_type": "stream",
     "text": [
      "(4, 100)\n",
      "(20, 100)\n",
      "(4,)\n",
      "(4,)\n",
      "(20,)\n",
      "(100, 2)\n"
     ]
    }
   ],
   "source": [
    "#print the shape of all the vars above\n",
    "print(M_lo.shape)\n",
    "print(M_hi.shape)\n",
    "print(cases_lo.shape)\n",
    "print(pop_lo.shape)\n",
    "print(pop_hi.shape)\n",
    "print(x.shape)"
   ]
  },
  {
   "cell_type": "markdown",
   "metadata": {
    "id": "ZWzo1haaJQwA"
   },
   "source": [
    "# Agg GP Model"
   ]
  },
  {
   "cell_type": "code",
   "execution_count": 444,
   "metadata": {},
   "outputs": [
    {
     "name": "stderr",
     "output_type": "stream",
     "text": [
      "C:\\Users\\jessi\\AppData\\Roaming\\Python\\Python313\\site-packages\\sklearn\\preprocessing\\_data.py:2829: UserWarning: n_quantiles (1000) is greater than the total number of samples (24). n_quantiles is set to n_samples.\n",
      "  warnings.warn(\n",
      "C:\\Users\\jessi\\AppData\\Roaming\\Python\\Python313\\site-packages\\sklearn\\preprocessing\\_data.py:2829: UserWarning: n_quantiles (1000) is greater than the total number of samples (24). n_quantiles is set to n_samples.\n",
      "  warnings.warn(\n",
      "C:\\Users\\jessi\\AppData\\Roaming\\Python\\Python313\\site-packages\\sklearn\\preprocessing\\_data.py:2829: UserWarning: n_quantiles (1000) is greater than the total number of samples (24). n_quantiles is set to n_samples.\n",
      "  warnings.warn(\n"
     ]
    }
   ],
   "source": [
    "# Step 1: Convert everything to numpy arrays first (if they're not already)\n",
    "pop_lo = np.array(df_lo[\"Pop_den\"]).reshape(-1, 1)\n",
    "pop_hi = np.array(df_hi[\"Pop_den\"]).reshape(-1, 1)\n",
    "hdi_lo = np.array(df_lo[\"HDI\"]).reshape(-1, 1)\n",
    "hdi_hi = np.array(df_hi[\"HDI\"]).reshape(-1, 1)\n",
    "urban_lo = np.array(df_lo[\"urbanicity\"]).reshape(-1, 1)\n",
    "urban_hi = np.array(df_hi[\"urbanicity\"]).reshape(-1, 1)\n",
    "\n",
    "# Step 2: Concatenate low and high resolution data\n",
    "pop_all = np.concatenate([pop_lo, pop_hi], axis=0)\n",
    "hdi_all = np.concatenate([hdi_lo, hdi_hi], axis=0)\n",
    "urban_all = np.concatenate([urban_lo, urban_hi], axis=0)\n",
    "\n",
    "# Step 3: Apply QuantileTransformer on full vector (low + high)\n",
    "qt = QuantileTransformer(output_distribution='normal', random_state=42)\n",
    "\n",
    "pop_all_qt = qt.fit_transform(pop_all).squeeze()  # shape (28,)\n",
    "hdi_all_qt = qt.fit_transform(hdi_all).squeeze()\n",
    "urban_all_qt = qt.fit_transform(urban_all).squeeze()\n",
    "\n",
    "pop_lo = np.array(df_lo[\"Pop_den\"]).reshape(-1, 1)\n",
    "pop_hi = np.array(df_hi[\"Pop_den\"]).reshape(-1, 1)\n",
    "hdi_lo = np.array(df_lo[\"HDI\"]).reshape(-1, 1)\n",
    "hdi_hi = np.array(df_hi[\"HDI\"]).reshape(-1, 1)\n",
    "urban_lo = np.array(df_lo[\"urbanicity\"]).reshape(-1, 1)\n",
    "urban_hi = np.array(df_hi[\"urbanicity\"]).reshape(-1, 1)\n",
    "\n",
    "pop_all = np.concatenate([pop_lo, pop_hi], axis=0)\n",
    "hdi_all = np.concatenate([hdi_lo, hdi_hi], axis=0)\n",
    "urban_all = np.concatenate([urban_lo, urban_hi], axis=0)"
   ]
  },
  {
   "cell_type": "code",
   "execution_count": 445,
   "metadata": {},
   "outputs": [],
   "source": [
    "args = {\n",
    "        \"x\" : jnp.array(x), # Lat/lon vals of grid points # Shape (num_districts, 2)\n",
    "        \"gp_kernel\" : exp_sq_kernel,\n",
    "        \"jitter\" : 1e-4,\n",
    "        \"noise\" : 1e-4,\n",
    "        \"M_lo\" : M_lo, # Aggregation matrix # Shape (num_districts, num_districts)\n",
    "        \"M_hi\" : M_hi, # Aggregation matrix # Shape (num_districts, num_districts)\n",
    "        # GP Kernel Hyperparams\n",
    "        \"kernel_length\" : dist.InverseGamma(3, 3), #(,)\n",
    "        \"kernel_var\" : dist.HalfNormal(1e-5),\n",
    "        \"pop_density_qt\": jnp.array(pop_all_qt), # Shape (num_districts,)\n",
    "        \"hdi_qt\": jnp.array(hdi_all_qt), # Shape (num_districts, 2)\n",
    "        \"urban_qt\": jnp.array(urban_all_qt),\n",
    "        \"pop_density\": jnp.array(pop_all), # Shape (num_districts,)\n",
    "        \"hdi\": jnp.array(hdi_all), # Shape (num_districts, 2)\n",
    "        \"urban\": jnp.array(urban_all),\n",
    "        \"total_cases_lo\" : cases_lo,\n",
    "        \"total_population_lo\" : pop_lo,\n",
    "        \"total_population_hi\" : pop_hi\n",
    "}\n"
   ]
  },
  {
   "cell_type": "markdown",
   "metadata": {
    "id": "doOpZ-ltJTlb"
   },
   "source": [
    "# Run MCMC"
   ]
  },
  {
   "cell_type": "code",
   "execution_count": 446,
   "metadata": {
    "id": "0PVn1gP1JUhB"
   },
   "outputs": [],
   "source": [
    "# Base seed for reproducibility\n",
    "base_seed = 3  # Keep this fixed for full replicability\n",
    "\n",
    "\n",
    "# MCMC settings\n",
    "n_warm = 1000\n",
    "n_samples = 2000"
   ]
  },
  {
   "cell_type": "code",
   "execution_count": 447,
   "metadata": {},
   "outputs": [],
   "source": [
    "save_dir = Path.cwd().parent / \"model weights\" / \"aggGP\""
   ]
  },
  {
   "cell_type": "markdown",
   "metadata": {
    "id": "uWUOUxUeJWMC"
   },
   "source": [
    "# Save Model"
   ]
  },
  {
   "cell_type": "code",
   "execution_count": 448,
   "metadata": {
    "colab": {
     "base_uri": "https://localhost:8080/"
    },
    "id": "ZWFS6twjv8qg",
    "outputId": "5468b9d5-cbad-46f0-c4bd-08dc6f3eaef7"
   },
   "outputs": [
    {
     "name": "stdout",
     "output_type": "stream",
     "text": [
      "Starting Chain 1/4...\n"
     ]
    },
    {
     "name": "stderr",
     "output_type": "stream",
     "text": [
      "sample: 100%|██████████| 3000/3000 [00:18<00:00, 160.93it/s, 15 steps of size 2.77e-01. acc. prob=0.89]\n"
     ]
    },
    {
     "name": "stdout",
     "output_type": "stream",
     "text": [
      "18.766631364822388\n",
      "Saved Chain 1 to c:\\Users\\jessi\\Documents\\school\\y4\\s2\\DSE4101\\Individual\\FYP codes\\DSE_FYP\\simulation study\\model weights\\aggGP/aggGP_chain1_nsamples_2000_tt0min.pkl\n",
      "Starting Chain 2/4...\n"
     ]
    },
    {
     "name": "stderr",
     "output_type": "stream",
     "text": [
      "sample: 100%|██████████| 3000/3000 [00:26<00:00, 114.93it/s, 15 steps of size 2.89e-01. acc. prob=0.90]\n"
     ]
    },
    {
     "name": "stdout",
     "output_type": "stream",
     "text": [
      "26.262633323669434\n",
      "Saved Chain 2 to c:\\Users\\jessi\\Documents\\school\\y4\\s2\\DSE4101\\Individual\\FYP codes\\DSE_FYP\\simulation study\\model weights\\aggGP/aggGP_chain2_nsamples_2000_tt0min.pkl\n",
      "Starting Chain 3/4...\n"
     ]
    },
    {
     "name": "stderr",
     "output_type": "stream",
     "text": [
      "sample: 100%|██████████| 3000/3000 [00:24<00:00, 124.47it/s, 15 steps of size 2.82e-01. acc. prob=0.88]\n"
     ]
    },
    {
     "name": "stdout",
     "output_type": "stream",
     "text": [
      "24.239853620529175\n",
      "Saved Chain 3 to c:\\Users\\jessi\\Documents\\school\\y4\\s2\\DSE4101\\Individual\\FYP codes\\DSE_FYP\\simulation study\\model weights\\aggGP/aggGP_chain3_nsamples_2000_tt0min.pkl\n",
      "Starting Chain 4/4...\n"
     ]
    },
    {
     "name": "stderr",
     "output_type": "stream",
     "text": [
      "sample: 100%|██████████| 3000/3000 [00:26<00:00, 114.85it/s, 15 steps of size 3.30e-01. acc. prob=0.87]"
     ]
    },
    {
     "name": "stdout",
     "output_type": "stream",
     "text": [
      "26.25592851638794\n",
      "Saved Chain 4 to c:\\Users\\jessi\\Documents\\school\\y4\\s2\\DSE4101\\Individual\\FYP codes\\DSE_FYP\\simulation study\\model weights\\aggGP/aggGP_chain4_nsamples_2000_tt0min.pkl\n"
     ]
    },
    {
     "name": "stderr",
     "output_type": "stream",
     "text": [
      "\n"
     ]
    }
   ],
   "source": [
    "# Run MCMC with 1 chain at a time\n",
    "\n",
    "for chain_id in range(4):\n",
    "    print(f\"Starting Chain {chain_id+1}/4...\")\n",
    "\n",
    "    # Generate a unique but reproducible key for each chain\n",
    "    chain_key = jax.random.fold_in(jax.random.PRNGKey(base_seed), chain_id)\n",
    "\n",
    "    mcmc = MCMC(\n",
    "        NUTS(prev_model_gp_aggr),\n",
    "        num_warmup=n_warm,\n",
    "        num_samples=n_samples,\n",
    "        num_chains=1  # Run one chain at a time\n",
    "    )\n",
    "\n",
    "    start = time.time()\n",
    "    try:\n",
    "        mcmc.run(chain_key, args)  # Use the fixed but different seed for each chain\n",
    "        end = time.time()\n",
    "        t_elapsed = end - start\n",
    "        print(t_elapsed)\n",
    "        t_elapsed_min = round((end - start) / 60)\n",
    "\n",
    "        # Save after each successful chain\n",
    "        f_path = f\"{save_dir}/aggGP_chain{chain_id+1}_nsamples_{n_samples}_tt{t_elapsed_min}min.pkl\"\n",
    "        with open(f_path, \"wb\") as file:\n",
    "            dill.dump(mcmc, file)\n",
    "\n",
    "        print(f\"Saved Chain {chain_id+1} to {f_path}\")\n",
    "\n",
    "    except Exception as e:\n",
    "        print(f\"Error occurred in Chain {chain_id+1}: {e}\")\n",
    "        break  # Stop if an error occurs"
   ]
  },
  {
   "cell_type": "markdown",
   "metadata": {},
   "source": [
    "# Results Inference"
   ]
  },
  {
   "cell_type": "code",
   "execution_count": 449,
   "metadata": {},
   "outputs": [
    {
     "name": "stdout",
     "output_type": "stream",
     "text": [
      "Looking in: c:\\Users\\jessi\\Documents\\school\\y4\\s2\\DSE4101\\Individual\\FYP codes\\DSE_FYP\\simulation study\\model weights\\aggGP\n",
      "Loaded chain 1 from aggGP_chain1_nsamples_2000_tt0min.pkl\n",
      "Loaded chain 2 from aggGP_chain2_nsamples_2000_tt0min.pkl\n",
      "Loaded chain 3 from aggGP_chain3_nsamples_2000_tt0min.pkl\n",
      "Loaded chain 4 from aggGP_chain4_nsamples_2000_tt0min.pkl\n",
      "Successfully grouped all chains for diagnostics.\n"
     ]
    }
   ],
   "source": [
    "# Directory where chains are saved (sibling to `src`)\n",
    "model_weights_path = Path.cwd().parent / \"model weights\" / \"aggGP\"\n",
    "\n",
    "print(f\"Looking in: {model_weights_path}\")\n",
    "\n",
    "# Load all chains\n",
    "all_samples = []\n",
    "for chain_id in range(4):  # Assuming 4 chains were run\n",
    "    file_prefix = f\"aggGP_chain{chain_id+1}_nsamples_{n_samples}_tt\"\n",
    "\n",
    "    # Find all matching files\n",
    "    matching_files = sorted([\n",
    "        f.name for f in model_weights_path.iterdir()\n",
    "        if f.name.startswith(file_prefix)\n",
    "    ])\n",
    "\n",
    "    if not matching_files:\n",
    "        print(f\"Warning: No file found for chain {chain_id+1}\")\n",
    "        continue\n",
    "\n",
    "    # Load the most recent matching file\n",
    "    latest_file = model_weights_path / matching_files[-1]\n",
    "    with open(latest_file, \"rb\") as file:\n",
    "        mcmc = dill.load(file)\n",
    "\n",
    "    # Extract and store samples\n",
    "    samples = mcmc.get_samples()\n",
    "    all_samples.append(samples)\n",
    "    print(f\"Loaded chain {chain_id+1} from {latest_file.name}\")\n",
    "\n",
    "# Stack samples into (num_chains, num_samples, ...) format\n",
    "if all_samples:\n",
    "    samples_grouped = {\n",
    "        k: jnp.stack([chain[k] for chain in all_samples], axis=0)\n",
    "        for k in all_samples[0].keys()\n",
    "    }\n",
    "    print(\"Successfully grouped all chains for diagnostics.\")\n",
    "else:\n",
    "    samples_grouped = None\n",
    "    print(\"No chains loaded.\")"
   ]
  },
  {
   "cell_type": "code",
   "execution_count": 450,
   "metadata": {
    "id": "ohvACXZ2l-HP"
   },
   "outputs": [],
   "source": [
    "samples = samples_grouped"
   ]
  },
  {
   "cell_type": "code",
   "execution_count": 451,
   "metadata": {
    "colab": {
     "base_uri": "https://localhost:8080/"
    },
    "id": "l1Gj9ZQQmDr_",
    "outputId": "3879c32f-ec32-4c7b-eecb-7186e13b01e9"
   },
   "outputs": [
    {
     "data": {
      "text/plain": [
       "Array([[[[0.00199989, 0.00199989, 0.00199989, ..., 0.00199987,\n",
       "          0.00199987, 0.00199987],\n",
       "         [0.00199989, 0.00199989, 0.00199989, ..., 0.00199987,\n",
       "          0.00199987, 0.00199987],\n",
       "         [0.00199988, 0.00199988, 0.00199988, ..., 0.00199987,\n",
       "          0.00199987, 0.00199987],\n",
       "         ...,\n",
       "         [0.00199988, 0.00199988, 0.00199988, ..., 0.00199986,\n",
       "          0.00199986, 0.00199986],\n",
       "         [0.00199991, 0.00199991, 0.00199991, ..., 0.0019999 ,\n",
       "          0.0019999 , 0.0019999 ],\n",
       "         [0.00199991, 0.00199991, 0.00199991, ..., 0.0019999 ,\n",
       "          0.0019999 , 0.0019999 ]],\n",
       "\n",
       "        [[0.0019999 , 0.0019999 , 0.0019999 , ..., 0.00199988,\n",
       "          0.00199988, 0.00199988],\n",
       "         [0.00199989, 0.00199989, 0.00199989, ..., 0.00199988,\n",
       "          0.00199988, 0.00199988],\n",
       "         [0.00199988, 0.00199988, 0.00199988, ..., 0.00199986,\n",
       "          0.00199986, 0.00199986],\n",
       "         ...,\n",
       "         [0.00199989, 0.00199989, 0.00199989, ..., 0.00199987,\n",
       "          0.00199987, 0.00199987],\n",
       "         [0.0019999 , 0.0019999 , 0.0019999 , ..., 0.00199988,\n",
       "          0.00199988, 0.00199988],\n",
       "         [0.00199989, 0.00199989, 0.00199989, ..., 0.00199988,\n",
       "          0.00199988, 0.00199988]],\n",
       "\n",
       "        [[0.0019999 , 0.0019999 , 0.0019999 , ..., 0.00199988,\n",
       "          0.00199988, 0.00199988],\n",
       "         [0.00199989, 0.00199989, 0.00199989, ..., 0.00199987,\n",
       "          0.00199987, 0.00199987],\n",
       "         [0.00199988, 0.00199988, 0.00199988, ..., 0.00199985,\n",
       "          0.00199985, 0.00199985],\n",
       "         ...,\n",
       "         [0.00199986, 0.00199986, 0.00199986, ..., 0.00199983,\n",
       "          0.00199983, 0.00199983],\n",
       "         [0.00199984, 0.00199984, 0.00199984, ..., 0.00199981,\n",
       "          0.00199981, 0.00199981],\n",
       "         [0.00199983, 0.00199983, 0.00199983, ..., 0.00199979,\n",
       "          0.00199979, 0.00199979]],\n",
       "\n",
       "        ...,\n",
       "\n",
       "        [[0.00199994, 0.00199994, 0.00199994, ..., 0.0019999 ,\n",
       "          0.0019999 , 0.0019999 ],\n",
       "         [0.00199994, 0.00199994, 0.00199994, ..., 0.0019999 ,\n",
       "          0.0019999 , 0.0019999 ],\n",
       "         [0.00199994, 0.00199994, 0.00199994, ..., 0.00199989,\n",
       "          0.00199989, 0.00199989],\n",
       "         ...,\n",
       "         [0.00199994, 0.00199994, 0.00199994, ..., 0.00199989,\n",
       "          0.00199989, 0.00199989],\n",
       "         [0.00199994, 0.00199994, 0.00199994, ..., 0.00199989,\n",
       "          0.00199989, 0.00199989],\n",
       "         [0.00199994, 0.00199994, 0.00199994, ..., 0.00199989,\n",
       "          0.00199989, 0.00199989]],\n",
       "\n",
       "        [[0.00199991, 0.00199991, 0.00199991, ..., 0.00199986,\n",
       "          0.00199986, 0.00199986],\n",
       "         [0.0019999 , 0.0019999 , 0.0019999 , ..., 0.00199985,\n",
       "          0.00199985, 0.00199985],\n",
       "         [0.00199988, 0.00199988, 0.00199988, ..., 0.00199983,\n",
       "          0.00199983, 0.00199983],\n",
       "         ...,\n",
       "         [0.00199997, 0.00199997, 0.00199997, ..., 0.00199996,\n",
       "          0.00199996, 0.00199996],\n",
       "         [0.00199997, 0.00199997, 0.00199997, ..., 0.00199996,\n",
       "          0.00199996, 0.00199996],\n",
       "         [0.00199997, 0.00199997, 0.00199997, ..., 0.00199995,\n",
       "          0.00199995, 0.00199995]],\n",
       "\n",
       "        [[0.00199986, 0.00199986, 0.00199986, ..., 0.00199979,\n",
       "          0.00199979, 0.00199979],\n",
       "         [0.00199986, 0.00199986, 0.00199986, ..., 0.0019998 ,\n",
       "          0.0019998 , 0.0019998 ],\n",
       "         [0.00199988, 0.00199988, 0.00199988, ..., 0.00199982,\n",
       "          0.00199982, 0.00199982],\n",
       "         ...,\n",
       "         [0.00199994, 0.00199994, 0.00199994, ..., 0.00199992,\n",
       "          0.00199992, 0.00199992],\n",
       "         [0.00199994, 0.00199994, 0.00199994, ..., 0.00199991,\n",
       "          0.00199991, 0.00199991],\n",
       "         [0.00199994, 0.00199994, 0.00199994, ..., 0.00199992,\n",
       "          0.00199992, 0.00199992]]],\n",
       "\n",
       "\n",
       "       [[[0.00199992, 0.00199992, 0.00199992, ..., 0.00199987,\n",
       "          0.00199987, 0.00199987],\n",
       "         [0.00199992, 0.00199992, 0.00199992, ..., 0.00199987,\n",
       "          0.00199987, 0.00199987],\n",
       "         [0.00199992, 0.00199992, 0.00199992, ..., 0.00199986,\n",
       "          0.00199986, 0.00199986],\n",
       "         ...,\n",
       "         [0.00199995, 0.00199995, 0.00199995, ..., 0.00199992,\n",
       "          0.00199992, 0.00199992],\n",
       "         [0.00199997, 0.00199997, 0.00199997, ..., 0.00199994,\n",
       "          0.00199994, 0.00199994],\n",
       "         [0.00199997, 0.00199997, 0.00199997, ..., 0.00199994,\n",
       "          0.00199994, 0.00199994]],\n",
       "\n",
       "        [[0.00199992, 0.00199992, 0.00199992, ..., 0.00199988,\n",
       "          0.00199988, 0.00199988],\n",
       "         [0.00199992, 0.00199992, 0.00199992, ..., 0.00199986,\n",
       "          0.00199986, 0.00199986],\n",
       "         [0.0019999 , 0.0019999 , 0.0019999 , ..., 0.00199983,\n",
       "          0.00199983, 0.00199983],\n",
       "         ...,\n",
       "         [0.00199999, 0.00199999, 0.00199999, ..., 0.00199998,\n",
       "          0.00199998, 0.00199998],\n",
       "         [0.00199998, 0.00199998, 0.00199998, ..., 0.00199998,\n",
       "          0.00199998, 0.00199998],\n",
       "         [0.00199998, 0.00199998, 0.00199998, ..., 0.00199997,\n",
       "          0.00199997, 0.00199997]],\n",
       "\n",
       "        [[0.00199985, 0.00199985, 0.00199985, ..., 0.00199973,\n",
       "          0.00199973, 0.00199973],\n",
       "         [0.00199986, 0.00199986, 0.00199986, ..., 0.00199975,\n",
       "          0.00199975, 0.00199975],\n",
       "         [0.00199987, 0.00199987, 0.00199987, ..., 0.00199976,\n",
       "          0.00199976, 0.00199976],\n",
       "         ...,\n",
       "         [0.00199937, 0.00199937, 0.00199937, ..., 0.00199885,\n",
       "          0.00199885, 0.00199885],\n",
       "         [0.00199948, 0.00199948, 0.00199948, ..., 0.00199905,\n",
       "          0.00199905, 0.00199905],\n",
       "         [0.0019995 , 0.0019995 , 0.0019995 , ..., 0.00199909,\n",
       "          0.00199909, 0.00199909]],\n",
       "\n",
       "        ...,\n",
       "\n",
       "        [[0.00199991, 0.00199991, 0.00199991, ..., 0.00199987,\n",
       "          0.00199987, 0.00199987],\n",
       "         [0.0019999 , 0.0019999 , 0.0019999 , ..., 0.00199986,\n",
       "          0.00199986, 0.00199986],\n",
       "         [0.00199989, 0.00199989, 0.00199989, ..., 0.00199984,\n",
       "          0.00199984, 0.00199984],\n",
       "         ...,\n",
       "         [0.00199989, 0.00199989, 0.00199989, ..., 0.00199985,\n",
       "          0.00199985, 0.00199985],\n",
       "         [0.00199989, 0.00199989, 0.00199989, ..., 0.00199984,\n",
       "          0.00199984, 0.00199984],\n",
       "         [0.00199988, 0.00199988, 0.00199988, ..., 0.00199982,\n",
       "          0.00199982, 0.00199982]],\n",
       "\n",
       "        [[0.0019998 , 0.0019998 , 0.0019998 , ..., 0.00199976,\n",
       "          0.00199976, 0.00199976],\n",
       "         [0.0019998 , 0.0019998 , 0.0019998 , ..., 0.00199976,\n",
       "          0.00199976, 0.00199976],\n",
       "         [0.0019998 , 0.0019998 , 0.0019998 , ..., 0.00199976,\n",
       "          0.00199976, 0.00199976],\n",
       "         ...,\n",
       "         [0.00199982, 0.00199982, 0.00199982, ..., 0.00199978,\n",
       "          0.00199978, 0.00199978],\n",
       "         [0.00199984, 0.00199984, 0.00199984, ..., 0.0019998 ,\n",
       "          0.0019998 , 0.0019998 ],\n",
       "         [0.00199984, 0.00199984, 0.00199984, ..., 0.0019998 ,\n",
       "          0.0019998 , 0.0019998 ]],\n",
       "\n",
       "        [[0.00199982, 0.00199982, 0.00199982, ..., 0.00199976,\n",
       "          0.00199976, 0.00199976],\n",
       "         [0.00199982, 0.00199982, 0.00199982, ..., 0.00199976,\n",
       "          0.00199976, 0.00199976],\n",
       "         [0.00199981, 0.00199981, 0.00199981, ..., 0.00199975,\n",
       "          0.00199975, 0.00199975],\n",
       "         ...,\n",
       "         [0.00199986, 0.00199986, 0.00199986, ..., 0.00199981,\n",
       "          0.00199981, 0.00199981],\n",
       "         [0.00199986, 0.00199986, 0.00199986, ..., 0.00199981,\n",
       "          0.00199981, 0.00199981],\n",
       "         [0.00199985, 0.00199985, 0.00199985, ..., 0.0019998 ,\n",
       "          0.0019998 , 0.0019998 ]]],\n",
       "\n",
       "\n",
       "       [[[0.00199994, 0.00199994, 0.00199994, ..., 0.00199987,\n",
       "          0.00199987, 0.00199987],\n",
       "         [0.00199993, 0.00199993, 0.00199993, ..., 0.00199985,\n",
       "          0.00199985, 0.00199985],\n",
       "         [0.0019999 , 0.0019999 , 0.0019999 , ..., 0.0019998 ,\n",
       "          0.0019998 , 0.0019998 ],\n",
       "         ...,\n",
       "         [0.00199983, 0.00199983, 0.00199983, ..., 0.00199967,\n",
       "          0.00199967, 0.00199967],\n",
       "         [0.00199978, 0.00199978, 0.00199978, ..., 0.00199955,\n",
       "          0.00199955, 0.00199955],\n",
       "         [0.00199973, 0.00199973, 0.00199973, ..., 0.00199947,\n",
       "          0.00199947, 0.00199947]],\n",
       "\n",
       "        [[0.00199996, 0.00199996, 0.00199996, ..., 0.00199992,\n",
       "          0.00199992, 0.00199992],\n",
       "         [0.00199996, 0.00199996, 0.00199996, ..., 0.00199992,\n",
       "          0.00199992, 0.00199992],\n",
       "         [0.00199995, 0.00199995, 0.00199995, ..., 0.0019999 ,\n",
       "          0.0019999 , 0.0019999 ],\n",
       "         ...,\n",
       "         [0.00199999, 0.00199999, 0.00199999, ..., 0.00199998,\n",
       "          0.00199998, 0.00199998],\n",
       "         [0.00199999, 0.00199999, 0.00199999, ..., 0.00199998,\n",
       "          0.00199998, 0.00199998],\n",
       "         [0.00199999, 0.00199999, 0.00199999, ..., 0.00199998,\n",
       "          0.00199998, 0.00199998]],\n",
       "\n",
       "        [[0.00199978, 0.00199978, 0.00199978, ..., 0.0019996 ,\n",
       "          0.0019996 , 0.0019996 ],\n",
       "         [0.00199978, 0.00199978, 0.00199978, ..., 0.00199959,\n",
       "          0.00199959, 0.00199959],\n",
       "         [0.00199977, 0.00199977, 0.00199977, ..., 0.00199957,\n",
       "          0.00199957, 0.00199957],\n",
       "         ...,\n",
       "         [0.00199966, 0.00199966, 0.00199966, ..., 0.00199938,\n",
       "          0.00199938, 0.00199938],\n",
       "         [0.00199965, 0.00199965, 0.00199965, ..., 0.00199936,\n",
       "          0.00199936, 0.00199936],\n",
       "         [0.00199964, 0.00199964, 0.00199964, ..., 0.00199935,\n",
       "          0.00199935, 0.00199935]],\n",
       "\n",
       "        ...,\n",
       "\n",
       "        [[0.00199993, 0.00199993, 0.00199993, ..., 0.00199985,\n",
       "          0.00199985, 0.00199985],\n",
       "         [0.00199993, 0.00199993, 0.00199993, ..., 0.00199986,\n",
       "          0.00199986, 0.00199986],\n",
       "         [0.00199993, 0.00199993, 0.00199993, ..., 0.00199986,\n",
       "          0.00199986, 0.00199986],\n",
       "         ...,\n",
       "         [0.00199996, 0.00199996, 0.00199996, ..., 0.00199993,\n",
       "          0.00199993, 0.00199993],\n",
       "         [0.00199997, 0.00199997, 0.00199997, ..., 0.00199994,\n",
       "          0.00199994, 0.00199994],\n",
       "         [0.00199997, 0.00199997, 0.00199997, ..., 0.00199994,\n",
       "          0.00199994, 0.00199994]],\n",
       "\n",
       "        [[0.0019999 , 0.0019999 , 0.0019999 , ..., 0.0019998 ,\n",
       "          0.0019998 , 0.0019998 ],\n",
       "         [0.0019999 , 0.0019999 , 0.0019999 , ..., 0.00199979,\n",
       "          0.00199979, 0.00199979],\n",
       "         [0.00199989, 0.00199989, 0.00199989, ..., 0.00199977,\n",
       "          0.00199977, 0.00199977],\n",
       "         ...,\n",
       "         [0.00199993, 0.00199993, 0.00199993, ..., 0.00199985,\n",
       "          0.00199985, 0.00199985],\n",
       "         [0.00199993, 0.00199993, 0.00199993, ..., 0.00199985,\n",
       "          0.00199985, 0.00199985],\n",
       "         [0.00199992, 0.00199992, 0.00199992, ..., 0.00199985,\n",
       "          0.00199985, 0.00199985]],\n",
       "\n",
       "        [[0.00199993, 0.00199993, 0.00199993, ..., 0.00199983,\n",
       "          0.00199983, 0.00199983],\n",
       "         [0.00199992, 0.00199992, 0.00199992, ..., 0.00199981,\n",
       "          0.00199981, 0.00199981],\n",
       "         [0.0019999 , 0.0019999 , 0.0019999 , ..., 0.00199976,\n",
       "          0.00199976, 0.00199976],\n",
       "         ...,\n",
       "         [0.00199998, 0.00199998, 0.00199998, ..., 0.00199995,\n",
       "          0.00199995, 0.00199995],\n",
       "         [0.00199998, 0.00199998, 0.00199998, ..., 0.00199995,\n",
       "          0.00199995, 0.00199995],\n",
       "         [0.00199998, 0.00199998, 0.00199998, ..., 0.00199994,\n",
       "          0.00199994, 0.00199994]]],\n",
       "\n",
       "\n",
       "       [[[0.00199984, 0.00199984, 0.00199984, ..., 0.00199981,\n",
       "          0.00199981, 0.00199981],\n",
       "         [0.00199984, 0.00199984, 0.00199984, ..., 0.00199982,\n",
       "          0.00199982, 0.00199982],\n",
       "         [0.00199986, 0.00199986, 0.00199986, ..., 0.00199984,\n",
       "          0.00199984, 0.00199984],\n",
       "         ...,\n",
       "         [0.00199952, 0.00199952, 0.00199952, ..., 0.00199944,\n",
       "          0.00199944, 0.00199944],\n",
       "         [0.00199956, 0.00199956, 0.00199956, ..., 0.00199948,\n",
       "          0.00199948, 0.00199948],\n",
       "         [0.00199959, 0.00199959, 0.00199959, ..., 0.00199952,\n",
       "          0.00199952, 0.00199952]],\n",
       "\n",
       "        [[0.00199988, 0.00199988, 0.00199988, ..., 0.00199986,\n",
       "          0.00199986, 0.00199986],\n",
       "         [0.00199989, 0.00199989, 0.00199989, ..., 0.00199986,\n",
       "          0.00199986, 0.00199986],\n",
       "         [0.0019999 , 0.0019999 , 0.0019999 , ..., 0.00199987,\n",
       "          0.00199987, 0.00199987],\n",
       "         ...,\n",
       "         [0.00199996, 0.00199996, 0.00199996, ..., 0.00199995,\n",
       "          0.00199995, 0.00199995],\n",
       "         [0.00199995, 0.00199995, 0.00199995, ..., 0.00199994,\n",
       "          0.00199994, 0.00199994],\n",
       "         [0.00199996, 0.00199996, 0.00199996, ..., 0.00199995,\n",
       "          0.00199995, 0.00199995]],\n",
       "\n",
       "        [[0.0019999 , 0.0019999 , 0.0019999 , ..., 0.00199988,\n",
       "          0.00199988, 0.00199988],\n",
       "         [0.00199991, 0.00199991, 0.00199991, ..., 0.00199988,\n",
       "          0.00199988, 0.00199988],\n",
       "         [0.00199991, 0.00199991, 0.00199991, ..., 0.00199989,\n",
       "          0.00199989, 0.00199989],\n",
       "         ...,\n",
       "         [0.00199997, 0.00199997, 0.00199997, ..., 0.00199996,\n",
       "          0.00199996, 0.00199996],\n",
       "         [0.00199996, 0.00199996, 0.00199996, ..., 0.00199995,\n",
       "          0.00199995, 0.00199995],\n",
       "         [0.00199996, 0.00199996, 0.00199996, ..., 0.00199996,\n",
       "          0.00199996, 0.00199996]],\n",
       "\n",
       "        ...,\n",
       "\n",
       "        [[0.00199988, 0.00199988, 0.00199988, ..., 0.00199971,\n",
       "          0.00199971, 0.00199971],\n",
       "         [0.00199989, 0.00199989, 0.00199989, ..., 0.00199971,\n",
       "          0.00199971, 0.00199971],\n",
       "         [0.0019999 , 0.0019999 , 0.0019999 , ..., 0.00199974,\n",
       "          0.00199974, 0.00199974],\n",
       "         ...,\n",
       "         [0.00199982, 0.00199982, 0.00199982, ..., 0.00199955,\n",
       "          0.00199955, 0.00199955],\n",
       "         [0.0019998 , 0.0019998 , 0.0019998 , ..., 0.0019995 ,\n",
       "          0.0019995 , 0.0019995 ],\n",
       "         [0.00199982, 0.00199982, 0.00199982, ..., 0.00199953,\n",
       "          0.00199953, 0.00199953]],\n",
       "\n",
       "        [[0.00199992, 0.00199992, 0.00199992, ..., 0.00199978,\n",
       "          0.00199978, 0.00199978],\n",
       "         [0.00199991, 0.00199991, 0.00199991, ..., 0.00199975,\n",
       "          0.00199975, 0.00199975],\n",
       "         [0.00199988, 0.00199988, 0.00199988, ..., 0.00199966,\n",
       "          0.00199966, 0.00199966],\n",
       "         ...,\n",
       "         [0.00199985, 0.00199985, 0.00199985, ..., 0.00199959,\n",
       "          0.00199959, 0.00199959],\n",
       "         [0.00199985, 0.00199985, 0.00199985, ..., 0.00199957,\n",
       "          0.00199957, 0.00199957],\n",
       "         [0.00199981, 0.00199981, 0.00199981, ..., 0.00199948,\n",
       "          0.00199948, 0.00199948]],\n",
       "\n",
       "        [[0.00199981, 0.00199981, 0.00199981, ..., 0.00199954,\n",
       "          0.00199954, 0.00199954],\n",
       "         [0.00199984, 0.00199984, 0.00199984, ..., 0.00199961,\n",
       "          0.00199961, 0.00199961],\n",
       "         [0.00199989, 0.00199989, 0.00199989, ..., 0.00199972,\n",
       "          0.00199972, 0.00199972],\n",
       "         ...,\n",
       "         [0.0019997 , 0.0019997 , 0.0019997 , ..., 0.00199928,\n",
       "          0.00199928, 0.00199928],\n",
       "         [0.00199968, 0.00199968, 0.00199968, ..., 0.00199923,\n",
       "          0.00199923, 0.00199923],\n",
       "         [0.00199974, 0.00199974, 0.00199974, ..., 0.00199938,\n",
       "          0.00199938, 0.00199938]]]], dtype=float32)"
      ]
     },
     "execution_count": 451,
     "metadata": {},
     "output_type": "execute_result"
    }
   ],
   "source": [
    "#view the theta\n",
    "samples[\"theta\"]"
   ]
  },
  {
   "cell_type": "code",
   "execution_count": 452,
   "metadata": {
    "colab": {
     "base_uri": "https://localhost:8080/"
    },
    "id": "jZAE96PymKlP",
    "outputId": "f62ea8b2-bf71-4f8f-96eb-217b161b347b"
   },
   "outputs": [
    {
     "name": "stdout",
     "output_type": "stream",
     "text": [
      "Average ESS for all aggGP effects : 894\n",
      "Average ESS for all aggGP-low effects : 649\n",
      "Max r_hat for all aggGP-low : 1.0099999904632568\n",
      "Average ESS for all aggGP-high effects : 943\n",
      "Max r_hat for all aggGP-high : 1.0099999904632568\n",
      "kernel_length R-hat : 1.0\n",
      "kernel_var R-hat : 1.0\n"
     ]
    }
   ],
   "source": [
    "#assess the R hat, ESS etc.,\n",
    "n_lo = df_lo.shape[0]\n",
    "n_hi = df_hi.shape[0]\n",
    "\n",
    "ss = numpyro.diagnostics.summary(samples_grouped)\n",
    "r = np.mean(ss[\"gp_aggr\"][\"n_eff\"])\n",
    "print(f\"Average ESS for all aggGP effects : {round(r)}\")\n",
    "\n",
    "ess_lo = np.mean(ss[\"gp_aggr\"][\"n_eff\"][0:n_lo])\n",
    "r_hat_lo = np.max(ss[\"gp_aggr\"][\"r_hat\"][0:n_lo])\n",
    "\n",
    "ess_hi = np.mean(ss[\"gp_aggr\"][\"n_eff\"][n_lo:n_lo + n_hi])\n",
    "r_hat_hi = np.max(ss[\"gp_aggr\"][\"r_hat\"][n_lo : n_lo + n_hi])\n",
    "\n",
    "print(f\"Average ESS for all aggGP-low effects : {round(ess_lo)}\")\n",
    "print(f\"Max r_hat for all aggGP-low : {round(r_hat_lo,2)}\")\n",
    "\n",
    "print(f\"Average ESS for all aggGP-high effects : {round(ess_hi)}\")\n",
    "print(f\"Max r_hat for all aggGP-high : {round(r_hat_hi,2)}\")\n",
    "\n",
    "print(f\"kernel_length R-hat : {round(ss['kernel_length']['r_hat'], 2)}\")\n",
    "print(f\"kernel_var R-hat : {round(ss['kernel_var']['r_hat'],2)}\")"
   ]
  },
  {
   "cell_type": "code",
   "execution_count": 453,
   "metadata": {
    "colab": {
     "base_uri": "https://localhost:8080/"
    },
    "id": "IwWHLugpnWth",
    "outputId": "1fe5a450-161d-4ef1-b490-96532a5b8a6e"
   },
   "outputs": [
    {
     "name": "stdout",
     "output_type": "stream",
     "text": [
      "                                                            mean  \\\n",
      "b0                                                      9.271475   \n",
      "b_hdi                                                  -0.024476   \n",
      "b_pop_density                                          -0.053218   \n",
      "b_urban                                                 0.036851   \n",
      "f              [0.0075076264, 0.00761658, 0.0073684044, 0.007...   \n",
      "gp_aggr        [0.54685473, 0.54685473, 0.54685473, 0.5468547...   \n",
      "gp_aggr_hi     [0.09651606, 0.09651606, 0.09651606, 0.0965160...   \n",
      "gp_aggr_lo      [0.54685473, 0.54685473, 0.54685473, 0.54685473]   \n",
      "kernel_length                                           1.474532   \n",
      "kernel_var                                              0.000015   \n",
      "theta          [[0.0019998583, 0.0019998583, 0.0019998583, 0....   \n",
      "\n",
      "                                                             std  \\\n",
      "b0                                                      0.449497   \n",
      "b_hdi                                                   0.422135   \n",
      "b_pop_density                                           0.452406   \n",
      "b_urban                                                 0.507082   \n",
      "f              [0.015240092, 0.014871731, 0.015210709, 0.0152...   \n",
      "gp_aggr        [0.33918488, 0.33918488, 0.33918488, 0.3391848...   \n",
      "gp_aggr_hi     [0.071903415, 0.071903415, 0.071903415, 0.0719...   \n",
      "gp_aggr_lo      [0.33918488, 0.33918488, 0.33918488, 0.33918488]   \n",
      "kernel_length                                           1.432385   \n",
      "kernel_var                                              0.000008   \n",
      "theta          [[4.900329e-08, 4.900329e-08, 4.900329e-08, 4....   \n",
      "\n",
      "                                                          median  \\\n",
      "b0                                                      9.279743   \n",
      "b_hdi                                                  -0.019149   \n",
      "b_pop_density                                          -0.045324   \n",
      "b_urban                                                 0.031286   \n",
      "f              [0.0074958703, 0.0076566897, 0.0074055614, 0.0...   \n",
      "gp_aggr        [0.5036433, 0.5036433, 0.5036433, 0.5036433, 0...   \n",
      "gp_aggr_hi     [0.09249385, 0.09249385, 0.09249385, 0.0924938...   \n",
      "gp_aggr_lo          [0.5036433, 0.5036433, 0.5036433, 0.5036433]   \n",
      "kernel_length                                           1.127745   \n",
      "kernel_var                                              0.000014   \n",
      "theta          [[0.0019998902, 0.0019998902, 0.0019998902, 0....   \n",
      "\n",
      "                                                            5.0%  \\\n",
      "b0                                                      8.564623   \n",
      "b_hdi                                                  -0.716272   \n",
      "b_pop_density                                          -0.824341   \n",
      "b_urban                                                -0.779071   \n",
      "f              [-0.0170477, -0.016740315, -0.01748542, -0.017...   \n",
      "gp_aggr        [0.036263898, 0.036263898, 0.036263898, 0.0362...   \n",
      "gp_aggr_hi     [-0.019182108, -0.019182108, -0.019182108, -0....   \n",
      "gp_aggr_lo     [0.036263898, 0.036263898, 0.036263898, 0.0362...   \n",
      "kernel_length                                           0.336664   \n",
      "kernel_var                                              0.000001   \n",
      "theta          [[0.0019998227, 0.0019998227, 0.0019998227, 0....   \n",
      "\n",
      "                                                           95.0%  \\\n",
      "b0                                                     10.040408   \n",
      "b_hdi                                                   0.655962   \n",
      "b_pop_density                                           0.664076   \n",
      "b_urban                                                 0.878308   \n",
      "f              [0.032808278, 0.031813465, 0.03229263, 0.03279...   \n",
      "gp_aggr        [1.0892663, 1.0892663, 1.0892663, 1.0892663, 0...   \n",
      "gp_aggr_hi     [0.21530326, 0.21530326, 0.21530326, 0.2153032...   \n",
      "gp_aggr_lo          [1.0892663, 1.0892663, 1.0892663, 1.0892663]   \n",
      "kernel_length                                           2.659989   \n",
      "kernel_var                                              0.000026   \n",
      "theta          [[0.0019999512, 0.0019999512, 0.0019999512, 0....   \n",
      "\n",
      "                                                           n_eff  \\\n",
      "b0                                                    1249.72479   \n",
      "b_hdi                                                8154.350669   \n",
      "b_pop_density                                        8168.537648   \n",
      "b_urban                                              7540.085145   \n",
      "f              [4239.62334837398, 3783.1090853189758, 3998.41...   \n",
      "gp_aggr        [648.5926300745883, 648.5926300745883, 648.592...   \n",
      "gp_aggr_hi     [921.582435780883, 921.582435780883, 921.58243...   \n",
      "gp_aggr_lo     [648.5926300745883, 648.5926300745883, 648.592...   \n",
      "kernel_length                                        4725.848943   \n",
      "kernel_var                                            1222.73138   \n",
      "theta          [[30.92297728852736, 30.92297728852736, 30.922...   \n",
      "\n",
      "                                                           r_hat  \n",
      "b0                                                      1.001932  \n",
      "b_hdi                                                   0.999803  \n",
      "b_pop_density                                           0.999965  \n",
      "b_urban                                                 0.999851  \n",
      "f              [1.0007819, 1.0000855, 1.0016481, 1.0008535, 1...  \n",
      "gp_aggr        [1.0076015, 1.0076015, 1.0076015, 1.0076015, 1...  \n",
      "gp_aggr_hi     [1.0055447, 1.0055447, 1.0055447, 1.0055447, 1...  \n",
      "gp_aggr_lo          [1.0076015, 1.0076015, 1.0076015, 1.0076015]  \n",
      "kernel_length                                            0.99992  \n",
      "kernel_var                                              1.003002  \n",
      "theta          [[1.0000508, 1.0000508, 1.0000508, 1.0000508, ...  \n"
     ]
    }
   ],
   "source": [
    "# Convert summary stats to a DataFrame for better readability\n",
    "df_summary = pd.DataFrame.from_dict(ss, orient=\"index\")\n",
    "print(df_summary)"
   ]
  },
  {
   "cell_type": "code",
   "execution_count": 454,
   "metadata": {
    "colab": {
     "base_uri": "https://localhost:8080/",
     "height": 506
    },
    "id": "90XDSwaCnmnp",
    "outputId": "37dd671a-bf23-4b64-8d82-1e6be577bd4c"
   },
   "outputs": [
    {
     "data": {
      "text/plain": [
       "array([[<Axes: title={'center': 'kernel_var'}>,\n",
       "        <Axes: title={'center': 'kernel_var'}>]], dtype=object)"
      ]
     },
     "execution_count": 454,
     "metadata": {},
     "output_type": "execute_result"
    },
    {
     "data": {
      "image/png": "[encoded data removed]",
      "text/plain": [
       "<Figure size 1200x200 with 2 Axes>"
      ]
     },
     "metadata": {},
     "output_type": "display_data"
    },
    {
     "data": {
      "image/png": "[encoded data removed]",
      "text/plain": [
       "<Figure size 1200x200 with 2 Axes>"
      ]
     },
     "metadata": {},
     "output_type": "display_data"
    }
   ],
   "source": [
    "# Convert manually combined samples into an ArviZ InferenceData object\n",
    "case_samples_az_gp = az.from_dict(posterior=samples_grouped)\n",
    "\n",
    "# Plot trace plots for kernel_length and kernel_var\n",
    "az.plot_trace(case_samples_az_gp, var_names=[\"kernel_length\"])\n",
    "az.plot_trace(case_samples_az_gp, var_names=[\"kernel_var\"])"
   ]
  },
  {
   "cell_type": "markdown",
   "metadata": {
    "id": "EBWNi9gBrYnn"
   },
   "source": [
    "### Calculate and append observed and gp-estimated theta"
   ]
  },
  {
   "cell_type": "code",
   "execution_count": 455,
   "metadata": {
    "colab": {
     "base_uri": "https://localhost:8080/"
    },
    "id": "LkssrPezsA0o",
    "outputId": "ff4ef741-1cb7-43a9-d8a7-63925a4623df"
   },
   "outputs": [
    {
     "data": {
      "text/plain": [
       "(4, 2000, 24, 24)"
      ]
     },
     "execution_count": 455,
     "metadata": {},
     "output_type": "execute_result"
    }
   ],
   "source": [
    "samples[\"theta\"].shape"
   ]
  },
  {
   "cell_type": "code",
   "execution_count": 456,
   "metadata": {
    "id": "3v7wGkjgqIyc"
   },
   "outputs": [],
   "source": [
    "theta_mean_gp = samples[\"theta\"].mean(axis = (0, 1))\n",
    "theta_mean_gp_scalar = theta_mean_gp.mean(axis=1)  # now shape: (n_obs,)\n",
    "\n",
    "bci_gp_25 = np.quantile(samples[\"theta\"],0.25,axis = (0, 1))\n",
    "bci_gp_75 = np.quantile(samples[\"theta\"],0.75, axis = (0, 1))\n",
    "\n",
    "# Slice IQR values to match low-res and high-res\n",
    "bci_lo_25 = bci_gp_25[:n_lo]\n",
    "bci_lo_75 = bci_gp_75[:n_lo]\n",
    "\n",
    "bci_hi_25 = bci_gp_25[n_lo:n_lo + n_hi]\n",
    "bci_hi_75 = bci_gp_75[n_lo:n_lo + n_hi]\n",
    "\n",
    "\n",
    "df_lo[\"obs_prev\"] = df_lo[\"Cases\"] / df_lo[\"Population\"]\n",
    "df_hi[\"obs_prev\"] = df_hi[\"Cases\"] / df_hi[\"Population\"]\n",
    "\n",
    "df_lo[\"theta_gp\"] = theta_mean_gp_scalar[0:n_lo]\n",
    "df_hi[\"theta_gp\"] = theta_mean_gp_scalar[n_lo:n_lo + n_hi]\n",
    "\n",
    "theta_obs_lo = df_lo[\"obs_prev\"]\n",
    "theta_gp_est_lo = df_lo[\"theta_gp\"]\n",
    "theta_obs_hi = df_hi[\"obs_prev\"]\n",
    "theta_gp_est_hi = df_hi[\"theta_gp\"]\n",
    "\n",
    "max_val_lo = np.max(np.concatenate([theta_obs_lo.values, theta_gp_est_lo.values]))\n",
    "min_val_lo = np.min(np.concatenate([theta_obs_lo.values, theta_gp_est_lo.values]))\n",
    "\n",
    "max_val_hi = np.max(np.concatenate([theta_obs_hi.values, theta_gp_est_hi.values]))\n",
    "min_val_hi = np.min(np.concatenate([theta_obs_hi.values, theta_gp_est_hi.values]))"
   ]
  },
  {
   "cell_type": "code",
   "execution_count": 457,
   "metadata": {},
   "outputs": [
    {
     "name": "stdout",
     "output_type": "stream",
     "text": [
      "0     0.002\n",
      "1     0.002\n",
      "2     0.002\n",
      "3     0.002\n",
      "4     0.002\n",
      "5     0.002\n",
      "6     0.002\n",
      "7     0.002\n",
      "8     0.002\n",
      "9     0.002\n",
      "10    0.002\n",
      "11    0.002\n",
      "12    0.002\n",
      "13    0.002\n",
      "14    0.002\n",
      "15    0.002\n",
      "16    0.002\n",
      "17    0.002\n",
      "18    0.002\n",
      "19    0.002\n",
      "Name: theta_gp, dtype: float32\n"
     ]
    }
   ],
   "source": [
    "print(df_hi[\"theta_gp\"])"
   ]
  },
  {
   "cell_type": "code",
   "execution_count": 458,
   "metadata": {},
   "outputs": [
    {
     "name": "stdout",
     "output_type": "stream",
     "text": [
      "0.9355507717431767\n"
     ]
    }
   ],
   "source": [
    "# Compute average observed prevalence for low-res districts\n",
    "mean_obs_prev_hi = theta_obs_hi.mean()\n",
    "\n",
    "# Compute average predicted prevalence (before scaling) for low-res districts\n",
    "mean_pred_prev_hi = theta_gp_est_hi.mean()\n",
    "\n",
    "# Compute scaling factor to calibrate predictions\n",
    "theta_scaling_factor = mean_obs_prev_hi / mean_pred_prev_hi\n",
    "print(theta_scaling_factor)\n"
   ]
  },
  {
   "cell_type": "markdown",
   "metadata": {
    "id": "565SkR5Rq72t"
   },
   "source": [
    "# Plot the map"
   ]
  },
  {
   "cell_type": "markdown",
   "metadata": {
    "id": "BD_7w9ZbUryB"
   },
   "source": [
    "## high-res"
   ]
  },
  {
   "cell_type": "code",
   "execution_count": 459,
   "metadata": {
    "id": "ZU5isbe8Ut1O"
   },
   "outputs": [
    {
     "data": {
      "image/png": "[encoded data removed]",
      "text/plain": [
       "<Figure size 1200x600 with 4 Axes>"
      ]
     },
     "metadata": {},
     "output_type": "display_data"
    },
    {
     "data": {
      "text/plain": [
       "<Figure size 800x600 with 0 Axes>"
      ]
     },
     "metadata": {},
     "output_type": "display_data"
    }
   ],
   "source": [
    "# Create the figure and axes\n",
    "fig, ax = plt.subplots(1, 2, figsize=(12, 6))\n",
    "\n",
    "# Plot observed prevalence on the map\n",
    "df_hi.plot(\n",
    "    column=\"obs_prev\",  # Column to use for color\n",
    "    cmap=\"viridis\",  # Colormap\n",
    "    vmin=min_val_hi,  # Minimum value for color scale\n",
    "    vmax=max_val_hi,  # Maximum value for color scale\n",
    "    legend=True,  # Show legend\n",
    "    ax=ax[0],  # Plot on the first subplot\n",
    ")\n",
    "ax[0].set_title(\"High-Res Observed Prevalence\")\n",
    "\n",
    "# Plot estimated prevalence on the map\n",
    "df_hi.plot(\n",
    "    column=\"theta_gp\",  # Column to use for color\n",
    "    cmap=\"viridis\",  # Colormap\n",
    "    vmin=min_val_hi,  # Minimum value for color scale\n",
    "    vmax=max_val_hi,  # Maximum value for color scale\n",
    "    legend=True,  # Show legend\n",
    "    ax=ax[1],  # Plot on the second subplot\n",
    ")\n",
    "ax[1].set_title(\"High-Res Estimated Prevalence (θ)\")\n",
    "\n",
    "# Save the plot\n",
    "plt.savefig(\"observed_vs_estimated_prevalence_hi.png\")  # Save as PNG\n",
    "# Or save as PDF:\n",
    "# plt.savefig(\"observed_vs_estimated_prevalence.pdf\")\n",
    "\n",
    "plt.tight_layout()\n",
    "plt.show()\n",
    "\n",
    "#save the plot\n",
    "plt.figure(figsize=(8, 6))\n",
    "\n",
    "plt.show()"
   ]
  },
  {
   "cell_type": "markdown",
   "metadata": {
    "id": "H-aHDb-ko73z"
   },
   "source": [
    "### Plot scatterplot"
   ]
  },
  {
   "cell_type": "code",
   "execution_count": 460,
   "metadata": {
    "colab": {
     "base_uri": "https://localhost:8080/",
     "height": 564
    },
    "id": "2hGxQTW2nr6j",
    "outputId": "bc0b05cf-9ddf-487c-98b5-adada74fd181"
   },
   "outputs": [
    {
     "ename": "TypeError",
     "evalue": "plot_scatter() missing 1 required positional argument: 'color'",
     "output_type": "error",
     "traceback": [
      "\u001b[1;31m---------------------------------------------------------------------------\u001b[0m",
      "\u001b[1;31mTypeError\u001b[0m                                 Traceback (most recent call last)",
      "Cell \u001b[1;32mIn[460], line 31\u001b[0m\n\u001b[0;32m     28\u001b[0m     ax\u001b[38;5;241m.\u001b[39mlegend()\n\u001b[0;32m     30\u001b[0m \u001b[38;5;66;03m# Create scattrplot for high-res predictions vs actual values\u001b[39;00m\n\u001b[1;32m---> 31\u001b[0m \u001b[43mplot_scatter\u001b[49m\u001b[43m(\u001b[49m\u001b[43m \u001b[49m\u001b[43mdf_hi\u001b[49m\u001b[43m,\u001b[49m\u001b[43m \u001b[49m\u001b[43mbci_hi_25\u001b[49m\u001b[43m,\u001b[49m\u001b[43m \u001b[49m\u001b[43mbci_hi_75\u001b[49m\u001b[43m,\u001b[49m\u001b[43m \u001b[49m\u001b[38;5;124;43m\"\u001b[39;49m\u001b[38;5;124;43mHigh-Res Observed vs Estimated Prevalence\u001b[39;49m\u001b[38;5;124;43m\"\u001b[39;49m\u001b[43m,\u001b[49m\u001b[43m \u001b[49m\u001b[38;5;124;43m\"\u001b[39;49m\u001b[38;5;124;43mgreen\u001b[39;49m\u001b[38;5;124;43m\"\u001b[39;49m\u001b[43m)\u001b[49m\n\u001b[0;32m     33\u001b[0m \u001b[38;5;66;03m# Adjust layout and save figure\u001b[39;00m\n\u001b[0;32m     34\u001b[0m plt\u001b[38;5;241m.\u001b[39mtight_layout()\n",
      "\u001b[1;31mTypeError\u001b[0m: plot_scatter() missing 1 required positional argument: 'color'"
     ]
    }
   ],
   "source": [
    "import numpy as np\n",
    "import seaborn as sns\n",
    "import matplotlib.pyplot as plt\n",
    "\n",
    "# Convert JAX arrays to NumPy arrays before plotting\n",
    "def plot_scatter(ax, df, bci_25, bci_75, title, color):\n",
    "    theta_obs = np.asarray(df[\"obs_prev\"])\n",
    "    theta_gp_est = np.asarray(df[\"theta_gp\"])\n",
    "    bci_25 = np.asarray(bci_25)\n",
    "    bci_75 = np.asarray(bci_75)\n",
    "\n",
    "    # Compute min and max for plot limits\n",
    "    _max = max(theta_obs.max(), theta_gp_est.max())\n",
    "    _min = min(theta_obs.min(), theta_gp_est.min())\n",
    "\n",
    "    # Scatter plot of observed vs estimated prevalence\n",
    "    sns.scatterplot(x=theta_obs, y=theta_gp_est, label=\"Observed vs Estimated\", color=color, ax=ax)\n",
    "\n",
    "    # Add IQR shaded region\n",
    "    ax.fill_between(theta_obs, bci_25, bci_75, color=color, alpha=0.2, label=\"IQR (25%-75%)\")\n",
    "\n",
    "    # Plot reference line (y = x) for comparison\n",
    "    sns.lineplot(x=[_min, _max], y=[_min, _max], color=\"red\", linestyle=\"--\", label=\"y = x\", ax=ax)\n",
    "\n",
    "    ax.set_xlabel(\"Observed Prevalence\")\n",
    "    ax.set_ylabel(\"Estimated Prevalence (θ)\")\n",
    "    ax.set_title(title)\n",
    "    ax.legend()\n",
    "\n",
    "# Create scattrplot for high-res predictions vs actual values\n",
    "plot_scatter( df_hi, bci_hi_25, bci_hi_75, \"High-Res Observed vs Estimated Prevalence\", \"green\")\n",
    "\n",
    "# Adjust layout and save figure\n",
    "plt.tight_layout()\n",
    "plt.savefig(\"observed_vs_estimated_prevalence_scatter_aggGP.png\")\n",
    "plt.show()"
   ]
  },
  {
   "cell_type": "code",
   "execution_count": null,
   "metadata": {
    "id": "ogViomPZUpkM"
   },
   "outputs": [],
   "source": [
    "#save df\n",
    "df_hi.to_file(\"../data/df_with_gp_preds_highres.shp\")\n",
    "df_hi.to_csv(\"../data/df_with_gp_preds_highres.csv\")"
   ]
  }
 ],
 "metadata": {
  "accelerator": "GPU",
  "colab": {
   "gpuType": "T4",
   "machine_shape": "hm",
   "provenance": []
  },
  "kernelspec": {
   "display_name": "Python 3",
   "language": "python",
   "name": "python3"
  },
  "language_info": {
   "codemirror_mode": {
    "name": "ipython",
    "version": 3
   },
   "file_extension": ".py",
   "mimetype": "text/x-python",
   "name": "python",
   "nbconvert_exporter": "python",
   "pygments_lexer": "ipython3",
   "version": "3.13.1"
  }
 },
 "nbformat": 4,
 "nbformat_minor": 4
}
